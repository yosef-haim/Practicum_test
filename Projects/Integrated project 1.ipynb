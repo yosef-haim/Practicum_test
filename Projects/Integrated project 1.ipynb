{
 "cells": [
  {
   "cell_type": "markdown",
   "metadata": {},
   "source": [
    "<div style=\"border:solid green 2px; padding: 20px\"> <h1 style=\"color:green; margin-bottom:20px\">Reviewer's comment v1</h1>\n",
    "\n",
    "Hello Yosef, my name is Dmitrii. I'm going to review your project! Nice to meet you! 🙌\n",
    "\n",
    "You can find my comments under the heading **«Review»**. I will categorize my comments in green, blue or red boxes like this:\n",
    "\n",
    "<div class=\"alert alert-success\">\n",
    "    <b>Success:</b> if everything is done successfully\n",
    "</div>\n",
    "<div class=\"alert alert-warning\">\n",
    "    <b>Remarks:</b> if I can give some recommendations or ways to improve the project\n",
    "</div>\n",
    "<div class=\"alert alert-danger\">\n",
    "    <b>Needs fixing:</b> if the block requires some corrections. Work can't be accepted with the red comments\n",
    "</div>\n",
    "\n",
    "Please don't remove my comments :) If you have any questions don't hesitate to respond to my comments in a different section. \n",
    "<div class=\"alert alert-info\"> <b>Student comments:</b> For example like this</div>    \n"
   ]
  },
  {
   "cell_type": "markdown",
   "metadata": {},
   "source": [
    "<div style=\"border:solid green 2px; padding: 20px\">\n",
    "<b>Reviewer's comment v1</b>\n",
    "    \n",
    "<b>Overall Feedback</b> \n",
    "    \n",
    "Once again you achieved a very high level of the project! \n",
    "\n",
    "Nevertheless, there are some comments/areas that will help you to make your project even better and should be fixed before this project can be accepted:\n",
    "- Update hypothesis formulation.\n",
    " \n",
    "Of course, it will be amazing if you have time to check also yellow comments :)\n",
    "I will wait for the new version of the project. Come back soon! \n",
    "\n",
    "And of course, if you have any questions along the way, remember that you can always reach out to your tutor for any clarification.\n",
    "</div>"
   ]
  },
  {
   "cell_type": "markdown",
   "metadata": {},
   "source": [
    "<div style=\"border:solid green 2px; padding: 20px\">\n",
    "<b>Reviewer's comment v2:</b>\n",
    "    \n",
    "<b>Overall Feedback</b> \n",
    "    \n",
    "Hi Yosef, thank you for going an extra mile and making changes in your project.\n",
    "Your project has been accepted. Wish you cool projects in the next sprints.\n",
    "    "
   ]
  },
  {
   "cell_type": "markdown",
   "metadata": {},
   "source": [
    "# Project description\n",
    "I work for the online store Ice, which sells video games all over the world. User and expert reviews, genres, platforms (e.g. Xbox or PlayStation), and historical data on game sales are available from open sources. You need to identify patterns that determine whether a game succeeds or not. This will allow you to spot potential big winners and plan advertising campaigns."
   ]
  },
  {
   "cell_type": "markdown",
   "metadata": {},
   "source": [
    "<div class=\"alert alert-block alert-success\">\n",
    "<b>Reviewer's comment v1</b>\n",
    " \n",
    "It would be great to add additional information about the project goal and tasks. It gives an overview of what you are going to achieve in this project. Also, this introduction potentially can be used as a Readme file in your portfolio on Github. One example of a nice introduction for a data analysis project can be found here: [https://github.com/CICIFLY/Data-Analytics-Projects/blob/master/AB%20Testing%20Result%20Analyze/readme.md](https://github.com/CICIFLY/Data-Analytics-Projects/blob/master/AB%20Testing%20Result%20Analyze/readme.md)"
   ]
  },
  {
   "cell_type": "markdown",
   "metadata": {},
   "source": [
    "# Loading the data"
   ]
  },
  {
   "cell_type": "code",
   "execution_count": 1,
   "metadata": {},
   "outputs": [],
   "source": [
    "import pandas as pd"
   ]
  },
  {
   "cell_type": "code",
   "execution_count": 2,
   "metadata": {},
   "outputs": [
    {
     "data": {
      "text/html": [
       "<div>\n",
       "<style scoped>\n",
       "    .dataframe tbody tr th:only-of-type {\n",
       "        vertical-align: middle;\n",
       "    }\n",
       "\n",
       "    .dataframe tbody tr th {\n",
       "        vertical-align: top;\n",
       "    }\n",
       "\n",
       "    .dataframe thead th {\n",
       "        text-align: right;\n",
       "    }\n",
       "</style>\n",
       "<table border=\"1\" class=\"dataframe\">\n",
       "  <thead>\n",
       "    <tr style=\"text-align: right;\">\n",
       "      <th></th>\n",
       "      <th>Name</th>\n",
       "      <th>Platform</th>\n",
       "      <th>Year_of_Release</th>\n",
       "      <th>Genre</th>\n",
       "      <th>NA_sales</th>\n",
       "      <th>EU_sales</th>\n",
       "      <th>JP_sales</th>\n",
       "      <th>Other_sales</th>\n",
       "      <th>Critic_Score</th>\n",
       "      <th>User_Score</th>\n",
       "      <th>Rating</th>\n",
       "    </tr>\n",
       "  </thead>\n",
       "  <tbody>\n",
       "    <tr>\n",
       "      <th>0</th>\n",
       "      <td>Wii Sports</td>\n",
       "      <td>Wii</td>\n",
       "      <td>2006.0</td>\n",
       "      <td>Sports</td>\n",
       "      <td>41.36</td>\n",
       "      <td>28.96</td>\n",
       "      <td>3.77</td>\n",
       "      <td>8.45</td>\n",
       "      <td>76.0</td>\n",
       "      <td>8</td>\n",
       "      <td>E</td>\n",
       "    </tr>\n",
       "    <tr>\n",
       "      <th>1</th>\n",
       "      <td>Super Mario Bros.</td>\n",
       "      <td>NES</td>\n",
       "      <td>1985.0</td>\n",
       "      <td>Platform</td>\n",
       "      <td>29.08</td>\n",
       "      <td>3.58</td>\n",
       "      <td>6.81</td>\n",
       "      <td>0.77</td>\n",
       "      <td>NaN</td>\n",
       "      <td>NaN</td>\n",
       "      <td>NaN</td>\n",
       "    </tr>\n",
       "    <tr>\n",
       "      <th>2</th>\n",
       "      <td>Mario Kart Wii</td>\n",
       "      <td>Wii</td>\n",
       "      <td>2008.0</td>\n",
       "      <td>Racing</td>\n",
       "      <td>15.68</td>\n",
       "      <td>12.76</td>\n",
       "      <td>3.79</td>\n",
       "      <td>3.29</td>\n",
       "      <td>82.0</td>\n",
       "      <td>8.3</td>\n",
       "      <td>E</td>\n",
       "    </tr>\n",
       "    <tr>\n",
       "      <th>3</th>\n",
       "      <td>Wii Sports Resort</td>\n",
       "      <td>Wii</td>\n",
       "      <td>2009.0</td>\n",
       "      <td>Sports</td>\n",
       "      <td>15.61</td>\n",
       "      <td>10.93</td>\n",
       "      <td>3.28</td>\n",
       "      <td>2.95</td>\n",
       "      <td>80.0</td>\n",
       "      <td>8</td>\n",
       "      <td>E</td>\n",
       "    </tr>\n",
       "    <tr>\n",
       "      <th>4</th>\n",
       "      <td>Pokemon Red/Pokemon Blue</td>\n",
       "      <td>GB</td>\n",
       "      <td>1996.0</td>\n",
       "      <td>Role-Playing</td>\n",
       "      <td>11.27</td>\n",
       "      <td>8.89</td>\n",
       "      <td>10.22</td>\n",
       "      <td>1.00</td>\n",
       "      <td>NaN</td>\n",
       "      <td>NaN</td>\n",
       "      <td>NaN</td>\n",
       "    </tr>\n",
       "  </tbody>\n",
       "</table>\n",
       "</div>"
      ],
      "text/plain": [
       "                       Name Platform  Year_of_Release         Genre  NA_sales  \\\n",
       "0                Wii Sports      Wii           2006.0        Sports     41.36   \n",
       "1         Super Mario Bros.      NES           1985.0      Platform     29.08   \n",
       "2            Mario Kart Wii      Wii           2008.0        Racing     15.68   \n",
       "3         Wii Sports Resort      Wii           2009.0        Sports     15.61   \n",
       "4  Pokemon Red/Pokemon Blue       GB           1996.0  Role-Playing     11.27   \n",
       "\n",
       "   EU_sales  JP_sales  Other_sales  Critic_Score User_Score Rating  \n",
       "0     28.96      3.77         8.45          76.0          8      E  \n",
       "1      3.58      6.81         0.77           NaN        NaN    NaN  \n",
       "2     12.76      3.79         3.29          82.0        8.3      E  \n",
       "3     10.93      3.28         2.95          80.0          8      E  \n",
       "4      8.89     10.22         1.00           NaN        NaN    NaN  "
      ]
     },
     "execution_count": 2,
     "metadata": {},
     "output_type": "execute_result"
    }
   ],
   "source": [
    "game_data = pd.read_csv('/datasets/games.csv')\n",
    "game_data.head()"
   ]
  },
  {
   "cell_type": "markdown",
   "metadata": {},
   "source": [
    "I'll check the columns data type"
   ]
  },
  {
   "cell_type": "code",
   "execution_count": 3,
   "metadata": {},
   "outputs": [
    {
     "name": "stdout",
     "output_type": "stream",
     "text": [
      "<class 'pandas.core.frame.DataFrame'>\n",
      "RangeIndex: 16715 entries, 0 to 16714\n",
      "Data columns (total 11 columns):\n",
      " #   Column           Non-Null Count  Dtype  \n",
      "---  ------           --------------  -----  \n",
      " 0   Name             16713 non-null  object \n",
      " 1   Platform         16715 non-null  object \n",
      " 2   Year_of_Release  16446 non-null  float64\n",
      " 3   Genre            16713 non-null  object \n",
      " 4   NA_sales         16715 non-null  float64\n",
      " 5   EU_sales         16715 non-null  float64\n",
      " 6   JP_sales         16715 non-null  float64\n",
      " 7   Other_sales      16715 non-null  float64\n",
      " 8   Critic_Score     8137 non-null   float64\n",
      " 9   User_Score       10014 non-null  object \n",
      " 10  Rating           9949 non-null   object \n",
      "dtypes: float64(6), object(5)\n",
      "memory usage: 1.4+ MB\n"
     ]
    }
   ],
   "source": [
    "game_data.info()"
   ]
  },
  {
   "cell_type": "code",
   "execution_count": 4,
   "metadata": {},
   "outputs": [
    {
     "data": {
      "text/html": [
       "<div>\n",
       "<style scoped>\n",
       "    .dataframe tbody tr th:only-of-type {\n",
       "        vertical-align: middle;\n",
       "    }\n",
       "\n",
       "    .dataframe tbody tr th {\n",
       "        vertical-align: top;\n",
       "    }\n",
       "\n",
       "    .dataframe thead th {\n",
       "        text-align: right;\n",
       "    }\n",
       "</style>\n",
       "<table border=\"1\" class=\"dataframe\">\n",
       "  <thead>\n",
       "    <tr style=\"text-align: right;\">\n",
       "      <th></th>\n",
       "      <th>Year_of_Release</th>\n",
       "      <th>NA_sales</th>\n",
       "      <th>EU_sales</th>\n",
       "      <th>JP_sales</th>\n",
       "      <th>Other_sales</th>\n",
       "      <th>Critic_Score</th>\n",
       "    </tr>\n",
       "  </thead>\n",
       "  <tbody>\n",
       "    <tr>\n",
       "      <th>count</th>\n",
       "      <td>16446.000000</td>\n",
       "      <td>16715.000000</td>\n",
       "      <td>16715.000000</td>\n",
       "      <td>16715.000000</td>\n",
       "      <td>16715.000000</td>\n",
       "      <td>8137.000000</td>\n",
       "    </tr>\n",
       "    <tr>\n",
       "      <th>mean</th>\n",
       "      <td>2006.484616</td>\n",
       "      <td>0.263377</td>\n",
       "      <td>0.145060</td>\n",
       "      <td>0.077617</td>\n",
       "      <td>0.047342</td>\n",
       "      <td>68.967679</td>\n",
       "    </tr>\n",
       "    <tr>\n",
       "      <th>std</th>\n",
       "      <td>5.877050</td>\n",
       "      <td>0.813604</td>\n",
       "      <td>0.503339</td>\n",
       "      <td>0.308853</td>\n",
       "      <td>0.186731</td>\n",
       "      <td>13.938165</td>\n",
       "    </tr>\n",
       "    <tr>\n",
       "      <th>min</th>\n",
       "      <td>1980.000000</td>\n",
       "      <td>0.000000</td>\n",
       "      <td>0.000000</td>\n",
       "      <td>0.000000</td>\n",
       "      <td>0.000000</td>\n",
       "      <td>13.000000</td>\n",
       "    </tr>\n",
       "    <tr>\n",
       "      <th>25%</th>\n",
       "      <td>2003.000000</td>\n",
       "      <td>0.000000</td>\n",
       "      <td>0.000000</td>\n",
       "      <td>0.000000</td>\n",
       "      <td>0.000000</td>\n",
       "      <td>60.000000</td>\n",
       "    </tr>\n",
       "    <tr>\n",
       "      <th>50%</th>\n",
       "      <td>2007.000000</td>\n",
       "      <td>0.080000</td>\n",
       "      <td>0.020000</td>\n",
       "      <td>0.000000</td>\n",
       "      <td>0.010000</td>\n",
       "      <td>71.000000</td>\n",
       "    </tr>\n",
       "    <tr>\n",
       "      <th>75%</th>\n",
       "      <td>2010.000000</td>\n",
       "      <td>0.240000</td>\n",
       "      <td>0.110000</td>\n",
       "      <td>0.040000</td>\n",
       "      <td>0.030000</td>\n",
       "      <td>79.000000</td>\n",
       "    </tr>\n",
       "    <tr>\n",
       "      <th>max</th>\n",
       "      <td>2016.000000</td>\n",
       "      <td>41.360000</td>\n",
       "      <td>28.960000</td>\n",
       "      <td>10.220000</td>\n",
       "      <td>10.570000</td>\n",
       "      <td>98.000000</td>\n",
       "    </tr>\n",
       "  </tbody>\n",
       "</table>\n",
       "</div>"
      ],
      "text/plain": [
       "       Year_of_Release      NA_sales      EU_sales      JP_sales  \\\n",
       "count     16446.000000  16715.000000  16715.000000  16715.000000   \n",
       "mean       2006.484616      0.263377      0.145060      0.077617   \n",
       "std           5.877050      0.813604      0.503339      0.308853   \n",
       "min        1980.000000      0.000000      0.000000      0.000000   \n",
       "25%        2003.000000      0.000000      0.000000      0.000000   \n",
       "50%        2007.000000      0.080000      0.020000      0.000000   \n",
       "75%        2010.000000      0.240000      0.110000      0.040000   \n",
       "max        2016.000000     41.360000     28.960000     10.220000   \n",
       "\n",
       "        Other_sales  Critic_Score  \n",
       "count  16715.000000   8137.000000  \n",
       "mean       0.047342     68.967679  \n",
       "std        0.186731     13.938165  \n",
       "min        0.000000     13.000000  \n",
       "25%        0.000000     60.000000  \n",
       "50%        0.010000     71.000000  \n",
       "75%        0.030000     79.000000  \n",
       "max       10.570000     98.000000  "
      ]
     },
     "execution_count": 4,
     "metadata": {},
     "output_type": "execute_result"
    }
   ],
   "source": [
    "game_data.describe()"
   ]
  },
  {
   "cell_type": "markdown",
   "metadata": {},
   "source": [
    "There's alot zero values they indicate about missing values."
   ]
  },
  {
   "cell_type": "markdown",
   "metadata": {},
   "source": [
    "# Dealing with the column\n",
    "First I'll change the column to lower case"
   ]
  },
  {
   "cell_type": "code",
   "execution_count": 5,
   "metadata": {},
   "outputs": [
    {
     "data": {
      "text/plain": [
       "Index(['name', 'platform', 'year_of_release', 'genre', 'na_sales', 'eu_sales',\n",
       "       'jp_sales', 'other_sales', 'critic_score', 'user_score', 'rating'],\n",
       "      dtype='object')"
      ]
     },
     "execution_count": 5,
     "metadata": {},
     "output_type": "execute_result"
    }
   ],
   "source": [
    "columns_lower = []\n",
    "for column in game_data.columns:\n",
    "    columns_lower.append(column.lower())\n",
    "game_data.columns = columns_lower\n",
    "game_data.columns"
   ]
  },
  {
   "cell_type": "markdown",
   "metadata": {},
   "source": [
    "<div class=\"alert alert-block alert-success\">\n",
    "<b>Reviewer's comment v1:</b>\n",
    "    \n",
    "Correct. The most typical approach is to use snake case first_name. You can read about it here - https://levelup.gitconnected.com/case-styles-in-python-fd9591e57f86 \n",
    "\n",
    "</div>"
   ]
  },
  {
   "cell_type": "markdown",
   "metadata": {},
   "source": [
    "# Dealing with the missing and duplicated values\n",
    "Let's have a look at the missing values"
   ]
  },
  {
   "cell_type": "code",
   "execution_count": 6,
   "metadata": {},
   "outputs": [
    {
     "data": {
      "text/plain": [
       "name                  2\n",
       "platform              0\n",
       "year_of_release     269\n",
       "genre                 2\n",
       "na_sales              0\n",
       "eu_sales              0\n",
       "jp_sales              0\n",
       "other_sales           0\n",
       "critic_score       8578\n",
       "user_score         6701\n",
       "rating             6766\n",
       "dtype: int64"
      ]
     },
     "execution_count": 6,
     "metadata": {},
     "output_type": "execute_result"
    }
   ],
   "source": [
    "game_data.isna().sum()"
   ]
  },
  {
   "cell_type": "code",
   "execution_count": 7,
   "metadata": {},
   "outputs": [
    {
     "data": {
      "text/plain": [
       "0.0006580915345498055"
      ]
     },
     "execution_count": 7,
     "metadata": {},
     "output_type": "execute_result"
    }
   ],
   "source": [
    "len(game_data.isna().sum())/len(game_data)"
   ]
  },
  {
   "cell_type": "markdown",
   "metadata": {},
   "source": [
    "<div class=\"alert alert-warning\">\n",
    "<b>Reviewer's comment v1:</b>\n",
    "    \n",
    "It is also sometimes helpful to check not only the total amount of missing values in each column but also look at the percentage of missing values. It helps to understand the overall impact. You can check percentage using, for example, this code:\n",
    "\n",
    "    games.isnull().sum()/len(df)\n",
    "\n",
    "    Or you can even make a dataframe of of it using to_frame\n",
    "\n",
    "    mis_values = df.isnull().sum().to_frame('missing_values')\n",
    "    mis_values['%'] = round(df.isnull().sum()/len(df),3)\n",
    "    mis_values.sort_values(by='%', ascending=False)\n",
    "</div>"
   ]
  },
  {
   "cell_type": "code",
   "execution_count": 8,
   "metadata": {},
   "outputs": [],
   "source": [
    "game_data['rating'].fillna(value='no rating', inplace=True)"
   ]
  },
  {
   "cell_type": "markdown",
   "metadata": {},
   "source": [
    "I think user's who played the game have not left rating on the particular game,\n",
    "maybe the game wasnt so good."
   ]
  },
  {
   "cell_type": "code",
   "execution_count": 9,
   "metadata": {},
   "outputs": [
    {
     "name": "stdout",
     "output_type": "stream",
     "text": [
      "what part of the data is the missing values at \"critic score\" column: 51.319174%\n"
     ]
    }
   ],
   "source": [
    "print('what part of the data is the missing values at \"critic score\" column: {:%}'.format(game_data['critic_score'].isna().sum()/len(game_data)))"
   ]
  },
  {
   "cell_type": "markdown",
   "metadata": {},
   "source": [
    "It seems that half of the data is missing at this column,\n",
    "it's strange.\n",
    "Maybe it's not a human mistake it could be somthing wrong with the calculation of the data made by the computer."
   ]
  },
  {
   "cell_type": "code",
   "execution_count": 10,
   "metadata": {},
   "outputs": [
    {
     "data": {
      "text/plain": [
       "68.96767850559173"
      ]
     },
     "execution_count": 10,
     "metadata": {},
     "output_type": "execute_result"
    }
   ],
   "source": [
    "game_data.query('critic_score != \"NaN\"')['critic_score'].mean()"
   ]
  },
  {
   "cell_type": "code",
   "execution_count": 11,
   "metadata": {},
   "outputs": [
    {
     "data": {
      "text/plain": [
       "71.0"
      ]
     },
     "execution_count": 11,
     "metadata": {},
     "output_type": "execute_result"
    }
   ],
   "source": [
    "game_data.query('critic_score != \"NaN\"')['critic_score'].median()"
   ]
  },
  {
   "cell_type": "markdown",
   "metadata": {},
   "source": [
    "Now I'm going to check if there is a outliers or not in order to fill the missing values."
   ]
  },
  {
   "cell_type": "code",
   "execution_count": 12,
   "metadata": {},
   "outputs": [
    {
     "name": "stdout",
     "output_type": "stream",
     "text": [
      "This is the minimum value: 13.0\n"
     ]
    }
   ],
   "source": [
    "print('This is the minimum value: {:}'.format(min(game_data.query('critic_score != \"NaN\"')['critic_score'])))"
   ]
  },
  {
   "cell_type": "code",
   "execution_count": 13,
   "metadata": {},
   "outputs": [
    {
     "name": "stdout",
     "output_type": "stream",
     "text": [
      "This is the maximum value: 98.0\n"
     ]
    }
   ],
   "source": [
    "print('This is the maximum value: {:}'.format(max(game_data.query('critic_score != \"NaN\"')['critic_score'])))"
   ]
  },
  {
   "cell_type": "markdown",
   "metadata": {},
   "source": [
    "There is no outliers therfore I'll use the mean to fill the missing values."
   ]
  },
  {
   "cell_type": "code",
   "execution_count": 14,
   "metadata": {},
   "outputs": [],
   "source": [
    "game_data['critic_score'].fillna(value=game_data.query('critic_score != \"NaN\"')['critic_score'].mean(), inplace=True)"
   ]
  },
  {
   "cell_type": "markdown",
   "metadata": {},
   "source": [
    "Lets run the same check for the 'user_score' column"
   ]
  },
  {
   "cell_type": "code",
   "execution_count": 15,
   "metadata": {},
   "outputs": [
    {
     "data": {
      "text/plain": [
       "0.4008973975471134"
      ]
     },
     "execution_count": 15,
     "metadata": {},
     "output_type": "execute_result"
    }
   ],
   "source": [
    "game_data['user_score'].isna().sum()/len(game_data)"
   ]
  },
  {
   "cell_type": "markdown",
   "metadata": {},
   "source": [
    "40% of the users score is missing values. That big chunk of the data I will delete it because it could harm my investigation.\n",
    "Therfore I'll delete the missing values with zeros because if the user dont left a rate to the game it probably means the game wasnt good enough the leave a feedback."
   ]
  },
  {
   "cell_type": "code",
   "execution_count": 16,
   "metadata": {},
   "outputs": [
    {
     "name": "stdout",
     "output_type": "stream",
     "text": [
      "The part of the whole data is: 0.000000%\n"
     ]
    }
   ],
   "source": [
    "print('The part of the whole data is: {:%}'.format(len(game_data[game_data['year_of_release'] == 'Unknown'])/len(game_data)))"
   ]
  },
  {
   "cell_type": "markdown",
   "metadata": {},
   "source": [
    "I have no need for this data and even more, It can harm my investigation. Also it a small part of the data so I'll delete it."
   ]
  },
  {
   "cell_type": "code",
   "execution_count": 17,
   "metadata": {},
   "outputs": [],
   "source": [
    "game_data.dropna(inplace=True)"
   ]
  },
  {
   "cell_type": "markdown",
   "metadata": {},
   "source": [
    "<div class=\"alert alert-block alert-success\">\n",
    "<b>Reviewer's comment v1:</b>\n",
    "    \n",
    "Indeed here we have a very small proportion of missing data (<2%) it can be just deleted."
   ]
  },
  {
   "cell_type": "markdown",
   "metadata": {},
   "source": [
    "Lets check if there are missing value."
   ]
  },
  {
   "cell_type": "code",
   "execution_count": 18,
   "metadata": {},
   "outputs": [
    {
     "data": {
      "text/plain": [
       "0"
      ]
     },
     "execution_count": 18,
     "metadata": {},
     "output_type": "execute_result"
    }
   ],
   "source": [
    "game_data['user_score'].isna().sum()"
   ]
  },
  {
   "cell_type": "code",
   "execution_count": 19,
   "metadata": {},
   "outputs": [
    {
     "data": {
      "text/plain": [
       "name               0\n",
       "platform           0\n",
       "year_of_release    0\n",
       "genre              0\n",
       "na_sales           0\n",
       "eu_sales           0\n",
       "jp_sales           0\n",
       "other_sales        0\n",
       "critic_score       0\n",
       "user_score         0\n",
       "rating             0\n",
       "dtype: int64"
      ]
     },
     "execution_count": 19,
     "metadata": {},
     "output_type": "execute_result"
    }
   ],
   "source": [
    "game_data.isna().sum()"
   ]
  },
  {
   "cell_type": "markdown",
   "metadata": {},
   "source": [
    "Seem's to be ok!\n"
   ]
  },
  {
   "cell_type": "markdown",
   "metadata": {},
   "source": [
    "Good!"
   ]
  },
  {
   "cell_type": "code",
   "execution_count": 20,
   "metadata": {},
   "outputs": [
    {
     "data": {
      "text/plain": [
       "0"
      ]
     },
     "execution_count": 20,
     "metadata": {},
     "output_type": "execute_result"
    }
   ],
   "source": [
    "game_data.duplicated().sum()"
   ]
  },
  {
   "cell_type": "markdown",
   "metadata": {},
   "source": [
    "Alright!! no duplicates."
   ]
  },
  {
   "cell_type": "markdown",
   "metadata": {},
   "source": [
    "I'll eliminate the unwanted rows"
   ]
  },
  {
   "cell_type": "code",
   "execution_count": 21,
   "metadata": {},
   "outputs": [],
   "source": [
    "game_data.loc[game_data['user_score'] == \"tbd\" , 'user_score'] = float('NaN')"
   ]
  },
  {
   "cell_type": "code",
   "execution_count": 22,
   "metadata": {},
   "outputs": [
    {
     "data": {
      "text/plain": [
       "name                  0\n",
       "platform              0\n",
       "year_of_release       0\n",
       "genre                 0\n",
       "na_sales              0\n",
       "eu_sales              0\n",
       "jp_sales              0\n",
       "other_sales           0\n",
       "critic_score          0\n",
       "user_score         2376\n",
       "rating                0\n",
       "dtype: int64"
      ]
     },
     "execution_count": 22,
     "metadata": {},
     "output_type": "execute_result"
    }
   ],
   "source": [
    "game_data.isna().sum()"
   ]
  },
  {
   "cell_type": "code",
   "execution_count": 23,
   "metadata": {},
   "outputs": [],
   "source": [
    "game_data.dropna(inplace=True)"
   ]
  },
  {
   "cell_type": "code",
   "execution_count": 24,
   "metadata": {},
   "outputs": [
    {
     "data": {
      "text/plain": [
       "name               0\n",
       "platform           0\n",
       "year_of_release    0\n",
       "genre              0\n",
       "na_sales           0\n",
       "eu_sales           0\n",
       "jp_sales           0\n",
       "other_sales        0\n",
       "critic_score       0\n",
       "user_score         0\n",
       "rating             0\n",
       "dtype: int64"
      ]
     },
     "execution_count": 24,
     "metadata": {},
     "output_type": "execute_result"
    }
   ],
   "source": [
    "game_data.isna().sum()"
   ]
  },
  {
   "cell_type": "markdown",
   "metadata": {},
   "source": [
    "# Calculating total sales"
   ]
  },
  {
   "cell_type": "code",
   "execution_count": 25,
   "metadata": {},
   "outputs": [],
   "source": [
    "game_data['total_sales'] = game_data['eu_sales'] + game_data['na_sales'] + game_data['jp_sales'] + game_data['other_sales']"
   ]
  },
  {
   "cell_type": "code",
   "execution_count": 26,
   "metadata": {},
   "outputs": [
    {
     "data": {
      "text/html": [
       "<div>\n",
       "<style scoped>\n",
       "    .dataframe tbody tr th:only-of-type {\n",
       "        vertical-align: middle;\n",
       "    }\n",
       "\n",
       "    .dataframe tbody tr th {\n",
       "        vertical-align: top;\n",
       "    }\n",
       "\n",
       "    .dataframe thead th {\n",
       "        text-align: right;\n",
       "    }\n",
       "</style>\n",
       "<table border=\"1\" class=\"dataframe\">\n",
       "  <thead>\n",
       "    <tr style=\"text-align: right;\">\n",
       "      <th></th>\n",
       "      <th>name</th>\n",
       "      <th>platform</th>\n",
       "      <th>year_of_release</th>\n",
       "      <th>genre</th>\n",
       "      <th>na_sales</th>\n",
       "      <th>eu_sales</th>\n",
       "      <th>jp_sales</th>\n",
       "      <th>other_sales</th>\n",
       "      <th>critic_score</th>\n",
       "      <th>user_score</th>\n",
       "      <th>rating</th>\n",
       "      <th>total_sales</th>\n",
       "    </tr>\n",
       "  </thead>\n",
       "  <tbody>\n",
       "    <tr>\n",
       "      <th>0</th>\n",
       "      <td>Wii Sports</td>\n",
       "      <td>Wii</td>\n",
       "      <td>2006.0</td>\n",
       "      <td>Sports</td>\n",
       "      <td>41.36</td>\n",
       "      <td>28.96</td>\n",
       "      <td>3.77</td>\n",
       "      <td>8.45</td>\n",
       "      <td>76.000000</td>\n",
       "      <td>8</td>\n",
       "      <td>E</td>\n",
       "      <td>82.54</td>\n",
       "    </tr>\n",
       "    <tr>\n",
       "      <th>2</th>\n",
       "      <td>Mario Kart Wii</td>\n",
       "      <td>Wii</td>\n",
       "      <td>2008.0</td>\n",
       "      <td>Racing</td>\n",
       "      <td>15.68</td>\n",
       "      <td>12.76</td>\n",
       "      <td>3.79</td>\n",
       "      <td>3.29</td>\n",
       "      <td>82.000000</td>\n",
       "      <td>8.3</td>\n",
       "      <td>E</td>\n",
       "      <td>35.52</td>\n",
       "    </tr>\n",
       "    <tr>\n",
       "      <th>3</th>\n",
       "      <td>Wii Sports Resort</td>\n",
       "      <td>Wii</td>\n",
       "      <td>2009.0</td>\n",
       "      <td>Sports</td>\n",
       "      <td>15.61</td>\n",
       "      <td>10.93</td>\n",
       "      <td>3.28</td>\n",
       "      <td>2.95</td>\n",
       "      <td>80.000000</td>\n",
       "      <td>8</td>\n",
       "      <td>E</td>\n",
       "      <td>32.77</td>\n",
       "    </tr>\n",
       "    <tr>\n",
       "      <th>6</th>\n",
       "      <td>New Super Mario Bros.</td>\n",
       "      <td>DS</td>\n",
       "      <td>2006.0</td>\n",
       "      <td>Platform</td>\n",
       "      <td>11.28</td>\n",
       "      <td>9.14</td>\n",
       "      <td>6.50</td>\n",
       "      <td>2.88</td>\n",
       "      <td>89.000000</td>\n",
       "      <td>8.5</td>\n",
       "      <td>E</td>\n",
       "      <td>29.80</td>\n",
       "    </tr>\n",
       "    <tr>\n",
       "      <th>7</th>\n",
       "      <td>Wii Play</td>\n",
       "      <td>Wii</td>\n",
       "      <td>2006.0</td>\n",
       "      <td>Misc</td>\n",
       "      <td>13.96</td>\n",
       "      <td>9.18</td>\n",
       "      <td>2.93</td>\n",
       "      <td>2.84</td>\n",
       "      <td>58.000000</td>\n",
       "      <td>6.6</td>\n",
       "      <td>E</td>\n",
       "      <td>28.91</td>\n",
       "    </tr>\n",
       "    <tr>\n",
       "      <th>...</th>\n",
       "      <td>...</td>\n",
       "      <td>...</td>\n",
       "      <td>...</td>\n",
       "      <td>...</td>\n",
       "      <td>...</td>\n",
       "      <td>...</td>\n",
       "      <td>...</td>\n",
       "      <td>...</td>\n",
       "      <td>...</td>\n",
       "      <td>...</td>\n",
       "      <td>...</td>\n",
       "      <td>...</td>\n",
       "    </tr>\n",
       "    <tr>\n",
       "      <th>16681</th>\n",
       "      <td>Worms 2</td>\n",
       "      <td>PC</td>\n",
       "      <td>1997.0</td>\n",
       "      <td>Strategy</td>\n",
       "      <td>0.00</td>\n",
       "      <td>0.01</td>\n",
       "      <td>0.00</td>\n",
       "      <td>0.00</td>\n",
       "      <td>68.967679</td>\n",
       "      <td>8.1</td>\n",
       "      <td>K-A</td>\n",
       "      <td>0.01</td>\n",
       "    </tr>\n",
       "    <tr>\n",
       "      <th>16692</th>\n",
       "      <td>Metal Gear Solid V: Ground Zeroes</td>\n",
       "      <td>PC</td>\n",
       "      <td>2014.0</td>\n",
       "      <td>Action</td>\n",
       "      <td>0.00</td>\n",
       "      <td>0.01</td>\n",
       "      <td>0.00</td>\n",
       "      <td>0.00</td>\n",
       "      <td>80.000000</td>\n",
       "      <td>7.6</td>\n",
       "      <td>M</td>\n",
       "      <td>0.01</td>\n",
       "    </tr>\n",
       "    <tr>\n",
       "      <th>16696</th>\n",
       "      <td>Breach</td>\n",
       "      <td>PC</td>\n",
       "      <td>2011.0</td>\n",
       "      <td>Shooter</td>\n",
       "      <td>0.01</td>\n",
       "      <td>0.00</td>\n",
       "      <td>0.00</td>\n",
       "      <td>0.00</td>\n",
       "      <td>61.000000</td>\n",
       "      <td>5.8</td>\n",
       "      <td>T</td>\n",
       "      <td>0.01</td>\n",
       "    </tr>\n",
       "    <tr>\n",
       "      <th>16702</th>\n",
       "      <td>STORM: Frontline Nation</td>\n",
       "      <td>PC</td>\n",
       "      <td>2011.0</td>\n",
       "      <td>Strategy</td>\n",
       "      <td>0.00</td>\n",
       "      <td>0.01</td>\n",
       "      <td>0.00</td>\n",
       "      <td>0.00</td>\n",
       "      <td>60.000000</td>\n",
       "      <td>7.2</td>\n",
       "      <td>E10+</td>\n",
       "      <td>0.01</td>\n",
       "    </tr>\n",
       "    <tr>\n",
       "      <th>16705</th>\n",
       "      <td>15 Days</td>\n",
       "      <td>PC</td>\n",
       "      <td>2009.0</td>\n",
       "      <td>Adventure</td>\n",
       "      <td>0.00</td>\n",
       "      <td>0.01</td>\n",
       "      <td>0.00</td>\n",
       "      <td>0.00</td>\n",
       "      <td>63.000000</td>\n",
       "      <td>5.8</td>\n",
       "      <td>no rating</td>\n",
       "      <td>0.01</td>\n",
       "    </tr>\n",
       "  </tbody>\n",
       "</table>\n",
       "<p>7463 rows × 12 columns</p>\n",
       "</div>"
      ],
      "text/plain": [
       "                                    name platform  year_of_release      genre  \\\n",
       "0                             Wii Sports      Wii           2006.0     Sports   \n",
       "2                         Mario Kart Wii      Wii           2008.0     Racing   \n",
       "3                      Wii Sports Resort      Wii           2009.0     Sports   \n",
       "6                  New Super Mario Bros.       DS           2006.0   Platform   \n",
       "7                               Wii Play      Wii           2006.0       Misc   \n",
       "...                                  ...      ...              ...        ...   \n",
       "16681                            Worms 2       PC           1997.0   Strategy   \n",
       "16692  Metal Gear Solid V: Ground Zeroes       PC           2014.0     Action   \n",
       "16696                             Breach       PC           2011.0    Shooter   \n",
       "16702            STORM: Frontline Nation       PC           2011.0   Strategy   \n",
       "16705                            15 Days       PC           2009.0  Adventure   \n",
       "\n",
       "       na_sales  eu_sales  jp_sales  other_sales  critic_score user_score  \\\n",
       "0         41.36     28.96      3.77         8.45     76.000000          8   \n",
       "2         15.68     12.76      3.79         3.29     82.000000        8.3   \n",
       "3         15.61     10.93      3.28         2.95     80.000000          8   \n",
       "6         11.28      9.14      6.50         2.88     89.000000        8.5   \n",
       "7         13.96      9.18      2.93         2.84     58.000000        6.6   \n",
       "...         ...       ...       ...          ...           ...        ...   \n",
       "16681      0.00      0.01      0.00         0.00     68.967679        8.1   \n",
       "16692      0.00      0.01      0.00         0.00     80.000000        7.6   \n",
       "16696      0.01      0.00      0.00         0.00     61.000000        5.8   \n",
       "16702      0.00      0.01      0.00         0.00     60.000000        7.2   \n",
       "16705      0.00      0.01      0.00         0.00     63.000000        5.8   \n",
       "\n",
       "          rating  total_sales  \n",
       "0              E        82.54  \n",
       "2              E        35.52  \n",
       "3              E        32.77  \n",
       "6              E        29.80  \n",
       "7              E        28.91  \n",
       "...          ...          ...  \n",
       "16681        K-A         0.01  \n",
       "16692          M         0.01  \n",
       "16696          T         0.01  \n",
       "16702       E10+         0.01  \n",
       "16705  no rating         0.01  \n",
       "\n",
       "[7463 rows x 12 columns]"
      ]
     },
     "execution_count": 26,
     "metadata": {},
     "output_type": "execute_result"
    }
   ],
   "source": [
    "game_data"
   ]
  },
  {
   "cell_type": "markdown",
   "metadata": {},
   "source": [
    "<div class=\"alert alert-block alert-success\">\n",
    "<b>Reviewer's comment v1:</b>\n",
    "    \n",
    "Great, everything is correct here. \n",
    "\n",
    "Btw it is possible to get the same result using this code: \n",
    "    \n",
    "    games[['na_sales','eu_sales','jp_sales', 'other_sales']].sum(axis = 1)\n",
    "    \n",
    "</div>"
   ]
  },
  {
   "cell_type": "markdown",
   "metadata": {},
   "source": [
    "# Analayzing the data"
   ]
  },
  {
   "cell_type": "code",
   "execution_count": 27,
   "metadata": {
    "scrolled": true
   },
   "outputs": [
    {
     "data": {
      "text/plain": [
       "array([1985., 1988., 1992., 1994., 1996., 1997., 1998., 1999., 2000.,\n",
       "       2001., 2002., 2003., 2004., 2005., 2006., 2007., 2008., 2009.,\n",
       "       2010., 2011., 2012., 2013., 2014., 2015., 2016.])"
      ]
     },
     "execution_count": 27,
     "metadata": {},
     "output_type": "execute_result"
    }
   ],
   "source": [
    "game_data['year_of_release'].astype(float).sort_values().unique()"
   ]
  },
  {
   "cell_type": "code",
   "execution_count": 28,
   "metadata": {
    "scrolled": true
   },
   "outputs": [],
   "source": [
    "century = []\n",
    "for year in game_data['year_of_release']:\n",
    "    if 1980 <= year < 1990:\n",
    "        century.append('18th')\n",
    "    elif 1990 <= year < 2000:\n",
    "        century.append('19th')\n",
    "    elif 2000 <= year < 2010:\n",
    "        century.append('20th')\n",
    "    elif 2010 <= year < 2020:\n",
    "        century.append('21th')\n",
    "    else:\n",
    "        century.append(float('NaN'))\n",
    "game_data['decade'] = century"
   ]
  },
  {
   "cell_type": "code",
   "execution_count": 29,
   "metadata": {},
   "outputs": [
    {
     "data": {
      "text/html": [
       "<div>\n",
       "<style scoped>\n",
       "    .dataframe tbody tr th:only-of-type {\n",
       "        vertical-align: middle;\n",
       "    }\n",
       "\n",
       "    .dataframe tbody tr th {\n",
       "        vertical-align: top;\n",
       "    }\n",
       "\n",
       "    .dataframe thead th {\n",
       "        text-align: right;\n",
       "    }\n",
       "</style>\n",
       "<table border=\"1\" class=\"dataframe\">\n",
       "  <thead>\n",
       "    <tr style=\"text-align: right;\">\n",
       "      <th></th>\n",
       "      <th>name</th>\n",
       "      <th>platform</th>\n",
       "      <th>year_of_release</th>\n",
       "      <th>genre</th>\n",
       "      <th>na_sales</th>\n",
       "      <th>eu_sales</th>\n",
       "      <th>jp_sales</th>\n",
       "      <th>other_sales</th>\n",
       "      <th>critic_score</th>\n",
       "      <th>user_score</th>\n",
       "      <th>rating</th>\n",
       "      <th>total_sales</th>\n",
       "      <th>decade</th>\n",
       "    </tr>\n",
       "  </thead>\n",
       "  <tbody>\n",
       "    <tr>\n",
       "      <th>0</th>\n",
       "      <td>Wii Sports</td>\n",
       "      <td>Wii</td>\n",
       "      <td>2006.0</td>\n",
       "      <td>Sports</td>\n",
       "      <td>41.36</td>\n",
       "      <td>28.96</td>\n",
       "      <td>3.77</td>\n",
       "      <td>8.45</td>\n",
       "      <td>76.000000</td>\n",
       "      <td>8</td>\n",
       "      <td>E</td>\n",
       "      <td>82.54</td>\n",
       "      <td>20th</td>\n",
       "    </tr>\n",
       "    <tr>\n",
       "      <th>2</th>\n",
       "      <td>Mario Kart Wii</td>\n",
       "      <td>Wii</td>\n",
       "      <td>2008.0</td>\n",
       "      <td>Racing</td>\n",
       "      <td>15.68</td>\n",
       "      <td>12.76</td>\n",
       "      <td>3.79</td>\n",
       "      <td>3.29</td>\n",
       "      <td>82.000000</td>\n",
       "      <td>8.3</td>\n",
       "      <td>E</td>\n",
       "      <td>35.52</td>\n",
       "      <td>20th</td>\n",
       "    </tr>\n",
       "    <tr>\n",
       "      <th>3</th>\n",
       "      <td>Wii Sports Resort</td>\n",
       "      <td>Wii</td>\n",
       "      <td>2009.0</td>\n",
       "      <td>Sports</td>\n",
       "      <td>15.61</td>\n",
       "      <td>10.93</td>\n",
       "      <td>3.28</td>\n",
       "      <td>2.95</td>\n",
       "      <td>80.000000</td>\n",
       "      <td>8</td>\n",
       "      <td>E</td>\n",
       "      <td>32.77</td>\n",
       "      <td>20th</td>\n",
       "    </tr>\n",
       "    <tr>\n",
       "      <th>6</th>\n",
       "      <td>New Super Mario Bros.</td>\n",
       "      <td>DS</td>\n",
       "      <td>2006.0</td>\n",
       "      <td>Platform</td>\n",
       "      <td>11.28</td>\n",
       "      <td>9.14</td>\n",
       "      <td>6.50</td>\n",
       "      <td>2.88</td>\n",
       "      <td>89.000000</td>\n",
       "      <td>8.5</td>\n",
       "      <td>E</td>\n",
       "      <td>29.80</td>\n",
       "      <td>20th</td>\n",
       "    </tr>\n",
       "    <tr>\n",
       "      <th>7</th>\n",
       "      <td>Wii Play</td>\n",
       "      <td>Wii</td>\n",
       "      <td>2006.0</td>\n",
       "      <td>Misc</td>\n",
       "      <td>13.96</td>\n",
       "      <td>9.18</td>\n",
       "      <td>2.93</td>\n",
       "      <td>2.84</td>\n",
       "      <td>58.000000</td>\n",
       "      <td>6.6</td>\n",
       "      <td>E</td>\n",
       "      <td>28.91</td>\n",
       "      <td>20th</td>\n",
       "    </tr>\n",
       "    <tr>\n",
       "      <th>...</th>\n",
       "      <td>...</td>\n",
       "      <td>...</td>\n",
       "      <td>...</td>\n",
       "      <td>...</td>\n",
       "      <td>...</td>\n",
       "      <td>...</td>\n",
       "      <td>...</td>\n",
       "      <td>...</td>\n",
       "      <td>...</td>\n",
       "      <td>...</td>\n",
       "      <td>...</td>\n",
       "      <td>...</td>\n",
       "      <td>...</td>\n",
       "    </tr>\n",
       "    <tr>\n",
       "      <th>16681</th>\n",
       "      <td>Worms 2</td>\n",
       "      <td>PC</td>\n",
       "      <td>1997.0</td>\n",
       "      <td>Strategy</td>\n",
       "      <td>0.00</td>\n",
       "      <td>0.01</td>\n",
       "      <td>0.00</td>\n",
       "      <td>0.00</td>\n",
       "      <td>68.967679</td>\n",
       "      <td>8.1</td>\n",
       "      <td>K-A</td>\n",
       "      <td>0.01</td>\n",
       "      <td>19th</td>\n",
       "    </tr>\n",
       "    <tr>\n",
       "      <th>16692</th>\n",
       "      <td>Metal Gear Solid V: Ground Zeroes</td>\n",
       "      <td>PC</td>\n",
       "      <td>2014.0</td>\n",
       "      <td>Action</td>\n",
       "      <td>0.00</td>\n",
       "      <td>0.01</td>\n",
       "      <td>0.00</td>\n",
       "      <td>0.00</td>\n",
       "      <td>80.000000</td>\n",
       "      <td>7.6</td>\n",
       "      <td>M</td>\n",
       "      <td>0.01</td>\n",
       "      <td>21th</td>\n",
       "    </tr>\n",
       "    <tr>\n",
       "      <th>16696</th>\n",
       "      <td>Breach</td>\n",
       "      <td>PC</td>\n",
       "      <td>2011.0</td>\n",
       "      <td>Shooter</td>\n",
       "      <td>0.01</td>\n",
       "      <td>0.00</td>\n",
       "      <td>0.00</td>\n",
       "      <td>0.00</td>\n",
       "      <td>61.000000</td>\n",
       "      <td>5.8</td>\n",
       "      <td>T</td>\n",
       "      <td>0.01</td>\n",
       "      <td>21th</td>\n",
       "    </tr>\n",
       "    <tr>\n",
       "      <th>16702</th>\n",
       "      <td>STORM: Frontline Nation</td>\n",
       "      <td>PC</td>\n",
       "      <td>2011.0</td>\n",
       "      <td>Strategy</td>\n",
       "      <td>0.00</td>\n",
       "      <td>0.01</td>\n",
       "      <td>0.00</td>\n",
       "      <td>0.00</td>\n",
       "      <td>60.000000</td>\n",
       "      <td>7.2</td>\n",
       "      <td>E10+</td>\n",
       "      <td>0.01</td>\n",
       "      <td>21th</td>\n",
       "    </tr>\n",
       "    <tr>\n",
       "      <th>16705</th>\n",
       "      <td>15 Days</td>\n",
       "      <td>PC</td>\n",
       "      <td>2009.0</td>\n",
       "      <td>Adventure</td>\n",
       "      <td>0.00</td>\n",
       "      <td>0.01</td>\n",
       "      <td>0.00</td>\n",
       "      <td>0.00</td>\n",
       "      <td>63.000000</td>\n",
       "      <td>5.8</td>\n",
       "      <td>no rating</td>\n",
       "      <td>0.01</td>\n",
       "      <td>20th</td>\n",
       "    </tr>\n",
       "  </tbody>\n",
       "</table>\n",
       "<p>7463 rows × 13 columns</p>\n",
       "</div>"
      ],
      "text/plain": [
       "                                    name platform  year_of_release      genre  \\\n",
       "0                             Wii Sports      Wii           2006.0     Sports   \n",
       "2                         Mario Kart Wii      Wii           2008.0     Racing   \n",
       "3                      Wii Sports Resort      Wii           2009.0     Sports   \n",
       "6                  New Super Mario Bros.       DS           2006.0   Platform   \n",
       "7                               Wii Play      Wii           2006.0       Misc   \n",
       "...                                  ...      ...              ...        ...   \n",
       "16681                            Worms 2       PC           1997.0   Strategy   \n",
       "16692  Metal Gear Solid V: Ground Zeroes       PC           2014.0     Action   \n",
       "16696                             Breach       PC           2011.0    Shooter   \n",
       "16702            STORM: Frontline Nation       PC           2011.0   Strategy   \n",
       "16705                            15 Days       PC           2009.0  Adventure   \n",
       "\n",
       "       na_sales  eu_sales  jp_sales  other_sales  critic_score user_score  \\\n",
       "0         41.36     28.96      3.77         8.45     76.000000          8   \n",
       "2         15.68     12.76      3.79         3.29     82.000000        8.3   \n",
       "3         15.61     10.93      3.28         2.95     80.000000          8   \n",
       "6         11.28      9.14      6.50         2.88     89.000000        8.5   \n",
       "7         13.96      9.18      2.93         2.84     58.000000        6.6   \n",
       "...         ...       ...       ...          ...           ...        ...   \n",
       "16681      0.00      0.01      0.00         0.00     68.967679        8.1   \n",
       "16692      0.00      0.01      0.00         0.00     80.000000        7.6   \n",
       "16696      0.01      0.00      0.00         0.00     61.000000        5.8   \n",
       "16702      0.00      0.01      0.00         0.00     60.000000        7.2   \n",
       "16705      0.00      0.01      0.00         0.00     63.000000        5.8   \n",
       "\n",
       "          rating  total_sales decade  \n",
       "0              E        82.54   20th  \n",
       "2              E        35.52   20th  \n",
       "3              E        32.77   20th  \n",
       "6              E        29.80   20th  \n",
       "7              E        28.91   20th  \n",
       "...          ...          ...    ...  \n",
       "16681        K-A         0.01   19th  \n",
       "16692          M         0.01   21th  \n",
       "16696          T         0.01   21th  \n",
       "16702       E10+         0.01   21th  \n",
       "16705  no rating         0.01   20th  \n",
       "\n",
       "[7463 rows x 13 columns]"
      ]
     },
     "execution_count": 29,
     "metadata": {},
     "output_type": "execute_result"
    }
   ],
   "source": [
    "game_data"
   ]
  },
  {
   "cell_type": "code",
   "execution_count": 30,
   "metadata": {},
   "outputs": [
    {
     "data": {
      "text/plain": [
       "decade\n",
       "18th       2\n",
       "19th      90\n",
       "20th    4872\n",
       "21th    2499\n",
       "Name: name, dtype: int64"
      ]
     },
     "execution_count": 30,
     "metadata": {},
     "output_type": "execute_result"
    }
   ],
   "source": [
    "game_data.groupby('decade')['name'].count()"
   ]
  },
  {
   "cell_type": "markdown",
   "metadata": {},
   "source": [
    "The highest number of game released was between 2000-2010, and the lowest amount of games released was between 1980-1990"
   ]
  },
  {
   "cell_type": "code",
   "execution_count": 31,
   "metadata": {},
   "outputs": [
    {
     "data": {
      "text/plain": [
       "platform\n",
       "PS2     983.01\n",
       "X360    888.89\n",
       "PS3     829.17\n",
       "Wii     696.02\n",
       "DS      413.30\n",
       "PS4     244.92\n",
       "PS      214.45\n",
       "XB      212.95\n",
       "PC      202.92\n",
       "PSP     195.61\n",
       "GC      160.19\n",
       "GBA     137.82\n",
       "XOne    134.26\n",
       "3DS     126.73\n",
       "WiiU     67.21\n",
       "PSV      34.27\n",
       "DC        4.55\n",
       "Name: total_sales, dtype: float64"
      ]
     },
     "execution_count": 31,
     "metadata": {},
     "output_type": "execute_result"
    }
   ],
   "source": [
    "game_data.groupby('platform')['total_sales'].sum().sort_values(ascending=False)"
   ]
  },
  {
   "cell_type": "markdown",
   "metadata": {},
   "source": [
    "PS2 has to most total sales, how does it look's on histogram."
   ]
  },
  {
   "cell_type": "code",
   "execution_count": 32,
   "metadata": {},
   "outputs": [
    {
     "data": {
      "text/plain": [
       "year_of_release\n",
       "2000.0    [[AxesSubplot(0.125,0.125;0.775x0.755)]]\n",
       "2001.0    [[AxesSubplot(0.125,0.125;0.775x0.755)]]\n",
       "2002.0    [[AxesSubplot(0.125,0.125;0.775x0.755)]]\n",
       "2003.0    [[AxesSubplot(0.125,0.125;0.775x0.755)]]\n",
       "2004.0    [[AxesSubplot(0.125,0.125;0.775x0.755)]]\n",
       "2005.0    [[AxesSubplot(0.125,0.125;0.775x0.755)]]\n",
       "2006.0    [[AxesSubplot(0.125,0.125;0.775x0.755)]]\n",
       "2007.0    [[AxesSubplot(0.125,0.125;0.775x0.755)]]\n",
       "2008.0    [[AxesSubplot(0.125,0.125;0.775x0.755)]]\n",
       "2009.0    [[AxesSubplot(0.125,0.125;0.775x0.755)]]\n",
       "2010.0    [[AxesSubplot(0.125,0.125;0.775x0.755)]]\n",
       "2011.0    [[AxesSubplot(0.125,0.125;0.775x0.755)]]\n",
       "dtype: object"
      ]
     },
     "execution_count": 32,
     "metadata": {},
     "output_type": "execute_result"
    },
    {
     "data": {
      "image/png": "[encoded data removed]",
      "text/plain": [
       "<Figure size 720x360 with 1 Axes>"
      ]
     },
     "metadata": {
      "needs_background": "light"
     },
     "output_type": "display_data"
    },
    {
     "data": {
      "image/png": "[encoded data removed]",
      "text/plain": [
       "<Figure size 720x360 with 1 Axes>"
      ]
     },
     "metadata": {
      "needs_background": "light"
     },
     "output_type": "display_data"
    },
    {
     "data": {
      "image/png": "[encoded data removed]",
      "text/plain": [
       "<Figure size 720x360 with 1 Axes>"
      ]
     },
     "metadata": {
      "needs_background": "light"
     },
     "output_type": "display_data"
    },
    {
     "data": {
      "image/png": "[encoded data removed]",
      "text/plain": [
       "<Figure size 720x360 with 1 Axes>"
      ]
     },
     "metadata": {
      "needs_background": "light"
     },
     "output_type": "display_data"
    },
    {
     "data": {
      "image/png": "[encoded data removed]",
      "text/plain": [
       "<Figure size 720x360 with 1 Axes>"
      ]
     },
     "metadata": {
      "needs_background": "light"
     },
     "output_type": "display_data"
    },
    {
     "data": {
      "image/png": "[encoded data removed]",
      "text/plain": [
       "<Figure size 720x360 with 1 Axes>"
      ]
     },
     "metadata": {
      "needs_background": "light"
     },
     "output_type": "display_data"
    },
    {
     "data": {
      "image/png": "[encoded data removed]",
      "text/plain": [
       "<Figure size 720x360 with 1 Axes>"
      ]
     },
     "metadata": {
      "needs_background": "light"
     },
     "output_type": "display_data"
    },
    {
     "data": {
      "image/png": "[encoded data removed]",
      "text/plain": [
       "<Figure size 720x360 with 1 Axes>"
      ]
     },
     "metadata": {
      "needs_background": "light"
     },
     "output_type": "display_data"
    },
    {
     "data": {
      "image/png": "[encoded data removed]",
      "text/plain": [
       "<Figure size 720x360 with 1 Axes>"
      ]
     },
     "metadata": {
      "needs_background": "light"
     },
     "output_type": "display_data"
    },
    {
     "data": {
      "image/png": "[encoded data removed]",
      "text/plain": [
       "<Figure size 720x360 with 1 Axes>"
      ]
     },
     "metadata": {
      "needs_background": "light"
     },
     "output_type": "display_data"
    },
    {
     "data": {
      "image/png": "[encoded data removed]",
      "text/plain": [
       "<Figure size 720x360 with 1 Axes>"
      ]
     },
     "metadata": {
      "needs_background": "light"
     },
     "output_type": "display_data"
    },
    {
     "data": {
      "image/png": "[encoded data removed]",
      "text/plain": [
       "<Figure size 720x360 with 1 Axes>"
      ]
     },
     "metadata": {
      "needs_background": "light"
     },
     "output_type": "display_data"
    }
   ],
   "source": [
    "game_data.query('platform == \"PS2\"').groupby('year_of_release').hist('total_sales', bins=30, figsize=(10,5))"
   ]
  },
  {
   "cell_type": "code",
   "execution_count": 33,
   "metadata": {},
   "outputs": [
    {
     "data": {
      "text/html": [
       "<div>\n",
       "<style scoped>\n",
       "    .dataframe tbody tr th:only-of-type {\n",
       "        vertical-align: middle;\n",
       "    }\n",
       "\n",
       "    .dataframe tbody tr th {\n",
       "        vertical-align: top;\n",
       "    }\n",
       "\n",
       "    .dataframe thead th {\n",
       "        text-align: right;\n",
       "    }\n",
       "</style>\n",
       "<table border=\"1\" class=\"dataframe\">\n",
       "  <thead>\n",
       "    <tr style=\"text-align: right;\">\n",
       "      <th></th>\n",
       "      <th>name</th>\n",
       "      <th>platform</th>\n",
       "      <th>year_of_release</th>\n",
       "      <th>genre</th>\n",
       "      <th>na_sales</th>\n",
       "      <th>eu_sales</th>\n",
       "      <th>jp_sales</th>\n",
       "      <th>other_sales</th>\n",
       "      <th>critic_score</th>\n",
       "      <th>user_score</th>\n",
       "      <th>rating</th>\n",
       "      <th>total_sales</th>\n",
       "      <th>decade</th>\n",
       "    </tr>\n",
       "  </thead>\n",
       "  <tbody>\n",
       "    <tr>\n",
       "      <th>17</th>\n",
       "      <td>Grand Theft Auto: San Andreas</td>\n",
       "      <td>PS2</td>\n",
       "      <td>2004.0</td>\n",
       "      <td>Action</td>\n",
       "      <td>9.43</td>\n",
       "      <td>0.40</td>\n",
       "      <td>0.41</td>\n",
       "      <td>10.57</td>\n",
       "      <td>95.0</td>\n",
       "      <td>9</td>\n",
       "      <td>M</td>\n",
       "      <td>20.81</td>\n",
       "      <td>20th</td>\n",
       "    </tr>\n",
       "    <tr>\n",
       "      <th>24</th>\n",
       "      <td>Grand Theft Auto: Vice City</td>\n",
       "      <td>PS2</td>\n",
       "      <td>2002.0</td>\n",
       "      <td>Action</td>\n",
       "      <td>8.41</td>\n",
       "      <td>5.49</td>\n",
       "      <td>0.47</td>\n",
       "      <td>1.78</td>\n",
       "      <td>95.0</td>\n",
       "      <td>8.7</td>\n",
       "      <td>M</td>\n",
       "      <td>16.15</td>\n",
       "      <td>20th</td>\n",
       "    </tr>\n",
       "    <tr>\n",
       "      <th>28</th>\n",
       "      <td>Gran Turismo 3: A-Spec</td>\n",
       "      <td>PS2</td>\n",
       "      <td>2001.0</td>\n",
       "      <td>Racing</td>\n",
       "      <td>6.85</td>\n",
       "      <td>5.09</td>\n",
       "      <td>1.87</td>\n",
       "      <td>1.16</td>\n",
       "      <td>95.0</td>\n",
       "      <td>8.4</td>\n",
       "      <td>E</td>\n",
       "      <td>14.97</td>\n",
       "      <td>20th</td>\n",
       "    </tr>\n",
       "    <tr>\n",
       "      <th>38</th>\n",
       "      <td>Grand Theft Auto III</td>\n",
       "      <td>PS2</td>\n",
       "      <td>2001.0</td>\n",
       "      <td>Action</td>\n",
       "      <td>6.99</td>\n",
       "      <td>4.51</td>\n",
       "      <td>0.30</td>\n",
       "      <td>1.30</td>\n",
       "      <td>97.0</td>\n",
       "      <td>8.5</td>\n",
       "      <td>M</td>\n",
       "      <td>13.10</td>\n",
       "      <td>20th</td>\n",
       "    </tr>\n",
       "    <tr>\n",
       "      <th>48</th>\n",
       "      <td>Gran Turismo 4</td>\n",
       "      <td>PS2</td>\n",
       "      <td>2004.0</td>\n",
       "      <td>Racing</td>\n",
       "      <td>3.01</td>\n",
       "      <td>0.01</td>\n",
       "      <td>1.10</td>\n",
       "      <td>7.53</td>\n",
       "      <td>89.0</td>\n",
       "      <td>8.5</td>\n",
       "      <td>E</td>\n",
       "      <td>11.65</td>\n",
       "      <td>20th</td>\n",
       "    </tr>\n",
       "    <tr>\n",
       "      <th>...</th>\n",
       "      <td>...</td>\n",
       "      <td>...</td>\n",
       "      <td>...</td>\n",
       "      <td>...</td>\n",
       "      <td>...</td>\n",
       "      <td>...</td>\n",
       "      <td>...</td>\n",
       "      <td>...</td>\n",
       "      <td>...</td>\n",
       "      <td>...</td>\n",
       "      <td>...</td>\n",
       "      <td>...</td>\n",
       "      <td>...</td>\n",
       "    </tr>\n",
       "    <tr>\n",
       "      <th>14541</th>\n",
       "      <td>Graffiti Kingdom</td>\n",
       "      <td>PS2</td>\n",
       "      <td>2004.0</td>\n",
       "      <td>Role-Playing</td>\n",
       "      <td>0.01</td>\n",
       "      <td>0.01</td>\n",
       "      <td>0.00</td>\n",
       "      <td>0.00</td>\n",
       "      <td>71.0</td>\n",
       "      <td>7.1</td>\n",
       "      <td>E</td>\n",
       "      <td>0.02</td>\n",
       "      <td>20th</td>\n",
       "    </tr>\n",
       "    <tr>\n",
       "      <th>14531</th>\n",
       "      <td>S.L.A.I.: Steel Lancer Arena International</td>\n",
       "      <td>PS2</td>\n",
       "      <td>2005.0</td>\n",
       "      <td>Simulation</td>\n",
       "      <td>0.01</td>\n",
       "      <td>0.01</td>\n",
       "      <td>0.00</td>\n",
       "      <td>0.00</td>\n",
       "      <td>66.0</td>\n",
       "      <td>7.8</td>\n",
       "      <td>T</td>\n",
       "      <td>0.02</td>\n",
       "      <td>20th</td>\n",
       "    </tr>\n",
       "    <tr>\n",
       "      <th>16287</th>\n",
       "      <td>Metal Slug Anthology</td>\n",
       "      <td>PS2</td>\n",
       "      <td>2007.0</td>\n",
       "      <td>Shooter</td>\n",
       "      <td>0.00</td>\n",
       "      <td>0.00</td>\n",
       "      <td>0.01</td>\n",
       "      <td>0.00</td>\n",
       "      <td>80.0</td>\n",
       "      <td>8.1</td>\n",
       "      <td>T</td>\n",
       "      <td>0.01</td>\n",
       "      <td>20th</td>\n",
       "    </tr>\n",
       "    <tr>\n",
       "      <th>16429</th>\n",
       "      <td>Greg Hastings' Tournament Paintball Max'd</td>\n",
       "      <td>PS2</td>\n",
       "      <td>2006.0</td>\n",
       "      <td>Shooter</td>\n",
       "      <td>0.01</td>\n",
       "      <td>0.00</td>\n",
       "      <td>0.00</td>\n",
       "      <td>0.00</td>\n",
       "      <td>70.0</td>\n",
       "      <td>9.2</td>\n",
       "      <td>E10+</td>\n",
       "      <td>0.01</td>\n",
       "      <td>20th</td>\n",
       "    </tr>\n",
       "    <tr>\n",
       "      <th>16591</th>\n",
       "      <td>Micro Machines V4</td>\n",
       "      <td>PS2</td>\n",
       "      <td>2006.0</td>\n",
       "      <td>Racing</td>\n",
       "      <td>0.01</td>\n",
       "      <td>0.00</td>\n",
       "      <td>0.00</td>\n",
       "      <td>0.00</td>\n",
       "      <td>64.0</td>\n",
       "      <td>6.8</td>\n",
       "      <td>E</td>\n",
       "      <td>0.01</td>\n",
       "      <td>20th</td>\n",
       "    </tr>\n",
       "  </tbody>\n",
       "</table>\n",
       "<p>1220 rows × 13 columns</p>\n",
       "</div>"
      ],
      "text/plain": [
       "                                             name platform  year_of_release  \\\n",
       "17                  Grand Theft Auto: San Andreas      PS2           2004.0   \n",
       "24                    Grand Theft Auto: Vice City      PS2           2002.0   \n",
       "28                         Gran Turismo 3: A-Spec      PS2           2001.0   \n",
       "38                           Grand Theft Auto III      PS2           2001.0   \n",
       "48                                 Gran Turismo 4      PS2           2004.0   \n",
       "...                                           ...      ...              ...   \n",
       "14541                            Graffiti Kingdom      PS2           2004.0   \n",
       "14531  S.L.A.I.: Steel Lancer Arena International      PS2           2005.0   \n",
       "16287                        Metal Slug Anthology      PS2           2007.0   \n",
       "16429   Greg Hastings' Tournament Paintball Max'd      PS2           2006.0   \n",
       "16591                           Micro Machines V4      PS2           2006.0   \n",
       "\n",
       "              genre  na_sales  eu_sales  jp_sales  other_sales  critic_score  \\\n",
       "17           Action      9.43      0.40      0.41        10.57          95.0   \n",
       "24           Action      8.41      5.49      0.47         1.78          95.0   \n",
       "28           Racing      6.85      5.09      1.87         1.16          95.0   \n",
       "38           Action      6.99      4.51      0.30         1.30          97.0   \n",
       "48           Racing      3.01      0.01      1.10         7.53          89.0   \n",
       "...             ...       ...       ...       ...          ...           ...   \n",
       "14541  Role-Playing      0.01      0.01      0.00         0.00          71.0   \n",
       "14531    Simulation      0.01      0.01      0.00         0.00          66.0   \n",
       "16287       Shooter      0.00      0.00      0.01         0.00          80.0   \n",
       "16429       Shooter      0.01      0.00      0.00         0.00          70.0   \n",
       "16591        Racing      0.01      0.00      0.00         0.00          64.0   \n",
       "\n",
       "      user_score rating  total_sales decade  \n",
       "17             9      M        20.81   20th  \n",
       "24           8.7      M        16.15   20th  \n",
       "28           8.4      E        14.97   20th  \n",
       "38           8.5      M        13.10   20th  \n",
       "48           8.5      E        11.65   20th  \n",
       "...          ...    ...          ...    ...  \n",
       "14541        7.1      E         0.02   20th  \n",
       "14531        7.8      T         0.02   20th  \n",
       "16287        8.1      T         0.01   20th  \n",
       "16429        9.2   E10+         0.01   20th  \n",
       "16591        6.8      E         0.01   20th  \n",
       "\n",
       "[1220 rows x 13 columns]"
      ]
     },
     "execution_count": 33,
     "metadata": {},
     "output_type": "execute_result"
    }
   ],
   "source": [
    "game_data.query('platform == \"PS2\"').sort_values(by='total_sales', ascending=False)"
   ]
  },
  {
   "cell_type": "markdown",
   "metadata": {},
   "source": [
    "The ps2 platforme was one of the most popular platfrom by the years of 2004-2008 but then the popularity of this platform disapeared in fin air"
   ]
  },
  {
   "cell_type": "markdown",
   "metadata": {},
   "source": [
    "# How much time it take before every platfrom become old and a new one replace it"
   ]
  },
  {
   "cell_type": "code",
   "execution_count": 34,
   "metadata": {},
   "outputs": [
    {
     "data": {
      "text/plain": [
       "PC    2\n",
       "Name: platform, dtype: int64"
      ]
     },
     "execution_count": 34,
     "metadata": {},
     "output_type": "execute_result"
    }
   ],
   "source": [
    "game_data.query('decade == \"18th\"').sort_values(by='year_of_release', ascending=True)['platform'].value_counts()"
   ]
  },
  {
   "cell_type": "code",
   "execution_count": 35,
   "metadata": {},
   "outputs": [
    {
     "data": {
      "text/plain": [
       "PS    68\n",
       "PC    19\n",
       "DC     3\n",
       "Name: platform, dtype: int64"
      ]
     },
     "execution_count": 35,
     "metadata": {},
     "output_type": "execute_result"
    }
   ],
   "source": [
    "game_data.query('decade == \"19th\"').sort_values(by='year_of_release', ascending=True)['platform'].value_counts()"
   ]
  },
  {
   "cell_type": "code",
   "execution_count": 36,
   "metadata": {},
   "outputs": [
    {
     "data": {
      "text/plain": [
       "PS2     1211\n",
       "XB       571\n",
       "DS       464\n",
       "X360     450\n",
       "Wii      426\n",
       "PC       360\n",
       "PSP      358\n",
       "GC       357\n",
       "PS3      322\n",
       "GBA      251\n",
       "PS        91\n",
       "DC        11\n",
       "Name: platform, dtype: int64"
      ]
     },
     "execution_count": 36,
     "metadata": {},
     "output_type": "execute_result"
    }
   ],
   "source": [
    "game_data.query('decade == \"20th\"').sort_values(by='year_of_release', ascending=True)['platform'].value_counts()"
   ]
  },
  {
   "cell_type": "code",
   "execution_count": 37,
   "metadata": {},
   "outputs": [
    {
     "data": {
      "text/plain": [
       "PS3     539\n",
       "X360    495\n",
       "PC      374\n",
       "PS4     257\n",
       "XOne    182\n",
       "3DS     171\n",
       "PSV     142\n",
       "Wii     122\n",
       "WiiU    100\n",
       "PSP      60\n",
       "DS       48\n",
       "PS2       9\n",
       "Name: platform, dtype: int64"
      ]
     },
     "execution_count": 37,
     "metadata": {},
     "output_type": "execute_result"
    }
   ],
   "source": [
    "game_data.query('decade == \"21th\"').sort_values(by='year_of_release', ascending=True)['platform'].value_counts()"
   ]
  },
  {
   "cell_type": "markdown",
   "metadata": {},
   "source": [
    "Every dacade bring with him a emerge of a new platfrom.\n",
    "First it was the \"2600\", then it was the \"PS\", afterwords \"PS2\" and finally(acording to the data) \"PS3\""
   ]
  },
  {
   "cell_type": "markdown",
   "metadata": {},
   "source": [
    "# Working with a filtered data\n",
    "I'm going to work with the data relate to the year 2017"
   ]
  },
  {
   "cell_type": "code",
   "execution_count": 38,
   "metadata": {},
   "outputs": [],
   "source": [
    "games_relevent_data = game_data.query('decade == \"21th\"')"
   ]
  },
  {
   "cell_type": "code",
   "execution_count": 39,
   "metadata": {},
   "outputs": [
    {
     "data": {
      "text/plain": [
       "platform\n",
       "PS3     511.61\n",
       "X360    501.99\n",
       "PS4     244.92\n",
       "Wii     134.49\n",
       "XOne    134.26\n",
       "3DS     126.73\n",
       "PC      111.74\n",
       "WiiU     67.21\n",
       "PSV      34.27\n",
       "DS       31.80\n",
       "PSP      21.72\n",
       "PS2       2.99\n",
       "Name: total_sales, dtype: float64"
      ]
     },
     "execution_count": 39,
     "metadata": {},
     "output_type": "execute_result"
    }
   ],
   "source": [
    "games_relevent_data.groupby('platform')['total_sales'].sum().sort_values(ascending=False)"
   ]
  },
  {
   "cell_type": "markdown",
   "metadata": {},
   "source": [
    "<div class=\"alert alert-warning\">\n",
    "<b>Reviewer's comment v1:</b>\n",
    "    \n",
    "Great that you used only recent sales data and platform; however, I would suggest keeping data after 2014.\n",
    "    \n",
    "<div class='alert alert-warning'>\n",
    "    <b>Student comment:</b>\n",
    " I didnt really understand why."
   ]
  },
  {
   "cell_type": "markdown",
   "metadata": {},
   "source": [
    "<div class=\"alert alert-warning\">\n",
    "<b>Reviewer's comment v2:</b>\n",
    "\n",
    "Based on the platform cycle we can see that the latest generation (in data) starts from 2014/2013, so we can get full and relevant data."
   ]
  },
  {
   "cell_type": "markdown",
   "metadata": {},
   "source": []
  },
  {
   "cell_type": "markdown",
   "metadata": {},
   "source": [
    "PS3 seem to be leading in sales between the years 2010-2020.\n",
    "Acording to the data pattern \"PS3\" should be drop it popularity to zero at the end of that decade, and then a new platform should come out instead of it."
   ]
  },
  {
   "cell_type": "code",
   "execution_count": 40,
   "metadata": {
    "scrolled": true
   },
   "outputs": [
    {
     "data": {
      "image/png": "[encoded data removed]",
      "text/plain": [
       "<Figure size 216x216 with 1 Axes>"
      ]
     },
     "metadata": {
      "needs_background": "light"
     },
     "output_type": "display_data"
    }
   ],
   "source": [
    "games_relevent_data.query('platform == \"PS3\"').boxplot('total_sales', figsize=(3,3));"
   ]
  },
  {
   "cell_type": "markdown",
   "metadata": {},
   "source": [
    "We can see here that for the PS3 console there is some outliers but not much."
   ]
  },
  {
   "cell_type": "code",
   "execution_count": 41,
   "metadata": {},
   "outputs": [
    {
     "data": {
      "image/png": "[encoded data removed]",
      "text/plain": [
       "<Figure size 216x216 with 1 Axes>"
      ]
     },
     "metadata": {
      "needs_background": "light"
     },
     "output_type": "display_data"
    }
   ],
   "source": [
    "games_relevent_data.query('platform == \"X360\"').boxplot('total_sales', figsize=(3,3));"
   ]
  },
  {
   "cell_type": "markdown",
   "metadata": {},
   "source": [
    "Same as here!"
   ]
  },
  {
   "cell_type": "code",
   "execution_count": 42,
   "metadata": {},
   "outputs": [
    {
     "data": {
      "image/png": "[encoded data removed]",
      "text/plain": [
       "<Figure size 216x216 with 1 Axes>"
      ]
     },
     "metadata": {
      "needs_background": "light"
     },
     "output_type": "display_data"
    }
   ],
   "source": [
    "games_relevent_data.query('platform == \"PS4\"').boxplot('total_sales', figsize=(3,3));"
   ]
  },
  {
   "cell_type": "markdown",
   "metadata": {},
   "source": [
    "There is a bunch of them here."
   ]
  },
  {
   "cell_type": "code",
   "execution_count": 43,
   "metadata": {},
   "outputs": [
    {
     "data": {
      "image/png": "[encoded data removed]",
      "text/plain": [
       "<Figure size 216x216 with 1 Axes>"
      ]
     },
     "metadata": {
      "needs_background": "light"
     },
     "output_type": "display_data"
    }
   ],
   "source": [
    "games_relevent_data.query('platform == \"3DS\"').boxplot('total_sales', figsize=(3,3));"
   ]
  },
  {
   "cell_type": "markdown",
   "metadata": {},
   "source": [
    "The same!"
   ]
  },
  {
   "cell_type": "code",
   "execution_count": 44,
   "metadata": {},
   "outputs": [
    {
     "data": {
      "image/png": "[encoded data removed]",
      "text/plain": [
       "<Figure size 216x216 with 1 Axes>"
      ]
     },
     "metadata": {
      "needs_background": "light"
     },
     "output_type": "display_data"
    }
   ],
   "source": [
    "games_relevent_data.query('platform == \"Wii\"').boxplot('total_sales', figsize=(3,3));"
   ]
  },
  {
   "cell_type": "markdown",
   "metadata": {},
   "source": [
    "There are few here."
   ]
  },
  {
   "cell_type": "code",
   "execution_count": 45,
   "metadata": {},
   "outputs": [
    {
     "data": {
      "image/png": "[encoded data removed]",
      "text/plain": [
       "<Figure size 216x216 with 1 Axes>"
      ]
     },
     "metadata": {
      "needs_background": "light"
     },
     "output_type": "display_data"
    }
   ],
   "source": [
    "games_relevent_data.query('platform == \"XOne\"').boxplot('total_sales', figsize=(3,3));"
   ]
  },
  {
   "cell_type": "markdown",
   "metadata": {},
   "source": [
    "There is less values at the top of the box plot which mean there is less outliers here."
   ]
  },
  {
   "cell_type": "code",
   "execution_count": 46,
   "metadata": {},
   "outputs": [
    {
     "data": {
      "image/png": "[encoded data removed]",
      "text/plain": [
       "<Figure size 216x216 with 1 Axes>"
      ]
     },
     "metadata": {
      "needs_background": "light"
     },
     "output_type": "display_data"
    }
   ],
   "source": [
    "games_relevent_data.query('platform == \"DS\"').boxplot('total_sales', figsize=(3, 3));"
   ]
  },
  {
   "cell_type": "markdown",
   "metadata": {},
   "source": [
    "That seems odd!\n",
    "There is critic values that are outliers, and the rest of the values closer to the median."
   ]
  },
  {
   "cell_type": "code",
   "execution_count": 47,
   "metadata": {},
   "outputs": [
    {
     "data": {
      "image/png": "[encoded data removed]",
      "text/plain": [
       "<Figure size 216x216 with 1 Axes>"
      ]
     },
     "metadata": {
      "needs_background": "light"
     },
     "output_type": "display_data"
    }
   ],
   "source": [
    "games_relevent_data.query('platform == \"PC\"').boxplot('total_sales', figsize=(3, 3));"
   ]
  },
  {
   "cell_type": "code",
   "execution_count": 48,
   "metadata": {},
   "outputs": [
    {
     "data": {
      "image/png": "[encoded data removed]",
      "text/plain": [
       "<Figure size 216x216 with 1 Axes>"
      ]
     },
     "metadata": {
      "needs_background": "light"
     },
     "output_type": "display_data"
    }
   ],
   "source": [
    "games_relevent_data.query('platform == \"WiiU\"').boxplot('total_sales', figsize=(3,3));"
   ]
  },
  {
   "cell_type": "code",
   "execution_count": 49,
   "metadata": {},
   "outputs": [
    {
     "data": {
      "image/png": "[encoded data removed]",
      "text/plain": [
       "<Figure size 216x216 with 1 Axes>"
      ]
     },
     "metadata": {
      "needs_background": "light"
     },
     "output_type": "display_data"
    }
   ],
   "source": [
    "games_relevent_data.query('platform == \"PSP\"').boxplot('total_sales', figsize=(3,3));"
   ]
  },
  {
   "cell_type": "code",
   "execution_count": 50,
   "metadata": {},
   "outputs": [
    {
     "data": {
      "image/png": "[encoded data removed]",
      "text/plain": [
       "<Figure size 216x216 with 1 Axes>"
      ]
     },
     "metadata": {
      "needs_background": "light"
     },
     "output_type": "display_data"
    }
   ],
   "source": [
    "games_relevent_data.query('platform == \"PSV\"').boxplot('total_sales', figsize=(3,3));"
   ]
  },
  {
   "cell_type": "code",
   "execution_count": 51,
   "metadata": {},
   "outputs": [
    {
     "data": {
      "image/png": "[encoded data removed]",
      "text/plain": [
       "<Figure size 216x216 with 1 Axes>"
      ]
     },
     "metadata": {
      "needs_background": "light"
     },
     "output_type": "display_data"
    }
   ],
   "source": [
    "games_relevent_data.query('platform == \"PS2\"').boxplot('total_sales', figsize=(3,3));"
   ]
  },
  {
   "cell_type": "markdown",
   "metadata": {},
   "source": [
    "<div class=\"alert alert-block alert-success\">\n",
    "<b>Reviewer's comment v1:</b>\n",
    "    \n",
    "Great that you created a boxplot with selected platforms to compare key statistics. \n",
    "Here you can also exclude outliers by specifing the “showfliers” parameter and seting it to false."
   ]
  },
  {
   "cell_type": "markdown",
   "metadata": {},
   "source": [
    "For the PC there are many critic outlieres, same as the WiiU.\n",
    "The PSP as a few outliers same as the PSV.\n",
    "But the PS2 values seem's alittle weird, most of the values are far from the median."
   ]
  },
  {
   "cell_type": "code",
   "execution_count": 52,
   "metadata": {},
   "outputs": [
    {
     "data": {
      "text/plain": [
       "platform\n",
       "Wii     1.102377\n",
       "X360    1.014121\n",
       "PS4     0.952996\n",
       "PS3     0.949184\n",
       "3DS     0.741111\n",
       "XOne    0.737692\n",
       "WiiU    0.672100\n",
       "DS      0.662500\n",
       "PSP     0.362000\n",
       "PS2     0.332222\n",
       "PC      0.298770\n",
       "PSV     0.241338\n",
       "Name: total_sales, dtype: float64"
      ]
     },
     "execution_count": 52,
     "metadata": {},
     "output_type": "execute_result"
    }
   ],
   "source": [
    "games_relevent_data.groupby('platform')['total_sales'].mean().sort_values(ascending=False)"
   ]
  },
  {
   "cell_type": "markdown",
   "metadata": {},
   "source": [
    "In the years between 2010-2020 the \"X360\" as the highest sales average."
   ]
  },
  {
   "cell_type": "code",
   "execution_count": 53,
   "metadata": {},
   "outputs": [],
   "source": [
    "count = 0\n",
    "for row in games_relevent_data['user_score']:\n",
    "    if type(row) != str:\n",
    "        count+= row\n",
    "mean = count / len(games_relevent_data)\n",
    "array = []\n",
    "for index, row in games_relevent_data.iterrows():\n",
    "    if type(row[9]) == str:\n",
    "        array.append(mean)\n",
    "    else:\n",
    "        array.append(row[9])\n"
   ]
  },
  {
   "cell_type": "code",
   "execution_count": 54,
   "metadata": {},
   "outputs": [
    {
     "data": {
      "text/plain": [
       "6.678311324529811"
      ]
     },
     "execution_count": 54,
     "metadata": {},
     "output_type": "execute_result"
    }
   ],
   "source": [
    "games_relevent_data.query('user_score != \"tbd\"')['user_score'].astype(float).mean()"
   ]
  },
  {
   "cell_type": "code",
   "execution_count": 55,
   "metadata": {},
   "outputs": [
    {
     "data": {
      "image/png": "[encoded data removed]",
      "text/plain": [
       "<Figure size 1080x1080 with 49 Axes>"
      ]
     },
     "metadata": {
      "needs_background": "light"
     },
     "output_type": "display_data"
    }
   ],
   "source": [
    "pd.plotting.scatter_matrix(games_relevent_data, figsize=(15,15));"
   ]
  },
  {
   "cell_type": "markdown",
   "metadata": {},
   "source": [
    "<div class=\"alert alert-block alert-success\">\n",
    "<b>Reviewer's comment v1:</b>\n",
    "\n",
    "Well done! Very nice scatter plots but what conclusions can we make based on it?\n",
    "    \n"
   ]
  },
  {
   "cell_type": "code",
   "execution_count": 56,
   "metadata": {},
   "outputs": [
    {
     "data": {
      "text/html": [
       "<div>\n",
       "<style scoped>\n",
       "    .dataframe tbody tr th:only-of-type {\n",
       "        vertical-align: middle;\n",
       "    }\n",
       "\n",
       "    .dataframe tbody tr th {\n",
       "        vertical-align: top;\n",
       "    }\n",
       "\n",
       "    .dataframe thead th {\n",
       "        text-align: right;\n",
       "    }\n",
       "</style>\n",
       "<table border=\"1\" class=\"dataframe\">\n",
       "  <thead>\n",
       "    <tr style=\"text-align: right;\">\n",
       "      <th></th>\n",
       "      <th>year_of_release</th>\n",
       "      <th>na_sales</th>\n",
       "      <th>eu_sales</th>\n",
       "      <th>jp_sales</th>\n",
       "      <th>other_sales</th>\n",
       "      <th>critic_score</th>\n",
       "      <th>total_sales</th>\n",
       "    </tr>\n",
       "  </thead>\n",
       "  <tbody>\n",
       "    <tr>\n",
       "      <th>year_of_release</th>\n",
       "      <td>1.000000</td>\n",
       "      <td>-0.112014</td>\n",
       "      <td>-0.040384</td>\n",
       "      <td>-0.042293</td>\n",
       "      <td>-0.059617</td>\n",
       "      <td>0.084851</td>\n",
       "      <td>-0.085917</td>\n",
       "    </tr>\n",
       "    <tr>\n",
       "      <th>na_sales</th>\n",
       "      <td>-0.112014</td>\n",
       "      <td>1.000000</td>\n",
       "      <td>0.741930</td>\n",
       "      <td>0.254355</td>\n",
       "      <td>0.768308</td>\n",
       "      <td>0.277882</td>\n",
       "      <td>0.928015</td>\n",
       "    </tr>\n",
       "    <tr>\n",
       "      <th>eu_sales</th>\n",
       "      <td>-0.040384</td>\n",
       "      <td>0.741930</td>\n",
       "      <td>1.000000</td>\n",
       "      <td>0.332259</td>\n",
       "      <td>0.942362</td>\n",
       "      <td>0.299414</td>\n",
       "      <td>0.925424</td>\n",
       "    </tr>\n",
       "    <tr>\n",
       "      <th>jp_sales</th>\n",
       "      <td>-0.042293</td>\n",
       "      <td>0.254355</td>\n",
       "      <td>0.332259</td>\n",
       "      <td>1.000000</td>\n",
       "      <td>0.283242</td>\n",
       "      <td>0.128821</td>\n",
       "      <td>0.416529</td>\n",
       "    </tr>\n",
       "    <tr>\n",
       "      <th>other_sales</th>\n",
       "      <td>-0.059617</td>\n",
       "      <td>0.768308</td>\n",
       "      <td>0.942362</td>\n",
       "      <td>0.283242</td>\n",
       "      <td>1.000000</td>\n",
       "      <td>0.296961</td>\n",
       "      <td>0.918164</td>\n",
       "    </tr>\n",
       "    <tr>\n",
       "      <th>critic_score</th>\n",
       "      <td>0.084851</td>\n",
       "      <td>0.277882</td>\n",
       "      <td>0.299414</td>\n",
       "      <td>0.128821</td>\n",
       "      <td>0.296961</td>\n",
       "      <td>1.000000</td>\n",
       "      <td>0.311270</td>\n",
       "    </tr>\n",
       "    <tr>\n",
       "      <th>total_sales</th>\n",
       "      <td>-0.085917</td>\n",
       "      <td>0.928015</td>\n",
       "      <td>0.925424</td>\n",
       "      <td>0.416529</td>\n",
       "      <td>0.918164</td>\n",
       "      <td>0.311270</td>\n",
       "      <td>1.000000</td>\n",
       "    </tr>\n",
       "  </tbody>\n",
       "</table>\n",
       "</div>"
      ],
      "text/plain": [
       "                 year_of_release  na_sales  eu_sales  jp_sales  other_sales  \\\n",
       "year_of_release         1.000000 -0.112014 -0.040384 -0.042293    -0.059617   \n",
       "na_sales               -0.112014  1.000000  0.741930  0.254355     0.768308   \n",
       "eu_sales               -0.040384  0.741930  1.000000  0.332259     0.942362   \n",
       "jp_sales               -0.042293  0.254355  0.332259  1.000000     0.283242   \n",
       "other_sales            -0.059617  0.768308  0.942362  0.283242     1.000000   \n",
       "critic_score            0.084851  0.277882  0.299414  0.128821     0.296961   \n",
       "total_sales            -0.085917  0.928015  0.925424  0.416529     0.918164   \n",
       "\n",
       "                 critic_score  total_sales  \n",
       "year_of_release      0.084851    -0.085917  \n",
       "na_sales             0.277882     0.928015  \n",
       "eu_sales             0.299414     0.925424  \n",
       "jp_sales             0.128821     0.416529  \n",
       "other_sales          0.296961     0.918164  \n",
       "critic_score         1.000000     0.311270  \n",
       "total_sales          0.311270     1.000000  "
      ]
     },
     "execution_count": 56,
     "metadata": {},
     "output_type": "execute_result"
    }
   ],
   "source": [
    "games_relevent_data.corr()"
   ]
  },
  {
   "cell_type": "markdown",
   "metadata": {},
   "source": [
    "The table shows that the user rating had a no inffulence on the total sales, while the professional rating give a good positive feeback which made the total sales bette."
   ]
  },
  {
   "cell_type": "code",
   "execution_count": 57,
   "metadata": {},
   "outputs": [],
   "source": [
    "games = games_relevent_data.query('platform == \"X360\"')['name']"
   ]
  },
  {
   "cell_type": "code",
   "execution_count": 58,
   "metadata": {},
   "outputs": [
    {
     "data": {
      "text/plain": [
       "[]"
      ]
     },
     "execution_count": 58,
     "metadata": {},
     "output_type": "execute_result"
    }
   ],
   "source": [
    "result  = []\n",
    "for game in games:\n",
    "    if games_relevent_data.query('platform == \"PS4\"')['name'].any() == game:\n",
    "        result.append(game)\n",
    "result"
   ]
  },
  {
   "cell_type": "markdown",
   "metadata": {},
   "source": [
    "The only game from the X360 console that was  sold was on the PS4 console is \"Black Ops 3\".\n",
    "(I guess those microsoft employ had a few good idea's for a better experience exclusive games and sony doesnt ready for the challange maybe It's time to say bye bye to my old PS4 =)."
   ]
  },
  {
   "cell_type": "code",
   "execution_count": 59,
   "metadata": {},
   "outputs": [
    {
     "data": {
      "text/html": [
       "<div>\n",
       "<style scoped>\n",
       "    .dataframe tbody tr th:only-of-type {\n",
       "        vertical-align: middle;\n",
       "    }\n",
       "\n",
       "    .dataframe tbody tr th {\n",
       "        vertical-align: top;\n",
       "    }\n",
       "\n",
       "    .dataframe thead th {\n",
       "        text-align: right;\n",
       "    }\n",
       "</style>\n",
       "<table border=\"1\" class=\"dataframe\">\n",
       "  <thead>\n",
       "    <tr style=\"text-align: right;\">\n",
       "      <th></th>\n",
       "      <th>year_of_release</th>\n",
       "      <th>na_sales</th>\n",
       "      <th>eu_sales</th>\n",
       "      <th>jp_sales</th>\n",
       "      <th>other_sales</th>\n",
       "      <th>critic_score</th>\n",
       "      <th>total_sales</th>\n",
       "    </tr>\n",
       "    <tr>\n",
       "      <th>genre</th>\n",
       "      <th></th>\n",
       "      <th></th>\n",
       "      <th></th>\n",
       "      <th></th>\n",
       "      <th></th>\n",
       "      <th></th>\n",
       "      <th></th>\n",
       "    </tr>\n",
       "  </thead>\n",
       "  <tbody>\n",
       "    <tr>\n",
       "      <th>Action</th>\n",
       "      <td>1567941.0</td>\n",
       "      <td>243.50</td>\n",
       "      <td>200.29</td>\n",
       "      <td>33.74</td>\n",
       "      <td>65.69</td>\n",
       "      <td>54177.638565</td>\n",
       "      <td>543.22</td>\n",
       "    </tr>\n",
       "    <tr>\n",
       "      <th>Shooter</th>\n",
       "      <td>650061.0</td>\n",
       "      <td>213.30</td>\n",
       "      <td>152.35</td>\n",
       "      <td>12.41</td>\n",
       "      <td>50.17</td>\n",
       "      <td>23249.094998</td>\n",
       "      <td>428.23</td>\n",
       "    </tr>\n",
       "    <tr>\n",
       "      <th>Sports</th>\n",
       "      <td>633997.0</td>\n",
       "      <td>130.37</td>\n",
       "      <td>95.21</td>\n",
       "      <td>6.15</td>\n",
       "      <td>32.74</td>\n",
       "      <td>22534.640531</td>\n",
       "      <td>264.47</td>\n",
       "    </tr>\n",
       "    <tr>\n",
       "      <th>Role-Playing</th>\n",
       "      <td>533349.0</td>\n",
       "      <td>77.75</td>\n",
       "      <td>51.27</td>\n",
       "      <td>31.82</td>\n",
       "      <td>17.53</td>\n",
       "      <td>19316.612142</td>\n",
       "      <td>178.37</td>\n",
       "    </tr>\n",
       "    <tr>\n",
       "      <th>Misc</th>\n",
       "      <td>287720.0</td>\n",
       "      <td>78.28</td>\n",
       "      <td>40.38</td>\n",
       "      <td>8.97</td>\n",
       "      <td>12.27</td>\n",
       "      <td>9954.418213</td>\n",
       "      <td>139.90</td>\n",
       "    </tr>\n",
       "    <tr>\n",
       "      <th>Platform</th>\n",
       "      <td>211323.0</td>\n",
       "      <td>46.49</td>\n",
       "      <td>32.83</td>\n",
       "      <td>13.70</td>\n",
       "      <td>9.17</td>\n",
       "      <td>7783.644464</td>\n",
       "      <td>102.19</td>\n",
       "    </tr>\n",
       "    <tr>\n",
       "      <th>Racing</th>\n",
       "      <td>293823.0</td>\n",
       "      <td>35.39</td>\n",
       "      <td>43.84</td>\n",
       "      <td>6.27</td>\n",
       "      <td>11.89</td>\n",
       "      <td>10381.676785</td>\n",
       "      <td>97.39</td>\n",
       "    </tr>\n",
       "    <tr>\n",
       "      <th>Fighting</th>\n",
       "      <td>263604.0</td>\n",
       "      <td>30.16</td>\n",
       "      <td>16.61</td>\n",
       "      <td>6.54</td>\n",
       "      <td>6.82</td>\n",
       "      <td>9168.676785</td>\n",
       "      <td>60.13</td>\n",
       "    </tr>\n",
       "    <tr>\n",
       "      <th>Simulation</th>\n",
       "      <td>171038.0</td>\n",
       "      <td>14.44</td>\n",
       "      <td>18.39</td>\n",
       "      <td>7.92</td>\n",
       "      <td>3.79</td>\n",
       "      <td>5595.579821</td>\n",
       "      <td>44.54</td>\n",
       "    </tr>\n",
       "    <tr>\n",
       "      <th>Adventure</th>\n",
       "      <td>215395.0</td>\n",
       "      <td>12.11</td>\n",
       "      <td>11.57</td>\n",
       "      <td>1.95</td>\n",
       "      <td>3.57</td>\n",
       "      <td>7588.450535</td>\n",
       "      <td>29.20</td>\n",
       "    </tr>\n",
       "    <tr>\n",
       "      <th>Strategy</th>\n",
       "      <td>158956.0</td>\n",
       "      <td>11.67</td>\n",
       "      <td>11.64</td>\n",
       "      <td>0.40</td>\n",
       "      <td>3.08</td>\n",
       "      <td>5785.741428</td>\n",
       "      <td>26.79</td>\n",
       "    </tr>\n",
       "    <tr>\n",
       "      <th>Puzzle</th>\n",
       "      <td>42247.0</td>\n",
       "      <td>4.64</td>\n",
       "      <td>2.66</td>\n",
       "      <td>1.32</td>\n",
       "      <td>0.68</td>\n",
       "      <td>1537.967679</td>\n",
       "      <td>9.30</td>\n",
       "    </tr>\n",
       "  </tbody>\n",
       "</table>\n",
       "</div>"
      ],
      "text/plain": [
       "              year_of_release  na_sales  eu_sales  jp_sales  other_sales  \\\n",
       "genre                                                                      \n",
       "Action              1567941.0    243.50    200.29     33.74        65.69   \n",
       "Shooter              650061.0    213.30    152.35     12.41        50.17   \n",
       "Sports               633997.0    130.37     95.21      6.15        32.74   \n",
       "Role-Playing         533349.0     77.75     51.27     31.82        17.53   \n",
       "Misc                 287720.0     78.28     40.38      8.97        12.27   \n",
       "Platform             211323.0     46.49     32.83     13.70         9.17   \n",
       "Racing               293823.0     35.39     43.84      6.27        11.89   \n",
       "Fighting             263604.0     30.16     16.61      6.54         6.82   \n",
       "Simulation           171038.0     14.44     18.39      7.92         3.79   \n",
       "Adventure            215395.0     12.11     11.57      1.95         3.57   \n",
       "Strategy             158956.0     11.67     11.64      0.40         3.08   \n",
       "Puzzle                42247.0      4.64      2.66      1.32         0.68   \n",
       "\n",
       "              critic_score  total_sales  \n",
       "genre                                    \n",
       "Action        54177.638565       543.22  \n",
       "Shooter       23249.094998       428.23  \n",
       "Sports        22534.640531       264.47  \n",
       "Role-Playing  19316.612142       178.37  \n",
       "Misc           9954.418213       139.90  \n",
       "Platform       7783.644464       102.19  \n",
       "Racing        10381.676785        97.39  \n",
       "Fighting       9168.676785        60.13  \n",
       "Simulation     5595.579821        44.54  \n",
       "Adventure      7588.450535        29.20  \n",
       "Strategy       5785.741428        26.79  \n",
       "Puzzle         1537.967679         9.30  "
      ]
     },
     "execution_count": 59,
     "metadata": {},
     "output_type": "execute_result"
    }
   ],
   "source": [
    "games_relevent_data.groupby('genre').sum().sort_values(by='total_sales', ascending=False)"
   ]
  },
  {
   "cell_type": "markdown",
   "metadata": {},
   "source": [
    "The most profitable game genre is \"Action\" and less profitable genre is \"Puzzle\".\n",
    "We can't generalize about this genres because those values correct for the years 2010-2020, but what if kids in the eighty or ninety doesnt look up for thise kind's of games this generation is different and kids this days are not the same as they use to be back then."
   ]
  },
  {
   "cell_type": "code",
   "execution_count": 60,
   "metadata": {},
   "outputs": [
    {
     "data": {
      "text/html": [
       "<div>\n",
       "<style scoped>\n",
       "    .dataframe tbody tr th:only-of-type {\n",
       "        vertical-align: middle;\n",
       "    }\n",
       "\n",
       "    .dataframe tbody tr th {\n",
       "        vertical-align: top;\n",
       "    }\n",
       "\n",
       "    .dataframe thead th {\n",
       "        text-align: right;\n",
       "    }\n",
       "</style>\n",
       "<table border=\"1\" class=\"dataframe\">\n",
       "  <thead>\n",
       "    <tr style=\"text-align: right;\">\n",
       "      <th></th>\n",
       "      <th></th>\n",
       "      <th>year_of_release</th>\n",
       "      <th>na_sales</th>\n",
       "      <th>eu_sales</th>\n",
       "      <th>jp_sales</th>\n",
       "      <th>other_sales</th>\n",
       "      <th>critic_score</th>\n",
       "      <th>total_sales</th>\n",
       "    </tr>\n",
       "    <tr>\n",
       "      <th>name</th>\n",
       "      <th>genre</th>\n",
       "      <th></th>\n",
       "      <th></th>\n",
       "      <th></th>\n",
       "      <th></th>\n",
       "      <th></th>\n",
       "      <th></th>\n",
       "      <th></th>\n",
       "    </tr>\n",
       "  </thead>\n",
       "  <tbody>\n",
       "    <tr>\n",
       "      <th>Grand Theft Auto V</th>\n",
       "      <th>Action</th>\n",
       "      <td>10069.0</td>\n",
       "      <td>23.84</td>\n",
       "      <td>23.42</td>\n",
       "      <td>1.42</td>\n",
       "      <td>7.90</td>\n",
       "      <td>484.000000</td>\n",
       "      <td>56.58</td>\n",
       "    </tr>\n",
       "    <tr>\n",
       "      <th>Call of Duty: Modern Warfare 3</th>\n",
       "      <th>Shooter</th>\n",
       "      <td>8044.0</td>\n",
       "      <td>15.54</td>\n",
       "      <td>11.15</td>\n",
       "      <td>0.62</td>\n",
       "      <td>3.29</td>\n",
       "      <td>324.000000</td>\n",
       "      <td>30.60</td>\n",
       "    </tr>\n",
       "    <tr>\n",
       "      <th>Call of Duty: Black Ops II</th>\n",
       "      <th>Shooter</th>\n",
       "      <td>8048.0</td>\n",
       "      <td>14.08</td>\n",
       "      <td>10.84</td>\n",
       "      <td>0.72</td>\n",
       "      <td>3.76</td>\n",
       "      <td>321.000000</td>\n",
       "      <td>29.40</td>\n",
       "    </tr>\n",
       "    <tr>\n",
       "      <th>Call of Duty: Black Ops</th>\n",
       "      <th>Shooter</th>\n",
       "      <td>8040.0</td>\n",
       "      <td>16.99</td>\n",
       "      <td>8.54</td>\n",
       "      <td>0.59</td>\n",
       "      <td>3.08</td>\n",
       "      <td>329.000000</td>\n",
       "      <td>29.20</td>\n",
       "    </tr>\n",
       "    <tr>\n",
       "      <th>Call of Duty: Ghosts</th>\n",
       "      <th>Shooter</th>\n",
       "      <td>10065.0</td>\n",
       "      <td>14.71</td>\n",
       "      <td>8.48</td>\n",
       "      <td>0.48</td>\n",
       "      <td>3.03</td>\n",
       "      <td>369.000000</td>\n",
       "      <td>26.70</td>\n",
       "    </tr>\n",
       "    <tr>\n",
       "      <th>...</th>\n",
       "      <th>...</th>\n",
       "      <td>...</td>\n",
       "      <td>...</td>\n",
       "      <td>...</td>\n",
       "      <td>...</td>\n",
       "      <td>...</td>\n",
       "      <td>...</td>\n",
       "      <td>...</td>\n",
       "    </tr>\n",
       "    <tr>\n",
       "      <th>Super Stardust Ultra VR</th>\n",
       "      <th>Shooter</th>\n",
       "      <td>2016.0</td>\n",
       "      <td>0.00</td>\n",
       "      <td>0.01</td>\n",
       "      <td>0.00</td>\n",
       "      <td>0.00</td>\n",
       "      <td>66.000000</td>\n",
       "      <td>0.01</td>\n",
       "    </tr>\n",
       "    <tr>\n",
       "      <th>War for the Overworld</th>\n",
       "      <th>Strategy</th>\n",
       "      <td>2015.0</td>\n",
       "      <td>0.00</td>\n",
       "      <td>0.01</td>\n",
       "      <td>0.00</td>\n",
       "      <td>0.00</td>\n",
       "      <td>65.000000</td>\n",
       "      <td>0.01</td>\n",
       "    </tr>\n",
       "    <tr>\n",
       "      <th>Dokuro</th>\n",
       "      <th>Action</th>\n",
       "      <td>2012.0</td>\n",
       "      <td>0.00</td>\n",
       "      <td>0.00</td>\n",
       "      <td>0.01</td>\n",
       "      <td>0.00</td>\n",
       "      <td>76.000000</td>\n",
       "      <td>0.01</td>\n",
       "    </tr>\n",
       "    <tr>\n",
       "      <th>Fallout Anthology</th>\n",
       "      <th>Action</th>\n",
       "      <td>2015.0</td>\n",
       "      <td>0.00</td>\n",
       "      <td>0.01</td>\n",
       "      <td>0.00</td>\n",
       "      <td>0.00</td>\n",
       "      <td>68.967679</td>\n",
       "      <td>0.01</td>\n",
       "    </tr>\n",
       "    <tr>\n",
       "      <th>BlazBlue: Calamity Trigger</th>\n",
       "      <th>Fighting</th>\n",
       "      <td>2010.0</td>\n",
       "      <td>0.00</td>\n",
       "      <td>0.01</td>\n",
       "      <td>0.00</td>\n",
       "      <td>0.00</td>\n",
       "      <td>68.967679</td>\n",
       "      <td>0.01</td>\n",
       "    </tr>\n",
       "  </tbody>\n",
       "</table>\n",
       "<p>1340 rows × 7 columns</p>\n",
       "</div>"
      ],
      "text/plain": [
       "                                         year_of_release  na_sales  eu_sales  \\\n",
       "name                           genre                                           \n",
       "Grand Theft Auto V             Action            10069.0     23.84     23.42   \n",
       "Call of Duty: Modern Warfare 3 Shooter            8044.0     15.54     11.15   \n",
       "Call of Duty: Black Ops II     Shooter            8048.0     14.08     10.84   \n",
       "Call of Duty: Black Ops        Shooter            8040.0     16.99      8.54   \n",
       "Call of Duty: Ghosts           Shooter           10065.0     14.71      8.48   \n",
       "...                                                  ...       ...       ...   \n",
       "Super Stardust Ultra VR        Shooter            2016.0      0.00      0.01   \n",
       "War for the Overworld          Strategy           2015.0      0.00      0.01   \n",
       "Dokuro                         Action             2012.0      0.00      0.00   \n",
       "Fallout Anthology              Action             2015.0      0.00      0.01   \n",
       "BlazBlue: Calamity Trigger     Fighting           2010.0      0.00      0.01   \n",
       "\n",
       "                                         jp_sales  other_sales  critic_score  \\\n",
       "name                           genre                                           \n",
       "Grand Theft Auto V             Action        1.42         7.90    484.000000   \n",
       "Call of Duty: Modern Warfare 3 Shooter       0.62         3.29    324.000000   \n",
       "Call of Duty: Black Ops II     Shooter       0.72         3.76    321.000000   \n",
       "Call of Duty: Black Ops        Shooter       0.59         3.08    329.000000   \n",
       "Call of Duty: Ghosts           Shooter       0.48         3.03    369.000000   \n",
       "...                                           ...          ...           ...   \n",
       "Super Stardust Ultra VR        Shooter       0.00         0.00     66.000000   \n",
       "War for the Overworld          Strategy      0.00         0.00     65.000000   \n",
       "Dokuro                         Action        0.01         0.00     76.000000   \n",
       "Fallout Anthology              Action        0.00         0.00     68.967679   \n",
       "BlazBlue: Calamity Trigger     Fighting      0.00         0.00     68.967679   \n",
       "\n",
       "                                         total_sales  \n",
       "name                           genre                  \n",
       "Grand Theft Auto V             Action          56.58  \n",
       "Call of Duty: Modern Warfare 3 Shooter         30.60  \n",
       "Call of Duty: Black Ops II     Shooter         29.40  \n",
       "Call of Duty: Black Ops        Shooter         29.20  \n",
       "Call of Duty: Ghosts           Shooter         26.70  \n",
       "...                                              ...  \n",
       "Super Stardust Ultra VR        Shooter          0.01  \n",
       "War for the Overworld          Strategy         0.01  \n",
       "Dokuro                         Action           0.01  \n",
       "Fallout Anthology              Action           0.01  \n",
       "BlazBlue: Calamity Trigger     Fighting         0.01  \n",
       "\n",
       "[1340 rows x 7 columns]"
      ]
     },
     "execution_count": 60,
     "metadata": {},
     "output_type": "execute_result"
    }
   ],
   "source": [
    "games_relevent_data.groupby(['name', 'genre']).sum().sort_values(by='total_sales', ascending=False)"
   ]
  },
  {
   "cell_type": "markdown",
   "metadata": {},
   "source": [
    "<div class=\"alert alert-warning\">\n",
    "<b>Reviewer's comment v1:</b>\n",
    "\n",
    "Indeed here we have popular genre - action but if we calculate revenue per published game that could be not the case. \n",
    "<div class=\"alert alert-warning\">\n",
    "<b>Student comment v1:</b>\n",
    "Seem's to me I'm having the same result."
   ]
  },
  {
   "cell_type": "markdown",
   "metadata": {},
   "source": [
    "<div class=\"alert alert-warning\">\n",
    "<b>Reviewer's comment v2:</b>\n",
    "\n",
    "To calculate revenue per published game a mean() method is required. Like this: \n",
    "    \n",
    "    games_relevent_data[['genre','total_sales']].groupby('genre').mean().plot(kind='bar')"
   ]
  },
  {
   "cell_type": "markdown",
   "metadata": {},
   "source": [
    "# Creating user profile"
   ]
  },
  {
   "cell_type": "code",
   "execution_count": 62,
   "metadata": {},
   "outputs": [
    {
     "data": {
      "text/html": [
       "<div>\n",
       "<style scoped>\n",
       "    .dataframe tbody tr th:only-of-type {\n",
       "        vertical-align: middle;\n",
       "    }\n",
       "\n",
       "    .dataframe tbody tr th {\n",
       "        vertical-align: top;\n",
       "    }\n",
       "\n",
       "    .dataframe thead th {\n",
       "        text-align: right;\n",
       "    }\n",
       "</style>\n",
       "<table border=\"1\" class=\"dataframe\">\n",
       "  <thead>\n",
       "    <tr style=\"text-align: right;\">\n",
       "      <th></th>\n",
       "      <th>na_sales</th>\n",
       "    </tr>\n",
       "    <tr>\n",
       "      <th>platform</th>\n",
       "      <th></th>\n",
       "    </tr>\n",
       "  </thead>\n",
       "  <tbody>\n",
       "    <tr>\n",
       "      <th>X360</th>\n",
       "      <td>306.80</td>\n",
       "    </tr>\n",
       "    <tr>\n",
       "      <th>PS3</th>\n",
       "      <td>206.40</td>\n",
       "    </tr>\n",
       "    <tr>\n",
       "      <th>PS4</th>\n",
       "      <td>84.66</td>\n",
       "    </tr>\n",
       "    <tr>\n",
       "      <th>XOne</th>\n",
       "      <td>78.61</td>\n",
       "    </tr>\n",
       "    <tr>\n",
       "      <th>Wii</th>\n",
       "      <td>69.89</td>\n",
       "    </tr>\n",
       "    <tr>\n",
       "      <th>3DS</th>\n",
       "      <td>50.06</td>\n",
       "    </tr>\n",
       "    <tr>\n",
       "      <th>PC</th>\n",
       "      <td>36.30</td>\n",
       "    </tr>\n",
       "    <tr>\n",
       "      <th>WiiU</th>\n",
       "      <td>31.19</td>\n",
       "    </tr>\n",
       "    <tr>\n",
       "      <th>DS</th>\n",
       "      <td>16.11</td>\n",
       "    </tr>\n",
       "    <tr>\n",
       "      <th>PSV</th>\n",
       "      <td>10.44</td>\n",
       "    </tr>\n",
       "    <tr>\n",
       "      <th>PSP</th>\n",
       "      <td>6.57</td>\n",
       "    </tr>\n",
       "    <tr>\n",
       "      <th>PS2</th>\n",
       "      <td>1.07</td>\n",
       "    </tr>\n",
       "  </tbody>\n",
       "</table>\n",
       "</div>"
      ],
      "text/plain": [
       "          na_sales\n",
       "platform          \n",
       "X360        306.80\n",
       "PS3         206.40\n",
       "PS4          84.66\n",
       "XOne         78.61\n",
       "Wii          69.89\n",
       "3DS          50.06\n",
       "PC           36.30\n",
       "WiiU         31.19\n",
       "DS           16.11\n",
       "PSV          10.44\n",
       "PSP           6.57\n",
       "PS2           1.07"
      ]
     },
     "execution_count": 62,
     "metadata": {},
     "output_type": "execute_result"
    }
   ],
   "source": [
    "user_1 = games_relevent_data.pivot_table(index='platform', values='na_sales', aggfunc='sum')\n",
    "user_1.sort_values(by='na_sales', ascending=False)"
   ]
  },
  {
   "cell_type": "markdown",
   "metadata": {},
   "source": [
    "The top 5 platform best sallers in North-America are X360, PS3, Wii, PS4 and the XOne."
   ]
  },
  {
   "cell_type": "code",
   "execution_count": 63,
   "metadata": {},
   "outputs": [
    {
     "data": {
      "text/html": [
       "<div>\n",
       "<style scoped>\n",
       "    .dataframe tbody tr th:only-of-type {\n",
       "        vertical-align: middle;\n",
       "    }\n",
       "\n",
       "    .dataframe tbody tr th {\n",
       "        vertical-align: top;\n",
       "    }\n",
       "\n",
       "    .dataframe thead th {\n",
       "        text-align: right;\n",
       "    }\n",
       "</style>\n",
       "<table border=\"1\" class=\"dataframe\">\n",
       "  <thead>\n",
       "    <tr style=\"text-align: right;\">\n",
       "      <th></th>\n",
       "      <th>eu_sales</th>\n",
       "    </tr>\n",
       "    <tr>\n",
       "      <th>platform</th>\n",
       "      <th></th>\n",
       "    </tr>\n",
       "  </thead>\n",
       "  <tbody>\n",
       "    <tr>\n",
       "      <th>PS3</th>\n",
       "      <td>187.90</td>\n",
       "    </tr>\n",
       "    <tr>\n",
       "      <th>X360</th>\n",
       "      <td>147.99</td>\n",
       "    </tr>\n",
       "    <tr>\n",
       "      <th>PS4</th>\n",
       "      <td>112.78</td>\n",
       "    </tr>\n",
       "    <tr>\n",
       "      <th>PC</th>\n",
       "      <td>62.39</td>\n",
       "    </tr>\n",
       "    <tr>\n",
       "      <th>XOne</th>\n",
       "      <td>43.34</td>\n",
       "    </tr>\n",
       "    <tr>\n",
       "      <th>Wii</th>\n",
       "      <td>43.21</td>\n",
       "    </tr>\n",
       "    <tr>\n",
       "      <th>3DS</th>\n",
       "      <td>34.82</td>\n",
       "    </tr>\n",
       "    <tr>\n",
       "      <th>WiiU</th>\n",
       "      <td>20.96</td>\n",
       "    </tr>\n",
       "    <tr>\n",
       "      <th>PSV</th>\n",
       "      <td>10.22</td>\n",
       "    </tr>\n",
       "    <tr>\n",
       "      <th>DS</th>\n",
       "      <td>7.08</td>\n",
       "    </tr>\n",
       "    <tr>\n",
       "      <th>PSP</th>\n",
       "      <td>5.43</td>\n",
       "    </tr>\n",
       "    <tr>\n",
       "      <th>PS2</th>\n",
       "      <td>0.92</td>\n",
       "    </tr>\n",
       "  </tbody>\n",
       "</table>\n",
       "</div>"
      ],
      "text/plain": [
       "          eu_sales\n",
       "platform          \n",
       "PS3         187.90\n",
       "X360        147.99\n",
       "PS4         112.78\n",
       "PC           62.39\n",
       "XOne         43.34\n",
       "Wii          43.21\n",
       "3DS          34.82\n",
       "WiiU         20.96\n",
       "PSV          10.22\n",
       "DS            7.08\n",
       "PSP           5.43\n",
       "PS2           0.92"
      ]
     },
     "execution_count": 63,
     "metadata": {},
     "output_type": "execute_result"
    }
   ],
   "source": [
    "user_2 = games_relevent_data.pivot_table(index='platform', values='eu_sales', aggfunc='sum')\n",
    "user_2.sort_values(by='eu_sales', ascending=False)"
   ]
  },
  {
   "cell_type": "markdown",
   "metadata": {},
   "source": [
    "The top 5 best sallers in Europe is the PS3, X360, PS4, PC, and the Wii."
   ]
  },
  {
   "cell_type": "code",
   "execution_count": 64,
   "metadata": {},
   "outputs": [
    {
     "data": {
      "text/html": [
       "<div>\n",
       "<style scoped>\n",
       "    .dataframe tbody tr th:only-of-type {\n",
       "        vertical-align: middle;\n",
       "    }\n",
       "\n",
       "    .dataframe tbody tr th {\n",
       "        vertical-align: top;\n",
       "    }\n",
       "\n",
       "    .dataframe thead th {\n",
       "        text-align: right;\n",
       "    }\n",
       "</style>\n",
       "<table border=\"1\" class=\"dataframe\">\n",
       "  <thead>\n",
       "    <tr style=\"text-align: right;\">\n",
       "      <th></th>\n",
       "      <th>jp_sales</th>\n",
       "    </tr>\n",
       "    <tr>\n",
       "      <th>platform</th>\n",
       "      <th></th>\n",
       "    </tr>\n",
       "  </thead>\n",
       "  <tbody>\n",
       "    <tr>\n",
       "      <th>PS3</th>\n",
       "      <td>41.64</td>\n",
       "    </tr>\n",
       "    <tr>\n",
       "      <th>3DS</th>\n",
       "      <td>33.96</td>\n",
       "    </tr>\n",
       "    <tr>\n",
       "      <th>WiiU</th>\n",
       "      <td>10.17</td>\n",
       "    </tr>\n",
       "    <tr>\n",
       "      <th>Wii</th>\n",
       "      <td>10.06</td>\n",
       "    </tr>\n",
       "    <tr>\n",
       "      <th>PS4</th>\n",
       "      <td>9.45</td>\n",
       "    </tr>\n",
       "    <tr>\n",
       "      <th>PSV</th>\n",
       "      <td>8.52</td>\n",
       "    </tr>\n",
       "    <tr>\n",
       "      <th>DS</th>\n",
       "      <td>6.46</td>\n",
       "    </tr>\n",
       "    <tr>\n",
       "      <th>PSP</th>\n",
       "      <td>6.43</td>\n",
       "    </tr>\n",
       "    <tr>\n",
       "      <th>X360</th>\n",
       "      <td>4.09</td>\n",
       "    </tr>\n",
       "    <tr>\n",
       "      <th>XOne</th>\n",
       "      <td>0.29</td>\n",
       "    </tr>\n",
       "    <tr>\n",
       "      <th>PS2</th>\n",
       "      <td>0.12</td>\n",
       "    </tr>\n",
       "    <tr>\n",
       "      <th>PC</th>\n",
       "      <td>0.00</td>\n",
       "    </tr>\n",
       "  </tbody>\n",
       "</table>\n",
       "</div>"
      ],
      "text/plain": [
       "          jp_sales\n",
       "platform          \n",
       "PS3          41.64\n",
       "3DS          33.96\n",
       "WiiU         10.17\n",
       "Wii          10.06\n",
       "PS4           9.45\n",
       "PSV           8.52\n",
       "DS            6.46\n",
       "PSP           6.43\n",
       "X360          4.09\n",
       "XOne          0.29\n",
       "PS2           0.12\n",
       "PC            0.00"
      ]
     },
     "execution_count": 64,
     "metadata": {},
     "output_type": "execute_result"
    }
   ],
   "source": [
    "user_3 = games_relevent_data.pivot_table(index='platform', values='jp_sales', aggfunc='sum')\n",
    "user_3.sort_values(by='jp_sales', ascending=False)"
   ]
  },
  {
   "cell_type": "markdown",
   "metadata": {},
   "source": [
    "The top 5 best sallers in jappane is the 3DS, PS3, PSP, DS, and the PSV."
   ]
  },
  {
   "cell_type": "markdown",
   "metadata": {},
   "source": [
    "The differnces derive from the fact that every land has it native who has theire own culture and habits therfore the games that every console provid are not fit to every one as one group but for some of the sub-group. like for example North America and Europe are allmost the same platform because they are both influenced by the western culture but on the other hand jappan which is from the east are using totally diffrent platform."
   ]
  },
  {
   "cell_type": "code",
   "execution_count": 65,
   "metadata": {},
   "outputs": [
    {
     "data": {
      "image/png": "[encoded data removed]",
      "text/plain": [
       "<Figure size 432x288 with 2 Axes>"
      ]
     },
     "metadata": {
      "needs_background": "light"
     },
     "output_type": "display_data"
    }
   ],
   "source": [
    "games_relevent_data.plot(x='critic_score', y='na_sales', kind='hexbin', gridsize=10, sharex=False);"
   ]
  },
  {
   "cell_type": "markdown",
   "metadata": {},
   "source": [
    "In North-America seems that the rating doesnt has affect upon the sales."
   ]
  },
  {
   "cell_type": "code",
   "execution_count": 66,
   "metadata": {},
   "outputs": [
    {
     "data": {
      "image/png": "[encoded data removed]",
      "text/plain": [
       "<Figure size 432x288 with 2 Axes>"
      ]
     },
     "metadata": {
      "needs_background": "light"
     },
     "output_type": "display_data"
    }
   ],
   "source": [
    "games_relevent_data.plot(x='critic_score', y='eu_sales', kind='hexbin', gridsize=10, sharex=False);"
   ]
  },
  {
   "cell_type": "markdown",
   "metadata": {},
   "source": [
    "In Europe seems that the rating doesnt has affect upon the sales."
   ]
  },
  {
   "cell_type": "code",
   "execution_count": 67,
   "metadata": {},
   "outputs": [
    {
     "data": {
      "image/png": "[encoded data removed]",
      "text/plain": [
       "<Figure size 432x288 with 2 Axes>"
      ]
     },
     "metadata": {
      "needs_background": "light"
     },
     "output_type": "display_data"
    }
   ],
   "source": [
    "games_relevent_data.plot(x='critic_score', y='jp_sales', kind='hexbin', gridsize=10, sharex=False);"
   ]
  },
  {
   "cell_type": "markdown",
   "metadata": {},
   "source": [
    "In jappane seems that the rating allmost doesnt has affect upon the sales."
   ]
  },
  {
   "cell_type": "code",
   "execution_count": 68,
   "metadata": {},
   "outputs": [
    {
     "data": {
      "image/png": "[encoded data removed]",
      "text/plain": [
       "<Figure size 432x288 with 1 Axes>"
      ]
     },
     "metadata": {},
     "output_type": "display_data"
    }
   ],
   "source": [
    "games_relevent_data.pivot_table(index='platform', values='total_sales', aggfunc='sum').plot(kind='pie', y='total_sales');"
   ]
  },
  {
   "cell_type": "markdown",
   "metadata": {},
   "source": [
    "<div class=\"alert alert-warning\">\n",
    "<b>Reviewer's comment v1:</b>\n",
    "    \n",
    "Great! Everything is correct here.\n",
    "Here we can also use groupped pie charts with subplots. It provides a nice overview of all data. \n",
    "    \n",
    "One small comment regarding market shares by rating. It could be also helpful to understand proportion of unrated games per region, as this is quite an interesting information, especially for JP region."
   ]
  },
  {
   "cell_type": "markdown",
   "metadata": {},
   "source": [
    "<div class=\"alert alert-block alert-success\">\n",
    "<b>Reviewer's comment v2:</b>\n",
    "\n",
    "Thanks for extending that."
   ]
  },
  {
   "cell_type": "markdown",
   "metadata": {},
   "source": [
    "# Testing the hypotheses"
   ]
  },
  {
   "cell_type": "markdown",
   "metadata": {},
   "source": [
    "# First hypothesis\n",
    "Ho - Avarage user rating of the Xbox One and PC platforms are the same."
   ]
  },
  {
   "cell_type": "code",
   "execution_count": 69,
   "metadata": {},
   "outputs": [],
   "source": [
    "xbox_one = games_relevent_data.query('platform == \"XOne\"  and user_score != \"tbd\"')['user_score'].astype(float)"
   ]
  },
  {
   "cell_type": "code",
   "execution_count": 70,
   "metadata": {},
   "outputs": [],
   "source": [
    "pc = games_relevent_data.query('platform == \"PC\" and user_score != \"tbd\"')['user_score'].astype(float)"
   ]
  },
  {
   "cell_type": "code",
   "execution_count": 71,
   "metadata": {},
   "outputs": [
    {
     "data": {
      "text/plain": [
       "182"
      ]
     },
     "execution_count": 71,
     "metadata": {},
     "output_type": "execute_result"
    }
   ],
   "source": [
    "len(xbox_one)"
   ]
  },
  {
   "cell_type": "code",
   "execution_count": 72,
   "metadata": {},
   "outputs": [
    {
     "data": {
      "text/plain": [
       "6.521428571428572"
      ]
     },
     "execution_count": 72,
     "metadata": {},
     "output_type": "execute_result"
    }
   ],
   "source": [
    "xbox_one.mean()"
   ]
  },
  {
   "cell_type": "code",
   "execution_count": 73,
   "metadata": {},
   "outputs": [
    {
     "data": {
      "text/plain": [
       "6.5181818181818185"
      ]
     },
     "execution_count": 73,
     "metadata": {},
     "output_type": "execute_result"
    }
   ],
   "source": [
    "pc.mean()"
   ]
  },
  {
   "cell_type": "code",
   "execution_count": 74,
   "metadata": {},
   "outputs": [
    {
     "data": {
      "text/plain": [
       "374"
      ]
     },
     "execution_count": 74,
     "metadata": {},
     "output_type": "execute_result"
    }
   ],
   "source": [
    "len(pc)"
   ]
  },
  {
   "cell_type": "markdown",
   "metadata": {},
   "source": [
    "I will add values to the xbox one some additional rows while keeping the avaragae and median in place."
   ]
  },
  {
   "cell_type": "code",
   "execution_count": 75,
   "metadata": {},
   "outputs": [],
   "source": [
    "xbox = []\n",
    "p_c = []\n",
    "for x in xbox_one:\n",
    "    xbox.append(x)\n",
    "for y in pc:\n",
    "    p_c.append(y)"
   ]
  },
  {
   "cell_type": "code",
   "execution_count": 76,
   "metadata": {},
   "outputs": [],
   "source": [
    "for i in range(0,97):\n",
    "    xbox.append(6.521428571428572+4)\n",
    "for i in range(0,95):\n",
    "    xbox.append(6.521428571428572-4)"
   ]
  },
  {
   "cell_type": "code",
   "execution_count": 77,
   "metadata": {},
   "outputs": [
    {
     "name": "stdout",
     "output_type": "stream",
     "text": [
      "374\n"
     ]
    },
    {
     "data": {
      "text/plain": [
       "6.5181818181818185"
      ]
     },
     "execution_count": 77,
     "metadata": {},
     "output_type": "execute_result"
    }
   ],
   "source": [
    "print(len(p_c))\n",
    "p_c = pd.Series(p_c)\n",
    "p_c.mean()"
   ]
  },
  {
   "cell_type": "code",
   "execution_count": 78,
   "metadata": {},
   "outputs": [
    {
     "name": "stdout",
     "output_type": "stream",
     "text": [
      "374\n"
     ]
    },
    {
     "data": {
      "text/plain": [
       "6.542818945760123"
      ]
     },
     "execution_count": 78,
     "metadata": {},
     "output_type": "execute_result"
    }
   ],
   "source": [
    "print(len(xbox))\n",
    "xbox = pd.Series(xbox)\n",
    "xbox.mean()"
   ]
  },
  {
   "cell_type": "markdown",
   "metadata": {},
   "source": [
    "Now i got both of the dataset(samples) and I can use them in order to find the pvalue desired."
   ]
  },
  {
   "cell_type": "code",
   "execution_count": 79,
   "metadata": {},
   "outputs": [],
   "source": [
    "from scipy import stats as st"
   ]
  },
  {
   "cell_type": "code",
   "execution_count": 80,
   "metadata": {},
   "outputs": [],
   "source": [
    "result = st.ttest_rel(xbox, p_c)"
   ]
  },
  {
   "cell_type": "code",
   "execution_count": 81,
   "metadata": {},
   "outputs": [
    {
     "name": "stdout",
     "output_type": "stream",
     "text": [
      "We fail to reject the null hypothesis\n"
     ]
    }
   ],
   "source": [
    "alpha = 0.01\n",
    "\n",
    "if result.pvalue < alpha:\n",
    "    print('We reject the null hypothesis')\n",
    "else:\n",
    "    print('We fail to reject the null hypothesis')"
   ]
  },
  {
   "cell_type": "markdown",
   "metadata": {},
   "source": [
    "The Ho can't be rejected thus we can asume that the avarage of user rating is the same for for PC and Xbox one platform"
   ]
  },
  {
   "cell_type": "markdown",
   "metadata": {},
   "source": [
    "I choose a alpha to be equal to 1 percent because the groups are small and it can be more acurate."
   ]
  },
  {
   "cell_type": "markdown",
   "metadata": {},
   "source": [
    "# Second hypothesis\n",
    "Ho - Average user ratings for the Action and Sports genres are the same"
   ]
  },
  {
   "cell_type": "markdown",
   "metadata": {},
   "source": [
    "<div class=\"alert alert-block alert-danger\">\n",
    "<b>Reviewer's comment v1:</b>\n",
    "    \n",
    "Unfortunately, there is an issue in formulating null and alternative hypotheses.\n",
    "A null hypothesis is a type of hypothesis used in statistics that proposes that there is no difference between certain characteristics of a population. An alternative hypothesis always contradicts the null one.\n",
    "Can you please update that and also formulate alternative."
   ]
  },
  {
   "cell_type": "code",
   "execution_count": 82,
   "metadata": {},
   "outputs": [],
   "source": [
    "action = games_relevent_data.query('genre == \"Action\"')['user_score'].astype(float)"
   ]
  },
  {
   "cell_type": "code",
   "execution_count": 83,
   "metadata": {},
   "outputs": [],
   "source": [
    "sports = games_relevent_data.query('genre == \"Sports\"')['user_score'].astype(float)"
   ]
  },
  {
   "cell_type": "code",
   "execution_count": 84,
   "metadata": {},
   "outputs": [
    {
     "name": "stdout",
     "output_type": "stream",
     "text": [
      "779\n"
     ]
    }
   ],
   "source": [
    "print(len(action))\n"
   ]
  },
  {
   "cell_type": "code",
   "execution_count": 85,
   "metadata": {},
   "outputs": [
    {
     "name": "stdout",
     "output_type": "stream",
     "text": [
      "315\n"
     ]
    }
   ],
   "source": [
    "print(len(sports))\n"
   ]
  },
  {
   "cell_type": "markdown",
   "metadata": {},
   "source": [
    "I'll equalize the number of lines for the proper data while keeping the avarage and median"
   ]
  },
  {
   "cell_type": "code",
   "execution_count": 86,
   "metadata": {},
   "outputs": [],
   "source": [
    "sport = []\n",
    "for x in sports:\n",
    "    sport.append(x)"
   ]
  },
  {
   "cell_type": "code",
   "execution_count": 87,
   "metadata": {},
   "outputs": [],
   "source": [
    "for r in range(0,232):\n",
    "    sport.append(5.901587301587302 + 5)\n",
    "for r in range(0,232):\n",
    "    sport.append(5.901587301587302 - 5)"
   ]
  },
  {
   "cell_type": "code",
   "execution_count": 88,
   "metadata": {},
   "outputs": [],
   "source": [
    "results = st.ttest_rel(sport, action)"
   ]
  },
  {
   "cell_type": "code",
   "execution_count": 89,
   "metadata": {},
   "outputs": [
    {
     "name": "stdout",
     "output_type": "stream",
     "text": [
      "We reject the null hypothesis\n"
     ]
    }
   ],
   "source": [
    "alpha = 0.01\n",
    "\n",
    "if results.pvalue < alpha:\n",
    "    print('We reject the null hypothesis')\n",
    "else:\n",
    "    print('We fail to reject the null hypothesis')"
   ]
  },
  {
   "cell_type": "markdown",
   "metadata": {},
   "source": [
    "I reject the Ho then I can assume that:\n",
    "average user ratings for the Action and Sports genres are not the same."
   ]
  },
  {
   "cell_type": "markdown",
   "metadata": {},
   "source": [
    "<div class=\"alert alert-block alert-success\">\n",
    "<b>Reviewer's comment v2:</b>\n",
    "\n",
    "Null hypotheses have been formulated and tested correctly. One remark is still to formulate an alternative hypothesis:\n",
    "    \n",
    "    H0:\n",
    "    H1:\n",
    "\n",
    "Additionally, you can compare the variances of the samples before testing hypotheses in order to understand with which equal_var parameter to use in the st.ttest_ind (by default, True). Here you can manually calculate the variances, or use the Levene test https://docs.scipy.org/doc/scipy/reference/generated/scipy.stats.levene.html or the Bartlett’s test (https://docs.scipy.org/doc/scipy-0.14.0/reference/generated/scipy.stats.bartlett.html)    \n"
   ]
  },
  {
   "cell_type": "markdown",
   "metadata": {},
   "source": [
    "# Conclusion"
   ]
  },
  {
   "cell_type": "markdown",
   "metadata": {},
   "source": [
    "In this project I insvestigated and identify patterns that determine whether a game succeeds or not. That allow ma to spot potential big winners and plan advertising campaigns.\n",
    "I used the following steps:\n",
    "1) Loading the data.\n",
    "\n",
    "2) Used the describe method the see the overall data.\n",
    "\n",
    "3) Changed the column into lower-case.\n",
    "\n",
    "4) Dealing with the missing and duplicated values by using:\n",
    "   a) isna() method to check whether the data has missing values.\n",
    "   b) duplicated() method to check whether the data has duplicated rows.\n",
    "5) Calculating total sales.\n",
    "6) Analayzing the data.\n",
    "7) Checking how much time it take before every platfrom become old and a new one replace it.\n",
    "8) Working with a filtered data.\n",
    "9) Creating user profile.\n",
    "10) Testing the hypotheses."
   ]
  },
  {
   "cell_type": "markdown",
   "metadata": {},
   "source": [
    "In conclusion best sellers seems to be Actions and \"Shooters and  game and that where the focus of advertising need to be.\n"
   ]
  },
  {
   "cell_type": "markdown",
   "metadata": {},
   "source": [
    "<div class=\"alert alert-block alert-warning\">\n",
    "<b>Reviewer's comment v1:</b>\n",
    "    \n",
    "- Overall you conducted great research with correct interim findings, clean code and nice visualisation.\n",
    "- Nevertheless, general conclusions represent the overall work progress that you achieved. On a real project, this is probably the only thing the business stakeholders will read. Therefore, it is crucial to indicate in a structured way all conclusions that you made on each step in the project. It is also important to provide explanations and interpretations that will be interesting for business based on your analysis (a detailed description of the average user per each plan, which client group brings more additional revenue, which group brings more revenue in the total revenue).\n"
   ]
  }
 ],
 "metadata": {
  "ExecuteTimeLog": [
   {
    "duration": 603,
    "start_time": "2022-01-02T23:34:38.671Z"
   },
   {
    "duration": 40,
    "start_time": "2022-01-02T23:35:33.385Z"
   },
   {
    "duration": 11,
    "start_time": "2022-01-02T23:36:30.569Z"
   },
   {
    "duration": 8,
    "start_time": "2022-01-02T23:37:16.625Z"
   },
   {
    "duration": 282,
    "start_time": "2022-01-02T23:37:40.870Z"
   },
   {
    "duration": 238,
    "start_time": "2022-01-02T23:37:47.909Z"
   },
   {
    "duration": 46,
    "start_time": "2022-01-02T23:38:47.919Z"
   },
   {
    "duration": 12,
    "start_time": "2022-01-02T23:39:14.579Z"
   },
   {
    "duration": 10,
    "start_time": "2022-01-02T23:39:35.900Z"
   },
   {
    "duration": 3,
    "start_time": "2022-01-02T23:40:08.162Z"
   },
   {
    "duration": 5,
    "start_time": "2022-01-02T23:41:00.599Z"
   },
   {
    "duration": 5,
    "start_time": "2022-01-02T23:41:11.136Z"
   },
   {
    "duration": 246,
    "start_time": "2022-01-02T23:44:19.879Z"
   },
   {
    "duration": 248,
    "start_time": "2022-01-02T23:45:01.987Z"
   },
   {
    "duration": 230,
    "start_time": "2022-01-02T23:45:21.619Z"
   },
   {
    "duration": 4,
    "start_time": "2022-01-02T23:45:50.639Z"
   },
   {
    "duration": 4,
    "start_time": "2022-01-02T23:46:10.055Z"
   },
   {
    "duration": 320,
    "start_time": "2022-01-02T23:46:28.498Z"
   },
   {
    "duration": 224,
    "start_time": "2022-01-02T23:46:49.750Z"
   },
   {
    "duration": 5,
    "start_time": "2022-01-02T23:50:08.779Z"
   },
   {
    "duration": 225,
    "start_time": "2022-01-02T23:50:48.219Z"
   },
   {
    "duration": 2,
    "start_time": "2022-01-02T23:52:08.949Z"
   },
   {
    "duration": 5,
    "start_time": "2022-01-02T23:52:29.729Z"
   },
   {
    "duration": 4,
    "start_time": "2022-01-02T23:52:48.030Z"
   },
   {
    "duration": 6,
    "start_time": "2022-01-02T23:57:31.210Z"
   },
   {
    "duration": 9,
    "start_time": "2022-01-02T23:57:42.649Z"
   },
   {
    "duration": 8,
    "start_time": "2022-01-03T00:05:15.319Z"
   },
   {
    "duration": 9,
    "start_time": "2022-01-03T00:05:35.449Z"
   },
   {
    "duration": 6,
    "start_time": "2022-01-03T00:08:38.649Z"
   },
   {
    "duration": 4,
    "start_time": "2022-01-03T00:08:48.939Z"
   },
   {
    "duration": 4,
    "start_time": "2022-01-03T00:14:42.130Z"
   },
   {
    "duration": 4,
    "start_time": "2022-01-03T00:15:04.919Z"
   },
   {
    "duration": 250,
    "start_time": "2022-01-03T00:16:18.499Z"
   },
   {
    "duration": 77,
    "start_time": "2022-01-03T00:17:13.789Z"
   },
   {
    "duration": 289,
    "start_time": "2022-01-03T00:17:19.879Z"
   },
   {
    "duration": 86,
    "start_time": "2022-01-03T00:17:37.650Z"
   },
   {
    "duration": 260,
    "start_time": "2022-01-03T00:17:45.010Z"
   },
   {
    "duration": 5,
    "start_time": "2022-01-03T00:17:59.479Z"
   },
   {
    "duration": 4,
    "start_time": "2022-01-03T00:18:13.910Z"
   },
   {
    "duration": 236,
    "start_time": "2022-01-03T00:18:55.219Z"
   },
   {
    "duration": 6,
    "start_time": "2022-01-03T00:19:01.839Z"
   },
   {
    "duration": 93,
    "start_time": "2022-01-03T00:19:16.378Z"
   },
   {
    "duration": 4,
    "start_time": "2022-01-03T00:19:40.789Z"
   },
   {
    "duration": 4,
    "start_time": "2022-01-03T00:20:54.520Z"
   },
   {
    "duration": 4,
    "start_time": "2022-01-03T00:21:12.330Z"
   },
   {
    "duration": 24,
    "start_time": "2022-01-03T00:31:22.167Z"
   },
   {
    "duration": 19,
    "start_time": "2022-01-03T00:31:45.546Z"
   },
   {
    "duration": 20,
    "start_time": "2022-01-03T00:31:50.638Z"
   },
   {
    "duration": 8,
    "start_time": "2022-01-03T00:32:05.748Z"
   },
   {
    "duration": 8,
    "start_time": "2022-01-03T00:32:28.321Z"
   },
   {
    "duration": 8,
    "start_time": "2022-01-03T00:33:34.048Z"
   },
   {
    "duration": 7,
    "start_time": "2022-01-03T00:34:18.718Z"
   },
   {
    "duration": 8,
    "start_time": "2022-01-03T00:34:33.946Z"
   },
   {
    "duration": 7,
    "start_time": "2022-01-03T00:38:02.291Z"
   },
   {
    "duration": 243,
    "start_time": "2022-01-03T01:01:32.987Z"
   },
   {
    "duration": 361,
    "start_time": "2022-01-03T01:01:40.429Z"
   },
   {
    "duration": 247,
    "start_time": "2022-01-03T01:02:15.507Z"
   },
   {
    "duration": 23,
    "start_time": "2022-01-03T01:02:32.986Z"
   },
   {
    "duration": 19,
    "start_time": "2022-01-03T01:03:55.549Z"
   },
   {
    "duration": 10,
    "start_time": "2022-01-03T01:05:38.571Z"
   },
   {
    "duration": 5,
    "start_time": "2022-01-03T01:06:22.179Z"
   },
   {
    "duration": 251,
    "start_time": "2022-01-03T01:06:43.027Z"
   },
   {
    "duration": 20,
    "start_time": "2022-01-03T01:06:55.756Z"
   },
   {
    "duration": 21,
    "start_time": "2022-01-03T01:07:17.076Z"
   },
   {
    "duration": 240,
    "start_time": "2022-01-03T01:10:44.058Z"
   },
   {
    "duration": 21,
    "start_time": "2022-01-03T01:10:55.256Z"
   },
   {
    "duration": 21,
    "start_time": "2022-01-03T01:11:06.712Z"
   },
   {
    "duration": 9,
    "start_time": "2022-01-03T01:11:13.322Z"
   },
   {
    "duration": 10,
    "start_time": "2022-01-03T01:11:23.158Z"
   },
   {
    "duration": 5,
    "start_time": "2022-01-03T01:11:44.908Z"
   },
   {
    "duration": 5,
    "start_time": "2022-01-03T01:14:10.299Z"
   },
   {
    "duration": 6,
    "start_time": "2022-01-03T01:14:20.058Z"
   },
   {
    "duration": 22,
    "start_time": "2022-01-03T01:14:43.908Z"
   },
   {
    "duration": 10,
    "start_time": "2022-01-03T01:14:48.999Z"
   },
   {
    "duration": 7,
    "start_time": "2022-01-03T01:14:58.069Z"
   },
   {
    "duration": 10,
    "start_time": "2022-01-03T01:15:03.576Z"
   },
   {
    "duration": 2,
    "start_time": "2022-01-03T01:15:27.879Z"
   },
   {
    "duration": 45,
    "start_time": "2022-01-03T01:15:27.981Z"
   },
   {
    "duration": 10,
    "start_time": "2022-01-03T01:15:28.366Z"
   },
   {
    "duration": 5,
    "start_time": "2022-01-03T01:15:28.759Z"
   },
   {
    "duration": 7,
    "start_time": "2022-01-03T01:15:29.166Z"
   },
   {
    "duration": 11,
    "start_time": "2022-01-03T01:15:29.386Z"
   },
   {
    "duration": 10,
    "start_time": "2022-01-03T01:15:30.046Z"
   },
   {
    "duration": 4,
    "start_time": "2022-01-03T01:15:30.249Z"
   },
   {
    "duration": 4,
    "start_time": "2022-01-03T01:15:30.837Z"
   },
   {
    "duration": 8,
    "start_time": "2022-01-03T01:15:31.192Z"
   },
   {
    "duration": 8,
    "start_time": "2022-01-03T01:15:31.486Z"
   },
   {
    "duration": 7,
    "start_time": "2022-01-03T01:15:31.907Z"
   },
   {
    "duration": 8,
    "start_time": "2022-01-03T01:15:32.211Z"
   },
   {
    "duration": 7,
    "start_time": "2022-01-03T01:15:32.668Z"
   },
   {
    "duration": 8,
    "start_time": "2022-01-03T01:15:33.379Z"
   },
   {
    "duration": 7,
    "start_time": "2022-01-03T01:15:51.508Z"
   },
   {
    "duration": 4,
    "start_time": "2022-01-03T01:16:33.096Z"
   },
   {
    "duration": 12,
    "start_time": "2022-01-03T01:16:57.265Z"
   },
   {
    "duration": 10,
    "start_time": "2022-01-03T01:17:08.679Z"
   },
   {
    "duration": 10,
    "start_time": "2022-01-03T01:17:14.305Z"
   },
   {
    "duration": 5,
    "start_time": "2022-01-03T01:20:03.025Z"
   },
   {
    "duration": 10,
    "start_time": "2022-01-03T01:20:46.795Z"
   },
   {
    "duration": 5,
    "start_time": "2022-01-03T01:24:32.493Z"
   },
   {
    "duration": 19,
    "start_time": "2022-01-03T01:24:39.784Z"
   },
   {
    "duration": 261,
    "start_time": "2022-01-03T01:25:07.633Z"
   },
   {
    "duration": 262,
    "start_time": "2022-01-03T01:25:19.828Z"
   },
   {
    "duration": 21,
    "start_time": "2022-01-03T01:26:09.069Z"
   },
   {
    "duration": 22,
    "start_time": "2022-01-03T01:26:29.947Z"
   },
   {
    "duration": 169,
    "start_time": "2022-01-03T01:26:36.405Z"
   },
   {
    "duration": 272,
    "start_time": "2022-01-03T01:26:42.345Z"
   },
   {
    "duration": 916,
    "start_time": "2022-01-03T01:27:16.553Z"
   },
   {
    "duration": 4,
    "start_time": "2022-01-03T01:28:04.605Z"
   },
   {
    "duration": 2,
    "start_time": "2022-01-03T01:28:09.687Z"
   },
   {
    "duration": 45,
    "start_time": "2022-01-03T01:28:09.823Z"
   },
   {
    "duration": 10,
    "start_time": "2022-01-03T01:28:10.325Z"
   },
   {
    "duration": 5,
    "start_time": "2022-01-03T01:28:10.639Z"
   },
   {
    "duration": 6,
    "start_time": "2022-01-03T01:28:10.973Z"
   },
   {
    "duration": 10,
    "start_time": "2022-01-03T01:28:11.148Z"
   },
   {
    "duration": 9,
    "start_time": "2022-01-03T01:28:11.508Z"
   },
   {
    "duration": 4,
    "start_time": "2022-01-03T01:28:11.688Z"
   },
   {
    "duration": 5,
    "start_time": "2022-01-03T01:28:12.078Z"
   },
   {
    "duration": 8,
    "start_time": "2022-01-03T01:28:12.433Z"
   },
   {
    "duration": 7,
    "start_time": "2022-01-03T01:28:12.679Z"
   },
   {
    "duration": 8,
    "start_time": "2022-01-03T01:28:13.070Z"
   },
   {
    "duration": 8,
    "start_time": "2022-01-03T01:28:13.383Z"
   },
   {
    "duration": 7,
    "start_time": "2022-01-03T01:28:13.795Z"
   },
   {
    "duration": 4,
    "start_time": "2022-01-03T01:28:14.226Z"
   },
   {
    "duration": 262,
    "start_time": "2022-01-03T01:29:18.413Z"
   },
   {
    "duration": 6,
    "start_time": "2022-01-03T01:29:26.945Z"
   },
   {
    "duration": 7,
    "start_time": "2022-01-03T01:29:30.435Z"
   },
   {
    "duration": 1901,
    "start_time": "2022-01-03T01:29:42.693Z"
   },
   {
    "duration": 6,
    "start_time": "2022-01-03T01:29:48.923Z"
   },
   {
    "duration": 22,
    "start_time": "2022-01-03T01:33:56.858Z"
   },
   {
    "duration": 22,
    "start_time": "2022-01-03T01:35:21.399Z"
   },
   {
    "duration": 23,
    "start_time": "2022-01-03T01:35:44.388Z"
   },
   {
    "duration": 263,
    "start_time": "2022-01-03T01:36:11.265Z"
   },
   {
    "duration": 252,
    "start_time": "2022-01-03T01:36:21.176Z"
   },
   {
    "duration": 26,
    "start_time": "2022-01-03T01:36:31.248Z"
   },
   {
    "duration": 26,
    "start_time": "2022-01-03T01:37:12.365Z"
   },
   {
    "duration": 24,
    "start_time": "2022-01-03T01:37:42.505Z"
   },
   {
    "duration": 251,
    "start_time": "2022-01-03T01:41:12.983Z"
   },
   {
    "duration": 23,
    "start_time": "2022-01-03T01:41:50.743Z"
   },
   {
    "duration": 4,
    "start_time": "2022-01-03T01:41:58.224Z"
   },
   {
    "duration": 4,
    "start_time": "2022-01-03T01:43:04.515Z"
   },
   {
    "duration": 4,
    "start_time": "2022-01-03T01:43:35.235Z"
   },
   {
    "duration": 3,
    "start_time": "2022-01-03T01:43:55.541Z"
   },
   {
    "duration": 13,
    "start_time": "2022-01-03T01:47:47.305Z"
   },
   {
    "duration": 12,
    "start_time": "2022-01-03T01:47:56.196Z"
   },
   {
    "duration": 11,
    "start_time": "2022-01-03T01:52:37.865Z"
   },
   {
    "duration": 586,
    "start_time": "2022-01-03T01:53:39.916Z"
   },
   {
    "duration": 8,
    "start_time": "2022-01-03T01:53:52.855Z"
   },
   {
    "duration": 105,
    "start_time": "2022-01-03T01:54:33.736Z"
   },
   {
    "duration": 11,
    "start_time": "2022-01-03T01:54:51.366Z"
   },
   {
    "duration": 13,
    "start_time": "2022-01-03T01:55:02.124Z"
   },
   {
    "duration": 12,
    "start_time": "2022-01-03T01:57:48.385Z"
   },
   {
    "duration": 7,
    "start_time": "2022-01-03T01:58:14.119Z"
   },
   {
    "duration": 9,
    "start_time": "2022-01-03T01:58:19.224Z"
   },
   {
    "duration": 3,
    "start_time": "2022-01-03T01:58:25.714Z"
   },
   {
    "duration": 47,
    "start_time": "2022-01-03T01:58:25.899Z"
   },
   {
    "duration": 9,
    "start_time": "2022-01-03T01:58:26.199Z"
   },
   {
    "duration": 4,
    "start_time": "2022-01-03T01:58:26.479Z"
   },
   {
    "duration": 6,
    "start_time": "2022-01-03T01:58:26.849Z"
   },
   {
    "duration": 10,
    "start_time": "2022-01-03T01:58:27.009Z"
   },
   {
    "duration": 8,
    "start_time": "2022-01-03T01:58:27.339Z"
   },
   {
    "duration": 4,
    "start_time": "2022-01-03T01:58:27.539Z"
   },
   {
    "duration": 4,
    "start_time": "2022-01-03T01:58:27.899Z"
   },
   {
    "duration": 7,
    "start_time": "2022-01-03T01:58:28.294Z"
   },
   {
    "duration": 8,
    "start_time": "2022-01-03T01:58:28.494Z"
   },
   {
    "duration": 7,
    "start_time": "2022-01-03T01:58:28.946Z"
   },
   {
    "duration": 8,
    "start_time": "2022-01-03T01:58:29.129Z"
   },
   {
    "duration": 7,
    "start_time": "2022-01-03T01:58:29.586Z"
   },
   {
    "duration": 4,
    "start_time": "2022-01-03T01:58:29.924Z"
   },
   {
    "duration": 31,
    "start_time": "2022-01-03T01:58:30.157Z"
   },
   {
    "duration": 4,
    "start_time": "2022-01-03T01:58:30.366Z"
   },
   {
    "duration": 3,
    "start_time": "2022-01-03T01:58:30.574Z"
   },
   {
    "duration": 3,
    "start_time": "2022-01-03T01:58:30.769Z"
   },
   {
    "duration": 14,
    "start_time": "2022-01-03T01:58:31.715Z"
   },
   {
    "duration": 58,
    "start_time": "2022-01-03T01:58:33.245Z"
   },
   {
    "duration": 12,
    "start_time": "2022-01-03T01:58:33.558Z"
   },
   {
    "duration": 14,
    "start_time": "2022-01-03T01:58:36.076Z"
   },
   {
    "duration": 6,
    "start_time": "2022-01-03T01:59:34.182Z"
   },
   {
    "duration": 285,
    "start_time": "2022-01-03T02:00:30.529Z"
   },
   {
    "duration": 222,
    "start_time": "2022-01-03T02:00:36.124Z"
   },
   {
    "duration": 228,
    "start_time": "2022-01-03T02:00:45.588Z"
   },
   {
    "duration": 7,
    "start_time": "2022-01-03T02:00:56.076Z"
   },
   {
    "duration": 12,
    "start_time": "2022-01-03T02:01:04.636Z"
   },
   {
    "duration": 9,
    "start_time": "2022-01-03T02:01:48.943Z"
   },
   {
    "duration": 5,
    "start_time": "2022-01-03T02:02:20.676Z"
   },
   {
    "duration": 12,
    "start_time": "2022-01-03T02:02:31.768Z"
   },
   {
    "duration": 4,
    "start_time": "2022-01-03T02:02:48.436Z"
   },
   {
    "duration": 8,
    "start_time": "2022-01-03T02:04:58.116Z"
   },
   {
    "duration": 544,
    "start_time": "2022-01-03T02:09:01.346Z"
   },
   {
    "duration": 11,
    "start_time": "2022-01-03T02:09:31.924Z"
   },
   {
    "duration": 21,
    "start_time": "2022-01-03T02:10:29.736Z"
   },
   {
    "duration": 10,
    "start_time": "2022-01-03T02:10:45.126Z"
   },
   {
    "duration": 338,
    "start_time": "2022-01-03T02:10:48.734Z"
   },
   {
    "duration": 316,
    "start_time": "2022-01-03T02:11:04.176Z"
   },
   {
    "duration": 2,
    "start_time": "2022-01-03T02:11:22.553Z"
   },
   {
    "duration": 44,
    "start_time": "2022-01-03T02:11:22.719Z"
   },
   {
    "duration": 11,
    "start_time": "2022-01-03T02:11:23.129Z"
   },
   {
    "duration": 5,
    "start_time": "2022-01-03T02:11:23.454Z"
   },
   {
    "duration": 6,
    "start_time": "2022-01-03T02:11:23.829Z"
   },
   {
    "duration": 10,
    "start_time": "2022-01-03T02:11:24.005Z"
   },
   {
    "duration": 10,
    "start_time": "2022-01-03T02:11:24.364Z"
   },
   {
    "duration": 4,
    "start_time": "2022-01-03T02:11:24.564Z"
   },
   {
    "duration": 4,
    "start_time": "2022-01-03T02:11:24.929Z"
   },
   {
    "duration": 8,
    "start_time": "2022-01-03T02:11:25.316Z"
   },
   {
    "duration": 8,
    "start_time": "2022-01-03T02:11:25.520Z"
   },
   {
    "duration": 7,
    "start_time": "2022-01-03T02:11:25.903Z"
   },
   {
    "duration": 8,
    "start_time": "2022-01-03T02:11:26.075Z"
   },
   {
    "duration": 7,
    "start_time": "2022-01-03T02:11:26.516Z"
   },
   {
    "duration": 4,
    "start_time": "2022-01-03T02:11:27.184Z"
   },
   {
    "duration": 23,
    "start_time": "2022-01-03T02:11:27.344Z"
   },
   {
    "duration": 4,
    "start_time": "2022-01-03T02:11:27.614Z"
   },
   {
    "duration": 3,
    "start_time": "2022-01-03T02:11:27.839Z"
   },
   {
    "duration": 3,
    "start_time": "2022-01-03T02:11:28.285Z"
   },
   {
    "duration": 13,
    "start_time": "2022-01-03T02:11:29.024Z"
   },
   {
    "duration": 61,
    "start_time": "2022-01-03T02:11:30.246Z"
   },
   {
    "duration": 12,
    "start_time": "2022-01-03T02:11:30.574Z"
   },
   {
    "duration": 5,
    "start_time": "2022-01-03T02:11:32.346Z"
   },
   {
    "duration": 8,
    "start_time": "2022-01-03T02:11:32.856Z"
   },
   {
    "duration": 9,
    "start_time": "2022-01-03T02:12:28.826Z"
   },
   {
    "duration": 248,
    "start_time": "2022-01-03T02:12:44.514Z"
   },
   {
    "duration": 235,
    "start_time": "2022-01-03T02:13:28.746Z"
   },
   {
    "duration": 261,
    "start_time": "2022-01-03T02:13:49.817Z"
   },
   {
    "duration": 272,
    "start_time": "2022-01-03T02:14:03.315Z"
   },
   {
    "duration": 12,
    "start_time": "2022-01-03T02:14:25.576Z"
   },
   {
    "duration": 249,
    "start_time": "2022-01-03T02:14:43.116Z"
   },
   {
    "duration": 12,
    "start_time": "2022-01-03T02:14:49.704Z"
   },
   {
    "duration": 8,
    "start_time": "2022-01-03T02:15:31.040Z"
   },
   {
    "duration": 6,
    "start_time": "2022-01-03T02:16:10.880Z"
   },
   {
    "duration": 20,
    "start_time": "2022-01-03T02:16:45.793Z"
   },
   {
    "duration": 9,
    "start_time": "2022-01-03T02:18:51.410Z"
   },
   {
    "duration": 9,
    "start_time": "2022-01-03T02:19:10.950Z"
   },
   {
    "duration": 7,
    "start_time": "2022-01-03T02:20:12.370Z"
   },
   {
    "duration": 6,
    "start_time": "2022-01-03T02:20:27.178Z"
   },
   {
    "duration": 5,
    "start_time": "2022-01-03T02:20:33.860Z"
   },
   {
    "duration": 5,
    "start_time": "2022-01-03T02:20:34.750Z"
   },
   {
    "duration": 377,
    "start_time": "2022-01-03T02:21:01.518Z"
   },
   {
    "duration": 9,
    "start_time": "2022-01-03T02:21:08.647Z"
   },
   {
    "duration": 6,
    "start_time": "2022-01-03T02:21:15.650Z"
   },
   {
    "duration": 10,
    "start_time": "2022-01-03T02:21:18.348Z"
   },
   {
    "duration": 6,
    "start_time": "2022-01-03T02:21:32.158Z"
   },
   {
    "duration": 5,
    "start_time": "2022-01-03T02:21:39.553Z"
   },
   {
    "duration": 10,
    "start_time": "2022-01-03T02:21:45.221Z"
   },
   {
    "duration": 5,
    "start_time": "2022-01-03T02:21:52.440Z"
   },
   {
    "duration": 654,
    "start_time": "2022-01-03T08:32:27.331Z"
   },
   {
    "duration": 56,
    "start_time": "2022-01-03T08:32:27.987Z"
   },
   {
    "duration": 12,
    "start_time": "2022-01-03T08:32:28.111Z"
   },
   {
    "duration": 6,
    "start_time": "2022-01-03T08:32:28.516Z"
   },
   {
    "duration": 8,
    "start_time": "2022-01-03T08:32:28.875Z"
   },
   {
    "duration": 11,
    "start_time": "2022-01-03T08:32:29.019Z"
   },
   {
    "duration": 11,
    "start_time": "2022-01-03T08:32:29.430Z"
   },
   {
    "duration": 4,
    "start_time": "2022-01-03T08:32:29.614Z"
   },
   {
    "duration": 4,
    "start_time": "2022-01-03T08:32:29.972Z"
   },
   {
    "duration": 14,
    "start_time": "2022-01-03T08:32:30.338Z"
   },
   {
    "duration": 10,
    "start_time": "2022-01-03T08:32:30.699Z"
   },
   {
    "duration": 8,
    "start_time": "2022-01-03T08:32:31.091Z"
   },
   {
    "duration": 9,
    "start_time": "2022-01-03T08:32:31.304Z"
   },
   {
    "duration": 9,
    "start_time": "2022-01-03T08:32:31.690Z"
   },
   {
    "duration": 4,
    "start_time": "2022-01-03T08:32:32.140Z"
   },
   {
    "duration": 24,
    "start_time": "2022-01-03T08:32:32.376Z"
   },
   {
    "duration": 4,
    "start_time": "2022-01-03T08:32:32.461Z"
   },
   {
    "duration": 3,
    "start_time": "2022-01-03T08:32:32.686Z"
   },
   {
    "duration": 3,
    "start_time": "2022-01-03T08:32:32.866Z"
   },
   {
    "duration": 14,
    "start_time": "2022-01-03T08:32:33.269Z"
   },
   {
    "duration": 70,
    "start_time": "2022-01-03T08:32:33.893Z"
   },
   {
    "duration": 13,
    "start_time": "2022-01-03T08:32:34.304Z"
   },
   {
    "duration": 5,
    "start_time": "2022-01-03T08:32:35.011Z"
   },
   {
    "duration": 8,
    "start_time": "2022-01-03T08:32:35.246Z"
   },
   {
    "duration": 9,
    "start_time": "2022-01-03T08:32:35.962Z"
   },
   {
    "duration": 5,
    "start_time": "2022-01-03T08:32:36.304Z"
   },
   {
    "duration": 6,
    "start_time": "2022-01-03T08:32:36.535Z"
   },
   {
    "duration": 311,
    "start_time": "2022-01-03T08:32:36.833Z"
   },
   {
    "duration": 277,
    "start_time": "2022-01-03T08:33:00.724Z"
   },
   {
    "duration": 244,
    "start_time": "2022-01-03T08:33:23.799Z"
   },
   {
    "duration": 9,
    "start_time": "2022-01-03T08:33:51.752Z"
   },
   {
    "duration": 246,
    "start_time": "2022-01-03T08:35:15.459Z"
   },
   {
    "duration": 283,
    "start_time": "2022-01-03T08:36:53.994Z"
   },
   {
    "duration": 6,
    "start_time": "2022-01-03T08:37:09.204Z"
   },
   {
    "duration": 10,
    "start_time": "2022-01-03T08:37:09.472Z"
   },
   {
    "duration": 3,
    "start_time": "2022-01-03T08:37:13.750Z"
   },
   {
    "duration": 46,
    "start_time": "2022-01-03T08:37:13.876Z"
   },
   {
    "duration": 9,
    "start_time": "2022-01-03T08:37:14.242Z"
   },
   {
    "duration": 5,
    "start_time": "2022-01-03T08:37:14.564Z"
   },
   {
    "duration": 6,
    "start_time": "2022-01-03T08:37:14.959Z"
   },
   {
    "duration": 11,
    "start_time": "2022-01-03T08:37:15.102Z"
   },
   {
    "duration": 9,
    "start_time": "2022-01-03T08:37:15.549Z"
   },
   {
    "duration": 4,
    "start_time": "2022-01-03T08:37:15.702Z"
   },
   {
    "duration": 4,
    "start_time": "2022-01-03T08:37:16.110Z"
   },
   {
    "duration": 7,
    "start_time": "2022-01-03T08:37:16.515Z"
   },
   {
    "duration": 8,
    "start_time": "2022-01-03T08:37:16.718Z"
   },
   {
    "duration": 7,
    "start_time": "2022-01-03T08:37:17.683Z"
   },
   {
    "duration": 7,
    "start_time": "2022-01-03T08:37:18.071Z"
   },
   {
    "duration": 7,
    "start_time": "2022-01-03T08:37:18.879Z"
   },
   {
    "duration": 4,
    "start_time": "2022-01-03T08:37:19.550Z"
   },
   {
    "duration": 23,
    "start_time": "2022-01-03T08:37:20.280Z"
   },
   {
    "duration": 3,
    "start_time": "2022-01-03T08:37:20.861Z"
   },
   {
    "duration": 4,
    "start_time": "2022-01-03T08:37:21.303Z"
   },
   {
    "duration": 3,
    "start_time": "2022-01-03T08:37:21.882Z"
   },
   {
    "duration": 12,
    "start_time": "2022-01-03T08:37:22.761Z"
   },
   {
    "duration": 61,
    "start_time": "2022-01-03T08:37:24.212Z"
   },
   {
    "duration": 12,
    "start_time": "2022-01-03T08:37:26.087Z"
   },
   {
    "duration": 6,
    "start_time": "2022-01-03T08:37:28.684Z"
   },
   {
    "duration": 8,
    "start_time": "2022-01-03T08:37:29.453Z"
   },
   {
    "duration": 11,
    "start_time": "2022-01-03T08:37:30.621Z"
   },
   {
    "duration": 275,
    "start_time": "2022-01-03T08:37:31.141Z"
   },
   {
    "duration": 6,
    "start_time": "2022-01-03T08:38:25.670Z"
   },
   {
    "duration": 6,
    "start_time": "2022-01-03T08:38:28.772Z"
   },
   {
    "duration": 10,
    "start_time": "2022-01-03T08:38:30.351Z"
   },
   {
    "duration": 5,
    "start_time": "2022-01-03T08:41:37.434Z"
   },
   {
    "duration": 18,
    "start_time": "2022-01-03T08:41:59.423Z"
   },
   {
    "duration": 776,
    "start_time": "2022-01-03T13:58:45.561Z"
   },
   {
    "duration": 75,
    "start_time": "2022-01-03T13:58:46.339Z"
   },
   {
    "duration": 16,
    "start_time": "2022-01-03T13:58:46.549Z"
   },
   {
    "duration": 7,
    "start_time": "2022-01-03T13:58:47.029Z"
   },
   {
    "duration": 10,
    "start_time": "2022-01-03T13:58:47.430Z"
   },
   {
    "duration": 15,
    "start_time": "2022-01-03T13:58:47.579Z"
   },
   {
    "duration": 14,
    "start_time": "2022-01-03T13:58:47.990Z"
   },
   {
    "duration": 5,
    "start_time": "2022-01-03T13:58:48.197Z"
   },
   {
    "duration": 6,
    "start_time": "2022-01-03T13:58:48.648Z"
   },
   {
    "duration": 16,
    "start_time": "2022-01-03T13:58:49.161Z"
   },
   {
    "duration": 11,
    "start_time": "2022-01-03T13:58:49.364Z"
   },
   {
    "duration": 10,
    "start_time": "2022-01-03T13:58:49.804Z"
   },
   {
    "duration": 11,
    "start_time": "2022-01-03T13:58:49.973Z"
   },
   {
    "duration": 10,
    "start_time": "2022-01-03T13:58:50.661Z"
   },
   {
    "duration": 6,
    "start_time": "2022-01-03T13:58:51.160Z"
   },
   {
    "duration": 39,
    "start_time": "2022-01-03T13:58:51.524Z"
   },
   {
    "duration": 6,
    "start_time": "2022-01-03T13:58:51.754Z"
   },
   {
    "duration": 5,
    "start_time": "2022-01-03T13:58:52.069Z"
   },
   {
    "duration": 6,
    "start_time": "2022-01-03T13:58:52.278Z"
   },
   {
    "duration": 20,
    "start_time": "2022-01-03T13:58:52.814Z"
   },
   {
    "duration": 94,
    "start_time": "2022-01-03T13:58:54.198Z"
   },
   {
    "duration": 16,
    "start_time": "2022-01-03T13:58:54.731Z"
   },
   {
    "duration": 6,
    "start_time": "2022-01-03T13:58:56.173Z"
   },
   {
    "duration": 12,
    "start_time": "2022-01-03T13:58:57.150Z"
   },
   {
    "duration": 14,
    "start_time": "2022-01-03T13:58:58.098Z"
   },
   {
    "duration": 7,
    "start_time": "2022-01-03T13:58:58.566Z"
   },
   {
    "duration": 8,
    "start_time": "2022-01-03T13:58:59.093Z"
   },
   {
    "duration": 39,
    "start_time": "2022-01-03T13:58:59.929Z"
   },
   {
    "duration": 6452,
    "start_time": "2022-01-03T13:59:20.376Z"
   },
   {
    "duration": 4,
    "start_time": "2022-01-03T14:54:33.576Z"
   },
   {
    "duration": 63,
    "start_time": "2022-01-03T14:54:34.151Z"
   },
   {
    "duration": 15,
    "start_time": "2022-01-03T14:54:35.867Z"
   },
   {
    "duration": 7,
    "start_time": "2022-01-03T14:54:37.076Z"
   },
   {
    "duration": 8,
    "start_time": "2022-01-03T14:54:39.576Z"
   },
   {
    "duration": 15,
    "start_time": "2022-01-03T14:54:40.381Z"
   },
   {
    "duration": 13,
    "start_time": "2022-01-03T14:54:43.096Z"
   },
   {
    "duration": 5,
    "start_time": "2022-01-03T14:54:44.396Z"
   },
   {
    "duration": 6,
    "start_time": "2022-01-03T14:54:50.713Z"
   },
   {
    "duration": 11,
    "start_time": "2022-01-03T14:54:52.198Z"
   },
   {
    "duration": 11,
    "start_time": "2022-01-03T14:54:52.760Z"
   },
   {
    "duration": 11,
    "start_time": "2022-01-03T14:54:53.867Z"
   },
   {
    "duration": 12,
    "start_time": "2022-01-03T14:54:54.339Z"
   },
   {
    "duration": 10,
    "start_time": "2022-01-03T14:54:55.465Z"
   },
   {
    "duration": 6,
    "start_time": "2022-01-03T14:54:56.455Z"
   },
   {
    "duration": 39,
    "start_time": "2022-01-03T14:54:56.891Z"
   },
   {
    "duration": 5,
    "start_time": "2022-01-03T14:54:57.548Z"
   },
   {
    "duration": 4,
    "start_time": "2022-01-03T14:54:58.106Z"
   },
   {
    "duration": 4,
    "start_time": "2022-01-03T14:54:58.676Z"
   },
   {
    "duration": 28,
    "start_time": "2022-01-03T14:54:59.583Z"
   },
   {
    "duration": 6982,
    "start_time": "2022-01-03T15:01:12.247Z"
   },
   {
    "duration": 26,
    "start_time": "2022-01-03T15:01:24.948Z"
   },
   {
    "duration": 12,
    "start_time": "2022-01-03T15:01:31.619Z"
   },
   {
    "duration": 3,
    "start_time": "2022-01-03T15:01:43.406Z"
   },
   {
    "duration": 61,
    "start_time": "2022-01-03T15:01:43.582Z"
   },
   {
    "duration": 16,
    "start_time": "2022-01-03T15:01:43.984Z"
   },
   {
    "duration": 7,
    "start_time": "2022-01-03T15:01:44.332Z"
   },
   {
    "duration": 8,
    "start_time": "2022-01-03T15:01:44.816Z"
   },
   {
    "duration": 16,
    "start_time": "2022-01-03T15:01:44.977Z"
   },
   {
    "duration": 12,
    "start_time": "2022-01-03T15:01:45.326Z"
   },
   {
    "duration": 6,
    "start_time": "2022-01-03T15:01:45.516Z"
   },
   {
    "duration": 6,
    "start_time": "2022-01-03T15:01:45.871Z"
   },
   {
    "duration": 11,
    "start_time": "2022-01-03T15:01:46.281Z"
   },
   {
    "duration": 12,
    "start_time": "2022-01-03T15:01:46.466Z"
   },
   {
    "duration": 12,
    "start_time": "2022-01-03T15:01:47.096Z"
   },
   {
    "duration": 12,
    "start_time": "2022-01-03T15:01:47.316Z"
   },
   {
    "duration": 11,
    "start_time": "2022-01-03T15:01:47.785Z"
   },
   {
    "duration": 6,
    "start_time": "2022-01-03T15:01:48.233Z"
   },
   {
    "duration": 40,
    "start_time": "2022-01-03T15:01:48.396Z"
   },
   {
    "duration": 5,
    "start_time": "2022-01-03T15:01:48.621Z"
   },
   {
    "duration": 4,
    "start_time": "2022-01-03T15:01:48.859Z"
   },
   {
    "duration": 5,
    "start_time": "2022-01-03T15:01:49.069Z"
   },
   {
    "duration": 20,
    "start_time": "2022-01-03T15:01:49.451Z"
   },
   {
    "duration": 111,
    "start_time": "2022-01-03T15:01:50.086Z"
   },
   {
    "duration": 16,
    "start_time": "2022-01-03T15:01:50.548Z"
   },
   {
    "duration": 6,
    "start_time": "2022-01-03T15:01:51.648Z"
   },
   {
    "duration": 13,
    "start_time": "2022-01-03T15:01:51.805Z"
   },
   {
    "duration": 14,
    "start_time": "2022-01-03T15:01:52.540Z"
   },
   {
    "duration": 6,
    "start_time": "2022-01-03T15:01:52.783Z"
   },
   {
    "duration": 8,
    "start_time": "2022-01-03T15:01:53.026Z"
   },
   {
    "duration": 14,
    "start_time": "2022-01-03T15:01:53.311Z"
   },
   {
    "duration": 4,
    "start_time": "2022-01-03T16:43:20.941Z"
   },
   {
    "duration": 64,
    "start_time": "2022-01-03T16:43:21.191Z"
   },
   {
    "duration": 14,
    "start_time": "2022-01-03T16:43:21.451Z"
   },
   {
    "duration": 7,
    "start_time": "2022-01-03T16:43:21.831Z"
   },
   {
    "duration": 8,
    "start_time": "2022-01-03T16:43:22.221Z"
   },
   {
    "duration": 14,
    "start_time": "2022-01-03T16:43:22.396Z"
   },
   {
    "duration": 12,
    "start_time": "2022-01-03T16:43:22.784Z"
   },
   {
    "duration": 6,
    "start_time": "2022-01-03T16:43:22.981Z"
   },
   {
    "duration": 6,
    "start_time": "2022-01-03T16:43:23.386Z"
   },
   {
    "duration": 11,
    "start_time": "2022-01-03T16:43:23.756Z"
   },
   {
    "duration": 11,
    "start_time": "2022-01-03T16:43:23.961Z"
   },
   {
    "duration": 12,
    "start_time": "2022-01-03T16:43:24.398Z"
   },
   {
    "duration": 11,
    "start_time": "2022-01-03T16:43:24.578Z"
   },
   {
    "duration": 9,
    "start_time": "2022-01-03T16:43:24.998Z"
   },
   {
    "duration": 6,
    "start_time": "2022-01-03T16:43:25.441Z"
   },
   {
    "duration": 39,
    "start_time": "2022-01-03T16:43:25.681Z"
   },
   {
    "duration": 5,
    "start_time": "2022-01-03T16:43:25.863Z"
   },
   {
    "duration": 5,
    "start_time": "2022-01-03T16:43:26.086Z"
   },
   {
    "duration": 5,
    "start_time": "2022-01-03T16:43:26.291Z"
   },
   {
    "duration": 21,
    "start_time": "2022-01-03T16:43:26.708Z"
   },
   {
    "duration": 99,
    "start_time": "2022-01-03T16:43:28.368Z"
   },
   {
    "duration": 16,
    "start_time": "2022-01-03T16:43:28.706Z"
   },
   {
    "duration": 6,
    "start_time": "2022-01-03T16:43:30.188Z"
   },
   {
    "duration": 15,
    "start_time": "2022-01-03T16:43:30.552Z"
   },
   {
    "duration": 15,
    "start_time": "2022-01-03T16:43:31.208Z"
   },
   {
    "duration": 6,
    "start_time": "2022-01-03T16:43:31.469Z"
   },
   {
    "duration": 8,
    "start_time": "2022-01-03T16:43:31.866Z"
   },
   {
    "duration": 15,
    "start_time": "2022-01-03T16:43:32.257Z"
   },
   {
    "duration": 7,
    "start_time": "2022-01-03T16:50:01.646Z"
   },
   {
    "duration": 14,
    "start_time": "2022-01-03T16:50:10.288Z"
   },
   {
    "duration": 274,
    "start_time": "2022-01-03T16:51:12.335Z"
   },
   {
    "duration": 283,
    "start_time": "2022-01-03T16:51:31.605Z"
   },
   {
    "duration": 268,
    "start_time": "2022-01-03T16:52:13.292Z"
   },
   {
    "duration": 274,
    "start_time": "2022-01-03T16:52:23.849Z"
   },
   {
    "duration": 293,
    "start_time": "2022-01-03T16:53:07.072Z"
   },
   {
    "duration": 284,
    "start_time": "2022-01-03T16:55:45.155Z"
   },
   {
    "duration": 278,
    "start_time": "2022-01-03T16:56:31.854Z"
   },
   {
    "duration": 15,
    "start_time": "2022-01-03T16:57:05.723Z"
   },
   {
    "duration": 3,
    "start_time": "2022-01-03T16:58:10.494Z"
   },
   {
    "duration": 894,
    "start_time": "2022-01-03T16:58:10.630Z"
   },
   {
    "duration": 14,
    "start_time": "2022-01-03T16:58:11.526Z"
   },
   {
    "duration": 8,
    "start_time": "2022-01-03T16:58:11.543Z"
   },
   {
    "duration": 8,
    "start_time": "2022-01-03T16:58:12.025Z"
   },
   {
    "duration": 14,
    "start_time": "2022-01-03T16:58:12.247Z"
   },
   {
    "duration": 12,
    "start_time": "2022-01-03T16:58:12.669Z"
   },
   {
    "duration": 6,
    "start_time": "2022-01-03T16:58:12.890Z"
   },
   {
    "duration": 6,
    "start_time": "2022-01-03T16:58:13.258Z"
   },
   {
    "duration": 11,
    "start_time": "2022-01-03T16:58:13.913Z"
   },
   {
    "duration": 11,
    "start_time": "2022-01-03T16:58:14.101Z"
   },
   {
    "duration": 10,
    "start_time": "2022-01-03T16:58:14.645Z"
   },
   {
    "duration": 11,
    "start_time": "2022-01-03T16:58:14.891Z"
   },
   {
    "duration": 10,
    "start_time": "2022-01-03T16:58:15.536Z"
   },
   {
    "duration": 6,
    "start_time": "2022-01-03T16:58:16.543Z"
   },
   {
    "duration": 41,
    "start_time": "2022-01-03T16:58:17.285Z"
   },
   {
    "duration": 5,
    "start_time": "2022-01-03T16:58:17.559Z"
   },
   {
    "duration": 5,
    "start_time": "2022-01-03T16:58:18.117Z"
   },
   {
    "duration": 4,
    "start_time": "2022-01-03T16:58:19.493Z"
   },
   {
    "duration": 21,
    "start_time": "2022-01-03T16:58:20.065Z"
   },
   {
    "duration": 132,
    "start_time": "2022-01-03T16:58:23.985Z"
   },
   {
    "duration": 16,
    "start_time": "2022-01-03T16:58:25.500Z"
   },
   {
    "duration": 7,
    "start_time": "2022-01-03T16:58:31.440Z"
   },
   {
    "duration": 13,
    "start_time": "2022-01-03T16:58:31.940Z"
   },
   {
    "duration": 16,
    "start_time": "2022-01-03T16:58:40.505Z"
   },
   {
    "duration": 9,
    "start_time": "2022-01-03T16:59:44.125Z"
   },
   {
    "duration": 14,
    "start_time": "2022-01-03T16:59:50.068Z"
   },
   {
    "duration": 39,
    "start_time": "2022-01-03T17:00:47.211Z"
   },
   {
    "duration": 18,
    "start_time": "2022-01-03T17:01:08.789Z"
   },
   {
    "duration": 20,
    "start_time": "2022-01-03T17:01:39.969Z"
   },
   {
    "duration": 30,
    "start_time": "2022-01-03T17:02:51.219Z"
   },
   {
    "duration": 11,
    "start_time": "2022-01-03T17:03:53.274Z"
   },
   {
    "duration": 28,
    "start_time": "2022-01-03T17:04:23.746Z"
   },
   {
    "duration": 30,
    "start_time": "2022-01-03T17:05:22.316Z"
   },
   {
    "duration": 7,
    "start_time": "2022-01-03T17:08:51.897Z"
   },
   {
    "duration": 7,
    "start_time": "2022-01-03T17:08:53.656Z"
   },
   {
    "duration": 14,
    "start_time": "2022-01-03T17:09:01.823Z"
   },
   {
    "duration": 16,
    "start_time": "2022-01-03T17:09:04.315Z"
   },
   {
    "duration": 274,
    "start_time": "2022-01-03T17:09:10.265Z"
   },
   {
    "duration": 47,
    "start_time": "2022-01-03T17:17:18.393Z"
   },
   {
    "duration": 8,
    "start_time": "2022-01-03T17:17:49.946Z"
   },
   {
    "duration": 280,
    "start_time": "2022-01-03T17:18:08.505Z"
   },
   {
    "duration": 255,
    "start_time": "2022-01-03T17:23:43.750Z"
   },
   {
    "duration": 6,
    "start_time": "2022-01-03T17:23:51.892Z"
   },
   {
    "duration": 31,
    "start_time": "2022-01-03T17:23:58.708Z"
   },
   {
    "duration": 12,
    "start_time": "2022-01-03T17:25:17.315Z"
   },
   {
    "duration": 7,
    "start_time": "2022-01-03T17:25:24.617Z"
   },
   {
    "duration": 8,
    "start_time": "2022-01-03T17:25:25.235Z"
   },
   {
    "duration": 7,
    "start_time": "2022-01-03T17:25:27.760Z"
   },
   {
    "duration": 30,
    "start_time": "2022-01-03T17:25:29.016Z"
   },
   {
    "duration": 12,
    "start_time": "2022-01-03T17:29:25.282Z"
   },
   {
    "duration": 3,
    "start_time": "2022-01-03T17:30:07.400Z"
   },
   {
    "duration": 61,
    "start_time": "2022-01-03T17:30:07.506Z"
   },
   {
    "duration": 16,
    "start_time": "2022-01-03T17:30:07.849Z"
   },
   {
    "duration": 7,
    "start_time": "2022-01-03T17:30:08.200Z"
   },
   {
    "duration": 8,
    "start_time": "2022-01-03T17:30:08.590Z"
   },
   {
    "duration": 16,
    "start_time": "2022-01-03T17:30:08.800Z"
   },
   {
    "duration": 14,
    "start_time": "2022-01-03T17:30:09.204Z"
   },
   {
    "duration": 6,
    "start_time": "2022-01-03T17:30:09.369Z"
   },
   {
    "duration": 7,
    "start_time": "2022-01-03T17:30:09.791Z"
   },
   {
    "duration": 10,
    "start_time": "2022-01-03T17:30:10.198Z"
   },
   {
    "duration": 12,
    "start_time": "2022-01-03T17:30:10.393Z"
   },
   {
    "duration": 11,
    "start_time": "2022-01-03T17:30:10.783Z"
   },
   {
    "duration": 12,
    "start_time": "2022-01-03T17:30:10.994Z"
   },
   {
    "duration": 11,
    "start_time": "2022-01-03T17:30:11.358Z"
   },
   {
    "duration": 6,
    "start_time": "2022-01-03T17:30:11.760Z"
   },
   {
    "duration": 41,
    "start_time": "2022-01-03T17:30:11.933Z"
   },
   {
    "duration": 5,
    "start_time": "2022-01-03T17:30:12.159Z"
   },
   {
    "duration": 5,
    "start_time": "2022-01-03T17:30:12.348Z"
   },
   {
    "duration": 5,
    "start_time": "2022-01-03T17:30:12.542Z"
   },
   {
    "duration": 20,
    "start_time": "2022-01-03T17:30:12.943Z"
   },
   {
    "duration": 91,
    "start_time": "2022-01-03T17:30:13.569Z"
   },
   {
    "duration": 16,
    "start_time": "2022-01-03T17:30:13.757Z"
   },
   {
    "duration": 7,
    "start_time": "2022-01-03T17:30:14.357Z"
   },
   {
    "duration": 13,
    "start_time": "2022-01-03T17:30:14.565Z"
   },
   {
    "duration": 20,
    "start_time": "2022-01-03T17:30:14.995Z"
   },
   {
    "duration": 7,
    "start_time": "2022-01-03T17:30:15.220Z"
   },
   {
    "duration": 8,
    "start_time": "2022-01-03T17:30:15.415Z"
   },
   {
    "duration": 6,
    "start_time": "2022-01-03T17:30:15.827Z"
   },
   {
    "duration": 30,
    "start_time": "2022-01-03T17:30:16.978Z"
   },
   {
    "duration": 4,
    "start_time": "2022-01-03T17:34:23.163Z"
   },
   {
    "duration": 62,
    "start_time": "2022-01-03T17:34:23.351Z"
   },
   {
    "duration": 14,
    "start_time": "2022-01-03T17:34:23.723Z"
   },
   {
    "duration": 7,
    "start_time": "2022-01-03T17:34:24.174Z"
   },
   {
    "duration": 8,
    "start_time": "2022-01-03T17:34:24.574Z"
   },
   {
    "duration": 15,
    "start_time": "2022-01-03T17:34:24.777Z"
   },
   {
    "duration": 13,
    "start_time": "2022-01-03T17:34:25.185Z"
   },
   {
    "duration": 5,
    "start_time": "2022-01-03T17:34:25.388Z"
   },
   {
    "duration": 6,
    "start_time": "2022-01-03T17:34:25.841Z"
   },
   {
    "duration": 11,
    "start_time": "2022-01-03T17:34:26.343Z"
   },
   {
    "duration": 11,
    "start_time": "2022-01-03T17:34:26.496Z"
   },
   {
    "duration": 11,
    "start_time": "2022-01-03T17:34:26.924Z"
   },
   {
    "duration": 12,
    "start_time": "2022-01-03T17:34:27.107Z"
   },
   {
    "duration": 11,
    "start_time": "2022-01-03T17:34:27.922Z"
   },
   {
    "duration": 6,
    "start_time": "2022-01-03T17:34:28.300Z"
   },
   {
    "duration": 39,
    "start_time": "2022-01-03T17:34:28.512Z"
   },
   {
    "duration": 6,
    "start_time": "2022-01-03T17:34:28.733Z"
   },
   {
    "duration": 5,
    "start_time": "2022-01-03T17:34:28.938Z"
   },
   {
    "duration": 6,
    "start_time": "2022-01-03T17:34:29.157Z"
   },
   {
    "duration": 22,
    "start_time": "2022-01-03T17:34:29.661Z"
   },
   {
    "duration": 9,
    "start_time": "2022-01-03T17:34:30.307Z"
   },
   {
    "duration": 12,
    "start_time": "2022-01-03T17:34:30.487Z"
   },
   {
    "duration": 80,
    "start_time": "2022-01-03T17:34:31.834Z"
   },
   {
    "duration": 19,
    "start_time": "2022-01-03T17:34:31.917Z"
   },
   {
    "duration": 17,
    "start_time": "2022-01-03T17:34:32.015Z"
   },
   {
    "duration": 7,
    "start_time": "2022-01-03T17:34:32.192Z"
   },
   {
    "duration": 8,
    "start_time": "2022-01-03T17:34:32.382Z"
   },
   {
    "duration": 7,
    "start_time": "2022-01-03T17:34:32.822Z"
   },
   {
    "duration": 31,
    "start_time": "2022-01-03T17:34:33.065Z"
   },
   {
    "duration": 16,
    "start_time": "2022-01-03T17:34:33.480Z"
   },
   {
    "duration": 51,
    "start_time": "2022-01-03T17:36:05.331Z"
   },
   {
    "duration": 267,
    "start_time": "2022-01-03T17:53:18.708Z"
   },
   {
    "duration": 298,
    "start_time": "2022-01-03T17:54:12.258Z"
   },
   {
    "duration": 308,
    "start_time": "2022-01-03T18:07:13.238Z"
   },
   {
    "duration": 3332,
    "start_time": "2022-01-03T18:09:21.436Z"
   },
   {
    "duration": 351,
    "start_time": "2022-01-03T18:12:09.804Z"
   },
   {
    "duration": 271,
    "start_time": "2022-01-03T18:12:21.864Z"
   },
   {
    "duration": 250,
    "start_time": "2022-01-03T18:12:34.036Z"
   },
   {
    "duration": 18,
    "start_time": "2022-01-03T18:13:08.642Z"
   },
   {
    "duration": 24,
    "start_time": "2022-01-03T18:13:48.384Z"
   },
   {
    "duration": 269,
    "start_time": "2022-01-03T18:13:53.838Z"
   },
   {
    "duration": 15,
    "start_time": "2022-01-03T18:14:04.698Z"
   },
   {
    "duration": 357,
    "start_time": "2022-01-03T18:17:35.915Z"
   },
   {
    "duration": 3558,
    "start_time": "2022-01-03T18:17:57.413Z"
   },
   {
    "duration": 4,
    "start_time": "2022-01-03T18:20:53.074Z"
   },
   {
    "duration": 60,
    "start_time": "2022-01-03T18:20:53.282Z"
   },
   {
    "duration": 14,
    "start_time": "2022-01-03T18:20:54.306Z"
   },
   {
    "duration": 6,
    "start_time": "2022-01-03T18:20:54.806Z"
   },
   {
    "duration": 13,
    "start_time": "2022-01-03T18:20:55.236Z"
   },
   {
    "duration": 6,
    "start_time": "2022-01-03T18:20:55.419Z"
   },
   {
    "duration": 5,
    "start_time": "2022-01-03T18:20:56.056Z"
   },
   {
    "duration": 12,
    "start_time": "2022-01-03T18:20:56.429Z"
   },
   {
    "duration": 11,
    "start_time": "2022-01-03T18:20:57.087Z"
   },
   {
    "duration": 13,
    "start_time": "2022-01-03T18:21:02.036Z"
   },
   {
    "duration": 12,
    "start_time": "2022-01-03T18:21:02.445Z"
   },
   {
    "duration": 9,
    "start_time": "2022-01-03T18:21:03.214Z"
   },
   {
    "duration": 6,
    "start_time": "2022-01-03T18:21:03.776Z"
   },
   {
    "duration": 39,
    "start_time": "2022-01-03T18:21:04.304Z"
   },
   {
    "duration": 5,
    "start_time": "2022-01-03T18:21:07.544Z"
   },
   {
    "duration": 4,
    "start_time": "2022-01-03T18:21:07.937Z"
   },
   {
    "duration": 5,
    "start_time": "2022-01-03T18:21:08.194Z"
   },
   {
    "duration": 21,
    "start_time": "2022-01-03T18:21:08.886Z"
   },
   {
    "duration": 10,
    "start_time": "2022-01-03T18:21:09.872Z"
   },
   {
    "duration": 13,
    "start_time": "2022-01-03T18:21:10.164Z"
   },
   {
    "duration": 7,
    "start_time": "2022-01-03T18:21:17.848Z"
   },
   {
    "duration": 11,
    "start_time": "2022-01-03T18:21:18.442Z"
   },
   {
    "duration": 10,
    "start_time": "2022-01-03T18:21:39.234Z"
   },
   {
    "duration": 6,
    "start_time": "2022-01-03T18:21:39.517Z"
   },
   {
    "duration": 7,
    "start_time": "2022-01-03T18:21:39.809Z"
   },
   {
    "duration": 7,
    "start_time": "2022-01-03T18:21:47.442Z"
   },
   {
    "duration": 33,
    "start_time": "2022-01-03T18:21:48.063Z"
   },
   {
    "duration": 21,
    "start_time": "2022-01-03T18:21:50.836Z"
   },
   {
    "duration": 5707,
    "start_time": "2022-01-03T18:22:05.638Z"
   },
   {
    "duration": 20,
    "start_time": "2022-01-03T18:22:20.410Z"
   },
   {
    "duration": 30,
    "start_time": "2022-01-03T18:22:30.978Z"
   },
   {
    "duration": 88,
    "start_time": "2022-01-03T18:28:52.673Z"
   },
   {
    "duration": 261,
    "start_time": "2022-01-03T18:29:03.821Z"
   },
   {
    "duration": 7,
    "start_time": "2022-01-03T18:29:18.519Z"
   },
   {
    "duration": 802,
    "start_time": "2022-01-03T22:35:30.335Z"
   },
   {
    "duration": 82,
    "start_time": "2022-01-03T22:35:31.140Z"
   },
   {
    "duration": 17,
    "start_time": "2022-01-03T22:35:31.663Z"
   },
   {
    "duration": 7,
    "start_time": "2022-01-03T22:35:32.175Z"
   },
   {
    "duration": 13,
    "start_time": "2022-01-03T22:35:32.586Z"
   },
   {
    "duration": 6,
    "start_time": "2022-01-03T22:35:32.773Z"
   },
   {
    "duration": 6,
    "start_time": "2022-01-03T22:35:33.145Z"
   },
   {
    "duration": 17,
    "start_time": "2022-01-03T22:35:33.552Z"
   },
   {
    "duration": 15,
    "start_time": "2022-01-03T22:35:33.726Z"
   },
   {
    "duration": 11,
    "start_time": "2022-01-03T22:35:34.125Z"
   },
   {
    "duration": 10,
    "start_time": "2022-01-03T22:35:34.364Z"
   },
   {
    "duration": 11,
    "start_time": "2022-01-03T22:35:35.356Z"
   },
   {
    "duration": 6,
    "start_time": "2022-01-03T22:35:38.585Z"
   },
   {
    "duration": 39,
    "start_time": "2022-01-03T22:35:38.675Z"
   },
   {
    "duration": 6,
    "start_time": "2022-01-03T22:35:38.875Z"
   },
   {
    "duration": 4,
    "start_time": "2022-01-03T22:35:39.135Z"
   },
   {
    "duration": 5,
    "start_time": "2022-01-03T22:35:39.366Z"
   },
   {
    "duration": 20,
    "start_time": "2022-01-03T22:35:39.685Z"
   },
   {
    "duration": 9,
    "start_time": "2022-01-03T22:35:40.336Z"
   },
   {
    "duration": 12,
    "start_time": "2022-01-03T22:35:40.535Z"
   },
   {
    "duration": 7,
    "start_time": "2022-01-03T22:35:41.253Z"
   },
   {
    "duration": 11,
    "start_time": "2022-01-03T22:35:41.530Z"
   },
   {
    "duration": 9,
    "start_time": "2022-01-03T22:35:41.835Z"
   },
   {
    "duration": 5,
    "start_time": "2022-01-03T22:35:42.035Z"
   },
   {
    "duration": 7,
    "start_time": "2022-01-03T22:35:42.978Z"
   },
   {
    "duration": 17,
    "start_time": "2022-01-03T22:35:42.987Z"
   },
   {
    "duration": 30,
    "start_time": "2022-01-03T22:35:43.105Z"
   },
   {
    "duration": 19,
    "start_time": "2022-01-03T22:35:43.715Z"
   },
   {
    "duration": 5540,
    "start_time": "2022-01-03T22:35:43.952Z"
   },
   {
    "duration": 36,
    "start_time": "2022-01-03T22:35:49.495Z"
   },
   {
    "duration": 37,
    "start_time": "2022-01-03T22:35:49.534Z"
   },
   {
    "duration": 7,
    "start_time": "2022-01-03T22:37:10.137Z"
   },
   {
    "duration": 1144,
    "start_time": "2022-01-03T22:38:52.717Z"
   },
   {
    "duration": 12,
    "start_time": "2022-01-03T22:39:16.655Z"
   },
   {
    "duration": 26,
    "start_time": "2022-01-03T22:39:36.832Z"
   },
   {
    "duration": 15,
    "start_time": "2022-01-03T22:40:36.916Z"
   },
   {
    "duration": 33,
    "start_time": "2022-01-03T22:40:43.762Z"
   },
   {
    "duration": 272,
    "start_time": "2022-01-03T22:41:23.516Z"
   },
   {
    "duration": 18,
    "start_time": "2022-01-03T22:43:03.394Z"
   },
   {
    "duration": 332,
    "start_time": "2022-01-03T22:44:39.364Z"
   },
   {
    "duration": 282,
    "start_time": "2022-01-03T22:44:53.906Z"
   },
   {
    "duration": 320,
    "start_time": "2022-01-03T22:45:44.904Z"
   },
   {
    "duration": 21,
    "start_time": "2022-01-03T22:46:15.035Z"
   },
   {
    "duration": 20,
    "start_time": "2022-01-03T22:47:19.615Z"
   },
   {
    "duration": 19,
    "start_time": "2022-01-03T22:47:42.150Z"
   },
   {
    "duration": 35,
    "start_time": "2022-01-03T22:47:44.055Z"
   },
   {
    "duration": 18,
    "start_time": "2022-01-03T22:49:24.585Z"
   },
   {
    "duration": 34,
    "start_time": "2022-01-03T22:49:25.254Z"
   },
   {
    "duration": 6,
    "start_time": "2022-01-03T22:50:11.254Z"
   },
   {
    "duration": 32,
    "start_time": "2022-01-03T22:50:15.142Z"
   },
   {
    "duration": 27,
    "start_time": "2022-01-03T22:50:22.093Z"
   },
   {
    "duration": 11,
    "start_time": "2022-01-03T22:50:41.304Z"
   },
   {
    "duration": 44,
    "start_time": "2022-01-03T22:51:38.982Z"
   },
   {
    "duration": 16,
    "start_time": "2022-01-03T22:52:28.705Z"
   },
   {
    "duration": 726,
    "start_time": "2022-01-03T22:53:03.319Z"
   },
   {
    "duration": 81,
    "start_time": "2022-01-03T22:53:04.048Z"
   },
   {
    "duration": 21,
    "start_time": "2022-01-03T22:53:05.496Z"
   },
   {
    "duration": 9,
    "start_time": "2022-01-03T22:53:05.520Z"
   },
   {
    "duration": 14,
    "start_time": "2022-01-03T22:53:05.533Z"
   },
   {
    "duration": 6,
    "start_time": "2022-01-03T22:53:05.568Z"
   },
   {
    "duration": 10,
    "start_time": "2022-01-03T22:53:05.577Z"
   },
   {
    "duration": 13,
    "start_time": "2022-01-03T22:53:06.058Z"
   },
   {
    "duration": 12,
    "start_time": "2022-01-03T22:53:06.278Z"
   },
   {
    "duration": 14,
    "start_time": "2022-01-03T22:53:06.728Z"
   },
   {
    "duration": 15,
    "start_time": "2022-01-03T22:53:06.948Z"
   },
   {
    "duration": 11,
    "start_time": "2022-01-03T22:53:07.667Z"
   },
   {
    "duration": 7,
    "start_time": "2022-01-03T22:53:08.348Z"
   },
   {
    "duration": 38,
    "start_time": "2022-01-03T22:53:08.746Z"
   },
   {
    "duration": 5,
    "start_time": "2022-01-03T22:53:09.098Z"
   },
   {
    "duration": 5,
    "start_time": "2022-01-03T22:53:09.493Z"
   },
   {
    "duration": 6,
    "start_time": "2022-01-03T22:53:09.790Z"
   },
   {
    "duration": 21,
    "start_time": "2022-01-03T22:53:10.558Z"
   },
   {
    "duration": 10,
    "start_time": "2022-01-03T22:53:11.629Z"
   },
   {
    "duration": 12,
    "start_time": "2022-01-03T22:53:11.948Z"
   },
   {
    "duration": 8,
    "start_time": "2022-01-03T22:53:12.708Z"
   },
   {
    "duration": 11,
    "start_time": "2022-01-03T22:53:12.929Z"
   },
   {
    "duration": 10,
    "start_time": "2022-01-03T22:53:13.259Z"
   },
   {
    "duration": 6,
    "start_time": "2022-01-03T22:53:13.477Z"
   },
   {
    "duration": 8,
    "start_time": "2022-01-03T22:53:13.643Z"
   },
   {
    "duration": 8,
    "start_time": "2022-01-03T22:53:14.209Z"
   },
   {
    "duration": 33,
    "start_time": "2022-01-03T22:53:14.476Z"
   },
   {
    "duration": 19,
    "start_time": "2022-01-03T22:53:14.899Z"
   },
   {
    "duration": 20,
    "start_time": "2022-01-03T22:53:15.087Z"
   },
   {
    "duration": 5,
    "start_time": "2022-01-03T22:53:16.119Z"
   },
   {
    "duration": 21,
    "start_time": "2022-01-03T22:53:16.399Z"
   },
   {
    "duration": 7,
    "start_time": "2022-01-03T22:53:45.508Z"
   },
   {
    "duration": 14,
    "start_time": "2022-01-03T22:53:52.008Z"
   },
   {
    "duration": 15,
    "start_time": "2022-01-03T22:55:34.558Z"
   },
   {
    "duration": 735,
    "start_time": "2022-01-03T22:55:49.091Z"
   },
   {
    "duration": 73,
    "start_time": "2022-01-03T22:55:49.829Z"
   },
   {
    "duration": 15,
    "start_time": "2022-01-03T22:55:49.906Z"
   },
   {
    "duration": 7,
    "start_time": "2022-01-03T22:55:49.924Z"
   },
   {
    "duration": 35,
    "start_time": "2022-01-03T22:55:49.934Z"
   },
   {
    "duration": 5,
    "start_time": "2022-01-03T22:55:49.972Z"
   },
   {
    "duration": 11,
    "start_time": "2022-01-03T22:55:49.979Z"
   },
   {
    "duration": 23,
    "start_time": "2022-01-03T22:55:49.993Z"
   },
   {
    "duration": 13,
    "start_time": "2022-01-03T22:55:50.020Z"
   },
   {
    "duration": 39,
    "start_time": "2022-01-03T22:55:50.037Z"
   },
   {
    "duration": 12,
    "start_time": "2022-01-03T22:55:50.078Z"
   },
   {
    "duration": 9,
    "start_time": "2022-01-03T22:55:50.093Z"
   },
   {
    "duration": 7,
    "start_time": "2022-01-03T22:55:50.104Z"
   },
   {
    "duration": 72,
    "start_time": "2022-01-03T22:55:50.114Z"
   },
   {
    "duration": 7,
    "start_time": "2022-01-03T22:55:50.189Z"
   },
   {
    "duration": 6,
    "start_time": "2022-01-03T22:55:50.199Z"
   },
   {
    "duration": 7,
    "start_time": "2022-01-03T22:55:50.208Z"
   },
   {
    "duration": 59,
    "start_time": "2022-01-03T22:55:50.217Z"
   },
   {
    "duration": 9,
    "start_time": "2022-01-03T22:55:50.278Z"
   },
   {
    "duration": 19,
    "start_time": "2022-01-03T22:55:50.289Z"
   },
   {
    "duration": 6,
    "start_time": "2022-01-03T22:55:50.311Z"
   },
   {
    "duration": 12,
    "start_time": "2022-01-03T22:55:50.319Z"
   },
   {
    "duration": 39,
    "start_time": "2022-01-03T22:55:50.334Z"
   },
   {
    "duration": 7,
    "start_time": "2022-01-03T22:55:50.375Z"
   },
   {
    "duration": 8,
    "start_time": "2022-01-03T22:55:50.385Z"
   },
   {
    "duration": 7,
    "start_time": "2022-01-03T22:55:50.396Z"
   },
   {
    "duration": 61,
    "start_time": "2022-01-03T22:55:50.408Z"
   },
   {
    "duration": 23,
    "start_time": "2022-01-03T22:55:50.472Z"
   },
   {
    "duration": 18,
    "start_time": "2022-01-03T22:55:50.498Z"
   },
   {
    "duration": 54,
    "start_time": "2022-01-03T22:55:50.518Z"
   },
   {
    "duration": 731,
    "start_time": "2022-01-03T22:56:08.295Z"
   },
   {
    "duration": 73,
    "start_time": "2022-01-03T22:56:09.028Z"
   },
   {
    "duration": 14,
    "start_time": "2022-01-03T22:56:09.105Z"
   },
   {
    "duration": 6,
    "start_time": "2022-01-03T22:56:09.122Z"
   },
   {
    "duration": 40,
    "start_time": "2022-01-03T22:56:09.131Z"
   },
   {
    "duration": 5,
    "start_time": "2022-01-03T22:56:09.174Z"
   },
   {
    "duration": 8,
    "start_time": "2022-01-03T22:56:09.181Z"
   },
   {
    "duration": 16,
    "start_time": "2022-01-03T22:56:09.191Z"
   },
   {
    "duration": 10,
    "start_time": "2022-01-03T22:56:09.212Z"
   },
   {
    "duration": 11,
    "start_time": "2022-01-03T22:56:09.268Z"
   },
   {
    "duration": 10,
    "start_time": "2022-01-03T22:56:09.282Z"
   },
   {
    "duration": 12,
    "start_time": "2022-01-03T22:56:09.294Z"
   },
   {
    "duration": 6,
    "start_time": "2022-01-03T22:56:09.308Z"
   },
   {
    "duration": 79,
    "start_time": "2022-01-03T22:56:09.316Z"
   },
   {
    "duration": 4,
    "start_time": "2022-01-03T22:56:09.397Z"
   },
   {
    "duration": 9,
    "start_time": "2022-01-03T22:56:09.405Z"
   },
   {
    "duration": 7,
    "start_time": "2022-01-03T22:56:09.417Z"
   },
   {
    "duration": 60,
    "start_time": "2022-01-03T22:56:09.426Z"
   },
   {
    "duration": 11,
    "start_time": "2022-01-03T22:56:09.489Z"
   },
   {
    "duration": 16,
    "start_time": "2022-01-03T22:56:09.503Z"
   },
   {
    "duration": 10,
    "start_time": "2022-01-03T22:56:09.521Z"
   },
   {
    "duration": 36,
    "start_time": "2022-01-03T22:56:09.533Z"
   },
   {
    "duration": 10,
    "start_time": "2022-01-03T22:56:09.571Z"
   },
   {
    "duration": 9,
    "start_time": "2022-01-03T22:56:09.583Z"
   },
   {
    "duration": 7,
    "start_time": "2022-01-03T22:56:09.594Z"
   },
   {
    "duration": 6,
    "start_time": "2022-01-03T22:56:09.604Z"
   },
   {
    "duration": 68,
    "start_time": "2022-01-03T22:56:09.615Z"
   },
   {
    "duration": 19,
    "start_time": "2022-01-03T22:56:09.686Z"
   },
   {
    "duration": 18,
    "start_time": "2022-01-03T22:56:09.707Z"
   },
   {
    "duration": 52,
    "start_time": "2022-01-03T22:56:09.727Z"
   },
   {
    "duration": 18,
    "start_time": "2022-01-03T22:56:28.794Z"
   },
   {
    "duration": 15,
    "start_time": "2022-01-03T22:59:01.394Z"
   },
   {
    "duration": 7,
    "start_time": "2022-01-03T22:59:02.597Z"
   },
   {
    "duration": 15,
    "start_time": "2022-01-03T22:59:12.523Z"
   },
   {
    "duration": 14,
    "start_time": "2022-01-03T22:59:26.262Z"
   },
   {
    "duration": 14,
    "start_time": "2022-01-03T23:00:17.739Z"
   },
   {
    "duration": 775,
    "start_time": "2022-01-03T23:00:28.660Z"
   },
   {
    "duration": 77,
    "start_time": "2022-01-03T23:00:29.438Z"
   },
   {
    "duration": 15,
    "start_time": "2022-01-03T23:00:29.520Z"
   },
   {
    "duration": 28,
    "start_time": "2022-01-03T23:00:29.539Z"
   },
   {
    "duration": 12,
    "start_time": "2022-01-03T23:00:29.570Z"
   },
   {
    "duration": 6,
    "start_time": "2022-01-03T23:00:29.586Z"
   },
   {
    "duration": 14,
    "start_time": "2022-01-03T23:00:29.597Z"
   },
   {
    "duration": 13,
    "start_time": "2022-01-03T23:00:29.614Z"
   },
   {
    "duration": 11,
    "start_time": "2022-01-03T23:00:29.667Z"
   },
   {
    "duration": 11,
    "start_time": "2022-01-03T23:00:29.681Z"
   },
   {
    "duration": 11,
    "start_time": "2022-01-03T23:00:29.694Z"
   },
   {
    "duration": 10,
    "start_time": "2022-01-03T23:00:29.707Z"
   },
   {
    "duration": 48,
    "start_time": "2022-01-03T23:00:29.720Z"
   },
   {
    "duration": 40,
    "start_time": "2022-01-03T23:00:29.771Z"
   },
   {
    "duration": 5,
    "start_time": "2022-01-03T23:00:29.814Z"
   },
   {
    "duration": 8,
    "start_time": "2022-01-03T23:00:29.821Z"
   },
   {
    "duration": 37,
    "start_time": "2022-01-03T23:00:29.831Z"
   },
   {
    "duration": 23,
    "start_time": "2022-01-03T23:00:29.870Z"
   },
   {
    "duration": 9,
    "start_time": "2022-01-03T23:00:29.896Z"
   },
   {
    "duration": 20,
    "start_time": "2022-01-03T23:00:29.908Z"
   },
   {
    "duration": 37,
    "start_time": "2022-01-03T23:00:29.931Z"
   },
   {
    "duration": 12,
    "start_time": "2022-01-03T23:00:29.971Z"
   },
   {
    "duration": 10,
    "start_time": "2022-01-03T23:00:29.985Z"
   },
   {
    "duration": 23,
    "start_time": "2022-01-03T23:00:29.998Z"
   },
   {
    "duration": 10,
    "start_time": "2022-01-03T23:00:30.024Z"
   },
   {
    "duration": 37,
    "start_time": "2022-01-03T23:00:30.037Z"
   },
   {
    "duration": 37,
    "start_time": "2022-01-03T23:00:30.078Z"
   },
   {
    "duration": 21,
    "start_time": "2022-01-03T23:00:30.118Z"
   },
   {
    "duration": 39,
    "start_time": "2022-01-03T23:00:30.141Z"
   },
   {
    "duration": 21,
    "start_time": "2022-01-03T23:02:01.219Z"
   },
   {
    "duration": 13,
    "start_time": "2022-01-03T23:02:10.728Z"
   },
   {
    "duration": 32,
    "start_time": "2022-01-03T23:02:35.240Z"
   },
   {
    "duration": 25,
    "start_time": "2022-01-03T23:04:44.636Z"
   },
   {
    "duration": 9,
    "start_time": "2022-01-03T23:05:03.273Z"
   },
   {
    "duration": 7,
    "start_time": "2022-01-03T23:05:31.436Z"
   },
   {
    "duration": 381,
    "start_time": "2022-01-03T23:05:56.597Z"
   },
   {
    "duration": 438,
    "start_time": "2022-01-03T23:07:08.031Z"
   },
   {
    "duration": 34,
    "start_time": "2022-01-03T23:09:08.240Z"
   },
   {
    "duration": 34,
    "start_time": "2022-01-03T23:10:01.846Z"
   },
   {
    "duration": 32,
    "start_time": "2022-01-03T23:10:30.418Z"
   },
   {
    "duration": 38,
    "start_time": "2022-01-03T23:10:58.992Z"
   },
   {
    "duration": 12,
    "start_time": "2022-01-03T23:11:20.560Z"
   },
   {
    "duration": 11,
    "start_time": "2022-01-03T23:11:31.826Z"
   },
   {
    "duration": 12,
    "start_time": "2022-01-03T23:18:43.732Z"
   },
   {
    "duration": 10,
    "start_time": "2022-01-03T23:19:11.740Z"
   },
   {
    "duration": 37,
    "start_time": "2022-01-03T23:21:35.658Z"
   },
   {
    "duration": 4977,
    "start_time": "2022-01-03T23:22:46.875Z"
   },
   {
    "duration": 19274,
    "start_time": "2022-01-03T23:22:53.856Z"
   },
   {
    "duration": 22556,
    "start_time": "2022-01-03T23:23:58.135Z"
   },
   {
    "duration": 2344,
    "start_time": "2022-01-03T23:24:33.115Z"
   },
   {
    "duration": 509,
    "start_time": "2022-01-03T23:25:22.608Z"
   },
   {
    "duration": 5858,
    "start_time": "2022-01-03T23:25:43.333Z"
   },
   {
    "duration": 4241,
    "start_time": "2022-01-03T23:26:18.737Z"
   },
   {
    "duration": 26,
    "start_time": "2022-01-03T23:28:58.735Z"
   },
   {
    "duration": 4846,
    "start_time": "2022-01-03T23:30:01.272Z"
   },
   {
    "duration": 4678,
    "start_time": "2022-01-03T23:32:02.853Z"
   },
   {
    "duration": 28,
    "start_time": "2022-01-03T23:35:12.218Z"
   },
   {
    "duration": 27,
    "start_time": "2022-01-04T00:00:53.774Z"
   },
   {
    "duration": 35,
    "start_time": "2022-01-04T00:02:51.251Z"
   },
   {
    "duration": 19,
    "start_time": "2022-01-04T00:03:20.744Z"
   },
   {
    "duration": 17,
    "start_time": "2022-01-04T00:03:44.535Z"
   },
   {
    "duration": 16,
    "start_time": "2022-01-04T00:04:22.025Z"
   },
   {
    "duration": 36,
    "start_time": "2022-01-04T00:04:34.195Z"
   },
   {
    "duration": 21,
    "start_time": "2022-01-04T00:04:46.775Z"
   },
   {
    "duration": 4440,
    "start_time": "2022-01-04T00:05:07.275Z"
   },
   {
    "duration": 24,
    "start_time": "2022-01-04T00:05:14.925Z"
   },
   {
    "duration": 3617,
    "start_time": "2022-01-04T00:05:43.115Z"
   },
   {
    "duration": 4228,
    "start_time": "2022-01-04T00:06:12.165Z"
   },
   {
    "duration": 5412,
    "start_time": "2022-01-04T00:06:30.672Z"
   },
   {
    "duration": 832,
    "start_time": "2022-01-04T08:22:52.739Z"
   },
   {
    "duration": 74,
    "start_time": "2022-01-04T08:22:53.573Z"
   },
   {
    "duration": 14,
    "start_time": "2022-01-04T08:23:00.771Z"
   },
   {
    "duration": 7,
    "start_time": "2022-01-04T08:23:01.171Z"
   },
   {
    "duration": 12,
    "start_time": "2022-01-04T08:23:01.591Z"
   },
   {
    "duration": 6,
    "start_time": "2022-01-04T08:23:01.801Z"
   },
   {
    "duration": 6,
    "start_time": "2022-01-04T08:23:02.191Z"
   },
   {
    "duration": 17,
    "start_time": "2022-01-04T08:23:08.834Z"
   },
   {
    "duration": 10,
    "start_time": "2022-01-04T08:23:09.029Z"
   },
   {
    "duration": 12,
    "start_time": "2022-01-04T08:23:09.380Z"
   },
   {
    "duration": 11,
    "start_time": "2022-01-04T08:23:09.602Z"
   },
   {
    "duration": 788,
    "start_time": "2022-01-04T08:23:15.796Z"
   },
   {
    "duration": 73,
    "start_time": "2022-01-04T08:23:16.587Z"
   },
   {
    "duration": 14,
    "start_time": "2022-01-04T08:23:16.662Z"
   },
   {
    "duration": 6,
    "start_time": "2022-01-04T08:23:16.678Z"
   },
   {
    "duration": 10,
    "start_time": "2022-01-04T08:23:16.687Z"
   },
   {
    "duration": 5,
    "start_time": "2022-01-04T08:23:16.700Z"
   },
   {
    "duration": 5,
    "start_time": "2022-01-04T08:23:16.707Z"
   },
   {
    "duration": 12,
    "start_time": "2022-01-04T08:23:16.760Z"
   },
   {
    "duration": 10,
    "start_time": "2022-01-04T08:23:16.775Z"
   },
   {
    "duration": 9,
    "start_time": "2022-01-04T08:23:16.787Z"
   },
   {
    "duration": 9,
    "start_time": "2022-01-04T08:23:16.798Z"
   },
   {
    "duration": 49,
    "start_time": "2022-01-04T08:23:16.810Z"
   },
   {
    "duration": 5,
    "start_time": "2022-01-04T08:23:16.862Z"
   },
   {
    "duration": 42,
    "start_time": "2022-01-04T08:23:16.869Z"
   },
   {
    "duration": 5,
    "start_time": "2022-01-04T08:23:16.913Z"
   },
   {
    "duration": 5,
    "start_time": "2022-01-04T08:23:16.920Z"
   },
   {
    "duration": 34,
    "start_time": "2022-01-04T08:23:16.927Z"
   },
   {
    "duration": 21,
    "start_time": "2022-01-04T08:23:16.964Z"
   },
   {
    "duration": 10,
    "start_time": "2022-01-04T08:23:16.987Z"
   },
   {
    "duration": 11,
    "start_time": "2022-01-04T08:23:17.000Z"
   },
   {
    "duration": 47,
    "start_time": "2022-01-04T08:23:17.014Z"
   },
   {
    "duration": 11,
    "start_time": "2022-01-04T08:23:17.064Z"
   },
   {
    "duration": 13,
    "start_time": "2022-01-04T08:23:17.080Z"
   },
   {
    "duration": 7,
    "start_time": "2022-01-04T08:23:17.096Z"
   },
   {
    "duration": 7,
    "start_time": "2022-01-04T08:23:17.105Z"
   },
   {
    "duration": 31,
    "start_time": "2022-01-04T08:23:17.159Z"
   },
   {
    "duration": 460,
    "start_time": "2022-01-04T08:23:17.192Z"
   },
   {
    "duration": -1655,
    "start_time": "2022-01-04T08:23:19.310Z"
   },
   {
    "duration": -1660,
    "start_time": "2022-01-04T08:23:19.316Z"
   },
   {
    "duration": -1661,
    "start_time": "2022-01-04T08:23:19.318Z"
   },
   {
    "duration": -1660,
    "start_time": "2022-01-04T08:23:19.319Z"
   },
   {
    "duration": -1673,
    "start_time": "2022-01-04T08:23:19.333Z"
   },
   {
    "duration": -1674,
    "start_time": "2022-01-04T08:23:19.335Z"
   },
   {
    "duration": 365,
    "start_time": "2022-01-04T08:24:07.726Z"
   },
   {
    "duration": 357,
    "start_time": "2022-01-04T08:24:16.768Z"
   },
   {
    "duration": 377,
    "start_time": "2022-01-04T08:24:55.028Z"
   },
   {
    "duration": 741,
    "start_time": "2022-01-04T08:25:05.296Z"
   },
   {
    "duration": 76,
    "start_time": "2022-01-04T08:25:06.040Z"
   },
   {
    "duration": 15,
    "start_time": "2022-01-04T08:25:06.119Z"
   },
   {
    "duration": 23,
    "start_time": "2022-01-04T08:25:06.137Z"
   },
   {
    "duration": 12,
    "start_time": "2022-01-04T08:25:06.162Z"
   },
   {
    "duration": 5,
    "start_time": "2022-01-04T08:25:06.177Z"
   },
   {
    "duration": 8,
    "start_time": "2022-01-04T08:25:06.184Z"
   },
   {
    "duration": 17,
    "start_time": "2022-01-04T08:25:06.194Z"
   },
   {
    "duration": 47,
    "start_time": "2022-01-04T08:25:06.215Z"
   },
   {
    "duration": 10,
    "start_time": "2022-01-04T08:25:06.265Z"
   },
   {
    "duration": 9,
    "start_time": "2022-01-04T08:25:06.277Z"
   },
   {
    "duration": 11,
    "start_time": "2022-01-04T08:25:06.289Z"
   },
   {
    "duration": 10,
    "start_time": "2022-01-04T08:25:06.302Z"
   },
   {
    "duration": 73,
    "start_time": "2022-01-04T08:25:06.315Z"
   },
   {
    "duration": 4,
    "start_time": "2022-01-04T08:25:06.391Z"
   },
   {
    "duration": 7,
    "start_time": "2022-01-04T08:25:06.397Z"
   },
   {
    "duration": 6,
    "start_time": "2022-01-04T08:25:06.406Z"
   },
   {
    "duration": 56,
    "start_time": "2022-01-04T08:25:06.414Z"
   },
   {
    "duration": 9,
    "start_time": "2022-01-04T08:25:06.472Z"
   },
   {
    "duration": 13,
    "start_time": "2022-01-04T08:25:06.483Z"
   },
   {
    "duration": 6,
    "start_time": "2022-01-04T08:25:06.499Z"
   },
   {
    "duration": 11,
    "start_time": "2022-01-04T08:25:06.507Z"
   },
   {
    "duration": 46,
    "start_time": "2022-01-04T08:25:06.520Z"
   },
   {
    "duration": 7,
    "start_time": "2022-01-04T08:25:06.568Z"
   },
   {
    "duration": 7,
    "start_time": "2022-01-04T08:25:06.577Z"
   },
   {
    "duration": 31,
    "start_time": "2022-01-04T08:25:06.586Z"
   },
   {
    "duration": 456,
    "start_time": "2022-01-04T08:25:06.658Z"
   },
   {
    "duration": -1742,
    "start_time": "2022-01-04T08:25:08.859Z"
   },
   {
    "duration": -1743,
    "start_time": "2022-01-04T08:25:08.861Z"
   },
   {
    "duration": -1742,
    "start_time": "2022-01-04T08:25:08.862Z"
   },
   {
    "duration": -1746,
    "start_time": "2022-01-04T08:25:08.867Z"
   },
   {
    "duration": -1770,
    "start_time": "2022-01-04T08:25:08.893Z"
   },
   {
    "duration": -1773,
    "start_time": "2022-01-04T08:25:08.897Z"
   },
   {
    "duration": 363,
    "start_time": "2022-01-04T08:26:38.239Z"
   },
   {
    "duration": 377,
    "start_time": "2022-01-04T08:26:43.820Z"
   },
   {
    "duration": 375,
    "start_time": "2022-01-04T08:29:41.293Z"
   },
   {
    "duration": 985,
    "start_time": "2022-01-04T09:16:29.965Z"
   },
   {
    "duration": 4,
    "start_time": "2022-01-04T09:17:15.993Z"
   },
   {
    "duration": 64,
    "start_time": "2022-01-04T09:17:16.239Z"
   },
   {
    "duration": 13,
    "start_time": "2022-01-04T09:17:16.608Z"
   },
   {
    "duration": 7,
    "start_time": "2022-01-04T09:17:16.927Z"
   },
   {
    "duration": 12,
    "start_time": "2022-01-04T09:17:17.544Z"
   },
   {
    "duration": 5,
    "start_time": "2022-01-04T09:17:17.723Z"
   },
   {
    "duration": 6,
    "start_time": "2022-01-04T09:17:18.053Z"
   },
   {
    "duration": 11,
    "start_time": "2022-01-04T09:17:18.424Z"
   },
   {
    "duration": 12,
    "start_time": "2022-01-04T09:17:18.675Z"
   },
   {
    "duration": 10,
    "start_time": "2022-01-04T09:17:19.076Z"
   },
   {
    "duration": 11,
    "start_time": "2022-01-04T09:17:19.295Z"
   },
   {
    "duration": 10,
    "start_time": "2022-01-04T09:17:19.736Z"
   },
   {
    "duration": 6,
    "start_time": "2022-01-04T09:17:20.266Z"
   },
   {
    "duration": 37,
    "start_time": "2022-01-04T09:17:20.465Z"
   },
   {
    "duration": 5,
    "start_time": "2022-01-04T09:17:20.868Z"
   },
   {
    "duration": 5,
    "start_time": "2022-01-04T09:17:21.013Z"
   },
   {
    "duration": 5,
    "start_time": "2022-01-04T09:17:21.226Z"
   },
   {
    "duration": 21,
    "start_time": "2022-01-04T09:17:22.131Z"
   },
   {
    "duration": 10,
    "start_time": "2022-01-04T09:17:24.280Z"
   },
   {
    "duration": 12,
    "start_time": "2022-01-04T09:17:24.641Z"
   },
   {
    "duration": 7,
    "start_time": "2022-01-04T09:17:25.495Z"
   },
   {
    "duration": 11,
    "start_time": "2022-01-04T09:17:25.785Z"
   },
   {
    "duration": 14,
    "start_time": "2022-01-04T09:17:27.876Z"
   },
   {
    "duration": 9,
    "start_time": "2022-01-04T09:17:28.215Z"
   },
   {
    "duration": 7,
    "start_time": "2022-01-04T09:17:28.773Z"
   },
   {
    "duration": 30,
    "start_time": "2022-01-04T09:17:29.005Z"
   },
   {
    "duration": 413,
    "start_time": "2022-01-04T09:17:29.455Z"
   },
   {
    "duration": 380,
    "start_time": "2022-01-04T09:17:47.814Z"
   },
   {
    "duration": 7,
    "start_time": "2022-01-04T09:17:53.881Z"
   },
   {
    "duration": 6,
    "start_time": "2022-01-04T09:18:23.583Z"
   },
   {
    "duration": 19,
    "start_time": "2022-01-04T09:18:31.790Z"
   },
   {
    "duration": 380,
    "start_time": "2022-01-04T09:18:41.375Z"
   },
   {
    "duration": 14,
    "start_time": "2022-01-04T09:19:04.075Z"
   },
   {
    "duration": 707,
    "start_time": "2022-01-04T09:19:44.266Z"
   },
   {
    "duration": 1070,
    "start_time": "2022-01-04T09:20:47.582Z"
   },
   {
    "duration": 10,
    "start_time": "2022-01-04T09:21:32.626Z"
   },
   {
    "duration": 14,
    "start_time": "2022-01-04T09:21:34.434Z"
   },
   {
    "duration": 7,
    "start_time": "2022-01-04T09:21:35.472Z"
   },
   {
    "duration": 6,
    "start_time": "2022-01-04T09:21:36.977Z"
   },
   {
    "duration": 40,
    "start_time": "2022-01-04T09:21:37.276Z"
   },
   {
    "duration": 11,
    "start_time": "2022-01-04T09:21:38.735Z"
   },
   {
    "duration": 20,
    "start_time": "2022-01-04T09:21:40.788Z"
   },
   {
    "duration": 34,
    "start_time": "2022-01-04T09:21:42.786Z"
   },
   {
    "duration": 14,
    "start_time": "2022-01-04T09:21:43.935Z"
   },
   {
    "duration": 12,
    "start_time": "2022-01-04T09:21:45.469Z"
   },
   {
    "duration": 6076,
    "start_time": "2022-01-04T09:21:48.949Z"
   },
   {
    "duration": 27,
    "start_time": "2022-01-04T09:21:58.117Z"
   },
   {
    "duration": 22442,
    "start_time": "2022-01-04T09:33:23.247Z"
   },
   {
    "duration": 5441,
    "start_time": "2022-01-04T09:36:55.465Z"
   },
   {
    "duration": 5349,
    "start_time": "2022-01-04T09:37:03.042Z"
   },
   {
    "duration": 4800,
    "start_time": "2022-01-04T09:43:43.007Z"
   },
   {
    "duration": 4777,
    "start_time": "2022-01-04T09:43:58.370Z"
   },
   {
    "duration": 409,
    "start_time": "2022-01-04T09:44:44.955Z"
   },
   {
    "duration": 4903,
    "start_time": "2022-01-04T09:45:06.495Z"
   },
   {
    "duration": 38,
    "start_time": "2022-01-04T09:45:56.374Z"
   },
   {
    "duration": 21,
    "start_time": "2022-01-04T09:50:57.802Z"
   },
   {
    "duration": 38,
    "start_time": "2022-01-04T09:51:12.098Z"
   },
   {
    "duration": 8,
    "start_time": "2022-01-04T09:52:02.652Z"
   },
   {
    "duration": 5150,
    "start_time": "2022-01-04T09:53:08.346Z"
   },
   {
    "duration": 4119,
    "start_time": "2022-01-04T09:53:17.664Z"
   },
   {
    "duration": 4665,
    "start_time": "2022-01-04T09:53:33.634Z"
   },
   {
    "duration": 35,
    "start_time": "2022-01-04T09:54:57.053Z"
   },
   {
    "duration": 17,
    "start_time": "2022-01-04T09:55:11.953Z"
   },
   {
    "duration": 17,
    "start_time": "2022-01-04T09:55:23.262Z"
   },
   {
    "duration": 17,
    "start_time": "2022-01-04T09:55:27.667Z"
   },
   {
    "duration": 22,
    "start_time": "2022-01-04T09:55:50.572Z"
   },
   {
    "duration": 36,
    "start_time": "2022-01-04T09:57:16.564Z"
   },
   {
    "duration": 35,
    "start_time": "2022-01-04T09:57:30.555Z"
   },
   {
    "duration": 393,
    "start_time": "2022-01-04T09:58:06.895Z"
   },
   {
    "duration": 392,
    "start_time": "2022-01-04T09:58:23.825Z"
   },
   {
    "duration": 441,
    "start_time": "2022-01-04T09:58:49.542Z"
   },
   {
    "duration": 412,
    "start_time": "2022-01-04T10:00:11.973Z"
   },
   {
    "duration": 3240,
    "start_time": "2022-01-04T10:04:01.868Z"
   },
   {
    "duration": 35,
    "start_time": "2022-01-04T10:04:30.547Z"
   },
   {
    "duration": 38,
    "start_time": "2022-01-04T10:04:53.273Z"
   },
   {
    "duration": 25,
    "start_time": "2022-01-04T10:05:16.845Z"
   },
   {
    "duration": 25,
    "start_time": "2022-01-04T10:06:03.338Z"
   },
   {
    "duration": 26,
    "start_time": "2022-01-04T10:06:34.592Z"
   },
   {
    "duration": 423,
    "start_time": "2022-01-04T10:10:20.856Z"
   },
   {
    "duration": 20,
    "start_time": "2022-01-04T10:11:03.191Z"
   },
   {
    "duration": 127,
    "start_time": "2022-01-04T10:11:42.114Z"
   },
   {
    "duration": 388,
    "start_time": "2022-01-04T10:11:52.623Z"
   },
   {
    "duration": 8,
    "start_time": "2022-01-04T10:12:03.771Z"
   },
   {
    "duration": 21,
    "start_time": "2022-01-04T10:12:14.354Z"
   },
   {
    "duration": 18,
    "start_time": "2022-01-04T10:13:01.145Z"
   },
   {
    "duration": 403,
    "start_time": "2022-01-04T10:13:27.564Z"
   },
   {
    "duration": 26,
    "start_time": "2022-01-04T10:13:44.745Z"
   },
   {
    "duration": 22,
    "start_time": "2022-01-04T10:13:59.465Z"
   },
   {
    "duration": 41,
    "start_time": "2022-01-04T10:14:59.676Z"
   },
   {
    "duration": 411,
    "start_time": "2022-01-04T10:15:40.542Z"
   },
   {
    "duration": 43,
    "start_time": "2022-01-04T10:16:07.942Z"
   },
   {
    "duration": 44,
    "start_time": "2022-01-04T10:16:36.960Z"
   },
   {
    "duration": 693,
    "start_time": "2022-01-04T10:16:55.756Z"
   },
   {
    "duration": 42,
    "start_time": "2022-01-04T10:17:11.678Z"
   },
   {
    "duration": 127,
    "start_time": "2022-01-04T10:22:05.802Z"
   },
   {
    "duration": 131,
    "start_time": "2022-01-04T10:22:10.617Z"
   },
   {
    "duration": 457,
    "start_time": "2022-01-04T10:22:25.664Z"
   },
   {
    "duration": 26,
    "start_time": "2022-01-04T10:22:42.784Z"
   },
   {
    "duration": 23,
    "start_time": "2022-01-04T10:22:54.447Z"
   },
   {
    "duration": 49,
    "start_time": "2022-01-04T10:23:00.464Z"
   },
   {
    "duration": 52,
    "start_time": "2022-01-04T10:23:35.372Z"
   },
   {
    "duration": 178,
    "start_time": "2022-01-04T10:28:38.624Z"
   },
   {
    "duration": 166,
    "start_time": "2022-01-04T10:29:05.277Z"
   },
   {
    "duration": 472,
    "start_time": "2022-01-04T10:29:18.284Z"
   },
   {
    "duration": 37,
    "start_time": "2022-01-04T10:29:38.453Z"
   },
   {
    "duration": 35,
    "start_time": "2022-01-04T10:30:14.887Z"
   },
   {
    "duration": 39,
    "start_time": "2022-01-04T10:30:22.702Z"
   },
   {
    "duration": 32,
    "start_time": "2022-01-04T10:30:37.202Z"
   },
   {
    "duration": 29,
    "start_time": "2022-01-04T10:30:45.555Z"
   },
   {
    "duration": 35,
    "start_time": "2022-01-04T10:30:52.985Z"
   },
   {
    "duration": 31,
    "start_time": "2022-01-04T10:31:21.909Z"
   },
   {
    "duration": 23,
    "start_time": "2022-01-04T10:31:58.767Z"
   },
   {
    "duration": 34,
    "start_time": "2022-01-04T10:32:27.325Z"
   },
   {
    "duration": 30,
    "start_time": "2022-01-04T10:32:35.054Z"
   },
   {
    "duration": 24,
    "start_time": "2022-01-04T10:32:41.408Z"
   },
   {
    "duration": 26,
    "start_time": "2022-01-04T10:32:48.628Z"
   },
   {
    "duration": 32,
    "start_time": "2022-01-04T10:32:53.622Z"
   },
   {
    "duration": 23,
    "start_time": "2022-01-04T10:33:20.515Z"
   },
   {
    "duration": 48,
    "start_time": "2022-01-04T10:33:25.950Z"
   },
   {
    "duration": 30,
    "start_time": "2022-01-04T10:34:02.182Z"
   },
   {
    "duration": 35,
    "start_time": "2022-01-04T10:34:12.615Z"
   },
   {
    "duration": 42,
    "start_time": "2022-01-04T10:35:05.024Z"
   },
   {
    "duration": 11,
    "start_time": "2022-01-04T10:40:45.528Z"
   },
   {
    "duration": 9,
    "start_time": "2022-01-04T10:41:00.560Z"
   },
   {
    "duration": 403,
    "start_time": "2022-01-04T10:41:30.813Z"
   },
   {
    "duration": 378,
    "start_time": "2022-01-04T10:41:58.446Z"
   },
   {
    "duration": 10,
    "start_time": "2022-01-04T10:42:14.898Z"
   },
   {
    "duration": 38,
    "start_time": "2022-01-04T10:43:22.049Z"
   },
   {
    "duration": 36,
    "start_time": "2022-01-04T10:44:30.489Z"
   },
   {
    "duration": 36,
    "start_time": "2022-01-04T10:45:19.139Z"
   },
   {
    "duration": 38,
    "start_time": "2022-01-04T10:47:21.847Z"
   },
   {
    "duration": 24,
    "start_time": "2022-01-04T10:47:57.350Z"
   },
   {
    "duration": 38,
    "start_time": "2022-01-04T10:50:37.483Z"
   },
   {
    "duration": 36,
    "start_time": "2022-01-04T10:51:27.380Z"
   },
   {
    "duration": 16,
    "start_time": "2022-01-04T10:52:06.080Z"
   },
   {
    "duration": 36,
    "start_time": "2022-01-04T10:52:15.620Z"
   },
   {
    "duration": 36,
    "start_time": "2022-01-04T10:52:44.550Z"
   },
   {
    "duration": 39,
    "start_time": "2022-01-04T10:53:20.470Z"
   },
   {
    "duration": 35,
    "start_time": "2022-01-04T10:56:55.012Z"
   },
   {
    "duration": 46,
    "start_time": "2022-01-04T10:58:02.558Z"
   },
   {
    "duration": 42,
    "start_time": "2022-01-04T10:58:35.007Z"
   },
   {
    "duration": 51,
    "start_time": "2022-01-04T10:59:18.590Z"
   },
   {
    "duration": 50,
    "start_time": "2022-01-04T10:59:47.212Z"
   },
   {
    "duration": 560,
    "start_time": "2022-01-04T12:49:39.396Z"
   },
   {
    "duration": 55,
    "start_time": "2022-01-04T12:49:39.957Z"
   },
   {
    "duration": 11,
    "start_time": "2022-01-04T12:49:40.015Z"
   },
   {
    "duration": 8,
    "start_time": "2022-01-04T12:49:40.028Z"
   },
   {
    "duration": 17,
    "start_time": "2022-01-04T12:49:40.038Z"
   },
   {
    "duration": 6,
    "start_time": "2022-01-04T12:49:40.057Z"
   },
   {
    "duration": 6,
    "start_time": "2022-01-04T12:49:40.065Z"
   },
   {
    "duration": 10,
    "start_time": "2022-01-04T12:49:40.073Z"
   },
   {
    "duration": 7,
    "start_time": "2022-01-04T12:49:40.085Z"
   },
   {
    "duration": 7,
    "start_time": "2022-01-04T12:49:40.094Z"
   },
   {
    "duration": 7,
    "start_time": "2022-01-04T12:49:40.103Z"
   },
   {
    "duration": 7,
    "start_time": "2022-01-04T12:49:40.112Z"
   },
   {
    "duration": 40,
    "start_time": "2022-01-04T12:49:40.121Z"
   },
   {
    "duration": 28,
    "start_time": "2022-01-04T12:49:40.162Z"
   },
   {
    "duration": 6,
    "start_time": "2022-01-04T12:49:40.192Z"
   },
   {
    "duration": 9,
    "start_time": "2022-01-04T12:49:40.199Z"
   },
   {
    "duration": 7,
    "start_time": "2022-01-04T12:49:40.209Z"
   },
   {
    "duration": 25,
    "start_time": "2022-01-04T12:49:40.217Z"
   },
   {
    "duration": 18,
    "start_time": "2022-01-04T12:49:40.244Z"
   },
   {
    "duration": 10,
    "start_time": "2022-01-04T12:49:40.265Z"
   },
   {
    "duration": 5,
    "start_time": "2022-01-04T12:49:40.276Z"
   },
   {
    "duration": 10,
    "start_time": "2022-01-04T12:49:40.283Z"
   },
   {
    "duration": 6,
    "start_time": "2022-01-04T12:49:40.295Z"
   },
   {
    "duration": 12,
    "start_time": "2022-01-04T12:49:40.303Z"
   },
   {
    "duration": 4,
    "start_time": "2022-01-04T12:49:40.317Z"
   },
   {
    "duration": 40,
    "start_time": "2022-01-04T12:49:40.323Z"
   },
   {
    "duration": 19,
    "start_time": "2022-01-04T12:49:40.367Z"
   },
   {
    "duration": 8,
    "start_time": "2022-01-04T12:49:40.388Z"
   },
   {
    "duration": 11,
    "start_time": "2022-01-04T12:49:40.398Z"
   },
   {
    "duration": 20,
    "start_time": "2022-01-04T12:49:40.411Z"
   },
   {
    "duration": 35,
    "start_time": "2022-01-04T12:49:40.432Z"
   },
   {
    "duration": 6,
    "start_time": "2022-01-04T12:49:40.469Z"
   },
   {
    "duration": 2894,
    "start_time": "2022-01-04T12:49:40.477Z"
   },
   {
    "duration": 32,
    "start_time": "2022-01-04T12:49:43.372Z"
   },
   {
    "duration": 21,
    "start_time": "2022-01-04T12:49:43.406Z"
   },
   {
    "duration": 28,
    "start_time": "2022-01-04T12:49:55.089Z"
   },
   {
    "duration": 23,
    "start_time": "2022-01-04T12:50:21.575Z"
   },
   {
    "duration": 22,
    "start_time": "2022-01-04T12:50:27.556Z"
   },
   {
    "duration": 334,
    "start_time": "2022-01-04T12:53:05.783Z"
   },
   {
    "duration": 22,
    "start_time": "2022-01-04T12:53:16.313Z"
   },
   {
    "duration": 22,
    "start_time": "2022-01-04T13:20:33.120Z"
   },
   {
    "duration": 28,
    "start_time": "2022-01-04T13:20:47.465Z"
   },
   {
    "duration": 30,
    "start_time": "2022-01-04T13:21:01.253Z"
   },
   {
    "duration": 22,
    "start_time": "2022-01-04T13:21:38.471Z"
   },
   {
    "duration": 7,
    "start_time": "2022-01-04T13:22:06.632Z"
   },
   {
    "duration": 8,
    "start_time": "2022-01-04T13:22:25.821Z"
   },
   {
    "duration": 10,
    "start_time": "2022-01-04T13:22:33.018Z"
   },
   {
    "duration": 12,
    "start_time": "2022-01-04T13:22:43.352Z"
   },
   {
    "duration": 16,
    "start_time": "2022-01-04T13:22:50.708Z"
   },
   {
    "duration": 14,
    "start_time": "2022-01-04T13:22:57.621Z"
   },
   {
    "duration": 6,
    "start_time": "2022-01-04T13:36:55.963Z"
   },
   {
    "duration": 245,
    "start_time": "2022-01-04T13:38:26.018Z"
   },
   {
    "duration": 7,
    "start_time": "2022-01-04T13:38:30.213Z"
   },
   {
    "duration": 244,
    "start_time": "2022-01-04T13:38:31.033Z"
   },
   {
    "duration": 14,
    "start_time": "2022-01-04T13:38:51.185Z"
   },
   {
    "duration": 6,
    "start_time": "2022-01-04T13:38:53.644Z"
   },
   {
    "duration": 309,
    "start_time": "2022-01-04T13:38:54.476Z"
   },
   {
    "duration": 24,
    "start_time": "2022-01-04T13:39:00.730Z"
   },
   {
    "duration": 20,
    "start_time": "2022-01-04T13:39:13.628Z"
   },
   {
    "duration": 7,
    "start_time": "2022-01-04T13:39:46.240Z"
   },
   {
    "duration": 10,
    "start_time": "2022-01-04T13:39:52.774Z"
   },
   {
    "duration": 6,
    "start_time": "2022-01-04T13:40:02.980Z"
   },
   {
    "duration": 9,
    "start_time": "2022-01-04T13:40:15.413Z"
   },
   {
    "duration": 7,
    "start_time": "2022-01-04T13:40:53.592Z"
   },
   {
    "duration": 307,
    "start_time": "2022-01-04T13:41:11.774Z"
   },
   {
    "duration": 7,
    "start_time": "2022-01-04T13:41:26.954Z"
   },
   {
    "duration": 9,
    "start_time": "2022-01-04T13:42:57.112Z"
   },
   {
    "duration": 8,
    "start_time": "2022-01-04T13:43:25.527Z"
   },
   {
    "duration": 8,
    "start_time": "2022-01-04T13:43:32.194Z"
   },
   {
    "duration": 8,
    "start_time": "2022-01-04T13:43:38.546Z"
   },
   {
    "duration": 10,
    "start_time": "2022-01-04T13:44:05.233Z"
   },
   {
    "duration": 239,
    "start_time": "2022-01-04T13:55:40.831Z"
   },
   {
    "duration": 6,
    "start_time": "2022-01-04T13:55:44.953Z"
   },
   {
    "duration": 250,
    "start_time": "2022-01-04T13:55:57.336Z"
   },
   {
    "duration": 250,
    "start_time": "2022-01-04T13:58:22.379Z"
   },
   {
    "duration": 259,
    "start_time": "2022-01-04T13:58:29.634Z"
   },
   {
    "duration": -1170,
    "start_time": "2022-01-04T13:59:39.098Z"
   },
   {
    "duration": -580,
    "start_time": "2022-01-04T14:00:49.551Z"
   },
   {
    "duration": 441,
    "start_time": "2022-01-04T14:02:59.468Z"
   },
   {
    "duration": 245,
    "start_time": "2022-01-04T14:03:10.346Z"
   },
   {
    "duration": -764,
    "start_time": "2022-01-04T14:05:23.472Z"
   },
   {
    "duration": 35593,
    "start_time": "2022-01-04T14:05:42.489Z"
   },
   {
    "duration": 706,
    "start_time": "2022-01-04T16:11:54.144Z"
   },
   {
    "duration": 54,
    "start_time": "2022-01-04T16:11:54.852Z"
   },
   {
    "duration": 11,
    "start_time": "2022-01-04T16:11:54.908Z"
   },
   {
    "duration": 22,
    "start_time": "2022-01-04T16:11:54.922Z"
   },
   {
    "duration": 11,
    "start_time": "2022-01-04T16:11:54.946Z"
   },
   {
    "duration": 13,
    "start_time": "2022-01-04T16:11:54.961Z"
   },
   {
    "duration": 8,
    "start_time": "2022-01-04T16:11:54.975Z"
   },
   {
    "duration": 10,
    "start_time": "2022-01-04T16:11:54.984Z"
   },
   {
    "duration": 7,
    "start_time": "2022-01-04T16:11:54.997Z"
   },
   {
    "duration": 7,
    "start_time": "2022-01-04T16:11:55.007Z"
   },
   {
    "duration": 10,
    "start_time": "2022-01-04T16:11:55.016Z"
   },
   {
    "duration": 33,
    "start_time": "2022-01-04T16:11:55.028Z"
   },
   {
    "duration": 5,
    "start_time": "2022-01-04T16:11:55.063Z"
   },
   {
    "duration": 35,
    "start_time": "2022-01-04T16:11:55.070Z"
   },
   {
    "duration": 6,
    "start_time": "2022-01-04T16:11:55.107Z"
   },
   {
    "duration": 9,
    "start_time": "2022-01-04T16:11:55.116Z"
   },
   {
    "duration": 6,
    "start_time": "2022-01-04T16:11:55.127Z"
   },
   {
    "duration": 28,
    "start_time": "2022-01-04T16:11:55.135Z"
   },
   {
    "duration": 11,
    "start_time": "2022-01-04T16:11:55.165Z"
   },
   {
    "duration": 10,
    "start_time": "2022-01-04T16:11:55.178Z"
   },
   {
    "duration": 5,
    "start_time": "2022-01-04T16:11:55.190Z"
   },
   {
    "duration": 14,
    "start_time": "2022-01-04T16:11:55.196Z"
   },
   {
    "duration": 9,
    "start_time": "2022-01-04T16:11:55.211Z"
   },
   {
    "duration": 39,
    "start_time": "2022-01-04T16:11:55.222Z"
   },
   {
    "duration": 5,
    "start_time": "2022-01-04T16:11:55.263Z"
   },
   {
    "duration": 7,
    "start_time": "2022-01-04T16:11:55.270Z"
   },
   {
    "duration": 23,
    "start_time": "2022-01-04T16:11:55.280Z"
   },
   {
    "duration": 7,
    "start_time": "2022-01-04T16:11:55.306Z"
   },
   {
    "duration": 14,
    "start_time": "2022-01-04T16:11:55.315Z"
   },
   {
    "duration": 48,
    "start_time": "2022-01-04T16:11:55.331Z"
   },
   {
    "duration": 13,
    "start_time": "2022-01-04T16:11:55.381Z"
   },
   {
    "duration": 9,
    "start_time": "2022-01-04T16:11:55.396Z"
   },
   {
    "duration": 3158,
    "start_time": "2022-01-04T16:11:55.406Z"
   },
   {
    "duration": 24,
    "start_time": "2022-01-04T16:11:58.565Z"
   },
   {
    "duration": 8,
    "start_time": "2022-01-04T16:11:58.591Z"
   },
   {
    "duration": 31,
    "start_time": "2022-01-04T16:11:58.601Z"
   },
   {
    "duration": 29,
    "start_time": "2022-01-04T16:11:58.634Z"
   },
   {
    "duration": 12,
    "start_time": "2022-01-04T16:11:58.665Z"
   },
   {
    "duration": 13,
    "start_time": "2022-01-04T16:11:58.678Z"
   },
   {
    "duration": 9,
    "start_time": "2022-01-04T16:11:58.692Z"
   },
   {
    "duration": -151,
    "start_time": "2022-01-04T16:16:38.278Z"
   },
   {
    "duration": 141,
    "start_time": "2022-01-04T16:16:40.319Z"
   },
   {
    "duration": 137,
    "start_time": "2022-01-04T16:17:08.882Z"
   },
   {
    "duration": 199,
    "start_time": "2022-01-04T16:17:24.229Z"
   },
   {
    "duration": 162,
    "start_time": "2022-01-04T16:18:30.464Z"
   },
   {
    "duration": 127,
    "start_time": "2022-01-04T16:24:57.444Z"
   },
   {
    "duration": 309,
    "start_time": "2022-01-04T16:25:35.843Z"
   },
   {
    "duration": 347,
    "start_time": "2022-01-04T16:26:06.174Z"
   },
   {
    "duration": 99,
    "start_time": "2022-01-04T16:26:18.685Z"
   },
   {
    "duration": 927,
    "start_time": "2022-01-04T16:26:48.301Z"
   },
   {
    "duration": 2617,
    "start_time": "2022-01-04T16:27:21.632Z"
   },
   {
    "duration": 2511,
    "start_time": "2022-01-04T16:27:47.348Z"
   },
   {
    "duration": 160,
    "start_time": "2022-01-04T16:29:07.981Z"
   },
   {
    "duration": 133,
    "start_time": "2022-01-04T16:33:03.253Z"
   },
   {
    "duration": 445,
    "start_time": "2022-01-04T16:34:17.872Z"
   },
   {
    "duration": 481,
    "start_time": "2022-01-04T16:34:29.762Z"
   },
   {
    "duration": 576,
    "start_time": "2022-01-04T16:35:01.552Z"
   },
   {
    "duration": 19498,
    "start_time": "2022-01-04T16:35:18.581Z"
   },
   {
    "duration": 470,
    "start_time": "2022-01-04T16:35:45.047Z"
   },
   {
    "duration": 483,
    "start_time": "2022-01-04T16:36:39.141Z"
   },
   {
    "duration": 552,
    "start_time": "2022-01-04T16:37:48.549Z"
   },
   {
    "duration": 134,
    "start_time": "2022-01-04T16:37:55.934Z"
   },
   {
    "duration": 172,
    "start_time": "2022-01-04T16:38:12.637Z"
   },
   {
    "duration": 171,
    "start_time": "2022-01-04T16:39:15.053Z"
   },
   {
    "duration": 178,
    "start_time": "2022-01-04T16:39:36.673Z"
   },
   {
    "duration": 169,
    "start_time": "2022-01-04T16:40:10.944Z"
   },
   {
    "duration": 171,
    "start_time": "2022-01-04T16:40:43.960Z"
   },
   {
    "duration": 178,
    "start_time": "2022-01-04T16:40:53.715Z"
   },
   {
    "duration": 185,
    "start_time": "2022-01-04T16:41:01.650Z"
   },
   {
    "duration": 166,
    "start_time": "2022-01-04T16:41:07.014Z"
   },
   {
    "duration": 176,
    "start_time": "2022-01-04T16:41:22.011Z"
   },
   {
    "duration": 169,
    "start_time": "2022-01-04T16:41:28.413Z"
   },
   {
    "duration": 263,
    "start_time": "2022-01-04T16:41:35.753Z"
   },
   {
    "duration": 139,
    "start_time": "2022-01-04T16:42:00.164Z"
   },
   {
    "duration": 114,
    "start_time": "2022-01-04T16:42:47.278Z"
   },
   {
    "duration": 564,
    "start_time": "2022-01-04T16:43:04.902Z"
   },
   {
    "duration": 57,
    "start_time": "2022-01-04T16:43:05.468Z"
   },
   {
    "duration": 10,
    "start_time": "2022-01-04T16:43:05.527Z"
   },
   {
    "duration": 9,
    "start_time": "2022-01-04T16:43:05.538Z"
   },
   {
    "duration": 18,
    "start_time": "2022-01-04T16:43:05.549Z"
   },
   {
    "duration": 10,
    "start_time": "2022-01-04T16:43:05.569Z"
   },
   {
    "duration": 21,
    "start_time": "2022-01-04T16:43:05.580Z"
   },
   {
    "duration": 12,
    "start_time": "2022-01-04T16:43:05.603Z"
   },
   {
    "duration": 12,
    "start_time": "2022-01-04T16:43:05.618Z"
   },
   {
    "duration": 12,
    "start_time": "2022-01-04T16:43:05.632Z"
   },
   {
    "duration": 28,
    "start_time": "2022-01-04T16:43:05.646Z"
   },
   {
    "duration": 6,
    "start_time": "2022-01-04T16:43:05.676Z"
   },
   {
    "duration": 12,
    "start_time": "2022-01-04T16:43:05.684Z"
   },
   {
    "duration": 41,
    "start_time": "2022-01-04T16:43:05.698Z"
   },
   {
    "duration": 14,
    "start_time": "2022-01-04T16:43:05.741Z"
   },
   {
    "duration": 14,
    "start_time": "2022-01-04T16:43:05.757Z"
   },
   {
    "duration": 20,
    "start_time": "2022-01-04T16:43:05.773Z"
   },
   {
    "duration": 31,
    "start_time": "2022-01-04T16:43:05.795Z"
   },
   {
    "duration": 16,
    "start_time": "2022-01-04T16:43:05.828Z"
   },
   {
    "duration": 28,
    "start_time": "2022-01-04T16:43:05.846Z"
   },
   {
    "duration": 11,
    "start_time": "2022-01-04T16:43:05.876Z"
   },
   {
    "duration": 13,
    "start_time": "2022-01-04T16:43:05.889Z"
   },
   {
    "duration": 30,
    "start_time": "2022-01-04T16:43:05.905Z"
   },
   {
    "duration": 27,
    "start_time": "2022-01-04T16:43:05.938Z"
   },
   {
    "duration": 16,
    "start_time": "2022-01-04T16:43:05.967Z"
   },
   {
    "duration": 12,
    "start_time": "2022-01-04T16:43:05.985Z"
   },
   {
    "duration": 34,
    "start_time": "2022-01-04T16:43:05.999Z"
   },
   {
    "duration": 11,
    "start_time": "2022-01-04T16:43:06.035Z"
   },
   {
    "duration": 40,
    "start_time": "2022-01-04T16:43:06.048Z"
   },
   {
    "duration": 29,
    "start_time": "2022-01-04T16:43:06.090Z"
   },
   {
    "duration": 14,
    "start_time": "2022-01-04T16:43:06.121Z"
   },
   {
    "duration": 9,
    "start_time": "2022-01-04T16:43:06.137Z"
   },
   {
    "duration": 2973,
    "start_time": "2022-01-04T16:43:06.148Z"
   },
   {
    "duration": 24,
    "start_time": "2022-01-04T16:43:09.123Z"
   },
   {
    "duration": 18,
    "start_time": "2022-01-04T16:43:09.149Z"
   },
   {
    "duration": 10,
    "start_time": "2022-01-04T16:43:09.169Z"
   },
   {
    "duration": 15,
    "start_time": "2022-01-04T16:43:09.181Z"
   },
   {
    "duration": 14,
    "start_time": "2022-01-04T16:43:09.198Z"
   },
   {
    "duration": 8,
    "start_time": "2022-01-04T16:43:09.214Z"
   },
   {
    "duration": 38,
    "start_time": "2022-01-04T16:43:09.224Z"
   },
   {
    "duration": 133,
    "start_time": "2022-01-04T16:43:09.263Z"
   },
   {
    "duration": 126,
    "start_time": "2022-01-04T16:43:09.399Z"
   },
   {
    "duration": 137,
    "start_time": "2022-01-04T16:43:09.527Z"
   },
   {
    "duration": 140,
    "start_time": "2022-01-04T16:43:09.666Z"
   },
   {
    "duration": 202,
    "start_time": "2022-01-04T16:43:09.809Z"
   },
   {
    "duration": 118,
    "start_time": "2022-01-04T16:43:10.013Z"
   },
   {
    "duration": 132,
    "start_time": "2022-01-04T16:43:10.132Z"
   },
   {
    "duration": 125,
    "start_time": "2022-01-04T16:43:10.266Z"
   },
   {
    "duration": 128,
    "start_time": "2022-01-04T16:43:10.392Z"
   },
   {
    "duration": 123,
    "start_time": "2022-01-04T16:43:10.522Z"
   },
   {
    "duration": 119,
    "start_time": "2022-01-04T16:43:10.647Z"
   },
   {
    "duration": 118,
    "start_time": "2022-01-04T16:43:10.767Z"
   },
   {
    "duration": 8,
    "start_time": "2022-01-04T16:45:17.792Z"
   },
   {
    "duration": 8,
    "start_time": "2022-01-04T16:45:18.434Z"
   },
   {
    "duration": 112,
    "start_time": "2022-01-04T16:45:20.120Z"
   },
   {
    "duration": 116,
    "start_time": "2022-01-04T16:45:20.893Z"
   },
   {
    "duration": 115,
    "start_time": "2022-01-04T16:45:21.370Z"
   },
   {
    "duration": 82,
    "start_time": "2022-01-04T16:56:26.473Z"
   },
   {
    "duration": 7,
    "start_time": "2022-01-04T17:47:19.593Z"
   },
   {
    "duration": 7,
    "start_time": "2022-01-04T17:47:59.375Z"
   },
   {
    "duration": 309,
    "start_time": "2022-01-04T17:51:39.631Z"
   },
   {
    "duration": 7,
    "start_time": "2022-01-04T17:51:45.917Z"
   },
   {
    "duration": 18,
    "start_time": "2022-01-04T17:55:15.827Z"
   },
   {
    "duration": 332,
    "start_time": "2022-01-04T17:56:46.989Z"
   },
   {
    "duration": 13,
    "start_time": "2022-01-04T17:57:09.837Z"
   },
   {
    "duration": 257,
    "start_time": "2022-01-04T17:58:03.528Z"
   },
   {
    "duration": 8,
    "start_time": "2022-01-04T17:58:16.921Z"
   },
   {
    "duration": 291,
    "start_time": "2022-01-04T17:58:27.185Z"
   },
   {
    "duration": 9,
    "start_time": "2022-01-04T17:58:48.836Z"
   },
   {
    "duration": 248,
    "start_time": "2022-01-04T17:59:55.950Z"
   },
   {
    "duration": 8,
    "start_time": "2022-01-04T18:00:09.529Z"
   },
   {
    "duration": 86,
    "start_time": "2022-01-04T18:01:00.550Z"
   },
   {
    "duration": 345,
    "start_time": "2022-01-04T18:01:06.815Z"
   },
   {
    "duration": 258,
    "start_time": "2022-01-04T18:02:23.918Z"
   },
   {
    "duration": 1010,
    "start_time": "2022-01-04T18:03:22.562Z"
   },
   {
    "duration": 323,
    "start_time": "2022-01-04T18:03:49.235Z"
   },
   {
    "duration": 264,
    "start_time": "2022-01-04T18:04:10.040Z"
   },
   {
    "duration": 5108,
    "start_time": "2022-01-04T18:07:08.212Z"
   },
   {
    "duration": 4724,
    "start_time": "2022-01-04T18:08:03.813Z"
   },
   {
    "duration": 20,
    "start_time": "2022-01-04T18:09:36.697Z"
   },
   {
    "duration": 4,
    "start_time": "2022-01-04T18:11:20.265Z"
   },
   {
    "duration": 7,
    "start_time": "2022-01-04T18:11:34.068Z"
   },
   {
    "duration": 21,
    "start_time": "2022-01-04T18:12:11.614Z"
   },
   {
    "duration": 7,
    "start_time": "2022-01-04T18:18:55.806Z"
   },
   {
    "duration": 7,
    "start_time": "2022-01-04T18:19:43.168Z"
   },
   {
    "duration": 8,
    "start_time": "2022-01-04T18:19:57.287Z"
   },
   {
    "duration": 611,
    "start_time": "2022-01-04T19:51:03.754Z"
   },
   {
    "duration": 52,
    "start_time": "2022-01-04T19:51:04.367Z"
   },
   {
    "duration": 9,
    "start_time": "2022-01-04T19:51:04.421Z"
   },
   {
    "duration": 35,
    "start_time": "2022-01-04T19:51:04.432Z"
   },
   {
    "duration": 10,
    "start_time": "2022-01-04T19:51:04.468Z"
   },
   {
    "duration": 5,
    "start_time": "2022-01-04T19:51:04.479Z"
   },
   {
    "duration": 5,
    "start_time": "2022-01-04T19:51:04.486Z"
   },
   {
    "duration": 10,
    "start_time": "2022-01-04T19:51:04.493Z"
   },
   {
    "duration": 7,
    "start_time": "2022-01-04T19:51:04.505Z"
   },
   {
    "duration": 15,
    "start_time": "2022-01-04T19:51:04.514Z"
   },
   {
    "duration": 8,
    "start_time": "2022-01-04T19:51:04.530Z"
   },
   {
    "duration": 26,
    "start_time": "2022-01-04T19:51:04.540Z"
   },
   {
    "duration": 4,
    "start_time": "2022-01-04T19:51:04.567Z"
   },
   {
    "duration": 26,
    "start_time": "2022-01-04T19:51:04.573Z"
   },
   {
    "duration": 4,
    "start_time": "2022-01-04T19:51:04.601Z"
   },
   {
    "duration": 6,
    "start_time": "2022-01-04T19:51:04.606Z"
   },
   {
    "duration": 4,
    "start_time": "2022-01-04T19:51:04.614Z"
   },
   {
    "duration": 13,
    "start_time": "2022-01-04T19:51:04.620Z"
   },
   {
    "duration": 31,
    "start_time": "2022-01-04T19:51:04.635Z"
   },
   {
    "duration": 10,
    "start_time": "2022-01-04T19:51:04.668Z"
   },
   {
    "duration": 5,
    "start_time": "2022-01-04T19:51:04.679Z"
   },
   {
    "duration": 8,
    "start_time": "2022-01-04T19:51:04.686Z"
   },
   {
    "duration": 9,
    "start_time": "2022-01-04T19:51:04.696Z"
   },
   {
    "duration": 13,
    "start_time": "2022-01-04T19:51:04.706Z"
   },
   {
    "duration": 5,
    "start_time": "2022-01-04T19:51:04.720Z"
   },
   {
    "duration": 38,
    "start_time": "2022-01-04T19:51:04.727Z"
   },
   {
    "duration": 18,
    "start_time": "2022-01-04T19:51:04.768Z"
   },
   {
    "duration": 6,
    "start_time": "2022-01-04T19:51:04.788Z"
   },
   {
    "duration": 12,
    "start_time": "2022-01-04T19:51:04.796Z"
   },
   {
    "duration": 31,
    "start_time": "2022-01-04T19:51:04.810Z"
   },
   {
    "duration": 29,
    "start_time": "2022-01-04T19:51:04.842Z"
   },
   {
    "duration": 8,
    "start_time": "2022-01-04T19:51:04.873Z"
   },
   {
    "duration": 3091,
    "start_time": "2022-01-04T19:51:04.883Z"
   },
   {
    "duration": 23,
    "start_time": "2022-01-04T19:51:07.975Z"
   },
   {
    "duration": 9,
    "start_time": "2022-01-04T19:51:07.999Z"
   },
   {
    "duration": 13,
    "start_time": "2022-01-04T19:51:08.010Z"
   },
   {
    "duration": 38,
    "start_time": "2022-01-04T19:51:08.024Z"
   },
   {
    "duration": 13,
    "start_time": "2022-01-04T19:51:08.063Z"
   },
   {
    "duration": 5,
    "start_time": "2022-01-04T19:51:08.078Z"
   },
   {
    "duration": 14,
    "start_time": "2022-01-04T19:51:08.085Z"
   },
   {
    "duration": 124,
    "start_time": "2022-01-04T19:51:08.100Z"
   },
   {
    "duration": 114,
    "start_time": "2022-01-04T19:51:08.226Z"
   },
   {
    "duration": 115,
    "start_time": "2022-01-04T19:51:08.342Z"
   },
   {
    "duration": 121,
    "start_time": "2022-01-04T19:51:08.458Z"
   },
   {
    "duration": 188,
    "start_time": "2022-01-04T19:51:08.581Z"
   },
   {
    "duration": 103,
    "start_time": "2022-01-04T19:51:08.770Z"
   },
   {
    "duration": 124,
    "start_time": "2022-01-04T19:51:08.874Z"
   },
   {
    "duration": 116,
    "start_time": "2022-01-04T19:51:08.999Z"
   },
   {
    "duration": 124,
    "start_time": "2022-01-04T19:51:09.117Z"
   },
   {
    "duration": 115,
    "start_time": "2022-01-04T19:51:09.243Z"
   },
   {
    "duration": 121,
    "start_time": "2022-01-04T19:51:09.360Z"
   },
   {
    "duration": 121,
    "start_time": "2022-01-04T19:51:09.483Z"
   },
   {
    "duration": 7,
    "start_time": "2022-01-04T19:51:09.606Z"
   },
   {
    "duration": 13,
    "start_time": "2022-01-04T19:51:09.614Z"
   },
   {
    "duration": 10,
    "start_time": "2022-01-04T19:51:09.628Z"
   },
   {
    "duration": 518,
    "start_time": "2022-01-05T05:44:46.335Z"
   },
   {
    "duration": 573,
    "start_time": "2022-01-05T05:44:53.965Z"
   },
   {
    "duration": 52,
    "start_time": "2022-01-05T05:44:54.540Z"
   },
   {
    "duration": 10,
    "start_time": "2022-01-05T05:44:54.594Z"
   },
   {
    "duration": 4,
    "start_time": "2022-01-05T05:44:54.606Z"
   },
   {
    "duration": 10,
    "start_time": "2022-01-05T05:44:54.611Z"
   },
   {
    "duration": 4,
    "start_time": "2022-01-05T05:44:54.622Z"
   },
   {
    "duration": 6,
    "start_time": "2022-01-05T05:44:54.627Z"
   },
   {
    "duration": 11,
    "start_time": "2022-01-05T05:44:54.634Z"
   },
   {
    "duration": 7,
    "start_time": "2022-01-05T05:44:54.648Z"
   },
   {
    "duration": 41,
    "start_time": "2022-01-05T05:44:54.656Z"
   },
   {
    "duration": 15,
    "start_time": "2022-01-05T05:44:54.699Z"
   },
   {
    "duration": 9,
    "start_time": "2022-01-05T05:44:54.716Z"
   },
   {
    "duration": 16,
    "start_time": "2022-01-05T05:44:54.727Z"
   },
   {
    "duration": 28,
    "start_time": "2022-01-05T05:44:54.745Z"
   },
   {
    "duration": 13,
    "start_time": "2022-01-05T05:44:54.774Z"
   },
   {
    "duration": 5,
    "start_time": "2022-01-05T05:44:54.788Z"
   },
   {
    "duration": 17,
    "start_time": "2022-01-05T05:44:54.795Z"
   },
   {
    "duration": 17,
    "start_time": "2022-01-05T05:44:54.813Z"
   },
   {
    "duration": 8,
    "start_time": "2022-01-05T05:44:54.831Z"
   },
   {
    "duration": 21,
    "start_time": "2022-01-05T05:44:54.840Z"
   },
   {
    "duration": 10,
    "start_time": "2022-01-05T05:44:54.862Z"
   },
   {
    "duration": 12,
    "start_time": "2022-01-05T05:44:54.873Z"
   },
   {
    "duration": 12,
    "start_time": "2022-01-05T05:44:54.886Z"
   },
   {
    "duration": 11,
    "start_time": "2022-01-05T05:44:54.899Z"
   },
   {
    "duration": 5,
    "start_time": "2022-01-05T05:44:54.911Z"
   },
   {
    "duration": 16,
    "start_time": "2022-01-05T05:44:54.918Z"
   },
   {
    "duration": 19,
    "start_time": "2022-01-05T05:44:54.937Z"
   },
   {
    "duration": 6,
    "start_time": "2022-01-05T05:44:54.958Z"
   },
   {
    "duration": 12,
    "start_time": "2022-01-05T05:44:54.965Z"
   },
   {
    "duration": 21,
    "start_time": "2022-01-05T05:44:54.991Z"
   },
   {
    "duration": 12,
    "start_time": "2022-01-05T05:44:55.013Z"
   },
   {
    "duration": 8,
    "start_time": "2022-01-05T05:44:55.026Z"
   },
   {
    "duration": 3051,
    "start_time": "2022-01-05T05:44:55.036Z"
   },
   {
    "duration": 26,
    "start_time": "2022-01-05T05:44:58.091Z"
   },
   {
    "duration": 10,
    "start_time": "2022-01-05T05:44:58.119Z"
   },
   {
    "duration": 11,
    "start_time": "2022-01-05T05:44:58.131Z"
   },
   {
    "duration": 14,
    "start_time": "2022-01-05T05:44:58.144Z"
   },
   {
    "duration": 42,
    "start_time": "2022-01-05T05:44:58.160Z"
   },
   {
    "duration": 5,
    "start_time": "2022-01-05T05:44:58.204Z"
   },
   {
    "duration": 7,
    "start_time": "2022-01-05T05:44:58.211Z"
   },
   {
    "duration": 134,
    "start_time": "2022-01-05T05:44:58.220Z"
   },
   {
    "duration": 110,
    "start_time": "2022-01-05T05:44:58.356Z"
   },
   {
    "duration": 127,
    "start_time": "2022-01-05T05:44:58.468Z"
   },
   {
    "duration": 129,
    "start_time": "2022-01-05T05:44:58.597Z"
   },
   {
    "duration": 186,
    "start_time": "2022-01-05T05:44:58.728Z"
   },
   {
    "duration": 119,
    "start_time": "2022-01-05T05:44:58.916Z"
   },
   {
    "duration": 125,
    "start_time": "2022-01-05T05:44:59.037Z"
   },
   {
    "duration": 116,
    "start_time": "2022-01-05T05:44:59.163Z"
   },
   {
    "duration": 126,
    "start_time": "2022-01-05T05:44:59.281Z"
   },
   {
    "duration": 124,
    "start_time": "2022-01-05T05:44:59.409Z"
   },
   {
    "duration": 123,
    "start_time": "2022-01-05T05:44:59.534Z"
   },
   {
    "duration": 113,
    "start_time": "2022-01-05T05:44:59.659Z"
   },
   {
    "duration": 7,
    "start_time": "2022-01-05T05:44:59.773Z"
   },
   {
    "duration": 23,
    "start_time": "2022-01-05T06:06:36.762Z"
   },
   {
    "duration": 253,
    "start_time": "2022-01-05T06:07:23.358Z"
   },
   {
    "duration": 204,
    "start_time": "2022-01-05T06:07:42.342Z"
   },
   {
    "duration": 6,
    "start_time": "2022-01-05T06:09:31.395Z"
   },
   {
    "duration": 7,
    "start_time": "2022-01-05T06:09:40.354Z"
   },
   {
    "duration": 7,
    "start_time": "2022-01-05T06:09:46.684Z"
   },
   {
    "duration": 6,
    "start_time": "2022-01-05T06:10:14.545Z"
   },
   {
    "duration": 8,
    "start_time": "2022-01-05T06:10:23.405Z"
   },
   {
    "duration": 42,
    "start_time": "2022-01-05T06:16:51.686Z"
   },
   {
    "duration": 31,
    "start_time": "2022-01-05T06:18:06.355Z"
   },
   {
    "duration": 16,
    "start_time": "2022-01-05T06:18:20.142Z"
   },
   {
    "duration": 7,
    "start_time": "2022-01-05T06:19:37.434Z"
   },
   {
    "duration": 197,
    "start_time": "2022-01-05T06:20:10.003Z"
   },
   {
    "duration": 7,
    "start_time": "2022-01-05T06:20:32.643Z"
   },
   {
    "duration": 22,
    "start_time": "2022-01-05T06:20:52.734Z"
   },
   {
    "duration": 24,
    "start_time": "2022-01-05T06:23:20.393Z"
   },
   {
    "duration": 19,
    "start_time": "2022-01-05T06:23:32.786Z"
   },
   {
    "duration": 19,
    "start_time": "2022-01-05T06:23:43.416Z"
   },
   {
    "duration": 4401,
    "start_time": "2022-01-05T06:29:35.254Z"
   },
   {
    "duration": 4421,
    "start_time": "2022-01-05T06:29:54.918Z"
   },
   {
    "duration": 4598,
    "start_time": "2022-01-05T06:30:10.693Z"
   },
   {
    "duration": 4864,
    "start_time": "2022-01-05T06:30:23.360Z"
   },
   {
    "duration": 9,
    "start_time": "2022-01-05T06:38:31.953Z"
   },
   {
    "duration": 12,
    "start_time": "2022-01-05T06:39:42.792Z"
   },
   {
    "duration": 7,
    "start_time": "2022-01-05T06:39:58.913Z"
   },
   {
    "duration": 9,
    "start_time": "2022-01-05T06:40:28.164Z"
   },
   {
    "duration": 7,
    "start_time": "2022-01-05T06:41:11.192Z"
   },
   {
    "duration": 6649,
    "start_time": "2022-01-05T06:41:21.154Z"
   },
   {
    "duration": 543,
    "start_time": "2022-01-05T06:41:43.105Z"
   },
   {
    "duration": 52,
    "start_time": "2022-01-05T06:41:43.649Z"
   },
   {
    "duration": 8,
    "start_time": "2022-01-05T06:41:43.704Z"
   },
   {
    "duration": 5,
    "start_time": "2022-01-05T06:41:43.714Z"
   },
   {
    "duration": 11,
    "start_time": "2022-01-05T06:41:43.720Z"
   },
   {
    "duration": 4,
    "start_time": "2022-01-05T06:41:43.732Z"
   },
   {
    "duration": 6,
    "start_time": "2022-01-05T06:41:43.737Z"
   },
   {
    "duration": 9,
    "start_time": "2022-01-05T06:41:43.744Z"
   },
   {
    "duration": 42,
    "start_time": "2022-01-05T06:41:43.755Z"
   },
   {
    "duration": 6,
    "start_time": "2022-01-05T06:41:43.799Z"
   },
   {
    "duration": 6,
    "start_time": "2022-01-05T06:41:43.807Z"
   },
   {
    "duration": 7,
    "start_time": "2022-01-05T06:41:43.814Z"
   },
   {
    "duration": 4,
    "start_time": "2022-01-05T06:41:43.822Z"
   },
   {
    "duration": 27,
    "start_time": "2022-01-05T06:41:43.827Z"
   },
   {
    "duration": 37,
    "start_time": "2022-01-05T06:41:43.855Z"
   },
   {
    "duration": 4,
    "start_time": "2022-01-05T06:41:43.893Z"
   },
   {
    "duration": 5,
    "start_time": "2022-01-05T06:41:43.898Z"
   },
   {
    "duration": 14,
    "start_time": "2022-01-05T06:41:43.904Z"
   },
   {
    "duration": 6,
    "start_time": "2022-01-05T06:41:43.920Z"
   },
   {
    "duration": 9,
    "start_time": "2022-01-05T06:41:43.927Z"
   },
   {
    "duration": 5,
    "start_time": "2022-01-05T06:41:43.937Z"
   },
   {
    "duration": 9,
    "start_time": "2022-01-05T06:41:43.943Z"
   },
   {
    "duration": 42,
    "start_time": "2022-01-05T06:41:43.953Z"
   },
   {
    "duration": 12,
    "start_time": "2022-01-05T06:41:43.997Z"
   },
   {
    "duration": 4,
    "start_time": "2022-01-05T06:41:44.011Z"
   },
   {
    "duration": 5,
    "start_time": "2022-01-05T06:41:44.017Z"
   },
   {
    "duration": 18,
    "start_time": "2022-01-05T06:41:44.025Z"
   },
   {
    "duration": 7,
    "start_time": "2022-01-05T06:41:44.045Z"
   },
   {
    "duration": 44,
    "start_time": "2022-01-05T06:41:44.053Z"
   },
   {
    "duration": 21,
    "start_time": "2022-01-05T06:41:44.098Z"
   },
   {
    "duration": 10,
    "start_time": "2022-01-05T06:41:44.120Z"
   },
   {
    "duration": 6,
    "start_time": "2022-01-05T06:41:44.132Z"
   },
   {
    "duration": 3069,
    "start_time": "2022-01-05T06:41:44.140Z"
   },
   {
    "duration": 23,
    "start_time": "2022-01-05T06:41:47.210Z"
   },
   {
    "duration": 8,
    "start_time": "2022-01-05T06:41:47.234Z"
   },
   {
    "duration": 12,
    "start_time": "2022-01-05T06:41:47.244Z"
   },
   {
    "duration": 40,
    "start_time": "2022-01-05T06:41:47.257Z"
   },
   {
    "duration": 11,
    "start_time": "2022-01-05T06:41:47.298Z"
   },
   {
    "duration": 5,
    "start_time": "2022-01-05T06:41:47.310Z"
   },
   {
    "duration": 7,
    "start_time": "2022-01-05T06:41:47.316Z"
   },
   {
    "duration": 131,
    "start_time": "2022-01-05T06:41:47.325Z"
   },
   {
    "duration": 116,
    "start_time": "2022-01-05T06:41:47.457Z"
   },
   {
    "duration": 128,
    "start_time": "2022-01-05T06:41:47.575Z"
   },
   {
    "duration": 124,
    "start_time": "2022-01-05T06:41:47.705Z"
   },
   {
    "duration": 181,
    "start_time": "2022-01-05T06:41:47.831Z"
   },
   {
    "duration": 115,
    "start_time": "2022-01-05T06:41:48.014Z"
   },
   {
    "duration": 131,
    "start_time": "2022-01-05T06:41:48.132Z"
   },
   {
    "duration": 130,
    "start_time": "2022-01-05T06:41:48.265Z"
   },
   {
    "duration": 131,
    "start_time": "2022-01-05T06:41:48.397Z"
   },
   {
    "duration": 127,
    "start_time": "2022-01-05T06:41:48.531Z"
   },
   {
    "duration": 123,
    "start_time": "2022-01-05T06:41:48.660Z"
   },
   {
    "duration": 118,
    "start_time": "2022-01-05T06:41:48.785Z"
   },
   {
    "duration": 7,
    "start_time": "2022-01-05T06:41:48.905Z"
   },
   {
    "duration": 10,
    "start_time": "2022-01-05T06:41:48.914Z"
   },
   {
    "duration": 6622,
    "start_time": "2022-01-05T06:41:48.925Z"
   },
   {
    "duration": 11,
    "start_time": "2022-01-05T06:43:18.332Z"
   },
   {
    "duration": 8,
    "start_time": "2022-01-05T07:17:41.427Z"
   },
   {
    "duration": 8,
    "start_time": "2022-01-05T07:17:48.411Z"
   },
   {
    "duration": 572,
    "start_time": "2022-01-05T07:19:05.304Z"
   },
   {
    "duration": 54,
    "start_time": "2022-01-05T07:19:05.878Z"
   },
   {
    "duration": 9,
    "start_time": "2022-01-05T07:19:05.934Z"
   },
   {
    "duration": 19,
    "start_time": "2022-01-05T07:19:05.944Z"
   },
   {
    "duration": 46,
    "start_time": "2022-01-05T07:19:05.965Z"
   },
   {
    "duration": 33,
    "start_time": "2022-01-05T07:19:06.013Z"
   },
   {
    "duration": 21,
    "start_time": "2022-01-05T07:19:06.048Z"
   },
   {
    "duration": 31,
    "start_time": "2022-01-05T07:19:06.070Z"
   },
   {
    "duration": 23,
    "start_time": "2022-01-05T07:19:06.104Z"
   },
   {
    "duration": 27,
    "start_time": "2022-01-05T07:19:06.129Z"
   },
   {
    "duration": 44,
    "start_time": "2022-01-05T07:19:06.158Z"
   },
   {
    "duration": 25,
    "start_time": "2022-01-05T07:19:06.204Z"
   },
   {
    "duration": 30,
    "start_time": "2022-01-05T07:19:06.231Z"
   },
   {
    "duration": 40,
    "start_time": "2022-01-05T07:19:06.263Z"
   },
   {
    "duration": 19,
    "start_time": "2022-01-05T07:19:06.305Z"
   },
   {
    "duration": 31,
    "start_time": "2022-01-05T07:19:06.326Z"
   },
   {
    "duration": 30,
    "start_time": "2022-01-05T07:19:06.359Z"
   },
   {
    "duration": 34,
    "start_time": "2022-01-05T07:19:06.391Z"
   },
   {
    "duration": 34,
    "start_time": "2022-01-05T07:19:06.427Z"
   },
   {
    "duration": 32,
    "start_time": "2022-01-05T07:19:06.462Z"
   },
   {
    "duration": 30,
    "start_time": "2022-01-05T07:19:06.496Z"
   },
   {
    "duration": 15,
    "start_time": "2022-01-05T07:19:06.528Z"
   },
   {
    "duration": 29,
    "start_time": "2022-01-05T07:19:06.545Z"
   },
   {
    "duration": 20,
    "start_time": "2022-01-05T07:19:06.575Z"
   },
   {
    "duration": 7,
    "start_time": "2022-01-05T07:19:06.597Z"
   },
   {
    "duration": 7,
    "start_time": "2022-01-05T07:19:06.606Z"
   },
   {
    "duration": 19,
    "start_time": "2022-01-05T07:19:06.617Z"
   },
   {
    "duration": 8,
    "start_time": "2022-01-05T07:19:06.638Z"
   },
   {
    "duration": 45,
    "start_time": "2022-01-05T07:19:06.648Z"
   },
   {
    "duration": 23,
    "start_time": "2022-01-05T07:19:06.696Z"
   },
   {
    "duration": 12,
    "start_time": "2022-01-05T07:19:06.721Z"
   },
   {
    "duration": 8,
    "start_time": "2022-01-05T07:19:06.735Z"
   },
   {
    "duration": 3162,
    "start_time": "2022-01-05T07:19:06.745Z"
   },
   {
    "duration": 25,
    "start_time": "2022-01-05T07:19:09.909Z"
   },
   {
    "duration": 10,
    "start_time": "2022-01-05T07:19:09.936Z"
   },
   {
    "duration": 10,
    "start_time": "2022-01-05T07:19:09.948Z"
   },
   {
    "duration": 16,
    "start_time": "2022-01-05T07:19:09.992Z"
   },
   {
    "duration": 12,
    "start_time": "2022-01-05T07:19:10.010Z"
   },
   {
    "duration": 6,
    "start_time": "2022-01-05T07:19:10.024Z"
   },
   {
    "duration": 11,
    "start_time": "2022-01-05T07:19:10.031Z"
   },
   {
    "duration": 142,
    "start_time": "2022-01-05T07:19:10.044Z"
   },
   {
    "duration": 122,
    "start_time": "2022-01-05T07:19:10.188Z"
   },
   {
    "duration": 136,
    "start_time": "2022-01-05T07:19:10.312Z"
   },
   {
    "duration": 135,
    "start_time": "2022-01-05T07:19:10.449Z"
   },
   {
    "duration": 195,
    "start_time": "2022-01-05T07:19:10.586Z"
   },
   {
    "duration": 117,
    "start_time": "2022-01-05T07:19:10.783Z"
   },
   {
    "duration": 129,
    "start_time": "2022-01-05T07:19:10.902Z"
   },
   {
    "duration": 121,
    "start_time": "2022-01-05T07:19:11.033Z"
   },
   {
    "duration": 134,
    "start_time": "2022-01-05T07:19:11.155Z"
   },
   {
    "duration": 123,
    "start_time": "2022-01-05T07:19:11.291Z"
   },
   {
    "duration": 127,
    "start_time": "2022-01-05T07:19:11.415Z"
   },
   {
    "duration": 123,
    "start_time": "2022-01-05T07:19:11.544Z"
   },
   {
    "duration": 7,
    "start_time": "2022-01-05T07:19:11.668Z"
   },
   {
    "duration": 20,
    "start_time": "2022-01-05T07:19:11.677Z"
   },
   {
    "duration": 6674,
    "start_time": "2022-01-05T07:19:11.699Z"
   },
   {
    "duration": 23,
    "start_time": "2022-01-05T07:19:18.374Z"
   },
   {
    "duration": 570,
    "start_time": "2022-01-05T16:59:20.381Z"
   },
   {
    "duration": 53,
    "start_time": "2022-01-05T16:59:20.953Z"
   },
   {
    "duration": 10,
    "start_time": "2022-01-05T16:59:21.009Z"
   },
   {
    "duration": 5,
    "start_time": "2022-01-05T16:59:21.021Z"
   },
   {
    "duration": 10,
    "start_time": "2022-01-05T16:59:21.028Z"
   },
   {
    "duration": 24,
    "start_time": "2022-01-05T16:59:21.039Z"
   },
   {
    "duration": 7,
    "start_time": "2022-01-05T16:59:21.065Z"
   },
   {
    "duration": 10,
    "start_time": "2022-01-05T16:59:21.074Z"
   },
   {
    "duration": 8,
    "start_time": "2022-01-05T16:59:21.087Z"
   },
   {
    "duration": 7,
    "start_time": "2022-01-05T16:59:21.098Z"
   },
   {
    "duration": 10,
    "start_time": "2022-01-05T16:59:21.106Z"
   },
   {
    "duration": 43,
    "start_time": "2022-01-05T16:59:21.118Z"
   },
   {
    "duration": 4,
    "start_time": "2022-01-05T16:59:21.163Z"
   },
   {
    "duration": 33,
    "start_time": "2022-01-05T16:59:21.168Z"
   },
   {
    "duration": 26,
    "start_time": "2022-01-05T16:59:21.203Z"
   },
   {
    "duration": 11,
    "start_time": "2022-01-05T16:59:21.231Z"
   },
   {
    "duration": 6,
    "start_time": "2022-01-05T16:59:21.244Z"
   },
   {
    "duration": 19,
    "start_time": "2022-01-05T16:59:21.252Z"
   },
   {
    "duration": 6,
    "start_time": "2022-01-05T16:59:21.272Z"
   },
   {
    "duration": 11,
    "start_time": "2022-01-05T16:59:21.280Z"
   },
   {
    "duration": 5,
    "start_time": "2022-01-05T16:59:21.292Z"
   },
   {
    "duration": 10,
    "start_time": "2022-01-05T16:59:21.299Z"
   },
   {
    "duration": 11,
    "start_time": "2022-01-05T16:59:21.311Z"
   },
   {
    "duration": 11,
    "start_time": "2022-01-05T16:59:21.324Z"
   },
   {
    "duration": 25,
    "start_time": "2022-01-05T16:59:21.337Z"
   },
   {
    "duration": 13,
    "start_time": "2022-01-05T16:59:21.365Z"
   },
   {
    "duration": 29,
    "start_time": "2022-01-05T16:59:21.383Z"
   },
   {
    "duration": 13,
    "start_time": "2022-01-05T16:59:21.414Z"
   },
   {
    "duration": 13,
    "start_time": "2022-01-05T16:59:21.429Z"
   },
   {
    "duration": 33,
    "start_time": "2022-01-05T16:59:21.444Z"
   },
   {
    "duration": 24,
    "start_time": "2022-01-05T16:59:21.479Z"
   },
   {
    "duration": 13,
    "start_time": "2022-01-05T16:59:21.504Z"
   },
   {
    "duration": 3063,
    "start_time": "2022-01-05T16:59:21.519Z"
   },
   {
    "duration": 23,
    "start_time": "2022-01-05T16:59:24.584Z"
   },
   {
    "duration": 18,
    "start_time": "2022-01-05T16:59:24.609Z"
   },
   {
    "duration": 18,
    "start_time": "2022-01-05T16:59:24.629Z"
   },
   {
    "duration": 28,
    "start_time": "2022-01-05T16:59:24.648Z"
   },
   {
    "duration": 25,
    "start_time": "2022-01-05T16:59:24.678Z"
   },
   {
    "duration": 19,
    "start_time": "2022-01-05T16:59:24.705Z"
   },
   {
    "duration": 25,
    "start_time": "2022-01-05T16:59:24.725Z"
   },
   {
    "duration": 116,
    "start_time": "2022-01-05T16:59:24.752Z"
   },
   {
    "duration": 113,
    "start_time": "2022-01-05T16:59:24.870Z"
   },
   {
    "duration": 131,
    "start_time": "2022-01-05T16:59:24.985Z"
   },
   {
    "duration": 126,
    "start_time": "2022-01-05T16:59:25.118Z"
   },
   {
    "duration": 198,
    "start_time": "2022-01-05T16:59:25.246Z"
   },
   {
    "duration": 106,
    "start_time": "2022-01-05T16:59:25.446Z"
   },
   {
    "duration": 122,
    "start_time": "2022-01-05T16:59:25.554Z"
   },
   {
    "duration": 119,
    "start_time": "2022-01-05T16:59:25.678Z"
   },
   {
    "duration": 120,
    "start_time": "2022-01-05T16:59:25.800Z"
   },
   {
    "duration": 118,
    "start_time": "2022-01-05T16:59:25.921Z"
   },
   {
    "duration": 131,
    "start_time": "2022-01-05T16:59:26.041Z"
   },
   {
    "duration": 114,
    "start_time": "2022-01-05T16:59:26.175Z"
   },
   {
    "duration": 9,
    "start_time": "2022-01-05T16:59:26.291Z"
   },
   {
    "duration": 24,
    "start_time": "2022-01-05T16:59:26.301Z"
   },
   {
    "duration": 6724,
    "start_time": "2022-01-05T16:59:26.328Z"
   },
   {
    "duration": 18,
    "start_time": "2022-01-05T16:59:33.053Z"
   },
   {
    "duration": 24,
    "start_time": "2022-01-05T17:01:23.369Z"
   },
   {
    "duration": 305,
    "start_time": "2022-01-05T17:01:38.512Z"
   },
   {
    "duration": 10,
    "start_time": "2022-01-05T17:01:54.021Z"
   },
   {
    "duration": 6,
    "start_time": "2022-01-05T17:04:50.721Z"
   },
   {
    "duration": 5,
    "start_time": "2022-01-05T17:04:54.721Z"
   },
   {
    "duration": 22,
    "start_time": "2022-01-05T17:07:18.833Z"
   },
   {
    "duration": 3,
    "start_time": "2022-01-05T17:10:35.286Z"
   },
   {
    "duration": 258,
    "start_time": "2022-01-05T17:10:55.250Z"
   },
   {
    "duration": 1179,
    "start_time": "2022-01-05T17:12:07.153Z"
   },
   {
    "duration": 1143,
    "start_time": "2022-01-05T17:12:43.924Z"
   },
   {
    "duration": 6,
    "start_time": "2022-01-05T17:12:54.072Z"
   },
   {
    "duration": 3,
    "start_time": "2022-01-05T17:12:54.928Z"
   },
   {
    "duration": 1296,
    "start_time": "2022-01-05T17:12:55.700Z"
   },
   {
    "duration": 246,
    "start_time": "2022-01-05T17:13:31.620Z"
   },
   {
    "duration": 1308,
    "start_time": "2022-01-05T17:13:43.803Z"
   },
   {
    "duration": 277,
    "start_time": "2022-01-05T17:15:00.212Z"
   },
   {
    "duration": 273,
    "start_time": "2022-01-05T17:15:37.413Z"
   },
   {
    "duration": 1068,
    "start_time": "2022-01-05T17:16:16.378Z"
   },
   {
    "duration": 262,
    "start_time": "2022-01-05T17:16:30.721Z"
   },
   {
    "duration": 1020,
    "start_time": "2022-01-05T17:16:44.656Z"
   },
   {
    "duration": 257,
    "start_time": "2022-01-05T17:16:58.196Z"
   },
   {
    "duration": 1117,
    "start_time": "2022-01-05T17:17:11.316Z"
   },
   {
    "duration": 251,
    "start_time": "2022-01-05T17:36:52.996Z"
   },
   {
    "duration": 257,
    "start_time": "2022-01-05T17:37:23.766Z"
   },
   {
    "duration": 258,
    "start_time": "2022-01-05T17:37:29.196Z"
   },
   {
    "duration": 244,
    "start_time": "2022-01-05T17:37:35.405Z"
   },
   {
    "duration": 6,
    "start_time": "2022-01-05T17:49:18.993Z"
   },
   {
    "duration": 812,
    "start_time": "2022-01-05T17:49:41.084Z"
   },
   {
    "duration": 250,
    "start_time": "2022-01-05T17:50:47.324Z"
   },
   {
    "duration": 252,
    "start_time": "2022-01-05T17:51:04.818Z"
   },
   {
    "duration": 7,
    "start_time": "2022-01-05T17:51:28.524Z"
   },
   {
    "duration": 18,
    "start_time": "2022-01-05T17:51:37.950Z"
   },
   {
    "duration": 17,
    "start_time": "2022-01-05T17:52:27.232Z"
   },
   {
    "duration": 31,
    "start_time": "2022-01-05T18:00:28.084Z"
   },
   {
    "duration": 271,
    "start_time": "2022-01-05T18:09:32.205Z"
   },
   {
    "duration": 4,
    "start_time": "2022-01-05T18:09:50.052Z"
   },
   {
    "duration": 5,
    "start_time": "2022-01-05T18:09:55.696Z"
   },
   {
    "duration": 1080,
    "start_time": "2022-01-05T18:10:29.936Z"
   },
   {
    "duration": 6,
    "start_time": "2022-01-05T18:10:42.193Z"
   },
   {
    "duration": 26,
    "start_time": "2022-01-05T18:10:46.156Z"
   },
   {
    "duration": 12,
    "start_time": "2022-01-05T18:13:18.242Z"
   },
   {
    "duration": 7,
    "start_time": "2022-01-05T18:13:26.905Z"
   },
   {
    "duration": 9,
    "start_time": "2022-01-05T18:14:54.681Z"
   },
   {
    "duration": 10,
    "start_time": "2022-01-05T18:15:10.183Z"
   },
   {
    "duration": 14,
    "start_time": "2022-01-05T18:15:21.566Z"
   },
   {
    "duration": 256,
    "start_time": "2022-01-05T18:15:59.337Z"
   },
   {
    "duration": 91,
    "start_time": "2022-01-05T18:16:25.096Z"
   },
   {
    "duration": 15,
    "start_time": "2022-01-05T18:16:30.861Z"
   },
   {
    "duration": 9,
    "start_time": "2022-01-05T18:20:46.931Z"
   },
   {
    "duration": 15,
    "start_time": "2022-01-05T18:21:03.273Z"
   },
   {
    "duration": 14,
    "start_time": "2022-01-05T18:22:58.990Z"
   },
   {
    "duration": 17,
    "start_time": "2022-01-05T18:28:52.735Z"
   },
   {
    "duration": 20,
    "start_time": "2022-01-05T18:36:24.233Z"
   },
   {
    "duration": 17,
    "start_time": "2022-01-05T18:36:28.880Z"
   },
   {
    "duration": 5,
    "start_time": "2022-01-05T18:39:00.801Z"
   },
   {
    "duration": 12,
    "start_time": "2022-01-05T18:39:05.805Z"
   },
   {
    "duration": 15,
    "start_time": "2022-01-05T18:39:16.795Z"
   },
   {
    "duration": 6,
    "start_time": "2022-01-05T18:39:36.706Z"
   },
   {
    "duration": 7,
    "start_time": "2022-01-05T18:39:54.955Z"
   },
   {
    "duration": 84,
    "start_time": "2022-01-05T18:40:08.231Z"
   },
   {
    "duration": 7,
    "start_time": "2022-01-05T18:40:14.861Z"
   },
   {
    "duration": 7,
    "start_time": "2022-01-05T18:40:23.313Z"
   },
   {
    "duration": 7,
    "start_time": "2022-01-05T18:40:32.930Z"
   },
   {
    "duration": 13,
    "start_time": "2022-01-05T18:41:09.661Z"
   },
   {
    "duration": 16,
    "start_time": "2022-01-05T18:42:19.332Z"
   },
   {
    "duration": 14,
    "start_time": "2022-01-05T19:07:20.360Z"
   },
   {
    "duration": 13,
    "start_time": "2022-01-05T19:07:33.146Z"
   },
   {
    "duration": 306,
    "start_time": "2022-01-05T19:08:51.343Z"
   },
   {
    "duration": 945,
    "start_time": "2022-01-05T19:08:58.673Z"
   },
   {
    "duration": 1785,
    "start_time": "2022-01-05T19:09:18.221Z"
   },
   {
    "duration": 1110,
    "start_time": "2022-01-05T19:09:23.856Z"
   },
   {
    "duration": 232,
    "start_time": "2022-01-05T19:10:13.242Z"
   },
   {
    "duration": 85,
    "start_time": "2022-01-05T19:11:32.715Z"
   },
   {
    "duration": 232,
    "start_time": "2022-01-05T19:11:38.797Z"
   },
   {
    "duration": 242,
    "start_time": "2022-01-05T19:12:19.393Z"
   },
   {
    "duration": 227,
    "start_time": "2022-01-05T19:12:35.825Z"
   },
   {
    "duration": 236,
    "start_time": "2022-01-05T19:12:47.056Z"
   },
   {
    "duration": 239,
    "start_time": "2022-01-05T19:14:21.016Z"
   },
   {
    "duration": 230,
    "start_time": "2022-01-05T19:15:18.968Z"
   },
   {
    "duration": 239,
    "start_time": "2022-01-05T19:15:44.274Z"
   },
   {
    "duration": 240,
    "start_time": "2022-01-05T19:18:25.673Z"
   },
   {
    "duration": 232,
    "start_time": "2022-01-05T19:18:38.681Z"
   },
   {
    "duration": 226,
    "start_time": "2022-01-05T19:18:45.920Z"
   },
   {
    "duration": 227,
    "start_time": "2022-01-05T19:18:46.294Z"
   },
   {
    "duration": 10,
    "start_time": "2022-01-05T19:23:53.333Z"
   },
   {
    "duration": 23,
    "start_time": "2022-01-05T19:24:08.056Z"
   },
   {
    "duration": 7,
    "start_time": "2022-01-05T19:24:31.969Z"
   },
   {
    "duration": 7,
    "start_time": "2022-01-05T19:24:51.738Z"
   },
   {
    "duration": 382,
    "start_time": "2022-01-05T19:25:27.416Z"
   },
   {
    "duration": 280,
    "start_time": "2022-01-05T19:26:47.422Z"
   },
   {
    "duration": 7,
    "start_time": "2022-01-05T19:27:27.716Z"
   },
   {
    "duration": 7,
    "start_time": "2022-01-05T19:27:29.735Z"
   },
   {
    "duration": 6,
    "start_time": "2022-01-05T19:29:20.205Z"
   },
   {
    "duration": 5,
    "start_time": "2022-01-05T19:30:07.966Z"
   },
   {
    "duration": 6,
    "start_time": "2022-01-05T19:30:42.765Z"
   },
   {
    "duration": 4,
    "start_time": "2022-01-05T19:31:30.645Z"
   },
   {
    "duration": 3,
    "start_time": "2022-01-05T19:33:21.103Z"
   },
   {
    "duration": 5,
    "start_time": "2022-01-05T19:33:28.480Z"
   },
   {
    "duration": 3,
    "start_time": "2022-01-05T19:33:39.351Z"
   },
   {
    "duration": 4,
    "start_time": "2022-01-05T19:33:50.090Z"
   },
   {
    "duration": 248,
    "start_time": "2022-01-05T19:35:05.803Z"
   },
   {
    "duration": 6,
    "start_time": "2022-01-05T19:35:34.335Z"
   },
   {
    "duration": 7,
    "start_time": "2022-01-05T19:35:44.472Z"
   },
   {
    "duration": 5,
    "start_time": "2022-01-05T19:37:08.653Z"
   },
   {
    "duration": 5,
    "start_time": "2022-01-05T19:37:16.547Z"
   },
   {
    "duration": 256,
    "start_time": "2022-01-05T19:37:34.233Z"
   },
   {
    "duration": 251,
    "start_time": "2022-01-05T19:39:09.104Z"
   },
   {
    "duration": 294,
    "start_time": "2022-01-05T19:39:31.003Z"
   },
   {
    "duration": 3,
    "start_time": "2022-01-05T19:39:51.123Z"
   },
   {
    "duration": 338,
    "start_time": "2022-01-05T19:39:52.343Z"
   },
   {
    "duration": 389,
    "start_time": "2022-01-05T19:40:51.382Z"
   },
   {
    "duration": 5,
    "start_time": "2022-01-05T19:41:31.113Z"
   },
   {
    "duration": 11,
    "start_time": "2022-01-05T19:41:47.485Z"
   },
   {
    "duration": 253,
    "start_time": "2022-01-05T19:42:02.903Z"
   },
   {
    "duration": 11,
    "start_time": "2022-01-05T19:42:08.783Z"
   },
   {
    "duration": 250,
    "start_time": "2022-01-05T19:42:20.776Z"
   },
   {
    "duration": 263,
    "start_time": "2022-01-05T19:44:05.033Z"
   },
   {
    "duration": 8,
    "start_time": "2022-01-05T19:44:20.963Z"
   },
   {
    "duration": 9,
    "start_time": "2022-01-05T19:45:02.376Z"
   },
   {
    "duration": 8,
    "start_time": "2022-01-05T19:45:19.566Z"
   },
   {
    "duration": 10,
    "start_time": "2022-01-05T19:45:27.273Z"
   },
   {
    "duration": 9,
    "start_time": "2022-01-05T19:45:35.433Z"
   },
   {
    "duration": 8,
    "start_time": "2022-01-05T19:46:04.224Z"
   },
   {
    "duration": 9,
    "start_time": "2022-01-05T19:46:21.581Z"
   },
   {
    "duration": 10,
    "start_time": "2022-01-05T19:46:50.641Z"
   },
   {
    "duration": 10,
    "start_time": "2022-01-05T19:47:00.043Z"
   },
   {
    "duration": 9,
    "start_time": "2022-01-05T19:47:04.751Z"
   },
   {
    "duration": 9,
    "start_time": "2022-01-05T19:47:09.823Z"
   },
   {
    "duration": 9,
    "start_time": "2022-01-05T19:47:15.131Z"
   },
   {
    "duration": 8,
    "start_time": "2022-01-05T19:47:39.313Z"
   },
   {
    "duration": 8,
    "start_time": "2022-01-05T19:47:52.026Z"
   },
   {
    "duration": 10,
    "start_time": "2022-01-05T19:48:01.060Z"
   },
   {
    "duration": 10,
    "start_time": "2022-01-05T19:48:15.274Z"
   },
   {
    "duration": 8,
    "start_time": "2022-01-05T19:48:21.594Z"
   },
   {
    "duration": 9,
    "start_time": "2022-01-05T19:48:35.620Z"
   },
   {
    "duration": 9,
    "start_time": "2022-01-05T19:49:02.233Z"
   },
   {
    "duration": 7,
    "start_time": "2022-01-05T19:49:13.733Z"
   },
   {
    "duration": 8,
    "start_time": "2022-01-05T19:49:34.323Z"
   },
   {
    "duration": 6,
    "start_time": "2022-01-05T19:52:07.787Z"
   },
   {
    "duration": 7,
    "start_time": "2022-01-05T19:52:10.883Z"
   },
   {
    "duration": 7,
    "start_time": "2022-01-05T19:52:20.917Z"
   },
   {
    "duration": 4,
    "start_time": "2022-01-05T19:52:39.762Z"
   },
   {
    "duration": 4,
    "start_time": "2022-01-05T19:52:48.653Z"
   },
   {
    "duration": 6,
    "start_time": "2022-01-05T19:57:26.342Z"
   },
   {
    "duration": 293,
    "start_time": "2022-01-05T19:59:04.763Z"
   },
   {
    "duration": 5,
    "start_time": "2022-01-05T19:59:59.683Z"
   },
   {
    "duration": 287,
    "start_time": "2022-01-05T20:00:07.026Z"
   },
   {
    "duration": 664,
    "start_time": "2022-01-05T20:02:01.373Z"
   },
   {
    "duration": 6,
    "start_time": "2022-01-05T20:02:12.316Z"
   },
   {
    "duration": 7,
    "start_time": "2022-01-05T20:02:13.694Z"
   },
   {
    "duration": 4,
    "start_time": "2022-01-05T20:02:14.723Z"
   },
   {
    "duration": 4,
    "start_time": "2022-01-05T20:02:15.066Z"
   },
   {
    "duration": 254,
    "start_time": "2022-01-05T20:03:20.820Z"
   },
   {
    "duration": 250,
    "start_time": "2022-01-05T20:04:07.974Z"
   },
   {
    "duration": 248,
    "start_time": "2022-01-05T20:04:19.955Z"
   },
   {
    "duration": 5,
    "start_time": "2022-01-05T20:04:43.283Z"
   },
   {
    "duration": 10,
    "start_time": "2022-01-05T20:05:03.583Z"
   },
   {
    "duration": 5,
    "start_time": "2022-01-05T20:05:13.687Z"
   },
   {
    "duration": 5,
    "start_time": "2022-01-05T20:05:23.624Z"
   },
   {
    "duration": 9,
    "start_time": "2022-01-05T20:05:36.035Z"
   },
   {
    "duration": 9,
    "start_time": "2022-01-05T20:06:04.134Z"
   },
   {
    "duration": 249,
    "start_time": "2022-01-05T20:06:21.014Z"
   },
   {
    "duration": 10,
    "start_time": "2022-01-05T20:06:54.212Z"
   },
   {
    "duration": 1111,
    "start_time": "2022-01-05T20:07:22.001Z"
   },
   {
    "duration": 245,
    "start_time": "2022-01-05T20:07:49.143Z"
   },
   {
    "duration": 281,
    "start_time": "2022-01-05T20:07:59.443Z"
   },
   {
    "duration": 246,
    "start_time": "2022-01-05T20:08:34.643Z"
   },
   {
    "duration": 337,
    "start_time": "2022-01-05T20:09:29.122Z"
   },
   {
    "duration": 574,
    "start_time": "2022-01-05T20:09:53.500Z"
   },
   {
    "duration": 54,
    "start_time": "2022-01-05T20:09:54.076Z"
   },
   {
    "duration": 9,
    "start_time": "2022-01-05T20:09:54.132Z"
   },
   {
    "duration": 37,
    "start_time": "2022-01-05T20:09:54.143Z"
   },
   {
    "duration": 10,
    "start_time": "2022-01-05T20:09:54.181Z"
   },
   {
    "duration": 12,
    "start_time": "2022-01-05T20:09:54.193Z"
   },
   {
    "duration": 4,
    "start_time": "2022-01-05T20:09:54.206Z"
   },
   {
    "duration": 7,
    "start_time": "2022-01-05T20:09:54.213Z"
   },
   {
    "duration": 11,
    "start_time": "2022-01-05T20:09:54.222Z"
   },
   {
    "duration": 30,
    "start_time": "2022-01-05T20:09:54.235Z"
   },
   {
    "duration": 7,
    "start_time": "2022-01-05T20:09:54.267Z"
   },
   {
    "duration": 9,
    "start_time": "2022-01-05T20:09:54.275Z"
   },
   {
    "duration": 6,
    "start_time": "2022-01-05T20:09:54.286Z"
   },
   {
    "duration": 4,
    "start_time": "2022-01-05T20:09:54.294Z"
   },
   {
    "duration": 26,
    "start_time": "2022-01-05T20:09:54.300Z"
   },
   {
    "duration": 33,
    "start_time": "2022-01-05T20:09:54.328Z"
   },
   {
    "duration": 5,
    "start_time": "2022-01-05T20:09:54.363Z"
   },
   {
    "duration": 5,
    "start_time": "2022-01-05T20:09:54.370Z"
   },
   {
    "duration": 15,
    "start_time": "2022-01-05T20:09:54.377Z"
   },
   {
    "duration": 6,
    "start_time": "2022-01-05T20:09:54.393Z"
   },
   {
    "duration": 10,
    "start_time": "2022-01-05T20:09:54.401Z"
   },
   {
    "duration": 5,
    "start_time": "2022-01-05T20:09:54.412Z"
   },
   {
    "duration": 40,
    "start_time": "2022-01-05T20:09:54.421Z"
   },
   {
    "duration": 8,
    "start_time": "2022-01-05T20:09:54.464Z"
   },
   {
    "duration": 13,
    "start_time": "2022-01-05T20:09:54.474Z"
   },
   {
    "duration": 5,
    "start_time": "2022-01-05T20:09:54.488Z"
   },
   {
    "duration": 19,
    "start_time": "2022-01-05T20:09:54.494Z"
   },
   {
    "duration": 4,
    "start_time": "2022-01-05T20:09:54.515Z"
   },
   {
    "duration": 48,
    "start_time": "2022-01-05T20:09:54.521Z"
   },
   {
    "duration": 8,
    "start_time": "2022-01-05T20:09:54.571Z"
   },
   {
    "duration": 12,
    "start_time": "2022-01-05T20:09:54.580Z"
   },
   {
    "duration": 24,
    "start_time": "2022-01-05T20:09:54.594Z"
   },
   {
    "duration": 10,
    "start_time": "2022-01-05T20:09:54.620Z"
   },
   {
    "duration": 32,
    "start_time": "2022-01-05T20:09:54.631Z"
   },
   {
    "duration": 2990,
    "start_time": "2022-01-05T20:09:54.665Z"
   },
   {
    "duration": 24,
    "start_time": "2022-01-05T20:09:57.660Z"
   },
   {
    "duration": 9,
    "start_time": "2022-01-05T20:09:57.685Z"
   },
   {
    "duration": 11,
    "start_time": "2022-01-05T20:09:57.695Z"
   },
   {
    "duration": 14,
    "start_time": "2022-01-05T20:09:57.708Z"
   },
   {
    "duration": 40,
    "start_time": "2022-01-05T20:09:57.724Z"
   },
   {
    "duration": 6,
    "start_time": "2022-01-05T20:09:57.766Z"
   },
   {
    "duration": 7,
    "start_time": "2022-01-05T20:09:57.774Z"
   },
   {
    "duration": 126,
    "start_time": "2022-01-05T20:09:57.782Z"
   },
   {
    "duration": 118,
    "start_time": "2022-01-05T20:09:57.910Z"
   },
   {
    "duration": 121,
    "start_time": "2022-01-05T20:09:58.030Z"
   },
   {
    "duration": 218,
    "start_time": "2022-01-05T20:09:58.153Z"
   },
   {
    "duration": 206,
    "start_time": "2022-01-05T20:09:58.372Z"
   },
   {
    "duration": 152,
    "start_time": "2022-01-05T20:09:58.580Z"
   },
   {
    "duration": 126,
    "start_time": "2022-01-05T20:09:58.734Z"
   },
   {
    "duration": 121,
    "start_time": "2022-01-05T20:09:58.862Z"
   },
   {
    "duration": 126,
    "start_time": "2022-01-05T20:09:58.984Z"
   },
   {
    "duration": 123,
    "start_time": "2022-01-05T20:09:59.112Z"
   },
   {
    "duration": 119,
    "start_time": "2022-01-05T20:09:59.237Z"
   },
   {
    "duration": 115,
    "start_time": "2022-01-05T20:09:59.358Z"
   },
   {
    "duration": 7,
    "start_time": "2022-01-05T20:09:59.475Z"
   },
   {
    "duration": 32,
    "start_time": "2022-01-05T20:09:59.484Z"
   },
   {
    "duration": 6796,
    "start_time": "2022-01-05T20:09:59.518Z"
   },
   {
    "duration": 11,
    "start_time": "2022-01-05T20:10:06.316Z"
   },
   {
    "duration": 35,
    "start_time": "2022-01-05T20:10:06.329Z"
   },
   {
    "duration": 1388,
    "start_time": "2022-01-05T20:10:06.366Z"
   },
   {
    "duration": 18,
    "start_time": "2022-01-05T20:10:07.755Z"
   },
   {
    "duration": 14,
    "start_time": "2022-01-05T20:10:07.775Z"
   },
   {
    "duration": 30,
    "start_time": "2022-01-05T20:10:07.791Z"
   },
   {
    "duration": 27,
    "start_time": "2022-01-05T20:10:07.822Z"
   },
   {
    "duration": 253,
    "start_time": "2022-01-05T20:10:07.851Z"
   },
   {
    "duration": 244,
    "start_time": "2022-01-05T20:10:08.105Z"
   },
   {
    "duration": 243,
    "start_time": "2022-01-05T20:10:08.351Z"
   },
   {
    "duration": 7,
    "start_time": "2022-01-05T20:10:08.599Z"
   },
   {
    "duration": 11,
    "start_time": "2022-01-05T20:10:08.608Z"
   },
   {
    "duration": 6,
    "start_time": "2022-01-05T20:10:08.621Z"
   },
   {
    "duration": 5,
    "start_time": "2022-01-05T20:10:08.629Z"
   },
   {
    "duration": 26,
    "start_time": "2022-01-05T20:10:08.635Z"
   },
   {
    "duration": 345,
    "start_time": "2022-01-05T20:10:08.663Z"
   },
   {
    "duration": 365,
    "start_time": "2022-01-05T20:10:09.010Z"
   },
   {
    "duration": 261,
    "start_time": "2022-01-05T20:10:23.767Z"
   },
   {
    "duration": 467,
    "start_time": "2022-01-05T20:12:45.577Z"
   },
   {
    "duration": 248,
    "start_time": "2022-01-05T20:14:21.646Z"
   },
   {
    "duration": 254,
    "start_time": "2022-01-05T20:14:43.670Z"
   },
   {
    "duration": 299,
    "start_time": "2022-01-05T20:14:52.035Z"
   },
   {
    "duration": 273,
    "start_time": "2022-01-05T20:15:01.128Z"
   },
   {
    "duration": 3,
    "start_time": "2022-01-05T20:15:41.587Z"
   },
   {
    "duration": 6,
    "start_time": "2022-01-05T20:16:25.040Z"
   },
   {
    "duration": 3,
    "start_time": "2022-01-05T20:16:53.356Z"
   },
   {
    "duration": 5,
    "start_time": "2022-01-05T20:17:18.540Z"
   },
   {
    "duration": 4,
    "start_time": "2022-01-05T20:18:08.837Z"
   },
   {
    "duration": 4,
    "start_time": "2022-01-05T20:18:19.608Z"
   },
   {
    "duration": 4,
    "start_time": "2022-01-05T20:18:34.467Z"
   },
   {
    "duration": 3,
    "start_time": "2022-01-05T20:18:50.255Z"
   },
   {
    "duration": 3,
    "start_time": "2022-01-05T20:19:06.961Z"
   },
   {
    "duration": 4,
    "start_time": "2022-01-05T20:19:09.383Z"
   },
   {
    "duration": 609,
    "start_time": "2022-01-05T20:19:44.924Z"
   },
   {
    "duration": 52,
    "start_time": "2022-01-05T20:19:45.535Z"
   },
   {
    "duration": 10,
    "start_time": "2022-01-05T20:19:45.589Z"
   },
   {
    "duration": 27,
    "start_time": "2022-01-05T20:19:45.601Z"
   },
   {
    "duration": 5,
    "start_time": "2022-01-05T20:19:45.629Z"
   },
   {
    "duration": 30,
    "start_time": "2022-01-05T20:19:45.636Z"
   },
   {
    "duration": 4,
    "start_time": "2022-01-05T20:19:45.667Z"
   },
   {
    "duration": 5,
    "start_time": "2022-01-05T20:19:45.673Z"
   },
   {
    "duration": 9,
    "start_time": "2022-01-05T20:19:45.680Z"
   },
   {
    "duration": 6,
    "start_time": "2022-01-05T20:19:45.691Z"
   },
   {
    "duration": 6,
    "start_time": "2022-01-05T20:19:45.699Z"
   },
   {
    "duration": 6,
    "start_time": "2022-01-05T20:19:45.707Z"
   },
   {
    "duration": 6,
    "start_time": "2022-01-05T20:19:45.714Z"
   },
   {
    "duration": 41,
    "start_time": "2022-01-05T20:19:45.722Z"
   },
   {
    "duration": 28,
    "start_time": "2022-01-05T20:19:45.765Z"
   },
   {
    "duration": 4,
    "start_time": "2022-01-05T20:19:45.795Z"
   },
   {
    "duration": 8,
    "start_time": "2022-01-05T20:19:45.800Z"
   },
   {
    "duration": 7,
    "start_time": "2022-01-05T20:19:45.809Z"
   },
   {
    "duration": 19,
    "start_time": "2022-01-05T20:19:45.818Z"
   },
   {
    "duration": 28,
    "start_time": "2022-01-05T20:19:45.839Z"
   },
   {
    "duration": 10,
    "start_time": "2022-01-05T20:19:45.869Z"
   },
   {
    "duration": 5,
    "start_time": "2022-01-05T20:19:45.881Z"
   },
   {
    "duration": 10,
    "start_time": "2022-01-05T20:19:45.887Z"
   },
   {
    "duration": 6,
    "start_time": "2022-01-05T20:19:45.899Z"
   },
   {
    "duration": 10,
    "start_time": "2022-01-05T20:19:45.906Z"
   },
   {
    "duration": 14,
    "start_time": "2022-01-05T20:19:45.917Z"
   },
   {
    "duration": 41,
    "start_time": "2022-01-05T20:19:45.935Z"
   },
   {
    "duration": 5,
    "start_time": "2022-01-05T20:19:45.978Z"
   },
   {
    "duration": 21,
    "start_time": "2022-01-05T20:19:45.984Z"
   },
   {
    "duration": 12,
    "start_time": "2022-01-05T20:19:46.007Z"
   },
   {
    "duration": 11,
    "start_time": "2022-01-05T20:19:46.021Z"
   },
   {
    "duration": 42,
    "start_time": "2022-01-05T20:19:46.034Z"
   },
   {
    "duration": 10,
    "start_time": "2022-01-05T20:19:46.078Z"
   },
   {
    "duration": 8,
    "start_time": "2022-01-05T20:19:46.090Z"
   },
   {
    "duration": 2811,
    "start_time": "2022-01-05T20:19:46.100Z"
   },
   {
    "duration": 23,
    "start_time": "2022-01-05T20:19:48.912Z"
   },
   {
    "duration": 8,
    "start_time": "2022-01-05T20:19:48.937Z"
   },
   {
    "duration": 9,
    "start_time": "2022-01-05T20:19:48.961Z"
   },
   {
    "duration": 19,
    "start_time": "2022-01-05T20:19:48.972Z"
   },
   {
    "duration": 12,
    "start_time": "2022-01-05T20:19:48.992Z"
   },
   {
    "duration": 5,
    "start_time": "2022-01-05T20:19:49.005Z"
   },
   {
    "duration": 7,
    "start_time": "2022-01-05T20:19:49.012Z"
   },
   {
    "duration": 137,
    "start_time": "2022-01-05T20:19:49.021Z"
   },
   {
    "duration": 107,
    "start_time": "2022-01-05T20:19:49.159Z"
   },
   {
    "duration": 123,
    "start_time": "2022-01-05T20:19:49.267Z"
   },
   {
    "duration": 117,
    "start_time": "2022-01-05T20:19:49.392Z"
   },
   {
    "duration": 194,
    "start_time": "2022-01-05T20:19:49.510Z"
   },
   {
    "duration": 118,
    "start_time": "2022-01-05T20:19:49.706Z"
   },
   {
    "duration": 125,
    "start_time": "2022-01-05T20:19:49.826Z"
   },
   {
    "duration": 112,
    "start_time": "2022-01-05T20:19:49.960Z"
   },
   {
    "duration": 119,
    "start_time": "2022-01-05T20:19:50.073Z"
   },
   {
    "duration": 120,
    "start_time": "2022-01-05T20:19:50.194Z"
   },
   {
    "duration": 120,
    "start_time": "2022-01-05T20:19:50.316Z"
   },
   {
    "duration": 108,
    "start_time": "2022-01-05T20:19:50.437Z"
   },
   {
    "duration": 15,
    "start_time": "2022-01-05T20:19:50.547Z"
   },
   {
    "duration": 12,
    "start_time": "2022-01-05T20:19:50.563Z"
   },
   {
    "duration": 6833,
    "start_time": "2022-01-05T20:19:50.577Z"
   },
   {
    "duration": 14,
    "start_time": "2022-01-05T20:19:57.411Z"
   },
   {
    "duration": 6,
    "start_time": "2022-01-05T20:19:57.426Z"
   },
   {
    "duration": 1280,
    "start_time": "2022-01-05T20:19:57.433Z"
   },
   {
    "duration": 14,
    "start_time": "2022-01-05T20:19:58.715Z"
   },
   {
    "duration": 12,
    "start_time": "2022-01-05T20:19:58.731Z"
   },
   {
    "duration": 13,
    "start_time": "2022-01-05T20:19:58.761Z"
   },
   {
    "duration": 12,
    "start_time": "2022-01-05T20:19:58.776Z"
   },
   {
    "duration": 248,
    "start_time": "2022-01-05T20:19:58.790Z"
   },
   {
    "duration": 239,
    "start_time": "2022-01-05T20:19:59.040Z"
   },
   {
    "duration": 248,
    "start_time": "2022-01-05T20:19:59.281Z"
   },
   {
    "duration": 8,
    "start_time": "2022-01-05T20:19:59.531Z"
   },
   {
    "duration": 21,
    "start_time": "2022-01-05T20:19:59.541Z"
   },
   {
    "duration": 7,
    "start_time": "2022-01-05T20:19:59.564Z"
   },
   {
    "duration": 8,
    "start_time": "2022-01-05T20:19:59.572Z"
   },
   {
    "duration": 5,
    "start_time": "2022-01-05T20:19:59.581Z"
   },
   {
    "duration": 4,
    "start_time": "2022-01-05T20:19:59.588Z"
   },
   {
    "duration": 7,
    "start_time": "2022-01-05T20:19:59.593Z"
   },
   {
    "duration": 4,
    "start_time": "2022-01-05T20:19:59.601Z"
   },
   {
    "duration": 393,
    "start_time": "2022-01-05T20:19:59.606Z"
   },
   {
    "duration": 408,
    "start_time": "2022-01-05T20:20:00.001Z"
   },
   {
    "duration": 658,
    "start_time": "2022-01-05T20:20:16.725Z"
   },
   {
    "duration": 56,
    "start_time": "2022-01-05T20:20:17.385Z"
   },
   {
    "duration": 11,
    "start_time": "2022-01-05T20:20:17.443Z"
   },
   {
    "duration": 49,
    "start_time": "2022-01-05T20:20:17.456Z"
   },
   {
    "duration": 4,
    "start_time": "2022-01-05T20:20:17.507Z"
   },
   {
    "duration": 26,
    "start_time": "2022-01-05T20:20:17.513Z"
   },
   {
    "duration": 19,
    "start_time": "2022-01-05T20:20:17.541Z"
   },
   {
    "duration": 15,
    "start_time": "2022-01-05T20:20:17.562Z"
   },
   {
    "duration": 24,
    "start_time": "2022-01-05T20:20:17.580Z"
   },
   {
    "duration": 15,
    "start_time": "2022-01-05T20:20:17.607Z"
   },
   {
    "duration": 23,
    "start_time": "2022-01-05T20:20:17.624Z"
   },
   {
    "duration": 10,
    "start_time": "2022-01-05T20:20:17.649Z"
   },
   {
    "duration": 19,
    "start_time": "2022-01-05T20:20:17.660Z"
   },
   {
    "duration": 17,
    "start_time": "2022-01-05T20:20:17.681Z"
   },
   {
    "duration": 32,
    "start_time": "2022-01-05T20:20:17.700Z"
   },
   {
    "duration": 11,
    "start_time": "2022-01-05T20:20:17.734Z"
   },
   {
    "duration": 21,
    "start_time": "2022-01-05T20:20:17.746Z"
   },
   {
    "duration": 26,
    "start_time": "2022-01-05T20:20:17.769Z"
   },
   {
    "duration": 40,
    "start_time": "2022-01-05T20:20:17.797Z"
   },
   {
    "duration": 16,
    "start_time": "2022-01-05T20:20:17.838Z"
   },
   {
    "duration": 31,
    "start_time": "2022-01-05T20:20:17.856Z"
   },
   {
    "duration": 17,
    "start_time": "2022-01-05T20:20:17.889Z"
   },
   {
    "duration": 22,
    "start_time": "2022-01-05T20:20:17.908Z"
   },
   {
    "duration": 17,
    "start_time": "2022-01-05T20:20:17.931Z"
   },
   {
    "duration": 25,
    "start_time": "2022-01-05T20:20:17.950Z"
   },
   {
    "duration": 20,
    "start_time": "2022-01-05T20:20:17.976Z"
   },
   {
    "duration": 45,
    "start_time": "2022-01-05T20:20:18.000Z"
   },
   {
    "duration": 10,
    "start_time": "2022-01-05T20:20:18.047Z"
   },
   {
    "duration": 32,
    "start_time": "2022-01-05T20:20:18.058Z"
   },
   {
    "duration": 18,
    "start_time": "2022-01-05T20:20:18.091Z"
   },
   {
    "duration": 37,
    "start_time": "2022-01-05T20:20:18.110Z"
   },
   {
    "duration": 36,
    "start_time": "2022-01-05T20:20:18.149Z"
   },
   {
    "duration": 28,
    "start_time": "2022-01-05T20:20:18.187Z"
   },
   {
    "duration": 21,
    "start_time": "2022-01-05T20:20:18.217Z"
   },
   {
    "duration": 3084,
    "start_time": "2022-01-05T20:20:18.240Z"
   },
   {
    "duration": 24,
    "start_time": "2022-01-05T20:20:21.325Z"
   },
   {
    "duration": 9,
    "start_time": "2022-01-05T20:20:21.361Z"
   },
   {
    "duration": 11,
    "start_time": "2022-01-05T20:20:21.371Z"
   },
   {
    "duration": 15,
    "start_time": "2022-01-05T20:20:21.383Z"
   },
   {
    "duration": 12,
    "start_time": "2022-01-05T20:20:21.399Z"
   },
   {
    "duration": 5,
    "start_time": "2022-01-05T20:20:21.413Z"
   },
   {
    "duration": 45,
    "start_time": "2022-01-05T20:20:21.420Z"
   },
   {
    "duration": 110,
    "start_time": "2022-01-05T20:20:21.467Z"
   },
   {
    "duration": 122,
    "start_time": "2022-01-05T20:20:21.579Z"
   },
   {
    "duration": 124,
    "start_time": "2022-01-05T20:20:21.702Z"
   },
   {
    "duration": 132,
    "start_time": "2022-01-05T20:20:21.827Z"
   },
   {
    "duration": 201,
    "start_time": "2022-01-05T20:20:21.961Z"
   },
   {
    "duration": 112,
    "start_time": "2022-01-05T20:20:22.164Z"
   },
   {
    "duration": 127,
    "start_time": "2022-01-05T20:20:22.278Z"
   },
   {
    "duration": 120,
    "start_time": "2022-01-05T20:20:22.406Z"
   },
   {
    "duration": 130,
    "start_time": "2022-01-05T20:20:22.527Z"
   },
   {
    "duration": 112,
    "start_time": "2022-01-05T20:20:22.659Z"
   },
   {
    "duration": 120,
    "start_time": "2022-01-05T20:20:22.773Z"
   },
   {
    "duration": 115,
    "start_time": "2022-01-05T20:20:22.895Z"
   },
   {
    "duration": 7,
    "start_time": "2022-01-05T20:20:23.012Z"
   },
   {
    "duration": 18,
    "start_time": "2022-01-05T20:20:23.021Z"
   },
   {
    "duration": 6666,
    "start_time": "2022-01-05T20:20:23.041Z"
   },
   {
    "duration": 15,
    "start_time": "2022-01-05T20:20:29.709Z"
   },
   {
    "duration": 34,
    "start_time": "2022-01-05T20:20:29.727Z"
   },
   {
    "duration": 1092,
    "start_time": "2022-01-05T20:20:29.763Z"
   },
   {
    "duration": 17,
    "start_time": "2022-01-05T20:20:30.861Z"
   },
   {
    "duration": 41,
    "start_time": "2022-01-05T20:20:30.880Z"
   },
   {
    "duration": 44,
    "start_time": "2022-01-05T20:20:30.923Z"
   },
   {
    "duration": 47,
    "start_time": "2022-01-05T20:20:30.969Z"
   },
   {
    "duration": 267,
    "start_time": "2022-01-05T20:20:31.019Z"
   },
   {
    "duration": 255,
    "start_time": "2022-01-05T20:20:31.288Z"
   },
   {
    "duration": 250,
    "start_time": "2022-01-05T20:20:31.546Z"
   },
   {
    "duration": 7,
    "start_time": "2022-01-05T20:20:31.798Z"
   },
   {
    "duration": 21,
    "start_time": "2022-01-05T20:20:31.807Z"
   },
   {
    "duration": 15,
    "start_time": "2022-01-05T20:20:31.829Z"
   },
   {
    "duration": 20,
    "start_time": "2022-01-05T20:20:31.845Z"
   },
   {
    "duration": 36,
    "start_time": "2022-01-05T20:20:31.867Z"
   },
   {
    "duration": 16,
    "start_time": "2022-01-05T20:20:31.905Z"
   },
   {
    "duration": 20,
    "start_time": "2022-01-05T20:20:31.923Z"
   },
   {
    "duration": 30,
    "start_time": "2022-01-05T20:20:31.944Z"
   },
   {
    "duration": 407,
    "start_time": "2022-01-05T20:20:31.976Z"
   },
   {
    "duration": 321,
    "start_time": "2022-01-05T20:20:32.385Z"
   },
   {
    "duration": 4,
    "start_time": "2022-01-05T20:20:46.662Z"
   },
   {
    "duration": 3,
    "start_time": "2022-01-05T20:23:21.712Z"
   },
   {
    "duration": 4,
    "start_time": "2022-01-05T20:23:44.880Z"
   },
   {
    "duration": 4,
    "start_time": "2022-01-05T20:26:15.083Z"
   },
   {
    "duration": 5,
    "start_time": "2022-01-05T20:26:21.985Z"
   },
   {
    "duration": 11,
    "start_time": "2022-01-05T20:31:32.807Z"
   },
   {
    "duration": 10,
    "start_time": "2022-01-05T20:32:04.803Z"
   },
   {
    "duration": 7,
    "start_time": "2022-01-05T20:32:22.203Z"
   },
   {
    "duration": 90,
    "start_time": "2022-01-05T20:32:31.592Z"
   },
   {
    "duration": 9,
    "start_time": "2022-01-05T20:32:45.012Z"
   },
   {
    "duration": 621,
    "start_time": "2022-01-05T20:38:40.266Z"
   },
   {
    "duration": 53,
    "start_time": "2022-01-05T20:38:40.889Z"
   },
   {
    "duration": 9,
    "start_time": "2022-01-05T20:38:40.944Z"
   },
   {
    "duration": 27,
    "start_time": "2022-01-05T20:38:40.955Z"
   },
   {
    "duration": 4,
    "start_time": "2022-01-05T20:38:40.984Z"
   },
   {
    "duration": 11,
    "start_time": "2022-01-05T20:38:40.989Z"
   },
   {
    "duration": 5,
    "start_time": "2022-01-05T20:38:41.001Z"
   },
   {
    "duration": 6,
    "start_time": "2022-01-05T20:38:41.007Z"
   },
   {
    "duration": 12,
    "start_time": "2022-01-05T20:38:41.015Z"
   },
   {
    "duration": 38,
    "start_time": "2022-01-05T20:38:41.029Z"
   },
   {
    "duration": 6,
    "start_time": "2022-01-05T20:38:41.069Z"
   },
   {
    "duration": 6,
    "start_time": "2022-01-05T20:38:41.077Z"
   },
   {
    "duration": 6,
    "start_time": "2022-01-05T20:38:41.085Z"
   },
   {
    "duration": 9,
    "start_time": "2022-01-05T20:38:41.093Z"
   },
   {
    "duration": 25,
    "start_time": "2022-01-05T20:38:41.104Z"
   },
   {
    "duration": 31,
    "start_time": "2022-01-05T20:38:41.131Z"
   },
   {
    "duration": 6,
    "start_time": "2022-01-05T20:38:41.163Z"
   },
   {
    "duration": 6,
    "start_time": "2022-01-05T20:38:41.170Z"
   },
   {
    "duration": 14,
    "start_time": "2022-01-05T20:38:41.177Z"
   },
   {
    "duration": 5,
    "start_time": "2022-01-05T20:38:41.193Z"
   },
   {
    "duration": 10,
    "start_time": "2022-01-05T20:38:41.200Z"
   },
   {
    "duration": 5,
    "start_time": "2022-01-05T20:38:41.212Z"
   },
   {
    "duration": 10,
    "start_time": "2022-01-05T20:38:41.218Z"
   },
   {
    "duration": 37,
    "start_time": "2022-01-05T20:38:41.229Z"
   },
   {
    "duration": 11,
    "start_time": "2022-01-05T20:38:41.268Z"
   },
   {
    "duration": 5,
    "start_time": "2022-01-05T20:38:41.281Z"
   },
   {
    "duration": 16,
    "start_time": "2022-01-05T20:38:41.290Z"
   },
   {
    "duration": 4,
    "start_time": "2022-01-05T20:38:41.309Z"
   },
   {
    "duration": 50,
    "start_time": "2022-01-05T20:38:41.315Z"
   },
   {
    "duration": 7,
    "start_time": "2022-01-05T20:38:41.366Z"
   },
   {
    "duration": 13,
    "start_time": "2022-01-05T20:38:41.375Z"
   },
   {
    "duration": 28,
    "start_time": "2022-01-05T20:38:41.389Z"
   },
   {
    "duration": 11,
    "start_time": "2022-01-05T20:38:41.418Z"
   },
   {
    "duration": 37,
    "start_time": "2022-01-05T20:38:41.430Z"
   },
   {
    "duration": 3129,
    "start_time": "2022-01-05T20:38:41.468Z"
   },
   {
    "duration": 24,
    "start_time": "2022-01-05T20:38:44.599Z"
   },
   {
    "duration": 10,
    "start_time": "2022-01-05T20:38:44.625Z"
   },
   {
    "duration": 32,
    "start_time": "2022-01-05T20:38:44.637Z"
   },
   {
    "duration": 15,
    "start_time": "2022-01-05T20:38:44.670Z"
   },
   {
    "duration": 11,
    "start_time": "2022-01-05T20:38:44.687Z"
   },
   {
    "duration": 6,
    "start_time": "2022-01-05T20:38:44.699Z"
   },
   {
    "duration": 8,
    "start_time": "2022-01-05T20:38:44.707Z"
   },
   {
    "duration": 146,
    "start_time": "2022-01-05T20:38:44.716Z"
   },
   {
    "duration": 113,
    "start_time": "2022-01-05T20:38:44.865Z"
   },
   {
    "duration": 130,
    "start_time": "2022-01-05T20:38:44.980Z"
   },
   {
    "duration": 119,
    "start_time": "2022-01-05T20:38:45.112Z"
   },
   {
    "duration": 266,
    "start_time": "2022-01-05T20:38:45.233Z"
   },
   {
    "duration": 162,
    "start_time": "2022-01-05T20:38:45.501Z"
   },
   {
    "duration": 191,
    "start_time": "2022-01-05T20:38:45.665Z"
   },
   {
    "duration": 122,
    "start_time": "2022-01-05T20:38:45.865Z"
   },
   {
    "duration": 143,
    "start_time": "2022-01-05T20:38:45.990Z"
   },
   {
    "duration": 116,
    "start_time": "2022-01-05T20:38:46.134Z"
   },
   {
    "duration": 110,
    "start_time": "2022-01-05T20:38:46.251Z"
   },
   {
    "duration": 114,
    "start_time": "2022-01-05T20:38:46.362Z"
   },
   {
    "duration": 7,
    "start_time": "2022-01-05T20:38:46.478Z"
   },
   {
    "duration": 15,
    "start_time": "2022-01-05T20:38:46.486Z"
   },
   {
    "duration": 6617,
    "start_time": "2022-01-05T20:38:46.503Z"
   },
   {
    "duration": 10,
    "start_time": "2022-01-05T20:38:53.122Z"
   },
   {
    "duration": 28,
    "start_time": "2022-01-05T20:38:53.134Z"
   },
   {
    "duration": 1121,
    "start_time": "2022-01-05T20:38:53.164Z"
   },
   {
    "duration": 14,
    "start_time": "2022-01-05T20:38:54.287Z"
   },
   {
    "duration": 14,
    "start_time": "2022-01-05T20:38:54.303Z"
   },
   {
    "duration": 15,
    "start_time": "2022-01-05T20:38:54.318Z"
   },
   {
    "duration": 39,
    "start_time": "2022-01-05T20:38:54.335Z"
   },
   {
    "duration": 249,
    "start_time": "2022-01-05T20:38:54.376Z"
   },
   {
    "duration": 234,
    "start_time": "2022-01-05T20:38:54.627Z"
   },
   {
    "duration": 241,
    "start_time": "2022-01-05T20:38:54.863Z"
   },
   {
    "duration": 7,
    "start_time": "2022-01-05T20:38:55.105Z"
   },
   {
    "duration": 10,
    "start_time": "2022-01-05T20:38:55.114Z"
   },
   {
    "duration": 5,
    "start_time": "2022-01-05T20:38:55.126Z"
   },
   {
    "duration": 4,
    "start_time": "2022-01-05T20:38:55.133Z"
   },
   {
    "duration": 24,
    "start_time": "2022-01-05T20:38:55.138Z"
   },
   {
    "duration": 4,
    "start_time": "2022-01-05T20:38:55.164Z"
   },
   {
    "duration": 4,
    "start_time": "2022-01-05T20:38:55.170Z"
   },
   {
    "duration": 9,
    "start_time": "2022-01-05T20:38:55.176Z"
   },
   {
    "duration": 6,
    "start_time": "2022-01-05T20:38:55.186Z"
   },
   {
    "duration": 5,
    "start_time": "2022-01-05T20:38:55.194Z"
   },
   {
    "duration": 409,
    "start_time": "2022-01-05T20:38:55.200Z"
   },
   {
    "duration": 346,
    "start_time": "2022-01-05T20:38:55.611Z"
   },
   {
    "duration": -603,
    "start_time": "2022-01-05T20:38:56.563Z"
   },
   {
    "duration": -605,
    "start_time": "2022-01-05T20:38:56.567Z"
   },
   {
    "duration": -611,
    "start_time": "2022-01-05T20:38:56.574Z"
   },
   {
    "duration": 708,
    "start_time": "2022-01-05T20:40:48.665Z"
   },
   {
    "duration": 628,
    "start_time": "2022-01-05T20:40:56.892Z"
   },
   {
    "duration": 1007,
    "start_time": "2022-01-05T20:41:15.693Z"
   },
   {
    "duration": 256,
    "start_time": "2022-01-05T20:41:42.634Z"
   },
   {
    "duration": 601,
    "start_time": "2022-01-05T20:42:00.791Z"
   },
   {
    "duration": 54,
    "start_time": "2022-01-05T20:42:01.394Z"
   },
   {
    "duration": 9,
    "start_time": "2022-01-05T20:42:01.451Z"
   },
   {
    "duration": 28,
    "start_time": "2022-01-05T20:42:01.462Z"
   },
   {
    "duration": 4,
    "start_time": "2022-01-05T20:42:01.492Z"
   },
   {
    "duration": 13,
    "start_time": "2022-01-05T20:42:01.498Z"
   },
   {
    "duration": 4,
    "start_time": "2022-01-05T20:42:01.513Z"
   },
   {
    "duration": 6,
    "start_time": "2022-01-05T20:42:01.519Z"
   },
   {
    "duration": 35,
    "start_time": "2022-01-05T20:42:01.527Z"
   },
   {
    "duration": 8,
    "start_time": "2022-01-05T20:42:01.563Z"
   },
   {
    "duration": 8,
    "start_time": "2022-01-05T20:42:01.573Z"
   },
   {
    "duration": 13,
    "start_time": "2022-01-05T20:42:01.583Z"
   },
   {
    "duration": 8,
    "start_time": "2022-01-05T20:42:01.598Z"
   },
   {
    "duration": 5,
    "start_time": "2022-01-05T20:42:01.608Z"
   },
   {
    "duration": 74,
    "start_time": "2022-01-05T20:42:01.615Z"
   },
   {
    "duration": 9,
    "start_time": "2022-01-05T20:42:01.691Z"
   },
   {
    "duration": 7,
    "start_time": "2022-01-05T20:42:01.702Z"
   },
   {
    "duration": 12,
    "start_time": "2022-01-05T20:42:01.711Z"
   },
   {
    "duration": 20,
    "start_time": "2022-01-05T20:42:01.726Z"
   },
   {
    "duration": 410,
    "start_time": "2022-01-05T20:42:01.749Z"
   },
   {
    "duration": -600,
    "start_time": "2022-01-05T20:42:02.762Z"
   },
   {
    "duration": -602,
    "start_time": "2022-01-05T20:42:02.765Z"
   },
   {
    "duration": -606,
    "start_time": "2022-01-05T20:42:02.770Z"
   },
   {
    "duration": -607,
    "start_time": "2022-01-05T20:42:02.772Z"
   },
   {
    "duration": -610,
    "start_time": "2022-01-05T20:42:02.775Z"
   },
   {
    "duration": -613,
    "start_time": "2022-01-05T20:42:02.779Z"
   },
   {
    "duration": -615,
    "start_time": "2022-01-05T20:42:02.782Z"
   },
   {
    "duration": -618,
    "start_time": "2022-01-05T20:42:02.786Z"
   },
   {
    "duration": -624,
    "start_time": "2022-01-05T20:42:02.793Z"
   },
   {
    "duration": -626,
    "start_time": "2022-01-05T20:42:02.796Z"
   },
   {
    "duration": -628,
    "start_time": "2022-01-05T20:42:02.798Z"
   },
   {
    "duration": -630,
    "start_time": "2022-01-05T20:42:02.801Z"
   },
   {
    "duration": -632,
    "start_time": "2022-01-05T20:42:02.804Z"
   },
   {
    "duration": -633,
    "start_time": "2022-01-05T20:42:02.806Z"
   },
   {
    "duration": -636,
    "start_time": "2022-01-05T20:42:02.810Z"
   },
   {
    "duration": -639,
    "start_time": "2022-01-05T20:42:02.814Z"
   },
   {
    "duration": -643,
    "start_time": "2022-01-05T20:42:02.818Z"
   },
   {
    "duration": -683,
    "start_time": "2022-01-05T20:42:02.859Z"
   },
   {
    "duration": -685,
    "start_time": "2022-01-05T20:42:02.862Z"
   },
   {
    "duration": -694,
    "start_time": "2022-01-05T20:42:02.872Z"
   },
   {
    "duration": -696,
    "start_time": "2022-01-05T20:42:02.875Z"
   },
   {
    "duration": -699,
    "start_time": "2022-01-05T20:42:02.879Z"
   },
   {
    "duration": -718,
    "start_time": "2022-01-05T20:42:02.899Z"
   },
   {
    "duration": -721,
    "start_time": "2022-01-05T20:42:02.903Z"
   },
   {
    "duration": -723,
    "start_time": "2022-01-05T20:42:02.906Z"
   },
   {
    "duration": -727,
    "start_time": "2022-01-05T20:42:02.910Z"
   },
   {
    "duration": -728,
    "start_time": "2022-01-05T20:42:02.912Z"
   },
   {
    "duration": -730,
    "start_time": "2022-01-05T20:42:02.915Z"
   },
   {
    "duration": -732,
    "start_time": "2022-01-05T20:42:02.918Z"
   },
   {
    "duration": -734,
    "start_time": "2022-01-05T20:42:02.921Z"
   },
   {
    "duration": -736,
    "start_time": "2022-01-05T20:42:02.923Z"
   },
   {
    "duration": -738,
    "start_time": "2022-01-05T20:42:02.926Z"
   },
   {
    "duration": -740,
    "start_time": "2022-01-05T20:42:02.929Z"
   },
   {
    "duration": -741,
    "start_time": "2022-01-05T20:42:02.931Z"
   },
   {
    "duration": -748,
    "start_time": "2022-01-05T20:42:02.939Z"
   },
   {
    "duration": -749,
    "start_time": "2022-01-05T20:42:02.941Z"
   },
   {
    "duration": -751,
    "start_time": "2022-01-05T20:42:02.944Z"
   },
   {
    "duration": -753,
    "start_time": "2022-01-05T20:42:02.947Z"
   },
   {
    "duration": -759,
    "start_time": "2022-01-05T20:42:02.954Z"
   },
   {
    "duration": -761,
    "start_time": "2022-01-05T20:42:02.956Z"
   },
   {
    "duration": -763,
    "start_time": "2022-01-05T20:42:02.959Z"
   },
   {
    "duration": -765,
    "start_time": "2022-01-05T20:42:02.962Z"
   },
   {
    "duration": -796,
    "start_time": "2022-01-05T20:42:02.994Z"
   },
   {
    "duration": -798,
    "start_time": "2022-01-05T20:42:02.997Z"
   },
   {
    "duration": -801,
    "start_time": "2022-01-05T20:42:03.001Z"
   },
   {
    "duration": -805,
    "start_time": "2022-01-05T20:42:03.006Z"
   },
   {
    "duration": -809,
    "start_time": "2022-01-05T20:42:03.010Z"
   },
   {
    "duration": -811,
    "start_time": "2022-01-05T20:42:03.013Z"
   },
   {
    "duration": -813,
    "start_time": "2022-01-05T20:42:03.016Z"
   },
   {
    "duration": -758,
    "start_time": "2022-01-05T20:42:03.020Z"
   },
   {
    "duration": -759,
    "start_time": "2022-01-05T20:42:03.022Z"
   },
   {
    "duration": -760,
    "start_time": "2022-01-05T20:42:03.025Z"
   },
   {
    "duration": -762,
    "start_time": "2022-01-05T20:42:03.028Z"
   },
   {
    "duration": -763,
    "start_time": "2022-01-05T20:42:03.031Z"
   },
   {
    "duration": -768,
    "start_time": "2022-01-05T20:42:03.037Z"
   },
   {
    "duration": -771,
    "start_time": "2022-01-05T20:42:03.042Z"
   },
   {
    "duration": -774,
    "start_time": "2022-01-05T20:42:03.046Z"
   },
   {
    "duration": -774,
    "start_time": "2022-01-05T20:42:03.049Z"
   },
   {
    "duration": -774,
    "start_time": "2022-01-05T20:42:03.053Z"
   },
   {
    "duration": -779,
    "start_time": "2022-01-05T20:42:03.059Z"
   },
   {
    "duration": -780,
    "start_time": "2022-01-05T20:42:03.062Z"
   },
   {
    "duration": -780,
    "start_time": "2022-01-05T20:42:03.064Z"
   },
   {
    "duration": 607,
    "start_time": "2022-01-05T20:42:21.523Z"
   },
   {
    "duration": 56,
    "start_time": "2022-01-05T20:42:22.132Z"
   },
   {
    "duration": 10,
    "start_time": "2022-01-05T20:42:22.190Z"
   },
   {
    "duration": 28,
    "start_time": "2022-01-05T20:42:22.201Z"
   },
   {
    "duration": 4,
    "start_time": "2022-01-05T20:42:22.231Z"
   },
   {
    "duration": 28,
    "start_time": "2022-01-05T20:42:22.237Z"
   },
   {
    "duration": 5,
    "start_time": "2022-01-05T20:42:22.267Z"
   },
   {
    "duration": 18,
    "start_time": "2022-01-05T20:42:22.275Z"
   },
   {
    "duration": 20,
    "start_time": "2022-01-05T20:42:22.295Z"
   },
   {
    "duration": 8,
    "start_time": "2022-01-05T20:42:22.316Z"
   },
   {
    "duration": 8,
    "start_time": "2022-01-05T20:42:22.325Z"
   },
   {
    "duration": 8,
    "start_time": "2022-01-05T20:42:22.335Z"
   },
   {
    "duration": 21,
    "start_time": "2022-01-05T20:42:22.344Z"
   },
   {
    "duration": 6,
    "start_time": "2022-01-05T20:42:22.367Z"
   },
   {
    "duration": 26,
    "start_time": "2022-01-05T20:42:22.375Z"
   },
   {
    "duration": 5,
    "start_time": "2022-01-05T20:42:22.403Z"
   },
   {
    "duration": 5,
    "start_time": "2022-01-05T20:42:22.410Z"
   },
   {
    "duration": 8,
    "start_time": "2022-01-05T20:42:22.416Z"
   },
   {
    "duration": 36,
    "start_time": "2022-01-05T20:42:22.425Z"
   },
   {
    "duration": 296,
    "start_time": "2022-01-05T20:42:22.463Z"
   },
   {
    "duration": -635,
    "start_time": "2022-01-05T20:42:23.397Z"
   },
   {
    "duration": -637,
    "start_time": "2022-01-05T20:42:23.400Z"
   },
   {
    "duration": -640,
    "start_time": "2022-01-05T20:42:23.404Z"
   },
   {
    "duration": -640,
    "start_time": "2022-01-05T20:42:23.406Z"
   },
   {
    "duration": -642,
    "start_time": "2022-01-05T20:42:23.409Z"
   },
   {
    "duration": -644,
    "start_time": "2022-01-05T20:42:23.412Z"
   },
   {
    "duration": -646,
    "start_time": "2022-01-05T20:42:23.415Z"
   },
   {
    "duration": -648,
    "start_time": "2022-01-05T20:42:23.418Z"
   },
   {
    "duration": -650,
    "start_time": "2022-01-05T20:42:23.421Z"
   },
   {
    "duration": -651,
    "start_time": "2022-01-05T20:42:23.423Z"
   },
   {
    "duration": -653,
    "start_time": "2022-01-05T20:42:23.426Z"
   },
   {
    "duration": -655,
    "start_time": "2022-01-05T20:42:23.429Z"
   },
   {
    "duration": -657,
    "start_time": "2022-01-05T20:42:23.432Z"
   },
   {
    "duration": -659,
    "start_time": "2022-01-05T20:42:23.435Z"
   },
   {
    "duration": -662,
    "start_time": "2022-01-05T20:42:23.439Z"
   },
   {
    "duration": -663,
    "start_time": "2022-01-05T20:42:23.441Z"
   },
   {
    "duration": -666,
    "start_time": "2022-01-05T20:42:23.445Z"
   },
   {
    "duration": -668,
    "start_time": "2022-01-05T20:42:23.447Z"
   },
   {
    "duration": -669,
    "start_time": "2022-01-05T20:42:23.450Z"
   },
   {
    "duration": -671,
    "start_time": "2022-01-05T20:42:23.452Z"
   },
   {
    "duration": -673,
    "start_time": "2022-01-05T20:42:23.455Z"
   },
   {
    "duration": -674,
    "start_time": "2022-01-05T20:42:23.458Z"
   },
   {
    "duration": -675,
    "start_time": "2022-01-05T20:42:23.460Z"
   },
   {
    "duration": -677,
    "start_time": "2022-01-05T20:42:23.463Z"
   },
   {
    "duration": -679,
    "start_time": "2022-01-05T20:42:23.466Z"
   },
   {
    "duration": -680,
    "start_time": "2022-01-05T20:42:23.468Z"
   },
   {
    "duration": -682,
    "start_time": "2022-01-05T20:42:23.471Z"
   },
   {
    "duration": -683,
    "start_time": "2022-01-05T20:42:23.473Z"
   },
   {
    "duration": -758,
    "start_time": "2022-01-05T20:42:23.549Z"
   },
   {
    "duration": -761,
    "start_time": "2022-01-05T20:42:23.553Z"
   },
   {
    "duration": -764,
    "start_time": "2022-01-05T20:42:23.557Z"
   },
   {
    "duration": -766,
    "start_time": "2022-01-05T20:42:23.560Z"
   },
   {
    "duration": -768,
    "start_time": "2022-01-05T20:42:23.563Z"
   },
   {
    "duration": -770,
    "start_time": "2022-01-05T20:42:23.565Z"
   },
   {
    "duration": -773,
    "start_time": "2022-01-05T20:42:23.569Z"
   },
   {
    "duration": -774,
    "start_time": "2022-01-05T20:42:23.571Z"
   },
   {
    "duration": -776,
    "start_time": "2022-01-05T20:42:23.574Z"
   },
   {
    "duration": -777,
    "start_time": "2022-01-05T20:42:23.576Z"
   },
   {
    "duration": -817,
    "start_time": "2022-01-05T20:42:23.617Z"
   },
   {
    "duration": -827,
    "start_time": "2022-01-05T20:42:23.628Z"
   },
   {
    "duration": -828,
    "start_time": "2022-01-05T20:42:23.630Z"
   },
   {
    "duration": -831,
    "start_time": "2022-01-05T20:42:23.634Z"
   },
   {
    "duration": -833,
    "start_time": "2022-01-05T20:42:23.637Z"
   },
   {
    "duration": -836,
    "start_time": "2022-01-05T20:42:23.640Z"
   },
   {
    "duration": -837,
    "start_time": "2022-01-05T20:42:23.642Z"
   },
   {
    "duration": -839,
    "start_time": "2022-01-05T20:42:23.645Z"
   },
   {
    "duration": -786,
    "start_time": "2022-01-05T20:42:23.647Z"
   },
   {
    "duration": -788,
    "start_time": "2022-01-05T20:42:23.650Z"
   },
   {
    "duration": -790,
    "start_time": "2022-01-05T20:42:23.652Z"
   },
   {
    "duration": -792,
    "start_time": "2022-01-05T20:42:23.655Z"
   },
   {
    "duration": -793,
    "start_time": "2022-01-05T20:42:23.657Z"
   },
   {
    "duration": -794,
    "start_time": "2022-01-05T20:42:23.659Z"
   },
   {
    "duration": -796,
    "start_time": "2022-01-05T20:42:23.662Z"
   },
   {
    "duration": -797,
    "start_time": "2022-01-05T20:42:23.664Z"
   },
   {
    "duration": -799,
    "start_time": "2022-01-05T20:42:23.667Z"
   },
   {
    "duration": -800,
    "start_time": "2022-01-05T20:42:23.669Z"
   },
   {
    "duration": -802,
    "start_time": "2022-01-05T20:42:23.672Z"
   },
   {
    "duration": -803,
    "start_time": "2022-01-05T20:42:23.674Z"
   },
   {
    "duration": -805,
    "start_time": "2022-01-05T20:42:23.677Z"
   },
   {
    "duration": -806,
    "start_time": "2022-01-05T20:42:23.679Z"
   },
   {
    "duration": -809,
    "start_time": "2022-01-05T20:42:23.683Z"
   },
   {
    "duration": -810,
    "start_time": "2022-01-05T20:42:23.685Z"
   },
   {
    "duration": 6,
    "start_time": "2022-01-05T20:43:21.500Z"
   },
   {
    "duration": 11,
    "start_time": "2022-01-05T20:43:24.796Z"
   },
   {
    "duration": 625,
    "start_time": "2022-01-05T20:43:33.783Z"
   },
   {
    "duration": 54,
    "start_time": "2022-01-05T20:43:34.410Z"
   },
   {
    "duration": 10,
    "start_time": "2022-01-05T20:43:34.466Z"
   },
   {
    "duration": 32,
    "start_time": "2022-01-05T20:43:34.478Z"
   },
   {
    "duration": 4,
    "start_time": "2022-01-05T20:43:34.512Z"
   },
   {
    "duration": 11,
    "start_time": "2022-01-05T20:43:34.518Z"
   },
   {
    "duration": 6,
    "start_time": "2022-01-05T20:43:34.531Z"
   },
   {
    "duration": 21,
    "start_time": "2022-01-05T20:43:34.539Z"
   },
   {
    "duration": 8,
    "start_time": "2022-01-05T20:43:34.563Z"
   },
   {
    "duration": 7,
    "start_time": "2022-01-05T20:43:34.573Z"
   },
   {
    "duration": 8,
    "start_time": "2022-01-05T20:43:34.581Z"
   },
   {
    "duration": 6,
    "start_time": "2022-01-05T20:43:34.590Z"
   },
   {
    "duration": 7,
    "start_time": "2022-01-05T20:43:34.598Z"
   },
   {
    "duration": 4,
    "start_time": "2022-01-05T20:43:34.606Z"
   },
   {
    "duration": 79,
    "start_time": "2022-01-05T20:43:34.612Z"
   },
   {
    "duration": 4,
    "start_time": "2022-01-05T20:43:34.693Z"
   },
   {
    "duration": 8,
    "start_time": "2022-01-05T20:43:34.699Z"
   },
   {
    "duration": 6,
    "start_time": "2022-01-05T20:43:34.709Z"
   },
   {
    "duration": 20,
    "start_time": "2022-01-05T20:43:34.716Z"
   },
   {
    "duration": 23,
    "start_time": "2022-01-05T20:43:34.739Z"
   },
   {
    "duration": 15,
    "start_time": "2022-01-05T20:43:34.764Z"
   },
   {
    "duration": 6,
    "start_time": "2022-01-05T20:43:34.781Z"
   },
   {
    "duration": 14,
    "start_time": "2022-01-05T20:43:34.789Z"
   },
   {
    "duration": 12,
    "start_time": "2022-01-05T20:43:34.805Z"
   },
   {
    "duration": 11,
    "start_time": "2022-01-05T20:43:34.819Z"
   },
   {
    "duration": 29,
    "start_time": "2022-01-05T20:43:34.832Z"
   },
   {
    "duration": 18,
    "start_time": "2022-01-05T20:43:34.867Z"
   },
   {
    "duration": 5,
    "start_time": "2022-01-05T20:43:34.888Z"
   },
   {
    "duration": 22,
    "start_time": "2022-01-05T20:43:34.894Z"
   },
   {
    "duration": 9,
    "start_time": "2022-01-05T20:43:34.918Z"
   },
   {
    "duration": 42,
    "start_time": "2022-01-05T20:43:34.928Z"
   },
   {
    "duration": 20,
    "start_time": "2022-01-05T20:43:34.972Z"
   },
   {
    "duration": 9,
    "start_time": "2022-01-05T20:43:34.994Z"
   },
   {
    "duration": 7,
    "start_time": "2022-01-05T20:43:35.005Z"
   },
   {
    "duration": 2927,
    "start_time": "2022-01-05T20:43:35.014Z"
   },
   {
    "duration": 30,
    "start_time": "2022-01-05T20:43:37.943Z"
   },
   {
    "duration": 9,
    "start_time": "2022-01-05T20:43:37.974Z"
   },
   {
    "duration": 11,
    "start_time": "2022-01-05T20:43:37.984Z"
   },
   {
    "duration": 15,
    "start_time": "2022-01-05T20:43:37.996Z"
   },
   {
    "duration": 13,
    "start_time": "2022-01-05T20:43:38.013Z"
   },
   {
    "duration": 38,
    "start_time": "2022-01-05T20:43:38.028Z"
   },
   {
    "duration": 8,
    "start_time": "2022-01-05T20:43:38.068Z"
   },
   {
    "duration": 125,
    "start_time": "2022-01-05T20:43:38.078Z"
   },
   {
    "duration": 116,
    "start_time": "2022-01-05T20:43:38.205Z"
   },
   {
    "duration": 125,
    "start_time": "2022-01-05T20:43:38.323Z"
   },
   {
    "duration": 190,
    "start_time": "2022-01-05T20:43:38.450Z"
   },
   {
    "duration": 185,
    "start_time": "2022-01-05T20:43:38.642Z"
   },
   {
    "duration": 111,
    "start_time": "2022-01-05T20:43:38.829Z"
   },
   {
    "duration": 118,
    "start_time": "2022-01-05T20:43:38.942Z"
   },
   {
    "duration": 116,
    "start_time": "2022-01-05T20:43:39.062Z"
   },
   {
    "duration": 121,
    "start_time": "2022-01-05T20:43:39.180Z"
   },
   {
    "duration": 119,
    "start_time": "2022-01-05T20:43:39.303Z"
   },
   {
    "duration": 118,
    "start_time": "2022-01-05T20:43:39.424Z"
   },
   {
    "duration": 112,
    "start_time": "2022-01-05T20:43:39.544Z"
   },
   {
    "duration": 7,
    "start_time": "2022-01-05T20:43:39.660Z"
   },
   {
    "duration": 12,
    "start_time": "2022-01-05T20:43:39.668Z"
   },
   {
    "duration": 6859,
    "start_time": "2022-01-05T20:43:39.681Z"
   },
   {
    "duration": 23,
    "start_time": "2022-01-05T20:43:46.541Z"
   },
   {
    "duration": 6,
    "start_time": "2022-01-05T20:43:46.566Z"
   },
   {
    "duration": 1135,
    "start_time": "2022-01-05T20:43:46.573Z"
   },
   {
    "duration": 14,
    "start_time": "2022-01-05T20:43:47.709Z"
   },
   {
    "duration": 13,
    "start_time": "2022-01-05T20:43:47.725Z"
   },
   {
    "duration": 30,
    "start_time": "2022-01-05T20:43:47.739Z"
   },
   {
    "duration": 13,
    "start_time": "2022-01-05T20:43:47.771Z"
   },
   {
    "duration": 247,
    "start_time": "2022-01-05T20:43:47.785Z"
   },
   {
    "duration": 232,
    "start_time": "2022-01-05T20:43:48.034Z"
   },
   {
    "duration": 236,
    "start_time": "2022-01-05T20:43:48.267Z"
   },
   {
    "duration": 7,
    "start_time": "2022-01-05T20:43:48.504Z"
   },
   {
    "duration": 7,
    "start_time": "2022-01-05T20:43:48.513Z"
   },
   {
    "duration": 3,
    "start_time": "2022-01-05T20:43:48.522Z"
   },
   {
    "duration": 5,
    "start_time": "2022-01-05T20:43:48.526Z"
   },
   {
    "duration": 28,
    "start_time": "2022-01-05T20:43:48.532Z"
   },
   {
    "duration": 4,
    "start_time": "2022-01-05T20:43:48.562Z"
   },
   {
    "duration": 6,
    "start_time": "2022-01-05T20:43:48.567Z"
   },
   {
    "duration": 4,
    "start_time": "2022-01-05T20:43:48.575Z"
   },
   {
    "duration": 9,
    "start_time": "2022-01-05T20:43:48.581Z"
   },
   {
    "duration": 5,
    "start_time": "2022-01-05T20:43:48.591Z"
   },
   {
    "duration": 377,
    "start_time": "2022-01-05T20:43:48.598Z"
   },
   {
    "duration": 379,
    "start_time": "2022-01-05T20:43:48.977Z"
   },
   {
    "duration": -602,
    "start_time": "2022-01-05T20:43:49.960Z"
   },
   {
    "duration": -604,
    "start_time": "2022-01-05T20:43:49.963Z"
   },
   {
    "duration": -606,
    "start_time": "2022-01-05T20:43:49.966Z"
   },
   {
    "duration": 7,
    "start_time": "2022-01-05T20:45:46.486Z"
   },
   {
    "duration": 6,
    "start_time": "2022-01-05T20:45:49.185Z"
   },
   {
    "duration": 10,
    "start_time": "2022-01-05T20:45:50.275Z"
   },
   {
    "duration": 7,
    "start_time": "2022-01-05T20:45:55.904Z"
   },
   {
    "duration": 8,
    "start_time": "2022-01-05T20:45:56.028Z"
   },
   {
    "duration": 5,
    "start_time": "2022-01-05T20:45:56.408Z"
   },
   {
    "duration": 11,
    "start_time": "2022-01-05T20:45:56.603Z"
   },
   {
    "duration": 4,
    "start_time": "2022-01-05T20:45:56.798Z"
   },
   {
    "duration": 17,
    "start_time": "2022-01-05T20:45:56.951Z"
   },
   {
    "duration": 4,
    "start_time": "2022-01-05T20:45:57.564Z"
   },
   {
    "duration": 22,
    "start_time": "2022-01-05T20:45:57.693Z"
   },
   {
    "duration": 7,
    "start_time": "2022-01-05T20:45:58.073Z"
   },
   {
    "duration": 12,
    "start_time": "2022-01-05T20:45:58.238Z"
   },
   {
    "duration": 22,
    "start_time": "2022-01-05T20:45:58.433Z"
   },
   {
    "duration": 8,
    "start_time": "2022-01-05T20:45:58.608Z"
   },
   {
    "duration": 8,
    "start_time": "2022-01-05T20:45:58.948Z"
   },
   {
    "duration": 3135,
    "start_time": "2022-01-05T20:45:59.313Z"
   },
   {
    "duration": 31,
    "start_time": "2022-01-05T20:46:02.450Z"
   },
   {
    "duration": 10,
    "start_time": "2022-01-05T20:46:02.484Z"
   },
   {
    "duration": 11,
    "start_time": "2022-01-05T20:46:02.496Z"
   },
   {
    "duration": 12,
    "start_time": "2022-01-05T20:46:02.509Z"
   },
   {
    "duration": 39,
    "start_time": "2022-01-05T20:46:02.523Z"
   },
   {
    "duration": 7,
    "start_time": "2022-01-05T20:46:02.564Z"
   },
   {
    "duration": 9,
    "start_time": "2022-01-05T20:46:02.573Z"
   },
   {
    "duration": 126,
    "start_time": "2022-01-05T20:46:02.584Z"
   },
   {
    "duration": 113,
    "start_time": "2022-01-05T20:46:02.712Z"
   },
   {
    "duration": 121,
    "start_time": "2022-01-05T20:46:02.826Z"
   },
   {
    "duration": 111,
    "start_time": "2022-01-05T20:46:03.388Z"
   },
   {
    "duration": 104,
    "start_time": "2022-01-05T20:46:03.938Z"
   },
   {
    "duration": 211,
    "start_time": "2022-01-05T20:46:04.281Z"
   },
   {
    "duration": 122,
    "start_time": "2022-01-05T20:46:04.693Z"
   },
   {
    "duration": 103,
    "start_time": "2022-01-05T20:46:05.118Z"
   },
   {
    "duration": 112,
    "start_time": "2022-01-05T20:46:05.328Z"
   },
   {
    "duration": 105,
    "start_time": "2022-01-05T20:46:05.513Z"
   },
   {
    "duration": 105,
    "start_time": "2022-01-05T20:46:05.728Z"
   },
   {
    "duration": 101,
    "start_time": "2022-01-05T20:46:05.917Z"
   },
   {
    "duration": 8,
    "start_time": "2022-01-05T20:46:06.338Z"
   },
   {
    "duration": 8,
    "start_time": "2022-01-05T20:46:06.893Z"
   },
   {
    "duration": 8374,
    "start_time": "2022-01-05T20:46:07.323Z"
   },
   {
    "duration": 12,
    "start_time": "2022-01-05T20:46:15.699Z"
   },
   {
    "duration": 5,
    "start_time": "2022-01-05T20:46:15.713Z"
   },
   {
    "duration": 1153,
    "start_time": "2022-01-05T20:46:15.720Z"
   },
   {
    "duration": 16,
    "start_time": "2022-01-05T20:46:16.875Z"
   },
   {
    "duration": 15,
    "start_time": "2022-01-05T20:46:16.892Z"
   },
   {
    "duration": 18,
    "start_time": "2022-01-05T20:46:16.908Z"
   },
   {
    "duration": 32,
    "start_time": "2022-01-05T20:46:16.929Z"
   },
   {
    "duration": 242,
    "start_time": "2022-01-05T20:46:16.963Z"
   },
   {
    "duration": 230,
    "start_time": "2022-01-05T20:46:17.207Z"
   },
   {
    "duration": 241,
    "start_time": "2022-01-05T20:46:17.440Z"
   },
   {
    "duration": 6,
    "start_time": "2022-01-05T20:46:17.683Z"
   },
   {
    "duration": 14,
    "start_time": "2022-01-05T20:46:17.690Z"
   },
   {
    "duration": 18,
    "start_time": "2022-01-05T20:46:17.705Z"
   },
   {
    "duration": 10,
    "start_time": "2022-01-05T20:46:17.724Z"
   },
   {
    "duration": 23,
    "start_time": "2022-01-05T20:46:17.736Z"
   },
   {
    "duration": 15,
    "start_time": "2022-01-05T20:46:17.761Z"
   },
   {
    "duration": 18,
    "start_time": "2022-01-05T20:46:17.778Z"
   },
   {
    "duration": 18,
    "start_time": "2022-01-05T20:46:17.798Z"
   },
   {
    "duration": 11,
    "start_time": "2022-01-05T20:46:17.818Z"
   },
   {
    "duration": 25,
    "start_time": "2022-01-05T20:46:17.830Z"
   },
   {
    "duration": 12,
    "start_time": "2022-01-05T20:46:17.856Z"
   },
   {
    "duration": 288,
    "start_time": "2022-01-05T20:46:17.871Z"
   },
   {
    "duration": -593,
    "start_time": "2022-01-05T20:46:18.753Z"
   },
   {
    "duration": 6,
    "start_time": "2022-01-05T20:48:18.406Z"
   },
   {
    "duration": 11,
    "start_time": "2022-01-05T20:48:19.305Z"
   },
   {
    "duration": 3,
    "start_time": "2022-01-05T20:48:49.613Z"
   },
   {
    "duration": 50,
    "start_time": "2022-01-05T20:48:49.799Z"
   },
   {
    "duration": 10,
    "start_time": "2022-01-05T20:48:50.178Z"
   },
   {
    "duration": 28,
    "start_time": "2022-01-05T20:48:50.350Z"
   },
   {
    "duration": 5,
    "start_time": "2022-01-05T20:48:50.942Z"
   },
   {
    "duration": 9,
    "start_time": "2022-01-05T20:48:51.363Z"
   },
   {
    "duration": 4,
    "start_time": "2022-01-05T20:48:51.590Z"
   },
   {
    "duration": 4,
    "start_time": "2022-01-05T20:48:52.049Z"
   },
   {
    "duration": 9,
    "start_time": "2022-01-05T20:48:52.572Z"
   },
   {
    "duration": 9,
    "start_time": "2022-01-05T20:48:52.688Z"
   },
   {
    "duration": 10,
    "start_time": "2022-01-05T20:48:53.394Z"
   },
   {
    "duration": 9,
    "start_time": "2022-01-05T20:48:53.567Z"
   },
   {
    "duration": 9,
    "start_time": "2022-01-05T20:48:53.930Z"
   },
   {
    "duration": 5,
    "start_time": "2022-01-05T20:48:54.540Z"
   },
   {
    "duration": 25,
    "start_time": "2022-01-05T20:48:54.785Z"
   },
   {
    "duration": 4,
    "start_time": "2022-01-05T20:48:55.030Z"
   },
   {
    "duration": 3,
    "start_time": "2022-01-05T20:48:55.301Z"
   },
   {
    "duration": 4,
    "start_time": "2022-01-05T20:48:55.570Z"
   },
   {
    "duration": 18,
    "start_time": "2022-01-05T20:48:56.511Z"
   },
   {
    "duration": 7,
    "start_time": "2022-01-05T20:48:56.710Z"
   },
   {
    "duration": 9,
    "start_time": "2022-01-05T20:48:56.900Z"
   },
   {
    "duration": 6,
    "start_time": "2022-01-05T20:48:57.612Z"
   },
   {
    "duration": 8,
    "start_time": "2022-01-05T20:48:57.786Z"
   },
   {
    "duration": 8,
    "start_time": "2022-01-05T20:48:58.344Z"
   },
   {
    "duration": 13,
    "start_time": "2022-01-05T20:49:03.033Z"
   },
   {
    "duration": 6,
    "start_time": "2022-01-05T20:49:03.713Z"
   },
   {
    "duration": 16,
    "start_time": "2022-01-05T20:49:04.392Z"
   },
   {
    "duration": 5,
    "start_time": "2022-01-05T20:49:06.175Z"
   },
   {
    "duration": 21,
    "start_time": "2022-01-05T20:49:07.522Z"
   },
   {
    "duration": 7,
    "start_time": "2022-01-05T20:49:09.316Z"
   },
   {
    "duration": 13,
    "start_time": "2022-01-05T20:49:09.972Z"
   },
   {
    "duration": 21,
    "start_time": "2022-01-05T20:49:10.660Z"
   },
   {
    "duration": 11,
    "start_time": "2022-01-05T20:49:11.570Z"
   },
   {
    "duration": 9,
    "start_time": "2022-01-05T20:49:13.530Z"
   },
   {
    "duration": 3005,
    "start_time": "2022-01-05T20:49:14.703Z"
   },
   {
    "duration": 22,
    "start_time": "2022-01-05T20:49:17.710Z"
   },
   {
    "duration": 8,
    "start_time": "2022-01-05T20:49:17.734Z"
   },
   {
    "duration": 12,
    "start_time": "2022-01-05T20:49:18.500Z"
   },
   {
    "duration": 16,
    "start_time": "2022-01-05T20:49:18.915Z"
   },
   {
    "duration": 14,
    "start_time": "2022-01-05T20:49:19.292Z"
   },
   {
    "duration": 11,
    "start_time": "2022-01-05T20:49:53.232Z"
   },
   {
    "duration": 3,
    "start_time": "2022-01-05T20:50:01.171Z"
   },
   {
    "duration": 51,
    "start_time": "2022-01-05T20:50:01.251Z"
   },
   {
    "duration": 16,
    "start_time": "2022-01-05T20:50:01.756Z"
   },
   {
    "duration": 38,
    "start_time": "2022-01-05T20:50:01.887Z"
   },
   {
    "duration": 6,
    "start_time": "2022-01-05T20:50:02.509Z"
   },
   {
    "duration": 10,
    "start_time": "2022-01-05T20:50:02.901Z"
   },
   {
    "duration": 4,
    "start_time": "2022-01-05T20:50:03.107Z"
   },
   {
    "duration": 4,
    "start_time": "2022-01-05T20:50:03.750Z"
   },
   {
    "duration": 9,
    "start_time": "2022-01-05T20:50:04.331Z"
   },
   {
    "duration": 10,
    "start_time": "2022-01-05T20:50:04.460Z"
   },
   {
    "duration": 11,
    "start_time": "2022-01-05T20:50:04.952Z"
   },
   {
    "duration": 9,
    "start_time": "2022-01-05T20:50:05.492Z"
   },
   {
    "duration": 9,
    "start_time": "2022-01-05T20:50:06.626Z"
   },
   {
    "duration": 4,
    "start_time": "2022-01-05T20:50:07.531Z"
   },
   {
    "duration": 26,
    "start_time": "2022-01-05T20:50:08.013Z"
   },
   {
    "duration": 4,
    "start_time": "2022-01-05T20:50:08.690Z"
   },
   {
    "duration": 614,
    "start_time": "2022-01-05T20:50:35.594Z"
   },
   {
    "duration": 51,
    "start_time": "2022-01-05T20:50:36.210Z"
   },
   {
    "duration": 9,
    "start_time": "2022-01-05T20:50:36.263Z"
   },
   {
    "duration": 37,
    "start_time": "2022-01-05T20:50:36.274Z"
   },
   {
    "duration": 4,
    "start_time": "2022-01-05T20:50:36.313Z"
   },
   {
    "duration": 13,
    "start_time": "2022-01-05T20:50:36.319Z"
   },
   {
    "duration": 7,
    "start_time": "2022-01-05T20:50:36.333Z"
   },
   {
    "duration": 18,
    "start_time": "2022-01-05T20:50:36.342Z"
   },
   {
    "duration": 9,
    "start_time": "2022-01-05T20:50:36.363Z"
   },
   {
    "duration": 7,
    "start_time": "2022-01-05T20:50:36.374Z"
   },
   {
    "duration": 7,
    "start_time": "2022-01-05T20:50:36.383Z"
   },
   {
    "duration": 7,
    "start_time": "2022-01-05T20:50:36.391Z"
   },
   {
    "duration": 6,
    "start_time": "2022-01-05T20:50:36.400Z"
   },
   {
    "duration": 3,
    "start_time": "2022-01-05T20:50:36.408Z"
   },
   {
    "duration": 56,
    "start_time": "2022-01-05T20:50:36.413Z"
   },
   {
    "duration": 6,
    "start_time": "2022-01-05T20:50:36.471Z"
   },
   {
    "duration": 9,
    "start_time": "2022-01-05T20:50:36.479Z"
   },
   {
    "duration": 5,
    "start_time": "2022-01-05T20:50:36.490Z"
   },
   {
    "duration": 15,
    "start_time": "2022-01-05T20:50:36.496Z"
   },
   {
    "duration": 5,
    "start_time": "2022-01-05T20:50:36.513Z"
   },
   {
    "duration": 9,
    "start_time": "2022-01-05T20:50:36.520Z"
   },
   {
    "duration": 29,
    "start_time": "2022-01-05T20:50:36.531Z"
   },
   {
    "duration": 10,
    "start_time": "2022-01-05T20:50:36.563Z"
   },
   {
    "duration": 10,
    "start_time": "2022-01-05T20:50:36.575Z"
   },
   {
    "duration": 12,
    "start_time": "2022-01-05T20:50:36.587Z"
   },
   {
    "duration": 5,
    "start_time": "2022-01-05T20:50:36.601Z"
   },
   {
    "duration": 15,
    "start_time": "2022-01-05T20:50:36.610Z"
   },
   {
    "duration": 34,
    "start_time": "2022-01-05T20:50:36.627Z"
   },
   {
    "duration": 24,
    "start_time": "2022-01-05T20:50:36.663Z"
   },
   {
    "duration": 8,
    "start_time": "2022-01-05T20:50:36.689Z"
   },
   {
    "duration": 9,
    "start_time": "2022-01-05T20:50:36.699Z"
   },
   {
    "duration": 29,
    "start_time": "2022-01-05T20:50:36.710Z"
   },
   {
    "duration": 20,
    "start_time": "2022-01-05T20:50:36.741Z"
   },
   {
    "duration": 7,
    "start_time": "2022-01-05T20:50:36.763Z"
   },
   {
    "duration": 2873,
    "start_time": "2022-01-05T20:50:36.771Z"
   },
   {
    "duration": 32,
    "start_time": "2022-01-05T20:50:39.647Z"
   },
   {
    "duration": 10,
    "start_time": "2022-01-05T20:50:39.681Z"
   },
   {
    "duration": 12,
    "start_time": "2022-01-05T20:50:39.693Z"
   },
   {
    "duration": 13,
    "start_time": "2022-01-05T20:50:39.707Z"
   },
   {
    "duration": 41,
    "start_time": "2022-01-05T20:50:39.721Z"
   },
   {
    "duration": 6,
    "start_time": "2022-01-05T20:50:39.763Z"
   },
   {
    "duration": 9,
    "start_time": "2022-01-05T20:50:39.770Z"
   },
   {
    "duration": 111,
    "start_time": "2022-01-05T20:50:39.781Z"
   },
   {
    "duration": 110,
    "start_time": "2022-01-05T20:50:39.894Z"
   },
   {
    "duration": 128,
    "start_time": "2022-01-05T20:50:40.006Z"
   },
   {
    "duration": 116,
    "start_time": "2022-01-05T20:50:40.136Z"
   },
   {
    "duration": 192,
    "start_time": "2022-01-05T20:50:40.254Z"
   },
   {
    "duration": 114,
    "start_time": "2022-01-05T20:50:40.448Z"
   },
   {
    "duration": 115,
    "start_time": "2022-01-05T20:50:40.564Z"
   },
   {
    "duration": 115,
    "start_time": "2022-01-05T20:50:40.680Z"
   },
   {
    "duration": 129,
    "start_time": "2022-01-05T20:50:40.797Z"
   },
   {
    "duration": 110,
    "start_time": "2022-01-05T20:50:40.928Z"
   },
   {
    "duration": 225,
    "start_time": "2022-01-05T20:50:41.040Z"
   },
   {
    "duration": 117,
    "start_time": "2022-01-05T20:50:41.266Z"
   },
   {
    "duration": 7,
    "start_time": "2022-01-05T20:50:41.385Z"
   },
   {
    "duration": 9,
    "start_time": "2022-01-05T20:50:41.394Z"
   },
   {
    "duration": 5168,
    "start_time": "2022-01-05T20:50:41.404Z"
   },
   {
    "duration": 11,
    "start_time": "2022-01-05T20:50:46.574Z"
   },
   {
    "duration": 6,
    "start_time": "2022-01-05T20:50:46.586Z"
   },
   {
    "duration": 883,
    "start_time": "2022-01-05T20:50:46.593Z"
   },
   {
    "duration": 14,
    "start_time": "2022-01-05T20:50:47.478Z"
   },
   {
    "duration": 13,
    "start_time": "2022-01-05T20:50:47.493Z"
   },
   {
    "duration": 12,
    "start_time": "2022-01-05T20:50:47.508Z"
   },
   {
    "duration": 38,
    "start_time": "2022-01-05T20:50:47.522Z"
   },
   {
    "duration": 247,
    "start_time": "2022-01-05T20:50:47.562Z"
   },
   {
    "duration": 237,
    "start_time": "2022-01-05T20:50:47.811Z"
   },
   {
    "duration": 271,
    "start_time": "2022-01-05T20:50:48.050Z"
   },
   {
    "duration": 6,
    "start_time": "2022-01-05T20:50:48.323Z"
   },
   {
    "duration": 12,
    "start_time": "2022-01-05T20:50:48.331Z"
   },
   {
    "duration": 7,
    "start_time": "2022-01-05T20:50:48.344Z"
   },
   {
    "duration": 5,
    "start_time": "2022-01-05T20:50:48.353Z"
   },
   {
    "duration": 4,
    "start_time": "2022-01-05T20:50:48.360Z"
   },
   {
    "duration": 8,
    "start_time": "2022-01-05T20:50:48.366Z"
   },
   {
    "duration": 5,
    "start_time": "2022-01-05T20:50:48.375Z"
   },
   {
    "duration": 6,
    "start_time": "2022-01-05T20:50:48.381Z"
   },
   {
    "duration": 8,
    "start_time": "2022-01-05T20:50:48.388Z"
   },
   {
    "duration": 45,
    "start_time": "2022-01-05T20:50:48.397Z"
   },
   {
    "duration": 523,
    "start_time": "2022-01-05T20:50:48.444Z"
   },
   {
    "duration": 362,
    "start_time": "2022-01-05T20:50:48.969Z"
   },
   {
    "duration": -1458,
    "start_time": "2022-01-05T20:50:50.791Z"
   },
   {
    "duration": -1533,
    "start_time": "2022-01-05T20:50:50.867Z"
   },
   {
    "duration": -1539,
    "start_time": "2022-01-05T20:50:50.875Z"
   },
   {
    "duration": 10,
    "start_time": "2022-01-05T20:51:52.462Z"
   },
   {
    "duration": 4,
    "start_time": "2022-01-05T20:52:03.206Z"
   },
   {
    "duration": 4,
    "start_time": "2022-01-05T20:52:05.496Z"
   },
   {
    "duration": 585,
    "start_time": "2022-01-05T20:53:13.977Z"
   },
   {
    "duration": 52,
    "start_time": "2022-01-05T20:53:14.564Z"
   },
   {
    "duration": 9,
    "start_time": "2022-01-05T20:53:14.619Z"
   },
   {
    "duration": 31,
    "start_time": "2022-01-05T20:53:14.630Z"
   },
   {
    "duration": 4,
    "start_time": "2022-01-05T20:53:14.663Z"
   },
   {
    "duration": 9,
    "start_time": "2022-01-05T20:53:14.669Z"
   },
   {
    "duration": 6,
    "start_time": "2022-01-05T20:53:14.679Z"
   },
   {
    "duration": 6,
    "start_time": "2022-01-05T20:53:14.688Z"
   },
   {
    "duration": 11,
    "start_time": "2022-01-05T20:53:14.695Z"
   },
   {
    "duration": 7,
    "start_time": "2022-01-05T20:53:14.708Z"
   },
   {
    "duration": 6,
    "start_time": "2022-01-05T20:53:14.717Z"
   },
   {
    "duration": 44,
    "start_time": "2022-01-05T20:53:14.724Z"
   },
   {
    "duration": 7,
    "start_time": "2022-01-05T20:53:14.770Z"
   },
   {
    "duration": 6,
    "start_time": "2022-01-05T20:53:14.778Z"
   },
   {
    "duration": 22,
    "start_time": "2022-01-05T20:53:14.785Z"
   },
   {
    "duration": 7,
    "start_time": "2022-01-05T20:53:14.809Z"
   },
   {
    "duration": 5,
    "start_time": "2022-01-05T20:53:14.817Z"
   },
   {
    "duration": 5,
    "start_time": "2022-01-05T20:53:14.824Z"
   },
   {
    "duration": 33,
    "start_time": "2022-01-05T20:53:14.831Z"
   },
   {
    "duration": 7,
    "start_time": "2022-01-05T20:53:14.865Z"
   },
   {
    "duration": 9,
    "start_time": "2022-01-05T20:53:14.874Z"
   },
   {
    "duration": 6,
    "start_time": "2022-01-05T20:53:14.885Z"
   },
   {
    "duration": 8,
    "start_time": "2022-01-05T20:53:14.896Z"
   },
   {
    "duration": 7,
    "start_time": "2022-01-05T20:53:14.908Z"
   },
   {
    "duration": 49,
    "start_time": "2022-01-05T20:53:14.917Z"
   },
   {
    "duration": 5,
    "start_time": "2022-01-05T20:53:14.968Z"
   },
   {
    "duration": 19,
    "start_time": "2022-01-05T20:53:14.975Z"
   },
   {
    "duration": 6,
    "start_time": "2022-01-05T20:53:14.996Z"
   },
   {
    "duration": 25,
    "start_time": "2022-01-05T20:53:15.004Z"
   },
   {
    "duration": 8,
    "start_time": "2022-01-05T20:53:15.061Z"
   },
   {
    "duration": 12,
    "start_time": "2022-01-05T20:53:15.071Z"
   },
   {
    "duration": 22,
    "start_time": "2022-01-05T20:53:15.085Z"
   },
   {
    "duration": 11,
    "start_time": "2022-01-05T20:53:15.109Z"
   },
   {
    "duration": 40,
    "start_time": "2022-01-05T20:53:15.122Z"
   },
   {
    "duration": 3062,
    "start_time": "2022-01-05T20:53:15.163Z"
   },
   {
    "duration": 36,
    "start_time": "2022-01-05T20:53:18.227Z"
   },
   {
    "duration": 10,
    "start_time": "2022-01-05T20:53:18.265Z"
   },
   {
    "duration": 13,
    "start_time": "2022-01-05T20:53:18.277Z"
   },
   {
    "duration": 18,
    "start_time": "2022-01-05T20:53:18.292Z"
   },
   {
    "duration": 13,
    "start_time": "2022-01-05T20:53:18.312Z"
   },
   {
    "duration": 40,
    "start_time": "2022-01-05T20:53:18.327Z"
   },
   {
    "duration": 8,
    "start_time": "2022-01-05T20:53:18.369Z"
   },
   {
    "duration": 120,
    "start_time": "2022-01-05T20:53:18.378Z"
   },
   {
    "duration": 110,
    "start_time": "2022-01-05T20:53:18.500Z"
   },
   {
    "duration": 127,
    "start_time": "2022-01-05T20:53:18.612Z"
   },
   {
    "duration": 111,
    "start_time": "2022-01-05T20:53:18.741Z"
   },
   {
    "duration": 189,
    "start_time": "2022-01-05T20:53:18.860Z"
   },
   {
    "duration": 111,
    "start_time": "2022-01-05T20:53:19.051Z"
   },
   {
    "duration": 117,
    "start_time": "2022-01-05T20:53:19.164Z"
   },
   {
    "duration": 112,
    "start_time": "2022-01-05T20:53:19.283Z"
   },
   {
    "duration": 116,
    "start_time": "2022-01-05T20:53:19.396Z"
   },
   {
    "duration": 110,
    "start_time": "2022-01-05T20:53:19.513Z"
   },
   {
    "duration": 121,
    "start_time": "2022-01-05T20:53:19.624Z"
   },
   {
    "duration": 137,
    "start_time": "2022-01-05T20:53:19.747Z"
   },
   {
    "duration": 8,
    "start_time": "2022-01-05T20:53:19.886Z"
   },
   {
    "duration": 10,
    "start_time": "2022-01-05T20:53:19.896Z"
   },
   {
    "duration": 6406,
    "start_time": "2022-01-05T20:53:19.907Z"
   },
   {
    "duration": 12,
    "start_time": "2022-01-05T20:53:26.315Z"
   },
   {
    "duration": 5,
    "start_time": "2022-01-05T20:53:26.329Z"
   },
   {
    "duration": 1062,
    "start_time": "2022-01-05T20:53:26.336Z"
   },
   {
    "duration": 14,
    "start_time": "2022-01-05T20:53:27.400Z"
   },
   {
    "duration": 13,
    "start_time": "2022-01-05T20:53:27.415Z"
   },
   {
    "duration": 36,
    "start_time": "2022-01-05T20:53:27.429Z"
   },
   {
    "duration": 15,
    "start_time": "2022-01-05T20:53:27.467Z"
   },
   {
    "duration": 250,
    "start_time": "2022-01-05T20:53:27.483Z"
   },
   {
    "duration": 225,
    "start_time": "2022-01-05T20:53:27.735Z"
   },
   {
    "duration": 228,
    "start_time": "2022-01-05T20:53:27.962Z"
   },
   {
    "duration": 5,
    "start_time": "2022-01-05T20:53:28.195Z"
   },
   {
    "duration": 8,
    "start_time": "2022-01-05T20:53:28.202Z"
   },
   {
    "duration": 4,
    "start_time": "2022-01-05T20:53:28.212Z"
   },
   {
    "duration": 4,
    "start_time": "2022-01-05T20:53:28.217Z"
   },
   {
    "duration": 4,
    "start_time": "2022-01-05T20:53:28.223Z"
   },
   {
    "duration": 7,
    "start_time": "2022-01-05T20:53:28.228Z"
   },
   {
    "duration": 25,
    "start_time": "2022-01-05T20:53:28.237Z"
   },
   {
    "duration": 5,
    "start_time": "2022-01-05T20:53:28.263Z"
   },
   {
    "duration": 5,
    "start_time": "2022-01-05T20:53:28.269Z"
   },
   {
    "duration": 5,
    "start_time": "2022-01-05T20:53:28.275Z"
   },
   {
    "duration": 320,
    "start_time": "2022-01-05T20:53:28.281Z"
   },
   {
    "duration": 328,
    "start_time": "2022-01-05T20:53:28.603Z"
   },
   {
    "duration": -598,
    "start_time": "2022-01-05T20:53:29.530Z"
   },
   {
    "duration": -600,
    "start_time": "2022-01-05T20:53:29.533Z"
   },
   {
    "duration": -609,
    "start_time": "2022-01-05T20:53:29.543Z"
   },
   {
    "duration": 5,
    "start_time": "2022-01-05T20:57:47.775Z"
   },
   {
    "duration": 581,
    "start_time": "2022-01-05T20:57:54.606Z"
   },
   {
    "duration": 52,
    "start_time": "2022-01-05T20:57:55.189Z"
   },
   {
    "duration": 9,
    "start_time": "2022-01-05T20:57:55.243Z"
   },
   {
    "duration": 27,
    "start_time": "2022-01-05T20:57:55.260Z"
   },
   {
    "duration": 4,
    "start_time": "2022-01-05T20:57:55.289Z"
   },
   {
    "duration": 10,
    "start_time": "2022-01-05T20:57:55.294Z"
   },
   {
    "duration": 4,
    "start_time": "2022-01-05T20:57:55.305Z"
   },
   {
    "duration": 6,
    "start_time": "2022-01-05T20:57:55.311Z"
   },
   {
    "duration": 8,
    "start_time": "2022-01-05T20:57:55.319Z"
   },
   {
    "duration": 37,
    "start_time": "2022-01-05T20:57:55.329Z"
   },
   {
    "duration": 8,
    "start_time": "2022-01-05T20:57:55.368Z"
   },
   {
    "duration": 8,
    "start_time": "2022-01-05T20:57:55.378Z"
   },
   {
    "duration": 7,
    "start_time": "2022-01-05T20:57:55.388Z"
   },
   {
    "duration": 7,
    "start_time": "2022-01-05T20:57:55.397Z"
   },
   {
    "duration": 21,
    "start_time": "2022-01-05T20:57:55.405Z"
   },
   {
    "duration": 4,
    "start_time": "2022-01-05T20:57:55.461Z"
   },
   {
    "duration": 5,
    "start_time": "2022-01-05T20:57:55.467Z"
   },
   {
    "duration": 6,
    "start_time": "2022-01-05T20:57:55.474Z"
   },
   {
    "duration": 16,
    "start_time": "2022-01-05T20:57:55.482Z"
   },
   {
    "duration": 7,
    "start_time": "2022-01-05T20:57:55.500Z"
   },
   {
    "duration": 11,
    "start_time": "2022-01-05T20:57:55.509Z"
   },
   {
    "duration": 39,
    "start_time": "2022-01-05T20:57:55.522Z"
   },
   {
    "duration": 9,
    "start_time": "2022-01-05T20:57:55.566Z"
   },
   {
    "duration": 8,
    "start_time": "2022-01-05T20:57:55.579Z"
   },
   {
    "duration": 15,
    "start_time": "2022-01-05T20:57:55.588Z"
   },
   {
    "duration": 6,
    "start_time": "2022-01-05T20:57:55.605Z"
   },
   {
    "duration": 49,
    "start_time": "2022-01-05T20:57:55.613Z"
   },
   {
    "duration": 6,
    "start_time": "2022-01-05T20:57:55.664Z"
   },
   {
    "duration": 21,
    "start_time": "2022-01-05T20:57:55.672Z"
   },
   {
    "duration": 7,
    "start_time": "2022-01-05T20:57:55.695Z"
   },
   {
    "duration": 11,
    "start_time": "2022-01-05T20:57:55.704Z"
   },
   {
    "duration": 48,
    "start_time": "2022-01-05T20:57:55.717Z"
   },
   {
    "duration": 8,
    "start_time": "2022-01-05T20:57:55.767Z"
   },
   {
    "duration": 7,
    "start_time": "2022-01-05T20:57:55.776Z"
   },
   {
    "duration": 2878,
    "start_time": "2022-01-05T20:57:55.784Z"
   },
   {
    "duration": 24,
    "start_time": "2022-01-05T20:57:58.663Z"
   },
   {
    "duration": 9,
    "start_time": "2022-01-05T20:57:58.688Z"
   },
   {
    "duration": 17,
    "start_time": "2022-01-05T20:57:58.698Z"
   },
   {
    "duration": 14,
    "start_time": "2022-01-05T20:57:58.717Z"
   },
   {
    "duration": 33,
    "start_time": "2022-01-05T20:57:58.732Z"
   },
   {
    "duration": 5,
    "start_time": "2022-01-05T20:57:58.767Z"
   },
   {
    "duration": 12,
    "start_time": "2022-01-05T20:57:58.773Z"
   },
   {
    "duration": 120,
    "start_time": "2022-01-05T20:57:58.787Z"
   },
   {
    "duration": 109,
    "start_time": "2022-01-05T20:57:58.909Z"
   },
   {
    "duration": 123,
    "start_time": "2022-01-05T20:57:59.019Z"
   },
   {
    "duration": 117,
    "start_time": "2022-01-05T20:57:59.144Z"
   },
   {
    "duration": 190,
    "start_time": "2022-01-05T20:57:59.262Z"
   },
   {
    "duration": 118,
    "start_time": "2022-01-05T20:57:59.454Z"
   },
   {
    "duration": 119,
    "start_time": "2022-01-05T20:57:59.574Z"
   },
   {
    "duration": 120,
    "start_time": "2022-01-05T20:57:59.694Z"
   },
   {
    "duration": 113,
    "start_time": "2022-01-05T20:57:59.815Z"
   },
   {
    "duration": 114,
    "start_time": "2022-01-05T20:57:59.929Z"
   },
   {
    "duration": 118,
    "start_time": "2022-01-05T20:58:00.044Z"
   },
   {
    "duration": 106,
    "start_time": "2022-01-05T20:58:00.163Z"
   },
   {
    "duration": 8,
    "start_time": "2022-01-05T20:58:00.270Z"
   },
   {
    "duration": 16,
    "start_time": "2022-01-05T20:58:00.280Z"
   },
   {
    "duration": 6250,
    "start_time": "2022-01-05T20:58:00.298Z"
   },
   {
    "duration": 17,
    "start_time": "2022-01-05T20:58:06.550Z"
   },
   {
    "duration": 5,
    "start_time": "2022-01-05T20:58:06.569Z"
   },
   {
    "duration": 873,
    "start_time": "2022-01-05T20:58:06.576Z"
   },
   {
    "duration": 19,
    "start_time": "2022-01-05T20:58:07.451Z"
   },
   {
    "duration": 12,
    "start_time": "2022-01-05T20:58:07.472Z"
   },
   {
    "duration": 36,
    "start_time": "2022-01-05T20:58:07.486Z"
   },
   {
    "duration": 12,
    "start_time": "2022-01-05T20:58:07.523Z"
   },
   {
    "duration": 238,
    "start_time": "2022-01-05T20:58:07.537Z"
   },
   {
    "duration": 221,
    "start_time": "2022-01-05T20:58:07.776Z"
   },
   {
    "duration": 228,
    "start_time": "2022-01-05T20:58:07.999Z"
   },
   {
    "duration": 6,
    "start_time": "2022-01-05T20:58:08.232Z"
   },
   {
    "duration": 22,
    "start_time": "2022-01-05T20:58:08.240Z"
   },
   {
    "duration": 4,
    "start_time": "2022-01-05T20:58:08.263Z"
   },
   {
    "duration": 6,
    "start_time": "2022-01-05T20:58:08.268Z"
   },
   {
    "duration": 6,
    "start_time": "2022-01-05T20:58:08.276Z"
   },
   {
    "duration": 11,
    "start_time": "2022-01-05T20:58:08.284Z"
   },
   {
    "duration": 8,
    "start_time": "2022-01-05T20:58:08.297Z"
   },
   {
    "duration": 6,
    "start_time": "2022-01-05T20:58:08.306Z"
   },
   {
    "duration": 7,
    "start_time": "2022-01-05T20:58:08.313Z"
   },
   {
    "duration": 7,
    "start_time": "2022-01-05T20:58:08.321Z"
   },
   {
    "duration": 366,
    "start_time": "2022-01-05T20:58:08.329Z"
   },
   {
    "duration": 318,
    "start_time": "2022-01-05T20:58:08.697Z"
   },
   {
    "duration": -677,
    "start_time": "2022-01-05T20:58:09.693Z"
   },
   {
    "duration": -679,
    "start_time": "2022-01-05T20:58:09.696Z"
   },
   {
    "duration": -680,
    "start_time": "2022-01-05T20:58:09.698Z"
   },
   {
    "duration": 7123,
    "start_time": "2022-01-05T20:59:21.494Z"
   },
   {
    "duration": 2112,
    "start_time": "2022-01-05T20:59:49.674Z"
   },
   {
    "duration": 857,
    "start_time": "2022-01-05T21:00:51.118Z"
   },
   {
    "duration": 928,
    "start_time": "2022-01-05T21:01:25.077Z"
   },
   {
    "duration": 645,
    "start_time": "2022-01-05T21:01:36.854Z"
   },
   {
    "duration": 625,
    "start_time": "2022-01-05T21:01:43.922Z"
   },
   {
    "duration": 54,
    "start_time": "2022-01-05T21:01:44.549Z"
   },
   {
    "duration": 10,
    "start_time": "2022-01-05T21:01:44.605Z"
   },
   {
    "duration": 28,
    "start_time": "2022-01-05T21:01:44.616Z"
   },
   {
    "duration": 4,
    "start_time": "2022-01-05T21:01:44.661Z"
   },
   {
    "duration": 12,
    "start_time": "2022-01-05T21:01:44.667Z"
   },
   {
    "duration": 8,
    "start_time": "2022-01-05T21:01:44.680Z"
   },
   {
    "duration": 8,
    "start_time": "2022-01-05T21:01:44.690Z"
   },
   {
    "duration": 9,
    "start_time": "2022-01-05T21:01:44.701Z"
   },
   {
    "duration": 7,
    "start_time": "2022-01-05T21:01:44.711Z"
   },
   {
    "duration": 11,
    "start_time": "2022-01-05T21:01:44.720Z"
   },
   {
    "duration": 31,
    "start_time": "2022-01-05T21:01:44.733Z"
   },
   {
    "duration": 6,
    "start_time": "2022-01-05T21:01:44.766Z"
   },
   {
    "duration": 4,
    "start_time": "2022-01-05T21:01:44.774Z"
   },
   {
    "duration": 21,
    "start_time": "2022-01-05T21:01:44.780Z"
   },
   {
    "duration": 4,
    "start_time": "2022-01-05T21:01:44.803Z"
   },
   {
    "duration": 5,
    "start_time": "2022-01-05T21:01:44.808Z"
   },
   {
    "duration": 7,
    "start_time": "2022-01-05T21:01:44.815Z"
   },
   {
    "duration": 45,
    "start_time": "2022-01-05T21:01:44.823Z"
   },
   {
    "duration": 1169,
    "start_time": "2022-01-05T21:01:44.870Z"
   },
   {
    "duration": 20,
    "start_time": "2022-01-05T21:01:46.041Z"
   },
   {
    "duration": 6,
    "start_time": "2022-01-05T21:01:46.063Z"
   },
   {
    "duration": 9,
    "start_time": "2022-01-05T21:01:46.071Z"
   },
   {
    "duration": 8,
    "start_time": "2022-01-05T21:01:46.082Z"
   },
   {
    "duration": 10,
    "start_time": "2022-01-05T21:01:46.092Z"
   },
   {
    "duration": 5,
    "start_time": "2022-01-05T21:01:46.104Z"
   },
   {
    "duration": 51,
    "start_time": "2022-01-05T21:01:46.114Z"
   },
   {
    "duration": 5,
    "start_time": "2022-01-05T21:01:46.169Z"
   },
   {
    "duration": 18,
    "start_time": "2022-01-05T21:01:46.176Z"
   },
   {
    "duration": 7,
    "start_time": "2022-01-05T21:01:46.195Z"
   },
   {
    "duration": 11,
    "start_time": "2022-01-05T21:01:46.204Z"
   },
   {
    "duration": 46,
    "start_time": "2022-01-05T21:01:46.216Z"
   },
   {
    "duration": 8,
    "start_time": "2022-01-05T21:01:46.263Z"
   },
   {
    "duration": 7,
    "start_time": "2022-01-05T21:01:46.272Z"
   },
   {
    "duration": 2916,
    "start_time": "2022-01-05T21:01:46.280Z"
   },
   {
    "duration": 24,
    "start_time": "2022-01-05T21:01:49.197Z"
   },
   {
    "duration": 8,
    "start_time": "2022-01-05T21:01:49.223Z"
   },
   {
    "duration": 31,
    "start_time": "2022-01-05T21:01:49.233Z"
   },
   {
    "duration": 15,
    "start_time": "2022-01-05T21:01:49.266Z"
   },
   {
    "duration": 10,
    "start_time": "2022-01-05T21:01:49.283Z"
   },
   {
    "duration": 6,
    "start_time": "2022-01-05T21:01:49.295Z"
   },
   {
    "duration": 7,
    "start_time": "2022-01-05T21:01:49.303Z"
   },
   {
    "duration": 133,
    "start_time": "2022-01-05T21:01:49.312Z"
   },
   {
    "duration": 119,
    "start_time": "2022-01-05T21:01:49.446Z"
   },
   {
    "duration": 123,
    "start_time": "2022-01-05T21:01:49.567Z"
   },
   {
    "duration": 130,
    "start_time": "2022-01-05T21:01:49.692Z"
   },
   {
    "duration": 246,
    "start_time": "2022-01-05T21:01:49.824Z"
   },
   {
    "duration": 120,
    "start_time": "2022-01-05T21:01:50.072Z"
   },
   {
    "duration": 120,
    "start_time": "2022-01-05T21:01:50.195Z"
   },
   {
    "duration": 115,
    "start_time": "2022-01-05T21:01:50.317Z"
   },
   {
    "duration": 129,
    "start_time": "2022-01-05T21:01:50.434Z"
   },
   {
    "duration": 124,
    "start_time": "2022-01-05T21:01:50.565Z"
   },
   {
    "duration": 130,
    "start_time": "2022-01-05T21:01:50.690Z"
   },
   {
    "duration": 112,
    "start_time": "2022-01-05T21:01:50.821Z"
   },
   {
    "duration": 7,
    "start_time": "2022-01-05T21:01:50.935Z"
   },
   {
    "duration": 20,
    "start_time": "2022-01-05T21:01:50.944Z"
   },
   {
    "duration": 5500,
    "start_time": "2022-01-05T21:01:50.966Z"
   },
   {
    "duration": 10,
    "start_time": "2022-01-05T21:01:56.468Z"
   },
   {
    "duration": 6,
    "start_time": "2022-01-05T21:01:56.480Z"
   },
   {
    "duration": 876,
    "start_time": "2022-01-05T21:01:56.488Z"
   },
   {
    "duration": 14,
    "start_time": "2022-01-05T21:01:57.366Z"
   },
   {
    "duration": 17,
    "start_time": "2022-01-05T21:01:57.382Z"
   },
   {
    "duration": 22,
    "start_time": "2022-01-05T21:01:57.401Z"
   },
   {
    "duration": 44,
    "start_time": "2022-01-05T21:01:57.425Z"
   },
   {
    "duration": 261,
    "start_time": "2022-01-05T21:01:57.471Z"
   },
   {
    "duration": 230,
    "start_time": "2022-01-05T21:01:57.734Z"
   },
   {
    "duration": 238,
    "start_time": "2022-01-05T21:01:57.966Z"
   },
   {
    "duration": 7,
    "start_time": "2022-01-05T21:01:58.206Z"
   },
   {
    "duration": 7,
    "start_time": "2022-01-05T21:01:58.215Z"
   },
   {
    "duration": 14,
    "start_time": "2022-01-05T21:01:58.223Z"
   },
   {
    "duration": 13,
    "start_time": "2022-01-05T21:01:58.239Z"
   },
   {
    "duration": 9,
    "start_time": "2022-01-05T21:01:58.254Z"
   },
   {
    "duration": 8,
    "start_time": "2022-01-05T21:01:58.265Z"
   },
   {
    "duration": 3,
    "start_time": "2022-01-05T21:01:58.275Z"
   },
   {
    "duration": 5,
    "start_time": "2022-01-05T21:01:58.280Z"
   },
   {
    "duration": 6,
    "start_time": "2022-01-05T21:01:58.286Z"
   },
   {
    "duration": 5,
    "start_time": "2022-01-05T21:01:58.293Z"
   },
   {
    "duration": 410,
    "start_time": "2022-01-05T21:01:58.300Z"
   },
   {
    "duration": 344,
    "start_time": "2022-01-05T21:01:58.712Z"
   },
   {
    "duration": -593,
    "start_time": "2022-01-05T21:01:59.652Z"
   },
   {
    "duration": -596,
    "start_time": "2022-01-05T21:01:59.656Z"
   },
   {
    "duration": -597,
    "start_time": "2022-01-05T21:01:59.659Z"
   },
   {
    "duration": 657,
    "start_time": "2022-01-05T21:02:50.693Z"
   },
   {
    "duration": 673,
    "start_time": "2022-01-05T21:03:05.274Z"
   },
   {
    "duration": 3,
    "start_time": "2022-01-05T21:03:25.692Z"
   },
   {
    "duration": 46,
    "start_time": "2022-01-05T21:03:25.705Z"
   },
   {
    "duration": 11,
    "start_time": "2022-01-05T21:03:26.062Z"
   },
   {
    "duration": 41,
    "start_time": "2022-01-05T21:03:26.224Z"
   },
   {
    "duration": 7,
    "start_time": "2022-01-05T21:03:26.783Z"
   },
   {
    "duration": 10,
    "start_time": "2022-01-05T21:03:27.154Z"
   },
   {
    "duration": 5,
    "start_time": "2022-01-05T21:03:27.374Z"
   },
   {
    "duration": 5,
    "start_time": "2022-01-05T21:03:27.692Z"
   },
   {
    "duration": 10,
    "start_time": "2022-01-05T21:03:28.109Z"
   },
   {
    "duration": 9,
    "start_time": "2022-01-05T21:03:28.307Z"
   },
   {
    "duration": 8,
    "start_time": "2022-01-05T21:03:28.803Z"
   },
   {
    "duration": 8,
    "start_time": "2022-01-05T21:03:28.999Z"
   },
   {
    "duration": 8,
    "start_time": "2022-01-05T21:03:29.501Z"
   },
   {
    "duration": 5,
    "start_time": "2022-01-05T21:03:29.943Z"
   },
   {
    "duration": 22,
    "start_time": "2022-01-05T21:03:30.384Z"
   },
   {
    "duration": 4,
    "start_time": "2022-01-05T21:03:30.604Z"
   },
   {
    "duration": 4,
    "start_time": "2022-01-05T21:03:31.164Z"
   },
   {
    "duration": 3,
    "start_time": "2022-01-05T21:03:31.474Z"
   },
   {
    "duration": 13,
    "start_time": "2022-01-05T21:03:32.402Z"
   },
   {
    "duration": 1099,
    "start_time": "2022-01-05T21:03:33.323Z"
   },
   {
    "duration": 1100,
    "start_time": "2022-01-05T21:03:44.174Z"
   },
   {
    "duration": 10,
    "start_time": "2022-01-05T21:03:55.446Z"
   },
   {
    "duration": 1127,
    "start_time": "2022-01-05T21:04:13.983Z"
   },
   {
    "duration": 1089,
    "start_time": "2022-01-05T21:06:48.582Z"
   },
   {
    "duration": 1219,
    "start_time": "2022-01-05T21:07:00.204Z"
   },
   {
    "duration": 1084,
    "start_time": "2022-01-05T21:07:07.262Z"
   },
   {
    "duration": 11,
    "start_time": "2022-01-05T21:07:11.823Z"
   },
   {
    "duration": 50,
    "start_time": "2022-01-05T21:07:56.364Z"
   },
   {
    "duration": 3,
    "start_time": "2022-01-05T21:08:02.556Z"
   },
   {
    "duration": 45,
    "start_time": "2022-01-05T21:08:02.832Z"
   },
   {
    "duration": 11,
    "start_time": "2022-01-05T21:08:03.567Z"
   },
   {
    "duration": 31,
    "start_time": "2022-01-05T21:08:05.030Z"
   },
   {
    "duration": 5,
    "start_time": "2022-01-05T21:08:08.492Z"
   },
   {
    "duration": 10,
    "start_time": "2022-01-05T21:08:13.181Z"
   },
   {
    "duration": 5,
    "start_time": "2022-01-05T21:08:17.463Z"
   },
   {
    "duration": 5,
    "start_time": "2022-01-05T21:08:18.729Z"
   },
   {
    "duration": 9,
    "start_time": "2022-01-05T21:08:24.623Z"
   },
   {
    "duration": 9,
    "start_time": "2022-01-05T21:08:26.771Z"
   },
   {
    "duration": 9,
    "start_time": "2022-01-05T21:08:30.072Z"
   },
   {
    "duration": 8,
    "start_time": "2022-01-05T21:08:30.644Z"
   },
   {
    "duration": 8,
    "start_time": "2022-01-05T21:08:39.562Z"
   },
   {
    "duration": 5,
    "start_time": "2022-01-05T21:08:42.293Z"
   },
   {
    "duration": 27,
    "start_time": "2022-01-05T21:08:44.313Z"
   },
   {
    "duration": 9,
    "start_time": "2022-01-05T21:09:44.284Z"
   },
   {
    "duration": 10,
    "start_time": "2022-01-05T21:10:08.503Z"
   },
   {
    "duration": 10,
    "start_time": "2022-01-05T21:10:18.173Z"
   },
   {
    "duration": 260,
    "start_time": "2022-01-05T21:11:00.997Z"
   },
   {
    "duration": 10,
    "start_time": "2022-01-05T21:11:20.383Z"
   },
   {
    "duration": 11,
    "start_time": "2022-01-05T21:11:30.403Z"
   },
   {
    "duration": 21,
    "start_time": "2022-01-05T21:11:44.163Z"
   },
   {
    "duration": 19,
    "start_time": "2022-01-05T21:12:04.189Z"
   },
   {
    "duration": 10,
    "start_time": "2022-01-05T21:12:43.123Z"
   },
   {
    "duration": 3,
    "start_time": "2022-01-05T21:12:48.079Z"
   },
   {
    "duration": 46,
    "start_time": "2022-01-05T21:12:48.535Z"
   },
   {
    "duration": 12,
    "start_time": "2022-01-05T21:12:49.868Z"
   },
   {
    "duration": 29,
    "start_time": "2022-01-05T21:12:56.673Z"
   },
   {
    "duration": 5,
    "start_time": "2022-01-05T21:13:01.590Z"
   },
   {
    "duration": 10,
    "start_time": "2022-01-05T21:13:02.284Z"
   },
   {
    "duration": 5,
    "start_time": "2022-01-05T21:13:06.781Z"
   },
   {
    "duration": 5,
    "start_time": "2022-01-05T21:13:07.126Z"
   },
   {
    "duration": 11,
    "start_time": "2022-01-05T21:13:07.457Z"
   },
   {
    "duration": 8,
    "start_time": "2022-01-05T21:13:07.651Z"
   },
   {
    "duration": 8,
    "start_time": "2022-01-05T21:13:08.070Z"
   },
   {
    "duration": 8,
    "start_time": "2022-01-05T21:13:08.266Z"
   },
   {
    "duration": 8,
    "start_time": "2022-01-05T21:13:08.949Z"
   },
   {
    "duration": 10,
    "start_time": "2022-01-05T21:13:09.883Z"
   },
   {
    "duration": 10,
    "start_time": "2022-01-05T21:13:34.584Z"
   },
   {
    "duration": 24,
    "start_time": "2022-01-05T21:14:32.133Z"
   },
   {
    "duration": 23,
    "start_time": "2022-01-05T21:15:00.692Z"
   },
   {
    "duration": 557,
    "start_time": "2022-01-06T09:45:01.053Z"
   },
   {
    "duration": 49,
    "start_time": "2022-01-06T09:45:01.612Z"
   },
   {
    "duration": 8,
    "start_time": "2022-01-06T09:45:01.663Z"
   },
   {
    "duration": 25,
    "start_time": "2022-01-06T09:45:01.768Z"
   },
   {
    "duration": 4,
    "start_time": "2022-01-06T09:45:02.338Z"
   },
   {
    "duration": 8,
    "start_time": "2022-01-06T09:45:02.707Z"
   },
   {
    "duration": 4,
    "start_time": "2022-01-06T09:45:02.874Z"
   },
   {
    "duration": 3,
    "start_time": "2022-01-06T09:45:03.284Z"
   },
   {
    "duration": 11,
    "start_time": "2022-01-06T09:45:04.235Z"
   },
   {
    "duration": 5,
    "start_time": "2022-01-06T09:45:04.248Z"
   },
   {
    "duration": 6,
    "start_time": "2022-01-06T09:45:04.373Z"
   },
   {
    "duration": 6,
    "start_time": "2022-01-06T09:45:04.579Z"
   },
   {
    "duration": 6,
    "start_time": "2022-01-06T09:45:04.928Z"
   },
   {
    "duration": 18,
    "start_time": "2022-01-06T09:45:05.321Z"
   },
   {
    "duration": 7,
    "start_time": "2022-01-06T09:45:05.529Z"
   },
   {
    "duration": 392,
    "start_time": "2022-01-06T13:48:05.607Z"
   },
   {
    "duration": -2253,
    "start_time": "2022-01-06T13:48:08.254Z"
   },
   {
    "duration": 313,
    "start_time": "2022-01-06T13:48:06.116Z"
   },
   {
    "duration": 320,
    "start_time": "2022-01-06T13:48:06.605Z"
   },
   {
    "duration": 326,
    "start_time": "2022-01-06T13:48:06.975Z"
   },
   {
    "duration": -2206,
    "start_time": "2022-01-06T13:48:09.509Z"
   },
   {
    "duration": 596,
    "start_time": "2022-01-06T13:48:10.435Z"
   },
   {
    "duration": 49,
    "start_time": "2022-01-06T13:48:11.033Z"
   },
   {
    "duration": 11,
    "start_time": "2022-01-06T13:48:11.084Z"
   },
   {
    "duration": 25,
    "start_time": "2022-01-06T13:48:11.207Z"
   },
   {
    "duration": 5,
    "start_time": "2022-01-06T13:48:11.748Z"
   },
   {
    "duration": 9,
    "start_time": "2022-01-06T13:48:12.073Z"
   },
   {
    "duration": 4,
    "start_time": "2022-01-06T13:48:12.286Z"
   },
   {
    "duration": 4,
    "start_time": "2022-01-06T13:48:12.734Z"
   },
   {
    "duration": 10,
    "start_time": "2022-01-06T13:48:13.168Z"
   },
   {
    "duration": 7,
    "start_time": "2022-01-06T13:48:13.373Z"
   },
   {
    "duration": 8,
    "start_time": "2022-01-06T13:48:13.918Z"
   },
   {
    "duration": 7,
    "start_time": "2022-01-06T13:48:14.107Z"
   },
   {
    "duration": 8,
    "start_time": "2022-01-06T13:48:14.594Z"
   },
   {
    "duration": 21,
    "start_time": "2022-01-06T13:48:14.916Z"
   },
   {
    "duration": 8,
    "start_time": "2022-01-06T13:48:15.136Z"
   },
   {
    "duration": 339,
    "start_time": "2022-01-06T13:49:29.354Z"
   },
   {
    "duration": 27,
    "start_time": "2022-01-06T13:49:41.227Z"
   },
   {
    "duration": 20,
    "start_time": "2022-01-06T13:50:00.877Z"
   },
   {
    "duration": 5,
    "start_time": "2022-01-06T13:50:32.270Z"
   },
   {
    "duration": 5,
    "start_time": "2022-01-06T13:50:47.219Z"
   },
   {
    "duration": 4,
    "start_time": "2022-01-06T13:59:28.575Z"
   },
   {
    "duration": 5,
    "start_time": "2022-01-06T14:00:27.755Z"
   },
   {
    "duration": 8,
    "start_time": "2022-01-06T14:00:54.910Z"
   },
   {
    "duration": 703,
    "start_time": "2022-01-06T14:01:21.901Z"
   },
   {
    "duration": 61,
    "start_time": "2022-01-06T14:01:22.606Z"
   },
   {
    "duration": 8,
    "start_time": "2022-01-06T14:01:22.670Z"
   },
   {
    "duration": 27,
    "start_time": "2022-01-06T14:01:22.679Z"
   },
   {
    "duration": 4,
    "start_time": "2022-01-06T14:01:22.707Z"
   },
   {
    "duration": 19,
    "start_time": "2022-01-06T14:01:22.712Z"
   },
   {
    "duration": 4,
    "start_time": "2022-01-06T14:01:22.733Z"
   },
   {
    "duration": 19,
    "start_time": "2022-01-06T14:01:22.739Z"
   },
   {
    "duration": 9,
    "start_time": "2022-01-06T14:01:22.760Z"
   },
   {
    "duration": 6,
    "start_time": "2022-01-06T14:01:22.771Z"
   },
   {
    "duration": 5,
    "start_time": "2022-01-06T14:01:22.779Z"
   },
   {
    "duration": 6,
    "start_time": "2022-01-06T14:01:22.785Z"
   },
   {
    "duration": 6,
    "start_time": "2022-01-06T14:01:22.792Z"
   },
   {
    "duration": 30,
    "start_time": "2022-01-06T14:01:22.799Z"
   },
   {
    "duration": 11,
    "start_time": "2022-01-06T14:01:22.830Z"
   },
   {
    "duration": 15,
    "start_time": "2022-01-06T14:01:22.842Z"
   },
   {
    "duration": 11,
    "start_time": "2022-01-06T14:01:22.859Z"
   },
   {
    "duration": 6,
    "start_time": "2022-01-06T14:01:22.872Z"
   },
   {
    "duration": 10,
    "start_time": "2022-01-06T14:01:22.879Z"
   },
   {
    "duration": 9,
    "start_time": "2022-01-06T14:01:22.891Z"
   },
   {
    "duration": 8,
    "start_time": "2022-01-06T14:01:22.901Z"
   },
   {
    "duration": 8,
    "start_time": "2022-01-06T14:01:22.911Z"
   },
   {
    "duration": 22,
    "start_time": "2022-01-06T14:01:22.927Z"
   },
   {
    "duration": 11,
    "start_time": "2022-01-06T14:01:22.950Z"
   },
   {
    "duration": 16,
    "start_time": "2022-01-06T14:01:22.963Z"
   },
   {
    "duration": 6,
    "start_time": "2022-01-06T14:01:22.981Z"
   },
   {
    "duration": 10,
    "start_time": "2022-01-06T14:01:22.990Z"
   },
   {
    "duration": 47,
    "start_time": "2022-01-06T14:01:23.002Z"
   },
   {
    "duration": 11,
    "start_time": "2022-01-06T14:01:23.051Z"
   },
   {
    "duration": 6,
    "start_time": "2022-01-06T14:01:23.063Z"
   },
   {
    "duration": 2760,
    "start_time": "2022-01-06T14:01:23.070Z"
   },
   {
    "duration": 23,
    "start_time": "2022-01-06T14:01:25.831Z"
   },
   {
    "duration": 7,
    "start_time": "2022-01-06T14:01:25.855Z"
   },
   {
    "duration": 10,
    "start_time": "2022-01-06T14:01:25.864Z"
   },
   {
    "duration": 12,
    "start_time": "2022-01-06T14:01:25.875Z"
   },
   {
    "duration": 10,
    "start_time": "2022-01-06T14:01:25.888Z"
   },
   {
    "duration": 31,
    "start_time": "2022-01-06T14:01:25.899Z"
   },
   {
    "duration": 7,
    "start_time": "2022-01-06T14:01:25.932Z"
   },
   {
    "duration": 109,
    "start_time": "2022-01-06T14:01:25.941Z"
   },
   {
    "duration": 101,
    "start_time": "2022-01-06T14:01:26.051Z"
   },
   {
    "duration": 108,
    "start_time": "2022-01-06T14:01:26.154Z"
   },
   {
    "duration": 127,
    "start_time": "2022-01-06T14:01:26.264Z"
   },
   {
    "duration": 187,
    "start_time": "2022-01-06T14:01:26.392Z"
   },
   {
    "duration": 127,
    "start_time": "2022-01-06T14:01:26.580Z"
   },
   {
    "duration": 158,
    "start_time": "2022-01-06T14:01:26.708Z"
   },
   {
    "duration": 150,
    "start_time": "2022-01-06T14:01:26.868Z"
   },
   {
    "duration": 154,
    "start_time": "2022-01-06T14:01:27.020Z"
   },
   {
    "duration": 144,
    "start_time": "2022-01-06T14:01:27.176Z"
   },
   {
    "duration": 144,
    "start_time": "2022-01-06T14:01:27.322Z"
   },
   {
    "duration": 135,
    "start_time": "2022-01-06T14:01:27.467Z"
   },
   {
    "duration": 20,
    "start_time": "2022-01-06T14:01:27.611Z"
   },
   {
    "duration": 92,
    "start_time": "2022-01-06T14:01:27.633Z"
   },
   {
    "duration": 7466,
    "start_time": "2022-01-06T14:01:27.743Z"
   },
   {
    "duration": 19,
    "start_time": "2022-01-06T14:01:35.211Z"
   },
   {
    "duration": 6,
    "start_time": "2022-01-06T14:01:35.235Z"
   },
   {
    "duration": 1053,
    "start_time": "2022-01-06T14:01:35.243Z"
   },
   {
    "duration": 13,
    "start_time": "2022-01-06T14:01:36.298Z"
   },
   {
    "duration": 28,
    "start_time": "2022-01-06T14:01:36.312Z"
   },
   {
    "duration": 13,
    "start_time": "2022-01-06T14:01:36.341Z"
   },
   {
    "duration": 19,
    "start_time": "2022-01-06T14:01:36.355Z"
   },
   {
    "duration": 228,
    "start_time": "2022-01-06T14:01:36.376Z"
   },
   {
    "duration": 207,
    "start_time": "2022-01-06T14:01:36.606Z"
   },
   {
    "duration": 219,
    "start_time": "2022-01-06T14:01:36.815Z"
   },
   {
    "duration": 7,
    "start_time": "2022-01-06T14:01:37.036Z"
   },
   {
    "duration": 7,
    "start_time": "2022-01-06T14:01:37.045Z"
   },
   {
    "duration": 5,
    "start_time": "2022-01-06T14:01:37.053Z"
   },
   {
    "duration": 5,
    "start_time": "2022-01-06T14:01:37.060Z"
   },
   {
    "duration": 4,
    "start_time": "2022-01-06T14:01:37.066Z"
   },
   {
    "duration": 5,
    "start_time": "2022-01-06T14:01:37.072Z"
   },
   {
    "duration": 4,
    "start_time": "2022-01-06T14:01:37.078Z"
   },
   {
    "duration": 6,
    "start_time": "2022-01-06T14:01:37.083Z"
   },
   {
    "duration": 5,
    "start_time": "2022-01-06T14:01:37.090Z"
   },
   {
    "duration": 5,
    "start_time": "2022-01-06T14:01:37.096Z"
   },
   {
    "duration": 340,
    "start_time": "2022-01-06T14:01:37.103Z"
   },
   {
    "duration": 382,
    "start_time": "2022-01-06T14:01:37.445Z"
   },
   {
    "duration": -2293,
    "start_time": "2022-01-06T14:01:40.121Z"
   },
   {
    "duration": -2295,
    "start_time": "2022-01-06T14:01:40.124Z"
   },
   {
    "duration": -2296,
    "start_time": "2022-01-06T14:01:40.126Z"
   },
   {
    "duration": 4,
    "start_time": "2022-01-06T14:03:10.992Z"
   },
   {
    "duration": 4,
    "start_time": "2022-01-06T14:03:22.940Z"
   },
   {
    "duration": 4,
    "start_time": "2022-01-06T14:03:32.610Z"
   },
   {
    "duration": 7,
    "start_time": "2022-01-06T14:04:31.058Z"
   },
   {
    "duration": 4,
    "start_time": "2022-01-06T14:04:33.090Z"
   },
   {
    "duration": 3,
    "start_time": "2022-01-06T14:04:35.001Z"
   },
   {
    "duration": 9,
    "start_time": "2022-01-06T14:05:46.360Z"
   },
   {
    "duration": 16,
    "start_time": "2022-01-06T14:06:22.942Z"
   },
   {
    "duration": 598,
    "start_time": "2022-01-06T14:08:56.241Z"
   },
   {
    "duration": 49,
    "start_time": "2022-01-06T14:08:56.841Z"
   },
   {
    "duration": 9,
    "start_time": "2022-01-06T14:08:56.892Z"
   },
   {
    "duration": 29,
    "start_time": "2022-01-06T14:08:56.903Z"
   },
   {
    "duration": 9,
    "start_time": "2022-01-06T14:08:56.933Z"
   },
   {
    "duration": 13,
    "start_time": "2022-01-06T14:08:56.943Z"
   },
   {
    "duration": 9,
    "start_time": "2022-01-06T14:08:56.957Z"
   },
   {
    "duration": 6,
    "start_time": "2022-01-06T14:08:56.967Z"
   },
   {
    "duration": 11,
    "start_time": "2022-01-06T14:08:56.976Z"
   },
   {
    "duration": 8,
    "start_time": "2022-01-06T14:08:56.989Z"
   },
   {
    "duration": 7,
    "start_time": "2022-01-06T14:08:56.998Z"
   },
   {
    "duration": 32,
    "start_time": "2022-01-06T14:08:57.007Z"
   },
   {
    "duration": 9,
    "start_time": "2022-01-06T14:08:57.040Z"
   },
   {
    "duration": 4,
    "start_time": "2022-01-06T14:08:57.050Z"
   },
   {
    "duration": 13,
    "start_time": "2022-01-06T14:08:57.055Z"
   },
   {
    "duration": 9,
    "start_time": "2022-01-06T14:08:57.069Z"
   },
   {
    "duration": 11,
    "start_time": "2022-01-06T14:08:57.079Z"
   },
   {
    "duration": 6,
    "start_time": "2022-01-06T14:08:57.091Z"
   },
   {
    "duration": 7,
    "start_time": "2022-01-06T14:08:57.098Z"
   },
   {
    "duration": 9,
    "start_time": "2022-01-06T14:08:57.107Z"
   },
   {
    "duration": 22,
    "start_time": "2022-01-06T14:08:57.117Z"
   },
   {
    "duration": 9,
    "start_time": "2022-01-06T14:08:57.140Z"
   },
   {
    "duration": 8,
    "start_time": "2022-01-06T14:08:57.150Z"
   },
   {
    "duration": 13,
    "start_time": "2022-01-06T14:08:57.160Z"
   },
   {
    "duration": 3,
    "start_time": "2022-01-06T14:08:57.175Z"
   },
   {
    "duration": 19,
    "start_time": "2022-01-06T14:08:57.180Z"
   },
   {
    "duration": 5,
    "start_time": "2022-01-06T14:08:57.202Z"
   },
   {
    "duration": 29,
    "start_time": "2022-01-06T14:08:57.209Z"
   },
   {
    "duration": 18,
    "start_time": "2022-01-06T14:08:57.240Z"
   },
   {
    "duration": 8,
    "start_time": "2022-01-06T14:08:57.259Z"
   },
   {
    "duration": 6,
    "start_time": "2022-01-06T14:08:57.268Z"
   },
   {
    "duration": 2644,
    "start_time": "2022-01-06T14:08:57.275Z"
   },
   {
    "duration": 27,
    "start_time": "2022-01-06T14:08:59.921Z"
   },
   {
    "duration": 8,
    "start_time": "2022-01-06T14:08:59.949Z"
   },
   {
    "duration": 12,
    "start_time": "2022-01-06T14:08:59.958Z"
   },
   {
    "duration": 15,
    "start_time": "2022-01-06T14:08:59.971Z"
   },
   {
    "duration": 9,
    "start_time": "2022-01-06T14:08:59.987Z"
   },
   {
    "duration": 4,
    "start_time": "2022-01-06T14:08:59.998Z"
   },
   {
    "duration": 30,
    "start_time": "2022-01-06T14:09:00.003Z"
   },
   {
    "duration": 107,
    "start_time": "2022-01-06T14:09:00.034Z"
   },
   {
    "duration": 99,
    "start_time": "2022-01-06T14:09:00.143Z"
   },
   {
    "duration": 112,
    "start_time": "2022-01-06T14:09:00.244Z"
   },
   {
    "duration": 112,
    "start_time": "2022-01-06T14:09:00.358Z"
   },
   {
    "duration": 167,
    "start_time": "2022-01-06T14:09:00.472Z"
   },
   {
    "duration": 96,
    "start_time": "2022-01-06T14:09:00.640Z"
   },
   {
    "duration": 111,
    "start_time": "2022-01-06T14:09:00.738Z"
   },
   {
    "duration": 114,
    "start_time": "2022-01-06T14:09:00.850Z"
   },
   {
    "duration": 117,
    "start_time": "2022-01-06T14:09:00.965Z"
   },
   {
    "duration": 107,
    "start_time": "2022-01-06T14:09:01.084Z"
   },
   {
    "duration": 123,
    "start_time": "2022-01-06T14:09:01.193Z"
   },
   {
    "duration": 97,
    "start_time": "2022-01-06T14:09:01.317Z"
   },
   {
    "duration": 13,
    "start_time": "2022-01-06T14:09:01.415Z"
   },
   {
    "duration": 16,
    "start_time": "2022-01-06T14:09:01.431Z"
   },
   {
    "duration": 6697,
    "start_time": "2022-01-06T14:09:01.448Z"
   },
   {
    "duration": 10,
    "start_time": "2022-01-06T14:09:08.146Z"
   },
   {
    "duration": 5,
    "start_time": "2022-01-06T14:09:08.157Z"
   },
   {
    "duration": 1043,
    "start_time": "2022-01-06T14:09:08.163Z"
   },
   {
    "duration": 23,
    "start_time": "2022-01-06T14:09:09.208Z"
   },
   {
    "duration": 15,
    "start_time": "2022-01-06T14:09:09.233Z"
   },
   {
    "duration": 11,
    "start_time": "2022-01-06T14:09:09.251Z"
   },
   {
    "duration": 11,
    "start_time": "2022-01-06T14:09:09.263Z"
   },
   {
    "duration": 237,
    "start_time": "2022-01-06T14:09:09.275Z"
   },
   {
    "duration": 213,
    "start_time": "2022-01-06T14:09:09.514Z"
   },
   {
    "duration": 209,
    "start_time": "2022-01-06T14:09:09.735Z"
   },
   {
    "duration": 5,
    "start_time": "2022-01-06T14:09:09.946Z"
   },
   {
    "duration": 7,
    "start_time": "2022-01-06T14:09:09.953Z"
   },
   {
    "duration": 29,
    "start_time": "2022-01-06T14:09:09.961Z"
   },
   {
    "duration": 5,
    "start_time": "2022-01-06T14:09:09.991Z"
   },
   {
    "duration": 4,
    "start_time": "2022-01-06T14:09:09.997Z"
   },
   {
    "duration": 7,
    "start_time": "2022-01-06T14:09:10.002Z"
   },
   {
    "duration": 4,
    "start_time": "2022-01-06T14:09:10.010Z"
   },
   {
    "duration": 4,
    "start_time": "2022-01-06T14:09:10.016Z"
   },
   {
    "duration": 11,
    "start_time": "2022-01-06T14:09:10.021Z"
   },
   {
    "duration": 11,
    "start_time": "2022-01-06T14:09:10.033Z"
   },
   {
    "duration": 310,
    "start_time": "2022-01-06T14:09:10.045Z"
   },
   {
    "duration": 422,
    "start_time": "2022-01-06T14:09:10.357Z"
   },
   {
    "duration": -4484,
    "start_time": "2022-01-06T14:09:15.265Z"
   },
   {
    "duration": -4487,
    "start_time": "2022-01-06T14:09:15.268Z"
   },
   {
    "duration": -4488,
    "start_time": "2022-01-06T14:09:15.270Z"
   },
   {
    "duration": 23,
    "start_time": "2022-01-06T14:10:34.924Z"
   },
   {
    "duration": 9,
    "start_time": "2022-01-06T14:10:48.112Z"
   },
   {
    "duration": 707,
    "start_time": "2022-01-06T14:12:29.007Z"
   },
   {
    "duration": 61,
    "start_time": "2022-01-06T14:12:29.715Z"
   },
   {
    "duration": 8,
    "start_time": "2022-01-06T14:12:29.778Z"
   },
   {
    "duration": 48,
    "start_time": "2022-01-06T14:12:29.788Z"
   },
   {
    "duration": 5,
    "start_time": "2022-01-06T14:12:29.837Z"
   },
   {
    "duration": 20,
    "start_time": "2022-01-06T14:12:29.844Z"
   },
   {
    "duration": 19,
    "start_time": "2022-01-06T14:12:29.865Z"
   },
   {
    "duration": 19,
    "start_time": "2022-01-06T14:12:29.886Z"
   },
   {
    "duration": 27,
    "start_time": "2022-01-06T14:12:29.907Z"
   },
   {
    "duration": 31,
    "start_time": "2022-01-06T14:12:29.936Z"
   },
   {
    "duration": 17,
    "start_time": "2022-01-06T14:12:29.968Z"
   },
   {
    "duration": 25,
    "start_time": "2022-01-06T14:12:29.986Z"
   },
   {
    "duration": 35,
    "start_time": "2022-01-06T14:12:30.012Z"
   },
   {
    "duration": 8,
    "start_time": "2022-01-06T14:12:30.049Z"
   },
   {
    "duration": 21,
    "start_time": "2022-01-06T14:12:30.059Z"
   },
   {
    "duration": 32,
    "start_time": "2022-01-06T14:12:30.081Z"
   },
   {
    "duration": 24,
    "start_time": "2022-01-06T14:12:30.114Z"
   },
   {
    "duration": 13,
    "start_time": "2022-01-06T14:12:30.140Z"
   },
   {
    "duration": 19,
    "start_time": "2022-01-06T14:12:30.155Z"
   },
   {
    "duration": 28,
    "start_time": "2022-01-06T14:12:30.175Z"
   },
   {
    "duration": 42,
    "start_time": "2022-01-06T14:12:30.205Z"
   },
   {
    "duration": 6,
    "start_time": "2022-01-06T14:12:30.248Z"
   },
   {
    "duration": 19,
    "start_time": "2022-01-06T14:12:30.257Z"
   },
   {
    "duration": 15,
    "start_time": "2022-01-06T14:12:30.278Z"
   },
   {
    "duration": 4,
    "start_time": "2022-01-06T14:12:30.295Z"
   },
   {
    "duration": 23,
    "start_time": "2022-01-06T14:12:30.300Z"
   },
   {
    "duration": 19,
    "start_time": "2022-01-06T14:12:30.324Z"
   },
   {
    "duration": 23,
    "start_time": "2022-01-06T14:12:30.344Z"
   },
   {
    "duration": 22,
    "start_time": "2022-01-06T14:12:30.368Z"
   },
   {
    "duration": 14,
    "start_time": "2022-01-06T14:12:30.392Z"
   },
   {
    "duration": 15,
    "start_time": "2022-01-06T14:12:30.407Z"
   },
   {
    "duration": 2725,
    "start_time": "2022-01-06T14:12:30.423Z"
   },
   {
    "duration": 21,
    "start_time": "2022-01-06T14:12:33.150Z"
   },
   {
    "duration": 8,
    "start_time": "2022-01-06T14:12:33.172Z"
   },
   {
    "duration": 9,
    "start_time": "2022-01-06T14:12:33.181Z"
   },
   {
    "duration": 44,
    "start_time": "2022-01-06T14:12:33.191Z"
   },
   {
    "duration": 11,
    "start_time": "2022-01-06T14:12:33.237Z"
   },
   {
    "duration": 5,
    "start_time": "2022-01-06T14:12:33.249Z"
   },
   {
    "duration": 10,
    "start_time": "2022-01-06T14:12:33.255Z"
   },
   {
    "duration": 104,
    "start_time": "2022-01-06T14:12:33.267Z"
   },
   {
    "duration": 98,
    "start_time": "2022-01-06T14:12:33.372Z"
   },
   {
    "duration": 110,
    "start_time": "2022-01-06T14:12:33.472Z"
   },
   {
    "duration": 112,
    "start_time": "2022-01-06T14:12:33.583Z"
   },
   {
    "duration": 166,
    "start_time": "2022-01-06T14:12:33.697Z"
   },
   {
    "duration": 101,
    "start_time": "2022-01-06T14:12:33.864Z"
   },
   {
    "duration": 110,
    "start_time": "2022-01-06T14:12:33.967Z"
   },
   {
    "duration": 110,
    "start_time": "2022-01-06T14:12:34.079Z"
   },
   {
    "duration": 117,
    "start_time": "2022-01-06T14:12:34.190Z"
   },
   {
    "duration": 107,
    "start_time": "2022-01-06T14:12:34.309Z"
   },
   {
    "duration": 101,
    "start_time": "2022-01-06T14:12:34.418Z"
   },
   {
    "duration": 94,
    "start_time": "2022-01-06T14:12:34.527Z"
   },
   {
    "duration": 10,
    "start_time": "2022-01-06T14:12:34.622Z"
   },
   {
    "duration": 5527,
    "start_time": "2022-01-06T14:12:34.633Z"
   },
   {
    "duration": 13,
    "start_time": "2022-01-06T14:12:40.162Z"
   },
   {
    "duration": 4,
    "start_time": "2022-01-06T14:12:40.177Z"
   },
   {
    "duration": 1069,
    "start_time": "2022-01-06T14:12:40.183Z"
   },
   {
    "duration": 13,
    "start_time": "2022-01-06T14:12:41.253Z"
   },
   {
    "duration": 12,
    "start_time": "2022-01-06T14:12:41.268Z"
   },
   {
    "duration": 11,
    "start_time": "2022-01-06T14:12:41.282Z"
   },
   {
    "duration": 43,
    "start_time": "2022-01-06T14:12:41.295Z"
   },
   {
    "duration": 221,
    "start_time": "2022-01-06T14:12:41.341Z"
   },
   {
    "duration": 337,
    "start_time": "2022-01-06T14:12:41.564Z"
   },
   {
    "duration": 221,
    "start_time": "2022-01-06T14:12:41.903Z"
   },
   {
    "duration": 10,
    "start_time": "2022-01-06T14:12:42.125Z"
   },
   {
    "duration": 15,
    "start_time": "2022-01-06T14:12:42.137Z"
   },
   {
    "duration": 5,
    "start_time": "2022-01-06T14:12:42.153Z"
   },
   {
    "duration": 6,
    "start_time": "2022-01-06T14:12:42.160Z"
   },
   {
    "duration": 1068,
    "start_time": "2022-01-06T14:12:42.171Z"
   },
   {
    "duration": -2251,
    "start_time": "2022-01-06T14:12:45.492Z"
   },
   {
    "duration": -2252,
    "start_time": "2022-01-06T14:12:45.495Z"
   },
   {
    "duration": -2253,
    "start_time": "2022-01-06T14:12:45.497Z"
   },
   {
    "duration": -2256,
    "start_time": "2022-01-06T14:12:45.501Z"
   },
   {
    "duration": -2262,
    "start_time": "2022-01-06T14:12:45.509Z"
   },
   {
    "duration": -2264,
    "start_time": "2022-01-06T14:12:45.512Z"
   },
   {
    "duration": -2265,
    "start_time": "2022-01-06T14:12:45.514Z"
   },
   {
    "duration": -2266,
    "start_time": "2022-01-06T14:12:45.517Z"
   },
   {
    "duration": -2273,
    "start_time": "2022-01-06T14:12:45.525Z"
   },
   {
    "duration": -2276,
    "start_time": "2022-01-06T14:12:45.529Z"
   },
   {
    "duration": 358,
    "start_time": "2022-01-06T14:19:13.920Z"
   },
   {
    "duration": 358,
    "start_time": "2022-01-06T14:19:22.008Z"
   },
   {
    "duration": 3090,
    "start_time": "2022-01-06T14:20:10.140Z"
   },
   {
    "duration": 316,
    "start_time": "2022-01-06T14:20:36.318Z"
   },
   {
    "duration": 361,
    "start_time": "2022-01-06T14:20:53.145Z"
   },
   {
    "duration": 3539,
    "start_time": "2022-01-06T14:22:13.621Z"
   },
   {
    "duration": 357,
    "start_time": "2022-01-06T14:22:37.151Z"
   },
   {
    "duration": 3933,
    "start_time": "2022-01-06T14:22:45.966Z"
   },
   {
    "duration": 3521,
    "start_time": "2022-01-06T14:22:57.148Z"
   },
   {
    "duration": 3600,
    "start_time": "2022-01-06T14:24:30.768Z"
   },
   {
    "duration": 1068,
    "start_time": "2022-01-06T14:24:38.508Z"
   },
   {
    "duration": 3514,
    "start_time": "2022-01-06T14:24:57.070Z"
   },
   {
    "duration": 1038,
    "start_time": "2022-01-06T14:25:12.849Z"
   },
   {
    "duration": 1076,
    "start_time": "2022-01-06T14:25:18.319Z"
   },
   {
    "duration": 415,
    "start_time": "2022-01-06T14:26:55.947Z"
   },
   {
    "duration": 349,
    "start_time": "2022-01-06T14:27:20.226Z"
   },
   {
    "duration": 363,
    "start_time": "2022-01-06T14:30:20.848Z"
   },
   {
    "duration": 337,
    "start_time": "2022-01-06T14:30:23.184Z"
   },
   {
    "duration": 416,
    "start_time": "2022-01-06T14:30:45.199Z"
   },
   {
    "duration": 4,
    "start_time": "2022-01-06T14:30:53.362Z"
   },
   {
    "duration": 490,
    "start_time": "2022-01-06T14:31:33.913Z"
   },
   {
    "duration": 393,
    "start_time": "2022-01-06T14:33:00.308Z"
   },
   {
    "duration": 5,
    "start_time": "2022-01-06T14:33:08.907Z"
   },
   {
    "duration": 6432,
    "start_time": "2022-01-06T14:33:11.918Z"
   },
   {
    "duration": 6,
    "start_time": "2022-01-06T14:33:36.817Z"
   },
   {
    "duration": 15,
    "start_time": "2022-01-06T14:34:10.017Z"
   },
   {
    "duration": 433,
    "start_time": "2022-01-06T14:34:39.229Z"
   },
   {
    "duration": 755,
    "start_time": "2022-01-06T14:39:35.301Z"
   },
   {
    "duration": 752,
    "start_time": "2022-01-06T14:40:03.427Z"
   },
   {
    "duration": 996,
    "start_time": "2022-01-06T14:40:10.009Z"
   },
   {
    "duration": 749,
    "start_time": "2022-01-06T14:41:47.073Z"
   },
   {
    "duration": 777,
    "start_time": "2022-01-06T14:42:31.637Z"
   },
   {
    "duration": 456,
    "start_time": "2022-01-06T14:43:17.674Z"
   },
   {
    "duration": 452,
    "start_time": "2022-01-06T14:43:43.208Z"
   },
   {
    "duration": 5,
    "start_time": "2022-01-06T14:43:47.248Z"
   },
   {
    "duration": 7080,
    "start_time": "2022-01-06T14:43:50.217Z"
   },
   {
    "duration": 705,
    "start_time": "2022-01-06T14:45:13.843Z"
   },
   {
    "duration": 67,
    "start_time": "2022-01-06T14:45:14.550Z"
   },
   {
    "duration": 12,
    "start_time": "2022-01-06T14:45:14.620Z"
   },
   {
    "duration": 27,
    "start_time": "2022-01-06T14:45:14.634Z"
   },
   {
    "duration": 4,
    "start_time": "2022-01-06T14:45:14.662Z"
   },
   {
    "duration": 11,
    "start_time": "2022-01-06T14:45:14.668Z"
   },
   {
    "duration": 4,
    "start_time": "2022-01-06T14:45:14.680Z"
   },
   {
    "duration": 5,
    "start_time": "2022-01-06T14:45:14.685Z"
   },
   {
    "duration": 13,
    "start_time": "2022-01-06T14:45:14.692Z"
   },
   {
    "duration": 25,
    "start_time": "2022-01-06T14:45:14.707Z"
   },
   {
    "duration": 9,
    "start_time": "2022-01-06T14:45:14.737Z"
   },
   {
    "duration": 8,
    "start_time": "2022-01-06T14:45:14.747Z"
   },
   {
    "duration": 5,
    "start_time": "2022-01-06T14:45:14.757Z"
   },
   {
    "duration": 4,
    "start_time": "2022-01-06T14:45:14.764Z"
   },
   {
    "duration": 4,
    "start_time": "2022-01-06T14:45:14.769Z"
   },
   {
    "duration": 6,
    "start_time": "2022-01-06T14:45:14.775Z"
   },
   {
    "duration": 8,
    "start_time": "2022-01-06T14:45:14.782Z"
   },
   {
    "duration": 40,
    "start_time": "2022-01-06T14:45:14.791Z"
   },
   {
    "duration": 17,
    "start_time": "2022-01-06T14:45:14.833Z"
   },
   {
    "duration": 6,
    "start_time": "2022-01-06T14:45:14.852Z"
   },
   {
    "duration": 9,
    "start_time": "2022-01-06T14:45:14.860Z"
   },
   {
    "duration": 4,
    "start_time": "2022-01-06T14:45:14.871Z"
   },
   {
    "duration": 7,
    "start_time": "2022-01-06T14:45:14.877Z"
   },
   {
    "duration": 13,
    "start_time": "2022-01-06T14:45:14.886Z"
   },
   {
    "duration": 28,
    "start_time": "2022-01-06T14:45:14.901Z"
   },
   {
    "duration": 21,
    "start_time": "2022-01-06T14:45:14.930Z"
   },
   {
    "duration": 6,
    "start_time": "2022-01-06T14:45:14.955Z"
   },
   {
    "duration": 10,
    "start_time": "2022-01-06T14:45:14.963Z"
   },
   {
    "duration": 19,
    "start_time": "2022-01-06T14:45:14.974Z"
   },
   {
    "duration": 42,
    "start_time": "2022-01-06T14:45:14.994Z"
   },
   {
    "duration": 9,
    "start_time": "2022-01-06T14:45:15.039Z"
   },
   {
    "duration": 2857,
    "start_time": "2022-01-06T14:45:15.049Z"
   },
   {
    "duration": 32,
    "start_time": "2022-01-06T14:45:17.908Z"
   },
   {
    "duration": 10,
    "start_time": "2022-01-06T14:45:17.942Z"
   },
   {
    "duration": 14,
    "start_time": "2022-01-06T14:45:17.954Z"
   },
   {
    "duration": 14,
    "start_time": "2022-01-06T14:45:17.970Z"
   },
   {
    "duration": 12,
    "start_time": "2022-01-06T14:45:17.985Z"
   },
   {
    "duration": 29,
    "start_time": "2022-01-06T14:45:17.998Z"
   },
   {
    "duration": 9,
    "start_time": "2022-01-06T14:45:18.029Z"
   },
   {
    "duration": 139,
    "start_time": "2022-01-06T14:45:18.041Z"
   },
   {
    "duration": 113,
    "start_time": "2022-01-06T14:45:18.181Z"
   },
   {
    "duration": 114,
    "start_time": "2022-01-06T14:45:18.295Z"
   },
   {
    "duration": 116,
    "start_time": "2022-01-06T14:45:18.411Z"
   },
   {
    "duration": 164,
    "start_time": "2022-01-06T14:45:18.529Z"
   },
   {
    "duration": 104,
    "start_time": "2022-01-06T14:45:18.694Z"
   },
   {
    "duration": 161,
    "start_time": "2022-01-06T14:45:18.799Z"
   },
   {
    "duration": 135,
    "start_time": "2022-01-06T14:45:18.962Z"
   },
   {
    "duration": 144,
    "start_time": "2022-01-06T14:45:19.099Z"
   },
   {
    "duration": 126,
    "start_time": "2022-01-06T14:45:19.245Z"
   },
   {
    "duration": 108,
    "start_time": "2022-01-06T14:45:19.372Z"
   },
   {
    "duration": 102,
    "start_time": "2022-01-06T14:45:19.481Z"
   },
   {
    "duration": 6,
    "start_time": "2022-01-06T14:45:19.585Z"
   },
   {
    "duration": 517,
    "start_time": "2022-01-06T14:45:19.592Z"
   },
   {
    "duration": 515,
    "start_time": "2022-01-06T14:45:20.110Z"
   },
   {
    "duration": -2356,
    "start_time": "2022-01-06T14:45:22.983Z"
   },
   {
    "duration": -2359,
    "start_time": "2022-01-06T14:45:22.987Z"
   },
   {
    "duration": -2361,
    "start_time": "2022-01-06T14:45:22.990Z"
   },
   {
    "duration": -2362,
    "start_time": "2022-01-06T14:45:22.992Z"
   },
   {
    "duration": -2363,
    "start_time": "2022-01-06T14:45:22.994Z"
   },
   {
    "duration": -2365,
    "start_time": "2022-01-06T14:45:22.996Z"
   },
   {
    "duration": -2367,
    "start_time": "2022-01-06T14:45:22.999Z"
   },
   {
    "duration": -2368,
    "start_time": "2022-01-06T14:45:23.001Z"
   },
   {
    "duration": -2449,
    "start_time": "2022-01-06T14:45:23.083Z"
   },
   {
    "duration": -2453,
    "start_time": "2022-01-06T14:45:23.089Z"
   },
   {
    "duration": -2455,
    "start_time": "2022-01-06T14:45:23.091Z"
   },
   {
    "duration": -2476,
    "start_time": "2022-01-06T14:45:23.113Z"
   },
   {
    "duration": -2485,
    "start_time": "2022-01-06T14:45:23.123Z"
   },
   {
    "duration": -2487,
    "start_time": "2022-01-06T14:45:23.126Z"
   },
   {
    "duration": -2488,
    "start_time": "2022-01-06T14:45:23.128Z"
   },
   {
    "duration": -2490,
    "start_time": "2022-01-06T14:45:23.131Z"
   },
   {
    "duration": -2488,
    "start_time": "2022-01-06T14:45:23.133Z"
   },
   {
    "duration": -2489,
    "start_time": "2022-01-06T14:45:23.135Z"
   },
   {
    "duration": -2486,
    "start_time": "2022-01-06T14:45:23.138Z"
   },
   {
    "duration": -2488,
    "start_time": "2022-01-06T14:45:23.141Z"
   },
   {
    "duration": -2489,
    "start_time": "2022-01-06T14:45:23.143Z"
   },
   {
    "duration": -2490,
    "start_time": "2022-01-06T14:45:23.145Z"
   },
   {
    "duration": -2491,
    "start_time": "2022-01-06T14:45:23.147Z"
   },
   {
    "duration": -2499,
    "start_time": "2022-01-06T14:45:23.156Z"
   },
   {
    "duration": -2501,
    "start_time": "2022-01-06T14:45:23.158Z"
   },
   {
    "duration": -2503,
    "start_time": "2022-01-06T14:45:23.161Z"
   },
   {
    "duration": 369,
    "start_time": "2022-01-06T14:46:25.050Z"
   },
   {
    "duration": 602,
    "start_time": "2022-01-06T14:46:33.223Z"
   },
   {
    "duration": 54,
    "start_time": "2022-01-06T14:46:33.829Z"
   },
   {
    "duration": 9,
    "start_time": "2022-01-06T14:46:33.885Z"
   },
   {
    "duration": 26,
    "start_time": "2022-01-06T14:46:33.895Z"
   },
   {
    "duration": 8,
    "start_time": "2022-01-06T14:46:33.922Z"
   },
   {
    "duration": 16,
    "start_time": "2022-01-06T14:46:33.931Z"
   },
   {
    "duration": 6,
    "start_time": "2022-01-06T14:46:33.948Z"
   },
   {
    "duration": 8,
    "start_time": "2022-01-06T14:46:33.955Z"
   },
   {
    "duration": 9,
    "start_time": "2022-01-06T14:46:33.964Z"
   },
   {
    "duration": 6,
    "start_time": "2022-01-06T14:46:33.975Z"
   },
   {
    "duration": 6,
    "start_time": "2022-01-06T14:46:33.982Z"
   },
   {
    "duration": 5,
    "start_time": "2022-01-06T14:46:33.990Z"
   },
   {
    "duration": 32,
    "start_time": "2022-01-06T14:46:33.997Z"
   },
   {
    "duration": 7,
    "start_time": "2022-01-06T14:46:34.031Z"
   },
   {
    "duration": 20,
    "start_time": "2022-01-06T14:46:34.039Z"
   },
   {
    "duration": 4,
    "start_time": "2022-01-06T14:46:34.061Z"
   },
   {
    "duration": 9,
    "start_time": "2022-01-06T14:46:34.068Z"
   },
   {
    "duration": 5,
    "start_time": "2022-01-06T14:46:34.079Z"
   },
   {
    "duration": 8,
    "start_time": "2022-01-06T14:46:34.086Z"
   },
   {
    "duration": 7,
    "start_time": "2022-01-06T14:46:34.096Z"
   },
   {
    "duration": 29,
    "start_time": "2022-01-06T14:46:34.105Z"
   },
   {
    "duration": 18,
    "start_time": "2022-01-06T14:46:34.136Z"
   },
   {
    "duration": 12,
    "start_time": "2022-01-06T14:46:34.159Z"
   },
   {
    "duration": 20,
    "start_time": "2022-01-06T14:46:34.174Z"
   },
   {
    "duration": 5,
    "start_time": "2022-01-06T14:46:34.196Z"
   },
   {
    "duration": 43,
    "start_time": "2022-01-06T14:46:34.203Z"
   },
   {
    "duration": 7,
    "start_time": "2022-01-06T14:46:34.248Z"
   },
   {
    "duration": 15,
    "start_time": "2022-01-06T14:46:34.257Z"
   },
   {
    "duration": 18,
    "start_time": "2022-01-06T14:46:34.274Z"
   },
   {
    "duration": 9,
    "start_time": "2022-01-06T14:46:34.293Z"
   },
   {
    "duration": 26,
    "start_time": "2022-01-06T14:46:34.304Z"
   },
   {
    "duration": 2714,
    "start_time": "2022-01-06T14:46:34.332Z"
   },
   {
    "duration": 19,
    "start_time": "2022-01-06T14:46:37.048Z"
   },
   {
    "duration": 7,
    "start_time": "2022-01-06T14:46:37.069Z"
   },
   {
    "duration": 11,
    "start_time": "2022-01-06T14:46:37.078Z"
   },
   {
    "duration": 12,
    "start_time": "2022-01-06T14:46:37.091Z"
   },
   {
    "duration": 40,
    "start_time": "2022-01-06T14:46:37.105Z"
   },
   {
    "duration": 6,
    "start_time": "2022-01-06T14:46:37.146Z"
   },
   {
    "duration": 7,
    "start_time": "2022-01-06T14:46:37.154Z"
   },
   {
    "duration": 112,
    "start_time": "2022-01-06T14:46:37.163Z"
   },
   {
    "duration": 103,
    "start_time": "2022-01-06T14:46:37.277Z"
   },
   {
    "duration": 112,
    "start_time": "2022-01-06T14:46:37.382Z"
   },
   {
    "duration": 110,
    "start_time": "2022-01-06T14:46:37.496Z"
   },
   {
    "duration": 164,
    "start_time": "2022-01-06T14:46:37.607Z"
   },
   {
    "duration": 104,
    "start_time": "2022-01-06T14:46:37.773Z"
   },
   {
    "duration": 113,
    "start_time": "2022-01-06T14:46:37.879Z"
   },
   {
    "duration": 157,
    "start_time": "2022-01-06T14:46:37.994Z"
   },
   {
    "duration": 111,
    "start_time": "2022-01-06T14:46:38.153Z"
   },
   {
    "duration": 115,
    "start_time": "2022-01-06T14:46:38.266Z"
   },
   {
    "duration": 105,
    "start_time": "2022-01-06T14:46:38.383Z"
   },
   {
    "duration": 106,
    "start_time": "2022-01-06T14:46:38.489Z"
   },
   {
    "duration": 8,
    "start_time": "2022-01-06T14:46:38.596Z"
   },
   {
    "duration": 593,
    "start_time": "2022-01-06T14:46:38.605Z"
   },
   {
    "duration": 451,
    "start_time": "2022-01-06T14:46:39.200Z"
   },
   {
    "duration": -2193,
    "start_time": "2022-01-06T14:46:41.847Z"
   },
   {
    "duration": -2195,
    "start_time": "2022-01-06T14:46:41.850Z"
   },
   {
    "duration": -2196,
    "start_time": "2022-01-06T14:46:41.853Z"
   },
   {
    "duration": -2198,
    "start_time": "2022-01-06T14:46:41.856Z"
   },
   {
    "duration": -2199,
    "start_time": "2022-01-06T14:46:41.858Z"
   },
   {
    "duration": -2199,
    "start_time": "2022-01-06T14:46:41.860Z"
   },
   {
    "duration": -2200,
    "start_time": "2022-01-06T14:46:41.862Z"
   },
   {
    "duration": -2202,
    "start_time": "2022-01-06T14:46:41.865Z"
   },
   {
    "duration": -2204,
    "start_time": "2022-01-06T14:46:41.868Z"
   },
   {
    "duration": -2314,
    "start_time": "2022-01-06T14:46:41.980Z"
   },
   {
    "duration": -2316,
    "start_time": "2022-01-06T14:46:41.983Z"
   },
   {
    "duration": -2318,
    "start_time": "2022-01-06T14:46:41.986Z"
   },
   {
    "duration": -2319,
    "start_time": "2022-01-06T14:46:41.989Z"
   },
   {
    "duration": -2326,
    "start_time": "2022-01-06T14:46:41.997Z"
   },
   {
    "duration": -2328,
    "start_time": "2022-01-06T14:46:42.000Z"
   },
   {
    "duration": -2330,
    "start_time": "2022-01-06T14:46:42.003Z"
   },
   {
    "duration": -2331,
    "start_time": "2022-01-06T14:46:42.005Z"
   },
   {
    "duration": -2332,
    "start_time": "2022-01-06T14:46:42.007Z"
   },
   {
    "duration": -2334,
    "start_time": "2022-01-06T14:46:42.010Z"
   },
   {
    "duration": -2335,
    "start_time": "2022-01-06T14:46:42.012Z"
   },
   {
    "duration": -2336,
    "start_time": "2022-01-06T14:46:42.014Z"
   },
   {
    "duration": -2338,
    "start_time": "2022-01-06T14:46:42.017Z"
   },
   {
    "duration": -2339,
    "start_time": "2022-01-06T14:46:42.019Z"
   },
   {
    "duration": -2341,
    "start_time": "2022-01-06T14:46:42.022Z"
   },
   {
    "duration": -2342,
    "start_time": "2022-01-06T14:46:42.024Z"
   },
   {
    "duration": -2343,
    "start_time": "2022-01-06T14:46:42.026Z"
   },
   {
    "duration": 788,
    "start_time": "2022-01-06T17:10:37.990Z"
   },
   {
    "duration": 73,
    "start_time": "2022-01-06T17:10:38.780Z"
   },
   {
    "duration": 17,
    "start_time": "2022-01-06T17:10:38.857Z"
   },
   {
    "duration": 46,
    "start_time": "2022-01-06T17:10:38.877Z"
   },
   {
    "duration": 7,
    "start_time": "2022-01-06T17:10:38.925Z"
   },
   {
    "duration": 13,
    "start_time": "2022-01-06T17:10:38.966Z"
   },
   {
    "duration": 7,
    "start_time": "2022-01-06T17:10:38.981Z"
   },
   {
    "duration": 7,
    "start_time": "2022-01-06T17:10:38.992Z"
   },
   {
    "duration": 16,
    "start_time": "2022-01-06T17:10:39.004Z"
   },
   {
    "duration": 53,
    "start_time": "2022-01-06T17:10:39.023Z"
   },
   {
    "duration": 14,
    "start_time": "2022-01-06T17:10:39.079Z"
   },
   {
    "duration": 14,
    "start_time": "2022-01-06T17:10:39.095Z"
   },
   {
    "duration": 11,
    "start_time": "2022-01-06T17:10:39.111Z"
   },
   {
    "duration": 45,
    "start_time": "2022-01-06T17:10:39.124Z"
   },
   {
    "duration": 12,
    "start_time": "2022-01-06T17:10:39.171Z"
   },
   {
    "duration": 9,
    "start_time": "2022-01-06T17:10:39.186Z"
   },
   {
    "duration": 17,
    "start_time": "2022-01-06T17:10:39.198Z"
   },
   {
    "duration": 7,
    "start_time": "2022-01-06T17:10:39.218Z"
   },
   {
    "duration": 11,
    "start_time": "2022-01-06T17:10:39.268Z"
   },
   {
    "duration": 10,
    "start_time": "2022-01-06T17:10:39.282Z"
   },
   {
    "duration": 17,
    "start_time": "2022-01-06T17:10:39.294Z"
   },
   {
    "duration": 7,
    "start_time": "2022-01-06T17:10:39.314Z"
   },
   {
    "duration": 52,
    "start_time": "2022-01-06T17:10:39.323Z"
   },
   {
    "duration": 34,
    "start_time": "2022-01-06T17:10:39.378Z"
   },
   {
    "duration": 9,
    "start_time": "2022-01-06T17:10:39.414Z"
   },
   {
    "duration": 68,
    "start_time": "2022-01-06T17:10:39.426Z"
   },
   {
    "duration": 11,
    "start_time": "2022-01-06T17:10:39.501Z"
   },
   {
    "duration": 52,
    "start_time": "2022-01-06T17:10:39.517Z"
   },
   {
    "duration": 35,
    "start_time": "2022-01-06T17:10:39.572Z"
   },
   {
    "duration": 16,
    "start_time": "2022-01-06T17:10:39.609Z"
   },
   {
    "duration": 45,
    "start_time": "2022-01-06T17:10:39.627Z"
   },
   {
    "duration": 5073,
    "start_time": "2022-01-06T17:10:39.674Z"
   },
   {
    "duration": 47,
    "start_time": "2022-01-06T17:10:44.750Z"
   },
   {
    "duration": 14,
    "start_time": "2022-01-06T17:10:44.799Z"
   },
   {
    "duration": 20,
    "start_time": "2022-01-06T17:10:44.815Z"
   },
   {
    "duration": 50,
    "start_time": "2022-01-06T17:10:44.838Z"
   },
   {
    "duration": 20,
    "start_time": "2022-01-06T17:10:44.891Z"
   },
   {
    "duration": 10,
    "start_time": "2022-01-06T17:10:44.914Z"
   },
   {
    "duration": 48,
    "start_time": "2022-01-06T17:10:44.929Z"
   },
   {
    "duration": 297,
    "start_time": "2022-01-06T17:10:44.980Z"
   },
   {
    "duration": 290,
    "start_time": "2022-01-06T17:10:45.280Z"
   },
   {
    "duration": 220,
    "start_time": "2022-01-06T17:10:45.574Z"
   },
   {
    "duration": 210,
    "start_time": "2022-01-06T17:10:45.797Z"
   },
   {
    "duration": 293,
    "start_time": "2022-01-06T17:10:46.010Z"
   },
   {
    "duration": 208,
    "start_time": "2022-01-06T17:10:46.306Z"
   },
   {
    "duration": 215,
    "start_time": "2022-01-06T17:10:46.517Z"
   },
   {
    "duration": 215,
    "start_time": "2022-01-06T17:10:46.734Z"
   },
   {
    "duration": 206,
    "start_time": "2022-01-06T17:10:46.951Z"
   },
   {
    "duration": 225,
    "start_time": "2022-01-06T17:10:47.168Z"
   },
   {
    "duration": 212,
    "start_time": "2022-01-06T17:10:47.396Z"
   },
   {
    "duration": 199,
    "start_time": "2022-01-06T17:10:47.612Z"
   },
   {
    "duration": 12,
    "start_time": "2022-01-06T17:10:47.813Z"
   },
   {
    "duration": 1416,
    "start_time": "2022-01-06T17:10:47.828Z"
   },
   {
    "duration": 478,
    "start_time": "2022-01-06T17:10:49.247Z"
   },
   {
    "duration": -201,
    "start_time": "2022-01-06T17:10:49.929Z"
   },
   {
    "duration": -202,
    "start_time": "2022-01-06T17:10:49.932Z"
   },
   {
    "duration": -201,
    "start_time": "2022-01-06T17:10:49.934Z"
   },
   {
    "duration": -202,
    "start_time": "2022-01-06T17:10:49.937Z"
   },
   {
    "duration": -210,
    "start_time": "2022-01-06T17:10:49.946Z"
   },
   {
    "duration": -211,
    "start_time": "2022-01-06T17:10:49.949Z"
   },
   {
    "duration": -212,
    "start_time": "2022-01-06T17:10:49.952Z"
   },
   {
    "duration": -212,
    "start_time": "2022-01-06T17:10:49.955Z"
   },
   {
    "duration": -215,
    "start_time": "2022-01-06T17:10:49.959Z"
   },
   {
    "duration": -368,
    "start_time": "2022-01-06T17:10:50.114Z"
   },
   {
    "duration": -378,
    "start_time": "2022-01-06T17:10:50.126Z"
   },
   {
    "duration": -382,
    "start_time": "2022-01-06T17:10:50.132Z"
   },
   {
    "duration": -385,
    "start_time": "2022-01-06T17:10:50.137Z"
   },
   {
    "duration": -388,
    "start_time": "2022-01-06T17:10:50.142Z"
   },
   {
    "duration": -392,
    "start_time": "2022-01-06T17:10:50.147Z"
   },
   {
    "duration": -394,
    "start_time": "2022-01-06T17:10:50.151Z"
   },
   {
    "duration": -387,
    "start_time": "2022-01-06T17:10:50.155Z"
   },
   {
    "duration": -390,
    "start_time": "2022-01-06T17:10:50.160Z"
   },
   {
    "duration": -394,
    "start_time": "2022-01-06T17:10:50.165Z"
   },
   {
    "duration": -396,
    "start_time": "2022-01-06T17:10:50.169Z"
   },
   {
    "duration": -398,
    "start_time": "2022-01-06T17:10:50.173Z"
   },
   {
    "duration": -402,
    "start_time": "2022-01-06T17:10:50.179Z"
   },
   {
    "duration": -404,
    "start_time": "2022-01-06T17:10:50.183Z"
   },
   {
    "duration": -408,
    "start_time": "2022-01-06T17:10:50.188Z"
   },
   {
    "duration": -411,
    "start_time": "2022-01-06T17:10:50.193Z"
   },
   {
    "duration": -414,
    "start_time": "2022-01-06T17:10:50.198Z"
   },
   {
    "duration": 1002,
    "start_time": "2022-01-06T17:11:11.603Z"
   },
   {
    "duration": 104,
    "start_time": "2022-01-06T17:11:12.609Z"
   },
   {
    "duration": 15,
    "start_time": "2022-01-06T17:11:12.717Z"
   },
   {
    "duration": 69,
    "start_time": "2022-01-06T17:11:12.735Z"
   },
   {
    "duration": 7,
    "start_time": "2022-01-06T17:11:12.807Z"
   },
   {
    "duration": 21,
    "start_time": "2022-01-06T17:11:12.816Z"
   },
   {
    "duration": 33,
    "start_time": "2022-01-06T17:11:12.841Z"
   },
   {
    "duration": 5,
    "start_time": "2022-01-06T17:11:12.880Z"
   },
   {
    "duration": 16,
    "start_time": "2022-01-06T17:11:12.890Z"
   },
   {
    "duration": 13,
    "start_time": "2022-01-06T17:11:12.909Z"
   },
   {
    "duration": 50,
    "start_time": "2022-01-06T17:11:12.925Z"
   },
   {
    "duration": 12,
    "start_time": "2022-01-06T17:11:12.977Z"
   },
   {
    "duration": 12,
    "start_time": "2022-01-06T17:11:12.992Z"
   },
   {
    "duration": 9,
    "start_time": "2022-01-06T17:11:13.007Z"
   },
   {
    "duration": 52,
    "start_time": "2022-01-06T17:11:13.019Z"
   },
   {
    "duration": 10,
    "start_time": "2022-01-06T17:11:13.074Z"
   },
   {
    "duration": 15,
    "start_time": "2022-01-06T17:11:13.086Z"
   },
   {
    "duration": 7,
    "start_time": "2022-01-06T17:11:13.104Z"
   },
   {
    "duration": 62,
    "start_time": "2022-01-06T17:11:13.114Z"
   },
   {
    "duration": 15,
    "start_time": "2022-01-06T17:11:13.179Z"
   },
   {
    "duration": 21,
    "start_time": "2022-01-06T17:11:13.197Z"
   },
   {
    "duration": 8,
    "start_time": "2022-01-06T17:11:13.222Z"
   },
   {
    "duration": 18,
    "start_time": "2022-01-06T17:11:13.272Z"
   },
   {
    "duration": 35,
    "start_time": "2022-01-06T17:11:13.296Z"
   },
   {
    "duration": 34,
    "start_time": "2022-01-06T17:11:13.333Z"
   },
   {
    "duration": 43,
    "start_time": "2022-01-06T17:11:13.370Z"
   },
   {
    "duration": 11,
    "start_time": "2022-01-06T17:11:13.416Z"
   },
   {
    "duration": 52,
    "start_time": "2022-01-06T17:11:13.430Z"
   },
   {
    "duration": 36,
    "start_time": "2022-01-06T17:11:13.484Z"
   },
   {
    "duration": 13,
    "start_time": "2022-01-06T17:11:13.523Z"
   },
   {
    "duration": 14,
    "start_time": "2022-01-06T17:11:13.567Z"
   },
   {
    "duration": 7472,
    "start_time": "2022-01-06T17:11:13.584Z"
   },
   {
    "duration": 42,
    "start_time": "2022-01-06T17:11:21.058Z"
   },
   {
    "duration": 14,
    "start_time": "2022-01-06T17:11:21.103Z"
   },
   {
    "duration": 47,
    "start_time": "2022-01-06T17:11:21.120Z"
   },
   {
    "duration": 23,
    "start_time": "2022-01-06T17:11:21.170Z"
   },
   {
    "duration": 18,
    "start_time": "2022-01-06T17:11:21.195Z"
   },
   {
    "duration": 8,
    "start_time": "2022-01-06T17:11:21.216Z"
   },
   {
    "duration": 47,
    "start_time": "2022-01-06T17:11:21.227Z"
   },
   {
    "duration": 217,
    "start_time": "2022-01-06T17:11:21.277Z"
   },
   {
    "duration": 197,
    "start_time": "2022-01-06T17:11:21.496Z"
   },
   {
    "duration": 215,
    "start_time": "2022-01-06T17:11:21.695Z"
   },
   {
    "duration": 224,
    "start_time": "2022-01-06T17:11:21.912Z"
   },
   {
    "duration": 285,
    "start_time": "2022-01-06T17:11:22.139Z"
   },
   {
    "duration": 199,
    "start_time": "2022-01-06T17:11:22.427Z"
   },
   {
    "duration": 205,
    "start_time": "2022-01-06T17:11:22.629Z"
   },
   {
    "duration": 208,
    "start_time": "2022-01-06T17:11:22.836Z"
   },
   {
    "duration": 231,
    "start_time": "2022-01-06T17:11:23.046Z"
   },
   {
    "duration": 210,
    "start_time": "2022-01-06T17:11:23.280Z"
   },
   {
    "duration": 300,
    "start_time": "2022-01-06T17:11:23.492Z"
   },
   {
    "duration": 284,
    "start_time": "2022-01-06T17:11:23.795Z"
   },
   {
    "duration": 13,
    "start_time": "2022-01-06T17:11:24.082Z"
   },
   {
    "duration": 1403,
    "start_time": "2022-01-06T17:11:24.098Z"
   },
   {
    "duration": 8,
    "start_time": "2022-01-06T17:11:25.504Z"
   },
   {
    "duration": 10544,
    "start_time": "2022-01-06T17:11:25.514Z"
   },
   {
    "duration": 16,
    "start_time": "2022-01-06T17:11:36.067Z"
   },
   {
    "duration": 13,
    "start_time": "2022-01-06T17:11:36.085Z"
   },
   {
    "duration": 1829,
    "start_time": "2022-01-06T17:11:36.100Z"
   },
   {
    "duration": 39,
    "start_time": "2022-01-06T17:11:37.931Z"
   },
   {
    "duration": 20,
    "start_time": "2022-01-06T17:11:37.973Z"
   },
   {
    "duration": 19,
    "start_time": "2022-01-06T17:11:37.996Z"
   },
   {
    "duration": 57,
    "start_time": "2022-01-06T17:11:38.018Z"
   },
   {
    "duration": 431,
    "start_time": "2022-01-06T17:11:38.077Z"
   },
   {
    "duration": 425,
    "start_time": "2022-01-06T17:11:38.511Z"
   },
   {
    "duration": 406,
    "start_time": "2022-01-06T17:11:38.938Z"
   },
   {
    "duration": 8,
    "start_time": "2022-01-06T17:11:39.346Z"
   },
   {
    "duration": 17,
    "start_time": "2022-01-06T17:11:39.356Z"
   },
   {
    "duration": 5,
    "start_time": "2022-01-06T17:11:39.381Z"
   },
   {
    "duration": 12,
    "start_time": "2022-01-06T17:11:39.389Z"
   },
   {
    "duration": 5,
    "start_time": "2022-01-06T17:11:39.404Z"
   },
   {
    "duration": 8,
    "start_time": "2022-01-06T17:11:39.411Z"
   },
   {
    "duration": 47,
    "start_time": "2022-01-06T17:11:39.422Z"
   },
   {
    "duration": 6,
    "start_time": "2022-01-06T17:11:39.471Z"
   },
   {
    "duration": 9,
    "start_time": "2022-01-06T17:11:39.480Z"
   },
   {
    "duration": 8,
    "start_time": "2022-01-06T17:11:39.491Z"
   },
   {
    "duration": 507,
    "start_time": "2022-01-06T17:11:39.502Z"
   },
   {
    "duration": 751,
    "start_time": "2022-01-06T17:11:40.011Z"
   },
   {
    "duration": -123,
    "start_time": "2022-01-06T17:11:40.888Z"
   },
   {
    "duration": -131,
    "start_time": "2022-01-06T17:11:40.898Z"
   },
   {
    "duration": -133,
    "start_time": "2022-01-06T17:11:40.902Z"
   },
   {
    "duration": 881,
    "start_time": "2022-01-06T17:12:17.375Z"
   },
   {
    "duration": 913,
    "start_time": "2022-01-06T17:12:22.632Z"
   },
   {
    "duration": 921,
    "start_time": "2022-01-06T17:12:44.008Z"
   },
   {
    "duration": 1486,
    "start_time": "2022-01-06T17:13:12.454Z"
   },
   {
    "duration": 1472,
    "start_time": "2022-01-06T17:13:19.337Z"
   },
   {
    "duration": 323,
    "start_time": "2022-01-06T17:15:05.894Z"
   },
   {
    "duration": 296,
    "start_time": "2022-01-06T17:15:44.797Z"
   },
   {
    "duration": 302,
    "start_time": "2022-01-06T17:16:03.192Z"
   },
   {
    "duration": 57,
    "start_time": "2022-01-06T17:16:14.577Z"
   },
   {
    "duration": 20,
    "start_time": "2022-01-06T17:16:30.657Z"
   },
   {
    "duration": 374,
    "start_time": "2022-01-06T17:16:38.762Z"
   },
   {
    "duration": 20,
    "start_time": "2022-01-06T17:17:23.272Z"
   },
   {
    "duration": 20,
    "start_time": "2022-01-06T17:17:28.390Z"
   },
   {
    "duration": 16,
    "start_time": "2022-01-06T17:17:33.652Z"
   },
   {
    "duration": 275,
    "start_time": "2022-01-06T17:17:46.652Z"
   },
   {
    "duration": 13,
    "start_time": "2022-01-06T17:18:58.364Z"
   },
   {
    "duration": 17,
    "start_time": "2022-01-06T17:19:14.834Z"
   },
   {
    "duration": 8,
    "start_time": "2022-01-06T17:19:25.264Z"
   },
   {
    "duration": 332,
    "start_time": "2022-01-06T17:19:46.482Z"
   },
   {
    "duration": 16,
    "start_time": "2022-01-06T17:19:55.180Z"
   },
   {
    "duration": 18,
    "start_time": "2022-01-06T17:20:31.319Z"
   },
   {
    "duration": 307,
    "start_time": "2022-01-06T17:20:44.475Z"
   },
   {
    "duration": 427,
    "start_time": "2022-01-06T17:20:58.332Z"
   },
   {
    "duration": 1064,
    "start_time": "2022-01-06T17:21:15.197Z"
   },
   {
    "duration": 291,
    "start_time": "2022-01-06T17:21:36.122Z"
   },
   {
    "duration": 307,
    "start_time": "2022-01-06T17:21:45.838Z"
   },
   {
    "duration": 16,
    "start_time": "2022-01-06T17:23:43.875Z"
   },
   {
    "duration": 312,
    "start_time": "2022-01-06T17:23:52.897Z"
   },
   {
    "duration": 4,
    "start_time": "2022-01-06T17:25:58.068Z"
   },
   {
    "duration": 59,
    "start_time": "2022-01-06T17:25:58.722Z"
   },
   {
    "duration": 14,
    "start_time": "2022-01-06T17:26:00.207Z"
   },
   {
    "duration": 49,
    "start_time": "2022-01-06T17:26:00.837Z"
   },
   {
    "duration": 7,
    "start_time": "2022-01-06T17:26:05.062Z"
   },
   {
    "duration": 13,
    "start_time": "2022-01-06T17:26:06.447Z"
   },
   {
    "duration": 6,
    "start_time": "2022-01-06T17:26:07.047Z"
   },
   {
    "duration": 5,
    "start_time": "2022-01-06T17:26:08.280Z"
   },
   {
    "duration": 11,
    "start_time": "2022-01-06T17:26:11.074Z"
   },
   {
    "duration": 11,
    "start_time": "2022-01-06T17:26:12.584Z"
   },
   {
    "duration": 11,
    "start_time": "2022-01-06T17:26:19.354Z"
   },
   {
    "duration": 12,
    "start_time": "2022-01-06T17:26:20.080Z"
   },
   {
    "duration": 13,
    "start_time": "2022-01-06T17:26:21.446Z"
   },
   {
    "duration": 8,
    "start_time": "2022-01-06T17:26:49.660Z"
   },
   {
    "duration": 290,
    "start_time": "2022-01-06T17:26:55.012Z"
   },
   {
    "duration": 15,
    "start_time": "2022-01-06T17:27:14.057Z"
   },
   {
    "duration": 16,
    "start_time": "2022-01-06T17:27:23.992Z"
   },
   {
    "duration": 6,
    "start_time": "2022-01-06T17:27:58.862Z"
   },
   {
    "duration": 15,
    "start_time": "2022-01-06T17:28:01.148Z"
   },
   {
    "duration": 5,
    "start_time": "2022-01-06T17:28:11.546Z"
   },
   {
    "duration": 15,
    "start_time": "2022-01-06T17:28:13.886Z"
   },
   {
    "duration": 4,
    "start_time": "2022-01-06T17:28:22.642Z"
   },
   {
    "duration": 83,
    "start_time": "2022-01-06T17:28:22.822Z"
   },
   {
    "duration": 14,
    "start_time": "2022-01-06T17:28:23.145Z"
   },
   {
    "duration": 44,
    "start_time": "2022-01-06T17:28:23.317Z"
   },
   {
    "duration": 7,
    "start_time": "2022-01-06T17:28:23.862Z"
   },
   {
    "duration": 14,
    "start_time": "2022-01-06T17:28:24.707Z"
   },
   {
    "duration": 6,
    "start_time": "2022-01-06T17:28:24.953Z"
   },
   {
    "duration": 6,
    "start_time": "2022-01-06T17:28:25.742Z"
   },
   {
    "duration": 12,
    "start_time": "2022-01-06T17:28:26.172Z"
   },
   {
    "duration": 12,
    "start_time": "2022-01-06T17:28:26.357Z"
   },
   {
    "duration": 15,
    "start_time": "2022-01-06T17:28:26.983Z"
   },
   {
    "duration": 14,
    "start_time": "2022-01-06T17:28:27.368Z"
   },
   {
    "duration": 12,
    "start_time": "2022-01-06T17:28:29.858Z"
   },
   {
    "duration": 8,
    "start_time": "2022-01-06T17:28:30.368Z"
   },
   {
    "duration": 16,
    "start_time": "2022-01-06T17:28:34.115Z"
   },
   {
    "duration": 16,
    "start_time": "2022-01-06T17:28:46.896Z"
   },
   {
    "duration": 305,
    "start_time": "2022-01-06T17:28:57.930Z"
   },
   {
    "duration": 16,
    "start_time": "2022-01-06T17:29:19.022Z"
   },
   {
    "duration": 330,
    "start_time": "2022-01-06T17:29:29.407Z"
   },
   {
    "duration": 14,
    "start_time": "2022-01-06T17:29:59.196Z"
   },
   {
    "duration": 18,
    "start_time": "2022-01-06T17:30:22.516Z"
   },
   {
    "duration": 17,
    "start_time": "2022-01-06T17:30:45.734Z"
   },
   {
    "duration": 22,
    "start_time": "2022-01-06T17:31:04.470Z"
   },
   {
    "duration": 1178,
    "start_time": "2022-01-06T17:32:29.290Z"
   },
   {
    "duration": 18,
    "start_time": "2022-01-06T17:33:19.372Z"
   },
   {
    "duration": 3,
    "start_time": "2022-01-06T17:33:45.011Z"
   },
   {
    "duration": 63,
    "start_time": "2022-01-06T17:33:45.149Z"
   },
   {
    "duration": 16,
    "start_time": "2022-01-06T17:33:45.517Z"
   },
   {
    "duration": 46,
    "start_time": "2022-01-06T17:33:45.687Z"
   },
   {
    "duration": 7,
    "start_time": "2022-01-06T17:33:46.237Z"
   },
   {
    "duration": 14,
    "start_time": "2022-01-06T17:33:46.628Z"
   },
   {
    "duration": 6,
    "start_time": "2022-01-06T17:33:46.834Z"
   },
   {
    "duration": 6,
    "start_time": "2022-01-06T17:33:47.278Z"
   },
   {
    "duration": 12,
    "start_time": "2022-01-06T17:33:47.863Z"
   },
   {
    "duration": 11,
    "start_time": "2022-01-06T17:33:48.047Z"
   },
   {
    "duration": 10,
    "start_time": "2022-01-06T17:33:48.577Z"
   },
   {
    "duration": 12,
    "start_time": "2022-01-06T17:33:48.763Z"
   },
   {
    "duration": 12,
    "start_time": "2022-01-06T17:33:49.412Z"
   },
   {
    "duration": 7,
    "start_time": "2022-01-06T17:33:49.803Z"
   },
   {
    "duration": 19,
    "start_time": "2022-01-06T17:33:50.221Z"
   },
   {
    "duration": 22,
    "start_time": "2022-01-06T17:33:50.438Z"
   },
   {
    "duration": 8,
    "start_time": "2022-01-06T17:33:50.983Z"
   },
   {
    "duration": 12,
    "start_time": "2022-01-06T17:33:51.330Z"
   },
   {
    "duration": 44,
    "start_time": "2022-01-06T17:34:47.768Z"
   },
   {
    "duration": 4,
    "start_time": "2022-01-06T17:38:10.407Z"
   },
   {
    "duration": 61,
    "start_time": "2022-01-06T17:38:10.724Z"
   },
   {
    "duration": 14,
    "start_time": "2022-01-06T17:38:11.181Z"
   },
   {
    "duration": 42,
    "start_time": "2022-01-06T17:38:11.396Z"
   },
   {
    "duration": 7,
    "start_time": "2022-01-06T17:38:12.125Z"
   },
   {
    "duration": 13,
    "start_time": "2022-01-06T17:38:12.534Z"
   },
   {
    "duration": 6,
    "start_time": "2022-01-06T17:38:12.831Z"
   },
   {
    "duration": 6,
    "start_time": "2022-01-06T17:38:13.526Z"
   },
   {
    "duration": 12,
    "start_time": "2022-01-06T17:38:14.155Z"
   },
   {
    "duration": 11,
    "start_time": "2022-01-06T17:38:14.493Z"
   },
   {
    "duration": 11,
    "start_time": "2022-01-06T17:38:15.105Z"
   },
   {
    "duration": 11,
    "start_time": "2022-01-06T17:38:15.435Z"
   },
   {
    "duration": 11,
    "start_time": "2022-01-06T17:38:16.091Z"
   },
   {
    "duration": 8,
    "start_time": "2022-01-06T17:38:16.634Z"
   },
   {
    "duration": 6,
    "start_time": "2022-01-06T17:38:17.115Z"
   },
   {
    "duration": 7,
    "start_time": "2022-01-06T17:38:21.188Z"
   },
   {
    "duration": 13,
    "start_time": "2022-01-06T17:38:23.288Z"
   },
   {
    "duration": 13,
    "start_time": "2022-01-06T17:38:47.974Z"
   },
   {
    "duration": 5,
    "start_time": "2022-01-06T17:38:52.004Z"
   },
   {
    "duration": 13,
    "start_time": "2022-01-06T17:38:54.352Z"
   },
   {
    "duration": 13,
    "start_time": "2022-01-06T17:39:10.957Z"
   },
   {
    "duration": 7,
    "start_time": "2022-01-06T17:39:27.188Z"
   },
   {
    "duration": 5,
    "start_time": "2022-01-06T17:39:30.380Z"
   },
   {
    "duration": 7,
    "start_time": "2022-01-06T17:39:32.324Z"
   },
   {
    "duration": 15,
    "start_time": "2022-01-06T17:39:32.864Z"
   },
   {
    "duration": 790,
    "start_time": "2022-01-06T17:39:56.966Z"
   },
   {
    "duration": 76,
    "start_time": "2022-01-06T17:39:57.759Z"
   },
   {
    "duration": 14,
    "start_time": "2022-01-06T17:39:57.838Z"
   },
   {
    "duration": 44,
    "start_time": "2022-01-06T17:39:57.868Z"
   },
   {
    "duration": 7,
    "start_time": "2022-01-06T17:39:57.915Z"
   },
   {
    "duration": 41,
    "start_time": "2022-01-06T17:39:57.925Z"
   },
   {
    "duration": 6,
    "start_time": "2022-01-06T17:39:57.969Z"
   },
   {
    "duration": 7,
    "start_time": "2022-01-06T17:39:57.978Z"
   },
   {
    "duration": 13,
    "start_time": "2022-01-06T17:39:57.990Z"
   },
   {
    "duration": 11,
    "start_time": "2022-01-06T17:39:58.006Z"
   },
   {
    "duration": 52,
    "start_time": "2022-01-06T17:39:58.020Z"
   },
   {
    "duration": 11,
    "start_time": "2022-01-06T17:39:58.074Z"
   },
   {
    "duration": 13,
    "start_time": "2022-01-06T17:39:58.088Z"
   },
   {
    "duration": 7,
    "start_time": "2022-01-06T17:39:58.104Z"
   },
   {
    "duration": 6,
    "start_time": "2022-01-06T17:39:58.113Z"
   },
   {
    "duration": 48,
    "start_time": "2022-01-06T17:39:58.121Z"
   },
   {
    "duration": 14,
    "start_time": "2022-01-06T17:39:58.171Z"
   },
   {
    "duration": 7,
    "start_time": "2022-01-06T17:39:58.187Z"
   },
   {
    "duration": 12,
    "start_time": "2022-01-06T17:39:58.196Z"
   },
   {
    "duration": 10,
    "start_time": "2022-01-06T17:39:58.211Z"
   },
   {
    "duration": 51,
    "start_time": "2022-01-06T17:39:58.223Z"
   },
   {
    "duration": 6,
    "start_time": "2022-01-06T17:39:58.277Z"
   },
   {
    "duration": 11,
    "start_time": "2022-01-06T17:39:58.285Z"
   },
   {
    "duration": 18,
    "start_time": "2022-01-06T17:39:58.298Z"
   },
   {
    "duration": 55,
    "start_time": "2022-01-06T17:39:58.318Z"
   },
   {
    "duration": 32,
    "start_time": "2022-01-06T17:39:58.376Z"
   },
   {
    "duration": 8,
    "start_time": "2022-01-06T17:39:58.415Z"
   },
   {
    "duration": 47,
    "start_time": "2022-01-06T17:39:58.428Z"
   },
   {
    "duration": 34,
    "start_time": "2022-01-06T17:39:58.478Z"
   },
   {
    "duration": 10,
    "start_time": "2022-01-06T17:39:58.514Z"
   },
   {
    "duration": 40,
    "start_time": "2022-01-06T17:39:58.527Z"
   },
   {
    "duration": 5100,
    "start_time": "2022-01-06T17:39:58.569Z"
   },
   {
    "duration": 37,
    "start_time": "2022-01-06T17:40:03.672Z"
   },
   {
    "duration": 14,
    "start_time": "2022-01-06T17:40:03.711Z"
   },
   {
    "duration": 48,
    "start_time": "2022-01-06T17:40:03.728Z"
   },
   {
    "duration": 28,
    "start_time": "2022-01-06T17:40:03.779Z"
   },
   {
    "duration": 16,
    "start_time": "2022-01-06T17:40:03.809Z"
   },
   {
    "duration": 10,
    "start_time": "2022-01-06T17:40:03.827Z"
   },
   {
    "duration": 12,
    "start_time": "2022-01-06T17:40:03.868Z"
   },
   {
    "duration": 211,
    "start_time": "2022-01-06T17:40:03.882Z"
   },
   {
    "duration": 195,
    "start_time": "2022-01-06T17:40:04.095Z"
   },
   {
    "duration": 210,
    "start_time": "2022-01-06T17:40:04.292Z"
   },
   {
    "duration": 212,
    "start_time": "2022-01-06T17:40:04.504Z"
   },
   {
    "duration": 285,
    "start_time": "2022-01-06T17:40:04.719Z"
   },
   {
    "duration": 195,
    "start_time": "2022-01-06T17:40:05.006Z"
   },
   {
    "duration": 201,
    "start_time": "2022-01-06T17:40:05.203Z"
   },
   {
    "duration": 209,
    "start_time": "2022-01-06T17:40:05.407Z"
   },
   {
    "duration": 218,
    "start_time": "2022-01-06T17:40:05.619Z"
   },
   {
    "duration": 189,
    "start_time": "2022-01-06T17:40:05.840Z"
   },
   {
    "duration": 258,
    "start_time": "2022-01-06T17:40:06.031Z"
   },
   {
    "duration": 185,
    "start_time": "2022-01-06T17:40:06.292Z"
   },
   {
    "duration": 10,
    "start_time": "2022-01-06T17:40:06.480Z"
   },
   {
    "duration": 503,
    "start_time": "2022-01-06T17:40:06.493Z"
   },
   {
    "duration": 992,
    "start_time": "2022-01-06T17:40:06.998Z"
   },
   {
    "duration": -568,
    "start_time": "2022-01-06T17:40:08.561Z"
   },
   {
    "duration": -571,
    "start_time": "2022-01-06T17:40:08.566Z"
   },
   {
    "duration": -573,
    "start_time": "2022-01-06T17:40:08.569Z"
   },
   {
    "duration": -573,
    "start_time": "2022-01-06T17:40:08.571Z"
   },
   {
    "duration": -575,
    "start_time": "2022-01-06T17:40:08.574Z"
   },
   {
    "duration": -575,
    "start_time": "2022-01-06T17:40:08.576Z"
   },
   {
    "duration": -576,
    "start_time": "2022-01-06T17:40:08.578Z"
   },
   {
    "duration": -577,
    "start_time": "2022-01-06T17:40:08.581Z"
   },
   {
    "duration": -579,
    "start_time": "2022-01-06T17:40:08.584Z"
   },
   {
    "duration": -580,
    "start_time": "2022-01-06T17:40:08.586Z"
   },
   {
    "duration": -580,
    "start_time": "2022-01-06T17:40:08.588Z"
   },
   {
    "duration": -580,
    "start_time": "2022-01-06T17:40:08.590Z"
   },
   {
    "duration": -581,
    "start_time": "2022-01-06T17:40:08.592Z"
   },
   {
    "duration": -583,
    "start_time": "2022-01-06T17:40:08.595Z"
   },
   {
    "duration": -583,
    "start_time": "2022-01-06T17:40:08.597Z"
   },
   {
    "duration": -585,
    "start_time": "2022-01-06T17:40:08.600Z"
   },
   {
    "duration": -586,
    "start_time": "2022-01-06T17:40:08.602Z"
   },
   {
    "duration": -587,
    "start_time": "2022-01-06T17:40:08.604Z"
   },
   {
    "duration": -588,
    "start_time": "2022-01-06T17:40:08.607Z"
   },
   {
    "duration": -589,
    "start_time": "2022-01-06T17:40:08.609Z"
   },
   {
    "duration": -590,
    "start_time": "2022-01-06T17:40:08.611Z"
   },
   {
    "duration": -592,
    "start_time": "2022-01-06T17:40:08.614Z"
   },
   {
    "duration": -592,
    "start_time": "2022-01-06T17:40:08.616Z"
   },
   {
    "duration": -550,
    "start_time": "2022-01-06T17:40:08.618Z"
   },
   {
    "duration": -550,
    "start_time": "2022-01-06T17:40:08.620Z"
   },
   {
    "duration": -552,
    "start_time": "2022-01-06T17:40:08.623Z"
   },
   {
    "duration": 298,
    "start_time": "2022-01-06T17:41:30.566Z"
   },
   {
    "duration": 12,
    "start_time": "2022-01-06T17:41:53.523Z"
   },
   {
    "duration": 6433,
    "start_time": "2022-01-06T17:41:56.097Z"
   },
   {
    "duration": 34,
    "start_time": "2022-01-06T17:42:02.533Z"
   },
   {
    "duration": 7,
    "start_time": "2022-01-06T17:42:02.570Z"
   },
   {
    "duration": 1516,
    "start_time": "2022-01-06T17:42:02.580Z"
   },
   {
    "duration": 23,
    "start_time": "2022-01-06T17:42:04.099Z"
   },
   {
    "duration": 46,
    "start_time": "2022-01-06T17:42:04.124Z"
   },
   {
    "duration": 22,
    "start_time": "2022-01-06T17:42:04.172Z"
   },
   {
    "duration": 24,
    "start_time": "2022-01-06T17:42:04.197Z"
   },
   {
    "duration": 454,
    "start_time": "2022-01-06T17:42:04.223Z"
   },
   {
    "duration": 536,
    "start_time": "2022-01-06T17:42:04.680Z"
   },
   {
    "duration": 395,
    "start_time": "2022-01-06T17:42:05.219Z"
   },
   {
    "duration": 9,
    "start_time": "2022-01-06T17:42:05.616Z"
   },
   {
    "duration": 10,
    "start_time": "2022-01-06T17:42:05.628Z"
   },
   {
    "duration": 28,
    "start_time": "2022-01-06T17:42:05.641Z"
   },
   {
    "duration": 11,
    "start_time": "2022-01-06T17:42:05.671Z"
   },
   {
    "duration": 288,
    "start_time": "2022-01-06T17:42:05.685Z"
   },
   {
    "duration": -68,
    "start_time": "2022-01-06T17:42:06.044Z"
   },
   {
    "duration": -71,
    "start_time": "2022-01-06T17:42:06.048Z"
   },
   {
    "duration": -73,
    "start_time": "2022-01-06T17:42:06.051Z"
   },
   {
    "duration": -78,
    "start_time": "2022-01-06T17:42:06.058Z"
   },
   {
    "duration": -80,
    "start_time": "2022-01-06T17:42:06.061Z"
   },
   {
    "duration": 495,
    "start_time": "2022-01-06T17:42:06.148Z"
   },
   {
    "duration": 280,
    "start_time": "2022-01-06T17:42:06.645Z"
   },
   {
    "duration": -19,
    "start_time": "2022-01-06T17:42:06.946Z"
   },
   {
    "duration": 13,
    "start_time": "2022-01-06T17:42:07.229Z"
   },
   {
    "duration": 9,
    "start_time": "2022-01-06T17:42:07.431Z"
   },
   {
    "duration": 296,
    "start_time": "2022-01-06T17:42:39.857Z"
   },
   {
    "duration": 296,
    "start_time": "2022-01-06T17:42:59.552Z"
   },
   {
    "duration": 12,
    "start_time": "2022-01-06T17:43:05.063Z"
   },
   {
    "duration": 6,
    "start_time": "2022-01-06T17:43:09.806Z"
   },
   {
    "duration": 6,
    "start_time": "2022-01-06T17:43:10.541Z"
   },
   {
    "duration": 9,
    "start_time": "2022-01-06T17:46:11.226Z"
   },
   {
    "duration": 11,
    "start_time": "2022-01-06T17:46:12.458Z"
   },
   {
    "duration": 5,
    "start_time": "2022-01-06T17:46:12.947Z"
   },
   {
    "duration": 452,
    "start_time": "2022-01-06T17:46:18.239Z"
   },
   {
    "duration": 293,
    "start_time": "2022-01-06T17:46:48.860Z"
   },
   {
    "duration": 11,
    "start_time": "2022-01-06T17:46:49.544Z"
   },
   {
    "duration": 316,
    "start_time": "2022-01-06T17:47:05.541Z"
   },
   {
    "duration": 11,
    "start_time": "2022-01-06T17:47:17.196Z"
   },
   {
    "duration": 12,
    "start_time": "2022-01-06T17:47:19.013Z"
   },
   {
    "duration": 5,
    "start_time": "2022-01-06T17:47:20.060Z"
   },
   {
    "duration": 6,
    "start_time": "2022-01-06T17:47:21.391Z"
   },
   {
    "duration": 6,
    "start_time": "2022-01-06T17:47:29.681Z"
   },
   {
    "duration": 7,
    "start_time": "2022-01-06T17:47:33.691Z"
   },
   {
    "duration": 4,
    "start_time": "2022-01-06T17:47:38.498Z"
   },
   {
    "duration": 4,
    "start_time": "2022-01-06T17:47:39.086Z"
   },
   {
    "duration": 5,
    "start_time": "2022-01-06T17:47:39.648Z"
   },
   {
    "duration": 4,
    "start_time": "2022-01-06T17:47:40.508Z"
   },
   {
    "duration": 5,
    "start_time": "2022-01-06T17:50:13.136Z"
   },
   {
    "duration": 11,
    "start_time": "2022-01-06T17:51:19.996Z"
   },
   {
    "duration": 11,
    "start_time": "2022-01-06T17:51:20.345Z"
   },
   {
    "duration": 5,
    "start_time": "2022-01-06T17:51:20.918Z"
   },
   {
    "duration": 6,
    "start_time": "2022-01-06T17:51:21.246Z"
   },
   {
    "duration": 6,
    "start_time": "2022-01-06T17:51:21.828Z"
   },
   {
    "duration": 5,
    "start_time": "2022-01-06T17:51:22.536Z"
   },
   {
    "duration": 5,
    "start_time": "2022-01-06T17:51:23.939Z"
   },
   {
    "duration": 5,
    "start_time": "2022-01-06T17:51:24.557Z"
   },
   {
    "duration": 6,
    "start_time": "2022-01-06T17:51:25.178Z"
   },
   {
    "duration": 5,
    "start_time": "2022-01-06T17:51:26.204Z"
   },
   {
    "duration": 11,
    "start_time": "2022-01-06T17:51:40.728Z"
   },
   {
    "duration": 12,
    "start_time": "2022-01-06T17:51:40.989Z"
   },
   {
    "duration": 5,
    "start_time": "2022-01-06T17:51:41.225Z"
   },
   {
    "duration": 6,
    "start_time": "2022-01-06T17:51:41.436Z"
   },
   {
    "duration": 6,
    "start_time": "2022-01-06T17:51:41.635Z"
   },
   {
    "duration": 6,
    "start_time": "2022-01-06T17:51:41.836Z"
   },
   {
    "duration": 4,
    "start_time": "2022-01-06T17:51:42.221Z"
   },
   {
    "duration": 4,
    "start_time": "2022-01-06T17:51:42.470Z"
   },
   {
    "duration": 6,
    "start_time": "2022-01-06T17:51:42.665Z"
   },
   {
    "duration": 5,
    "start_time": "2022-01-06T17:51:42.918Z"
   },
   {
    "duration": 3,
    "start_time": "2022-01-06T17:51:43.078Z"
   },
   {
    "duration": 10,
    "start_time": "2022-01-06T17:52:05.938Z"
   },
   {
    "duration": 10,
    "start_time": "2022-01-06T17:52:06.241Z"
   },
   {
    "duration": 5,
    "start_time": "2022-01-06T17:52:06.506Z"
   },
   {
    "duration": 5,
    "start_time": "2022-01-06T17:52:06.681Z"
   },
   {
    "duration": 5,
    "start_time": "2022-01-06T17:52:06.856Z"
   },
   {
    "duration": 5,
    "start_time": "2022-01-06T17:52:07.416Z"
   },
   {
    "duration": 5,
    "start_time": "2022-01-06T17:52:07.501Z"
   },
   {
    "duration": 4,
    "start_time": "2022-01-06T17:52:07.744Z"
   },
   {
    "duration": 5,
    "start_time": "2022-01-06T17:52:07.972Z"
   },
   {
    "duration": 5,
    "start_time": "2022-01-06T17:52:09.566Z"
   },
   {
    "duration": 3,
    "start_time": "2022-01-06T17:52:10.766Z"
   },
   {
    "duration": 5,
    "start_time": "2022-01-06T17:52:11.358Z"
   },
   {
    "duration": 5,
    "start_time": "2022-01-06T17:52:12.258Z"
   },
   {
    "duration": 10,
    "start_time": "2022-01-06T17:52:16.678Z"
   },
   {
    "duration": 9,
    "start_time": "2022-01-06T17:52:17.019Z"
   },
   {
    "duration": 31,
    "start_time": "2022-01-06T17:56:36.908Z"
   },
   {
    "duration": 7,
    "start_time": "2022-01-06T17:57:47.971Z"
   },
   {
    "duration": 9,
    "start_time": "2022-01-06T17:58:44.238Z"
   },
   {
    "duration": 9,
    "start_time": "2022-01-06T17:58:44.466Z"
   },
   {
    "duration": 5,
    "start_time": "2022-01-06T17:58:44.780Z"
   },
   {
    "duration": 6,
    "start_time": "2022-01-06T17:58:45.094Z"
   },
   {
    "duration": 5,
    "start_time": "2022-01-06T17:58:45.584Z"
   },
   {
    "duration": 6,
    "start_time": "2022-01-06T17:58:45.877Z"
   },
   {
    "duration": 5,
    "start_time": "2022-01-06T17:58:46.418Z"
   },
   {
    "duration": 4,
    "start_time": "2022-01-06T17:58:46.606Z"
   },
   {
    "duration": 6,
    "start_time": "2022-01-06T17:58:46.837Z"
   },
   {
    "duration": 5,
    "start_time": "2022-01-06T17:58:47.061Z"
   },
   {
    "duration": 4,
    "start_time": "2022-01-06T17:58:47.265Z"
   },
   {
    "duration": 5,
    "start_time": "2022-01-06T17:58:47.460Z"
   },
   {
    "duration": 5,
    "start_time": "2022-01-06T17:58:47.645Z"
   },
   {
    "duration": 7,
    "start_time": "2022-01-06T17:58:50.561Z"
   },
   {
    "duration": 7,
    "start_time": "2022-01-06T18:04:27.768Z"
   },
   {
    "duration": 6,
    "start_time": "2022-01-06T18:04:27.941Z"
   },
   {
    "duration": 7,
    "start_time": "2022-01-06T18:04:28.106Z"
   },
   {
    "duration": 8,
    "start_time": "2022-01-06T18:04:28.296Z"
   },
   {
    "duration": 7,
    "start_time": "2022-01-06T18:04:28.518Z"
   },
   {
    "duration": 7,
    "start_time": "2022-01-06T18:04:28.626Z"
   },
   {
    "duration": 7,
    "start_time": "2022-01-06T18:04:28.772Z"
   },
   {
    "duration": 7,
    "start_time": "2022-01-06T18:04:28.966Z"
   },
   {
    "duration": 7,
    "start_time": "2022-01-06T18:04:29.118Z"
   },
   {
    "duration": 713,
    "start_time": "2022-01-06T18:04:29.281Z"
   },
   {
    "duration": 3,
    "start_time": "2022-01-06T18:04:29.994Z"
   },
   {
    "duration": 2,
    "start_time": "2022-01-06T18:04:29.997Z"
   },
   {
    "duration": 1193,
    "start_time": "2022-01-06T18:04:49.076Z"
   },
   {
    "duration": 1128,
    "start_time": "2022-01-06T18:05:58.438Z"
   },
   {
    "duration": 7,
    "start_time": "2022-01-06T18:06:03.889Z"
   },
   {
    "duration": 7,
    "start_time": "2022-01-06T18:06:05.936Z"
   },
   {
    "duration": 6,
    "start_time": "2022-01-06T18:06:06.678Z"
   },
   {
    "duration": 7,
    "start_time": "2022-01-06T18:08:47.900Z"
   },
   {
    "duration": 7,
    "start_time": "2022-01-06T18:08:48.380Z"
   },
   {
    "duration": 8,
    "start_time": "2022-01-06T18:09:02.056Z"
   },
   {
    "duration": 289,
    "start_time": "2022-01-06T18:09:06.900Z"
   },
   {
    "duration": 279,
    "start_time": "2022-01-06T18:09:18.931Z"
   },
   {
    "duration": 9,
    "start_time": "2022-01-06T18:09:47.512Z"
   },
   {
    "duration": 95,
    "start_time": "2022-01-06T18:09:59.287Z"
   },
   {
    "duration": 324,
    "start_time": "2022-01-06T18:09:59.811Z"
   },
   {
    "duration": 9,
    "start_time": "2022-01-06T18:10:14.937Z"
   },
   {
    "duration": 97,
    "start_time": "2022-01-06T18:10:15.645Z"
   },
   {
    "duration": 13,
    "start_time": "2022-01-06T18:10:26.558Z"
   },
   {
    "duration": 6,
    "start_time": "2022-01-06T18:10:28.616Z"
   },
   {
    "duration": 6,
    "start_time": "2022-01-06T18:10:48.536Z"
   },
   {
    "duration": 6,
    "start_time": "2022-01-06T18:11:09.860Z"
   },
   {
    "duration": 5,
    "start_time": "2022-01-06T18:15:35.379Z"
   },
   {
    "duration": 5,
    "start_time": "2022-01-06T18:15:44.268Z"
   },
   {
    "duration": 5,
    "start_time": "2022-01-06T18:15:48.029Z"
   },
   {
    "duration": 9,
    "start_time": "2022-01-06T18:17:56.309Z"
   },
   {
    "duration": 10,
    "start_time": "2022-01-06T18:17:56.659Z"
   },
   {
    "duration": 5,
    "start_time": "2022-01-06T18:17:56.896Z"
   },
   {
    "duration": 5,
    "start_time": "2022-01-06T18:17:57.198Z"
   },
   {
    "duration": 6,
    "start_time": "2022-01-06T18:17:57.723Z"
   },
   {
    "duration": 6,
    "start_time": "2022-01-06T18:17:58.377Z"
   },
   {
    "duration": 5,
    "start_time": "2022-01-06T18:18:08.680Z"
   },
   {
    "duration": 5,
    "start_time": "2022-01-06T18:18:09.111Z"
   },
   {
    "duration": 5,
    "start_time": "2022-01-06T18:18:09.497Z"
   },
   {
    "duration": 275,
    "start_time": "2022-01-06T18:18:28.048Z"
   },
   {
    "duration": 6,
    "start_time": "2022-01-06T18:18:55.117Z"
   },
   {
    "duration": 263,
    "start_time": "2022-01-06T18:19:06.834Z"
   },
   {
    "duration": 5,
    "start_time": "2022-01-06T18:21:50.478Z"
   },
   {
    "duration": 5,
    "start_time": "2022-01-06T18:22:03.658Z"
   },
   {
    "duration": 7,
    "start_time": "2022-01-06T18:23:01.247Z"
   },
   {
    "duration": 7,
    "start_time": "2022-01-06T18:23:15.866Z"
   },
   {
    "duration": 9,
    "start_time": "2022-01-06T18:26:06.139Z"
   },
   {
    "duration": 9,
    "start_time": "2022-01-06T18:26:06.298Z"
   },
   {
    "duration": 5,
    "start_time": "2022-01-06T18:26:06.469Z"
   },
   {
    "duration": 5,
    "start_time": "2022-01-06T18:26:06.660Z"
   },
   {
    "duration": 6,
    "start_time": "2022-01-06T18:26:06.817Z"
   },
   {
    "duration": 4,
    "start_time": "2022-01-06T18:26:07.021Z"
   },
   {
    "duration": 5,
    "start_time": "2022-01-06T18:26:07.360Z"
   },
   {
    "duration": 4,
    "start_time": "2022-01-06T18:26:07.610Z"
   },
   {
    "duration": 6,
    "start_time": "2022-01-06T18:26:07.944Z"
   },
   {
    "duration": 6,
    "start_time": "2022-01-06T18:26:08.299Z"
   },
   {
    "duration": 4,
    "start_time": "2022-01-06T18:26:08.576Z"
   },
   {
    "duration": 274,
    "start_time": "2022-01-06T18:26:11.076Z"
   },
   {
    "duration": 4,
    "start_time": "2022-01-06T18:26:11.449Z"
   },
   {
    "duration": 7,
    "start_time": "2022-01-06T18:26:31.898Z"
   },
   {
    "duration": 10,
    "start_time": "2022-01-06T18:26:33.995Z"
   },
   {
    "duration": 10,
    "start_time": "2022-01-06T18:27:22.119Z"
   },
   {
    "duration": 9,
    "start_time": "2022-01-06T18:27:22.299Z"
   },
   {
    "duration": 5,
    "start_time": "2022-01-06T18:27:22.448Z"
   },
   {
    "duration": 6,
    "start_time": "2022-01-06T18:27:22.617Z"
   },
   {
    "duration": 5,
    "start_time": "2022-01-06T18:27:22.774Z"
   },
   {
    "duration": 5,
    "start_time": "2022-01-06T18:27:22.975Z"
   },
   {
    "duration": 4,
    "start_time": "2022-01-06T18:27:23.301Z"
   },
   {
    "duration": 4,
    "start_time": "2022-01-06T18:27:23.483Z"
   },
   {
    "duration": 8,
    "start_time": "2022-01-06T18:27:23.663Z"
   },
   {
    "duration": 7,
    "start_time": "2022-01-06T18:27:23.850Z"
   },
   {
    "duration": 3,
    "start_time": "2022-01-06T18:27:24.097Z"
   },
   {
    "duration": 5,
    "start_time": "2022-01-06T18:27:24.299Z"
   },
   {
    "duration": 7,
    "start_time": "2022-01-06T18:27:25.109Z"
   },
   {
    "duration": 5,
    "start_time": "2022-01-06T18:27:35.519Z"
   },
   {
    "duration": 8,
    "start_time": "2022-01-06T18:29:00.577Z"
   },
   {
    "duration": 9,
    "start_time": "2022-01-06T18:29:01.298Z"
   },
   {
    "duration": 6,
    "start_time": "2022-01-06T18:29:01.956Z"
   },
   {
    "duration": 5,
    "start_time": "2022-01-06T18:29:03.577Z"
   },
   {
    "duration": 4,
    "start_time": "2022-01-06T18:30:34.695Z"
   },
   {
    "duration": 5,
    "start_time": "2022-01-06T18:30:35.138Z"
   },
   {
    "duration": 5,
    "start_time": "2022-01-06T18:30:35.408Z"
   },
   {
    "duration": 9,
    "start_time": "2022-01-06T18:30:36.464Z"
   },
   {
    "duration": 10,
    "start_time": "2022-01-06T18:30:36.685Z"
   },
   {
    "duration": 5,
    "start_time": "2022-01-06T18:30:36.909Z"
   },
   {
    "duration": 6,
    "start_time": "2022-01-06T18:30:37.779Z"
   },
   {
    "duration": 281,
    "start_time": "2022-01-06T18:31:04.350Z"
   },
   {
    "duration": 10,
    "start_time": "2022-01-06T18:31:24.449Z"
   },
   {
    "duration": 9,
    "start_time": "2022-01-06T18:31:24.980Z"
   },
   {
    "duration": 7,
    "start_time": "2022-01-06T18:31:25.597Z"
   },
   {
    "duration": 7,
    "start_time": "2022-01-06T18:31:36.200Z"
   },
   {
    "duration": 4,
    "start_time": "2022-01-06T18:33:37.518Z"
   },
   {
    "duration": 262,
    "start_time": "2022-01-06T18:34:58.953Z"
   },
   {
    "duration": 5,
    "start_time": "2022-01-06T18:37:02.200Z"
   },
   {
    "duration": 14,
    "start_time": "2022-01-06T18:37:16.292Z"
   },
   {
    "duration": 6,
    "start_time": "2022-01-06T18:37:22.364Z"
   },
   {
    "duration": 283,
    "start_time": "2022-01-06T18:37:39.842Z"
   },
   {
    "duration": 10,
    "start_time": "2022-01-06T18:38:04.339Z"
   },
   {
    "duration": 5,
    "start_time": "2022-01-06T18:38:36.916Z"
   },
   {
    "duration": 4,
    "start_time": "2022-01-06T18:39:24.358Z"
   },
   {
    "duration": 5,
    "start_time": "2022-01-06T18:41:20.330Z"
   },
   {
    "duration": 5,
    "start_time": "2022-01-06T18:44:56.501Z"
   },
   {
    "duration": 6,
    "start_time": "2022-01-06T18:44:57.336Z"
   },
   {
    "duration": 5,
    "start_time": "2022-01-06T18:45:42.488Z"
   },
   {
    "duration": 5,
    "start_time": "2022-01-06T18:45:43.275Z"
   },
   {
    "duration": 5,
    "start_time": "2022-01-06T18:45:48.785Z"
   },
   {
    "duration": 6,
    "start_time": "2022-01-06T18:45:49.427Z"
   },
   {
    "duration": 5,
    "start_time": "2022-01-06T18:45:55.527Z"
   },
   {
    "duration": 5,
    "start_time": "2022-01-06T19:11:03.261Z"
   },
   {
    "duration": 5,
    "start_time": "2022-01-06T19:13:02.678Z"
   },
   {
    "duration": 5,
    "start_time": "2022-01-06T19:14:55.348Z"
   },
   {
    "duration": 5,
    "start_time": "2022-01-06T19:14:56.176Z"
   },
   {
    "duration": 5,
    "start_time": "2022-01-06T19:20:55.420Z"
   },
   {
    "duration": 5,
    "start_time": "2022-01-06T19:21:05.537Z"
   },
   {
    "duration": 5,
    "start_time": "2022-01-06T19:21:10.440Z"
   },
   {
    "duration": 4,
    "start_time": "2022-01-06T19:21:16.266Z"
   },
   {
    "duration": 5,
    "start_time": "2022-01-06T19:21:23.405Z"
   },
   {
    "duration": 4,
    "start_time": "2022-01-06T19:30:15.250Z"
   },
   {
    "duration": 5,
    "start_time": "2022-01-06T19:30:38.189Z"
   },
   {
    "duration": 792,
    "start_time": "2022-01-07T06:20:29.078Z"
   },
   {
    "duration": 72,
    "start_time": "2022-01-07T06:20:29.873Z"
   },
   {
    "duration": 15,
    "start_time": "2022-01-07T06:20:29.948Z"
   },
   {
    "duration": 42,
    "start_time": "2022-01-07T06:20:29.965Z"
   },
   {
    "duration": 6,
    "start_time": "2022-01-07T06:20:30.010Z"
   },
   {
    "duration": 46,
    "start_time": "2022-01-07T06:20:30.018Z"
   },
   {
    "duration": 9,
    "start_time": "2022-01-07T06:20:30.067Z"
   },
   {
    "duration": 10,
    "start_time": "2022-01-07T06:20:30.079Z"
   },
   {
    "duration": 12,
    "start_time": "2022-01-07T06:20:30.093Z"
   },
   {
    "duration": 9,
    "start_time": "2022-01-07T06:20:30.108Z"
   },
   {
    "duration": 44,
    "start_time": "2022-01-07T06:20:30.119Z"
   },
   {
    "duration": 10,
    "start_time": "2022-01-07T06:20:30.165Z"
   },
   {
    "duration": 11,
    "start_time": "2022-01-07T06:20:30.178Z"
   },
   {
    "duration": 9,
    "start_time": "2022-01-07T06:20:30.192Z"
   },
   {
    "duration": 8,
    "start_time": "2022-01-07T06:20:30.203Z"
   },
   {
    "duration": 8,
    "start_time": "2022-01-07T06:20:30.213Z"
   },
   {
    "duration": 12,
    "start_time": "2022-01-07T06:20:30.260Z"
   },
   {
    "duration": 7,
    "start_time": "2022-01-07T06:20:30.274Z"
   },
   {
    "duration": 11,
    "start_time": "2022-01-07T06:20:30.284Z"
   },
   {
    "duration": 9,
    "start_time": "2022-01-07T06:20:30.297Z"
   },
   {
    "duration": 57,
    "start_time": "2022-01-07T06:20:30.308Z"
   },
   {
    "duration": 6,
    "start_time": "2022-01-07T06:20:30.368Z"
   },
   {
    "duration": 11,
    "start_time": "2022-01-07T06:20:30.376Z"
   },
   {
    "duration": 20,
    "start_time": "2022-01-07T06:20:30.390Z"
   },
   {
    "duration": 7,
    "start_time": "2022-01-07T06:20:30.412Z"
   },
   {
    "duration": 36,
    "start_time": "2022-01-07T06:20:30.459Z"
   },
   {
    "duration": 11,
    "start_time": "2022-01-07T06:20:30.504Z"
   },
   {
    "duration": 46,
    "start_time": "2022-01-07T06:20:30.519Z"
   },
   {
    "duration": 52,
    "start_time": "2022-01-07T06:20:30.567Z"
   },
   {
    "duration": 11,
    "start_time": "2022-01-07T06:20:30.621Z"
   },
   {
    "duration": 14,
    "start_time": "2022-01-07T06:20:30.634Z"
   },
   {
    "duration": 4819,
    "start_time": "2022-01-07T06:20:30.658Z"
   },
   {
    "duration": 33,
    "start_time": "2022-01-07T06:20:35.480Z"
   },
   {
    "duration": 11,
    "start_time": "2022-01-07T06:20:35.515Z"
   },
   {
    "duration": 36,
    "start_time": "2022-01-07T06:20:35.528Z"
   },
   {
    "duration": 21,
    "start_time": "2022-01-07T06:20:35.566Z"
   },
   {
    "duration": 14,
    "start_time": "2022-01-07T06:20:35.590Z"
   },
   {
    "duration": 8,
    "start_time": "2022-01-07T06:20:35.607Z"
   },
   {
    "duration": 41,
    "start_time": "2022-01-07T06:20:35.618Z"
   },
   {
    "duration": 191,
    "start_time": "2022-01-07T06:20:35.661Z"
   },
   {
    "duration": 182,
    "start_time": "2022-01-07T06:20:35.855Z"
   },
   {
    "duration": 206,
    "start_time": "2022-01-07T06:20:36.040Z"
   },
   {
    "duration": 212,
    "start_time": "2022-01-07T06:20:36.249Z"
   },
   {
    "duration": 252,
    "start_time": "2022-01-07T06:20:36.463Z"
   },
   {
    "duration": 191,
    "start_time": "2022-01-07T06:20:36.717Z"
   },
   {
    "duration": 196,
    "start_time": "2022-01-07T06:20:36.910Z"
   },
   {
    "duration": 191,
    "start_time": "2022-01-07T06:20:37.109Z"
   },
   {
    "duration": 212,
    "start_time": "2022-01-07T06:20:37.302Z"
   },
   {
    "duration": 189,
    "start_time": "2022-01-07T06:20:37.516Z"
   },
   {
    "duration": 194,
    "start_time": "2022-01-07T06:20:37.707Z"
   },
   {
    "duration": 189,
    "start_time": "2022-01-07T06:20:37.903Z"
   },
   {
    "duration": 10,
    "start_time": "2022-01-07T06:20:38.094Z"
   },
   {
    "duration": 478,
    "start_time": "2022-01-07T06:20:38.107Z"
   },
   {
    "duration": 10,
    "start_time": "2022-01-07T06:20:38.587Z"
   },
   {
    "duration": 6118,
    "start_time": "2022-01-07T06:20:38.599Z"
   },
   {
    "duration": 14,
    "start_time": "2022-01-07T06:20:44.719Z"
   },
   {
    "duration": 27,
    "start_time": "2022-01-07T06:20:44.735Z"
   },
   {
    "duration": 1384,
    "start_time": "2022-01-07T06:20:44.764Z"
   },
   {
    "duration": 25,
    "start_time": "2022-01-07T06:20:46.150Z"
   },
   {
    "duration": 24,
    "start_time": "2022-01-07T06:20:46.177Z"
   },
   {
    "duration": 19,
    "start_time": "2022-01-07T06:20:46.203Z"
   },
   {
    "duration": 51,
    "start_time": "2022-01-07T06:20:46.225Z"
   },
   {
    "duration": 423,
    "start_time": "2022-01-07T06:20:46.279Z"
   },
   {
    "duration": 496,
    "start_time": "2022-01-07T06:20:46.705Z"
   },
   {
    "duration": 388,
    "start_time": "2022-01-07T06:20:47.203Z"
   },
   {
    "duration": 8,
    "start_time": "2022-01-07T06:20:47.594Z"
   },
   {
    "duration": 13,
    "start_time": "2022-01-07T06:20:47.604Z"
   },
   {
    "duration": 7,
    "start_time": "2022-01-07T06:20:47.619Z"
   },
   {
    "duration": 32,
    "start_time": "2022-01-07T06:20:47.629Z"
   },
   {
    "duration": 8,
    "start_time": "2022-01-07T06:20:47.664Z"
   },
   {
    "duration": 7,
    "start_time": "2022-01-07T06:20:47.675Z"
   },
   {
    "duration": 9,
    "start_time": "2022-01-07T06:20:47.684Z"
   },
   {
    "duration": 7,
    "start_time": "2022-01-07T06:20:47.695Z"
   },
   {
    "duration": 11,
    "start_time": "2022-01-07T06:20:47.704Z"
   },
   {
    "duration": 45,
    "start_time": "2022-01-07T06:20:47.717Z"
   },
   {
    "duration": 403,
    "start_time": "2022-01-07T06:20:47.764Z"
   },
   {
    "duration": 4,
    "start_time": "2022-01-07T06:20:48.169Z"
   },
   {
    "duration": 7,
    "start_time": "2022-01-07T06:20:48.176Z"
   },
   {
    "duration": 10,
    "start_time": "2022-01-07T06:20:48.185Z"
   },
   {
    "duration": 8,
    "start_time": "2022-01-07T06:20:48.198Z"
   },
   {
    "duration": 6,
    "start_time": "2022-01-07T06:20:48.215Z"
   },
   {
    "duration": 7,
    "start_time": "2022-01-07T06:20:48.259Z"
   },
   {
    "duration": 4,
    "start_time": "2022-01-07T06:20:48.268Z"
   },
   {
    "duration": 6,
    "start_time": "2022-01-07T06:20:48.274Z"
   },
   {
    "duration": 9,
    "start_time": "2022-01-07T06:20:48.283Z"
   },
   {
    "duration": 4,
    "start_time": "2022-01-07T06:20:48.294Z"
   },
   {
    "duration": 6,
    "start_time": "2022-01-07T06:20:48.300Z"
   },
   {
    "duration": 9,
    "start_time": "2022-01-07T06:27:47.635Z"
   },
   {
    "duration": 36,
    "start_time": "2022-01-07T06:29:39.397Z"
   },
   {
    "duration": 1674,
    "start_time": "2022-01-07T06:29:57.577Z"
   },
   {
    "duration": 10,
    "start_time": "2022-01-07T06:30:04.714Z"
   },
   {
    "duration": 599,
    "start_time": "2022-01-07T06:31:40.434Z"
   },
   {
    "duration": 568,
    "start_time": "2022-01-07T06:32:00.197Z"
   },
   {
    "duration": 47,
    "start_time": "2022-01-07T06:32:11.657Z"
   },
   {
    "duration": 35,
    "start_time": "2022-01-07T06:32:30.917Z"
   },
   {
    "duration": 494,
    "start_time": "2022-01-07T06:37:00.427Z"
   },
   {
    "duration": 15,
    "start_time": "2022-01-07T06:37:40.676Z"
   },
   {
    "duration": 35,
    "start_time": "2022-01-07T06:37:54.682Z"
   },
   {
    "duration": 14,
    "start_time": "2022-01-07T06:38:10.034Z"
   },
   {
    "duration": 4,
    "start_time": "2022-01-07T06:38:31.105Z"
   },
   {
    "duration": 65,
    "start_time": "2022-01-07T06:38:31.287Z"
   },
   {
    "duration": 14,
    "start_time": "2022-01-07T06:38:31.674Z"
   },
   {
    "duration": 43,
    "start_time": "2022-01-07T06:38:31.838Z"
   },
   {
    "duration": 8,
    "start_time": "2022-01-07T06:38:32.368Z"
   },
   {
    "duration": 12,
    "start_time": "2022-01-07T06:38:32.880Z"
   },
   {
    "duration": 8,
    "start_time": "2022-01-07T06:38:33.107Z"
   },
   {
    "duration": 6,
    "start_time": "2022-01-07T06:38:33.508Z"
   },
   {
    "duration": 11,
    "start_time": "2022-01-07T06:38:34.188Z"
   },
   {
    "duration": 11,
    "start_time": "2022-01-07T06:38:34.417Z"
   },
   {
    "duration": 10,
    "start_time": "2022-01-07T06:38:34.997Z"
   },
   {
    "duration": 11,
    "start_time": "2022-01-07T06:38:35.245Z"
   },
   {
    "duration": 11,
    "start_time": "2022-01-07T06:38:35.978Z"
   },
   {
    "duration": 8,
    "start_time": "2022-01-07T06:38:36.896Z"
   },
   {
    "duration": 7,
    "start_time": "2022-01-07T06:38:40.477Z"
   },
   {
    "duration": 500,
    "start_time": "2022-01-07T06:38:42.133Z"
   },
   {
    "duration": 467,
    "start_time": "2022-01-07T06:38:48.067Z"
   },
   {
    "duration": 529,
    "start_time": "2022-01-07T06:39:36.997Z"
   },
   {
    "duration": 6,
    "start_time": "2022-01-07T06:40:20.076Z"
   },
   {
    "duration": 747,
    "start_time": "2022-01-07T06:40:22.127Z"
   },
   {
    "duration": 7,
    "start_time": "2022-01-07T06:40:25.757Z"
   },
   {
    "duration": 12,
    "start_time": "2022-01-07T06:40:26.718Z"
   },
   {
    "duration": 444,
    "start_time": "2022-01-07T06:41:06.105Z"
   },
   {
    "duration": 29,
    "start_time": "2022-01-07T06:41:23.437Z"
   },
   {
    "duration": 385,
    "start_time": "2022-01-07T06:41:44.523Z"
   },
   {
    "duration": 393,
    "start_time": "2022-01-07T06:42:08.837Z"
   },
   {
    "duration": 392,
    "start_time": "2022-01-07T06:42:32.107Z"
   },
   {
    "duration": 379,
    "start_time": "2022-01-07T06:42:47.688Z"
   },
   {
    "duration": 776,
    "start_time": "2022-01-07T06:43:03.395Z"
   },
   {
    "duration": 75,
    "start_time": "2022-01-07T06:43:04.174Z"
   },
   {
    "duration": 20,
    "start_time": "2022-01-07T06:43:04.253Z"
   },
   {
    "duration": 44,
    "start_time": "2022-01-07T06:43:04.276Z"
   },
   {
    "duration": 7,
    "start_time": "2022-01-07T06:43:04.323Z"
   },
   {
    "duration": 13,
    "start_time": "2022-01-07T06:43:04.360Z"
   },
   {
    "duration": 10,
    "start_time": "2022-01-07T06:43:04.376Z"
   },
   {
    "duration": 17,
    "start_time": "2022-01-07T06:43:04.388Z"
   },
   {
    "duration": 19,
    "start_time": "2022-01-07T06:43:04.409Z"
   },
   {
    "duration": 36,
    "start_time": "2022-01-07T06:43:04.432Z"
   },
   {
    "duration": 19,
    "start_time": "2022-01-07T06:43:04.470Z"
   },
   {
    "duration": 10,
    "start_time": "2022-01-07T06:43:04.491Z"
   },
   {
    "duration": 24,
    "start_time": "2022-01-07T06:43:04.503Z"
   },
   {
    "duration": 10,
    "start_time": "2022-01-07T06:43:04.529Z"
   },
   {
    "duration": 20,
    "start_time": "2022-01-07T06:43:04.541Z"
   },
   {
    "duration": 538,
    "start_time": "2022-01-07T06:43:04.564Z"
   },
   {
    "duration": -1146,
    "start_time": "2022-01-07T06:43:06.254Z"
   },
   {
    "duration": -1149,
    "start_time": "2022-01-07T06:43:06.258Z"
   },
   {
    "duration": -1161,
    "start_time": "2022-01-07T06:43:06.271Z"
   },
   {
    "duration": -1162,
    "start_time": "2022-01-07T06:43:06.274Z"
   },
   {
    "duration": -1165,
    "start_time": "2022-01-07T06:43:06.278Z"
   },
   {
    "duration": -1174,
    "start_time": "2022-01-07T06:43:06.288Z"
   },
   {
    "duration": -1180,
    "start_time": "2022-01-07T06:43:06.296Z"
   },
   {
    "duration": -1195,
    "start_time": "2022-01-07T06:43:06.312Z"
   },
   {
    "duration": -1206,
    "start_time": "2022-01-07T06:43:06.324Z"
   },
   {
    "duration": -1242,
    "start_time": "2022-01-07T06:43:06.362Z"
   },
   {
    "duration": -1269,
    "start_time": "2022-01-07T06:43:06.390Z"
   },
   {
    "duration": -1272,
    "start_time": "2022-01-07T06:43:06.394Z"
   },
   {
    "duration": -1314,
    "start_time": "2022-01-07T06:43:06.437Z"
   },
   {
    "duration": -1316,
    "start_time": "2022-01-07T06:43:06.441Z"
   },
   {
    "duration": -1318,
    "start_time": "2022-01-07T06:43:06.444Z"
   },
   {
    "duration": -1320,
    "start_time": "2022-01-07T06:43:06.447Z"
   },
   {
    "duration": -1322,
    "start_time": "2022-01-07T06:43:06.450Z"
   },
   {
    "duration": -1324,
    "start_time": "2022-01-07T06:43:06.454Z"
   },
   {
    "duration": -1327,
    "start_time": "2022-01-07T06:43:06.458Z"
   },
   {
    "duration": -1328,
    "start_time": "2022-01-07T06:43:06.461Z"
   },
   {
    "duration": -1331,
    "start_time": "2022-01-07T06:43:06.465Z"
   },
   {
    "duration": -1331,
    "start_time": "2022-01-07T06:43:06.467Z"
   },
   {
    "duration": -1333,
    "start_time": "2022-01-07T06:43:06.470Z"
   },
   {
    "duration": -1334,
    "start_time": "2022-01-07T06:43:06.472Z"
   },
   {
    "duration": -1335,
    "start_time": "2022-01-07T06:43:06.475Z"
   },
   {
    "duration": -1367,
    "start_time": "2022-01-07T06:43:06.508Z"
   },
   {
    "duration": -1353,
    "start_time": "2022-01-07T06:43:06.512Z"
   },
   {
    "duration": -1355,
    "start_time": "2022-01-07T06:43:06.515Z"
   },
   {
    "duration": -1355,
    "start_time": "2022-01-07T06:43:06.517Z"
   },
   {
    "duration": -1356,
    "start_time": "2022-01-07T06:43:06.520Z"
   },
   {
    "duration": -1358,
    "start_time": "2022-01-07T06:43:06.523Z"
   },
   {
    "duration": -1360,
    "start_time": "2022-01-07T06:43:06.526Z"
   },
   {
    "duration": -1363,
    "start_time": "2022-01-07T06:43:06.530Z"
   },
   {
    "duration": -1364,
    "start_time": "2022-01-07T06:43:06.533Z"
   },
   {
    "duration": -1366,
    "start_time": "2022-01-07T06:43:06.536Z"
   },
   {
    "duration": -1367,
    "start_time": "2022-01-07T06:43:06.538Z"
   },
   {
    "duration": -1368,
    "start_time": "2022-01-07T06:43:06.541Z"
   },
   {
    "duration": -1370,
    "start_time": "2022-01-07T06:43:06.544Z"
   },
   {
    "duration": -1373,
    "start_time": "2022-01-07T06:43:06.548Z"
   },
   {
    "duration": -1374,
    "start_time": "2022-01-07T06:43:06.551Z"
   },
   {
    "duration": -1376,
    "start_time": "2022-01-07T06:43:06.554Z"
   },
   {
    "duration": -1378,
    "start_time": "2022-01-07T06:43:06.557Z"
   },
   {
    "duration": -1379,
    "start_time": "2022-01-07T06:43:06.560Z"
   },
   {
    "duration": -1381,
    "start_time": "2022-01-07T06:43:06.563Z"
   },
   {
    "duration": -1384,
    "start_time": "2022-01-07T06:43:06.567Z"
   },
   {
    "duration": -1387,
    "start_time": "2022-01-07T06:43:06.571Z"
   },
   {
    "duration": -1388,
    "start_time": "2022-01-07T06:43:06.574Z"
   },
   {
    "duration": -1390,
    "start_time": "2022-01-07T06:43:06.577Z"
   },
   {
    "duration": -1391,
    "start_time": "2022-01-07T06:43:06.579Z"
   },
   {
    "duration": -1392,
    "start_time": "2022-01-07T06:43:06.582Z"
   },
   {
    "duration": -1394,
    "start_time": "2022-01-07T06:43:06.585Z"
   },
   {
    "duration": -1395,
    "start_time": "2022-01-07T06:43:06.587Z"
   },
   {
    "duration": -1395,
    "start_time": "2022-01-07T06:43:06.589Z"
   },
   {
    "duration": -1400,
    "start_time": "2022-01-07T06:43:06.595Z"
   },
   {
    "duration": -1401,
    "start_time": "2022-01-07T06:43:06.598Z"
   },
   {
    "duration": -1419,
    "start_time": "2022-01-07T06:43:06.617Z"
   },
   {
    "duration": -1361,
    "start_time": "2022-01-07T06:43:06.620Z"
   },
   {
    "duration": -1361,
    "start_time": "2022-01-07T06:43:06.622Z"
   },
   {
    "duration": -1362,
    "start_time": "2022-01-07T06:43:06.624Z"
   },
   {
    "duration": -1364,
    "start_time": "2022-01-07T06:43:06.627Z"
   },
   {
    "duration": -1365,
    "start_time": "2022-01-07T06:43:06.630Z"
   },
   {
    "duration": -1366,
    "start_time": "2022-01-07T06:43:06.632Z"
   },
   {
    "duration": -1367,
    "start_time": "2022-01-07T06:43:06.635Z"
   },
   {
    "duration": -1369,
    "start_time": "2022-01-07T06:43:06.638Z"
   },
   {
    "duration": -1370,
    "start_time": "2022-01-07T06:43:06.640Z"
   },
   {
    "duration": -1371,
    "start_time": "2022-01-07T06:43:06.643Z"
   },
   {
    "duration": -1374,
    "start_time": "2022-01-07T06:43:06.647Z"
   },
   {
    "duration": -1375,
    "start_time": "2022-01-07T06:43:06.650Z"
   },
   {
    "duration": -1377,
    "start_time": "2022-01-07T06:43:06.653Z"
   },
   {
    "duration": -1379,
    "start_time": "2022-01-07T06:43:06.656Z"
   },
   {
    "duration": -1380,
    "start_time": "2022-01-07T06:43:06.659Z"
   },
   {
    "duration": -1382,
    "start_time": "2022-01-07T06:43:06.662Z"
   },
   {
    "duration": -1382,
    "start_time": "2022-01-07T06:43:06.664Z"
   },
   {
    "duration": 415,
    "start_time": "2022-01-07T06:44:03.347Z"
   },
   {
    "duration": 374,
    "start_time": "2022-01-07T06:44:12.634Z"
   },
   {
    "duration": 429,
    "start_time": "2022-01-07T06:44:51.487Z"
   },
   {
    "duration": 385,
    "start_time": "2022-01-07T06:45:15.194Z"
   },
   {
    "duration": 372,
    "start_time": "2022-01-07T06:45:56.816Z"
   },
   {
    "duration": 414,
    "start_time": "2022-01-07T06:46:45.987Z"
   },
   {
    "duration": 7,
    "start_time": "2022-01-07T06:47:30.956Z"
   },
   {
    "duration": 11,
    "start_time": "2022-01-07T06:47:31.973Z"
   },
   {
    "duration": 434,
    "start_time": "2022-01-07T06:47:37.638Z"
   },
   {
    "duration": 12,
    "start_time": "2022-01-07T06:49:39.658Z"
   },
   {
    "duration": 4,
    "start_time": "2022-01-07T06:50:13.630Z"
   },
   {
    "duration": 7,
    "start_time": "2022-01-07T06:50:15.624Z"
   },
   {
    "duration": 4,
    "start_time": "2022-01-07T06:52:00.166Z"
   },
   {
    "duration": 69,
    "start_time": "2022-01-07T06:52:00.427Z"
   },
   {
    "duration": 14,
    "start_time": "2022-01-07T06:52:00.924Z"
   },
   {
    "duration": 43,
    "start_time": "2022-01-07T06:52:01.164Z"
   },
   {
    "duration": 6,
    "start_time": "2022-01-07T06:52:01.995Z"
   },
   {
    "duration": 12,
    "start_time": "2022-01-07T06:52:02.765Z"
   },
   {
    "duration": 6,
    "start_time": "2022-01-07T06:52:03.056Z"
   },
   {
    "duration": 5,
    "start_time": "2022-01-07T06:52:03.695Z"
   },
   {
    "duration": 11,
    "start_time": "2022-01-07T06:52:04.445Z"
   },
   {
    "duration": 11,
    "start_time": "2022-01-07T06:52:04.775Z"
   },
   {
    "duration": 11,
    "start_time": "2022-01-07T06:52:05.575Z"
   },
   {
    "duration": 10,
    "start_time": "2022-01-07T06:52:07.476Z"
   },
   {
    "duration": 10,
    "start_time": "2022-01-07T06:52:09.716Z"
   },
   {
    "duration": 7,
    "start_time": "2022-01-07T06:52:10.117Z"
   },
   {
    "duration": 7,
    "start_time": "2022-01-07T06:52:10.705Z"
   },
   {
    "duration": 13,
    "start_time": "2022-01-07T06:52:11.286Z"
   },
   {
    "duration": 7,
    "start_time": "2022-01-07T06:52:11.895Z"
   },
   {
    "duration": 10,
    "start_time": "2022-01-07T06:52:12.256Z"
   },
   {
    "duration": 10,
    "start_time": "2022-01-07T06:52:22.457Z"
   },
   {
    "duration": 17,
    "start_time": "2022-01-07T06:52:45.166Z"
   },
   {
    "duration": 35,
    "start_time": "2022-01-07T07:01:01.378Z"
   },
   {
    "duration": 392,
    "start_time": "2022-01-07T07:02:08.041Z"
   },
   {
    "duration": 527,
    "start_time": "2022-01-07T07:02:18.166Z"
   },
   {
    "duration": 438,
    "start_time": "2022-01-07T07:03:03.066Z"
   },
   {
    "duration": 401,
    "start_time": "2022-01-07T07:03:13.875Z"
   },
   {
    "duration": 31,
    "start_time": "2022-01-07T08:37:03.564Z"
   },
   {
    "duration": 12,
    "start_time": "2022-01-07T08:37:42.752Z"
   },
   {
    "duration": 12,
    "start_time": "2022-01-07T08:38:17.175Z"
   },
   {
    "duration": 11,
    "start_time": "2022-01-07T08:38:46.184Z"
   },
   {
    "duration": 11,
    "start_time": "2022-01-07T08:38:54.144Z"
   },
   {
    "duration": 7,
    "start_time": "2022-01-07T08:39:57.125Z"
   },
   {
    "duration": 10,
    "start_time": "2022-01-07T08:39:58.170Z"
   },
   {
    "duration": 10,
    "start_time": "2022-01-07T08:40:09.164Z"
   },
   {
    "duration": 11,
    "start_time": "2022-01-07T08:40:10.573Z"
   },
   {
    "duration": 809,
    "start_time": "2022-01-07T08:40:19.090Z"
   },
   {
    "duration": 74,
    "start_time": "2022-01-07T08:40:19.901Z"
   },
   {
    "duration": 14,
    "start_time": "2022-01-07T08:40:19.978Z"
   },
   {
    "duration": 42,
    "start_time": "2022-01-07T08:40:19.995Z"
   },
   {
    "duration": 7,
    "start_time": "2022-01-07T08:40:20.060Z"
   },
   {
    "duration": 15,
    "start_time": "2022-01-07T08:40:20.070Z"
   },
   {
    "duration": 6,
    "start_time": "2022-01-07T08:40:20.087Z"
   },
   {
    "duration": 6,
    "start_time": "2022-01-07T08:40:20.098Z"
   },
   {
    "duration": 54,
    "start_time": "2022-01-07T08:40:20.107Z"
   },
   {
    "duration": 10,
    "start_time": "2022-01-07T08:40:20.164Z"
   },
   {
    "duration": 10,
    "start_time": "2022-01-07T08:40:20.177Z"
   },
   {
    "duration": 10,
    "start_time": "2022-01-07T08:40:20.189Z"
   },
   {
    "duration": 9,
    "start_time": "2022-01-07T08:40:20.202Z"
   },
   {
    "duration": 51,
    "start_time": "2022-01-07T08:40:20.213Z"
   },
   {
    "duration": 7,
    "start_time": "2022-01-07T08:40:20.267Z"
   },
   {
    "duration": 10,
    "start_time": "2022-01-07T08:40:20.277Z"
   },
   {
    "duration": 6,
    "start_time": "2022-01-07T08:40:20.290Z"
   },
   {
    "duration": 10,
    "start_time": "2022-01-07T08:40:20.298Z"
   },
   {
    "duration": 63,
    "start_time": "2022-01-07T08:40:20.310Z"
   },
   {
    "duration": 8,
    "start_time": "2022-01-07T08:40:20.376Z"
   },
   {
    "duration": 11,
    "start_time": "2022-01-07T08:40:20.386Z"
   },
   {
    "duration": 9,
    "start_time": "2022-01-07T08:40:20.400Z"
   },
   {
    "duration": 46,
    "start_time": "2022-01-07T08:40:20.415Z"
   },
   {
    "duration": 9,
    "start_time": "2022-01-07T08:40:20.466Z"
   },
   {
    "duration": 44,
    "start_time": "2022-01-07T08:40:20.478Z"
   },
   {
    "duration": 43,
    "start_time": "2022-01-07T08:40:20.525Z"
   },
   {
    "duration": 16,
    "start_time": "2022-01-07T08:40:20.570Z"
   },
   {
    "duration": 35,
    "start_time": "2022-01-07T08:40:20.588Z"
   },
   {
    "duration": 36,
    "start_time": "2022-01-07T08:40:20.625Z"
   },
   {
    "duration": 10,
    "start_time": "2022-01-07T08:40:20.663Z"
   },
   {
    "duration": 4990,
    "start_time": "2022-01-07T08:40:20.675Z"
   },
   {
    "duration": 40,
    "start_time": "2022-01-07T08:40:25.669Z"
   },
   {
    "duration": 14,
    "start_time": "2022-01-07T08:40:25.712Z"
   },
   {
    "duration": 15,
    "start_time": "2022-01-07T08:40:25.761Z"
   },
   {
    "duration": 17,
    "start_time": "2022-01-07T08:40:25.779Z"
   },
   {
    "duration": 15,
    "start_time": "2022-01-07T08:40:25.799Z"
   },
   {
    "duration": 10,
    "start_time": "2022-01-07T08:40:25.860Z"
   },
   {
    "duration": 13,
    "start_time": "2022-01-07T08:40:25.873Z"
   },
   {
    "duration": 272,
    "start_time": "2022-01-07T08:40:25.889Z"
   },
   {
    "duration": 207,
    "start_time": "2022-01-07T08:40:26.164Z"
   },
   {
    "duration": 203,
    "start_time": "2022-01-07T08:40:26.374Z"
   },
   {
    "duration": 207,
    "start_time": "2022-01-07T08:40:26.580Z"
   },
   {
    "duration": 205,
    "start_time": "2022-01-07T08:40:26.789Z"
   },
   {
    "duration": 270,
    "start_time": "2022-01-07T08:40:26.996Z"
   },
   {
    "duration": 216,
    "start_time": "2022-01-07T08:40:27.268Z"
   },
   {
    "duration": 213,
    "start_time": "2022-01-07T08:40:27.487Z"
   },
   {
    "duration": 221,
    "start_time": "2022-01-07T08:40:27.702Z"
   },
   {
    "duration": 193,
    "start_time": "2022-01-07T08:40:27.925Z"
   },
   {
    "duration": 204,
    "start_time": "2022-01-07T08:40:28.121Z"
   },
   {
    "duration": 207,
    "start_time": "2022-01-07T08:40:28.328Z"
   },
   {
    "duration": 22,
    "start_time": "2022-01-07T08:40:28.537Z"
   },
   {
    "duration": 363,
    "start_time": "2022-01-07T08:40:28.562Z"
   },
   {
    "duration": 11,
    "start_time": "2022-01-07T08:40:28.928Z"
   },
   {
    "duration": 9118,
    "start_time": "2022-01-07T08:40:28.960Z"
   },
   {
    "duration": 17,
    "start_time": "2022-01-07T08:40:38.081Z"
   },
   {
    "duration": 9,
    "start_time": "2022-01-07T08:40:38.101Z"
   },
   {
    "duration": 1447,
    "start_time": "2022-01-07T08:40:38.112Z"
   },
   {
    "duration": 24,
    "start_time": "2022-01-07T08:40:39.561Z"
   },
   {
    "duration": 21,
    "start_time": "2022-01-07T08:40:39.589Z"
   },
   {
    "duration": 58,
    "start_time": "2022-01-07T08:40:39.612Z"
   },
   {
    "duration": 23,
    "start_time": "2022-01-07T08:40:39.672Z"
   },
   {
    "duration": 448,
    "start_time": "2022-01-07T08:40:39.697Z"
   },
   {
    "duration": 415,
    "start_time": "2022-01-07T08:40:40.148Z"
   },
   {
    "duration": 397,
    "start_time": "2022-01-07T08:40:40.565Z"
   },
   {
    "duration": 9,
    "start_time": "2022-01-07T08:40:40.964Z"
   },
   {
    "duration": 11,
    "start_time": "2022-01-07T08:40:40.975Z"
   },
   {
    "duration": 8,
    "start_time": "2022-01-07T08:40:40.988Z"
   },
   {
    "duration": 6,
    "start_time": "2022-01-07T08:40:41.006Z"
   },
   {
    "duration": 48,
    "start_time": "2022-01-07T08:40:41.016Z"
   },
   {
    "duration": 6,
    "start_time": "2022-01-07T08:40:41.067Z"
   },
   {
    "duration": 6,
    "start_time": "2022-01-07T08:40:41.075Z"
   },
   {
    "duration": 6,
    "start_time": "2022-01-07T08:40:41.084Z"
   },
   {
    "duration": 11,
    "start_time": "2022-01-07T08:40:41.092Z"
   },
   {
    "duration": 56,
    "start_time": "2022-01-07T08:40:41.106Z"
   },
   {
    "duration": 475,
    "start_time": "2022-01-07T08:40:41.165Z"
   },
   {
    "duration": 17,
    "start_time": "2022-01-07T08:40:41.643Z"
   },
   {
    "duration": 6,
    "start_time": "2022-01-07T08:40:41.664Z"
   },
   {
    "duration": 12,
    "start_time": "2022-01-07T08:40:41.673Z"
   },
   {
    "duration": 9,
    "start_time": "2022-01-07T08:40:41.687Z"
   },
   {
    "duration": 8,
    "start_time": "2022-01-07T08:40:41.699Z"
   },
   {
    "duration": 7,
    "start_time": "2022-01-07T08:40:41.759Z"
   },
   {
    "duration": 6,
    "start_time": "2022-01-07T08:40:41.770Z"
   },
   {
    "duration": 6,
    "start_time": "2022-01-07T08:40:41.779Z"
   },
   {
    "duration": 9,
    "start_time": "2022-01-07T08:40:41.788Z"
   },
   {
    "duration": 6,
    "start_time": "2022-01-07T08:40:41.800Z"
   },
   {
    "duration": 6,
    "start_time": "2022-01-07T08:40:41.861Z"
   },
   {
    "duration": 9,
    "start_time": "2022-01-07T08:40:41.870Z"
   },
   {
    "duration": 8,
    "start_time": "2022-01-07T08:41:19.711Z"
   },
   {
    "duration": 7,
    "start_time": "2022-01-07T08:41:20.549Z"
   },
   {
    "duration": 7,
    "start_time": "2022-01-07T08:41:21.150Z"
   },
   {
    "duration": 7,
    "start_time": "2022-01-07T08:41:21.929Z"
   },
   {
    "duration": 4,
    "start_time": "2022-01-07T08:41:23.142Z"
   },
   {
    "duration": 4,
    "start_time": "2022-01-07T08:41:23.557Z"
   },
   {
    "duration": 8,
    "start_time": "2022-01-07T08:41:23.952Z"
   },
   {
    "duration": 5,
    "start_time": "2022-01-07T08:41:24.338Z"
   },
   {
    "duration": 5,
    "start_time": "2022-01-07T08:41:24.667Z"
   },
   {
    "duration": 8,
    "start_time": "2022-01-07T08:45:14.179Z"
   },
   {
    "duration": 6,
    "start_time": "2022-01-07T08:45:34.122Z"
   },
   {
    "duration": 124,
    "start_time": "2022-01-07T08:46:27.962Z"
   },
   {
    "duration": 6,
    "start_time": "2022-01-07T08:46:46.367Z"
   },
   {
    "duration": 5,
    "start_time": "2022-01-07T08:47:03.310Z"
   },
   {
    "duration": 17,
    "start_time": "2022-01-07T08:47:49.573Z"
   },
   {
    "duration": 19,
    "start_time": "2022-01-07T08:48:39.919Z"
   },
   {
    "duration": 9,
    "start_time": "2022-01-07T08:49:11.071Z"
   },
   {
    "duration": 8,
    "start_time": "2022-01-07T08:50:04.100Z"
   },
   {
    "duration": 578,
    "start_time": "2022-01-07T08:51:20.719Z"
   },
   {
    "duration": 432,
    "start_time": "2022-01-07T08:51:35.269Z"
   },
   {
    "duration": 415,
    "start_time": "2022-01-07T08:51:49.259Z"
   },
   {
    "duration": 9,
    "start_time": "2022-01-07T08:52:27.767Z"
   },
   {
    "duration": 6,
    "start_time": "2022-01-07T08:52:50.439Z"
   },
   {
    "duration": 5,
    "start_time": "2022-01-07T08:54:33.559Z"
   },
   {
    "duration": 5,
    "start_time": "2022-01-07T08:54:35.418Z"
   },
   {
    "duration": 429,
    "start_time": "2022-01-07T08:57:18.591Z"
   },
   {
    "duration": 494,
    "start_time": "2022-01-07T08:57:36.500Z"
   },
   {
    "duration": 397,
    "start_time": "2022-01-07T08:57:50.579Z"
   },
   {
    "duration": 424,
    "start_time": "2022-01-07T08:58:16.932Z"
   },
   {
    "duration": 375,
    "start_time": "2022-01-07T08:58:57.830Z"
   },
   {
    "duration": 790,
    "start_time": "2022-01-07T11:25:59.183Z"
   },
   {
    "duration": 73,
    "start_time": "2022-01-07T11:25:59.976Z"
   },
   {
    "duration": 13,
    "start_time": "2022-01-07T11:26:00.052Z"
   },
   {
    "duration": 65,
    "start_time": "2022-01-07T11:26:00.068Z"
   },
   {
    "duration": 6,
    "start_time": "2022-01-07T11:26:00.136Z"
   },
   {
    "duration": 16,
    "start_time": "2022-01-07T11:26:00.145Z"
   },
   {
    "duration": 5,
    "start_time": "2022-01-07T11:26:00.163Z"
   },
   {
    "duration": 6,
    "start_time": "2022-01-07T11:26:00.172Z"
   },
   {
    "duration": 54,
    "start_time": "2022-01-07T11:26:00.181Z"
   },
   {
    "duration": 9,
    "start_time": "2022-01-07T11:26:00.238Z"
   },
   {
    "duration": 10,
    "start_time": "2022-01-07T11:26:00.249Z"
   },
   {
    "duration": 9,
    "start_time": "2022-01-07T11:26:00.261Z"
   },
   {
    "duration": 51,
    "start_time": "2022-01-07T11:26:00.272Z"
   },
   {
    "duration": 7,
    "start_time": "2022-01-07T11:26:00.326Z"
   },
   {
    "duration": 13,
    "start_time": "2022-01-07T11:26:00.336Z"
   },
   {
    "duration": 18,
    "start_time": "2022-01-07T11:26:00.352Z"
   },
   {
    "duration": 8,
    "start_time": "2022-01-07T11:26:00.373Z"
   },
   {
    "duration": 14,
    "start_time": "2022-01-07T11:26:00.383Z"
   },
   {
    "duration": 17,
    "start_time": "2022-01-07T11:26:00.424Z"
   },
   {
    "duration": 8,
    "start_time": "2022-01-07T11:26:00.443Z"
   },
   {
    "duration": 16,
    "start_time": "2022-01-07T11:26:00.453Z"
   },
   {
    "duration": 13,
    "start_time": "2022-01-07T11:26:00.471Z"
   },
   {
    "duration": 37,
    "start_time": "2022-01-07T11:26:00.490Z"
   },
   {
    "duration": 10,
    "start_time": "2022-01-07T11:26:00.532Z"
   },
   {
    "duration": 32,
    "start_time": "2022-01-07T11:26:00.545Z"
   },
   {
    "duration": 17,
    "start_time": "2022-01-07T11:26:00.579Z"
   },
   {
    "duration": 31,
    "start_time": "2022-01-07T11:26:00.598Z"
   },
   {
    "duration": 40,
    "start_time": "2022-01-07T11:26:00.632Z"
   },
   {
    "duration": 11,
    "start_time": "2022-01-07T11:26:00.675Z"
   },
   {
    "duration": 10,
    "start_time": "2022-01-07T11:26:00.689Z"
   },
   {
    "duration": 4711,
    "start_time": "2022-01-07T11:26:00.701Z"
   },
   {
    "duration": 46,
    "start_time": "2022-01-07T11:26:05.415Z"
   },
   {
    "duration": 14,
    "start_time": "2022-01-07T11:26:05.464Z"
   },
   {
    "duration": 47,
    "start_time": "2022-01-07T11:26:05.480Z"
   },
   {
    "duration": 15,
    "start_time": "2022-01-07T11:26:05.529Z"
   },
   {
    "duration": 15,
    "start_time": "2022-01-07T11:26:05.547Z"
   },
   {
    "duration": 6,
    "start_time": "2022-01-07T11:26:05.565Z"
   },
   {
    "duration": 9,
    "start_time": "2022-01-07T11:26:05.573Z"
   },
   {
    "duration": 179,
    "start_time": "2022-01-07T11:26:05.623Z"
   },
   {
    "duration": 196,
    "start_time": "2022-01-07T11:26:05.804Z"
   },
   {
    "duration": 205,
    "start_time": "2022-01-07T11:26:06.002Z"
   },
   {
    "duration": 191,
    "start_time": "2022-01-07T11:26:06.209Z"
   },
   {
    "duration": 184,
    "start_time": "2022-01-07T11:26:06.403Z"
   },
   {
    "duration": 259,
    "start_time": "2022-01-07T11:26:06.590Z"
   },
   {
    "duration": 207,
    "start_time": "2022-01-07T11:26:06.852Z"
   },
   {
    "duration": 190,
    "start_time": "2022-01-07T11:26:07.061Z"
   },
   {
    "duration": 192,
    "start_time": "2022-01-07T11:26:07.254Z"
   },
   {
    "duration": 187,
    "start_time": "2022-01-07T11:26:07.449Z"
   },
   {
    "duration": 191,
    "start_time": "2022-01-07T11:26:07.639Z"
   },
   {
    "duration": 195,
    "start_time": "2022-01-07T11:26:07.833Z"
   },
   {
    "duration": 10,
    "start_time": "2022-01-07T11:26:08.030Z"
   },
   {
    "duration": 380,
    "start_time": "2022-01-07T11:26:08.043Z"
   },
   {
    "duration": 10,
    "start_time": "2022-01-07T11:26:08.425Z"
   },
   {
    "duration": 8264,
    "start_time": "2022-01-07T11:26:08.437Z"
   },
   {
    "duration": 29,
    "start_time": "2022-01-07T11:26:16.703Z"
   },
   {
    "duration": 7,
    "start_time": "2022-01-07T11:26:16.734Z"
   },
   {
    "duration": 1417,
    "start_time": "2022-01-07T11:26:16.743Z"
   },
   {
    "duration": 21,
    "start_time": "2022-01-07T11:26:18.163Z"
   },
   {
    "duration": 46,
    "start_time": "2022-01-07T11:26:18.186Z"
   },
   {
    "duration": 20,
    "start_time": "2022-01-07T11:26:18.234Z"
   },
   {
    "duration": 20,
    "start_time": "2022-01-07T11:26:18.257Z"
   },
   {
    "duration": 412,
    "start_time": "2022-01-07T11:26:18.279Z"
   },
   {
    "duration": 375,
    "start_time": "2022-01-07T11:26:18.693Z"
   },
   {
    "duration": 375,
    "start_time": "2022-01-07T11:26:19.071Z"
   },
   {
    "duration": 9,
    "start_time": "2022-01-07T11:26:19.449Z"
   },
   {
    "duration": 11,
    "start_time": "2022-01-07T11:26:19.460Z"
   },
   {
    "duration": 5,
    "start_time": "2022-01-07T11:26:19.473Z"
   },
   {
    "duration": 4,
    "start_time": "2022-01-07T11:26:19.486Z"
   },
   {
    "duration": 5,
    "start_time": "2022-01-07T11:26:19.525Z"
   },
   {
    "duration": 7,
    "start_time": "2022-01-07T11:26:19.533Z"
   },
   {
    "duration": 4,
    "start_time": "2022-01-07T11:26:19.542Z"
   },
   {
    "duration": 5,
    "start_time": "2022-01-07T11:26:19.549Z"
   },
   {
    "duration": 9,
    "start_time": "2022-01-07T11:26:19.557Z"
   },
   {
    "duration": 7,
    "start_time": "2022-01-07T11:26:19.568Z"
   },
   {
    "duration": 406,
    "start_time": "2022-01-07T11:26:19.624Z"
   },
   {
    "duration": 4,
    "start_time": "2022-01-07T11:26:20.033Z"
   },
   {
    "duration": 7,
    "start_time": "2022-01-07T11:26:20.039Z"
   },
   {
    "duration": 12,
    "start_time": "2022-01-07T11:26:20.048Z"
   },
   {
    "duration": 9,
    "start_time": "2022-01-07T11:26:20.062Z"
   },
   {
    "duration": 8,
    "start_time": "2022-01-07T11:26:20.073Z"
   },
   {
    "duration": 42,
    "start_time": "2022-01-07T11:26:20.083Z"
   },
   {
    "duration": 12,
    "start_time": "2022-01-07T11:26:20.127Z"
   },
   {
    "duration": 8,
    "start_time": "2022-01-07T11:26:20.141Z"
   },
   {
    "duration": 11,
    "start_time": "2022-01-07T11:26:20.151Z"
   },
   {
    "duration": 5,
    "start_time": "2022-01-07T11:26:20.164Z"
   },
   {
    "duration": 403,
    "start_time": "2022-01-07T11:26:20.171Z"
   },
   {
    "duration": 489,
    "start_time": "2022-01-07T11:27:49.092Z"
   },
   {
    "duration": 5,
    "start_time": "2022-01-07T11:28:07.702Z"
   },
   {
    "duration": 4,
    "start_time": "2022-01-07T11:30:40.129Z"
   },
   {
    "duration": 6,
    "start_time": "2022-01-07T11:30:41.064Z"
   },
   {
    "duration": 4,
    "start_time": "2022-01-07T11:30:46.740Z"
   },
   {
    "duration": 5,
    "start_time": "2022-01-07T11:30:48.140Z"
   },
   {
    "duration": 5,
    "start_time": "2022-01-07T11:39:24.803Z"
   },
   {
    "duration": 5,
    "start_time": "2022-01-07T11:39:31.502Z"
   },
   {
    "duration": 6,
    "start_time": "2022-01-07T12:18:51.013Z"
   },
   {
    "duration": 5,
    "start_time": "2022-01-07T12:18:51.522Z"
   },
   {
    "duration": 795,
    "start_time": "2022-01-08T17:07:34.789Z"
   },
   {
    "duration": 71,
    "start_time": "2022-01-08T17:07:35.586Z"
   },
   {
    "duration": 16,
    "start_time": "2022-01-08T17:07:35.661Z"
   },
   {
    "duration": 812,
    "start_time": "2022-01-08T17:07:41.053Z"
   },
   {
    "duration": 97,
    "start_time": "2022-01-08T17:07:41.868Z"
   },
   {
    "duration": 19,
    "start_time": "2022-01-08T17:07:41.969Z"
   },
   {
    "duration": 76,
    "start_time": "2022-01-08T17:07:41.992Z"
   },
   {
    "duration": 9,
    "start_time": "2022-01-08T17:07:42.071Z"
   },
   {
    "duration": 47,
    "start_time": "2022-01-08T17:07:42.085Z"
   },
   {
    "duration": 6,
    "start_time": "2022-01-08T17:07:42.135Z"
   },
   {
    "duration": 7,
    "start_time": "2022-01-08T17:07:42.146Z"
   },
   {
    "duration": 14,
    "start_time": "2022-01-08T17:07:42.158Z"
   },
   {
    "duration": 11,
    "start_time": "2022-01-08T17:07:42.218Z"
   },
   {
    "duration": 12,
    "start_time": "2022-01-08T17:07:42.232Z"
   },
   {
    "duration": 11,
    "start_time": "2022-01-08T17:07:42.247Z"
   },
   {
    "duration": 10,
    "start_time": "2022-01-08T17:07:42.261Z"
   },
   {
    "duration": 7,
    "start_time": "2022-01-08T17:07:42.317Z"
   },
   {
    "duration": 7,
    "start_time": "2022-01-08T17:07:42.327Z"
   },
   {
    "duration": 11,
    "start_time": "2022-01-08T17:07:42.337Z"
   },
   {
    "duration": 7,
    "start_time": "2022-01-08T17:07:42.351Z"
   },
   {
    "duration": 61,
    "start_time": "2022-01-08T17:07:42.361Z"
   },
   {
    "duration": 19,
    "start_time": "2022-01-08T17:07:42.425Z"
   },
   {
    "duration": 8,
    "start_time": "2022-01-08T17:07:42.447Z"
   },
   {
    "duration": 15,
    "start_time": "2022-01-08T17:07:42.458Z"
   },
   {
    "duration": 11,
    "start_time": "2022-01-08T17:07:42.518Z"
   },
   {
    "duration": 10,
    "start_time": "2022-01-08T17:07:42.535Z"
   },
   {
    "duration": 7,
    "start_time": "2022-01-08T17:07:42.549Z"
   },
   {
    "duration": 73,
    "start_time": "2022-01-08T17:07:42.558Z"
   },
   {
    "duration": 9,
    "start_time": "2022-01-08T17:07:42.633Z"
   },
   {
    "duration": 11,
    "start_time": "2022-01-08T17:07:42.646Z"
   },
   {
    "duration": 59,
    "start_time": "2022-01-08T17:07:42.660Z"
   },
   {
    "duration": 15,
    "start_time": "2022-01-08T17:07:42.721Z"
   },
   {
    "duration": 12,
    "start_time": "2022-01-08T17:07:42.739Z"
   },
   {
    "duration": 5140,
    "start_time": "2022-01-08T17:07:42.754Z"
   },
   {
    "duration": 41,
    "start_time": "2022-01-08T17:07:47.896Z"
   },
   {
    "duration": 13,
    "start_time": "2022-01-08T17:07:47.940Z"
   },
   {
    "duration": 12,
    "start_time": "2022-01-08T17:07:47.956Z"
   },
   {
    "duration": 60,
    "start_time": "2022-01-08T17:07:47.971Z"
   },
   {
    "duration": 16,
    "start_time": "2022-01-08T17:07:48.034Z"
   },
   {
    "duration": 15,
    "start_time": "2022-01-08T17:07:48.052Z"
   },
   {
    "duration": 14,
    "start_time": "2022-01-08T17:07:48.069Z"
   },
   {
    "duration": 197,
    "start_time": "2022-01-08T17:07:48.086Z"
   },
   {
    "duration": 186,
    "start_time": "2022-01-08T17:07:48.285Z"
   },
   {
    "duration": 206,
    "start_time": "2022-01-08T17:07:48.474Z"
   },
   {
    "duration": 193,
    "start_time": "2022-01-08T17:07:48.682Z"
   },
   {
    "duration": 194,
    "start_time": "2022-01-08T17:07:48.878Z"
   },
   {
    "duration": 266,
    "start_time": "2022-01-08T17:07:49.075Z"
   },
   {
    "duration": 209,
    "start_time": "2022-01-08T17:07:49.343Z"
   },
   {
    "duration": 201,
    "start_time": "2022-01-08T17:07:49.554Z"
   },
   {
    "duration": 201,
    "start_time": "2022-01-08T17:07:49.757Z"
   },
   {
    "duration": 204,
    "start_time": "2022-01-08T17:07:49.960Z"
   },
   {
    "duration": 314,
    "start_time": "2022-01-08T17:07:50.167Z"
   },
   {
    "duration": 299,
    "start_time": "2022-01-08T17:07:50.483Z"
   },
   {
    "duration": 14,
    "start_time": "2022-01-08T17:07:50.785Z"
   },
   {
    "duration": 670,
    "start_time": "2022-01-08T17:07:50.818Z"
   },
   {
    "duration": 12,
    "start_time": "2022-01-08T17:07:51.490Z"
   },
   {
    "duration": 7679,
    "start_time": "2022-01-08T17:07:51.516Z"
   },
   {
    "duration": 29,
    "start_time": "2022-01-08T17:07:59.198Z"
   },
   {
    "duration": 7,
    "start_time": "2022-01-08T17:07:59.230Z"
   },
   {
    "duration": 1408,
    "start_time": "2022-01-08T17:07:59.240Z"
   },
   {
    "duration": 23,
    "start_time": "2022-01-08T17:08:00.651Z"
   },
   {
    "duration": 45,
    "start_time": "2022-01-08T17:08:00.676Z"
   },
   {
    "duration": 23,
    "start_time": "2022-01-08T17:08:00.724Z"
   },
   {
    "duration": 19,
    "start_time": "2022-01-08T17:08:00.750Z"
   },
   {
    "duration": 439,
    "start_time": "2022-01-08T17:08:00.771Z"
   },
   {
    "duration": 534,
    "start_time": "2022-01-08T17:08:01.216Z"
   },
   {
    "duration": 575,
    "start_time": "2022-01-08T17:08:01.753Z"
   },
   {
    "duration": 8,
    "start_time": "2022-01-08T17:08:02.330Z"
   },
   {
    "duration": 13,
    "start_time": "2022-01-08T17:08:02.340Z"
   },
   {
    "duration": 6,
    "start_time": "2022-01-08T17:08:02.356Z"
   },
   {
    "duration": 5,
    "start_time": "2022-01-08T17:08:02.370Z"
   },
   {
    "duration": 40,
    "start_time": "2022-01-08T17:08:02.378Z"
   },
   {
    "duration": 7,
    "start_time": "2022-01-08T17:08:02.421Z"
   },
   {
    "duration": 5,
    "start_time": "2022-01-08T17:08:02.430Z"
   },
   {
    "duration": 5,
    "start_time": "2022-01-08T17:08:02.438Z"
   },
   {
    "duration": 9,
    "start_time": "2022-01-08T17:08:02.445Z"
   },
   {
    "duration": 8,
    "start_time": "2022-01-08T17:08:02.456Z"
   },
   {
    "duration": 471,
    "start_time": "2022-01-08T17:08:02.466Z"
   },
   {
    "duration": 4,
    "start_time": "2022-01-08T17:08:02.939Z"
   },
   {
    "duration": 6,
    "start_time": "2022-01-08T17:08:02.946Z"
   },
   {
    "duration": 10,
    "start_time": "2022-01-08T17:08:02.954Z"
   },
   {
    "duration": 8,
    "start_time": "2022-01-08T17:08:02.966Z"
   },
   {
    "duration": 42,
    "start_time": "2022-01-08T17:08:02.976Z"
   },
   {
    "duration": 7,
    "start_time": "2022-01-08T17:08:03.020Z"
   },
   {
    "duration": 6,
    "start_time": "2022-01-08T17:08:03.029Z"
   },
   {
    "duration": 5,
    "start_time": "2022-01-08T17:08:03.037Z"
   },
   {
    "duration": 6,
    "start_time": "2022-01-08T17:08:03.044Z"
   },
   {
    "duration": 8,
    "start_time": "2022-01-08T17:08:03.053Z"
   },
   {
    "duration": 4,
    "start_time": "2022-01-08T17:08:46.793Z"
   },
   {
    "duration": 4,
    "start_time": "2022-01-08T17:08:48.295Z"
   },
   {
    "duration": 810,
    "start_time": "2022-01-09T13:28:20.883Z"
   },
   {
    "duration": 82,
    "start_time": "2022-01-09T13:28:21.696Z"
   },
   {
    "duration": 16,
    "start_time": "2022-01-09T13:28:21.780Z"
   },
   {
    "duration": 69,
    "start_time": "2022-01-09T13:28:21.799Z"
   },
   {
    "duration": 6,
    "start_time": "2022-01-09T13:28:21.871Z"
   },
   {
    "duration": 21,
    "start_time": "2022-01-09T13:28:21.879Z"
   },
   {
    "duration": 6,
    "start_time": "2022-01-09T13:28:21.903Z"
   },
   {
    "duration": 7,
    "start_time": "2022-01-09T13:28:21.913Z"
   },
   {
    "duration": 58,
    "start_time": "2022-01-09T13:28:21.923Z"
   },
   {
    "duration": 13,
    "start_time": "2022-01-09T13:28:21.984Z"
   },
   {
    "duration": 12,
    "start_time": "2022-01-09T13:28:22.000Z"
   },
   {
    "duration": 57,
    "start_time": "2022-01-09T13:28:22.014Z"
   },
   {
    "duration": 10,
    "start_time": "2022-01-09T13:28:22.074Z"
   },
   {
    "duration": 8,
    "start_time": "2022-01-09T13:28:22.086Z"
   },
   {
    "duration": 10,
    "start_time": "2022-01-09T13:28:22.096Z"
   },
   {
    "duration": 61,
    "start_time": "2022-01-09T13:28:22.109Z"
   },
   {
    "duration": 9,
    "start_time": "2022-01-09T13:28:22.173Z"
   },
   {
    "duration": 16,
    "start_time": "2022-01-09T13:28:22.185Z"
   },
   {
    "duration": 65,
    "start_time": "2022-01-09T13:28:22.204Z"
   },
   {
    "duration": 11,
    "start_time": "2022-01-09T13:28:22.272Z"
   },
   {
    "duration": 15,
    "start_time": "2022-01-09T13:28:22.287Z"
   },
   {
    "duration": 25,
    "start_time": "2022-01-09T13:28:22.305Z"
   },
   {
    "duration": 36,
    "start_time": "2022-01-09T13:28:22.341Z"
   },
   {
    "duration": 8,
    "start_time": "2022-01-09T13:28:22.384Z"
   },
   {
    "duration": 37,
    "start_time": "2022-01-09T13:28:22.394Z"
   },
   {
    "duration": 9,
    "start_time": "2022-01-09T13:28:22.466Z"
   },
   {
    "duration": 18,
    "start_time": "2022-01-09T13:28:22.477Z"
   },
   {
    "duration": 36,
    "start_time": "2022-01-09T13:28:22.498Z"
   },
   {
    "duration": 11,
    "start_time": "2022-01-09T13:28:22.568Z"
   },
   {
    "duration": 10,
    "start_time": "2022-01-09T13:28:22.582Z"
   },
   {
    "duration": 5280,
    "start_time": "2022-01-09T13:28:22.595Z"
   },
   {
    "duration": 42,
    "start_time": "2022-01-09T13:28:27.878Z"
   },
   {
    "duration": 44,
    "start_time": "2022-01-09T13:28:27.923Z"
   },
   {
    "duration": 13,
    "start_time": "2022-01-09T13:28:27.969Z"
   },
   {
    "duration": 18,
    "start_time": "2022-01-09T13:28:27.984Z"
   },
   {
    "duration": 25,
    "start_time": "2022-01-09T13:28:28.005Z"
   },
   {
    "duration": 36,
    "start_time": "2022-01-09T13:28:28.032Z"
   },
   {
    "duration": 13,
    "start_time": "2022-01-09T13:28:28.070Z"
   },
   {
    "duration": 213,
    "start_time": "2022-01-09T13:28:28.086Z"
   },
   {
    "duration": 307,
    "start_time": "2022-01-09T13:28:28.302Z"
   },
   {
    "duration": 270,
    "start_time": "2022-01-09T13:28:28.612Z"
   },
   {
    "duration": 197,
    "start_time": "2022-01-09T13:28:28.884Z"
   },
   {
    "duration": 217,
    "start_time": "2022-01-09T13:28:29.083Z"
   },
   {
    "duration": 302,
    "start_time": "2022-01-09T13:28:29.303Z"
   },
   {
    "duration": 220,
    "start_time": "2022-01-09T13:28:29.609Z"
   },
   {
    "duration": 212,
    "start_time": "2022-01-09T13:28:29.832Z"
   },
   {
    "duration": 230,
    "start_time": "2022-01-09T13:28:30.046Z"
   },
   {
    "duration": 235,
    "start_time": "2022-01-09T13:28:30.279Z"
   },
   {
    "duration": 231,
    "start_time": "2022-01-09T13:28:30.517Z"
   },
   {
    "duration": 233,
    "start_time": "2022-01-09T13:28:30.751Z"
   },
   {
    "duration": 11,
    "start_time": "2022-01-09T13:28:30.986Z"
   },
   {
    "duration": 402,
    "start_time": "2022-01-09T13:28:31.000Z"
   },
   {
    "duration": 11,
    "start_time": "2022-01-09T13:28:31.404Z"
   },
   {
    "duration": 7885,
    "start_time": "2022-01-09T13:28:31.418Z"
   },
   {
    "duration": 19,
    "start_time": "2022-01-09T13:28:39.306Z"
   },
   {
    "duration": 39,
    "start_time": "2022-01-09T13:28:39.328Z"
   },
   {
    "duration": 1903,
    "start_time": "2022-01-09T13:28:39.370Z"
   },
   {
    "duration": 33,
    "start_time": "2022-01-09T13:28:41.277Z"
   },
   {
    "duration": 24,
    "start_time": "2022-01-09T13:28:41.313Z"
   },
   {
    "duration": 22,
    "start_time": "2022-01-09T13:28:41.369Z"
   },
   {
    "duration": 22,
    "start_time": "2022-01-09T13:28:41.394Z"
   },
   {
    "duration": 692,
    "start_time": "2022-01-09T13:28:41.419Z"
   },
   {
    "duration": 598,
    "start_time": "2022-01-09T13:28:42.113Z"
   },
   {
    "duration": 567,
    "start_time": "2022-01-09T13:28:42.714Z"
   },
   {
    "duration": 9,
    "start_time": "2022-01-09T13:28:43.284Z"
   },
   {
    "duration": 11,
    "start_time": "2022-01-09T13:28:43.297Z"
   },
   {
    "duration": 7,
    "start_time": "2022-01-09T13:28:43.311Z"
   },
   {
    "duration": 6,
    "start_time": "2022-01-09T13:28:43.326Z"
   },
   {
    "duration": 8,
    "start_time": "2022-01-09T13:28:43.369Z"
   },
   {
    "duration": 7,
    "start_time": "2022-01-09T13:28:43.380Z"
   },
   {
    "duration": 6,
    "start_time": "2022-01-09T13:28:43.389Z"
   },
   {
    "duration": 6,
    "start_time": "2022-01-09T13:28:43.398Z"
   },
   {
    "duration": 65,
    "start_time": "2022-01-09T13:28:43.407Z"
   },
   {
    "duration": 9,
    "start_time": "2022-01-09T13:28:43.476Z"
   },
   {
    "duration": 565,
    "start_time": "2022-01-09T13:28:43.488Z"
   },
   {
    "duration": 5,
    "start_time": "2022-01-09T13:28:44.056Z"
   },
   {
    "duration": 10,
    "start_time": "2022-01-09T13:28:44.068Z"
   },
   {
    "duration": 12,
    "start_time": "2022-01-09T13:28:44.083Z"
   },
   {
    "duration": 9,
    "start_time": "2022-01-09T13:28:44.098Z"
   },
   {
    "duration": 7,
    "start_time": "2022-01-09T13:28:44.110Z"
   },
   {
    "duration": 48,
    "start_time": "2022-01-09T13:28:44.120Z"
   },
   {
    "duration": 7,
    "start_time": "2022-01-09T13:28:44.173Z"
   },
   {
    "duration": 6,
    "start_time": "2022-01-09T13:28:44.183Z"
   },
   {
    "duration": 6,
    "start_time": "2022-01-09T13:28:44.194Z"
   },
   {
    "duration": 10,
    "start_time": "2022-01-09T13:28:44.203Z"
   },
   {
    "duration": 233,
    "start_time": "2022-01-09T15:14:28.490Z"
   },
   {
    "duration": 204,
    "start_time": "2022-01-09T15:20:16.073Z"
   },
   {
    "duration": 646,
    "start_time": "2022-01-09T15:20:24.582Z"
   },
   {
    "duration": 54,
    "start_time": "2022-01-09T15:20:25.230Z"
   },
   {
    "duration": 12,
    "start_time": "2022-01-09T15:20:25.286Z"
   },
   {
    "duration": 29,
    "start_time": "2022-01-09T15:20:25.300Z"
   },
   {
    "duration": 5,
    "start_time": "2022-01-09T15:20:25.330Z"
   },
   {
    "duration": 13,
    "start_time": "2022-01-09T15:20:25.337Z"
   },
   {
    "duration": 245,
    "start_time": "2022-01-09T15:20:25.352Z"
   },
   {
    "duration": -268,
    "start_time": "2022-01-09T15:20:25.868Z"
   },
   {
    "duration": -270,
    "start_time": "2022-01-09T15:20:25.871Z"
   },
   {
    "duration": -271,
    "start_time": "2022-01-09T15:20:25.874Z"
   },
   {
    "duration": -273,
    "start_time": "2022-01-09T15:20:25.877Z"
   },
   {
    "duration": -274,
    "start_time": "2022-01-09T15:20:25.879Z"
   },
   {
    "duration": -277,
    "start_time": "2022-01-09T15:20:25.883Z"
   },
   {
    "duration": -279,
    "start_time": "2022-01-09T15:20:25.886Z"
   },
   {
    "duration": -281,
    "start_time": "2022-01-09T15:20:25.889Z"
   },
   {
    "duration": -283,
    "start_time": "2022-01-09T15:20:25.892Z"
   },
   {
    "duration": -284,
    "start_time": "2022-01-09T15:20:25.894Z"
   },
   {
    "duration": -286,
    "start_time": "2022-01-09T15:20:25.897Z"
   },
   {
    "duration": -288,
    "start_time": "2022-01-09T15:20:25.900Z"
   },
   {
    "duration": -290,
    "start_time": "2022-01-09T15:20:25.903Z"
   },
   {
    "duration": -292,
    "start_time": "2022-01-09T15:20:25.906Z"
   },
   {
    "duration": -294,
    "start_time": "2022-01-09T15:20:25.909Z"
   },
   {
    "duration": -335,
    "start_time": "2022-01-09T15:20:25.951Z"
   },
   {
    "duration": -338,
    "start_time": "2022-01-09T15:20:25.955Z"
   },
   {
    "duration": -342,
    "start_time": "2022-01-09T15:20:25.960Z"
   },
   {
    "duration": -345,
    "start_time": "2022-01-09T15:20:25.964Z"
   },
   {
    "duration": -349,
    "start_time": "2022-01-09T15:20:25.969Z"
   },
   {
    "duration": -351,
    "start_time": "2022-01-09T15:20:25.972Z"
   },
   {
    "duration": -355,
    "start_time": "2022-01-09T15:20:25.977Z"
   },
   {
    "duration": -357,
    "start_time": "2022-01-09T15:20:25.980Z"
   },
   {
    "duration": -360,
    "start_time": "2022-01-09T15:20:25.984Z"
   },
   {
    "duration": -363,
    "start_time": "2022-01-09T15:20:25.988Z"
   },
   {
    "duration": -383,
    "start_time": "2022-01-09T15:20:26.009Z"
   },
   {
    "duration": -385,
    "start_time": "2022-01-09T15:20:26.012Z"
   },
   {
    "duration": -388,
    "start_time": "2022-01-09T15:20:26.016Z"
   },
   {
    "duration": -391,
    "start_time": "2022-01-09T15:20:26.020Z"
   },
   {
    "duration": -394,
    "start_time": "2022-01-09T15:20:26.024Z"
   },
   {
    "duration": -414,
    "start_time": "2022-01-09T15:20:26.045Z"
   },
   {
    "duration": -416,
    "start_time": "2022-01-09T15:20:26.048Z"
   },
   {
    "duration": -418,
    "start_time": "2022-01-09T15:20:26.051Z"
   },
   {
    "duration": -427,
    "start_time": "2022-01-09T15:20:26.061Z"
   },
   {
    "duration": -444,
    "start_time": "2022-01-09T15:20:26.079Z"
   },
   {
    "duration": -444,
    "start_time": "2022-01-09T15:20:26.082Z"
   },
   {
    "duration": -394,
    "start_time": "2022-01-09T15:20:26.085Z"
   },
   {
    "duration": -396,
    "start_time": "2022-01-09T15:20:26.088Z"
   },
   {
    "duration": -410,
    "start_time": "2022-01-09T15:20:26.103Z"
   },
   {
    "duration": -412,
    "start_time": "2022-01-09T15:20:26.106Z"
   },
   {
    "duration": -414,
    "start_time": "2022-01-09T15:20:26.109Z"
   },
   {
    "duration": -416,
    "start_time": "2022-01-09T15:20:26.112Z"
   },
   {
    "duration": -417,
    "start_time": "2022-01-09T15:20:26.115Z"
   },
   {
    "duration": -419,
    "start_time": "2022-01-09T15:20:26.118Z"
   },
   {
    "duration": -421,
    "start_time": "2022-01-09T15:20:26.121Z"
   },
   {
    "duration": -423,
    "start_time": "2022-01-09T15:20:26.124Z"
   },
   {
    "duration": -425,
    "start_time": "2022-01-09T15:20:26.126Z"
   },
   {
    "duration": -427,
    "start_time": "2022-01-09T15:20:26.129Z"
   },
   {
    "duration": -461,
    "start_time": "2022-01-09T15:20:26.164Z"
   },
   {
    "duration": -469,
    "start_time": "2022-01-09T15:20:26.173Z"
   },
   {
    "duration": -470,
    "start_time": "2022-01-09T15:20:26.175Z"
   },
   {
    "duration": -473,
    "start_time": "2022-01-09T15:20:26.179Z"
   },
   {
    "duration": -474,
    "start_time": "2022-01-09T15:20:26.181Z"
   },
   {
    "duration": -481,
    "start_time": "2022-01-09T15:20:26.189Z"
   },
   {
    "duration": -483,
    "start_time": "2022-01-09T15:20:26.192Z"
   },
   {
    "duration": -485,
    "start_time": "2022-01-09T15:20:26.195Z"
   },
   {
    "duration": -486,
    "start_time": "2022-01-09T15:20:26.197Z"
   },
   {
    "duration": -489,
    "start_time": "2022-01-09T15:20:26.201Z"
   },
   {
    "duration": -497,
    "start_time": "2022-01-09T15:20:26.210Z"
   },
   {
    "duration": -499,
    "start_time": "2022-01-09T15:20:26.213Z"
   },
   {
    "duration": -501,
    "start_time": "2022-01-09T15:20:26.216Z"
   },
   {
    "duration": -503,
    "start_time": "2022-01-09T15:20:26.219Z"
   },
   {
    "duration": -505,
    "start_time": "2022-01-09T15:20:26.222Z"
   },
   {
    "duration": -507,
    "start_time": "2022-01-09T15:20:26.225Z"
   },
   {
    "duration": -515,
    "start_time": "2022-01-09T15:20:26.234Z"
   },
   {
    "duration": -533,
    "start_time": "2022-01-09T15:20:26.253Z"
   },
   {
    "duration": -551,
    "start_time": "2022-01-09T15:20:26.272Z"
   },
   {
    "duration": -566,
    "start_time": "2022-01-09T15:20:26.288Z"
   },
   {
    "duration": -568,
    "start_time": "2022-01-09T15:20:26.291Z"
   },
   {
    "duration": -571,
    "start_time": "2022-01-09T15:20:26.296Z"
   },
   {
    "duration": -573,
    "start_time": "2022-01-09T15:20:26.299Z"
   },
   {
    "duration": -575,
    "start_time": "2022-01-09T15:20:26.303Z"
   },
   {
    "duration": -579,
    "start_time": "2022-01-09T15:20:26.308Z"
   },
   {
    "duration": -585,
    "start_time": "2022-01-09T15:20:26.315Z"
   },
   {
    "duration": -527,
    "start_time": "2022-01-09T15:20:26.318Z"
   },
   {
    "duration": -529,
    "start_time": "2022-01-09T15:20:26.321Z"
   },
   {
    "duration": -530,
    "start_time": "2022-01-09T15:20:26.324Z"
   },
   {
    "duration": -532,
    "start_time": "2022-01-09T15:20:26.327Z"
   },
   {
    "duration": -534,
    "start_time": "2022-01-09T15:20:26.330Z"
   },
   {
    "duration": 555,
    "start_time": "2022-01-09T15:20:46.457Z"
   },
   {
    "duration": 55,
    "start_time": "2022-01-09T15:20:47.013Z"
   },
   {
    "duration": 21,
    "start_time": "2022-01-09T15:20:47.070Z"
   },
   {
    "duration": 31,
    "start_time": "2022-01-09T15:20:47.093Z"
   },
   {
    "duration": 5,
    "start_time": "2022-01-09T15:20:47.125Z"
   },
   {
    "duration": 9,
    "start_time": "2022-01-09T15:20:47.132Z"
   },
   {
    "duration": 253,
    "start_time": "2022-01-09T15:20:47.143Z"
   },
   {
    "duration": -301,
    "start_time": "2022-01-09T15:20:47.703Z"
   },
   {
    "duration": -318,
    "start_time": "2022-01-09T15:20:47.721Z"
   },
   {
    "duration": -320,
    "start_time": "2022-01-09T15:20:47.725Z"
   },
   {
    "duration": -321,
    "start_time": "2022-01-09T15:20:47.727Z"
   },
   {
    "duration": -324,
    "start_time": "2022-01-09T15:20:47.731Z"
   },
   {
    "duration": -337,
    "start_time": "2022-01-09T15:20:47.746Z"
   },
   {
    "duration": -342,
    "start_time": "2022-01-09T15:20:47.752Z"
   },
   {
    "duration": -347,
    "start_time": "2022-01-09T15:20:47.758Z"
   },
   {
    "duration": -351,
    "start_time": "2022-01-09T15:20:47.764Z"
   },
   {
    "duration": -356,
    "start_time": "2022-01-09T15:20:47.770Z"
   },
   {
    "duration": -359,
    "start_time": "2022-01-09T15:20:47.774Z"
   },
   {
    "duration": -362,
    "start_time": "2022-01-09T15:20:47.778Z"
   },
   {
    "duration": -365,
    "start_time": "2022-01-09T15:20:47.782Z"
   },
   {
    "duration": -381,
    "start_time": "2022-01-09T15:20:47.799Z"
   },
   {
    "duration": -384,
    "start_time": "2022-01-09T15:20:47.804Z"
   },
   {
    "duration": -389,
    "start_time": "2022-01-09T15:20:47.810Z"
   },
   {
    "duration": -395,
    "start_time": "2022-01-09T15:20:47.817Z"
   },
   {
    "duration": -400,
    "start_time": "2022-01-09T15:20:47.823Z"
   },
   {
    "duration": -406,
    "start_time": "2022-01-09T15:20:47.830Z"
   },
   {
    "duration": -410,
    "start_time": "2022-01-09T15:20:47.836Z"
   },
   {
    "duration": -417,
    "start_time": "2022-01-09T15:20:47.844Z"
   },
   {
    "duration": -431,
    "start_time": "2022-01-09T15:20:47.860Z"
   },
   {
    "duration": -436,
    "start_time": "2022-01-09T15:20:47.866Z"
   },
   {
    "duration": -440,
    "start_time": "2022-01-09T15:20:47.871Z"
   },
   {
    "duration": -444,
    "start_time": "2022-01-09T15:20:47.876Z"
   },
   {
    "duration": -445,
    "start_time": "2022-01-09T15:20:47.880Z"
   },
   {
    "duration": -459,
    "start_time": "2022-01-09T15:20:47.895Z"
   },
   {
    "duration": -462,
    "start_time": "2022-01-09T15:20:47.899Z"
   },
   {
    "duration": -465,
    "start_time": "2022-01-09T15:20:47.903Z"
   },
   {
    "duration": -466,
    "start_time": "2022-01-09T15:20:47.906Z"
   },
   {
    "duration": -468,
    "start_time": "2022-01-09T15:20:47.909Z"
   },
   {
    "duration": -422,
    "start_time": "2022-01-09T15:20:47.913Z"
   },
   {
    "duration": -424,
    "start_time": "2022-01-09T15:20:47.917Z"
   },
   {
    "duration": -426,
    "start_time": "2022-01-09T15:20:47.921Z"
   },
   {
    "duration": -429,
    "start_time": "2022-01-09T15:20:47.926Z"
   },
   {
    "duration": -432,
    "start_time": "2022-01-09T15:20:47.930Z"
   },
   {
    "duration": -436,
    "start_time": "2022-01-09T15:20:47.935Z"
   },
   {
    "duration": -438,
    "start_time": "2022-01-09T15:20:47.938Z"
   },
   {
    "duration": -440,
    "start_time": "2022-01-09T15:20:47.942Z"
   },
   {
    "duration": -503,
    "start_time": "2022-01-09T15:20:48.007Z"
   },
   {
    "duration": -508,
    "start_time": "2022-01-09T15:20:48.014Z"
   },
   {
    "duration": -518,
    "start_time": "2022-01-09T15:20:48.025Z"
   },
   {
    "duration": -536,
    "start_time": "2022-01-09T15:20:48.045Z"
   },
   {
    "duration": -549,
    "start_time": "2022-01-09T15:20:48.059Z"
   },
   {
    "duration": -551,
    "start_time": "2022-01-09T15:20:48.063Z"
   },
   {
    "duration": -559,
    "start_time": "2022-01-09T15:20:48.072Z"
   },
   {
    "duration": -561,
    "start_time": "2022-01-09T15:20:48.076Z"
   },
   {
    "duration": -562,
    "start_time": "2022-01-09T15:20:48.078Z"
   },
   {
    "duration": -571,
    "start_time": "2022-01-09T15:20:48.088Z"
   },
   {
    "duration": -572,
    "start_time": "2022-01-09T15:20:48.091Z"
   },
   {
    "duration": -574,
    "start_time": "2022-01-09T15:20:48.094Z"
   },
   {
    "duration": -576,
    "start_time": "2022-01-09T15:20:48.097Z"
   },
   {
    "duration": -582,
    "start_time": "2022-01-09T15:20:48.105Z"
   },
   {
    "duration": -584,
    "start_time": "2022-01-09T15:20:48.108Z"
   },
   {
    "duration": -585,
    "start_time": "2022-01-09T15:20:48.111Z"
   },
   {
    "duration": -589,
    "start_time": "2022-01-09T15:20:48.115Z"
   },
   {
    "duration": -603,
    "start_time": "2022-01-09T15:20:48.131Z"
   },
   {
    "duration": -606,
    "start_time": "2022-01-09T15:20:48.135Z"
   },
   {
    "duration": -608,
    "start_time": "2022-01-09T15:20:48.138Z"
   },
   {
    "duration": -610,
    "start_time": "2022-01-09T15:20:48.141Z"
   },
   {
    "duration": -613,
    "start_time": "2022-01-09T15:20:48.144Z"
   },
   {
    "duration": -615,
    "start_time": "2022-01-09T15:20:48.147Z"
   },
   {
    "duration": -617,
    "start_time": "2022-01-09T15:20:48.150Z"
   },
   {
    "duration": -620,
    "start_time": "2022-01-09T15:20:48.153Z"
   },
   {
    "duration": -625,
    "start_time": "2022-01-09T15:20:48.159Z"
   },
   {
    "duration": -572,
    "start_time": "2022-01-09T15:20:48.163Z"
   },
   {
    "duration": -573,
    "start_time": "2022-01-09T15:20:48.166Z"
   },
   {
    "duration": -575,
    "start_time": "2022-01-09T15:20:48.169Z"
   },
   {
    "duration": -578,
    "start_time": "2022-01-09T15:20:48.174Z"
   },
   {
    "duration": -580,
    "start_time": "2022-01-09T15:20:48.177Z"
   },
   {
    "duration": -583,
    "start_time": "2022-01-09T15:20:48.181Z"
   },
   {
    "duration": -585,
    "start_time": "2022-01-09T15:20:48.184Z"
   },
   {
    "duration": -587,
    "start_time": "2022-01-09T15:20:48.187Z"
   },
   {
    "duration": -589,
    "start_time": "2022-01-09T15:20:48.191Z"
   },
   {
    "duration": -591,
    "start_time": "2022-01-09T15:20:48.194Z"
   },
   {
    "duration": -595,
    "start_time": "2022-01-09T15:20:48.199Z"
   },
   {
    "duration": -598,
    "start_time": "2022-01-09T15:20:48.203Z"
   },
   {
    "duration": -609,
    "start_time": "2022-01-09T15:20:48.215Z"
   },
   {
    "duration": -612,
    "start_time": "2022-01-09T15:20:48.219Z"
   },
   {
    "duration": 607,
    "start_time": "2022-01-09T15:21:26.593Z"
   },
   {
    "duration": 63,
    "start_time": "2022-01-09T15:21:27.203Z"
   },
   {
    "duration": 10,
    "start_time": "2022-01-09T15:21:27.269Z"
   },
   {
    "duration": 47,
    "start_time": "2022-01-09T15:21:27.281Z"
   },
   {
    "duration": 6,
    "start_time": "2022-01-09T15:21:27.330Z"
   },
   {
    "duration": 12,
    "start_time": "2022-01-09T15:21:27.338Z"
   },
   {
    "duration": 294,
    "start_time": "2022-01-09T15:21:27.352Z"
   },
   {
    "duration": -241,
    "start_time": "2022-01-09T15:21:27.893Z"
   },
   {
    "duration": -242,
    "start_time": "2022-01-09T15:21:27.896Z"
   },
   {
    "duration": -244,
    "start_time": "2022-01-09T15:21:27.899Z"
   },
   {
    "duration": -246,
    "start_time": "2022-01-09T15:21:27.903Z"
   },
   {
    "duration": -249,
    "start_time": "2022-01-09T15:21:27.907Z"
   },
   {
    "duration": -249,
    "start_time": "2022-01-09T15:21:27.909Z"
   },
   {
    "duration": -256,
    "start_time": "2022-01-09T15:21:27.917Z"
   },
   {
    "duration": -257,
    "start_time": "2022-01-09T15:21:27.920Z"
   },
   {
    "duration": -262,
    "start_time": "2022-01-09T15:21:27.926Z"
   },
   {
    "duration": -265,
    "start_time": "2022-01-09T15:21:27.931Z"
   },
   {
    "duration": -267,
    "start_time": "2022-01-09T15:21:27.934Z"
   },
   {
    "duration": -269,
    "start_time": "2022-01-09T15:21:27.938Z"
   },
   {
    "duration": -272,
    "start_time": "2022-01-09T15:21:27.942Z"
   },
   {
    "duration": -374,
    "start_time": "2022-01-09T15:21:28.046Z"
   },
   {
    "duration": -490,
    "start_time": "2022-01-09T15:21:28.163Z"
   },
   {
    "duration": -491,
    "start_time": "2022-01-09T15:21:28.166Z"
   },
   {
    "duration": -493,
    "start_time": "2022-01-09T15:21:28.169Z"
   },
   {
    "duration": -495,
    "start_time": "2022-01-09T15:21:28.173Z"
   },
   {
    "duration": -498,
    "start_time": "2022-01-09T15:21:28.177Z"
   },
   {
    "duration": -501,
    "start_time": "2022-01-09T15:21:28.181Z"
   },
   {
    "duration": -503,
    "start_time": "2022-01-09T15:21:28.184Z"
   },
   {
    "duration": -504,
    "start_time": "2022-01-09T15:21:28.186Z"
   },
   {
    "duration": -507,
    "start_time": "2022-01-09T15:21:28.190Z"
   },
   {
    "duration": -508,
    "start_time": "2022-01-09T15:21:28.193Z"
   },
   {
    "duration": -510,
    "start_time": "2022-01-09T15:21:28.196Z"
   },
   {
    "duration": -512,
    "start_time": "2022-01-09T15:21:28.199Z"
   },
   {
    "duration": -514,
    "start_time": "2022-01-09T15:21:28.202Z"
   },
   {
    "duration": -516,
    "start_time": "2022-01-09T15:21:28.205Z"
   },
   {
    "duration": -518,
    "start_time": "2022-01-09T15:21:28.208Z"
   },
   {
    "duration": -519,
    "start_time": "2022-01-09T15:21:28.210Z"
   },
   {
    "duration": -522,
    "start_time": "2022-01-09T15:21:28.214Z"
   },
   {
    "duration": -523,
    "start_time": "2022-01-09T15:21:28.216Z"
   },
   {
    "duration": -525,
    "start_time": "2022-01-09T15:21:28.219Z"
   },
   {
    "duration": -527,
    "start_time": "2022-01-09T15:21:28.222Z"
   },
   {
    "duration": -528,
    "start_time": "2022-01-09T15:21:28.224Z"
   },
   {
    "duration": -530,
    "start_time": "2022-01-09T15:21:28.227Z"
   },
   {
    "duration": -532,
    "start_time": "2022-01-09T15:21:28.230Z"
   },
   {
    "duration": -532,
    "start_time": "2022-01-09T15:21:28.232Z"
   },
   {
    "duration": -536,
    "start_time": "2022-01-09T15:21:28.236Z"
   },
   {
    "duration": -537,
    "start_time": "2022-01-09T15:21:28.238Z"
   },
   {
    "duration": -547,
    "start_time": "2022-01-09T15:21:28.249Z"
   },
   {
    "duration": -549,
    "start_time": "2022-01-09T15:21:28.252Z"
   },
   {
    "duration": -552,
    "start_time": "2022-01-09T15:21:28.256Z"
   },
   {
    "duration": -552,
    "start_time": "2022-01-09T15:21:28.258Z"
   },
   {
    "duration": -555,
    "start_time": "2022-01-09T15:21:28.262Z"
   },
   {
    "duration": -558,
    "start_time": "2022-01-09T15:21:28.266Z"
   },
   {
    "duration": -560,
    "start_time": "2022-01-09T15:21:28.269Z"
   },
   {
    "duration": -559,
    "start_time": "2022-01-09T15:21:28.271Z"
   },
   {
    "duration": -561,
    "start_time": "2022-01-09T15:21:28.274Z"
   },
   {
    "duration": -563,
    "start_time": "2022-01-09T15:21:28.277Z"
   },
   {
    "duration": -566,
    "start_time": "2022-01-09T15:21:28.281Z"
   },
   {
    "duration": -567,
    "start_time": "2022-01-09T15:21:28.283Z"
   },
   {
    "duration": -568,
    "start_time": "2022-01-09T15:21:28.286Z"
   },
   {
    "duration": -569,
    "start_time": "2022-01-09T15:21:28.288Z"
   },
   {
    "duration": -570,
    "start_time": "2022-01-09T15:21:28.291Z"
   },
   {
    "duration": -572,
    "start_time": "2022-01-09T15:21:28.294Z"
   },
   {
    "duration": -575,
    "start_time": "2022-01-09T15:21:28.298Z"
   },
   {
    "duration": -576,
    "start_time": "2022-01-09T15:21:28.300Z"
   },
   {
    "duration": -578,
    "start_time": "2022-01-09T15:21:28.303Z"
   },
   {
    "duration": -580,
    "start_time": "2022-01-09T15:21:28.306Z"
   },
   {
    "duration": -587,
    "start_time": "2022-01-09T15:21:28.314Z"
   },
   {
    "duration": -589,
    "start_time": "2022-01-09T15:21:28.317Z"
   },
   {
    "duration": -590,
    "start_time": "2022-01-09T15:21:28.319Z"
   },
   {
    "duration": -531,
    "start_time": "2022-01-09T15:21:28.323Z"
   },
   {
    "duration": -533,
    "start_time": "2022-01-09T15:21:28.326Z"
   },
   {
    "duration": -534,
    "start_time": "2022-01-09T15:21:28.329Z"
   },
   {
    "duration": -535,
    "start_time": "2022-01-09T15:21:28.332Z"
   },
   {
    "duration": -536,
    "start_time": "2022-01-09T15:21:28.335Z"
   },
   {
    "duration": -538,
    "start_time": "2022-01-09T15:21:28.338Z"
   },
   {
    "duration": -540,
    "start_time": "2022-01-09T15:21:28.341Z"
   },
   {
    "duration": -541,
    "start_time": "2022-01-09T15:21:28.344Z"
   },
   {
    "duration": -543,
    "start_time": "2022-01-09T15:21:28.347Z"
   },
   {
    "duration": -552,
    "start_time": "2022-01-09T15:21:28.357Z"
   },
   {
    "duration": -554,
    "start_time": "2022-01-09T15:21:28.360Z"
   },
   {
    "duration": -555,
    "start_time": "2022-01-09T15:21:28.363Z"
   },
   {
    "duration": -557,
    "start_time": "2022-01-09T15:21:28.366Z"
   },
   {
    "duration": -558,
    "start_time": "2022-01-09T15:21:28.369Z"
   },
   {
    "duration": -559,
    "start_time": "2022-01-09T15:21:28.371Z"
   },
   {
    "duration": -562,
    "start_time": "2022-01-09T15:21:28.375Z"
   },
   {
    "duration": 589,
    "start_time": "2022-01-09T15:21:47.206Z"
   },
   {
    "duration": 51,
    "start_time": "2022-01-09T15:21:47.797Z"
   },
   {
    "duration": 10,
    "start_time": "2022-01-09T15:21:47.850Z"
   },
   {
    "duration": 40,
    "start_time": "2022-01-09T15:21:47.862Z"
   },
   {
    "duration": 5,
    "start_time": "2022-01-09T15:21:47.904Z"
   },
   {
    "duration": 11,
    "start_time": "2022-01-09T15:21:47.911Z"
   },
   {
    "duration": 229,
    "start_time": "2022-01-09T15:21:47.924Z"
   },
   {
    "duration": -234,
    "start_time": "2022-01-09T15:21:48.392Z"
   },
   {
    "duration": -237,
    "start_time": "2022-01-09T15:21:48.396Z"
   },
   {
    "duration": -242,
    "start_time": "2022-01-09T15:21:48.403Z"
   },
   {
    "duration": -244,
    "start_time": "2022-01-09T15:21:48.406Z"
   },
   {
    "duration": -246,
    "start_time": "2022-01-09T15:21:48.409Z"
   },
   {
    "duration": -248,
    "start_time": "2022-01-09T15:21:48.412Z"
   },
   {
    "duration": -251,
    "start_time": "2022-01-09T15:21:48.416Z"
   },
   {
    "duration": -253,
    "start_time": "2022-01-09T15:21:48.419Z"
   },
   {
    "duration": -255,
    "start_time": "2022-01-09T15:21:48.422Z"
   },
   {
    "duration": -256,
    "start_time": "2022-01-09T15:21:48.424Z"
   },
   {
    "duration": -258,
    "start_time": "2022-01-09T15:21:48.428Z"
   },
   {
    "duration": -259,
    "start_time": "2022-01-09T15:21:48.431Z"
   },
   {
    "duration": -260,
    "start_time": "2022-01-09T15:21:48.433Z"
   },
   {
    "duration": -268,
    "start_time": "2022-01-09T15:21:48.442Z"
   },
   {
    "duration": -272,
    "start_time": "2022-01-09T15:21:48.447Z"
   },
   {
    "duration": -273,
    "start_time": "2022-01-09T15:21:48.450Z"
   },
   {
    "duration": -274,
    "start_time": "2022-01-09T15:21:48.453Z"
   },
   {
    "duration": -276,
    "start_time": "2022-01-09T15:21:48.456Z"
   },
   {
    "duration": -374,
    "start_time": "2022-01-09T15:21:48.556Z"
   },
   {
    "duration": -419,
    "start_time": "2022-01-09T15:21:48.602Z"
   },
   {
    "duration": -421,
    "start_time": "2022-01-09T15:21:48.605Z"
   },
   {
    "duration": -422,
    "start_time": "2022-01-09T15:21:48.608Z"
   },
   {
    "duration": -424,
    "start_time": "2022-01-09T15:21:48.611Z"
   },
   {
    "duration": -463,
    "start_time": "2022-01-09T15:21:48.651Z"
   },
   {
    "duration": -490,
    "start_time": "2022-01-09T15:21:48.680Z"
   },
   {
    "duration": -491,
    "start_time": "2022-01-09T15:21:48.683Z"
   },
   {
    "duration": -493,
    "start_time": "2022-01-09T15:21:48.686Z"
   },
   {
    "duration": -494,
    "start_time": "2022-01-09T15:21:48.689Z"
   },
   {
    "duration": -496,
    "start_time": "2022-01-09T15:21:48.692Z"
   },
   {
    "duration": -498,
    "start_time": "2022-01-09T15:21:48.695Z"
   },
   {
    "duration": -500,
    "start_time": "2022-01-09T15:21:48.698Z"
   },
   {
    "duration": -501,
    "start_time": "2022-01-09T15:21:48.701Z"
   },
   {
    "duration": -503,
    "start_time": "2022-01-09T15:21:48.704Z"
   },
   {
    "duration": -504,
    "start_time": "2022-01-09T15:21:48.706Z"
   },
   {
    "duration": -505,
    "start_time": "2022-01-09T15:21:48.709Z"
   },
   {
    "duration": -506,
    "start_time": "2022-01-09T15:21:48.712Z"
   },
   {
    "duration": -508,
    "start_time": "2022-01-09T15:21:48.715Z"
   },
   {
    "duration": -514,
    "start_time": "2022-01-09T15:21:48.723Z"
   },
   {
    "duration": -516,
    "start_time": "2022-01-09T15:21:48.726Z"
   },
   {
    "duration": -517,
    "start_time": "2022-01-09T15:21:48.729Z"
   },
   {
    "duration": -519,
    "start_time": "2022-01-09T15:21:48.732Z"
   },
   {
    "duration": -519,
    "start_time": "2022-01-09T15:21:48.734Z"
   },
   {
    "duration": -521,
    "start_time": "2022-01-09T15:21:48.737Z"
   },
   {
    "duration": -523,
    "start_time": "2022-01-09T15:21:48.740Z"
   },
   {
    "duration": -524,
    "start_time": "2022-01-09T15:21:48.743Z"
   },
   {
    "duration": -525,
    "start_time": "2022-01-09T15:21:48.745Z"
   },
   {
    "duration": -526,
    "start_time": "2022-01-09T15:21:48.748Z"
   },
   {
    "duration": -527,
    "start_time": "2022-01-09T15:21:48.750Z"
   },
   {
    "duration": -529,
    "start_time": "2022-01-09T15:21:48.753Z"
   },
   {
    "duration": -530,
    "start_time": "2022-01-09T15:21:48.756Z"
   },
   {
    "duration": -532,
    "start_time": "2022-01-09T15:21:48.759Z"
   },
   {
    "duration": -534,
    "start_time": "2022-01-09T15:21:48.762Z"
   },
   {
    "duration": -535,
    "start_time": "2022-01-09T15:21:48.765Z"
   },
   {
    "duration": -537,
    "start_time": "2022-01-09T15:21:48.768Z"
   },
   {
    "duration": -539,
    "start_time": "2022-01-09T15:21:48.771Z"
   },
   {
    "duration": -541,
    "start_time": "2022-01-09T15:21:48.774Z"
   },
   {
    "duration": -543,
    "start_time": "2022-01-09T15:21:48.777Z"
   },
   {
    "duration": -488,
    "start_time": "2022-01-09T15:21:48.780Z"
   },
   {
    "duration": -490,
    "start_time": "2022-01-09T15:21:48.783Z"
   },
   {
    "duration": -491,
    "start_time": "2022-01-09T15:21:48.785Z"
   },
   {
    "duration": -492,
    "start_time": "2022-01-09T15:21:48.788Z"
   },
   {
    "duration": -493,
    "start_time": "2022-01-09T15:21:48.791Z"
   },
   {
    "duration": -495,
    "start_time": "2022-01-09T15:21:48.794Z"
   },
   {
    "duration": -497,
    "start_time": "2022-01-09T15:21:48.797Z"
   },
   {
    "duration": -498,
    "start_time": "2022-01-09T15:21:48.800Z"
   },
   {
    "duration": -499,
    "start_time": "2022-01-09T15:21:48.802Z"
   },
   {
    "duration": -504,
    "start_time": "2022-01-09T15:21:48.808Z"
   },
   {
    "duration": -506,
    "start_time": "2022-01-09T15:21:48.811Z"
   },
   {
    "duration": -506,
    "start_time": "2022-01-09T15:21:48.813Z"
   },
   {
    "duration": -508,
    "start_time": "2022-01-09T15:21:48.816Z"
   },
   {
    "duration": -510,
    "start_time": "2022-01-09T15:21:48.819Z"
   },
   {
    "duration": -511,
    "start_time": "2022-01-09T15:21:48.822Z"
   },
   {
    "duration": -518,
    "start_time": "2022-01-09T15:21:48.831Z"
   },
   {
    "duration": -520,
    "start_time": "2022-01-09T15:21:48.834Z"
   },
   {
    "duration": -522,
    "start_time": "2022-01-09T15:21:48.837Z"
   },
   {
    "duration": -523,
    "start_time": "2022-01-09T15:21:48.840Z"
   },
   {
    "duration": -525,
    "start_time": "2022-01-09T15:21:48.843Z"
   },
   {
    "duration": -525,
    "start_time": "2022-01-09T15:21:48.845Z"
   },
   {
    "duration": -525,
    "start_time": "2022-01-09T15:21:48.848Z"
   },
   {
    "duration": 3,
    "start_time": "2022-01-09T15:21:58.191Z"
   },
   {
    "duration": 43,
    "start_time": "2022-01-09T15:21:58.437Z"
   },
   {
    "duration": 10,
    "start_time": "2022-01-09T15:21:58.801Z"
   },
   {
    "duration": 30,
    "start_time": "2022-01-09T15:21:59.011Z"
   },
   {
    "duration": 5,
    "start_time": "2022-01-09T15:21:59.576Z"
   },
   {
    "duration": 12,
    "start_time": "2022-01-09T15:22:00.121Z"
   },
   {
    "duration": 183,
    "start_time": "2022-01-09T15:22:00.291Z"
   },
   {
    "duration": 4,
    "start_time": "2022-01-09T15:22:02.375Z"
   },
   {
    "duration": 5,
    "start_time": "2022-01-09T15:22:02.704Z"
   },
   {
    "duration": 12,
    "start_time": "2022-01-09T15:22:03.021Z"
   },
   {
    "duration": 8,
    "start_time": "2022-01-09T15:22:03.201Z"
   },
   {
    "duration": 10,
    "start_time": "2022-01-09T15:22:03.545Z"
   },
   {
    "duration": 8,
    "start_time": "2022-01-09T15:22:03.707Z"
   },
   {
    "duration": 7,
    "start_time": "2022-01-09T15:22:04.055Z"
   },
   {
    "duration": 5,
    "start_time": "2022-01-09T15:22:04.431Z"
   },
   {
    "duration": 6,
    "start_time": "2022-01-09T15:22:04.826Z"
   },
   {
    "duration": 11,
    "start_time": "2022-01-09T15:22:05.270Z"
   },
   {
    "duration": 6,
    "start_time": "2022-01-09T15:22:05.885Z"
   },
   {
    "duration": 8,
    "start_time": "2022-01-09T15:22:06.091Z"
   },
   {
    "duration": 14,
    "start_time": "2022-01-09T15:22:06.740Z"
   },
   {
    "duration": 7,
    "start_time": "2022-01-09T15:22:07.401Z"
   },
   {
    "duration": 10,
    "start_time": "2022-01-09T15:22:07.575Z"
   },
   {
    "duration": 9,
    "start_time": "2022-01-09T15:22:07.796Z"
   },
   {
    "duration": 8,
    "start_time": "2022-01-09T15:22:08.040Z"
   },
   {
    "duration": 5,
    "start_time": "2022-01-09T15:22:12.718Z"
   },
   {
    "duration": 22,
    "start_time": "2022-01-09T15:22:12.926Z"
   },
   {
    "duration": 9,
    "start_time": "2022-01-09T15:22:28.485Z"
   },
   {
    "duration": 9,
    "start_time": "2022-01-09T15:22:58.060Z"
   },
   {
    "duration": 8,
    "start_time": "2022-01-09T15:23:39.087Z"
   },
   {
    "duration": 4,
    "start_time": "2022-01-09T15:23:39.611Z"
   },
   {
    "duration": 6,
    "start_time": "2022-01-09T15:23:40.141Z"
   },
   {
    "duration": 10,
    "start_time": "2022-01-09T15:23:40.740Z"
   },
   {
    "duration": 10,
    "start_time": "2022-01-09T15:23:41.011Z"
   },
   {
    "duration": 11,
    "start_time": "2022-01-09T15:23:43.026Z"
   },
   {
    "duration": 8,
    "start_time": "2022-01-09T15:23:44.818Z"
   },
   {
    "duration": 7,
    "start_time": "2022-01-09T15:24:08.046Z"
   },
   {
    "duration": 6,
    "start_time": "2022-01-09T15:24:08.705Z"
   },
   {
    "duration": 11,
    "start_time": "2022-01-09T15:24:09.166Z"
   },
   {
    "duration": 8,
    "start_time": "2022-01-09T15:24:09.848Z"
   },
   {
    "duration": 5,
    "start_time": "2022-01-09T15:24:10.524Z"
   },
   {
    "duration": 10,
    "start_time": "2022-01-09T15:24:10.724Z"
   },
   {
    "duration": 13,
    "start_time": "2022-01-09T15:24:11.408Z"
   },
   {
    "duration": 6,
    "start_time": "2022-01-09T15:24:12.031Z"
   },
   {
    "duration": 8,
    "start_time": "2022-01-09T15:24:12.478Z"
   },
   {
    "duration": 7,
    "start_time": "2022-01-09T15:24:12.488Z"
   },
   {
    "duration": 8,
    "start_time": "2022-01-09T15:24:12.676Z"
   },
   {
    "duration": 4,
    "start_time": "2022-01-09T15:24:13.286Z"
   },
   {
    "duration": 23,
    "start_time": "2022-01-09T15:24:13.516Z"
   },
   {
    "duration": 6,
    "start_time": "2022-01-09T15:24:14.151Z"
   },
   {
    "duration": 13,
    "start_time": "2022-01-09T15:24:14.369Z"
   },
   {
    "duration": 24,
    "start_time": "2022-01-09T15:24:14.581Z"
   },
   {
    "duration": 9,
    "start_time": "2022-01-09T15:24:14.816Z"
   },
   {
    "duration": 8,
    "start_time": "2022-01-09T15:24:15.190Z"
   },
   {
    "duration": 3431,
    "start_time": "2022-01-09T15:24:15.628Z"
   },
   {
    "duration": 33,
    "start_time": "2022-01-09T15:24:19.061Z"
   },
   {
    "duration": 9,
    "start_time": "2022-01-09T15:24:19.096Z"
   },
   {
    "duration": 8,
    "start_time": "2022-01-09T15:24:19.107Z"
   },
   {
    "duration": 12,
    "start_time": "2022-01-09T15:24:19.117Z"
   },
   {
    "duration": 13,
    "start_time": "2022-01-09T15:24:19.131Z"
   },
   {
    "duration": 5,
    "start_time": "2022-01-09T15:24:19.146Z"
   },
   {
    "duration": 180,
    "start_time": "2022-01-09T15:24:19.153Z"
   },
   {
    "duration": -252,
    "start_time": "2022-01-09T15:24:19.587Z"
   },
   {
    "duration": 174,
    "start_time": "2022-01-09T15:24:36.364Z"
   },
   {
    "duration": 8,
    "start_time": "2022-01-09T15:24:51.568Z"
   },
   {
    "duration": 159,
    "start_time": "2022-01-09T15:28:01.505Z"
   },
   {
    "duration": 126,
    "start_time": "2022-01-09T15:28:01.851Z"
   },
   {
    "duration": 125,
    "start_time": "2022-01-09T15:28:02.215Z"
   },
   {
    "duration": 130,
    "start_time": "2022-01-09T15:28:05.049Z"
   },
   {
    "duration": 138,
    "start_time": "2022-01-09T15:28:05.408Z"
   },
   {
    "duration": 251,
    "start_time": "2022-01-09T15:28:05.767Z"
   },
   {
    "duration": 126,
    "start_time": "2022-01-09T15:28:06.211Z"
   },
   {
    "duration": 130,
    "start_time": "2022-01-09T15:28:06.646Z"
   },
   {
    "duration": 141,
    "start_time": "2022-01-09T15:28:06.820Z"
   },
   {
    "duration": 151,
    "start_time": "2022-01-09T15:28:07.031Z"
   },
   {
    "duration": 143,
    "start_time": "2022-01-09T15:28:07.216Z"
   },
   {
    "duration": 160,
    "start_time": "2022-01-09T15:28:07.421Z"
   },
   {
    "duration": 9,
    "start_time": "2022-01-09T15:28:08.025Z"
   },
   {
    "duration": 221,
    "start_time": "2022-01-09T15:28:08.450Z"
   },
   {
    "duration": 12,
    "start_time": "2022-01-09T15:28:08.680Z"
   },
   {
    "duration": 6465,
    "start_time": "2022-01-09T15:28:08.901Z"
   },
   {
    "duration": 34,
    "start_time": "2022-01-09T15:28:15.369Z"
   },
   {
    "duration": 7,
    "start_time": "2022-01-09T15:28:15.407Z"
   },
   {
    "duration": 1067,
    "start_time": "2022-01-09T15:28:15.417Z"
   },
   {
    "duration": 30,
    "start_time": "2022-01-09T15:28:16.486Z"
   },
   {
    "duration": 22,
    "start_time": "2022-01-09T15:32:38.761Z"
   },
   {
    "duration": 18,
    "start_time": "2022-01-09T15:33:08.646Z"
   },
   {
    "duration": 195,
    "start_time": "2022-01-09T15:33:37.191Z"
   },
   {
    "duration": 20,
    "start_time": "2022-01-09T15:33:56.749Z"
   },
   {
    "duration": 4457,
    "start_time": "2022-01-09T15:34:20.824Z"
   },
   {
    "duration": 17,
    "start_time": "2022-01-09T15:34:35.976Z"
   },
   {
    "duration": 4833,
    "start_time": "2022-01-09T15:35:13.450Z"
   },
   {
    "duration": 18,
    "start_time": "2022-01-09T15:35:26.105Z"
   },
   {
    "duration": 25,
    "start_time": "2022-01-09T15:36:01.611Z"
   },
   {
    "duration": 26,
    "start_time": "2022-01-09T15:36:13.513Z"
   },
   {
    "duration": 32,
    "start_time": "2022-01-09T15:36:41.851Z"
   },
   {
    "duration": 21,
    "start_time": "2022-01-09T15:37:43.275Z"
   },
   {
    "duration": 178,
    "start_time": "2022-01-09T15:38:29.371Z"
   },
   {
    "duration": 17,
    "start_time": "2022-01-09T15:38:34.635Z"
   },
   {
    "duration": 26,
    "start_time": "2022-01-09T15:39:58.112Z"
   },
   {
    "duration": 25,
    "start_time": "2022-01-09T15:41:22.874Z"
   },
   {
    "duration": 7,
    "start_time": "2022-01-09T15:41:58.104Z"
   },
   {
    "duration": 7,
    "start_time": "2022-01-09T15:42:09.414Z"
   },
   {
    "duration": 16,
    "start_time": "2022-01-09T15:43:08.125Z"
   },
   {
    "duration": 21,
    "start_time": "2022-01-09T15:43:23.213Z"
   },
   {
    "duration": 14,
    "start_time": "2022-01-09T15:43:34.755Z"
   },
   {
    "duration": 12,
    "start_time": "2022-01-09T15:43:49.564Z"
   },
   {
    "duration": 16,
    "start_time": "2022-01-09T15:44:00.308Z"
   },
   {
    "duration": 4855,
    "start_time": "2022-01-09T15:44:57.595Z"
   },
   {
    "duration": 14,
    "start_time": "2022-01-09T15:45:17.244Z"
   },
   {
    "duration": 25,
    "start_time": "2022-01-09T15:47:15.177Z"
   },
   {
    "duration": 252,
    "start_time": "2022-01-09T15:47:50.165Z"
   },
   {
    "duration": 257,
    "start_time": "2022-01-09T15:47:53.822Z"
   },
   {
    "duration": 299,
    "start_time": "2022-01-09T15:47:54.297Z"
   },
   {
    "duration": 271,
    "start_time": "2022-01-09T15:47:54.717Z"
   },
   {
    "duration": 5,
    "start_time": "2022-01-09T15:47:55.175Z"
   },
   {
    "duration": 253,
    "start_time": "2022-01-09T15:48:05.383Z"
   },
   {
    "duration": 29081,
    "start_time": "2022-01-09T15:49:05.445Z"
   },
   {
    "duration": 30,
    "start_time": "2022-01-09T15:50:28.829Z"
   },
   {
    "duration": 39,
    "start_time": "2022-01-09T15:52:10.981Z"
   },
   {
    "duration": 32598,
    "start_time": "2022-01-09T15:53:27.275Z"
   },
   {
    "duration": 34079,
    "start_time": "2022-01-09T15:54:37.442Z"
   },
   {
    "duration": 214,
    "start_time": "2022-01-09T15:55:57.234Z"
   },
   {
    "duration": 181,
    "start_time": "2022-01-09T15:56:09.976Z"
   },
   {
    "duration": 177,
    "start_time": "2022-01-09T15:56:31.820Z"
   },
   {
    "duration": 32923,
    "start_time": "2022-01-09T15:56:39.847Z"
   },
   {
    "duration": 33391,
    "start_time": "2022-01-09T15:57:25.454Z"
   },
   {
    "duration": 31,
    "start_time": "2022-01-09T15:58:36.585Z"
   },
   {
    "duration": 10523,
    "start_time": "2022-01-09T16:00:12.384Z"
   },
   {
    "duration": 34748,
    "start_time": "2022-01-09T16:01:15.365Z"
   },
   {
    "duration": 753,
    "start_time": "2022-01-09T16:03:53.231Z"
   },
   {
    "duration": 33823,
    "start_time": "2022-01-09T16:04:30.179Z"
   },
   {
    "duration": 183,
    "start_time": "2022-01-09T16:09:22.901Z"
   },
   {
    "duration": 1183,
    "start_time": "2022-01-09T16:09:31.843Z"
   },
   {
    "duration": 2888,
    "start_time": "2022-01-09T16:10:26.280Z"
   },
   {
    "duration": 167,
    "start_time": "2022-01-09T16:10:33.355Z"
   },
   {
    "duration": 274,
    "start_time": "2022-01-10T09:06:41.548Z"
   },
   {
    "duration": 543,
    "start_time": "2022-01-10T09:06:47.170Z"
   },
   {
    "duration": 54,
    "start_time": "2022-01-10T09:06:47.715Z"
   },
   {
    "duration": 12,
    "start_time": "2022-01-10T09:06:47.771Z"
   },
   {
    "duration": 22,
    "start_time": "2022-01-10T09:06:47.785Z"
   },
   {
    "duration": 4,
    "start_time": "2022-01-10T09:06:47.809Z"
   },
   {
    "duration": 8,
    "start_time": "2022-01-10T09:06:47.827Z"
   },
   {
    "duration": 7,
    "start_time": "2022-01-10T09:06:47.836Z"
   },
   {
    "duration": 3,
    "start_time": "2022-01-10T09:06:47.846Z"
   },
   {
    "duration": 7,
    "start_time": "2022-01-10T09:06:47.851Z"
   },
   {
    "duration": 11,
    "start_time": "2022-01-10T09:06:47.859Z"
   },
   {
    "duration": 7,
    "start_time": "2022-01-10T09:06:47.871Z"
   },
   {
    "duration": 7,
    "start_time": "2022-01-10T09:06:47.880Z"
   },
   {
    "duration": 39,
    "start_time": "2022-01-10T09:06:47.888Z"
   },
   {
    "duration": 7,
    "start_time": "2022-01-10T09:06:47.929Z"
   },
   {
    "duration": 5,
    "start_time": "2022-01-10T09:06:47.938Z"
   },
   {
    "duration": 5,
    "start_time": "2022-01-10T09:06:47.945Z"
   },
   {
    "duration": 9,
    "start_time": "2022-01-10T09:06:47.952Z"
   },
   {
    "duration": 12,
    "start_time": "2022-01-10T09:06:47.962Z"
   },
   {
    "duration": 12,
    "start_time": "2022-01-10T09:06:47.975Z"
   },
   {
    "duration": 39,
    "start_time": "2022-01-10T09:06:47.988Z"
   },
   {
    "duration": 4,
    "start_time": "2022-01-10T09:06:48.029Z"
   },
   {
    "duration": 11,
    "start_time": "2022-01-10T09:06:48.035Z"
   },
   {
    "duration": 8,
    "start_time": "2022-01-10T09:06:48.049Z"
   },
   {
    "duration": 7,
    "start_time": "2022-01-10T09:06:48.060Z"
   },
   {
    "duration": 6,
    "start_time": "2022-01-10T09:06:48.068Z"
   },
   {
    "duration": 21,
    "start_time": "2022-01-10T09:06:48.075Z"
   },
   {
    "duration": 34,
    "start_time": "2022-01-10T09:06:48.097Z"
   },
   {
    "duration": 10,
    "start_time": "2022-01-10T09:06:48.132Z"
   },
   {
    "duration": 22,
    "start_time": "2022-01-10T09:06:48.144Z"
   },
   {
    "duration": 6,
    "start_time": "2022-01-10T09:06:48.167Z"
   },
   {
    "duration": 6,
    "start_time": "2022-01-10T09:06:48.174Z"
   },
   {
    "duration": 3474,
    "start_time": "2022-01-10T09:06:48.181Z"
   },
   {
    "duration": 21,
    "start_time": "2022-01-10T09:06:51.657Z"
   },
   {
    "duration": 6,
    "start_time": "2022-01-10T09:06:51.680Z"
   },
   {
    "duration": 19,
    "start_time": "2022-01-10T09:06:51.687Z"
   },
   {
    "duration": 20,
    "start_time": "2022-01-10T09:06:51.707Z"
   },
   {
    "duration": 8,
    "start_time": "2022-01-10T09:06:51.729Z"
   },
   {
    "duration": 8,
    "start_time": "2022-01-10T09:06:51.739Z"
   },
   {
    "duration": 6,
    "start_time": "2022-01-10T09:06:51.749Z"
   },
   {
    "duration": 109,
    "start_time": "2022-01-10T09:06:51.756Z"
   },
   {
    "duration": 170,
    "start_time": "2022-01-10T09:06:51.866Z"
   },
   {
    "duration": 106,
    "start_time": "2022-01-10T09:06:52.038Z"
   },
   {
    "duration": 110,
    "start_time": "2022-01-10T09:06:52.146Z"
   },
   {
    "duration": 111,
    "start_time": "2022-01-10T09:06:52.258Z"
   },
   {
    "duration": 112,
    "start_time": "2022-01-10T09:06:52.370Z"
   },
   {
    "duration": 107,
    "start_time": "2022-01-10T09:06:52.484Z"
   },
   {
    "duration": 105,
    "start_time": "2022-01-10T09:06:52.592Z"
   },
   {
    "duration": 110,
    "start_time": "2022-01-10T09:06:52.699Z"
   },
   {
    "duration": 98,
    "start_time": "2022-01-10T09:06:52.810Z"
   },
   {
    "duration": 119,
    "start_time": "2022-01-10T09:06:52.910Z"
   },
   {
    "duration": 110,
    "start_time": "2022-01-10T09:06:53.030Z"
   },
   {
    "duration": 7,
    "start_time": "2022-01-10T09:06:53.142Z"
   },
   {
    "duration": 95,
    "start_time": "2022-01-10T09:06:53.150Z"
   },
   {
    "duration": 6,
    "start_time": "2022-01-10T09:06:53.247Z"
   },
   {
    "duration": 4381,
    "start_time": "2022-01-10T09:06:53.255Z"
   },
   {
    "duration": 10,
    "start_time": "2022-01-10T09:06:57.637Z"
   },
   {
    "duration": 7,
    "start_time": "2022-01-10T09:06:57.648Z"
   },
   {
    "duration": 697,
    "start_time": "2022-01-10T09:06:57.656Z"
   },
   {
    "duration": 15,
    "start_time": "2022-01-10T09:06:58.355Z"
   },
   {
    "duration": 18,
    "start_time": "2022-01-10T09:06:58.372Z"
   },
   {
    "duration": 194,
    "start_time": "2022-01-10T09:06:58.391Z"
   },
   {
    "duration": 12,
    "start_time": "2022-01-10T09:06:58.587Z"
   },
   {
    "duration": 27,
    "start_time": "2022-01-10T09:06:58.601Z"
   },
   {
    "duration": 11,
    "start_time": "2022-01-10T09:06:58.629Z"
   },
   {
    "duration": 228,
    "start_time": "2022-01-10T09:06:58.642Z"
   },
   {
    "duration": 219,
    "start_time": "2022-01-10T09:06:58.872Z"
   },
   {
    "duration": 235,
    "start_time": "2022-01-10T09:06:59.093Z"
   },
   {
    "duration": 142,
    "start_time": "2022-01-10T09:06:59.333Z"
   },
   {
    "duration": 6,
    "start_time": "2022-01-10T09:06:59.477Z"
   },
   {
    "duration": 16,
    "start_time": "2022-01-10T09:06:59.484Z"
   },
   {
    "duration": 8,
    "start_time": "2022-01-10T09:06:59.502Z"
   },
   {
    "duration": 5,
    "start_time": "2022-01-10T09:06:59.512Z"
   },
   {
    "duration": 10,
    "start_time": "2022-01-10T09:06:59.519Z"
   },
   {
    "duration": 6,
    "start_time": "2022-01-10T09:06:59.530Z"
   },
   {
    "duration": 7,
    "start_time": "2022-01-10T09:06:59.538Z"
   },
   {
    "duration": 13,
    "start_time": "2022-01-10T09:06:59.546Z"
   },
   {
    "duration": 9,
    "start_time": "2022-01-10T09:06:59.560Z"
   },
   {
    "duration": 9,
    "start_time": "2022-01-10T09:06:59.571Z"
   },
   {
    "duration": 369,
    "start_time": "2022-01-10T09:06:59.582Z"
   },
   {
    "duration": 3,
    "start_time": "2022-01-10T09:06:59.953Z"
   },
   {
    "duration": 6,
    "start_time": "2022-01-10T09:06:59.957Z"
   },
   {
    "duration": 11,
    "start_time": "2022-01-10T09:06:59.964Z"
   },
   {
    "duration": 5,
    "start_time": "2022-01-10T09:06:59.977Z"
   },
   {
    "duration": 6,
    "start_time": "2022-01-10T09:06:59.983Z"
   },
   {
    "duration": 5,
    "start_time": "2022-01-10T09:06:59.990Z"
   },
   {
    "duration": 4,
    "start_time": "2022-01-10T09:06:59.996Z"
   },
   {
    "duration": 6,
    "start_time": "2022-01-10T09:07:00.001Z"
   },
   {
    "duration": 19,
    "start_time": "2022-01-10T09:07:00.008Z"
   },
   {
    "duration": 8,
    "start_time": "2022-01-10T09:07:00.028Z"
   }
  ],
  "kernelspec": {
   "display_name": "Python 3",
   "language": "python",
   "name": "python3"
  },
  "language_info": {
   "codemirror_mode": {
    "name": "ipython",
    "version": 3
   },
   "file_extension": ".py",
   "mimetype": "text/x-python",
   "name": "python",
   "nbconvert_exporter": "python",
   "pygments_lexer": "ipython3",
   "version": "3.7.8"
  },
  "toc": {
   "base_numbering": 1,
   "nav_menu": {},
   "number_sections": true,
   "sideBar": true,
   "skip_h1_title": true,
   "title_cell": "Table of Contents",
   "title_sidebar": "Contents",
   "toc_cell": false,
   "toc_position": {},
   "toc_section_display": true,
   "toc_window_display": false
  }
 },
 "nbformat": 4,
 "nbformat_minor": 2
}

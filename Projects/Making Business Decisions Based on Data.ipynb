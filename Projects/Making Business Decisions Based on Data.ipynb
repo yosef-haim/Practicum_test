{
 "cells": [
  {
   "cell_type": "markdown",
   "metadata": {},
   "source": [
    "Hello Yosef!\n",
    "\n",
    "My name is Olga. I'm happy to review your project today. \n",
    "\n",
    "When I will see mistake at the first time, I will just point it out. I let you find it and fix it by yourself. I'm trying to prepare you to work as an Data Analyst. SO, at a real job, your team lead will do the same. But if you can't handle this task yet, I will give you a more accurate hint at the next iteration.\n",
    "\n",
    "Below you will find my comments - **please do not move, modify or delete them**.\n",
    "\n",
    "You can find my comments in green, yellow or red boxes like this:\n",
    "\n",
    "\n",
    "<div class=\"alert alert-block alert-success\">\n",
    "<b>Reviewer's comment</b> <a class=\"tocSkip\"></a>\n",
    "    \n",
    "Success. Everything is done succesfully.\n",
    "</div>\n",
    "\n",
    "\n",
    "<div class=\"alert alert-block alert-warning\">\n",
    "<b>Reviewer's comment</b> <a class=\"tocSkip\"></a>\n",
    "    \n",
    "Remarks. Some recommendations.\n",
    "</div>\n",
    "\n",
    "\n",
    "<div class=\"alert alert-block alert-danger\">\n",
    "    \n",
    "<b>Reviewer's comment</b> <a class=\"tocSkip\"></a>\n",
    "    \n",
    "    \n",
    "Needs fixing. The block requires some corrections. Work can't be accepted with the red comments.\n",
    "</div>\n",
    "\n",
    "\n",
    "You can answer me by using this: \n",
    "\n",
    "<div class=\"alert alert-block alert-info\">\n",
    "<b>Student answer.</b> <a class=\"tocSkip\"></a>\n",
    "\n",
    "Text here.\n",
    "</div>"
   ]
  },
  {
   "cell_type": "markdown",
   "metadata": {},
   "source": [
    "<div class=\"alert alert-block alert-success\">\n",
    "<b>Overallv reviewer's comment</b> <a class=\"tocSkip\"></a>\n",
    "    \n",
    "Yosef, thank you for sending your project. You've done a really good job on it!\n",
    "\n",
    "While there's room for improvement, on the whole, your project is impressive good. I like your code style and project structure. Thank you for graphs. They are very good.\n",
    "\n",
    "<span class=\"text-danger\">There are few things that need to be corrected in your project. They're mostly minor issues that are easy to fix.</span>\n",
    "    \n",
    "Every issue with our code is a chance for us to learn something new. One more time and you'll have it!\n",
    "\n",
    "Good luck! :)\n",
    "    \n",
    "</div>\n",
    "\n",
    "<div class=\"alert alert-block alert-warning\">\n",
    "<b>For your future projects</b> <a class=\"tocSkip\"></a>\n",
    "    \n",
    "   \n",
    "- It would be better to import all libraries in a first cell. It help us to set up of working environment.\n",
    "\n",
    "- It is very good that you use Markdown! Please, use it more clearly. We can use #, ##, ###. etc for title, heading, subtitle, steps, etc. It helps to make our contents more structured\n",
    "    \n",
    "- I saw red automatic comments from Jupiter. We can remove them. We can add to libraries import:\n",
    "  \n",
    "        import warnings\n",
    "\n",
    "        warnings.filterwarnings(\"ignore\")\n",
    "\n",
    "- We should always add a title, axis labels and grid on graph. It help to understand our graph correctly.\n",
    "\n",
    "- We shoud use Kernel-Restart&Run All before sending project. It restart project and help to see errors.\n",
    "\n",
    "- Analytical project should contains comments and conclusions during whole work. It make project completed and inforamble.\n",
    "\n",
    "</div>\n"
   ]
  },
  {
   "cell_type": "markdown",
   "metadata": {},
   "source": [
    "<div class=\"alert alert-block alert-success\">\n",
    "<b>Overallv reviewer's comment. V.2.</b> <a class=\"tocSkip\"></a>\n",
    "    \n",
    "Hi Yosef! I really appreciate the corrections you sent in! Thanks for taking the time to do so. I'm really glad to see that the project is much improved!\n",
    "    \n",
    "<span class=\"text-danger\">However, some other parts still need a bit more work. Could you take a second glance at it? </span>\n",
    "    \n",
    "When you get a moment, shoot back a second round of corrections, and I'll take a look to make sure everything is perfect. :) \n",
    "    \n",
    "</div>"
   ]
  },
  {
   "cell_type": "markdown",
   "metadata": {},
   "source": [
    "<div class=\"alert alert-block alert-warning\">\n",
    "<b>Overallv reviewer's comment. V.2.5.</b> <a class=\"tocSkip\"></a>\n",
    "    \n",
    "Hi Yosef! We need to a bit more work with:\n",
    "    \n",
    "- Plot a scatter chart of the number of orders per user. Make conclusions and conjectures.\n",
    "- Calculate the 95th and 99th percentiles for the number of orders per user. Define the point at which a data point becomes an anomaly.    \n",
    "    \n",
    "I added instructions in the project.    \n",
    "    \n",
    "- Find the statistical significance of the difference in conversion between the groups using the raw data. Make conclusions and conjectures.\n",
    "- Find the statistical significance of the difference in average order size between the groups using the raw data. Make conclusions and conjectures.\n",
    "- Find the statistical significance of the difference in conversion between the groups using the filtered data. Make conclusions and conjectures.\n",
    "- Find the statistical significance of the difference in average order size between the groups using the filtered data. Make conclusions and conjectures.\n",
    "\n",
    "We need 2 tables: choose group and groupr orders by visitor id and use pd.Series.nunique for transaction id\n",
    "    \n",
    "After  we need co contact orders and visist. Could you check theory course? We have a good examples.\n",
    "    \n",
    "Do not hesistate to write to your tutor!\n",
    "    \n",
    "Good luck!\n",
    "</div>\n",
    "\n",
    "<div class=\"alert alert-block alert-warning\">\n",
    "<b>Overallv reviewer's comment. V.2.8.</b> <a class=\"tocSkip\"></a>\n",
    "    \n",
    "Hi Yosef! I asked your tutor to help you! I hope you will undestand last part better with she! :) \n",
    "</div>"
   ]
  },
  {
   "cell_type": "markdown",
   "metadata": {},
   "source": [
    "<div class=\"alert alert-block alert-success\">\n",
    "<b>Overallv reviewer's comment. V.3.</b> <a class=\"tocSkip\"></a>\n",
    "    \n",
    "Hi Yosef! You've worked hard and now your project is good!\n",
    "    \n",
    "I'm glad to say that your project has been accepted.\n",
    "\n",
    "Keep at it. You're improving every day! :) </div>"
   ]
  },
  {
   "cell_type": "markdown",
   "metadata": {},
   "source": [
    "# Project description\n",
    "I'm an analyst at a big online store. Together with the marketing department, you've compiled a list of hypotheses that may help boost revenue.\n",
    "I need to prioritize these hypotheses, launch an A/B test, and analyze the results."
   ]
  },
  {
   "cell_type": "markdown",
   "metadata": {},
   "source": [
    "<div class=\"alert alert-block alert-success\">\n",
    "<b>Reviewer's comment. </b> <a class=\"tocSkip\"></a>\n",
    "    \n",
    "Thank you for the project description! :) </div>"
   ]
  },
  {
   "cell_type": "markdown",
   "metadata": {},
   "source": [
    "# Upload the data"
   ]
  },
  {
   "cell_type": "code",
   "execution_count": 1,
   "metadata": {},
   "outputs": [],
   "source": [
    "import pandas as pd\n",
    "import numpy as np\n",
    "import scipy.stats as stats\n",
    "from scipy import stats as st\n",
    "import math as mth\n",
    "import matplotlib.pyplot as plt"
   ]
  },
  {
   "cell_type": "code",
   "execution_count": 2,
   "metadata": {},
   "outputs": [],
   "source": [
    "  import warnings\n",
    "\n",
    "  warnings.filterwarnings(\"ignore\")"
   ]
  },
  {
   "cell_type": "code",
   "execution_count": 3,
   "metadata": {},
   "outputs": [],
   "source": [
    "hypothesis = pd.read_csv('/datasets/hypotheses_us.csv', sep=';')\n",
    "orders = pd.read_csv('/datasets/orders_us.csv')\n",
    "visitors = pd.read_csv('/datasets/visits_us.csv')"
   ]
  },
  {
   "cell_type": "markdown",
   "metadata": {},
   "source": [
    "# Preparing the data for analysis part 1"
   ]
  },
  {
   "cell_type": "code",
   "execution_count": 4,
   "metadata": {},
   "outputs": [],
   "source": [
    "hypothesis.columns =hypothesis.columns.str.lower()"
   ]
  },
  {
   "cell_type": "code",
   "execution_count": 5,
   "metadata": {},
   "outputs": [
    {
     "name": "stdout",
     "output_type": "stream",
     "text": [
      "<class 'pandas.core.frame.DataFrame'>\n",
      "RangeIndex: 9 entries, 0 to 8\n",
      "Data columns (total 5 columns):\n",
      "hypothesis    9 non-null object\n",
      "reach         9 non-null int64\n",
      "impact        9 non-null int64\n",
      "confidence    9 non-null int64\n",
      "effort        9 non-null int64\n",
      "dtypes: int64(4), object(1)\n",
      "memory usage: 488.0+ bytes\n"
     ]
    }
   ],
   "source": [
    "hypothesis.info()"
   ]
  },
  {
   "cell_type": "code",
   "execution_count": 6,
   "metadata": {},
   "outputs": [
    {
     "name": "stdout",
     "output_type": "stream",
     "text": [
      "<class 'pandas.core.frame.DataFrame'>\n",
      "RangeIndex: 1197 entries, 0 to 1196\n",
      "Data columns (total 5 columns):\n",
      "transactionId    1197 non-null int64\n",
      "visitorId        1197 non-null int64\n",
      "date             1197 non-null object\n",
      "revenue          1197 non-null float64\n",
      "group            1197 non-null object\n",
      "dtypes: float64(1), int64(2), object(2)\n",
      "memory usage: 46.9+ KB\n"
     ]
    }
   ],
   "source": [
    "orders.info()"
   ]
  },
  {
   "cell_type": "code",
   "execution_count": 7,
   "metadata": {},
   "outputs": [
    {
     "name": "stdout",
     "output_type": "stream",
     "text": [
      "<class 'pandas.core.frame.DataFrame'>\n",
      "RangeIndex: 62 entries, 0 to 61\n",
      "Data columns (total 3 columns):\n",
      "date      62 non-null object\n",
      "group     62 non-null object\n",
      "visits    62 non-null int64\n",
      "dtypes: int64(1), object(2)\n",
      "memory usage: 1.6+ KB\n"
     ]
    }
   ],
   "source": [
    "visitors.info()"
   ]
  },
  {
   "cell_type": "code",
   "execution_count": 8,
   "metadata": {},
   "outputs": [
    {
     "data": {
      "text/html": [
       "<div>\n",
       "<style scoped>\n",
       "    .dataframe tbody tr th:only-of-type {\n",
       "        vertical-align: middle;\n",
       "    }\n",
       "\n",
       "    .dataframe tbody tr th {\n",
       "        vertical-align: top;\n",
       "    }\n",
       "\n",
       "    .dataframe thead th {\n",
       "        text-align: right;\n",
       "    }\n",
       "</style>\n",
       "<table border=\"1\" class=\"dataframe\">\n",
       "  <thead>\n",
       "    <tr style=\"text-align: right;\">\n",
       "      <th></th>\n",
       "      <th>reach</th>\n",
       "      <th>impact</th>\n",
       "      <th>confidence</th>\n",
       "      <th>effort</th>\n",
       "    </tr>\n",
       "  </thead>\n",
       "  <tbody>\n",
       "    <tr>\n",
       "      <td>count</td>\n",
       "      <td>9.000000</td>\n",
       "      <td>9.000000</td>\n",
       "      <td>9.000000</td>\n",
       "      <td>9.000000</td>\n",
       "    </tr>\n",
       "    <tr>\n",
       "      <td>mean</td>\n",
       "      <td>4.777778</td>\n",
       "      <td>4.777778</td>\n",
       "      <td>5.555556</td>\n",
       "      <td>4.888889</td>\n",
       "    </tr>\n",
       "    <tr>\n",
       "      <td>std</td>\n",
       "      <td>3.153481</td>\n",
       "      <td>3.192874</td>\n",
       "      <td>3.045944</td>\n",
       "      <td>2.803767</td>\n",
       "    </tr>\n",
       "    <tr>\n",
       "      <td>min</td>\n",
       "      <td>1.000000</td>\n",
       "      <td>1.000000</td>\n",
       "      <td>1.000000</td>\n",
       "      <td>1.000000</td>\n",
       "    </tr>\n",
       "    <tr>\n",
       "      <td>25%</td>\n",
       "      <td>3.000000</td>\n",
       "      <td>3.000000</td>\n",
       "      <td>3.000000</td>\n",
       "      <td>3.000000</td>\n",
       "    </tr>\n",
       "    <tr>\n",
       "      <td>50%</td>\n",
       "      <td>3.000000</td>\n",
       "      <td>3.000000</td>\n",
       "      <td>7.000000</td>\n",
       "      <td>5.000000</td>\n",
       "    </tr>\n",
       "    <tr>\n",
       "      <td>75%</td>\n",
       "      <td>8.000000</td>\n",
       "      <td>7.000000</td>\n",
       "      <td>8.000000</td>\n",
       "      <td>6.000000</td>\n",
       "    </tr>\n",
       "    <tr>\n",
       "      <td>max</td>\n",
       "      <td>10.000000</td>\n",
       "      <td>10.000000</td>\n",
       "      <td>9.000000</td>\n",
       "      <td>10.000000</td>\n",
       "    </tr>\n",
       "  </tbody>\n",
       "</table>\n",
       "</div>"
      ],
      "text/plain": [
       "           reach     impact  confidence     effort\n",
       "count   9.000000   9.000000    9.000000   9.000000\n",
       "mean    4.777778   4.777778    5.555556   4.888889\n",
       "std     3.153481   3.192874    3.045944   2.803767\n",
       "min     1.000000   1.000000    1.000000   1.000000\n",
       "25%     3.000000   3.000000    3.000000   3.000000\n",
       "50%     3.000000   3.000000    7.000000   5.000000\n",
       "75%     8.000000   7.000000    8.000000   6.000000\n",
       "max    10.000000  10.000000    9.000000  10.000000"
      ]
     },
     "execution_count": 8,
     "metadata": {},
     "output_type": "execute_result"
    }
   ],
   "source": [
    "hypothesis.describe()"
   ]
  },
  {
   "cell_type": "code",
   "execution_count": 9,
   "metadata": {},
   "outputs": [
    {
     "data": {
      "text/html": [
       "<div>\n",
       "<style scoped>\n",
       "    .dataframe tbody tr th:only-of-type {\n",
       "        vertical-align: middle;\n",
       "    }\n",
       "\n",
       "    .dataframe tbody tr th {\n",
       "        vertical-align: top;\n",
       "    }\n",
       "\n",
       "    .dataframe thead th {\n",
       "        text-align: right;\n",
       "    }\n",
       "</style>\n",
       "<table border=\"1\" class=\"dataframe\">\n",
       "  <thead>\n",
       "    <tr style=\"text-align: right;\">\n",
       "      <th></th>\n",
       "      <th>transactionId</th>\n",
       "      <th>visitorId</th>\n",
       "      <th>revenue</th>\n",
       "    </tr>\n",
       "  </thead>\n",
       "  <tbody>\n",
       "    <tr>\n",
       "      <td>count</td>\n",
       "      <td>1.197000e+03</td>\n",
       "      <td>1.197000e+03</td>\n",
       "      <td>1197.000000</td>\n",
       "    </tr>\n",
       "    <tr>\n",
       "      <td>mean</td>\n",
       "      <td>2.155621e+09</td>\n",
       "      <td>2.165960e+09</td>\n",
       "      <td>131.491646</td>\n",
       "    </tr>\n",
       "    <tr>\n",
       "      <td>std</td>\n",
       "      <td>1.229085e+09</td>\n",
       "      <td>1.236014e+09</td>\n",
       "      <td>603.004729</td>\n",
       "    </tr>\n",
       "    <tr>\n",
       "      <td>min</td>\n",
       "      <td>1.062393e+06</td>\n",
       "      <td>5.114589e+06</td>\n",
       "      <td>5.000000</td>\n",
       "    </tr>\n",
       "    <tr>\n",
       "      <td>25%</td>\n",
       "      <td>1.166776e+09</td>\n",
       "      <td>1.111826e+09</td>\n",
       "      <td>20.800000</td>\n",
       "    </tr>\n",
       "    <tr>\n",
       "      <td>50%</td>\n",
       "      <td>2.145194e+09</td>\n",
       "      <td>2.217985e+09</td>\n",
       "      <td>50.200000</td>\n",
       "    </tr>\n",
       "    <tr>\n",
       "      <td>75%</td>\n",
       "      <td>3.237740e+09</td>\n",
       "      <td>3.177606e+09</td>\n",
       "      <td>130.400000</td>\n",
       "    </tr>\n",
       "    <tr>\n",
       "      <td>max</td>\n",
       "      <td>4.293856e+09</td>\n",
       "      <td>4.283872e+09</td>\n",
       "      <td>19920.400000</td>\n",
       "    </tr>\n",
       "  </tbody>\n",
       "</table>\n",
       "</div>"
      ],
      "text/plain": [
       "       transactionId     visitorId       revenue\n",
       "count   1.197000e+03  1.197000e+03   1197.000000\n",
       "mean    2.155621e+09  2.165960e+09    131.491646\n",
       "std     1.229085e+09  1.236014e+09    603.004729\n",
       "min     1.062393e+06  5.114589e+06      5.000000\n",
       "25%     1.166776e+09  1.111826e+09     20.800000\n",
       "50%     2.145194e+09  2.217985e+09     50.200000\n",
       "75%     3.237740e+09  3.177606e+09    130.400000\n",
       "max     4.293856e+09  4.283872e+09  19920.400000"
      ]
     },
     "execution_count": 9,
     "metadata": {},
     "output_type": "execute_result"
    }
   ],
   "source": [
    "orders.describe()"
   ]
  },
  {
   "cell_type": "code",
   "execution_count": 10,
   "metadata": {},
   "outputs": [
    {
     "data": {
      "text/html": [
       "<div>\n",
       "<style scoped>\n",
       "    .dataframe tbody tr th:only-of-type {\n",
       "        vertical-align: middle;\n",
       "    }\n",
       "\n",
       "    .dataframe tbody tr th {\n",
       "        vertical-align: top;\n",
       "    }\n",
       "\n",
       "    .dataframe thead th {\n",
       "        text-align: right;\n",
       "    }\n",
       "</style>\n",
       "<table border=\"1\" class=\"dataframe\">\n",
       "  <thead>\n",
       "    <tr style=\"text-align: right;\">\n",
       "      <th></th>\n",
       "      <th>visits</th>\n",
       "    </tr>\n",
       "  </thead>\n",
       "  <tbody>\n",
       "    <tr>\n",
       "      <td>count</td>\n",
       "      <td>62.000000</td>\n",
       "    </tr>\n",
       "    <tr>\n",
       "      <td>mean</td>\n",
       "      <td>607.290323</td>\n",
       "    </tr>\n",
       "    <tr>\n",
       "      <td>std</td>\n",
       "      <td>114.400560</td>\n",
       "    </tr>\n",
       "    <tr>\n",
       "      <td>min</td>\n",
       "      <td>361.000000</td>\n",
       "    </tr>\n",
       "    <tr>\n",
       "      <td>25%</td>\n",
       "      <td>534.000000</td>\n",
       "    </tr>\n",
       "    <tr>\n",
       "      <td>50%</td>\n",
       "      <td>624.500000</td>\n",
       "    </tr>\n",
       "    <tr>\n",
       "      <td>75%</td>\n",
       "      <td>710.500000</td>\n",
       "    </tr>\n",
       "    <tr>\n",
       "      <td>max</td>\n",
       "      <td>770.000000</td>\n",
       "    </tr>\n",
       "  </tbody>\n",
       "</table>\n",
       "</div>"
      ],
      "text/plain": [
       "           visits\n",
       "count   62.000000\n",
       "mean   607.290323\n",
       "std    114.400560\n",
       "min    361.000000\n",
       "25%    534.000000\n",
       "50%    624.500000\n",
       "75%    710.500000\n",
       "max    770.000000"
      ]
     },
     "execution_count": 10,
     "metadata": {},
     "output_type": "execute_result"
    }
   ],
   "source": [
    "visitors.describe()"
   ]
  },
  {
   "cell_type": "markdown",
   "metadata": {},
   "source": [
    "# checking for missing values"
   ]
  },
  {
   "cell_type": "code",
   "execution_count": 11,
   "metadata": {},
   "outputs": [
    {
     "data": {
      "text/plain": [
       "hypothesis    0\n",
       "reach         0\n",
       "impact        0\n",
       "confidence    0\n",
       "effort        0\n",
       "dtype: int64"
      ]
     },
     "execution_count": 11,
     "metadata": {},
     "output_type": "execute_result"
    }
   ],
   "source": [
    "hypothesis.isna().sum()"
   ]
  },
  {
   "cell_type": "markdown",
   "metadata": {},
   "source": [
    "There are no missing values in this data."
   ]
  },
  {
   "cell_type": "markdown",
   "metadata": {},
   "source": [
    "# Checking for duplicates"
   ]
  },
  {
   "cell_type": "code",
   "execution_count": 12,
   "metadata": {},
   "outputs": [
    {
     "data": {
      "text/plain": [
       "0"
      ]
     },
     "execution_count": 12,
     "metadata": {},
     "output_type": "execute_result"
    }
   ],
   "source": [
    "hypothesis.duplicated().sum()"
   ]
  },
  {
   "cell_type": "code",
   "execution_count": 13,
   "metadata": {},
   "outputs": [
    {
     "data": {
      "text/plain": [
       "0"
      ]
     },
     "execution_count": 13,
     "metadata": {},
     "output_type": "execute_result"
    }
   ],
   "source": [
    "orders.duplicated().sum()"
   ]
  },
  {
   "cell_type": "code",
   "execution_count": 14,
   "metadata": {},
   "outputs": [
    {
     "data": {
      "text/plain": [
       "0"
      ]
     },
     "execution_count": 14,
     "metadata": {},
     "output_type": "execute_result"
    }
   ],
   "source": [
    "visitors.duplicated().sum()"
   ]
  },
  {
   "cell_type": "markdown",
   "metadata": {},
   "source": [
    "There are no duplicates values."
   ]
  },
  {
   "cell_type": "code",
   "execution_count": 15,
   "metadata": {},
   "outputs": [
    {
     "data": {
      "text/plain": [
       "hypothesis    Show banners with current offers and sales on ...\n",
       "reach                                                        10\n",
       "impact                                                       10\n",
       "confidence                                                    9\n",
       "effort                                                       10\n",
       "dtype: object"
      ]
     },
     "execution_count": 15,
     "metadata": {},
     "output_type": "execute_result"
    }
   ],
   "source": [
    "hypothesis.max()"
   ]
  },
  {
   "cell_type": "code",
   "execution_count": 16,
   "metadata": {},
   "outputs": [
    {
     "data": {
      "text/plain": [
       "557"
      ]
     },
     "execution_count": 16,
     "metadata": {},
     "output_type": "execute_result"
    }
   ],
   "source": [
    "userId_in_both = orders[orders['group']=='A']['visitorId'].isin(orders[orders['group']=='B'])\n",
    "userId_in_both.count()"
   ]
  },
  {
   "cell_type": "markdown",
   "metadata": {},
   "source": [
    "There are 557 users that apears in both of the groups."
   ]
  },
  {
   "cell_type": "markdown",
   "metadata": {},
   "source": [
    "<div class=\"alert alert-block alert-danger\">\n",
    "<s><b>Reviewer's comment</b> <a class=\"tocSkip\"></a>\n",
    "    \n",
    "We should show full text of hypotheses. Could you show full first column? max column width can help with it. :)\n",
    "    \n",
    "And what about other datasets? We need to check them too. Also we need to check users. Perhaps somebody in a both groups.\n",
    "</div>"
   ]
  },
  {
   "cell_type": "markdown",
   "metadata": {},
   "source": [
    "<div class=\"alert alert-block alert-success\">\n",
    "<b>Reviewer's comment. V.2.</b> <a class=\"tocSkip\"></a>\n",
    "    \n",
    "Very good that now we have information about our datasets!\n",
    "</div>\n",
    "\n",
    "<div class=\"alert alert-block alert-danger\">\n",
    "<s><b>Reviewer's comment. V.2. </b> <a class=\"tocSkip\"></a>\n",
    "    \n",
    "We still need to see full text of hypotheses. Could you do this? \n",
    "    \n",
    "We need to check users like this:\n",
    "</div>"
   ]
  },
  {
   "cell_type": "code",
   "execution_count": 17,
   "metadata": {},
   "outputs": [
    {
     "name": "stdout",
     "output_type": "stream",
     "text": [
      "0    Add two new channels for attracting traffic. This will bring 30% more users                                           \n",
      "1    Launch your own delivery service. This will shorten delivery time                                                     \n",
      "2    Add product recommendation blocks to the store's site. This will increase conversion and average purchase size        \n",
      "3    Change the category structure. This will increase conversion since users will find the products they want more quickly\n",
      "4    Change the background color on the main page. This will increase user engagement                                      \n",
      "5    Add a customer review page. This will increase the number of orders                                                   \n",
      "6    Show banners with current offers and sales on the main page. This will boost conversion                               \n",
      "7    Add a subscription form to all the main pages. This will help you compile a mailing list                              \n",
      "8    Launch a promotion that gives users discounts on their birthdays                                                      \n",
      "Name: hypothesis, dtype: object\n"
     ]
    }
   ],
   "source": [
    "pd.set_option('display.max_colwidth', -1)\n",
    "print(hypothesis['hypothesis'])"
   ]
  },
  {
   "cell_type": "markdown",
   "metadata": {},
   "source": [
    "<div class=\"alert alert-block alert-success\">\n",
    "<b>Reviewer's comment. V.3. </b> <a class=\"tocSkip\"></a>\n",
    "    \n",
    "Thank you!\n",
    "</div>\n",
    "<div class=\"alert alert-block alert-warning\">\n",
    "<b>Reviewer's comment. V.2. </b> <a class=\"tocSkip\"></a>\n",
    "      \n",
    "We need to check users like this:\n",
    "</div>"
   ]
  },
  {
   "cell_type": "code",
   "execution_count": 18,
   "metadata": {},
   "outputs": [
    {
     "data": {
      "text/plain": [
       "92"
      ]
     },
     "execution_count": 18,
     "metadata": {},
     "output_type": "execute_result"
    }
   ],
   "source": [
    "groupA = orders[orders['group'] == 'A']\n",
    "groupB = orders[orders['group'] == 'B']\n",
    "\n",
    "groupB[groupB.visitorId.isin(groupA.visitorId)].shape[0]"
   ]
  },
  {
   "cell_type": "code",
   "execution_count": 19,
   "metadata": {},
   "outputs": [],
   "source": [
    "hypothesis['ice'] =  (hypothesis['impact'] * hypothesis['confidence'])/hypothesis['effort']"
   ]
  },
  {
   "cell_type": "code",
   "execution_count": 20,
   "metadata": {},
   "outputs": [
    {
     "data": {
      "text/html": [
       "<div>\n",
       "<style scoped>\n",
       "    .dataframe tbody tr th:only-of-type {\n",
       "        vertical-align: middle;\n",
       "    }\n",
       "\n",
       "    .dataframe tbody tr th {\n",
       "        vertical-align: top;\n",
       "    }\n",
       "\n",
       "    .dataframe thead th {\n",
       "        text-align: right;\n",
       "    }\n",
       "</style>\n",
       "<table border=\"1\" class=\"dataframe\">\n",
       "  <thead>\n",
       "    <tr style=\"text-align: right;\">\n",
       "      <th></th>\n",
       "      <th>hypothesis</th>\n",
       "      <th>reach</th>\n",
       "      <th>impact</th>\n",
       "      <th>confidence</th>\n",
       "      <th>effort</th>\n",
       "      <th>ice</th>\n",
       "    </tr>\n",
       "  </thead>\n",
       "  <tbody>\n",
       "    <tr>\n",
       "      <td>8</td>\n",
       "      <td>Launch a promotion that gives users discounts on their birthdays</td>\n",
       "      <td>1</td>\n",
       "      <td>9</td>\n",
       "      <td>9</td>\n",
       "      <td>5</td>\n",
       "      <td>16.200000</td>\n",
       "    </tr>\n",
       "    <tr>\n",
       "      <td>0</td>\n",
       "      <td>Add two new channels for attracting traffic. This will bring 30% more users</td>\n",
       "      <td>3</td>\n",
       "      <td>10</td>\n",
       "      <td>8</td>\n",
       "      <td>6</td>\n",
       "      <td>13.333333</td>\n",
       "    </tr>\n",
       "    <tr>\n",
       "      <td>7</td>\n",
       "      <td>Add a subscription form to all the main pages. This will help you compile a mailing list</td>\n",
       "      <td>10</td>\n",
       "      <td>7</td>\n",
       "      <td>8</td>\n",
       "      <td>5</td>\n",
       "      <td>11.200000</td>\n",
       "    </tr>\n",
       "    <tr>\n",
       "      <td>6</td>\n",
       "      <td>Show banners with current offers and sales on the main page. This will boost conversion</td>\n",
       "      <td>5</td>\n",
       "      <td>3</td>\n",
       "      <td>8</td>\n",
       "      <td>3</td>\n",
       "      <td>8.000000</td>\n",
       "    </tr>\n",
       "    <tr>\n",
       "      <td>2</td>\n",
       "      <td>Add product recommendation blocks to the store's site. This will increase conversion and average purchase size</td>\n",
       "      <td>8</td>\n",
       "      <td>3</td>\n",
       "      <td>7</td>\n",
       "      <td>3</td>\n",
       "      <td>7.000000</td>\n",
       "    </tr>\n",
       "    <tr>\n",
       "      <td>1</td>\n",
       "      <td>Launch your own delivery service. This will shorten delivery time</td>\n",
       "      <td>2</td>\n",
       "      <td>5</td>\n",
       "      <td>4</td>\n",
       "      <td>10</td>\n",
       "      <td>2.000000</td>\n",
       "    </tr>\n",
       "    <tr>\n",
       "      <td>5</td>\n",
       "      <td>Add a customer review page. This will increase the number of orders</td>\n",
       "      <td>3</td>\n",
       "      <td>2</td>\n",
       "      <td>2</td>\n",
       "      <td>3</td>\n",
       "      <td>1.333333</td>\n",
       "    </tr>\n",
       "    <tr>\n",
       "      <td>3</td>\n",
       "      <td>Change the category structure. This will increase conversion since users will find the products they want more quickly</td>\n",
       "      <td>8</td>\n",
       "      <td>3</td>\n",
       "      <td>3</td>\n",
       "      <td>8</td>\n",
       "      <td>1.125000</td>\n",
       "    </tr>\n",
       "    <tr>\n",
       "      <td>4</td>\n",
       "      <td>Change the background color on the main page. This will increase user engagement</td>\n",
       "      <td>3</td>\n",
       "      <td>1</td>\n",
       "      <td>1</td>\n",
       "      <td>1</td>\n",
       "      <td>1.000000</td>\n",
       "    </tr>\n",
       "  </tbody>\n",
       "</table>\n",
       "</div>"
      ],
      "text/plain": [
       "                                                                                                               hypothesis  \\\n",
       "8  Launch a promotion that gives users discounts on their birthdays                                                         \n",
       "0  Add two new channels for attracting traffic. This will bring 30% more users                                              \n",
       "7  Add a subscription form to all the main pages. This will help you compile a mailing list                                 \n",
       "6  Show banners with current offers and sales on the main page. This will boost conversion                                  \n",
       "2  Add product recommendation blocks to the store's site. This will increase conversion and average purchase size           \n",
       "1  Launch your own delivery service. This will shorten delivery time                                                        \n",
       "5  Add a customer review page. This will increase the number of orders                                                      \n",
       "3  Change the category structure. This will increase conversion since users will find the products they want more quickly   \n",
       "4  Change the background color on the main page. This will increase user engagement                                         \n",
       "\n",
       "   reach  impact  confidence  effort        ice  \n",
       "8  1      9       9           5       16.200000  \n",
       "0  3      10      8           6       13.333333  \n",
       "7  10     7       8           5       11.200000  \n",
       "6  5      3       8           3       8.000000   \n",
       "2  8      3       7           3       7.000000   \n",
       "1  2      5       4           10      2.000000   \n",
       "5  3      2       2           3       1.333333   \n",
       "3  8      3       3           8       1.125000   \n",
       "4  3      1       1           1       1.000000   "
      ]
     },
     "execution_count": 20,
     "metadata": {},
     "output_type": "execute_result"
    }
   ],
   "source": [
    "hypothesis.sort_values(by='ice', ascending=False)"
   ]
  },
  {
   "cell_type": "code",
   "execution_count": 21,
   "metadata": {},
   "outputs": [],
   "source": [
    "hypothesis['rice'] = (hypothesis['reach'] * hypothesis['impact'] * hypothesis['confidence']) / hypothesis['effort']"
   ]
  },
  {
   "cell_type": "code",
   "execution_count": 22,
   "metadata": {},
   "outputs": [
    {
     "data": {
      "text/html": [
       "<div>\n",
       "<style scoped>\n",
       "    .dataframe tbody tr th:only-of-type {\n",
       "        vertical-align: middle;\n",
       "    }\n",
       "\n",
       "    .dataframe tbody tr th {\n",
       "        vertical-align: top;\n",
       "    }\n",
       "\n",
       "    .dataframe thead th {\n",
       "        text-align: right;\n",
       "    }\n",
       "</style>\n",
       "<table border=\"1\" class=\"dataframe\">\n",
       "  <thead>\n",
       "    <tr style=\"text-align: right;\">\n",
       "      <th></th>\n",
       "      <th>hypothesis</th>\n",
       "      <th>reach</th>\n",
       "      <th>impact</th>\n",
       "      <th>confidence</th>\n",
       "      <th>effort</th>\n",
       "      <th>ice</th>\n",
       "      <th>rice</th>\n",
       "    </tr>\n",
       "  </thead>\n",
       "  <tbody>\n",
       "    <tr>\n",
       "      <td>7</td>\n",
       "      <td>Add a subscription form to all the main pages. This will help you compile a mailing list</td>\n",
       "      <td>10</td>\n",
       "      <td>7</td>\n",
       "      <td>8</td>\n",
       "      <td>5</td>\n",
       "      <td>11.200000</td>\n",
       "      <td>112.0</td>\n",
       "    </tr>\n",
       "    <tr>\n",
       "      <td>2</td>\n",
       "      <td>Add product recommendation blocks to the store's site. This will increase conversion and average purchase size</td>\n",
       "      <td>8</td>\n",
       "      <td>3</td>\n",
       "      <td>7</td>\n",
       "      <td>3</td>\n",
       "      <td>7.000000</td>\n",
       "      <td>56.0</td>\n",
       "    </tr>\n",
       "    <tr>\n",
       "      <td>0</td>\n",
       "      <td>Add two new channels for attracting traffic. This will bring 30% more users</td>\n",
       "      <td>3</td>\n",
       "      <td>10</td>\n",
       "      <td>8</td>\n",
       "      <td>6</td>\n",
       "      <td>13.333333</td>\n",
       "      <td>40.0</td>\n",
       "    </tr>\n",
       "    <tr>\n",
       "      <td>6</td>\n",
       "      <td>Show banners with current offers and sales on the main page. This will boost conversion</td>\n",
       "      <td>5</td>\n",
       "      <td>3</td>\n",
       "      <td>8</td>\n",
       "      <td>3</td>\n",
       "      <td>8.000000</td>\n",
       "      <td>40.0</td>\n",
       "    </tr>\n",
       "    <tr>\n",
       "      <td>8</td>\n",
       "      <td>Launch a promotion that gives users discounts on their birthdays</td>\n",
       "      <td>1</td>\n",
       "      <td>9</td>\n",
       "      <td>9</td>\n",
       "      <td>5</td>\n",
       "      <td>16.200000</td>\n",
       "      <td>16.2</td>\n",
       "    </tr>\n",
       "    <tr>\n",
       "      <td>3</td>\n",
       "      <td>Change the category structure. This will increase conversion since users will find the products they want more quickly</td>\n",
       "      <td>8</td>\n",
       "      <td>3</td>\n",
       "      <td>3</td>\n",
       "      <td>8</td>\n",
       "      <td>1.125000</td>\n",
       "      <td>9.0</td>\n",
       "    </tr>\n",
       "    <tr>\n",
       "      <td>1</td>\n",
       "      <td>Launch your own delivery service. This will shorten delivery time</td>\n",
       "      <td>2</td>\n",
       "      <td>5</td>\n",
       "      <td>4</td>\n",
       "      <td>10</td>\n",
       "      <td>2.000000</td>\n",
       "      <td>4.0</td>\n",
       "    </tr>\n",
       "    <tr>\n",
       "      <td>5</td>\n",
       "      <td>Add a customer review page. This will increase the number of orders</td>\n",
       "      <td>3</td>\n",
       "      <td>2</td>\n",
       "      <td>2</td>\n",
       "      <td>3</td>\n",
       "      <td>1.333333</td>\n",
       "      <td>4.0</td>\n",
       "    </tr>\n",
       "    <tr>\n",
       "      <td>4</td>\n",
       "      <td>Change the background color on the main page. This will increase user engagement</td>\n",
       "      <td>3</td>\n",
       "      <td>1</td>\n",
       "      <td>1</td>\n",
       "      <td>1</td>\n",
       "      <td>1.000000</td>\n",
       "      <td>3.0</td>\n",
       "    </tr>\n",
       "  </tbody>\n",
       "</table>\n",
       "</div>"
      ],
      "text/plain": [
       "                                                                                                               hypothesis  \\\n",
       "7  Add a subscription form to all the main pages. This will help you compile a mailing list                                 \n",
       "2  Add product recommendation blocks to the store's site. This will increase conversion and average purchase size           \n",
       "0  Add two new channels for attracting traffic. This will bring 30% more users                                              \n",
       "6  Show banners with current offers and sales on the main page. This will boost conversion                                  \n",
       "8  Launch a promotion that gives users discounts on their birthdays                                                         \n",
       "3  Change the category structure. This will increase conversion since users will find the products they want more quickly   \n",
       "1  Launch your own delivery service. This will shorten delivery time                                                        \n",
       "5  Add a customer review page. This will increase the number of orders                                                      \n",
       "4  Change the background color on the main page. This will increase user engagement                                         \n",
       "\n",
       "   reach  impact  confidence  effort        ice   rice  \n",
       "7  10     7       8           5       11.200000  112.0  \n",
       "2  8      3       7           3       7.000000   56.0   \n",
       "0  3      10      8           6       13.333333  40.0   \n",
       "6  5      3       8           3       8.000000   40.0   \n",
       "8  1      9       9           5       16.200000  16.2   \n",
       "3  8      3       3           8       1.125000   9.0    \n",
       "1  2      5       4           10      2.000000   4.0    \n",
       "5  3      2       2           3       1.333333   4.0    \n",
       "4  3      1       1           1       1.000000   3.0    "
      ]
     },
     "execution_count": 22,
     "metadata": {},
     "output_type": "execute_result"
    }
   ],
   "source": [
    "hypothesis = hypothesis.sort_values(by='rice', ascending=False)\n",
    "hypothesis"
   ]
  },
  {
   "cell_type": "markdown",
   "metadata": {},
   "source": [
    "The prioritization has change and the most signifcant change was hyopthesis 8,7 and 0.\n",
    "The reach parameter is higher in certein hypothesis thus making them climb up higher.\n",
    "For example hypothesis number 8 has the lowest reach from the three which means that the number of use be affected by the change is very low then the priority of this hypothesis is low.\n",
    "\n",
    "Moreover hypothesis number 7 has long reach wich mean it would get to a high amount of users, high impact that will make the users more setisfied and will make thiere exprience even better, great confidence level which make sure that we will get the results needed, and finally we will do all the with mediuem effort.\n"
   ]
  },
  {
   "cell_type": "markdown",
   "metadata": {},
   "source": [
    "<div class=\"alert alert-block alert-danger\">\n",
    "<S><b>Reviewer's comment</b> <a class=\"tocSkip\"></a>\n",
    "    \n",
    "Could you sort hypotheses by RICE? I agree that 7 is top, but 8 and 3 are in the end.\n",
    "    \n",
    "\n",
    "</div>\n",
    "\n",
    "<div class=\"alert alert-block alert-danger\">\n",
    "<s><b>Reviewer's comment. V.2. </b> <a class=\"tocSkip\"></a>\n",
    "    \n",
    "And what about conclusion? What hypotheses are the best?\n",
    "</div>"
   ]
  },
  {
   "cell_type": "markdown",
   "metadata": {},
   "source": [
    "Therefore the best hypothesis is the 7th because its rank is higher then most of the other hypothesis in both cases.\n"
   ]
  },
  {
   "cell_type": "markdown",
   "metadata": {},
   "source": [
    "<div class=\"alert alert-block alert-success\">\n",
    "<b>Reviewer's comment. V.3.</b> <a class=\"tocSkip\"></a>\n",
    "    \n",
    "OK. :) </div>"
   ]
  },
  {
   "cell_type": "markdown",
   "metadata": {},
   "source": [
    "# Part 2. Preforme AA Testing"
   ]
  },
  {
   "cell_type": "markdown",
   "metadata": {},
   "source": [
    "In this part we will:\n",
    "\n",
    "1)Check if the result can be affected by the anomalies or outliers\n",
    "\n",
    "2)The tool for splitting traffic is works correctly\n",
    "\n",
    "3)Data is sent to analytical systems correctly\n",
    "\n",
    "The main porpouse of this test will be to fix the significance level."
   ]
  },
  {
   "cell_type": "markdown",
   "metadata": {},
   "source": [
    "In the test we will split the groups into (according to our Ho-Hypothesis):\n",
    "\n",
    "1) Group that will be added subscription from all the main paiges\n",
    "\n",
    "2) Group that will not bee added subscription from all the main paiges."
   ]
  },
  {
   "cell_type": "markdown",
   "metadata": {},
   "source": [
    "# The Bonferroni correction"
   ]
  },
  {
   "cell_type": "code",
   "execution_count": 23,
   "metadata": {},
   "outputs": [],
   "source": [
    "groupA_visits_per_day = groupA.groupby('date', as_index=False).agg({'visitorId': 'nunique'})['visitorId']\n",
    "groupB_visits_per_day = groupB.groupby('date', as_index=False).agg({'visitorId': 'nunique'})['visitorId']"
   ]
  },
  {
   "cell_type": "code",
   "execution_count": 24,
   "metadata": {},
   "outputs": [],
   "source": [
    "groupA_visits_per_day = groupA_visits_per_day.to_numpy()\n",
    "groupB_visits_per_day = groupB_visits_per_day.to_numpy()"
   ]
  },
  {
   "cell_type": "code",
   "execution_count": 25,
   "metadata": {},
   "outputs": [
    {
     "name": "stdout",
     "output_type": "stream",
     "text": [
      "Null hypothesis not rejected for groups А and B\n"
     ]
    }
   ],
   "source": [
    "alpha = 0.05\n",
    "result_test = st.ttest_ind(\n",
    "    groupA_visits_per_day, \n",
    "    groupB_visits_per_day\n",
    ")\n",
    "\n",
    "bonferroni_alpha = alpha / 2\n",
    "if result_test.pvalue < bonferroni_alpha:\n",
    "    print('Null hypothesis rejected for groups А and B')\n",
    "else:\n",
    "    print('Null hypothesis not rejected for groups А and B')"
   ]
  },
  {
   "cell_type": "markdown",
   "metadata": {},
   "source": [
    "The test shows that there's no difference in the numbers of users from group to group. (This importent in order to show that there is no diffrences between the groups and the result wont be affected by the any change of that)"
   ]
  },
  {
   "cell_type": "markdown",
   "metadata": {},
   "source": [
    "# Preparing the data for analysis part 2"
   ]
  },
  {
   "cell_type": "code",
   "execution_count": 26,
   "metadata": {},
   "outputs": [],
   "source": [
    "datesGroups = orders[['date','group']].drop_duplicates() \n",
    "ordersAggregated = datesGroups.apply(lambda x: orders[np.logical_and(orders['date'] <= x['date'], orders['group'] == x['group'])].agg({'date' : 'max', 'group' : 'max', 'transactionId' : pd.Series.nunique, 'visitorId' : pd.Series.nunique, 'revenue' : 'sum'}), axis=1).sort_values(by=['date','group']) "
   ]
  },
  {
   "cell_type": "code",
   "execution_count": 27,
   "metadata": {},
   "outputs": [],
   "source": [
    "visitorsAggregated = datesGroups.apply(lambda x: visitors[np.logical_and(visitors['date'] <= x['date'], visitors['group'] == x['group'])].agg({'date' : 'max', 'group' : 'max', 'visits' : 'sum'}), axis=1).sort_values(by=['date','group']) "
   ]
  },
  {
   "cell_type": "code",
   "execution_count": 28,
   "metadata": {},
   "outputs": [],
   "source": [
    "cumulativeData = ordersAggregated.merge(visitorsAggregated, left_on=['date', 'group'], right_on=['date', 'group'])\n",
    "cumulativeData.columns = ['date', 'group', 'orders', 'buyers', 'revenue', 'visitors']"
   ]
  },
  {
   "cell_type": "code",
   "execution_count": 29,
   "metadata": {},
   "outputs": [
    {
     "data": {
      "image/png": "[encoded data removed]",
      "text/plain": [
       "<Figure size 864x648 with 1 Axes>"
      ]
     },
     "metadata": {
      "needs_background": "light"
     },
     "output_type": "display_data"
    }
   ],
   "source": [
    "cumulativeRevenueA = cumulativeData[cumulativeData['group']=='A'][['date','revenue', 'orders']]\n",
    "cumulativeRevenueB = cumulativeData[cumulativeData['group']=='B'][['date','revenue', 'orders']]\n",
    "\n",
    "plt.figure(figsize=(12, 9))\n",
    "plt.plot(cumulativeRevenueA['date'], cumulativeRevenueA['revenue'], label='A')\n",
    "plt.plot(cumulativeRevenueB['date'], cumulativeRevenueB['revenue'], label='B')\n",
    "plt.xticks(rotation=45)\n",
    "plt.xlabel('date')\n",
    "plt.ylabel('revenue')\n",
    "plt.legend()\n",
    "plt.show()"
   ]
  },
  {
   "cell_type": "markdown",
   "metadata": {},
   "source": [
    "Both group A and B are rising which implay that the revenue is climbing up.\n",
    "\n",
    "Group B showing good sign , it's very high and showing good results."
   ]
  },
  {
   "cell_type": "markdown",
   "metadata": {},
   "source": [
    "<div class=\"alert alert-block alert-success\">\n",
    "<b>Reviewer's comment</b> <a class=\"tocSkip\"></a>\n",
    "    \n",
    "So, all is good, but group B is better. :)\n",
    "</div>\n",
    "\n",
    "<div class=\"alert alert-block alert-danger\">\n",
    "<s><b>Reviewer's comment</b> <a class=\"tocSkip\"></a>\n",
    "    \n",
    "Could you add \"Graph cumulative average order size by group.\"?\n",
    "</div>\n",
    "\n",
    "<div class=\"alert alert-block alert-success\">\n",
    "<b>Reviewer's comment. V.2. </b> <a class=\"tocSkip\"></a>\n",
    "    \n",
    "Yep! We see group B is better again! :) \n",
    "</div>"
   ]
  },
  {
   "cell_type": "code",
   "execution_count": 30,
   "metadata": {},
   "outputs": [],
   "source": [
    "mergedCumulativeRevenue = cumulativeRevenueA.merge(cumulativeRevenueB, on='date', suffixes=('A','B'))"
   ]
  },
  {
   "cell_type": "code",
   "execution_count": 31,
   "metadata": {},
   "outputs": [
    {
     "data": {
      "image/png": "[encoded data removed]",
      "text/plain": [
       "<Figure size 864x648 with 1 Axes>"
      ]
     },
     "metadata": {
      "needs_background": "light"
     },
     "output_type": "display_data"
    }
   ],
   "source": [
    "plt.figure(figsize=(12, 9))\n",
    "plt.plot(mergedCumulativeRevenue['date'], (mergedCumulativeRevenue['revenueB'] / mergedCumulativeRevenue['ordersB']), label='B')\n",
    "plt.plot(mergedCumulativeRevenue['date'], (mergedCumulativeRevenue['revenueA'] / mergedCumulativeRevenue['ordersA']), label='A')\n",
    "plt.xticks(rotation=45)\n",
    "plt.legend()\n",
    "plt.show()"
   ]
  },
  {
   "cell_type": "code",
   "execution_count": 32,
   "metadata": {},
   "outputs": [
    {
     "data": {
      "text/plain": [
       "<matplotlib.lines.Line2D at 0x7f7e1e515a10>"
      ]
     },
     "execution_count": 32,
     "metadata": {},
     "output_type": "execute_result"
    },
    {
     "data": {
      "image/png": "[encoded data removed]",
      "text/plain": [
       "<Figure size 864x648 with 1 Axes>"
      ]
     },
     "metadata": {
      "needs_background": "light"
     },
     "output_type": "display_data"
    }
   ],
   "source": [
    "plt.figure(figsize=(12, 9))\n",
    "plt.plot(mergedCumulativeRevenue['date'], (mergedCumulativeRevenue['revenueB']/ mergedCumulativeRevenue['ordersB'])/(mergedCumulativeRevenue['revenueA']/mergedCumulativeRevenue['ordersA'])-1)\n",
    "plt.xticks(rotation=45)\n",
    "plt.axhline(y=0, color='black', linestyle='--')"
   ]
  },
  {
   "cell_type": "markdown",
   "metadata": {},
   "source": [
    "It's shown that the avarage order size is climbing but then theres a tremndous fall we should look into this."
   ]
  },
  {
   "cell_type": "markdown",
   "metadata": {},
   "source": [
    "<div class=\"alert alert-block alert-success\">\n",
    "<b>Reviewer's comment</b> <a class=\"tocSkip\"></a>\n",
    "    \n",
    "Yes, you are right.Good idea to show 0 as line. :)\n",
    "</div>"
   ]
  },
  {
   "cell_type": "code",
   "execution_count": 33,
   "metadata": {},
   "outputs": [],
   "source": [
    "cumulativeData['conversion'] = cumulativeData['orders'] / cumulativeData['visitors']"
   ]
  },
  {
   "cell_type": "code",
   "execution_count": 34,
   "metadata": {},
   "outputs": [],
   "source": [
    "cumulativeDataA = cumulativeData[cumulativeData['group'] == 'A']\n",
    "cumulativeDataB = cumulativeData[cumulativeData['group'] == 'B']"
   ]
  },
  {
   "cell_type": "code",
   "execution_count": 35,
   "metadata": {
    "scrolled": true
   },
   "outputs": [
    {
     "data": {
      "image/png": "[encoded data removed]",
      "text/plain": [
       "<Figure size 864x360 with 1 Axes>"
      ]
     },
     "metadata": {
      "needs_background": "light"
     },
     "output_type": "display_data"
    }
   ],
   "source": [
    "plt.figure(figsize=(12, 5))\n",
    "plt.plot(cumulativeDataA['date'], cumulativeDataA['conversion'], label='A')\n",
    "plt.plot(cumulativeDataB['date'], cumulativeDataB['conversion'], label='B')\n",
    "plt.xticks(rotation=45)\n",
    "plt.legend()\n",
    "plt.show()"
   ]
  },
  {
   "cell_type": "markdown",
   "metadata": {},
   "source": [
    "The conversion rate for group A starts high and then drop dramitcally. However group B is climbing up with it conversion rate.\n",
    "Furthermore it seem that that graph is spiky at start maybe it's though to increas in number of purchases."
   ]
  },
  {
   "cell_type": "markdown",
   "metadata": {},
   "source": [
    "<div class=\"alert alert-block alert-success\">\n",
    "<b>Reviewer's comment</b> <a class=\"tocSkip\"></a>\n",
    "    \n",
    "Yep!\n",
    "\n",
    "So, we see group B is still winner. :) </div>"
   ]
  },
  {
   "cell_type": "code",
   "execution_count": 36,
   "metadata": {
    "scrolled": true
   },
   "outputs": [
    {
     "data": {
      "image/png": "[encoded data removed]",
      "text/plain": [
       "<Figure size 864x360 with 1 Axes>"
      ]
     },
     "metadata": {
      "needs_background": "light"
     },
     "output_type": "display_data"
    }
   ],
   "source": [
    "plt.figure(figsize=(12, 5))\n",
    "plt.scatter(cumulativeData['date'], cumulativeData['conversion'])\n",
    "plt.xticks(rotation=45)\n",
    "plt.show()"
   ]
  },
  {
   "cell_type": "markdown",
   "metadata": {},
   "source": [
    "<div class=\"alert alert-block alert-danger\">\n",
    "<s><b>Reviewer's comment</b> <a class=\"tocSkip\"></a>\n",
    "    \n",
    "We should plot a graph for visitor id and transaction.\n",
    "    \n",
    "We need to group orders by visitor id using as_index=False and use transactionId as pd.Series.nunique.\n",
    "\n",
    "Could you change your code a little?\n",
    "\n",
    "</div>\n",
    "\n",
    "\n",
    "<div class=\"alert alert-block alert-danger\">\n",
    "<s><b>Reviewer's comment. V.2. </b> <a class=\"tocSkip\"></a>\n",
    "    \n",
    "We need a bit more work with order prices. You write goo code for the next part:\n",
    "    \n",
    "    x_values = pd.Series(range(0, len(ordersByUsers)))\n",
    "    plt.scatter(x_values, ordersByUsers['orders']);\n",
    "    \n",
    "We need to use len(orders['revenue'] and orders['revenue'] here. And our graph and percenteles will be right.\n",
    "</div>\n",
    "    \n",
    "<div class=\"alert alert-block alert-success\">\n",
    "<b>Reviewer's comment. V.3.</b> <a class=\"tocSkip\"></a>\n",
    "    \n",
    "Graphs and percentels are right!\n",
    "</div>"
   ]
  },
  {
   "cell_type": "code",
   "execution_count": 37,
   "metadata": {},
   "outputs": [
    {
     "data": {
      "image/png": "[encoded data removed]",
      "text/plain": [
       "<Figure size 864x648 with 1 Axes>"
      ]
     },
     "metadata": {
      "needs_background": "light"
     },
     "output_type": "display_data"
    }
   ],
   "source": [
    "plt.figure(figsize=(12, 9))\n",
    "plt.hist(cumulativeData['revenue']);"
   ]
  },
  {
   "cell_type": "code",
   "execution_count": 38,
   "metadata": {},
   "outputs": [
    {
     "data": {
      "text/plain": [
       "<matplotlib.collections.PathCollection at 0x7f7e1dfeb4d0>"
      ]
     },
     "execution_count": 38,
     "metadata": {},
     "output_type": "execute_result"
    },
    {
     "data": {
      "image/png": "[encoded data removed]",
      "text/plain": [
       "<Figure size 864x648 with 1 Axes>"
      ]
     },
     "metadata": {
      "needs_background": "light"
     },
     "output_type": "display_data"
    }
   ],
   "source": [
    "x_values = pd.Series(range(0, len(orders['revenue'])))\n",
    "plt.figure(figsize=(12, 9))\n",
    "plt.scatter(x_values, orders['revenue']) "
   ]
  },
  {
   "cell_type": "code",
   "execution_count": 39,
   "metadata": {},
   "outputs": [],
   "source": [
    "ordersByUsersA = (\n",
    "    groupA.drop(['group', 'revenue', 'date'], axis=1)\n",
    "    .groupby('visitorId', as_index=False)\n",
    "    .agg({'transactionId': pd.Series.nunique})\n",
    ")\n",
    "ordersByUsersA.columns = ['visitorId', 'orders']\n",
    "\n",
    "ordersByUsersB = (\n",
    "    groupB.drop(['group', 'revenue', 'date'], axis=1)\n",
    "    .groupby('visitorId', as_index=False)\n",
    "    .agg({'transactionId': pd.Series.nunique})\n",
    ")\n",
    "ordersByUsersB.columns = ['visitorId', 'orders']"
   ]
  },
  {
   "cell_type": "code",
   "execution_count": 40,
   "metadata": {},
   "outputs": [],
   "source": [
    "x_values_a = pd.Series(range(0, len(ordersByUsersA['visitorId'])))\n",
    "x_values_b = pd.Series(range(0, len(ordersByUsersB['visitorId'])))"
   ]
  },
  {
   "cell_type": "code",
   "execution_count": 41,
   "metadata": {},
   "outputs": [
    {
     "data": {
      "image/png": "[encoded data removed]",
      "text/plain": [
       "<Figure size 864x648 with 1 Axes>"
      ]
     },
     "metadata": {
      "needs_background": "light"
     },
     "output_type": "display_data"
    }
   ],
   "source": [
    "plt.figure(figsize=(12, 9))\n",
    "plt.title('How many orders each users made')\n",
    "plt.xlabel('Users')\n",
    "plt.ylabel('Number of transactions')\n",
    "plt.scatter(x = x_values_a, y = ordersByUsersA['orders'], label='A', alpha=0.6)\n",
    "plt.scatter(x = x_values_b, y = ordersByUsersB['orders'], label='B', alpha=0.6)\n",
    "plt.legend()\n",
    "plt.show()"
   ]
  },
  {
   "cell_type": "code",
   "execution_count": 42,
   "metadata": {},
   "outputs": [
    {
     "data": {
      "text/plain": [
       "array([2.  , 3.98])"
      ]
     },
     "execution_count": 42,
     "metadata": {},
     "output_type": "execute_result"
    }
   ],
   "source": [
    "np.percentile(ordersByUsersA['orders'], [95, 99])"
   ]
  },
  {
   "cell_type": "markdown",
   "metadata": {},
   "source": [
    "According to the percentile it seem's that less then 5% of places orders are more then 2 times,\n",
    "\n",
    "and less then 1% are more then 3.98(~4). "
   ]
  },
  {
   "cell_type": "markdown",
   "metadata": {},
   "source": [
    "<div class=\"alert alert-block alert-danger\">\n",
    "<s><b>Reviewer's comment</b> <a class=\"tocSkip\"></a>\n",
    "    \n",
    "Results will be different.\n",
    "\n",
    "</div>\n",
    "\n",
    "<div class=\"alert alert-block alert-success\">\n",
    "<b>Reviewer's comment. V.2. </b> <a class=\"tocSkip\"></a>\n",
    "    \n",
    "Number of orders per user is right. Well done!\n",
    "</div>"
   ]
  },
  {
   "cell_type": "code",
   "execution_count": 43,
   "metadata": {},
   "outputs": [
    {
     "data": {
      "image/png": "[encoded data removed]",
      "text/plain": [
       "<Figure size 864x648 with 1 Axes>"
      ]
     },
     "metadata": {
      "needs_background": "light"
     },
     "output_type": "display_data"
    }
   ],
   "source": [
    "plt.figure(figsize=(12, 9))\n",
    "plt.scatter(orders[orders['group']=='A']['date'], orders[orders['group']=='A']['revenue'])\n",
    "plt.xticks(rotation=45)\n",
    "plt.show()"
   ]
  },
  {
   "cell_type": "code",
   "execution_count": 44,
   "metadata": {},
   "outputs": [
    {
     "data": {
      "image/png": "[encoded data removed]",
      "text/plain": [
       "<Figure size 864x648 with 1 Axes>"
      ]
     },
     "metadata": {
      "needs_background": "light"
     },
     "output_type": "display_data"
    }
   ],
   "source": [
    "plt.figure(figsize=(12, 9))\n",
    "plt.scatter(orders[orders['group']=='B']['date'], orders[orders['group']=='B']['revenue'])\n",
    "plt.xticks(rotation=45)\n",
    "plt.show()"
   ]
  },
  {
   "cell_type": "markdown",
   "metadata": {},
   "source": [
    "It seems that the revenue \"flying\" at some point. I assume it's because alot of new visits, this can be deduce from the fact that the conversion is stable so which mean if the revenue sky-rocking then the the number visits as well."
   ]
  },
  {
   "cell_type": "code",
   "execution_count": 45,
   "metadata": {
    "scrolled": true
   },
   "outputs": [
    {
     "name": "stdout",
     "output_type": "stream",
     "text": [
      "[435.54  900.904]\n"
     ]
    }
   ],
   "source": [
    "print(np.percentile(orders['revenue'], [95,99]))"
   ]
  },
  {
   "cell_type": "markdown",
   "metadata": {},
   "source": [
    "Less then 5% of the users didnt bought in more then 435.54."
   ]
  },
  {
   "cell_type": "markdown",
   "metadata": {},
   "source": [
    "It seems to me that users in group A contribute more for revenues,\n",
    "But still most of the users orders more then 435.54 according to the percentile , thus I assume that group B has more influnce on the percentile then group A and they are more at numbers.(The groups differs)"
   ]
  },
  {
   "cell_type": "markdown",
   "metadata": {},
   "source": [
    "<div class=\"alert alert-block alert-danger\">\n",
    "<s><b>Reviewer's comment</b> <a class=\"tocSkip\"></a>\n",
    "    \n",
    "Graph and percentile will be different.\n",
    "    \n",
    "Next results should be different too. Could you check cells below? We need 4 tests:\n",
    "    \n",
    "- Find the statistical significance of the difference in conversion between the groups using the raw data. Make conclusions and conjectures.\n",
    "- Find the statistical significance of the difference in average order size between the groups using the raw data. Make conclusions and conjectures.\n",
    "- Find the statistical significance of the difference in conversion between the groups using the filtered data. Make conclusions and conjectures.\n",
    "- Find the statistical significance of the difference in average order size between the groups using the filtered data. Make conclusions and conjectures.\n",
    "</div>"
   ]
  },
  {
   "cell_type": "markdown",
   "metadata": {},
   "source": [
    "<div class=\"alert alert-block alert-danger\">\n",
    "<s><b>Reviewer's comment. V.2. </b> <a class=\"tocSkip\"></a>\n",
    "    \n",
    "We still need all of steps. Also could you check an error?\n",
    "</div>"
   ]
  },
  {
   "cell_type": "markdown",
   "metadata": {},
   "source": [
    "<div class=\"alert alert-block alert-warning\">\n",
    "<b>student's comment. V.2. </b> <a class=\"tocSkip\"></a>\n",
    "That weird Im not getting an error.\n",
    "</div>"
   ]
  },
  {
   "cell_type": "markdown",
   "metadata": {},
   "source": [
    "<div class=\"alert alert-block alert-success\">\n",
    "<b>Reviewer's comment. V.3. </b> <a class=\"tocSkip\"></a>\n",
    "    \n",
    "Now all is work! Yep! :) \n",
    "</div>"
   ]
  },
  {
   "cell_type": "markdown",
   "metadata": {},
   "source": [
    "# Testing if the Hypothesis Proportions Are Equal"
   ]
  },
  {
   "cell_type": "code",
   "execution_count": 46,
   "metadata": {},
   "outputs": [
    {
     "name": "stdout",
     "output_type": "stream",
     "text": [
      "p-value:  0.02320723394441848\n",
      "Rejecting the null hypothesis: there is a significant difference between the proportions\n"
     ]
    }
   ],
   "source": [
    "alpha = .05 \n",
    "\n",
    "purchases = np.array([len(orders[orders['group']== 'B']), len(orders[orders['group']== 'A'])])\n",
    "leads = np.array([visitors[visitors['group']=='B']['visits'].sum(), visitors[visitors['group']=='A']['visits'].sum()])\n",
    "\n",
    "# write your code here\n",
    "p1 = purchases[0]/leads[0]\n",
    "p2 = purchases[1]/leads[1]\n",
    "\n",
    "difference = p1 - p2\n",
    "p_combined = (purchases[0]+purchases[1])/(leads[0]+leads[1])\n",
    "z_value = difference / mth.sqrt(p_combined * (1- p_combined) * (1/leads[0]+ 1/leads[1]))\n",
    "# write your code here\n",
    "distr = st.norm(0, 1)\n",
    "p_value = (1 - distr.cdf(abs(z_value)))*2\n",
    "\n",
    "print('p-value: ', p_value)\n",
    "\n",
    "if p_value < alpha:\n",
    "    print(\"Rejecting the null hypothesis: there is a significant difference between the proportions\")\n",
    "else:\n",
    "    print(\"Failed to reject the null hypothesis: there is no reason to consider the proportions different\")"
   ]
  },
  {
   "cell_type": "markdown",
   "metadata": {},
   "source": [
    "# The  Z-Test for conversion between groups using raw data"
   ]
  },
  {
   "cell_type": "code",
   "execution_count": 47,
   "metadata": {},
   "outputs": [],
   "source": [
    "orders_A = orders[orders['group']== 'A']['revenue'].nunique()\n",
    "orders_B = orders[orders['group']== 'B']['revenue'].nunique()\n",
    "\n",
    "visits_A = visitors[visitors['group']== 'A']['visits'].sum()\n",
    "visits_B = visitors[visitors['group']== 'B']['visits'].sum()"
   ]
  },
  {
   "cell_type": "code",
   "execution_count": 48,
   "metadata": {},
   "outputs": [
    {
     "name": "stdout",
     "output_type": "stream",
     "text": [
      "p-value:  0.603093568253801\n",
      "Failed to reject the null hypothesis: there is no reason to consider the proportions different\n"
     ]
    }
   ],
   "source": [
    "alpha = .05 \n",
    "\n",
    "success = np.array([orders_A, orders_B])\n",
    "trials = np.array([visits_A, visits_B])\n",
    "\n",
    "p1 = success[0] / trials[0]\n",
    "p2= success[1] / trials[1]\n",
    "\n",
    "p_combined = (success[0] + success[1]) / (trials[1] + trials[1])\n",
    "difference = p1 - p2\n",
    "\n",
    "z_value = difference / mth.sqrt(p_combined * (1 - p_combined) * (1/trials[0] + 1/trials[1]))\n",
    "distr = st.norm(0,1)\n",
    "\n",
    "p_value = (1 - distr.cdf(abs(z_value))) * 2\n",
    "\n",
    "print('p-value: ', p_value)\n",
    "\n",
    "if (p_value < alpha):\n",
    "    print(\"Rejecting the null hypothesis: there is a significant difference between the proportions\")\n",
    "else:\n",
    "    print(\"Failed to reject the null hypothesis: there is no reason to consider the proportions different\")\n",
    " "
   ]
  },
  {
   "cell_type": "markdown",
   "metadata": {},
   "source": [
    "# The Wilcoxon-Mann-Whitney Test for avarage order between groups using raw data"
   ]
  },
  {
   "cell_type": "code",
   "execution_count": 49,
   "metadata": {},
   "outputs": [],
   "source": [
    "average_order_per_user = orders.groupby(['visitorId', 'group']).agg({'revenue':'sum'})['revenue'] / orders.groupby(['visitorId', 'group']).agg({'transactionId':'count'})['transactionId']\n",
    "average_order_per_user = average_order_per_user.reset_index()"
   ]
  },
  {
   "cell_type": "code",
   "execution_count": 50,
   "metadata": {},
   "outputs": [],
   "source": [
    "avarage_groupA = average_order_per_user[average_order_per_user['group'] == 'A']\n",
    "avarage_groupB = average_order_per_user[average_order_per_user['group'] == 'B']\n",
    "avarage_groupA.columns = ['visitordId', 'group', 'average_order']\n",
    "avarage_groupB.columns = ['visitordId', 'group', 'average_order']"
   ]
  },
  {
   "cell_type": "code",
   "execution_count": 51,
   "metadata": {},
   "outputs": [],
   "source": [
    "sampleA_before = np.array(avarage_groupA['average_order'])\n",
    "sampleB_after = np.array(avarage_groupB['average_order'])"
   ]
  },
  {
   "cell_type": "code",
   "execution_count": 52,
   "metadata": {},
   "outputs": [
    {
     "name": "stdout",
     "output_type": "stream",
     "text": [
      "p-value:  0.454339888934459\n",
      "Failed to reject the null hypothesis: we can't make conclusions about the difference\n"
     ]
    }
   ],
   "source": [
    "alpha = .05 \n",
    "\n",
    "results = st.mannwhitneyu(sampleA_before, sampleB_after)\n",
    "\n",
    "print('p-value: ', results.pvalue)\n",
    "\n",
    "if (results.pvalue < alpha):\n",
    "    print(\"Null hypothesis rejected: the difference is statistically significant\")\n",
    "else:\n",
    "    print(\"Failed to reject the null hypothesis: we can't make conclusions about the difference\") \n",
    "\n"
   ]
  },
  {
   "cell_type": "markdown",
   "metadata": {},
   "source": [
    "# The Z-Test for conversion between groups using filtered data"
   ]
  },
  {
   "cell_type": "code",
   "execution_count": 53,
   "metadata": {},
   "outputs": [],
   "source": [
    "abnormalUsers = pd.concat([ordersByUsersA[ordersByUsersA['orders'] > 5]['visitorId'], ordersByUsersB[ordersByUsersB['orders'] > 5]['visitorId']], axis=0)\n",
    "users_With_High_Expanse = orders[orders['revenue'] > 435.54]['visitorId']\n",
    "abnormalUsers = pd.concat([abnormalUsers, users_With_High_Expanse],axis=0).drop_duplicates().sort_values()"
   ]
  },
  {
   "cell_type": "markdown",
   "metadata": {},
   "source": [
    "After we found which user we need to filter lets get rid of them."
   ]
  },
  {
   "cell_type": "code",
   "execution_count": 54,
   "metadata": {},
   "outputs": [],
   "source": [
    "filtered_data = orders[np.logical_not(orders['visitorId'].isin(abnormalUsers))]\n",
    "filtered_dataA = filtered_data[filtered_data['group']== 'A']\n",
    "filtered_dataB = filtered_data[filtered_data['group']== 'B']"
   ]
  },
  {
   "cell_type": "code",
   "execution_count": 55,
   "metadata": {},
   "outputs": [],
   "source": [
    "orders_A_filtered = filtered_dataA['revenue'].nunique()\n",
    "orders_B_filtered = filtered_dataB['revenue'].nunique()"
   ]
  },
  {
   "cell_type": "code",
   "execution_count": 56,
   "metadata": {},
   "outputs": [
    {
     "name": "stdout",
     "output_type": "stream",
     "text": [
      "p-value:  0.8348800973135941\n",
      "Failed to reject the null hypothesis: there is no reason to consider the proportions different\n"
     ]
    }
   ],
   "source": [
    "alpha = .05 \n",
    "\n",
    "success = np.array([orders_A_filtered, orders_B_filtered])\n",
    "trials = np.array([visits_A, visits_B])\n",
    "\n",
    "p1 = success[0] / trials[0]\n",
    "p2= success[1] / trials[1]\n",
    "\n",
    "p_combined = (success[0] + success[1]) / (trials[1] + trials[1])\n",
    "difference = p1 - p2\n",
    "\n",
    "z_value = difference / mth.sqrt(p_combined * (1 - p_combined) * (1/trials[0] + 1/trials[1]))\n",
    "distr = st.norm(0,1)\n",
    "\n",
    "p_value = (1 - distr.cdf(abs(z_value))) * 2\n",
    "\n",
    "print('p-value: ', p_value)\n",
    "\n",
    "if (p_value < alpha):\n",
    "    print(\"Rejecting the null hypothesis: there is a significant difference between the proportions\")\n",
    "else:\n",
    "    print(\"Failed to reject the null hypothesis: there is no reason to consider the proportions different\")\n",
    " "
   ]
  },
  {
   "cell_type": "markdown",
   "metadata": {},
   "source": [
    "# The Wilcoxon-Mann-Whitney Test for avarage order between groups using filtered data"
   ]
  },
  {
   "cell_type": "code",
   "execution_count": 57,
   "metadata": {},
   "outputs": [],
   "source": [
    "average_order_per_user_filtered = filtered_data.groupby(['visitorId', 'group']).agg({'revenue':'sum'})['revenue'] / filtered_data.groupby(['visitorId', 'group']).agg({'transactionId':'count'})['transactionId']\n",
    "average_order_per_user_filtered = average_order_per_user.reset_index()"
   ]
  },
  {
   "cell_type": "code",
   "execution_count": 58,
   "metadata": {},
   "outputs": [],
   "source": [
    "avarage_groupA_filtered = average_order_per_user[average_order_per_user['group'] == 'A']\n",
    "avarage_groupB_filtered = average_order_per_user[average_order_per_user['group'] == 'B']\n",
    "avarage_groupA_filtered.columns = ['visitordId', 'group', 'average_order']\n",
    "avarage_groupB_filtered.columns = ['visitordId', 'group', 'average_order']"
   ]
  },
  {
   "cell_type": "code",
   "execution_count": 59,
   "metadata": {},
   "outputs": [],
   "source": [
    "sampleA_before_filtered = np.array(avarage_groupA['average_order'])\n",
    "sampleB_after_filtered = np.array(avarage_groupB['average_order'])"
   ]
  },
  {
   "cell_type": "code",
   "execution_count": 60,
   "metadata": {},
   "outputs": [
    {
     "name": "stdout",
     "output_type": "stream",
     "text": [
      "p-value:  0.454339888934459\n",
      "Failed to reject the null hypothesis: we can't make conclusions about the difference\n"
     ]
    }
   ],
   "source": [
    "alpha = .05 \n",
    "\n",
    "results = st.mannwhitneyu(sampleA_before_filtered, sampleB_after_filtered)\n",
    "\n",
    "print('p-value: ', results.pvalue)\n",
    "\n",
    "if (results.pvalue < alpha):\n",
    "    print(\"Null hypothesis rejected: the difference is statistically significant\")\n",
    "else:\n",
    "    print(\"Failed to reject the null hypothesis: we can't make conclusions about the difference\") \n"
   ]
  },
  {
   "cell_type": "code",
   "execution_count": 61,
   "metadata": {},
   "outputs": [
    {
     "data": {
      "image/png": "[encoded data removed]",
      "text/plain": [
       "<Figure size 864x648 with 1 Axes>"
      ]
     },
     "metadata": {
      "needs_background": "light"
     },
     "output_type": "display_data"
    }
   ],
   "source": [
    "plt.figure(figsize=(12, 9))\n",
    "plt.plot(mergedCumulativeRevenue['date'], (mergedCumulativeRevenue['revenueB']/ mergedCumulativeRevenue['ordersB'])/(mergedCumulativeRevenue['revenueA']/mergedCumulativeRevenue['ordersA'])-1)\n",
    "plt.axhline(y=0, color='black', linestyle='--')\n",
    "plt.xticks(rotation=45)\n",
    "plt.show()"
   ]
  },
  {
   "cell_type": "code",
   "execution_count": 62,
   "metadata": {},
   "outputs": [
    {
     "data": {
      "image/png": "[encoded data removed]",
      "text/plain": [
       "<Figure size 864x648 with 1 Axes>"
      ]
     },
     "metadata": {
      "needs_background": "light"
     },
     "output_type": "display_data"
    }
   ],
   "source": [
    "plt.figure(figsize=(12, 9))\n",
    "plt.plot(cumulativeDataB['date'], cumulativeDataB['conversion'], label='B')\n",
    "plt.legend()\n",
    "plt.axhline(y=0.03, color='black', linestyle='--')\n",
    "plt.xticks(rotation=45)\n",
    "plt.show()"
   ]
  },
  {
   "cell_type": "markdown",
   "metadata": {},
   "source": [
    "Conversion is high mostly more then 0.03, and stabelizing around 0.034"
   ]
  },
  {
   "cell_type": "code",
   "execution_count": 63,
   "metadata": {},
   "outputs": [
    {
     "data": {
      "image/png": "[encoded data removed]",
      "text/plain": [
       "<Figure size 864x648 with 1 Axes>"
      ]
     },
     "metadata": {
      "needs_background": "light"
     },
     "output_type": "display_data"
    }
   ],
   "source": [
    "plt.figure(figsize=(12, 9))\n",
    "plt.plot(cumulativeDataA['date'], cumulativeDataA['conversion'], label='A')\n",
    "plt.legend()\n",
    "plt.axhline(y=0.03, color='black', linestyle='--')\n",
    "plt.xticks(rotation=45)\n",
    "plt.show()"
   ]
  },
  {
   "cell_type": "markdown",
   "metadata": {},
   "source": [
    "Conversion is high mostly around 0.03."
   ]
  },
  {
   "cell_type": "markdown",
   "metadata": {},
   "source": [
    "Group B is abviously looks better because the conversion is higher then group A .\n",
    "And we fail to reject the null hypothesis."
   ]
  },
  {
   "cell_type": "markdown",
   "metadata": {},
   "source": [
    "<div class=\"alert alert-block alert-success\">\n",
    "<b>Reviewer's comment. V.3. </b> <a class=\"tocSkip\"></a>\n",
    "    \n",
    "Great! We made right tests and see that group B is a winner.\n",
    "</div>"
   ]
  },
  {
   "cell_type": "markdown",
   "metadata": {},
   "source": [
    "# Conclusion"
   ]
  },
  {
   "cell_type": "markdown",
   "metadata": {},
   "source": [
    "In this project we tried to show that the hypothesis, we choose by prioratizing it, is affect the revenue positivly and will make increase in values of conversion as a result of the change.\n",
    "After choosing the right hypothesis I'v used some tools for testing all needed in order to do that.\n",
    "According to the anlaysis and the grahps it seems that the revenue will boost if we dont reject the H0 and it will work.\n",
    "In  this project I've shown that group B is better which mean the hypothesis: \"Add a subscription form to all the main pages. This will help you compile a mailing list\" is correct.\n",
    "It seems that group B is the winner in this case because it shows a high increase in metrics and we have proven this by using  the test shapiro and whithnyeu. \n",
    "\n",
    "To reach this conclusion i used in this project several tools which are:\n",
    "\n",
    "1)Uploaded the data with pandas libreries.\n",
    "\n",
    "2)I prepered the data to analysis.\n",
    "\n",
    "3)Then I  Prioritized the Hypotheses.\n",
    "\n",
    "4)I used A/B Test Analysis:\n",
    "\n",
    "  a) ploted graph of comulitive data to show the trend of revnue.\n",
    "  \n",
    "  b) look for sagnificance level.\n",
    "  \n",
    "  c) study the trend of graph and looked for outliers and anomaly.\n",
    "  \n",
    "  d) splited traffic data into group A and B.\n",
    "  \n",
    "  e) study the diffrences between the groups.\n",
    "  \n",
    "  f) visualize graph of cumulative Data.\n",
    "  \n",
    "  g) used the raw data and filtered data to make correlation between the groups.\n",
    "  \n",
    "  h)Analyzed and used A/B test after priorotized the hypothesis.\n",
    "  \n",
    "  i)Used test to see if the proportion of the groups differ is significance which is not.\n",
    "  \n",
    "  j)Used The Shapiro–Wilk Test to se if the data disturbed normaly\n",
    "  \n",
    "  k)filtered the data\n",
    "  \n",
    "  l)used the filtered data to make Wilcoxon-Mann-Whitney Nonparametric Test and found out that there is improvement in the conversion rate\n"
   ]
  },
  {
   "cell_type": "markdown",
   "metadata": {},
   "source": [
    "<div class=\"alert alert-block alert-success\">\n",
    "<b>Reviewer's comment. V.3.</b> <a class=\"tocSkip\"></a>\n",
    "    \n",
    "Thank you for detailed conclusion!\n",
    "</div>"
   ]
  },
  {
   "cell_type": "code",
   "execution_count": null,
   "metadata": {},
   "outputs": [],
   "source": []
  }
 ],
 "metadata": {
  "ExecuteTimeLog": [
   {
    "duration": 823,
    "start_time": "2022-02-22T11:10:59.310Z"
   },
   {
    "duration": 22,
    "start_time": "2022-02-22T11:11:21.713Z"
   },
   {
    "duration": 55,
    "start_time": "2022-02-22T11:12:31.765Z"
   },
   {
    "duration": 45,
    "start_time": "2022-02-22T11:15:37.546Z"
   },
   {
    "duration": 25,
    "start_time": "2022-02-22T11:15:39.109Z"
   },
   {
    "duration": 9,
    "start_time": "2022-02-22T11:15:44.632Z"
   },
   {
    "duration": 12,
    "start_time": "2022-02-22T11:16:06.105Z"
   },
   {
    "duration": 10,
    "start_time": "2022-02-22T11:17:31.801Z"
   },
   {
    "duration": 7,
    "start_time": "2022-02-22T11:17:56.753Z"
   },
   {
    "duration": 9,
    "start_time": "2022-02-22T11:18:10.272Z"
   },
   {
    "duration": 9479,
    "start_time": "2022-02-22T11:18:32.232Z"
   },
   {
    "duration": 46,
    "start_time": "2022-02-22T11:18:45.811Z"
   },
   {
    "duration": 10,
    "start_time": "2022-02-22T11:18:49.414Z"
   },
   {
    "duration": 38,
    "start_time": "2022-02-22T11:18:56.378Z"
   },
   {
    "duration": 12,
    "start_time": "2022-02-22T11:18:57.743Z"
   },
   {
    "duration": 296,
    "start_time": "2022-02-22T11:21:01.006Z"
   },
   {
    "duration": 7,
    "start_time": "2022-02-22T11:21:50.524Z"
   },
   {
    "duration": 4,
    "start_time": "2022-02-22T11:22:09.322Z"
   },
   {
    "duration": 11,
    "start_time": "2022-02-22T11:22:33.013Z"
   },
   {
    "duration": 11,
    "start_time": "2022-02-22T11:23:25.476Z"
   },
   {
    "duration": 33,
    "start_time": "2022-02-22T11:23:43.746Z"
   },
   {
    "duration": 9,
    "start_time": "2022-02-22T11:24:33.105Z"
   },
   {
    "duration": 12,
    "start_time": "2022-02-22T11:25:39.563Z"
   },
   {
    "duration": 12,
    "start_time": "2022-02-22T11:25:44.465Z"
   },
   {
    "duration": 14,
    "start_time": "2022-02-22T11:28:28.205Z"
   },
   {
    "duration": 306,
    "start_time": "2022-02-22T11:28:54.904Z"
   },
   {
    "duration": 15,
    "start_time": "2022-02-22T11:29:19.145Z"
   },
   {
    "duration": 291,
    "start_time": "2022-02-22T11:30:11.126Z"
   },
   {
    "duration": 6,
    "start_time": "2022-02-22T11:30:14.005Z"
   },
   {
    "duration": 15,
    "start_time": "2022-02-22T11:30:14.686Z"
   },
   {
    "duration": 5,
    "start_time": "2022-02-22T11:30:23.306Z"
   },
   {
    "duration": 15,
    "start_time": "2022-02-22T11:30:24.887Z"
   },
   {
    "duration": 16,
    "start_time": "2022-02-22T11:31:16.556Z"
   },
   {
    "duration": 758,
    "start_time": "2022-02-22T11:31:25.273Z"
   },
   {
    "duration": 43,
    "start_time": "2022-02-22T11:31:26.033Z"
   },
   {
    "duration": 5,
    "start_time": "2022-02-22T11:31:26.079Z"
   },
   {
    "duration": 14,
    "start_time": "2022-02-22T11:31:26.087Z"
   },
   {
    "duration": 61,
    "start_time": "2022-02-22T11:31:26.104Z"
   },
   {
    "duration": 10,
    "start_time": "2022-02-22T11:31:26.168Z"
   },
   {
    "duration": 13,
    "start_time": "2022-02-22T11:31:26.181Z"
   },
   {
    "duration": 14,
    "start_time": "2022-02-22T11:31:26.198Z"
   },
   {
    "duration": 41,
    "start_time": "2022-02-22T11:31:26.215Z"
   },
   {
    "duration": 9,
    "start_time": "2022-02-22T11:31:26.259Z"
   },
   {
    "duration": 15,
    "start_time": "2022-02-22T11:32:05.581Z"
   },
   {
    "duration": 831,
    "start_time": "2022-02-22T11:45:43.800Z"
   },
   {
    "duration": 44,
    "start_time": "2022-02-22T11:45:44.634Z"
   },
   {
    "duration": 18,
    "start_time": "2022-02-22T11:45:44.681Z"
   },
   {
    "duration": 27,
    "start_time": "2022-02-22T11:45:44.702Z"
   },
   {
    "duration": 60,
    "start_time": "2022-02-22T11:45:44.732Z"
   },
   {
    "duration": 8,
    "start_time": "2022-02-22T11:45:44.796Z"
   },
   {
    "duration": 16,
    "start_time": "2022-02-22T11:45:44.807Z"
   },
   {
    "duration": 42,
    "start_time": "2022-02-22T11:45:44.826Z"
   },
   {
    "duration": 27,
    "start_time": "2022-02-22T11:45:44.872Z"
   },
   {
    "duration": 31,
    "start_time": "2022-02-22T11:45:44.903Z"
   },
   {
    "duration": 38,
    "start_time": "2022-02-22T11:45:44.937Z"
   },
   {
    "duration": 18,
    "start_time": "2022-02-22T12:04:58.117Z"
   },
   {
    "duration": 654,
    "start_time": "2022-02-22T12:05:48.713Z"
   },
   {
    "duration": 4,
    "start_time": "2022-02-22T12:06:04.992Z"
   },
   {
    "duration": 9799,
    "start_time": "2022-02-22T12:06:05.655Z"
   },
   {
    "duration": 9200,
    "start_time": "2022-02-22T12:06:58.625Z"
   },
   {
    "duration": 19,
    "start_time": "2022-02-22T12:07:32.601Z"
   },
   {
    "duration": 7631,
    "start_time": "2022-02-22T12:07:52.853Z"
   },
   {
    "duration": 345,
    "start_time": "2022-02-22T12:08:24.397Z"
   },
   {
    "duration": 490,
    "start_time": "2022-02-22T12:10:06.141Z"
   },
   {
    "duration": 15,
    "start_time": "2022-02-22T12:10:39.405Z"
   },
   {
    "duration": 511,
    "start_time": "2022-02-22T12:10:48.033Z"
   },
   {
    "duration": 59,
    "start_time": "2022-02-22T12:11:21.525Z"
   },
   {
    "duration": 286,
    "start_time": "2022-02-22T12:11:26.120Z"
   },
   {
    "duration": 393,
    "start_time": "2022-02-22T12:13:28.433Z"
   },
   {
    "duration": 11,
    "start_time": "2022-02-22T12:14:11.824Z"
   },
   {
    "duration": 452,
    "start_time": "2022-02-22T12:14:12.842Z"
   },
   {
    "duration": 10,
    "start_time": "2022-02-22T12:34:33.952Z"
   },
   {
    "duration": 7655,
    "start_time": "2022-02-22T12:36:08.637Z"
   },
   {
    "duration": 443,
    "start_time": "2022-02-22T12:36:31.365Z"
   },
   {
    "duration": 565,
    "start_time": "2022-02-22T12:37:11.752Z"
   },
   {
    "duration": 6,
    "start_time": "2022-02-22T12:43:40.214Z"
   },
   {
    "duration": 8,
    "start_time": "2022-02-22T12:44:37.045Z"
   },
   {
    "duration": 563,
    "start_time": "2022-02-22T12:45:16.044Z"
   },
   {
    "duration": 295,
    "start_time": "2022-02-22T12:45:54.524Z"
   },
   {
    "duration": 430,
    "start_time": "2022-02-22T12:46:01.007Z"
   },
   {
    "duration": 532,
    "start_time": "2022-02-22T12:53:12.961Z"
   },
   {
    "duration": 552,
    "start_time": "2022-02-22T14:23:37.622Z"
   },
   {
    "duration": 535,
    "start_time": "2022-02-22T14:23:52.155Z"
   },
   {
    "duration": 8,
    "start_time": "2022-02-22T14:24:37.334Z"
   },
   {
    "duration": 7,
    "start_time": "2022-02-22T14:24:52.817Z"
   },
   {
    "duration": 351,
    "start_time": "2022-02-22T14:32:02.604Z"
   },
   {
    "duration": 517,
    "start_time": "2022-02-22T14:32:21.662Z"
   },
   {
    "duration": 6,
    "start_time": "2022-02-22T14:37:19.666Z"
   },
   {
    "duration": 297,
    "start_time": "2022-02-22T14:45:11.808Z"
   },
   {
    "duration": 544,
    "start_time": "2022-02-22T14:45:32.304Z"
   },
   {
    "duration": 4,
    "start_time": "2022-02-22T14:45:46.635Z"
   },
   {
    "duration": 16,
    "start_time": "2022-02-22T14:45:50.782Z"
   },
   {
    "duration": 7829,
    "start_time": "2022-02-22T14:52:35.392Z"
   },
   {
    "duration": 9853,
    "start_time": "2022-02-22T14:53:00.236Z"
   },
   {
    "duration": 7774,
    "start_time": "2022-02-22T14:53:32.598Z"
   },
   {
    "duration": 15,
    "start_time": "2022-02-22T14:53:49.726Z"
   },
   {
    "duration": 14,
    "start_time": "2022-02-22T14:54:29.446Z"
   },
   {
    "duration": 14,
    "start_time": "2022-02-22T14:54:35.326Z"
   },
   {
    "duration": 14,
    "start_time": "2022-02-22T14:54:42.363Z"
   },
   {
    "duration": 15,
    "start_time": "2022-02-22T14:55:02.054Z"
   },
   {
    "duration": 301,
    "start_time": "2022-02-22T14:57:34.945Z"
   },
   {
    "duration": 298,
    "start_time": "2022-02-22T14:58:36.647Z"
   },
   {
    "duration": 17,
    "start_time": "2022-02-22T15:03:15.886Z"
   },
   {
    "duration": 380,
    "start_time": "2022-02-22T15:07:44.284Z"
   },
   {
    "duration": 582,
    "start_time": "2022-02-22T15:09:51.879Z"
   },
   {
    "duration": 403,
    "start_time": "2022-02-22T15:10:15.610Z"
   },
   {
    "duration": 744,
    "start_time": "2022-02-22T15:10:17.847Z"
   },
   {
    "duration": 379,
    "start_time": "2022-02-22T15:10:26.565Z"
   },
   {
    "duration": 313,
    "start_time": "2022-02-22T15:10:38.317Z"
   },
   {
    "duration": 9322,
    "start_time": "2022-02-22T15:10:49.909Z"
   },
   {
    "duration": 12,
    "start_time": "2022-02-22T15:11:43.497Z"
   },
   {
    "duration": 10,
    "start_time": "2022-02-22T15:11:55.764Z"
   },
   {
    "duration": 227,
    "start_time": "2022-02-22T15:12:22.448Z"
   },
   {
    "duration": 8524,
    "start_time": "2022-02-22T15:12:25.817Z"
   },
   {
    "duration": 8530,
    "start_time": "2022-02-22T15:13:07.481Z"
   },
   {
    "duration": 8,
    "start_time": "2022-02-22T15:14:06.316Z"
   },
   {
    "duration": 14,
    "start_time": "2022-02-22T15:14:26.718Z"
   },
   {
    "duration": 15,
    "start_time": "2022-02-22T15:14:31.064Z"
   },
   {
    "duration": 10,
    "start_time": "2022-02-22T15:46:51.905Z"
   },
   {
    "duration": 264,
    "start_time": "2022-02-22T15:48:17.107Z"
   },
   {
    "duration": 7256,
    "start_time": "2022-02-22T15:49:05.183Z"
   },
   {
    "duration": 7797,
    "start_time": "2022-02-22T15:49:52.114Z"
   },
   {
    "duration": 12,
    "start_time": "2022-02-22T15:50:53.004Z"
   },
   {
    "duration": 7,
    "start_time": "2022-02-22T15:51:11.166Z"
   },
   {
    "duration": 8,
    "start_time": "2022-02-22T15:52:28.476Z"
   },
   {
    "duration": 8021,
    "start_time": "2022-02-22T15:52:41.902Z"
   },
   {
    "duration": 8906,
    "start_time": "2022-02-22T15:53:04.104Z"
   },
   {
    "duration": 9,
    "start_time": "2022-02-22T15:53:15.265Z"
   },
   {
    "duration": 9,
    "start_time": "2022-02-22T15:53:18.053Z"
   },
   {
    "duration": 7487,
    "start_time": "2022-02-22T15:53:35.471Z"
   },
   {
    "duration": 10,
    "start_time": "2022-02-22T15:54:02.930Z"
   },
   {
    "duration": 9,
    "start_time": "2022-02-22T15:54:11.684Z"
   },
   {
    "duration": 15,
    "start_time": "2022-02-22T15:54:28.825Z"
   },
   {
    "duration": 10,
    "start_time": "2022-02-22T15:54:47.648Z"
   },
   {
    "duration": 530,
    "start_time": "2022-02-23T12:50:46.698Z"
   },
   {
    "duration": 176,
    "start_time": "2022-02-23T12:50:47.230Z"
   },
   {
    "duration": 3,
    "start_time": "2022-02-23T12:50:47.407Z"
   },
   {
    "duration": 8,
    "start_time": "2022-02-23T12:50:47.411Z"
   },
   {
    "duration": 24,
    "start_time": "2022-02-23T12:50:47.420Z"
   },
   {
    "duration": 4,
    "start_time": "2022-02-23T12:50:47.445Z"
   },
   {
    "duration": 5,
    "start_time": "2022-02-23T12:50:47.451Z"
   },
   {
    "duration": 4,
    "start_time": "2022-02-23T12:50:47.458Z"
   },
   {
    "duration": 8,
    "start_time": "2022-02-23T12:50:47.464Z"
   },
   {
    "duration": 5,
    "start_time": "2022-02-23T12:50:47.473Z"
   },
   {
    "duration": 11,
    "start_time": "2022-02-23T12:50:47.479Z"
   },
   {
    "duration": 374,
    "start_time": "2022-02-23T12:50:47.491Z"
   },
   {
    "duration": 181,
    "start_time": "2022-02-23T12:50:47.866Z"
   },
   {
    "duration": 129,
    "start_time": "2022-02-23T12:50:48.048Z"
   },
   {
    "duration": 8,
    "start_time": "2022-02-23T12:50:48.178Z"
   },
   {
    "duration": 525,
    "start_time": "2022-02-23T12:50:48.187Z"
   },
   {
    "duration": 6,
    "start_time": "2022-02-23T12:50:48.713Z"
   },
   {
    "duration": 355,
    "start_time": "2022-02-23T12:50:48.720Z"
   },
   {
    "duration": 3,
    "start_time": "2022-02-23T12:50:49.077Z"
   },
   {
    "duration": 8,
    "start_time": "2022-02-23T12:50:49.081Z"
   },
   {
    "duration": 240,
    "start_time": "2022-02-23T12:50:49.091Z"
   },
   {
    "duration": 347,
    "start_time": "2022-02-23T12:50:49.332Z"
   },
   {
    "duration": 4,
    "start_time": "2022-02-23T12:50:49.681Z"
   },
   {
    "duration": 323,
    "start_time": "2022-02-23T12:50:49.686Z"
   },
   {
    "duration": 3,
    "start_time": "2022-02-23T12:50:50.010Z"
   },
   {
    "duration": 12,
    "start_time": "2022-02-23T12:50:50.014Z"
   },
   {
    "duration": 102,
    "start_time": "2022-02-23T12:50:50.027Z"
   },
   {
    "duration": 7,
    "start_time": "2022-02-23T12:50:50.130Z"
   },
   {
    "duration": 10,
    "start_time": "2022-02-23T12:50:50.138Z"
   },
   {
    "duration": 5,
    "start_time": "2022-02-23T12:50:50.149Z"
   },
   {
    "duration": 8,
    "start_time": "2022-02-23T12:50:50.155Z"
   },
   {
    "duration": 8,
    "start_time": "2022-02-23T12:50:50.165Z"
   },
   {
    "duration": 8,
    "start_time": "2022-02-23T12:50:50.175Z"
   },
   {
    "duration": 616,
    "start_time": "2022-02-23T14:47:13.806Z"
   },
   {
    "duration": 69,
    "start_time": "2022-02-23T14:47:14.424Z"
   },
   {
    "duration": 3,
    "start_time": "2022-02-23T14:47:14.772Z"
   },
   {
    "duration": 8,
    "start_time": "2022-02-23T14:47:15.198Z"
   },
   {
    "duration": 14,
    "start_time": "2022-02-23T14:47:17.710Z"
   },
   {
    "duration": 296,
    "start_time": "2022-02-23T14:47:28.422Z"
   },
   {
    "duration": 7,
    "start_time": "2022-02-23T14:47:37.124Z"
   },
   {
    "duration": 7,
    "start_time": "2022-02-23T14:48:07.884Z"
   },
   {
    "duration": 21,
    "start_time": "2022-02-23T14:48:25.948Z"
   },
   {
    "duration": 13,
    "start_time": "2022-02-23T14:48:43.275Z"
   },
   {
    "duration": 9,
    "start_time": "2022-02-23T14:50:10.143Z"
   },
   {
    "duration": 6,
    "start_time": "2022-02-23T14:50:23.723Z"
   },
   {
    "duration": 5,
    "start_time": "2022-02-23T14:50:30.669Z"
   },
   {
    "duration": 6073,
    "start_time": "2022-02-23T14:51:19.859Z"
   },
   {
    "duration": 6,
    "start_time": "2022-02-23T14:51:40.463Z"
   },
   {
    "duration": 5,
    "start_time": "2022-02-23T14:52:20.141Z"
   },
   {
    "duration": 5,
    "start_time": "2022-02-23T14:52:33.500Z"
   },
   {
    "duration": 6,
    "start_time": "2022-02-23T14:53:24.319Z"
   },
   {
    "duration": 3,
    "start_time": "2022-02-23T14:57:33.076Z"
   },
   {
    "duration": 6,
    "start_time": "2022-02-23T14:57:38.770Z"
   },
   {
    "duration": 21,
    "start_time": "2022-02-23T15:00:58.211Z"
   },
   {
    "duration": 8,
    "start_time": "2022-02-23T15:01:08.624Z"
   },
   {
    "duration": 250,
    "start_time": "2022-02-23T15:02:18.335Z"
   },
   {
    "duration": 11,
    "start_time": "2022-02-23T15:02:24.514Z"
   },
   {
    "duration": 9,
    "start_time": "2022-02-23T15:03:10.668Z"
   },
   {
    "duration": 7,
    "start_time": "2022-02-23T15:03:23.974Z"
   },
   {
    "duration": 281,
    "start_time": "2022-02-23T15:06:15.815Z"
   },
   {
    "duration": 635,
    "start_time": "2022-02-23T15:06:24.292Z"
   },
   {
    "duration": 71,
    "start_time": "2022-02-23T15:06:24.929Z"
   },
   {
    "duration": 3,
    "start_time": "2022-02-23T15:06:25.003Z"
   },
   {
    "duration": 10,
    "start_time": "2022-02-23T15:06:25.008Z"
   },
   {
    "duration": 13,
    "start_time": "2022-02-23T15:06:25.020Z"
   },
   {
    "duration": 10,
    "start_time": "2022-02-23T15:06:25.035Z"
   },
   {
    "duration": 34,
    "start_time": "2022-02-23T15:06:25.047Z"
   },
   {
    "duration": 21,
    "start_time": "2022-02-23T15:06:25.084Z"
   },
   {
    "duration": 12,
    "start_time": "2022-02-23T15:06:25.107Z"
   },
   {
    "duration": 10,
    "start_time": "2022-02-23T15:06:25.121Z"
   },
   {
    "duration": 38,
    "start_time": "2022-02-23T15:06:25.133Z"
   },
   {
    "duration": 10,
    "start_time": "2022-02-23T15:06:25.173Z"
   },
   {
    "duration": 18,
    "start_time": "2022-02-23T15:06:25.185Z"
   },
   {
    "duration": 9,
    "start_time": "2022-02-23T15:06:25.206Z"
   },
   {
    "duration": 24,
    "start_time": "2022-02-23T15:06:25.217Z"
   },
   {
    "duration": 20,
    "start_time": "2022-02-23T15:06:25.243Z"
   },
   {
    "duration": 27,
    "start_time": "2022-02-23T15:06:25.265Z"
   },
   {
    "duration": 36,
    "start_time": "2022-02-23T15:06:25.294Z"
   },
   {
    "duration": 35,
    "start_time": "2022-02-23T15:06:25.332Z"
   },
   {
    "duration": 29,
    "start_time": "2022-02-23T15:06:25.369Z"
   },
   {
    "duration": 429,
    "start_time": "2022-02-23T15:06:25.399Z"
   },
   {
    "duration": 244,
    "start_time": "2022-02-23T15:06:25.830Z"
   },
   {
    "duration": 166,
    "start_time": "2022-02-23T15:06:26.077Z"
   },
   {
    "duration": 7,
    "start_time": "2022-02-23T15:06:26.245Z"
   },
   {
    "duration": 471,
    "start_time": "2022-02-23T15:06:26.270Z"
   },
   {
    "duration": 7,
    "start_time": "2022-02-23T15:06:26.743Z"
   },
   {
    "duration": 464,
    "start_time": "2022-02-23T15:06:26.751Z"
   },
   {
    "duration": 4,
    "start_time": "2022-02-23T15:06:27.217Z"
   },
   {
    "duration": 19,
    "start_time": "2022-02-23T15:06:27.223Z"
   },
   {
    "duration": 343,
    "start_time": "2022-02-23T15:06:27.244Z"
   },
   {
    "duration": 430,
    "start_time": "2022-02-23T15:06:27.589Z"
   },
   {
    "duration": 5,
    "start_time": "2022-02-23T15:06:28.022Z"
   },
   {
    "duration": 414,
    "start_time": "2022-02-23T15:06:28.029Z"
   },
   {
    "duration": 5,
    "start_time": "2022-02-23T15:06:28.445Z"
   },
   {
    "duration": 23,
    "start_time": "2022-02-23T15:06:28.452Z"
   },
   {
    "duration": 136,
    "start_time": "2022-02-23T15:06:28.477Z"
   },
   {
    "duration": 9,
    "start_time": "2022-02-23T15:06:28.614Z"
   },
   {
    "duration": 8,
    "start_time": "2022-02-23T15:06:28.624Z"
   },
   {
    "duration": 6,
    "start_time": "2022-02-23T15:06:28.633Z"
   },
   {
    "duration": 28,
    "start_time": "2022-02-23T15:06:28.641Z"
   },
   {
    "duration": 10,
    "start_time": "2022-02-23T15:06:28.671Z"
   },
   {
    "duration": 14,
    "start_time": "2022-02-23T15:06:28.683Z"
   },
   {
    "duration": 7171,
    "start_time": "2022-02-23T15:23:03.246Z"
   },
   {
    "duration": 300,
    "start_time": "2022-02-23T15:23:16.689Z"
   },
   {
    "duration": 310,
    "start_time": "2022-02-23T15:23:55.612Z"
   },
   {
    "duration": 330,
    "start_time": "2022-02-23T15:24:43.632Z"
   },
   {
    "duration": 266,
    "start_time": "2022-02-23T15:28:56.728Z"
   },
   {
    "duration": 183,
    "start_time": "2022-02-23T15:29:04.583Z"
   },
   {
    "duration": 324,
    "start_time": "2022-02-23T15:30:53.387Z"
   },
   {
    "duration": 259,
    "start_time": "2022-02-23T15:33:53.019Z"
   },
   {
    "duration": 263,
    "start_time": "2022-02-23T15:34:02.957Z"
   },
   {
    "duration": 264,
    "start_time": "2022-02-23T15:34:10.969Z"
   },
   {
    "duration": 451,
    "start_time": "2022-02-23T15:35:07.669Z"
   },
   {
    "duration": 389,
    "start_time": "2022-02-23T15:39:50.758Z"
   },
   {
    "duration": 112,
    "start_time": "2022-02-23T15:40:03.748Z"
   },
   {
    "duration": 101,
    "start_time": "2022-02-23T15:42:44.931Z"
   },
   {
    "duration": 94,
    "start_time": "2022-02-23T15:43:12.741Z"
   },
   {
    "duration": 601,
    "start_time": "2022-02-23T15:43:20.710Z"
   },
   {
    "duration": 129,
    "start_time": "2022-02-23T15:43:47.599Z"
   },
   {
    "duration": 192,
    "start_time": "2022-02-23T15:44:36.913Z"
   },
   {
    "duration": 306,
    "start_time": "2022-02-23T15:44:56.486Z"
   },
   {
    "duration": 302,
    "start_time": "2022-02-23T15:46:34.883Z"
   },
   {
    "duration": 122,
    "start_time": "2022-02-23T15:48:46.509Z"
   },
   {
    "duration": 131,
    "start_time": "2022-02-23T15:50:30.868Z"
   },
   {
    "duration": 5,
    "start_time": "2022-02-23T15:51:05.794Z"
   },
   {
    "duration": 188,
    "start_time": "2022-02-23T15:52:39.240Z"
   },
   {
    "duration": 191,
    "start_time": "2022-02-23T15:52:43.352Z"
   },
   {
    "duration": 318,
    "start_time": "2022-02-23T15:54:50.777Z"
   },
   {
    "duration": 110,
    "start_time": "2022-02-23T15:54:55.399Z"
   },
   {
    "duration": 312,
    "start_time": "2022-02-23T15:55:01.181Z"
   },
   {
    "duration": 6602,
    "start_time": "2022-02-23T16:11:05.229Z"
   },
   {
    "duration": 514,
    "start_time": "2022-02-23T16:11:19.873Z"
   },
   {
    "duration": 431,
    "start_time": "2022-02-23T16:12:11.855Z"
   },
   {
    "duration": 12,
    "start_time": "2022-02-23T16:12:36.815Z"
   },
   {
    "duration": 664,
    "start_time": "2022-02-23T16:13:37.349Z"
   },
   {
    "duration": 65,
    "start_time": "2022-02-23T16:13:38.015Z"
   },
   {
    "duration": 4,
    "start_time": "2022-02-23T16:13:38.084Z"
   },
   {
    "duration": 10,
    "start_time": "2022-02-23T16:13:38.090Z"
   },
   {
    "duration": 10,
    "start_time": "2022-02-23T16:13:38.102Z"
   },
   {
    "duration": 8,
    "start_time": "2022-02-23T16:13:38.114Z"
   },
   {
    "duration": 49,
    "start_time": "2022-02-23T16:13:38.124Z"
   },
   {
    "duration": 21,
    "start_time": "2022-02-23T16:13:38.177Z"
   },
   {
    "duration": 13,
    "start_time": "2022-02-23T16:13:38.200Z"
   },
   {
    "duration": 13,
    "start_time": "2022-02-23T16:13:38.215Z"
   },
   {
    "duration": 8,
    "start_time": "2022-02-23T16:13:38.230Z"
   },
   {
    "duration": 30,
    "start_time": "2022-02-23T16:13:38.241Z"
   },
   {
    "duration": 11,
    "start_time": "2022-02-23T16:13:38.273Z"
   },
   {
    "duration": 11,
    "start_time": "2022-02-23T16:13:38.286Z"
   },
   {
    "duration": 12,
    "start_time": "2022-02-23T16:13:38.299Z"
   },
   {
    "duration": 35,
    "start_time": "2022-02-23T16:13:38.313Z"
   },
   {
    "duration": 7,
    "start_time": "2022-02-23T16:13:38.350Z"
   },
   {
    "duration": 22,
    "start_time": "2022-02-23T16:13:38.359Z"
   },
   {
    "duration": 12,
    "start_time": "2022-02-23T16:13:38.384Z"
   },
   {
    "duration": 21,
    "start_time": "2022-02-23T16:13:38.398Z"
   },
   {
    "duration": 413,
    "start_time": "2022-02-23T16:13:38.422Z"
   },
   {
    "duration": 246,
    "start_time": "2022-02-23T16:13:38.837Z"
   },
   {
    "duration": 186,
    "start_time": "2022-02-23T16:13:39.087Z"
   },
   {
    "duration": 8,
    "start_time": "2022-02-23T16:13:39.276Z"
   },
   {
    "duration": 487,
    "start_time": "2022-02-23T16:13:39.286Z"
   },
   {
    "duration": 7,
    "start_time": "2022-02-23T16:13:39.775Z"
   },
   {
    "duration": 333,
    "start_time": "2022-02-23T16:13:39.784Z"
   },
   {
    "duration": 433,
    "start_time": "2022-02-23T16:13:40.119Z"
   },
   {
    "duration": 3,
    "start_time": "2022-02-23T16:13:40.554Z"
   },
   {
    "duration": 15,
    "start_time": "2022-02-23T16:13:40.559Z"
   },
   {
    "duration": 364,
    "start_time": "2022-02-23T16:13:40.576Z"
   },
   {
    "duration": 460,
    "start_time": "2022-02-23T16:13:40.942Z"
   },
   {
    "duration": 200,
    "start_time": "2022-02-23T16:13:41.404Z"
   },
   {
    "duration": 295,
    "start_time": "2022-02-23T16:13:41.606Z"
   },
   {
    "duration": 119,
    "start_time": "2022-02-23T16:13:41.903Z"
   },
   {
    "duration": 206,
    "start_time": "2022-02-23T16:13:42.024Z"
   },
   {
    "duration": 356,
    "start_time": "2022-02-23T16:13:42.232Z"
   },
   {
    "duration": 5,
    "start_time": "2022-02-23T16:13:42.590Z"
   },
   {
    "duration": 403,
    "start_time": "2022-02-23T16:13:42.597Z"
   },
   {
    "duration": 5,
    "start_time": "2022-02-23T16:13:43.001Z"
   },
   {
    "duration": 21,
    "start_time": "2022-02-23T16:13:43.008Z"
   },
   {
    "duration": 166,
    "start_time": "2022-02-23T16:13:43.031Z"
   },
   {
    "duration": 9,
    "start_time": "2022-02-23T16:13:43.199Z"
   },
   {
    "duration": 16,
    "start_time": "2022-02-23T16:13:43.210Z"
   },
   {
    "duration": 9,
    "start_time": "2022-02-23T16:13:43.228Z"
   },
   {
    "duration": 20,
    "start_time": "2022-02-23T16:13:43.239Z"
   },
   {
    "duration": 18,
    "start_time": "2022-02-23T16:13:43.261Z"
   },
   {
    "duration": 18,
    "start_time": "2022-02-23T16:13:43.281Z"
   },
   {
    "duration": 7406,
    "start_time": "2022-02-23T16:18:05.473Z"
   },
   {
    "duration": 12,
    "start_time": "2022-02-23T16:19:44.572Z"
   },
   {
    "duration": 9,
    "start_time": "2022-02-23T16:19:54.606Z"
   },
   {
    "duration": 8,
    "start_time": "2022-02-23T16:20:32.944Z"
   },
   {
    "duration": 7741,
    "start_time": "2022-02-23T16:28:51.669Z"
   },
   {
    "duration": 6974,
    "start_time": "2022-02-23T16:29:13.613Z"
   },
   {
    "duration": 15,
    "start_time": "2022-02-23T16:29:36.211Z"
   },
   {
    "duration": 8,
    "start_time": "2022-02-23T16:29:55.407Z"
   },
   {
    "duration": 12,
    "start_time": "2022-02-23T16:30:05.067Z"
   },
   {
    "duration": 279,
    "start_time": "2022-02-23T16:30:25.669Z"
   },
   {
    "duration": 11,
    "start_time": "2022-02-23T16:30:32.899Z"
   },
   {
    "duration": 11,
    "start_time": "2022-02-23T16:30:46.125Z"
   },
   {
    "duration": 8077,
    "start_time": "2022-02-23T16:32:36.135Z"
   },
   {
    "duration": 10,
    "start_time": "2022-02-23T16:33:03.008Z"
   },
   {
    "duration": 7162,
    "start_time": "2022-02-23T16:34:10.497Z"
   },
   {
    "duration": 16,
    "start_time": "2022-02-23T16:35:32.134Z"
   },
   {
    "duration": 13671,
    "start_time": "2022-02-23T16:35:42.682Z"
   },
   {
    "duration": 15,
    "start_time": "2022-02-23T16:35:58.168Z"
   },
   {
    "duration": 485,
    "start_time": "2022-02-23T20:39:54.920Z"
   },
   {
    "duration": 158,
    "start_time": "2022-02-23T20:39:55.407Z"
   },
   {
    "duration": 3,
    "start_time": "2022-02-23T20:39:55.567Z"
   },
   {
    "duration": 10,
    "start_time": "2022-02-23T20:39:55.572Z"
   },
   {
    "duration": 8,
    "start_time": "2022-02-23T20:39:55.584Z"
   },
   {
    "duration": 9,
    "start_time": "2022-02-23T20:39:55.593Z"
   },
   {
    "duration": 22,
    "start_time": "2022-02-23T20:39:55.603Z"
   },
   {
    "duration": 15,
    "start_time": "2022-02-23T20:39:55.627Z"
   },
   {
    "duration": 8,
    "start_time": "2022-02-23T20:39:55.644Z"
   },
   {
    "duration": 9,
    "start_time": "2022-02-23T20:39:55.653Z"
   },
   {
    "duration": 8,
    "start_time": "2022-02-23T20:39:55.664Z"
   },
   {
    "duration": 10,
    "start_time": "2022-02-23T20:39:55.673Z"
   },
   {
    "duration": 9,
    "start_time": "2022-02-23T20:39:55.684Z"
   },
   {
    "duration": 10,
    "start_time": "2022-02-23T20:39:55.695Z"
   },
   {
    "duration": 12,
    "start_time": "2022-02-23T20:39:55.706Z"
   },
   {
    "duration": 17,
    "start_time": "2022-02-23T20:39:55.719Z"
   },
   {
    "duration": 14,
    "start_time": "2022-02-23T20:39:55.737Z"
   },
   {
    "duration": 14,
    "start_time": "2022-02-23T20:39:55.752Z"
   },
   {
    "duration": 7,
    "start_time": "2022-02-23T20:39:55.767Z"
   },
   {
    "duration": 16,
    "start_time": "2022-02-23T20:39:55.776Z"
   },
   {
    "duration": 371,
    "start_time": "2022-02-23T20:39:55.794Z"
   },
   {
    "duration": 149,
    "start_time": "2022-02-23T20:39:56.167Z"
   },
   {
    "duration": 120,
    "start_time": "2022-02-23T20:39:56.319Z"
   },
   {
    "duration": 7,
    "start_time": "2022-02-23T20:39:56.441Z"
   },
   {
    "duration": 592,
    "start_time": "2022-02-23T20:39:56.450Z"
   },
   {
    "duration": 5,
    "start_time": "2022-02-23T20:39:57.043Z"
   },
   {
    "duration": 238,
    "start_time": "2022-02-23T20:39:57.050Z"
   },
   {
    "duration": 365,
    "start_time": "2022-02-23T20:39:57.290Z"
   },
   {
    "duration": 3,
    "start_time": "2022-02-23T20:39:57.657Z"
   },
   {
    "duration": 8,
    "start_time": "2022-02-23T20:39:57.661Z"
   },
   {
    "duration": 267,
    "start_time": "2022-02-23T20:39:57.670Z"
   },
   {
    "duration": 352,
    "start_time": "2022-02-23T20:39:57.939Z"
   },
   {
    "duration": 149,
    "start_time": "2022-02-23T20:39:58.293Z"
   },
   {
    "duration": 256,
    "start_time": "2022-02-23T20:39:58.443Z"
   },
   {
    "duration": 58,
    "start_time": "2022-02-23T20:39:58.701Z"
   },
   {
    "duration": 208,
    "start_time": "2022-02-23T20:39:58.760Z"
   },
   {
    "duration": 234,
    "start_time": "2022-02-23T20:39:58.970Z"
   },
   {
    "duration": 3,
    "start_time": "2022-02-23T20:39:59.206Z"
   },
   {
    "duration": 381,
    "start_time": "2022-02-23T20:39:59.211Z"
   },
   {
    "duration": 3,
    "start_time": "2022-02-23T20:39:59.594Z"
   },
   {
    "duration": 402,
    "start_time": "2022-02-23T20:39:59.598Z"
   },
   {
    "duration": 1416,
    "start_time": "2022-02-23T20:39:58.586Z"
   },
   {
    "duration": 1416,
    "start_time": "2022-02-23T20:39:58.587Z"
   },
   {
    "duration": 1417,
    "start_time": "2022-02-23T20:39:58.588Z"
   },
   {
    "duration": 1416,
    "start_time": "2022-02-23T20:39:58.590Z"
   },
   {
    "duration": 2651,
    "start_time": "2022-02-23T20:40:32.748Z"
   },
   {
    "duration": 453,
    "start_time": "2022-02-23T20:50:58.379Z"
   },
   {
    "duration": 64,
    "start_time": "2022-02-23T20:50:58.834Z"
   },
   {
    "duration": 3,
    "start_time": "2022-02-23T20:50:58.900Z"
   },
   {
    "duration": 11,
    "start_time": "2022-02-23T20:50:58.905Z"
   },
   {
    "duration": 9,
    "start_time": "2022-02-23T20:50:58.918Z"
   },
   {
    "duration": 10,
    "start_time": "2022-02-23T20:50:58.928Z"
   },
   {
    "duration": 21,
    "start_time": "2022-02-23T20:50:58.940Z"
   },
   {
    "duration": 13,
    "start_time": "2022-02-23T20:50:58.964Z"
   },
   {
    "duration": 7,
    "start_time": "2022-02-23T20:50:58.979Z"
   },
   {
    "duration": 6,
    "start_time": "2022-02-23T20:50:58.988Z"
   },
   {
    "duration": 35,
    "start_time": "2022-02-23T20:50:58.996Z"
   },
   {
    "duration": 6,
    "start_time": "2022-02-23T20:50:59.033Z"
   },
   {
    "duration": 4,
    "start_time": "2022-02-23T20:50:59.041Z"
   },
   {
    "duration": 6,
    "start_time": "2022-02-23T20:50:59.047Z"
   },
   {
    "duration": 12,
    "start_time": "2022-02-23T20:50:59.055Z"
   },
   {
    "duration": 9,
    "start_time": "2022-02-23T20:50:59.069Z"
   },
   {
    "duration": 7,
    "start_time": "2022-02-23T20:50:59.080Z"
   },
   {
    "duration": 14,
    "start_time": "2022-02-23T20:50:59.089Z"
   },
   {
    "duration": 27,
    "start_time": "2022-02-23T20:50:59.104Z"
   },
   {
    "duration": 9,
    "start_time": "2022-02-23T20:50:59.133Z"
   },
   {
    "duration": 317,
    "start_time": "2022-02-23T20:50:59.143Z"
   },
   {
    "duration": 146,
    "start_time": "2022-02-23T20:50:59.461Z"
   },
   {
    "duration": 126,
    "start_time": "2022-02-23T20:50:59.610Z"
   },
   {
    "duration": 8,
    "start_time": "2022-02-23T20:50:59.738Z"
   },
   {
    "duration": 527,
    "start_time": "2022-02-23T20:50:59.748Z"
   },
   {
    "duration": 6,
    "start_time": "2022-02-23T20:51:00.277Z"
   },
   {
    "duration": 249,
    "start_time": "2022-02-23T20:51:00.285Z"
   },
   {
    "duration": 349,
    "start_time": "2022-02-23T20:51:00.536Z"
   },
   {
    "duration": 4,
    "start_time": "2022-02-23T20:51:00.886Z"
   },
   {
    "duration": 12,
    "start_time": "2022-02-23T20:51:00.891Z"
   },
   {
    "duration": 267,
    "start_time": "2022-02-23T20:51:00.905Z"
   },
   {
    "duration": 330,
    "start_time": "2022-02-23T20:51:01.173Z"
   },
   {
    "duration": 157,
    "start_time": "2022-02-23T20:51:01.505Z"
   },
   {
    "duration": 256,
    "start_time": "2022-02-23T20:51:01.664Z"
   },
   {
    "duration": 55,
    "start_time": "2022-02-23T20:51:01.922Z"
   },
   {
    "duration": 216,
    "start_time": "2022-02-23T20:51:01.979Z"
   },
   {
    "duration": 247,
    "start_time": "2022-02-23T20:51:02.197Z"
   },
   {
    "duration": 5,
    "start_time": "2022-02-23T20:51:02.446Z"
   },
   {
    "duration": 336,
    "start_time": "2022-02-23T20:51:02.453Z"
   },
   {
    "duration": 4,
    "start_time": "2022-02-23T20:51:02.791Z"
   },
   {
    "duration": 437,
    "start_time": "2022-02-23T20:51:02.797Z"
   },
   {
    "duration": 1396,
    "start_time": "2022-02-23T20:51:01.840Z"
   },
   {
    "duration": 1395,
    "start_time": "2022-02-23T20:51:01.842Z"
   },
   {
    "duration": 1395,
    "start_time": "2022-02-23T20:51:01.843Z"
   },
   {
    "duration": 1382,
    "start_time": "2022-02-23T20:51:01.857Z"
   },
   {
    "duration": 8,
    "start_time": "2022-02-23T21:27:02.683Z"
   },
   {
    "duration": 319,
    "start_time": "2022-02-23T21:51:49.949Z"
   },
   {
    "duration": 354,
    "start_time": "2022-02-23T21:51:50.522Z"
   },
   {
    "duration": 299,
    "start_time": "2022-02-23T21:51:51.116Z"
   },
   {
    "duration": 310,
    "start_time": "2022-02-23T21:51:51.443Z"
   },
   {
    "duration": 576,
    "start_time": "2022-02-23T22:15:34.118Z"
   },
   {
    "duration": 108,
    "start_time": "2022-02-23T22:15:34.696Z"
   },
   {
    "duration": 3,
    "start_time": "2022-02-23T22:15:34.806Z"
   },
   {
    "duration": 10,
    "start_time": "2022-02-23T22:15:34.810Z"
   },
   {
    "duration": 7,
    "start_time": "2022-02-23T22:15:34.822Z"
   },
   {
    "duration": 6,
    "start_time": "2022-02-23T22:15:34.831Z"
   },
   {
    "duration": 27,
    "start_time": "2022-02-23T22:15:34.838Z"
   },
   {
    "duration": 15,
    "start_time": "2022-02-23T22:15:34.867Z"
   },
   {
    "duration": 9,
    "start_time": "2022-02-23T22:15:34.884Z"
   },
   {
    "duration": 7,
    "start_time": "2022-02-23T22:15:34.895Z"
   },
   {
    "duration": 28,
    "start_time": "2022-02-23T22:15:34.903Z"
   },
   {
    "duration": 7,
    "start_time": "2022-02-23T22:15:34.933Z"
   },
   {
    "duration": 5,
    "start_time": "2022-02-23T22:15:34.942Z"
   },
   {
    "duration": 6,
    "start_time": "2022-02-23T22:15:34.948Z"
   },
   {
    "duration": 5,
    "start_time": "2022-02-23T22:15:34.955Z"
   },
   {
    "duration": 8,
    "start_time": "2022-02-23T22:15:34.962Z"
   },
   {
    "duration": 7,
    "start_time": "2022-02-23T22:15:34.971Z"
   },
   {
    "duration": 5,
    "start_time": "2022-02-23T22:15:34.980Z"
   },
   {
    "duration": 50,
    "start_time": "2022-02-23T22:15:34.987Z"
   },
   {
    "duration": 4,
    "start_time": "2022-02-23T22:15:35.038Z"
   },
   {
    "duration": 15,
    "start_time": "2022-02-23T22:15:35.043Z"
   },
   {
    "duration": 312,
    "start_time": "2022-02-23T22:15:35.060Z"
   },
   {
    "duration": 202,
    "start_time": "2022-02-23T22:15:35.375Z"
   },
   {
    "duration": 152,
    "start_time": "2022-02-23T22:15:35.579Z"
   },
   {
    "duration": 11,
    "start_time": "2022-02-23T22:15:35.733Z"
   },
   {
    "duration": 461,
    "start_time": "2022-02-23T22:15:35.745Z"
   },
   {
    "duration": 6,
    "start_time": "2022-02-23T22:15:36.208Z"
   },
   {
    "duration": 267,
    "start_time": "2022-02-23T22:15:36.215Z"
   },
   {
    "duration": 384,
    "start_time": "2022-02-23T22:15:36.484Z"
   },
   {
    "duration": 4,
    "start_time": "2022-02-23T22:15:36.870Z"
   },
   {
    "duration": 11,
    "start_time": "2022-02-23T22:15:36.875Z"
   },
   {
    "duration": 318,
    "start_time": "2022-02-23T22:15:36.888Z"
   },
   {
    "duration": 404,
    "start_time": "2022-02-23T22:15:37.207Z"
   },
   {
    "duration": 172,
    "start_time": "2022-02-23T22:15:37.613Z"
   },
   {
    "duration": 245,
    "start_time": "2022-02-23T22:15:37.787Z"
   },
   {
    "duration": 125,
    "start_time": "2022-02-23T22:15:38.033Z"
   },
   {
    "duration": 181,
    "start_time": "2022-02-23T22:15:38.160Z"
   },
   {
    "duration": 397,
    "start_time": "2022-02-23T22:15:38.342Z"
   },
   {
    "duration": 5,
    "start_time": "2022-02-23T22:15:38.740Z"
   },
   {
    "duration": 401,
    "start_time": "2022-02-23T22:15:38.747Z"
   },
   {
    "duration": 5,
    "start_time": "2022-02-23T22:15:39.150Z"
   },
   {
    "duration": 321,
    "start_time": "2022-02-23T22:15:39.156Z"
   },
   {
    "duration": -796,
    "start_time": "2022-02-23T22:15:40.276Z"
   },
   {
    "duration": -799,
    "start_time": "2022-02-23T22:15:40.280Z"
   },
   {
    "duration": -799,
    "start_time": "2022-02-23T22:15:40.282Z"
   },
   {
    "duration": -802,
    "start_time": "2022-02-23T22:15:40.287Z"
   },
   {
    "duration": 3,
    "start_time": "2022-02-23T22:17:25.385Z"
   },
   {
    "duration": 175,
    "start_time": "2022-02-23T22:18:52.015Z"
   },
   {
    "duration": 193,
    "start_time": "2022-02-23T22:18:57.636Z"
   },
   {
    "duration": 62,
    "start_time": "2022-02-23T22:20:01.791Z"
   },
   {
    "duration": 4,
    "start_time": "2022-02-23T22:20:21.727Z"
   },
   {
    "duration": 3,
    "start_time": "2022-02-23T22:20:47.046Z"
   },
   {
    "duration": 237,
    "start_time": "2022-02-23T22:26:04.567Z"
   },
   {
    "duration": 248,
    "start_time": "2022-02-23T22:26:43.967Z"
   },
   {
    "duration": 287,
    "start_time": "2022-02-23T22:27:52.657Z"
   },
   {
    "duration": 4,
    "start_time": "2022-02-23T22:28:42.527Z"
   },
   {
    "duration": 294,
    "start_time": "2022-02-23T22:29:39.519Z"
   },
   {
    "duration": 288,
    "start_time": "2022-02-23T22:29:50.227Z"
   },
   {
    "duration": 245,
    "start_time": "2022-02-23T22:36:08.153Z"
   },
   {
    "duration": 12,
    "start_time": "2022-02-23T22:36:36.085Z"
   },
   {
    "duration": 4895,
    "start_time": "2022-02-23T22:36:47.517Z"
   },
   {
    "duration": 109,
    "start_time": "2022-02-23T22:37:08.299Z"
   },
   {
    "duration": 9,
    "start_time": "2022-02-23T22:37:13.858Z"
   },
   {
    "duration": 10,
    "start_time": "2022-02-23T22:37:16.037Z"
   },
   {
    "duration": 533,
    "start_time": "2022-02-23T22:37:23.173Z"
   },
   {
    "duration": 53,
    "start_time": "2022-02-23T22:37:23.708Z"
   },
   {
    "duration": 10,
    "start_time": "2022-02-23T22:37:23.763Z"
   },
   {
    "duration": 11,
    "start_time": "2022-02-23T22:37:23.775Z"
   },
   {
    "duration": 8,
    "start_time": "2022-02-23T22:37:23.788Z"
   },
   {
    "duration": 6,
    "start_time": "2022-02-23T22:37:23.797Z"
   },
   {
    "duration": 32,
    "start_time": "2022-02-23T22:37:23.805Z"
   },
   {
    "duration": 17,
    "start_time": "2022-02-23T22:37:23.840Z"
   },
   {
    "duration": 10,
    "start_time": "2022-02-23T22:37:23.859Z"
   },
   {
    "duration": 8,
    "start_time": "2022-02-23T22:37:23.871Z"
   },
   {
    "duration": 6,
    "start_time": "2022-02-23T22:37:23.881Z"
   },
   {
    "duration": 8,
    "start_time": "2022-02-23T22:37:23.889Z"
   },
   {
    "duration": 34,
    "start_time": "2022-02-23T22:37:23.899Z"
   },
   {
    "duration": 6,
    "start_time": "2022-02-23T22:37:23.934Z"
   },
   {
    "duration": 7,
    "start_time": "2022-02-23T22:37:23.941Z"
   },
   {
    "duration": 8,
    "start_time": "2022-02-23T22:37:23.949Z"
   },
   {
    "duration": 10,
    "start_time": "2022-02-23T22:37:23.959Z"
   },
   {
    "duration": 8,
    "start_time": "2022-02-23T22:37:23.970Z"
   },
   {
    "duration": 11,
    "start_time": "2022-02-23T22:37:23.979Z"
   },
   {
    "duration": 7,
    "start_time": "2022-02-23T22:37:23.992Z"
   },
   {
    "duration": 35,
    "start_time": "2022-02-23T22:37:24.000Z"
   },
   {
    "duration": 329,
    "start_time": "2022-02-23T22:37:24.036Z"
   },
   {
    "duration": 204,
    "start_time": "2022-02-23T22:37:24.369Z"
   },
   {
    "duration": 155,
    "start_time": "2022-02-23T22:37:24.575Z"
   },
   {
    "duration": 6,
    "start_time": "2022-02-23T22:37:24.731Z"
   },
   {
    "duration": 387,
    "start_time": "2022-02-23T22:37:24.739Z"
   },
   {
    "duration": 6,
    "start_time": "2022-02-23T22:37:25.128Z"
   },
   {
    "duration": 260,
    "start_time": "2022-02-23T22:37:25.135Z"
   },
   {
    "duration": 355,
    "start_time": "2022-02-23T22:37:25.397Z"
   },
   {
    "duration": 4,
    "start_time": "2022-02-23T22:37:25.755Z"
   },
   {
    "duration": 7,
    "start_time": "2022-02-23T22:37:25.761Z"
   },
   {
    "duration": 286,
    "start_time": "2022-02-23T22:37:25.769Z"
   },
   {
    "duration": 360,
    "start_time": "2022-02-23T22:37:26.056Z"
   },
   {
    "duration": 156,
    "start_time": "2022-02-23T22:37:26.417Z"
   },
   {
    "duration": 245,
    "start_time": "2022-02-23T22:37:26.574Z"
   },
   {
    "duration": 136,
    "start_time": "2022-02-23T22:37:26.821Z"
   },
   {
    "duration": 166,
    "start_time": "2022-02-23T22:37:26.958Z"
   },
   {
    "duration": 412,
    "start_time": "2022-02-23T22:37:27.126Z"
   },
   {
    "duration": 4,
    "start_time": "2022-02-23T22:37:27.539Z"
   },
   {
    "duration": 369,
    "start_time": "2022-02-23T22:37:27.545Z"
   },
   {
    "duration": 4,
    "start_time": "2022-02-23T22:37:27.930Z"
   },
   {
    "duration": 136,
    "start_time": "2022-02-23T22:37:27.935Z"
   },
   {
    "duration": 8,
    "start_time": "2022-02-23T22:37:28.072Z"
   },
   {
    "duration": 56,
    "start_time": "2022-02-23T22:37:28.082Z"
   },
   {
    "duration": 10,
    "start_time": "2022-02-23T22:37:28.139Z"
   },
   {
    "duration": 9,
    "start_time": "2022-02-23T22:37:28.151Z"
   },
   {
    "duration": 13,
    "start_time": "2022-02-23T22:37:28.161Z"
   },
   {
    "duration": 2694,
    "start_time": "2022-02-23T22:43:09.501Z"
   },
   {
    "duration": 5,
    "start_time": "2022-02-23T22:43:27.257Z"
   },
   {
    "duration": 2882,
    "start_time": "2022-02-23T22:44:22.712Z"
   },
   {
    "duration": 5,
    "start_time": "2022-02-23T22:44:35.503Z"
   },
   {
    "duration": 9,
    "start_time": "2022-02-23T22:45:32.253Z"
   },
   {
    "duration": 382,
    "start_time": "2022-02-23T22:48:32.112Z"
   },
   {
    "duration": 8,
    "start_time": "2022-02-23T22:50:58.223Z"
   },
   {
    "duration": 357,
    "start_time": "2022-02-23T22:52:24.003Z"
   },
   {
    "duration": 340,
    "start_time": "2022-02-23T22:52:33.979Z"
   },
   {
    "duration": 370,
    "start_time": "2022-02-23T22:55:24.315Z"
   },
   {
    "duration": 242,
    "start_time": "2022-02-23T22:55:45.994Z"
   },
   {
    "duration": 241,
    "start_time": "2022-02-23T22:56:23.352Z"
   },
   {
    "duration": 240,
    "start_time": "2022-02-23T22:58:27.363Z"
   },
   {
    "duration": 440,
    "start_time": "2022-02-24T15:51:31.197Z"
   },
   {
    "duration": 158,
    "start_time": "2022-02-24T15:51:31.638Z"
   },
   {
    "duration": 2,
    "start_time": "2022-02-24T15:51:31.800Z"
   },
   {
    "duration": 13,
    "start_time": "2022-02-24T15:51:31.804Z"
   },
   {
    "duration": 14,
    "start_time": "2022-02-24T15:51:31.818Z"
   },
   {
    "duration": 7,
    "start_time": "2022-02-24T15:51:31.834Z"
   },
   {
    "duration": 22,
    "start_time": "2022-02-24T15:51:31.843Z"
   },
   {
    "duration": 18,
    "start_time": "2022-02-24T15:51:31.867Z"
   },
   {
    "duration": 9,
    "start_time": "2022-02-24T15:51:31.886Z"
   },
   {
    "duration": 13,
    "start_time": "2022-02-24T15:51:31.896Z"
   },
   {
    "duration": 12,
    "start_time": "2022-02-24T15:51:31.910Z"
   },
   {
    "duration": 6,
    "start_time": "2022-02-24T15:51:31.924Z"
   },
   {
    "duration": 16,
    "start_time": "2022-02-24T15:51:31.931Z"
   },
   {
    "duration": 8,
    "start_time": "2022-02-24T15:51:31.948Z"
   },
   {
    "duration": 9,
    "start_time": "2022-02-24T15:51:31.957Z"
   },
   {
    "duration": 8,
    "start_time": "2022-02-24T15:51:31.967Z"
   },
   {
    "duration": 10,
    "start_time": "2022-02-24T15:51:31.977Z"
   },
   {
    "duration": 5,
    "start_time": "2022-02-24T15:51:31.988Z"
   },
   {
    "duration": 13,
    "start_time": "2022-02-24T15:51:31.994Z"
   },
   {
    "duration": 6,
    "start_time": "2022-02-24T15:51:32.009Z"
   },
   {
    "duration": 34,
    "start_time": "2022-02-24T15:51:32.017Z"
   },
   {
    "duration": 316,
    "start_time": "2022-02-24T15:51:32.054Z"
   },
   {
    "duration": 148,
    "start_time": "2022-02-24T15:51:32.372Z"
   },
   {
    "duration": 108,
    "start_time": "2022-02-24T15:51:32.521Z"
   },
   {
    "duration": 16,
    "start_time": "2022-02-24T15:51:32.630Z"
   },
   {
    "duration": 575,
    "start_time": "2022-02-24T15:51:32.648Z"
   },
   {
    "duration": 6,
    "start_time": "2022-02-24T15:51:33.224Z"
   },
   {
    "duration": 256,
    "start_time": "2022-02-24T15:51:33.231Z"
   },
   {
    "duration": 334,
    "start_time": "2022-02-24T15:51:33.488Z"
   },
   {
    "duration": 3,
    "start_time": "2022-02-24T15:51:33.824Z"
   },
   {
    "duration": 8,
    "start_time": "2022-02-24T15:51:33.828Z"
   },
   {
    "duration": 260,
    "start_time": "2022-02-24T15:51:33.837Z"
   },
   {
    "duration": 347,
    "start_time": "2022-02-24T15:51:34.099Z"
   },
   {
    "duration": 143,
    "start_time": "2022-02-24T15:51:34.448Z"
   },
   {
    "duration": 234,
    "start_time": "2022-02-24T15:51:34.592Z"
   },
   {
    "duration": 50,
    "start_time": "2022-02-24T15:51:34.828Z"
   },
   {
    "duration": 196,
    "start_time": "2022-02-24T15:51:34.880Z"
   },
   {
    "duration": 276,
    "start_time": "2022-02-24T15:51:35.077Z"
   },
   {
    "duration": 4,
    "start_time": "2022-02-24T15:51:35.354Z"
   },
   {
    "duration": 333,
    "start_time": "2022-02-24T15:51:35.359Z"
   },
   {
    "duration": 3,
    "start_time": "2022-02-24T15:51:35.694Z"
   },
   {
    "duration": 59,
    "start_time": "2022-02-24T15:51:35.699Z"
   },
   {
    "duration": 6,
    "start_time": "2022-02-24T15:51:35.759Z"
   },
   {
    "duration": 10,
    "start_time": "2022-02-24T15:51:35.767Z"
   },
   {
    "duration": 8,
    "start_time": "2022-02-24T15:51:35.778Z"
   },
   {
    "duration": 9,
    "start_time": "2022-02-24T15:51:35.787Z"
   },
   {
    "duration": 10,
    "start_time": "2022-02-24T15:51:35.797Z"
   },
   {
    "duration": 375,
    "start_time": "2022-02-24T15:51:35.808Z"
   },
   {
    "duration": 349,
    "start_time": "2022-02-24T15:51:36.184Z"
   },
   {
    "duration": 228,
    "start_time": "2022-02-24T15:51:36.535Z"
   },
   {
    "duration": 811,
    "start_time": "2022-02-24T16:23:16.366Z"
   },
   {
    "duration": 90,
    "start_time": "2022-02-24T16:23:17.180Z"
   },
   {
    "duration": 4,
    "start_time": "2022-02-24T16:23:17.274Z"
   },
   {
    "duration": 13,
    "start_time": "2022-02-24T16:23:17.281Z"
   },
   {
    "duration": 12,
    "start_time": "2022-02-24T16:23:17.296Z"
   },
   {
    "duration": 9,
    "start_time": "2022-02-24T16:23:17.310Z"
   },
   {
    "duration": 72,
    "start_time": "2022-02-24T16:23:17.322Z"
   },
   {
    "duration": 27,
    "start_time": "2022-02-24T16:23:17.396Z"
   },
   {
    "duration": 41,
    "start_time": "2022-02-24T16:23:17.428Z"
   },
   {
    "duration": 9,
    "start_time": "2022-02-24T16:23:17.474Z"
   },
   {
    "duration": 9,
    "start_time": "2022-02-24T16:23:17.487Z"
   },
   {
    "duration": 9,
    "start_time": "2022-02-24T16:23:17.498Z"
   },
   {
    "duration": 53,
    "start_time": "2022-02-24T16:23:17.510Z"
   },
   {
    "duration": 11,
    "start_time": "2022-02-24T16:23:17.565Z"
   },
   {
    "duration": 11,
    "start_time": "2022-02-24T16:23:17.579Z"
   },
   {
    "duration": 6,
    "start_time": "2022-02-24T16:23:17.593Z"
   },
   {
    "duration": 12,
    "start_time": "2022-02-24T16:23:17.603Z"
   },
   {
    "duration": 55,
    "start_time": "2022-02-24T16:23:17.617Z"
   },
   {
    "duration": 20,
    "start_time": "2022-02-24T16:23:17.674Z"
   },
   {
    "duration": 7,
    "start_time": "2022-02-24T16:23:17.697Z"
   },
   {
    "duration": 20,
    "start_time": "2022-02-24T16:23:17.706Z"
   },
   {
    "duration": 461,
    "start_time": "2022-02-24T16:23:17.761Z"
   },
   {
    "duration": 369,
    "start_time": "2022-02-24T16:23:18.225Z"
   },
   {
    "duration": 283,
    "start_time": "2022-02-24T16:23:18.597Z"
   },
   {
    "duration": 9,
    "start_time": "2022-02-24T16:23:18.884Z"
   },
   {
    "duration": 588,
    "start_time": "2022-02-24T16:23:18.896Z"
   },
   {
    "duration": 9,
    "start_time": "2022-02-24T16:23:19.490Z"
   },
   {
    "duration": 438,
    "start_time": "2022-02-24T16:23:19.502Z"
   },
   {
    "duration": 535,
    "start_time": "2022-02-24T16:23:19.943Z"
   },
   {
    "duration": 5,
    "start_time": "2022-02-24T16:23:20.481Z"
   },
   {
    "duration": 13,
    "start_time": "2022-02-24T16:23:20.489Z"
   },
   {
    "duration": 613,
    "start_time": "2022-02-24T16:23:20.504Z"
   },
   {
    "duration": 570,
    "start_time": "2022-02-24T16:23:21.121Z"
   },
   {
    "duration": 292,
    "start_time": "2022-02-24T16:23:21.693Z"
   },
   {
    "duration": 377,
    "start_time": "2022-02-24T16:23:21.989Z"
   },
   {
    "duration": 219,
    "start_time": "2022-02-24T16:23:22.369Z"
   },
   {
    "duration": 293,
    "start_time": "2022-02-24T16:23:22.591Z"
   },
   {
    "duration": 498,
    "start_time": "2022-02-24T16:23:22.887Z"
   },
   {
    "duration": 6,
    "start_time": "2022-02-24T16:23:23.387Z"
   },
   {
    "duration": 521,
    "start_time": "2022-02-24T16:23:23.395Z"
   },
   {
    "duration": 5,
    "start_time": "2022-02-24T16:23:23.919Z"
   },
   {
    "duration": 234,
    "start_time": "2022-02-24T16:23:23.927Z"
   },
   {
    "duration": 10,
    "start_time": "2022-02-24T16:23:24.164Z"
   },
   {
    "duration": 11,
    "start_time": "2022-02-24T16:23:24.177Z"
   },
   {
    "duration": 16,
    "start_time": "2022-02-24T16:23:24.191Z"
   },
   {
    "duration": 55,
    "start_time": "2022-02-24T16:23:24.210Z"
   },
   {
    "duration": 21,
    "start_time": "2022-02-24T16:23:24.268Z"
   },
   {
    "duration": 657,
    "start_time": "2022-02-24T16:23:24.292Z"
   },
   {
    "duration": 622,
    "start_time": "2022-02-24T16:23:24.951Z"
   },
   {
    "duration": 446,
    "start_time": "2022-02-24T16:23:25.576Z"
   },
   {
    "duration": 395,
    "start_time": "2022-02-24T16:24:27.527Z"
   },
   {
    "duration": 19,
    "start_time": "2022-02-24T16:24:38.977Z"
   },
   {
    "duration": 304,
    "start_time": "2022-02-24T16:24:48.821Z"
   },
   {
    "duration": 7,
    "start_time": "2022-02-24T16:25:18.517Z"
   },
   {
    "duration": 15,
    "start_time": "2022-02-24T16:25:27.205Z"
   },
   {
    "duration": 16,
    "start_time": "2022-02-24T16:25:52.194Z"
   },
   {
    "duration": 15,
    "start_time": "2022-02-24T16:27:46.479Z"
   },
   {
    "duration": 371,
    "start_time": "2022-02-24T16:33:39.086Z"
   },
   {
    "duration": 1169,
    "start_time": "2022-02-24T16:35:12.916Z"
   },
   {
    "duration": 39,
    "start_time": "2022-02-24T16:35:14.088Z"
   },
   {
    "duration": 4,
    "start_time": "2022-02-24T16:35:14.130Z"
   },
   {
    "duration": 10,
    "start_time": "2022-02-24T16:35:14.137Z"
   },
   {
    "duration": 17,
    "start_time": "2022-02-24T16:35:14.149Z"
   },
   {
    "duration": 9,
    "start_time": "2022-02-24T16:35:14.168Z"
   },
   {
    "duration": 38,
    "start_time": "2022-02-24T16:35:14.180Z"
   },
   {
    "duration": 59,
    "start_time": "2022-02-24T16:35:14.221Z"
   },
   {
    "duration": 16,
    "start_time": "2022-02-24T16:35:14.284Z"
   },
   {
    "duration": 10,
    "start_time": "2022-02-24T16:35:14.303Z"
   },
   {
    "duration": 8,
    "start_time": "2022-02-24T16:35:14.315Z"
   },
   {
    "duration": 9,
    "start_time": "2022-02-24T16:35:14.362Z"
   },
   {
    "duration": 9,
    "start_time": "2022-02-24T16:35:14.374Z"
   },
   {
    "duration": 7,
    "start_time": "2022-02-24T16:35:14.386Z"
   },
   {
    "duration": 13,
    "start_time": "2022-02-24T16:35:14.395Z"
   },
   {
    "duration": 50,
    "start_time": "2022-02-24T16:35:14.411Z"
   },
   {
    "duration": 11,
    "start_time": "2022-02-24T16:35:14.464Z"
   },
   {
    "duration": 7,
    "start_time": "2022-02-24T16:35:14.478Z"
   },
   {
    "duration": 14,
    "start_time": "2022-02-24T16:35:14.487Z"
   },
   {
    "duration": 12,
    "start_time": "2022-02-24T16:35:14.504Z"
   },
   {
    "duration": 54,
    "start_time": "2022-02-24T16:35:14.519Z"
   },
   {
    "duration": 440,
    "start_time": "2022-02-24T16:35:14.576Z"
   },
   {
    "duration": 288,
    "start_time": "2022-02-24T16:35:15.019Z"
   },
   {
    "duration": 11,
    "start_time": "2022-02-24T16:35:15.309Z"
   },
   {
    "duration": 646,
    "start_time": "2022-02-24T16:35:15.323Z"
   },
   {
    "duration": 10,
    "start_time": "2022-02-24T16:35:15.972Z"
   },
   {
    "duration": 448,
    "start_time": "2022-02-24T16:35:15.991Z"
   },
   {
    "duration": 557,
    "start_time": "2022-02-24T16:35:16.442Z"
   },
   {
    "duration": 6,
    "start_time": "2022-02-24T16:35:17.001Z"
   },
   {
    "duration": 11,
    "start_time": "2022-02-24T16:35:17.009Z"
   },
   {
    "duration": 478,
    "start_time": "2022-02-24T16:35:17.023Z"
   },
   {
    "duration": 542,
    "start_time": "2022-02-24T16:35:17.503Z"
   },
   {
    "duration": 278,
    "start_time": "2022-02-24T16:35:18.047Z"
   },
   {
    "duration": 439,
    "start_time": "2022-02-24T16:35:18.328Z"
   },
   {
    "duration": -1536,
    "start_time": "2022-02-24T16:35:20.306Z"
   },
   {
    "duration": -1538,
    "start_time": "2022-02-24T16:35:20.309Z"
   },
   {
    "duration": -1539,
    "start_time": "2022-02-24T16:35:20.312Z"
   },
   {
    "duration": -1540,
    "start_time": "2022-02-24T16:35:20.315Z"
   },
   {
    "duration": -1540,
    "start_time": "2022-02-24T16:35:20.317Z"
   },
   {
    "duration": -1541,
    "start_time": "2022-02-24T16:35:20.319Z"
   },
   {
    "duration": -1540,
    "start_time": "2022-02-24T16:35:20.321Z"
   },
   {
    "duration": -1540,
    "start_time": "2022-02-24T16:35:20.323Z"
   },
   {
    "duration": -1540,
    "start_time": "2022-02-24T16:35:20.325Z"
   },
   {
    "duration": -1622,
    "start_time": "2022-02-24T16:35:20.408Z"
   },
   {
    "duration": -1625,
    "start_time": "2022-02-24T16:35:20.413Z"
   },
   {
    "duration": -1626,
    "start_time": "2022-02-24T16:35:20.415Z"
   },
   {
    "duration": -1626,
    "start_time": "2022-02-24T16:35:20.417Z"
   },
   {
    "duration": -1627,
    "start_time": "2022-02-24T16:35:20.419Z"
   },
   {
    "duration": -1627,
    "start_time": "2022-02-24T16:35:20.421Z"
   },
   {
    "duration": 8517,
    "start_time": "2022-02-24T16:38:54.144Z"
   },
   {
    "duration": 24,
    "start_time": "2022-02-24T16:39:18.766Z"
   },
   {
    "duration": 297,
    "start_time": "2022-02-24T16:39:24.633Z"
   },
   {
    "duration": 748,
    "start_time": "2022-02-24T16:39:54.574Z"
   },
   {
    "duration": 542,
    "start_time": "2022-02-24T16:40:12.064Z"
   },
   {
    "duration": 285,
    "start_time": "2022-02-24T16:40:22.216Z"
   },
   {
    "duration": 587,
    "start_time": "2022-02-24T16:43:05.437Z"
   },
   {
    "duration": 755,
    "start_time": "2022-02-24T16:43:14.226Z"
   },
   {
    "duration": 302,
    "start_time": "2022-02-24T16:43:36.326Z"
   },
   {
    "duration": 3794,
    "start_time": "2022-02-24T16:44:53.056Z"
   },
   {
    "duration": 287,
    "start_time": "2022-02-24T16:45:27.804Z"
   },
   {
    "duration": 322,
    "start_time": "2022-02-24T16:50:49.959Z"
   },
   {
    "duration": 1302,
    "start_time": "2022-02-24T16:51:20.379Z"
   },
   {
    "duration": 55,
    "start_time": "2022-02-24T16:51:21.684Z"
   },
   {
    "duration": 5,
    "start_time": "2022-02-24T16:51:21.742Z"
   },
   {
    "duration": 10,
    "start_time": "2022-02-24T16:51:21.750Z"
   },
   {
    "duration": 10,
    "start_time": "2022-02-24T16:51:21.762Z"
   },
   {
    "duration": 14,
    "start_time": "2022-02-24T16:51:21.774Z"
   },
   {
    "duration": 49,
    "start_time": "2022-02-24T16:51:21.790Z"
   },
   {
    "duration": 28,
    "start_time": "2022-02-24T16:51:21.861Z"
   },
   {
    "duration": 16,
    "start_time": "2022-02-24T16:51:21.892Z"
   },
   {
    "duration": 9,
    "start_time": "2022-02-24T16:51:21.911Z"
   },
   {
    "duration": 46,
    "start_time": "2022-02-24T16:51:21.923Z"
   },
   {
    "duration": 8,
    "start_time": "2022-02-24T16:51:21.971Z"
   },
   {
    "duration": 13,
    "start_time": "2022-02-24T16:51:21.982Z"
   },
   {
    "duration": 17,
    "start_time": "2022-02-24T16:51:21.998Z"
   },
   {
    "duration": 49,
    "start_time": "2022-02-24T16:51:22.018Z"
   },
   {
    "duration": 8,
    "start_time": "2022-02-24T16:51:22.069Z"
   },
   {
    "duration": 13,
    "start_time": "2022-02-24T16:51:22.081Z"
   },
   {
    "duration": 8,
    "start_time": "2022-02-24T16:51:22.096Z"
   },
   {
    "duration": 15,
    "start_time": "2022-02-24T16:51:22.106Z"
   },
   {
    "duration": 43,
    "start_time": "2022-02-24T16:51:22.124Z"
   },
   {
    "duration": 19,
    "start_time": "2022-02-24T16:51:22.170Z"
   },
   {
    "duration": 378,
    "start_time": "2022-02-24T16:51:22.191Z"
   },
   {
    "duration": 266,
    "start_time": "2022-02-24T16:51:22.574Z"
   },
   {
    "duration": 9,
    "start_time": "2022-02-24T16:51:22.860Z"
   },
   {
    "duration": 596,
    "start_time": "2022-02-24T16:51:22.872Z"
   },
   {
    "duration": 11,
    "start_time": "2022-02-24T16:51:23.471Z"
   },
   {
    "duration": 472,
    "start_time": "2022-02-24T16:51:23.485Z"
   },
   {
    "duration": 563,
    "start_time": "2022-02-24T16:51:23.962Z"
   },
   {
    "duration": 9,
    "start_time": "2022-02-24T16:51:24.528Z"
   },
   {
    "duration": 23,
    "start_time": "2022-02-24T16:51:24.539Z"
   },
   {
    "duration": 484,
    "start_time": "2022-02-24T16:51:24.564Z"
   },
   {
    "duration": 562,
    "start_time": "2022-02-24T16:51:25.051Z"
   },
   {
    "duration": 272,
    "start_time": "2022-02-24T16:51:25.615Z"
   },
   {
    "duration": 398,
    "start_time": "2022-02-24T16:51:25.890Z"
   },
   {
    "duration": -1472,
    "start_time": "2022-02-24T16:51:27.763Z"
   },
   {
    "duration": -1477,
    "start_time": "2022-02-24T16:51:27.769Z"
   },
   {
    "duration": -1483,
    "start_time": "2022-02-24T16:51:27.777Z"
   },
   {
    "duration": -1486,
    "start_time": "2022-02-24T16:51:27.782Z"
   },
   {
    "duration": -1586,
    "start_time": "2022-02-24T16:51:27.884Z"
   },
   {
    "duration": -1616,
    "start_time": "2022-02-24T16:51:27.916Z"
   },
   {
    "duration": -1624,
    "start_time": "2022-02-24T16:51:27.926Z"
   },
   {
    "duration": -1626,
    "start_time": "2022-02-24T16:51:27.930Z"
   },
   {
    "duration": -1631,
    "start_time": "2022-02-24T16:51:27.937Z"
   },
   {
    "duration": -1631,
    "start_time": "2022-02-24T16:51:27.939Z"
   },
   {
    "duration": -1631,
    "start_time": "2022-02-24T16:51:27.941Z"
   },
   {
    "duration": -1632,
    "start_time": "2022-02-24T16:51:27.943Z"
   },
   {
    "duration": -1632,
    "start_time": "2022-02-24T16:51:27.945Z"
   },
   {
    "duration": -1632,
    "start_time": "2022-02-24T16:51:27.947Z"
   },
   {
    "duration": -1637,
    "start_time": "2022-02-24T16:51:27.954Z"
   },
   {
    "duration": 397,
    "start_time": "2022-02-24T16:53:30.148Z"
   },
   {
    "duration": 20,
    "start_time": "2022-02-24T16:55:04.858Z"
   },
   {
    "duration": 394,
    "start_time": "2022-02-24T16:55:38.135Z"
   },
   {
    "duration": 229,
    "start_time": "2022-02-24T16:55:59.878Z"
   },
   {
    "duration": 352,
    "start_time": "2022-02-24T16:56:00.109Z"
   },
   {
    "duration": 404,
    "start_time": "2022-02-24T16:56:00.465Z"
   },
   {
    "duration": 6,
    "start_time": "2022-02-24T16:56:00.871Z"
   },
   {
    "duration": 519,
    "start_time": "2022-02-24T16:56:01.059Z"
   },
   {
    "duration": 6,
    "start_time": "2022-02-24T16:56:01.581Z"
   },
   {
    "duration": 210,
    "start_time": "2022-02-24T16:56:02.111Z"
   },
   {
    "duration": 10,
    "start_time": "2022-02-24T16:56:02.324Z"
   },
   {
    "duration": 12,
    "start_time": "2022-02-24T16:56:02.481Z"
   },
   {
    "duration": 15,
    "start_time": "2022-02-24T16:56:02.875Z"
   },
   {
    "duration": 14,
    "start_time": "2022-02-24T16:56:03.258Z"
   },
   {
    "duration": 19,
    "start_time": "2022-02-24T16:56:03.442Z"
   },
   {
    "duration": 554,
    "start_time": "2022-02-24T16:56:03.822Z"
   },
   {
    "duration": 464,
    "start_time": "2022-02-24T16:56:04.379Z"
   },
   {
    "duration": 435,
    "start_time": "2022-02-24T16:56:04.845Z"
   },
   {
    "duration": 495,
    "start_time": "2022-02-24T16:57:52.336Z"
   },
   {
    "duration": 7690,
    "start_time": "2022-02-24T16:59:09.128Z"
   },
   {
    "duration": 373,
    "start_time": "2022-02-24T16:59:24.589Z"
   },
   {
    "duration": 1234,
    "start_time": "2022-02-24T17:01:57.848Z"
   },
   {
    "duration": 43,
    "start_time": "2022-02-24T17:01:59.085Z"
   },
   {
    "duration": 4,
    "start_time": "2022-02-24T17:01:59.131Z"
   },
   {
    "duration": 10,
    "start_time": "2022-02-24T17:01:59.137Z"
   },
   {
    "duration": 12,
    "start_time": "2022-02-24T17:01:59.149Z"
   },
   {
    "duration": 8,
    "start_time": "2022-02-24T17:01:59.164Z"
   },
   {
    "duration": 37,
    "start_time": "2022-02-24T17:01:59.174Z"
   },
   {
    "duration": 55,
    "start_time": "2022-02-24T17:01:59.214Z"
   },
   {
    "duration": 17,
    "start_time": "2022-02-24T17:01:59.273Z"
   },
   {
    "duration": 14,
    "start_time": "2022-02-24T17:01:59.294Z"
   },
   {
    "duration": 9,
    "start_time": "2022-02-24T17:01:59.310Z"
   },
   {
    "duration": 41,
    "start_time": "2022-02-24T17:01:59.321Z"
   },
   {
    "duration": 7,
    "start_time": "2022-02-24T17:01:59.365Z"
   },
   {
    "duration": 10,
    "start_time": "2022-02-24T17:01:59.375Z"
   },
   {
    "duration": 10,
    "start_time": "2022-02-24T17:01:59.387Z"
   },
   {
    "duration": 7,
    "start_time": "2022-02-24T17:01:59.400Z"
   },
   {
    "duration": 10,
    "start_time": "2022-02-24T17:01:59.461Z"
   },
   {
    "duration": 6,
    "start_time": "2022-02-24T17:01:59.474Z"
   },
   {
    "duration": 13,
    "start_time": "2022-02-24T17:01:59.482Z"
   },
   {
    "duration": 7,
    "start_time": "2022-02-24T17:01:59.498Z"
   },
   {
    "duration": 57,
    "start_time": "2022-02-24T17:01:59.508Z"
   },
   {
    "duration": 423,
    "start_time": "2022-02-24T17:01:59.567Z"
   },
   {
    "duration": 275,
    "start_time": "2022-02-24T17:01:59.992Z"
   },
   {
    "duration": 9,
    "start_time": "2022-02-24T17:02:00.270Z"
   },
   {
    "duration": 643,
    "start_time": "2022-02-24T17:02:00.282Z"
   },
   {
    "duration": 10,
    "start_time": "2022-02-24T17:02:00.927Z"
   },
   {
    "duration": 456,
    "start_time": "2022-02-24T17:02:00.943Z"
   },
   {
    "duration": 547,
    "start_time": "2022-02-24T17:02:01.402Z"
   },
   {
    "duration": 11,
    "start_time": "2022-02-24T17:02:01.951Z"
   },
   {
    "duration": 11,
    "start_time": "2022-02-24T17:02:01.964Z"
   },
   {
    "duration": 487,
    "start_time": "2022-02-24T17:02:01.977Z"
   },
   {
    "duration": 551,
    "start_time": "2022-02-24T17:02:02.466Z"
   },
   {
    "duration": 277,
    "start_time": "2022-02-24T17:02:03.019Z"
   },
   {
    "duration": 393,
    "start_time": "2022-02-24T17:02:03.298Z"
   },
   {
    "duration": 221,
    "start_time": "2022-02-24T17:02:03.694Z"
   },
   {
    "duration": 276,
    "start_time": "2022-02-24T17:02:03.918Z"
   },
   {
    "duration": 468,
    "start_time": "2022-02-24T17:02:04.197Z"
   },
   {
    "duration": 7,
    "start_time": "2022-02-24T17:02:04.668Z"
   },
   {
    "duration": 550,
    "start_time": "2022-02-24T17:02:04.678Z"
   },
   {
    "duration": 7,
    "start_time": "2022-02-24T17:02:05.230Z"
   },
   {
    "duration": 244,
    "start_time": "2022-02-24T17:02:05.240Z"
   },
   {
    "duration": 10,
    "start_time": "2022-02-24T17:02:05.487Z"
   },
   {
    "duration": 17,
    "start_time": "2022-02-24T17:02:05.500Z"
   },
   {
    "duration": 45,
    "start_time": "2022-02-24T17:02:05.520Z"
   },
   {
    "duration": 17,
    "start_time": "2022-02-24T17:02:05.567Z"
   },
   {
    "duration": 21,
    "start_time": "2022-02-24T17:02:05.586Z"
   },
   {
    "duration": 543,
    "start_time": "2022-02-24T17:02:05.609Z"
   },
   {
    "duration": 453,
    "start_time": "2022-02-24T17:02:06.154Z"
   },
   {
    "duration": 618,
    "start_time": "2022-02-24T17:02:06.609Z"
   },
   {
    "duration": 6,
    "start_time": "2022-02-24T17:03:14.458Z"
   },
   {
    "duration": 6,
    "start_time": "2022-02-24T17:03:25.380Z"
   },
   {
    "duration": 541,
    "start_time": "2022-02-24T17:05:26.780Z"
   },
   {
    "duration": 880,
    "start_time": "2022-02-24T17:11:35.190Z"
   },
   {
    "duration": 360,
    "start_time": "2022-02-24T17:11:46.283Z"
   },
   {
    "duration": 486,
    "start_time": "2022-02-24T17:13:27.198Z"
   },
   {
    "duration": 17,
    "start_time": "2022-02-24T17:19:03.761Z"
   },
   {
    "duration": 27,
    "start_time": "2022-02-24T17:19:32.881Z"
   },
   {
    "duration": 565,
    "start_time": "2022-02-24T17:19:43.730Z"
   },
   {
    "duration": 533,
    "start_time": "2022-02-24T17:20:08.253Z"
   },
   {
    "duration": 627,
    "start_time": "2022-02-24T17:20:17.961Z"
   },
   {
    "duration": 533,
    "start_time": "2022-02-24T17:20:50.893Z"
   },
   {
    "duration": 868,
    "start_time": "2022-02-24T17:21:12.811Z"
   },
   {
    "duration": 1039,
    "start_time": "2022-02-24T17:21:21.647Z"
   },
   {
    "duration": 1013,
    "start_time": "2022-02-24T17:21:30.288Z"
   },
   {
    "duration": 521,
    "start_time": "2022-02-24T17:21:48.916Z"
   },
   {
    "duration": 344,
    "start_time": "2022-02-24T17:25:50.540Z"
   },
   {
    "duration": 523,
    "start_time": "2022-02-24T17:25:56.488Z"
   },
   {
    "duration": 7,
    "start_time": "2022-02-24T17:26:32.531Z"
   },
   {
    "duration": 17,
    "start_time": "2022-02-24T17:28:58.477Z"
   },
   {
    "duration": 1264,
    "start_time": "2022-02-24T17:29:11.166Z"
   },
   {
    "duration": 42,
    "start_time": "2022-02-24T17:29:12.433Z"
   },
   {
    "duration": 5,
    "start_time": "2022-02-24T17:29:12.478Z"
   },
   {
    "duration": 12,
    "start_time": "2022-02-24T17:29:12.487Z"
   },
   {
    "duration": 9,
    "start_time": "2022-02-24T17:29:12.501Z"
   },
   {
    "duration": 9,
    "start_time": "2022-02-24T17:29:12.513Z"
   },
   {
    "duration": 74,
    "start_time": "2022-02-24T17:29:12.524Z"
   },
   {
    "duration": 27,
    "start_time": "2022-02-24T17:29:12.600Z"
   },
   {
    "duration": 51,
    "start_time": "2022-02-24T17:29:12.630Z"
   },
   {
    "duration": 7,
    "start_time": "2022-02-24T17:29:12.684Z"
   },
   {
    "duration": 9,
    "start_time": "2022-02-24T17:29:12.693Z"
   },
   {
    "duration": 15,
    "start_time": "2022-02-24T17:29:12.704Z"
   },
   {
    "duration": 46,
    "start_time": "2022-02-24T17:29:12.721Z"
   },
   {
    "duration": 12,
    "start_time": "2022-02-24T17:29:12.769Z"
   },
   {
    "duration": 11,
    "start_time": "2022-02-24T17:29:12.784Z"
   },
   {
    "duration": 5,
    "start_time": "2022-02-24T17:29:12.798Z"
   },
   {
    "duration": 60,
    "start_time": "2022-02-24T17:29:12.806Z"
   },
   {
    "duration": 12,
    "start_time": "2022-02-24T17:29:12.869Z"
   },
   {
    "duration": 17,
    "start_time": "2022-02-24T17:29:12.884Z"
   },
   {
    "duration": 7,
    "start_time": "2022-02-24T17:29:12.904Z"
   },
   {
    "duration": 49,
    "start_time": "2022-02-24T17:29:12.913Z"
   },
   {
    "duration": 393,
    "start_time": "2022-02-24T17:29:12.965Z"
   },
   {
    "duration": 399,
    "start_time": "2022-02-24T17:29:13.362Z"
   },
   {
    "duration": 12,
    "start_time": "2022-02-24T17:29:13.764Z"
   },
   {
    "duration": 640,
    "start_time": "2022-02-24T17:29:13.779Z"
   },
   {
    "duration": 10,
    "start_time": "2022-02-24T17:29:14.422Z"
   },
   {
    "duration": 494,
    "start_time": "2022-02-24T17:29:14.438Z"
   },
   {
    "duration": 565,
    "start_time": "2022-02-24T17:29:14.935Z"
   },
   {
    "duration": 5,
    "start_time": "2022-02-24T17:29:15.503Z"
   },
   {
    "duration": 9,
    "start_time": "2022-02-24T17:29:15.510Z"
   },
   {
    "duration": 503,
    "start_time": "2022-02-24T17:29:15.521Z"
   },
   {
    "duration": 575,
    "start_time": "2022-02-24T17:29:16.027Z"
   },
   {
    "duration": 292,
    "start_time": "2022-02-24T17:29:16.605Z"
   },
   {
    "duration": 421,
    "start_time": "2022-02-24T17:29:16.899Z"
   },
   {
    "duration": 209,
    "start_time": "2022-02-24T17:29:17.322Z"
   },
   {
    "duration": 287,
    "start_time": "2022-02-24T17:29:17.534Z"
   },
   {
    "duration": 589,
    "start_time": "2022-02-24T17:29:17.825Z"
   },
   {
    "duration": 7,
    "start_time": "2022-02-24T17:29:18.417Z"
   },
   {
    "duration": 787,
    "start_time": "2022-02-24T17:29:18.427Z"
   },
   {
    "duration": 7,
    "start_time": "2022-02-24T17:29:19.217Z"
   },
   {
    "duration": 228,
    "start_time": "2022-02-24T17:29:19.227Z"
   },
   {
    "duration": 11,
    "start_time": "2022-02-24T17:29:19.461Z"
   },
   {
    "duration": 14,
    "start_time": "2022-02-24T17:29:19.474Z"
   },
   {
    "duration": 16,
    "start_time": "2022-02-24T17:29:19.490Z"
   },
   {
    "duration": 17,
    "start_time": "2022-02-24T17:29:19.508Z"
   },
   {
    "duration": 50,
    "start_time": "2022-02-24T17:29:19.528Z"
   },
   {
    "duration": 549,
    "start_time": "2022-02-24T17:29:19.580Z"
   },
   {
    "duration": 462,
    "start_time": "2022-02-24T17:29:20.131Z"
   },
   {
    "duration": 478,
    "start_time": "2022-02-24T17:29:20.596Z"
   },
   {
    "duration": 647,
    "start_time": "2022-02-24T17:30:10.358Z"
   },
   {
    "duration": 520,
    "start_time": "2022-02-24T17:30:43.708Z"
   },
   {
    "duration": 579,
    "start_time": "2022-02-24T17:31:11.813Z"
   },
   {
    "duration": 526,
    "start_time": "2022-02-24T17:31:20.482Z"
   },
   {
    "duration": 546,
    "start_time": "2022-02-24T17:31:29.147Z"
   },
   {
    "duration": 22,
    "start_time": "2022-02-24T17:37:08.506Z"
   },
   {
    "duration": 20,
    "start_time": "2022-02-24T17:37:13.133Z"
   },
   {
    "duration": 291,
    "start_time": "2022-02-24T17:37:29.415Z"
   },
   {
    "duration": 9,
    "start_time": "2022-02-24T17:38:18.216Z"
   },
   {
    "duration": 9,
    "start_time": "2022-02-24T17:39:12.965Z"
   },
   {
    "duration": 9,
    "start_time": "2022-02-24T17:39:22.035Z"
   },
   {
    "duration": 95,
    "start_time": "2022-02-24T17:41:29.273Z"
   },
   {
    "duration": 86,
    "start_time": "2022-02-24T17:42:26.138Z"
   },
   {
    "duration": 263,
    "start_time": "2022-02-24T17:42:51.398Z"
   },
   {
    "duration": 11,
    "start_time": "2022-02-24T17:42:52.969Z"
   },
   {
    "duration": 11,
    "start_time": "2022-02-24T17:42:54.096Z"
   },
   {
    "duration": 16,
    "start_time": "2022-02-24T17:45:34.601Z"
   },
   {
    "duration": 23,
    "start_time": "2022-02-24T17:45:35.156Z"
   },
   {
    "duration": 17,
    "start_time": "2022-02-24T17:52:56.064Z"
   },
   {
    "duration": 560,
    "start_time": "2022-02-24T17:54:47.060Z"
   },
   {
    "duration": 327,
    "start_time": "2022-02-24T17:55:10.056Z"
   },
   {
    "duration": 638,
    "start_time": "2022-02-24T17:55:28.435Z"
   },
   {
    "duration": 553,
    "start_time": "2022-02-24T17:55:44.775Z"
   },
   {
    "duration": 531,
    "start_time": "2022-02-24T17:56:03.335Z"
   },
   {
    "duration": 532,
    "start_time": "2022-02-24T17:57:01.208Z"
   },
   {
    "duration": 440,
    "start_time": "2022-02-24T17:57:37.024Z"
   },
   {
    "duration": 472,
    "start_time": "2022-02-24T17:59:09.733Z"
   },
   {
    "duration": 549,
    "start_time": "2022-02-24T18:02:22.565Z"
   },
   {
    "duration": 575,
    "start_time": "2022-02-24T18:02:37.655Z"
   },
   {
    "duration": 392,
    "start_time": "2022-02-24T18:34:21.458Z"
   },
   {
    "duration": 5,
    "start_time": "2022-02-24T18:34:54.578Z"
   },
   {
    "duration": 8,
    "start_time": "2022-02-24T18:35:01.703Z"
   },
   {
    "duration": 5,
    "start_time": "2022-02-24T18:38:58.473Z"
   },
   {
    "duration": 19,
    "start_time": "2022-02-24T18:42:10.328Z"
   },
   {
    "duration": 18,
    "start_time": "2022-02-24T18:43:48.441Z"
   },
   {
    "duration": 22,
    "start_time": "2022-02-24T18:44:29.658Z"
   },
   {
    "duration": 117,
    "start_time": "2022-02-24T18:45:16.559Z"
   },
   {
    "duration": 96,
    "start_time": "2022-02-24T18:45:50.171Z"
   },
   {
    "duration": 103,
    "start_time": "2022-02-24T18:45:57.341Z"
   },
   {
    "duration": 22,
    "start_time": "2022-02-24T18:46:18.890Z"
   },
   {
    "duration": 18,
    "start_time": "2022-02-24T18:46:49.691Z"
   },
   {
    "duration": 611,
    "start_time": "2022-02-24T18:47:43.221Z"
   },
   {
    "duration": 1062,
    "start_time": "2022-02-24T20:03:54.908Z"
   },
   {
    "duration": 61,
    "start_time": "2022-02-24T20:03:55.972Z"
   },
   {
    "duration": 3,
    "start_time": "2022-02-24T20:03:56.039Z"
   },
   {
    "duration": 28,
    "start_time": "2022-02-24T20:03:56.044Z"
   },
   {
    "duration": 27,
    "start_time": "2022-02-24T20:03:56.074Z"
   },
   {
    "duration": 11,
    "start_time": "2022-02-24T20:03:56.103Z"
   },
   {
    "duration": 33,
    "start_time": "2022-02-24T20:03:56.117Z"
   },
   {
    "duration": 22,
    "start_time": "2022-02-24T20:03:56.152Z"
   },
   {
    "duration": 32,
    "start_time": "2022-02-24T20:03:56.177Z"
   },
   {
    "duration": 9,
    "start_time": "2022-02-24T20:03:56.211Z"
   },
   {
    "duration": 12,
    "start_time": "2022-02-24T20:03:56.222Z"
   },
   {
    "duration": 8,
    "start_time": "2022-02-24T20:03:56.236Z"
   },
   {
    "duration": 14,
    "start_time": "2022-02-24T20:03:56.246Z"
   },
   {
    "duration": 19,
    "start_time": "2022-02-24T20:03:56.262Z"
   },
   {
    "duration": 29,
    "start_time": "2022-02-24T20:03:56.282Z"
   },
   {
    "duration": 5,
    "start_time": "2022-02-24T20:03:56.313Z"
   },
   {
    "duration": 22,
    "start_time": "2022-02-24T20:03:56.319Z"
   },
   {
    "duration": 29,
    "start_time": "2022-02-24T20:03:56.343Z"
   },
   {
    "duration": 12,
    "start_time": "2022-02-24T20:03:56.375Z"
   },
   {
    "duration": 7,
    "start_time": "2022-02-24T20:03:56.389Z"
   },
   {
    "duration": 17,
    "start_time": "2022-02-24T20:03:56.397Z"
   },
   {
    "duration": 240,
    "start_time": "2022-02-24T20:03:56.418Z"
   },
   {
    "duration": 183,
    "start_time": "2022-02-24T20:03:56.660Z"
   },
   {
    "duration": 17,
    "start_time": "2022-02-24T20:03:56.845Z"
   },
   {
    "duration": 443,
    "start_time": "2022-02-24T20:03:56.864Z"
   },
   {
    "duration": 7,
    "start_time": "2022-02-24T20:03:57.309Z"
   },
   {
    "duration": 296,
    "start_time": "2022-02-24T20:03:57.318Z"
   },
   {
    "duration": 406,
    "start_time": "2022-02-24T20:03:57.616Z"
   },
   {
    "duration": 4,
    "start_time": "2022-02-24T20:03:58.024Z"
   },
   {
    "duration": 10,
    "start_time": "2022-02-24T20:03:58.030Z"
   },
   {
    "duration": 332,
    "start_time": "2022-02-24T20:03:58.042Z"
   },
   {
    "duration": 444,
    "start_time": "2022-02-24T20:03:58.377Z"
   },
   {
    "duration": 191,
    "start_time": "2022-02-24T20:03:58.824Z"
   },
   {
    "duration": 342,
    "start_time": "2022-02-24T20:03:59.017Z"
   },
   {
    "duration": 126,
    "start_time": "2022-02-24T20:03:59.362Z"
   },
   {
    "duration": 176,
    "start_time": "2022-02-24T20:03:59.490Z"
   },
   {
    "duration": 352,
    "start_time": "2022-02-24T20:03:59.668Z"
   },
   {
    "duration": 5,
    "start_time": "2022-02-24T20:04:00.022Z"
   },
   {
    "duration": 405,
    "start_time": "2022-02-24T20:04:00.029Z"
   },
   {
    "duration": 401,
    "start_time": "2022-02-24T20:04:00.436Z"
   },
   {
    "duration": 5,
    "start_time": "2022-02-24T20:04:00.839Z"
   },
   {
    "duration": 29,
    "start_time": "2022-02-24T20:04:00.846Z"
   },
   {
    "duration": 14,
    "start_time": "2022-02-24T20:04:00.878Z"
   },
   {
    "duration": 13,
    "start_time": "2022-02-24T20:04:00.894Z"
   },
   {
    "duration": 153,
    "start_time": "2022-02-24T20:04:00.909Z"
   },
   {
    "duration": 10,
    "start_time": "2022-02-24T20:04:01.064Z"
   },
   {
    "duration": 35,
    "start_time": "2022-02-24T20:04:01.076Z"
   },
   {
    "duration": 17,
    "start_time": "2022-02-24T20:04:01.114Z"
   },
   {
    "duration": 65,
    "start_time": "2022-02-24T20:04:01.133Z"
   },
   {
    "duration": 21,
    "start_time": "2022-02-24T20:04:01.200Z"
   },
   {
    "duration": 420,
    "start_time": "2022-02-24T20:04:01.224Z"
   },
   {
    "duration": 421,
    "start_time": "2022-02-24T20:04:01.646Z"
   },
   {
    "duration": 480,
    "start_time": "2022-02-24T20:04:02.070Z"
   },
   {
    "duration": 239,
    "start_time": "2022-02-25T10:32:31.913Z"
   },
   {
    "duration": 934,
    "start_time": "2022-02-25T10:32:38.221Z"
   },
   {
    "duration": 45,
    "start_time": "2022-02-25T10:32:39.157Z"
   },
   {
    "duration": 3,
    "start_time": "2022-02-25T10:32:39.204Z"
   },
   {
    "duration": 8,
    "start_time": "2022-02-25T10:32:39.209Z"
   },
   {
    "duration": 11,
    "start_time": "2022-02-25T10:32:39.219Z"
   },
   {
    "duration": 7,
    "start_time": "2022-02-25T10:32:39.232Z"
   },
   {
    "duration": 26,
    "start_time": "2022-02-25T10:32:39.241Z"
   },
   {
    "duration": 17,
    "start_time": "2022-02-25T10:32:39.269Z"
   },
   {
    "duration": 31,
    "start_time": "2022-02-25T10:32:39.288Z"
   },
   {
    "duration": 8,
    "start_time": "2022-02-25T10:32:39.321Z"
   },
   {
    "duration": 9,
    "start_time": "2022-02-25T10:32:39.331Z"
   },
   {
    "duration": 8,
    "start_time": "2022-02-25T10:32:39.341Z"
   },
   {
    "duration": 6,
    "start_time": "2022-02-25T10:32:39.351Z"
   },
   {
    "duration": 6,
    "start_time": "2022-02-25T10:32:39.358Z"
   },
   {
    "duration": 7,
    "start_time": "2022-02-25T10:32:39.366Z"
   },
   {
    "duration": 4,
    "start_time": "2022-02-25T10:32:39.375Z"
   },
   {
    "duration": 9,
    "start_time": "2022-02-25T10:32:39.412Z"
   },
   {
    "duration": 7,
    "start_time": "2022-02-25T10:32:39.423Z"
   },
   {
    "duration": 10,
    "start_time": "2022-02-25T10:32:39.431Z"
   },
   {
    "duration": 5,
    "start_time": "2022-02-25T10:32:39.442Z"
   },
   {
    "duration": 13,
    "start_time": "2022-02-25T10:32:39.449Z"
   },
   {
    "duration": 235,
    "start_time": "2022-02-25T10:32:39.464Z"
   },
   {
    "duration": 146,
    "start_time": "2022-02-25T10:32:39.703Z"
   },
   {
    "duration": 6,
    "start_time": "2022-02-25T10:32:39.851Z"
   },
   {
    "duration": 436,
    "start_time": "2022-02-25T10:32:39.859Z"
   },
   {
    "duration": 6,
    "start_time": "2022-02-25T10:32:40.297Z"
   },
   {
    "duration": 282,
    "start_time": "2022-02-25T10:32:40.305Z"
   },
   {
    "duration": 415,
    "start_time": "2022-02-25T10:32:40.589Z"
   },
   {
    "duration": 8,
    "start_time": "2022-02-25T10:32:41.006Z"
   },
   {
    "duration": 10,
    "start_time": "2022-02-25T10:32:41.016Z"
   },
   {
    "duration": 300,
    "start_time": "2022-02-25T10:32:41.028Z"
   },
   {
    "duration": 384,
    "start_time": "2022-02-25T10:32:41.330Z"
   },
   {
    "duration": 173,
    "start_time": "2022-02-25T10:32:41.716Z"
   },
   {
    "duration": 336,
    "start_time": "2022-02-25T10:32:41.891Z"
   },
   {
    "duration": 120,
    "start_time": "2022-02-25T10:32:42.228Z"
   },
   {
    "duration": 176,
    "start_time": "2022-02-25T10:32:42.350Z"
   },
   {
    "duration": 372,
    "start_time": "2022-02-25T10:32:42.528Z"
   },
   {
    "duration": 10,
    "start_time": "2022-02-25T10:32:42.902Z"
   },
   {
    "duration": 421,
    "start_time": "2022-02-25T10:32:42.914Z"
   },
   {
    "duration": 375,
    "start_time": "2022-02-25T10:32:43.336Z"
   },
   {
    "duration": 4,
    "start_time": "2022-02-25T10:32:43.713Z"
   },
   {
    "duration": 8,
    "start_time": "2022-02-25T10:32:43.719Z"
   },
   {
    "duration": 12,
    "start_time": "2022-02-25T10:32:43.729Z"
   },
   {
    "duration": 5,
    "start_time": "2022-02-25T10:32:43.743Z"
   },
   {
    "duration": 139,
    "start_time": "2022-02-25T10:32:43.749Z"
   },
   {
    "duration": 21,
    "start_time": "2022-02-25T10:32:43.890Z"
   },
   {
    "duration": 11,
    "start_time": "2022-02-25T10:32:43.913Z"
   },
   {
    "duration": 12,
    "start_time": "2022-02-25T10:32:43.925Z"
   },
   {
    "duration": 9,
    "start_time": "2022-02-25T10:32:43.938Z"
   },
   {
    "duration": 13,
    "start_time": "2022-02-25T10:32:43.949Z"
   },
   {
    "duration": 436,
    "start_time": "2022-02-25T10:32:43.964Z"
   },
   {
    "duration": 410,
    "start_time": "2022-02-25T10:32:44.401Z"
   },
   {
    "duration": 409,
    "start_time": "2022-02-25T10:32:44.813Z"
   },
   {
    "duration": 960,
    "start_time": "2022-02-25T13:45:51.496Z"
   },
   {
    "duration": 176,
    "start_time": "2022-02-25T13:45:52.458Z"
   },
   {
    "duration": 3,
    "start_time": "2022-02-25T13:45:52.636Z"
   },
   {
    "duration": 7,
    "start_time": "2022-02-25T13:45:52.640Z"
   },
   {
    "duration": 6,
    "start_time": "2022-02-25T13:45:52.649Z"
   },
   {
    "duration": 6,
    "start_time": "2022-02-25T13:45:52.657Z"
   },
   {
    "duration": 29,
    "start_time": "2022-02-25T13:45:52.664Z"
   },
   {
    "duration": 38,
    "start_time": "2022-02-25T13:45:52.695Z"
   },
   {
    "duration": 10,
    "start_time": "2022-02-25T13:45:52.735Z"
   },
   {
    "duration": 6,
    "start_time": "2022-02-25T13:45:52.746Z"
   },
   {
    "duration": 6,
    "start_time": "2022-02-25T13:45:52.753Z"
   },
   {
    "duration": 6,
    "start_time": "2022-02-25T13:45:52.760Z"
   },
   {
    "duration": 4,
    "start_time": "2022-02-25T13:45:52.767Z"
   },
   {
    "duration": 8,
    "start_time": "2022-02-25T13:45:52.773Z"
   },
   {
    "duration": 11,
    "start_time": "2022-02-25T13:45:52.782Z"
   },
   {
    "duration": 39,
    "start_time": "2022-02-25T13:45:52.794Z"
   },
   {
    "duration": 7,
    "start_time": "2022-02-25T13:45:52.835Z"
   },
   {
    "duration": 6,
    "start_time": "2022-02-25T13:45:52.844Z"
   },
   {
    "duration": 8,
    "start_time": "2022-02-25T13:45:52.852Z"
   },
   {
    "duration": 7,
    "start_time": "2022-02-25T13:45:52.862Z"
   },
   {
    "duration": 14,
    "start_time": "2022-02-25T13:45:52.870Z"
   },
   {
    "duration": 212,
    "start_time": "2022-02-25T13:45:52.886Z"
   },
   {
    "duration": 135,
    "start_time": "2022-02-25T13:45:53.101Z"
   },
   {
    "duration": 15,
    "start_time": "2022-02-25T13:45:53.238Z"
   },
   {
    "duration": 351,
    "start_time": "2022-02-25T13:45:53.254Z"
   },
   {
    "duration": 6,
    "start_time": "2022-02-25T13:45:53.607Z"
   },
   {
    "duration": 244,
    "start_time": "2022-02-25T13:45:53.615Z"
   },
   {
    "duration": 335,
    "start_time": "2022-02-25T13:45:53.861Z"
   },
   {
    "duration": 4,
    "start_time": "2022-02-25T13:45:54.198Z"
   },
   {
    "duration": 6,
    "start_time": "2022-02-25T13:45:54.204Z"
   },
   {
    "duration": 269,
    "start_time": "2022-02-25T13:45:54.211Z"
   },
   {
    "duration": 330,
    "start_time": "2022-02-25T13:45:54.482Z"
   },
   {
    "duration": 163,
    "start_time": "2022-02-25T13:45:54.814Z"
   },
   {
    "duration": 256,
    "start_time": "2022-02-25T13:45:54.979Z"
   },
   {
    "duration": 118,
    "start_time": "2022-02-25T13:45:55.236Z"
   },
   {
    "duration": 178,
    "start_time": "2022-02-25T13:45:55.355Z"
   },
   {
    "duration": 305,
    "start_time": "2022-02-25T13:45:55.535Z"
   },
   {
    "duration": 5,
    "start_time": "2022-02-25T13:45:55.842Z"
   },
   {
    "duration": 346,
    "start_time": "2022-02-25T13:45:55.848Z"
   },
   {
    "duration": 351,
    "start_time": "2022-02-25T13:45:56.196Z"
   },
   {
    "duration": 5,
    "start_time": "2022-02-25T13:45:56.549Z"
   },
   {
    "duration": 6,
    "start_time": "2022-02-25T13:45:56.556Z"
   },
   {
    "duration": 9,
    "start_time": "2022-02-25T13:45:56.564Z"
   },
   {
    "duration": 3,
    "start_time": "2022-02-25T13:45:56.575Z"
   },
   {
    "duration": 137,
    "start_time": "2022-02-25T13:45:56.580Z"
   },
   {
    "duration": 15,
    "start_time": "2022-02-25T13:45:56.718Z"
   },
   {
    "duration": 9,
    "start_time": "2022-02-25T13:45:56.735Z"
   },
   {
    "duration": 9,
    "start_time": "2022-02-25T13:45:56.746Z"
   },
   {
    "duration": 9,
    "start_time": "2022-02-25T13:45:56.757Z"
   },
   {
    "duration": 12,
    "start_time": "2022-02-25T13:45:56.768Z"
   },
   {
    "duration": 333,
    "start_time": "2022-02-25T13:45:56.782Z"
   },
   {
    "duration": 373,
    "start_time": "2022-02-25T13:45:57.117Z"
   },
   {
    "duration": 379,
    "start_time": "2022-02-25T13:45:57.492Z"
   },
   {
    "duration": 410,
    "start_time": "2022-02-26T17:54:03.768Z"
   },
   {
    "duration": 1163,
    "start_time": "2022-02-26T17:54:10.885Z"
   },
   {
    "duration": 181,
    "start_time": "2022-02-26T17:54:12.050Z"
   },
   {
    "duration": 4,
    "start_time": "2022-02-26T17:54:12.234Z"
   },
   {
    "duration": 11,
    "start_time": "2022-02-26T17:54:12.240Z"
   },
   {
    "duration": 10,
    "start_time": "2022-02-26T17:54:12.254Z"
   },
   {
    "duration": 8,
    "start_time": "2022-02-26T17:54:12.266Z"
   },
   {
    "duration": 74,
    "start_time": "2022-02-26T17:54:12.276Z"
   },
   {
    "duration": 28,
    "start_time": "2022-02-26T17:54:12.353Z"
   },
   {
    "duration": 16,
    "start_time": "2022-02-26T17:54:12.385Z"
   },
   {
    "duration": 33,
    "start_time": "2022-02-26T17:54:12.404Z"
   },
   {
    "duration": 8,
    "start_time": "2022-02-26T17:54:12.439Z"
   },
   {
    "duration": 8,
    "start_time": "2022-02-26T17:54:12.450Z"
   },
   {
    "duration": 6,
    "start_time": "2022-02-26T17:54:12.461Z"
   },
   {
    "duration": 8,
    "start_time": "2022-02-26T17:54:12.469Z"
   },
   {
    "duration": 57,
    "start_time": "2022-02-26T17:54:12.479Z"
   },
   {
    "duration": 6,
    "start_time": "2022-02-26T17:54:12.538Z"
   },
   {
    "duration": 13,
    "start_time": "2022-02-26T17:54:12.547Z"
   },
   {
    "duration": 8,
    "start_time": "2022-02-26T17:54:12.562Z"
   },
   {
    "duration": 62,
    "start_time": "2022-02-26T17:54:12.573Z"
   },
   {
    "duration": 7,
    "start_time": "2022-02-26T17:54:12.638Z"
   },
   {
    "duration": 17,
    "start_time": "2022-02-26T17:54:12.648Z"
   },
   {
    "duration": 373,
    "start_time": "2022-02-26T17:54:12.668Z"
   },
   {
    "duration": 267,
    "start_time": "2022-02-26T17:54:13.043Z"
   },
   {
    "duration": 23,
    "start_time": "2022-02-26T17:54:13.312Z"
   },
   {
    "duration": 604,
    "start_time": "2022-02-26T17:54:13.337Z"
   },
   {
    "duration": 9,
    "start_time": "2022-02-26T17:54:13.944Z"
   },
   {
    "duration": 427,
    "start_time": "2022-02-26T17:54:13.959Z"
   },
   {
    "duration": 569,
    "start_time": "2022-02-26T17:54:14.389Z"
   },
   {
    "duration": 6,
    "start_time": "2022-02-26T17:54:14.960Z"
   },
   {
    "duration": 8,
    "start_time": "2022-02-26T17:54:14.968Z"
   },
   {
    "duration": 476,
    "start_time": "2022-02-26T17:54:14.978Z"
   },
   {
    "duration": 502,
    "start_time": "2022-02-26T17:54:15.456Z"
   },
   {
    "duration": 275,
    "start_time": "2022-02-26T17:54:15.961Z"
   },
   {
    "duration": 396,
    "start_time": "2022-02-26T17:54:16.240Z"
   },
   {
    "duration": 207,
    "start_time": "2022-02-26T17:54:16.639Z"
   },
   {
    "duration": 283,
    "start_time": "2022-02-26T17:54:16.849Z"
   },
   {
    "duration": 449,
    "start_time": "2022-02-26T17:54:17.135Z"
   },
   {
    "duration": 7,
    "start_time": "2022-02-26T17:54:17.587Z"
   },
   {
    "duration": 576,
    "start_time": "2022-02-26T17:54:17.597Z"
   },
   {
    "duration": 525,
    "start_time": "2022-02-26T17:54:18.176Z"
   },
   {
    "duration": 5,
    "start_time": "2022-02-26T17:54:18.704Z"
   },
   {
    "duration": 25,
    "start_time": "2022-02-26T17:54:18.711Z"
   },
   {
    "duration": 17,
    "start_time": "2022-02-26T17:54:18.738Z"
   },
   {
    "duration": 6,
    "start_time": "2022-02-26T17:54:18.758Z"
   },
   {
    "duration": 270,
    "start_time": "2022-02-26T17:54:18.767Z"
   },
   {
    "duration": 11,
    "start_time": "2022-02-26T17:54:19.039Z"
   },
   {
    "duration": 11,
    "start_time": "2022-02-26T17:54:19.052Z"
   },
   {
    "duration": 15,
    "start_time": "2022-02-26T17:54:19.066Z"
   },
   {
    "duration": 49,
    "start_time": "2022-02-26T17:54:19.083Z"
   },
   {
    "duration": 19,
    "start_time": "2022-02-26T17:54:19.135Z"
   },
   {
    "duration": 504,
    "start_time": "2022-02-26T17:54:19.156Z"
   },
   {
    "duration": 526,
    "start_time": "2022-02-26T17:54:19.662Z"
   },
   {
    "duration": 597,
    "start_time": "2022-02-26T17:54:20.190Z"
   },
   {
    "duration": 11,
    "start_time": "2022-02-26T17:54:27.722Z"
   },
   {
    "duration": 4,
    "start_time": "2022-02-26T18:07:55.984Z"
   },
   {
    "duration": 412,
    "start_time": "2022-02-26T19:15:48.880Z"
   },
   {
    "duration": 312,
    "start_time": "2022-02-26T19:16:07.760Z"
   },
   {
    "duration": 908,
    "start_time": "2022-02-26T19:33:54.587Z"
   },
   {
    "duration": 7,
    "start_time": "2022-02-26T19:34:31.699Z"
   },
   {
    "duration": 20,
    "start_time": "2022-02-26T19:37:20.886Z"
   },
   {
    "duration": 18,
    "start_time": "2022-02-26T19:40:33.454Z"
   },
   {
    "duration": 7,
    "start_time": "2022-02-26T19:45:03.789Z"
   },
   {
    "duration": 9,
    "start_time": "2022-02-26T19:45:19.650Z"
   },
   {
    "duration": 8,
    "start_time": "2022-02-26T19:45:31.684Z"
   },
   {
    "duration": 9,
    "start_time": "2022-02-26T19:45:46.366Z"
   },
   {
    "duration": 6,
    "start_time": "2022-02-26T19:45:49.720Z"
   },
   {
    "duration": 8,
    "start_time": "2022-02-26T19:46:20.323Z"
   },
   {
    "duration": 13,
    "start_time": "2022-02-26T19:46:21.277Z"
   },
   {
    "duration": 11,
    "start_time": "2022-02-26T19:47:01.941Z"
   },
   {
    "duration": 7,
    "start_time": "2022-02-26T19:47:09.389Z"
   },
   {
    "duration": 7,
    "start_time": "2022-02-26T19:47:32.853Z"
   },
   {
    "duration": 7,
    "start_time": "2022-02-26T19:47:35.439Z"
   },
   {
    "duration": 7,
    "start_time": "2022-02-26T19:47:46.203Z"
   },
   {
    "duration": 10,
    "start_time": "2022-02-26T19:47:49.957Z"
   },
   {
    "duration": 8,
    "start_time": "2022-02-26T19:48:07.127Z"
   },
   {
    "duration": 12,
    "start_time": "2022-02-26T19:48:09.545Z"
   },
   {
    "duration": 9,
    "start_time": "2022-02-26T19:48:22.235Z"
   },
   {
    "duration": 6,
    "start_time": "2022-02-26T19:48:26.234Z"
   },
   {
    "duration": 4,
    "start_time": "2022-02-26T19:48:43.526Z"
   },
   {
    "duration": 8,
    "start_time": "2022-02-26T19:48:49.621Z"
   },
   {
    "duration": 9,
    "start_time": "2022-02-26T19:49:09.984Z"
   },
   {
    "duration": 6,
    "start_time": "2022-02-26T19:49:13.168Z"
   },
   {
    "duration": 324,
    "start_time": "2022-02-26T19:49:42.177Z"
   },
   {
    "duration": 3,
    "start_time": "2022-02-26T19:51:12.796Z"
   },
   {
    "duration": 6,
    "start_time": "2022-02-26T19:51:20.069Z"
   },
   {
    "duration": 14,
    "start_time": "2022-02-26T19:51:57.544Z"
   },
   {
    "duration": 285,
    "start_time": "2022-02-26T19:51:58.288Z"
   },
   {
    "duration": 12,
    "start_time": "2022-02-26T19:52:07.348Z"
   },
   {
    "duration": 4,
    "start_time": "2022-02-26T19:52:08.067Z"
   },
   {
    "duration": 5,
    "start_time": "2022-02-26T19:52:09.566Z"
   },
   {
    "duration": 6,
    "start_time": "2022-02-26T19:52:24.499Z"
   },
   {
    "duration": 15,
    "start_time": "2022-02-26T20:15:49.150Z"
   },
   {
    "duration": 197,
    "start_time": "2022-02-26T20:33:10.516Z"
   },
   {
    "duration": 7234,
    "start_time": "2022-02-26T20:33:11.352Z"
   },
   {
    "duration": 10,
    "start_time": "2022-02-26T20:33:46.511Z"
   },
   {
    "duration": 446,
    "start_time": "2022-02-26T20:37:21.597Z"
   },
   {
    "duration": 7134,
    "start_time": "2022-02-26T20:39:20.845Z"
   },
   {
    "duration": 31105,
    "start_time": "2022-02-26T20:40:11.695Z"
   },
   {
    "duration": 7200,
    "start_time": "2022-02-26T20:41:20.395Z"
   },
   {
    "duration": 19,
    "start_time": "2022-02-26T20:41:39.478Z"
   },
   {
    "duration": 447,
    "start_time": "2022-02-26T20:42:05.000Z"
   },
   {
    "duration": 9,
    "start_time": "2022-02-26T20:42:06.780Z"
   },
   {
    "duration": 9,
    "start_time": "2022-02-26T20:42:46.446Z"
   },
   {
    "duration": 12,
    "start_time": "2022-02-26T20:43:33.205Z"
   },
   {
    "duration": 6,
    "start_time": "2022-02-26T20:43:41.341Z"
   },
   {
    "duration": 445,
    "start_time": "2022-02-26T20:44:19.128Z"
   },
   {
    "duration": 462,
    "start_time": "2022-02-26T20:44:36.033Z"
   },
   {
    "duration": 382,
    "start_time": "2022-02-26T20:44:47.550Z"
   },
   {
    "duration": 1436,
    "start_time": "2022-02-26T20:45:20.933Z"
   },
   {
    "duration": 74,
    "start_time": "2022-02-26T20:45:22.372Z"
   },
   {
    "duration": 4,
    "start_time": "2022-02-26T20:45:22.450Z"
   },
   {
    "duration": 11,
    "start_time": "2022-02-26T20:45:22.457Z"
   },
   {
    "duration": 11,
    "start_time": "2022-02-26T20:45:22.470Z"
   },
   {
    "duration": 8,
    "start_time": "2022-02-26T20:45:22.483Z"
   },
   {
    "duration": 59,
    "start_time": "2022-02-26T20:45:22.493Z"
   },
   {
    "duration": 26,
    "start_time": "2022-02-26T20:45:22.554Z"
   },
   {
    "duration": 14,
    "start_time": "2022-02-26T20:45:22.584Z"
   },
   {
    "duration": 36,
    "start_time": "2022-02-26T20:45:22.601Z"
   },
   {
    "duration": 18,
    "start_time": "2022-02-26T20:45:22.640Z"
   },
   {
    "duration": 7,
    "start_time": "2022-02-26T20:45:22.661Z"
   },
   {
    "duration": 6,
    "start_time": "2022-02-26T20:45:22.671Z"
   },
   {
    "duration": 7,
    "start_time": "2022-02-26T20:45:22.679Z"
   },
   {
    "duration": 55,
    "start_time": "2022-02-26T20:45:22.688Z"
   },
   {
    "duration": 6,
    "start_time": "2022-02-26T20:45:22.747Z"
   },
   {
    "duration": 14,
    "start_time": "2022-02-26T20:45:22.756Z"
   },
   {
    "duration": 8,
    "start_time": "2022-02-26T20:45:22.773Z"
   },
   {
    "duration": 13,
    "start_time": "2022-02-26T20:45:22.784Z"
   },
   {
    "duration": 34,
    "start_time": "2022-02-26T20:45:22.799Z"
   },
   {
    "duration": 22,
    "start_time": "2022-02-26T20:45:22.841Z"
   },
   {
    "duration": 18,
    "start_time": "2022-02-26T20:45:22.865Z"
   },
   {
    "duration": 4,
    "start_time": "2022-02-26T20:45:22.885Z"
   },
   {
    "duration": 8,
    "start_time": "2022-02-26T20:45:22.891Z"
   },
   {
    "duration": 386,
    "start_time": "2022-02-26T20:45:22.903Z"
   },
   {
    "duration": 277,
    "start_time": "2022-02-26T20:45:23.292Z"
   },
   {
    "duration": 10,
    "start_time": "2022-02-26T20:45:23.576Z"
   },
   {
    "duration": 478,
    "start_time": "2022-02-26T20:45:23.590Z"
   },
   {
    "duration": 10,
    "start_time": "2022-02-26T20:45:24.070Z"
   },
   {
    "duration": 441,
    "start_time": "2022-02-26T20:45:24.082Z"
   },
   {
    "duration": 554,
    "start_time": "2022-02-26T20:45:24.533Z"
   },
   {
    "duration": 6,
    "start_time": "2022-02-26T20:45:25.090Z"
   },
   {
    "duration": 34,
    "start_time": "2022-02-26T20:45:25.099Z"
   },
   {
    "duration": 477,
    "start_time": "2022-02-26T20:45:25.135Z"
   },
   {
    "duration": 560,
    "start_time": "2022-02-26T20:45:25.614Z"
   },
   {
    "duration": 281,
    "start_time": "2022-02-26T20:45:26.177Z"
   },
   {
    "duration": 409,
    "start_time": "2022-02-26T20:45:26.461Z"
   },
   {
    "duration": 413,
    "start_time": "2022-02-26T20:45:26.872Z"
   },
   {
    "duration": 457,
    "start_time": "2022-02-26T20:45:27.288Z"
   },
   {
    "duration": 644,
    "start_time": "2022-02-26T20:45:27.104Z"
   },
   {
    "duration": 640,
    "start_time": "2022-02-26T20:45:27.109Z"
   },
   {
    "duration": 638,
    "start_time": "2022-02-26T20:45:27.113Z"
   },
   {
    "duration": 637,
    "start_time": "2022-02-26T20:45:27.115Z"
   },
   {
    "duration": 600,
    "start_time": "2022-02-26T20:45:27.153Z"
   },
   {
    "duration": 598,
    "start_time": "2022-02-26T20:45:27.156Z"
   },
   {
    "duration": 534,
    "start_time": "2022-02-26T20:45:27.222Z"
   },
   {
    "duration": 532,
    "start_time": "2022-02-26T20:45:27.225Z"
   },
   {
    "duration": 530,
    "start_time": "2022-02-26T20:45:27.229Z"
   },
   {
    "duration": 529,
    "start_time": "2022-02-26T20:45:27.231Z"
   },
   {
    "duration": 499,
    "start_time": "2022-02-26T20:45:27.264Z"
   },
   {
    "duration": 498,
    "start_time": "2022-02-26T20:45:27.266Z"
   },
   {
    "duration": 498,
    "start_time": "2022-02-26T20:45:27.268Z"
   },
   {
    "duration": 497,
    "start_time": "2022-02-26T20:45:27.270Z"
   },
   {
    "duration": 419,
    "start_time": "2022-02-26T20:45:27.349Z"
   },
   {
    "duration": 418,
    "start_time": "2022-02-26T20:45:27.352Z"
   },
   {
    "duration": 5,
    "start_time": "2022-02-26T20:45:44.706Z"
   },
   {
    "duration": 434,
    "start_time": "2022-02-26T20:45:46.036Z"
   },
   {
    "duration": 523,
    "start_time": "2022-02-26T20:48:09.851Z"
   },
   {
    "duration": 477,
    "start_time": "2022-02-26T20:48:41.277Z"
   },
   {
    "duration": 478,
    "start_time": "2022-02-26T20:50:18.109Z"
   },
   {
    "duration": 14,
    "start_time": "2022-02-26T20:50:59.997Z"
   },
   {
    "duration": 390,
    "start_time": "2022-02-26T20:52:43.868Z"
   },
   {
    "duration": 1425,
    "start_time": "2022-02-26T20:52:49.594Z"
   },
   {
    "duration": 81,
    "start_time": "2022-02-26T20:52:51.022Z"
   },
   {
    "duration": 5,
    "start_time": "2022-02-26T20:52:51.107Z"
   },
   {
    "duration": 12,
    "start_time": "2022-02-26T20:52:51.115Z"
   },
   {
    "duration": 24,
    "start_time": "2022-02-26T20:52:51.130Z"
   },
   {
    "duration": 11,
    "start_time": "2022-02-26T20:52:51.157Z"
   },
   {
    "duration": 33,
    "start_time": "2022-02-26T20:52:51.170Z"
   },
   {
    "duration": 49,
    "start_time": "2022-02-26T20:52:51.206Z"
   },
   {
    "duration": 23,
    "start_time": "2022-02-26T20:52:51.261Z"
   },
   {
    "duration": 10,
    "start_time": "2022-02-26T20:52:51.289Z"
   },
   {
    "duration": 42,
    "start_time": "2022-02-26T20:52:51.302Z"
   },
   {
    "duration": 9,
    "start_time": "2022-02-26T20:52:51.346Z"
   },
   {
    "duration": 7,
    "start_time": "2022-02-26T20:52:51.357Z"
   },
   {
    "duration": 11,
    "start_time": "2022-02-26T20:52:51.366Z"
   },
   {
    "duration": 14,
    "start_time": "2022-02-26T20:52:51.380Z"
   },
   {
    "duration": 4,
    "start_time": "2022-02-26T20:52:51.397Z"
   },
   {
    "duration": 15,
    "start_time": "2022-02-26T20:52:51.433Z"
   },
   {
    "duration": 16,
    "start_time": "2022-02-26T20:52:51.450Z"
   },
   {
    "duration": 14,
    "start_time": "2022-02-26T20:52:51.469Z"
   },
   {
    "duration": 6,
    "start_time": "2022-02-26T20:52:51.485Z"
   },
   {
    "duration": 51,
    "start_time": "2022-02-26T20:52:51.493Z"
   },
   {
    "duration": 16,
    "start_time": "2022-02-26T20:52:51.546Z"
   },
   {
    "duration": 4,
    "start_time": "2022-02-26T20:52:51.566Z"
   },
   {
    "duration": 7,
    "start_time": "2022-02-26T20:52:51.573Z"
   },
   {
    "duration": 394,
    "start_time": "2022-02-26T20:52:51.583Z"
   },
   {
    "duration": 274,
    "start_time": "2022-02-26T20:52:51.979Z"
   },
   {
    "duration": 9,
    "start_time": "2022-02-26T20:52:52.259Z"
   },
   {
    "duration": 462,
    "start_time": "2022-02-26T20:52:52.271Z"
   },
   {
    "duration": 10,
    "start_time": "2022-02-26T20:52:52.735Z"
   },
   {
    "duration": 451,
    "start_time": "2022-02-26T20:52:52.748Z"
   },
   {
    "duration": 561,
    "start_time": "2022-02-26T20:52:53.201Z"
   },
   {
    "duration": 7,
    "start_time": "2022-02-26T20:52:53.765Z"
   },
   {
    "duration": 9,
    "start_time": "2022-02-26T20:52:53.775Z"
   },
   {
    "duration": 504,
    "start_time": "2022-02-26T20:52:53.786Z"
   },
   {
    "duration": 579,
    "start_time": "2022-02-26T20:52:54.293Z"
   },
   {
    "duration": 286,
    "start_time": "2022-02-26T20:52:54.875Z"
   },
   {
    "duration": 398,
    "start_time": "2022-02-26T20:52:55.164Z"
   },
   {
    "duration": 399,
    "start_time": "2022-02-26T20:52:55.566Z"
   },
   {
    "duration": 4,
    "start_time": "2022-02-26T20:52:55.968Z"
   },
   {
    "duration": 505,
    "start_time": "2022-02-26T20:52:55.976Z"
   },
   {
    "duration": 407,
    "start_time": "2022-02-26T20:52:56.484Z"
   },
   {
    "duration": 838,
    "start_time": "2022-02-26T20:52:56.057Z"
   },
   {
    "duration": 831,
    "start_time": "2022-02-26T20:52:56.066Z"
   },
   {
    "duration": 829,
    "start_time": "2022-02-26T20:52:56.070Z"
   },
   {
    "duration": 829,
    "start_time": "2022-02-26T20:52:56.072Z"
   },
   {
    "duration": 830,
    "start_time": "2022-02-26T20:52:56.074Z"
   },
   {
    "duration": 830,
    "start_time": "2022-02-26T20:52:56.076Z"
   },
   {
    "duration": 830,
    "start_time": "2022-02-26T20:52:56.078Z"
   },
   {
    "duration": 758,
    "start_time": "2022-02-26T20:52:56.152Z"
   },
   {
    "duration": 758,
    "start_time": "2022-02-26T20:52:56.154Z"
   },
   {
    "duration": 758,
    "start_time": "2022-02-26T20:52:56.157Z"
   },
   {
    "duration": 758,
    "start_time": "2022-02-26T20:52:56.159Z"
   },
   {
    "duration": 758,
    "start_time": "2022-02-26T20:52:56.161Z"
   },
   {
    "duration": 757,
    "start_time": "2022-02-26T20:52:56.164Z"
   },
   {
    "duration": 757,
    "start_time": "2022-02-26T20:52:56.167Z"
   },
   {
    "duration": 235,
    "start_time": "2022-02-26T20:54:20.919Z"
   },
   {
    "duration": 4,
    "start_time": "2022-02-26T20:54:22.797Z"
   },
   {
    "duration": 559,
    "start_time": "2022-02-26T20:54:24.525Z"
   },
   {
    "duration": 296,
    "start_time": "2022-02-26T20:54:29.497Z"
   },
   {
    "duration": 7434,
    "start_time": "2022-02-26T20:54:44.239Z"
   },
   {
    "duration": 7,
    "start_time": "2022-02-26T20:55:26.592Z"
   },
   {
    "duration": 306,
    "start_time": "2022-02-26T21:04:32.409Z"
   },
   {
    "duration": 298,
    "start_time": "2022-02-26T21:04:44.880Z"
   },
   {
    "duration": 1380,
    "start_time": "2022-02-26T21:06:01.007Z"
   },
   {
    "duration": 76,
    "start_time": "2022-02-26T21:06:02.390Z"
   },
   {
    "duration": 4,
    "start_time": "2022-02-26T21:06:02.469Z"
   },
   {
    "duration": 13,
    "start_time": "2022-02-26T21:06:02.475Z"
   },
   {
    "duration": 9,
    "start_time": "2022-02-26T21:06:02.490Z"
   },
   {
    "duration": 12,
    "start_time": "2022-02-26T21:06:02.501Z"
   },
   {
    "duration": 39,
    "start_time": "2022-02-26T21:06:02.515Z"
   },
   {
    "duration": 26,
    "start_time": "2022-02-26T21:06:02.557Z"
   },
   {
    "duration": 15,
    "start_time": "2022-02-26T21:06:02.586Z"
   },
   {
    "duration": 38,
    "start_time": "2022-02-26T21:06:02.603Z"
   },
   {
    "duration": 13,
    "start_time": "2022-02-26T21:06:02.648Z"
   },
   {
    "duration": 9,
    "start_time": "2022-02-26T21:06:02.663Z"
   },
   {
    "duration": 6,
    "start_time": "2022-02-26T21:06:02.674Z"
   },
   {
    "duration": 8,
    "start_time": "2022-02-26T21:06:02.683Z"
   },
   {
    "duration": 56,
    "start_time": "2022-02-26T21:06:02.694Z"
   },
   {
    "duration": 5,
    "start_time": "2022-02-26T21:06:02.753Z"
   },
   {
    "duration": 10,
    "start_time": "2022-02-26T21:06:02.761Z"
   },
   {
    "duration": 7,
    "start_time": "2022-02-26T21:06:02.773Z"
   },
   {
    "duration": 58,
    "start_time": "2022-02-26T21:06:02.782Z"
   },
   {
    "duration": 7,
    "start_time": "2022-02-26T21:06:02.844Z"
   },
   {
    "duration": 20,
    "start_time": "2022-02-26T21:06:02.853Z"
   },
   {
    "duration": 12,
    "start_time": "2022-02-26T21:06:02.875Z"
   },
   {
    "duration": 3,
    "start_time": "2022-02-26T21:06:02.893Z"
   },
   {
    "duration": 36,
    "start_time": "2022-02-26T21:06:02.899Z"
   },
   {
    "duration": 355,
    "start_time": "2022-02-26T21:06:02.945Z"
   },
   {
    "duration": 266,
    "start_time": "2022-02-26T21:06:03.302Z"
   },
   {
    "duration": 9,
    "start_time": "2022-02-26T21:06:03.571Z"
   },
   {
    "duration": 475,
    "start_time": "2022-02-26T21:06:03.582Z"
   },
   {
    "duration": 10,
    "start_time": "2022-02-26T21:06:04.059Z"
   },
   {
    "duration": 424,
    "start_time": "2022-02-26T21:06:04.071Z"
   },
   {
    "duration": 549,
    "start_time": "2022-02-26T21:06:04.498Z"
   },
   {
    "duration": 5,
    "start_time": "2022-02-26T21:06:05.050Z"
   },
   {
    "duration": 13,
    "start_time": "2022-02-26T21:06:05.057Z"
   },
   {
    "duration": 506,
    "start_time": "2022-02-26T21:06:05.072Z"
   },
   {
    "duration": 513,
    "start_time": "2022-02-26T21:06:05.580Z"
   },
   {
    "duration": 273,
    "start_time": "2022-02-26T21:06:06.096Z"
   },
   {
    "duration": 383,
    "start_time": "2022-02-26T21:06:06.372Z"
   },
   {
    "duration": 219,
    "start_time": "2022-02-26T21:06:06.758Z"
   },
   {
    "duration": 5,
    "start_time": "2022-02-26T21:06:06.979Z"
   },
   {
    "duration": 485,
    "start_time": "2022-02-26T21:06:06.986Z"
   },
   {
    "duration": 7,
    "start_time": "2022-02-26T21:06:07.474Z"
   },
   {
    "duration": 695,
    "start_time": "2022-02-26T21:06:07.483Z"
   },
   {
    "duration": 524,
    "start_time": "2022-02-26T21:06:08.180Z"
   },
   {
    "duration": 5,
    "start_time": "2022-02-26T21:06:08.707Z"
   },
   {
    "duration": 458,
    "start_time": "2022-02-26T21:06:08.714Z"
   },
   {
    "duration": 835,
    "start_time": "2022-02-26T21:06:08.340Z"
   },
   {
    "duration": 834,
    "start_time": "2022-02-26T21:06:08.342Z"
   },
   {
    "duration": 723,
    "start_time": "2022-02-26T21:06:08.455Z"
   },
   {
    "duration": 714,
    "start_time": "2022-02-26T21:06:08.466Z"
   },
   {
    "duration": 711,
    "start_time": "2022-02-26T21:06:08.470Z"
   },
   {
    "duration": 711,
    "start_time": "2022-02-26T21:06:08.472Z"
   },
   {
    "duration": 709,
    "start_time": "2022-02-26T21:06:08.475Z"
   },
   {
    "duration": 709,
    "start_time": "2022-02-26T21:06:08.477Z"
   },
   {
    "duration": 706,
    "start_time": "2022-02-26T21:06:08.481Z"
   },
   {
    "duration": 704,
    "start_time": "2022-02-26T21:06:08.485Z"
   },
   {
    "duration": 6,
    "start_time": "2022-02-26T21:07:48.485Z"
   },
   {
    "duration": 6,
    "start_time": "2022-02-26T21:07:53.829Z"
   },
   {
    "duration": 16,
    "start_time": "2022-02-26T21:08:30.062Z"
   },
   {
    "duration": 5,
    "start_time": "2022-02-26T21:08:44.189Z"
   },
   {
    "duration": 5,
    "start_time": "2022-02-26T21:09:50.399Z"
   },
   {
    "duration": 5,
    "start_time": "2022-02-26T21:10:31.221Z"
   },
   {
    "duration": 283,
    "start_time": "2022-02-26T21:14:18.365Z"
   },
   {
    "duration": 5,
    "start_time": "2022-02-26T21:14:43.734Z"
   },
   {
    "duration": 297,
    "start_time": "2022-02-26T21:15:12.130Z"
   },
   {
    "duration": 302,
    "start_time": "2022-02-26T21:15:24.384Z"
   },
   {
    "duration": 283,
    "start_time": "2022-02-26T21:18:22.479Z"
   },
   {
    "duration": 296,
    "start_time": "2022-02-26T21:19:49.100Z"
   },
   {
    "duration": 16,
    "start_time": "2022-02-26T21:20:11.346Z"
   },
   {
    "duration": 5,
    "start_time": "2022-02-26T21:22:24.269Z"
   },
   {
    "duration": 289,
    "start_time": "2022-02-26T21:23:11.013Z"
   },
   {
    "duration": 335,
    "start_time": "2022-02-26T21:23:21.386Z"
   },
   {
    "duration": 99,
    "start_time": "2022-02-26T21:23:28.588Z"
   },
   {
    "duration": 94,
    "start_time": "2022-02-26T21:23:40.315Z"
   },
   {
    "duration": 24,
    "start_time": "2022-02-26T21:23:53.539Z"
   },
   {
    "duration": 6,
    "start_time": "2022-02-26T21:24:08.328Z"
   },
   {
    "duration": 5,
    "start_time": "2022-02-26T21:24:12.959Z"
   },
   {
    "duration": 14,
    "start_time": "2022-02-26T21:25:01.667Z"
   },
   {
    "duration": 291,
    "start_time": "2022-02-26T21:25:41.794Z"
   },
   {
    "duration": 18,
    "start_time": "2022-02-26T21:26:08.659Z"
   },
   {
    "duration": 6,
    "start_time": "2022-02-26T21:31:51.193Z"
   },
   {
    "duration": 1322,
    "start_time": "2022-02-26T21:32:09.665Z"
   },
   {
    "duration": 72,
    "start_time": "2022-02-26T21:32:10.989Z"
   },
   {
    "duration": 5,
    "start_time": "2022-02-26T21:32:11.063Z"
   },
   {
    "duration": 10,
    "start_time": "2022-02-26T21:32:11.070Z"
   },
   {
    "duration": 10,
    "start_time": "2022-02-26T21:32:11.082Z"
   },
   {
    "duration": 8,
    "start_time": "2022-02-26T21:32:11.095Z"
   },
   {
    "duration": 48,
    "start_time": "2022-02-26T21:32:11.106Z"
   },
   {
    "duration": 29,
    "start_time": "2022-02-26T21:32:11.158Z"
   },
   {
    "duration": 16,
    "start_time": "2022-02-26T21:32:11.191Z"
   },
   {
    "duration": 10,
    "start_time": "2022-02-26T21:32:11.234Z"
   },
   {
    "duration": 8,
    "start_time": "2022-02-26T21:32:11.247Z"
   },
   {
    "duration": 8,
    "start_time": "2022-02-26T21:32:11.258Z"
   },
   {
    "duration": 6,
    "start_time": "2022-02-26T21:32:11.269Z"
   },
   {
    "duration": 57,
    "start_time": "2022-02-26T21:32:11.277Z"
   },
   {
    "duration": 10,
    "start_time": "2022-02-26T21:32:11.336Z"
   },
   {
    "duration": 6,
    "start_time": "2022-02-26T21:32:11.348Z"
   },
   {
    "duration": 12,
    "start_time": "2022-02-26T21:32:11.356Z"
   },
   {
    "duration": 7,
    "start_time": "2022-02-26T21:32:11.370Z"
   },
   {
    "duration": 62,
    "start_time": "2022-02-26T21:32:11.379Z"
   },
   {
    "duration": 8,
    "start_time": "2022-02-26T21:32:11.444Z"
   },
   {
    "duration": 18,
    "start_time": "2022-02-26T21:32:11.454Z"
   },
   {
    "duration": 13,
    "start_time": "2022-02-26T21:32:11.475Z"
   },
   {
    "duration": 4,
    "start_time": "2022-02-26T21:32:11.534Z"
   },
   {
    "duration": 8,
    "start_time": "2022-02-26T21:32:11.542Z"
   },
   {
    "duration": 361,
    "start_time": "2022-02-26T21:32:11.553Z"
   },
   {
    "duration": 250,
    "start_time": "2022-02-26T21:32:11.916Z"
   },
   {
    "duration": 10,
    "start_time": "2022-02-26T21:32:12.168Z"
   },
   {
    "duration": 432,
    "start_time": "2022-02-26T21:32:12.181Z"
   },
   {
    "duration": 22,
    "start_time": "2022-02-26T21:32:12.616Z"
   },
   {
    "duration": 412,
    "start_time": "2022-02-26T21:32:12.641Z"
   },
   {
    "duration": 502,
    "start_time": "2022-02-26T21:32:13.055Z"
   },
   {
    "duration": 5,
    "start_time": "2022-02-26T21:32:13.560Z"
   },
   {
    "duration": 8,
    "start_time": "2022-02-26T21:32:13.567Z"
   },
   {
    "duration": 448,
    "start_time": "2022-02-26T21:32:13.577Z"
   },
   {
    "duration": 522,
    "start_time": "2022-02-26T21:32:14.027Z"
   },
   {
    "duration": 261,
    "start_time": "2022-02-26T21:32:14.551Z"
   },
   {
    "duration": 405,
    "start_time": "2022-02-26T21:32:14.814Z"
   },
   {
    "duration": 238,
    "start_time": "2022-02-26T21:32:15.222Z"
   },
   {
    "duration": 4,
    "start_time": "2022-02-26T21:32:15.462Z"
   },
   {
    "duration": 500,
    "start_time": "2022-02-26T21:32:15.469Z"
   },
   {
    "duration": 6,
    "start_time": "2022-02-26T21:32:15.971Z"
   },
   {
    "duration": 586,
    "start_time": "2022-02-26T21:32:15.979Z"
   },
   {
    "duration": 528,
    "start_time": "2022-02-26T21:32:16.568Z"
   },
   {
    "duration": 5,
    "start_time": "2022-02-26T21:32:17.099Z"
   },
   {
    "duration": 36,
    "start_time": "2022-02-26T21:32:17.107Z"
   },
   {
    "duration": 8,
    "start_time": "2022-02-26T21:32:17.146Z"
   },
   {
    "duration": 276,
    "start_time": "2022-02-26T21:32:17.156Z"
   },
   {
    "duration": 12,
    "start_time": "2022-02-26T21:32:17.436Z"
   },
   {
    "duration": 13,
    "start_time": "2022-02-26T21:32:17.450Z"
   },
   {
    "duration": 16,
    "start_time": "2022-02-26T21:32:17.465Z"
   },
   {
    "duration": 57,
    "start_time": "2022-02-26T21:32:17.484Z"
   },
   {
    "duration": 22,
    "start_time": "2022-02-26T21:32:17.543Z"
   },
   {
    "duration": 555,
    "start_time": "2022-02-26T21:32:17.567Z"
   },
   {
    "duration": 530,
    "start_time": "2022-02-26T21:32:18.124Z"
   },
   {
    "duration": 535,
    "start_time": "2022-02-26T21:32:18.657Z"
   },
   {
    "duration": 6,
    "start_time": "2022-02-26T21:34:50.102Z"
   },
   {
    "duration": 403,
    "start_time": "2022-02-26T22:05:02.652Z"
   },
   {
    "duration": 10,
    "start_time": "2022-02-26T22:05:20.930Z"
   },
   {
    "duration": 18,
    "start_time": "2022-02-26T22:21:28.251Z"
   },
   {
    "duration": 8,
    "start_time": "2022-02-26T22:23:10.007Z"
   },
   {
    "duration": 13,
    "start_time": "2022-02-26T22:23:22.208Z"
   },
   {
    "duration": 10,
    "start_time": "2022-02-26T22:23:30.790Z"
   },
   {
    "duration": 14,
    "start_time": "2022-02-26T22:28:23.121Z"
   },
   {
    "duration": 18,
    "start_time": "2022-02-26T22:28:29.409Z"
   },
   {
    "duration": 12,
    "start_time": "2022-02-26T22:29:49.386Z"
   },
   {
    "duration": 10,
    "start_time": "2022-02-26T22:29:50.110Z"
   },
   {
    "duration": 11,
    "start_time": "2022-02-26T22:41:54.097Z"
   },
   {
    "duration": 18,
    "start_time": "2022-02-26T22:41:55.555Z"
   },
   {
    "duration": 11,
    "start_time": "2022-02-26T22:42:02.095Z"
   },
   {
    "duration": 11,
    "start_time": "2022-02-26T22:42:06.987Z"
   },
   {
    "duration": 15,
    "start_time": "2022-02-26T22:42:13.372Z"
   },
   {
    "duration": 14,
    "start_time": "2022-02-26T22:42:15.845Z"
   },
   {
    "duration": 343,
    "start_time": "2022-02-27T05:25:11.729Z"
   },
   {
    "duration": 1355,
    "start_time": "2022-02-27T05:25:17.526Z"
   },
   {
    "duration": 83,
    "start_time": "2022-02-27T05:25:18.883Z"
   },
   {
    "duration": 4,
    "start_time": "2022-02-27T05:25:18.969Z"
   },
   {
    "duration": 10,
    "start_time": "2022-02-27T05:25:18.975Z"
   },
   {
    "duration": 9,
    "start_time": "2022-02-27T05:25:18.987Z"
   },
   {
    "duration": 7,
    "start_time": "2022-02-27T05:25:18.998Z"
   },
   {
    "duration": 44,
    "start_time": "2022-02-27T05:25:19.007Z"
   },
   {
    "duration": 27,
    "start_time": "2022-02-27T05:25:19.055Z"
   },
   {
    "duration": 15,
    "start_time": "2022-02-27T05:25:19.085Z"
   },
   {
    "duration": 36,
    "start_time": "2022-02-27T05:25:19.102Z"
   },
   {
    "duration": 11,
    "start_time": "2022-02-27T05:25:19.140Z"
   },
   {
    "duration": 8,
    "start_time": "2022-02-27T05:25:19.153Z"
   },
   {
    "duration": 6,
    "start_time": "2022-02-27T05:25:19.163Z"
   },
   {
    "duration": 7,
    "start_time": "2022-02-27T05:25:19.171Z"
   },
   {
    "duration": 56,
    "start_time": "2022-02-27T05:25:19.180Z"
   },
   {
    "duration": 4,
    "start_time": "2022-02-27T05:25:19.239Z"
   },
   {
    "duration": 10,
    "start_time": "2022-02-27T05:25:19.246Z"
   },
   {
    "duration": 6,
    "start_time": "2022-02-27T05:25:19.258Z"
   },
   {
    "duration": 13,
    "start_time": "2022-02-27T05:25:19.266Z"
   },
   {
    "duration": 6,
    "start_time": "2022-02-27T05:25:19.281Z"
   },
   {
    "duration": 16,
    "start_time": "2022-02-27T05:25:19.332Z"
   },
   {
    "duration": 12,
    "start_time": "2022-02-27T05:25:19.350Z"
   },
   {
    "duration": 3,
    "start_time": "2022-02-27T05:25:19.367Z"
   },
   {
    "duration": 8,
    "start_time": "2022-02-27T05:25:19.373Z"
   },
   {
    "duration": 363,
    "start_time": "2022-02-27T05:25:19.383Z"
   },
   {
    "duration": 260,
    "start_time": "2022-02-27T05:25:19.749Z"
   },
   {
    "duration": 22,
    "start_time": "2022-02-27T05:25:20.011Z"
   },
   {
    "duration": 447,
    "start_time": "2022-02-27T05:25:20.035Z"
   },
   {
    "duration": 11,
    "start_time": "2022-02-27T05:25:20.485Z"
   },
   {
    "duration": 418,
    "start_time": "2022-02-27T05:25:20.499Z"
   },
   {
    "duration": 518,
    "start_time": "2022-02-27T05:25:20.920Z"
   },
   {
    "duration": 5,
    "start_time": "2022-02-27T05:25:21.440Z"
   },
   {
    "duration": 8,
    "start_time": "2022-02-27T05:25:21.447Z"
   },
   {
    "duration": 486,
    "start_time": "2022-02-27T05:25:21.457Z"
   },
   {
    "duration": 530,
    "start_time": "2022-02-27T05:25:21.945Z"
   },
   {
    "duration": 290,
    "start_time": "2022-02-27T05:25:22.477Z"
   },
   {
    "duration": 630,
    "start_time": "2022-02-27T05:25:22.770Z"
   },
   {
    "duration": 284,
    "start_time": "2022-02-27T05:25:23.402Z"
   },
   {
    "duration": 5,
    "start_time": "2022-02-27T05:25:23.688Z"
   },
   {
    "duration": 457,
    "start_time": "2022-02-27T05:25:23.695Z"
   },
   {
    "duration": 7,
    "start_time": "2022-02-27T05:25:24.154Z"
   },
   {
    "duration": 596,
    "start_time": "2022-02-27T05:25:24.163Z"
   },
   {
    "duration": 520,
    "start_time": "2022-02-27T05:25:24.761Z"
   },
   {
    "duration": 5,
    "start_time": "2022-02-27T05:25:25.284Z"
   },
   {
    "duration": 18,
    "start_time": "2022-02-27T05:25:25.291Z"
   },
   {
    "duration": 11,
    "start_time": "2022-02-27T05:25:25.333Z"
   },
   {
    "duration": 9,
    "start_time": "2022-02-27T05:25:25.347Z"
   },
   {
    "duration": 11,
    "start_time": "2022-02-27T05:25:25.359Z"
   },
   {
    "duration": 9,
    "start_time": "2022-02-27T05:25:25.372Z"
   },
   {
    "duration": 262,
    "start_time": "2022-02-27T05:25:25.383Z"
   },
   {
    "duration": 11,
    "start_time": "2022-02-27T05:25:25.647Z"
   },
   {
    "duration": 12,
    "start_time": "2022-02-27T05:25:25.660Z"
   },
   {
    "duration": 11,
    "start_time": "2022-02-27T05:25:25.674Z"
   },
   {
    "duration": 52,
    "start_time": "2022-02-27T05:25:25.688Z"
   },
   {
    "duration": 13,
    "start_time": "2022-02-27T05:25:25.743Z"
   },
   {
    "duration": 17,
    "start_time": "2022-02-27T05:25:25.759Z"
   },
   {
    "duration": 591,
    "start_time": "2022-02-27T05:25:25.779Z"
   },
   {
    "duration": 523,
    "start_time": "2022-02-27T05:25:26.373Z"
   },
   {
    "duration": 569,
    "start_time": "2022-02-27T05:25:26.898Z"
   },
   {
    "duration": 432,
    "start_time": "2022-02-27T05:25:45.944Z"
   },
   {
    "duration": 429,
    "start_time": "2022-02-27T05:25:54.355Z"
   },
   {
    "duration": 700,
    "start_time": "2022-02-27T05:27:36.095Z"
   },
   {
    "duration": 602,
    "start_time": "2022-02-27T05:28:22.350Z"
   },
   {
    "duration": 90,
    "start_time": "2022-02-27T05:28:50.097Z"
   },
   {
    "duration": 317,
    "start_time": "2022-02-27T05:29:34.939Z"
   },
   {
    "duration": 292,
    "start_time": "2022-02-27T05:30:28.597Z"
   },
   {
    "duration": 723,
    "start_time": "2022-02-27T05:31:03.361Z"
   },
   {
    "duration": 766,
    "start_time": "2022-02-27T05:32:07.639Z"
   },
   {
    "duration": 1346,
    "start_time": "2022-02-27T05:33:11.243Z"
   },
   {
    "duration": 73,
    "start_time": "2022-02-27T05:33:12.591Z"
   },
   {
    "duration": 4,
    "start_time": "2022-02-27T05:33:12.667Z"
   },
   {
    "duration": 10,
    "start_time": "2022-02-27T05:33:12.674Z"
   },
   {
    "duration": 8,
    "start_time": "2022-02-27T05:33:12.686Z"
   },
   {
    "duration": 13,
    "start_time": "2022-02-27T05:33:12.696Z"
   },
   {
    "duration": 49,
    "start_time": "2022-02-27T05:33:12.711Z"
   },
   {
    "duration": 24,
    "start_time": "2022-02-27T05:33:12.764Z"
   },
   {
    "duration": 14,
    "start_time": "2022-02-27T05:33:12.790Z"
   },
   {
    "duration": 7,
    "start_time": "2022-02-27T05:33:12.833Z"
   },
   {
    "duration": 7,
    "start_time": "2022-02-27T05:33:12.842Z"
   },
   {
    "duration": 7,
    "start_time": "2022-02-27T05:33:12.852Z"
   },
   {
    "duration": 7,
    "start_time": "2022-02-27T05:33:12.861Z"
   },
   {
    "duration": 7,
    "start_time": "2022-02-27T05:33:12.870Z"
   },
   {
    "duration": 11,
    "start_time": "2022-02-27T05:33:12.933Z"
   },
   {
    "duration": 6,
    "start_time": "2022-02-27T05:33:12.946Z"
   },
   {
    "duration": 10,
    "start_time": "2022-02-27T05:33:12.955Z"
   },
   {
    "duration": 6,
    "start_time": "2022-02-27T05:33:12.968Z"
   },
   {
    "duration": 59,
    "start_time": "2022-02-27T05:33:12.976Z"
   },
   {
    "duration": 7,
    "start_time": "2022-02-27T05:33:13.037Z"
   },
   {
    "duration": 15,
    "start_time": "2022-02-27T05:33:13.046Z"
   },
   {
    "duration": 13,
    "start_time": "2022-02-27T05:33:13.064Z"
   },
   {
    "duration": 3,
    "start_time": "2022-02-27T05:33:13.082Z"
   },
   {
    "duration": 47,
    "start_time": "2022-02-27T05:33:13.089Z"
   },
   {
    "duration": 347,
    "start_time": "2022-02-27T05:33:13.138Z"
   },
   {
    "duration": 267,
    "start_time": "2022-02-27T05:33:13.487Z"
   },
   {
    "duration": 8,
    "start_time": "2022-02-27T05:33:13.756Z"
   },
   {
    "duration": 865,
    "start_time": "2022-02-27T05:33:13.767Z"
   },
   {
    "duration": -52,
    "start_time": "2022-02-27T05:33:14.686Z"
   },
   {
    "duration": -55,
    "start_time": "2022-02-27T05:33:14.691Z"
   },
   {
    "duration": -67,
    "start_time": "2022-02-27T05:33:14.704Z"
   },
   {
    "duration": -79,
    "start_time": "2022-02-27T05:33:14.718Z"
   },
   {
    "duration": -155,
    "start_time": "2022-02-27T05:33:14.795Z"
   },
   {
    "duration": -173,
    "start_time": "2022-02-27T05:33:14.815Z"
   },
   {
    "duration": -176,
    "start_time": "2022-02-27T05:33:14.819Z"
   },
   {
    "duration": -181,
    "start_time": "2022-02-27T05:33:14.825Z"
   },
   {
    "duration": -184,
    "start_time": "2022-02-27T05:33:14.829Z"
   },
   {
    "duration": -185,
    "start_time": "2022-02-27T05:33:14.832Z"
   },
   {
    "duration": -188,
    "start_time": "2022-02-27T05:33:14.836Z"
   },
   {
    "duration": -192,
    "start_time": "2022-02-27T05:33:14.842Z"
   },
   {
    "duration": -208,
    "start_time": "2022-02-27T05:33:14.859Z"
   },
   {
    "duration": -218,
    "start_time": "2022-02-27T05:33:14.870Z"
   },
   {
    "duration": -231,
    "start_time": "2022-02-27T05:33:14.885Z"
   },
   {
    "duration": -237,
    "start_time": "2022-02-27T05:33:14.892Z"
   },
   {
    "duration": -251,
    "start_time": "2022-02-27T05:33:14.908Z"
   },
   {
    "duration": -260,
    "start_time": "2022-02-27T05:33:14.918Z"
   },
   {
    "duration": -265,
    "start_time": "2022-02-27T05:33:14.924Z"
   },
   {
    "duration": -271,
    "start_time": "2022-02-27T05:33:14.932Z"
   },
   {
    "duration": -273,
    "start_time": "2022-02-27T05:33:14.935Z"
   },
   {
    "duration": -278,
    "start_time": "2022-02-27T05:33:14.941Z"
   },
   {
    "duration": -286,
    "start_time": "2022-02-27T05:33:14.950Z"
   },
   {
    "duration": -286,
    "start_time": "2022-02-27T05:33:14.952Z"
   },
   {
    "duration": -290,
    "start_time": "2022-02-27T05:33:14.957Z"
   },
   {
    "duration": -297,
    "start_time": "2022-02-27T05:33:14.966Z"
   },
   {
    "duration": -299,
    "start_time": "2022-02-27T05:33:14.969Z"
   },
   {
    "duration": -303,
    "start_time": "2022-02-27T05:33:14.974Z"
   },
   {
    "duration": -251,
    "start_time": "2022-02-27T05:33:14.984Z"
   },
   {
    "duration": -252,
    "start_time": "2022-02-27T05:33:14.986Z"
   },
   {
    "duration": -255,
    "start_time": "2022-02-27T05:33:14.991Z"
   },
   {
    "duration": 448,
    "start_time": "2022-02-27T05:34:06.027Z"
   },
   {
    "duration": 565,
    "start_time": "2022-02-27T05:34:32.645Z"
   },
   {
    "duration": 454,
    "start_time": "2022-02-27T05:35:18.312Z"
   },
   {
    "duration": 452,
    "start_time": "2022-02-27T05:35:37.534Z"
   },
   {
    "duration": 432,
    "start_time": "2022-02-27T05:36:11.239Z"
   },
   {
    "duration": 1316,
    "start_time": "2022-02-27T05:38:09.069Z"
   },
   {
    "duration": 72,
    "start_time": "2022-02-27T05:38:10.387Z"
   },
   {
    "duration": 4,
    "start_time": "2022-02-27T05:38:10.462Z"
   },
   {
    "duration": 9,
    "start_time": "2022-02-27T05:38:10.469Z"
   },
   {
    "duration": 9,
    "start_time": "2022-02-27T05:38:10.481Z"
   },
   {
    "duration": 9,
    "start_time": "2022-02-27T05:38:10.492Z"
   },
   {
    "duration": 57,
    "start_time": "2022-02-27T05:38:10.503Z"
   },
   {
    "duration": 28,
    "start_time": "2022-02-27T05:38:10.564Z"
   },
   {
    "duration": 39,
    "start_time": "2022-02-27T05:38:10.595Z"
   },
   {
    "duration": 8,
    "start_time": "2022-02-27T05:38:10.636Z"
   },
   {
    "duration": 7,
    "start_time": "2022-02-27T05:38:10.647Z"
   },
   {
    "duration": 7,
    "start_time": "2022-02-27T05:38:10.656Z"
   },
   {
    "duration": 6,
    "start_time": "2022-02-27T05:38:10.665Z"
   },
   {
    "duration": 6,
    "start_time": "2022-02-27T05:38:10.673Z"
   },
   {
    "duration": 57,
    "start_time": "2022-02-27T05:38:10.681Z"
   },
   {
    "duration": 4,
    "start_time": "2022-02-27T05:38:10.740Z"
   },
   {
    "duration": 10,
    "start_time": "2022-02-27T05:38:10.746Z"
   },
   {
    "duration": 6,
    "start_time": "2022-02-27T05:38:10.758Z"
   },
   {
    "duration": 13,
    "start_time": "2022-02-27T05:38:10.766Z"
   },
   {
    "duration": 5,
    "start_time": "2022-02-27T05:38:10.781Z"
   },
   {
    "duration": 57,
    "start_time": "2022-02-27T05:38:10.788Z"
   },
   {
    "duration": 12,
    "start_time": "2022-02-27T05:38:10.847Z"
   },
   {
    "duration": 3,
    "start_time": "2022-02-27T05:38:10.864Z"
   },
   {
    "duration": 6,
    "start_time": "2022-02-27T05:38:10.870Z"
   },
   {
    "duration": 377,
    "start_time": "2022-02-27T05:38:10.878Z"
   },
   {
    "duration": 255,
    "start_time": "2022-02-27T05:38:11.257Z"
   },
   {
    "duration": 25,
    "start_time": "2022-02-27T05:38:11.514Z"
   },
   {
    "duration": 448,
    "start_time": "2022-02-27T05:38:11.541Z"
   },
   {
    "duration": 10,
    "start_time": "2022-02-27T05:38:11.992Z"
   },
   {
    "duration": 415,
    "start_time": "2022-02-27T05:38:12.005Z"
   },
   {
    "duration": 521,
    "start_time": "2022-02-27T05:38:12.423Z"
   },
   {
    "duration": 6,
    "start_time": "2022-02-27T05:38:12.947Z"
   },
   {
    "duration": 10,
    "start_time": "2022-02-27T05:38:12.955Z"
   },
   {
    "duration": 468,
    "start_time": "2022-02-27T05:38:12.967Z"
   },
   {
    "duration": 502,
    "start_time": "2022-02-27T05:38:13.438Z"
   },
   {
    "duration": 256,
    "start_time": "2022-02-27T05:38:13.942Z"
   },
   {
    "duration": 424,
    "start_time": "2022-02-27T05:38:14.200Z"
   },
   {
    "duration": 275,
    "start_time": "2022-02-27T05:38:14.626Z"
   },
   {
    "duration": 5,
    "start_time": "2022-02-27T05:38:14.903Z"
   },
   {
    "duration": 436,
    "start_time": "2022-02-27T05:38:14.910Z"
   },
   {
    "duration": 6,
    "start_time": "2022-02-27T05:38:15.348Z"
   },
   {
    "duration": 583,
    "start_time": "2022-02-27T05:38:15.356Z"
   },
   {
    "duration": 510,
    "start_time": "2022-02-27T05:38:15.942Z"
   },
   {
    "duration": 6,
    "start_time": "2022-02-27T05:38:16.454Z"
   },
   {
    "duration": 17,
    "start_time": "2022-02-27T05:38:16.462Z"
   },
   {
    "duration": 10,
    "start_time": "2022-02-27T05:38:16.481Z"
   },
   {
    "duration": 44,
    "start_time": "2022-02-27T05:38:16.493Z"
   },
   {
    "duration": 12,
    "start_time": "2022-02-27T05:38:16.539Z"
   },
   {
    "duration": 9,
    "start_time": "2022-02-27T05:38:16.553Z"
   },
   {
    "duration": 249,
    "start_time": "2022-02-27T05:38:16.564Z"
   },
   {
    "duration": 21,
    "start_time": "2022-02-27T05:38:16.815Z"
   },
   {
    "duration": 12,
    "start_time": "2022-02-27T05:38:16.838Z"
   },
   {
    "duration": 11,
    "start_time": "2022-02-27T05:38:16.852Z"
   },
   {
    "duration": 15,
    "start_time": "2022-02-27T05:38:16.865Z"
   },
   {
    "duration": 59,
    "start_time": "2022-02-27T05:38:16.882Z"
   },
   {
    "duration": 22,
    "start_time": "2022-02-27T05:38:16.944Z"
   },
   {
    "duration": 571,
    "start_time": "2022-02-27T05:38:16.969Z"
   },
   {
    "duration": 510,
    "start_time": "2022-02-27T05:38:17.542Z"
   },
   {
    "duration": 508,
    "start_time": "2022-02-27T05:38:18.054Z"
   },
   {
    "duration": 11,
    "start_time": "2022-02-27T05:45:32.264Z"
   },
   {
    "duration": 1324,
    "start_time": "2022-02-27T05:45:38.800Z"
   },
   {
    "duration": 76,
    "start_time": "2022-02-27T05:45:40.127Z"
   },
   {
    "duration": 4,
    "start_time": "2022-02-27T05:45:40.206Z"
   },
   {
    "duration": 11,
    "start_time": "2022-02-27T05:45:40.213Z"
   },
   {
    "duration": 9,
    "start_time": "2022-02-27T05:45:40.226Z"
   },
   {
    "duration": 7,
    "start_time": "2022-02-27T05:45:40.237Z"
   },
   {
    "duration": 32,
    "start_time": "2022-02-27T05:45:40.247Z"
   },
   {
    "duration": 51,
    "start_time": "2022-02-27T05:45:40.282Z"
   },
   {
    "duration": 15,
    "start_time": "2022-02-27T05:45:40.337Z"
   },
   {
    "duration": 7,
    "start_time": "2022-02-27T05:45:40.354Z"
   },
   {
    "duration": 9,
    "start_time": "2022-02-27T05:45:40.363Z"
   },
   {
    "duration": 9,
    "start_time": "2022-02-27T05:45:40.374Z"
   },
   {
    "duration": 51,
    "start_time": "2022-02-27T05:45:40.385Z"
   },
   {
    "duration": 8,
    "start_time": "2022-02-27T05:45:40.438Z"
   },
   {
    "duration": 9,
    "start_time": "2022-02-27T05:45:40.448Z"
   },
   {
    "duration": 5,
    "start_time": "2022-02-27T05:45:40.459Z"
   },
   {
    "duration": 10,
    "start_time": "2022-02-27T05:45:40.466Z"
   },
   {
    "duration": 6,
    "start_time": "2022-02-27T05:45:40.478Z"
   },
   {
    "duration": 14,
    "start_time": "2022-02-27T05:45:40.533Z"
   },
   {
    "duration": 7,
    "start_time": "2022-02-27T05:45:40.549Z"
   },
   {
    "duration": 16,
    "start_time": "2022-02-27T05:45:40.558Z"
   },
   {
    "duration": 13,
    "start_time": "2022-02-27T05:45:40.576Z"
   },
   {
    "duration": 39,
    "start_time": "2022-02-27T05:45:40.594Z"
   },
   {
    "duration": 8,
    "start_time": "2022-02-27T05:45:40.638Z"
   },
   {
    "duration": 358,
    "start_time": "2022-02-27T05:45:40.648Z"
   },
   {
    "duration": 266,
    "start_time": "2022-02-27T05:45:41.008Z"
   },
   {
    "duration": 9,
    "start_time": "2022-02-27T05:45:41.277Z"
   },
   {
    "duration": 448,
    "start_time": "2022-02-27T05:45:41.288Z"
   },
   {
    "duration": 9,
    "start_time": "2022-02-27T05:45:41.739Z"
   },
   {
    "duration": 421,
    "start_time": "2022-02-27T05:45:41.750Z"
   },
   {
    "duration": 516,
    "start_time": "2022-02-27T05:45:42.174Z"
   },
   {
    "duration": 5,
    "start_time": "2022-02-27T05:45:42.693Z"
   },
   {
    "duration": 11,
    "start_time": "2022-02-27T05:45:42.700Z"
   },
   {
    "duration": 454,
    "start_time": "2022-02-27T05:45:42.713Z"
   },
   {
    "duration": 614,
    "start_time": "2022-02-27T05:45:43.170Z"
   },
   {
    "duration": 262,
    "start_time": "2022-02-27T05:45:43.786Z"
   },
   {
    "duration": 401,
    "start_time": "2022-02-27T05:45:44.051Z"
   },
   {
    "duration": 278,
    "start_time": "2022-02-27T05:45:44.454Z"
   },
   {
    "duration": 4,
    "start_time": "2022-02-27T05:45:44.735Z"
   },
   {
    "duration": 459,
    "start_time": "2022-02-27T05:45:44.742Z"
   },
   {
    "duration": 6,
    "start_time": "2022-02-27T05:45:45.203Z"
   },
   {
    "duration": 597,
    "start_time": "2022-02-27T05:45:45.211Z"
   },
   {
    "duration": 535,
    "start_time": "2022-02-27T05:45:45.811Z"
   },
   {
    "duration": 6,
    "start_time": "2022-02-27T05:45:46.349Z"
   },
   {
    "duration": 19,
    "start_time": "2022-02-27T05:45:46.357Z"
   },
   {
    "duration": 12,
    "start_time": "2022-02-27T05:45:46.378Z"
   },
   {
    "duration": 45,
    "start_time": "2022-02-27T05:45:46.392Z"
   },
   {
    "duration": 11,
    "start_time": "2022-02-27T05:45:46.439Z"
   },
   {
    "duration": 11,
    "start_time": "2022-02-27T05:45:46.452Z"
   },
   {
    "duration": 303,
    "start_time": "2022-02-27T05:45:46.465Z"
   },
   {
    "duration": 11,
    "start_time": "2022-02-27T05:45:46.770Z"
   },
   {
    "duration": 12,
    "start_time": "2022-02-27T05:45:46.784Z"
   },
   {
    "duration": 39,
    "start_time": "2022-02-27T05:45:46.798Z"
   },
   {
    "duration": 15,
    "start_time": "2022-02-27T05:45:46.840Z"
   },
   {
    "duration": 13,
    "start_time": "2022-02-27T05:45:46.858Z"
   },
   {
    "duration": 21,
    "start_time": "2022-02-27T05:45:46.874Z"
   },
   {
    "duration": 510,
    "start_time": "2022-02-27T05:45:46.933Z"
   },
   {
    "duration": 514,
    "start_time": "2022-02-27T05:45:47.446Z"
   },
   {
    "duration": 521,
    "start_time": "2022-02-27T05:45:47.962Z"
   },
   {
    "duration": 4,
    "start_time": "2022-02-27T05:46:27.927Z"
   },
   {
    "duration": 1287,
    "start_time": "2022-02-27T05:46:32.993Z"
   },
   {
    "duration": 3,
    "start_time": "2022-02-27T05:46:34.283Z"
   },
   {
    "duration": 86,
    "start_time": "2022-02-27T05:46:34.289Z"
   },
   {
    "duration": 4,
    "start_time": "2022-02-27T05:46:34.377Z"
   },
   {
    "duration": 11,
    "start_time": "2022-02-27T05:46:34.383Z"
   },
   {
    "duration": 11,
    "start_time": "2022-02-27T05:46:34.396Z"
   },
   {
    "duration": 10,
    "start_time": "2022-02-27T05:46:34.409Z"
   },
   {
    "duration": 35,
    "start_time": "2022-02-27T05:46:34.422Z"
   },
   {
    "duration": 25,
    "start_time": "2022-02-27T05:46:34.459Z"
   },
   {
    "duration": 15,
    "start_time": "2022-02-27T05:46:34.486Z"
   },
   {
    "duration": 35,
    "start_time": "2022-02-27T05:46:34.503Z"
   },
   {
    "duration": 10,
    "start_time": "2022-02-27T05:46:34.540Z"
   },
   {
    "duration": 8,
    "start_time": "2022-02-27T05:46:34.553Z"
   },
   {
    "duration": 6,
    "start_time": "2022-02-27T05:46:34.564Z"
   },
   {
    "duration": 8,
    "start_time": "2022-02-27T05:46:34.573Z"
   },
   {
    "duration": 12,
    "start_time": "2022-02-27T05:46:34.631Z"
   },
   {
    "duration": 13,
    "start_time": "2022-02-27T05:46:34.646Z"
   },
   {
    "duration": 13,
    "start_time": "2022-02-27T05:46:34.661Z"
   },
   {
    "duration": 6,
    "start_time": "2022-02-27T05:46:34.677Z"
   },
   {
    "duration": 51,
    "start_time": "2022-02-27T05:46:34.686Z"
   },
   {
    "duration": 9,
    "start_time": "2022-02-27T05:46:34.740Z"
   },
   {
    "duration": 17,
    "start_time": "2022-02-27T05:46:34.751Z"
   },
   {
    "duration": 13,
    "start_time": "2022-02-27T05:46:34.774Z"
   },
   {
    "duration": 4,
    "start_time": "2022-02-27T05:46:34.790Z"
   },
   {
    "duration": 40,
    "start_time": "2022-02-27T05:46:34.796Z"
   },
   {
    "duration": 365,
    "start_time": "2022-02-27T05:46:34.838Z"
   },
   {
    "duration": 249,
    "start_time": "2022-02-27T05:46:35.206Z"
   },
   {
    "duration": 9,
    "start_time": "2022-02-27T05:46:35.457Z"
   },
   {
    "duration": 435,
    "start_time": "2022-02-27T05:46:35.468Z"
   },
   {
    "duration": 11,
    "start_time": "2022-02-27T05:46:35.906Z"
   },
   {
    "duration": 406,
    "start_time": "2022-02-27T05:46:35.933Z"
   },
   {
    "duration": 502,
    "start_time": "2022-02-27T05:46:36.341Z"
   },
   {
    "duration": 5,
    "start_time": "2022-02-27T05:46:36.846Z"
   },
   {
    "duration": 8,
    "start_time": "2022-02-27T05:46:36.853Z"
   },
   {
    "duration": 456,
    "start_time": "2022-02-27T05:46:36.863Z"
   },
   {
    "duration": 521,
    "start_time": "2022-02-27T05:46:37.322Z"
   },
   {
    "duration": 272,
    "start_time": "2022-02-27T05:46:37.846Z"
   },
   {
    "duration": 405,
    "start_time": "2022-02-27T05:46:38.120Z"
   },
   {
    "duration": 208,
    "start_time": "2022-02-27T05:46:38.527Z"
   },
   {
    "duration": 5,
    "start_time": "2022-02-27T05:46:38.737Z"
   },
   {
    "duration": 420,
    "start_time": "2022-02-27T05:46:38.744Z"
   },
   {
    "duration": 7,
    "start_time": "2022-02-27T05:46:39.166Z"
   },
   {
    "duration": 573,
    "start_time": "2022-02-27T05:46:39.176Z"
   },
   {
    "duration": 505,
    "start_time": "2022-02-27T05:46:39.752Z"
   },
   {
    "duration": 5,
    "start_time": "2022-02-27T05:46:40.259Z"
   },
   {
    "duration": 17,
    "start_time": "2022-02-27T05:46:40.266Z"
   },
   {
    "duration": 11,
    "start_time": "2022-02-27T05:46:40.285Z"
   },
   {
    "duration": 42,
    "start_time": "2022-02-27T05:46:40.298Z"
   },
   {
    "duration": 11,
    "start_time": "2022-02-27T05:46:40.342Z"
   },
   {
    "duration": 8,
    "start_time": "2022-02-27T05:46:40.356Z"
   },
   {
    "duration": 244,
    "start_time": "2022-02-27T05:46:40.367Z"
   },
   {
    "duration": 25,
    "start_time": "2022-02-27T05:46:40.613Z"
   },
   {
    "duration": 11,
    "start_time": "2022-02-27T05:46:40.641Z"
   },
   {
    "duration": 11,
    "start_time": "2022-02-27T05:46:40.655Z"
   },
   {
    "duration": 14,
    "start_time": "2022-02-27T05:46:40.668Z"
   },
   {
    "duration": 55,
    "start_time": "2022-02-27T05:46:40.684Z"
   },
   {
    "duration": 20,
    "start_time": "2022-02-27T05:46:40.742Z"
   },
   {
    "duration": 488,
    "start_time": "2022-02-27T05:46:40.764Z"
   },
   {
    "duration": 500,
    "start_time": "2022-02-27T05:46:41.255Z"
   },
   {
    "duration": 524,
    "start_time": "2022-02-27T05:46:41.757Z"
   },
   {
    "duration": 640,
    "start_time": "2022-02-27T05:48:11.614Z"
   },
   {
    "duration": 510,
    "start_time": "2022-02-27T05:48:26.333Z"
   },
   {
    "duration": 725,
    "start_time": "2022-02-27T05:50:21.576Z"
   },
   {
    "duration": 453,
    "start_time": "2022-02-27T05:50:48.324Z"
   },
   {
    "duration": 441,
    "start_time": "2022-02-27T05:51:02.861Z"
   },
   {
    "duration": 533,
    "start_time": "2022-02-27T05:51:11.152Z"
   },
   {
    "duration": 554,
    "start_time": "2022-02-27T05:51:18.187Z"
   },
   {
    "duration": 593,
    "start_time": "2022-02-27T05:51:28.324Z"
   },
   {
    "duration": 626,
    "start_time": "2022-02-27T05:51:41.192Z"
   },
   {
    "duration": 775,
    "start_time": "2022-02-27T05:51:50.748Z"
   },
   {
    "duration": 539,
    "start_time": "2022-02-27T05:52:01.977Z"
   },
   {
    "duration": 526,
    "start_time": "2022-02-27T05:52:12.753Z"
   },
   {
    "duration": 592,
    "start_time": "2022-02-27T05:52:31.920Z"
   },
   {
    "duration": 508,
    "start_time": "2022-02-27T05:53:42.354Z"
   },
   {
    "duration": 663,
    "start_time": "2022-02-27T05:53:59.413Z"
   },
   {
    "duration": 380,
    "start_time": "2022-02-27T05:54:12.319Z"
   },
   {
    "duration": 646,
    "start_time": "2022-02-27T05:54:20.725Z"
   },
   {
    "duration": 661,
    "start_time": "2022-02-27T05:54:26.008Z"
   },
   {
    "duration": 725,
    "start_time": "2022-02-27T05:54:35.056Z"
   },
   {
    "duration": 508,
    "start_time": "2022-02-27T05:54:53.195Z"
   },
   {
    "duration": 578,
    "start_time": "2022-02-27T05:55:00.394Z"
   },
   {
    "duration": 586,
    "start_time": "2022-02-27T05:55:09.035Z"
   },
   {
    "duration": 546,
    "start_time": "2022-02-27T05:55:12.763Z"
   },
   {
    "duration": 565,
    "start_time": "2022-02-27T05:55:17.712Z"
   },
   {
    "duration": 599,
    "start_time": "2022-02-27T05:55:30.026Z"
   },
   {
    "duration": 499,
    "start_time": "2022-02-27T05:55:38.639Z"
   },
   {
    "duration": 421,
    "start_time": "2022-02-27T05:55:46.253Z"
   },
   {
    "duration": 490,
    "start_time": "2022-02-27T05:55:49.754Z"
   },
   {
    "duration": 563,
    "start_time": "2022-02-27T05:55:57.665Z"
   },
   {
    "duration": 674,
    "start_time": "2022-02-27T05:56:10.170Z"
   },
   {
    "duration": 503,
    "start_time": "2022-02-27T05:56:29.902Z"
   },
   {
    "duration": 651,
    "start_time": "2022-02-27T05:56:36.632Z"
   },
   {
    "duration": 539,
    "start_time": "2022-02-27T05:56:44.159Z"
   },
   {
    "duration": 551,
    "start_time": "2022-02-27T05:56:57.162Z"
   },
   {
    "duration": 575,
    "start_time": "2022-02-27T05:58:00.777Z"
   },
   {
    "duration": 544,
    "start_time": "2022-02-27T05:58:18.891Z"
   },
   {
    "duration": 666,
    "start_time": "2022-02-27T05:58:36.954Z"
   },
   {
    "duration": 517,
    "start_time": "2022-02-27T05:58:45.898Z"
   },
   {
    "duration": 621,
    "start_time": "2022-02-27T05:58:55.706Z"
   },
   {
    "duration": 679,
    "start_time": "2022-02-27T06:00:06.433Z"
   },
   {
    "duration": 651,
    "start_time": "2022-02-27T06:00:25.084Z"
   },
   {
    "duration": 609,
    "start_time": "2022-02-27T06:00:41.128Z"
   },
   {
    "duration": 640,
    "start_time": "2022-02-27T06:00:53.383Z"
   },
   {
    "duration": 510,
    "start_time": "2022-02-27T06:01:05.245Z"
   },
   {
    "duration": 507,
    "start_time": "2022-02-27T06:01:15.847Z"
   },
   {
    "duration": 896,
    "start_time": "2022-02-27T06:01:28.587Z"
   },
   {
    "duration": 639,
    "start_time": "2022-02-27T06:01:45.265Z"
   },
   {
    "duration": 633,
    "start_time": "2022-02-27T06:02:12.757Z"
   },
   {
    "duration": 669,
    "start_time": "2022-02-27T06:02:24.425Z"
   },
   {
    "duration": 635,
    "start_time": "2022-02-27T06:02:39.953Z"
   },
   {
    "duration": 1019,
    "start_time": "2022-02-27T12:14:18.874Z"
   },
   {
    "duration": 3,
    "start_time": "2022-02-27T12:14:19.894Z"
   },
   {
    "duration": 263,
    "start_time": "2022-02-27T12:14:19.898Z"
   },
   {
    "duration": 3,
    "start_time": "2022-02-27T12:14:20.163Z"
   },
   {
    "duration": 8,
    "start_time": "2022-02-27T12:14:20.167Z"
   },
   {
    "duration": 6,
    "start_time": "2022-02-27T12:14:20.176Z"
   },
   {
    "duration": 5,
    "start_time": "2022-02-27T12:14:20.184Z"
   },
   {
    "duration": 20,
    "start_time": "2022-02-27T12:14:20.191Z"
   },
   {
    "duration": 15,
    "start_time": "2022-02-27T12:14:20.214Z"
   },
   {
    "duration": 9,
    "start_time": "2022-02-27T12:14:20.230Z"
   },
   {
    "duration": 6,
    "start_time": "2022-02-27T12:14:20.241Z"
   },
   {
    "duration": 6,
    "start_time": "2022-02-27T12:14:20.248Z"
   },
   {
    "duration": 5,
    "start_time": "2022-02-27T12:14:20.256Z"
   },
   {
    "duration": 3,
    "start_time": "2022-02-27T12:14:20.263Z"
   },
   {
    "duration": 38,
    "start_time": "2022-02-27T12:14:20.268Z"
   },
   {
    "duration": 7,
    "start_time": "2022-02-27T12:14:20.307Z"
   },
   {
    "duration": 3,
    "start_time": "2022-02-27T12:14:20.315Z"
   },
   {
    "duration": 7,
    "start_time": "2022-02-27T12:14:20.320Z"
   },
   {
    "duration": 5,
    "start_time": "2022-02-27T12:14:20.328Z"
   },
   {
    "duration": 9,
    "start_time": "2022-02-27T12:14:20.334Z"
   },
   {
    "duration": 6,
    "start_time": "2022-02-27T12:14:20.344Z"
   },
   {
    "duration": 12,
    "start_time": "2022-02-27T12:14:20.351Z"
   },
   {
    "duration": 48,
    "start_time": "2022-02-27T12:14:20.364Z"
   },
   {
    "duration": 5,
    "start_time": "2022-02-27T12:14:20.414Z"
   },
   {
    "duration": 8,
    "start_time": "2022-02-27T12:14:20.420Z"
   },
   {
    "duration": 184,
    "start_time": "2022-02-27T12:14:20.430Z"
   },
   {
    "duration": 131,
    "start_time": "2022-02-27T12:14:20.617Z"
   },
   {
    "duration": 5,
    "start_time": "2022-02-27T12:14:20.750Z"
   },
   {
    "duration": 439,
    "start_time": "2022-02-27T12:14:20.757Z"
   },
   {
    "duration": 6,
    "start_time": "2022-02-27T12:14:21.205Z"
   },
   {
    "duration": 310,
    "start_time": "2022-02-27T12:14:21.212Z"
   },
   {
    "duration": 420,
    "start_time": "2022-02-27T12:14:21.523Z"
   },
   {
    "duration": 3,
    "start_time": "2022-02-27T12:14:21.944Z"
   },
   {
    "duration": 8,
    "start_time": "2022-02-27T12:14:21.949Z"
   },
   {
    "duration": 287,
    "start_time": "2022-02-27T12:14:21.959Z"
   },
   {
    "duration": 362,
    "start_time": "2022-02-27T12:14:22.247Z"
   },
   {
    "duration": 221,
    "start_time": "2022-02-27T12:14:22.610Z"
   },
   {
    "duration": 341,
    "start_time": "2022-02-27T12:14:22.833Z"
   },
   {
    "duration": 143,
    "start_time": "2022-02-27T12:14:23.176Z"
   },
   {
    "duration": 3,
    "start_time": "2022-02-27T12:14:23.320Z"
   },
   {
    "duration": 352,
    "start_time": "2022-02-27T12:14:23.325Z"
   },
   {
    "duration": 4,
    "start_time": "2022-02-27T12:14:23.679Z"
   },
   {
    "duration": 448,
    "start_time": "2022-02-27T12:14:23.684Z"
   },
   {
    "duration": 402,
    "start_time": "2022-02-27T12:14:24.134Z"
   },
   {
    "duration": 4,
    "start_time": "2022-02-27T12:14:24.537Z"
   },
   {
    "duration": 12,
    "start_time": "2022-02-27T12:14:24.542Z"
   },
   {
    "duration": 9,
    "start_time": "2022-02-27T12:14:24.555Z"
   },
   {
    "duration": 6,
    "start_time": "2022-02-27T12:14:24.565Z"
   },
   {
    "duration": 34,
    "start_time": "2022-02-27T12:14:24.572Z"
   },
   {
    "duration": 8,
    "start_time": "2022-02-27T12:14:24.607Z"
   },
   {
    "duration": 128,
    "start_time": "2022-02-27T12:14:24.617Z"
   },
   {
    "duration": 7,
    "start_time": "2022-02-27T12:14:24.746Z"
   },
   {
    "duration": 8,
    "start_time": "2022-02-27T12:14:24.755Z"
   },
   {
    "duration": 6,
    "start_time": "2022-02-27T12:14:24.765Z"
   },
   {
    "duration": 8,
    "start_time": "2022-02-27T12:14:24.772Z"
   },
   {
    "duration": 28,
    "start_time": "2022-02-27T12:14:24.781Z"
   },
   {
    "duration": 12,
    "start_time": "2022-02-27T12:14:24.811Z"
   },
   {
    "duration": 406,
    "start_time": "2022-02-27T12:14:24.824Z"
   },
   {
    "duration": 406,
    "start_time": "2022-02-27T12:14:25.231Z"
   },
   {
    "duration": 403,
    "start_time": "2022-02-27T12:14:25.639Z"
   },
   {
    "duration": 393,
    "start_time": "2022-02-27T12:42:36.165Z"
   },
   {
    "duration": 6465,
    "start_time": "2022-02-27T16:27:47.658Z"
   },
   {
    "duration": 100,
    "start_time": "2022-02-27T16:28:29.185Z"
   },
   {
    "duration": 1014,
    "start_time": "2022-02-27T16:29:10.408Z"
   },
   {
    "duration": 2,
    "start_time": "2022-02-27T16:29:11.424Z"
   },
   {
    "duration": 97,
    "start_time": "2022-02-27T16:29:11.428Z"
   },
   {
    "duration": 3,
    "start_time": "2022-02-27T16:29:11.527Z"
   },
   {
    "duration": 9,
    "start_time": "2022-02-27T16:29:11.531Z"
   },
   {
    "duration": 9,
    "start_time": "2022-02-27T16:29:11.542Z"
   },
   {
    "duration": 6,
    "start_time": "2022-02-27T16:29:11.553Z"
   },
   {
    "duration": 20,
    "start_time": "2022-02-27T16:29:11.560Z"
   },
   {
    "duration": 14,
    "start_time": "2022-02-27T16:29:11.583Z"
   },
   {
    "duration": 13,
    "start_time": "2022-02-27T16:29:11.599Z"
   },
   {
    "duration": 4,
    "start_time": "2022-02-27T16:29:11.614Z"
   },
   {
    "duration": 5,
    "start_time": "2022-02-27T16:29:11.620Z"
   },
   {
    "duration": 6,
    "start_time": "2022-02-27T16:29:11.627Z"
   },
   {
    "duration": 4,
    "start_time": "2022-02-27T16:29:11.634Z"
   },
   {
    "duration": 6,
    "start_time": "2022-02-27T16:29:11.639Z"
   },
   {
    "duration": 6,
    "start_time": "2022-02-27T16:29:11.647Z"
   },
   {
    "duration": 3,
    "start_time": "2022-02-27T16:29:11.655Z"
   },
   {
    "duration": 46,
    "start_time": "2022-02-27T16:29:11.660Z"
   },
   {
    "duration": 6,
    "start_time": "2022-02-27T16:29:11.707Z"
   },
   {
    "duration": 8,
    "start_time": "2022-02-27T16:29:11.714Z"
   },
   {
    "duration": 5,
    "start_time": "2022-02-27T16:29:11.723Z"
   },
   {
    "duration": 11,
    "start_time": "2022-02-27T16:29:11.729Z"
   },
   {
    "duration": 7,
    "start_time": "2022-02-27T16:29:11.741Z"
   },
   {
    "duration": 2,
    "start_time": "2022-02-27T16:29:11.749Z"
   },
   {
    "duration": 6,
    "start_time": "2022-02-27T16:29:11.752Z"
   },
   {
    "duration": 203,
    "start_time": "2022-02-27T16:29:11.759Z"
   },
   {
    "duration": 146,
    "start_time": "2022-02-27T16:29:11.966Z"
   },
   {
    "duration": 5,
    "start_time": "2022-02-27T16:29:12.115Z"
   },
   {
    "duration": 335,
    "start_time": "2022-02-27T16:29:12.122Z"
   },
   {
    "duration": 6,
    "start_time": "2022-02-27T16:29:12.458Z"
   },
   {
    "duration": 314,
    "start_time": "2022-02-27T16:29:12.465Z"
   },
   {
    "duration": 416,
    "start_time": "2022-02-27T16:29:12.781Z"
   },
   {
    "duration": 8,
    "start_time": "2022-02-27T16:29:13.199Z"
   },
   {
    "duration": 7,
    "start_time": "2022-02-27T16:29:13.208Z"
   },
   {
    "duration": 278,
    "start_time": "2022-02-27T16:29:13.216Z"
   },
   {
    "duration": 372,
    "start_time": "2022-02-27T16:29:13.495Z"
   },
   {
    "duration": 226,
    "start_time": "2022-02-27T16:29:13.868Z"
   },
   {
    "duration": 386,
    "start_time": "2022-02-27T16:29:14.096Z"
   },
   {
    "duration": 130,
    "start_time": "2022-02-27T16:29:14.483Z"
   },
   {
    "duration": 3,
    "start_time": "2022-02-27T16:29:14.615Z"
   },
   {
    "duration": 360,
    "start_time": "2022-02-27T16:29:14.619Z"
   },
   {
    "duration": 4,
    "start_time": "2022-02-27T16:29:14.981Z"
   },
   {
    "duration": 448,
    "start_time": "2022-02-27T16:29:14.986Z"
   },
   {
    "duration": 403,
    "start_time": "2022-02-27T16:29:15.435Z"
   },
   {
    "duration": 3,
    "start_time": "2022-02-27T16:29:15.840Z"
   },
   {
    "duration": 10,
    "start_time": "2022-02-27T16:29:15.845Z"
   },
   {
    "duration": 7,
    "start_time": "2022-02-27T16:29:15.856Z"
   },
   {
    "duration": 6,
    "start_time": "2022-02-27T16:29:15.864Z"
   },
   {
    "duration": 11,
    "start_time": "2022-02-27T16:29:15.871Z"
   },
   {
    "duration": 24,
    "start_time": "2022-02-27T16:29:15.883Z"
   },
   {
    "duration": 108,
    "start_time": "2022-02-27T16:29:15.909Z"
   },
   {
    "duration": 6,
    "start_time": "2022-02-27T16:29:16.018Z"
   },
   {
    "duration": 8,
    "start_time": "2022-02-27T16:29:16.026Z"
   },
   {
    "duration": 99,
    "start_time": "2022-02-27T16:29:16.035Z"
   },
   {
    "duration": -817,
    "start_time": "2022-02-27T16:29:16.953Z"
   },
   {
    "duration": -819,
    "start_time": "2022-02-27T16:29:16.956Z"
   },
   {
    "duration": -821,
    "start_time": "2022-02-27T16:29:16.959Z"
   },
   {
    "duration": -824,
    "start_time": "2022-02-27T16:29:16.963Z"
   },
   {
    "duration": -825,
    "start_time": "2022-02-27T16:29:16.965Z"
   },
   {
    "duration": -827,
    "start_time": "2022-02-27T16:29:16.968Z"
   },
   {
    "duration": -833,
    "start_time": "2022-02-27T16:29:16.975Z"
   },
   {
    "duration": -836,
    "start_time": "2022-02-27T16:29:16.979Z"
   },
   {
    "duration": 382,
    "start_time": "2022-02-27T16:31:43.566Z"
   },
   {
    "duration": 7,
    "start_time": "2022-02-27T16:31:49.132Z"
   },
   {
    "duration": 9,
    "start_time": "2022-02-27T16:31:50.523Z"
   },
   {
    "duration": 112,
    "start_time": "2022-02-27T16:33:41.395Z"
   },
   {
    "duration": 5,
    "start_time": "2022-02-27T16:34:55.642Z"
   },
   {
    "duration": 7018,
    "start_time": "2022-02-27T16:38:29.277Z"
   },
   {
    "duration": 8,
    "start_time": "2022-02-27T16:39:25.302Z"
   },
   {
    "duration": 347,
    "start_time": "2022-02-27T16:39:57.304Z"
   },
   {
    "duration": 8,
    "start_time": "2022-02-27T16:48:01.524Z"
   },
   {
    "duration": 290,
    "start_time": "2022-02-27T16:48:02.453Z"
   },
   {
    "duration": 1008,
    "start_time": "2022-02-27T16:48:20.113Z"
   },
   {
    "duration": 2,
    "start_time": "2022-02-27T16:48:21.123Z"
   },
   {
    "duration": 75,
    "start_time": "2022-02-27T16:48:21.126Z"
   },
   {
    "duration": 3,
    "start_time": "2022-02-27T16:48:21.203Z"
   },
   {
    "duration": 7,
    "start_time": "2022-02-27T16:48:21.207Z"
   },
   {
    "duration": 6,
    "start_time": "2022-02-27T16:48:21.216Z"
   },
   {
    "duration": 6,
    "start_time": "2022-02-27T16:48:21.224Z"
   },
   {
    "duration": 18,
    "start_time": "2022-02-27T16:48:21.232Z"
   },
   {
    "duration": 15,
    "start_time": "2022-02-27T16:48:21.253Z"
   },
   {
    "duration": 11,
    "start_time": "2022-02-27T16:48:21.270Z"
   },
   {
    "duration": 26,
    "start_time": "2022-02-27T16:48:21.282Z"
   },
   {
    "duration": 5,
    "start_time": "2022-02-27T16:48:21.310Z"
   },
   {
    "duration": 5,
    "start_time": "2022-02-27T16:48:21.317Z"
   },
   {
    "duration": 4,
    "start_time": "2022-02-27T16:48:21.323Z"
   },
   {
    "duration": 6,
    "start_time": "2022-02-27T16:48:21.328Z"
   },
   {
    "duration": 8,
    "start_time": "2022-02-27T16:48:21.336Z"
   },
   {
    "duration": 5,
    "start_time": "2022-02-27T16:48:21.345Z"
   },
   {
    "duration": 7,
    "start_time": "2022-02-27T16:48:21.352Z"
   },
   {
    "duration": 6,
    "start_time": "2022-02-27T16:48:21.360Z"
   },
   {
    "duration": 40,
    "start_time": "2022-02-27T16:48:21.367Z"
   },
   {
    "duration": 8,
    "start_time": "2022-02-27T16:48:21.408Z"
   },
   {
    "duration": 11,
    "start_time": "2022-02-27T16:48:21.417Z"
   },
   {
    "duration": 7,
    "start_time": "2022-02-27T16:48:21.430Z"
   },
   {
    "duration": 3,
    "start_time": "2022-02-27T16:48:21.438Z"
   },
   {
    "duration": 5,
    "start_time": "2022-02-27T16:48:21.442Z"
   },
   {
    "duration": 201,
    "start_time": "2022-02-27T16:48:21.448Z"
   },
   {
    "duration": 131,
    "start_time": "2022-02-27T16:48:21.653Z"
   },
   {
    "duration": 19,
    "start_time": "2022-02-27T16:48:21.786Z"
   },
   {
    "duration": 324,
    "start_time": "2022-02-27T16:48:21.806Z"
   },
   {
    "duration": 5,
    "start_time": "2022-02-27T16:48:22.132Z"
   },
   {
    "duration": 313,
    "start_time": "2022-02-27T16:48:22.139Z"
   },
   {
    "duration": 405,
    "start_time": "2022-02-27T16:48:22.454Z"
   },
   {
    "duration": 3,
    "start_time": "2022-02-27T16:48:22.860Z"
   },
   {
    "duration": 7,
    "start_time": "2022-02-27T16:48:22.865Z"
   },
   {
    "duration": 283,
    "start_time": "2022-02-27T16:48:22.873Z"
   },
   {
    "duration": 348,
    "start_time": "2022-02-27T16:48:23.157Z"
   },
   {
    "duration": 215,
    "start_time": "2022-02-27T16:48:23.507Z"
   },
   {
    "duration": 342,
    "start_time": "2022-02-27T16:48:23.724Z"
   },
   {
    "duration": 137,
    "start_time": "2022-02-27T16:48:24.068Z"
   },
   {
    "duration": 3,
    "start_time": "2022-02-27T16:48:24.207Z"
   },
   {
    "duration": 367,
    "start_time": "2022-02-27T16:48:24.212Z"
   },
   {
    "duration": 4,
    "start_time": "2022-02-27T16:48:24.581Z"
   },
   {
    "duration": 491,
    "start_time": "2022-02-27T16:48:24.587Z"
   },
   {
    "duration": 474,
    "start_time": "2022-02-27T16:48:25.079Z"
   },
   {
    "duration": 4,
    "start_time": "2022-02-27T16:48:25.554Z"
   },
   {
    "duration": 9,
    "start_time": "2022-02-27T16:48:25.559Z"
   },
   {
    "duration": 8,
    "start_time": "2022-02-27T16:48:25.569Z"
   },
   {
    "duration": 361,
    "start_time": "2022-02-27T16:48:25.579Z"
   },
   {
    "duration": -3470,
    "start_time": "2022-02-27T16:48:29.412Z"
   },
   {
    "duration": -3488,
    "start_time": "2022-02-27T16:48:29.431Z"
   },
   {
    "duration": -3540,
    "start_time": "2022-02-27T16:48:29.483Z"
   },
   {
    "duration": -3546,
    "start_time": "2022-02-27T16:48:29.490Z"
   },
   {
    "duration": -3551,
    "start_time": "2022-02-27T16:48:29.496Z"
   },
   {
    "duration": -3590,
    "start_time": "2022-02-27T16:48:29.536Z"
   },
   {
    "duration": -3610,
    "start_time": "2022-02-27T16:48:29.557Z"
   },
   {
    "duration": -3623,
    "start_time": "2022-02-27T16:48:29.571Z"
   },
   {
    "duration": -3640,
    "start_time": "2022-02-27T16:48:29.589Z"
   },
   {
    "duration": -3646,
    "start_time": "2022-02-27T16:48:29.596Z"
   },
   {
    "duration": -3651,
    "start_time": "2022-02-27T16:48:29.602Z"
   },
   {
    "duration": -3655,
    "start_time": "2022-02-27T16:48:29.607Z"
   },
   {
    "duration": 4,
    "start_time": "2022-02-27T16:50:08.017Z"
   },
   {
    "duration": 288,
    "start_time": "2022-02-27T16:52:05.397Z"
   },
   {
    "duration": 297,
    "start_time": "2022-02-27T16:52:15.244Z"
   },
   {
    "duration": 289,
    "start_time": "2022-02-27T16:52:34.142Z"
   },
   {
    "duration": 289,
    "start_time": "2022-02-27T16:53:26.242Z"
   },
   {
    "duration": 1011,
    "start_time": "2022-02-27T16:54:21.408Z"
   },
   {
    "duration": 2,
    "start_time": "2022-02-27T16:54:22.421Z"
   },
   {
    "duration": 65,
    "start_time": "2022-02-27T16:54:22.424Z"
   },
   {
    "duration": 2,
    "start_time": "2022-02-27T16:54:22.491Z"
   },
   {
    "duration": 9,
    "start_time": "2022-02-27T16:54:22.494Z"
   },
   {
    "duration": 7,
    "start_time": "2022-02-27T16:54:22.504Z"
   },
   {
    "duration": 7,
    "start_time": "2022-02-27T16:54:22.512Z"
   },
   {
    "duration": 20,
    "start_time": "2022-02-27T16:54:22.520Z"
   },
   {
    "duration": 14,
    "start_time": "2022-02-27T16:54:22.542Z"
   },
   {
    "duration": 8,
    "start_time": "2022-02-27T16:54:22.558Z"
   },
   {
    "duration": 5,
    "start_time": "2022-02-27T16:54:22.568Z"
   },
   {
    "duration": 31,
    "start_time": "2022-02-27T16:54:22.575Z"
   },
   {
    "duration": 6,
    "start_time": "2022-02-27T16:54:22.608Z"
   },
   {
    "duration": 5,
    "start_time": "2022-02-27T16:54:22.615Z"
   },
   {
    "duration": 9,
    "start_time": "2022-02-27T16:54:22.622Z"
   },
   {
    "duration": 7,
    "start_time": "2022-02-27T16:54:22.632Z"
   },
   {
    "duration": 4,
    "start_time": "2022-02-27T16:54:22.641Z"
   },
   {
    "duration": 6,
    "start_time": "2022-02-27T16:54:22.647Z"
   },
   {
    "duration": 5,
    "start_time": "2022-02-27T16:54:22.655Z"
   },
   {
    "duration": 7,
    "start_time": "2022-02-27T16:54:22.661Z"
   },
   {
    "duration": 3,
    "start_time": "2022-02-27T16:54:22.705Z"
   },
   {
    "duration": 10,
    "start_time": "2022-02-27T16:54:22.710Z"
   },
   {
    "duration": 8,
    "start_time": "2022-02-27T16:54:22.722Z"
   },
   {
    "duration": 3,
    "start_time": "2022-02-27T16:54:22.731Z"
   },
   {
    "duration": 7,
    "start_time": "2022-02-27T16:54:22.735Z"
   },
   {
    "duration": 196,
    "start_time": "2022-02-27T16:54:22.743Z"
   },
   {
    "duration": 130,
    "start_time": "2022-02-27T16:54:22.942Z"
   },
   {
    "duration": 7,
    "start_time": "2022-02-27T16:54:23.074Z"
   },
   {
    "duration": 337,
    "start_time": "2022-02-27T16:54:23.082Z"
   },
   {
    "duration": 6,
    "start_time": "2022-02-27T16:54:23.420Z"
   },
   {
    "duration": 308,
    "start_time": "2022-02-27T16:54:23.427Z"
   },
   {
    "duration": 391,
    "start_time": "2022-02-27T16:54:23.736Z"
   },
   {
    "duration": 3,
    "start_time": "2022-02-27T16:54:24.128Z"
   },
   {
    "duration": 7,
    "start_time": "2022-02-27T16:54:24.133Z"
   },
   {
    "duration": 285,
    "start_time": "2022-02-27T16:54:24.141Z"
   },
   {
    "duration": 359,
    "start_time": "2022-02-27T16:54:24.427Z"
   },
   {
    "duration": 216,
    "start_time": "2022-02-27T16:54:24.788Z"
   },
   {
    "duration": 347,
    "start_time": "2022-02-27T16:54:25.006Z"
   },
   {
    "duration": 104,
    "start_time": "2022-02-27T16:54:25.355Z"
   },
   {
    "duration": 2,
    "start_time": "2022-02-27T16:54:25.461Z"
   },
   {
    "duration": 410,
    "start_time": "2022-02-27T16:54:25.465Z"
   },
   {
    "duration": 5,
    "start_time": "2022-02-27T16:54:25.876Z"
   },
   {
    "duration": 477,
    "start_time": "2022-02-27T16:54:25.882Z"
   },
   {
    "duration": 429,
    "start_time": "2022-02-27T16:54:26.361Z"
   },
   {
    "duration": 4,
    "start_time": "2022-02-27T16:54:26.791Z"
   },
   {
    "duration": 10,
    "start_time": "2022-02-27T16:54:26.805Z"
   },
   {
    "duration": 344,
    "start_time": "2022-02-27T16:54:26.816Z"
   },
   {
    "duration": -1459,
    "start_time": "2022-02-27T16:54:28.621Z"
   },
   {
    "duration": -1462,
    "start_time": "2022-02-27T16:54:28.624Z"
   },
   {
    "duration": -1472,
    "start_time": "2022-02-27T16:54:28.635Z"
   },
   {
    "duration": -1475,
    "start_time": "2022-02-27T16:54:28.639Z"
   },
   {
    "duration": -1487,
    "start_time": "2022-02-27T16:54:28.652Z"
   },
   {
    "duration": -1490,
    "start_time": "2022-02-27T16:54:28.656Z"
   },
   {
    "duration": -1556,
    "start_time": "2022-02-27T16:54:28.723Z"
   },
   {
    "duration": -1660,
    "start_time": "2022-02-27T16:54:28.828Z"
   },
   {
    "duration": -1713,
    "start_time": "2022-02-27T16:54:28.882Z"
   },
   {
    "duration": -1717,
    "start_time": "2022-02-27T16:54:28.887Z"
   },
   {
    "duration": -1719,
    "start_time": "2022-02-27T16:54:28.890Z"
   },
   {
    "duration": -1722,
    "start_time": "2022-02-27T16:54:28.893Z"
   },
   {
    "duration": -1723,
    "start_time": "2022-02-27T16:54:28.895Z"
   },
   {
    "duration": 5,
    "start_time": "2022-02-27T16:54:37.274Z"
   },
   {
    "duration": 7,
    "start_time": "2022-02-27T16:54:54.825Z"
   },
   {
    "duration": 6,
    "start_time": "2022-02-27T16:55:47.763Z"
   },
   {
    "duration": 9,
    "start_time": "2022-02-27T16:55:52.906Z"
   },
   {
    "duration": 9,
    "start_time": "2022-02-27T16:56:03.243Z"
   },
   {
    "duration": 10,
    "start_time": "2022-02-27T16:56:08.593Z"
   },
   {
    "duration": 9,
    "start_time": "2022-02-27T16:56:12.854Z"
   },
   {
    "duration": 14,
    "start_time": "2022-02-27T16:56:20.418Z"
   },
   {
    "duration": 6,
    "start_time": "2022-02-27T16:56:28.735Z"
   },
   {
    "duration": 6,
    "start_time": "2022-02-27T16:56:45.138Z"
   },
   {
    "duration": 8,
    "start_time": "2022-02-27T16:56:56.228Z"
   },
   {
    "duration": 10,
    "start_time": "2022-02-27T16:57:00.593Z"
   },
   {
    "duration": 10,
    "start_time": "2022-02-27T16:58:41.243Z"
   },
   {
    "duration": 12,
    "start_time": "2022-02-27T16:58:45.842Z"
   },
   {
    "duration": 11,
    "start_time": "2022-02-27T17:00:21.000Z"
   },
   {
    "duration": 297,
    "start_time": "2022-02-27T17:00:39.089Z"
   },
   {
    "duration": 9,
    "start_time": "2022-02-27T17:04:57.503Z"
   },
   {
    "duration": 11,
    "start_time": "2022-02-27T17:05:14.566Z"
   },
   {
    "duration": 279,
    "start_time": "2022-02-27T17:05:22.746Z"
   },
   {
    "duration": 6899,
    "start_time": "2022-02-27T17:06:38.734Z"
   },
   {
    "duration": 93,
    "start_time": "2022-02-27T17:07:22.798Z"
   },
   {
    "duration": 276,
    "start_time": "2022-02-27T17:07:38.889Z"
   },
   {
    "duration": 15,
    "start_time": "2022-02-27T17:07:59.462Z"
   },
   {
    "duration": 7,
    "start_time": "2022-02-27T17:08:02.104Z"
   },
   {
    "duration": 15,
    "start_time": "2022-02-27T17:11:30.554Z"
   },
   {
    "duration": 282,
    "start_time": "2022-02-27T17:12:08.574Z"
   },
   {
    "duration": 13,
    "start_time": "2022-02-27T17:12:16.995Z"
   },
   {
    "duration": 9,
    "start_time": "2022-02-27T17:12:22.662Z"
   },
   {
    "duration": 14,
    "start_time": "2022-02-27T17:12:50.614Z"
   },
   {
    "duration": 10,
    "start_time": "2022-02-27T17:12:53.896Z"
   },
   {
    "duration": 14,
    "start_time": "2022-02-27T17:13:08.405Z"
   },
   {
    "duration": 6,
    "start_time": "2022-02-27T17:16:28.413Z"
   },
   {
    "duration": 6,
    "start_time": "2022-02-27T17:16:40.841Z"
   },
   {
    "duration": 7,
    "start_time": "2022-02-27T17:16:48.195Z"
   },
   {
    "duration": 6,
    "start_time": "2022-02-27T17:16:58.847Z"
   },
   {
    "duration": 296,
    "start_time": "2022-02-27T17:17:00.448Z"
   },
   {
    "duration": 271,
    "start_time": "2022-02-27T17:30:07.517Z"
   },
   {
    "duration": 6,
    "start_time": "2022-02-27T17:30:10.382Z"
   },
   {
    "duration": 4,
    "start_time": "2022-02-27T17:30:11.098Z"
   },
   {
    "duration": 12,
    "start_time": "2022-02-27T17:30:48.264Z"
   },
   {
    "duration": 8,
    "start_time": "2022-02-27T17:31:41.684Z"
   },
   {
    "duration": 4,
    "start_time": "2022-02-27T17:32:01.932Z"
   },
   {
    "duration": 268,
    "start_time": "2022-02-27T17:32:48.734Z"
   },
   {
    "duration": 4095,
    "start_time": "2022-02-27T17:35:16.980Z"
   },
   {
    "duration": 6,
    "start_time": "2022-02-27T17:35:34.616Z"
   },
   {
    "duration": 8195,
    "start_time": "2022-02-27T17:44:01.828Z"
   },
   {
    "duration": 12,
    "start_time": "2022-02-27T17:44:21.380Z"
   },
   {
    "duration": 3,
    "start_time": "2022-02-27T17:44:32.315Z"
   },
   {
    "duration": 8,
    "start_time": "2022-02-27T17:45:05.456Z"
   },
   {
    "duration": 7,
    "start_time": "2022-02-27T17:45:13.004Z"
   },
   {
    "duration": 306,
    "start_time": "2022-02-27T17:46:30.664Z"
   },
   {
    "duration": 3,
    "start_time": "2022-02-27T17:46:49.415Z"
   },
   {
    "duration": 8,
    "start_time": "2022-02-27T17:51:30.626Z"
   },
   {
    "duration": 7,
    "start_time": "2022-02-27T18:01:27.798Z"
   },
   {
    "duration": 7,
    "start_time": "2022-02-27T18:01:34.688Z"
   },
   {
    "duration": 7,
    "start_time": "2022-02-27T18:01:43.748Z"
   },
   {
    "duration": 7,
    "start_time": "2022-02-27T18:01:44.375Z"
   },
   {
    "duration": 6,
    "start_time": "2022-02-27T18:01:55.001Z"
   },
   {
    "duration": 8,
    "start_time": "2022-02-27T18:01:55.513Z"
   },
   {
    "duration": 9,
    "start_time": "2022-02-27T18:03:11.485Z"
   },
   {
    "duration": 5,
    "start_time": "2022-02-27T18:03:12.213Z"
   },
   {
    "duration": 14,
    "start_time": "2022-02-27T18:04:12.743Z"
   },
   {
    "duration": 7,
    "start_time": "2022-02-27T18:04:13.435Z"
   },
   {
    "duration": 9,
    "start_time": "2022-02-27T18:04:36.575Z"
   },
   {
    "duration": 8052,
    "start_time": "2022-02-27T18:05:05.735Z"
   },
   {
    "duration": 8,
    "start_time": "2022-02-27T18:05:17.058Z"
   },
   {
    "duration": 11,
    "start_time": "2022-02-27T18:05:32.234Z"
   },
   {
    "duration": 7661,
    "start_time": "2022-02-27T18:05:36.688Z"
   },
   {
    "duration": 991,
    "start_time": "2022-02-27T18:06:14.045Z"
   },
   {
    "duration": 2,
    "start_time": "2022-02-27T18:06:15.038Z"
   },
   {
    "duration": 66,
    "start_time": "2022-02-27T18:06:15.042Z"
   },
   {
    "duration": 4,
    "start_time": "2022-02-27T18:06:15.109Z"
   },
   {
    "duration": 8,
    "start_time": "2022-02-27T18:06:15.114Z"
   },
   {
    "duration": 7,
    "start_time": "2022-02-27T18:06:15.123Z"
   },
   {
    "duration": 7,
    "start_time": "2022-02-27T18:06:15.131Z"
   },
   {
    "duration": 19,
    "start_time": "2022-02-27T18:06:15.140Z"
   },
   {
    "duration": 14,
    "start_time": "2022-02-27T18:06:15.162Z"
   },
   {
    "duration": 10,
    "start_time": "2022-02-27T18:06:15.206Z"
   },
   {
    "duration": 6,
    "start_time": "2022-02-27T18:06:15.217Z"
   },
   {
    "duration": 6,
    "start_time": "2022-02-27T18:06:15.224Z"
   },
   {
    "duration": 6,
    "start_time": "2022-02-27T18:06:15.231Z"
   },
   {
    "duration": 4,
    "start_time": "2022-02-27T18:06:15.239Z"
   },
   {
    "duration": 5,
    "start_time": "2022-02-27T18:06:15.244Z"
   },
   {
    "duration": 8,
    "start_time": "2022-02-27T18:06:15.250Z"
   },
   {
    "duration": 3,
    "start_time": "2022-02-27T18:06:15.259Z"
   },
   {
    "duration": 43,
    "start_time": "2022-02-27T18:06:15.263Z"
   },
   {
    "duration": 6,
    "start_time": "2022-02-27T18:06:15.307Z"
   },
   {
    "duration": 11,
    "start_time": "2022-02-27T18:06:15.315Z"
   },
   {
    "duration": 5,
    "start_time": "2022-02-27T18:06:15.327Z"
   },
   {
    "duration": 12,
    "start_time": "2022-02-27T18:06:15.333Z"
   },
   {
    "duration": 9,
    "start_time": "2022-02-27T18:06:15.346Z"
   },
   {
    "duration": 6,
    "start_time": "2022-02-27T18:06:15.356Z"
   },
   {
    "duration": 6,
    "start_time": "2022-02-27T18:06:15.363Z"
   },
   {
    "duration": 201,
    "start_time": "2022-02-27T18:06:15.371Z"
   },
   {
    "duration": 139,
    "start_time": "2022-02-27T18:06:15.575Z"
   },
   {
    "duration": 6,
    "start_time": "2022-02-27T18:06:15.717Z"
   },
   {
    "duration": 330,
    "start_time": "2022-02-27T18:06:15.725Z"
   },
   {
    "duration": 6,
    "start_time": "2022-02-27T18:06:16.056Z"
   },
   {
    "duration": 314,
    "start_time": "2022-02-27T18:06:16.063Z"
   },
   {
    "duration": 430,
    "start_time": "2022-02-27T18:06:16.379Z"
   },
   {
    "duration": 3,
    "start_time": "2022-02-27T18:06:16.811Z"
   },
   {
    "duration": 9,
    "start_time": "2022-02-27T18:06:16.815Z"
   },
   {
    "duration": 283,
    "start_time": "2022-02-27T18:06:16.825Z"
   },
   {
    "duration": 377,
    "start_time": "2022-02-27T18:06:17.110Z"
   },
   {
    "duration": 219,
    "start_time": "2022-02-27T18:06:17.488Z"
   },
   {
    "duration": 355,
    "start_time": "2022-02-27T18:06:17.709Z"
   },
   {
    "duration": 120,
    "start_time": "2022-02-27T18:06:18.065Z"
   },
   {
    "duration": 3,
    "start_time": "2022-02-27T18:06:18.187Z"
   },
   {
    "duration": 412,
    "start_time": "2022-02-27T18:06:18.191Z"
   },
   {
    "duration": 5,
    "start_time": "2022-02-27T18:06:18.606Z"
   },
   {
    "duration": 516,
    "start_time": "2022-02-27T18:06:18.612Z"
   },
   {
    "duration": 431,
    "start_time": "2022-02-27T18:06:19.130Z"
   },
   {
    "duration": 4,
    "start_time": "2022-02-27T18:06:19.563Z"
   },
   {
    "duration": 12,
    "start_time": "2022-02-27T18:06:19.569Z"
   },
   {
    "duration": 23,
    "start_time": "2022-02-27T18:06:19.583Z"
   },
   {
    "duration": 6,
    "start_time": "2022-02-27T18:06:19.608Z"
   },
   {
    "duration": 13,
    "start_time": "2022-02-27T18:06:19.616Z"
   },
   {
    "duration": 6981,
    "start_time": "2022-02-27T18:06:19.631Z"
   },
   {
    "duration": -837,
    "start_time": "2022-02-27T18:06:27.450Z"
   },
   {
    "duration": -841,
    "start_time": "2022-02-27T18:06:27.455Z"
   },
   {
    "duration": -842,
    "start_time": "2022-02-27T18:06:27.457Z"
   },
   {
    "duration": -846,
    "start_time": "2022-02-27T18:06:27.462Z"
   },
   {
    "duration": -848,
    "start_time": "2022-02-27T18:06:27.465Z"
   },
   {
    "duration": -850,
    "start_time": "2022-02-27T18:06:27.468Z"
   },
   {
    "duration": -853,
    "start_time": "2022-02-27T18:06:27.471Z"
   },
   {
    "duration": -854,
    "start_time": "2022-02-27T18:06:27.473Z"
   },
   {
    "duration": -856,
    "start_time": "2022-02-27T18:06:27.476Z"
   },
   {
    "duration": -858,
    "start_time": "2022-02-27T18:06:27.478Z"
   },
   {
    "duration": -859,
    "start_time": "2022-02-27T18:06:27.480Z"
   },
   {
    "duration": 9,
    "start_time": "2022-02-27T18:06:41.846Z"
   },
   {
    "duration": 3534,
    "start_time": "2022-02-27T18:06:43.627Z"
   },
   {
    "duration": 4,
    "start_time": "2022-02-27T18:06:57.235Z"
   },
   {
    "duration": 8,
    "start_time": "2022-02-27T18:10:21.477Z"
   },
   {
    "duration": 10,
    "start_time": "2022-02-27T18:10:27.877Z"
   },
   {
    "duration": 9,
    "start_time": "2022-02-27T18:10:53.138Z"
   },
   {
    "duration": 10,
    "start_time": "2022-02-27T18:11:18.603Z"
   },
   {
    "duration": 317,
    "start_time": "2022-02-27T18:11:30.582Z"
   },
   {
    "duration": 13,
    "start_time": "2022-02-27T18:11:37.082Z"
   },
   {
    "duration": 327,
    "start_time": "2022-02-27T18:19:39.842Z"
   },
   {
    "duration": 13,
    "start_time": "2022-02-27T18:20:07.002Z"
   },
   {
    "duration": 10,
    "start_time": "2022-02-27T18:20:29.228Z"
   },
   {
    "duration": 13,
    "start_time": "2022-02-27T18:20:38.854Z"
   },
   {
    "duration": 11,
    "start_time": "2022-02-27T18:21:22.838Z"
   },
   {
    "duration": 11,
    "start_time": "2022-02-27T18:21:32.604Z"
   },
   {
    "duration": 12,
    "start_time": "2022-02-27T18:21:40.003Z"
   },
   {
    "duration": 12,
    "start_time": "2022-02-27T18:21:50.842Z"
   },
   {
    "duration": 291,
    "start_time": "2022-02-27T18:22:32.483Z"
   },
   {
    "duration": 284,
    "start_time": "2022-02-27T18:22:50.753Z"
   },
   {
    "duration": 9,
    "start_time": "2022-02-27T18:23:05.682Z"
   },
   {
    "duration": 10,
    "start_time": "2022-02-27T18:23:23.548Z"
   },
   {
    "duration": 16,
    "start_time": "2022-02-27T18:23:36.498Z"
   },
   {
    "duration": 311,
    "start_time": "2022-02-27T18:24:03.324Z"
   },
   {
    "duration": 15,
    "start_time": "2022-02-27T18:24:40.664Z"
   },
   {
    "duration": 301,
    "start_time": "2022-02-27T18:25:00.814Z"
   },
   {
    "duration": 12,
    "start_time": "2022-02-27T18:25:25.135Z"
   },
   {
    "duration": 9,
    "start_time": "2022-02-27T18:25:38.945Z"
   },
   {
    "duration": 6844,
    "start_time": "2022-02-27T18:25:48.192Z"
   },
   {
    "duration": 13,
    "start_time": "2022-02-27T18:26:11.847Z"
   },
   {
    "duration": 10,
    "start_time": "2022-02-27T18:26:26.524Z"
   },
   {
    "duration": 6,
    "start_time": "2022-02-27T18:26:29.654Z"
   },
   {
    "duration": 8,
    "start_time": "2022-02-27T18:26:31.742Z"
   },
   {
    "duration": 5,
    "start_time": "2022-02-27T18:30:13.756Z"
   },
   {
    "duration": 496,
    "start_time": "2022-02-27T18:30:21.259Z"
   },
   {
    "duration": 12,
    "start_time": "2022-02-27T18:30:34.868Z"
   },
   {
    "duration": 5,
    "start_time": "2022-02-27T18:31:51.585Z"
   },
   {
    "duration": 7229,
    "start_time": "2022-02-27T18:31:52.567Z"
   },
   {
    "duration": 12,
    "start_time": "2022-02-27T18:32:10.642Z"
   },
   {
    "duration": 5,
    "start_time": "2022-02-27T18:33:07.275Z"
   },
   {
    "duration": 11,
    "start_time": "2022-02-27T18:33:12.134Z"
   },
   {
    "duration": 6,
    "start_time": "2022-02-27T18:33:24.322Z"
   },
   {
    "duration": 3,
    "start_time": "2022-02-27T18:33:32.368Z"
   },
   {
    "duration": 484,
    "start_time": "2022-02-27T18:33:39.102Z"
   },
   {
    "duration": 8,
    "start_time": "2022-02-27T18:33:51.883Z"
   },
   {
    "duration": 5,
    "start_time": "2022-02-27T18:34:08.546Z"
   },
   {
    "duration": 10,
    "start_time": "2022-02-27T18:34:31.832Z"
   },
   {
    "duration": 8,
    "start_time": "2022-02-27T18:34:57.886Z"
   },
   {
    "duration": 449,
    "start_time": "2022-02-27T18:35:59.121Z"
   },
   {
    "duration": 3,
    "start_time": "2022-02-27T18:36:04.800Z"
   },
   {
    "duration": 6,
    "start_time": "2022-02-27T18:36:09.252Z"
   },
   {
    "duration": 5,
    "start_time": "2022-02-27T18:36:21.185Z"
   },
   {
    "duration": 6,
    "start_time": "2022-02-27T18:36:21.846Z"
   },
   {
    "duration": 3,
    "start_time": "2022-02-27T18:36:31.344Z"
   },
   {
    "duration": 7,
    "start_time": "2022-02-27T18:36:39.918Z"
   },
   {
    "duration": 459,
    "start_time": "2022-02-27T18:36:44.560Z"
   },
   {
    "duration": 8,
    "start_time": "2022-02-27T18:37:06.687Z"
   },
   {
    "duration": 3,
    "start_time": "2022-02-27T18:38:12.985Z"
   },
   {
    "duration": 8,
    "start_time": "2022-02-27T18:38:17.875Z"
   },
   {
    "duration": 8,
    "start_time": "2022-02-27T18:38:21.704Z"
   },
   {
    "duration": 4,
    "start_time": "2022-02-27T18:38:28.998Z"
   },
   {
    "duration": 266,
    "start_time": "2022-02-27T18:51:10.725Z"
   },
   {
    "duration": 7614,
    "start_time": "2022-02-27T18:51:32.456Z"
   },
   {
    "duration": 6993,
    "start_time": "2022-02-27T18:51:56.014Z"
   },
   {
    "duration": 7569,
    "start_time": "2022-02-27T18:52:29.248Z"
   },
   {
    "duration": 7,
    "start_time": "2022-02-27T18:56:24.634Z"
   },
   {
    "duration": 271,
    "start_time": "2022-02-27T18:59:15.214Z"
   },
   {
    "duration": 275,
    "start_time": "2022-02-27T18:59:22.054Z"
   },
   {
    "duration": 7,
    "start_time": "2022-02-27T18:59:56.795Z"
   },
   {
    "duration": 337,
    "start_time": "2022-02-27T19:02:27.038Z"
   },
   {
    "duration": 11,
    "start_time": "2022-02-27T19:02:30.553Z"
   },
   {
    "duration": 7,
    "start_time": "2022-02-27T19:03:25.935Z"
   },
   {
    "duration": 8,
    "start_time": "2022-02-27T19:03:29.924Z"
   },
   {
    "duration": 273,
    "start_time": "2022-02-27T19:04:32.144Z"
   },
   {
    "duration": 8,
    "start_time": "2022-02-27T19:04:38.479Z"
   },
   {
    "duration": 4,
    "start_time": "2022-02-27T19:04:42.509Z"
   },
   {
    "duration": 6822,
    "start_time": "2022-02-27T19:06:52.069Z"
   },
   {
    "duration": 6859,
    "start_time": "2022-02-27T19:07:22.119Z"
   },
   {
    "duration": 7,
    "start_time": "2022-02-27T19:07:35.916Z"
   },
   {
    "duration": 7172,
    "start_time": "2022-02-27T19:08:20.685Z"
   },
   {
    "duration": 7377,
    "start_time": "2022-02-27T19:08:52.378Z"
   },
   {
    "duration": 7,
    "start_time": "2022-02-27T19:10:41.948Z"
   },
   {
    "duration": 7190,
    "start_time": "2022-02-27T19:12:17.837Z"
   },
   {
    "duration": 7,
    "start_time": "2022-02-27T19:13:13.720Z"
   },
   {
    "duration": 2,
    "start_time": "2022-02-27T19:13:36.936Z"
   },
   {
    "duration": 7,
    "start_time": "2022-02-27T19:13:47.554Z"
   },
   {
    "duration": 6942,
    "start_time": "2022-02-27T19:14:09.443Z"
   },
   {
    "duration": 1041,
    "start_time": "2022-02-27T19:14:38.871Z"
   },
   {
    "duration": 3,
    "start_time": "2022-02-27T19:14:39.913Z"
   },
   {
    "duration": 77,
    "start_time": "2022-02-27T19:14:39.918Z"
   },
   {
    "duration": 2,
    "start_time": "2022-02-27T19:14:39.997Z"
   },
   {
    "duration": 8,
    "start_time": "2022-02-27T19:14:40.000Z"
   },
   {
    "duration": 7,
    "start_time": "2022-02-27T19:14:40.009Z"
   },
   {
    "duration": 8,
    "start_time": "2022-02-27T19:14:40.018Z"
   },
   {
    "duration": 21,
    "start_time": "2022-02-27T19:14:40.028Z"
   },
   {
    "duration": 14,
    "start_time": "2022-02-27T19:14:40.051Z"
   },
   {
    "duration": 9,
    "start_time": "2022-02-27T19:14:40.066Z"
   },
   {
    "duration": 28,
    "start_time": "2022-02-27T19:14:40.077Z"
   },
   {
    "duration": 4,
    "start_time": "2022-02-27T19:14:40.107Z"
   },
   {
    "duration": 6,
    "start_time": "2022-02-27T19:14:40.112Z"
   },
   {
    "duration": 4,
    "start_time": "2022-02-27T19:14:40.119Z"
   },
   {
    "duration": 7,
    "start_time": "2022-02-27T19:14:40.124Z"
   },
   {
    "duration": 9,
    "start_time": "2022-02-27T19:14:40.132Z"
   },
   {
    "duration": 3,
    "start_time": "2022-02-27T19:14:40.142Z"
   },
   {
    "duration": 9,
    "start_time": "2022-02-27T19:14:40.147Z"
   },
   {
    "duration": 5,
    "start_time": "2022-02-27T19:14:40.158Z"
   },
   {
    "duration": 8,
    "start_time": "2022-02-27T19:14:40.164Z"
   },
   {
    "duration": 3,
    "start_time": "2022-02-27T19:14:40.205Z"
   },
   {
    "duration": 11,
    "start_time": "2022-02-27T19:14:40.209Z"
   },
   {
    "duration": 7,
    "start_time": "2022-02-27T19:14:40.223Z"
   },
   {
    "duration": 2,
    "start_time": "2022-02-27T19:14:40.232Z"
   },
   {
    "duration": 5,
    "start_time": "2022-02-27T19:14:40.235Z"
   },
   {
    "duration": 197,
    "start_time": "2022-02-27T19:14:40.241Z"
   },
   {
    "duration": 136,
    "start_time": "2022-02-27T19:14:40.440Z"
   },
   {
    "duration": 5,
    "start_time": "2022-02-27T19:14:40.577Z"
   },
   {
    "duration": 333,
    "start_time": "2022-02-27T19:14:40.584Z"
   },
   {
    "duration": 6,
    "start_time": "2022-02-27T19:14:40.918Z"
   },
   {
    "duration": 319,
    "start_time": "2022-02-27T19:14:40.926Z"
   },
   {
    "duration": 404,
    "start_time": "2022-02-27T19:14:41.246Z"
   },
   {
    "duration": 3,
    "start_time": "2022-02-27T19:14:41.652Z"
   },
   {
    "duration": 7,
    "start_time": "2022-02-27T19:14:41.657Z"
   },
   {
    "duration": 288,
    "start_time": "2022-02-27T19:14:41.666Z"
   },
   {
    "duration": 381,
    "start_time": "2022-02-27T19:14:41.956Z"
   },
   {
    "duration": 214,
    "start_time": "2022-02-27T19:14:42.339Z"
   },
   {
    "duration": 339,
    "start_time": "2022-02-27T19:14:42.555Z"
   },
   {
    "duration": 131,
    "start_time": "2022-02-27T19:14:42.895Z"
   },
   {
    "duration": 3,
    "start_time": "2022-02-27T19:14:43.027Z"
   },
   {
    "duration": 369,
    "start_time": "2022-02-27T19:14:43.032Z"
   },
   {
    "duration": 5,
    "start_time": "2022-02-27T19:14:43.406Z"
   },
   {
    "duration": 480,
    "start_time": "2022-02-27T19:14:43.412Z"
   },
   {
    "duration": 458,
    "start_time": "2022-02-27T19:14:43.894Z"
   },
   {
    "duration": 4,
    "start_time": "2022-02-27T19:14:44.353Z"
   },
   {
    "duration": 10,
    "start_time": "2022-02-27T19:14:44.358Z"
   },
   {
    "duration": 8,
    "start_time": "2022-02-27T19:14:44.369Z"
   },
   {
    "duration": 5,
    "start_time": "2022-02-27T19:14:44.378Z"
   },
   {
    "duration": 11,
    "start_time": "2022-02-27T19:14:44.405Z"
   },
   {
    "duration": 4,
    "start_time": "2022-02-27T19:14:44.418Z"
   },
   {
    "duration": 3,
    "start_time": "2022-02-27T19:14:44.423Z"
   },
   {
    "duration": 5,
    "start_time": "2022-02-27T19:14:44.428Z"
   },
   {
    "duration": 11,
    "start_time": "2022-02-27T19:14:44.434Z"
   },
   {
    "duration": 7,
    "start_time": "2022-02-27T19:14:44.446Z"
   },
   {
    "duration": 7151,
    "start_time": "2022-02-27T19:14:44.455Z"
   },
   {
    "duration": -1116,
    "start_time": "2022-02-27T19:14:52.724Z"
   },
   {
    "duration": -1119,
    "start_time": "2022-02-27T19:14:52.727Z"
   },
   {
    "duration": -1119,
    "start_time": "2022-02-27T19:14:52.729Z"
   },
   {
    "duration": -1139,
    "start_time": "2022-02-27T19:14:52.749Z"
   },
   {
    "duration": -1143,
    "start_time": "2022-02-27T19:14:52.754Z"
   },
   {
    "duration": -1149,
    "start_time": "2022-02-27T19:14:52.762Z"
   },
   {
    "duration": -1171,
    "start_time": "2022-02-27T19:14:52.785Z"
   },
   {
    "duration": -1190,
    "start_time": "2022-02-27T19:14:52.805Z"
   },
   {
    "duration": 7,
    "start_time": "2022-02-27T19:15:51.522Z"
   },
   {
    "duration": 6696,
    "start_time": "2022-02-27T19:15:56.155Z"
   },
   {
    "duration": 7029,
    "start_time": "2022-02-27T19:17:29.030Z"
   },
   {
    "duration": 8054,
    "start_time": "2022-02-27T19:18:48.598Z"
   },
   {
    "duration": 4,
    "start_time": "2022-02-27T19:19:07.758Z"
   },
   {
    "duration": 6,
    "start_time": "2022-02-27T19:19:11.220Z"
   },
   {
    "duration": 7202,
    "start_time": "2022-02-27T19:25:19.170Z"
   },
   {
    "duration": 9,
    "start_time": "2022-02-27T19:25:57.511Z"
   },
   {
    "duration": 10,
    "start_time": "2022-02-27T19:26:10.048Z"
   },
   {
    "duration": 10,
    "start_time": "2022-02-27T19:26:31.491Z"
   },
   {
    "duration": 9,
    "start_time": "2022-02-27T19:26:34.531Z"
   },
   {
    "duration": 11,
    "start_time": "2022-02-27T19:26:42.326Z"
   },
   {
    "duration": 8,
    "start_time": "2022-02-27T19:27:14.711Z"
   },
   {
    "duration": 4780,
    "start_time": "2022-02-27T19:28:40.047Z"
   },
   {
    "duration": 4342,
    "start_time": "2022-02-27T19:29:35.604Z"
   },
   {
    "duration": 5,
    "start_time": "2022-02-27T19:29:54.384Z"
   },
   {
    "duration": 5,
    "start_time": "2022-02-27T19:32:42.129Z"
   },
   {
    "duration": 13,
    "start_time": "2022-02-27T19:32:48.415Z"
   },
   {
    "duration": 7,
    "start_time": "2022-02-27T19:33:41.529Z"
   },
   {
    "duration": 7580,
    "start_time": "2022-02-27T19:34:05.671Z"
   },
   {
    "duration": 3,
    "start_time": "2022-02-27T19:34:57.570Z"
   },
   {
    "duration": 1126,
    "start_time": "2022-02-27T19:35:22.213Z"
   },
   {
    "duration": 9,
    "start_time": "2022-02-27T19:35:29.495Z"
   },
   {
    "duration": 3,
    "start_time": "2022-02-27T19:37:51.724Z"
   },
   {
    "duration": 6,
    "start_time": "2022-02-27T19:38:30.788Z"
   },
   {
    "duration": 12,
    "start_time": "2022-02-27T19:42:12.160Z"
   },
   {
    "duration": 6,
    "start_time": "2022-02-27T19:42:47.398Z"
   },
   {
    "duration": 4,
    "start_time": "2022-02-27T19:43:02.787Z"
   },
   {
    "duration": 5,
    "start_time": "2022-02-27T19:43:11.463Z"
   },
   {
    "duration": 409,
    "start_time": "2022-02-27T19:43:16.736Z"
   },
   {
    "duration": 419,
    "start_time": "2022-02-27T19:43:18.638Z"
   },
   {
    "duration": 457,
    "start_time": "2022-02-27T19:43:20.288Z"
   },
   {
    "duration": 1007,
    "start_time": "2022-02-28T08:41:33.234Z"
   },
   {
    "duration": 2,
    "start_time": "2022-02-28T08:41:34.243Z"
   },
   {
    "duration": 183,
    "start_time": "2022-02-28T08:41:34.247Z"
   },
   {
    "duration": 2,
    "start_time": "2022-02-28T08:41:34.432Z"
   },
   {
    "duration": 21,
    "start_time": "2022-02-28T08:41:34.436Z"
   },
   {
    "duration": 27,
    "start_time": "2022-02-28T08:41:34.459Z"
   },
   {
    "duration": 23,
    "start_time": "2022-02-28T08:41:34.487Z"
   },
   {
    "duration": 33,
    "start_time": "2022-02-28T08:41:34.513Z"
   },
   {
    "duration": 26,
    "start_time": "2022-02-28T08:41:34.548Z"
   },
   {
    "duration": 16,
    "start_time": "2022-02-28T08:41:34.576Z"
   },
   {
    "duration": 34,
    "start_time": "2022-02-28T08:41:34.593Z"
   },
   {
    "duration": 22,
    "start_time": "2022-02-28T08:41:34.628Z"
   },
   {
    "duration": 16,
    "start_time": "2022-02-28T08:41:34.652Z"
   },
   {
    "duration": 27,
    "start_time": "2022-02-28T08:41:34.669Z"
   },
   {
    "duration": 17,
    "start_time": "2022-02-28T08:41:34.697Z"
   },
   {
    "duration": 24,
    "start_time": "2022-02-28T08:41:34.715Z"
   },
   {
    "duration": 20,
    "start_time": "2022-02-28T08:41:34.741Z"
   },
   {
    "duration": 34,
    "start_time": "2022-02-28T08:41:34.763Z"
   },
   {
    "duration": 35,
    "start_time": "2022-02-28T08:41:34.798Z"
   },
   {
    "duration": 27,
    "start_time": "2022-02-28T08:41:34.834Z"
   },
   {
    "duration": 19,
    "start_time": "2022-02-28T08:41:34.862Z"
   },
   {
    "duration": 24,
    "start_time": "2022-02-28T08:41:34.883Z"
   },
   {
    "duration": 31,
    "start_time": "2022-02-28T08:41:34.910Z"
   },
   {
    "duration": 11,
    "start_time": "2022-02-28T08:41:34.942Z"
   },
   {
    "duration": 20,
    "start_time": "2022-02-28T08:41:34.954Z"
   },
   {
    "duration": 212,
    "start_time": "2022-02-28T08:41:34.976Z"
   },
   {
    "duration": 141,
    "start_time": "2022-02-28T08:41:35.190Z"
   },
   {
    "duration": 11,
    "start_time": "2022-02-28T08:41:35.333Z"
   },
   {
    "duration": 370,
    "start_time": "2022-02-28T08:41:35.346Z"
   },
   {
    "duration": 6,
    "start_time": "2022-02-28T08:41:35.718Z"
   },
   {
    "duration": 367,
    "start_time": "2022-02-28T08:41:35.725Z"
   },
   {
    "duration": 450,
    "start_time": "2022-02-28T08:41:36.094Z"
   },
   {
    "duration": 3,
    "start_time": "2022-02-28T08:41:36.546Z"
   },
   {
    "duration": 27,
    "start_time": "2022-02-28T08:41:36.550Z"
   },
   {
    "duration": 336,
    "start_time": "2022-02-28T08:41:36.578Z"
   },
   {
    "duration": 396,
    "start_time": "2022-02-28T08:41:36.916Z"
   },
   {
    "duration": 232,
    "start_time": "2022-02-28T08:41:37.314Z"
   },
   {
    "duration": 359,
    "start_time": "2022-02-28T08:41:37.548Z"
   },
   {
    "duration": 120,
    "start_time": "2022-02-28T08:41:37.909Z"
   },
   {
    "duration": 4,
    "start_time": "2022-02-28T08:41:38.031Z"
   },
   {
    "duration": 388,
    "start_time": "2022-02-28T08:41:38.037Z"
   },
   {
    "duration": 4,
    "start_time": "2022-02-28T08:41:38.427Z"
   },
   {
    "duration": 547,
    "start_time": "2022-02-28T08:41:38.432Z"
   },
   {
    "duration": 500,
    "start_time": "2022-02-28T08:41:38.981Z"
   },
   {
    "duration": 3,
    "start_time": "2022-02-28T08:41:39.483Z"
   },
   {
    "duration": 15,
    "start_time": "2022-02-28T08:41:39.488Z"
   },
   {
    "duration": 8,
    "start_time": "2022-02-28T08:41:39.506Z"
   },
   {
    "duration": 18,
    "start_time": "2022-02-28T08:41:39.516Z"
   },
   {
    "duration": 24,
    "start_time": "2022-02-28T08:41:39.536Z"
   },
   {
    "duration": 9,
    "start_time": "2022-02-28T08:41:39.562Z"
   },
   {
    "duration": 17,
    "start_time": "2022-02-28T08:41:39.572Z"
   },
   {
    "duration": 15,
    "start_time": "2022-02-28T08:41:39.590Z"
   },
   {
    "duration": 14,
    "start_time": "2022-02-28T08:41:39.606Z"
   },
   {
    "duration": 13,
    "start_time": "2022-02-28T08:41:39.623Z"
   },
   {
    "duration": 21,
    "start_time": "2022-02-28T08:41:39.638Z"
   },
   {
    "duration": 23,
    "start_time": "2022-02-28T08:41:39.660Z"
   },
   {
    "duration": 29,
    "start_time": "2022-02-28T08:41:39.684Z"
   },
   {
    "duration": 7,
    "start_time": "2022-02-28T08:41:39.715Z"
   },
   {
    "duration": 15,
    "start_time": "2022-02-28T08:41:39.724Z"
   },
   {
    "duration": 16,
    "start_time": "2022-02-28T08:41:39.740Z"
   },
   {
    "duration": 450,
    "start_time": "2022-02-28T08:41:39.757Z"
   },
   {
    "duration": 449,
    "start_time": "2022-02-28T08:41:40.210Z"
   },
   {
    "duration": 436,
    "start_time": "2022-02-28T08:41:40.661Z"
   }
  ],
  "kernelspec": {
   "display_name": "Python 3",
   "language": "python",
   "name": "python3"
  },
  "language_info": {
   "codemirror_mode": {
    "name": "ipython",
    "version": 3
   },
   "file_extension": ".py",
   "mimetype": "text/x-python",
   "name": "python",
   "nbconvert_exporter": "python",
   "pygments_lexer": "ipython3",
   "version": "3.7.8"
  },
  "toc": {
   "base_numbering": 1,
   "nav_menu": {},
   "number_sections": true,
   "sideBar": true,
   "skip_h1_title": true,
   "title_cell": "Table of Contents",
   "title_sidebar": "Contents",
   "toc_cell": false,
   "toc_position": {},
   "toc_section_display": true,
   "toc_window_display": false
  }
 },
 "nbformat": 4,
 "nbformat_minor": 2
}

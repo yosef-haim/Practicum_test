{
 "cells": [
  {
   "cell_type": "markdown",
   "metadata": {},
   "source": [
    "<div style=\"border:solid green 2px; padding: 20px\"> \n",
    "    \n",
    "Hello Yosef, \n",
    "    \n",
    "    \n",
    "my name is Aleksandra. I'm going to review your project! Nice to meet you! 🙌\n",
    "\n",
    "You can find my comments under the heading **«Review»**. I will categorize my comments in green, blue or red boxes like this:\n",
    "\n",
    "<div class=\"alert alert-success\">\n",
    "    <b>Success:</b> if everything is done successfully\n",
    "</div>\n",
    "<div class=\"alert alert-warning\">\n",
    "    <b>Remarks:</b> if I can give some recommendations or ways to improve the project\n",
    "</div>\n",
    "<div class=\"alert alert-danger\">\n",
    "    <b>Needs fixing:</b> if the block requires some corrections. Work can't be accepted with the red comments\n",
    "</div>\n",
    "\n",
    "Please don't remove my comments :) If you have any questions don't hesitate to respond to my comments in a different section. "
   ]
  },
  {
   "cell_type": "markdown",
   "metadata": {},
   "source": [
    "<div class=\"alert alert-block alert-success\">\n",
    "<b>Overall reviewer's comment v1</b> <a class=\"tocSkip\"></a>\n",
    "    \n",
    "Yosef, thanks a lot for the project! Great job! Everything is perfect. I can see that a lot of efforts have been made, and it turned out to be very strong. You work very carefully with data and you make qualitative assumptions - like a real analyst. \n",
    "    \n",
    "Let's make your work even greater:\n",
    "    \n",
    "- find out, when do people start buying (time between registration and conversion)\n",
    "- how many orders do they make\n",
    "- the average purchase size\n",
    "- enrich the project with plots\n",
    "    \n",
    "I left guidance ones as we went along. Will look forward for your work!"
   ]
  },
  {
   "cell_type": "markdown",
   "metadata": {},
   "source": [
    "<div class=\"alert alert-block alert-success\">\n",
    "<b>Overall reviewer's comment v2</b> <a class=\"tocSkip\"></a>\n",
    "\n",
    "Yosef, thanks again for the project! Everything is perfect now. There are no critical comments. Good luck at next steps!"
   ]
  },
  {
   "cell_type": "markdown",
   "metadata": {},
   "source": [
    "# Project description"
   ]
  },
  {
   "cell_type": "markdown",
   "metadata": {},
   "source": [
    "In my porject my first task is to help optimize marketing expenses, in a company that I've been offered an internship in the analytical department at Yandex.Afisha."
   ]
  },
  {
   "cell_type": "markdown",
   "metadata": {},
   "source": [
    "# Loading that data"
   ]
  },
  {
   "cell_type": "code",
   "execution_count": 1,
   "metadata": {},
   "outputs": [],
   "source": [
    "import pandas as pd"
   ]
  },
  {
   "cell_type": "code",
   "execution_count": 2,
   "metadata": {},
   "outputs": [],
   "source": [
    "visits_log = pd.read_csv('/datasets/visits_log_us.csv')\n",
    "orders_log = pd.read_csv('/datasets/orders_log_us.csv')\n",
    "costs_log = pd.read_csv('/datasets/costs_us.csv')"
   ]
  },
  {
   "cell_type": "code",
   "execution_count": 3,
   "metadata": {},
   "outputs": [
    {
     "name": "stdout",
     "output_type": "stream",
     "text": [
      "<class 'pandas.core.frame.DataFrame'>\n",
      "RangeIndex: 359400 entries, 0 to 359399\n",
      "Data columns (total 5 columns):\n",
      "Device       359400 non-null object\n",
      "End Ts       359400 non-null object\n",
      "Source Id    359400 non-null int64\n",
      "Start Ts     359400 non-null object\n",
      "Uid          359400 non-null uint64\n",
      "dtypes: int64(1), object(3), uint64(1)\n",
      "memory usage: 13.7+ MB\n",
      "None\n"
     ]
    }
   ],
   "source": [
    "print(visits_log.info())"
   ]
  },
  {
   "cell_type": "code",
   "execution_count": 4,
   "metadata": {},
   "outputs": [
    {
     "name": "stdout",
     "output_type": "stream",
     "text": [
      "<class 'pandas.core.frame.DataFrame'>\n",
      "RangeIndex: 50415 entries, 0 to 50414\n",
      "Data columns (total 3 columns):\n",
      "Buy Ts     50415 non-null object\n",
      "Revenue    50415 non-null float64\n",
      "Uid        50415 non-null uint64\n",
      "dtypes: float64(1), object(1), uint64(1)\n",
      "memory usage: 1.2+ MB\n",
      "None\n"
     ]
    }
   ],
   "source": [
    "print(orders_log.info())"
   ]
  },
  {
   "cell_type": "code",
   "execution_count": 5,
   "metadata": {},
   "outputs": [
    {
     "name": "stdout",
     "output_type": "stream",
     "text": [
      "<class 'pandas.core.frame.DataFrame'>\n",
      "RangeIndex: 2542 entries, 0 to 2541\n",
      "Data columns (total 3 columns):\n",
      "source_id    2542 non-null int64\n",
      "dt           2542 non-null object\n",
      "costs        2542 non-null float64\n",
      "dtypes: float64(1), int64(1), object(1)\n",
      "memory usage: 59.7+ KB\n",
      "None\n"
     ]
    }
   ],
   "source": [
    "print(costs_log.info())"
   ]
  },
  {
   "cell_type": "markdown",
   "metadata": {},
   "source": [
    "# Preparation before analayz\n",
    "In this this section I will prepare the data before analayzing it.\n",
    "I'll work with the next checklist:\n",
    "\n",
    "1)Changing data type\n",
    "\n",
    "2)Checking missing values\n",
    "\n",
    "3)Checknig and droping duplicates\n",
    "\n",
    "4)Make the file lighter so I can work with it easily."
   ]
  },
  {
   "cell_type": "markdown",
   "metadata": {},
   "source": [
    "<div class=\"alert alert-block alert-success\">\n",
    "<b>Reviewer's comment v1</b>\n",
    "    \n",
    "Correct, let's do it!"
   ]
  },
  {
   "cell_type": "markdown",
   "metadata": {},
   "source": [
    "# Changing data type"
   ]
  },
  {
   "cell_type": "code",
   "execution_count": 6,
   "metadata": {},
   "outputs": [],
   "source": [
    "visits_log['Start Ts'] = pd.to_datetime(visits_log['Start Ts'],  format='%Y-%m-%d %H:%M:%S')\n",
    "visits_log['End Ts'] = pd.to_datetime(visits_log['End Ts'],  format='%Y-%m-%d %H:%M:%S')"
   ]
  },
  {
   "cell_type": "code",
   "execution_count": 7,
   "metadata": {},
   "outputs": [],
   "source": [
    "orders_log['Buy Ts'] = pd.to_datetime(orders_log['Buy Ts'], format='%Y-%m-%d %H:%M:%S')"
   ]
  },
  {
   "cell_type": "code",
   "execution_count": 8,
   "metadata": {},
   "outputs": [],
   "source": [
    "costs_log['dt'] = pd.to_datetime(costs_log['dt'], format='%Y-%m-%d %H:%M:%S')"
   ]
  },
  {
   "cell_type": "markdown",
   "metadata": {},
   "source": [
    "# Checking for missing values"
   ]
  },
  {
   "cell_type": "code",
   "execution_count": 9,
   "metadata": {},
   "outputs": [
    {
     "data": {
      "text/plain": [
       "Device       0\n",
       "End Ts       0\n",
       "Source Id    0\n",
       "Start Ts     0\n",
       "Uid          0\n",
       "dtype: int64"
      ]
     },
     "execution_count": 9,
     "metadata": {},
     "output_type": "execute_result"
    }
   ],
   "source": [
    "visits_log.isna().sum()"
   ]
  },
  {
   "cell_type": "code",
   "execution_count": 10,
   "metadata": {},
   "outputs": [
    {
     "data": {
      "text/plain": [
       "Buy Ts     0\n",
       "Revenue    0\n",
       "Uid        0\n",
       "dtype: int64"
      ]
     },
     "execution_count": 10,
     "metadata": {},
     "output_type": "execute_result"
    }
   ],
   "source": [
    "orders_log.isna().sum()"
   ]
  },
  {
   "cell_type": "code",
   "execution_count": 11,
   "metadata": {},
   "outputs": [
    {
     "data": {
      "text/plain": [
       "source_id    0\n",
       "dt           0\n",
       "costs        0\n",
       "dtype: int64"
      ]
     },
     "execution_count": 11,
     "metadata": {},
     "output_type": "execute_result"
    }
   ],
   "source": [
    "costs_log.isna().sum()"
   ]
  },
  {
   "cell_type": "markdown",
   "metadata": {},
   "source": [
    "There are no missing values."
   ]
  },
  {
   "cell_type": "markdown",
   "metadata": {},
   "source": [
    "<div class=\"alert alert-block alert-success\">\n",
    "<b>Reviewer's comment v1</b>\n",
    "    \n",
    "Right"
   ]
  },
  {
   "cell_type": "markdown",
   "metadata": {},
   "source": [
    "# Checknig and droping duplicates"
   ]
  },
  {
   "cell_type": "code",
   "execution_count": 12,
   "metadata": {},
   "outputs": [
    {
     "data": {
      "text/plain": [
       "0"
      ]
     },
     "execution_count": 12,
     "metadata": {},
     "output_type": "execute_result"
    }
   ],
   "source": [
    "visits_log.duplicated().sum()"
   ]
  },
  {
   "cell_type": "code",
   "execution_count": 13,
   "metadata": {},
   "outputs": [
    {
     "data": {
      "text/plain": [
       "0"
      ]
     },
     "execution_count": 13,
     "metadata": {},
     "output_type": "execute_result"
    }
   ],
   "source": [
    "orders_log.duplicated().sum()"
   ]
  },
  {
   "cell_type": "code",
   "execution_count": 14,
   "metadata": {},
   "outputs": [
    {
     "data": {
      "text/plain": [
       "0"
      ]
     },
     "execution_count": 14,
     "metadata": {},
     "output_type": "execute_result"
    }
   ],
   "source": [
    "costs_log.duplicated().sum()"
   ]
  },
  {
   "cell_type": "markdown",
   "metadata": {},
   "source": [
    "There are no duplicates"
   ]
  },
  {
   "cell_type": "markdown",
   "metadata": {},
   "source": [
    "# Optimizing the file and make the file lighter"
   ]
  },
  {
   "cell_type": "code",
   "execution_count": 15,
   "metadata": {},
   "outputs": [
    {
     "data": {
      "text/plain": [
       "desktop    262567\n",
       "touch       96833\n",
       "Name: Device, dtype: int64"
      ]
     },
     "execution_count": 15,
     "metadata": {},
     "output_type": "execute_result"
    }
   ],
   "source": [
    "visits_log['Device'].value_counts()"
   ]
  },
  {
   "cell_type": "markdown",
   "metadata": {},
   "source": [
    "It seem that there are only two values in this column therefore they can be change to some other data type like 'category'"
   ]
  },
  {
   "cell_type": "code",
   "execution_count": 16,
   "metadata": {},
   "outputs": [],
   "source": [
    "visits_log['Device'] = visits_log['Device'].astype('category')"
   ]
  },
  {
   "cell_type": "code",
   "execution_count": 17,
   "metadata": {},
   "outputs": [
    {
     "name": "stdout",
     "output_type": "stream",
     "text": [
      "<class 'pandas.core.frame.DataFrame'>\n",
      "RangeIndex: 359400 entries, 0 to 359399\n",
      "Data columns (total 5 columns):\n",
      "Device       359400 non-null category\n",
      "End Ts       359400 non-null datetime64[ns]\n",
      "Source Id    359400 non-null int64\n",
      "Start Ts     359400 non-null datetime64[ns]\n",
      "Uid          359400 non-null uint64\n",
      "dtypes: category(1), datetime64[ns](2), int64(1), uint64(1)\n",
      "memory usage: 11.3 MB\n"
     ]
    }
   ],
   "source": [
    "visits_log.info(memory_usage='deep')"
   ]
  },
  {
   "cell_type": "markdown",
   "metadata": {},
   "source": [
    "Good! Indeed the file weight less then before!"
   ]
  },
  {
   "cell_type": "markdown",
   "metadata": {},
   "source": [
    "First mission accomplished!"
   ]
  },
  {
   "cell_type": "markdown",
   "metadata": {},
   "source": [
    "<div class=\"alert alert-block alert-success\">\n",
    "<b>Reviewer's comment v1</b> Well done!"
   ]
  },
  {
   "cell_type": "markdown",
   "metadata": {},
   "source": [
    "#  Making a report and calculate metrics"
   ]
  },
  {
   "cell_type": "markdown",
   "metadata": {},
   "source": [
    "<div class=\"alert alert-block alert-danger\">\n",
    "<b>Reviewer's comment v1</b>\n",
    "\n",
    "<s>Let's also check how many people use it every day, week, and month"
   ]
  },
  {
   "cell_type": "markdown",
   "metadata": {},
   "source": [
    "visit_pivot and cohort month shows the number of visits per week and month for the period"
   ]
  },
  {
   "cell_type": "markdown",
   "metadata": {},
   "source": [
    "Let's check the session per day/week/month"
   ]
  },
  {
   "cell_type": "code",
   "execution_count": 18,
   "metadata": {},
   "outputs": [],
   "source": [
    "import numpy as np"
   ]
  },
  {
   "cell_type": "code",
   "execution_count": 19,
   "metadata": {},
   "outputs": [],
   "source": [
    "visits_log['Start Ts_date'] = visits_log['Start Ts'].dt.date"
   ]
  },
  {
   "cell_type": "code",
   "execution_count": 20,
   "metadata": {},
   "outputs": [],
   "source": [
    "first_session_by_id = visits_log.groupby('Uid')['Start Ts_date'].min()\n",
    "first_session_by_id.name = 'first_session'\n",
    "visits_log = visits_log.join(first_session_by_id, on='Uid')\n",
    "visits_log['first_session_month'] = visits_log['first_session'].astype('datetime64[M]')\n",
    "visits_log['session_month'] = visits_log['Start Ts_date'].astype('datetime64[M]')"
   ]
  },
  {
   "cell_type": "markdown",
   "metadata": {},
   "source": [
    "<div class=\"alert alert-block alert-success\">\n",
    "<b>Reviewer's comment v1</b> Dataframes usually contain data for several years. It is important to choose the correct method for drawing a month, otherwise the months of different years can become one month. Great that you use the  astype('datetime64[M]') method. You do not need to call pd.DatetimeIndex"
   ]
  },
  {
   "cell_type": "code",
   "execution_count": 21,
   "metadata": {},
   "outputs": [],
   "source": [
    "cohorts_month = visits_log.pivot_table(index='first_session_month', columns='session_month', values='Uid', aggfunc='count')"
   ]
  },
  {
   "cell_type": "code",
   "execution_count": 22,
   "metadata": {},
   "outputs": [],
   "source": [
    "visits_log['session_week'] = pd.to_datetime(visits_log['Start Ts_date']) - pd.to_timedelta(visits_log['Start Ts_date'].astype('datetime64').dt.dayofweek, unit='d')\n",
    "visits_log['first_session_week'] = pd.to_datetime(visits_log['first_session']) - pd.to_timedelta(visits_log['first_session'].astype('datetime64').dt.dayofweek, unit='d')"
   ]
  },
  {
   "cell_type": "code",
   "execution_count": 23,
   "metadata": {},
   "outputs": [],
   "source": [
    "visits_log['cohort_lifetime'] = (\n",
    "    visits_log['session_week'] - visits_log['first_session_week']\n",
    ") / np.timedelta64(1,'W')\n",
    "visits_log['cohort_lifetime'] = visits_log['cohort_lifetime'].astype(int)\n",
    "\n",
    "visits_log['cohort_lifetime_month'] = (\n",
    "    visits_log['session_month'] - visits_log['first_session_month']\n",
    ") / np.timedelta64(1,'M')\n",
    "visits_log['cohort_lifetime_month'] = visits_log['cohort_lifetime_month'].astype(int)"
   ]
  },
  {
   "cell_type": "code",
   "execution_count": 24,
   "metadata": {},
   "outputs": [],
   "source": [
    "cohorts = (\n",
    "    visits_log.groupby(['first_session_week', 'cohort_lifetime']).agg({'Uid': 'count'})\n",
    "    .reset_index()\n",
    ")\n",
    "initial_users = cohorts[cohorts['cohort_lifetime'] == 0][['first_session_week', 'Uid']]\n",
    "initial_users = initial_users.rename(\n",
    "    columns={'Uid': 'cohorts_visits'}\n",
    ")"
   ]
  },
  {
   "cell_type": "code",
   "execution_count": 25,
   "metadata": {},
   "outputs": [],
   "source": [
    "visits_log = visits_log.merge(initial_users, on='first_session_week')"
   ]
  },
  {
   "cell_type": "code",
   "execution_count": 26,
   "metadata": {},
   "outputs": [
    {
     "data": {
      "text/html": [
       "<div>\n",
       "<style scoped>\n",
       "    .dataframe tbody tr th:only-of-type {\n",
       "        vertical-align: middle;\n",
       "    }\n",
       "\n",
       "    .dataframe tbody tr th {\n",
       "        vertical-align: top;\n",
       "    }\n",
       "\n",
       "    .dataframe thead th {\n",
       "        text-align: right;\n",
       "    }\n",
       "</style>\n",
       "<table border=\"1\" class=\"dataframe\">\n",
       "  <thead>\n",
       "    <tr style=\"text-align: right;\">\n",
       "      <th>cohort_lifetime</th>\n",
       "      <th>0</th>\n",
       "      <th>1</th>\n",
       "      <th>2</th>\n",
       "      <th>3</th>\n",
       "      <th>4</th>\n",
       "      <th>5</th>\n",
       "      <th>6</th>\n",
       "      <th>7</th>\n",
       "      <th>8</th>\n",
       "      <th>9</th>\n",
       "      <th>...</th>\n",
       "      <th>43</th>\n",
       "      <th>44</th>\n",
       "      <th>45</th>\n",
       "      <th>46</th>\n",
       "      <th>47</th>\n",
       "      <th>48</th>\n",
       "      <th>49</th>\n",
       "      <th>50</th>\n",
       "      <th>51</th>\n",
       "      <th>52</th>\n",
       "    </tr>\n",
       "    <tr>\n",
       "      <th>first_session_week</th>\n",
       "      <th></th>\n",
       "      <th></th>\n",
       "      <th></th>\n",
       "      <th></th>\n",
       "      <th></th>\n",
       "      <th></th>\n",
       "      <th></th>\n",
       "      <th></th>\n",
       "      <th></th>\n",
       "      <th></th>\n",
       "      <th></th>\n",
       "      <th></th>\n",
       "      <th></th>\n",
       "      <th></th>\n",
       "      <th></th>\n",
       "      <th></th>\n",
       "      <th></th>\n",
       "      <th></th>\n",
       "      <th></th>\n",
       "      <th></th>\n",
       "      <th></th>\n",
       "    </tr>\n",
       "  </thead>\n",
       "  <tbody>\n",
       "    <tr>\n",
       "      <td>2017-05-29</td>\n",
       "      <td>2309.0</td>\n",
       "      <td>454</td>\n",
       "      <td>241</td>\n",
       "      <td>194</td>\n",
       "      <td>212</td>\n",
       "      <td>223</td>\n",
       "      <td>239</td>\n",
       "      <td>194</td>\n",
       "      <td>120</td>\n",
       "      <td>101</td>\n",
       "      <td>...</td>\n",
       "      <td>118</td>\n",
       "      <td>142</td>\n",
       "      <td>139</td>\n",
       "      <td>167</td>\n",
       "      <td>203</td>\n",
       "      <td>92</td>\n",
       "      <td>152</td>\n",
       "      <td>175</td>\n",
       "      <td>148</td>\n",
       "      <td>128</td>\n",
       "    </tr>\n",
       "    <tr>\n",
       "      <td>2017-06-05</td>\n",
       "      <td>4477.0</td>\n",
       "      <td>215</td>\n",
       "      <td>168</td>\n",
       "      <td>144</td>\n",
       "      <td>151</td>\n",
       "      <td>155</td>\n",
       "      <td>129</td>\n",
       "      <td>103</td>\n",
       "      <td>97</td>\n",
       "      <td>115</td>\n",
       "      <td>...</td>\n",
       "      <td>116</td>\n",
       "      <td>126</td>\n",
       "      <td>131</td>\n",
       "      <td>113</td>\n",
       "      <td>86</td>\n",
       "      <td>73</td>\n",
       "      <td>150</td>\n",
       "      <td>112</td>\n",
       "      <td>105</td>\n",
       "      <td></td>\n",
       "    </tr>\n",
       "    <tr>\n",
       "      <td>2017-06-12</td>\n",
       "      <td>2758.0</td>\n",
       "      <td>133</td>\n",
       "      <td>84</td>\n",
       "      <td>82</td>\n",
       "      <td>99</td>\n",
       "      <td>85</td>\n",
       "      <td>55</td>\n",
       "      <td>67</td>\n",
       "      <td>37</td>\n",
       "      <td>61</td>\n",
       "      <td>...</td>\n",
       "      <td>72</td>\n",
       "      <td>48</td>\n",
       "      <td>37</td>\n",
       "      <td>31</td>\n",
       "      <td>33</td>\n",
       "      <td>36</td>\n",
       "      <td>50</td>\n",
       "      <td>31</td>\n",
       "      <td></td>\n",
       "      <td></td>\n",
       "    </tr>\n",
       "    <tr>\n",
       "      <td>2017-06-19</td>\n",
       "      <td>2778.0</td>\n",
       "      <td>124</td>\n",
       "      <td>74</td>\n",
       "      <td>76</td>\n",
       "      <td>68</td>\n",
       "      <td>45</td>\n",
       "      <td>39</td>\n",
       "      <td>26</td>\n",
       "      <td>32</td>\n",
       "      <td>40</td>\n",
       "      <td>...</td>\n",
       "      <td>43</td>\n",
       "      <td>33</td>\n",
       "      <td>28</td>\n",
       "      <td>18</td>\n",
       "      <td>32</td>\n",
       "      <td>34</td>\n",
       "      <td>26</td>\n",
       "      <td></td>\n",
       "      <td></td>\n",
       "      <td></td>\n",
       "    </tr>\n",
       "    <tr>\n",
       "      <td>2017-06-26</td>\n",
       "      <td>2950.0</td>\n",
       "      <td>152</td>\n",
       "      <td>102</td>\n",
       "      <td>85</td>\n",
       "      <td>61</td>\n",
       "      <td>53</td>\n",
       "      <td>41</td>\n",
       "      <td>44</td>\n",
       "      <td>61</td>\n",
       "      <td>67</td>\n",
       "      <td>...</td>\n",
       "      <td>21</td>\n",
       "      <td>16</td>\n",
       "      <td>27</td>\n",
       "      <td>29</td>\n",
       "      <td>34</td>\n",
       "      <td>31</td>\n",
       "      <td></td>\n",
       "      <td></td>\n",
       "      <td></td>\n",
       "      <td></td>\n",
       "    </tr>\n",
       "    <tr>\n",
       "      <td>2017-07-03</td>\n",
       "      <td>3140.0</td>\n",
       "      <td>187</td>\n",
       "      <td>101</td>\n",
       "      <td>75</td>\n",
       "      <td>51</td>\n",
       "      <td>56</td>\n",
       "      <td>51</td>\n",
       "      <td>42</td>\n",
       "      <td>47</td>\n",
       "      <td>57</td>\n",
       "      <td>...</td>\n",
       "      <td>15</td>\n",
       "      <td>17</td>\n",
       "      <td>29</td>\n",
       "      <td>19</td>\n",
       "      <td>28</td>\n",
       "      <td></td>\n",
       "      <td></td>\n",
       "      <td></td>\n",
       "      <td></td>\n",
       "      <td></td>\n",
       "    </tr>\n",
       "    <tr>\n",
       "      <td>2017-07-10</td>\n",
       "      <td>4247.0</td>\n",
       "      <td>190</td>\n",
       "      <td>102</td>\n",
       "      <td>74</td>\n",
       "      <td>59</td>\n",
       "      <td>55</td>\n",
       "      <td>57</td>\n",
       "      <td>51</td>\n",
       "      <td>65</td>\n",
       "      <td>55</td>\n",
       "      <td>...</td>\n",
       "      <td>41</td>\n",
       "      <td>48</td>\n",
       "      <td>50</td>\n",
       "      <td>44</td>\n",
       "      <td></td>\n",
       "      <td></td>\n",
       "      <td></td>\n",
       "      <td></td>\n",
       "      <td></td>\n",
       "      <td></td>\n",
       "    </tr>\n",
       "    <tr>\n",
       "      <td>2017-07-17</td>\n",
       "      <td>3722.0</td>\n",
       "      <td>154</td>\n",
       "      <td>99</td>\n",
       "      <td>60</td>\n",
       "      <td>62</td>\n",
       "      <td>73</td>\n",
       "      <td>70</td>\n",
       "      <td>94</td>\n",
       "      <td>88</td>\n",
       "      <td>77</td>\n",
       "      <td>...</td>\n",
       "      <td>32</td>\n",
       "      <td>34</td>\n",
       "      <td>25</td>\n",
       "      <td></td>\n",
       "      <td></td>\n",
       "      <td></td>\n",
       "      <td></td>\n",
       "      <td></td>\n",
       "      <td></td>\n",
       "      <td></td>\n",
       "    </tr>\n",
       "    <tr>\n",
       "      <td>2017-07-24</td>\n",
       "      <td>2357.0</td>\n",
       "      <td>71</td>\n",
       "      <td>49</td>\n",
       "      <td>48</td>\n",
       "      <td>37</td>\n",
       "      <td>51</td>\n",
       "      <td>56</td>\n",
       "      <td>38</td>\n",
       "      <td>44</td>\n",
       "      <td>36</td>\n",
       "      <td>...</td>\n",
       "      <td>14</td>\n",
       "      <td>12</td>\n",
       "      <td></td>\n",
       "      <td></td>\n",
       "      <td></td>\n",
       "      <td></td>\n",
       "      <td></td>\n",
       "      <td></td>\n",
       "      <td></td>\n",
       "      <td></td>\n",
       "    </tr>\n",
       "    <tr>\n",
       "      <td>2017-07-31</td>\n",
       "      <td>2077.0</td>\n",
       "      <td>79</td>\n",
       "      <td>40</td>\n",
       "      <td>51</td>\n",
       "      <td>44</td>\n",
       "      <td>54</td>\n",
       "      <td>39</td>\n",
       "      <td>38</td>\n",
       "      <td>48</td>\n",
       "      <td>59</td>\n",
       "      <td>...</td>\n",
       "      <td>15</td>\n",
       "      <td></td>\n",
       "      <td></td>\n",
       "      <td></td>\n",
       "      <td></td>\n",
       "      <td></td>\n",
       "      <td></td>\n",
       "      <td></td>\n",
       "      <td></td>\n",
       "      <td></td>\n",
       "    </tr>\n",
       "    <tr>\n",
       "      <td>2017-08-07</td>\n",
       "      <td>2132.0</td>\n",
       "      <td>82</td>\n",
       "      <td>61</td>\n",
       "      <td>50</td>\n",
       "      <td>49</td>\n",
       "      <td>36</td>\n",
       "      <td>39</td>\n",
       "      <td>38</td>\n",
       "      <td>42</td>\n",
       "      <td>38</td>\n",
       "      <td>...</td>\n",
       "      <td></td>\n",
       "      <td></td>\n",
       "      <td></td>\n",
       "      <td></td>\n",
       "      <td></td>\n",
       "      <td></td>\n",
       "      <td></td>\n",
       "      <td></td>\n",
       "      <td></td>\n",
       "      <td></td>\n",
       "    </tr>\n",
       "    <tr>\n",
       "      <td>2017-08-14</td>\n",
       "      <td>2406.0</td>\n",
       "      <td>102</td>\n",
       "      <td>58</td>\n",
       "      <td>71</td>\n",
       "      <td>51</td>\n",
       "      <td>57</td>\n",
       "      <td>54</td>\n",
       "      <td>45</td>\n",
       "      <td>51</td>\n",
       "      <td>47</td>\n",
       "      <td>...</td>\n",
       "      <td></td>\n",
       "      <td></td>\n",
       "      <td></td>\n",
       "      <td></td>\n",
       "      <td></td>\n",
       "      <td></td>\n",
       "      <td></td>\n",
       "      <td></td>\n",
       "      <td></td>\n",
       "      <td></td>\n",
       "    </tr>\n",
       "    <tr>\n",
       "      <td>2017-08-21</td>\n",
       "      <td>2711.0</td>\n",
       "      <td>122</td>\n",
       "      <td>106</td>\n",
       "      <td>65</td>\n",
       "      <td>54</td>\n",
       "      <td>64</td>\n",
       "      <td>56</td>\n",
       "      <td>62</td>\n",
       "      <td>66</td>\n",
       "      <td>66</td>\n",
       "      <td>...</td>\n",
       "      <td></td>\n",
       "      <td></td>\n",
       "      <td></td>\n",
       "      <td></td>\n",
       "      <td></td>\n",
       "      <td></td>\n",
       "      <td></td>\n",
       "      <td></td>\n",
       "      <td></td>\n",
       "      <td></td>\n",
       "    </tr>\n",
       "    <tr>\n",
       "      <td>2017-08-28</td>\n",
       "      <td>3316.0</td>\n",
       "      <td>142</td>\n",
       "      <td>96</td>\n",
       "      <td>79</td>\n",
       "      <td>101</td>\n",
       "      <td>69</td>\n",
       "      <td>66</td>\n",
       "      <td>57</td>\n",
       "      <td>61</td>\n",
       "      <td>86</td>\n",
       "      <td>...</td>\n",
       "      <td></td>\n",
       "      <td></td>\n",
       "      <td></td>\n",
       "      <td></td>\n",
       "      <td></td>\n",
       "      <td></td>\n",
       "      <td></td>\n",
       "      <td></td>\n",
       "      <td></td>\n",
       "      <td></td>\n",
       "    </tr>\n",
       "    <tr>\n",
       "      <td>2017-09-04</td>\n",
       "      <td>3890.0</td>\n",
       "      <td>170</td>\n",
       "      <td>102</td>\n",
       "      <td>121</td>\n",
       "      <td>87</td>\n",
       "      <td>86</td>\n",
       "      <td>73</td>\n",
       "      <td>66</td>\n",
       "      <td>77</td>\n",
       "      <td>60</td>\n",
       "      <td>...</td>\n",
       "      <td></td>\n",
       "      <td></td>\n",
       "      <td></td>\n",
       "      <td></td>\n",
       "      <td></td>\n",
       "      <td></td>\n",
       "      <td></td>\n",
       "      <td></td>\n",
       "      <td></td>\n",
       "      <td></td>\n",
       "    </tr>\n",
       "    <tr>\n",
       "      <td>2017-09-11</td>\n",
       "      <td>3824.0</td>\n",
       "      <td>178</td>\n",
       "      <td>133</td>\n",
       "      <td>128</td>\n",
       "      <td>107</td>\n",
       "      <td>95</td>\n",
       "      <td>80</td>\n",
       "      <td>77</td>\n",
       "      <td>80</td>\n",
       "      <td>103</td>\n",
       "      <td>...</td>\n",
       "      <td></td>\n",
       "      <td></td>\n",
       "      <td></td>\n",
       "      <td></td>\n",
       "      <td></td>\n",
       "      <td></td>\n",
       "      <td></td>\n",
       "      <td></td>\n",
       "      <td></td>\n",
       "      <td></td>\n",
       "    </tr>\n",
       "    <tr>\n",
       "      <td>2017-09-18</td>\n",
       "      <td>4342.0</td>\n",
       "      <td>234</td>\n",
       "      <td>150</td>\n",
       "      <td>125</td>\n",
       "      <td>126</td>\n",
       "      <td>114</td>\n",
       "      <td>108</td>\n",
       "      <td>109</td>\n",
       "      <td>79</td>\n",
       "      <td>164</td>\n",
       "      <td>...</td>\n",
       "      <td></td>\n",
       "      <td></td>\n",
       "      <td></td>\n",
       "      <td></td>\n",
       "      <td></td>\n",
       "      <td></td>\n",
       "      <td></td>\n",
       "      <td></td>\n",
       "      <td></td>\n",
       "      <td></td>\n",
       "    </tr>\n",
       "    <tr>\n",
       "      <td>2017-09-25</td>\n",
       "      <td>5621.0</td>\n",
       "      <td>256</td>\n",
       "      <td>202</td>\n",
       "      <td>149</td>\n",
       "      <td>143</td>\n",
       "      <td>115</td>\n",
       "      <td>109</td>\n",
       "      <td>102</td>\n",
       "      <td>168</td>\n",
       "      <td>141</td>\n",
       "      <td>...</td>\n",
       "      <td></td>\n",
       "      <td></td>\n",
       "      <td></td>\n",
       "      <td></td>\n",
       "      <td></td>\n",
       "      <td></td>\n",
       "      <td></td>\n",
       "      <td></td>\n",
       "      <td></td>\n",
       "      <td></td>\n",
       "    </tr>\n",
       "    <tr>\n",
       "      <td>2017-10-02</td>\n",
       "      <td>7084.0</td>\n",
       "      <td>361</td>\n",
       "      <td>245</td>\n",
       "      <td>219</td>\n",
       "      <td>158</td>\n",
       "      <td>149</td>\n",
       "      <td>164</td>\n",
       "      <td>204</td>\n",
       "      <td>173</td>\n",
       "      <td>135</td>\n",
       "      <td>...</td>\n",
       "      <td></td>\n",
       "      <td></td>\n",
       "      <td></td>\n",
       "      <td></td>\n",
       "      <td></td>\n",
       "      <td></td>\n",
       "      <td></td>\n",
       "      <td></td>\n",
       "      <td></td>\n",
       "      <td></td>\n",
       "    </tr>\n",
       "    <tr>\n",
       "      <td>2017-10-09</td>\n",
       "      <td>6197.0</td>\n",
       "      <td>322</td>\n",
       "      <td>206</td>\n",
       "      <td>176</td>\n",
       "      <td>146</td>\n",
       "      <td>149</td>\n",
       "      <td>177</td>\n",
       "      <td>134</td>\n",
       "      <td>122</td>\n",
       "      <td>117</td>\n",
       "      <td>...</td>\n",
       "      <td></td>\n",
       "      <td></td>\n",
       "      <td></td>\n",
       "      <td></td>\n",
       "      <td></td>\n",
       "      <td></td>\n",
       "      <td></td>\n",
       "      <td></td>\n",
       "      <td></td>\n",
       "      <td></td>\n",
       "    </tr>\n",
       "    <tr>\n",
       "      <td>2017-10-16</td>\n",
       "      <td>6224.0</td>\n",
       "      <td>342</td>\n",
       "      <td>193</td>\n",
       "      <td>136</td>\n",
       "      <td>128</td>\n",
       "      <td>186</td>\n",
       "      <td>130</td>\n",
       "      <td>113</td>\n",
       "      <td>117</td>\n",
       "      <td>80</td>\n",
       "      <td>...</td>\n",
       "      <td></td>\n",
       "      <td></td>\n",
       "      <td></td>\n",
       "      <td></td>\n",
       "      <td></td>\n",
       "      <td></td>\n",
       "      <td></td>\n",
       "      <td></td>\n",
       "      <td></td>\n",
       "      <td></td>\n",
       "    </tr>\n",
       "    <tr>\n",
       "      <td>2017-10-23</td>\n",
       "      <td>6453.0</td>\n",
       "      <td>335</td>\n",
       "      <td>209</td>\n",
       "      <td>144</td>\n",
       "      <td>206</td>\n",
       "      <td>160</td>\n",
       "      <td>134</td>\n",
       "      <td>143</td>\n",
       "      <td>105</td>\n",
       "      <td>92</td>\n",
       "      <td>...</td>\n",
       "      <td></td>\n",
       "      <td></td>\n",
       "      <td></td>\n",
       "      <td></td>\n",
       "      <td></td>\n",
       "      <td></td>\n",
       "      <td></td>\n",
       "      <td></td>\n",
       "      <td></td>\n",
       "      <td></td>\n",
       "    </tr>\n",
       "    <tr>\n",
       "      <td>2017-10-30</td>\n",
       "      <td>6398.0</td>\n",
       "      <td>320</td>\n",
       "      <td>194</td>\n",
       "      <td>224</td>\n",
       "      <td>126</td>\n",
       "      <td>142</td>\n",
       "      <td>115</td>\n",
       "      <td>111</td>\n",
       "      <td>93</td>\n",
       "      <td>72</td>\n",
       "      <td>...</td>\n",
       "      <td></td>\n",
       "      <td></td>\n",
       "      <td></td>\n",
       "      <td></td>\n",
       "      <td></td>\n",
       "      <td></td>\n",
       "      <td></td>\n",
       "      <td></td>\n",
       "      <td></td>\n",
       "      <td></td>\n",
       "    </tr>\n",
       "    <tr>\n",
       "      <td>2017-11-06</td>\n",
       "      <td>5877.0</td>\n",
       "      <td>357</td>\n",
       "      <td>340</td>\n",
       "      <td>201</td>\n",
       "      <td>175</td>\n",
       "      <td>118</td>\n",
       "      <td>86</td>\n",
       "      <td>89</td>\n",
       "      <td>87</td>\n",
       "      <td>86</td>\n",
       "      <td>...</td>\n",
       "      <td></td>\n",
       "      <td></td>\n",
       "      <td></td>\n",
       "      <td></td>\n",
       "      <td></td>\n",
       "      <td></td>\n",
       "      <td></td>\n",
       "      <td></td>\n",
       "      <td></td>\n",
       "      <td></td>\n",
       "    </tr>\n",
       "    <tr>\n",
       "      <td>2017-11-13</td>\n",
       "      <td>6979.0</td>\n",
       "      <td>523</td>\n",
       "      <td>269</td>\n",
       "      <td>192</td>\n",
       "      <td>159</td>\n",
       "      <td>113</td>\n",
       "      <td>108</td>\n",
       "      <td>98</td>\n",
       "      <td>83</td>\n",
       "      <td>88</td>\n",
       "      <td>...</td>\n",
       "      <td></td>\n",
       "      <td></td>\n",
       "      <td></td>\n",
       "      <td></td>\n",
       "      <td></td>\n",
       "      <td></td>\n",
       "      <td></td>\n",
       "      <td></td>\n",
       "      <td></td>\n",
       "      <td></td>\n",
       "    </tr>\n",
       "    <tr>\n",
       "      <td>2017-11-20</td>\n",
       "      <td>9439.0</td>\n",
       "      <td>756</td>\n",
       "      <td>476</td>\n",
       "      <td>391</td>\n",
       "      <td>152</td>\n",
       "      <td>180</td>\n",
       "      <td>163</td>\n",
       "      <td>240</td>\n",
       "      <td>180</td>\n",
       "      <td>209</td>\n",
       "      <td>...</td>\n",
       "      <td></td>\n",
       "      <td></td>\n",
       "      <td></td>\n",
       "      <td></td>\n",
       "      <td></td>\n",
       "      <td></td>\n",
       "      <td></td>\n",
       "      <td></td>\n",
       "      <td></td>\n",
       "      <td></td>\n",
       "    </tr>\n",
       "    <tr>\n",
       "      <td>2017-11-27</td>\n",
       "      <td>6667.0</td>\n",
       "      <td>522</td>\n",
       "      <td>295</td>\n",
       "      <td>183</td>\n",
       "      <td>157</td>\n",
       "      <td>88</td>\n",
       "      <td>125</td>\n",
       "      <td>145</td>\n",
       "      <td>118</td>\n",
       "      <td>147</td>\n",
       "      <td>...</td>\n",
       "      <td></td>\n",
       "      <td></td>\n",
       "      <td></td>\n",
       "      <td></td>\n",
       "      <td></td>\n",
       "      <td></td>\n",
       "      <td></td>\n",
       "      <td></td>\n",
       "      <td></td>\n",
       "      <td></td>\n",
       "    </tr>\n",
       "    <tr>\n",
       "      <td>2017-12-04</td>\n",
       "      <td>6644.0</td>\n",
       "      <td>464</td>\n",
       "      <td>204</td>\n",
       "      <td>147</td>\n",
       "      <td>97</td>\n",
       "      <td>88</td>\n",
       "      <td>84</td>\n",
       "      <td>87</td>\n",
       "      <td>90</td>\n",
       "      <td>69</td>\n",
       "      <td>...</td>\n",
       "      <td></td>\n",
       "      <td></td>\n",
       "      <td></td>\n",
       "      <td></td>\n",
       "      <td></td>\n",
       "      <td></td>\n",
       "      <td></td>\n",
       "      <td></td>\n",
       "      <td></td>\n",
       "      <td></td>\n",
       "    </tr>\n",
       "    <tr>\n",
       "      <td>2017-12-11</td>\n",
       "      <td>6545.0</td>\n",
       "      <td>298</td>\n",
       "      <td>199</td>\n",
       "      <td>126</td>\n",
       "      <td>129</td>\n",
       "      <td>110</td>\n",
       "      <td>115</td>\n",
       "      <td>104</td>\n",
       "      <td>89</td>\n",
       "      <td>76</td>\n",
       "      <td>...</td>\n",
       "      <td></td>\n",
       "      <td></td>\n",
       "      <td></td>\n",
       "      <td></td>\n",
       "      <td></td>\n",
       "      <td></td>\n",
       "      <td></td>\n",
       "      <td></td>\n",
       "      <td></td>\n",
       "      <td></td>\n",
       "    </tr>\n",
       "    <tr>\n",
       "      <td>2017-12-18</td>\n",
       "      <td>5807.0</td>\n",
       "      <td>308</td>\n",
       "      <td>171</td>\n",
       "      <td>90</td>\n",
       "      <td>111</td>\n",
       "      <td>118</td>\n",
       "      <td>104</td>\n",
       "      <td>107</td>\n",
       "      <td>84</td>\n",
       "      <td>74</td>\n",
       "      <td>...</td>\n",
       "      <td></td>\n",
       "      <td></td>\n",
       "      <td></td>\n",
       "      <td></td>\n",
       "      <td></td>\n",
       "      <td></td>\n",
       "      <td></td>\n",
       "      <td></td>\n",
       "      <td></td>\n",
       "      <td></td>\n",
       "    </tr>\n",
       "    <tr>\n",
       "      <td>2017-12-25</td>\n",
       "      <td>6437.0</td>\n",
       "      <td>216</td>\n",
       "      <td>156</td>\n",
       "      <td>127</td>\n",
       "      <td>104</td>\n",
       "      <td>83</td>\n",
       "      <td>96</td>\n",
       "      <td>123</td>\n",
       "      <td>104</td>\n",
       "      <td>78</td>\n",
       "      <td>...</td>\n",
       "      <td></td>\n",
       "      <td></td>\n",
       "      <td></td>\n",
       "      <td></td>\n",
       "      <td></td>\n",
       "      <td></td>\n",
       "      <td></td>\n",
       "      <td></td>\n",
       "      <td></td>\n",
       "      <td></td>\n",
       "    </tr>\n",
       "    <tr>\n",
       "      <td>2018-01-01</td>\n",
       "      <td>5782.0</td>\n",
       "      <td>205</td>\n",
       "      <td>101</td>\n",
       "      <td>100</td>\n",
       "      <td>82</td>\n",
       "      <td>73</td>\n",
       "      <td>49</td>\n",
       "      <td>47</td>\n",
       "      <td>56</td>\n",
       "      <td>60</td>\n",
       "      <td>...</td>\n",
       "      <td></td>\n",
       "      <td></td>\n",
       "      <td></td>\n",
       "      <td></td>\n",
       "      <td></td>\n",
       "      <td></td>\n",
       "      <td></td>\n",
       "      <td></td>\n",
       "      <td></td>\n",
       "      <td></td>\n",
       "    </tr>\n",
       "    <tr>\n",
       "      <td>2018-01-08</td>\n",
       "      <td>5208.0</td>\n",
       "      <td>275</td>\n",
       "      <td>147</td>\n",
       "      <td>125</td>\n",
       "      <td>121</td>\n",
       "      <td>109</td>\n",
       "      <td>101</td>\n",
       "      <td>100</td>\n",
       "      <td>80</td>\n",
       "      <td>93</td>\n",
       "      <td>...</td>\n",
       "      <td></td>\n",
       "      <td></td>\n",
       "      <td></td>\n",
       "      <td></td>\n",
       "      <td></td>\n",
       "      <td></td>\n",
       "      <td></td>\n",
       "      <td></td>\n",
       "      <td></td>\n",
       "      <td></td>\n",
       "    </tr>\n",
       "    <tr>\n",
       "      <td>2018-01-15</td>\n",
       "      <td>5479.0</td>\n",
       "      <td>238</td>\n",
       "      <td>190</td>\n",
       "      <td>115</td>\n",
       "      <td>100</td>\n",
       "      <td>104</td>\n",
       "      <td>79</td>\n",
       "      <td>74</td>\n",
       "      <td>72</td>\n",
       "      <td>77</td>\n",
       "      <td>...</td>\n",
       "      <td></td>\n",
       "      <td></td>\n",
       "      <td></td>\n",
       "      <td></td>\n",
       "      <td></td>\n",
       "      <td></td>\n",
       "      <td></td>\n",
       "      <td></td>\n",
       "      <td></td>\n",
       "      <td></td>\n",
       "    </tr>\n",
       "    <tr>\n",
       "      <td>2018-01-22</td>\n",
       "      <td>5499.0</td>\n",
       "      <td>329</td>\n",
       "      <td>179</td>\n",
       "      <td>147</td>\n",
       "      <td>100</td>\n",
       "      <td>100</td>\n",
       "      <td>96</td>\n",
       "      <td>95</td>\n",
       "      <td>102</td>\n",
       "      <td>52</td>\n",
       "      <td>...</td>\n",
       "      <td></td>\n",
       "      <td></td>\n",
       "      <td></td>\n",
       "      <td></td>\n",
       "      <td></td>\n",
       "      <td></td>\n",
       "      <td></td>\n",
       "      <td></td>\n",
       "      <td></td>\n",
       "      <td></td>\n",
       "    </tr>\n",
       "    <tr>\n",
       "      <td>2018-01-29</td>\n",
       "      <td>6559.0</td>\n",
       "      <td>399</td>\n",
       "      <td>204</td>\n",
       "      <td>143</td>\n",
       "      <td>134</td>\n",
       "      <td>115</td>\n",
       "      <td>67</td>\n",
       "      <td>101</td>\n",
       "      <td>59</td>\n",
       "      <td>56</td>\n",
       "      <td>...</td>\n",
       "      <td></td>\n",
       "      <td></td>\n",
       "      <td></td>\n",
       "      <td></td>\n",
       "      <td></td>\n",
       "      <td></td>\n",
       "      <td></td>\n",
       "      <td></td>\n",
       "      <td></td>\n",
       "      <td></td>\n",
       "    </tr>\n",
       "    <tr>\n",
       "      <td>2018-02-05</td>\n",
       "      <td>6216.0</td>\n",
       "      <td>289</td>\n",
       "      <td>125</td>\n",
       "      <td>129</td>\n",
       "      <td>102</td>\n",
       "      <td>70</td>\n",
       "      <td>90</td>\n",
       "      <td>43</td>\n",
       "      <td>41</td>\n",
       "      <td>41</td>\n",
       "      <td>...</td>\n",
       "      <td></td>\n",
       "      <td></td>\n",
       "      <td></td>\n",
       "      <td></td>\n",
       "      <td></td>\n",
       "      <td></td>\n",
       "      <td></td>\n",
       "      <td></td>\n",
       "      <td></td>\n",
       "      <td></td>\n",
       "    </tr>\n",
       "    <tr>\n",
       "      <td>2018-02-12</td>\n",
       "      <td>5990.0</td>\n",
       "      <td>300</td>\n",
       "      <td>192</td>\n",
       "      <td>126</td>\n",
       "      <td>109</td>\n",
       "      <td>112</td>\n",
       "      <td>74</td>\n",
       "      <td>54</td>\n",
       "      <td>53</td>\n",
       "      <td>46</td>\n",
       "      <td>...</td>\n",
       "      <td></td>\n",
       "      <td></td>\n",
       "      <td></td>\n",
       "      <td></td>\n",
       "      <td></td>\n",
       "      <td></td>\n",
       "      <td></td>\n",
       "      <td></td>\n",
       "      <td></td>\n",
       "      <td></td>\n",
       "    </tr>\n",
       "    <tr>\n",
       "      <td>2018-02-19</td>\n",
       "      <td>5768.0</td>\n",
       "      <td>223</td>\n",
       "      <td>138</td>\n",
       "      <td>128</td>\n",
       "      <td>118</td>\n",
       "      <td>65</td>\n",
       "      <td>50</td>\n",
       "      <td>59</td>\n",
       "      <td>61</td>\n",
       "      <td>32</td>\n",
       "      <td>...</td>\n",
       "      <td></td>\n",
       "      <td></td>\n",
       "      <td></td>\n",
       "      <td></td>\n",
       "      <td></td>\n",
       "      <td></td>\n",
       "      <td></td>\n",
       "      <td></td>\n",
       "      <td></td>\n",
       "      <td></td>\n",
       "    </tr>\n",
       "    <tr>\n",
       "      <td>2018-02-26</td>\n",
       "      <td>5574.0</td>\n",
       "      <td>208</td>\n",
       "      <td>128</td>\n",
       "      <td>130</td>\n",
       "      <td>81</td>\n",
       "      <td>60</td>\n",
       "      <td>62</td>\n",
       "      <td>43</td>\n",
       "      <td>59</td>\n",
       "      <td>33</td>\n",
       "      <td>...</td>\n",
       "      <td></td>\n",
       "      <td></td>\n",
       "      <td></td>\n",
       "      <td></td>\n",
       "      <td></td>\n",
       "      <td></td>\n",
       "      <td></td>\n",
       "      <td></td>\n",
       "      <td></td>\n",
       "      <td></td>\n",
       "    </tr>\n",
       "    <tr>\n",
       "      <td>2018-03-05</td>\n",
       "      <td>5285.0</td>\n",
       "      <td>264</td>\n",
       "      <td>154</td>\n",
       "      <td>79</td>\n",
       "      <td>59</td>\n",
       "      <td>76</td>\n",
       "      <td>63</td>\n",
       "      <td>54</td>\n",
       "      <td>28</td>\n",
       "      <td>33</td>\n",
       "      <td>...</td>\n",
       "      <td></td>\n",
       "      <td></td>\n",
       "      <td></td>\n",
       "      <td></td>\n",
       "      <td></td>\n",
       "      <td></td>\n",
       "      <td></td>\n",
       "      <td></td>\n",
       "      <td></td>\n",
       "      <td></td>\n",
       "    </tr>\n",
       "    <tr>\n",
       "      <td>2018-03-12</td>\n",
       "      <td>4665.0</td>\n",
       "      <td>248</td>\n",
       "      <td>91</td>\n",
       "      <td>89</td>\n",
       "      <td>63</td>\n",
       "      <td>55</td>\n",
       "      <td>49</td>\n",
       "      <td>31</td>\n",
       "      <td>28</td>\n",
       "      <td>49</td>\n",
       "      <td>...</td>\n",
       "      <td></td>\n",
       "      <td></td>\n",
       "      <td></td>\n",
       "      <td></td>\n",
       "      <td></td>\n",
       "      <td></td>\n",
       "      <td></td>\n",
       "      <td></td>\n",
       "      <td></td>\n",
       "      <td></td>\n",
       "    </tr>\n",
       "    <tr>\n",
       "      <td>2018-03-19</td>\n",
       "      <td>6041.0</td>\n",
       "      <td>240</td>\n",
       "      <td>121</td>\n",
       "      <td>76</td>\n",
       "      <td>82</td>\n",
       "      <td>68</td>\n",
       "      <td>50</td>\n",
       "      <td>38</td>\n",
       "      <td>54</td>\n",
       "      <td>42</td>\n",
       "      <td>...</td>\n",
       "      <td></td>\n",
       "      <td></td>\n",
       "      <td></td>\n",
       "      <td></td>\n",
       "      <td></td>\n",
       "      <td></td>\n",
       "      <td></td>\n",
       "      <td></td>\n",
       "      <td></td>\n",
       "      <td></td>\n",
       "    </tr>\n",
       "    <tr>\n",
       "      <td>2018-03-26</td>\n",
       "      <td>3654.0</td>\n",
       "      <td>113</td>\n",
       "      <td>69</td>\n",
       "      <td>71</td>\n",
       "      <td>68</td>\n",
       "      <td>58</td>\n",
       "      <td>74</td>\n",
       "      <td>54</td>\n",
       "      <td>45</td>\n",
       "      <td>33</td>\n",
       "      <td>...</td>\n",
       "      <td></td>\n",
       "      <td></td>\n",
       "      <td></td>\n",
       "      <td></td>\n",
       "      <td></td>\n",
       "      <td></td>\n",
       "      <td></td>\n",
       "      <td></td>\n",
       "      <td></td>\n",
       "      <td></td>\n",
       "    </tr>\n",
       "    <tr>\n",
       "      <td>2018-04-02</td>\n",
       "      <td>4116.0</td>\n",
       "      <td>179</td>\n",
       "      <td>124</td>\n",
       "      <td>86</td>\n",
       "      <td>57</td>\n",
       "      <td>43</td>\n",
       "      <td>49</td>\n",
       "      <td>44</td>\n",
       "      <td>28</td>\n",
       "      <td></td>\n",
       "      <td>...</td>\n",
       "      <td></td>\n",
       "      <td></td>\n",
       "      <td></td>\n",
       "      <td></td>\n",
       "      <td></td>\n",
       "      <td></td>\n",
       "      <td></td>\n",
       "      <td></td>\n",
       "      <td></td>\n",
       "      <td></td>\n",
       "    </tr>\n",
       "    <tr>\n",
       "      <td>2018-04-09</td>\n",
       "      <td>4113.0</td>\n",
       "      <td>157</td>\n",
       "      <td>78</td>\n",
       "      <td>65</td>\n",
       "      <td>54</td>\n",
       "      <td>46</td>\n",
       "      <td>66</td>\n",
       "      <td>22</td>\n",
       "      <td></td>\n",
       "      <td></td>\n",
       "      <td>...</td>\n",
       "      <td></td>\n",
       "      <td></td>\n",
       "      <td></td>\n",
       "      <td></td>\n",
       "      <td></td>\n",
       "      <td></td>\n",
       "      <td></td>\n",
       "      <td></td>\n",
       "      <td></td>\n",
       "      <td></td>\n",
       "    </tr>\n",
       "    <tr>\n",
       "      <td>2018-04-16</td>\n",
       "      <td>4390.0</td>\n",
       "      <td>196</td>\n",
       "      <td>77</td>\n",
       "      <td>80</td>\n",
       "      <td>84</td>\n",
       "      <td>75</td>\n",
       "      <td>41</td>\n",
       "      <td></td>\n",
       "      <td></td>\n",
       "      <td></td>\n",
       "      <td>...</td>\n",
       "      <td></td>\n",
       "      <td></td>\n",
       "      <td></td>\n",
       "      <td></td>\n",
       "      <td></td>\n",
       "      <td></td>\n",
       "      <td></td>\n",
       "      <td></td>\n",
       "      <td></td>\n",
       "      <td></td>\n",
       "    </tr>\n",
       "    <tr>\n",
       "      <td>2018-04-23</td>\n",
       "      <td>4174.0</td>\n",
       "      <td>152</td>\n",
       "      <td>113</td>\n",
       "      <td>112</td>\n",
       "      <td>101</td>\n",
       "      <td>62</td>\n",
       "      <td></td>\n",
       "      <td></td>\n",
       "      <td></td>\n",
       "      <td></td>\n",
       "      <td>...</td>\n",
       "      <td></td>\n",
       "      <td></td>\n",
       "      <td></td>\n",
       "      <td></td>\n",
       "      <td></td>\n",
       "      <td></td>\n",
       "      <td></td>\n",
       "      <td></td>\n",
       "      <td></td>\n",
       "      <td></td>\n",
       "    </tr>\n",
       "    <tr>\n",
       "      <td>2018-04-30</td>\n",
       "      <td>2810.0</td>\n",
       "      <td>94</td>\n",
       "      <td>46</td>\n",
       "      <td>46</td>\n",
       "      <td>26</td>\n",
       "      <td></td>\n",
       "      <td></td>\n",
       "      <td></td>\n",
       "      <td></td>\n",
       "      <td></td>\n",
       "      <td>...</td>\n",
       "      <td></td>\n",
       "      <td></td>\n",
       "      <td></td>\n",
       "      <td></td>\n",
       "      <td></td>\n",
       "      <td></td>\n",
       "      <td></td>\n",
       "      <td></td>\n",
       "      <td></td>\n",
       "      <td></td>\n",
       "    </tr>\n",
       "    <tr>\n",
       "      <td>2018-05-07</td>\n",
       "      <td>2959.0</td>\n",
       "      <td>108</td>\n",
       "      <td>66</td>\n",
       "      <td>34</td>\n",
       "      <td></td>\n",
       "      <td></td>\n",
       "      <td></td>\n",
       "      <td></td>\n",
       "      <td></td>\n",
       "      <td></td>\n",
       "      <td>...</td>\n",
       "      <td></td>\n",
       "      <td></td>\n",
       "      <td></td>\n",
       "      <td></td>\n",
       "      <td></td>\n",
       "      <td></td>\n",
       "      <td></td>\n",
       "      <td></td>\n",
       "      <td></td>\n",
       "      <td></td>\n",
       "    </tr>\n",
       "    <tr>\n",
       "      <td>2018-05-14</td>\n",
       "      <td>3662.0</td>\n",
       "      <td>172</td>\n",
       "      <td>86</td>\n",
       "      <td></td>\n",
       "      <td></td>\n",
       "      <td></td>\n",
       "      <td></td>\n",
       "      <td></td>\n",
       "      <td></td>\n",
       "      <td></td>\n",
       "      <td>...</td>\n",
       "      <td></td>\n",
       "      <td></td>\n",
       "      <td></td>\n",
       "      <td></td>\n",
       "      <td></td>\n",
       "      <td></td>\n",
       "      <td></td>\n",
       "      <td></td>\n",
       "      <td></td>\n",
       "      <td></td>\n",
       "    </tr>\n",
       "    <tr>\n",
       "      <td>2018-05-21</td>\n",
       "      <td>3604.0</td>\n",
       "      <td>131</td>\n",
       "      <td></td>\n",
       "      <td></td>\n",
       "      <td></td>\n",
       "      <td></td>\n",
       "      <td></td>\n",
       "      <td></td>\n",
       "      <td></td>\n",
       "      <td></td>\n",
       "      <td>...</td>\n",
       "      <td></td>\n",
       "      <td></td>\n",
       "      <td></td>\n",
       "      <td></td>\n",
       "      <td></td>\n",
       "      <td></td>\n",
       "      <td></td>\n",
       "      <td></td>\n",
       "      <td></td>\n",
       "      <td></td>\n",
       "    </tr>\n",
       "    <tr>\n",
       "      <td>2018-05-28</td>\n",
       "      <td>3993.0</td>\n",
       "      <td></td>\n",
       "      <td></td>\n",
       "      <td></td>\n",
       "      <td></td>\n",
       "      <td></td>\n",
       "      <td></td>\n",
       "      <td></td>\n",
       "      <td></td>\n",
       "      <td></td>\n",
       "      <td>...</td>\n",
       "      <td></td>\n",
       "      <td></td>\n",
       "      <td></td>\n",
       "      <td></td>\n",
       "      <td></td>\n",
       "      <td></td>\n",
       "      <td></td>\n",
       "      <td></td>\n",
       "      <td></td>\n",
       "      <td></td>\n",
       "    </tr>\n",
       "  </tbody>\n",
       "</table>\n",
       "<p>53 rows × 53 columns</p>\n",
       "</div>"
      ],
      "text/plain": [
       "cohort_lifetime         0    1    2    3    4    5    6    7    8    9   ...  \\\n",
       "first_session_week                                                       ...   \n",
       "2017-05-29          2309.0  454  241  194  212  223  239  194  120  101  ...   \n",
       "2017-06-05          4477.0  215  168  144  151  155  129  103   97  115  ...   \n",
       "2017-06-12          2758.0  133   84   82   99   85   55   67   37   61  ...   \n",
       "2017-06-19          2778.0  124   74   76   68   45   39   26   32   40  ...   \n",
       "2017-06-26          2950.0  152  102   85   61   53   41   44   61   67  ...   \n",
       "2017-07-03          3140.0  187  101   75   51   56   51   42   47   57  ...   \n",
       "2017-07-10          4247.0  190  102   74   59   55   57   51   65   55  ...   \n",
       "2017-07-17          3722.0  154   99   60   62   73   70   94   88   77  ...   \n",
       "2017-07-24          2357.0   71   49   48   37   51   56   38   44   36  ...   \n",
       "2017-07-31          2077.0   79   40   51   44   54   39   38   48   59  ...   \n",
       "2017-08-07          2132.0   82   61   50   49   36   39   38   42   38  ...   \n",
       "2017-08-14          2406.0  102   58   71   51   57   54   45   51   47  ...   \n",
       "2017-08-21          2711.0  122  106   65   54   64   56   62   66   66  ...   \n",
       "2017-08-28          3316.0  142   96   79  101   69   66   57   61   86  ...   \n",
       "2017-09-04          3890.0  170  102  121   87   86   73   66   77   60  ...   \n",
       "2017-09-11          3824.0  178  133  128  107   95   80   77   80  103  ...   \n",
       "2017-09-18          4342.0  234  150  125  126  114  108  109   79  164  ...   \n",
       "2017-09-25          5621.0  256  202  149  143  115  109  102  168  141  ...   \n",
       "2017-10-02          7084.0  361  245  219  158  149  164  204  173  135  ...   \n",
       "2017-10-09          6197.0  322  206  176  146  149  177  134  122  117  ...   \n",
       "2017-10-16          6224.0  342  193  136  128  186  130  113  117   80  ...   \n",
       "2017-10-23          6453.0  335  209  144  206  160  134  143  105   92  ...   \n",
       "2017-10-30          6398.0  320  194  224  126  142  115  111   93   72  ...   \n",
       "2017-11-06          5877.0  357  340  201  175  118   86   89   87   86  ...   \n",
       "2017-11-13          6979.0  523  269  192  159  113  108   98   83   88  ...   \n",
       "2017-11-20          9439.0  756  476  391  152  180  163  240  180  209  ...   \n",
       "2017-11-27          6667.0  522  295  183  157   88  125  145  118  147  ...   \n",
       "2017-12-04          6644.0  464  204  147   97   88   84   87   90   69  ...   \n",
       "2017-12-11          6545.0  298  199  126  129  110  115  104   89   76  ...   \n",
       "2017-12-18          5807.0  308  171   90  111  118  104  107   84   74  ...   \n",
       "2017-12-25          6437.0  216  156  127  104   83   96  123  104   78  ...   \n",
       "2018-01-01          5782.0  205  101  100   82   73   49   47   56   60  ...   \n",
       "2018-01-08          5208.0  275  147  125  121  109  101  100   80   93  ...   \n",
       "2018-01-15          5479.0  238  190  115  100  104   79   74   72   77  ...   \n",
       "2018-01-22          5499.0  329  179  147  100  100   96   95  102   52  ...   \n",
       "2018-01-29          6559.0  399  204  143  134  115   67  101   59   56  ...   \n",
       "2018-02-05          6216.0  289  125  129  102   70   90   43   41   41  ...   \n",
       "2018-02-12          5990.0  300  192  126  109  112   74   54   53   46  ...   \n",
       "2018-02-19          5768.0  223  138  128  118   65   50   59   61   32  ...   \n",
       "2018-02-26          5574.0  208  128  130   81   60   62   43   59   33  ...   \n",
       "2018-03-05          5285.0  264  154   79   59   76   63   54   28   33  ...   \n",
       "2018-03-12          4665.0  248   91   89   63   55   49   31   28   49  ...   \n",
       "2018-03-19          6041.0  240  121   76   82   68   50   38   54   42  ...   \n",
       "2018-03-26          3654.0  113   69   71   68   58   74   54   45   33  ...   \n",
       "2018-04-02          4116.0  179  124   86   57   43   49   44   28       ...   \n",
       "2018-04-09          4113.0  157   78   65   54   46   66   22            ...   \n",
       "2018-04-16          4390.0  196   77   80   84   75   41                 ...   \n",
       "2018-04-23          4174.0  152  113  112  101   62                      ...   \n",
       "2018-04-30          2810.0   94   46   46   26                           ...   \n",
       "2018-05-07          2959.0  108   66   34                                ...   \n",
       "2018-05-14          3662.0  172   86                                     ...   \n",
       "2018-05-21          3604.0  131                                          ...   \n",
       "2018-05-28          3993.0                                               ...   \n",
       "\n",
       "cohort_lifetime      43   44   45   46   47  48   49   50   51   52  \n",
       "first_session_week                                                   \n",
       "2017-05-29          118  142  139  167  203  92  152  175  148  128  \n",
       "2017-06-05          116  126  131  113   86  73  150  112  105       \n",
       "2017-06-12           72   48   37   31   33  36   50   31            \n",
       "2017-06-19           43   33   28   18   32  34   26                 \n",
       "2017-06-26           21   16   27   29   34  31                      \n",
       "2017-07-03           15   17   29   19   28                          \n",
       "2017-07-10           41   48   50   44                               \n",
       "2017-07-17           32   34   25                                    \n",
       "2017-07-24           14   12                                         \n",
       "2017-07-31           15                                              \n",
       "2017-08-07                                                           \n",
       "2017-08-14                                                           \n",
       "2017-08-21                                                           \n",
       "2017-08-28                                                           \n",
       "2017-09-04                                                           \n",
       "2017-09-11                                                           \n",
       "2017-09-18                                                           \n",
       "2017-09-25                                                           \n",
       "2017-10-02                                                           \n",
       "2017-10-09                                                           \n",
       "2017-10-16                                                           \n",
       "2017-10-23                                                           \n",
       "2017-10-30                                                           \n",
       "2017-11-06                                                           \n",
       "2017-11-13                                                           \n",
       "2017-11-20                                                           \n",
       "2017-11-27                                                           \n",
       "2017-12-04                                                           \n",
       "2017-12-11                                                           \n",
       "2017-12-18                                                           \n",
       "2017-12-25                                                           \n",
       "2018-01-01                                                           \n",
       "2018-01-08                                                           \n",
       "2018-01-15                                                           \n",
       "2018-01-22                                                           \n",
       "2018-01-29                                                           \n",
       "2018-02-05                                                           \n",
       "2018-02-12                                                           \n",
       "2018-02-19                                                           \n",
       "2018-02-26                                                           \n",
       "2018-03-05                                                           \n",
       "2018-03-12                                                           \n",
       "2018-03-19                                                           \n",
       "2018-03-26                                                           \n",
       "2018-04-02                                                           \n",
       "2018-04-09                                                           \n",
       "2018-04-16                                                           \n",
       "2018-04-23                                                           \n",
       "2018-04-30                                                           \n",
       "2018-05-07                                                           \n",
       "2018-05-14                                                           \n",
       "2018-05-21                                                           \n",
       "2018-05-28                                                           \n",
       "\n",
       "[53 rows x 53 columns]"
      ]
     },
     "execution_count": 26,
     "metadata": {},
     "output_type": "execute_result"
    }
   ],
   "source": [
    "visits_pivot = visits_log.pivot_table(index='first_session_week', columns='cohort_lifetime', values='Uid', aggfunc='count')\n",
    "visits_pivot.fillna('',inplace=True)\n",
    "visits_pivot"
   ]
  },
  {
   "cell_type": "markdown",
   "metadata": {},
   "source": [
    "This shows visits per week:\n",
    "There is a dramatic fall down in the number of visitors after the first month they visits."
   ]
  },
  {
   "cell_type": "markdown",
   "metadata": {},
   "source": [
    "<div class=\"alert alert-block alert-success\">\n",
    "<b>Reviewer's comment v2</b> Nicely done"
   ]
  },
  {
   "cell_type": "code",
   "execution_count": 27,
   "metadata": {},
   "outputs": [],
   "source": [
    "initial_visitors = cohorts[cohorts['cohort_lifetime'] == 0][['first_session_week', 'Uid']]\n",
    "initial_visitors = initial_visitors.rename(columns={'Uid' :'cohorts_users'})\n",
    "cohorts = cohorts.merge(initial_visitors, on='first_session_week')"
   ]
  },
  {
   "cell_type": "code",
   "execution_count": 28,
   "metadata": {},
   "outputs": [
    {
     "data": {
      "text/html": [
       "<div>\n",
       "<style scoped>\n",
       "    .dataframe tbody tr th:only-of-type {\n",
       "        vertical-align: middle;\n",
       "    }\n",
       "\n",
       "    .dataframe tbody tr th {\n",
       "        vertical-align: top;\n",
       "    }\n",
       "\n",
       "    .dataframe thead th {\n",
       "        text-align: right;\n",
       "    }\n",
       "</style>\n",
       "<table border=\"1\" class=\"dataframe\">\n",
       "  <thead>\n",
       "    <tr style=\"text-align: right;\">\n",
       "      <th></th>\n",
       "      <th>first_session_week</th>\n",
       "      <th>cohort_lifetime</th>\n",
       "      <th>Uid</th>\n",
       "      <th>cohorts_users</th>\n",
       "      <th>retention</th>\n",
       "    </tr>\n",
       "  </thead>\n",
       "  <tbody>\n",
       "    <tr>\n",
       "      <td>0</td>\n",
       "      <td>2017-05-29</td>\n",
       "      <td>0</td>\n",
       "      <td>2309</td>\n",
       "      <td>2309</td>\n",
       "      <td>100.000000</td>\n",
       "    </tr>\n",
       "    <tr>\n",
       "      <td>1</td>\n",
       "      <td>2017-05-29</td>\n",
       "      <td>1</td>\n",
       "      <td>454</td>\n",
       "      <td>2309</td>\n",
       "      <td>19.662191</td>\n",
       "    </tr>\n",
       "    <tr>\n",
       "      <td>2</td>\n",
       "      <td>2017-05-29</td>\n",
       "      <td>2</td>\n",
       "      <td>241</td>\n",
       "      <td>2309</td>\n",
       "      <td>10.437419</td>\n",
       "    </tr>\n",
       "    <tr>\n",
       "      <td>3</td>\n",
       "      <td>2017-05-29</td>\n",
       "      <td>3</td>\n",
       "      <td>194</td>\n",
       "      <td>2309</td>\n",
       "      <td>8.401906</td>\n",
       "    </tr>\n",
       "    <tr>\n",
       "      <td>4</td>\n",
       "      <td>2017-05-29</td>\n",
       "      <td>4</td>\n",
       "      <td>212</td>\n",
       "      <td>2309</td>\n",
       "      <td>9.181464</td>\n",
       "    </tr>\n",
       "    <tr>\n",
       "      <td>...</td>\n",
       "      <td>...</td>\n",
       "      <td>...</td>\n",
       "      <td>...</td>\n",
       "      <td>...</td>\n",
       "      <td>...</td>\n",
       "    </tr>\n",
       "    <tr>\n",
       "      <td>1426</td>\n",
       "      <td>2018-05-14</td>\n",
       "      <td>1</td>\n",
       "      <td>172</td>\n",
       "      <td>3662</td>\n",
       "      <td>4.696887</td>\n",
       "    </tr>\n",
       "    <tr>\n",
       "      <td>1427</td>\n",
       "      <td>2018-05-14</td>\n",
       "      <td>2</td>\n",
       "      <td>86</td>\n",
       "      <td>3662</td>\n",
       "      <td>2.348443</td>\n",
       "    </tr>\n",
       "    <tr>\n",
       "      <td>1428</td>\n",
       "      <td>2018-05-21</td>\n",
       "      <td>0</td>\n",
       "      <td>3604</td>\n",
       "      <td>3604</td>\n",
       "      <td>100.000000</td>\n",
       "    </tr>\n",
       "    <tr>\n",
       "      <td>1429</td>\n",
       "      <td>2018-05-21</td>\n",
       "      <td>1</td>\n",
       "      <td>131</td>\n",
       "      <td>3604</td>\n",
       "      <td>3.634850</td>\n",
       "    </tr>\n",
       "    <tr>\n",
       "      <td>1430</td>\n",
       "      <td>2018-05-28</td>\n",
       "      <td>0</td>\n",
       "      <td>3993</td>\n",
       "      <td>3993</td>\n",
       "      <td>100.000000</td>\n",
       "    </tr>\n",
       "  </tbody>\n",
       "</table>\n",
       "<p>1431 rows × 5 columns</p>\n",
       "</div>"
      ],
      "text/plain": [
       "     first_session_week  cohort_lifetime   Uid  cohorts_users   retention\n",
       "0            2017-05-29                0  2309           2309  100.000000\n",
       "1            2017-05-29                1   454           2309   19.662191\n",
       "2            2017-05-29                2   241           2309   10.437419\n",
       "3            2017-05-29                3   194           2309    8.401906\n",
       "4            2017-05-29                4   212           2309    9.181464\n",
       "...                 ...              ...   ...            ...         ...\n",
       "1426         2018-05-14                1   172           3662    4.696887\n",
       "1427         2018-05-14                2    86           3662    2.348443\n",
       "1428         2018-05-21                0  3604           3604  100.000000\n",
       "1429         2018-05-21                1   131           3604    3.634850\n",
       "1430         2018-05-28                0  3993           3993  100.000000\n",
       "\n",
       "[1431 rows x 5 columns]"
      ]
     },
     "execution_count": 28,
     "metadata": {},
     "output_type": "execute_result"
    }
   ],
   "source": [
    "cohorts['retention'] = (cohorts['Uid'] / cohorts['cohorts_users'])*100\n",
    "cohorts"
   ]
  },
  {
   "cell_type": "code",
   "execution_count": 29,
   "metadata": {},
   "outputs": [],
   "source": [
    "retention_pivot = cohorts.pivot_table(index='first_session_week', columns='cohort_lifetime', values='retention', aggfunc='sum')"
   ]
  },
  {
   "cell_type": "code",
   "execution_count": 30,
   "metadata": {},
   "outputs": [],
   "source": [
    "import seaborn as sns\n",
    "from matplotlib import pyplot as plt"
   ]
  },
  {
   "cell_type": "code",
   "execution_count": 31,
   "metadata": {},
   "outputs": [
    {
     "data": {
      "text/plain": [
       "<matplotlib.axes._subplots.AxesSubplot at 0x7f3feef20f50>"
      ]
     },
     "execution_count": 31,
     "metadata": {},
     "output_type": "execute_result"
    },
    {
     "data": {
      "image/png": "[encoded data removed]",
      "text/plain": [
       "<Figure size 936x648 with 2 Axes>"
      ]
     },
     "metadata": {},
     "output_type": "display_data"
    }
   ],
   "source": [
    "sns.set(style='white')\n",
    "plt.figure(figsize=(13,9))\n",
    "plt.title('Cohorts weekly: Users session')\n",
    "sns.heatmap(retention_pivot, annot=False, fmt='.1%', linewidths=1, linecolor='gray')"
   ]
  },
  {
   "cell_type": "code",
   "execution_count": 32,
   "metadata": {},
   "outputs": [
    {
     "data": {
      "text/plain": [
       "<matplotlib.axes._subplots.AxesSubplot at 0x7f3fcf3564d0>"
      ]
     },
     "execution_count": 32,
     "metadata": {},
     "output_type": "execute_result"
    },
    {
     "data": {
      "image/png": "[encoded data removed]",
      "text/plain": [
       "<Figure size 936x648 with 2 Axes>"
      ]
     },
     "metadata": {},
     "output_type": "display_data"
    }
   ],
   "source": [
    "sns.set(style='white')\n",
    "plt.figure(figsize=(13,9))\n",
    "plt.title('Cohorts monthly: Users session')\n",
    "sns.heatmap(cohorts_month, annot=False, fmt='.1%', linewidths=1, linecolor='gray')"
   ]
  },
  {
   "cell_type": "markdown",
   "metadata": {},
   "source": [
    "This shows the visits per month:\n",
    "From the cohorts analyzing i can tell that most of the users that have been visits are not coming one month after the first visit."
   ]
  },
  {
   "cell_type": "markdown",
   "metadata": {},
   "source": [
    "<div class=\"alert alert-block alert-success\">\n",
    "<b>Reviewer's comment v1</b> You are absolutely right!"
   ]
  },
  {
   "cell_type": "code",
   "execution_count": 33,
   "metadata": {},
   "outputs": [
    {
     "data": {
      "text/html": [
       "<div>\n",
       "<style scoped>\n",
       "    .dataframe tbody tr th:only-of-type {\n",
       "        vertical-align: middle;\n",
       "    }\n",
       "\n",
       "    .dataframe tbody tr th {\n",
       "        vertical-align: top;\n",
       "    }\n",
       "\n",
       "    .dataframe thead th {\n",
       "        text-align: right;\n",
       "    }\n",
       "</style>\n",
       "<table border=\"1\" class=\"dataframe\">\n",
       "  <thead>\n",
       "    <tr style=\"text-align: right;\">\n",
       "      <th></th>\n",
       "      <th>session_month</th>\n",
       "      <th>visit_duration</th>\n",
       "    </tr>\n",
       "  </thead>\n",
       "  <tbody>\n",
       "    <tr>\n",
       "      <td>0</td>\n",
       "      <td>2017-06-01</td>\n",
       "      <td>888712358</td>\n",
       "    </tr>\n",
       "    <tr>\n",
       "      <td>1</td>\n",
       "      <td>2017-07-01</td>\n",
       "      <td>952988675</td>\n",
       "    </tr>\n",
       "    <tr>\n",
       "      <td>2</td>\n",
       "      <td>2017-08-01</td>\n",
       "      <td>766440043</td>\n",
       "    </tr>\n",
       "    <tr>\n",
       "      <td>3</td>\n",
       "      <td>2017-09-01</td>\n",
       "      <td>1291396352</td>\n",
       "    </tr>\n",
       "    <tr>\n",
       "      <td>4</td>\n",
       "      <td>2017-10-01</td>\n",
       "      <td>2056236006</td>\n",
       "    </tr>\n",
       "    <tr>\n",
       "      <td>5</td>\n",
       "      <td>2017-11-01</td>\n",
       "      <td>2403209699</td>\n",
       "    </tr>\n",
       "    <tr>\n",
       "      <td>6</td>\n",
       "      <td>2017-12-01</td>\n",
       "      <td>2271532795</td>\n",
       "    </tr>\n",
       "    <tr>\n",
       "      <td>7</td>\n",
       "      <td>2018-01-01</td>\n",
       "      <td>2018650109</td>\n",
       "    </tr>\n",
       "    <tr>\n",
       "      <td>8</td>\n",
       "      <td>2018-02-01</td>\n",
       "      <td>2016944622</td>\n",
       "    </tr>\n",
       "    <tr>\n",
       "      <td>9</td>\n",
       "      <td>2018-03-01</td>\n",
       "      <td>1934267677</td>\n",
       "    </tr>\n",
       "    <tr>\n",
       "      <td>10</td>\n",
       "      <td>2018-04-01</td>\n",
       "      <td>1440097865</td>\n",
       "    </tr>\n",
       "    <tr>\n",
       "      <td>11</td>\n",
       "      <td>2018-05-01</td>\n",
       "      <td>1430358211</td>\n",
       "    </tr>\n",
       "  </tbody>\n",
       "</table>\n",
       "</div>"
      ],
      "text/plain": [
       "   session_month  visit_duration\n",
       "0     2017-06-01       888712358\n",
       "1     2017-07-01       952988675\n",
       "2     2017-08-01       766440043\n",
       "3     2017-09-01      1291396352\n",
       "4     2017-10-01      2056236006\n",
       "5     2017-11-01      2403209699\n",
       "6     2017-12-01      2271532795\n",
       "7     2018-01-01      2018650109\n",
       "8     2018-02-01      2016944622\n",
       "9     2018-03-01      1934267677\n",
       "10    2018-04-01      1440097865\n",
       "11    2018-05-01      1430358211"
      ]
     },
     "execution_count": 33,
     "metadata": {},
     "output_type": "execute_result"
    }
   ],
   "source": [
    "visits_log['visit_duration'] = (pd.to_datetime(visits_log['End Ts']) - pd.to_datetime(visits_log['Start Ts_date'])).dt.seconds\n",
    "visits_log.groupby('session_month').agg({'visit_duration': 'sum'}).reset_index()"
   ]
  },
  {
   "cell_type": "code",
   "execution_count": 34,
   "metadata": {},
   "outputs": [
    {
     "data": {
      "text/plain": [
       "54175.94438508625"
      ]
     },
     "execution_count": 34,
     "metadata": {},
     "output_type": "execute_result"
    }
   ],
   "source": [
    "visits_log['visit_duration'].mean()"
   ]
  },
  {
   "cell_type": "code",
   "execution_count": 35,
   "metadata": {},
   "outputs": [
    {
     "data": {
      "image/png": "[encoded data removed]",
      "text/plain": [
       "<Figure size 504x504 with 1 Axes>"
      ]
     },
     "metadata": {},
     "output_type": "display_data"
    }
   ],
   "source": [
    "visits_log['visit_duration'].hist(bins=50,figsize=(7,7));"
   ]
  },
  {
   "cell_type": "code",
   "execution_count": 36,
   "metadata": {},
   "outputs": [
    {
     "data": {
      "text/plain": [
       "0    48360\n",
       "1    50700\n",
       "dtype: int64"
      ]
     },
     "execution_count": 36,
     "metadata": {},
     "output_type": "execute_result"
    }
   ],
   "source": [
    "visits_log['visit_duration'].mode()"
   ]
  },
  {
   "cell_type": "markdown",
   "metadata": {},
   "source": [
    "Users loggin for more time duration at the end of the cohorts period which man thay using the app more then when they start using it."
   ]
  },
  {
   "cell_type": "code",
   "execution_count": 37,
   "metadata": {},
   "outputs": [],
   "source": [
    "visits_log['session_day'] = visits_log['Start Ts_date'].astype('datetime64[M]').dt.dayofweek\n",
    "visits_log.groupby('session_day').agg({'Uid': 'count'})\n",
    "daily_cohorts = visits_log.pivot_table(index='first_session_week', columns='session_day' , values='Uid', aggfunc='count')"
   ]
  },
  {
   "cell_type": "code",
   "execution_count": 38,
   "metadata": {},
   "outputs": [
    {
     "data": {
      "text/html": [
       "<div>\n",
       "<style scoped>\n",
       "    .dataframe tbody tr th:only-of-type {\n",
       "        vertical-align: middle;\n",
       "    }\n",
       "\n",
       "    .dataframe tbody tr th {\n",
       "        vertical-align: top;\n",
       "    }\n",
       "\n",
       "    .dataframe thead th {\n",
       "        text-align: right;\n",
       "    }\n",
       "</style>\n",
       "<table border=\"1\" class=\"dataframe\">\n",
       "  <thead>\n",
       "    <tr style=\"text-align: right;\">\n",
       "      <th>session_day</th>\n",
       "      <th>0</th>\n",
       "      <th>1</th>\n",
       "      <th>2</th>\n",
       "      <th>3</th>\n",
       "      <th>4</th>\n",
       "      <th>5</th>\n",
       "      <th>6</th>\n",
       "    </tr>\n",
       "    <tr>\n",
       "      <th>first_session_week</th>\n",
       "      <th></th>\n",
       "      <th></th>\n",
       "      <th></th>\n",
       "      <th></th>\n",
       "      <th></th>\n",
       "      <th></th>\n",
       "      <th></th>\n",
       "    </tr>\n",
       "  </thead>\n",
       "  <tbody>\n",
       "    <tr>\n",
       "      <td>2017-05-29</td>\n",
       "      <td>837</td>\n",
       "      <td>1340.0</td>\n",
       "      <td>1297</td>\n",
       "      <td>5034</td>\n",
       "      <td>1971</td>\n",
       "      <td>834</td>\n",
       "      <td>1724</td>\n",
       "    </tr>\n",
       "    <tr>\n",
       "      <td>2017-06-05</td>\n",
       "      <td>600</td>\n",
       "      <td>1008.0</td>\n",
       "      <td>801</td>\n",
       "      <td>6009</td>\n",
       "      <td>1393</td>\n",
       "      <td>583</td>\n",
       "      <td>1230</td>\n",
       "    </tr>\n",
       "    <tr>\n",
       "      <td>2017-06-12</td>\n",
       "      <td>408</td>\n",
       "      <td>446.0</td>\n",
       "      <td>400</td>\n",
       "      <td>3766</td>\n",
       "      <td>739</td>\n",
       "      <td>338</td>\n",
       "      <td>611</td>\n",
       "    </tr>\n",
       "    <tr>\n",
       "      <td>2017-06-19</td>\n",
       "      <td>186</td>\n",
       "      <td>289.0</td>\n",
       "      <td>251</td>\n",
       "      <td>3179</td>\n",
       "      <td>452</td>\n",
       "      <td>300</td>\n",
       "      <td>400</td>\n",
       "    </tr>\n",
       "    <tr>\n",
       "      <td>2017-06-26</td>\n",
       "      <td>245</td>\n",
       "      <td>374.0</td>\n",
       "      <td>287</td>\n",
       "      <td>2676</td>\n",
       "      <td>510</td>\n",
       "      <td>1052</td>\n",
       "      <td>425</td>\n",
       "    </tr>\n",
       "    <tr>\n",
       "      <td>2017-07-03</td>\n",
       "      <td>170</td>\n",
       "      <td>327.0</td>\n",
       "      <td>321</td>\n",
       "      <td>359</td>\n",
       "      <td>494</td>\n",
       "      <td>3514</td>\n",
       "      <td>413</td>\n",
       "    </tr>\n",
       "    <tr>\n",
       "      <td>2017-07-10</td>\n",
       "      <td>276</td>\n",
       "      <td>478.0</td>\n",
       "      <td>407</td>\n",
       "      <td>497</td>\n",
       "      <td>579</td>\n",
       "      <td>4552</td>\n",
       "      <td>489</td>\n",
       "    </tr>\n",
       "    <tr>\n",
       "      <td>2017-07-17</td>\n",
       "      <td>272</td>\n",
       "      <td>447.0</td>\n",
       "      <td>392</td>\n",
       "      <td>497</td>\n",
       "      <td>666</td>\n",
       "      <td>3899</td>\n",
       "      <td>507</td>\n",
       "    </tr>\n",
       "    <tr>\n",
       "      <td>2017-07-24</td>\n",
       "      <td>123</td>\n",
       "      <td>286.0</td>\n",
       "      <td>163</td>\n",
       "      <td>268</td>\n",
       "      <td>334</td>\n",
       "      <td>2379</td>\n",
       "      <td>282</td>\n",
       "    </tr>\n",
       "    <tr>\n",
       "      <td>2017-07-31</td>\n",
       "      <td>209</td>\n",
       "      <td>1977.0</td>\n",
       "      <td>253</td>\n",
       "      <td>297</td>\n",
       "      <td>376</td>\n",
       "      <td>377</td>\n",
       "      <td>351</td>\n",
       "    </tr>\n",
       "    <tr>\n",
       "      <td>2017-08-07</td>\n",
       "      <td>160</td>\n",
       "      <td>2359.0</td>\n",
       "      <td>183</td>\n",
       "      <td>216</td>\n",
       "      <td>338</td>\n",
       "      <td></td>\n",
       "      <td>263</td>\n",
       "    </tr>\n",
       "    <tr>\n",
       "      <td>2017-08-14</td>\n",
       "      <td>129</td>\n",
       "      <td>2652.0</td>\n",
       "      <td>193</td>\n",
       "      <td>215</td>\n",
       "      <td>428</td>\n",
       "      <td></td>\n",
       "      <td>303</td>\n",
       "    </tr>\n",
       "    <tr>\n",
       "      <td>2017-08-21</td>\n",
       "      <td>197</td>\n",
       "      <td>2977.0</td>\n",
       "      <td>247</td>\n",
       "      <td>452</td>\n",
       "      <td>564</td>\n",
       "      <td></td>\n",
       "      <td>447</td>\n",
       "    </tr>\n",
       "    <tr>\n",
       "      <td>2017-08-28</td>\n",
       "      <td>175</td>\n",
       "      <td>2082.0</td>\n",
       "      <td>347</td>\n",
       "      <td>351</td>\n",
       "      <td>1979</td>\n",
       "      <td></td>\n",
       "      <td>392</td>\n",
       "    </tr>\n",
       "    <tr>\n",
       "      <td>2017-09-04</td>\n",
       "      <td>200</td>\n",
       "      <td>155.0</td>\n",
       "      <td>359</td>\n",
       "      <td>434</td>\n",
       "      <td>4566</td>\n",
       "      <td></td>\n",
       "      <td>481</td>\n",
       "    </tr>\n",
       "    <tr>\n",
       "      <td>2017-09-11</td>\n",
       "      <td>232</td>\n",
       "      <td>125.0</td>\n",
       "      <td>424</td>\n",
       "      <td>428</td>\n",
       "      <td>4400</td>\n",
       "      <td></td>\n",
       "      <td>613</td>\n",
       "    </tr>\n",
       "    <tr>\n",
       "      <td>2017-09-18</td>\n",
       "      <td>244</td>\n",
       "      <td>135.0</td>\n",
       "      <td>513</td>\n",
       "      <td>463</td>\n",
       "      <td>4934</td>\n",
       "      <td></td>\n",
       "      <td>713</td>\n",
       "    </tr>\n",
       "    <tr>\n",
       "      <td>2017-09-25</td>\n",
       "      <td>273</td>\n",
       "      <td>143.0</td>\n",
       "      <td>547</td>\n",
       "      <td>462</td>\n",
       "      <td>5315</td>\n",
       "      <td></td>\n",
       "      <td>1636</td>\n",
       "    </tr>\n",
       "    <tr>\n",
       "      <td>2017-10-02</td>\n",
       "      <td>328</td>\n",
       "      <td>204.0</td>\n",
       "      <td>739</td>\n",
       "      <td>580</td>\n",
       "      <td>469</td>\n",
       "      <td></td>\n",
       "      <td>8163</td>\n",
       "    </tr>\n",
       "    <tr>\n",
       "      <td>2017-10-09</td>\n",
       "      <td>383</td>\n",
       "      <td>209.0</td>\n",
       "      <td>662</td>\n",
       "      <td>582</td>\n",
       "      <td>476</td>\n",
       "      <td></td>\n",
       "      <td>7001</td>\n",
       "    </tr>\n",
       "    <tr>\n",
       "      <td>2017-10-16</td>\n",
       "      <td>303</td>\n",
       "      <td>148.0</td>\n",
       "      <td>652</td>\n",
       "      <td>513</td>\n",
       "      <td>429</td>\n",
       "      <td></td>\n",
       "      <td>6770</td>\n",
       "    </tr>\n",
       "    <tr>\n",
       "      <td>2017-10-23</td>\n",
       "      <td>319</td>\n",
       "      <td>167.0</td>\n",
       "      <td>862</td>\n",
       "      <td>586</td>\n",
       "      <td>530</td>\n",
       "      <td></td>\n",
       "      <td>6765</td>\n",
       "    </tr>\n",
       "    <tr>\n",
       "      <td>2017-10-30</td>\n",
       "      <td>299</td>\n",
       "      <td>160.0</td>\n",
       "      <td>5254</td>\n",
       "      <td>490</td>\n",
       "      <td>506</td>\n",
       "      <td></td>\n",
       "      <td>2125</td>\n",
       "    </tr>\n",
       "    <tr>\n",
       "      <td>2017-11-06</td>\n",
       "      <td>370</td>\n",
       "      <td>162.0</td>\n",
       "      <td>6711</td>\n",
       "      <td>570</td>\n",
       "      <td>532</td>\n",
       "      <td></td>\n",
       "      <td>157</td>\n",
       "    </tr>\n",
       "    <tr>\n",
       "      <td>2017-11-13</td>\n",
       "      <td>397</td>\n",
       "      <td>167.0</td>\n",
       "      <td>7699</td>\n",
       "      <td>549</td>\n",
       "      <td>644</td>\n",
       "      <td></td>\n",
       "      <td>158</td>\n",
       "    </tr>\n",
       "    <tr>\n",
       "      <td>2017-11-20</td>\n",
       "      <td>883</td>\n",
       "      <td>319.0</td>\n",
       "      <td>9986</td>\n",
       "      <td>1302</td>\n",
       "      <td>1408</td>\n",
       "      <td></td>\n",
       "      <td>309</td>\n",
       "    </tr>\n",
       "    <tr>\n",
       "      <td>2017-11-27</td>\n",
       "      <td>551</td>\n",
       "      <td>165.0</td>\n",
       "      <td>4019</td>\n",
       "      <td>809</td>\n",
       "      <td>3805</td>\n",
       "      <td></td>\n",
       "      <td>191</td>\n",
       "    </tr>\n",
       "    <tr>\n",
       "      <td>2017-12-04</td>\n",
       "      <td>396</td>\n",
       "      <td>142.0</td>\n",
       "      <td></td>\n",
       "      <td>553</td>\n",
       "      <td>7459</td>\n",
       "      <td></td>\n",
       "      <td>179</td>\n",
       "    </tr>\n",
       "    <tr>\n",
       "      <td>2017-12-11</td>\n",
       "      <td>538</td>\n",
       "      <td>157.0</td>\n",
       "      <td></td>\n",
       "      <td>602</td>\n",
       "      <td>7042</td>\n",
       "      <td></td>\n",
       "      <td>142</td>\n",
       "    </tr>\n",
       "    <tr>\n",
       "      <td>2017-12-18</td>\n",
       "      <td>533</td>\n",
       "      <td>165.0</td>\n",
       "      <td></td>\n",
       "      <td>574</td>\n",
       "      <td>6115</td>\n",
       "      <td></td>\n",
       "      <td>154</td>\n",
       "    </tr>\n",
       "    <tr>\n",
       "      <td>2017-12-25</td>\n",
       "      <td>642</td>\n",
       "      <td>175.0</td>\n",
       "      <td></td>\n",
       "      <td>675</td>\n",
       "      <td>6437</td>\n",
       "      <td></td>\n",
       "      <td>135</td>\n",
       "    </tr>\n",
       "    <tr>\n",
       "      <td>2018-01-01</td>\n",
       "      <td>6221</td>\n",
       "      <td>84.0</td>\n",
       "      <td></td>\n",
       "      <td>449</td>\n",
       "      <td></td>\n",
       "      <td></td>\n",
       "      <td>119</td>\n",
       "    </tr>\n",
       "    <tr>\n",
       "      <td>2018-01-08</td>\n",
       "      <td>5679</td>\n",
       "      <td>147.0</td>\n",
       "      <td></td>\n",
       "      <td>788</td>\n",
       "      <td></td>\n",
       "      <td></td>\n",
       "      <td>186</td>\n",
       "    </tr>\n",
       "    <tr>\n",
       "      <td>2018-01-15</td>\n",
       "      <td>5808</td>\n",
       "      <td>124.0</td>\n",
       "      <td></td>\n",
       "      <td>765</td>\n",
       "      <td></td>\n",
       "      <td></td>\n",
       "      <td>164</td>\n",
       "    </tr>\n",
       "    <tr>\n",
       "      <td>2018-01-22</td>\n",
       "      <td>5680</td>\n",
       "      <td>182.0</td>\n",
       "      <td></td>\n",
       "      <td>1019</td>\n",
       "      <td></td>\n",
       "      <td></td>\n",
       "      <td>178</td>\n",
       "    </tr>\n",
       "    <tr>\n",
       "      <td>2018-01-29</td>\n",
       "      <td>2673</td>\n",
       "      <td>193.0</td>\n",
       "      <td></td>\n",
       "      <td>5108</td>\n",
       "      <td></td>\n",
       "      <td></td>\n",
       "      <td>211</td>\n",
       "    </tr>\n",
       "    <tr>\n",
       "      <td>2018-02-05</td>\n",
       "      <td></td>\n",
       "      <td>191.0</td>\n",
       "      <td></td>\n",
       "      <td>7064</td>\n",
       "      <td></td>\n",
       "      <td></td>\n",
       "      <td>177</td>\n",
       "    </tr>\n",
       "    <tr>\n",
       "      <td>2018-02-12</td>\n",
       "      <td></td>\n",
       "      <td>164.0</td>\n",
       "      <td></td>\n",
       "      <td>6903</td>\n",
       "      <td></td>\n",
       "      <td></td>\n",
       "      <td>211</td>\n",
       "    </tr>\n",
       "    <tr>\n",
       "      <td>2018-02-19</td>\n",
       "      <td></td>\n",
       "      <td>169.0</td>\n",
       "      <td></td>\n",
       "      <td>6440</td>\n",
       "      <td></td>\n",
       "      <td></td>\n",
       "      <td>204</td>\n",
       "    </tr>\n",
       "    <tr>\n",
       "      <td>2018-02-26</td>\n",
       "      <td></td>\n",
       "      <td>197.0</td>\n",
       "      <td></td>\n",
       "      <td>6121</td>\n",
       "      <td></td>\n",
       "      <td></td>\n",
       "      <td>232</td>\n",
       "    </tr>\n",
       "    <tr>\n",
       "      <td>2018-03-05</td>\n",
       "      <td></td>\n",
       "      <td>137.0</td>\n",
       "      <td></td>\n",
       "      <td>5782</td>\n",
       "      <td></td>\n",
       "      <td></td>\n",
       "      <td>258</td>\n",
       "    </tr>\n",
       "    <tr>\n",
       "      <td>2018-03-12</td>\n",
       "      <td></td>\n",
       "      <td>181.0</td>\n",
       "      <td></td>\n",
       "      <td>5004</td>\n",
       "      <td></td>\n",
       "      <td></td>\n",
       "      <td>260</td>\n",
       "    </tr>\n",
       "    <tr>\n",
       "      <td>2018-03-19</td>\n",
       "      <td></td>\n",
       "      <td>210.0</td>\n",
       "      <td></td>\n",
       "      <td>6281</td>\n",
       "      <td></td>\n",
       "      <td></td>\n",
       "      <td>354</td>\n",
       "    </tr>\n",
       "    <tr>\n",
       "      <td>2018-03-26</td>\n",
       "      <td></td>\n",
       "      <td>260.0</td>\n",
       "      <td></td>\n",
       "      <td>3654</td>\n",
       "      <td></td>\n",
       "      <td></td>\n",
       "      <td>325</td>\n",
       "    </tr>\n",
       "    <tr>\n",
       "      <td>2018-04-02</td>\n",
       "      <td></td>\n",
       "      <td>217.0</td>\n",
       "      <td></td>\n",
       "      <td></td>\n",
       "      <td></td>\n",
       "      <td></td>\n",
       "      <td>4509</td>\n",
       "    </tr>\n",
       "    <tr>\n",
       "      <td>2018-04-09</td>\n",
       "      <td></td>\n",
       "      <td>243.0</td>\n",
       "      <td></td>\n",
       "      <td></td>\n",
       "      <td></td>\n",
       "      <td></td>\n",
       "      <td>4358</td>\n",
       "    </tr>\n",
       "    <tr>\n",
       "      <td>2018-04-16</td>\n",
       "      <td></td>\n",
       "      <td>345.0</td>\n",
       "      <td></td>\n",
       "      <td></td>\n",
       "      <td></td>\n",
       "      <td></td>\n",
       "      <td>4598</td>\n",
       "    </tr>\n",
       "    <tr>\n",
       "      <td>2018-04-23</td>\n",
       "      <td></td>\n",
       "      <td>506.0</td>\n",
       "      <td></td>\n",
       "      <td></td>\n",
       "      <td></td>\n",
       "      <td></td>\n",
       "      <td>4208</td>\n",
       "    </tr>\n",
       "    <tr>\n",
       "      <td>2018-04-30</td>\n",
       "      <td></td>\n",
       "      <td>2685.0</td>\n",
       "      <td></td>\n",
       "      <td></td>\n",
       "      <td></td>\n",
       "      <td></td>\n",
       "      <td>337</td>\n",
       "    </tr>\n",
       "    <tr>\n",
       "      <td>2018-05-07</td>\n",
       "      <td></td>\n",
       "      <td>3167.0</td>\n",
       "      <td></td>\n",
       "      <td></td>\n",
       "      <td></td>\n",
       "      <td></td>\n",
       "      <td></td>\n",
       "    </tr>\n",
       "    <tr>\n",
       "      <td>2018-05-14</td>\n",
       "      <td></td>\n",
       "      <td>3920.0</td>\n",
       "      <td></td>\n",
       "      <td></td>\n",
       "      <td></td>\n",
       "      <td></td>\n",
       "      <td></td>\n",
       "    </tr>\n",
       "    <tr>\n",
       "      <td>2018-05-21</td>\n",
       "      <td></td>\n",
       "      <td>3735.0</td>\n",
       "      <td></td>\n",
       "      <td></td>\n",
       "      <td></td>\n",
       "      <td></td>\n",
       "      <td></td>\n",
       "    </tr>\n",
       "    <tr>\n",
       "      <td>2018-05-28</td>\n",
       "      <td></td>\n",
       "      <td>3993.0</td>\n",
       "      <td></td>\n",
       "      <td></td>\n",
       "      <td></td>\n",
       "      <td></td>\n",
       "      <td></td>\n",
       "    </tr>\n",
       "  </tbody>\n",
       "</table>\n",
       "</div>"
      ],
      "text/plain": [
       "session_day            0       1     2     3     4     5     6\n",
       "first_session_week                                            \n",
       "2017-05-29           837  1340.0  1297  5034  1971   834  1724\n",
       "2017-06-05           600  1008.0   801  6009  1393   583  1230\n",
       "2017-06-12           408   446.0   400  3766   739   338   611\n",
       "2017-06-19           186   289.0   251  3179   452   300   400\n",
       "2017-06-26           245   374.0   287  2676   510  1052   425\n",
       "2017-07-03           170   327.0   321   359   494  3514   413\n",
       "2017-07-10           276   478.0   407   497   579  4552   489\n",
       "2017-07-17           272   447.0   392   497   666  3899   507\n",
       "2017-07-24           123   286.0   163   268   334  2379   282\n",
       "2017-07-31           209  1977.0   253   297   376   377   351\n",
       "2017-08-07           160  2359.0   183   216   338         263\n",
       "2017-08-14           129  2652.0   193   215   428         303\n",
       "2017-08-21           197  2977.0   247   452   564         447\n",
       "2017-08-28           175  2082.0   347   351  1979         392\n",
       "2017-09-04           200   155.0   359   434  4566         481\n",
       "2017-09-11           232   125.0   424   428  4400         613\n",
       "2017-09-18           244   135.0   513   463  4934         713\n",
       "2017-09-25           273   143.0   547   462  5315        1636\n",
       "2017-10-02           328   204.0   739   580   469        8163\n",
       "2017-10-09           383   209.0   662   582   476        7001\n",
       "2017-10-16           303   148.0   652   513   429        6770\n",
       "2017-10-23           319   167.0   862   586   530        6765\n",
       "2017-10-30           299   160.0  5254   490   506        2125\n",
       "2017-11-06           370   162.0  6711   570   532         157\n",
       "2017-11-13           397   167.0  7699   549   644         158\n",
       "2017-11-20           883   319.0  9986  1302  1408         309\n",
       "2017-11-27           551   165.0  4019   809  3805         191\n",
       "2017-12-04           396   142.0         553  7459         179\n",
       "2017-12-11           538   157.0         602  7042         142\n",
       "2017-12-18           533   165.0         574  6115         154\n",
       "2017-12-25           642   175.0         675  6437         135\n",
       "2018-01-01          6221    84.0         449               119\n",
       "2018-01-08          5679   147.0         788               186\n",
       "2018-01-15          5808   124.0         765               164\n",
       "2018-01-22          5680   182.0        1019               178\n",
       "2018-01-29          2673   193.0        5108               211\n",
       "2018-02-05                 191.0        7064               177\n",
       "2018-02-12                 164.0        6903               211\n",
       "2018-02-19                 169.0        6440               204\n",
       "2018-02-26                 197.0        6121               232\n",
       "2018-03-05                 137.0        5782               258\n",
       "2018-03-12                 181.0        5004               260\n",
       "2018-03-19                 210.0        6281               354\n",
       "2018-03-26                 260.0        3654               325\n",
       "2018-04-02                 217.0                          4509\n",
       "2018-04-09                 243.0                          4358\n",
       "2018-04-16                 345.0                          4598\n",
       "2018-04-23                 506.0                          4208\n",
       "2018-04-30                2685.0                           337\n",
       "2018-05-07                3167.0                              \n",
       "2018-05-14                3920.0                              \n",
       "2018-05-21                3735.0                              \n",
       "2018-05-28                3993.0                              "
      ]
     },
     "execution_count": 38,
     "metadata": {},
     "output_type": "execute_result"
    }
   ],
   "source": [
    "daily_cohorts.fillna('')"
   ]
  },
  {
   "cell_type": "markdown",
   "metadata": {},
   "source": [
    "This are the visits per they during every week of the time period,\n",
    "at '2017-12-04' there's a signifcalt climbing in the numbers of visits per day.\n",
    "now that intresting maybe it becasue of the holydays."
   ]
  },
  {
   "cell_type": "markdown",
   "metadata": {},
   "source": [
    "<div class=\"alert alert-block alert-success\">\n",
    "<b>Reviewer's comment v1</b> Well done"
   ]
  },
  {
   "cell_type": "markdown",
   "metadata": {},
   "source": [
    "# Sales and revenue analyzing"
   ]
  },
  {
   "cell_type": "code",
   "execution_count": 39,
   "metadata": {},
   "outputs": [],
   "source": [
    "orders_log['order_date'] = orders_log['Buy Ts'].astype('datetime64[M]').dt.date\n",
    "order_first_month = orders_log.groupby('Uid').agg({'order_date': 'min'})\n",
    "order_first_month.columns = ['order_first_month']\n",
    "orders_log = orders_log.merge(order_first_month, on='Uid')"
   ]
  },
  {
   "cell_type": "code",
   "execution_count": 40,
   "metadata": {},
   "outputs": [],
   "source": [
    "orders_log['cohorts_lifetime'] = (orders_log['order_date'] - orders_log['order_first_month'])/ np.timedelta64(1,'M')\n",
    "orders_log['cohorts_lifetime'] = orders_log['cohorts_lifetime'].astype(int)"
   ]
  },
  {
   "cell_type": "code",
   "execution_count": 41,
   "metadata": {},
   "outputs": [],
   "source": [
    "cohorts = (\n",
    "    orders_log.groupby(['order_first_month', 'cohorts_lifetime']).agg({'Uid': 'nunique'})\n",
    "    .reset_index()\n",
    ")\n",
    "initial_order_cohort = cohorts[cohorts['cohorts_lifetime'] == 0][['order_first_month', 'Uid']]\n",
    "initial_order_cohort = initial_order_cohort.rename(columns={'Uid': 'n_first_orders'})\n",
    "orders_log = orders_log.merge(initial_order_cohort, on='order_first_month')"
   ]
  },
  {
   "cell_type": "code",
   "execution_count": 42,
   "metadata": {},
   "outputs": [
    {
     "data": {
      "text/html": [
       "<div>\n",
       "<style scoped>\n",
       "    .dataframe tbody tr th:only-of-type {\n",
       "        vertical-align: middle;\n",
       "    }\n",
       "\n",
       "    .dataframe tbody tr th {\n",
       "        vertical-align: top;\n",
       "    }\n",
       "\n",
       "    .dataframe thead th {\n",
       "        text-align: right;\n",
       "    }\n",
       "</style>\n",
       "<table border=\"1\" class=\"dataframe\">\n",
       "  <thead>\n",
       "    <tr style=\"text-align: right;\">\n",
       "      <th>cohorts_lifetime</th>\n",
       "      <th>0</th>\n",
       "      <th>1</th>\n",
       "      <th>2</th>\n",
       "      <th>3</th>\n",
       "      <th>4</th>\n",
       "      <th>5</th>\n",
       "      <th>6</th>\n",
       "      <th>7</th>\n",
       "      <th>8</th>\n",
       "      <th>9</th>\n",
       "      <th>10</th>\n",
       "    </tr>\n",
       "    <tr>\n",
       "      <th>order_first_month</th>\n",
       "      <th></th>\n",
       "      <th></th>\n",
       "      <th></th>\n",
       "      <th></th>\n",
       "      <th></th>\n",
       "      <th></th>\n",
       "      <th></th>\n",
       "      <th></th>\n",
       "      <th></th>\n",
       "      <th></th>\n",
       "      <th></th>\n",
       "    </tr>\n",
       "  </thead>\n",
       "  <tbody>\n",
       "    <tr>\n",
       "      <td>2017-06-01</td>\n",
       "      <td>10539.31</td>\n",
       "      <td></td>\n",
       "      <td>885.34</td>\n",
       "      <td>1931.3</td>\n",
       "      <td>2068.58</td>\n",
       "      <td>1487.92</td>\n",
       "      <td>1922.74</td>\n",
       "      <td>1176.56</td>\n",
       "      <td>2344.66</td>\n",
       "      <td>1155.66</td>\n",
       "      <td>519.62</td>\n",
       "    </tr>\n",
       "    <tr>\n",
       "      <td>2017-07-01</td>\n",
       "      <td>11557.65</td>\n",
       "      <td>644.61</td>\n",
       "      <td>1199.05</td>\n",
       "      <td>690.31</td>\n",
       "      <td>339.97</td>\n",
       "      <td>300.08</td>\n",
       "      <td>231.16</td>\n",
       "      <td>582.77</td>\n",
       "      <td></td>\n",
       "      <td>582.32</td>\n",
       "      <td></td>\n",
       "    </tr>\n",
       "    <tr>\n",
       "      <td>2017-08-01</td>\n",
       "      <td>7228.83</td>\n",
       "      <td>646.63</td>\n",
       "      <td>628.12</td>\n",
       "      <td>536.05</td>\n",
       "      <td>676.85</td>\n",
       "      <td>388.45</td>\n",
       "      <td>843.47</td>\n",
       "      <td>400.33</td>\n",
       "      <td>257.53</td>\n",
       "      <td></td>\n",
       "      <td></td>\n",
       "    </tr>\n",
       "    <tr>\n",
       "      <td>2017-09-01</td>\n",
       "      <td>17453.02</td>\n",
       "      <td></td>\n",
       "      <td>11606</td>\n",
       "      <td></td>\n",
       "      <td>1033.84</td>\n",
       "      <td>3480.93</td>\n",
       "      <td>627.57</td>\n",
       "      <td>474.92</td>\n",
       "      <td></td>\n",
       "      <td></td>\n",
       "      <td></td>\n",
       "    </tr>\n",
       "    <tr>\n",
       "      <td>2017-10-01</td>\n",
       "      <td>21716.20</td>\n",
       "      <td>2325.21</td>\n",
       "      <td>830.65</td>\n",
       "      <td>682.01</td>\n",
       "      <td>1180.14</td>\n",
       "      <td>368.1</td>\n",
       "      <td>501.14</td>\n",
       "      <td></td>\n",
       "      <td></td>\n",
       "      <td></td>\n",
       "      <td></td>\n",
       "    </tr>\n",
       "    <tr>\n",
       "      <td>2017-11-01</td>\n",
       "      <td>22665.53</td>\n",
       "      <td></td>\n",
       "      <td>814.39</td>\n",
       "      <td>1930.17</td>\n",
       "      <td>219.88</td>\n",
       "      <td>469.02</td>\n",
       "      <td></td>\n",
       "      <td></td>\n",
       "      <td></td>\n",
       "      <td></td>\n",
       "      <td></td>\n",
       "    </tr>\n",
       "    <tr>\n",
       "      <td>2017-12-01</td>\n",
       "      <td>20767.49</td>\n",
       "      <td>1141.22</td>\n",
       "      <td>8723.8</td>\n",
       "      <td>1371.57</td>\n",
       "      <td>1481.66</td>\n",
       "      <td></td>\n",
       "      <td></td>\n",
       "      <td></td>\n",
       "      <td></td>\n",
       "      <td></td>\n",
       "      <td></td>\n",
       "    </tr>\n",
       "    <tr>\n",
       "      <td>2018-01-01</td>\n",
       "      <td>13949.50</td>\n",
       "      <td>2020.56</td>\n",
       "      <td>481.59</td>\n",
       "      <td>211.48</td>\n",
       "      <td></td>\n",
       "      <td></td>\n",
       "      <td></td>\n",
       "      <td></td>\n",
       "      <td></td>\n",
       "      <td></td>\n",
       "      <td></td>\n",
       "    </tr>\n",
       "    <tr>\n",
       "      <td>2018-02-01</td>\n",
       "      <td>16193.14</td>\n",
       "      <td>286.66</td>\n",
       "      <td>270.7</td>\n",
       "      <td></td>\n",
       "      <td></td>\n",
       "      <td></td>\n",
       "      <td></td>\n",
       "      <td></td>\n",
       "      <td></td>\n",
       "      <td></td>\n",
       "      <td></td>\n",
       "    </tr>\n",
       "    <tr>\n",
       "      <td>2018-03-01</td>\n",
       "      <td>17095.49</td>\n",
       "      <td>1063.05</td>\n",
       "      <td>1114.87</td>\n",
       "      <td></td>\n",
       "      <td></td>\n",
       "      <td></td>\n",
       "      <td></td>\n",
       "      <td></td>\n",
       "      <td></td>\n",
       "      <td></td>\n",
       "      <td></td>\n",
       "    </tr>\n",
       "    <tr>\n",
       "      <td>2018-04-01</td>\n",
       "      <td>11810.61</td>\n",
       "      <td></td>\n",
       "      <td></td>\n",
       "      <td></td>\n",
       "      <td></td>\n",
       "      <td></td>\n",
       "      <td></td>\n",
       "      <td></td>\n",
       "      <td></td>\n",
       "      <td></td>\n",
       "      <td></td>\n",
       "    </tr>\n",
       "    <tr>\n",
       "      <td>2018-05-01</td>\n",
       "      <td>13925.76</td>\n",
       "      <td></td>\n",
       "      <td></td>\n",
       "      <td></td>\n",
       "      <td></td>\n",
       "      <td></td>\n",
       "      <td></td>\n",
       "      <td></td>\n",
       "      <td></td>\n",
       "      <td></td>\n",
       "      <td></td>\n",
       "    </tr>\n",
       "    <tr>\n",
       "      <td>2018-06-01</td>\n",
       "      <td>3.42</td>\n",
       "      <td></td>\n",
       "      <td></td>\n",
       "      <td></td>\n",
       "      <td></td>\n",
       "      <td></td>\n",
       "      <td></td>\n",
       "      <td></td>\n",
       "      <td></td>\n",
       "      <td></td>\n",
       "      <td></td>\n",
       "    </tr>\n",
       "  </tbody>\n",
       "</table>\n",
       "</div>"
      ],
      "text/plain": [
       "cohorts_lifetime         0        1        2        3        4        5   \\\n",
       "order_first_month                                                          \n",
       "2017-06-01         10539.31            885.34   1931.3  2068.58  1487.92   \n",
       "2017-07-01         11557.65   644.61  1199.05   690.31   339.97   300.08   \n",
       "2017-08-01          7228.83   646.63   628.12   536.05   676.85   388.45   \n",
       "2017-09-01         17453.02             11606           1033.84  3480.93   \n",
       "2017-10-01         21716.20  2325.21   830.65   682.01  1180.14    368.1   \n",
       "2017-11-01         22665.53            814.39  1930.17   219.88   469.02   \n",
       "2017-12-01         20767.49  1141.22   8723.8  1371.57  1481.66            \n",
       "2018-01-01         13949.50  2020.56   481.59   211.48                     \n",
       "2018-02-01         16193.14   286.66    270.7                              \n",
       "2018-03-01         17095.49  1063.05  1114.87                              \n",
       "2018-04-01         11810.61                                                \n",
       "2018-05-01         13925.76                                                \n",
       "2018-06-01             3.42                                                \n",
       "\n",
       "cohorts_lifetime        6        7        8        9       10  \n",
       "order_first_month                                              \n",
       "2017-06-01         1922.74  1176.56  2344.66  1155.66  519.62  \n",
       "2017-07-01          231.16   582.77            582.32          \n",
       "2017-08-01          843.47   400.33   257.53                   \n",
       "2017-09-01          627.57   474.92                            \n",
       "2017-10-01          501.14                                     \n",
       "2017-11-01                                                     \n",
       "2017-12-01                                                     \n",
       "2018-01-01                                                     \n",
       "2018-02-01                                                     \n",
       "2018-03-01                                                     \n",
       "2018-04-01                                                     \n",
       "2018-05-01                                                     \n",
       "2018-06-01                                                     "
      ]
     },
     "execution_count": 42,
     "metadata": {},
     "output_type": "execute_result"
    }
   ],
   "source": [
    "revenue_pivot = orders_log.pivot_table(index='order_first_month', columns='cohorts_lifetime', values='Revenue', aggfunc='sum')\n",
    "revenue_pivot.fillna('',inplace=True)\n",
    "revenue_pivot"
   ]
  },
  {
   "cell_type": "markdown",
   "metadata": {},
   "source": [
    "According to the data the company has suffer decrease in the revenue by the end of the period."
   ]
  },
  {
   "cell_type": "code",
   "execution_count": 43,
   "metadata": {},
   "outputs": [],
   "source": [
    "n_buyers = orders_log.groupby('order_first_month').agg({'Uid':'nunique'})\n",
    "n_buyers = n_buyers.rename(columns={'Uid':'n_buyers'})\n",
    "orders_log = orders_log.join(n_buyers, on='order_first_month')"
   ]
  },
  {
   "cell_type": "code",
   "execution_count": 44,
   "metadata": {},
   "outputs": [],
   "source": [
    "orders_log['ltv'] = orders_log['Revenue'] / orders_log['n_buyers']"
   ]
  },
  {
   "cell_type": "code",
   "execution_count": 45,
   "metadata": {},
   "outputs": [],
   "source": [
    "orders_log['age'] = (\n",
    "    orders_log['order_date'] - orders_log['order_first_month']\n",
    ")/ np.timedelta64(1,'M')\n",
    "orders_log['age'] = orders_log['age'].round().astype(int)"
   ]
  },
  {
   "cell_type": "code",
   "execution_count": 46,
   "metadata": {},
   "outputs": [
    {
     "data": {
      "text/html": [
       "<div>\n",
       "<style scoped>\n",
       "    .dataframe tbody tr th:only-of-type {\n",
       "        vertical-align: middle;\n",
       "    }\n",
       "\n",
       "    .dataframe tbody tr th {\n",
       "        vertical-align: top;\n",
       "    }\n",
       "\n",
       "    .dataframe thead th {\n",
       "        text-align: right;\n",
       "    }\n",
       "</style>\n",
       "<table border=\"1\" class=\"dataframe\">\n",
       "  <thead>\n",
       "    <tr style=\"text-align: right;\">\n",
       "      <th>age</th>\n",
       "      <th>0</th>\n",
       "      <th>1</th>\n",
       "      <th>2</th>\n",
       "      <th>3</th>\n",
       "      <th>4</th>\n",
       "      <th>5</th>\n",
       "      <th>6</th>\n",
       "      <th>7</th>\n",
       "      <th>8</th>\n",
       "      <th>9</th>\n",
       "      <th>10</th>\n",
       "      <th>11</th>\n",
       "    </tr>\n",
       "    <tr>\n",
       "      <th>order_first_month</th>\n",
       "      <th></th>\n",
       "      <th></th>\n",
       "      <th></th>\n",
       "      <th></th>\n",
       "      <th></th>\n",
       "      <th></th>\n",
       "      <th></th>\n",
       "      <th></th>\n",
       "      <th></th>\n",
       "      <th></th>\n",
       "      <th></th>\n",
       "      <th></th>\n",
       "    </tr>\n",
       "  </thead>\n",
       "  <tbody>\n",
       "    <tr>\n",
       "      <td>2017-06-01</td>\n",
       "      <td>0.002007</td>\n",
       "      <td>0.00274197</td>\n",
       "      <td>0.00251516</td>\n",
       "      <td>0.00422421</td>\n",
       "      <td>0.00350182</td>\n",
       "      <td>0.00337386</td>\n",
       "      <td>0.00344362</td>\n",
       "      <td>0.00334248</td>\n",
       "      <td>0.0026095</td>\n",
       "      <td>0.0039594</td>\n",
       "      <td>0.00595063</td>\n",
       "      <td>0.0029867</td>\n",
       "    </tr>\n",
       "    <tr>\n",
       "      <td>2017-07-01</td>\n",
       "      <td>0.002749</td>\n",
       "      <td>0.00335211</td>\n",
       "      <td>0.00519609</td>\n",
       "      <td>0.00345169</td>\n",
       "      <td>0.00245544</td>\n",
       "      <td>0.00190302</td>\n",
       "      <td>0.00197062</td>\n",
       "      <td>0.0028364</td>\n",
       "      <td>0.00277987</td>\n",
       "      <td>0.00613105</td>\n",
       "      <td>0.00293723</td>\n",
       "      <td></td>\n",
       "    </tr>\n",
       "    <tr>\n",
       "      <td>2017-08-01</td>\n",
       "      <td>0.003442</td>\n",
       "      <td>0.0043703</td>\n",
       "      <td>0.00458482</td>\n",
       "      <td>0.00483058</td>\n",
       "      <td>0.00581237</td>\n",
       "      <td>0.00457323</td>\n",
       "      <td>0.00429927</td>\n",
       "      <td>0.0051924</td>\n",
       "      <td>0.00635243</td>\n",
       "      <td>0.00408648</td>\n",
       "      <td></td>\n",
       "      <td></td>\n",
       "    </tr>\n",
       "    <tr>\n",
       "      <td>2017-09-01</td>\n",
       "      <td>0.001924</td>\n",
       "      <td>0.00510313</td>\n",
       "      <td>0.00323559</td>\n",
       "      <td>0.0242426</td>\n",
       "      <td>0.00597848</td>\n",
       "      <td>0.00593639</td>\n",
       "      <td>0.00649637</td>\n",
       "      <td>0.00434196</td>\n",
       "      <td>0.0030165</td>\n",
       "      <td></td>\n",
       "      <td></td>\n",
       "      <td></td>\n",
       "    </tr>\n",
       "    <tr>\n",
       "      <td>2017-10-01</td>\n",
       "      <td>0.001008</td>\n",
       "      <td>0.00170625</td>\n",
       "      <td>0.00118144</td>\n",
       "      <td>0.00128808</td>\n",
       "      <td>0.00117488</td>\n",
       "      <td>0.00116856</td>\n",
       "      <td>0.000986229</td>\n",
       "      <td>0.00092376</td>\n",
       "      <td></td>\n",
       "      <td></td>\n",
       "      <td></td>\n",
       "      <td></td>\n",
       "    </tr>\n",
       "    <tr>\n",
       "      <td>2017-11-01</td>\n",
       "      <td>0.001071</td>\n",
       "      <td>0.00100562</td>\n",
       "      <td>0.00109646</td>\n",
       "      <td>0.00154006</td>\n",
       "      <td>0.00108833</td>\n",
       "      <td>0.000913203</td>\n",
       "      <td>0.00112674</td>\n",
       "      <td></td>\n",
       "      <td></td>\n",
       "      <td></td>\n",
       "      <td></td>\n",
       "      <td></td>\n",
       "    </tr>\n",
       "    <tr>\n",
       "      <td>2017-12-01</td>\n",
       "      <td>0.000938</td>\n",
       "      <td>0.000964349</td>\n",
       "      <td>0.00457969</td>\n",
       "      <td>0.00595126</td>\n",
       "      <td>0.00363872</td>\n",
       "      <td>0.0032195</td>\n",
       "      <td></td>\n",
       "      <td></td>\n",
       "      <td></td>\n",
       "      <td></td>\n",
       "      <td></td>\n",
       "      <td></td>\n",
       "    </tr>\n",
       "    <tr>\n",
       "      <td>2018-01-01</td>\n",
       "      <td>0.001093</td>\n",
       "      <td>0.00131589</td>\n",
       "      <td>0.00191372</td>\n",
       "      <td>0.00223091</td>\n",
       "      <td>0.000803819</td>\n",
       "      <td></td>\n",
       "      <td></td>\n",
       "      <td></td>\n",
       "      <td></td>\n",
       "      <td></td>\n",
       "      <td></td>\n",
       "      <td></td>\n",
       "    </tr>\n",
       "    <tr>\n",
       "      <td>2018-02-01</td>\n",
       "      <td>0.001015</td>\n",
       "      <td>0.00125349</td>\n",
       "      <td>0.00094597</td>\n",
       "      <td>0.0010592</td>\n",
       "      <td></td>\n",
       "      <td></td>\n",
       "      <td></td>\n",
       "      <td></td>\n",
       "      <td></td>\n",
       "      <td></td>\n",
       "      <td></td>\n",
       "      <td></td>\n",
       "    </tr>\n",
       "    <tr>\n",
       "      <td>2018-03-01</td>\n",
       "      <td>0.001172</td>\n",
       "      <td>0.0016904</td>\n",
       "      <td>0.00179295</td>\n",
       "      <td></td>\n",
       "      <td></td>\n",
       "      <td></td>\n",
       "      <td></td>\n",
       "      <td></td>\n",
       "      <td></td>\n",
       "      <td></td>\n",
       "      <td></td>\n",
       "      <td></td>\n",
       "    </tr>\n",
       "    <tr>\n",
       "      <td>2018-04-01</td>\n",
       "      <td>0.001867</td>\n",
       "      <td>0.00272615</td>\n",
       "      <td></td>\n",
       "      <td></td>\n",
       "      <td></td>\n",
       "      <td></td>\n",
       "      <td></td>\n",
       "      <td></td>\n",
       "      <td></td>\n",
       "      <td></td>\n",
       "      <td></td>\n",
       "      <td></td>\n",
       "    </tr>\n",
       "    <tr>\n",
       "      <td>2018-05-01</td>\n",
       "      <td>0.001434</td>\n",
       "      <td></td>\n",
       "      <td></td>\n",
       "      <td></td>\n",
       "      <td></td>\n",
       "      <td></td>\n",
       "      <td></td>\n",
       "      <td></td>\n",
       "      <td></td>\n",
       "      <td></td>\n",
       "      <td></td>\n",
       "      <td></td>\n",
       "    </tr>\n",
       "    <tr>\n",
       "      <td>2018-06-01</td>\n",
       "      <td>3.420000</td>\n",
       "      <td></td>\n",
       "      <td></td>\n",
       "      <td></td>\n",
       "      <td></td>\n",
       "      <td></td>\n",
       "      <td></td>\n",
       "      <td></td>\n",
       "      <td></td>\n",
       "      <td></td>\n",
       "      <td></td>\n",
       "      <td></td>\n",
       "    </tr>\n",
       "  </tbody>\n",
       "</table>\n",
       "</div>"
      ],
      "text/plain": [
       "age                      0            1           2           3            4   \\\n",
       "order_first_month                                                               \n",
       "2017-06-01         0.002007   0.00274197  0.00251516  0.00422421   0.00350182   \n",
       "2017-07-01         0.002749   0.00335211  0.00519609  0.00345169   0.00245544   \n",
       "2017-08-01         0.003442    0.0043703  0.00458482  0.00483058   0.00581237   \n",
       "2017-09-01         0.001924   0.00510313  0.00323559   0.0242426   0.00597848   \n",
       "2017-10-01         0.001008   0.00170625  0.00118144  0.00128808   0.00117488   \n",
       "2017-11-01         0.001071   0.00100562  0.00109646  0.00154006   0.00108833   \n",
       "2017-12-01         0.000938  0.000964349  0.00457969  0.00595126   0.00363872   \n",
       "2018-01-01         0.001093   0.00131589  0.00191372  0.00223091  0.000803819   \n",
       "2018-02-01         0.001015   0.00125349  0.00094597   0.0010592                \n",
       "2018-03-01         0.001172    0.0016904  0.00179295                            \n",
       "2018-04-01         0.001867   0.00272615                                        \n",
       "2018-05-01         0.001434                                                     \n",
       "2018-06-01         3.420000                                                     \n",
       "\n",
       "age                         5            6           7           8   \\\n",
       "order_first_month                                                     \n",
       "2017-06-01          0.00337386   0.00344362  0.00334248   0.0026095   \n",
       "2017-07-01          0.00190302   0.00197062   0.0028364  0.00277987   \n",
       "2017-08-01          0.00457323   0.00429927   0.0051924  0.00635243   \n",
       "2017-09-01          0.00593639   0.00649637  0.00434196   0.0030165   \n",
       "2017-10-01          0.00116856  0.000986229  0.00092376               \n",
       "2017-11-01         0.000913203   0.00112674                           \n",
       "2017-12-01           0.0032195                                        \n",
       "2018-01-01                                                            \n",
       "2018-02-01                                                            \n",
       "2018-03-01                                                            \n",
       "2018-04-01                                                            \n",
       "2018-05-01                                                            \n",
       "2018-06-01                                                            \n",
       "\n",
       "age                        9           10         11  \n",
       "order_first_month                                     \n",
       "2017-06-01          0.0039594  0.00595063  0.0029867  \n",
       "2017-07-01         0.00613105  0.00293723             \n",
       "2017-08-01         0.00408648                         \n",
       "2017-09-01                                            \n",
       "2017-10-01                                            \n",
       "2017-11-01                                            \n",
       "2017-12-01                                            \n",
       "2018-01-01                                            \n",
       "2018-02-01                                            \n",
       "2018-03-01                                            \n",
       "2018-04-01                                            \n",
       "2018-05-01                                            \n",
       "2018-06-01                                            "
      ]
     },
     "execution_count": 46,
     "metadata": {},
     "output_type": "execute_result"
    }
   ],
   "source": [
    "ltv_pivot = orders_log.pivot_table(index='order_first_month', columns='age', values='ltv', aggfunc='mean')\n",
    "ltv_pivot.fillna('', inplace=True)\n",
    "ltv_pivot"
   ]
  },
  {
   "cell_type": "markdown",
   "metadata": {},
   "source": [
    "There's another trend!! Every user paid at the current month they visit more then from the the month before they bought for the first time. Maybe the price was higher and that explained why the costumer doesnt visit one month after their first visits and why the company doesnt grow and become protifable. More over from the report i made from before my finding shows that users spend more time on app but seldom make a purhcase."
   ]
  },
  {
   "cell_type": "markdown",
   "metadata": {},
   "source": [
    "<div class=\"alert alert-block alert-danger\">\n",
    "<b>Reviewer's comment v1</b> \n",
    "\n",
    "<s>We also need to know exact:\n",
    "    \n",
    "- When do people start buying (time between registration and conversion)\n",
    "- How many orders do they make\n",
    "- The average purchase size\n",
    "\n",
    "\n",
    "Let's find out exact numbers!"
   ]
  },
  {
   "cell_type": "code",
   "execution_count": 47,
   "metadata": {},
   "outputs": [],
   "source": [
    "converted_time = orders_log.merge(visits_log, on='Uid')"
   ]
  },
  {
   "cell_type": "code",
   "execution_count": 74,
   "metadata": {},
   "outputs": [
    {
     "data": {
      "text/html": [
       "<div>\n",
       "<style scoped>\n",
       "    .dataframe tbody tr th:only-of-type {\n",
       "        vertical-align: middle;\n",
       "    }\n",
       "\n",
       "    .dataframe tbody tr th {\n",
       "        vertical-align: top;\n",
       "    }\n",
       "\n",
       "    .dataframe thead th {\n",
       "        text-align: right;\n",
       "    }\n",
       "</style>\n",
       "<table border=\"1\" class=\"dataframe\">\n",
       "  <thead>\n",
       "    <tr style=\"text-align: right;\">\n",
       "      <th></th>\n",
       "      <th>Uid</th>\n",
       "      <th>converted_time</th>\n",
       "    </tr>\n",
       "  </thead>\n",
       "  <tbody>\n",
       "    <tr>\n",
       "      <td>0</td>\n",
       "      <td>10329302124590727494</td>\n",
       "      <td>0 days 00:01:00</td>\n",
       "    </tr>\n",
       "    <tr>\n",
       "      <td>1</td>\n",
       "      <td>11627257723692907447</td>\n",
       "      <td>0 days 00:11:00</td>\n",
       "    </tr>\n",
       "    <tr>\n",
       "      <td>2</td>\n",
       "      <td>17903680561304213844</td>\n",
       "      <td>0 days 00:02:00</td>\n",
       "    </tr>\n",
       "    <tr>\n",
       "      <td>3</td>\n",
       "      <td>16109239769442553005</td>\n",
       "      <td>0 days 00:15:00</td>\n",
       "    </tr>\n",
       "    <tr>\n",
       "      <td>4</td>\n",
       "      <td>14200605875248379450</td>\n",
       "      <td>0 days 00:27:00</td>\n",
       "    </tr>\n",
       "    <tr>\n",
       "      <td>...</td>\n",
       "      <td>...</td>\n",
       "      <td>...</td>\n",
       "    </tr>\n",
       "    <tr>\n",
       "      <td>761802</td>\n",
       "      <td>3993697860786194247</td>\n",
       "      <td>136 days 13:17:00</td>\n",
       "    </tr>\n",
       "    <tr>\n",
       "      <td>761803</td>\n",
       "      <td>3993697860786194247</td>\n",
       "      <td>170 days 07:36:00</td>\n",
       "    </tr>\n",
       "    <tr>\n",
       "      <td>761804</td>\n",
       "      <td>3993697860786194247</td>\n",
       "      <td>220 days 11:24:00</td>\n",
       "    </tr>\n",
       "    <tr>\n",
       "      <td>761805</td>\n",
       "      <td>3993697860786194247</td>\n",
       "      <td>197 days 06:48:00</td>\n",
       "    </tr>\n",
       "    <tr>\n",
       "      <td>761806</td>\n",
       "      <td>83872787173869366</td>\n",
       "      <td>0 days 00:03:00</td>\n",
       "    </tr>\n",
       "  </tbody>\n",
       "</table>\n",
       "<p>761807 rows × 2 columns</p>\n",
       "</div>"
      ],
      "text/plain": [
       "                         Uid    converted_time\n",
       "0       10329302124590727494   0 days 00:01:00\n",
       "1       11627257723692907447   0 days 00:11:00\n",
       "2       17903680561304213844   0 days 00:02:00\n",
       "3       16109239769442553005   0 days 00:15:00\n",
       "4       14200605875248379450   0 days 00:27:00\n",
       "...                      ...               ...\n",
       "761802   3993697860786194247 136 days 13:17:00\n",
       "761803   3993697860786194247 170 days 07:36:00\n",
       "761804   3993697860786194247 220 days 11:24:00\n",
       "761805   3993697860786194247 197 days 06:48:00\n",
       "761806     83872787173869366   0 days 00:03:00\n",
       "\n",
       "[761807 rows x 2 columns]"
      ]
     },
     "execution_count": 74,
     "metadata": {},
     "output_type": "execute_result"
    }
   ],
   "source": [
    "converted_time['converted_time'] = converted_time['Buy Ts'] - converted_time['Start Ts']\n",
    "converted_time[['Uid', 'converted_time']]"
   ]
  },
  {
   "cell_type": "code",
   "execution_count": 75,
   "metadata": {},
   "outputs": [
    {
     "data": {
      "text/plain": [
       "Timedelta('-4 days +15:04:05.119958')"
      ]
     },
     "execution_count": 75,
     "metadata": {},
     "output_type": "execute_result"
    }
   ],
   "source": [
    "converted_time['converted_time'].mean()"
   ]
  },
  {
   "cell_type": "markdown",
   "metadata": {},
   "source": [
    "The avrage convert time is -4days which mean they visit after they buying.\n",
    "Maybe they purchase by phone i guess."
   ]
  },
  {
   "cell_type": "code",
   "execution_count": 76,
   "metadata": {},
   "outputs": [
    {
     "data": {
      "text/plain": [
       "0   00:01:00\n",
       "dtype: timedelta64[ns]"
      ]
     },
     "execution_count": 76,
     "metadata": {},
     "output_type": "execute_result"
    }
   ],
   "source": [
    "converted_time['converted_time'].mode()"
   ]
  },
  {
   "cell_type": "markdown",
   "metadata": {},
   "source": [
    "The most common time for purchasing is 1 minute, most of the visitors making a purchase 1 minute after they visit.\n",
    "It seem they allready were sure they are going to buy and were motivated towrd buying."
   ]
  },
  {
   "cell_type": "code",
   "execution_count": 78,
   "metadata": {},
   "outputs": [
    {
     "data": {
      "text/html": [
       "<div>\n",
       "<style scoped>\n",
       "    .dataframe tbody tr th:only-of-type {\n",
       "        vertical-align: middle;\n",
       "    }\n",
       "\n",
       "    .dataframe tbody tr th {\n",
       "        vertical-align: top;\n",
       "    }\n",
       "\n",
       "    .dataframe thead th {\n",
       "        text-align: right;\n",
       "    }\n",
       "</style>\n",
       "<table border=\"1\" class=\"dataframe\">\n",
       "  <thead>\n",
       "    <tr style=\"text-align: right;\">\n",
       "      <th></th>\n",
       "      <th>Revenue</th>\n",
       "    </tr>\n",
       "    <tr>\n",
       "      <th>Uid</th>\n",
       "      <th></th>\n",
       "    </tr>\n",
       "  </thead>\n",
       "  <tbody>\n",
       "    <tr>\n",
       "      <td>313578113262317</td>\n",
       "      <td>3</td>\n",
       "    </tr>\n",
       "    <tr>\n",
       "      <td>1575281904278712</td>\n",
       "      <td>4</td>\n",
       "    </tr>\n",
       "    <tr>\n",
       "      <td>2429014661409475</td>\n",
       "      <td>1</td>\n",
       "    </tr>\n",
       "    <tr>\n",
       "      <td>2464366381792757</td>\n",
       "      <td>2</td>\n",
       "    </tr>\n",
       "    <tr>\n",
       "      <td>2551852515556206</td>\n",
       "      <td>4</td>\n",
       "    </tr>\n",
       "    <tr>\n",
       "      <td>...</td>\n",
       "      <td>...</td>\n",
       "    </tr>\n",
       "    <tr>\n",
       "      <td>18445147675727495770</td>\n",
       "      <td>1</td>\n",
       "    </tr>\n",
       "    <tr>\n",
       "      <td>18445407535914413204</td>\n",
       "      <td>9</td>\n",
       "    </tr>\n",
       "    <tr>\n",
       "      <td>18445601152732270159</td>\n",
       "      <td>3</td>\n",
       "    </tr>\n",
       "    <tr>\n",
       "      <td>18446156210226471712</td>\n",
       "      <td>7</td>\n",
       "    </tr>\n",
       "    <tr>\n",
       "      <td>18446167067214817906</td>\n",
       "      <td>2</td>\n",
       "    </tr>\n",
       "  </tbody>\n",
       "</table>\n",
       "<p>36523 rows × 1 columns</p>\n",
       "</div>"
      ],
      "text/plain": [
       "                      Revenue\n",
       "Uid                          \n",
       "313578113262317             3\n",
       "1575281904278712            4\n",
       "2429014661409475            1\n",
       "2464366381792757            2\n",
       "2551852515556206            4\n",
       "...                       ...\n",
       "18445147675727495770        1\n",
       "18445407535914413204        9\n",
       "18445601152732270159        3\n",
       "18446156210226471712        7\n",
       "18446167067214817906        2\n",
       "\n",
       "[36523 rows x 1 columns]"
      ]
     },
     "execution_count": 78,
     "metadata": {},
     "output_type": "execute_result"
    }
   ],
   "source": [
    "converted_time['converted_time']\n",
    "\n",
    "convert_time_pivot = converted_time.pivot_table(index='Uid', values='Revenue',aggfunc='count')\n",
    "convert_time_pivot"
   ]
  },
  {
   "cell_type": "markdown",
   "metadata": {},
   "source": [
    "This are the number of purchases for each visitor."
   ]
  },
  {
   "cell_type": "code",
   "execution_count": 80,
   "metadata": {},
   "outputs": [
    {
     "data": {
      "text/plain": [
       "21.0"
      ]
     },
     "execution_count": 80,
     "metadata": {},
     "output_type": "execute_result"
    }
   ],
   "source": [
    "convert_time_pivot['Revenue'].mean().round()"
   ]
  },
  {
   "cell_type": "markdown",
   "metadata": {},
   "source": [
    "Every visitor make 21 purchases by avarage."
   ]
  },
  {
   "cell_type": "markdown",
   "metadata": {},
   "source": [
    "<div class=\"alert alert-block alert-success\">\n",
    "<b>Reviewer's comment v2</b> Great!"
   ]
  },
  {
   "cell_type": "markdown",
   "metadata": {},
   "source": [
    "# Marketing analyazing"
   ]
  },
  {
   "cell_type": "code",
   "execution_count": 50,
   "metadata": {},
   "outputs": [
    {
     "data": {
      "text/plain": [
       "costs    329131.62\n",
       "dtype: float64"
      ]
     },
     "execution_count": 50,
     "metadata": {},
     "output_type": "execute_result"
    }
   ],
   "source": [
    "costs_log.agg({'costs':'sum'})"
   ]
  },
  {
   "cell_type": "markdown",
   "metadata": {},
   "source": [
    "This are the total expenses."
   ]
  },
  {
   "cell_type": "code",
   "execution_count": 81,
   "metadata": {},
   "outputs": [
    {
     "data": {
      "text/html": [
       "<div>\n",
       "<style scoped>\n",
       "    .dataframe tbody tr th:only-of-type {\n",
       "        vertical-align: middle;\n",
       "    }\n",
       "\n",
       "    .dataframe tbody tr th {\n",
       "        vertical-align: top;\n",
       "    }\n",
       "\n",
       "    .dataframe thead th {\n",
       "        text-align: right;\n",
       "    }\n",
       "</style>\n",
       "<table border=\"1\" class=\"dataframe\">\n",
       "  <thead>\n",
       "    <tr style=\"text-align: right;\">\n",
       "      <th></th>\n",
       "      <th></th>\n",
       "      <th>costs</th>\n",
       "    </tr>\n",
       "    <tr>\n",
       "      <th>dt</th>\n",
       "      <th>source_id</th>\n",
       "      <th></th>\n",
       "    </tr>\n",
       "  </thead>\n",
       "  <tbody>\n",
       "    <tr>\n",
       "      <td rowspan=\"5\" valign=\"top\">2017-06-01</td>\n",
       "      <td>1</td>\n",
       "      <td>75.20</td>\n",
       "    </tr>\n",
       "    <tr>\n",
       "      <td>2</td>\n",
       "      <td>132.56</td>\n",
       "    </tr>\n",
       "    <tr>\n",
       "      <td>3</td>\n",
       "      <td>349.38</td>\n",
       "    </tr>\n",
       "    <tr>\n",
       "      <td>4</td>\n",
       "      <td>76.74</td>\n",
       "    </tr>\n",
       "    <tr>\n",
       "      <td>5</td>\n",
       "      <td>73.24</td>\n",
       "    </tr>\n",
       "    <tr>\n",
       "      <td>...</td>\n",
       "      <td>...</td>\n",
       "      <td>...</td>\n",
       "    </tr>\n",
       "    <tr>\n",
       "      <td rowspan=\"5\" valign=\"top\">2018-05-31</td>\n",
       "      <td>3</td>\n",
       "      <td>822.30</td>\n",
       "    </tr>\n",
       "    <tr>\n",
       "      <td>4</td>\n",
       "      <td>492.54</td>\n",
       "    </tr>\n",
       "    <tr>\n",
       "      <td>5</td>\n",
       "      <td>398.04</td>\n",
       "    </tr>\n",
       "    <tr>\n",
       "      <td>9</td>\n",
       "      <td>27.37</td>\n",
       "    </tr>\n",
       "    <tr>\n",
       "      <td>10</td>\n",
       "      <td>17.60</td>\n",
       "    </tr>\n",
       "  </tbody>\n",
       "</table>\n",
       "<p>2542 rows × 1 columns</p>\n",
       "</div>"
      ],
      "text/plain": [
       "                       costs\n",
       "dt         source_id        \n",
       "2017-06-01 1           75.20\n",
       "           2          132.56\n",
       "           3          349.38\n",
       "           4           76.74\n",
       "           5           73.24\n",
       "...                      ...\n",
       "2018-05-31 3          822.30\n",
       "           4          492.54\n",
       "           5          398.04\n",
       "           9           27.37\n",
       "           10          17.60\n",
       "\n",
       "[2542 rows x 1 columns]"
      ]
     },
     "execution_count": 81,
     "metadata": {},
     "output_type": "execute_result"
    }
   ],
   "source": [
    "costs_log.groupby(['dt', 'source_id']).agg({'costs':'sum'})"
   ]
  },
  {
   "cell_type": "code",
   "execution_count": 98,
   "metadata": {},
   "outputs": [
    {
     "data": {
      "text/html": [
       "<div>\n",
       "<style scoped>\n",
       "    .dataframe tbody tr th:only-of-type {\n",
       "        vertical-align: middle;\n",
       "    }\n",
       "\n",
       "    .dataframe tbody tr th {\n",
       "        vertical-align: top;\n",
       "    }\n",
       "\n",
       "    .dataframe thead th {\n",
       "        text-align: right;\n",
       "    }\n",
       "</style>\n",
       "<table border=\"1\" class=\"dataframe\">\n",
       "  <thead>\n",
       "    <tr style=\"text-align: right;\">\n",
       "      <th>source_id</th>\n",
       "      <th>1</th>\n",
       "      <th>2</th>\n",
       "      <th>3</th>\n",
       "      <th>4</th>\n",
       "      <th>5</th>\n",
       "      <th>9</th>\n",
       "      <th>10</th>\n",
       "    </tr>\n",
       "    <tr>\n",
       "      <th>dt</th>\n",
       "      <th></th>\n",
       "      <th></th>\n",
       "      <th></th>\n",
       "      <th></th>\n",
       "      <th></th>\n",
       "      <th></th>\n",
       "      <th></th>\n",
       "    </tr>\n",
       "  </thead>\n",
       "  <tbody>\n",
       "    <tr>\n",
       "      <td>2017-06-01</td>\n",
       "      <td>75.20</td>\n",
       "      <td>132.56</td>\n",
       "      <td>349.38</td>\n",
       "      <td>76.74</td>\n",
       "      <td>73.24</td>\n",
       "      <td>13.06</td>\n",
       "      <td>15.08</td>\n",
       "    </tr>\n",
       "    <tr>\n",
       "      <td>2017-06-02</td>\n",
       "      <td>62.25</td>\n",
       "      <td>132.38</td>\n",
       "      <td>314.22</td>\n",
       "      <td>59.21</td>\n",
       "      <td>123.82</td>\n",
       "      <td>18.13</td>\n",
       "      <td>11.18</td>\n",
       "    </tr>\n",
       "    <tr>\n",
       "      <td>2017-06-03</td>\n",
       "      <td>36.53</td>\n",
       "      <td>77.20</td>\n",
       "      <td>196.12</td>\n",
       "      <td>59.39</td>\n",
       "      <td>64.93</td>\n",
       "      <td>7.06</td>\n",
       "      <td>9.62</td>\n",
       "    </tr>\n",
       "    <tr>\n",
       "      <td>2017-06-04</td>\n",
       "      <td>55.00</td>\n",
       "      <td>79.08</td>\n",
       "      <td>389.87</td>\n",
       "      <td>161.97</td>\n",
       "      <td>52.77</td>\n",
       "      <td>4.65</td>\n",
       "      <td>17.82</td>\n",
       "    </tr>\n",
       "    <tr>\n",
       "      <td>2017-06-05</td>\n",
       "      <td>57.08</td>\n",
       "      <td>108.96</td>\n",
       "      <td>424.47</td>\n",
       "      <td>44.65</td>\n",
       "      <td>144.30</td>\n",
       "      <td>15.30</td>\n",
       "      <td>26.68</td>\n",
       "    </tr>\n",
       "    <tr>\n",
       "      <td>...</td>\n",
       "      <td>...</td>\n",
       "      <td>...</td>\n",
       "      <td>...</td>\n",
       "      <td>...</td>\n",
       "      <td>...</td>\n",
       "      <td>...</td>\n",
       "      <td>...</td>\n",
       "    </tr>\n",
       "    <tr>\n",
       "      <td>2018-05-27</td>\n",
       "      <td>30.89</td>\n",
       "      <td>113.35</td>\n",
       "      <td>254.90</td>\n",
       "      <td>28.04</td>\n",
       "      <td>84.66</td>\n",
       "      <td>11.11</td>\n",
       "      <td>9.92</td>\n",
       "    </tr>\n",
       "    <tr>\n",
       "      <td>2018-05-28</td>\n",
       "      <td>54.47</td>\n",
       "      <td>82.67</td>\n",
       "      <td>247.92</td>\n",
       "      <td>68.88</td>\n",
       "      <td>131.77</td>\n",
       "      <td>12.47</td>\n",
       "      <td>21.26</td>\n",
       "    </tr>\n",
       "    <tr>\n",
       "      <td>2018-05-29</td>\n",
       "      <td>61.13</td>\n",
       "      <td>105.75</td>\n",
       "      <td>347.59</td>\n",
       "      <td>103.84</td>\n",
       "      <td>138.33</td>\n",
       "      <td>16.83</td>\n",
       "      <td>11.32</td>\n",
       "    </tr>\n",
       "    <tr>\n",
       "      <td>2018-05-30</td>\n",
       "      <td>130.47</td>\n",
       "      <td>119.26</td>\n",
       "      <td>611.78</td>\n",
       "      <td>18.01</td>\n",
       "      <td>246.76</td>\n",
       "      <td>23.57</td>\n",
       "      <td>33.15</td>\n",
       "    </tr>\n",
       "    <tr>\n",
       "      <td>2018-05-31</td>\n",
       "      <td>141.70</td>\n",
       "      <td>254.15</td>\n",
       "      <td>822.30</td>\n",
       "      <td>492.54</td>\n",
       "      <td>398.04</td>\n",
       "      <td>27.37</td>\n",
       "      <td>17.60</td>\n",
       "    </tr>\n",
       "  </tbody>\n",
       "</table>\n",
       "<p>364 rows × 7 columns</p>\n",
       "</div>"
      ],
      "text/plain": [
       "source_id       1       2       3       4       5      9      10\n",
       "dt                                                              \n",
       "2017-06-01   75.20  132.56  349.38   76.74   73.24  13.06  15.08\n",
       "2017-06-02   62.25  132.38  314.22   59.21  123.82  18.13  11.18\n",
       "2017-06-03   36.53   77.20  196.12   59.39   64.93   7.06   9.62\n",
       "2017-06-04   55.00   79.08  389.87  161.97   52.77   4.65  17.82\n",
       "2017-06-05   57.08  108.96  424.47   44.65  144.30  15.30  26.68\n",
       "...            ...     ...     ...     ...     ...    ...    ...\n",
       "2018-05-27   30.89  113.35  254.90   28.04   84.66  11.11   9.92\n",
       "2018-05-28   54.47   82.67  247.92   68.88  131.77  12.47  21.26\n",
       "2018-05-29   61.13  105.75  347.59  103.84  138.33  16.83  11.32\n",
       "2018-05-30  130.47  119.26  611.78   18.01  246.76  23.57  33.15\n",
       "2018-05-31  141.70  254.15  822.30  492.54  398.04  27.37  17.60\n",
       "\n",
       "[364 rows x 7 columns]"
      ]
     },
     "execution_count": 98,
     "metadata": {},
     "output_type": "execute_result"
    }
   ],
   "source": [
    "cost_pivot = costs_log.pivot_table(index='dt', columns='source_id', values='costs', aggfunc='sum')\n",
    "cost_pivot"
   ]
  },
  {
   "cell_type": "markdown",
   "metadata": {},
   "source": [
    "<div class=\"alert alert-block alert-success\">\n",
    "<b>Reviewer's comment v1</b> Well done!"
   ]
  },
  {
   "cell_type": "markdown",
   "metadata": {},
   "source": [
    "<div class=\"alert alert-block alert-danger\">\n",
    "<s><b>Reviewer's comment v1</b>  We should also plot how these metrics differ for various devices and ad sources and how they change in time. Could you please do this?"
   ]
  },
  {
   "cell_type": "markdown",
   "metadata": {},
   "source": [
    "Revenue from each source"
   ]
  },
  {
   "cell_type": "code",
   "execution_count": 53,
   "metadata": {},
   "outputs": [],
   "source": [
    "initial_cost = costs_log.groupby('source_id').agg({'dt':'min'})\n",
    "initial_cost.columns = ['first_purchase']\n",
    "costs_log = costs_log.join(initial_cost, on='source_id')"
   ]
  },
  {
   "cell_type": "code",
   "execution_count": 54,
   "metadata": {},
   "outputs": [
    {
     "data": {
      "text/html": [
       "<div>\n",
       "<style scoped>\n",
       "    .dataframe tbody tr th:only-of-type {\n",
       "        vertical-align: middle;\n",
       "    }\n",
       "\n",
       "    .dataframe tbody tr th {\n",
       "        vertical-align: top;\n",
       "    }\n",
       "\n",
       "    .dataframe thead th {\n",
       "        text-align: right;\n",
       "    }\n",
       "</style>\n",
       "<table border=\"1\" class=\"dataframe\">\n",
       "  <thead>\n",
       "    <tr style=\"text-align: right;\">\n",
       "      <th>cohorts_lifetime</th>\n",
       "      <th>0</th>\n",
       "      <th>1</th>\n",
       "      <th>2</th>\n",
       "      <th>3</th>\n",
       "      <th>4</th>\n",
       "      <th>5</th>\n",
       "      <th>6</th>\n",
       "      <th>7</th>\n",
       "      <th>8</th>\n",
       "      <th>9</th>\n",
       "      <th>10</th>\n",
       "      <th>11</th>\n",
       "    </tr>\n",
       "    <tr>\n",
       "      <th>first_purchase</th>\n",
       "      <th></th>\n",
       "      <th></th>\n",
       "      <th></th>\n",
       "      <th></th>\n",
       "      <th></th>\n",
       "      <th></th>\n",
       "      <th></th>\n",
       "      <th></th>\n",
       "      <th></th>\n",
       "      <th></th>\n",
       "      <th></th>\n",
       "      <th></th>\n",
       "    </tr>\n",
       "  </thead>\n",
       "  <tbody>\n",
       "    <tr>\n",
       "      <td>2017-06-01</td>\n",
       "      <td>18393.04</td>\n",
       "      <td>17862.55</td>\n",
       "      <td>14790.54</td>\n",
       "      <td>24368.91</td>\n",
       "      <td>36322.88</td>\n",
       "      <td>37907.88</td>\n",
       "      <td>38315.35</td>\n",
       "      <td>32590.82</td>\n",
       "      <td>35088.01</td>\n",
       "      <td>28977.99</td>\n",
       "      <td>22886.44</td>\n",
       "      <td>21627.21</td>\n",
       "    </tr>\n",
       "  </tbody>\n",
       "</table>\n",
       "</div>"
      ],
      "text/plain": [
       "cohorts_lifetime        0         1         2         3         4         5   \\\n",
       "first_purchase                                                                 \n",
       "2017-06-01        18393.04  17862.55  14790.54  24368.91  36322.88  37907.88   \n",
       "\n",
       "cohorts_lifetime        6         7         8         9         10        11  \n",
       "first_purchase                                                                \n",
       "2017-06-01        38315.35  32590.82  35088.01  28977.99  22886.44  21627.21  "
      ]
     },
     "execution_count": 54,
     "metadata": {},
     "output_type": "execute_result"
    }
   ],
   "source": [
    "costs_log['cohorts_lifetime'] = ((costs_log['dt'] - costs_log['first_purchase'])/np.timedelta64(1,'M')).astype(int)\n",
    "costs_pivot = costs_log.pivot_table(index='first_purchase', columns='cohorts_lifetime', values='costs', aggfunc='sum')\n",
    "costs_pivot"
   ]
  },
  {
   "cell_type": "markdown",
   "metadata": {},
   "source": [
    "There was a slight decreas in marketing investment after the 0th cohort but afte the 4th there was a increase."
   ]
  },
  {
   "cell_type": "code",
   "execution_count": 101,
   "metadata": {},
   "outputs": [],
   "source": [
    "source_pivot = costs_log.pivot_table(index='source_id', columns='cohorts_lifetime', values='costs', aggfunc='sum')"
   ]
  },
  {
   "cell_type": "code",
   "execution_count": 104,
   "metadata": {},
   "outputs": [
    {
     "data": {
      "text/plain": [
       "<matplotlib.axes._subplots.AxesSubplot at 0x7f3fae47af90>"
      ]
     },
     "execution_count": 104,
     "metadata": {},
     "output_type": "execute_result"
    },
    {
     "data": {
      "image/png": "[encoded data removed]",
      "text/plain": [
       "<Figure size 720x720 with 1 Axes>"
      ]
     },
     "metadata": {},
     "output_type": "display_data"
    }
   ],
   "source": [
    "source_pivot.plot(kind='bar', figsize=(10,10))"
   ]
  },
  {
   "cell_type": "markdown",
   "metadata": {},
   "source": [
    "<div class=\"alert alert-block alert-success\">\n",
    "<b>Reviewer's comment v2</b> Well done"
   ]
  },
  {
   "cell_type": "markdown",
   "metadata": {},
   "source": [
    "Source 3 attract the most audience."
   ]
  },
  {
   "cell_type": "code",
   "execution_count": 55,
   "metadata": {},
   "outputs": [],
   "source": [
    "ROI = (orders_log.groupby('cohorts_lifetime')['Revenue'].sum() - costs_log.groupby('cohorts_lifetime')['costs'].sum())/ costs_log.groupby('cohorts_lifetime')['costs'].sum()"
   ]
  },
  {
   "cell_type": "code",
   "execution_count": 56,
   "metadata": {},
   "outputs": [
    {
     "data": {
      "text/plain": [
       "cohorts_lifetime\n",
       "0     9.053039\n",
       "1    -0.544973\n",
       "2     0.795374\n",
       "3    -0.698268\n",
       "4    -0.807259\n",
       "5    -0.828677\n",
       "6    -0.892313\n",
       "7    -0.919162\n",
       "8    -0.925838\n",
       "9    -0.940024\n",
       "10   -0.977296\n",
       "11         NaN\n",
       "dtype: float64"
      ]
     },
     "execution_count": 56,
     "metadata": {},
     "output_type": "execute_result"
    }
   ],
   "source": [
    "ROI"
   ]
  },
  {
   "cell_type": "markdown",
   "metadata": {},
   "source": [
    "The ROI shows that there is a profit in the first cohort but after that the company lost every month except one."
   ]
  },
  {
   "cell_type": "code",
   "execution_count": 57,
   "metadata": {},
   "outputs": [
    {
     "data": {
      "image/png": "[encoded data removed]",
      "text/plain": [
       "<Figure size 432x432 with 1 Axes>"
      ]
     },
     "metadata": {},
     "output_type": "display_data"
    }
   ],
   "source": [
    "ROI.plot(kind='bar', grid=True, figsize=(6,6));"
   ]
  },
  {
   "cell_type": "code",
   "execution_count": 58,
   "metadata": {},
   "outputs": [],
   "source": [
    "CAC = costs_log.groupby('cohorts_lifetime')['costs'].sum() / orders_log.groupby('cohorts_lifetime')['Uid'].nunique()"
   ]
  },
  {
   "cell_type": "code",
   "execution_count": 59,
   "metadata": {},
   "outputs": [
    {
     "data": {
      "text/plain": [
       "cohorts_lifetime\n",
       "0       0.503602\n",
       "1      22.525284\n",
       "2      16.942199\n",
       "3      46.505553\n",
       "4      73.977352\n",
       "5     101.902903\n",
       "6     140.349267\n",
       "7     181.060111\n",
       "8     310.513363\n",
       "9     333.080345\n",
       "10    431.819623\n",
       "11           NaN\n",
       "dtype: float64"
      ]
     },
     "execution_count": 59,
     "metadata": {},
     "output_type": "execute_result"
    }
   ],
   "source": [
    "CAC"
   ]
  },
  {
   "cell_type": "code",
   "execution_count": 60,
   "metadata": {},
   "outputs": [
    {
     "data": {
      "text/plain": [
       "cohorts_lifetime\n",
       "0     129.534730\n",
       "1       0.114617\n",
       "2       0.527097\n",
       "3       0.058287\n",
       "4       0.037279\n",
       "5       0.026727\n",
       "6       0.014570\n",
       "7       0.007516\n",
       "8       0.004338\n",
       "9       0.002624\n",
       "10      0.000595\n",
       "11           NaN\n",
       "dtype: float64"
      ]
     },
     "execution_count": 60,
     "metadata": {},
     "output_type": "execute_result"
    }
   ],
   "source": [
    "orders_log.groupby('cohorts_lifetime')['ltv'].sum() / CAC"
   ]
  },
  {
   "cell_type": "markdown",
   "metadata": {},
   "source": [
    "Most of the month in the data shows that the cac is greater then the ltv thus the company suffer losses. "
   ]
  },
  {
   "cell_type": "markdown",
   "metadata": {},
   "source": [
    "# The solution i suggest "
   ]
  },
  {
   "cell_type": "markdown",
   "metadata": {},
   "source": [
    "What we got this far - users spend alot of time during the last cohorts but most of them dont purchase anything. But the one who buy are buying in a higher price from before which is why i think the company misscalculate the way the company should charg for the service.\n",
    "Furthermore the company loss lot of its revenues this why it should consider using cut on marketing because uses arent realy attracted by them. Maybe even lowering the price will benefit the company by making the first visits of vistors more protiable.Then the company can rais the charg for higher price for the second time the users buying and make the purchase anualy."
   ]
  },
  {
   "cell_type": "code",
   "execution_count": 61,
   "metadata": {},
   "outputs": [
    {
     "data": {
      "text/plain": [
       "907.9917582417582"
      ]
     },
     "execution_count": 61,
     "metadata": {},
     "output_type": "execute_result"
    }
   ],
   "source": [
    "visits_log['session_date'] = pd.to_datetime(visits_log['Start Ts_date']).dt.date\n",
    "DAU = visits_log.groupby('session_date').agg({'Uid':'nunique'}).mean()['Uid']\n",
    "DAU"
   ]
  },
  {
   "cell_type": "code",
   "execution_count": 62,
   "metadata": {},
   "outputs": [
    {
     "data": {
      "text/plain": [
       "23228.416666666668"
      ]
     },
     "execution_count": 62,
     "metadata": {},
     "output_type": "execute_result"
    }
   ],
   "source": [
    "visits_log['session_year'] = pd.to_datetime(visits_log['Start Ts_date']).dt.year\n",
    "MAU = visits_log.groupby(['session_year', 'session_month']).agg({'Uid':'nunique'}).mean()['Uid']\n",
    "MAU"
   ]
  },
  {
   "cell_type": "code",
   "execution_count": 63,
   "metadata": {},
   "outputs": [
    {
     "data": {
      "text/plain": [
       "0.03908969652437603"
      ]
     },
     "execution_count": 63,
     "metadata": {},
     "output_type": "execute_result"
    }
   ],
   "source": [
    "sitcky_factor = DAU / MAU\n",
    "sitcky_factor"
   ]
  },
  {
   "cell_type": "markdown",
   "metadata": {},
   "source": [
    "The audience is not so loyal to the service which is why the company need to invest in making the users stay after they attracted in the first place. Because a many users are attracted acording to the analysis but after the first visit most of them dont come back.\n",
    "Maybe it could be wise to push more ad from the app."
   ]
  },
  {
   "cell_type": "code",
   "execution_count": 64,
   "metadata": {},
   "outputs": [
    {
     "data": {
      "text/plain": [
       "49530.0"
      ]
     },
     "execution_count": 64,
     "metadata": {},
     "output_type": "execute_result"
    }
   ],
   "source": [
    "visits_log['visit_duration'].mode().median()"
   ]
  },
  {
   "cell_type": "markdown",
   "metadata": {},
   "source": [
    "The common users spend on the app is allmost 14 hours which is crazy cause they are not buying enough.\n",
    "Therefor the focus should be on them because they are the potential for making in the ROI climb by making them use the serivce casue they are not willing to pay the extra chash for buying."
   ]
  },
  {
   "cell_type": "code",
   "execution_count": 65,
   "metadata": {},
   "outputs": [],
   "source": [
    "conversion_rate = orders_log.groupby('cohorts_lifetime').agg({'Uid':'nunique'}) / visits_log.groupby('cohort_lifetime_month').agg({'Uid':'nunique'}) "
   ]
  },
  {
   "cell_type": "code",
   "execution_count": 66,
   "metadata": {},
   "outputs": [
    {
     "data": {
      "text/html": [
       "<div>\n",
       "<style scoped>\n",
       "    .dataframe tbody tr th:only-of-type {\n",
       "        vertical-align: middle;\n",
       "    }\n",
       "\n",
       "    .dataframe tbody tr th {\n",
       "        vertical-align: top;\n",
       "    }\n",
       "\n",
       "    .dataframe thead th {\n",
       "        text-align: right;\n",
       "    }\n",
       "</style>\n",
       "<table border=\"1\" class=\"dataframe\">\n",
       "  <thead>\n",
       "    <tr style=\"text-align: right;\">\n",
       "      <th></th>\n",
       "      <th>Uid</th>\n",
       "    </tr>\n",
       "    <tr>\n",
       "      <th>cohorts_lifetime</th>\n",
       "      <th></th>\n",
       "    </tr>\n",
       "  </thead>\n",
       "  <tbody>\n",
       "    <tr>\n",
       "      <td>0</td>\n",
       "      <td>0.160070</td>\n",
       "    </tr>\n",
       "    <tr>\n",
       "      <td>1</td>\n",
       "      <td>0.094069</td>\n",
       "    </tr>\n",
       "    <tr>\n",
       "      <td>2</td>\n",
       "      <td>0.092518</td>\n",
       "    </tr>\n",
       "    <tr>\n",
       "      <td>3</td>\n",
       "      <td>0.088126</td>\n",
       "    </tr>\n",
       "    <tr>\n",
       "      <td>4</td>\n",
       "      <td>0.089435</td>\n",
       "    </tr>\n",
       "    <tr>\n",
       "      <td>5</td>\n",
       "      <td>0.087038</td>\n",
       "    </tr>\n",
       "    <tr>\n",
       "      <td>6</td>\n",
       "      <td>0.090758</td>\n",
       "    </tr>\n",
       "    <tr>\n",
       "      <td>7</td>\n",
       "      <td>0.075000</td>\n",
       "    </tr>\n",
       "    <tr>\n",
       "      <td>8</td>\n",
       "      <td>0.081943</td>\n",
       "    </tr>\n",
       "    <tr>\n",
       "      <td>9</td>\n",
       "      <td>0.073356</td>\n",
       "    </tr>\n",
       "    <tr>\n",
       "      <td>10</td>\n",
       "      <td>0.088926</td>\n",
       "    </tr>\n",
       "  </tbody>\n",
       "</table>\n",
       "</div>"
      ],
      "text/plain": [
       "                       Uid\n",
       "cohorts_lifetime          \n",
       "0                 0.160070\n",
       "1                 0.094069\n",
       "2                 0.092518\n",
       "3                 0.088126\n",
       "4                 0.089435\n",
       "5                 0.087038\n",
       "6                 0.090758\n",
       "7                 0.075000\n",
       "8                 0.081943\n",
       "9                 0.073356\n",
       "10                0.088926"
      ]
     },
     "execution_count": 66,
     "metadata": {},
     "output_type": "execute_result"
    }
   ],
   "source": [
    "conversion_rate"
   ]
  },
  {
   "cell_type": "markdown",
   "metadata": {},
   "source": [
    "Not big surprise. The conversion rate is very low which indecet the fact that most of the visitors doesnt making a purhcase. Thus the service need to make some adjustment:\n",
    "\n",
    "1)Making the vistors a active buying costumer is the main goal.\n",
    "\n",
    "2)Invest less on marketing and more on making the current costumer make a purchase, buy lowering price for example or making a sale.\n",
    "\n",
    "3)Make the audience which been atracted come back more offten.\n",
    "\n",
    "4)Make less expenses and more profits, by cut the marketing and investing just in the source where the users are most attracted from that can save some money and make the ROI value climbe up."
   ]
  },
  {
   "cell_type": "markdown",
   "metadata": {},
   "source": [
    "<div class=\"alert alert-block alert-success\">\n",
    "<b>Reviewer's comment v1</b> Your thoughts are correct"
   ]
  },
  {
   "cell_type": "markdown",
   "metadata": {},
   "source": [
    "# Conclusion"
   ]
  },
  {
   "cell_type": "markdown",
   "metadata": {},
   "source": [
    "My finding shows that the service not profitable and my suggestion are above.\n",
    "In the project I:\n",
    "\n",
    "1)Loaded the data.\n",
    "\n",
    "2)Prepered it to analyze by:\n",
    "\n",
    "  a) check if there are missing values.\n",
    "  \n",
    "  b) chaeck for duplicates.\n",
    "  \n",
    "  c) optimizing the data by changing types and reduce overall file size.\n",
    "  \n",
    "3)Making a report and calculate metrics.\n",
    "\n",
    "4)Made a few additional info the the data like 'cohort_liftme' columns to make groups so i can track the change by time.\n",
    "\n",
    "5)Plot a heatmap using sns to see how the change of the visited user was, whethere it was positive or negetive. It help to see the trend of visiting users.\n",
    "\n",
    "6)Plot histogram to check the frequency of visits duration.\n",
    "\n",
    "7)Analayzed the sale and revenue the same way I did before (like in '3') and calculate the LTV.\n",
    "\n",
    "8)Analyzed the marketing by calculating the ROI and CAC.\n",
    "\n",
    "9)I used this matrics an assess the user activity to get a general picture of how the company is being conducted financially, in order to find out what is the best for them to focus on and what they should neglect in order to be more profitable."
   ]
  },
  {
   "cell_type": "markdown",
   "metadata": {},
   "source": [
    "<div class=\"alert alert-success\">\n",
    "<b>Reviewer's comment v1:</b>\n",
    "    \n",
    "Thanks for the final conclusion! You conducted great research."
   ]
  },
  {
   "cell_type": "code",
   "execution_count": null,
   "metadata": {},
   "outputs": [],
   "source": []
  }
 ],
 "metadata": {
  "ExecuteTimeLog": [
   {
    "duration": 691,
    "start_time": "2022-02-09T12:38:05.281Z"
   },
   {
    "duration": 3,
    "start_time": "2022-02-09T12:38:09.336Z"
   },
   {
    "duration": 1768,
    "start_time": "2022-02-09T12:39:41.849Z"
   },
   {
    "duration": 3,
    "start_time": "2022-02-09T12:39:48.317Z"
   },
   {
    "duration": 2978,
    "start_time": "2022-02-09T12:39:49.447Z"
   },
   {
    "duration": 677,
    "start_time": "2022-02-09T12:40:06.217Z"
   },
   {
    "duration": 10,
    "start_time": "2022-02-09T12:40:35.908Z"
   },
   {
    "duration": 8,
    "start_time": "2022-02-09T12:40:51.438Z"
   },
   {
    "duration": 7,
    "start_time": "2022-02-09T12:41:05.656Z"
   },
   {
    "duration": 57,
    "start_time": "2022-02-09T12:42:10.584Z"
   },
   {
    "duration": 9,
    "start_time": "2022-02-09T12:42:11.226Z"
   },
   {
    "duration": 7,
    "start_time": "2022-02-09T12:42:12.148Z"
   },
   {
    "duration": 6443,
    "start_time": "2022-02-09T12:47:56.706Z"
   },
   {
    "duration": 10,
    "start_time": "2022-02-09T12:48:13.668Z"
   },
   {
    "duration": 1876,
    "start_time": "2022-02-09T12:49:39.013Z"
   },
   {
    "duration": 1851,
    "start_time": "2022-02-09T12:50:00.039Z"
   },
   {
    "duration": 1717,
    "start_time": "2022-02-09T12:51:33.304Z"
   },
   {
    "duration": 180,
    "start_time": "2022-02-09T12:52:01.678Z"
   },
   {
    "duration": 16,
    "start_time": "2022-02-09T12:53:41.408Z"
   },
   {
    "duration": 5,
    "start_time": "2022-02-09T12:54:22.508Z"
   },
   {
    "duration": 28,
    "start_time": "2022-02-09T12:55:18.286Z"
   },
   {
    "duration": 7,
    "start_time": "2022-02-09T12:55:37.895Z"
   },
   {
    "duration": 7,
    "start_time": "2022-02-09T12:55:53.087Z"
   },
   {
    "duration": 377,
    "start_time": "2022-02-09T12:56:22.666Z"
   },
   {
    "duration": 93,
    "start_time": "2022-02-09T12:56:30.209Z"
   },
   {
    "duration": 99,
    "start_time": "2022-02-09T12:56:35.880Z"
   },
   {
    "duration": 15,
    "start_time": "2022-02-09T12:56:47.136Z"
   },
   {
    "duration": 7,
    "start_time": "2022-02-09T12:56:53.020Z"
   },
   {
    "duration": 7,
    "start_time": "2022-02-09T12:57:02.946Z"
   },
   {
    "duration": 8,
    "start_time": "2022-02-09T12:57:11.514Z"
   },
   {
    "duration": 6,
    "start_time": "2022-02-09T13:00:10.698Z"
   },
   {
    "duration": 21,
    "start_time": "2022-02-09T13:00:15.975Z"
   },
   {
    "duration": 18,
    "start_time": "2022-02-09T13:00:30.842Z"
   },
   {
    "duration": 282,
    "start_time": "2022-02-09T13:00:38.454Z"
   },
   {
    "duration": 38,
    "start_time": "2022-02-09T13:00:48.796Z"
   },
   {
    "duration": 35,
    "start_time": "2022-02-09T13:01:00.096Z"
   },
   {
    "duration": 35,
    "start_time": "2022-02-09T13:03:43.232Z"
   },
   {
    "duration": 22,
    "start_time": "2022-02-09T13:04:17.306Z"
   },
   {
    "duration": 642,
    "start_time": "2022-02-09T13:07:26.875Z"
   },
   {
    "duration": 721,
    "start_time": "2022-02-09T13:07:27.519Z"
   },
   {
    "duration": 59,
    "start_time": "2022-02-09T13:07:28.243Z"
   },
   {
    "duration": 11,
    "start_time": "2022-02-09T13:07:28.305Z"
   },
   {
    "duration": 7,
    "start_time": "2022-02-09T13:07:28.318Z"
   },
   {
    "duration": 268,
    "start_time": "2022-02-09T13:07:28.327Z"
   },
   {
    "duration": 31,
    "start_time": "2022-02-09T13:07:28.597Z"
   },
   {
    "duration": 5,
    "start_time": "2022-02-09T13:07:28.631Z"
   },
   {
    "duration": 36,
    "start_time": "2022-02-09T13:07:28.638Z"
   },
   {
    "duration": 6,
    "start_time": "2022-02-09T13:07:28.676Z"
   },
   {
    "duration": 28,
    "start_time": "2022-02-09T13:07:28.684Z"
   },
   {
    "duration": 125,
    "start_time": "2022-02-09T13:07:28.714Z"
   },
   {
    "duration": 16,
    "start_time": "2022-02-09T13:07:28.841Z"
   },
   {
    "duration": 7,
    "start_time": "2022-02-09T13:07:28.860Z"
   },
   {
    "duration": 84,
    "start_time": "2022-02-09T13:07:28.869Z"
   },
   {
    "duration": 23,
    "start_time": "2022-02-09T13:07:28.956Z"
   },
   {
    "duration": 10,
    "start_time": "2022-02-09T13:08:17.575Z"
   },
   {
    "duration": 650,
    "start_time": "2022-02-09T13:10:54.297Z"
   },
   {
    "duration": 700,
    "start_time": "2022-02-09T13:10:54.949Z"
   },
   {
    "duration": 60,
    "start_time": "2022-02-09T13:10:55.651Z"
   },
   {
    "duration": 9,
    "start_time": "2022-02-09T13:10:55.713Z"
   },
   {
    "duration": 8,
    "start_time": "2022-02-09T13:10:55.724Z"
   },
   {
    "duration": 219,
    "start_time": "2022-02-09T13:10:55.734Z"
   },
   {
    "duration": 16,
    "start_time": "2022-02-09T13:10:55.954Z"
   },
   {
    "duration": 12,
    "start_time": "2022-02-09T13:10:55.971Z"
   },
   {
    "duration": 43,
    "start_time": "2022-02-09T13:10:55.985Z"
   },
   {
    "duration": 6,
    "start_time": "2022-02-09T13:10:56.030Z"
   },
   {
    "duration": 23,
    "start_time": "2022-02-09T13:10:56.038Z"
   },
   {
    "duration": 117,
    "start_time": "2022-02-09T13:10:56.063Z"
   },
   {
    "duration": 12,
    "start_time": "2022-02-09T13:10:56.182Z"
   },
   {
    "duration": 9,
    "start_time": "2022-02-09T13:10:56.208Z"
   },
   {
    "duration": 39,
    "start_time": "2022-02-09T13:10:56.218Z"
   },
   {
    "duration": 26,
    "start_time": "2022-02-09T13:10:56.259Z"
   },
   {
    "duration": 10,
    "start_time": "2022-02-09T13:10:56.308Z"
   },
   {
    "duration": 73,
    "start_time": "2022-02-09T13:12:18.999Z"
   },
   {
    "duration": 9,
    "start_time": "2022-02-09T13:12:21.063Z"
   },
   {
    "duration": 10,
    "start_time": "2022-02-09T13:12:21.782Z"
   },
   {
    "duration": 660,
    "start_time": "2022-02-09T13:12:49.758Z"
   },
   {
    "duration": 43,
    "start_time": "2022-02-09T13:12:50.420Z"
   },
   {
    "duration": 10,
    "start_time": "2022-02-09T13:12:50.465Z"
   },
   {
    "duration": 16,
    "start_time": "2022-02-09T13:12:50.477Z"
   },
   {
    "duration": 12,
    "start_time": "2022-02-09T13:12:50.495Z"
   },
   {
    "duration": 16,
    "start_time": "2022-02-09T13:12:50.510Z"
   },
   {
    "duration": 9,
    "start_time": "2022-02-09T13:12:50.528Z"
   },
   {
    "duration": 7,
    "start_time": "2022-02-09T13:12:50.540Z"
   },
   {
    "duration": 32,
    "start_time": "2022-02-09T13:12:50.550Z"
   },
   {
    "duration": 9,
    "start_time": "2022-02-09T13:12:50.585Z"
   },
   {
    "duration": 11,
    "start_time": "2022-02-09T13:12:50.596Z"
   },
   {
    "duration": 19,
    "start_time": "2022-02-09T13:12:50.608Z"
   },
   {
    "duration": 10,
    "start_time": "2022-02-09T13:12:50.629Z"
   },
   {
    "duration": 17,
    "start_time": "2022-02-09T13:12:50.641Z"
   },
   {
    "duration": 30,
    "start_time": "2022-02-09T13:12:50.660Z"
   },
   {
    "duration": 23,
    "start_time": "2022-02-09T13:12:50.692Z"
   },
   {
    "duration": 16,
    "start_time": "2022-02-09T13:12:50.717Z"
   },
   {
    "duration": 596,
    "start_time": "2022-02-09T16:53:26.243Z"
   },
   {
    "duration": 260,
    "start_time": "2022-02-09T16:53:26.841Z"
   },
   {
    "duration": 9,
    "start_time": "2022-02-09T16:53:27.103Z"
   },
   {
    "duration": 9,
    "start_time": "2022-02-09T16:53:27.115Z"
   },
   {
    "duration": 7,
    "start_time": "2022-02-09T16:53:27.127Z"
   },
   {
    "duration": 8,
    "start_time": "2022-02-09T16:53:27.137Z"
   },
   {
    "duration": 9,
    "start_time": "2022-02-09T16:53:27.146Z"
   },
   {
    "duration": 7,
    "start_time": "2022-02-09T16:53:27.157Z"
   },
   {
    "duration": 39,
    "start_time": "2022-02-09T16:53:27.167Z"
   },
   {
    "duration": 8,
    "start_time": "2022-02-09T16:53:27.208Z"
   },
   {
    "duration": 7,
    "start_time": "2022-02-09T16:53:27.218Z"
   },
   {
    "duration": 9,
    "start_time": "2022-02-09T16:53:27.227Z"
   },
   {
    "duration": 5,
    "start_time": "2022-02-09T16:53:27.238Z"
   },
   {
    "duration": 7,
    "start_time": "2022-02-09T16:53:27.245Z"
   },
   {
    "duration": 9,
    "start_time": "2022-02-09T16:53:27.254Z"
   },
   {
    "duration": 5,
    "start_time": "2022-02-09T16:53:27.298Z"
   },
   {
    "duration": 11,
    "start_time": "2022-02-09T16:53:27.305Z"
   },
   {
    "duration": 412,
    "start_time": "2022-02-09T17:27:13.542Z"
   },
   {
    "duration": 18,
    "start_time": "2022-02-09T17:27:45.805Z"
   },
   {
    "duration": 267,
    "start_time": "2022-02-09T17:28:04.250Z"
   },
   {
    "duration": 17,
    "start_time": "2022-02-09T17:28:09.951Z"
   },
   {
    "duration": 17,
    "start_time": "2022-02-09T17:28:30.955Z"
   },
   {
    "duration": 84,
    "start_time": "2022-02-09T17:29:20.563Z"
   },
   {
    "duration": 135,
    "start_time": "2022-02-09T17:29:26.091Z"
   },
   {
    "duration": 82,
    "start_time": "2022-02-09T17:29:35.175Z"
   },
   {
    "duration": 19,
    "start_time": "2022-02-09T17:29:41.607Z"
   },
   {
    "duration": 253,
    "start_time": "2022-02-09T17:30:38.952Z"
   },
   {
    "duration": 19,
    "start_time": "2022-02-09T17:30:56.175Z"
   },
   {
    "duration": 97,
    "start_time": "2022-02-09T17:32:18.990Z"
   },
   {
    "duration": 18,
    "start_time": "2022-02-09T17:32:31.053Z"
   },
   {
    "duration": 18,
    "start_time": "2022-02-09T17:34:19.804Z"
   },
   {
    "duration": 19,
    "start_time": "2022-02-09T17:34:30.302Z"
   },
   {
    "duration": 18,
    "start_time": "2022-02-09T17:34:42.431Z"
   },
   {
    "duration": 18,
    "start_time": "2022-02-09T17:34:58.443Z"
   },
   {
    "duration": 20,
    "start_time": "2022-02-09T17:35:04.660Z"
   },
   {
    "duration": 20,
    "start_time": "2022-02-09T17:36:31.235Z"
   },
   {
    "duration": 271,
    "start_time": "2022-02-09T17:37:44.812Z"
   },
   {
    "duration": 265,
    "start_time": "2022-02-09T17:38:07.406Z"
   },
   {
    "duration": 267,
    "start_time": "2022-02-09T17:38:41.572Z"
   },
   {
    "duration": 22,
    "start_time": "2022-02-09T17:39:23.533Z"
   },
   {
    "duration": 20,
    "start_time": "2022-02-09T17:39:51.489Z"
   },
   {
    "duration": 260,
    "start_time": "2022-02-09T17:39:54.780Z"
   },
   {
    "duration": 14,
    "start_time": "2022-02-09T17:40:39.716Z"
   },
   {
    "duration": 15,
    "start_time": "2022-02-09T17:42:13.476Z"
   },
   {
    "duration": 624,
    "start_time": "2022-02-09T17:43:10.520Z"
   },
   {
    "duration": 102,
    "start_time": "2022-02-09T17:43:11.146Z"
   },
   {
    "duration": 8,
    "start_time": "2022-02-09T17:43:11.250Z"
   },
   {
    "duration": 15,
    "start_time": "2022-02-09T17:43:11.260Z"
   },
   {
    "duration": 13,
    "start_time": "2022-02-09T17:43:11.277Z"
   },
   {
    "duration": 13,
    "start_time": "2022-02-09T17:43:11.292Z"
   },
   {
    "duration": 8,
    "start_time": "2022-02-09T17:43:11.307Z"
   },
   {
    "duration": 6,
    "start_time": "2022-02-09T17:43:11.318Z"
   },
   {
    "duration": 14,
    "start_time": "2022-02-09T17:43:11.326Z"
   },
   {
    "duration": 8,
    "start_time": "2022-02-09T17:43:11.342Z"
   },
   {
    "duration": 9,
    "start_time": "2022-02-09T17:43:11.351Z"
   },
   {
    "duration": 11,
    "start_time": "2022-02-09T17:43:11.361Z"
   },
   {
    "duration": 29,
    "start_time": "2022-02-09T17:43:11.374Z"
   },
   {
    "duration": 7,
    "start_time": "2022-02-09T17:43:11.404Z"
   },
   {
    "duration": 13,
    "start_time": "2022-02-09T17:43:11.413Z"
   },
   {
    "duration": 7,
    "start_time": "2022-02-09T17:43:11.428Z"
   },
   {
    "duration": 10,
    "start_time": "2022-02-09T17:43:11.437Z"
   },
   {
    "duration": 59,
    "start_time": "2022-02-09T17:43:11.449Z"
   },
   {
    "duration": 14,
    "start_time": "2022-02-09T17:43:11.510Z"
   },
   {
    "duration": 21,
    "start_time": "2022-02-09T17:43:26.023Z"
   },
   {
    "duration": 15,
    "start_time": "2022-02-09T17:43:35.496Z"
   },
   {
    "duration": 14,
    "start_time": "2022-02-09T17:44:29.053Z"
   },
   {
    "duration": 353,
    "start_time": "2022-02-09T17:44:58.179Z"
   },
   {
    "duration": 282,
    "start_time": "2022-02-09T17:45:23.104Z"
   },
   {
    "duration": 260,
    "start_time": "2022-02-09T17:45:37.159Z"
   },
   {
    "duration": 285,
    "start_time": "2022-02-09T17:45:51.288Z"
   },
   {
    "duration": 17,
    "start_time": "2022-02-09T17:45:57.731Z"
   },
   {
    "duration": 17,
    "start_time": "2022-02-09T17:46:09.026Z"
   },
   {
    "duration": 25,
    "start_time": "2022-02-09T17:46:12.358Z"
   },
   {
    "duration": 278,
    "start_time": "2022-02-09T17:46:25.900Z"
   },
   {
    "duration": 14,
    "start_time": "2022-02-09T17:46:41.928Z"
   },
   {
    "duration": 272,
    "start_time": "2022-02-09T17:47:13.088Z"
   },
   {
    "duration": 15,
    "start_time": "2022-02-09T17:47:51.521Z"
   },
   {
    "duration": 15,
    "start_time": "2022-02-09T17:48:03.590Z"
   },
   {
    "duration": 264,
    "start_time": "2022-02-09T17:48:38.760Z"
   },
   {
    "duration": 19,
    "start_time": "2022-02-09T17:48:44.737Z"
   },
   {
    "duration": 262,
    "start_time": "2022-02-09T17:48:45.707Z"
   },
   {
    "duration": 15,
    "start_time": "2022-02-09T17:49:48.948Z"
   },
   {
    "duration": 18,
    "start_time": "2022-02-09T17:51:05.129Z"
   },
   {
    "duration": 471,
    "start_time": "2022-02-09T17:51:31.819Z"
   },
   {
    "duration": 6,
    "start_time": "2022-02-09T17:51:46.471Z"
   },
   {
    "duration": 20,
    "start_time": "2022-02-09T17:51:56.031Z"
   },
   {
    "duration": 715,
    "start_time": "2022-02-09T17:55:41.301Z"
   },
   {
    "duration": 31,
    "start_time": "2022-02-09T17:56:10.205Z"
   },
   {
    "duration": 30,
    "start_time": "2022-02-09T17:57:40.251Z"
   },
   {
    "duration": 29,
    "start_time": "2022-02-09T17:57:49.091Z"
   },
   {
    "duration": 288,
    "start_time": "2022-02-09T17:58:36.619Z"
   },
   {
    "duration": 21,
    "start_time": "2022-02-09T17:58:50.439Z"
   },
   {
    "duration": 6874,
    "start_time": "2022-02-09T18:00:09.049Z"
   },
   {
    "duration": 20,
    "start_time": "2022-02-09T18:00:17.109Z"
   },
   {
    "duration": 20,
    "start_time": "2022-02-09T18:00:28.324Z"
   },
   {
    "duration": 18,
    "start_time": "2022-02-09T18:00:57.457Z"
   },
   {
    "duration": 19,
    "start_time": "2022-02-09T18:01:03.038Z"
   },
   {
    "duration": 697,
    "start_time": "2022-02-09T18:01:11.571Z"
   },
   {
    "duration": 97,
    "start_time": "2022-02-09T18:01:12.270Z"
   },
   {
    "duration": 9,
    "start_time": "2022-02-09T18:01:12.370Z"
   },
   {
    "duration": 10,
    "start_time": "2022-02-09T18:01:12.382Z"
   },
   {
    "duration": 14,
    "start_time": "2022-02-09T18:01:12.394Z"
   },
   {
    "duration": 10,
    "start_time": "2022-02-09T18:01:12.410Z"
   },
   {
    "duration": 11,
    "start_time": "2022-02-09T18:01:12.422Z"
   },
   {
    "duration": 13,
    "start_time": "2022-02-09T18:01:12.435Z"
   },
   {
    "duration": 14,
    "start_time": "2022-02-09T18:01:12.453Z"
   },
   {
    "duration": 8,
    "start_time": "2022-02-09T18:01:12.470Z"
   },
   {
    "duration": 7,
    "start_time": "2022-02-09T18:01:12.480Z"
   },
   {
    "duration": 6,
    "start_time": "2022-02-09T18:01:12.499Z"
   },
   {
    "duration": 6,
    "start_time": "2022-02-09T18:01:12.507Z"
   },
   {
    "duration": 7,
    "start_time": "2022-02-09T18:01:12.515Z"
   },
   {
    "duration": 15,
    "start_time": "2022-02-09T18:01:12.523Z"
   },
   {
    "duration": 7,
    "start_time": "2022-02-09T18:01:12.540Z"
   },
   {
    "duration": 11,
    "start_time": "2022-02-09T18:01:12.548Z"
   },
   {
    "duration": 55,
    "start_time": "2022-02-09T18:01:12.561Z"
   },
   {
    "duration": 31,
    "start_time": "2022-02-09T18:01:12.619Z"
   },
   {
    "duration": 7088,
    "start_time": "2022-02-09T18:01:24.644Z"
   },
   {
    "duration": 19,
    "start_time": "2022-02-09T18:02:03.831Z"
   },
   {
    "duration": 34,
    "start_time": "2022-02-09T18:02:12.857Z"
   },
   {
    "duration": 6,
    "start_time": "2022-02-09T18:02:29.642Z"
   },
   {
    "duration": 27,
    "start_time": "2022-02-09T18:02:30.263Z"
   },
   {
    "duration": 18,
    "start_time": "2022-02-09T18:04:00.502Z"
   },
   {
    "duration": 7,
    "start_time": "2022-02-09T18:04:02.626Z"
   },
   {
    "duration": 291,
    "start_time": "2022-02-09T18:04:29.829Z"
   },
   {
    "duration": 20,
    "start_time": "2022-02-09T18:04:35.256Z"
   },
   {
    "duration": 7,
    "start_time": "2022-02-09T18:04:38.081Z"
   },
   {
    "duration": 27,
    "start_time": "2022-02-09T18:04:38.781Z"
   },
   {
    "duration": 3,
    "start_time": "2022-02-09T18:04:39.526Z"
   },
   {
    "duration": 257,
    "start_time": "2022-02-09T18:05:41.585Z"
   },
   {
    "duration": 277,
    "start_time": "2022-02-09T18:05:47.307Z"
   },
   {
    "duration": 24,
    "start_time": "2022-02-09T18:06:00.177Z"
   },
   {
    "duration": 90,
    "start_time": "2022-02-09T18:07:47.999Z"
   },
   {
    "duration": 85,
    "start_time": "2022-02-09T18:08:28.613Z"
   },
   {
    "duration": 16,
    "start_time": "2022-02-09T18:08:39.199Z"
   },
   {
    "duration": 16,
    "start_time": "2022-02-09T18:09:05.681Z"
   },
   {
    "duration": 6811,
    "start_time": "2022-02-09T18:09:32.191Z"
   },
   {
    "duration": 9,
    "start_time": "2022-02-09T18:10:15.891Z"
   },
   {
    "duration": 17,
    "start_time": "2022-02-09T18:10:28.633Z"
   },
   {
    "duration": 17,
    "start_time": "2022-02-09T18:10:37.048Z"
   },
   {
    "duration": 15,
    "start_time": "2022-02-09T18:10:50.279Z"
   },
   {
    "duration": 16,
    "start_time": "2022-02-09T18:11:34.578Z"
   },
   {
    "duration": 15,
    "start_time": "2022-02-09T18:12:07.805Z"
   },
   {
    "duration": 160,
    "start_time": "2022-02-09T18:13:53.558Z"
   },
   {
    "duration": 6504,
    "start_time": "2022-02-09T18:14:15.803Z"
   },
   {
    "duration": 8524,
    "start_time": "2022-02-09T18:15:01.255Z"
   },
   {
    "duration": 22,
    "start_time": "2022-02-09T18:16:26.534Z"
   },
   {
    "duration": 20,
    "start_time": "2022-02-09T18:16:38.400Z"
   },
   {
    "duration": 6,
    "start_time": "2022-02-09T18:16:41.940Z"
   },
   {
    "duration": 845,
    "start_time": "2022-02-09T18:16:44.849Z"
   },
   {
    "duration": 21,
    "start_time": "2022-02-09T18:17:07.379Z"
   },
   {
    "duration": 7,
    "start_time": "2022-02-09T18:17:09.131Z"
   },
   {
    "duration": 42,
    "start_time": "2022-02-09T18:17:09.893Z"
   },
   {
    "duration": 286,
    "start_time": "2022-02-09T18:17:58.900Z"
   },
   {
    "duration": 281,
    "start_time": "2022-02-09T18:18:08.438Z"
   },
   {
    "duration": 69,
    "start_time": "2022-02-09T18:18:17.877Z"
   },
   {
    "duration": 24,
    "start_time": "2022-02-09T18:22:56.670Z"
   },
   {
    "duration": 7,
    "start_time": "2022-02-09T18:23:00.024Z"
   },
   {
    "duration": 69,
    "start_time": "2022-02-09T18:23:01.301Z"
   },
   {
    "duration": 24,
    "start_time": "2022-02-09T18:23:23.381Z"
   },
   {
    "duration": 8,
    "start_time": "2022-02-09T18:23:45.135Z"
   },
   {
    "duration": 61,
    "start_time": "2022-02-09T18:23:48.155Z"
   },
   {
    "duration": 5,
    "start_time": "2022-02-09T18:25:55.375Z"
   },
   {
    "duration": 2064,
    "start_time": "2022-02-09T18:25:56.354Z"
   },
   {
    "duration": 6,
    "start_time": "2022-02-09T18:26:18.562Z"
   },
   {
    "duration": 5,
    "start_time": "2022-02-09T18:26:23.975Z"
   },
   {
    "duration": 59,
    "start_time": "2022-02-09T18:26:24.743Z"
   },
   {
    "duration": 3407,
    "start_time": "2022-02-09T18:30:03.987Z"
   },
   {
    "duration": 3419,
    "start_time": "2022-02-09T18:30:31.070Z"
   },
   {
    "duration": 3401,
    "start_time": "2022-02-09T18:30:50.359Z"
   },
   {
    "duration": 5,
    "start_time": "2022-02-09T18:30:54.150Z"
   },
   {
    "duration": 3528,
    "start_time": "2022-02-09T18:31:33.415Z"
   },
   {
    "duration": 3480,
    "start_time": "2022-02-09T18:31:55.011Z"
   },
   {
    "duration": 3485,
    "start_time": "2022-02-09T18:32:52.639Z"
   },
   {
    "duration": 5,
    "start_time": "2022-02-09T18:33:00.391Z"
   },
   {
    "duration": 271,
    "start_time": "2022-02-09T18:33:03.813Z"
   },
   {
    "duration": 3538,
    "start_time": "2022-02-09T18:33:15.730Z"
   },
   {
    "duration": 659,
    "start_time": "2022-02-09T18:33:28.197Z"
   },
   {
    "duration": 102,
    "start_time": "2022-02-09T18:33:28.858Z"
   },
   {
    "duration": 8,
    "start_time": "2022-02-09T18:33:28.962Z"
   },
   {
    "duration": 10,
    "start_time": "2022-02-09T18:33:28.972Z"
   },
   {
    "duration": 12,
    "start_time": "2022-02-09T18:33:28.984Z"
   },
   {
    "duration": 13,
    "start_time": "2022-02-09T18:33:28.998Z"
   },
   {
    "duration": 19,
    "start_time": "2022-02-09T18:33:29.013Z"
   },
   {
    "duration": 27,
    "start_time": "2022-02-09T18:33:29.035Z"
   },
   {
    "duration": 24,
    "start_time": "2022-02-09T18:33:29.065Z"
   },
   {
    "duration": 6,
    "start_time": "2022-02-09T18:33:29.091Z"
   },
   {
    "duration": 10,
    "start_time": "2022-02-09T18:33:29.099Z"
   },
   {
    "duration": 10,
    "start_time": "2022-02-09T18:33:29.111Z"
   },
   {
    "duration": 7,
    "start_time": "2022-02-09T18:33:29.123Z"
   },
   {
    "duration": 11,
    "start_time": "2022-02-09T18:33:29.131Z"
   },
   {
    "duration": 15,
    "start_time": "2022-02-09T18:33:29.144Z"
   },
   {
    "duration": 6,
    "start_time": "2022-02-09T18:33:29.161Z"
   },
   {
    "duration": 29,
    "start_time": "2022-02-09T18:33:29.169Z"
   },
   {
    "duration": 25,
    "start_time": "2022-02-09T18:33:29.201Z"
   },
   {
    "duration": 7,
    "start_time": "2022-02-09T18:33:29.228Z"
   },
   {
    "duration": 341,
    "start_time": "2022-02-09T18:33:29.237Z"
   },
   {
    "duration": 33,
    "start_time": "2022-02-09T18:33:29.547Z"
   },
   {
    "duration": 54,
    "start_time": "2022-02-09T18:33:32.911Z"
   },
   {
    "duration": 36,
    "start_time": "2022-02-09T18:33:49.014Z"
   },
   {
    "duration": 7,
    "start_time": "2022-02-09T18:33:51.478Z"
   },
   {
    "duration": 281,
    "start_time": "2022-02-09T18:33:54.350Z"
   },
   {
    "duration": 264,
    "start_time": "2022-02-09T18:34:27.020Z"
   },
   {
    "duration": 622,
    "start_time": "2022-02-09T18:34:33.421Z"
   },
   {
    "duration": 75,
    "start_time": "2022-02-09T18:34:34.045Z"
   },
   {
    "duration": 9,
    "start_time": "2022-02-09T18:34:34.122Z"
   },
   {
    "duration": 10,
    "start_time": "2022-02-09T18:34:34.134Z"
   },
   {
    "duration": 21,
    "start_time": "2022-02-09T18:34:34.146Z"
   },
   {
    "duration": 9,
    "start_time": "2022-02-09T18:34:34.170Z"
   },
   {
    "duration": 10,
    "start_time": "2022-02-09T18:34:34.181Z"
   },
   {
    "duration": 12,
    "start_time": "2022-02-09T18:34:34.194Z"
   },
   {
    "duration": 34,
    "start_time": "2022-02-09T18:34:34.210Z"
   },
   {
    "duration": 7,
    "start_time": "2022-02-09T18:34:34.247Z"
   },
   {
    "duration": 15,
    "start_time": "2022-02-09T18:34:34.256Z"
   },
   {
    "duration": 9,
    "start_time": "2022-02-09T18:34:34.273Z"
   },
   {
    "duration": 18,
    "start_time": "2022-02-09T18:34:34.285Z"
   },
   {
    "duration": 9,
    "start_time": "2022-02-09T18:34:34.305Z"
   },
   {
    "duration": 12,
    "start_time": "2022-02-09T18:34:34.316Z"
   },
   {
    "duration": 10,
    "start_time": "2022-02-09T18:34:34.331Z"
   },
   {
    "duration": 11,
    "start_time": "2022-02-09T18:34:34.343Z"
   },
   {
    "duration": 376,
    "start_time": "2022-02-09T18:34:34.356Z"
   },
   {
    "duration": -110,
    "start_time": "2022-02-09T18:34:34.844Z"
   },
   {
    "duration": -124,
    "start_time": "2022-02-09T18:34:34.859Z"
   },
   {
    "duration": -125,
    "start_time": "2022-02-09T18:34:34.861Z"
   },
   {
    "duration": 35,
    "start_time": "2022-02-09T18:34:51.630Z"
   },
   {
    "duration": 9,
    "start_time": "2022-02-09T18:34:56.326Z"
   },
   {
    "duration": 295,
    "start_time": "2022-02-09T18:34:56.989Z"
   },
   {
    "duration": 1215,
    "start_time": "2022-02-09T18:35:03.270Z"
   },
   {
    "duration": 93,
    "start_time": "2022-02-09T18:35:20.951Z"
   },
   {
    "duration": 73,
    "start_time": "2022-02-09T18:35:59.515Z"
   },
   {
    "duration": 217,
    "start_time": "2022-02-10T05:01:00.959Z"
   },
   {
    "duration": 567,
    "start_time": "2022-02-10T05:01:06.376Z"
   },
   {
    "duration": 144,
    "start_time": "2022-02-10T05:01:06.945Z"
   },
   {
    "duration": 8,
    "start_time": "2022-02-10T05:01:07.091Z"
   },
   {
    "duration": 8,
    "start_time": "2022-02-10T05:01:07.101Z"
   },
   {
    "duration": 9,
    "start_time": "2022-02-10T05:01:07.111Z"
   },
   {
    "duration": 8,
    "start_time": "2022-02-10T05:01:07.121Z"
   },
   {
    "duration": 6,
    "start_time": "2022-02-10T05:01:07.130Z"
   },
   {
    "duration": 6,
    "start_time": "2022-02-10T05:01:07.138Z"
   },
   {
    "duration": 12,
    "start_time": "2022-02-10T05:01:07.145Z"
   },
   {
    "duration": 5,
    "start_time": "2022-02-10T05:01:07.159Z"
   },
   {
    "duration": 13,
    "start_time": "2022-02-10T05:01:07.166Z"
   },
   {
    "duration": 15,
    "start_time": "2022-02-10T05:01:07.181Z"
   },
   {
    "duration": 7,
    "start_time": "2022-02-10T05:01:07.198Z"
   },
   {
    "duration": 6,
    "start_time": "2022-02-10T05:01:07.207Z"
   },
   {
    "duration": 7,
    "start_time": "2022-02-10T05:01:07.214Z"
   },
   {
    "duration": 6,
    "start_time": "2022-02-10T05:01:07.223Z"
   },
   {
    "duration": 37,
    "start_time": "2022-02-10T05:01:07.230Z"
   },
   {
    "duration": 7,
    "start_time": "2022-02-10T05:01:07.269Z"
   },
   {
    "duration": 4,
    "start_time": "2022-02-10T05:01:52.399Z"
   },
   {
    "duration": 7,
    "start_time": "2022-02-10T05:02:03.676Z"
   },
   {
    "duration": 64,
    "start_time": "2022-02-10T05:04:20.798Z"
   },
   {
    "duration": 58,
    "start_time": "2022-02-10T05:04:25.240Z"
   },
   {
    "duration": 22,
    "start_time": "2022-02-10T05:04:47.186Z"
   },
   {
    "duration": 257,
    "start_time": "2022-02-10T05:12:31.873Z"
   },
   {
    "duration": 560,
    "start_time": "2022-02-10T05:12:57.656Z"
   },
   {
    "duration": 38,
    "start_time": "2022-02-10T05:12:58.218Z"
   },
   {
    "duration": 8,
    "start_time": "2022-02-10T05:12:58.258Z"
   },
   {
    "duration": 6,
    "start_time": "2022-02-10T05:12:58.268Z"
   },
   {
    "duration": 10,
    "start_time": "2022-02-10T05:12:58.276Z"
   },
   {
    "duration": 7,
    "start_time": "2022-02-10T05:12:58.287Z"
   },
   {
    "duration": 6,
    "start_time": "2022-02-10T05:12:58.296Z"
   },
   {
    "duration": 6,
    "start_time": "2022-02-10T05:12:58.303Z"
   },
   {
    "duration": 11,
    "start_time": "2022-02-10T05:12:58.311Z"
   },
   {
    "duration": 37,
    "start_time": "2022-02-10T05:12:58.323Z"
   },
   {
    "duration": 7,
    "start_time": "2022-02-10T05:12:58.362Z"
   },
   {
    "duration": 10,
    "start_time": "2022-02-10T05:12:58.370Z"
   },
   {
    "duration": 5,
    "start_time": "2022-02-10T05:12:58.381Z"
   },
   {
    "duration": 6,
    "start_time": "2022-02-10T05:12:58.387Z"
   },
   {
    "duration": 7,
    "start_time": "2022-02-10T05:12:58.394Z"
   },
   {
    "duration": 5,
    "start_time": "2022-02-10T05:12:58.402Z"
   },
   {
    "duration": 12,
    "start_time": "2022-02-10T05:12:58.409Z"
   },
   {
    "duration": 8,
    "start_time": "2022-02-10T05:12:58.422Z"
   },
   {
    "duration": 242,
    "start_time": "2022-02-10T05:12:58.431Z"
   },
   {
    "duration": 181,
    "start_time": "2022-02-10T05:13:04.677Z"
   },
   {
    "duration": 43,
    "start_time": "2022-02-10T05:13:14.653Z"
   },
   {
    "duration": 199,
    "start_time": "2022-02-10T05:15:44.486Z"
   },
   {
    "duration": 3,
    "start_time": "2022-02-10T05:16:42.115Z"
   },
   {
    "duration": 187,
    "start_time": "2022-02-10T05:16:44.817Z"
   },
   {
    "duration": 168,
    "start_time": "2022-02-10T05:17:15.266Z"
   },
   {
    "duration": 183,
    "start_time": "2022-02-10T05:17:32.116Z"
   },
   {
    "duration": 172,
    "start_time": "2022-02-10T05:17:53.055Z"
   },
   {
    "duration": 172,
    "start_time": "2022-02-10T05:17:58.745Z"
   },
   {
    "duration": 168,
    "start_time": "2022-02-10T05:18:26.317Z"
   },
   {
    "duration": 40,
    "start_time": "2022-02-10T05:18:47.805Z"
   },
   {
    "duration": 33,
    "start_time": "2022-02-10T05:19:23.263Z"
   },
   {
    "duration": 26,
    "start_time": "2022-02-10T05:19:39.187Z"
   },
   {
    "duration": 222,
    "start_time": "2022-02-10T05:20:04.977Z"
   },
   {
    "duration": 194,
    "start_time": "2022-02-10T05:20:17.666Z"
   },
   {
    "duration": 195,
    "start_time": "2022-02-10T05:20:42.696Z"
   },
   {
    "duration": 21,
    "start_time": "2022-02-10T05:21:31.779Z"
   },
   {
    "duration": 28,
    "start_time": "2022-02-10T05:21:38.335Z"
   },
   {
    "duration": 229,
    "start_time": "2022-02-10T05:23:40.412Z"
   },
   {
    "duration": 28,
    "start_time": "2022-02-10T05:23:41.678Z"
   },
   {
    "duration": 546,
    "start_time": "2022-02-10T05:23:58.674Z"
   },
   {
    "duration": 36,
    "start_time": "2022-02-10T05:23:59.222Z"
   },
   {
    "duration": 7,
    "start_time": "2022-02-10T05:23:59.260Z"
   },
   {
    "duration": 15,
    "start_time": "2022-02-10T05:23:59.268Z"
   },
   {
    "duration": 7,
    "start_time": "2022-02-10T05:23:59.285Z"
   },
   {
    "duration": 9,
    "start_time": "2022-02-10T05:23:59.293Z"
   },
   {
    "duration": 6,
    "start_time": "2022-02-10T05:23:59.303Z"
   },
   {
    "duration": 6,
    "start_time": "2022-02-10T05:23:59.311Z"
   },
   {
    "duration": 11,
    "start_time": "2022-02-10T05:23:59.319Z"
   },
   {
    "duration": 7,
    "start_time": "2022-02-10T05:23:59.331Z"
   },
   {
    "duration": 20,
    "start_time": "2022-02-10T05:23:59.339Z"
   },
   {
    "duration": 10,
    "start_time": "2022-02-10T05:23:59.361Z"
   },
   {
    "duration": 6,
    "start_time": "2022-02-10T05:23:59.372Z"
   },
   {
    "duration": 5,
    "start_time": "2022-02-10T05:23:59.380Z"
   },
   {
    "duration": 11,
    "start_time": "2022-02-10T05:23:59.387Z"
   },
   {
    "duration": 11,
    "start_time": "2022-02-10T05:23:59.399Z"
   },
   {
    "duration": 8,
    "start_time": "2022-02-10T05:23:59.412Z"
   },
   {
    "duration": 5,
    "start_time": "2022-02-10T05:23:59.422Z"
   },
   {
    "duration": 60,
    "start_time": "2022-02-10T05:23:59.429Z"
   },
   {
    "duration": 27,
    "start_time": "2022-02-10T05:23:59.490Z"
   },
   {
    "duration": 24,
    "start_time": "2022-02-10T05:24:19.059Z"
   },
   {
    "duration": 587,
    "start_time": "2022-02-10T05:27:25.832Z"
   },
   {
    "duration": 38,
    "start_time": "2022-02-10T05:27:26.420Z"
   },
   {
    "duration": 6,
    "start_time": "2022-02-10T05:27:26.460Z"
   },
   {
    "duration": 7,
    "start_time": "2022-02-10T05:27:26.468Z"
   },
   {
    "duration": 11,
    "start_time": "2022-02-10T05:27:26.477Z"
   },
   {
    "duration": 9,
    "start_time": "2022-02-10T05:27:26.489Z"
   },
   {
    "duration": 7,
    "start_time": "2022-02-10T05:27:26.500Z"
   },
   {
    "duration": 5,
    "start_time": "2022-02-10T05:27:26.509Z"
   },
   {
    "duration": 14,
    "start_time": "2022-02-10T05:27:26.516Z"
   },
   {
    "duration": 5,
    "start_time": "2022-02-10T05:27:26.532Z"
   },
   {
    "duration": 24,
    "start_time": "2022-02-10T05:27:26.538Z"
   },
   {
    "duration": 6,
    "start_time": "2022-02-10T05:27:26.564Z"
   },
   {
    "duration": 8,
    "start_time": "2022-02-10T05:27:26.572Z"
   },
   {
    "duration": 5,
    "start_time": "2022-02-10T05:27:26.582Z"
   },
   {
    "duration": 5,
    "start_time": "2022-02-10T05:27:26.588Z"
   },
   {
    "duration": 6,
    "start_time": "2022-02-10T05:27:26.594Z"
   },
   {
    "duration": 9,
    "start_time": "2022-02-10T05:27:26.601Z"
   },
   {
    "duration": 6,
    "start_time": "2022-02-10T05:27:26.611Z"
   },
   {
    "duration": 229,
    "start_time": "2022-02-10T05:27:26.618Z"
   },
   {
    "duration": -1017,
    "start_time": "2022-02-10T05:27:27.866Z"
   },
   {
    "duration": -1019,
    "start_time": "2022-02-10T05:27:27.869Z"
   },
   {
    "duration": 58,
    "start_time": "2022-02-10T05:27:37.288Z"
   },
   {
    "duration": 27,
    "start_time": "2022-02-10T05:27:38.610Z"
   },
   {
    "duration": 4197,
    "start_time": "2022-02-10T05:28:08.692Z"
   },
   {
    "duration": 5,
    "start_time": "2022-02-10T05:28:22.910Z"
   },
   {
    "duration": 20,
    "start_time": "2022-02-10T05:28:29.318Z"
   },
   {
    "duration": 19,
    "start_time": "2022-02-10T05:29:52.790Z"
   },
   {
    "duration": 19,
    "start_time": "2022-02-10T05:29:58.300Z"
   },
   {
    "duration": 16,
    "start_time": "2022-02-10T05:37:12.619Z"
   },
   {
    "duration": 31,
    "start_time": "2022-02-10T05:37:19.972Z"
   },
   {
    "duration": 98,
    "start_time": "2022-02-10T05:38:01.204Z"
   },
   {
    "duration": 3313,
    "start_time": "2022-02-10T05:39:17.399Z"
   },
   {
    "duration": 75,
    "start_time": "2022-02-10T05:39:30.538Z"
   },
   {
    "duration": 74,
    "start_time": "2022-02-10T05:39:37.366Z"
   },
   {
    "duration": 4029,
    "start_time": "2022-02-10T05:39:42.849Z"
   },
   {
    "duration": 87,
    "start_time": "2022-02-10T05:40:19.101Z"
   },
   {
    "duration": 3841,
    "start_time": "2022-02-10T05:41:13.021Z"
   },
   {
    "duration": 91,
    "start_time": "2022-02-10T05:41:32.943Z"
   },
   {
    "duration": 3836,
    "start_time": "2022-02-10T05:42:05.601Z"
   },
   {
    "duration": 90,
    "start_time": "2022-02-10T05:42:20.621Z"
   },
   {
    "duration": 88,
    "start_time": "2022-02-10T05:42:34.232Z"
   },
   {
    "duration": 30,
    "start_time": "2022-02-10T05:42:42.431Z"
   },
   {
    "duration": 26,
    "start_time": "2022-02-10T05:44:33.128Z"
   },
   {
    "duration": 27,
    "start_time": "2022-02-10T05:44:38.622Z"
   },
   {
    "duration": 26,
    "start_time": "2022-02-10T05:44:52.762Z"
   },
   {
    "duration": 27,
    "start_time": "2022-02-10T05:45:25.799Z"
   },
   {
    "duration": 24,
    "start_time": "2022-02-10T05:45:35.903Z"
   },
   {
    "duration": 26,
    "start_time": "2022-02-10T05:45:53.713Z"
   },
   {
    "duration": 25,
    "start_time": "2022-02-10T05:46:24.481Z"
   },
   {
    "duration": 30,
    "start_time": "2022-02-10T05:46:27.202Z"
   },
   {
    "duration": 202,
    "start_time": "2022-02-10T05:48:53.178Z"
   },
   {
    "duration": 191,
    "start_time": "2022-02-10T05:48:59.691Z"
   },
   {
    "duration": 200,
    "start_time": "2022-02-10T05:49:30.030Z"
   },
   {
    "duration": 32,
    "start_time": "2022-02-10T05:50:12.872Z"
   },
   {
    "duration": 178,
    "start_time": "2022-02-10T05:51:59.362Z"
   },
   {
    "duration": 212,
    "start_time": "2022-02-10T05:52:29.882Z"
   },
   {
    "duration": 29,
    "start_time": "2022-02-10T05:52:38.501Z"
   },
   {
    "duration": 31,
    "start_time": "2022-02-10T05:52:53.280Z"
   },
   {
    "duration": 38,
    "start_time": "2022-02-10T05:53:55.900Z"
   },
   {
    "duration": 39,
    "start_time": "2022-02-10T05:55:04.363Z"
   },
   {
    "duration": 38,
    "start_time": "2022-02-10T05:55:12.553Z"
   },
   {
    "duration": 65,
    "start_time": "2022-02-10T05:55:43.712Z"
   },
   {
    "duration": 36,
    "start_time": "2022-02-10T05:55:52.881Z"
   },
   {
    "duration": 56,
    "start_time": "2022-02-10T05:56:50.332Z"
   },
   {
    "duration": 27,
    "start_time": "2022-02-10T05:57:03.802Z"
   },
   {
    "duration": 66,
    "start_time": "2022-02-10T06:01:07.992Z"
   },
   {
    "duration": 38,
    "start_time": "2022-02-10T06:01:14.372Z"
   },
   {
    "duration": 30,
    "start_time": "2022-02-10T06:03:47.960Z"
   },
   {
    "duration": 30,
    "start_time": "2022-02-10T06:04:43.873Z"
   },
   {
    "duration": 233,
    "start_time": "2022-02-10T06:05:37.013Z"
   },
   {
    "duration": 221,
    "start_time": "2022-02-10T06:05:44.028Z"
   },
   {
    "duration": 567,
    "start_time": "2022-02-10T06:05:55.752Z"
   },
   {
    "duration": 36,
    "start_time": "2022-02-10T06:05:56.321Z"
   },
   {
    "duration": 7,
    "start_time": "2022-02-10T06:05:56.359Z"
   },
   {
    "duration": 9,
    "start_time": "2022-02-10T06:05:56.367Z"
   },
   {
    "duration": 8,
    "start_time": "2022-02-10T06:05:56.377Z"
   },
   {
    "duration": 8,
    "start_time": "2022-02-10T06:05:56.387Z"
   },
   {
    "duration": 6,
    "start_time": "2022-02-10T06:05:56.396Z"
   },
   {
    "duration": 8,
    "start_time": "2022-02-10T06:05:56.404Z"
   },
   {
    "duration": 11,
    "start_time": "2022-02-10T06:05:56.414Z"
   },
   {
    "duration": 5,
    "start_time": "2022-02-10T06:05:56.427Z"
   },
   {
    "duration": 5,
    "start_time": "2022-02-10T06:05:56.459Z"
   },
   {
    "duration": 7,
    "start_time": "2022-02-10T06:05:56.466Z"
   },
   {
    "duration": 4,
    "start_time": "2022-02-10T06:05:56.475Z"
   },
   {
    "duration": 5,
    "start_time": "2022-02-10T06:05:56.481Z"
   },
   {
    "duration": 20,
    "start_time": "2022-02-10T06:05:56.487Z"
   },
   {
    "duration": 6,
    "start_time": "2022-02-10T06:05:56.509Z"
   },
   {
    "duration": 7,
    "start_time": "2022-02-10T06:05:56.516Z"
   },
   {
    "duration": 4,
    "start_time": "2022-02-10T06:05:56.525Z"
   },
   {
    "duration": 66,
    "start_time": "2022-02-10T06:05:56.530Z"
   },
   {
    "duration": 27,
    "start_time": "2022-02-10T06:05:56.597Z"
   },
   {
    "duration": 47,
    "start_time": "2022-02-10T06:05:56.625Z"
   },
   {
    "duration": 23,
    "start_time": "2022-02-10T06:06:07.557Z"
   },
   {
    "duration": 288,
    "start_time": "2022-02-10T06:07:06.758Z"
   },
   {
    "duration": 554,
    "start_time": "2022-02-10T06:07:14.688Z"
   },
   {
    "duration": 39,
    "start_time": "2022-02-10T06:07:15.244Z"
   },
   {
    "duration": 6,
    "start_time": "2022-02-10T06:07:15.285Z"
   },
   {
    "duration": 8,
    "start_time": "2022-02-10T06:07:15.293Z"
   },
   {
    "duration": 7,
    "start_time": "2022-02-10T06:07:15.303Z"
   },
   {
    "duration": 7,
    "start_time": "2022-02-10T06:07:15.312Z"
   },
   {
    "duration": 6,
    "start_time": "2022-02-10T06:07:15.320Z"
   },
   {
    "duration": 7,
    "start_time": "2022-02-10T06:07:15.327Z"
   },
   {
    "duration": 14,
    "start_time": "2022-02-10T06:07:15.337Z"
   },
   {
    "duration": 7,
    "start_time": "2022-02-10T06:07:15.359Z"
   },
   {
    "duration": 6,
    "start_time": "2022-02-10T06:07:15.368Z"
   },
   {
    "duration": 18,
    "start_time": "2022-02-10T06:07:15.375Z"
   },
   {
    "duration": 6,
    "start_time": "2022-02-10T06:07:15.395Z"
   },
   {
    "duration": 14,
    "start_time": "2022-02-10T06:07:15.403Z"
   },
   {
    "duration": 9,
    "start_time": "2022-02-10T06:07:15.419Z"
   },
   {
    "duration": 8,
    "start_time": "2022-02-10T06:07:15.430Z"
   },
   {
    "duration": 8,
    "start_time": "2022-02-10T06:07:15.459Z"
   },
   {
    "duration": 9,
    "start_time": "2022-02-10T06:07:15.469Z"
   },
   {
    "duration": 59,
    "start_time": "2022-02-10T06:07:15.480Z"
   },
   {
    "duration": 42,
    "start_time": "2022-02-10T06:07:15.541Z"
   },
   {
    "duration": 29,
    "start_time": "2022-02-10T06:07:15.585Z"
   },
   {
    "duration": 24,
    "start_time": "2022-02-10T06:08:16.554Z"
   },
   {
    "duration": 27,
    "start_time": "2022-02-10T06:08:26.464Z"
   },
   {
    "duration": 791,
    "start_time": "2022-02-10T06:11:31.772Z"
   },
   {
    "duration": 3,
    "start_time": "2022-02-10T06:11:53.158Z"
   },
   {
    "duration": 227,
    "start_time": "2022-02-10T06:11:54.552Z"
   },
   {
    "duration": 579,
    "start_time": "2022-02-10T06:12:00.954Z"
   },
   {
    "duration": 39,
    "start_time": "2022-02-10T06:12:01.536Z"
   },
   {
    "duration": 7,
    "start_time": "2022-02-10T06:12:01.577Z"
   },
   {
    "duration": 12,
    "start_time": "2022-02-10T06:12:01.586Z"
   },
   {
    "duration": 17,
    "start_time": "2022-02-10T06:12:01.600Z"
   },
   {
    "duration": 25,
    "start_time": "2022-02-10T06:12:01.619Z"
   },
   {
    "duration": 35,
    "start_time": "2022-02-10T06:12:01.645Z"
   },
   {
    "duration": 12,
    "start_time": "2022-02-10T06:12:01.682Z"
   },
   {
    "duration": 25,
    "start_time": "2022-02-10T06:12:01.696Z"
   },
   {
    "duration": 32,
    "start_time": "2022-02-10T06:12:01.723Z"
   },
   {
    "duration": 16,
    "start_time": "2022-02-10T06:12:01.757Z"
   },
   {
    "duration": 12,
    "start_time": "2022-02-10T06:12:01.775Z"
   },
   {
    "duration": 13,
    "start_time": "2022-02-10T06:12:01.789Z"
   },
   {
    "duration": 24,
    "start_time": "2022-02-10T06:12:01.804Z"
   },
   {
    "duration": 26,
    "start_time": "2022-02-10T06:12:01.829Z"
   },
   {
    "duration": 24,
    "start_time": "2022-02-10T06:12:01.857Z"
   },
   {
    "duration": 26,
    "start_time": "2022-02-10T06:12:01.883Z"
   },
   {
    "duration": 20,
    "start_time": "2022-02-10T06:12:01.910Z"
   },
   {
    "duration": 63,
    "start_time": "2022-02-10T06:12:01.932Z"
   },
   {
    "duration": 24,
    "start_time": "2022-02-10T06:12:01.997Z"
   },
   {
    "duration": 47,
    "start_time": "2022-02-10T06:12:02.023Z"
   },
   {
    "duration": 874,
    "start_time": "2022-02-10T06:12:02.071Z"
   },
   {
    "duration": 175,
    "start_time": "2022-02-10T06:12:28.090Z"
   },
   {
    "duration": 180,
    "start_time": "2022-02-10T06:12:38.167Z"
   },
   {
    "duration": 25,
    "start_time": "2022-02-10T06:12:43.979Z"
   },
   {
    "duration": 30,
    "start_time": "2022-02-10T06:13:02.146Z"
   },
   {
    "duration": 33,
    "start_time": "2022-02-10T06:13:56.815Z"
   },
   {
    "duration": 145,
    "start_time": "2022-02-10T06:14:44.962Z"
   },
   {
    "duration": 33,
    "start_time": "2022-02-10T06:14:49.719Z"
   },
   {
    "duration": 27,
    "start_time": "2022-02-10T06:14:56.958Z"
   },
   {
    "duration": 229,
    "start_time": "2022-02-10T06:17:14.307Z"
   },
   {
    "duration": 595,
    "start_time": "2022-02-10T06:17:20.337Z"
   },
   {
    "duration": 39,
    "start_time": "2022-02-10T06:17:20.934Z"
   },
   {
    "duration": 6,
    "start_time": "2022-02-10T06:17:20.976Z"
   },
   {
    "duration": 24,
    "start_time": "2022-02-10T06:17:20.984Z"
   },
   {
    "duration": 18,
    "start_time": "2022-02-10T06:17:21.009Z"
   },
   {
    "duration": 15,
    "start_time": "2022-02-10T06:17:21.028Z"
   },
   {
    "duration": 22,
    "start_time": "2022-02-10T06:17:21.045Z"
   },
   {
    "duration": 12,
    "start_time": "2022-02-10T06:17:21.069Z"
   },
   {
    "duration": 23,
    "start_time": "2022-02-10T06:17:21.083Z"
   },
   {
    "duration": 11,
    "start_time": "2022-02-10T06:17:21.107Z"
   },
   {
    "duration": 9,
    "start_time": "2022-02-10T06:17:21.120Z"
   },
   {
    "duration": 14,
    "start_time": "2022-02-10T06:17:21.131Z"
   },
   {
    "duration": 8,
    "start_time": "2022-02-10T06:17:21.146Z"
   },
   {
    "duration": 11,
    "start_time": "2022-02-10T06:17:21.156Z"
   },
   {
    "duration": 7,
    "start_time": "2022-02-10T06:17:21.168Z"
   },
   {
    "duration": 11,
    "start_time": "2022-02-10T06:17:21.177Z"
   },
   {
    "duration": 8,
    "start_time": "2022-02-10T06:17:21.190Z"
   },
   {
    "duration": 5,
    "start_time": "2022-02-10T06:17:21.200Z"
   },
   {
    "duration": 61,
    "start_time": "2022-02-10T06:17:21.207Z"
   },
   {
    "duration": 3,
    "start_time": "2022-02-10T06:17:21.270Z"
   },
   {
    "duration": 278,
    "start_time": "2022-02-10T06:17:21.275Z"
   },
   {
    "duration": -1466,
    "start_time": "2022-02-10T06:17:23.021Z"
   },
   {
    "duration": 8,
    "start_time": "2022-02-10T06:18:45.588Z"
   },
   {
    "duration": 18,
    "start_time": "2022-02-10T06:19:00.608Z"
   },
   {
    "duration": 202,
    "start_time": "2022-02-10T06:20:56.061Z"
   },
   {
    "duration": 27,
    "start_time": "2022-02-10T06:21:08.668Z"
   },
   {
    "duration": 31,
    "start_time": "2022-02-10T06:21:28.550Z"
   },
   {
    "duration": 191,
    "start_time": "2022-02-10T06:21:32.588Z"
   },
   {
    "duration": 197,
    "start_time": "2022-02-10T06:21:41.176Z"
   },
   {
    "duration": 32,
    "start_time": "2022-02-10T06:21:48.399Z"
   },
   {
    "duration": 18,
    "start_time": "2022-02-10T06:32:07.328Z"
   },
   {
    "duration": 25,
    "start_time": "2022-02-10T06:32:25.037Z"
   },
   {
    "duration": 195,
    "start_time": "2022-02-10T06:38:45.990Z"
   },
   {
    "duration": 14,
    "start_time": "2022-02-10T06:39:27.977Z"
   },
   {
    "duration": 181,
    "start_time": "2022-02-10T06:41:15.459Z"
   },
   {
    "duration": 34,
    "start_time": "2022-02-10T06:41:32.795Z"
   },
   {
    "duration": 35,
    "start_time": "2022-02-10T06:42:00.470Z"
   },
   {
    "duration": 28,
    "start_time": "2022-02-10T06:42:18.416Z"
   },
   {
    "duration": 53,
    "start_time": "2022-02-10T06:46:36.660Z"
   },
   {
    "duration": 147,
    "start_time": "2022-02-10T06:46:58.210Z"
   },
   {
    "duration": 25,
    "start_time": "2022-02-10T06:48:34.331Z"
   },
   {
    "duration": 29,
    "start_time": "2022-02-10T06:49:54.471Z"
   },
   {
    "duration": 48,
    "start_time": "2022-02-10T06:50:14.769Z"
   },
   {
    "duration": 4331,
    "start_time": "2022-02-10T08:59:25.260Z"
   },
   {
    "duration": 10,
    "start_time": "2022-02-10T09:01:08.538Z"
   },
   {
    "duration": 190,
    "start_time": "2022-02-10T09:01:28.180Z"
   },
   {
    "duration": 559,
    "start_time": "2022-02-10T09:01:39.981Z"
   },
   {
    "duration": 40,
    "start_time": "2022-02-10T09:01:40.542Z"
   },
   {
    "duration": 8,
    "start_time": "2022-02-10T09:01:40.584Z"
   },
   {
    "duration": 14,
    "start_time": "2022-02-10T09:01:40.594Z"
   },
   {
    "duration": 11,
    "start_time": "2022-02-10T09:01:40.609Z"
   },
   {
    "duration": 8,
    "start_time": "2022-02-10T09:01:40.622Z"
   },
   {
    "duration": 6,
    "start_time": "2022-02-10T09:01:40.631Z"
   },
   {
    "duration": 7,
    "start_time": "2022-02-10T09:01:40.639Z"
   },
   {
    "duration": 12,
    "start_time": "2022-02-10T09:01:40.647Z"
   },
   {
    "duration": 7,
    "start_time": "2022-02-10T09:01:40.660Z"
   },
   {
    "duration": 8,
    "start_time": "2022-02-10T09:01:40.668Z"
   },
   {
    "duration": 9,
    "start_time": "2022-02-10T09:01:40.677Z"
   },
   {
    "duration": 5,
    "start_time": "2022-02-10T09:01:40.687Z"
   },
   {
    "duration": 6,
    "start_time": "2022-02-10T09:01:40.693Z"
   },
   {
    "duration": 8,
    "start_time": "2022-02-10T09:01:40.701Z"
   },
   {
    "duration": 6,
    "start_time": "2022-02-10T09:01:40.711Z"
   },
   {
    "duration": 9,
    "start_time": "2022-02-10T09:01:40.719Z"
   },
   {
    "duration": 30,
    "start_time": "2022-02-10T09:01:40.730Z"
   },
   {
    "duration": 309,
    "start_time": "2022-02-10T09:01:40.762Z"
   },
   {
    "duration": 4575,
    "start_time": "2022-02-10T09:01:56.484Z"
   },
   {
    "duration": 185,
    "start_time": "2022-02-10T09:02:38.118Z"
   },
   {
    "duration": 221,
    "start_time": "2022-02-10T09:02:48.386Z"
   },
   {
    "duration": 603,
    "start_time": "2022-02-10T09:03:09.955Z"
   },
   {
    "duration": 42,
    "start_time": "2022-02-10T09:03:10.561Z"
   },
   {
    "duration": 8,
    "start_time": "2022-02-10T09:03:10.605Z"
   },
   {
    "duration": 8,
    "start_time": "2022-02-10T09:03:10.615Z"
   },
   {
    "duration": 7,
    "start_time": "2022-02-10T09:03:10.625Z"
   },
   {
    "duration": 9,
    "start_time": "2022-02-10T09:03:10.634Z"
   },
   {
    "duration": 8,
    "start_time": "2022-02-10T09:03:10.645Z"
   },
   {
    "duration": 4,
    "start_time": "2022-02-10T09:03:10.659Z"
   },
   {
    "duration": 12,
    "start_time": "2022-02-10T09:03:10.665Z"
   },
   {
    "duration": 6,
    "start_time": "2022-02-10T09:03:10.679Z"
   },
   {
    "duration": 7,
    "start_time": "2022-02-10T09:03:10.687Z"
   },
   {
    "duration": 8,
    "start_time": "2022-02-10T09:03:10.696Z"
   },
   {
    "duration": 9,
    "start_time": "2022-02-10T09:03:10.706Z"
   },
   {
    "duration": 46,
    "start_time": "2022-02-10T09:03:10.716Z"
   },
   {
    "duration": 7,
    "start_time": "2022-02-10T09:03:10.764Z"
   },
   {
    "duration": 6,
    "start_time": "2022-02-10T09:03:10.773Z"
   },
   {
    "duration": 8,
    "start_time": "2022-02-10T09:03:10.781Z"
   },
   {
    "duration": 5,
    "start_time": "2022-02-10T09:03:10.791Z"
   },
   {
    "duration": 13,
    "start_time": "2022-02-10T09:03:10.797Z"
   },
   {
    "duration": 33,
    "start_time": "2022-02-10T09:04:10.557Z"
   },
   {
    "duration": 33,
    "start_time": "2022-02-10T09:04:29.749Z"
   },
   {
    "duration": 16,
    "start_time": "2022-02-10T09:05:24.782Z"
   },
   {
    "duration": 245,
    "start_time": "2022-02-10T09:07:36.348Z"
   },
   {
    "duration": 546,
    "start_time": "2022-02-10T09:07:48.885Z"
   },
   {
    "duration": 40,
    "start_time": "2022-02-10T09:07:49.433Z"
   },
   {
    "duration": 8,
    "start_time": "2022-02-10T09:07:49.476Z"
   },
   {
    "duration": 22,
    "start_time": "2022-02-10T09:07:49.486Z"
   },
   {
    "duration": 20,
    "start_time": "2022-02-10T09:07:49.510Z"
   },
   {
    "duration": 30,
    "start_time": "2022-02-10T09:07:49.532Z"
   },
   {
    "duration": 11,
    "start_time": "2022-02-10T09:07:49.564Z"
   },
   {
    "duration": 21,
    "start_time": "2022-02-10T09:07:49.577Z"
   },
   {
    "duration": 18,
    "start_time": "2022-02-10T09:07:49.601Z"
   },
   {
    "duration": 18,
    "start_time": "2022-02-10T09:07:49.620Z"
   },
   {
    "duration": 10,
    "start_time": "2022-02-10T09:07:49.640Z"
   },
   {
    "duration": 11,
    "start_time": "2022-02-10T09:07:49.652Z"
   },
   {
    "duration": 10,
    "start_time": "2022-02-10T09:07:49.664Z"
   },
   {
    "duration": 10,
    "start_time": "2022-02-10T09:07:49.676Z"
   },
   {
    "duration": 9,
    "start_time": "2022-02-10T09:07:49.688Z"
   },
   {
    "duration": 10,
    "start_time": "2022-02-10T09:07:49.699Z"
   },
   {
    "duration": 18,
    "start_time": "2022-02-10T09:07:49.710Z"
   },
   {
    "duration": 5,
    "start_time": "2022-02-10T09:07:49.730Z"
   },
   {
    "duration": 17,
    "start_time": "2022-02-10T09:07:49.736Z"
   },
   {
    "duration": 24,
    "start_time": "2022-02-10T09:07:49.754Z"
   },
   {
    "duration": 36,
    "start_time": "2022-02-10T09:08:39.867Z"
   },
   {
    "duration": 17,
    "start_time": "2022-02-10T09:09:06.183Z"
   },
   {
    "duration": 32,
    "start_time": "2022-02-10T09:11:22.963Z"
   },
   {
    "duration": 328,
    "start_time": "2022-02-10T09:22:39.696Z"
   },
   {
    "duration": 551,
    "start_time": "2022-02-10T09:22:46.418Z"
   },
   {
    "duration": 43,
    "start_time": "2022-02-10T09:22:46.971Z"
   },
   {
    "duration": 7,
    "start_time": "2022-02-10T09:22:47.016Z"
   },
   {
    "duration": 9,
    "start_time": "2022-02-10T09:22:47.026Z"
   },
   {
    "duration": 9,
    "start_time": "2022-02-10T09:22:47.037Z"
   },
   {
    "duration": 7,
    "start_time": "2022-02-10T09:22:47.048Z"
   },
   {
    "duration": 5,
    "start_time": "2022-02-10T09:22:47.057Z"
   },
   {
    "duration": 14,
    "start_time": "2022-02-10T09:22:47.064Z"
   },
   {
    "duration": 13,
    "start_time": "2022-02-10T09:22:47.081Z"
   },
   {
    "duration": 5,
    "start_time": "2022-02-10T09:22:47.096Z"
   },
   {
    "duration": 7,
    "start_time": "2022-02-10T09:22:47.103Z"
   },
   {
    "duration": 9,
    "start_time": "2022-02-10T09:22:47.112Z"
   },
   {
    "duration": 5,
    "start_time": "2022-02-10T09:22:47.122Z"
   },
   {
    "duration": 31,
    "start_time": "2022-02-10T09:22:47.129Z"
   },
   {
    "duration": 6,
    "start_time": "2022-02-10T09:22:47.161Z"
   },
   {
    "duration": 17,
    "start_time": "2022-02-10T09:22:47.169Z"
   },
   {
    "duration": 12,
    "start_time": "2022-02-10T09:22:47.188Z"
   },
   {
    "duration": 6,
    "start_time": "2022-02-10T09:22:47.201Z"
   },
   {
    "duration": 10,
    "start_time": "2022-02-10T09:22:47.208Z"
   },
   {
    "duration": 56,
    "start_time": "2022-02-10T09:22:47.220Z"
   },
   {
    "duration": 35,
    "start_time": "2022-02-10T09:23:36.441Z"
   },
   {
    "duration": 35,
    "start_time": "2022-02-10T09:24:52.951Z"
   },
   {
    "duration": 34,
    "start_time": "2022-02-10T09:24:56.679Z"
   },
   {
    "duration": 573,
    "start_time": "2022-02-10T09:29:54.349Z"
   },
   {
    "duration": 2933,
    "start_time": "2022-02-10T09:29:54.924Z"
   },
   {
    "duration": 55,
    "start_time": "2022-02-10T09:29:57.860Z"
   },
   {
    "duration": 6,
    "start_time": "2022-02-10T09:29:57.917Z"
   },
   {
    "duration": 11,
    "start_time": "2022-02-10T09:29:57.924Z"
   },
   {
    "duration": 201,
    "start_time": "2022-02-10T09:29:57.936Z"
   },
   {
    "duration": 4,
    "start_time": "2022-02-10T09:29:58.138Z"
   },
   {
    "duration": 15,
    "start_time": "2022-02-10T09:29:58.144Z"
   },
   {
    "duration": 35,
    "start_time": "2022-02-10T09:29:58.161Z"
   },
   {
    "duration": 6,
    "start_time": "2022-02-10T09:29:58.197Z"
   },
   {
    "duration": 9,
    "start_time": "2022-02-10T09:29:58.205Z"
   },
   {
    "duration": 101,
    "start_time": "2022-02-10T09:29:58.216Z"
   },
   {
    "duration": 6,
    "start_time": "2022-02-10T09:29:58.319Z"
   },
   {
    "duration": 13,
    "start_time": "2022-02-10T09:29:58.326Z"
   },
   {
    "duration": 43,
    "start_time": "2022-02-10T09:29:58.340Z"
   },
   {
    "duration": 20,
    "start_time": "2022-02-10T09:29:58.385Z"
   },
   {
    "duration": 9,
    "start_time": "2022-02-10T09:29:58.407Z"
   },
   {
    "duration": 2,
    "start_time": "2022-02-10T09:29:58.418Z"
   },
   {
    "duration": 208,
    "start_time": "2022-02-10T09:29:58.422Z"
   },
   {
    "duration": 80,
    "start_time": "2022-02-10T09:29:58.632Z"
   },
   {
    "duration": 589,
    "start_time": "2022-02-10T09:30:24.851Z"
   },
   {
    "duration": 689,
    "start_time": "2022-02-10T09:30:25.442Z"
   },
   {
    "duration": 53,
    "start_time": "2022-02-10T09:30:26.133Z"
   },
   {
    "duration": 7,
    "start_time": "2022-02-10T09:30:26.188Z"
   },
   {
    "duration": 6,
    "start_time": "2022-02-10T09:30:26.197Z"
   },
   {
    "duration": 199,
    "start_time": "2022-02-10T09:30:26.204Z"
   },
   {
    "duration": 13,
    "start_time": "2022-02-10T09:30:26.404Z"
   },
   {
    "duration": 6,
    "start_time": "2022-02-10T09:30:26.420Z"
   },
   {
    "duration": 50,
    "start_time": "2022-02-10T09:30:26.427Z"
   },
   {
    "duration": 5,
    "start_time": "2022-02-10T09:30:26.478Z"
   },
   {
    "duration": 16,
    "start_time": "2022-02-10T09:30:26.484Z"
   },
   {
    "duration": 87,
    "start_time": "2022-02-10T09:30:26.501Z"
   },
   {
    "duration": 10,
    "start_time": "2022-02-10T09:30:26.589Z"
   },
   {
    "duration": 5,
    "start_time": "2022-02-10T09:30:26.600Z"
   },
   {
    "duration": 51,
    "start_time": "2022-02-10T09:30:26.606Z"
   },
   {
    "duration": 23,
    "start_time": "2022-02-10T09:30:26.659Z"
   },
   {
    "duration": 8,
    "start_time": "2022-02-10T09:30:26.684Z"
   },
   {
    "duration": 13,
    "start_time": "2022-02-10T09:30:26.693Z"
   },
   {
    "duration": 188,
    "start_time": "2022-02-10T09:30:26.707Z"
   },
   {
    "duration": 79,
    "start_time": "2022-02-10T09:30:26.896Z"
   },
   {
    "duration": 40,
    "start_time": "2022-02-10T09:32:47.392Z"
   },
   {
    "duration": 105,
    "start_time": "2022-02-10T09:33:58.236Z"
   },
   {
    "duration": 207,
    "start_time": "2022-02-10T09:34:08.929Z"
   },
   {
    "duration": 117,
    "start_time": "2022-02-10T09:34:39.165Z"
   },
   {
    "duration": 135,
    "start_time": "2022-02-10T09:39:10.018Z"
   },
   {
    "duration": 122,
    "start_time": "2022-02-10T09:39:21.033Z"
   },
   {
    "duration": 123,
    "start_time": "2022-02-10T09:40:53.203Z"
   },
   {
    "duration": 19,
    "start_time": "2022-02-10T09:44:18.654Z"
   },
   {
    "duration": 547,
    "start_time": "2022-02-10T09:56:17.093Z"
   },
   {
    "duration": 631,
    "start_time": "2022-02-10T09:56:17.642Z"
   },
   {
    "duration": 53,
    "start_time": "2022-02-10T09:56:18.275Z"
   },
   {
    "duration": 18,
    "start_time": "2022-02-10T09:56:18.330Z"
   },
   {
    "duration": 22,
    "start_time": "2022-02-10T09:56:18.349Z"
   },
   {
    "duration": 197,
    "start_time": "2022-02-10T09:56:18.372Z"
   },
   {
    "duration": 15,
    "start_time": "2022-02-10T09:56:18.571Z"
   },
   {
    "duration": 14,
    "start_time": "2022-02-10T09:56:18.588Z"
   },
   {
    "duration": 58,
    "start_time": "2022-02-10T09:56:18.604Z"
   },
   {
    "duration": 15,
    "start_time": "2022-02-10T09:56:18.664Z"
   },
   {
    "duration": 37,
    "start_time": "2022-02-10T09:56:18.680Z"
   },
   {
    "duration": 111,
    "start_time": "2022-02-10T09:56:18.719Z"
   },
   {
    "duration": 11,
    "start_time": "2022-02-10T09:56:18.832Z"
   },
   {
    "duration": 37,
    "start_time": "2022-02-10T09:56:18.845Z"
   },
   {
    "duration": 61,
    "start_time": "2022-02-10T09:56:18.884Z"
   },
   {
    "duration": 37,
    "start_time": "2022-02-10T09:56:18.947Z"
   },
   {
    "duration": 28,
    "start_time": "2022-02-10T09:56:18.986Z"
   },
   {
    "duration": 21,
    "start_time": "2022-02-10T09:56:19.016Z"
   },
   {
    "duration": 222,
    "start_time": "2022-02-10T09:56:19.038Z"
   },
   {
    "duration": 79,
    "start_time": "2022-02-10T09:56:19.262Z"
   },
   {
    "duration": 241,
    "start_time": "2022-02-10T09:59:40.023Z"
   },
   {
    "duration": 48,
    "start_time": "2022-02-10T09:59:55.053Z"
   },
   {
    "duration": 19,
    "start_time": "2022-02-10T10:00:00.611Z"
   },
   {
    "duration": 201,
    "start_time": "2022-02-10T10:00:33.912Z"
   },
   {
    "duration": 327,
    "start_time": "2022-02-10T10:00:45.582Z"
   },
   {
    "duration": 48,
    "start_time": "2022-02-10T10:00:59.454Z"
   },
   {
    "duration": 51,
    "start_time": "2022-02-10T10:01:23.532Z"
   },
   {
    "duration": 21,
    "start_time": "2022-02-10T10:01:26.142Z"
   },
   {
    "duration": 814,
    "start_time": "2022-02-10T10:01:40.552Z"
   },
   {
    "duration": 195,
    "start_time": "2022-02-10T10:02:07.563Z"
   },
   {
    "duration": 17,
    "start_time": "2022-02-10T10:02:11.342Z"
   },
   {
    "duration": 852,
    "start_time": "2022-02-10T10:03:04.482Z"
   },
   {
    "duration": 54,
    "start_time": "2022-02-10T10:04:42.332Z"
   },
   {
    "duration": 19,
    "start_time": "2022-02-10T10:04:44.934Z"
   },
   {
    "duration": 838,
    "start_time": "2022-02-10T10:06:10.403Z"
   },
   {
    "duration": 340,
    "start_time": "2022-02-10T10:07:39.421Z"
   },
   {
    "duration": 53,
    "start_time": "2022-02-10T10:07:50.303Z"
   },
   {
    "duration": 19,
    "start_time": "2022-02-10T10:07:52.771Z"
   },
   {
    "duration": 328,
    "start_time": "2022-02-10T10:08:08.684Z"
   },
   {
    "duration": 20,
    "start_time": "2022-02-10T10:08:09.623Z"
   },
   {
    "duration": 200,
    "start_time": "2022-02-10T10:08:45.768Z"
   },
   {
    "duration": 844,
    "start_time": "2022-02-10T10:08:58.551Z"
   },
   {
    "duration": 211,
    "start_time": "2022-02-10T10:09:29.500Z"
   },
   {
    "duration": 30,
    "start_time": "2022-02-10T10:09:31.471Z"
   },
   {
    "duration": 207,
    "start_time": "2022-02-10T10:11:38.722Z"
   },
   {
    "duration": 21,
    "start_time": "2022-02-10T10:11:39.642Z"
   },
   {
    "duration": 952,
    "start_time": "2022-02-10T11:51:01.644Z"
   },
   {
    "duration": 407,
    "start_time": "2022-02-10T11:51:16.351Z"
   },
   {
    "duration": 296,
    "start_time": "2022-02-10T11:51:36.590Z"
   },
   {
    "duration": 325,
    "start_time": "2022-02-10T11:52:02.489Z"
   },
   {
    "duration": 368,
    "start_time": "2022-02-10T11:54:08.481Z"
   },
   {
    "duration": 566,
    "start_time": "2022-02-10T11:54:59.974Z"
   },
   {
    "duration": 621,
    "start_time": "2022-02-10T11:55:00.542Z"
   },
   {
    "duration": 55,
    "start_time": "2022-02-10T11:55:01.165Z"
   },
   {
    "duration": 20,
    "start_time": "2022-02-10T11:55:01.222Z"
   },
   {
    "duration": 20,
    "start_time": "2022-02-10T11:55:01.244Z"
   },
   {
    "duration": 213,
    "start_time": "2022-02-10T11:55:01.266Z"
   },
   {
    "duration": 14,
    "start_time": "2022-02-10T11:55:01.481Z"
   },
   {
    "duration": 8,
    "start_time": "2022-02-10T11:55:01.498Z"
   },
   {
    "duration": 42,
    "start_time": "2022-02-10T11:55:01.509Z"
   },
   {
    "duration": 6,
    "start_time": "2022-02-10T11:55:01.559Z"
   },
   {
    "duration": 10,
    "start_time": "2022-02-10T11:55:01.567Z"
   },
   {
    "duration": 120,
    "start_time": "2022-02-10T11:55:01.579Z"
   },
   {
    "duration": 12,
    "start_time": "2022-02-10T11:55:01.701Z"
   },
   {
    "duration": 7,
    "start_time": "2022-02-10T11:55:01.714Z"
   },
   {
    "duration": 48,
    "start_time": "2022-02-10T11:55:01.723Z"
   },
   {
    "duration": 24,
    "start_time": "2022-02-10T11:55:01.773Z"
   },
   {
    "duration": 10,
    "start_time": "2022-02-10T11:55:01.799Z"
   },
   {
    "duration": 2,
    "start_time": "2022-02-10T11:55:01.811Z"
   },
   {
    "duration": 216,
    "start_time": "2022-02-10T11:55:01.814Z"
   },
   {
    "duration": 89,
    "start_time": "2022-02-10T11:55:02.031Z"
   },
   {
    "duration": 410,
    "start_time": "2022-02-10T11:55:02.121Z"
   },
   {
    "duration": -770,
    "start_time": "2022-02-10T11:55:03.302Z"
   },
   {
    "duration": 872,
    "start_time": "2022-02-10T12:04:22.131Z"
   },
   {
    "duration": 352,
    "start_time": "2022-02-10T12:04:33.417Z"
   },
   {
    "duration": 385,
    "start_time": "2022-02-10T12:05:01.822Z"
   },
   {
    "duration": 370,
    "start_time": "2022-02-10T12:06:43.222Z"
   },
   {
    "duration": 246,
    "start_time": "2022-02-10T12:06:50.329Z"
   },
   {
    "duration": 201,
    "start_time": "2022-02-10T12:08:46.011Z"
   },
   {
    "duration": 208,
    "start_time": "2022-02-10T12:08:53.902Z"
   },
   {
    "duration": 184,
    "start_time": "2022-02-10T12:09:02.448Z"
   },
   {
    "duration": 188,
    "start_time": "2022-02-10T12:09:14.484Z"
   },
   {
    "duration": 13,
    "start_time": "2022-02-10T12:09:26.947Z"
   },
   {
    "duration": 13,
    "start_time": "2022-02-10T12:12:53.184Z"
   },
   {
    "duration": 4706,
    "start_time": "2022-02-10T12:16:33.732Z"
   },
   {
    "duration": 14,
    "start_time": "2022-02-10T12:16:46.461Z"
   },
   {
    "duration": 4617,
    "start_time": "2022-02-10T12:16:48.519Z"
   },
   {
    "duration": 4694,
    "start_time": "2022-02-10T12:17:05.684Z"
   },
   {
    "duration": 61,
    "start_time": "2022-02-10T12:17:21.801Z"
   },
   {
    "duration": 75,
    "start_time": "2022-02-10T12:17:44.203Z"
   },
   {
    "duration": 66,
    "start_time": "2022-02-10T12:17:50.660Z"
   },
   {
    "duration": 55,
    "start_time": "2022-02-10T12:17:58.595Z"
   },
   {
    "duration": 177,
    "start_time": "2022-02-10T12:20:21.411Z"
   },
   {
    "duration": 632,
    "start_time": "2022-02-10T12:20:33.737Z"
   },
   {
    "duration": 683,
    "start_time": "2022-02-10T12:20:34.371Z"
   },
   {
    "duration": 62,
    "start_time": "2022-02-10T12:20:35.056Z"
   },
   {
    "duration": 10,
    "start_time": "2022-02-10T12:20:35.121Z"
   },
   {
    "duration": 27,
    "start_time": "2022-02-10T12:20:35.132Z"
   },
   {
    "duration": 213,
    "start_time": "2022-02-10T12:20:35.162Z"
   },
   {
    "duration": 15,
    "start_time": "2022-02-10T12:20:35.377Z"
   },
   {
    "duration": 17,
    "start_time": "2022-02-10T12:20:35.395Z"
   },
   {
    "duration": 45,
    "start_time": "2022-02-10T12:20:35.415Z"
   },
   {
    "duration": 7,
    "start_time": "2022-02-10T12:20:35.462Z"
   },
   {
    "duration": 32,
    "start_time": "2022-02-10T12:20:35.470Z"
   },
   {
    "duration": 107,
    "start_time": "2022-02-10T12:20:35.504Z"
   },
   {
    "duration": 12,
    "start_time": "2022-02-10T12:20:35.613Z"
   },
   {
    "duration": 6,
    "start_time": "2022-02-10T12:20:35.627Z"
   },
   {
    "duration": 53,
    "start_time": "2022-02-10T12:20:35.634Z"
   },
   {
    "duration": 25,
    "start_time": "2022-02-10T12:20:35.689Z"
   },
   {
    "duration": 9,
    "start_time": "2022-02-10T12:20:35.717Z"
   },
   {
    "duration": 3,
    "start_time": "2022-02-10T12:20:35.728Z"
   },
   {
    "duration": 242,
    "start_time": "2022-02-10T12:20:35.732Z"
   },
   {
    "duration": 94,
    "start_time": "2022-02-10T12:20:35.976Z"
   },
   {
    "duration": 261,
    "start_time": "2022-02-10T12:20:36.072Z"
   },
   {
    "duration": 4593,
    "start_time": "2022-02-10T12:20:36.335Z"
   },
   {
    "duration": -1059,
    "start_time": "2022-02-10T12:20:41.989Z"
   },
   {
    "duration": -1059,
    "start_time": "2022-02-10T12:20:41.990Z"
   },
   {
    "duration": -1058,
    "start_time": "2022-02-10T12:20:41.991Z"
   },
   {
    "duration": 14,
    "start_time": "2022-02-10T12:20:58.792Z"
   },
   {
    "duration": 264,
    "start_time": "2022-02-10T12:21:00.347Z"
   },
   {
    "duration": 71,
    "start_time": "2022-02-10T12:21:33.747Z"
   },
   {
    "duration": 183,
    "start_time": "2022-02-10T12:21:37.305Z"
   },
   {
    "duration": 246,
    "start_time": "2022-02-10T12:22:00.066Z"
   },
   {
    "duration": 9,
    "start_time": "2022-02-10T12:22:19.547Z"
   },
   {
    "duration": 210,
    "start_time": "2022-02-10T12:22:56.920Z"
   },
   {
    "duration": 12,
    "start_time": "2022-02-10T12:22:59.447Z"
   },
   {
    "duration": 26,
    "start_time": "2022-02-10T12:23:04.528Z"
   },
   {
    "duration": 195,
    "start_time": "2022-02-10T12:24:37.170Z"
   },
   {
    "duration": 189,
    "start_time": "2022-02-10T12:24:43.353Z"
   },
   {
    "duration": 98,
    "start_time": "2022-02-10T12:24:50.628Z"
   },
   {
    "duration": 281,
    "start_time": "2022-02-10T12:26:22.694Z"
   },
   {
    "duration": 16,
    "start_time": "2022-02-10T12:26:23.859Z"
   },
   {
    "duration": 31,
    "start_time": "2022-02-10T12:26:24.680Z"
   },
   {
    "duration": 72,
    "start_time": "2022-02-10T12:26:25.254Z"
   },
   {
    "duration": 70,
    "start_time": "2022-02-10T12:26:25.740Z"
   },
   {
    "duration": 305,
    "start_time": "2022-02-10T12:29:15.533Z"
   },
   {
    "duration": 246,
    "start_time": "2022-02-10T12:30:18.509Z"
   },
   {
    "duration": 317,
    "start_time": "2022-02-10T12:30:34.517Z"
   },
   {
    "duration": 325,
    "start_time": "2022-02-10T12:30:47.719Z"
   },
   {
    "duration": 287,
    "start_time": "2022-02-10T12:30:59.645Z"
   },
   {
    "duration": 227,
    "start_time": "2022-02-10T12:31:37.486Z"
   },
   {
    "duration": 221,
    "start_time": "2022-02-10T12:31:54.874Z"
   },
   {
    "duration": 16410,
    "start_time": "2022-02-10T12:32:06.237Z"
   },
   {
    "duration": 11491,
    "start_time": "2022-02-10T12:33:13.012Z"
   },
   {
    "duration": 16669,
    "start_time": "2022-02-10T12:33:36.345Z"
   },
   {
    "duration": 16412,
    "start_time": "2022-02-10T12:35:30.716Z"
   },
   {
    "duration": 16520,
    "start_time": "2022-02-10T12:36:10.096Z"
   },
   {
    "duration": 34,
    "start_time": "2022-02-10T12:36:38.449Z"
   },
   {
    "duration": 16321,
    "start_time": "2022-02-10T12:37:11.151Z"
   },
   {
    "duration": 27,
    "start_time": "2022-02-10T12:37:29.719Z"
   },
   {
    "duration": 16372,
    "start_time": "2022-02-10T12:38:27.518Z"
   },
   {
    "duration": 250,
    "start_time": "2022-02-10T12:39:30.110Z"
   },
   {
    "duration": 16,
    "start_time": "2022-02-10T12:39:37.077Z"
   },
   {
    "duration": 33,
    "start_time": "2022-02-10T12:39:38.497Z"
   },
   {
    "duration": 115,
    "start_time": "2022-02-10T12:39:39.629Z"
   },
   {
    "duration": 107,
    "start_time": "2022-02-10T12:39:40.363Z"
   },
   {
    "duration": 446,
    "start_time": "2022-02-10T12:39:47.226Z"
   },
   {
    "duration": 44,
    "start_time": "2022-02-10T12:40:27.398Z"
   },
   {
    "duration": 527,
    "start_time": "2022-02-10T13:48:18.623Z"
   },
   {
    "duration": 601,
    "start_time": "2022-02-10T13:48:19.152Z"
   },
   {
    "duration": 54,
    "start_time": "2022-02-10T13:48:19.755Z"
   },
   {
    "duration": 7,
    "start_time": "2022-02-10T13:48:19.811Z"
   },
   {
    "duration": 9,
    "start_time": "2022-02-10T13:48:19.820Z"
   },
   {
    "duration": 210,
    "start_time": "2022-02-10T13:48:19.831Z"
   },
   {
    "duration": 19,
    "start_time": "2022-02-10T13:48:20.043Z"
   },
   {
    "duration": 8,
    "start_time": "2022-02-10T13:48:20.063Z"
   },
   {
    "duration": 44,
    "start_time": "2022-02-10T13:48:20.074Z"
   },
   {
    "duration": 5,
    "start_time": "2022-02-10T13:48:20.120Z"
   },
   {
    "duration": 10,
    "start_time": "2022-02-10T13:48:20.126Z"
   },
   {
    "duration": 88,
    "start_time": "2022-02-10T13:48:20.137Z"
   },
   {
    "duration": 10,
    "start_time": "2022-02-10T13:48:20.227Z"
   },
   {
    "duration": 12,
    "start_time": "2022-02-10T13:48:20.239Z"
   },
   {
    "duration": 31,
    "start_time": "2022-02-10T13:48:20.259Z"
   },
   {
    "duration": 27,
    "start_time": "2022-02-10T13:48:20.292Z"
   },
   {
    "duration": 9,
    "start_time": "2022-02-10T13:48:20.321Z"
   },
   {
    "duration": 7,
    "start_time": "2022-02-10T13:48:20.332Z"
   },
   {
    "duration": 210,
    "start_time": "2022-02-10T13:48:20.341Z"
   },
   {
    "duration": 80,
    "start_time": "2022-02-10T13:48:20.553Z"
   },
   {
    "duration": 216,
    "start_time": "2022-02-10T13:48:20.635Z"
   },
   {
    "duration": 4530,
    "start_time": "2022-02-10T13:48:20.853Z"
   },
   {
    "duration": -1378,
    "start_time": "2022-02-10T13:48:26.762Z"
   },
   {
    "duration": -1379,
    "start_time": "2022-02-10T13:48:26.764Z"
   },
   {
    "duration": -1380,
    "start_time": "2022-02-10T13:48:26.767Z"
   },
   {
    "duration": 238,
    "start_time": "2022-02-10T13:49:03.823Z"
   },
   {
    "duration": 240,
    "start_time": "2022-02-10T13:49:09.285Z"
   },
   {
    "duration": 208,
    "start_time": "2022-02-10T13:49:24.245Z"
   },
   {
    "duration": 208,
    "start_time": "2022-02-10T13:49:36.926Z"
   },
   {
    "duration": 392,
    "start_time": "2022-02-10T13:49:44.045Z"
   },
   {
    "duration": 208,
    "start_time": "2022-02-10T13:49:52.935Z"
   },
   {
    "duration": 282,
    "start_time": "2022-02-10T13:51:48.669Z"
   },
   {
    "duration": 13,
    "start_time": "2022-02-10T13:51:54.158Z"
   },
   {
    "duration": 51,
    "start_time": "2022-02-10T13:51:55.890Z"
   },
   {
    "duration": 186,
    "start_time": "2022-02-10T13:51:57.378Z"
   },
   {
    "duration": 58,
    "start_time": "2022-02-10T13:51:58.651Z"
   },
   {
    "duration": 230,
    "start_time": "2022-02-10T13:53:34.550Z"
   },
   {
    "duration": 186,
    "start_time": "2022-02-10T13:53:37.436Z"
   },
   {
    "duration": 22,
    "start_time": "2022-02-10T13:53:37.898Z"
   },
   {
    "duration": 80,
    "start_time": "2022-02-10T13:53:38.301Z"
   },
   {
    "duration": 275,
    "start_time": "2022-02-10T13:55:45.140Z"
   },
   {
    "duration": 14,
    "start_time": "2022-02-10T13:55:49.360Z"
   },
   {
    "duration": 47,
    "start_time": "2022-02-10T13:55:50.490Z"
   },
   {
    "duration": 74,
    "start_time": "2022-02-10T13:55:52.478Z"
   },
   {
    "duration": 66,
    "start_time": "2022-02-10T13:55:53.566Z"
   },
   {
    "duration": 4522,
    "start_time": "2022-02-10T13:59:54.408Z"
   },
   {
    "duration": 241,
    "start_time": "2022-02-10T14:00:12.249Z"
   },
   {
    "duration": 16,
    "start_time": "2022-02-10T14:00:13.630Z"
   },
   {
    "duration": 76,
    "start_time": "2022-02-10T14:00:14.450Z"
   },
   {
    "duration": 189,
    "start_time": "2022-02-10T14:00:15.200Z"
   },
   {
    "duration": 229,
    "start_time": "2022-02-10T14:00:16.080Z"
   },
   {
    "duration": 418,
    "start_time": "2022-02-10T14:01:50.959Z"
   },
   {
    "duration": 200,
    "start_time": "2022-02-10T14:01:52.530Z"
   },
   {
    "duration": 58,
    "start_time": "2022-02-10T14:01:53.881Z"
   },
   {
    "duration": 308,
    "start_time": "2022-02-10T14:02:06.809Z"
   },
   {
    "duration": 38,
    "start_time": "2022-02-10T14:02:08.297Z"
   },
   {
    "duration": 283,
    "start_time": "2022-02-10T14:02:47.430Z"
   },
   {
    "duration": 21,
    "start_time": "2022-02-10T14:02:48.892Z"
   },
   {
    "duration": 85,
    "start_time": "2022-02-10T14:02:49.598Z"
   },
   {
    "duration": 93,
    "start_time": "2022-02-10T14:02:50.447Z"
   },
   {
    "duration": 209,
    "start_time": "2022-02-10T14:02:51.029Z"
   },
   {
    "duration": 5443,
    "start_time": "2022-02-10T14:03:40.550Z"
   },
   {
    "duration": 4626,
    "start_time": "2022-02-10T14:03:52.850Z"
   },
   {
    "duration": 478,
    "start_time": "2022-02-10T14:04:14.526Z"
   },
   {
    "duration": 453,
    "start_time": "2022-02-10T14:04:38.279Z"
   },
   {
    "duration": 383,
    "start_time": "2022-02-10T14:04:58.378Z"
   },
   {
    "duration": 210,
    "start_time": "2022-02-10T14:05:00.920Z"
   },
   {
    "duration": 313,
    "start_time": "2022-02-10T14:05:01.489Z"
   },
   {
    "duration": 700,
    "start_time": "2022-02-10T14:05:34.526Z"
   },
   {
    "duration": 2814,
    "start_time": "2022-02-10T14:06:02.282Z"
   },
   {
    "duration": 315,
    "start_time": "2022-02-10T14:06:55.149Z"
   },
   {
    "duration": 21,
    "start_time": "2022-02-10T14:06:56.912Z"
   },
   {
    "duration": 397,
    "start_time": "2022-02-10T14:06:57.783Z"
   },
   {
    "duration": 581,
    "start_time": "2022-02-10T14:07:38.470Z"
   },
   {
    "duration": 662,
    "start_time": "2022-02-10T14:07:39.053Z"
   },
   {
    "duration": 54,
    "start_time": "2022-02-10T14:07:39.717Z"
   },
   {
    "duration": 7,
    "start_time": "2022-02-10T14:07:39.773Z"
   },
   {
    "duration": 7,
    "start_time": "2022-02-10T14:07:39.782Z"
   },
   {
    "duration": 214,
    "start_time": "2022-02-10T14:07:39.791Z"
   },
   {
    "duration": 16,
    "start_time": "2022-02-10T14:07:40.006Z"
   },
   {
    "duration": 20,
    "start_time": "2022-02-10T14:07:40.024Z"
   },
   {
    "duration": 60,
    "start_time": "2022-02-10T14:07:40.047Z"
   },
   {
    "duration": 7,
    "start_time": "2022-02-10T14:07:40.110Z"
   },
   {
    "duration": 39,
    "start_time": "2022-02-10T14:07:40.119Z"
   },
   {
    "duration": 116,
    "start_time": "2022-02-10T14:07:40.160Z"
   },
   {
    "duration": 11,
    "start_time": "2022-02-10T14:07:40.279Z"
   },
   {
    "duration": 31,
    "start_time": "2022-02-10T14:07:40.292Z"
   },
   {
    "duration": 54,
    "start_time": "2022-02-10T14:07:40.325Z"
   },
   {
    "duration": 51,
    "start_time": "2022-02-10T14:07:40.381Z"
   },
   {
    "duration": 24,
    "start_time": "2022-02-10T14:07:40.434Z"
   },
   {
    "duration": 27,
    "start_time": "2022-02-10T14:07:40.460Z"
   },
   {
    "duration": 235,
    "start_time": "2022-02-10T14:07:40.489Z"
   },
   {
    "duration": 93,
    "start_time": "2022-02-10T14:07:40.726Z"
   },
   {
    "duration": 260,
    "start_time": "2022-02-10T14:07:40.820Z"
   },
   {
    "duration": 11,
    "start_time": "2022-02-10T14:07:41.082Z"
   },
   {
    "duration": 398,
    "start_time": "2022-02-10T14:07:41.095Z"
   },
   {
    "duration": -732,
    "start_time": "2022-02-10T14:07:42.227Z"
   },
   {
    "duration": -732,
    "start_time": "2022-02-10T14:07:42.228Z"
   },
   {
    "duration": -732,
    "start_time": "2022-02-10T14:07:42.229Z"
   },
   {
    "duration": -732,
    "start_time": "2022-02-10T14:07:42.231Z"
   },
   {
    "duration": -740,
    "start_time": "2022-02-10T14:07:42.240Z"
   },
   {
    "duration": -743,
    "start_time": "2022-02-10T14:07:42.243Z"
   },
   {
    "duration": 251,
    "start_time": "2022-02-10T14:07:58.458Z"
   },
   {
    "duration": 14,
    "start_time": "2022-02-10T14:07:59.520Z"
   },
   {
    "duration": 330,
    "start_time": "2022-02-10T14:08:00.346Z"
   },
   {
    "duration": 310,
    "start_time": "2022-02-10T14:08:14.052Z"
   },
   {
    "duration": 4296,
    "start_time": "2022-02-10T14:08:22.091Z"
   },
   {
    "duration": 12,
    "start_time": "2022-02-10T14:08:34.111Z"
   },
   {
    "duration": 376,
    "start_time": "2022-02-10T14:08:38.408Z"
   },
   {
    "duration": 379,
    "start_time": "2022-02-10T15:44:41.247Z"
   },
   {
    "duration": 402,
    "start_time": "2022-02-10T15:46:01.849Z"
   },
   {
    "duration": 1488,
    "start_time": "2022-02-10T15:46:11.548Z"
   },
   {
    "duration": 438,
    "start_time": "2022-02-10T15:48:38.766Z"
   },
   {
    "duration": 1559,
    "start_time": "2022-02-10T15:48:52.838Z"
   },
   {
    "duration": 441,
    "start_time": "2022-02-10T15:49:51.998Z"
   },
   {
    "duration": 419,
    "start_time": "2022-02-10T15:52:35.293Z"
   },
   {
    "duration": 70,
    "start_time": "2022-02-10T15:56:02.447Z"
   },
   {
    "duration": 314,
    "start_time": "2022-02-10T15:56:29.007Z"
   },
   {
    "duration": 63,
    "start_time": "2022-02-10T15:56:29.937Z"
   },
   {
    "duration": 573,
    "start_time": "2022-02-10T15:56:35.082Z"
   },
   {
    "duration": 666,
    "start_time": "2022-02-10T15:56:35.658Z"
   },
   {
    "duration": 59,
    "start_time": "2022-02-10T15:56:36.326Z"
   },
   {
    "duration": 13,
    "start_time": "2022-02-10T15:56:36.387Z"
   },
   {
    "duration": 11,
    "start_time": "2022-02-10T15:56:36.401Z"
   },
   {
    "duration": 224,
    "start_time": "2022-02-10T15:56:36.414Z"
   },
   {
    "duration": 20,
    "start_time": "2022-02-10T15:56:36.639Z"
   },
   {
    "duration": 5,
    "start_time": "2022-02-10T15:56:36.660Z"
   },
   {
    "duration": 38,
    "start_time": "2022-02-10T15:56:36.668Z"
   },
   {
    "duration": 6,
    "start_time": "2022-02-10T15:56:36.708Z"
   },
   {
    "duration": 7,
    "start_time": "2022-02-10T15:56:36.716Z"
   },
   {
    "duration": 113,
    "start_time": "2022-02-10T15:56:36.725Z"
   },
   {
    "duration": 20,
    "start_time": "2022-02-10T15:56:36.840Z"
   },
   {
    "duration": 5,
    "start_time": "2022-02-10T15:56:36.862Z"
   },
   {
    "duration": 34,
    "start_time": "2022-02-10T15:56:36.869Z"
   },
   {
    "duration": 20,
    "start_time": "2022-02-10T15:56:36.904Z"
   },
   {
    "duration": 35,
    "start_time": "2022-02-10T15:56:36.925Z"
   },
   {
    "duration": 6,
    "start_time": "2022-02-10T15:56:36.962Z"
   },
   {
    "duration": 239,
    "start_time": "2022-02-10T15:56:36.969Z"
   },
   {
    "duration": 93,
    "start_time": "2022-02-10T15:56:37.210Z"
   },
   {
    "duration": 268,
    "start_time": "2022-02-10T15:56:37.305Z"
   },
   {
    "duration": 13,
    "start_time": "2022-02-10T15:56:37.575Z"
   },
   {
    "duration": 398,
    "start_time": "2022-02-10T15:56:37.590Z"
   },
   {
    "duration": -703,
    "start_time": "2022-02-10T15:56:38.694Z"
   },
   {
    "duration": -703,
    "start_time": "2022-02-10T15:56:38.696Z"
   },
   {
    "duration": -704,
    "start_time": "2022-02-10T15:56:38.698Z"
   },
   {
    "duration": -703,
    "start_time": "2022-02-10T15:56:38.699Z"
   },
   {
    "duration": 9,
    "start_time": "2022-02-10T15:59:53.101Z"
   },
   {
    "duration": 540,
    "start_time": "2022-02-10T15:59:59.917Z"
   },
   {
    "duration": 670,
    "start_time": "2022-02-10T16:00:00.459Z"
   },
   {
    "duration": 58,
    "start_time": "2022-02-10T16:00:01.131Z"
   },
   {
    "duration": 36,
    "start_time": "2022-02-10T16:00:01.191Z"
   },
   {
    "duration": 33,
    "start_time": "2022-02-10T16:00:01.229Z"
   },
   {
    "duration": 237,
    "start_time": "2022-02-10T16:00:01.264Z"
   },
   {
    "duration": 15,
    "start_time": "2022-02-10T16:00:01.503Z"
   },
   {
    "duration": 38,
    "start_time": "2022-02-10T16:00:01.520Z"
   },
   {
    "duration": 179,
    "start_time": "2022-02-10T16:00:01.561Z"
   },
   {
    "duration": 64,
    "start_time": "2022-02-10T16:00:01.742Z"
   },
   {
    "duration": 66,
    "start_time": "2022-02-10T16:00:01.808Z"
   },
   {
    "duration": 199,
    "start_time": "2022-02-10T16:00:01.876Z"
   },
   {
    "duration": 12,
    "start_time": "2022-02-10T16:00:02.076Z"
   },
   {
    "duration": 37,
    "start_time": "2022-02-10T16:00:02.089Z"
   },
   {
    "duration": 63,
    "start_time": "2022-02-10T16:00:02.127Z"
   },
   {
    "duration": 48,
    "start_time": "2022-02-10T16:00:02.191Z"
   },
   {
    "duration": 37,
    "start_time": "2022-02-10T16:00:02.241Z"
   },
   {
    "duration": 29,
    "start_time": "2022-02-10T16:00:02.280Z"
   },
   {
    "duration": 231,
    "start_time": "2022-02-10T16:00:02.311Z"
   },
   {
    "duration": 89,
    "start_time": "2022-02-10T16:00:02.544Z"
   },
   {
    "duration": 260,
    "start_time": "2022-02-10T16:00:02.635Z"
   },
   {
    "duration": 13,
    "start_time": "2022-02-10T16:00:02.896Z"
   },
   {
    "duration": 422,
    "start_time": "2022-02-10T16:00:02.911Z"
   },
   {
    "duration": -770,
    "start_time": "2022-02-10T16:00:04.105Z"
   },
   {
    "duration": -772,
    "start_time": "2022-02-10T16:00:04.108Z"
   },
   {
    "duration": -772,
    "start_time": "2022-02-10T16:00:04.109Z"
   },
   {
    "duration": -772,
    "start_time": "2022-02-10T16:00:04.110Z"
   },
   {
    "duration": 9,
    "start_time": "2022-02-10T16:00:19.682Z"
   },
   {
    "duration": 120,
    "start_time": "2022-02-10T16:00:28.019Z"
   },
   {
    "duration": 511,
    "start_time": "2022-02-10T16:00:33.808Z"
   },
   {
    "duration": 613,
    "start_time": "2022-02-10T16:00:34.321Z"
   },
   {
    "duration": 52,
    "start_time": "2022-02-10T16:00:34.937Z"
   },
   {
    "duration": 8,
    "start_time": "2022-02-10T16:00:34.991Z"
   },
   {
    "duration": 10,
    "start_time": "2022-02-10T16:00:35.001Z"
   },
   {
    "duration": 308,
    "start_time": "2022-02-10T16:00:35.012Z"
   },
   {
    "duration": 14,
    "start_time": "2022-02-10T16:00:35.321Z"
   },
   {
    "duration": 9,
    "start_time": "2022-02-10T16:00:35.337Z"
   },
   {
    "duration": 43,
    "start_time": "2022-02-10T16:00:35.349Z"
   },
   {
    "duration": 6,
    "start_time": "2022-02-10T16:00:35.393Z"
   },
   {
    "duration": 5,
    "start_time": "2022-02-10T16:00:35.401Z"
   },
   {
    "duration": 130,
    "start_time": "2022-02-10T16:00:35.408Z"
   },
   {
    "duration": 19,
    "start_time": "2022-02-10T16:00:35.540Z"
   },
   {
    "duration": 5,
    "start_time": "2022-02-10T16:00:35.561Z"
   },
   {
    "duration": 32,
    "start_time": "2022-02-10T16:00:35.568Z"
   },
   {
    "duration": 30,
    "start_time": "2022-02-10T16:00:35.602Z"
   },
   {
    "duration": 193,
    "start_time": "2022-02-10T16:00:35.633Z"
   },
   {
    "duration": 2,
    "start_time": "2022-02-10T16:00:35.828Z"
   },
   {
    "duration": 16485,
    "start_time": "2022-02-10T16:00:35.831Z"
   },
   {
    "duration": 106,
    "start_time": "2022-02-10T16:00:52.317Z"
   },
   {
    "duration": 443,
    "start_time": "2022-02-10T16:00:52.424Z"
   },
   {
    "duration": -789,
    "start_time": "2022-02-10T16:00:53.657Z"
   },
   {
    "duration": -790,
    "start_time": "2022-02-10T16:00:53.659Z"
   },
   {
    "duration": -791,
    "start_time": "2022-02-10T16:00:53.661Z"
   },
   {
    "duration": -792,
    "start_time": "2022-02-10T16:00:53.663Z"
   },
   {
    "duration": -792,
    "start_time": "2022-02-10T16:00:53.664Z"
   },
   {
    "duration": -792,
    "start_time": "2022-02-10T16:00:53.665Z"
   },
   {
    "duration": 390,
    "start_time": "2022-02-10T16:01:28.043Z"
   },
   {
    "duration": -905,
    "start_time": "2022-02-10T16:01:29.341Z"
   },
   {
    "duration": 229,
    "start_time": "2022-02-10T16:01:52.783Z"
   },
   {
    "duration": 403,
    "start_time": "2022-02-10T16:02:02.608Z"
   },
   {
    "duration": 382,
    "start_time": "2022-02-10T16:03:23.519Z"
   },
   {
    "duration": 222,
    "start_time": "2022-02-10T16:04:53.880Z"
   },
   {
    "duration": 743,
    "start_time": "2022-02-10T16:05:24.527Z"
   },
   {
    "duration": 247,
    "start_time": "2022-02-10T16:05:57.623Z"
   },
   {
    "duration": 940,
    "start_time": "2022-02-10T16:06:20.564Z"
   },
   {
    "duration": 435,
    "start_time": "2022-02-10T16:06:34.899Z"
   },
   {
    "duration": 374,
    "start_time": "2022-02-10T16:06:51.907Z"
   },
   {
    "duration": 14,
    "start_time": "2022-02-10T16:06:54.149Z"
   },
   {
    "duration": 16992,
    "start_time": "2022-02-10T16:06:54.959Z"
   },
   {
    "duration": -1166,
    "start_time": "2022-02-10T16:07:13.119Z"
   },
   {
    "duration": 16760,
    "start_time": "2022-02-10T16:07:30.780Z"
   },
   {
    "duration": 30,
    "start_time": "2022-02-10T16:07:57.790Z"
   },
   {
    "duration": 566,
    "start_time": "2022-02-10T16:07:59.869Z"
   },
   {
    "duration": 230,
    "start_time": "2022-02-10T16:08:01.147Z"
   },
   {
    "duration": 61,
    "start_time": "2022-02-10T16:14:39.057Z"
   },
   {
    "duration": 63,
    "start_time": "2022-02-10T16:14:48.938Z"
   },
   {
    "duration": 64,
    "start_time": "2022-02-10T16:15:03.408Z"
   },
   {
    "duration": 81,
    "start_time": "2022-02-10T16:15:14.368Z"
   },
   {
    "duration": 647,
    "start_time": "2022-02-10T19:49:26.691Z"
   },
   {
    "duration": 690,
    "start_time": "2022-02-10T19:49:27.340Z"
   },
   {
    "duration": 59,
    "start_time": "2022-02-10T19:49:28.032Z"
   },
   {
    "duration": 9,
    "start_time": "2022-02-10T19:49:28.093Z"
   },
   {
    "duration": 8,
    "start_time": "2022-02-10T19:49:28.103Z"
   },
   {
    "duration": 321,
    "start_time": "2022-02-10T19:49:28.113Z"
   },
   {
    "duration": 15,
    "start_time": "2022-02-10T19:49:28.436Z"
   },
   {
    "duration": 7,
    "start_time": "2022-02-10T19:49:28.453Z"
   },
   {
    "duration": 57,
    "start_time": "2022-02-10T19:49:28.462Z"
   },
   {
    "duration": 6,
    "start_time": "2022-02-10T19:49:28.521Z"
   },
   {
    "duration": 10,
    "start_time": "2022-02-10T19:49:28.529Z"
   },
   {
    "duration": 128,
    "start_time": "2022-02-10T19:49:28.541Z"
   },
   {
    "duration": 13,
    "start_time": "2022-02-10T19:49:28.671Z"
   },
   {
    "duration": 25,
    "start_time": "2022-02-10T19:49:28.686Z"
   },
   {
    "duration": 37,
    "start_time": "2022-02-10T19:49:28.713Z"
   },
   {
    "duration": 32,
    "start_time": "2022-02-10T19:49:28.752Z"
   },
   {
    "duration": 205,
    "start_time": "2022-02-10T19:49:28.786Z"
   },
   {
    "duration": 3,
    "start_time": "2022-02-10T19:49:28.992Z"
   },
   {
    "duration": 22392,
    "start_time": "2022-02-10T19:49:28.997Z"
   },
   {
    "duration": 151,
    "start_time": "2022-02-10T19:49:51.391Z"
   },
   {
    "duration": 506,
    "start_time": "2022-02-10T19:49:51.544Z"
   },
   {
    "duration": 12,
    "start_time": "2022-02-10T19:49:52.053Z"
   },
   {
    "duration": 84,
    "start_time": "2022-02-10T19:49:52.068Z"
   },
   {
    "duration": 254,
    "start_time": "2022-02-10T19:49:52.155Z"
   },
   {
    "duration": 225,
    "start_time": "2022-02-10T19:49:52.412Z"
   },
   {
    "duration": 103,
    "start_time": "2022-02-10T19:50:09.545Z"
   },
   {
    "duration": 60,
    "start_time": "2022-02-10T19:51:37.567Z"
   },
   {
    "duration": 97,
    "start_time": "2022-02-10T19:51:46.484Z"
   },
   {
    "duration": 533,
    "start_time": "2022-02-10T19:52:56.728Z"
   },
   {
    "duration": 3,
    "start_time": "2022-02-10T19:55:01.369Z"
   },
   {
    "duration": 94,
    "start_time": "2022-02-10T19:56:45.618Z"
   },
   {
    "duration": 700,
    "start_time": "2022-02-10T19:56:52.585Z"
   },
   {
    "duration": 10,
    "start_time": "2022-02-10T20:00:28.727Z"
   },
   {
    "duration": 260,
    "start_time": "2022-02-10T20:02:24.146Z"
   },
   {
    "duration": 5,
    "start_time": "2022-02-10T20:02:34.633Z"
   },
   {
    "duration": 14,
    "start_time": "2022-02-10T20:02:40.570Z"
   },
   {
    "duration": 83,
    "start_time": "2022-02-10T20:04:56.890Z"
   },
   {
    "duration": 17,
    "start_time": "2022-02-10T20:05:13.350Z"
   },
   {
    "duration": 23,
    "start_time": "2022-02-10T20:06:28.526Z"
   },
   {
    "duration": 15,
    "start_time": "2022-02-10T20:07:22.629Z"
   },
   {
    "duration": 6362,
    "start_time": "2022-02-10T20:09:52.692Z"
   },
   {
    "duration": 7,
    "start_time": "2022-02-10T20:10:09.183Z"
   },
   {
    "duration": 254,
    "start_time": "2022-02-10T20:11:50.226Z"
   },
   {
    "duration": 11,
    "start_time": "2022-02-10T20:12:04.874Z"
   },
   {
    "duration": 3,
    "start_time": "2022-02-10T20:12:30.377Z"
   },
   {
    "duration": 16,
    "start_time": "2022-02-10T20:12:35.491Z"
   },
   {
    "duration": 643,
    "start_time": "2022-02-10T20:12:56.076Z"
   },
   {
    "duration": 672,
    "start_time": "2022-02-10T20:12:56.721Z"
   },
   {
    "duration": 55,
    "start_time": "2022-02-10T20:12:57.395Z"
   },
   {
    "duration": 9,
    "start_time": "2022-02-10T20:12:57.452Z"
   },
   {
    "duration": 10,
    "start_time": "2022-02-10T20:12:57.463Z"
   },
   {
    "duration": 317,
    "start_time": "2022-02-10T20:12:57.475Z"
   },
   {
    "duration": 19,
    "start_time": "2022-02-10T20:12:57.795Z"
   },
   {
    "duration": 7,
    "start_time": "2022-02-10T20:12:57.817Z"
   },
   {
    "duration": 45,
    "start_time": "2022-02-10T20:12:57.827Z"
   },
   {
    "duration": 7,
    "start_time": "2022-02-10T20:12:57.874Z"
   },
   {
    "duration": 28,
    "start_time": "2022-02-10T20:12:57.883Z"
   },
   {
    "duration": 126,
    "start_time": "2022-02-10T20:12:57.913Z"
   },
   {
    "duration": 13,
    "start_time": "2022-02-10T20:12:58.041Z"
   },
   {
    "duration": 7,
    "start_time": "2022-02-10T20:12:58.055Z"
   },
   {
    "duration": 54,
    "start_time": "2022-02-10T20:12:58.064Z"
   },
   {
    "duration": 34,
    "start_time": "2022-02-10T20:12:58.120Z"
   },
   {
    "duration": 190,
    "start_time": "2022-02-10T20:12:58.156Z"
   },
   {
    "duration": 2,
    "start_time": "2022-02-10T20:12:58.348Z"
   },
   {
    "duration": 19275,
    "start_time": "2022-02-10T20:12:58.352Z"
   },
   {
    "duration": 107,
    "start_time": "2022-02-10T20:13:17.629Z"
   },
   {
    "duration": 416,
    "start_time": "2022-02-10T20:13:17.738Z"
   },
   {
    "duration": 13,
    "start_time": "2022-02-10T20:13:18.156Z"
   },
   {
    "duration": 60,
    "start_time": "2022-02-10T20:13:18.173Z"
   },
   {
    "duration": 261,
    "start_time": "2022-02-10T20:13:18.235Z"
   },
   {
    "duration": 170,
    "start_time": "2022-02-10T20:13:18.498Z"
   },
   {
    "duration": 11,
    "start_time": "2022-02-10T20:13:18.670Z"
   },
   {
    "duration": 35,
    "start_time": "2022-02-10T20:13:18.682Z"
   },
   {
    "duration": 567,
    "start_time": "2022-02-10T20:13:18.719Z"
   },
   {
    "duration": 893,
    "start_time": "2022-02-10T20:13:19.288Z"
   },
   {
    "duration": 731,
    "start_time": "2022-02-10T20:14:59.963Z"
   },
   {
    "duration": 277,
    "start_time": "2022-02-10T20:15:15.472Z"
   },
   {
    "duration": 19,
    "start_time": "2022-02-10T20:15:39.670Z"
   },
   {
    "duration": 3,
    "start_time": "2022-02-10T20:15:41.651Z"
   },
   {
    "duration": 646,
    "start_time": "2022-02-10T20:15:42.535Z"
   },
   {
    "duration": 5053,
    "start_time": "2022-02-10T20:15:51.522Z"
   },
   {
    "duration": 6612,
    "start_time": "2022-02-10T20:17:20.021Z"
   },
   {
    "duration": 5334,
    "start_time": "2022-02-10T20:18:11.929Z"
   },
   {
    "duration": 38,
    "start_time": "2022-02-10T20:19:11.725Z"
   },
   {
    "duration": 40,
    "start_time": "2022-02-10T20:19:48.755Z"
   },
   {
    "duration": 3,
    "start_time": "2022-02-10T20:19:49.426Z"
   },
   {
    "duration": 593,
    "start_time": "2022-02-10T20:19:50.018Z"
   },
   {
    "duration": 3,
    "start_time": "2022-02-10T20:19:55.130Z"
   },
   {
    "duration": 3,
    "start_time": "2022-02-10T20:20:01.556Z"
   },
   {
    "duration": 38,
    "start_time": "2022-02-10T20:20:15.721Z"
   },
   {
    "duration": 3,
    "start_time": "2022-02-10T20:20:16.643Z"
   },
   {
    "duration": 721,
    "start_time": "2022-02-10T20:20:17.429Z"
   },
   {
    "duration": 27,
    "start_time": "2022-02-10T20:21:15.656Z"
   },
   {
    "duration": 4,
    "start_time": "2022-02-10T20:21:16.494Z"
   },
   {
    "duration": 5627,
    "start_time": "2022-02-10T20:21:16.990Z"
   },
   {
    "duration": 41,
    "start_time": "2022-02-10T20:21:23.431Z"
   },
   {
    "duration": 5272,
    "start_time": "2022-02-10T20:24:05.862Z"
   },
   {
    "duration": 5398,
    "start_time": "2022-02-10T20:24:22.794Z"
   },
   {
    "duration": 1009,
    "start_time": "2022-02-10T20:25:03.070Z"
   },
   {
    "duration": 1552,
    "start_time": "2022-02-10T20:25:11.058Z"
   },
   {
    "duration": 13,
    "start_time": "2022-02-10T20:26:43.746Z"
   },
   {
    "duration": 18,
    "start_time": "2022-02-10T20:26:44.474Z"
   },
   {
    "duration": 3,
    "start_time": "2022-02-10T20:26:45.206Z"
   },
   {
    "duration": 1014,
    "start_time": "2022-02-10T20:26:45.866Z"
   },
   {
    "duration": 43,
    "start_time": "2022-02-10T20:26:51.917Z"
   },
   {
    "duration": 57,
    "start_time": "2022-02-10T20:31:12.093Z"
   },
   {
    "duration": 574,
    "start_time": "2022-02-10T20:32:27.704Z"
   },
   {
    "duration": 49,
    "start_time": "2022-02-10T20:33:47.175Z"
   },
   {
    "duration": 614,
    "start_time": "2022-02-10T20:33:52.444Z"
   },
   {
    "duration": 1048,
    "start_time": "2022-02-10T20:34:41.071Z"
   },
   {
    "duration": 673,
    "start_time": "2022-02-10T20:34:47.088Z"
   },
   {
    "duration": 768,
    "start_time": "2022-02-10T22:09:12.121Z"
   },
   {
    "duration": 775,
    "start_time": "2022-02-10T22:09:12.891Z"
   },
   {
    "duration": 67,
    "start_time": "2022-02-10T22:09:13.669Z"
   },
   {
    "duration": 10,
    "start_time": "2022-02-10T22:09:13.739Z"
   },
   {
    "duration": 9,
    "start_time": "2022-02-10T22:09:13.751Z"
   },
   {
    "duration": 415,
    "start_time": "2022-02-10T22:09:13.762Z"
   },
   {
    "duration": 19,
    "start_time": "2022-02-10T22:09:14.179Z"
   },
   {
    "duration": 8,
    "start_time": "2022-02-10T22:09:14.202Z"
   },
   {
    "duration": 59,
    "start_time": "2022-02-10T22:09:14.213Z"
   },
   {
    "duration": 8,
    "start_time": "2022-02-10T22:09:14.274Z"
   },
   {
    "duration": 9,
    "start_time": "2022-02-10T22:09:14.284Z"
   },
   {
    "duration": 198,
    "start_time": "2022-02-10T22:09:14.295Z"
   },
   {
    "duration": 16,
    "start_time": "2022-02-10T22:09:14.495Z"
   },
   {
    "duration": 20,
    "start_time": "2022-02-10T22:09:14.513Z"
   },
   {
    "duration": 43,
    "start_time": "2022-02-10T22:09:14.535Z"
   },
   {
    "duration": 60,
    "start_time": "2022-02-10T22:09:14.580Z"
   },
   {
    "duration": 290,
    "start_time": "2022-02-10T22:09:14.642Z"
   },
   {
    "duration": 4,
    "start_time": "2022-02-10T22:09:14.934Z"
   },
   {
    "duration": 36131,
    "start_time": "2022-02-10T22:09:14.940Z"
   },
   {
    "duration": 100,
    "start_time": "2022-02-10T22:09:51.074Z"
   },
   {
    "duration": 511,
    "start_time": "2022-02-10T22:09:51.177Z"
   },
   {
    "duration": 14,
    "start_time": "2022-02-10T22:09:51.691Z"
   },
   {
    "duration": 71,
    "start_time": "2022-02-10T22:09:51.710Z"
   },
   {
    "duration": 189,
    "start_time": "2022-02-10T22:09:51.784Z"
   },
   {
    "duration": 199,
    "start_time": "2022-02-10T22:09:51.976Z"
   },
   {
    "duration": 13,
    "start_time": "2022-02-10T22:09:52.177Z"
   },
   {
    "duration": 41,
    "start_time": "2022-02-10T22:09:52.192Z"
   },
   {
    "duration": 24,
    "start_time": "2022-02-10T22:09:52.235Z"
   },
   {
    "duration": 737,
    "start_time": "2022-02-10T22:09:52.261Z"
   },
   {
    "duration": 1526,
    "start_time": "2022-02-10T22:09:53.001Z"
   },
   {
    "duration": 1017,
    "start_time": "2022-02-10T22:09:54.533Z"
   },
   {
    "duration": 35,
    "start_time": "2022-02-10T22:12:45.096Z"
   },
   {
    "duration": 520,
    "start_time": "2022-02-10T22:14:14.777Z"
   },
   {
    "duration": 242,
    "start_time": "2022-02-10T22:15:57.125Z"
   },
   {
    "duration": 226,
    "start_time": "2022-02-10T22:16:13.446Z"
   },
   {
    "duration": 158,
    "start_time": "2022-02-10T22:16:53.644Z"
   },
   {
    "duration": 64553,
    "start_time": "2022-02-10T22:20:54.088Z"
   },
   {
    "duration": 62180,
    "start_time": "2022-02-10T22:22:44.152Z"
   },
   {
    "duration": 61131,
    "start_time": "2022-02-10T22:34:01.703Z"
   },
   {
    "duration": 653,
    "start_time": "2022-02-11T06:29:00.520Z"
   },
   {
    "duration": 1750,
    "start_time": "2022-02-11T06:29:01.175Z"
   },
   {
    "duration": 59,
    "start_time": "2022-02-11T06:29:02.928Z"
   },
   {
    "duration": 7,
    "start_time": "2022-02-11T06:29:02.989Z"
   },
   {
    "duration": 5,
    "start_time": "2022-02-11T06:29:02.998Z"
   },
   {
    "duration": 310,
    "start_time": "2022-02-11T06:29:03.018Z"
   },
   {
    "duration": 15,
    "start_time": "2022-02-11T06:29:03.329Z"
   },
   {
    "duration": 7,
    "start_time": "2022-02-11T06:29:03.347Z"
   },
   {
    "duration": 39,
    "start_time": "2022-02-11T06:29:03.356Z"
   },
   {
    "duration": 5,
    "start_time": "2022-02-11T06:29:03.396Z"
   },
   {
    "duration": 5,
    "start_time": "2022-02-11T06:29:03.418Z"
   },
   {
    "duration": 132,
    "start_time": "2022-02-11T06:29:03.425Z"
   },
   {
    "duration": 13,
    "start_time": "2022-02-11T06:29:03.559Z"
   },
   {
    "duration": 7,
    "start_time": "2022-02-11T06:29:03.573Z"
   },
   {
    "duration": 52,
    "start_time": "2022-02-11T06:29:03.582Z"
   },
   {
    "duration": 32,
    "start_time": "2022-02-11T06:29:03.636Z"
   },
   {
    "duration": 207,
    "start_time": "2022-02-11T06:29:03.669Z"
   },
   {
    "duration": 3,
    "start_time": "2022-02-11T06:29:03.878Z"
   },
   {
    "duration": 17904,
    "start_time": "2022-02-11T06:29:03.883Z"
   },
   {
    "duration": 79,
    "start_time": "2022-02-11T06:29:21.789Z"
   },
   {
    "duration": 369,
    "start_time": "2022-02-11T06:29:21.870Z"
   },
   {
    "duration": 13,
    "start_time": "2022-02-11T06:29:22.241Z"
   },
   {
    "duration": 61,
    "start_time": "2022-02-11T06:29:22.257Z"
   },
   {
    "duration": 238,
    "start_time": "2022-02-11T06:29:22.320Z"
   },
   {
    "duration": 143,
    "start_time": "2022-02-11T06:29:22.560Z"
   },
   {
    "duration": 19,
    "start_time": "2022-02-11T06:29:22.705Z"
   },
   {
    "duration": 61,
    "start_time": "2022-02-11T06:29:22.726Z"
   },
   {
    "duration": 14,
    "start_time": "2022-02-11T06:29:22.788Z"
   },
   {
    "duration": 554,
    "start_time": "2022-02-11T06:29:22.804Z"
   },
   {
    "duration": 967,
    "start_time": "2022-02-11T06:29:23.360Z"
   },
   {
    "duration": 608,
    "start_time": "2022-02-11T06:29:24.329Z"
   },
   {
    "duration": 31514,
    "start_time": "2022-02-11T06:29:24.939Z"
   },
   {
    "duration": 11,
    "start_time": "2022-02-11T06:31:41.604Z"
   },
   {
    "duration": 9811,
    "start_time": "2022-02-11T06:33:21.348Z"
   },
   {
    "duration": 15,
    "start_time": "2022-02-11T06:33:42.456Z"
   },
   {
    "duration": 19,
    "start_time": "2022-02-11T06:33:49.041Z"
   },
   {
    "duration": 50,
    "start_time": "2022-02-11T06:35:34.420Z"
   },
   {
    "duration": 40,
    "start_time": "2022-02-11T06:35:39.581Z"
   },
   {
    "duration": 40,
    "start_time": "2022-02-11T06:35:51.335Z"
   },
   {
    "duration": 39,
    "start_time": "2022-02-11T06:36:01.700Z"
   },
   {
    "duration": 37,
    "start_time": "2022-02-11T06:37:08.548Z"
   },
   {
    "duration": 39,
    "start_time": "2022-02-11T06:37:43.125Z"
   },
   {
    "duration": 447,
    "start_time": "2022-02-11T06:38:44.908Z"
   },
   {
    "duration": 292,
    "start_time": "2022-02-11T06:39:22.822Z"
   },
   {
    "duration": 316,
    "start_time": "2022-02-11T06:39:56.510Z"
   },
   {
    "duration": 355,
    "start_time": "2022-02-11T06:40:05.093Z"
   },
   {
    "duration": 315,
    "start_time": "2022-02-11T06:40:15.863Z"
   },
   {
    "duration": 336,
    "start_time": "2022-02-11T06:40:38.058Z"
   },
   {
    "duration": 298,
    "start_time": "2022-02-11T06:41:07.958Z"
   },
   {
    "duration": 35,
    "start_time": "2022-02-11T06:42:00.816Z"
   },
   {
    "duration": 303,
    "start_time": "2022-02-11T06:42:57.986Z"
   },
   {
    "duration": 295,
    "start_time": "2022-02-11T06:44:26.019Z"
   },
   {
    "duration": 1063,
    "start_time": "2022-02-11T06:45:53.512Z"
   },
   {
    "duration": 299,
    "start_time": "2022-02-11T06:46:18.022Z"
   },
   {
    "duration": 35,
    "start_time": "2022-02-11T06:46:39.178Z"
   },
   {
    "duration": 44,
    "start_time": "2022-02-11T06:48:01.409Z"
   },
   {
    "duration": 54,
    "start_time": "2022-02-11T06:48:06.778Z"
   },
   {
    "duration": 731,
    "start_time": "2022-02-11T06:48:30.564Z"
   },
   {
    "duration": 711,
    "start_time": "2022-02-11T06:48:31.297Z"
   },
   {
    "duration": 57,
    "start_time": "2022-02-11T06:48:32.010Z"
   },
   {
    "duration": 13,
    "start_time": "2022-02-11T06:48:32.069Z"
   },
   {
    "duration": 14,
    "start_time": "2022-02-11T06:48:32.084Z"
   },
   {
    "duration": 378,
    "start_time": "2022-02-11T06:48:32.100Z"
   },
   {
    "duration": 15,
    "start_time": "2022-02-11T06:48:32.480Z"
   },
   {
    "duration": 25,
    "start_time": "2022-02-11T06:48:32.497Z"
   },
   {
    "duration": 52,
    "start_time": "2022-02-11T06:48:32.525Z"
   },
   {
    "duration": 6,
    "start_time": "2022-02-11T06:48:32.579Z"
   },
   {
    "duration": 6,
    "start_time": "2022-02-11T06:48:32.587Z"
   },
   {
    "duration": 161,
    "start_time": "2022-02-11T06:48:32.595Z"
   },
   {
    "duration": 13,
    "start_time": "2022-02-11T06:48:32.759Z"
   },
   {
    "duration": 7,
    "start_time": "2022-02-11T06:48:32.774Z"
   },
   {
    "duration": 75,
    "start_time": "2022-02-11T06:48:32.783Z"
   },
   {
    "duration": 38,
    "start_time": "2022-02-11T06:48:32.859Z"
   },
   {
    "duration": 221,
    "start_time": "2022-02-11T06:48:32.898Z"
   },
   {
    "duration": 4,
    "start_time": "2022-02-11T06:48:33.121Z"
   },
   {
    "duration": 18641,
    "start_time": "2022-02-11T06:48:33.127Z"
   },
   {
    "duration": 87,
    "start_time": "2022-02-11T06:48:51.770Z"
   },
   {
    "duration": 378,
    "start_time": "2022-02-11T06:48:51.859Z"
   },
   {
    "duration": 12,
    "start_time": "2022-02-11T06:48:52.239Z"
   },
   {
    "duration": 44,
    "start_time": "2022-02-11T06:48:52.252Z"
   },
   {
    "duration": 245,
    "start_time": "2022-02-11T06:48:52.298Z"
   },
   {
    "duration": 150,
    "start_time": "2022-02-11T06:48:52.545Z"
   },
   {
    "duration": 21,
    "start_time": "2022-02-11T06:48:52.697Z"
   },
   {
    "duration": 17,
    "start_time": "2022-02-11T06:48:52.721Z"
   },
   {
    "duration": 16,
    "start_time": "2022-02-11T06:48:52.740Z"
   },
   {
    "duration": 562,
    "start_time": "2022-02-11T06:48:52.757Z"
   },
   {
    "duration": 943,
    "start_time": "2022-02-11T06:48:53.321Z"
   },
   {
    "duration": 613,
    "start_time": "2022-02-11T06:48:54.266Z"
   },
   {
    "duration": 30829,
    "start_time": "2022-02-11T06:48:54.881Z"
   },
   {
    "duration": 53,
    "start_time": "2022-02-11T06:49:25.712Z"
   },
   {
    "duration": 2757,
    "start_time": "2022-02-11T06:50:29.441Z"
   },
   {
    "duration": 619,
    "start_time": "2022-02-11T06:50:40.818Z"
   },
   {
    "duration": 661,
    "start_time": "2022-02-11T06:50:41.439Z"
   },
   {
    "duration": 58,
    "start_time": "2022-02-11T06:50:42.102Z"
   },
   {
    "duration": 7,
    "start_time": "2022-02-11T06:50:42.162Z"
   },
   {
    "duration": 8,
    "start_time": "2022-02-11T06:50:42.219Z"
   },
   {
    "duration": 350,
    "start_time": "2022-02-11T06:50:42.228Z"
   },
   {
    "duration": 15,
    "start_time": "2022-02-11T06:50:42.580Z"
   },
   {
    "duration": 8,
    "start_time": "2022-02-11T06:50:42.597Z"
   },
   {
    "duration": 36,
    "start_time": "2022-02-11T06:50:42.619Z"
   },
   {
    "duration": 6,
    "start_time": "2022-02-11T06:50:42.657Z"
   },
   {
    "duration": 5,
    "start_time": "2022-02-11T06:50:42.664Z"
   },
   {
    "duration": 130,
    "start_time": "2022-02-11T06:50:42.671Z"
   },
   {
    "duration": 20,
    "start_time": "2022-02-11T06:50:42.803Z"
   },
   {
    "duration": 6,
    "start_time": "2022-02-11T06:50:42.824Z"
   },
   {
    "duration": 33,
    "start_time": "2022-02-11T06:50:42.831Z"
   },
   {
    "duration": 29,
    "start_time": "2022-02-11T06:50:42.866Z"
   },
   {
    "duration": 188,
    "start_time": "2022-02-11T06:50:42.897Z"
   },
   {
    "duration": 3,
    "start_time": "2022-02-11T06:50:43.087Z"
   },
   {
    "duration": 17878,
    "start_time": "2022-02-11T06:50:43.091Z"
   },
   {
    "duration": 90,
    "start_time": "2022-02-11T06:51:00.970Z"
   },
   {
    "duration": 386,
    "start_time": "2022-02-11T06:51:01.062Z"
   },
   {
    "duration": 13,
    "start_time": "2022-02-11T06:51:01.450Z"
   },
   {
    "duration": 74,
    "start_time": "2022-02-11T06:51:01.465Z"
   },
   {
    "duration": 260,
    "start_time": "2022-02-11T06:51:01.541Z"
   },
   {
    "duration": 153,
    "start_time": "2022-02-11T06:51:01.803Z"
   },
   {
    "duration": 8,
    "start_time": "2022-02-11T06:51:01.958Z"
   },
   {
    "duration": 23,
    "start_time": "2022-02-11T06:51:01.970Z"
   },
   {
    "duration": 28,
    "start_time": "2022-02-11T06:51:01.995Z"
   },
   {
    "duration": 528,
    "start_time": "2022-02-11T06:51:02.024Z"
   },
   {
    "duration": 956,
    "start_time": "2022-02-11T06:51:02.554Z"
   },
   {
    "duration": 626,
    "start_time": "2022-02-11T06:51:03.512Z"
   },
   {
    "duration": 31748,
    "start_time": "2022-02-11T06:51:04.140Z"
   },
   {
    "duration": 2824,
    "start_time": "2022-02-11T06:51:35.890Z"
   },
   {
    "duration": 151,
    "start_time": "2022-02-11T07:19:14.470Z"
   },
   {
    "duration": 154,
    "start_time": "2022-02-11T07:19:20.275Z"
   },
   {
    "duration": 136,
    "start_time": "2022-02-11T07:19:28.134Z"
   },
   {
    "duration": 16,
    "start_time": "2022-02-11T07:20:31.896Z"
   },
   {
    "duration": 19,
    "start_time": "2022-02-11T07:21:44.096Z"
   },
   {
    "duration": 12,
    "start_time": "2022-02-11T08:05:26.256Z"
   },
   {
    "duration": 13,
    "start_time": "2022-02-11T08:05:29.969Z"
   },
   {
    "duration": 753,
    "start_time": "2022-02-11T08:05:37.141Z"
   },
   {
    "duration": 903,
    "start_time": "2022-02-11T08:05:37.896Z"
   },
   {
    "duration": 57,
    "start_time": "2022-02-11T08:05:38.801Z"
   },
   {
    "duration": 9,
    "start_time": "2022-02-11T08:05:38.860Z"
   },
   {
    "duration": 5,
    "start_time": "2022-02-11T08:05:38.871Z"
   },
   {
    "duration": 327,
    "start_time": "2022-02-11T08:05:38.878Z"
   },
   {
    "duration": 24,
    "start_time": "2022-02-11T08:05:39.207Z"
   },
   {
    "duration": 8,
    "start_time": "2022-02-11T08:05:39.233Z"
   },
   {
    "duration": 39,
    "start_time": "2022-02-11T08:05:39.244Z"
   },
   {
    "duration": 7,
    "start_time": "2022-02-11T08:05:39.285Z"
   },
   {
    "duration": 29,
    "start_time": "2022-02-11T08:05:39.293Z"
   },
   {
    "duration": 118,
    "start_time": "2022-02-11T08:05:39.323Z"
   },
   {
    "duration": 12,
    "start_time": "2022-02-11T08:05:39.443Z"
   },
   {
    "duration": 22,
    "start_time": "2022-02-11T08:05:39.457Z"
   },
   {
    "duration": 42,
    "start_time": "2022-02-11T08:05:39.480Z"
   },
   {
    "duration": 52,
    "start_time": "2022-02-11T08:05:39.524Z"
   },
   {
    "duration": 187,
    "start_time": "2022-02-11T08:05:39.578Z"
   },
   {
    "duration": 2,
    "start_time": "2022-02-11T08:05:39.767Z"
   },
   {
    "duration": 17973,
    "start_time": "2022-02-11T08:05:39.771Z"
   },
   {
    "duration": 83,
    "start_time": "2022-02-11T08:05:57.746Z"
   },
   {
    "duration": 362,
    "start_time": "2022-02-11T08:05:57.831Z"
   },
   {
    "duration": 23,
    "start_time": "2022-02-11T08:05:58.195Z"
   },
   {
    "duration": 52,
    "start_time": "2022-02-11T08:05:58.220Z"
   },
   {
    "duration": 248,
    "start_time": "2022-02-11T08:05:58.274Z"
   },
   {
    "duration": 148,
    "start_time": "2022-02-11T08:05:58.524Z"
   },
   {
    "duration": 9,
    "start_time": "2022-02-11T08:05:58.674Z"
   },
   {
    "duration": 18,
    "start_time": "2022-02-11T08:05:58.687Z"
   },
   {
    "duration": 24,
    "start_time": "2022-02-11T08:05:58.706Z"
   },
   {
    "duration": 756,
    "start_time": "2022-02-11T08:05:58.732Z"
   },
   {
    "duration": 1462,
    "start_time": "2022-02-11T08:05:59.491Z"
   },
   {
    "duration": 914,
    "start_time": "2022-02-11T08:06:00.955Z"
   },
   {
    "duration": 32085,
    "start_time": "2022-02-11T08:06:01.872Z"
   },
   {
    "duration": 3816,
    "start_time": "2022-02-11T08:06:33.958Z"
   },
   {
    "duration": 161,
    "start_time": "2022-02-11T08:06:37.777Z"
   },
   {
    "duration": 21,
    "start_time": "2022-02-11T08:06:37.940Z"
   },
   {
    "duration": 388,
    "start_time": "2022-02-11T08:11:38.680Z"
   },
   {
    "duration": 34,
    "start_time": "2022-02-11T08:11:47.413Z"
   },
   {
    "duration": 7,
    "start_time": "2022-02-11T08:11:51.538Z"
   },
   {
    "duration": 350,
    "start_time": "2022-02-11T08:12:12.112Z"
   },
   {
    "duration": 270,
    "start_time": "2022-02-11T08:14:11.795Z"
   },
   {
    "duration": 317,
    "start_time": "2022-02-11T08:14:19.535Z"
   },
   {
    "duration": 279,
    "start_time": "2022-02-11T08:14:48.853Z"
   },
   {
    "duration": 17,
    "start_time": "2022-02-11T08:14:58.448Z"
   },
   {
    "duration": 644,
    "start_time": "2022-02-11T08:15:07.108Z"
   },
   {
    "duration": 628,
    "start_time": "2022-02-11T08:15:07.754Z"
   },
   {
    "duration": 58,
    "start_time": "2022-02-11T08:15:08.384Z"
   },
   {
    "duration": 8,
    "start_time": "2022-02-11T08:15:08.445Z"
   },
   {
    "duration": 6,
    "start_time": "2022-02-11T08:15:08.455Z"
   },
   {
    "duration": 315,
    "start_time": "2022-02-11T08:15:08.463Z"
   },
   {
    "duration": 15,
    "start_time": "2022-02-11T08:15:08.780Z"
   },
   {
    "duration": 6,
    "start_time": "2022-02-11T08:15:08.797Z"
   },
   {
    "duration": 52,
    "start_time": "2022-02-11T08:15:08.805Z"
   },
   {
    "duration": 7,
    "start_time": "2022-02-11T08:15:08.860Z"
   },
   {
    "duration": 8,
    "start_time": "2022-02-11T08:15:08.869Z"
   },
   {
    "duration": 146,
    "start_time": "2022-02-11T08:15:08.878Z"
   },
   {
    "duration": 12,
    "start_time": "2022-02-11T08:15:09.026Z"
   },
   {
    "duration": 11,
    "start_time": "2022-02-11T08:15:09.039Z"
   },
   {
    "duration": 36,
    "start_time": "2022-02-11T08:15:09.052Z"
   },
   {
    "duration": 49,
    "start_time": "2022-02-11T08:15:09.090Z"
   },
   {
    "duration": 180,
    "start_time": "2022-02-11T08:15:09.141Z"
   },
   {
    "duration": 2,
    "start_time": "2022-02-11T08:15:09.323Z"
   },
   {
    "duration": 20550,
    "start_time": "2022-02-11T08:15:09.327Z"
   },
   {
    "duration": 86,
    "start_time": "2022-02-11T08:15:29.878Z"
   },
   {
    "duration": 413,
    "start_time": "2022-02-11T08:15:29.966Z"
   },
   {
    "duration": 17,
    "start_time": "2022-02-11T08:15:30.381Z"
   },
   {
    "duration": 109,
    "start_time": "2022-02-11T08:15:30.400Z"
   },
   {
    "duration": 260,
    "start_time": "2022-02-11T08:15:30.511Z"
   },
   {
    "duration": 156,
    "start_time": "2022-02-11T08:15:30.773Z"
   },
   {
    "duration": 10,
    "start_time": "2022-02-11T08:15:30.931Z"
   },
   {
    "duration": 41,
    "start_time": "2022-02-11T08:15:30.944Z"
   },
   {
    "duration": 31,
    "start_time": "2022-02-11T08:15:30.987Z"
   },
   {
    "duration": 556,
    "start_time": "2022-02-11T08:15:31.019Z"
   },
   {
    "duration": 1022,
    "start_time": "2022-02-11T08:15:31.577Z"
   },
   {
    "duration": 624,
    "start_time": "2022-02-11T08:15:32.601Z"
   },
   {
    "duration": 33382,
    "start_time": "2022-02-11T08:15:33.227Z"
   },
   {
    "duration": 3010,
    "start_time": "2022-02-11T08:16:06.619Z"
   },
   {
    "duration": 159,
    "start_time": "2022-02-11T08:16:09.631Z"
   },
   {
    "duration": 567,
    "start_time": "2022-02-11T08:16:09.792Z"
   },
   {
    "duration": -1729,
    "start_time": "2022-02-11T08:16:12.091Z"
   },
   {
    "duration": 430,
    "start_time": "2022-02-11T08:16:30.642Z"
   },
   {
    "duration": 308,
    "start_time": "2022-02-11T08:26:31.946Z"
   },
   {
    "duration": 339,
    "start_time": "2022-02-11T08:26:41.053Z"
   },
   {
    "duration": 311,
    "start_time": "2022-02-11T08:28:11.921Z"
   },
   {
    "duration": 310,
    "start_time": "2022-02-11T08:28:32.264Z"
   },
   {
    "duration": 385,
    "start_time": "2022-02-11T08:29:18.545Z"
   },
   {
    "duration": 33,
    "start_time": "2022-02-11T08:29:39.293Z"
   },
   {
    "duration": 634,
    "start_time": "2022-02-11T08:29:57.029Z"
   },
   {
    "duration": 739,
    "start_time": "2022-02-11T08:29:57.666Z"
   },
   {
    "duration": 56,
    "start_time": "2022-02-11T08:29:58.407Z"
   },
   {
    "duration": 26,
    "start_time": "2022-02-11T08:29:58.465Z"
   },
   {
    "duration": 7,
    "start_time": "2022-02-11T08:29:58.493Z"
   },
   {
    "duration": 323,
    "start_time": "2022-02-11T08:29:58.502Z"
   },
   {
    "duration": 18,
    "start_time": "2022-02-11T08:29:58.828Z"
   },
   {
    "duration": 14,
    "start_time": "2022-02-11T08:29:58.847Z"
   },
   {
    "duration": 40,
    "start_time": "2022-02-11T08:29:58.864Z"
   },
   {
    "duration": 15,
    "start_time": "2022-02-11T08:29:58.907Z"
   },
   {
    "duration": 6,
    "start_time": "2022-02-11T08:29:58.924Z"
   },
   {
    "duration": 132,
    "start_time": "2022-02-11T08:29:58.932Z"
   },
   {
    "duration": 12,
    "start_time": "2022-02-11T08:29:59.066Z"
   },
   {
    "duration": 8,
    "start_time": "2022-02-11T08:29:59.080Z"
   },
   {
    "duration": 65,
    "start_time": "2022-02-11T08:29:59.089Z"
   },
   {
    "duration": 27,
    "start_time": "2022-02-11T08:29:59.156Z"
   },
   {
    "duration": 185,
    "start_time": "2022-02-11T08:29:59.185Z"
   },
   {
    "duration": 3,
    "start_time": "2022-02-11T08:29:59.372Z"
   },
   {
    "duration": 19095,
    "start_time": "2022-02-11T08:29:59.376Z"
   },
   {
    "duration": 84,
    "start_time": "2022-02-11T08:30:18.473Z"
   },
   {
    "duration": 362,
    "start_time": "2022-02-11T08:30:18.559Z"
   },
   {
    "duration": 13,
    "start_time": "2022-02-11T08:30:18.923Z"
   },
   {
    "duration": 44,
    "start_time": "2022-02-11T08:30:18.938Z"
   },
   {
    "duration": 259,
    "start_time": "2022-02-11T08:30:18.984Z"
   },
   {
    "duration": 153,
    "start_time": "2022-02-11T08:30:19.244Z"
   },
   {
    "duration": 24,
    "start_time": "2022-02-11T08:30:19.399Z"
   },
   {
    "duration": 29,
    "start_time": "2022-02-11T08:30:19.428Z"
   },
   {
    "duration": 18,
    "start_time": "2022-02-11T08:30:19.459Z"
   },
   {
    "duration": 572,
    "start_time": "2022-02-11T08:30:19.479Z"
   },
   {
    "duration": 1054,
    "start_time": "2022-02-11T08:30:20.054Z"
   },
   {
    "duration": 655,
    "start_time": "2022-02-11T08:30:21.110Z"
   },
   {
    "duration": 34005,
    "start_time": "2022-02-11T08:30:21.766Z"
   },
   {
    "duration": 3501,
    "start_time": "2022-02-11T08:30:55.773Z"
   },
   {
    "duration": 167,
    "start_time": "2022-02-11T08:30:59.275Z"
   },
   {
    "duration": 390,
    "start_time": "2022-02-11T08:30:59.443Z"
   },
   {
    "duration": -1717,
    "start_time": "2022-02-11T08:31:01.552Z"
   },
   {
    "duration": 34,
    "start_time": "2022-02-11T08:31:13.487Z"
   },
   {
    "duration": 14,
    "start_time": "2022-02-11T08:31:20.654Z"
   },
   {
    "duration": 30,
    "start_time": "2022-02-11T08:32:00.704Z"
   },
   {
    "duration": 27,
    "start_time": "2022-02-11T08:32:14.517Z"
   },
   {
    "duration": 28,
    "start_time": "2022-02-11T08:32:44.198Z"
   },
   {
    "duration": 15,
    "start_time": "2022-02-11T08:33:13.771Z"
   },
   {
    "duration": 1753,
    "start_time": "2022-02-11T08:34:41.176Z"
   },
   {
    "duration": 301,
    "start_time": "2022-02-11T08:35:18.882Z"
   },
   {
    "duration": 194,
    "start_time": "2022-02-11T08:35:27.130Z"
   },
   {
    "duration": 28,
    "start_time": "2022-02-11T08:35:31.852Z"
   },
   {
    "duration": 14,
    "start_time": "2022-02-11T08:35:40.533Z"
   },
   {
    "duration": 444,
    "start_time": "2022-02-11T08:37:22.936Z"
   },
   {
    "duration": 432,
    "start_time": "2022-02-11T08:37:31.271Z"
   },
   {
    "duration": 158,
    "start_time": "2022-02-11T08:37:38.241Z"
   },
   {
    "duration": 151,
    "start_time": "2022-02-11T08:38:13.953Z"
   },
   {
    "duration": 33,
    "start_time": "2022-02-11T08:38:15.692Z"
   },
   {
    "duration": 14,
    "start_time": "2022-02-11T08:38:20.494Z"
   },
   {
    "duration": 8,
    "start_time": "2022-02-11T08:39:23.572Z"
   },
   {
    "duration": 15,
    "start_time": "2022-02-11T08:41:11.168Z"
   },
   {
    "duration": 193,
    "start_time": "2022-02-11T08:41:34.085Z"
   },
   {
    "duration": 19,
    "start_time": "2022-02-11T08:41:37.719Z"
   },
   {
    "duration": 576,
    "start_time": "2022-02-11T08:42:32.443Z"
   },
   {
    "duration": 611,
    "start_time": "2022-02-11T08:42:33.021Z"
   },
   {
    "duration": 58,
    "start_time": "2022-02-11T08:42:33.634Z"
   },
   {
    "duration": 8,
    "start_time": "2022-02-11T08:42:33.693Z"
   },
   {
    "duration": 12,
    "start_time": "2022-02-11T08:42:33.703Z"
   },
   {
    "duration": 290,
    "start_time": "2022-02-11T08:42:33.718Z"
   },
   {
    "duration": 19,
    "start_time": "2022-02-11T08:42:34.009Z"
   },
   {
    "duration": 11,
    "start_time": "2022-02-11T08:42:34.029Z"
   },
   {
    "duration": 44,
    "start_time": "2022-02-11T08:42:34.042Z"
   },
   {
    "duration": 6,
    "start_time": "2022-02-11T08:42:34.088Z"
   },
   {
    "duration": 22,
    "start_time": "2022-02-11T08:42:34.096Z"
   },
   {
    "duration": 116,
    "start_time": "2022-02-11T08:42:34.120Z"
   },
   {
    "duration": 12,
    "start_time": "2022-02-11T08:42:34.238Z"
   },
   {
    "duration": 6,
    "start_time": "2022-02-11T08:42:34.251Z"
   },
   {
    "duration": 37,
    "start_time": "2022-02-11T08:42:34.259Z"
   },
   {
    "duration": 46,
    "start_time": "2022-02-11T08:42:34.298Z"
   },
   {
    "duration": 232,
    "start_time": "2022-02-11T08:42:34.346Z"
   },
   {
    "duration": 2,
    "start_time": "2022-02-11T08:42:34.580Z"
   },
   {
    "duration": 18422,
    "start_time": "2022-02-11T08:42:34.584Z"
   },
   {
    "duration": 80,
    "start_time": "2022-02-11T08:42:53.008Z"
   },
   {
    "duration": 366,
    "start_time": "2022-02-11T08:42:53.090Z"
   },
   {
    "duration": 13,
    "start_time": "2022-02-11T08:42:53.457Z"
   },
   {
    "duration": 62,
    "start_time": "2022-02-11T08:42:53.472Z"
   },
   {
    "duration": 246,
    "start_time": "2022-02-11T08:42:53.535Z"
   },
   {
    "duration": 150,
    "start_time": "2022-02-11T08:42:53.782Z"
   },
   {
    "duration": 8,
    "start_time": "2022-02-11T08:42:53.934Z"
   },
   {
    "duration": 19,
    "start_time": "2022-02-11T08:42:53.945Z"
   },
   {
    "duration": 16,
    "start_time": "2022-02-11T08:42:53.966Z"
   },
   {
    "duration": 566,
    "start_time": "2022-02-11T08:42:53.984Z"
   },
   {
    "duration": 1127,
    "start_time": "2022-02-11T08:42:54.551Z"
   },
   {
    "duration": 673,
    "start_time": "2022-02-11T08:42:55.681Z"
   },
   {
    "duration": 32401,
    "start_time": "2022-02-11T08:42:56.357Z"
   },
   {
    "duration": 2829,
    "start_time": "2022-02-11T08:43:28.760Z"
   },
   {
    "duration": 155,
    "start_time": "2022-02-11T08:43:31.591Z"
   },
   {
    "duration": 205,
    "start_time": "2022-02-11T08:43:31.748Z"
   },
   {
    "duration": 16,
    "start_time": "2022-02-11T08:43:31.955Z"
   },
   {
    "duration": 10,
    "start_time": "2022-02-11T08:43:48.843Z"
   },
   {
    "duration": 408,
    "start_time": "2022-02-11T08:44:15.339Z"
   },
   {
    "duration": 286,
    "start_time": "2022-02-11T08:44:20.986Z"
   },
   {
    "duration": 295,
    "start_time": "2022-02-11T08:44:29.595Z"
   },
   {
    "duration": 602,
    "start_time": "2022-02-11T08:44:37.623Z"
   },
   {
    "duration": 622,
    "start_time": "2022-02-11T08:44:38.227Z"
   },
   {
    "duration": 58,
    "start_time": "2022-02-11T08:44:38.851Z"
   },
   {
    "duration": 9,
    "start_time": "2022-02-11T08:44:38.911Z"
   },
   {
    "duration": 6,
    "start_time": "2022-02-11T08:44:38.921Z"
   },
   {
    "duration": 314,
    "start_time": "2022-02-11T08:44:38.929Z"
   },
   {
    "duration": 14,
    "start_time": "2022-02-11T08:44:39.245Z"
   },
   {
    "duration": 7,
    "start_time": "2022-02-11T08:44:39.261Z"
   },
   {
    "duration": 51,
    "start_time": "2022-02-11T08:44:39.271Z"
   },
   {
    "duration": 6,
    "start_time": "2022-02-11T08:44:39.324Z"
   },
   {
    "duration": 6,
    "start_time": "2022-02-11T08:44:39.332Z"
   },
   {
    "duration": 125,
    "start_time": "2022-02-11T08:44:39.340Z"
   },
   {
    "duration": 11,
    "start_time": "2022-02-11T08:44:39.467Z"
   },
   {
    "duration": 5,
    "start_time": "2022-02-11T08:44:39.480Z"
   },
   {
    "duration": 53,
    "start_time": "2022-02-11T08:44:39.486Z"
   },
   {
    "duration": 32,
    "start_time": "2022-02-11T08:44:39.541Z"
   },
   {
    "duration": 188,
    "start_time": "2022-02-11T08:44:39.575Z"
   },
   {
    "duration": 2,
    "start_time": "2022-02-11T08:44:39.765Z"
   },
   {
    "duration": 18618,
    "start_time": "2022-02-11T08:44:39.769Z"
   },
   {
    "duration": 85,
    "start_time": "2022-02-11T08:44:58.389Z"
   },
   {
    "duration": 403,
    "start_time": "2022-02-11T08:44:58.476Z"
   },
   {
    "duration": 13,
    "start_time": "2022-02-11T08:44:58.881Z"
   },
   {
    "duration": 57,
    "start_time": "2022-02-11T08:44:58.896Z"
   },
   {
    "duration": 245,
    "start_time": "2022-02-11T08:44:58.955Z"
   },
   {
    "duration": 148,
    "start_time": "2022-02-11T08:44:59.203Z"
   },
   {
    "duration": 9,
    "start_time": "2022-02-11T08:44:59.352Z"
   },
   {
    "duration": 19,
    "start_time": "2022-02-11T08:44:59.364Z"
   },
   {
    "duration": 34,
    "start_time": "2022-02-11T08:44:59.384Z"
   },
   {
    "duration": 534,
    "start_time": "2022-02-11T08:44:59.420Z"
   },
   {
    "duration": 967,
    "start_time": "2022-02-11T08:44:59.955Z"
   },
   {
    "duration": 823,
    "start_time": "2022-02-11T08:45:00.924Z"
   },
   {
    "duration": 34141,
    "start_time": "2022-02-11T08:45:01.749Z"
   },
   {
    "duration": 2913,
    "start_time": "2022-02-11T08:45:35.892Z"
   },
   {
    "duration": 146,
    "start_time": "2022-02-11T08:45:38.807Z"
   },
   {
    "duration": 208,
    "start_time": "2022-02-11T08:45:38.955Z"
   },
   {
    "duration": 11,
    "start_time": "2022-02-11T08:45:39.165Z"
   },
   {
    "duration": 5035,
    "start_time": "2022-02-11T08:46:41.266Z"
   },
   {
    "duration": -1696,
    "start_time": "2022-02-11T08:46:56.503Z"
   },
   {
    "duration": 16,
    "start_time": "2022-02-11T08:46:56.868Z"
   },
   {
    "duration": 657,
    "start_time": "2022-02-11T08:47:08.339Z"
   },
   {
    "duration": 607,
    "start_time": "2022-02-11T08:47:08.998Z"
   },
   {
    "duration": 53,
    "start_time": "2022-02-11T08:47:09.607Z"
   },
   {
    "duration": 27,
    "start_time": "2022-02-11T08:47:09.662Z"
   },
   {
    "duration": 20,
    "start_time": "2022-02-11T08:47:09.691Z"
   },
   {
    "duration": 310,
    "start_time": "2022-02-11T08:47:09.712Z"
   },
   {
    "duration": 15,
    "start_time": "2022-02-11T08:47:10.025Z"
   },
   {
    "duration": 17,
    "start_time": "2022-02-11T08:47:10.041Z"
   },
   {
    "duration": 66,
    "start_time": "2022-02-11T08:47:10.061Z"
   },
   {
    "duration": 15,
    "start_time": "2022-02-11T08:47:10.130Z"
   },
   {
    "duration": 16,
    "start_time": "2022-02-11T08:47:10.147Z"
   },
   {
    "duration": 130,
    "start_time": "2022-02-11T08:47:10.165Z"
   },
   {
    "duration": 11,
    "start_time": "2022-02-11T08:47:10.297Z"
   },
   {
    "duration": 7,
    "start_time": "2022-02-11T08:47:10.318Z"
   },
   {
    "duration": 49,
    "start_time": "2022-02-11T08:47:10.326Z"
   },
   {
    "duration": 42,
    "start_time": "2022-02-11T08:47:10.376Z"
   },
   {
    "duration": 182,
    "start_time": "2022-02-11T08:47:10.420Z"
   },
   {
    "duration": 4,
    "start_time": "2022-02-11T08:47:10.604Z"
   },
   {
    "duration": 17930,
    "start_time": "2022-02-11T08:47:10.610Z"
   },
   {
    "duration": 84,
    "start_time": "2022-02-11T08:47:28.542Z"
   },
   {
    "duration": 359,
    "start_time": "2022-02-11T08:47:28.627Z"
   },
   {
    "duration": 13,
    "start_time": "2022-02-11T08:47:28.988Z"
   },
   {
    "duration": 54,
    "start_time": "2022-02-11T08:47:29.002Z"
   },
   {
    "duration": 233,
    "start_time": "2022-02-11T08:47:29.058Z"
   },
   {
    "duration": 139,
    "start_time": "2022-02-11T08:47:29.293Z"
   },
   {
    "duration": 9,
    "start_time": "2022-02-11T08:47:29.433Z"
   },
   {
    "duration": 50,
    "start_time": "2022-02-11T08:47:29.445Z"
   },
   {
    "duration": 17,
    "start_time": "2022-02-11T08:47:29.497Z"
   },
   {
    "duration": 546,
    "start_time": "2022-02-11T08:47:29.515Z"
   },
   {
    "duration": 976,
    "start_time": "2022-02-11T08:47:30.063Z"
   },
   {
    "duration": 620,
    "start_time": "2022-02-11T08:47:31.041Z"
   },
   {
    "duration": 31936,
    "start_time": "2022-02-11T08:47:31.663Z"
   },
   {
    "duration": 2857,
    "start_time": "2022-02-11T08:48:03.602Z"
   },
   {
    "duration": 158,
    "start_time": "2022-02-11T08:48:06.461Z"
   },
   {
    "duration": 58,
    "start_time": "2022-02-11T08:48:06.621Z"
   },
   {
    "duration": 14,
    "start_time": "2022-02-11T08:48:06.681Z"
   },
   {
    "duration": 34,
    "start_time": "2022-02-11T08:50:51.329Z"
   },
   {
    "duration": 39,
    "start_time": "2022-02-11T08:53:20.377Z"
   },
   {
    "duration": 15,
    "start_time": "2022-02-11T08:54:10.882Z"
   },
   {
    "duration": 43,
    "start_time": "2022-02-11T08:54:39.720Z"
   },
   {
    "duration": 40,
    "start_time": "2022-02-11T08:55:01.455Z"
   },
   {
    "duration": 2921,
    "start_time": "2022-02-11T08:56:59.237Z"
   },
   {
    "duration": 7879,
    "start_time": "2022-02-11T08:57:03.890Z"
   },
   {
    "duration": -1702,
    "start_time": "2022-02-11T08:57:13.473Z"
   },
   {
    "duration": -1704,
    "start_time": "2022-02-11T08:57:13.476Z"
   },
   {
    "duration": 631,
    "start_time": "2022-02-11T08:57:18.490Z"
   },
   {
    "duration": 712,
    "start_time": "2022-02-11T08:57:19.123Z"
   },
   {
    "duration": 61,
    "start_time": "2022-02-11T08:57:19.838Z"
   },
   {
    "duration": 17,
    "start_time": "2022-02-11T08:57:19.902Z"
   },
   {
    "duration": 27,
    "start_time": "2022-02-11T08:57:19.921Z"
   },
   {
    "duration": 321,
    "start_time": "2022-02-11T08:57:19.950Z"
   },
   {
    "duration": 16,
    "start_time": "2022-02-11T08:57:20.273Z"
   },
   {
    "duration": 16,
    "start_time": "2022-02-11T08:57:20.292Z"
   },
   {
    "duration": 63,
    "start_time": "2022-02-11T08:57:20.310Z"
   },
   {
    "duration": 15,
    "start_time": "2022-02-11T08:57:20.376Z"
   },
   {
    "duration": 14,
    "start_time": "2022-02-11T08:57:20.393Z"
   },
   {
    "duration": 118,
    "start_time": "2022-02-11T08:57:20.409Z"
   },
   {
    "duration": 11,
    "start_time": "2022-02-11T08:57:20.529Z"
   },
   {
    "duration": 6,
    "start_time": "2022-02-11T08:57:20.542Z"
   },
   {
    "duration": 50,
    "start_time": "2022-02-11T08:57:20.550Z"
   },
   {
    "duration": 39,
    "start_time": "2022-02-11T08:57:20.602Z"
   },
   {
    "duration": 182,
    "start_time": "2022-02-11T08:57:20.643Z"
   },
   {
    "duration": 3,
    "start_time": "2022-02-11T08:57:20.826Z"
   },
   {
    "duration": 18633,
    "start_time": "2022-02-11T08:57:20.830Z"
   },
   {
    "duration": 84,
    "start_time": "2022-02-11T08:57:39.466Z"
   },
   {
    "duration": 389,
    "start_time": "2022-02-11T08:57:39.552Z"
   },
   {
    "duration": 13,
    "start_time": "2022-02-11T08:57:39.943Z"
   },
   {
    "duration": 63,
    "start_time": "2022-02-11T08:57:39.960Z"
   },
   {
    "duration": 286,
    "start_time": "2022-02-11T08:57:40.025Z"
   },
   {
    "duration": 182,
    "start_time": "2022-02-11T08:57:40.313Z"
   },
   {
    "duration": 22,
    "start_time": "2022-02-11T08:57:40.498Z"
   },
   {
    "duration": 43,
    "start_time": "2022-02-11T08:57:40.522Z"
   },
   {
    "duration": 19,
    "start_time": "2022-02-11T08:57:40.567Z"
   },
   {
    "duration": 611,
    "start_time": "2022-02-11T08:57:40.588Z"
   },
   {
    "duration": 994,
    "start_time": "2022-02-11T08:57:41.201Z"
   },
   {
    "duration": 654,
    "start_time": "2022-02-11T08:57:42.197Z"
   },
   {
    "duration": 31627,
    "start_time": "2022-02-11T08:57:42.853Z"
   },
   {
    "duration": 2971,
    "start_time": "2022-02-11T08:58:14.482Z"
   },
   {
    "duration": 152,
    "start_time": "2022-02-11T08:58:17.454Z"
   },
   {
    "duration": 49,
    "start_time": "2022-02-11T08:58:17.607Z"
   },
   {
    "duration": 39,
    "start_time": "2022-02-11T08:58:17.658Z"
   },
   {
    "duration": 40,
    "start_time": "2022-02-11T08:58:54.430Z"
   },
   {
    "duration": 11,
    "start_time": "2022-02-11T09:01:15.588Z"
   },
   {
    "duration": 40,
    "start_time": "2022-02-11T09:01:31.098Z"
   },
   {
    "duration": 371,
    "start_time": "2022-02-11T09:03:23.507Z"
   },
   {
    "duration": 15,
    "start_time": "2022-02-11T09:03:31.504Z"
   },
   {
    "duration": 598,
    "start_time": "2022-02-11T09:04:21.463Z"
   },
   {
    "duration": 600,
    "start_time": "2022-02-11T09:04:22.064Z"
   },
   {
    "duration": 55,
    "start_time": "2022-02-11T09:04:22.667Z"
   },
   {
    "duration": 10,
    "start_time": "2022-02-11T09:04:22.725Z"
   },
   {
    "duration": 7,
    "start_time": "2022-02-11T09:04:22.737Z"
   },
   {
    "duration": 303,
    "start_time": "2022-02-11T09:04:22.745Z"
   },
   {
    "duration": 15,
    "start_time": "2022-02-11T09:04:23.050Z"
   },
   {
    "duration": 7,
    "start_time": "2022-02-11T09:04:23.067Z"
   },
   {
    "duration": 53,
    "start_time": "2022-02-11T09:04:23.077Z"
   },
   {
    "duration": 6,
    "start_time": "2022-02-11T09:04:23.132Z"
   },
   {
    "duration": 10,
    "start_time": "2022-02-11T09:04:23.140Z"
   },
   {
    "duration": 119,
    "start_time": "2022-02-11T09:04:23.152Z"
   },
   {
    "duration": 11,
    "start_time": "2022-02-11T09:04:23.273Z"
   },
   {
    "duration": 6,
    "start_time": "2022-02-11T09:04:23.286Z"
   },
   {
    "duration": 53,
    "start_time": "2022-02-11T09:04:23.294Z"
   },
   {
    "duration": 40,
    "start_time": "2022-02-11T09:04:23.349Z"
   },
   {
    "duration": 188,
    "start_time": "2022-02-11T09:04:23.390Z"
   },
   {
    "duration": 2,
    "start_time": "2022-02-11T09:04:23.580Z"
   },
   {
    "duration": 17816,
    "start_time": "2022-02-11T09:04:23.585Z"
   },
   {
    "duration": 83,
    "start_time": "2022-02-11T09:04:41.403Z"
   },
   {
    "duration": 379,
    "start_time": "2022-02-11T09:04:41.488Z"
   },
   {
    "duration": 13,
    "start_time": "2022-02-11T09:04:41.868Z"
   },
   {
    "duration": 50,
    "start_time": "2022-02-11T09:04:41.882Z"
   },
   {
    "duration": 312,
    "start_time": "2022-02-11T09:04:41.934Z"
   },
   {
    "duration": 178,
    "start_time": "2022-02-11T09:04:42.248Z"
   },
   {
    "duration": 9,
    "start_time": "2022-02-11T09:04:42.428Z"
   },
   {
    "duration": 44,
    "start_time": "2022-02-11T09:04:42.440Z"
   },
   {
    "duration": 15,
    "start_time": "2022-02-11T09:04:42.486Z"
   },
   {
    "duration": 545,
    "start_time": "2022-02-11T09:04:42.504Z"
   },
   {
    "duration": 972,
    "start_time": "2022-02-11T09:04:43.051Z"
   },
   {
    "duration": 602,
    "start_time": "2022-02-11T09:04:44.025Z"
   },
   {
    "duration": 31180,
    "start_time": "2022-02-11T09:04:44.629Z"
   },
   {
    "duration": 2820,
    "start_time": "2022-02-11T09:05:15.818Z"
   },
   {
    "duration": 146,
    "start_time": "2022-02-11T09:05:18.640Z"
   },
   {
    "duration": 42,
    "start_time": "2022-02-11T09:05:18.787Z"
   },
   {
    "duration": 30,
    "start_time": "2022-02-11T09:05:18.831Z"
   },
   {
    "duration": 11,
    "start_time": "2022-02-11T09:05:18.862Z"
   },
   {
    "duration": 28,
    "start_time": "2022-02-11T09:05:58.795Z"
   },
   {
    "duration": 33,
    "start_time": "2022-02-11T09:06:13.743Z"
   },
   {
    "duration": 364,
    "start_time": "2022-02-11T09:09:36.661Z"
   },
   {
    "duration": 271,
    "start_time": "2022-02-11T09:09:50.323Z"
   },
   {
    "duration": 5226,
    "start_time": "2022-02-11T09:10:51.534Z"
   },
   {
    "duration": 6326,
    "start_time": "2022-02-11T09:11:08.451Z"
   },
   {
    "duration": 14,
    "start_time": "2022-02-11T09:11:43.212Z"
   },
   {
    "duration": 265,
    "start_time": "2022-02-11T09:13:20.432Z"
   },
   {
    "duration": 13,
    "start_time": "2022-02-11T09:13:38.215Z"
   },
   {
    "duration": 15,
    "start_time": "2022-02-11T09:14:11.638Z"
   },
   {
    "duration": 14,
    "start_time": "2022-02-11T09:14:59.479Z"
   },
   {
    "duration": 14,
    "start_time": "2022-02-11T09:15:05.926Z"
   },
   {
    "duration": 14,
    "start_time": "2022-02-11T09:15:22.174Z"
   },
   {
    "duration": 15,
    "start_time": "2022-02-11T09:15:33.578Z"
   },
   {
    "duration": 15,
    "start_time": "2022-02-11T09:15:54.679Z"
   },
   {
    "duration": 24,
    "start_time": "2022-02-11T09:21:47.966Z"
   },
   {
    "duration": 277,
    "start_time": "2022-02-11T09:22:02.993Z"
   },
   {
    "duration": 18,
    "start_time": "2022-02-11T09:22:13.944Z"
   },
   {
    "duration": 314,
    "start_time": "2022-02-11T09:23:44.114Z"
   },
   {
    "duration": 536,
    "start_time": "2022-02-11T09:24:05.535Z"
   },
   {
    "duration": 19,
    "start_time": "2022-02-11T09:24:22.114Z"
   },
   {
    "duration": 297,
    "start_time": "2022-02-11T09:24:53.696Z"
   },
   {
    "duration": 20,
    "start_time": "2022-02-11T09:25:25.088Z"
   },
   {
    "duration": 24,
    "start_time": "2022-02-11T09:25:42.845Z"
   },
   {
    "duration": 15,
    "start_time": "2022-02-11T09:25:47.123Z"
   },
   {
    "duration": 5,
    "start_time": "2022-02-11T09:28:38.504Z"
   },
   {
    "duration": 18,
    "start_time": "2022-02-11T09:28:43.248Z"
   },
   {
    "duration": 312,
    "start_time": "2022-02-11T09:30:58.265Z"
   },
   {
    "duration": 271,
    "start_time": "2022-02-11T09:31:21.801Z"
   },
   {
    "duration": 17,
    "start_time": "2022-02-11T09:31:37.587Z"
   },
   {
    "duration": 440,
    "start_time": "2022-02-11T09:31:58.504Z"
   },
   {
    "duration": 165,
    "start_time": "2022-02-11T09:32:14.870Z"
   },
   {
    "duration": 145,
    "start_time": "2022-02-11T09:32:26.681Z"
   },
   {
    "duration": 150,
    "start_time": "2022-02-11T09:32:32.247Z"
   },
   {
    "duration": 37,
    "start_time": "2022-02-11T09:34:19.236Z"
   },
   {
    "duration": 47,
    "start_time": "2022-02-11T09:34:35.788Z"
   },
   {
    "duration": 156,
    "start_time": "2022-02-11T09:34:59.345Z"
   },
   {
    "duration": 36,
    "start_time": "2022-02-11T09:35:01.885Z"
   },
   {
    "duration": 34,
    "start_time": "2022-02-11T09:36:52.363Z"
   },
   {
    "duration": 33,
    "start_time": "2022-02-11T09:36:57.270Z"
   },
   {
    "duration": 95,
    "start_time": "2022-02-11T09:38:52.995Z"
   },
   {
    "duration": 33,
    "start_time": "2022-02-11T09:38:53.919Z"
   },
   {
    "duration": 147,
    "start_time": "2022-02-11T09:38:58.855Z"
   },
   {
    "duration": 37,
    "start_time": "2022-02-11T09:39:01.034Z"
   },
   {
    "duration": 10,
    "start_time": "2022-02-11T10:00:23.896Z"
   },
   {
    "duration": 642,
    "start_time": "2022-02-11T10:51:44.293Z"
   },
   {
    "duration": 638,
    "start_time": "2022-02-11T10:51:44.938Z"
   },
   {
    "duration": 57,
    "start_time": "2022-02-11T10:51:45.578Z"
   },
   {
    "duration": 13,
    "start_time": "2022-02-11T10:51:45.638Z"
   },
   {
    "duration": 9,
    "start_time": "2022-02-11T10:51:45.653Z"
   },
   {
    "duration": 313,
    "start_time": "2022-02-11T10:51:45.664Z"
   },
   {
    "duration": 15,
    "start_time": "2022-02-11T10:51:45.979Z"
   },
   {
    "duration": 9,
    "start_time": "2022-02-11T10:51:45.996Z"
   },
   {
    "duration": 50,
    "start_time": "2022-02-11T10:51:46.007Z"
   },
   {
    "duration": 6,
    "start_time": "2022-02-11T10:51:46.058Z"
   },
   {
    "duration": 9,
    "start_time": "2022-02-11T10:51:46.066Z"
   },
   {
    "duration": 130,
    "start_time": "2022-02-11T10:51:46.077Z"
   },
   {
    "duration": 16,
    "start_time": "2022-02-11T10:51:46.209Z"
   },
   {
    "duration": 12,
    "start_time": "2022-02-11T10:51:46.227Z"
   },
   {
    "duration": 39,
    "start_time": "2022-02-11T10:51:46.240Z"
   },
   {
    "duration": 43,
    "start_time": "2022-02-11T10:51:46.281Z"
   },
   {
    "duration": 185,
    "start_time": "2022-02-11T10:51:46.326Z"
   },
   {
    "duration": 6,
    "start_time": "2022-02-11T10:51:46.513Z"
   },
   {
    "duration": 18578,
    "start_time": "2022-02-11T10:51:46.520Z"
   },
   {
    "duration": 85,
    "start_time": "2022-02-11T10:52:05.100Z"
   },
   {
    "duration": 384,
    "start_time": "2022-02-11T10:52:05.187Z"
   },
   {
    "duration": 13,
    "start_time": "2022-02-11T10:52:05.572Z"
   },
   {
    "duration": 58,
    "start_time": "2022-02-11T10:52:05.588Z"
   },
   {
    "duration": 239,
    "start_time": "2022-02-11T10:52:05.648Z"
   },
   {
    "duration": 153,
    "start_time": "2022-02-11T10:52:05.889Z"
   },
   {
    "duration": 10,
    "start_time": "2022-02-11T10:52:06.044Z"
   },
   {
    "duration": 23,
    "start_time": "2022-02-11T10:52:06.056Z"
   },
   {
    "duration": 16,
    "start_time": "2022-02-11T10:52:06.081Z"
   },
   {
    "duration": 551,
    "start_time": "2022-02-11T10:52:06.099Z"
   },
   {
    "duration": 986,
    "start_time": "2022-02-11T10:52:06.652Z"
   },
   {
    "duration": 618,
    "start_time": "2022-02-11T10:52:07.640Z"
   },
   {
    "duration": 32193,
    "start_time": "2022-02-11T10:52:08.260Z"
   },
   {
    "duration": 2975,
    "start_time": "2022-02-11T10:52:40.455Z"
   },
   {
    "duration": 163,
    "start_time": "2022-02-11T10:52:43.432Z"
   },
   {
    "duration": 46,
    "start_time": "2022-02-11T10:52:43.597Z"
   },
   {
    "duration": 35,
    "start_time": "2022-02-11T10:52:43.645Z"
   },
   {
    "duration": 38,
    "start_time": "2022-02-11T10:52:43.682Z"
   },
   {
    "duration": 5,
    "start_time": "2022-02-11T10:52:43.721Z"
   },
   {
    "duration": 166,
    "start_time": "2022-02-11T10:52:43.728Z"
   },
   {
    "duration": 44,
    "start_time": "2022-02-11T10:52:43.896Z"
   },
   {
    "duration": 7540,
    "start_time": "2022-02-11T10:52:43.941Z"
   },
   {
    "duration": 12,
    "start_time": "2022-02-11T10:53:08.541Z"
   },
   {
    "duration": 6,
    "start_time": "2022-02-11T10:54:16.060Z"
   },
   {
    "duration": 6,
    "start_time": "2022-02-11T10:54:36.421Z"
   },
   {
    "duration": 11,
    "start_time": "2022-02-11T10:55:06.205Z"
   },
   {
    "duration": 278,
    "start_time": "2022-02-11T10:55:30.709Z"
   },
   {
    "duration": 8,
    "start_time": "2022-02-11T10:55:45.250Z"
   },
   {
    "duration": 10,
    "start_time": "2022-02-11T11:03:31.147Z"
   },
   {
    "duration": 704,
    "start_time": "2022-02-11T11:38:30.203Z"
   },
   {
    "duration": 634,
    "start_time": "2022-02-11T11:38:30.910Z"
   },
   {
    "duration": 55,
    "start_time": "2022-02-11T11:38:31.546Z"
   },
   {
    "duration": 26,
    "start_time": "2022-02-11T11:38:31.603Z"
   },
   {
    "duration": 19,
    "start_time": "2022-02-11T11:38:31.631Z"
   },
   {
    "duration": 302,
    "start_time": "2022-02-11T11:38:31.652Z"
   },
   {
    "duration": 15,
    "start_time": "2022-02-11T11:38:31.955Z"
   },
   {
    "duration": 15,
    "start_time": "2022-02-11T11:38:31.972Z"
   },
   {
    "duration": 61,
    "start_time": "2022-02-11T11:38:31.989Z"
   },
   {
    "duration": 6,
    "start_time": "2022-02-11T11:38:32.052Z"
   },
   {
    "duration": 13,
    "start_time": "2022-02-11T11:38:32.059Z"
   },
   {
    "duration": 127,
    "start_time": "2022-02-11T11:38:32.074Z"
   },
   {
    "duration": 20,
    "start_time": "2022-02-11T11:38:32.203Z"
   },
   {
    "duration": 6,
    "start_time": "2022-02-11T11:38:32.225Z"
   },
   {
    "duration": 37,
    "start_time": "2022-02-11T11:38:32.232Z"
   },
   {
    "duration": 47,
    "start_time": "2022-02-11T11:38:32.271Z"
   },
   {
    "duration": 179,
    "start_time": "2022-02-11T11:38:32.320Z"
   },
   {
    "duration": 2,
    "start_time": "2022-02-11T11:38:32.501Z"
   },
   {
    "duration": 18207,
    "start_time": "2022-02-11T11:38:32.505Z"
   },
   {
    "duration": 78,
    "start_time": "2022-02-11T11:38:50.713Z"
   },
   {
    "duration": 398,
    "start_time": "2022-02-11T11:38:50.793Z"
   },
   {
    "duration": 13,
    "start_time": "2022-02-11T11:38:51.192Z"
   },
   {
    "duration": 52,
    "start_time": "2022-02-11T11:38:51.209Z"
   },
   {
    "duration": 262,
    "start_time": "2022-02-11T11:38:51.263Z"
   },
   {
    "duration": 144,
    "start_time": "2022-02-11T11:38:51.527Z"
   },
   {
    "duration": 8,
    "start_time": "2022-02-11T11:38:51.673Z"
   },
   {
    "duration": 19,
    "start_time": "2022-02-11T11:38:51.683Z"
   },
   {
    "duration": 28,
    "start_time": "2022-02-11T11:38:51.704Z"
   },
   {
    "duration": 522,
    "start_time": "2022-02-11T11:38:51.733Z"
   },
   {
    "duration": 968,
    "start_time": "2022-02-11T11:38:52.257Z"
   },
   {
    "duration": 581,
    "start_time": "2022-02-11T11:38:53.227Z"
   },
   {
    "duration": 31854,
    "start_time": "2022-02-11T11:38:53.810Z"
   },
   {
    "duration": 3112,
    "start_time": "2022-02-11T11:39:25.666Z"
   },
   {
    "duration": 162,
    "start_time": "2022-02-11T11:39:28.780Z"
   },
   {
    "duration": 35,
    "start_time": "2022-02-11T11:39:28.944Z"
   },
   {
    "duration": 53,
    "start_time": "2022-02-11T11:39:28.981Z"
   },
   {
    "duration": 24,
    "start_time": "2022-02-11T11:39:29.036Z"
   },
   {
    "duration": 4,
    "start_time": "2022-02-11T11:39:29.062Z"
   },
   {
    "duration": 170,
    "start_time": "2022-02-11T11:39:29.067Z"
   },
   {
    "duration": 35,
    "start_time": "2022-02-11T11:39:29.239Z"
   },
   {
    "duration": 5,
    "start_time": "2022-02-11T11:39:29.276Z"
   },
   {
    "duration": 8599,
    "start_time": "2022-02-11T11:39:29.283Z"
   },
   {
    "duration": -3772,
    "start_time": "2022-02-11T11:39:41.656Z"
   },
   {
    "duration": 9,
    "start_time": "2022-02-11T11:39:48.488Z"
   },
   {
    "duration": 11,
    "start_time": "2022-02-11T11:40:05.599Z"
   },
   {
    "duration": 5,
    "start_time": "2022-02-11T11:41:35.849Z"
   },
   {
    "duration": 11,
    "start_time": "2022-02-11T11:41:40.184Z"
   },
   {
    "duration": 5,
    "start_time": "2022-02-11T11:42:05.976Z"
   },
   {
    "duration": 10,
    "start_time": "2022-02-11T11:42:10.152Z"
   },
   {
    "duration": 1105,
    "start_time": "2022-02-11T11:43:19.705Z"
   },
   {
    "duration": 10,
    "start_time": "2022-02-11T11:43:30.570Z"
   },
   {
    "duration": 9,
    "start_time": "2022-02-11T11:46:53.033Z"
   },
   {
    "duration": 312,
    "start_time": "2022-02-11T11:46:58.472Z"
   },
   {
    "duration": 15,
    "start_time": "2022-02-11T11:47:14.839Z"
   },
   {
    "duration": 628,
    "start_time": "2022-02-11T11:47:25.701Z"
   },
   {
    "duration": 674,
    "start_time": "2022-02-11T11:47:26.331Z"
   },
   {
    "duration": 58,
    "start_time": "2022-02-11T11:47:27.008Z"
   },
   {
    "duration": 10,
    "start_time": "2022-02-11T11:47:27.068Z"
   },
   {
    "duration": 7,
    "start_time": "2022-02-11T11:47:27.081Z"
   },
   {
    "duration": 366,
    "start_time": "2022-02-11T11:47:27.090Z"
   },
   {
    "duration": 17,
    "start_time": "2022-02-11T11:47:27.458Z"
   },
   {
    "duration": 8,
    "start_time": "2022-02-11T11:47:27.478Z"
   },
   {
    "duration": 65,
    "start_time": "2022-02-11T11:47:27.488Z"
   },
   {
    "duration": 5,
    "start_time": "2022-02-11T11:47:27.555Z"
   },
   {
    "duration": 8,
    "start_time": "2022-02-11T11:47:27.562Z"
   },
   {
    "duration": 131,
    "start_time": "2022-02-11T11:47:27.572Z"
   },
   {
    "duration": 19,
    "start_time": "2022-02-11T11:47:27.704Z"
   },
   {
    "duration": 6,
    "start_time": "2022-02-11T11:47:27.725Z"
   },
   {
    "duration": 38,
    "start_time": "2022-02-11T11:47:27.732Z"
   },
   {
    "duration": 46,
    "start_time": "2022-02-11T11:47:27.772Z"
   },
   {
    "duration": 205,
    "start_time": "2022-02-11T11:47:27.820Z"
   },
   {
    "duration": 2,
    "start_time": "2022-02-11T11:47:28.027Z"
   },
   {
    "duration": 18306,
    "start_time": "2022-02-11T11:47:28.031Z"
   },
   {
    "duration": 68,
    "start_time": "2022-02-11T11:47:46.338Z"
   },
   {
    "duration": 363,
    "start_time": "2022-02-11T11:47:46.407Z"
   },
   {
    "duration": 11,
    "start_time": "2022-02-11T11:47:46.772Z"
   },
   {
    "duration": 63,
    "start_time": "2022-02-11T11:47:46.786Z"
   },
   {
    "duration": 234,
    "start_time": "2022-02-11T11:47:46.851Z"
   },
   {
    "duration": 145,
    "start_time": "2022-02-11T11:47:47.086Z"
   },
   {
    "duration": 9,
    "start_time": "2022-02-11T11:47:47.233Z"
   },
   {
    "duration": 22,
    "start_time": "2022-02-11T11:47:47.244Z"
   },
   {
    "duration": 16,
    "start_time": "2022-02-11T11:47:47.268Z"
   },
   {
    "duration": 553,
    "start_time": "2022-02-11T11:47:47.286Z"
   },
   {
    "duration": 958,
    "start_time": "2022-02-11T11:47:47.841Z"
   },
   {
    "duration": 648,
    "start_time": "2022-02-11T11:47:48.800Z"
   },
   {
    "duration": 34205,
    "start_time": "2022-02-11T11:47:49.451Z"
   },
   {
    "duration": 2964,
    "start_time": "2022-02-11T11:48:23.658Z"
   },
   {
    "duration": 154,
    "start_time": "2022-02-11T11:48:26.624Z"
   },
   {
    "duration": 43,
    "start_time": "2022-02-11T11:48:26.780Z"
   },
   {
    "duration": 34,
    "start_time": "2022-02-11T11:48:26.825Z"
   },
   {
    "duration": 24,
    "start_time": "2022-02-11T11:48:26.862Z"
   },
   {
    "duration": 4,
    "start_time": "2022-02-11T11:48:26.888Z"
   },
   {
    "duration": 158,
    "start_time": "2022-02-11T11:48:26.918Z"
   },
   {
    "duration": 65,
    "start_time": "2022-02-11T11:48:27.078Z"
   },
   {
    "duration": 7,
    "start_time": "2022-02-11T11:48:27.145Z"
   },
   {
    "duration": 12,
    "start_time": "2022-02-11T11:48:27.154Z"
   },
   {
    "duration": 147,
    "start_time": "2022-02-11T11:48:27.168Z"
   },
   {
    "duration": -3494,
    "start_time": "2022-02-11T11:48:30.811Z"
   },
   {
    "duration": 8,
    "start_time": "2022-02-11T11:48:43.072Z"
   },
   {
    "duration": 15,
    "start_time": "2022-02-11T11:48:44.374Z"
   },
   {
    "duration": 17,
    "start_time": "2022-02-11T11:49:33.446Z"
   },
   {
    "duration": 423,
    "start_time": "2022-02-11T11:50:13.053Z"
   },
   {
    "duration": 20,
    "start_time": "2022-02-11T11:50:23.844Z"
   },
   {
    "duration": 280,
    "start_time": "2022-02-11T11:53:52.423Z"
   },
   {
    "duration": 66,
    "start_time": "2022-02-11T11:54:01.023Z"
   },
   {
    "duration": 304,
    "start_time": "2022-02-11T12:31:33.220Z"
   },
   {
    "duration": 10,
    "start_time": "2022-02-11T12:32:59.057Z"
   },
   {
    "duration": 8,
    "start_time": "2022-02-11T12:33:03.650Z"
   },
   {
    "duration": 354,
    "start_time": "2022-02-11T12:33:58.736Z"
   },
   {
    "duration": 10,
    "start_time": "2022-02-11T12:34:08.105Z"
   },
   {
    "duration": 6,
    "start_time": "2022-02-11T12:34:09.732Z"
   },
   {
    "duration": 254,
    "start_time": "2022-02-11T13:26:44.503Z"
   },
   {
    "duration": 229,
    "start_time": "2022-02-11T13:26:53.248Z"
   },
   {
    "duration": 30,
    "start_time": "2022-02-11T13:31:08.266Z"
   },
   {
    "duration": 8,
    "start_time": "2022-02-11T13:31:12.033Z"
   },
   {
    "duration": 6,
    "start_time": "2022-02-11T13:31:13.183Z"
   },
   {
    "duration": 377,
    "start_time": "2022-02-11T13:31:16.747Z"
   },
   {
    "duration": 230,
    "start_time": "2022-02-11T13:31:26.685Z"
   },
   {
    "duration": 224,
    "start_time": "2022-02-11T14:22:35.112Z"
   },
   {
    "duration": 221,
    "start_time": "2022-02-11T14:22:42.247Z"
   },
   {
    "duration": 213,
    "start_time": "2022-02-11T14:25:25.576Z"
   },
   {
    "duration": 214,
    "start_time": "2022-02-11T14:25:30.722Z"
   },
   {
    "duration": 901,
    "start_time": "2022-02-12T20:22:53.531Z"
   },
   {
    "duration": 1230,
    "start_time": "2022-02-12T20:22:54.436Z"
   },
   {
    "duration": 116,
    "start_time": "2022-02-12T20:22:55.670Z"
   },
   {
    "duration": 16,
    "start_time": "2022-02-12T20:22:55.790Z"
   },
   {
    "duration": 32,
    "start_time": "2022-02-12T20:22:55.809Z"
   },
   {
    "duration": 445,
    "start_time": "2022-02-12T20:22:55.844Z"
   },
   {
    "duration": 19,
    "start_time": "2022-02-12T20:22:56.292Z"
   },
   {
    "duration": 18,
    "start_time": "2022-02-12T20:22:56.314Z"
   },
   {
    "duration": 51,
    "start_time": "2022-02-12T20:22:56.335Z"
   },
   {
    "duration": 7,
    "start_time": "2022-02-12T20:22:56.389Z"
   },
   {
    "duration": 36,
    "start_time": "2022-02-12T20:22:56.398Z"
   },
   {
    "duration": 176,
    "start_time": "2022-02-12T20:22:56.436Z"
   },
   {
    "duration": 28,
    "start_time": "2022-02-12T20:22:56.614Z"
   },
   {
    "duration": 8,
    "start_time": "2022-02-12T20:22:56.644Z"
   },
   {
    "duration": 43,
    "start_time": "2022-02-12T20:22:56.654Z"
   },
   {
    "duration": 64,
    "start_time": "2022-02-12T20:22:56.700Z"
   },
   {
    "duration": 341,
    "start_time": "2022-02-12T20:22:56.767Z"
   },
   {
    "duration": 4,
    "start_time": "2022-02-12T20:22:57.111Z"
   },
   {
    "duration": 36602,
    "start_time": "2022-02-12T20:22:57.133Z"
   },
   {
    "duration": 97,
    "start_time": "2022-02-12T20:23:33.737Z"
   },
   {
    "duration": 496,
    "start_time": "2022-02-12T20:23:33.836Z"
   },
   {
    "duration": 15,
    "start_time": "2022-02-12T20:23:34.335Z"
   },
   {
    "duration": 77,
    "start_time": "2022-02-12T20:23:34.355Z"
   },
   {
    "duration": 170,
    "start_time": "2022-02-12T20:23:34.435Z"
   },
   {
    "duration": 196,
    "start_time": "2022-02-12T20:23:34.607Z"
   },
   {
    "duration": 13,
    "start_time": "2022-02-12T20:23:34.806Z"
   },
   {
    "duration": 22,
    "start_time": "2022-02-12T20:23:34.832Z"
   },
   {
    "duration": 23,
    "start_time": "2022-02-12T20:23:34.856Z"
   },
   {
    "duration": 730,
    "start_time": "2022-02-12T20:23:34.881Z"
   },
   {
    "duration": 1509,
    "start_time": "2022-02-12T20:23:35.614Z"
   },
   {
    "duration": 902,
    "start_time": "2022-02-12T20:23:37.125Z"
   },
   {
    "duration": 65893,
    "start_time": "2022-02-12T20:23:38.032Z"
   },
   {
    "duration": 6052,
    "start_time": "2022-02-12T20:24:43.928Z"
   },
   {
    "duration": 217,
    "start_time": "2022-02-12T20:24:49.982Z"
   },
   {
    "duration": 54,
    "start_time": "2022-02-12T20:24:50.201Z"
   },
   {
    "duration": 51,
    "start_time": "2022-02-12T20:24:50.257Z"
   },
   {
    "duration": 48,
    "start_time": "2022-02-12T20:24:50.310Z"
   },
   {
    "duration": 5,
    "start_time": "2022-02-12T20:24:50.360Z"
   },
   {
    "duration": 237,
    "start_time": "2022-02-12T20:24:50.368Z"
   },
   {
    "duration": 60,
    "start_time": "2022-02-12T20:24:50.607Z"
   },
   {
    "duration": 7,
    "start_time": "2022-02-12T20:24:50.669Z"
   },
   {
    "duration": 14,
    "start_time": "2022-02-12T20:24:50.678Z"
   },
   {
    "duration": 10,
    "start_time": "2022-02-12T20:24:50.694Z"
   },
   {
    "duration": 66,
    "start_time": "2022-02-12T20:24:50.706Z"
   },
   {
    "duration": 8,
    "start_time": "2022-02-12T20:24:50.774Z"
   },
   {
    "duration": 7,
    "start_time": "2022-02-12T20:24:50.784Z"
   },
   {
    "duration": 394,
    "start_time": "2022-02-12T20:24:50.793Z"
   },
   {
    "duration": 10,
    "start_time": "2022-02-12T20:24:59.114Z"
   },
   {
    "duration": 7,
    "start_time": "2022-02-12T20:25:00.041Z"
   },
   {
    "duration": 398,
    "start_time": "2022-02-12T20:25:31.070Z"
   },
   {
    "duration": 334,
    "start_time": "2022-02-12T20:31:13.900Z"
   },
   {
    "duration": 389,
    "start_time": "2022-02-12T20:31:24.712Z"
   },
   {
    "duration": 364,
    "start_time": "2022-02-12T20:34:54.298Z"
   },
   {
    "duration": 346,
    "start_time": "2022-02-12T20:35:08.162Z"
   },
   {
    "duration": 323,
    "start_time": "2022-02-12T20:35:23.603Z"
   },
   {
    "duration": 385,
    "start_time": "2022-02-12T20:35:32.670Z"
   },
   {
    "duration": 363,
    "start_time": "2022-02-12T20:35:48.712Z"
   },
   {
    "duration": 12,
    "start_time": "2022-02-12T21:19:15.373Z"
   },
   {
    "duration": 10,
    "start_time": "2022-02-12T21:19:57.753Z"
   },
   {
    "duration": 12,
    "start_time": "2022-02-12T21:20:28.210Z"
   },
   {
    "duration": 423,
    "start_time": "2022-02-12T21:21:10.336Z"
   },
   {
    "duration": 11,
    "start_time": "2022-02-12T21:21:26.520Z"
   },
   {
    "duration": 17,
    "start_time": "2022-02-12T21:24:55.017Z"
   },
   {
    "duration": 16,
    "start_time": "2022-02-12T21:24:57.228Z"
   },
   {
    "duration": 23,
    "start_time": "2022-02-12T21:25:09.727Z"
   },
   {
    "duration": 294,
    "start_time": "2022-02-12T21:25:52.367Z"
   },
   {
    "duration": 16,
    "start_time": "2022-02-12T21:25:57.100Z"
   },
   {
    "duration": 9,
    "start_time": "2022-02-12T21:25:57.797Z"
   },
   {
    "duration": 98,
    "start_time": "2022-02-12T21:26:01.117Z"
   },
   {
    "duration": 584,
    "start_time": "2022-02-13T07:00:43.819Z"
   },
   {
    "duration": 730,
    "start_time": "2022-02-13T07:00:44.405Z"
   },
   {
    "duration": 87,
    "start_time": "2022-02-13T07:00:45.139Z"
   },
   {
    "duration": 12,
    "start_time": "2022-02-13T07:00:45.228Z"
   },
   {
    "duration": 9,
    "start_time": "2022-02-13T07:00:45.260Z"
   },
   {
    "duration": 365,
    "start_time": "2022-02-13T07:00:45.271Z"
   },
   {
    "duration": 22,
    "start_time": "2022-02-13T07:00:45.637Z"
   },
   {
    "duration": 7,
    "start_time": "2022-02-13T07:00:45.661Z"
   },
   {
    "duration": 42,
    "start_time": "2022-02-13T07:00:45.670Z"
   },
   {
    "duration": 6,
    "start_time": "2022-02-13T07:00:45.714Z"
   },
   {
    "duration": 9,
    "start_time": "2022-02-13T07:00:45.722Z"
   },
   {
    "duration": 147,
    "start_time": "2022-02-13T07:00:45.733Z"
   },
   {
    "duration": 10,
    "start_time": "2022-02-13T07:00:45.882Z"
   },
   {
    "duration": 5,
    "start_time": "2022-02-13T07:00:45.894Z"
   },
   {
    "duration": 57,
    "start_time": "2022-02-13T07:00:45.901Z"
   },
   {
    "duration": 26,
    "start_time": "2022-02-13T07:00:45.960Z"
   },
   {
    "duration": 174,
    "start_time": "2022-02-13T07:00:45.988Z"
   },
   {
    "duration": 2,
    "start_time": "2022-02-13T07:00:46.164Z"
   },
   {
    "duration": 16814,
    "start_time": "2022-02-13T07:00:46.168Z"
   },
   {
    "duration": 83,
    "start_time": "2022-02-13T07:01:02.983Z"
   },
   {
    "duration": 353,
    "start_time": "2022-02-13T07:01:03.067Z"
   },
   {
    "duration": 13,
    "start_time": "2022-02-13T07:01:03.422Z"
   },
   {
    "duration": 57,
    "start_time": "2022-02-13T07:01:03.436Z"
   },
   {
    "duration": 256,
    "start_time": "2022-02-13T07:01:03.495Z"
   },
   {
    "duration": 150,
    "start_time": "2022-02-13T07:01:03.753Z"
   },
   {
    "duration": 9,
    "start_time": "2022-02-13T07:01:03.905Z"
   },
   {
    "duration": 17,
    "start_time": "2022-02-13T07:01:03.917Z"
   },
   {
    "duration": 31,
    "start_time": "2022-02-13T07:01:03.936Z"
   },
   {
    "duration": 518,
    "start_time": "2022-02-13T07:01:03.968Z"
   },
   {
    "duration": 972,
    "start_time": "2022-02-13T07:01:04.488Z"
   },
   {
    "duration": 647,
    "start_time": "2022-02-13T07:01:05.462Z"
   },
   {
    "duration": 29757,
    "start_time": "2022-02-13T07:01:06.111Z"
   },
   {
    "duration": 2705,
    "start_time": "2022-02-13T07:01:35.870Z"
   },
   {
    "duration": 149,
    "start_time": "2022-02-13T07:01:38.577Z"
   },
   {
    "duration": 42,
    "start_time": "2022-02-13T07:01:38.728Z"
   },
   {
    "duration": 31,
    "start_time": "2022-02-13T07:01:38.772Z"
   },
   {
    "duration": 25,
    "start_time": "2022-02-13T07:01:38.805Z"
   },
   {
    "duration": 3,
    "start_time": "2022-02-13T07:01:38.832Z"
   },
   {
    "duration": 164,
    "start_time": "2022-02-13T07:01:38.837Z"
   },
   {
    "duration": 38,
    "start_time": "2022-02-13T07:01:39.002Z"
   },
   {
    "duration": 6,
    "start_time": "2022-02-13T07:01:39.042Z"
   },
   {
    "duration": 18,
    "start_time": "2022-02-13T07:01:39.049Z"
   },
   {
    "duration": 7,
    "start_time": "2022-02-13T07:01:39.068Z"
   },
   {
    "duration": 29,
    "start_time": "2022-02-13T07:01:39.076Z"
   },
   {
    "duration": 7,
    "start_time": "2022-02-13T07:01:39.107Z"
   },
   {
    "duration": 6,
    "start_time": "2022-02-13T07:01:39.116Z"
   },
   {
    "duration": 261,
    "start_time": "2022-02-13T07:01:39.124Z"
   },
   {
    "duration": 12,
    "start_time": "2022-02-13T07:01:39.387Z"
   },
   {
    "duration": 7,
    "start_time": "2022-02-13T07:01:39.400Z"
   },
   {
    "duration": 325,
    "start_time": "2022-02-13T07:07:30.697Z"
   },
   {
    "duration": 240,
    "start_time": "2022-02-13T07:07:43.526Z"
   },
   {
    "duration": 226,
    "start_time": "2022-02-13T07:07:55.607Z"
   },
   {
    "duration": 364,
    "start_time": "2022-02-13T07:08:11.446Z"
   },
   {
    "duration": 363,
    "start_time": "2022-02-13T07:08:19.678Z"
   },
   {
    "duration": 440,
    "start_time": "2022-02-13T07:09:06.178Z"
   },
   {
    "duration": 194,
    "start_time": "2022-02-13T07:09:40.459Z"
   },
   {
    "duration": 190,
    "start_time": "2022-02-13T07:09:55.147Z"
   },
   {
    "duration": 380,
    "start_time": "2022-02-13T07:10:26.527Z"
   },
   {
    "duration": 191,
    "start_time": "2022-02-13T07:11:32.348Z"
   },
   {
    "duration": 352,
    "start_time": "2022-02-13T07:11:51.327Z"
   },
   {
    "duration": 182,
    "start_time": "2022-02-13T07:11:58.905Z"
   },
   {
    "duration": 11,
    "start_time": "2022-02-13T07:12:28.135Z"
   },
   {
    "duration": 197,
    "start_time": "2022-02-13T07:13:44.014Z"
   },
   {
    "duration": 26,
    "start_time": "2022-02-13T07:14:08.476Z"
   },
   {
    "duration": 24,
    "start_time": "2022-02-13T07:14:14.326Z"
   },
   {
    "duration": 622,
    "start_time": "2022-02-13T07:16:21.818Z"
   },
   {
    "duration": 594,
    "start_time": "2022-02-13T07:16:22.442Z"
   },
   {
    "duration": 54,
    "start_time": "2022-02-13T07:16:23.039Z"
   },
   {
    "duration": 8,
    "start_time": "2022-02-13T07:16:23.095Z"
   },
   {
    "duration": 7,
    "start_time": "2022-02-13T07:16:23.104Z"
   },
   {
    "duration": 302,
    "start_time": "2022-02-13T07:16:23.112Z"
   },
   {
    "duration": 14,
    "start_time": "2022-02-13T07:16:23.415Z"
   },
   {
    "duration": 8,
    "start_time": "2022-02-13T07:16:23.430Z"
   },
   {
    "duration": 45,
    "start_time": "2022-02-13T07:16:23.440Z"
   },
   {
    "duration": 6,
    "start_time": "2022-02-13T07:16:23.487Z"
   },
   {
    "duration": 10,
    "start_time": "2022-02-13T07:16:23.494Z"
   },
   {
    "duration": 116,
    "start_time": "2022-02-13T07:16:23.505Z"
   },
   {
    "duration": 11,
    "start_time": "2022-02-13T07:16:23.622Z"
   },
   {
    "duration": 5,
    "start_time": "2022-02-13T07:16:23.635Z"
   },
   {
    "duration": 32,
    "start_time": "2022-02-13T07:16:23.658Z"
   },
   {
    "duration": 29,
    "start_time": "2022-02-13T07:16:23.691Z"
   },
   {
    "duration": 176,
    "start_time": "2022-02-13T07:16:23.721Z"
   },
   {
    "duration": 2,
    "start_time": "2022-02-13T07:16:23.899Z"
   },
   {
    "duration": 16198,
    "start_time": "2022-02-13T07:16:23.902Z"
   },
   {
    "duration": 79,
    "start_time": "2022-02-13T07:16:40.102Z"
   },
   {
    "duration": 363,
    "start_time": "2022-02-13T07:16:40.183Z"
   },
   {
    "duration": 15,
    "start_time": "2022-02-13T07:16:40.548Z"
   },
   {
    "duration": 45,
    "start_time": "2022-02-13T07:16:40.565Z"
   },
   {
    "duration": 246,
    "start_time": "2022-02-13T07:16:40.612Z"
   },
   {
    "duration": 134,
    "start_time": "2022-02-13T07:16:40.860Z"
   },
   {
    "duration": 8,
    "start_time": "2022-02-13T07:16:40.996Z"
   },
   {
    "duration": 12,
    "start_time": "2022-02-13T07:16:41.008Z"
   },
   {
    "duration": 41,
    "start_time": "2022-02-13T07:16:41.022Z"
   },
   {
    "duration": 497,
    "start_time": "2022-02-13T07:16:41.065Z"
   },
   {
    "duration": 961,
    "start_time": "2022-02-13T07:16:41.564Z"
   },
   {
    "duration": 622,
    "start_time": "2022-02-13T07:16:42.527Z"
   },
   {
    "duration": 4593,
    "start_time": "2022-02-13T07:16:43.150Z"
   },
   {
    "duration": -510,
    "start_time": "2022-02-13T07:16:48.255Z"
   },
   {
    "duration": -512,
    "start_time": "2022-02-13T07:16:48.258Z"
   },
   {
    "duration": -512,
    "start_time": "2022-02-13T07:16:48.259Z"
   },
   {
    "duration": -513,
    "start_time": "2022-02-13T07:16:48.261Z"
   },
   {
    "duration": -514,
    "start_time": "2022-02-13T07:16:48.263Z"
   },
   {
    "duration": -515,
    "start_time": "2022-02-13T07:16:48.265Z"
   },
   {
    "duration": -621,
    "start_time": "2022-02-13T07:16:48.371Z"
   },
   {
    "duration": -623,
    "start_time": "2022-02-13T07:16:48.374Z"
   },
   {
    "duration": -623,
    "start_time": "2022-02-13T07:16:48.375Z"
   },
   {
    "duration": -624,
    "start_time": "2022-02-13T07:16:48.377Z"
   },
   {
    "duration": -625,
    "start_time": "2022-02-13T07:16:48.379Z"
   },
   {
    "duration": -627,
    "start_time": "2022-02-13T07:16:48.382Z"
   },
   {
    "duration": -628,
    "start_time": "2022-02-13T07:16:48.384Z"
   },
   {
    "duration": -629,
    "start_time": "2022-02-13T07:16:48.386Z"
   },
   {
    "duration": -636,
    "start_time": "2022-02-13T07:16:48.393Z"
   },
   {
    "duration": -637,
    "start_time": "2022-02-13T07:16:48.395Z"
   },
   {
    "duration": -638,
    "start_time": "2022-02-13T07:16:48.397Z"
   },
   {
    "duration": 330,
    "start_time": "2022-02-13T07:17:22.098Z"
   },
   {
    "duration": 294,
    "start_time": "2022-02-13T07:17:41.726Z"
   },
   {
    "duration": 545,
    "start_time": "2022-02-13T07:17:53.693Z"
   },
   {
    "duration": 600,
    "start_time": "2022-02-13T07:17:54.240Z"
   },
   {
    "duration": 53,
    "start_time": "2022-02-13T07:17:54.842Z"
   },
   {
    "duration": 8,
    "start_time": "2022-02-13T07:17:54.897Z"
   },
   {
    "duration": 6,
    "start_time": "2022-02-13T07:17:54.907Z"
   },
   {
    "duration": 306,
    "start_time": "2022-02-13T07:17:54.914Z"
   },
   {
    "duration": 14,
    "start_time": "2022-02-13T07:17:55.221Z"
   },
   {
    "duration": 7,
    "start_time": "2022-02-13T07:17:55.237Z"
   },
   {
    "duration": 43,
    "start_time": "2022-02-13T07:17:55.247Z"
   },
   {
    "duration": 6,
    "start_time": "2022-02-13T07:17:55.292Z"
   },
   {
    "duration": 7,
    "start_time": "2022-02-13T07:17:55.299Z"
   },
   {
    "duration": 128,
    "start_time": "2022-02-13T07:17:55.307Z"
   },
   {
    "duration": 11,
    "start_time": "2022-02-13T07:17:55.436Z"
   },
   {
    "duration": 14,
    "start_time": "2022-02-13T07:17:55.449Z"
   },
   {
    "duration": 32,
    "start_time": "2022-02-13T07:17:55.464Z"
   },
   {
    "duration": 27,
    "start_time": "2022-02-13T07:17:55.498Z"
   },
   {
    "duration": 183,
    "start_time": "2022-02-13T07:17:55.527Z"
   },
   {
    "duration": 2,
    "start_time": "2022-02-13T07:17:55.712Z"
   },
   {
    "duration": 16387,
    "start_time": "2022-02-13T07:17:55.715Z"
   },
   {
    "duration": 80,
    "start_time": "2022-02-13T07:18:12.104Z"
   },
   {
    "duration": 356,
    "start_time": "2022-02-13T07:18:12.185Z"
   },
   {
    "duration": 17,
    "start_time": "2022-02-13T07:18:12.543Z"
   },
   {
    "duration": 45,
    "start_time": "2022-02-13T07:18:12.562Z"
   },
   {
    "duration": 268,
    "start_time": "2022-02-13T07:18:12.609Z"
   },
   {
    "duration": 151,
    "start_time": "2022-02-13T07:18:12.879Z"
   },
   {
    "duration": 10,
    "start_time": "2022-02-13T07:18:13.032Z"
   },
   {
    "duration": 27,
    "start_time": "2022-02-13T07:18:13.046Z"
   },
   {
    "duration": 21,
    "start_time": "2022-02-13T07:18:13.076Z"
   },
   {
    "duration": 573,
    "start_time": "2022-02-13T07:18:13.099Z"
   },
   {
    "duration": 950,
    "start_time": "2022-02-13T07:18:13.673Z"
   },
   {
    "duration": 636,
    "start_time": "2022-02-13T07:18:14.625Z"
   },
   {
    "duration": 290,
    "start_time": "2022-02-13T07:18:15.263Z"
   },
   {
    "duration": 2634,
    "start_time": "2022-02-13T07:18:15.555Z"
   },
   {
    "duration": 152,
    "start_time": "2022-02-13T07:18:18.191Z"
   },
   {
    "duration": 47,
    "start_time": "2022-02-13T07:18:18.346Z"
   },
   {
    "duration": 32,
    "start_time": "2022-02-13T07:18:18.395Z"
   },
   {
    "duration": 39,
    "start_time": "2022-02-13T07:18:18.428Z"
   },
   {
    "duration": 4,
    "start_time": "2022-02-13T07:18:18.469Z"
   },
   {
    "duration": 153,
    "start_time": "2022-02-13T07:18:18.474Z"
   },
   {
    "duration": 43,
    "start_time": "2022-02-13T07:18:18.629Z"
   },
   {
    "duration": 6,
    "start_time": "2022-02-13T07:18:18.674Z"
   },
   {
    "duration": 11,
    "start_time": "2022-02-13T07:18:18.682Z"
   },
   {
    "duration": 14,
    "start_time": "2022-02-13T07:18:18.695Z"
   },
   {
    "duration": 29,
    "start_time": "2022-02-13T07:18:18.711Z"
   },
   {
    "duration": 18,
    "start_time": "2022-02-13T07:18:18.741Z"
   },
   {
    "duration": 5,
    "start_time": "2022-02-13T07:18:18.761Z"
   },
   {
    "duration": 240,
    "start_time": "2022-02-13T07:18:18.768Z"
   },
   {
    "duration": 11,
    "start_time": "2022-02-13T07:18:19.010Z"
   },
   {
    "duration": 8,
    "start_time": "2022-02-13T07:18:19.023Z"
   },
   {
    "duration": 348,
    "start_time": "2022-02-13T07:20:36.962Z"
   },
   {
    "duration": 184,
    "start_time": "2022-02-13T07:20:45.409Z"
   },
   {
    "duration": 191,
    "start_time": "2022-02-13T07:21:27.652Z"
   },
   {
    "duration": 73,
    "start_time": "2022-02-13T07:21:55.402Z"
   },
   {
    "duration": 9629,
    "start_time": "2022-02-13T07:22:07.009Z"
   },
   {
    "duration": 11833,
    "start_time": "2022-02-13T07:22:27.385Z"
   },
   {
    "duration": 498,
    "start_time": "2022-02-13T07:23:03.763Z"
   },
   {
    "duration": 447,
    "start_time": "2022-02-13T07:23:12.163Z"
   },
   {
    "duration": 2066,
    "start_time": "2022-02-13T07:23:24.183Z"
   },
   {
    "duration": 74,
    "start_time": "2022-02-13T07:24:12.946Z"
   },
   {
    "duration": 211,
    "start_time": "2022-02-13T07:27:44.025Z"
   },
   {
    "duration": 601,
    "start_time": "2022-02-13T07:28:32.975Z"
   },
   {
    "duration": 599,
    "start_time": "2022-02-13T07:28:33.578Z"
   },
   {
    "duration": 56,
    "start_time": "2022-02-13T07:28:34.179Z"
   },
   {
    "duration": 7,
    "start_time": "2022-02-13T07:28:34.237Z"
   },
   {
    "duration": 6,
    "start_time": "2022-02-13T07:28:34.246Z"
   },
   {
    "duration": 279,
    "start_time": "2022-02-13T07:28:34.258Z"
   },
   {
    "duration": 13,
    "start_time": "2022-02-13T07:28:34.538Z"
   },
   {
    "duration": 5,
    "start_time": "2022-02-13T07:28:34.559Z"
   },
   {
    "duration": 42,
    "start_time": "2022-02-13T07:28:34.565Z"
   },
   {
    "duration": 5,
    "start_time": "2022-02-13T07:28:34.608Z"
   },
   {
    "duration": 5,
    "start_time": "2022-02-13T07:28:34.615Z"
   },
   {
    "duration": 118,
    "start_time": "2022-02-13T07:28:34.621Z"
   },
   {
    "duration": 19,
    "start_time": "2022-02-13T07:28:34.741Z"
   },
   {
    "duration": 5,
    "start_time": "2022-02-13T07:28:34.761Z"
   },
   {
    "duration": 30,
    "start_time": "2022-02-13T07:28:34.768Z"
   },
   {
    "duration": 28,
    "start_time": "2022-02-13T07:28:34.799Z"
   },
   {
    "duration": 174,
    "start_time": "2022-02-13T07:28:34.828Z"
   },
   {
    "duration": 2,
    "start_time": "2022-02-13T07:28:35.005Z"
   },
   {
    "duration": 16571,
    "start_time": "2022-02-13T07:28:35.009Z"
   },
   {
    "duration": 78,
    "start_time": "2022-02-13T07:28:51.582Z"
   },
   {
    "duration": 341,
    "start_time": "2022-02-13T07:28:51.662Z"
   },
   {
    "duration": 13,
    "start_time": "2022-02-13T07:28:52.005Z"
   },
   {
    "duration": 59,
    "start_time": "2022-02-13T07:28:52.021Z"
   },
   {
    "duration": 243,
    "start_time": "2022-02-13T07:28:52.082Z"
   },
   {
    "duration": 142,
    "start_time": "2022-02-13T07:28:52.327Z"
   },
   {
    "duration": 8,
    "start_time": "2022-02-13T07:28:52.471Z"
   },
   {
    "duration": 15,
    "start_time": "2022-02-13T07:28:52.481Z"
   },
   {
    "duration": 15,
    "start_time": "2022-02-13T07:28:52.498Z"
   },
   {
    "duration": 551,
    "start_time": "2022-02-13T07:28:52.514Z"
   },
   {
    "duration": 966,
    "start_time": "2022-02-13T07:28:53.066Z"
   },
   {
    "duration": 606,
    "start_time": "2022-02-13T07:28:54.034Z"
   },
   {
    "duration": 147,
    "start_time": "2022-02-13T07:28:54.642Z"
   },
   {
    "duration": 324,
    "start_time": "2022-02-13T07:28:54.790Z"
   },
   {
    "duration": 2568,
    "start_time": "2022-02-13T07:28:55.116Z"
   },
   {
    "duration": 135,
    "start_time": "2022-02-13T07:28:57.686Z"
   },
   {
    "duration": 39,
    "start_time": "2022-02-13T07:28:57.823Z"
   },
   {
    "duration": 30,
    "start_time": "2022-02-13T07:28:57.864Z"
   },
   {
    "duration": 21,
    "start_time": "2022-02-13T07:28:57.896Z"
   },
   {
    "duration": 3,
    "start_time": "2022-02-13T07:28:57.919Z"
   },
   {
    "duration": 150,
    "start_time": "2022-02-13T07:28:57.923Z"
   },
   {
    "duration": 35,
    "start_time": "2022-02-13T07:28:58.075Z"
   },
   {
    "duration": 5,
    "start_time": "2022-02-13T07:28:58.112Z"
   },
   {
    "duration": 9,
    "start_time": "2022-02-13T07:28:58.118Z"
   },
   {
    "duration": 8,
    "start_time": "2022-02-13T07:28:58.129Z"
   },
   {
    "duration": 42,
    "start_time": "2022-02-13T07:28:58.139Z"
   },
   {
    "duration": 6,
    "start_time": "2022-02-13T07:28:58.183Z"
   },
   {
    "duration": 7,
    "start_time": "2022-02-13T07:28:58.191Z"
   },
   {
    "duration": 248,
    "start_time": "2022-02-13T07:28:58.199Z"
   },
   {
    "duration": 15,
    "start_time": "2022-02-13T07:28:58.449Z"
   },
   {
    "duration": 6,
    "start_time": "2022-02-13T07:28:58.466Z"
   },
   {
    "duration": 348,
    "start_time": "2022-02-13T07:29:32.578Z"
   },
   {
    "duration": 371,
    "start_time": "2022-02-13T07:29:37.270Z"
   },
   {
    "duration": 321,
    "start_time": "2022-02-13T07:29:42.339Z"
   },
   {
    "duration": 347,
    "start_time": "2022-02-13T07:29:47.164Z"
   },
   {
    "duration": 8,
    "start_time": "2022-02-13T07:31:03.608Z"
   },
   {
    "duration": 7,
    "start_time": "2022-02-13T07:31:43.679Z"
   },
   {
    "duration": 8,
    "start_time": "2022-02-13T07:31:50.019Z"
   },
   {
    "duration": 5,
    "start_time": "2022-02-13T07:33:06.388Z"
   },
   {
    "duration": 226,
    "start_time": "2022-02-13T07:47:16.365Z"
   },
   {
    "duration": 5,
    "start_time": "2022-02-13T07:50:51.056Z"
   },
   {
    "duration": 23,
    "start_time": "2022-02-13T08:54:35.806Z"
   },
   {
    "duration": 201,
    "start_time": "2022-02-13T08:56:55.272Z"
   },
   {
    "duration": 485,
    "start_time": "2022-02-13T08:57:33.128Z"
   },
   {
    "duration": 402,
    "start_time": "2022-02-13T08:57:44.215Z"
   },
   {
    "duration": 483,
    "start_time": "2022-02-13T08:58:01.267Z"
   },
   {
    "duration": 224,
    "start_time": "2022-02-13T08:58:24.135Z"
   },
   {
    "duration": 342,
    "start_time": "2022-02-13T09:01:02.959Z"
   },
   {
    "duration": 549,
    "start_time": "2022-02-13T09:02:08.810Z"
   },
   {
    "duration": 724,
    "start_time": "2022-02-13T09:02:09.361Z"
   },
   {
    "duration": 57,
    "start_time": "2022-02-13T09:02:10.087Z"
   },
   {
    "duration": 12,
    "start_time": "2022-02-13T09:02:10.146Z"
   },
   {
    "duration": 26,
    "start_time": "2022-02-13T09:02:10.160Z"
   },
   {
    "duration": 309,
    "start_time": "2022-02-13T09:02:10.188Z"
   },
   {
    "duration": 16,
    "start_time": "2022-02-13T09:02:10.499Z"
   },
   {
    "duration": 11,
    "start_time": "2022-02-13T09:02:10.517Z"
   },
   {
    "duration": 48,
    "start_time": "2022-02-13T09:02:10.531Z"
   },
   {
    "duration": 6,
    "start_time": "2022-02-13T09:02:10.581Z"
   },
   {
    "duration": 7,
    "start_time": "2022-02-13T09:02:10.588Z"
   },
   {
    "duration": 126,
    "start_time": "2022-02-13T09:02:10.597Z"
   },
   {
    "duration": 13,
    "start_time": "2022-02-13T09:02:10.725Z"
   },
   {
    "duration": 22,
    "start_time": "2022-02-13T09:02:10.739Z"
   },
   {
    "duration": 34,
    "start_time": "2022-02-13T09:02:10.763Z"
   },
   {
    "duration": 34,
    "start_time": "2022-02-13T09:02:10.798Z"
   },
   {
    "duration": 203,
    "start_time": "2022-02-13T09:02:10.834Z"
   },
   {
    "duration": 2,
    "start_time": "2022-02-13T09:02:11.039Z"
   },
   {
    "duration": 17866,
    "start_time": "2022-02-13T09:02:11.043Z"
   },
   {
    "duration": 92,
    "start_time": "2022-02-13T09:02:28.912Z"
   },
   {
    "duration": 439,
    "start_time": "2022-02-13T09:02:29.007Z"
   },
   {
    "duration": 21,
    "start_time": "2022-02-13T09:02:29.448Z"
   },
   {
    "duration": 47,
    "start_time": "2022-02-13T09:02:29.471Z"
   },
   {
    "duration": 254,
    "start_time": "2022-02-13T09:02:29.520Z"
   },
   {
    "duration": 166,
    "start_time": "2022-02-13T09:02:29.776Z"
   },
   {
    "duration": 18,
    "start_time": "2022-02-13T09:02:29.944Z"
   },
   {
    "duration": 17,
    "start_time": "2022-02-13T09:02:29.966Z"
   },
   {
    "duration": 18,
    "start_time": "2022-02-13T09:02:29.986Z"
   },
   {
    "duration": 607,
    "start_time": "2022-02-13T09:02:30.006Z"
   },
   {
    "duration": 1119,
    "start_time": "2022-02-13T09:02:30.615Z"
   },
   {
    "duration": 652,
    "start_time": "2022-02-13T09:02:31.736Z"
   },
   {
    "duration": 199,
    "start_time": "2022-02-13T09:02:32.391Z"
   },
   {
    "duration": 6,
    "start_time": "2022-02-13T09:02:32.592Z"
   },
   {
    "duration": 377,
    "start_time": "2022-02-13T09:02:32.600Z"
   },
   {
    "duration": 11,
    "start_time": "2022-02-13T09:02:32.979Z"
   },
   {
    "duration": 2858,
    "start_time": "2022-02-13T09:02:32.991Z"
   },
   {
    "duration": 147,
    "start_time": "2022-02-13T09:02:35.851Z"
   },
   {
    "duration": 36,
    "start_time": "2022-02-13T09:02:36.001Z"
   },
   {
    "duration": 45,
    "start_time": "2022-02-13T09:02:36.039Z"
   },
   {
    "duration": 27,
    "start_time": "2022-02-13T09:02:36.086Z"
   },
   {
    "duration": 4,
    "start_time": "2022-02-13T09:02:36.115Z"
   },
   {
    "duration": 166,
    "start_time": "2022-02-13T09:02:36.121Z"
   },
   {
    "duration": 41,
    "start_time": "2022-02-13T09:02:36.289Z"
   },
   {
    "duration": 6,
    "start_time": "2022-02-13T09:02:36.332Z"
   },
   {
    "duration": 24,
    "start_time": "2022-02-13T09:02:36.339Z"
   },
   {
    "duration": 7,
    "start_time": "2022-02-13T09:02:36.364Z"
   },
   {
    "duration": 30,
    "start_time": "2022-02-13T09:02:36.372Z"
   },
   {
    "duration": 7,
    "start_time": "2022-02-13T09:02:36.404Z"
   },
   {
    "duration": 6,
    "start_time": "2022-02-13T09:02:36.412Z"
   },
   {
    "duration": 280,
    "start_time": "2022-02-13T09:02:36.419Z"
   },
   {
    "duration": 13,
    "start_time": "2022-02-13T09:02:36.701Z"
   },
   {
    "duration": 4,
    "start_time": "2022-02-13T09:02:36.716Z"
   },
   {
    "duration": 10,
    "start_time": "2022-02-13T09:02:36.722Z"
   },
   {
    "duration": 444,
    "start_time": "2022-02-13T09:02:36.734Z"
   },
   {
    "duration": 328,
    "start_time": "2022-02-13T09:02:37.180Z"
   },
   {
    "duration": 5,
    "start_time": "2022-02-13T09:03:11.611Z"
   },
   {
    "duration": 6,
    "start_time": "2022-02-13T09:04:03.660Z"
   },
   {
    "duration": 316,
    "start_time": "2022-02-13T09:04:25.699Z"
   },
   {
    "duration": 5310,
    "start_time": "2022-02-13T09:04:26.852Z"
   },
   {
    "duration": 5,
    "start_time": "2022-02-13T09:04:32.678Z"
   },
   {
    "duration": 5230,
    "start_time": "2022-02-13T09:04:41.771Z"
   },
   {
    "duration": 243,
    "start_time": "2022-02-13T09:04:53.727Z"
   },
   {
    "duration": 4,
    "start_time": "2022-02-13T09:04:57.171Z"
   },
   {
    "duration": 5528,
    "start_time": "2022-02-13T09:14:40.642Z"
   },
   {
    "duration": 5276,
    "start_time": "2022-02-13T09:14:48.183Z"
   },
   {
    "duration": 330,
    "start_time": "2022-02-13T09:15:16.103Z"
   },
   {
    "duration": 7,
    "start_time": "2022-02-13T09:22:59.348Z"
   },
   {
    "duration": 7,
    "start_time": "2022-02-13T09:23:04.759Z"
   },
   {
    "duration": 7,
    "start_time": "2022-02-13T09:23:26.054Z"
   },
   {
    "duration": 182,
    "start_time": "2022-02-13T09:33:29.562Z"
   },
   {
    "duration": 72,
    "start_time": "2022-02-13T09:33:52.359Z"
   },
   {
    "duration": 8,
    "start_time": "2022-02-13T09:33:58.179Z"
   },
   {
    "duration": 17,
    "start_time": "2022-02-13T09:35:45.609Z"
   },
   {
    "duration": 5,
    "start_time": "2022-02-13T09:35:48.189Z"
   },
   {
    "duration": 211,
    "start_time": "2022-02-13T09:36:53.469Z"
   },
   {
    "duration": 71,
    "start_time": "2022-02-13T09:38:14.759Z"
   },
   {
    "duration": 8,
    "start_time": "2022-02-13T09:38:17.979Z"
   },
   {
    "duration": 4,
    "start_time": "2022-02-13T09:39:20.720Z"
   },
   {
    "duration": -255,
    "start_time": "2022-02-13T09:39:36.338Z"
   },
   {
    "duration": 6,
    "start_time": "2022-02-13T09:39:39.249Z"
   },
   {
    "duration": 23,
    "start_time": "2022-02-13T09:41:58.429Z"
   },
   {
    "duration": 86,
    "start_time": "2022-02-13T09:42:10.669Z"
   },
   {
    "duration": 7,
    "start_time": "2022-02-13T09:42:12.909Z"
   },
   {
    "duration": 716,
    "start_time": "2022-02-13T13:02:26.117Z"
   },
   {
    "duration": 1127,
    "start_time": "2022-02-13T13:02:26.836Z"
   },
   {
    "duration": 72,
    "start_time": "2022-02-13T13:02:27.966Z"
   },
   {
    "duration": 12,
    "start_time": "2022-02-13T13:02:28.040Z"
   },
   {
    "duration": 9,
    "start_time": "2022-02-13T13:02:28.071Z"
   },
   {
    "duration": 430,
    "start_time": "2022-02-13T13:02:28.082Z"
   },
   {
    "duration": 19,
    "start_time": "2022-02-13T13:02:28.514Z"
   },
   {
    "duration": 8,
    "start_time": "2022-02-13T13:02:28.536Z"
   },
   {
    "duration": 68,
    "start_time": "2022-02-13T13:02:28.549Z"
   },
   {
    "duration": 8,
    "start_time": "2022-02-13T13:02:28.620Z"
   },
   {
    "duration": 8,
    "start_time": "2022-02-13T13:02:28.630Z"
   },
   {
    "duration": 190,
    "start_time": "2022-02-13T13:02:28.669Z"
   },
   {
    "duration": 22,
    "start_time": "2022-02-13T13:02:28.862Z"
   },
   {
    "duration": 10,
    "start_time": "2022-02-13T13:02:28.886Z"
   },
   {
    "duration": 72,
    "start_time": "2022-02-13T13:02:28.899Z"
   },
   {
    "duration": 40,
    "start_time": "2022-02-13T13:02:28.973Z"
   },
   {
    "duration": 311,
    "start_time": "2022-02-13T13:02:29.016Z"
   },
   {
    "duration": 3,
    "start_time": "2022-02-13T13:02:29.330Z"
   },
   {
    "duration": 37960,
    "start_time": "2022-02-13T13:02:29.336Z"
   },
   {
    "duration": 112,
    "start_time": "2022-02-13T13:03:07.298Z"
   },
   {
    "duration": 534,
    "start_time": "2022-02-13T13:03:07.413Z"
   },
   {
    "duration": 34,
    "start_time": "2022-02-13T13:03:07.949Z"
   },
   {
    "duration": 67,
    "start_time": "2022-02-13T13:03:07.985Z"
   },
   {
    "duration": 202,
    "start_time": "2022-02-13T13:03:08.055Z"
   },
   {
    "duration": 195,
    "start_time": "2022-02-13T13:03:08.259Z"
   },
   {
    "duration": 17,
    "start_time": "2022-02-13T13:03:08.456Z"
   },
   {
    "duration": 23,
    "start_time": "2022-02-13T13:03:08.480Z"
   },
   {
    "duration": 27,
    "start_time": "2022-02-13T13:03:08.506Z"
   },
   {
    "duration": 734,
    "start_time": "2022-02-13T13:03:08.535Z"
   },
   {
    "duration": 1535,
    "start_time": "2022-02-13T13:03:09.271Z"
   },
   {
    "duration": 1014,
    "start_time": "2022-02-13T13:03:10.809Z"
   },
   {
    "duration": 228,
    "start_time": "2022-02-13T13:03:11.826Z"
   },
   {
    "duration": 13,
    "start_time": "2022-02-13T13:03:12.057Z"
   },
   {
    "duration": 585,
    "start_time": "2022-02-13T13:03:12.073Z"
   },
   {
    "duration": 17,
    "start_time": "2022-02-13T13:03:12.660Z"
   },
   {
    "duration": 5989,
    "start_time": "2022-02-13T13:03:12.680Z"
   },
   {
    "duration": 206,
    "start_time": "2022-02-13T13:03:18.671Z"
   },
   {
    "duration": 45,
    "start_time": "2022-02-13T13:03:18.880Z"
   },
   {
    "duration": 78,
    "start_time": "2022-02-13T13:03:18.928Z"
   },
   {
    "duration": 30,
    "start_time": "2022-02-13T13:03:19.008Z"
   },
   {
    "duration": 5,
    "start_time": "2022-02-13T13:03:19.041Z"
   },
   {
    "duration": 234,
    "start_time": "2022-02-13T13:03:19.048Z"
   },
   {
    "duration": 51,
    "start_time": "2022-02-13T13:03:19.285Z"
   },
   {
    "duration": 9,
    "start_time": "2022-02-13T13:03:19.338Z"
   },
   {
    "duration": 12,
    "start_time": "2022-02-13T13:03:19.370Z"
   },
   {
    "duration": 10,
    "start_time": "2022-02-13T13:03:19.384Z"
   },
   {
    "duration": 39,
    "start_time": "2022-02-13T13:03:19.396Z"
   },
   {
    "duration": 11,
    "start_time": "2022-02-13T13:03:19.470Z"
   },
   {
    "duration": 6,
    "start_time": "2022-02-13T13:03:19.483Z"
   },
   {
    "duration": 390,
    "start_time": "2022-02-13T13:03:19.491Z"
   },
   {
    "duration": 17,
    "start_time": "2022-02-13T13:03:19.884Z"
   },
   {
    "duration": 7,
    "start_time": "2022-02-13T13:03:19.904Z"
   },
   {
    "duration": 11,
    "start_time": "2022-02-13T13:03:19.913Z"
   },
   {
    "duration": 543,
    "start_time": "2022-02-13T13:03:19.927Z"
   },
   {
    "duration": 320,
    "start_time": "2022-02-13T13:03:20.473Z"
   },
   {
    "duration": 5,
    "start_time": "2022-02-13T13:03:20.795Z"
   },
   {
    "duration": 26,
    "start_time": "2022-02-13T13:03:20.802Z"
   },
   {
    "duration": 113,
    "start_time": "2022-02-13T13:03:20.831Z"
   },
   {
    "duration": 13,
    "start_time": "2022-02-13T13:03:20.947Z"
   },
   {
    "duration": 4,
    "start_time": "2022-02-13T13:09:43.411Z"
   },
   {
    "duration": 546,
    "start_time": "2022-02-15T05:32:56.212Z"
   },
   {
    "duration": 572,
    "start_time": "2022-02-15T05:32:56.760Z"
   },
   {
    "duration": 49,
    "start_time": "2022-02-15T05:32:57.334Z"
   },
   {
    "duration": 7,
    "start_time": "2022-02-15T05:32:57.385Z"
   },
   {
    "duration": 6,
    "start_time": "2022-02-15T05:32:57.393Z"
   },
   {
    "duration": 287,
    "start_time": "2022-02-15T05:32:57.400Z"
   },
   {
    "duration": 12,
    "start_time": "2022-02-15T05:32:57.689Z"
   },
   {
    "duration": 4,
    "start_time": "2022-02-15T05:32:57.703Z"
   },
   {
    "duration": 33,
    "start_time": "2022-02-15T05:32:57.709Z"
   },
   {
    "duration": 5,
    "start_time": "2022-02-15T05:32:57.744Z"
   },
   {
    "duration": 24,
    "start_time": "2022-02-15T05:32:57.750Z"
   },
   {
    "duration": 105,
    "start_time": "2022-02-15T05:32:57.775Z"
   },
   {
    "duration": 10,
    "start_time": "2022-02-15T05:32:57.881Z"
   },
   {
    "duration": 5,
    "start_time": "2022-02-15T05:32:57.893Z"
   },
   {
    "duration": 30,
    "start_time": "2022-02-15T05:32:57.899Z"
   },
   {
    "duration": 42,
    "start_time": "2022-02-15T05:32:57.930Z"
   },
   {
    "duration": 160,
    "start_time": "2022-02-15T05:32:57.973Z"
   },
   {
    "duration": 2,
    "start_time": "2022-02-15T05:32:58.135Z"
   },
   {
    "duration": 15979,
    "start_time": "2022-02-15T05:32:58.139Z"
   },
   {
    "duration": 69,
    "start_time": "2022-02-15T05:33:14.120Z"
   },
   {
    "duration": 323,
    "start_time": "2022-02-15T05:33:14.191Z"
   },
   {
    "duration": 19,
    "start_time": "2022-02-15T05:33:14.515Z"
   },
   {
    "duration": 57,
    "start_time": "2022-02-15T05:33:14.535Z"
   },
   {
    "duration": 211,
    "start_time": "2022-02-15T05:33:14.593Z"
   },
   {
    "duration": 127,
    "start_time": "2022-02-15T05:33:14.805Z"
   },
   {
    "duration": 7,
    "start_time": "2022-02-15T05:33:14.934Z"
   },
   {
    "duration": 26,
    "start_time": "2022-02-15T05:33:14.945Z"
   },
   {
    "duration": 14,
    "start_time": "2022-02-15T05:33:14.973Z"
   },
   {
    "duration": 527,
    "start_time": "2022-02-15T05:33:14.988Z"
   },
   {
    "duration": 870,
    "start_time": "2022-02-15T05:33:15.517Z"
   },
   {
    "duration": 546,
    "start_time": "2022-02-15T05:33:16.389Z"
   },
   {
    "duration": 151,
    "start_time": "2022-02-15T05:33:16.937Z"
   },
   {
    "duration": 3,
    "start_time": "2022-02-15T05:33:17.090Z"
   },
   {
    "duration": 320,
    "start_time": "2022-02-15T05:33:17.095Z"
   },
   {
    "duration": 8,
    "start_time": "2022-02-15T05:33:17.416Z"
   },
   {
    "duration": 2657,
    "start_time": "2022-02-15T05:33:17.426Z"
   },
   {
    "duration": 138,
    "start_time": "2022-02-15T05:33:20.085Z"
   },
   {
    "duration": 29,
    "start_time": "2022-02-15T05:33:20.225Z"
   },
   {
    "duration": 44,
    "start_time": "2022-02-15T05:33:20.255Z"
   },
   {
    "duration": 19,
    "start_time": "2022-02-15T05:33:20.300Z"
   },
   {
    "duration": 3,
    "start_time": "2022-02-15T05:33:20.320Z"
   },
   {
    "duration": 146,
    "start_time": "2022-02-15T05:33:20.325Z"
   },
   {
    "duration": 31,
    "start_time": "2022-02-15T05:33:20.473Z"
   },
   {
    "duration": 5,
    "start_time": "2022-02-15T05:33:20.505Z"
   },
   {
    "duration": 8,
    "start_time": "2022-02-15T05:33:20.511Z"
   },
   {
    "duration": 7,
    "start_time": "2022-02-15T05:33:20.521Z"
   },
   {
    "duration": 47,
    "start_time": "2022-02-15T05:33:20.529Z"
   },
   {
    "duration": 6,
    "start_time": "2022-02-15T05:33:20.577Z"
   },
   {
    "duration": 3,
    "start_time": "2022-02-15T05:33:20.585Z"
   },
   {
    "duration": 208,
    "start_time": "2022-02-15T05:33:20.590Z"
   },
   {
    "duration": 11,
    "start_time": "2022-02-15T05:33:20.800Z"
   },
   {
    "duration": 4,
    "start_time": "2022-02-15T05:33:20.813Z"
   },
   {
    "duration": 7,
    "start_time": "2022-02-15T05:33:20.819Z"
   },
   {
    "duration": 370,
    "start_time": "2022-02-15T05:33:20.827Z"
   },
   {
    "duration": 224,
    "start_time": "2022-02-15T05:33:21.199Z"
   },
   {
    "duration": 4,
    "start_time": "2022-02-15T05:33:21.425Z"
   },
   {
    "duration": 10,
    "start_time": "2022-02-15T05:33:21.431Z"
   },
   {
    "duration": 78,
    "start_time": "2022-02-15T05:33:21.443Z"
   },
   {
    "duration": 5,
    "start_time": "2022-02-15T05:33:21.523Z"
   },
   {
    "duration": 9,
    "start_time": "2022-02-15T05:38:54.771Z"
   },
   {
    "duration": 164,
    "start_time": "2022-02-15T05:39:13.809Z"
   },
   {
    "duration": 23,
    "start_time": "2022-02-15T06:10:33.342Z"
   },
   {
    "duration": 504,
    "start_time": "2022-02-15T06:12:51.870Z"
   },
   {
    "duration": 384,
    "start_time": "2022-02-15T06:12:59.624Z"
   },
   {
    "duration": 185,
    "start_time": "2022-02-15T06:13:24.630Z"
   },
   {
    "duration": 207,
    "start_time": "2022-02-15T06:13:32.996Z"
   },
   {
    "duration": 240,
    "start_time": "2022-02-15T06:15:23.075Z"
   },
   {
    "duration": 184,
    "start_time": "2022-02-15T06:16:02.390Z"
   },
   {
    "duration": 278,
    "start_time": "2022-02-15T06:20:40.919Z"
   },
   {
    "duration": 15,
    "start_time": "2022-02-15T06:20:48.186Z"
   },
   {
    "duration": 183,
    "start_time": "2022-02-15T06:22:01.509Z"
   },
   {
    "duration": 254,
    "start_time": "2022-02-15T06:22:39.130Z"
   },
   {
    "duration": 11,
    "start_time": "2022-02-15T06:22:39.736Z"
   },
   {
    "duration": 25,
    "start_time": "2022-02-15T06:24:44.898Z"
   },
   {
    "duration": 221,
    "start_time": "2022-02-15T06:26:16.097Z"
   },
   {
    "duration": 12,
    "start_time": "2022-02-15T06:26:20.986Z"
   },
   {
    "duration": 356,
    "start_time": "2022-02-15T06:27:14.827Z"
   },
   {
    "duration": 25,
    "start_time": "2022-02-15T06:27:16.435Z"
   },
   {
    "duration": 18,
    "start_time": "2022-02-15T06:27:46.572Z"
   },
   {
    "duration": 16,
    "start_time": "2022-02-15T06:38:58.062Z"
   },
   {
    "duration": 23,
    "start_time": "2022-02-15T06:41:56.195Z"
   },
   {
    "duration": 303,
    "start_time": "2022-02-15T06:42:19.215Z"
   },
   {
    "duration": 344,
    "start_time": "2022-02-15T06:42:25.020Z"
   },
   {
    "duration": 311,
    "start_time": "2022-02-15T06:44:13.822Z"
   },
   {
    "duration": 338,
    "start_time": "2022-02-15T06:44:20.820Z"
   },
   {
    "duration": 630,
    "start_time": "2022-02-15T06:45:28.887Z"
   },
   {
    "duration": 3644,
    "start_time": "2022-02-15T06:45:36.612Z"
   },
   {
    "duration": 576,
    "start_time": "2022-02-15T06:46:45.330Z"
   },
   {
    "duration": 568,
    "start_time": "2022-02-15T06:46:45.908Z"
   },
   {
    "duration": 51,
    "start_time": "2022-02-15T06:46:46.478Z"
   },
   {
    "duration": 10,
    "start_time": "2022-02-15T06:46:46.531Z"
   },
   {
    "duration": 13,
    "start_time": "2022-02-15T06:46:46.542Z"
   },
   {
    "duration": 291,
    "start_time": "2022-02-15T06:46:46.556Z"
   },
   {
    "duration": 13,
    "start_time": "2022-02-15T06:46:46.849Z"
   },
   {
    "duration": 29,
    "start_time": "2022-02-15T06:46:46.864Z"
   },
   {
    "duration": 52,
    "start_time": "2022-02-15T06:46:46.895Z"
   },
   {
    "duration": 5,
    "start_time": "2022-02-15T06:46:46.949Z"
   },
   {
    "duration": 22,
    "start_time": "2022-02-15T06:46:46.956Z"
   },
   {
    "duration": 105,
    "start_time": "2022-02-15T06:46:46.980Z"
   },
   {
    "duration": 10,
    "start_time": "2022-02-15T06:46:47.087Z"
   },
   {
    "duration": 10,
    "start_time": "2022-02-15T06:46:47.099Z"
   },
   {
    "duration": 44,
    "start_time": "2022-02-15T06:46:47.111Z"
   },
   {
    "duration": 35,
    "start_time": "2022-02-15T06:46:47.156Z"
   },
   {
    "duration": 156,
    "start_time": "2022-02-15T06:46:47.193Z"
   },
   {
    "duration": 2,
    "start_time": "2022-02-15T06:46:47.351Z"
   },
   {
    "duration": 15824,
    "start_time": "2022-02-15T06:46:47.354Z"
   },
   {
    "duration": 65,
    "start_time": "2022-02-15T06:47:03.179Z"
   },
   {
    "duration": 328,
    "start_time": "2022-02-15T06:47:03.246Z"
   },
   {
    "duration": 19,
    "start_time": "2022-02-15T06:47:03.576Z"
   },
   {
    "duration": 45,
    "start_time": "2022-02-15T06:47:03.599Z"
   },
   {
    "duration": 216,
    "start_time": "2022-02-15T06:47:03.646Z"
   },
   {
    "duration": 166,
    "start_time": "2022-02-15T06:47:03.864Z"
   },
   {
    "duration": 10,
    "start_time": "2022-02-15T06:47:04.032Z"
   },
   {
    "duration": 17,
    "start_time": "2022-02-15T06:47:04.043Z"
   },
   {
    "duration": 15,
    "start_time": "2022-02-15T06:47:04.072Z"
   },
   {
    "duration": 484,
    "start_time": "2022-02-15T06:47:04.088Z"
   },
   {
    "duration": 898,
    "start_time": "2022-02-15T06:47:04.573Z"
   },
   {
    "duration": 582,
    "start_time": "2022-02-15T06:47:05.473Z"
   },
   {
    "duration": 130,
    "start_time": "2022-02-15T06:47:06.057Z"
   },
   {
    "duration": 3,
    "start_time": "2022-02-15T06:47:06.189Z"
   },
   {
    "duration": 311,
    "start_time": "2022-02-15T06:47:06.194Z"
   },
   {
    "duration": 8,
    "start_time": "2022-02-15T06:47:06.507Z"
   },
   {
    "duration": 235,
    "start_time": "2022-02-15T06:47:06.516Z"
   },
   {
    "duration": 19,
    "start_time": "2022-02-15T06:47:06.752Z"
   },
   {
    "duration": 2531,
    "start_time": "2022-02-15T06:47:06.773Z"
   },
   {
    "duration": 135,
    "start_time": "2022-02-15T06:47:09.306Z"
   },
   {
    "duration": 44,
    "start_time": "2022-02-15T06:47:09.443Z"
   },
   {
    "duration": 28,
    "start_time": "2022-02-15T06:47:09.488Z"
   },
   {
    "duration": 20,
    "start_time": "2022-02-15T06:47:09.518Z"
   },
   {
    "duration": 4,
    "start_time": "2022-02-15T06:47:09.540Z"
   },
   {
    "duration": 157,
    "start_time": "2022-02-15T06:47:09.546Z"
   },
   {
    "duration": 32,
    "start_time": "2022-02-15T06:47:09.704Z"
   },
   {
    "duration": 8522,
    "start_time": "2022-02-15T06:47:09.737Z"
   },
   {
    "duration": -715,
    "start_time": "2022-02-15T06:47:18.976Z"
   },
   {
    "duration": -719,
    "start_time": "2022-02-15T06:47:18.982Z"
   },
   {
    "duration": -722,
    "start_time": "2022-02-15T06:47:18.986Z"
   },
   {
    "duration": -722,
    "start_time": "2022-02-15T06:47:18.988Z"
   },
   {
    "duration": -724,
    "start_time": "2022-02-15T06:47:18.991Z"
   },
   {
    "duration": -726,
    "start_time": "2022-02-15T06:47:18.994Z"
   },
   {
    "duration": -726,
    "start_time": "2022-02-15T06:47:18.996Z"
   },
   {
    "duration": -728,
    "start_time": "2022-02-15T06:47:18.999Z"
   },
   {
    "duration": -730,
    "start_time": "2022-02-15T06:47:19.002Z"
   },
   {
    "duration": -732,
    "start_time": "2022-02-15T06:47:19.006Z"
   },
   {
    "duration": -733,
    "start_time": "2022-02-15T06:47:19.008Z"
   },
   {
    "duration": -735,
    "start_time": "2022-02-15T06:47:19.011Z"
   },
   {
    "duration": -735,
    "start_time": "2022-02-15T06:47:19.013Z"
   },
   {
    "duration": -795,
    "start_time": "2022-02-15T06:47:19.074Z"
   },
   {
    "duration": -806,
    "start_time": "2022-02-15T06:47:19.087Z"
   },
   {
    "duration": -811,
    "start_time": "2022-02-15T06:47:19.093Z"
   },
   {
    "duration": -813,
    "start_time": "2022-02-15T06:47:19.097Z"
   },
   {
    "duration": 22,
    "start_time": "2022-02-15T06:50:08.559Z"
   },
   {
    "duration": 400,
    "start_time": "2022-02-15T06:51:45.160Z"
   },
   {
    "duration": 3185,
    "start_time": "2022-02-15T06:53:06.427Z"
   },
   {
    "duration": 628,
    "start_time": "2022-02-15T06:53:18.750Z"
   },
   {
    "duration": 597,
    "start_time": "2022-02-15T06:53:19.380Z"
   },
   {
    "duration": 50,
    "start_time": "2022-02-15T06:53:19.979Z"
   },
   {
    "duration": 7,
    "start_time": "2022-02-15T06:53:20.030Z"
   },
   {
    "duration": 7,
    "start_time": "2022-02-15T06:53:20.039Z"
   },
   {
    "duration": 279,
    "start_time": "2022-02-15T06:53:20.048Z"
   },
   {
    "duration": 13,
    "start_time": "2022-02-15T06:53:20.328Z"
   },
   {
    "duration": 5,
    "start_time": "2022-02-15T06:53:20.343Z"
   },
   {
    "duration": 44,
    "start_time": "2022-02-15T06:53:20.350Z"
   },
   {
    "duration": 4,
    "start_time": "2022-02-15T06:53:20.396Z"
   },
   {
    "duration": 4,
    "start_time": "2022-02-15T06:53:20.402Z"
   },
   {
    "duration": 110,
    "start_time": "2022-02-15T06:53:20.408Z"
   },
   {
    "duration": 10,
    "start_time": "2022-02-15T06:53:20.519Z"
   },
   {
    "duration": 5,
    "start_time": "2022-02-15T06:53:20.530Z"
   },
   {
    "duration": 47,
    "start_time": "2022-02-15T06:53:20.536Z"
   },
   {
    "duration": 24,
    "start_time": "2022-02-15T06:53:20.584Z"
   },
   {
    "duration": 161,
    "start_time": "2022-02-15T06:53:20.610Z"
   },
   {
    "duration": 2,
    "start_time": "2022-02-15T06:53:20.773Z"
   },
   {
    "duration": 16213,
    "start_time": "2022-02-15T06:53:20.776Z"
   },
   {
    "duration": 66,
    "start_time": "2022-02-15T06:53:36.990Z"
   },
   {
    "duration": 323,
    "start_time": "2022-02-15T06:53:37.057Z"
   },
   {
    "duration": 19,
    "start_time": "2022-02-15T06:53:37.382Z"
   },
   {
    "duration": 42,
    "start_time": "2022-02-15T06:53:37.404Z"
   },
   {
    "duration": 206,
    "start_time": "2022-02-15T06:53:37.448Z"
   },
   {
    "duration": 128,
    "start_time": "2022-02-15T06:53:37.656Z"
   },
   {
    "duration": 9,
    "start_time": "2022-02-15T06:53:37.785Z"
   },
   {
    "duration": 16,
    "start_time": "2022-02-15T06:53:37.796Z"
   },
   {
    "duration": 14,
    "start_time": "2022-02-15T06:53:37.813Z"
   },
   {
    "duration": 539,
    "start_time": "2022-02-15T06:53:37.829Z"
   },
   {
    "duration": 967,
    "start_time": "2022-02-15T06:53:38.372Z"
   },
   {
    "duration": 617,
    "start_time": "2022-02-15T06:53:39.341Z"
   },
   {
    "duration": 235,
    "start_time": "2022-02-15T06:53:39.960Z"
   },
   {
    "duration": 4,
    "start_time": "2022-02-15T06:53:40.196Z"
   },
   {
    "duration": 429,
    "start_time": "2022-02-15T06:53:40.201Z"
   },
   {
    "duration": 7,
    "start_time": "2022-02-15T06:53:40.631Z"
   },
   {
    "duration": 229,
    "start_time": "2022-02-15T06:53:40.640Z"
   },
   {
    "duration": 20,
    "start_time": "2022-02-15T06:53:40.871Z"
   },
   {
    "duration": 2753,
    "start_time": "2022-02-15T06:53:40.892Z"
   },
   {
    "duration": 140,
    "start_time": "2022-02-15T06:53:43.646Z"
   },
   {
    "duration": 32,
    "start_time": "2022-02-15T06:53:43.787Z"
   },
   {
    "duration": 28,
    "start_time": "2022-02-15T06:53:43.820Z"
   },
   {
    "duration": 41,
    "start_time": "2022-02-15T06:53:43.849Z"
   },
   {
    "duration": 3,
    "start_time": "2022-02-15T06:53:43.892Z"
   },
   {
    "duration": 140,
    "start_time": "2022-02-15T06:53:43.896Z"
   },
   {
    "duration": 34,
    "start_time": "2022-02-15T06:53:44.038Z"
   },
   {
    "duration": 3532,
    "start_time": "2022-02-15T06:53:44.074Z"
   },
   {
    "duration": -833,
    "start_time": "2022-02-15T06:53:48.441Z"
   },
   {
    "duration": -836,
    "start_time": "2022-02-15T06:53:48.445Z"
   },
   {
    "duration": -838,
    "start_time": "2022-02-15T06:53:48.448Z"
   },
   {
    "duration": -841,
    "start_time": "2022-02-15T06:53:48.452Z"
   },
   {
    "duration": -844,
    "start_time": "2022-02-15T06:53:48.456Z"
   },
   {
    "duration": -847,
    "start_time": "2022-02-15T06:53:48.459Z"
   },
   {
    "duration": -848,
    "start_time": "2022-02-15T06:53:48.461Z"
   },
   {
    "duration": -850,
    "start_time": "2022-02-15T06:53:48.464Z"
   },
   {
    "duration": -851,
    "start_time": "2022-02-15T06:53:48.466Z"
   },
   {
    "duration": -854,
    "start_time": "2022-02-15T06:53:48.470Z"
   },
   {
    "duration": -857,
    "start_time": "2022-02-15T06:53:48.473Z"
   },
   {
    "duration": -858,
    "start_time": "2022-02-15T06:53:48.475Z"
   },
   {
    "duration": -860,
    "start_time": "2022-02-15T06:53:48.478Z"
   },
   {
    "duration": -904,
    "start_time": "2022-02-15T06:53:48.523Z"
   },
   {
    "duration": -910,
    "start_time": "2022-02-15T06:53:48.530Z"
   },
   {
    "duration": -912,
    "start_time": "2022-02-15T06:53:48.533Z"
   },
   {
    "duration": -914,
    "start_time": "2022-02-15T06:53:48.535Z"
   },
   {
    "duration": -917,
    "start_time": "2022-02-15T06:53:48.539Z"
   },
   {
    "duration": 17,
    "start_time": "2022-02-15T06:54:10.412Z"
   },
   {
    "duration": 22,
    "start_time": "2022-02-15T06:54:51.699Z"
   },
   {
    "duration": 404,
    "start_time": "2022-02-15T07:00:05.181Z"
   },
   {
    "duration": 2956,
    "start_time": "2022-02-15T07:00:14.405Z"
   },
   {
    "duration": 3258,
    "start_time": "2022-02-15T07:00:36.859Z"
   },
   {
    "duration": 535,
    "start_time": "2022-02-15T19:46:01.371Z"
   },
   {
    "duration": 615,
    "start_time": "2022-02-15T19:46:01.908Z"
   },
   {
    "duration": 56,
    "start_time": "2022-02-15T19:46:02.525Z"
   },
   {
    "duration": 7,
    "start_time": "2022-02-15T19:46:02.583Z"
   },
   {
    "duration": 5,
    "start_time": "2022-02-15T19:46:02.592Z"
   },
   {
    "duration": 298,
    "start_time": "2022-02-15T19:46:02.599Z"
   },
   {
    "duration": 15,
    "start_time": "2022-02-15T19:46:02.899Z"
   },
   {
    "duration": 17,
    "start_time": "2022-02-15T19:46:02.915Z"
   },
   {
    "duration": 34,
    "start_time": "2022-02-15T19:46:02.934Z"
   },
   {
    "duration": 5,
    "start_time": "2022-02-15T19:46:02.970Z"
   },
   {
    "duration": 5,
    "start_time": "2022-02-15T19:46:02.977Z"
   },
   {
    "duration": 130,
    "start_time": "2022-02-15T19:46:02.983Z"
   },
   {
    "duration": 16,
    "start_time": "2022-02-15T19:46:03.115Z"
   },
   {
    "duration": 6,
    "start_time": "2022-02-15T19:46:03.133Z"
   },
   {
    "duration": 31,
    "start_time": "2022-02-15T19:46:03.140Z"
   },
   {
    "duration": 26,
    "start_time": "2022-02-15T19:46:03.174Z"
   },
   {
    "duration": 181,
    "start_time": "2022-02-15T19:46:03.201Z"
   },
   {
    "duration": 2,
    "start_time": "2022-02-15T19:46:03.384Z"
   },
   {
    "duration": 17115,
    "start_time": "2022-02-15T19:46:03.388Z"
   },
   {
    "duration": 77,
    "start_time": "2022-02-15T19:46:20.504Z"
   },
   {
    "duration": 351,
    "start_time": "2022-02-15T19:46:20.583Z"
   },
   {
    "duration": 19,
    "start_time": "2022-02-15T19:46:20.936Z"
   },
   {
    "duration": 46,
    "start_time": "2022-02-15T19:46:20.957Z"
   },
   {
    "duration": 243,
    "start_time": "2022-02-15T19:46:21.004Z"
   },
   {
    "duration": 162,
    "start_time": "2022-02-15T19:46:21.249Z"
   },
   {
    "duration": 18,
    "start_time": "2022-02-15T19:46:21.413Z"
   },
   {
    "duration": 14,
    "start_time": "2022-02-15T19:46:21.435Z"
   },
   {
    "duration": 15,
    "start_time": "2022-02-15T19:46:21.451Z"
   },
   {
    "duration": 562,
    "start_time": "2022-02-15T19:46:21.468Z"
   },
   {
    "duration": 939,
    "start_time": "2022-02-15T19:46:22.032Z"
   },
   {
    "duration": 567,
    "start_time": "2022-02-15T19:46:22.973Z"
   },
   {
    "duration": 162,
    "start_time": "2022-02-15T19:46:23.542Z"
   },
   {
    "duration": 4,
    "start_time": "2022-02-15T19:46:23.706Z"
   },
   {
    "duration": 332,
    "start_time": "2022-02-15T19:46:23.712Z"
   },
   {
    "duration": 9,
    "start_time": "2022-02-15T19:46:24.045Z"
   },
   {
    "duration": 284,
    "start_time": "2022-02-15T19:46:24.055Z"
   },
   {
    "duration": 19,
    "start_time": "2022-02-15T19:46:24.341Z"
   },
   {
    "duration": 2691,
    "start_time": "2022-02-15T19:46:24.361Z"
   },
   {
    "duration": 145,
    "start_time": "2022-02-15T19:46:27.053Z"
   },
   {
    "duration": 41,
    "start_time": "2022-02-15T19:46:27.199Z"
   },
   {
    "duration": 30,
    "start_time": "2022-02-15T19:46:27.242Z"
   },
   {
    "duration": 22,
    "start_time": "2022-02-15T19:46:27.274Z"
   },
   {
    "duration": 4,
    "start_time": "2022-02-15T19:46:27.297Z"
   },
   {
    "duration": 162,
    "start_time": "2022-02-15T19:46:27.302Z"
   },
   {
    "duration": 35,
    "start_time": "2022-02-15T19:46:27.466Z"
   },
   {
    "duration": 1888,
    "start_time": "2022-02-15T19:46:27.503Z"
   },
   {
    "duration": -2611,
    "start_time": "2022-02-15T19:46:32.004Z"
   },
   {
    "duration": -2614,
    "start_time": "2022-02-15T19:46:32.008Z"
   },
   {
    "duration": -2616,
    "start_time": "2022-02-15T19:46:32.011Z"
   },
   {
    "duration": -2617,
    "start_time": "2022-02-15T19:46:32.013Z"
   },
   {
    "duration": -2619,
    "start_time": "2022-02-15T19:46:32.016Z"
   },
   {
    "duration": -2621,
    "start_time": "2022-02-15T19:46:32.019Z"
   },
   {
    "duration": -2623,
    "start_time": "2022-02-15T19:46:32.022Z"
   },
   {
    "duration": -2714,
    "start_time": "2022-02-15T19:46:32.114Z"
   },
   {
    "duration": -2730,
    "start_time": "2022-02-15T19:46:32.131Z"
   },
   {
    "duration": -2731,
    "start_time": "2022-02-15T19:46:32.133Z"
   },
   {
    "duration": -2733,
    "start_time": "2022-02-15T19:46:32.136Z"
   },
   {
    "duration": -2735,
    "start_time": "2022-02-15T19:46:32.139Z"
   },
   {
    "duration": -2737,
    "start_time": "2022-02-15T19:46:32.142Z"
   },
   {
    "duration": -2740,
    "start_time": "2022-02-15T19:46:32.146Z"
   },
   {
    "duration": -2743,
    "start_time": "2022-02-15T19:46:32.150Z"
   },
   {
    "duration": -2746,
    "start_time": "2022-02-15T19:46:32.154Z"
   },
   {
    "duration": -2748,
    "start_time": "2022-02-15T19:46:32.157Z"
   },
   {
    "duration": -2750,
    "start_time": "2022-02-15T19:46:32.160Z"
   },
   {
    "duration": 665,
    "start_time": "2022-02-15T19:47:08.122Z"
   },
   {
    "duration": 598,
    "start_time": "2022-02-15T19:47:08.789Z"
   },
   {
    "duration": 50,
    "start_time": "2022-02-15T19:47:09.389Z"
   },
   {
    "duration": 8,
    "start_time": "2022-02-15T19:47:09.441Z"
   },
   {
    "duration": 7,
    "start_time": "2022-02-15T19:47:09.450Z"
   },
   {
    "duration": 306,
    "start_time": "2022-02-15T19:47:09.459Z"
   },
   {
    "duration": 13,
    "start_time": "2022-02-15T19:47:09.767Z"
   },
   {
    "duration": 10,
    "start_time": "2022-02-15T19:47:09.782Z"
   },
   {
    "duration": 46,
    "start_time": "2022-02-15T19:47:09.794Z"
   },
   {
    "duration": 5,
    "start_time": "2022-02-15T19:47:09.842Z"
   },
   {
    "duration": 6,
    "start_time": "2022-02-15T19:47:09.848Z"
   },
   {
    "duration": 117,
    "start_time": "2022-02-15T19:47:09.855Z"
   },
   {
    "duration": 11,
    "start_time": "2022-02-15T19:47:09.974Z"
   },
   {
    "duration": 5,
    "start_time": "2022-02-15T19:47:09.987Z"
   },
   {
    "duration": 76,
    "start_time": "2022-02-15T19:47:09.994Z"
   },
   {
    "duration": 40,
    "start_time": "2022-02-15T19:47:10.072Z"
   },
   {
    "duration": 319,
    "start_time": "2022-02-15T19:47:10.114Z"
   },
   {
    "duration": 3,
    "start_time": "2022-02-15T19:47:10.435Z"
   },
   {
    "duration": 34782,
    "start_time": "2022-02-15T19:47:10.440Z"
   },
   {
    "duration": 76,
    "start_time": "2022-02-15T19:47:45.229Z"
   },
   {
    "duration": 553,
    "start_time": "2022-02-15T19:47:45.307Z"
   },
   {
    "duration": 26,
    "start_time": "2022-02-15T19:47:45.862Z"
   },
   {
    "duration": 80,
    "start_time": "2022-02-15T19:47:45.893Z"
   },
   {
    "duration": 242,
    "start_time": "2022-02-15T19:47:45.976Z"
   },
   {
    "duration": 204,
    "start_time": "2022-02-15T19:47:46.220Z"
   },
   {
    "duration": 11,
    "start_time": "2022-02-15T19:47:46.426Z"
   },
   {
    "duration": 16,
    "start_time": "2022-02-15T19:47:46.439Z"
   },
   {
    "duration": 17,
    "start_time": "2022-02-15T19:47:46.456Z"
   },
   {
    "duration": 599,
    "start_time": "2022-02-15T19:47:46.474Z"
   },
   {
    "duration": 959,
    "start_time": "2022-02-15T19:47:47.075Z"
   },
   {
    "duration": 703,
    "start_time": "2022-02-15T19:47:48.036Z"
   },
   {
    "duration": 175,
    "start_time": "2022-02-15T19:47:48.740Z"
   },
   {
    "duration": 14,
    "start_time": "2022-02-15T19:47:48.917Z"
   },
   {
    "duration": 344,
    "start_time": "2022-02-15T19:47:48.933Z"
   },
   {
    "duration": 8,
    "start_time": "2022-02-15T19:47:49.279Z"
   },
   {
    "duration": 280,
    "start_time": "2022-02-15T19:47:49.289Z"
   },
   {
    "duration": 17,
    "start_time": "2022-02-15T19:47:49.571Z"
   },
   {
    "duration": 2817,
    "start_time": "2022-02-15T19:47:49.590Z"
   },
   {
    "duration": 160,
    "start_time": "2022-02-15T19:47:52.408Z"
   },
   {
    "duration": 66,
    "start_time": "2022-02-15T19:47:52.570Z"
   },
   {
    "duration": 57,
    "start_time": "2022-02-15T19:47:52.638Z"
   },
   {
    "duration": 41,
    "start_time": "2022-02-15T19:47:52.697Z"
   },
   {
    "duration": 5,
    "start_time": "2022-02-15T19:47:52.741Z"
   },
   {
    "duration": 170,
    "start_time": "2022-02-15T19:47:52.748Z"
   },
   {
    "duration": 45,
    "start_time": "2022-02-15T19:47:52.920Z"
   },
   {
    "duration": 2024,
    "start_time": "2022-02-15T19:47:52.967Z"
   },
   {
    "duration": -2100,
    "start_time": "2022-02-15T19:47:57.094Z"
   },
   {
    "duration": -2105,
    "start_time": "2022-02-15T19:47:57.100Z"
   },
   {
    "duration": -2109,
    "start_time": "2022-02-15T19:47:57.105Z"
   },
   {
    "duration": -2112,
    "start_time": "2022-02-15T19:47:57.110Z"
   },
   {
    "duration": -2115,
    "start_time": "2022-02-15T19:47:57.114Z"
   },
   {
    "duration": -2119,
    "start_time": "2022-02-15T19:47:57.119Z"
   },
   {
    "duration": -2121,
    "start_time": "2022-02-15T19:47:57.123Z"
   },
   {
    "duration": -2125,
    "start_time": "2022-02-15T19:47:57.128Z"
   },
   {
    "duration": -2127,
    "start_time": "2022-02-15T19:47:57.132Z"
   },
   {
    "duration": -2130,
    "start_time": "2022-02-15T19:47:57.136Z"
   },
   {
    "duration": -2133,
    "start_time": "2022-02-15T19:47:57.140Z"
   },
   {
    "duration": -2136,
    "start_time": "2022-02-15T19:47:57.145Z"
   },
   {
    "duration": -2139,
    "start_time": "2022-02-15T19:47:57.149Z"
   },
   {
    "duration": -2196,
    "start_time": "2022-02-15T19:47:57.208Z"
   },
   {
    "duration": -2200,
    "start_time": "2022-02-15T19:47:57.213Z"
   },
   {
    "duration": -2204,
    "start_time": "2022-02-15T19:47:57.219Z"
   },
   {
    "duration": -2208,
    "start_time": "2022-02-15T19:47:57.224Z"
   },
   {
    "duration": -2210,
    "start_time": "2022-02-15T19:47:57.229Z"
   },
   {
    "duration": 210,
    "start_time": "2022-02-15T19:51:44.799Z"
   },
   {
    "duration": 366,
    "start_time": "2022-02-15T19:52:30.216Z"
   },
   {
    "duration": 454,
    "start_time": "2022-02-15T19:52:43.819Z"
   },
   {
    "duration": 572,
    "start_time": "2022-02-15T19:53:34.960Z"
   },
   {
    "duration": 412,
    "start_time": "2022-02-15T19:54:11.064Z"
   },
   {
    "duration": 1835,
    "start_time": "2022-02-15T19:54:52.364Z"
   },
   {
    "duration": 38,
    "start_time": "2022-02-15T19:57:18.133Z"
   },
   {
    "duration": 17,
    "start_time": "2022-02-15T19:58:27.015Z"
   },
   {
    "duration": 244,
    "start_time": "2022-02-15T19:59:09.627Z"
   },
   {
    "duration": 221,
    "start_time": "2022-02-15T20:01:27.433Z"
   },
   {
    "duration": 1815,
    "start_time": "2022-02-15T20:01:38.101Z"
   },
   {
    "duration": 317,
    "start_time": "2022-02-15T20:02:08.647Z"
   },
   {
    "duration": 316,
    "start_time": "2022-02-15T20:02:19.726Z"
   },
   {
    "duration": 209,
    "start_time": "2022-02-15T20:02:37.605Z"
   },
   {
    "duration": 1540,
    "start_time": "2022-02-15T20:03:05.800Z"
   },
   {
    "duration": 173,
    "start_time": "2022-02-15T20:04:03.555Z"
   },
   {
    "duration": 179,
    "start_time": "2022-02-15T20:04:21.680Z"
   },
   {
    "duration": 177,
    "start_time": "2022-02-15T20:04:28.338Z"
   },
   {
    "duration": 1653,
    "start_time": "2022-02-15T20:04:50.749Z"
   },
   {
    "duration": 282,
    "start_time": "2022-02-15T20:10:59.778Z"
   },
   {
    "duration": 232,
    "start_time": "2022-02-15T20:11:18.613Z"
   },
   {
    "duration": 579,
    "start_time": "2022-02-15T20:12:39.918Z"
   },
   {
    "duration": 582,
    "start_time": "2022-02-15T20:12:40.499Z"
   },
   {
    "duration": 54,
    "start_time": "2022-02-15T20:12:41.083Z"
   },
   {
    "duration": 9,
    "start_time": "2022-02-15T20:12:41.139Z"
   },
   {
    "duration": 6,
    "start_time": "2022-02-15T20:12:41.149Z"
   },
   {
    "duration": 300,
    "start_time": "2022-02-15T20:12:41.157Z"
   },
   {
    "duration": 14,
    "start_time": "2022-02-15T20:12:41.459Z"
   },
   {
    "duration": 6,
    "start_time": "2022-02-15T20:12:41.475Z"
   },
   {
    "duration": 48,
    "start_time": "2022-02-15T20:12:41.483Z"
   },
   {
    "duration": 6,
    "start_time": "2022-02-15T20:12:41.532Z"
   },
   {
    "duration": 5,
    "start_time": "2022-02-15T20:12:41.539Z"
   },
   {
    "duration": 119,
    "start_time": "2022-02-15T20:12:41.546Z"
   },
   {
    "duration": 10,
    "start_time": "2022-02-15T20:12:41.667Z"
   },
   {
    "duration": 6,
    "start_time": "2022-02-15T20:12:41.679Z"
   },
   {
    "duration": 57,
    "start_time": "2022-02-15T20:12:41.687Z"
   },
   {
    "duration": 27,
    "start_time": "2022-02-15T20:12:41.746Z"
   },
   {
    "duration": 180,
    "start_time": "2022-02-15T20:12:41.775Z"
   },
   {
    "duration": 2,
    "start_time": "2022-02-15T20:12:41.957Z"
   },
   {
    "duration": 17106,
    "start_time": "2022-02-15T20:12:41.960Z"
   },
   {
    "duration": 82,
    "start_time": "2022-02-15T20:12:59.068Z"
   },
   {
    "duration": 373,
    "start_time": "2022-02-15T20:12:59.151Z"
   },
   {
    "duration": 21,
    "start_time": "2022-02-15T20:12:59.526Z"
   },
   {
    "duration": 48,
    "start_time": "2022-02-15T20:12:59.550Z"
   },
   {
    "duration": 252,
    "start_time": "2022-02-15T20:12:59.600Z"
   },
   {
    "duration": 140,
    "start_time": "2022-02-15T20:12:59.854Z"
   },
   {
    "duration": 9,
    "start_time": "2022-02-15T20:12:59.996Z"
   },
   {
    "duration": 32,
    "start_time": "2022-02-15T20:13:00.007Z"
   },
   {
    "duration": 16,
    "start_time": "2022-02-15T20:13:00.041Z"
   },
   {
    "duration": 496,
    "start_time": "2022-02-15T20:13:00.059Z"
   },
   {
    "duration": 930,
    "start_time": "2022-02-15T20:13:00.557Z"
   },
   {
    "duration": 620,
    "start_time": "2022-02-15T20:13:01.489Z"
   },
   {
    "duration": 165,
    "start_time": "2022-02-15T20:13:02.111Z"
   },
   {
    "duration": 4,
    "start_time": "2022-02-15T20:13:02.278Z"
   },
   {
    "duration": 333,
    "start_time": "2022-02-15T20:13:02.284Z"
   },
   {
    "duration": 17,
    "start_time": "2022-02-15T20:13:02.618Z"
   },
   {
    "duration": 282,
    "start_time": "2022-02-15T20:13:02.637Z"
   },
   {
    "duration": 17,
    "start_time": "2022-02-15T20:13:02.920Z"
   },
   {
    "duration": 2635,
    "start_time": "2022-02-15T20:13:02.939Z"
   },
   {
    "duration": 146,
    "start_time": "2022-02-15T20:13:05.575Z"
   },
   {
    "duration": 35,
    "start_time": "2022-02-15T20:13:05.723Z"
   },
   {
    "duration": 28,
    "start_time": "2022-02-15T20:13:05.760Z"
   },
   {
    "duration": 21,
    "start_time": "2022-02-15T20:13:05.790Z"
   },
   {
    "duration": 3,
    "start_time": "2022-02-15T20:13:05.830Z"
   },
   {
    "duration": 146,
    "start_time": "2022-02-15T20:13:05.835Z"
   },
   {
    "duration": 32,
    "start_time": "2022-02-15T20:13:05.983Z"
   },
   {
    "duration": 361,
    "start_time": "2022-02-15T20:13:06.017Z"
   },
   {
    "duration": -1911,
    "start_time": "2022-02-15T20:13:08.291Z"
   },
   {
    "duration": -1915,
    "start_time": "2022-02-15T20:13:08.296Z"
   },
   {
    "duration": -1919,
    "start_time": "2022-02-15T20:13:08.301Z"
   },
   {
    "duration": -1923,
    "start_time": "2022-02-15T20:13:08.306Z"
   },
   {
    "duration": -1927,
    "start_time": "2022-02-15T20:13:08.311Z"
   },
   {
    "duration": -1931,
    "start_time": "2022-02-15T20:13:08.316Z"
   },
   {
    "duration": -1934,
    "start_time": "2022-02-15T20:13:08.320Z"
   },
   {
    "duration": -1937,
    "start_time": "2022-02-15T20:13:08.324Z"
   },
   {
    "duration": -1939,
    "start_time": "2022-02-15T20:13:08.327Z"
   },
   {
    "duration": -1941,
    "start_time": "2022-02-15T20:13:08.330Z"
   },
   {
    "duration": -1942,
    "start_time": "2022-02-15T20:13:08.332Z"
   },
   {
    "duration": -1944,
    "start_time": "2022-02-15T20:13:08.335Z"
   },
   {
    "duration": -1946,
    "start_time": "2022-02-15T20:13:08.338Z"
   },
   {
    "duration": -1947,
    "start_time": "2022-02-15T20:13:08.340Z"
   },
   {
    "duration": -1986,
    "start_time": "2022-02-15T20:13:08.380Z"
   },
   {
    "duration": -1992,
    "start_time": "2022-02-15T20:13:08.387Z"
   },
   {
    "duration": -1995,
    "start_time": "2022-02-15T20:13:08.391Z"
   },
   {
    "duration": -2007,
    "start_time": "2022-02-15T20:13:08.404Z"
   },
   {
    "duration": 9883,
    "start_time": "2022-02-15T20:14:30.227Z"
   },
   {
    "duration": 188,
    "start_time": "2022-02-15T20:14:50.236Z"
   },
   {
    "duration": 1618,
    "start_time": "2022-02-15T20:15:21.275Z"
   },
   {
    "duration": 2101,
    "start_time": "2022-02-15T20:16:41.361Z"
   },
   {
    "duration": 2195,
    "start_time": "2022-02-15T20:18:02.615Z"
   },
   {
    "duration": 1758,
    "start_time": "2022-02-15T20:18:45.787Z"
   },
   {
    "duration": 1618,
    "start_time": "2022-02-15T20:20:57.968Z"
   },
   {
    "duration": 757,
    "start_time": "2022-02-15T21:25:40.104Z"
   },
   {
    "duration": 893,
    "start_time": "2022-02-15T21:25:40.864Z"
   },
   {
    "duration": 53,
    "start_time": "2022-02-15T21:25:41.759Z"
   },
   {
    "duration": 8,
    "start_time": "2022-02-15T21:25:41.814Z"
   },
   {
    "duration": 10,
    "start_time": "2022-02-15T21:25:41.823Z"
   },
   {
    "duration": 295,
    "start_time": "2022-02-15T21:25:41.835Z"
   },
   {
    "duration": 15,
    "start_time": "2022-02-15T21:25:42.132Z"
   },
   {
    "duration": 6,
    "start_time": "2022-02-15T21:25:42.149Z"
   },
   {
    "duration": 37,
    "start_time": "2022-02-15T21:25:42.157Z"
   },
   {
    "duration": 6,
    "start_time": "2022-02-15T21:25:42.196Z"
   },
   {
    "duration": 28,
    "start_time": "2022-02-15T21:25:42.204Z"
   },
   {
    "duration": 120,
    "start_time": "2022-02-15T21:25:42.233Z"
   },
   {
    "duration": 11,
    "start_time": "2022-02-15T21:25:42.355Z"
   },
   {
    "duration": 7,
    "start_time": "2022-02-15T21:25:42.368Z"
   },
   {
    "duration": 57,
    "start_time": "2022-02-15T21:25:42.377Z"
   },
   {
    "duration": 28,
    "start_time": "2022-02-15T21:25:42.436Z"
   },
   {
    "duration": 173,
    "start_time": "2022-02-15T21:25:42.465Z"
   },
   {
    "duration": 2,
    "start_time": "2022-02-15T21:25:42.640Z"
   },
   {
    "duration": 788,
    "start_time": "2022-02-15T21:27:56.404Z"
   },
   {
    "duration": 909,
    "start_time": "2022-02-15T21:27:57.194Z"
   },
   {
    "duration": 102,
    "start_time": "2022-02-15T21:27:58.106Z"
   },
   {
    "duration": 19,
    "start_time": "2022-02-15T21:27:58.211Z"
   },
   {
    "duration": 8,
    "start_time": "2022-02-15T21:27:58.232Z"
   },
   {
    "duration": 448,
    "start_time": "2022-02-15T21:27:58.242Z"
   },
   {
    "duration": 22,
    "start_time": "2022-02-15T21:27:58.692Z"
   },
   {
    "duration": 6,
    "start_time": "2022-02-15T21:27:58.730Z"
   },
   {
    "duration": 36,
    "start_time": "2022-02-15T21:27:58.738Z"
   },
   {
    "duration": 5,
    "start_time": "2022-02-15T21:27:58.776Z"
   },
   {
    "duration": 5,
    "start_time": "2022-02-15T21:27:58.783Z"
   },
   {
    "duration": 126,
    "start_time": "2022-02-15T21:27:58.789Z"
   },
   {
    "duration": 19,
    "start_time": "2022-02-15T21:27:58.917Z"
   },
   {
    "duration": 5,
    "start_time": "2022-02-15T21:27:58.938Z"
   },
   {
    "duration": 30,
    "start_time": "2022-02-15T21:27:58.945Z"
   },
   {
    "duration": 27,
    "start_time": "2022-02-15T21:27:58.977Z"
   },
   {
    "duration": 185,
    "start_time": "2022-02-15T21:27:59.006Z"
   },
   {
    "duration": 3,
    "start_time": "2022-02-15T21:27:59.193Z"
   },
   {
    "duration": 16899,
    "start_time": "2022-02-15T21:27:59.198Z"
   },
   {
    "duration": 78,
    "start_time": "2022-02-15T21:28:16.099Z"
   },
   {
    "duration": 352,
    "start_time": "2022-02-15T21:28:16.178Z"
   },
   {
    "duration": 20,
    "start_time": "2022-02-15T21:28:16.532Z"
   },
   {
    "duration": 44,
    "start_time": "2022-02-15T21:28:16.555Z"
   },
   {
    "duration": 249,
    "start_time": "2022-02-15T21:28:16.602Z"
   },
   {
    "duration": 135,
    "start_time": "2022-02-15T21:28:16.852Z"
   },
   {
    "duration": 10,
    "start_time": "2022-02-15T21:28:16.988Z"
   },
   {
    "duration": 32,
    "start_time": "2022-02-15T21:28:16.999Z"
   },
   {
    "duration": 17,
    "start_time": "2022-02-15T21:28:17.032Z"
   },
   {
    "duration": 527,
    "start_time": "2022-02-15T21:28:17.050Z"
   },
   {
    "duration": 906,
    "start_time": "2022-02-15T21:28:17.579Z"
   },
   {
    "duration": 626,
    "start_time": "2022-02-15T21:28:18.486Z"
   },
   {
    "duration": 163,
    "start_time": "2022-02-15T21:28:19.114Z"
   },
   {
    "duration": 4,
    "start_time": "2022-02-15T21:28:19.279Z"
   },
   {
    "duration": 335,
    "start_time": "2022-02-15T21:28:19.285Z"
   },
   {
    "duration": 11,
    "start_time": "2022-02-15T21:28:19.622Z"
   },
   {
    "duration": 439,
    "start_time": "2022-02-15T21:28:19.635Z"
   },
   {
    "duration": 32,
    "start_time": "2022-02-15T21:28:20.077Z"
   },
   {
    "duration": 5048,
    "start_time": "2022-02-15T21:28:20.111Z"
   },
   {
    "duration": 247,
    "start_time": "2022-02-15T21:28:25.162Z"
   },
   {
    "duration": 58,
    "start_time": "2022-02-15T21:28:25.412Z"
   },
   {
    "duration": 33,
    "start_time": "2022-02-15T21:28:25.472Z"
   },
   {
    "duration": 39,
    "start_time": "2022-02-15T21:28:25.507Z"
   },
   {
    "duration": 4,
    "start_time": "2022-02-15T21:28:25.548Z"
   },
   {
    "duration": 149,
    "start_time": "2022-02-15T21:28:25.554Z"
   },
   {
    "duration": 38,
    "start_time": "2022-02-15T21:28:25.705Z"
   },
   {
    "duration": 347,
    "start_time": "2022-02-15T21:28:25.745Z"
   },
   {
    "duration": -2261,
    "start_time": "2022-02-15T21:28:28.354Z"
   },
   {
    "duration": -2263,
    "start_time": "2022-02-15T21:28:28.358Z"
   },
   {
    "duration": -2267,
    "start_time": "2022-02-15T21:28:28.362Z"
   },
   {
    "duration": -2271,
    "start_time": "2022-02-15T21:28:28.367Z"
   },
   {
    "duration": -2276,
    "start_time": "2022-02-15T21:28:28.373Z"
   },
   {
    "duration": -2278,
    "start_time": "2022-02-15T21:28:28.376Z"
   },
   {
    "duration": -2281,
    "start_time": "2022-02-15T21:28:28.380Z"
   },
   {
    "duration": -2293,
    "start_time": "2022-02-15T21:28:28.393Z"
   },
   {
    "duration": -2296,
    "start_time": "2022-02-15T21:28:28.397Z"
   },
   {
    "duration": -2350,
    "start_time": "2022-02-15T21:28:28.452Z"
   },
   {
    "duration": -2362,
    "start_time": "2022-02-15T21:28:28.465Z"
   },
   {
    "duration": -2367,
    "start_time": "2022-02-15T21:28:28.470Z"
   },
   {
    "duration": -2374,
    "start_time": "2022-02-15T21:28:28.478Z"
   },
   {
    "duration": -2379,
    "start_time": "2022-02-15T21:28:28.484Z"
   },
   {
    "duration": -2384,
    "start_time": "2022-02-15T21:28:28.490Z"
   },
   {
    "duration": -2388,
    "start_time": "2022-02-15T21:28:28.495Z"
   },
   {
    "duration": -2392,
    "start_time": "2022-02-15T21:28:28.499Z"
   },
   {
    "duration": -2396,
    "start_time": "2022-02-15T21:28:28.504Z"
   },
   {
    "duration": 174,
    "start_time": "2022-02-15T21:29:14.379Z"
   },
   {
    "duration": 583,
    "start_time": "2022-02-15T21:29:21.213Z"
   },
   {
    "duration": 620,
    "start_time": "2022-02-15T21:29:21.798Z"
   },
   {
    "duration": 54,
    "start_time": "2022-02-15T21:29:22.420Z"
   },
   {
    "duration": 8,
    "start_time": "2022-02-15T21:29:22.476Z"
   },
   {
    "duration": 6,
    "start_time": "2022-02-15T21:29:22.486Z"
   },
   {
    "duration": 330,
    "start_time": "2022-02-15T21:29:22.494Z"
   },
   {
    "duration": 16,
    "start_time": "2022-02-15T21:29:22.826Z"
   },
   {
    "duration": 6,
    "start_time": "2022-02-15T21:29:22.844Z"
   },
   {
    "duration": 44,
    "start_time": "2022-02-15T21:29:22.852Z"
   },
   {
    "duration": 6,
    "start_time": "2022-02-15T21:29:22.898Z"
   },
   {
    "duration": 29,
    "start_time": "2022-02-15T21:29:22.905Z"
   },
   {
    "duration": 117,
    "start_time": "2022-02-15T21:29:22.936Z"
   },
   {
    "duration": 12,
    "start_time": "2022-02-15T21:29:23.055Z"
   },
   {
    "duration": 7,
    "start_time": "2022-02-15T21:29:23.068Z"
   },
   {
    "duration": 71,
    "start_time": "2022-02-15T21:29:23.077Z"
   },
   {
    "duration": 26,
    "start_time": "2022-02-15T21:29:23.150Z"
   },
   {
    "duration": 178,
    "start_time": "2022-02-15T21:29:23.179Z"
   },
   {
    "duration": 3,
    "start_time": "2022-02-15T21:29:23.359Z"
   },
   {
    "duration": 17198,
    "start_time": "2022-02-15T21:29:23.364Z"
   },
   {
    "duration": 77,
    "start_time": "2022-02-15T21:29:40.564Z"
   },
   {
    "duration": 363,
    "start_time": "2022-02-15T21:29:40.643Z"
   },
   {
    "duration": 29,
    "start_time": "2022-02-15T21:29:41.008Z"
   },
   {
    "duration": 50,
    "start_time": "2022-02-15T21:29:41.041Z"
   },
   {
    "duration": 248,
    "start_time": "2022-02-15T21:29:41.093Z"
   },
   {
    "duration": 139,
    "start_time": "2022-02-15T21:29:41.343Z"
   },
   {
    "duration": 8,
    "start_time": "2022-02-15T21:29:41.484Z"
   },
   {
    "duration": 16,
    "start_time": "2022-02-15T21:29:41.494Z"
   },
   {
    "duration": 32,
    "start_time": "2022-02-15T21:29:41.512Z"
   },
   {
    "duration": 500,
    "start_time": "2022-02-15T21:29:41.546Z"
   },
   {
    "duration": 951,
    "start_time": "2022-02-15T21:29:42.048Z"
   },
   {
    "duration": 824,
    "start_time": "2022-02-15T21:29:43.001Z"
   },
   {
    "duration": 286,
    "start_time": "2022-02-15T21:29:43.828Z"
   },
   {
    "duration": 5,
    "start_time": "2022-02-15T21:29:44.116Z"
   },
   {
    "duration": 341,
    "start_time": "2022-02-15T21:29:44.131Z"
   },
   {
    "duration": 8,
    "start_time": "2022-02-15T21:29:44.474Z"
   },
   {
    "duration": 324,
    "start_time": "2022-02-15T21:29:44.484Z"
   },
   {
    "duration": 22,
    "start_time": "2022-02-15T21:29:44.810Z"
   },
   {
    "duration": 2758,
    "start_time": "2022-02-15T21:29:44.834Z"
   },
   {
    "duration": 148,
    "start_time": "2022-02-15T21:29:47.593Z"
   },
   {
    "duration": 33,
    "start_time": "2022-02-15T21:29:47.743Z"
   },
   {
    "duration": 29,
    "start_time": "2022-02-15T21:29:47.778Z"
   },
   {
    "duration": 38,
    "start_time": "2022-02-15T21:29:47.808Z"
   },
   {
    "duration": 4,
    "start_time": "2022-02-15T21:29:47.848Z"
   },
   {
    "duration": 157,
    "start_time": "2022-02-15T21:29:47.854Z"
   },
   {
    "duration": 43,
    "start_time": "2022-02-15T21:29:48.013Z"
   },
   {
    "duration": 350,
    "start_time": "2022-02-15T21:29:48.070Z"
   },
   {
    "duration": -2254,
    "start_time": "2022-02-15T21:29:50.676Z"
   },
   {
    "duration": -2261,
    "start_time": "2022-02-15T21:29:50.684Z"
   },
   {
    "duration": -2341,
    "start_time": "2022-02-15T21:29:50.765Z"
   },
   {
    "duration": -2362,
    "start_time": "2022-02-15T21:29:50.788Z"
   },
   {
    "duration": -2368,
    "start_time": "2022-02-15T21:29:50.795Z"
   },
   {
    "duration": -2372,
    "start_time": "2022-02-15T21:29:50.800Z"
   },
   {
    "duration": -2375,
    "start_time": "2022-02-15T21:29:50.804Z"
   },
   {
    "duration": -2378,
    "start_time": "2022-02-15T21:29:50.808Z"
   },
   {
    "duration": -2381,
    "start_time": "2022-02-15T21:29:50.812Z"
   },
   {
    "duration": -2385,
    "start_time": "2022-02-15T21:29:50.817Z"
   },
   {
    "duration": -2388,
    "start_time": "2022-02-15T21:29:50.821Z"
   },
   {
    "duration": -2392,
    "start_time": "2022-02-15T21:29:50.826Z"
   },
   {
    "duration": -2395,
    "start_time": "2022-02-15T21:29:50.830Z"
   },
   {
    "duration": -2399,
    "start_time": "2022-02-15T21:29:50.835Z"
   },
   {
    "duration": -2402,
    "start_time": "2022-02-15T21:29:50.839Z"
   },
   {
    "duration": -2405,
    "start_time": "2022-02-15T21:29:50.843Z"
   },
   {
    "duration": -2408,
    "start_time": "2022-02-15T21:29:50.847Z"
   },
   {
    "duration": -2412,
    "start_time": "2022-02-15T21:29:50.852Z"
   },
   {
    "duration": 167,
    "start_time": "2022-02-15T21:29:57.786Z"
   },
   {
    "duration": 17,
    "start_time": "2022-02-15T21:32:50.112Z"
   },
   {
    "duration": 598,
    "start_time": "2022-02-15T21:35:29.488Z"
   },
   {
    "duration": 1776,
    "start_time": "2022-02-15T21:36:10.050Z"
   },
   {
    "duration": 564,
    "start_time": "2022-02-15T21:36:23.392Z"
   },
   {
    "duration": 239,
    "start_time": "2022-02-15T21:37:26.616Z"
   },
   {
    "duration": 22,
    "start_time": "2022-02-15T21:37:51.652Z"
   },
   {
    "duration": 27,
    "start_time": "2022-02-15T21:38:07.830Z"
   },
   {
    "duration": 176,
    "start_time": "2022-02-15T21:38:40.080Z"
   },
   {
    "duration": 207,
    "start_time": "2022-02-15T21:39:00.328Z"
   },
   {
    "duration": 200,
    "start_time": "2022-02-15T21:39:12.931Z"
   },
   {
    "duration": 193,
    "start_time": "2022-02-15T21:39:26.443Z"
   },
   {
    "duration": 3319,
    "start_time": "2022-02-15T21:39:55.867Z"
   },
   {
    "duration": 177,
    "start_time": "2022-02-15T21:40:50.347Z"
   },
   {
    "duration": 5,
    "start_time": "2022-02-15T21:42:18.434Z"
   },
   {
    "duration": 17,
    "start_time": "2022-02-15T21:43:01.905Z"
   },
   {
    "duration": 4177,
    "start_time": "2022-02-15T21:44:42.949Z"
   },
   {
    "duration": 5,
    "start_time": "2022-02-15T21:45:11.624Z"
   },
   {
    "duration": 4430,
    "start_time": "2022-02-15T21:46:02.525Z"
   },
   {
    "duration": 210,
    "start_time": "2022-02-15T21:46:32.811Z"
   },
   {
    "duration": 35,
    "start_time": "2022-02-15T21:46:49.789Z"
   },
   {
    "duration": 210,
    "start_time": "2022-02-15T21:47:15.177Z"
   },
   {
    "duration": 48,
    "start_time": "2022-02-15T21:47:33.850Z"
   },
   {
    "duration": 193,
    "start_time": "2022-02-15T21:48:33.994Z"
   },
   {
    "duration": 36,
    "start_time": "2022-02-15T21:48:41.872Z"
   },
   {
    "duration": 33,
    "start_time": "2022-02-15T21:49:32.200Z"
   },
   {
    "duration": 399,
    "start_time": "2022-02-15T21:49:49.758Z"
   },
   {
    "duration": 4557,
    "start_time": "2022-02-15T21:55:45.064Z"
   },
   {
    "duration": 17,
    "start_time": "2022-02-15T21:56:07.211Z"
   },
   {
    "duration": 33,
    "start_time": "2022-02-15T21:56:20.826Z"
   },
   {
    "duration": 21,
    "start_time": "2022-02-15T21:57:25.181Z"
   },
   {
    "duration": 4270,
    "start_time": "2022-02-15T21:57:39.062Z"
   },
   {
    "duration": 459,
    "start_time": "2022-02-15T21:58:04.676Z"
   },
   {
    "duration": 411,
    "start_time": "2022-02-15T21:59:20.110Z"
   },
   {
    "duration": 453,
    "start_time": "2022-02-15T21:59:45.685Z"
   },
   {
    "duration": 215,
    "start_time": "2022-02-15T22:02:12.557Z"
   },
   {
    "duration": 32,
    "start_time": "2022-02-15T22:02:49.786Z"
   },
   {
    "duration": 2002,
    "start_time": "2022-02-15T22:03:58.590Z"
   },
   {
    "duration": 285,
    "start_time": "2022-02-15T22:04:18.387Z"
   },
   {
    "duration": 4442,
    "start_time": "2022-02-15T22:08:07.891Z"
   },
   {
    "duration": 4703,
    "start_time": "2022-02-15T22:08:18.936Z"
   },
   {
    "duration": 1515,
    "start_time": "2022-02-15T22:08:45.648Z"
   },
   {
    "duration": 4578,
    "start_time": "2022-02-15T22:09:00.861Z"
   },
   {
    "duration": 390,
    "start_time": "2022-02-15T22:09:14.565Z"
   },
   {
    "duration": 494,
    "start_time": "2022-02-15T22:09:34.033Z"
   },
   {
    "duration": 629,
    "start_time": "2022-02-15T22:11:36.683Z"
   },
   {
    "duration": 583,
    "start_time": "2022-02-15T22:11:52.917Z"
   },
   {
    "duration": 560,
    "start_time": "2022-02-15T22:12:21.538Z"
   },
   {
    "duration": 576,
    "start_time": "2022-02-15T22:12:43.611Z"
   },
   {
    "duration": 571,
    "start_time": "2022-02-15T22:12:57.069Z"
   },
   {
    "duration": 554,
    "start_time": "2022-02-15T22:13:16.023Z"
   },
   {
    "duration": 407,
    "start_time": "2022-02-15T22:14:05.047Z"
   },
   {
    "duration": 493,
    "start_time": "2022-02-15T22:15:20.409Z"
   },
   {
    "duration": 582,
    "start_time": "2022-02-15T22:29:07.129Z"
   },
   {
    "duration": 578,
    "start_time": "2022-02-15T22:29:07.713Z"
   },
   {
    "duration": 51,
    "start_time": "2022-02-15T22:29:08.293Z"
   },
   {
    "duration": 8,
    "start_time": "2022-02-15T22:29:08.346Z"
   },
   {
    "duration": 5,
    "start_time": "2022-02-15T22:29:08.356Z"
   },
   {
    "duration": 315,
    "start_time": "2022-02-15T22:29:08.363Z"
   },
   {
    "duration": 13,
    "start_time": "2022-02-15T22:29:08.680Z"
   },
   {
    "duration": 10,
    "start_time": "2022-02-15T22:29:08.695Z"
   },
   {
    "duration": 42,
    "start_time": "2022-02-15T22:29:08.707Z"
   },
   {
    "duration": 5,
    "start_time": "2022-02-15T22:29:08.751Z"
   },
   {
    "duration": 5,
    "start_time": "2022-02-15T22:29:08.757Z"
   },
   {
    "duration": 111,
    "start_time": "2022-02-15T22:29:08.763Z"
   },
   {
    "duration": 10,
    "start_time": "2022-02-15T22:29:08.876Z"
   },
   {
    "duration": 4,
    "start_time": "2022-02-15T22:29:08.888Z"
   },
   {
    "duration": 52,
    "start_time": "2022-02-15T22:29:08.894Z"
   },
   {
    "duration": 26,
    "start_time": "2022-02-15T22:29:08.947Z"
   },
   {
    "duration": 169,
    "start_time": "2022-02-15T22:29:08.975Z"
   },
   {
    "duration": 2,
    "start_time": "2022-02-15T22:29:09.146Z"
   },
   {
    "duration": 16445,
    "start_time": "2022-02-15T22:29:09.150Z"
   },
   {
    "duration": 76,
    "start_time": "2022-02-15T22:29:25.596Z"
   },
   {
    "duration": 357,
    "start_time": "2022-02-15T22:29:25.673Z"
   },
   {
    "duration": 20,
    "start_time": "2022-02-15T22:29:26.032Z"
   },
   {
    "duration": 49,
    "start_time": "2022-02-15T22:29:26.057Z"
   },
   {
    "duration": 251,
    "start_time": "2022-02-15T22:29:26.109Z"
   },
   {
    "duration": 136,
    "start_time": "2022-02-15T22:29:26.362Z"
   },
   {
    "duration": 8,
    "start_time": "2022-02-15T22:29:26.500Z"
   },
   {
    "duration": 28,
    "start_time": "2022-02-15T22:29:26.509Z"
   },
   {
    "duration": 14,
    "start_time": "2022-02-15T22:29:26.539Z"
   },
   {
    "duration": 531,
    "start_time": "2022-02-15T22:29:26.555Z"
   },
   {
    "duration": 922,
    "start_time": "2022-02-15T22:29:27.088Z"
   },
   {
    "duration": 598,
    "start_time": "2022-02-15T22:29:28.011Z"
   },
   {
    "duration": 173,
    "start_time": "2022-02-15T22:29:28.611Z"
   },
   {
    "duration": 4,
    "start_time": "2022-02-15T22:29:28.786Z"
   },
   {
    "duration": 340,
    "start_time": "2022-02-15T22:29:28.792Z"
   },
   {
    "duration": 7,
    "start_time": "2022-02-15T22:29:29.134Z"
   },
   {
    "duration": 308,
    "start_time": "2022-02-15T22:29:29.143Z"
   },
   {
    "duration": 18,
    "start_time": "2022-02-15T22:29:29.452Z"
   },
   {
    "duration": 2706,
    "start_time": "2022-02-15T22:29:29.472Z"
   },
   {
    "duration": 137,
    "start_time": "2022-02-15T22:29:32.180Z"
   },
   {
    "duration": 44,
    "start_time": "2022-02-15T22:29:32.319Z"
   },
   {
    "duration": 32,
    "start_time": "2022-02-15T22:29:32.365Z"
   },
   {
    "duration": 57,
    "start_time": "2022-02-15T22:29:32.398Z"
   },
   {
    "duration": 5,
    "start_time": "2022-02-15T22:29:32.458Z"
   },
   {
    "duration": 155,
    "start_time": "2022-02-15T22:29:32.464Z"
   },
   {
    "duration": 38,
    "start_time": "2022-02-15T22:29:32.621Z"
   },
   {
    "duration": 591,
    "start_time": "2022-02-15T22:29:32.661Z"
   },
   {
    "duration": -131678,
    "start_time": "2022-02-15T22:31:44.931Z"
   },
   {
    "duration": -131843,
    "start_time": "2022-02-15T22:31:45.097Z"
   },
   {
    "duration": -131848,
    "start_time": "2022-02-15T22:31:45.103Z"
   },
   {
    "duration": -132133,
    "start_time": "2022-02-15T22:31:45.389Z"
   },
   {
    "duration": -132138,
    "start_time": "2022-02-15T22:31:45.395Z"
   },
   {
    "duration": -132487,
    "start_time": "2022-02-15T22:31:45.744Z"
   },
   {
    "duration": -132492,
    "start_time": "2022-02-15T22:31:45.750Z"
   },
   {
    "duration": -132499,
    "start_time": "2022-02-15T22:31:45.758Z"
   },
   {
    "duration": -132567,
    "start_time": "2022-02-15T22:31:45.827Z"
   },
   {
    "duration": -132896,
    "start_time": "2022-02-15T22:31:46.157Z"
   },
   {
    "duration": -132911,
    "start_time": "2022-02-15T22:31:46.173Z"
   },
   {
    "duration": -132913,
    "start_time": "2022-02-15T22:31:46.176Z"
   },
   {
    "duration": -139588,
    "start_time": "2022-02-15T22:31:52.852Z"
   },
   {
    "duration": -139592,
    "start_time": "2022-02-15T22:31:52.856Z"
   },
   {
    "duration": -139865,
    "start_time": "2022-02-15T22:31:53.130Z"
   },
   {
    "duration": -139870,
    "start_time": "2022-02-15T22:31:53.136Z"
   },
   {
    "duration": -139875,
    "start_time": "2022-02-15T22:31:53.142Z"
   },
   {
    "duration": -139878,
    "start_time": "2022-02-15T22:31:53.146Z"
   },
   {
    "duration": 277,
    "start_time": "2022-02-15T22:31:59.524Z"
   },
   {
    "duration": 450,
    "start_time": "2022-02-15T22:32:01.171Z"
   },
   {
    "duration": 410,
    "start_time": "2022-02-15T22:32:53.396Z"
   },
   {
    "duration": 187,
    "start_time": "2022-02-15T22:33:05.996Z"
   },
   {
    "duration": 564,
    "start_time": "2022-02-16T04:41:37.700Z"
   },
   {
    "duration": 581,
    "start_time": "2022-02-16T04:41:38.266Z"
   },
   {
    "duration": 51,
    "start_time": "2022-02-16T04:41:38.849Z"
   },
   {
    "duration": 8,
    "start_time": "2022-02-16T04:41:38.902Z"
   },
   {
    "duration": 6,
    "start_time": "2022-02-16T04:41:38.912Z"
   },
   {
    "duration": 426,
    "start_time": "2022-02-16T04:41:38.919Z"
   },
   {
    "duration": 23,
    "start_time": "2022-02-16T04:41:39.347Z"
   },
   {
    "duration": 7,
    "start_time": "2022-02-16T04:41:39.374Z"
   },
   {
    "duration": 79,
    "start_time": "2022-02-16T04:41:39.383Z"
   },
   {
    "duration": 6,
    "start_time": "2022-02-16T04:41:39.465Z"
   },
   {
    "duration": 6,
    "start_time": "2022-02-16T04:41:39.474Z"
   },
   {
    "duration": 132,
    "start_time": "2022-02-16T04:41:39.482Z"
   },
   {
    "duration": 16,
    "start_time": "2022-02-16T04:41:39.615Z"
   },
   {
    "duration": 5,
    "start_time": "2022-02-16T04:41:39.632Z"
   },
   {
    "duration": 30,
    "start_time": "2022-02-16T04:41:39.638Z"
   },
   {
    "duration": 27,
    "start_time": "2022-02-16T04:41:39.669Z"
   },
   {
    "duration": 185,
    "start_time": "2022-02-16T04:41:39.698Z"
   },
   {
    "duration": 2,
    "start_time": "2022-02-16T04:41:39.885Z"
   },
   {
    "duration": 16419,
    "start_time": "2022-02-16T04:41:39.888Z"
   },
   {
    "duration": 79,
    "start_time": "2022-02-16T04:41:56.308Z"
   },
   {
    "duration": 353,
    "start_time": "2022-02-16T04:41:56.388Z"
   },
   {
    "duration": 20,
    "start_time": "2022-02-16T04:41:56.743Z"
   },
   {
    "duration": 46,
    "start_time": "2022-02-16T04:41:56.767Z"
   },
   {
    "duration": 254,
    "start_time": "2022-02-16T04:41:56.815Z"
   },
   {
    "duration": 139,
    "start_time": "2022-02-16T04:41:57.071Z"
   },
   {
    "duration": 9,
    "start_time": "2022-02-16T04:41:57.211Z"
   },
   {
    "duration": 12,
    "start_time": "2022-02-16T04:41:57.229Z"
   },
   {
    "duration": 14,
    "start_time": "2022-02-16T04:41:57.243Z"
   },
   {
    "duration": 481,
    "start_time": "2022-02-16T04:41:57.258Z"
   },
   {
    "duration": 932,
    "start_time": "2022-02-16T04:41:57.740Z"
   },
   {
    "duration": 579,
    "start_time": "2022-02-16T04:41:58.674Z"
   },
   {
    "duration": 160,
    "start_time": "2022-02-16T04:41:59.254Z"
   },
   {
    "duration": 4,
    "start_time": "2022-02-16T04:41:59.415Z"
   },
   {
    "duration": 319,
    "start_time": "2022-02-16T04:41:59.421Z"
   },
   {
    "duration": 8,
    "start_time": "2022-02-16T04:41:59.741Z"
   },
   {
    "duration": 263,
    "start_time": "2022-02-16T04:41:59.750Z"
   },
   {
    "duration": 24,
    "start_time": "2022-02-16T04:42:00.015Z"
   },
   {
    "duration": 2619,
    "start_time": "2022-02-16T04:42:00.041Z"
   },
   {
    "duration": 144,
    "start_time": "2022-02-16T04:42:02.661Z"
   },
   {
    "duration": 41,
    "start_time": "2022-02-16T04:42:02.807Z"
   },
   {
    "duration": 30,
    "start_time": "2022-02-16T04:42:02.850Z"
   },
   {
    "duration": 23,
    "start_time": "2022-02-16T04:42:02.881Z"
   },
   {
    "duration": 4,
    "start_time": "2022-02-16T04:42:02.906Z"
   },
   {
    "duration": 146,
    "start_time": "2022-02-16T04:42:02.931Z"
   },
   {
    "duration": 33,
    "start_time": "2022-02-16T04:42:03.078Z"
   },
   {
    "duration": 299,
    "start_time": "2022-02-16T04:42:03.112Z"
   },
   {
    "duration": 256,
    "start_time": "2022-02-16T04:42:03.413Z"
   },
   {
    "duration": -146,
    "start_time": "2022-02-16T04:42:03.817Z"
   },
   {
    "duration": -155,
    "start_time": "2022-02-16T04:42:03.827Z"
   },
   {
    "duration": -159,
    "start_time": "2022-02-16T04:42:03.832Z"
   },
   {
    "duration": -162,
    "start_time": "2022-02-16T04:42:03.836Z"
   },
   {
    "duration": -168,
    "start_time": "2022-02-16T04:42:03.843Z"
   },
   {
    "duration": -171,
    "start_time": "2022-02-16T04:42:03.847Z"
   },
   {
    "duration": -173,
    "start_time": "2022-02-16T04:42:03.850Z"
   },
   {
    "duration": -176,
    "start_time": "2022-02-16T04:42:03.854Z"
   },
   {
    "duration": -177,
    "start_time": "2022-02-16T04:42:03.856Z"
   },
   {
    "duration": -179,
    "start_time": "2022-02-16T04:42:03.859Z"
   },
   {
    "duration": -180,
    "start_time": "2022-02-16T04:42:03.861Z"
   },
   {
    "duration": -181,
    "start_time": "2022-02-16T04:42:03.863Z"
   },
   {
    "duration": -182,
    "start_time": "2022-02-16T04:42:03.865Z"
   },
   {
    "duration": -184,
    "start_time": "2022-02-16T04:42:03.868Z"
   },
   {
    "duration": -186,
    "start_time": "2022-02-16T04:42:03.871Z"
   },
   {
    "duration": -187,
    "start_time": "2022-02-16T04:42:03.873Z"
   },
   {
    "duration": -192,
    "start_time": "2022-02-16T04:42:03.879Z"
   },
   {
    "duration": 182,
    "start_time": "2022-02-16T04:43:44.906Z"
   },
   {
    "duration": 203,
    "start_time": "2022-02-16T04:43:59.644Z"
   },
   {
    "duration": 505,
    "start_time": "2022-02-16T04:45:07.620Z"
   },
   {
    "duration": 21,
    "start_time": "2022-02-16T04:49:28.731Z"
   },
   {
    "duration": 69,
    "start_time": "2022-02-16T04:50:39.216Z"
   },
   {
    "duration": 7,
    "start_time": "2022-02-16T04:50:40.168Z"
   },
   {
    "duration": 166,
    "start_time": "2022-02-16T04:53:13.286Z"
   },
   {
    "duration": 4302,
    "start_time": "2022-02-16T04:53:24.821Z"
   },
   {
    "duration": 16,
    "start_time": "2022-02-16T04:53:36.532Z"
   },
   {
    "duration": 13,
    "start_time": "2022-02-16T04:54:20.667Z"
   },
   {
    "duration": 9,
    "start_time": "2022-02-16T04:54:24.761Z"
   },
   {
    "duration": 8,
    "start_time": "2022-02-16T04:54:38.903Z"
   },
   {
    "duration": 22,
    "start_time": "2022-02-16T04:55:03.474Z"
   },
   {
    "duration": 7,
    "start_time": "2022-02-16T04:58:54.471Z"
   },
   {
    "duration": 9,
    "start_time": "2022-02-16T04:59:00.663Z"
   },
   {
    "duration": 181,
    "start_time": "2022-02-16T05:00:42.439Z"
   },
   {
    "duration": 17,
    "start_time": "2022-02-16T05:00:55.181Z"
   },
   {
    "duration": 18,
    "start_time": "2022-02-16T05:01:00.016Z"
   },
   {
    "duration": 378,
    "start_time": "2022-02-16T05:02:22.040Z"
   },
   {
    "duration": 18,
    "start_time": "2022-02-16T05:02:26.799Z"
   },
   {
    "duration": 21,
    "start_time": "2022-02-16T05:03:21.168Z"
   },
   {
    "duration": 293,
    "start_time": "2022-02-16T05:03:58.216Z"
   },
   {
    "duration": 2134,
    "start_time": "2022-02-16T05:04:29.836Z"
   },
   {
    "duration": 421,
    "start_time": "2022-02-16T05:04:39.448Z"
   },
   {
    "duration": 543,
    "start_time": "2022-02-16T05:06:49.256Z"
   },
   {
    "duration": 757,
    "start_time": "2022-02-16T05:06:49.801Z"
   },
   {
    "duration": 51,
    "start_time": "2022-02-16T05:06:50.560Z"
   },
   {
    "duration": 7,
    "start_time": "2022-02-16T05:06:50.613Z"
   },
   {
    "duration": 6,
    "start_time": "2022-02-16T05:06:50.621Z"
   },
   {
    "duration": 189,
    "start_time": "2022-02-16T05:06:50.628Z"
   },
   {
    "duration": 17,
    "start_time": "2022-02-16T05:06:50.819Z"
   },
   {
    "duration": 6,
    "start_time": "2022-02-16T05:06:50.839Z"
   },
   {
    "duration": 30,
    "start_time": "2022-02-16T05:06:50.847Z"
   },
   {
    "duration": 5,
    "start_time": "2022-02-16T05:06:50.878Z"
   },
   {
    "duration": 5,
    "start_time": "2022-02-16T05:06:50.885Z"
   },
   {
    "duration": 110,
    "start_time": "2022-02-16T05:06:50.892Z"
   },
   {
    "duration": 11,
    "start_time": "2022-02-16T05:06:51.004Z"
   },
   {
    "duration": 20,
    "start_time": "2022-02-16T05:06:51.016Z"
   },
   {
    "duration": 35,
    "start_time": "2022-02-16T05:06:51.038Z"
   },
   {
    "duration": 18,
    "start_time": "2022-02-16T05:06:51.074Z"
   },
   {
    "duration": 9,
    "start_time": "2022-02-16T05:06:51.093Z"
   },
   {
    "duration": 2,
    "start_time": "2022-02-16T05:06:51.103Z"
   },
   {
    "duration": 223,
    "start_time": "2022-02-16T05:06:51.107Z"
   },
   {
    "duration": 58,
    "start_time": "2022-02-16T05:06:51.331Z"
   },
   {
    "duration": 107,
    "start_time": "2022-02-16T05:06:51.391Z"
   },
   {
    "duration": 18,
    "start_time": "2022-02-16T05:06:51.500Z"
   },
   {
    "duration": 100,
    "start_time": "2022-02-16T05:06:51.530Z"
   },
   {
    "duration": 124,
    "start_time": "2022-02-16T05:06:51.632Z"
   },
   {
    "duration": 527,
    "start_time": "2022-02-16T05:08:46.878Z"
   },
   {
    "duration": 569,
    "start_time": "2022-02-16T05:08:47.407Z"
   },
   {
    "duration": 52,
    "start_time": "2022-02-16T05:08:47.978Z"
   },
   {
    "duration": 8,
    "start_time": "2022-02-16T05:08:48.032Z"
   },
   {
    "duration": 6,
    "start_time": "2022-02-16T05:08:48.042Z"
   },
   {
    "duration": 191,
    "start_time": "2022-02-16T05:08:48.050Z"
   },
   {
    "duration": 13,
    "start_time": "2022-02-16T05:08:48.243Z"
   },
   {
    "duration": 9,
    "start_time": "2022-02-16T05:08:48.259Z"
   },
   {
    "duration": 32,
    "start_time": "2022-02-16T05:08:48.270Z"
   },
   {
    "duration": 5,
    "start_time": "2022-02-16T05:08:48.303Z"
   },
   {
    "duration": 21,
    "start_time": "2022-02-16T05:08:48.309Z"
   },
   {
    "duration": 73,
    "start_time": "2022-02-16T05:08:48.332Z"
   },
   {
    "duration": 25,
    "start_time": "2022-02-16T05:08:48.406Z"
   },
   {
    "duration": 6,
    "start_time": "2022-02-16T05:08:48.432Z"
   },
   {
    "duration": 33,
    "start_time": "2022-02-16T05:08:48.440Z"
   },
   {
    "duration": 17,
    "start_time": "2022-02-16T05:08:48.475Z"
   },
   {
    "duration": 9,
    "start_time": "2022-02-16T05:08:48.493Z"
   },
   {
    "duration": 26,
    "start_time": "2022-02-16T05:08:48.504Z"
   },
   {
    "duration": 194,
    "start_time": "2022-02-16T05:08:48.532Z"
   },
   {
    "duration": 58,
    "start_time": "2022-02-16T05:08:48.727Z"
   },
   {
    "duration": 104,
    "start_time": "2022-02-16T05:08:48.787Z"
   },
   {
    "duration": 20,
    "start_time": "2022-02-16T05:08:48.892Z"
   },
   {
    "duration": 100,
    "start_time": "2022-02-16T05:08:48.916Z"
   },
   {
    "duration": 122,
    "start_time": "2022-02-16T05:08:49.018Z"
   },
   {
    "duration": 505,
    "start_time": "2022-02-16T05:09:41.393Z"
   },
   {
    "duration": 573,
    "start_time": "2022-02-16T05:09:41.900Z"
   },
   {
    "duration": 53,
    "start_time": "2022-02-16T05:09:42.475Z"
   },
   {
    "duration": 8,
    "start_time": "2022-02-16T05:09:42.530Z"
   },
   {
    "duration": 6,
    "start_time": "2022-02-16T05:09:42.540Z"
   },
   {
    "duration": 300,
    "start_time": "2022-02-16T05:09:42.548Z"
   },
   {
    "duration": 13,
    "start_time": "2022-02-16T05:09:42.850Z"
   },
   {
    "duration": 9,
    "start_time": "2022-02-16T05:09:42.865Z"
   },
   {
    "duration": 36,
    "start_time": "2022-02-16T05:09:42.876Z"
   },
   {
    "duration": 18,
    "start_time": "2022-02-16T05:09:42.913Z"
   },
   {
    "duration": 5,
    "start_time": "2022-02-16T05:09:42.932Z"
   },
   {
    "duration": 120,
    "start_time": "2022-02-16T05:09:42.939Z"
   },
   {
    "duration": 10,
    "start_time": "2022-02-16T05:09:43.061Z"
   },
   {
    "duration": 6,
    "start_time": "2022-02-16T05:09:43.072Z"
   },
   {
    "duration": 31,
    "start_time": "2022-02-16T05:09:43.079Z"
   },
   {
    "duration": 42,
    "start_time": "2022-02-16T05:09:43.111Z"
   },
   {
    "duration": 167,
    "start_time": "2022-02-16T05:09:43.155Z"
   },
   {
    "duration": 6,
    "start_time": "2022-02-16T05:09:43.324Z"
   },
   {
    "duration": 16414,
    "start_time": "2022-02-16T05:09:43.331Z"
   },
   {
    "duration": 68,
    "start_time": "2022-02-16T05:09:59.746Z"
   },
   {
    "duration": 355,
    "start_time": "2022-02-16T05:09:59.815Z"
   },
   {
    "duration": 20,
    "start_time": "2022-02-16T05:10:00.171Z"
   },
   {
    "duration": 60,
    "start_time": "2022-02-16T05:10:00.195Z"
   },
   {
    "duration": 225,
    "start_time": "2022-02-16T05:10:00.258Z"
   },
   {
    "duration": 140,
    "start_time": "2022-02-16T05:10:00.485Z"
   },
   {
    "duration": 9,
    "start_time": "2022-02-16T05:10:00.626Z"
   },
   {
    "duration": 26,
    "start_time": "2022-02-16T05:10:00.637Z"
   },
   {
    "duration": 27,
    "start_time": "2022-02-16T05:10:00.665Z"
   },
   {
    "duration": 572,
    "start_time": "2022-02-16T05:10:00.694Z"
   },
   {
    "duration": 902,
    "start_time": "2022-02-16T05:10:01.267Z"
   },
   {
    "duration": 568,
    "start_time": "2022-02-16T05:10:02.170Z"
   },
   {
    "duration": 151,
    "start_time": "2022-02-16T05:10:02.739Z"
   },
   {
    "duration": 3,
    "start_time": "2022-02-16T05:10:02.892Z"
   },
   {
    "duration": 350,
    "start_time": "2022-02-16T05:10:02.897Z"
   },
   {
    "duration": 11,
    "start_time": "2022-02-16T05:10:03.248Z"
   },
   {
    "duration": 275,
    "start_time": "2022-02-16T05:10:03.261Z"
   },
   {
    "duration": 18,
    "start_time": "2022-02-16T05:10:03.538Z"
   },
   {
    "duration": 2644,
    "start_time": "2022-02-16T05:10:03.557Z"
   },
   {
    "duration": 142,
    "start_time": "2022-02-16T05:10:06.202Z"
   },
   {
    "duration": 36,
    "start_time": "2022-02-16T05:10:06.346Z"
   },
   {
    "duration": 31,
    "start_time": "2022-02-16T05:10:06.383Z"
   },
   {
    "duration": 23,
    "start_time": "2022-02-16T05:10:06.431Z"
   },
   {
    "duration": 4,
    "start_time": "2022-02-16T05:10:06.456Z"
   },
   {
    "duration": 154,
    "start_time": "2022-02-16T05:10:06.462Z"
   },
   {
    "duration": 37,
    "start_time": "2022-02-16T05:10:06.618Z"
   },
   {
    "duration": 17,
    "start_time": "2022-02-16T05:10:06.657Z"
   },
   {
    "duration": 318,
    "start_time": "2022-02-16T05:10:06.676Z"
   },
   {
    "duration": 2201,
    "start_time": "2022-02-16T05:10:06.996Z"
   },
   {
    "duration": 437,
    "start_time": "2022-02-16T05:10:09.199Z"
   },
   {
    "duration": 5,
    "start_time": "2022-02-16T05:10:09.637Z"
   },
   {
    "duration": 16,
    "start_time": "2022-02-16T05:10:09.644Z"
   },
   {
    "duration": 192,
    "start_time": "2022-02-16T05:10:09.662Z"
   },
   {
    "duration": 8,
    "start_time": "2022-02-16T05:10:09.856Z"
   },
   {
    "duration": 25,
    "start_time": "2022-02-16T05:10:09.865Z"
   },
   {
    "duration": 10,
    "start_time": "2022-02-16T05:10:09.892Z"
   },
   {
    "duration": 28,
    "start_time": "2022-02-16T05:10:09.903Z"
   },
   {
    "duration": 218,
    "start_time": "2022-02-16T05:10:09.933Z"
   },
   {
    "duration": 10,
    "start_time": "2022-02-16T05:10:10.153Z"
   },
   {
    "duration": 4,
    "start_time": "2022-02-16T05:10:10.165Z"
   },
   {
    "duration": 10,
    "start_time": "2022-02-16T05:10:10.170Z"
   },
   {
    "duration": 374,
    "start_time": "2022-02-16T05:10:10.182Z"
   },
   {
    "duration": 230,
    "start_time": "2022-02-16T05:10:10.558Z"
   },
   {
    "duration": 4,
    "start_time": "2022-02-16T05:10:10.789Z"
   },
   {
    "duration": 9,
    "start_time": "2022-02-16T05:10:10.794Z"
   },
   {
    "duration": 145,
    "start_time": "2022-02-16T05:10:10.805Z"
   },
   {
    "duration": 6,
    "start_time": "2022-02-16T05:10:10.951Z"
   },
   {
    "duration": 594,
    "start_time": "2022-02-16T05:13:21.329Z"
   },
   {
    "duration": 603,
    "start_time": "2022-02-16T05:13:21.925Z"
   },
   {
    "duration": 55,
    "start_time": "2022-02-16T05:13:22.530Z"
   },
   {
    "duration": 11,
    "start_time": "2022-02-16T05:13:22.587Z"
   },
   {
    "duration": 12,
    "start_time": "2022-02-16T05:13:22.600Z"
   },
   {
    "duration": 214,
    "start_time": "2022-02-16T05:13:22.630Z"
   },
   {
    "duration": 14,
    "start_time": "2022-02-16T05:13:22.845Z"
   },
   {
    "duration": 6,
    "start_time": "2022-02-16T05:13:22.860Z"
   },
   {
    "duration": 30,
    "start_time": "2022-02-16T05:13:22.868Z"
   },
   {
    "duration": 5,
    "start_time": "2022-02-16T05:13:22.900Z"
   },
   {
    "duration": 28,
    "start_time": "2022-02-16T05:13:22.906Z"
   },
   {
    "duration": 82,
    "start_time": "2022-02-16T05:13:22.936Z"
   },
   {
    "duration": 19,
    "start_time": "2022-02-16T05:13:23.019Z"
   },
   {
    "duration": 4,
    "start_time": "2022-02-16T05:13:23.040Z"
   },
   {
    "duration": 31,
    "start_time": "2022-02-16T05:13:23.046Z"
   },
   {
    "duration": 19,
    "start_time": "2022-02-16T05:13:23.078Z"
   },
   {
    "duration": 32,
    "start_time": "2022-02-16T05:13:23.099Z"
   },
   {
    "duration": 2,
    "start_time": "2022-02-16T05:13:23.133Z"
   },
   {
    "duration": 117,
    "start_time": "2022-02-16T05:13:23.136Z"
   },
   {
    "duration": 16576,
    "start_time": "2022-02-16T05:13:23.254Z"
   },
   {
    "duration": 74,
    "start_time": "2022-02-16T05:13:39.831Z"
   },
   {
    "duration": 375,
    "start_time": "2022-02-16T05:13:39.907Z"
   },
   {
    "duration": 20,
    "start_time": "2022-02-16T05:13:40.284Z"
   },
   {
    "duration": 56,
    "start_time": "2022-02-16T05:13:40.306Z"
   },
   {
    "duration": 162,
    "start_time": "2022-02-16T05:13:40.364Z"
   },
   {
    "duration": 107,
    "start_time": "2022-02-16T05:13:40.527Z"
   },
   {
    "duration": 9,
    "start_time": "2022-02-16T05:13:40.638Z"
   },
   {
    "duration": 22,
    "start_time": "2022-02-16T05:13:40.649Z"
   },
   {
    "duration": 14,
    "start_time": "2022-02-16T05:13:40.673Z"
   },
   {
    "duration": 552,
    "start_time": "2022-02-16T05:13:40.689Z"
   },
   {
    "duration": 921,
    "start_time": "2022-02-16T05:13:41.243Z"
   },
   {
    "duration": 581,
    "start_time": "2022-02-16T05:13:42.166Z"
   },
   {
    "duration": 162,
    "start_time": "2022-02-16T05:13:42.748Z"
   },
   {
    "duration": 4,
    "start_time": "2022-02-16T05:13:42.912Z"
   },
   {
    "duration": 324,
    "start_time": "2022-02-16T05:13:42.917Z"
   },
   {
    "duration": 7,
    "start_time": "2022-02-16T05:13:43.243Z"
   },
   {
    "duration": 284,
    "start_time": "2022-02-16T05:13:43.252Z"
   },
   {
    "duration": 17,
    "start_time": "2022-02-16T05:13:43.538Z"
   },
   {
    "duration": 2619,
    "start_time": "2022-02-16T05:13:43.557Z"
   },
   {
    "duration": 134,
    "start_time": "2022-02-16T05:13:46.178Z"
   },
   {
    "duration": 40,
    "start_time": "2022-02-16T05:13:46.314Z"
   },
   {
    "duration": 30,
    "start_time": "2022-02-16T05:13:46.356Z"
   },
   {
    "duration": 23,
    "start_time": "2022-02-16T05:13:46.387Z"
   },
   {
    "duration": 20,
    "start_time": "2022-02-16T05:13:46.411Z"
   },
   {
    "duration": 146,
    "start_time": "2022-02-16T05:13:46.433Z"
   },
   {
    "duration": 33,
    "start_time": "2022-02-16T05:13:46.581Z"
   },
   {
    "duration": 356,
    "start_time": "2022-02-16T05:13:46.615Z"
   },
   {
    "duration": 14,
    "start_time": "2022-02-16T05:13:46.972Z"
   },
   {
    "duration": 349,
    "start_time": "2022-02-16T05:13:46.987Z"
   },
   {
    "duration": 6,
    "start_time": "2022-02-16T05:13:47.337Z"
   },
   {
    "duration": 9,
    "start_time": "2022-02-16T05:13:47.344Z"
   },
   {
    "duration": 197,
    "start_time": "2022-02-16T05:13:47.355Z"
   },
   {
    "duration": 6,
    "start_time": "2022-02-16T05:13:47.554Z"
   },
   {
    "duration": 23,
    "start_time": "2022-02-16T05:13:47.562Z"
   },
   {
    "duration": 6,
    "start_time": "2022-02-16T05:13:47.587Z"
   },
   {
    "duration": 5,
    "start_time": "2022-02-16T05:13:47.595Z"
   },
   {
    "duration": 237,
    "start_time": "2022-02-16T05:13:47.601Z"
   },
   {
    "duration": 11,
    "start_time": "2022-02-16T05:13:47.840Z"
   },
   {
    "duration": 4,
    "start_time": "2022-02-16T05:13:47.852Z"
   },
   {
    "duration": 7,
    "start_time": "2022-02-16T05:13:47.858Z"
   },
   {
    "duration": 270,
    "start_time": "2022-02-16T05:13:47.867Z"
   },
   {
    "duration": 136,
    "start_time": "2022-02-16T05:13:48.138Z"
   },
   {
    "duration": 3,
    "start_time": "2022-02-16T05:13:48.276Z"
   },
   {
    "duration": 13,
    "start_time": "2022-02-16T05:13:48.280Z"
   },
   {
    "duration": 144,
    "start_time": "2022-02-16T05:13:48.295Z"
   },
   {
    "duration": 7,
    "start_time": "2022-02-16T05:13:48.440Z"
   },
   {
    "duration": 520,
    "start_time": "2022-02-16T05:13:58.895Z"
   },
   {
    "duration": 582,
    "start_time": "2022-02-16T05:13:59.417Z"
   },
   {
    "duration": 55,
    "start_time": "2022-02-16T05:14:00.001Z"
   },
   {
    "duration": 8,
    "start_time": "2022-02-16T05:14:00.058Z"
   },
   {
    "duration": 19,
    "start_time": "2022-02-16T05:14:00.068Z"
   },
   {
    "duration": 206,
    "start_time": "2022-02-16T05:14:00.089Z"
   },
   {
    "duration": 16,
    "start_time": "2022-02-16T05:14:00.296Z"
   },
   {
    "duration": 16,
    "start_time": "2022-02-16T05:14:00.314Z"
   },
   {
    "duration": 36,
    "start_time": "2022-02-16T05:14:00.332Z"
   },
   {
    "duration": 5,
    "start_time": "2022-02-16T05:14:00.370Z"
   },
   {
    "duration": 8,
    "start_time": "2022-02-16T05:14:00.376Z"
   },
   {
    "duration": 92,
    "start_time": "2022-02-16T05:14:00.385Z"
   },
   {
    "duration": 9,
    "start_time": "2022-02-16T05:14:00.479Z"
   },
   {
    "duration": 11,
    "start_time": "2022-02-16T05:14:00.490Z"
   },
   {
    "duration": 39,
    "start_time": "2022-02-16T05:14:00.502Z"
   },
   {
    "duration": 27,
    "start_time": "2022-02-16T05:14:00.542Z"
   },
   {
    "duration": 12,
    "start_time": "2022-02-16T05:14:00.571Z"
   },
   {
    "duration": 16,
    "start_time": "2022-02-16T05:14:00.584Z"
   },
   {
    "duration": 117,
    "start_time": "2022-02-16T05:14:00.602Z"
   },
   {
    "duration": 16500,
    "start_time": "2022-02-16T05:14:00.721Z"
   },
   {
    "duration": 74,
    "start_time": "2022-02-16T05:14:17.222Z"
   },
   {
    "duration": 351,
    "start_time": "2022-02-16T05:14:17.298Z"
   },
   {
    "duration": 19,
    "start_time": "2022-02-16T05:14:17.652Z"
   },
   {
    "duration": 60,
    "start_time": "2022-02-16T05:14:17.673Z"
   },
   {
    "duration": 160,
    "start_time": "2022-02-16T05:14:17.735Z"
   },
   {
    "duration": 110,
    "start_time": "2022-02-16T05:14:17.897Z"
   },
   {
    "duration": 21,
    "start_time": "2022-02-16T05:14:18.010Z"
   },
   {
    "duration": 16,
    "start_time": "2022-02-16T05:14:18.033Z"
   },
   {
    "duration": 15,
    "start_time": "2022-02-16T05:14:18.050Z"
   },
   {
    "duration": 478,
    "start_time": "2022-02-16T05:14:18.067Z"
   },
   {
    "duration": 905,
    "start_time": "2022-02-16T05:14:18.547Z"
   },
   {
    "duration": 587,
    "start_time": "2022-02-16T05:14:19.454Z"
   },
   {
    "duration": 172,
    "start_time": "2022-02-16T05:14:20.043Z"
   },
   {
    "duration": 15,
    "start_time": "2022-02-16T05:14:20.216Z"
   },
   {
    "duration": 312,
    "start_time": "2022-02-16T05:14:20.233Z"
   },
   {
    "duration": 8,
    "start_time": "2022-02-16T05:14:20.546Z"
   },
   {
    "duration": 257,
    "start_time": "2022-02-16T05:14:20.556Z"
   },
   {
    "duration": 22,
    "start_time": "2022-02-16T05:14:20.815Z"
   },
   {
    "duration": 2628,
    "start_time": "2022-02-16T05:14:20.839Z"
   },
   {
    "duration": 140,
    "start_time": "2022-02-16T05:14:23.469Z"
   },
   {
    "duration": 42,
    "start_time": "2022-02-16T05:14:23.610Z"
   },
   {
    "duration": 29,
    "start_time": "2022-02-16T05:14:23.653Z"
   },
   {
    "duration": 22,
    "start_time": "2022-02-16T05:14:23.683Z"
   },
   {
    "duration": 3,
    "start_time": "2022-02-16T05:14:23.707Z"
   },
   {
    "duration": 157,
    "start_time": "2022-02-16T05:14:23.711Z"
   },
   {
    "duration": 31,
    "start_time": "2022-02-16T05:14:23.869Z"
   },
   {
    "duration": 353,
    "start_time": "2022-02-16T05:14:23.902Z"
   },
   {
    "duration": 14,
    "start_time": "2022-02-16T05:14:24.257Z"
   },
   {
    "duration": 326,
    "start_time": "2022-02-16T05:14:24.272Z"
   },
   {
    "duration": 5,
    "start_time": "2022-02-16T05:14:24.599Z"
   },
   {
    "duration": 9,
    "start_time": "2022-02-16T05:14:24.606Z"
   },
   {
    "duration": 181,
    "start_time": "2022-02-16T05:14:24.630Z"
   },
   {
    "duration": 7,
    "start_time": "2022-02-16T05:14:24.813Z"
   },
   {
    "duration": 24,
    "start_time": "2022-02-16T05:14:24.830Z"
   },
   {
    "duration": 6,
    "start_time": "2022-02-16T05:14:24.856Z"
   },
   {
    "duration": 5,
    "start_time": "2022-02-16T05:14:24.863Z"
   },
   {
    "duration": 222,
    "start_time": "2022-02-16T05:14:24.869Z"
   },
   {
    "duration": 12,
    "start_time": "2022-02-16T05:14:25.092Z"
   },
   {
    "duration": 4,
    "start_time": "2022-02-16T05:14:25.106Z"
   },
   {
    "duration": 25,
    "start_time": "2022-02-16T05:14:25.112Z"
   },
   {
    "duration": 362,
    "start_time": "2022-02-16T05:14:25.139Z"
   },
   {
    "duration": 229,
    "start_time": "2022-02-16T05:14:25.503Z"
   },
   {
    "duration": 4,
    "start_time": "2022-02-16T05:14:25.733Z"
   },
   {
    "duration": 9,
    "start_time": "2022-02-16T05:14:25.738Z"
   },
   {
    "duration": 148,
    "start_time": "2022-02-16T05:14:25.748Z"
   },
   {
    "duration": 6,
    "start_time": "2022-02-16T05:14:25.898Z"
   },
   {
    "duration": 2909,
    "start_time": "2022-02-16T05:15:15.471Z"
   },
   {
    "duration": 2649,
    "start_time": "2022-02-16T05:15:36.291Z"
   },
   {
    "duration": 279,
    "start_time": "2022-02-16T05:17:52.204Z"
   },
   {
    "duration": 40,
    "start_time": "2022-02-16T05:18:15.010Z"
   },
   {
    "duration": 180,
    "start_time": "2022-02-16T05:19:37.198Z"
   },
   {
    "duration": 41747,
    "start_time": "2022-02-16T05:19:54.073Z"
   },
   {
    "duration": 52,
    "start_time": "2022-02-16T05:20:45.984Z"
   },
   {
    "duration": 32,
    "start_time": "2022-02-16T05:21:35.733Z"
   },
   {
    "duration": 6,
    "start_time": "2022-02-16T05:23:28.922Z"
   },
   {
    "duration": 38,
    "start_time": "2022-02-16T05:27:20.281Z"
   },
   {
    "duration": 51,
    "start_time": "2022-02-16T05:30:14.414Z"
   },
   {
    "duration": 41,
    "start_time": "2022-02-16T05:30:44.663Z"
   },
   {
    "duration": 5,
    "start_time": "2022-02-16T05:31:18.557Z"
   },
   {
    "duration": 5,
    "start_time": "2022-02-16T05:31:58.213Z"
   },
   {
    "duration": 16,
    "start_time": "2022-02-16T05:40:47.080Z"
   },
   {
    "duration": 100474,
    "start_time": "2022-02-16T05:41:03.277Z"
   },
   {
    "duration": 24,
    "start_time": "2022-02-16T05:42:43.753Z"
   },
   {
    "duration": 16,
    "start_time": "2022-02-16T05:43:07.919Z"
   },
   {
    "duration": 16,
    "start_time": "2022-02-16T05:43:12.437Z"
   },
   {
    "duration": 18071,
    "start_time": "2022-02-16T05:43:29.423Z"
   },
   {
    "duration": 358,
    "start_time": "2022-02-16T05:44:13.961Z"
   },
   {
    "duration": 58,
    "start_time": "2022-02-16T05:45:22.161Z"
   },
   {
    "duration": 3483,
    "start_time": "2022-02-16T05:45:29.976Z"
   },
   {
    "duration": 18526,
    "start_time": "2022-02-16T05:45:48.307Z"
   },
   {
    "duration": 6211,
    "start_time": "2022-02-16T05:46:21.173Z"
   },
   {
    "duration": 18353,
    "start_time": "2022-02-16T05:46:38.782Z"
   },
   {
    "duration": 411,
    "start_time": "2022-02-16T05:47:18.492Z"
   },
   {
    "duration": 418,
    "start_time": "2022-02-16T05:47:38.700Z"
   },
   {
    "duration": 413,
    "start_time": "2022-02-16T05:47:53.656Z"
   },
   {
    "duration": 422,
    "start_time": "2022-02-16T05:48:01.542Z"
   },
   {
    "duration": 412,
    "start_time": "2022-02-16T05:48:20.543Z"
   },
   {
    "duration": 25,
    "start_time": "2022-02-16T05:49:09.778Z"
   },
   {
    "duration": 24,
    "start_time": "2022-02-16T05:50:47.340Z"
   },
   {
    "duration": 173,
    "start_time": "2022-02-16T05:51:25.724Z"
   },
   {
    "duration": 14,
    "start_time": "2022-02-16T05:51:39.030Z"
   },
   {
    "duration": 175,
    "start_time": "2022-02-16T05:51:41.284Z"
   },
   {
    "duration": 385,
    "start_time": "2022-02-16T05:51:49.151Z"
   },
   {
    "duration": 439,
    "start_time": "2022-02-16T05:52:22.815Z"
   }
  ],
  "kernelspec": {
   "display_name": "Python 3",
   "language": "python",
   "name": "python3"
  },
  "language_info": {
   "codemirror_mode": {
    "name": "ipython",
    "version": 3
   },
   "file_extension": ".py",
   "mimetype": "text/x-python",
   "name": "python",
   "nbconvert_exporter": "python",
   "pygments_lexer": "ipython3",
   "version": "3.7.8"
  },
  "toc": {
   "base_numbering": 1,
   "nav_menu": {},
   "number_sections": true,
   "sideBar": true,
   "skip_h1_title": true,
   "title_cell": "Table of Contents",
   "title_sidebar": "Contents",
   "toc_cell": false,
   "toc_position": {},
   "toc_section_display": true,
   "toc_window_display": false
  }
 },
 "nbformat": 4,
 "nbformat_minor": 2
}

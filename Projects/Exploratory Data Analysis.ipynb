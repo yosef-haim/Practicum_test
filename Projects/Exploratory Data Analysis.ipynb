{
 "cells": [
  {
   "cell_type": "markdown",
   "metadata": {},
   "source": [
    "<div style=\"border:solid green 2px; padding: 20px\"> <h1 style=\"color:green; margin-bottom:20px\">Reviewer's comment v1</h1>\n",
    "\n",
    "Hello Yosef, my name is Dmitrii. I'm going to review your project! Nice to meet you! 🙌\n",
    "\n",
    "You can find my comments under the heading **«Review»**. I will categorize my comments in green, blue or red boxes like this:\n",
    "\n",
    "<div class=\"alert alert-success\">\n",
    "    <b>Success:</b> if everything is done successfully\n",
    "</div>\n",
    "<div class=\"alert alert-warning\">\n",
    "    <b>Remarks:</b> if I can give some recommendations or ways to improve the project\n",
    "</div>\n",
    "<div class=\"alert alert-danger\">\n",
    "    <b>Needs fixing:</b> if the block requires some corrections. Work can't be accepted with the red comments\n",
    "</div>\n",
    "\n",
    "Please don't remove my comments :) If you have any questions don't hesitate to respond to my comments in a different section. \n",
    "<div class=\"alert alert-info\"> <b>Student comments:</b> For example like this</div>    \n"
   ]
  },
  {
   "cell_type": "markdown",
   "metadata": {},
   "source": [
    "<div style=\"border:solid green 2px; padding: 20px\">\n",
    "<b>Reviewer's comment v1:</b>\n",
    "    \n",
    "<b>Overall Feedback</b> \n",
    "    \n",
    "    \n",
    "- Overall well done! I can see that a lot of effort has been made! Your project already looks really good and you accomplished impressive results.\n",
    "- It is great that you can use different methods for data processing and apply them to real data and project tasks, keep it up! One minor remark is that it will be great to spend more time formulating your conclusions and observations after each question in the project.\n",
    "- There is only one critical issue to be fixed: \n",
    "    - Can you please check other columns with missing data and make a decision about them.\n",
    "   \n",
    "\n",
    "I will wait for you to send me a new version of the project :)\n",
    "    \n",
    "</div>"
   ]
  },
  {
   "cell_type": "markdown",
   "metadata": {},
   "source": [
    "<div style=\"border:solid green 2px; padding: 20px\">\n",
    "<b>Reviewer's comment v2:</b>\n",
    "    \n",
    "<b>Overall Feedback</b> \n",
    "\n",
    "Thank you for leaving your comments/feedback and improving you project! \n",
    "Please keep up the great work and good luck on the next project :)\n",
    "</div>"
   ]
  },
  {
   "cell_type": "markdown",
   "metadata": {},
   "source": [
    "# What sells a car?\n",
    "\n",
    "You're an analyst at Crankshaft List. Hundreds of free advertisements for vehicles are published on your site every day. You need to study data collected over the last few years and determine which factors influence the price of a vehicle."
   ]
  },
  {
   "cell_type": "markdown",
   "metadata": {},
   "source": [
    "[We've provided you with some commentary to guide your thinking as you complete this project. However, make sure to remove all the bracketed comments before submitting your project.]\n",
    "\n",
    "[Before you dive into analyzing your data, explain yourself the purposes of the project and actions you plan to take.]\n",
    "In this study my purpose is to seek what is influence car pricing.\n",
    "In order to do that I'll start the data preproccessing proccess which mean,\n",
    "seeking and filling the missing values and drop some of them if it necessary.\n",
    "Afterword I'll jump into the data and start find connection between all the factors \n",
    "using histograms etc.\n",
    "\n",
    "[Please bear in mind that studying, amending and analyzing data is an iterative process. It is normal to return back to previous steps and correct/expand them to allow for further steps.]"
   ]
  },
  {
   "cell_type": "markdown",
   "metadata": {},
   "source": [
    "<div class=\"alert alert-success\">\n",
    "<b>Reviewer's comment v1:</b>\n",
    "    \n",
    "- Great that you added additional information about project tasks. It gives an overview of what you are going to achieve in this project.\n"
   ]
  },
  {
   "cell_type": "markdown",
   "metadata": {},
   "source": [
    "## Initialization"
   ]
  },
  {
   "cell_type": "markdown",
   "metadata": {},
   "source": [
    "[Load libraries that you believe are required for the project. You may realise later that you need additional libraries as you go, which is totally fine - just make sure to update this section when you do.]"
   ]
  },
  {
   "cell_type": "code",
   "execution_count": 1,
   "metadata": {},
   "outputs": [],
   "source": [
    "# Loading all the libraries\n",
    "import pandas as pd\n",
    "\n"
   ]
  },
  {
   "cell_type": "markdown",
   "metadata": {},
   "source": [
    "### Load data"
   ]
  },
  {
   "cell_type": "markdown",
   "metadata": {},
   "source": [
    "[Load the project data and have a look at the general information.]"
   ]
  },
  {
   "cell_type": "code",
   "execution_count": 2,
   "metadata": {},
   "outputs": [],
   "source": [
    "# Load the data file into a DataFrame\n",
    "crankshaft_list = pd.read_csv('/datasets/vehicles_us.csv')\n"
   ]
  },
  {
   "cell_type": "markdown",
   "metadata": {},
   "source": [
    "### Explore initial data"
   ]
  },
  {
   "cell_type": "markdown",
   "metadata": {},
   "source": [
    "The dataset contains the following fields:\n",
    "- `price`\n",
    "- `model_year`\n",
    "- `model`\n",
    "- `condition`\n",
    "- `cylinders`\n",
    "- `fuel` — gas, diesel, etc.\n",
    "- `odometer` — the vehicle's mileage when the ad was published\n",
    "- `transmission`\n",
    "- `paint_color`\n",
    "- `is_4wd` — whether the vehicle has 4-wheel drive (Boolean type)\n",
    "- `date_posted` — the date the ad was published\n",
    "- `days_listed` — from publication to removal\n",
    "\n",
    "[Understanding the fields, explore them to make yourself familiar with the data.]"
   ]
  },
  {
   "cell_type": "code",
   "execution_count": null,
   "metadata": {},
   "outputs": [],
   "source": []
  },
  {
   "cell_type": "code",
   "execution_count": 3,
   "metadata": {},
   "outputs": [
    {
     "name": "stdout",
     "output_type": "stream",
     "text": [
      "<class 'pandas.core.frame.DataFrame'>\n",
      "RangeIndex: 51525 entries, 0 to 51524\n",
      "Data columns (total 13 columns):\n",
      "price           51525 non-null int64\n",
      "model_year      47906 non-null float64\n",
      "model           51525 non-null object\n",
      "condition       51525 non-null object\n",
      "cylinders       46265 non-null float64\n",
      "fuel            51525 non-null object\n",
      "odometer        43633 non-null float64\n",
      "transmission    51525 non-null object\n",
      "type            51525 non-null object\n",
      "paint_color     42258 non-null object\n",
      "is_4wd          25572 non-null float64\n",
      "date_posted     51525 non-null object\n",
      "days_listed     51525 non-null int64\n",
      "dtypes: float64(4), int64(2), object(7)\n",
      "memory usage: 5.1+ MB\n"
     ]
    }
   ],
   "source": [
    "# print the general/summary information about the DataFrame\n",
    "crankshaft_list.info()\n"
   ]
  },
  {
   "cell_type": "code",
   "execution_count": 4,
   "metadata": {},
   "outputs": [
    {
     "name": "stdout",
     "output_type": "stream",
     "text": [
      "       price  model_year           model  condition  cylinders fuel  odometer  \\\n",
      "0       9400      2011.0          bmw x5       good        6.0  gas  145000.0   \n",
      "1      25500         NaN      ford f-150       good        6.0  gas   88705.0   \n",
      "2       5500      2013.0  hyundai sonata   like new        4.0  gas  110000.0   \n",
      "3       1500      2003.0      ford f-150       fair        8.0  gas       NaN   \n",
      "4      14900      2017.0    chrysler 200  excellent        4.0  gas   80903.0   \n",
      "...      ...         ...             ...        ...        ...  ...       ...   \n",
      "51520   9249      2013.0   nissan maxima   like new        6.0  gas   88136.0   \n",
      "51521   2700      2002.0     honda civic    salvage        4.0  gas  181500.0   \n",
      "51522   3950      2009.0  hyundai sonata  excellent        4.0  gas  128000.0   \n",
      "51523   7455      2013.0  toyota corolla       good        4.0  gas  139573.0   \n",
      "51524   6300      2014.0   nissan altima       good        4.0  gas       NaN   \n",
      "\n",
      "      transmission    type paint_color  is_4wd date_posted  days_listed  \n",
      "0        automatic     SUV         NaN     1.0  2018-06-23           19  \n",
      "1        automatic  pickup       white     1.0  2018-10-19           50  \n",
      "2        automatic   sedan         red     NaN  2019-02-07           79  \n",
      "3        automatic  pickup         NaN     NaN  2019-03-22            9  \n",
      "4        automatic   sedan       black     NaN  2019-04-02           28  \n",
      "...            ...     ...         ...     ...         ...          ...  \n",
      "51520    automatic   sedan       black     NaN  2018-10-03           37  \n",
      "51521    automatic   sedan       white     NaN  2018-11-14           22  \n",
      "51522    automatic   sedan        blue     NaN  2018-11-15           32  \n",
      "51523    automatic   sedan       black     NaN  2018-07-02           71  \n",
      "51524    automatic   sedan         NaN     NaN  2018-06-05           10  \n",
      "\n",
      "[51525 rows x 13 columns]\n"
     ]
    }
   ],
   "source": [
    "# print a sample of data\n",
    "print(crankshaft_list)\n"
   ]
  },
  {
   "cell_type": "markdown",
   "metadata": {},
   "source": [
    "<div class=\"alert alert-block alert-success\">\n",
    "<b>Reviewer's comment v1:</b>\n",
    "    \n",
    "A good start and first view on data. \n",
    "\n",
    "Also great that all imports and data load are grouped in different cells before the project and try/except has been used.\n",
    "\n",
    "\n",
    "</div>"
   ]
  },
  {
   "cell_type": "markdown",
   "metadata": {},
   "source": [
    "[Describe what you notice in the general information and the printed data sample. Are there any issues that may need further investigation and changes?]\n",
    "There are several missing values at is_4wd column need to be checked."
   ]
  },
  {
   "cell_type": "code",
   "execution_count": 5,
   "metadata": {},
   "outputs": [
    {
     "data": {
      "text/plain": [
       "0        1.0\n",
       "1        1.0\n",
       "2        NaN\n",
       "3        NaN\n",
       "4        NaN\n",
       "        ... \n",
       "51520    NaN\n",
       "51521    NaN\n",
       "51522    NaN\n",
       "51523    NaN\n",
       "51524    NaN\n",
       "Name: is_4wd, Length: 51525, dtype: float64"
      ]
     },
     "execution_count": 5,
     "metadata": {},
     "output_type": "execute_result"
    }
   ],
   "source": [
    "crankshaft_list['is_4wd']"
   ]
  },
  {
   "cell_type": "markdown",
   "metadata": {},
   "source": [
    "[Are there columns with inappropriate data types?]\n",
    "date_posted column need to be change into datetime object."
   ]
  },
  {
   "cell_type": "code",
   "execution_count": 6,
   "metadata": {},
   "outputs": [],
   "source": [
    "crankshaft_list['date_posted'] = pd.to_datetime(crankshaft_list['date_posted'], format='%Y-%m-%d')\n"
   ]
  },
  {
   "cell_type": "markdown",
   "metadata": {},
   "source": [
    "[Are there missing values across all columns or just a few? What columns contain the most missing values? Briefly describe what you see in 1-2 sentences.]\n",
    "There are a lot of missing values in is_4wd column."
   ]
  },
  {
   "cell_type": "code",
   "execution_count": 7,
   "metadata": {},
   "outputs": [
    {
     "data": {
      "text/plain": [
       "price               0\n",
       "model_year       3619\n",
       "model               0\n",
       "condition           0\n",
       "cylinders        5260\n",
       "fuel                0\n",
       "odometer         7892\n",
       "transmission        0\n",
       "type                0\n",
       "paint_color      9267\n",
       "is_4wd          25953\n",
       "date_posted         0\n",
       "days_listed         0\n",
       "dtype: int64"
      ]
     },
     "execution_count": 7,
     "metadata": {},
     "output_type": "execute_result"
    }
   ],
   "source": [
    "crankshaft_list.isna().sum()"
   ]
  },
  {
   "cell_type": "markdown",
   "metadata": {},
   "source": [
    "<div class=\"alert alert-block alert-success\">\n",
    "<b>Reviewer's comment v1:</b>\n",
    "    \n",
    "It is always helpful to calculate the percentage of missing values. It helps to understand the overall impact and to make a more weighted decision regarding what to do next.\n",
    "    "
   ]
  },
  {
   "cell_type": "markdown",
   "metadata": {},
   "source": [
    "### Conclusions and further steps\n",
    "\n",
    "[Formulate your conclusions regarding the initial data. What do you think looks normal and what does not not?]\n",
    "Everything looks good excepts that there are alot of missing values which need to be fixed.\n",
    "\n",
    "[Explain your next steps and how they correlate with the conclusions you made so far. Specifically, it should be clear what part of data should be treated to make it more suitable for the required analysis.]\n",
    "First I'll handle the missing values."
   ]
  },
  {
   "cell_type": "code",
   "execution_count": 9,
   "metadata": {},
   "outputs": [],
   "source": [
    "crankshaft_list.loc[crankshaft_list['is_4wd'].isna(), 'is_4wd'] = 0"
   ]
  },
  {
   "cell_type": "markdown",
   "metadata": {},
   "source": [
    "<div class=\"alert alert-block alert-success\">\n",
    "<b>Reviewer's comment v1:</b>\n",
    "\n",
    "\n",
    "**`is_4wd`**\n",
    "    \n",
    "Indeed, `is_4wd` contains a boolean type of information (yes/no). So filling missing data with 0 will allow us to keep a potentially useful feature. \n"
   ]
  },
  {
   "cell_type": "markdown",
   "metadata": {},
   "source": [
    "## Treat missing values (if any)"
   ]
  },
  {
   "cell_type": "markdown",
   "metadata": {},
   "source": [
    "[Study missing values for each column in more details and decide what to do with them based on meaningful hypotheses.]"
   ]
  },
  {
   "cell_type": "code",
   "execution_count": 10,
   "metadata": {},
   "outputs": [
    {
     "data": {
      "text/plain": [
       "0"
      ]
     },
     "execution_count": 10,
     "metadata": {},
     "output_type": "execute_result"
    }
   ],
   "source": [
    "crankshaft_list['is_4wd'].isna().sum()"
   ]
  },
  {
   "cell_type": "code",
   "execution_count": 11,
   "metadata": {},
   "outputs": [
    {
     "name": "stdout",
     "output_type": "stream",
     "text": [
      "The mean for model of year is:\n",
      "2009.75046966977\n",
      "The maximum and minimum values are:\n",
      "2019.0 1908.0\n",
      "The median value is:\n",
      "2011.0\n",
      "I'll use median to fill in the missing values in model_year column\n"
     ]
    },
    {
     "data": {
      "text/plain": [
       "0"
      ]
     },
     "execution_count": 11,
     "metadata": {},
     "output_type": "execute_result"
    }
   ],
   "source": [
    "print('The mean for model of year is:')\n",
    "print(crankshaft_list['model_year'].mean())\n",
    "print('The maximum and minimum values are:')\n",
    "print(max(crankshaft_list['model_year']) , min(crankshaft_list['model_year']))\n",
    "print('The median value is:')\n",
    "print(crankshaft_list['model_year'].median())\n",
    "print(\"I'll use median to fill in the missing values in model_year column\")\n",
    "crankshaft_list['model_year'].fillna(value=crankshaft_list['model_year'].median(), inplace=True)\n",
    "#let check if the missing values are solved\n",
    "crankshaft_list['model_year'].isna().sum()"
   ]
  },
  {
   "cell_type": "markdown",
   "metadata": {},
   "source": [
    "<div class=\"alert alert-block alert-success\">\n",
    "<b>Reviewer's comment v2:</b>\n",
    "\n",
    "You have done great work with missing values.\n",
    "It is indeed more beneficial to try to restore missing data, as by deleting it we can lose potentially important insights. \n",
    "\n",
    "**`model_year`**\n",
    "  \n",
    "Potentially model_year could be also correlated with car moder or condition.\n",
    "\n"
   ]
  },
  {
   "cell_type": "code",
   "execution_count": 12,
   "metadata": {},
   "outputs": [
    {
     "name": "stdout",
     "output_type": "stream",
     "text": [
      "The mean for odometer is:\n",
      "115553.4617376756\n",
      "The maximum and minimum values are:\n",
      "990000.0 0.0\n",
      "The median value is:\n",
      "113000.0\n",
      "0\n"
     ]
    }
   ],
   "source": [
    "print('The mean for odometer is:')\n",
    "print(crankshaft_list['odometer'].mean())\n",
    "print('The maximum and minimum values are:')\n",
    "print(max(crankshaft_list['odometer']) , min(crankshaft_list['odometer']))\n",
    "#let check if the missing values are solved\n",
    "crankshaft_list['odometer'].isna().sum()\n",
    "print('The median value is:')\n",
    "print(crankshaft_list['odometer'].median())\n",
    "#let fill up the missing values\n",
    "crankshaft_list['odometer'].fillna(value=crankshaft_list['odometer'].median(), inplace=True)\n",
    "#lets check if there are any missing values\n",
    "print(crankshaft_list['odometer'].isna().sum())"
   ]
  },
  {
   "cell_type": "markdown",
   "metadata": {},
   "source": [
    "<div class=\"alert alert-block alert-success\">\n",
    "<b>Reviewer's comment v2:</b>\n",
    "\n",
    "    \n",
    "**`odometer`** \n",
    "\n",
    "Well done with missing values in odometer! Another approach could be to again use groupped values by model_year or car condition.    \n",
    "\n",
    "</div>"
   ]
  },
  {
   "cell_type": "code",
   "execution_count": 13,
   "metadata": {},
   "outputs": [
    {
     "name": "stdout",
     "output_type": "stream",
     "text": [
      "The mean for cylinders is:\n",
      "6.125235058899817\n",
      "The maximum and minimum values are:\n",
      "12.0 3.0\n",
      "The median value is:\n",
      "6.0\n"
     ]
    },
    {
     "data": {
      "text/plain": [
       "0"
      ]
     },
     "execution_count": 13,
     "metadata": {},
     "output_type": "execute_result"
    }
   ],
   "source": [
    "print('The mean for cylinders is:')\n",
    "print(crankshaft_list['cylinders'].mean())\n",
    "print('The maximum and minimum values are:')\n",
    "print(max(crankshaft_list['cylinders']) , min(crankshaft_list['cylinders']))\n",
    "#let check if the missing values are solved\n",
    "crankshaft_list['cylinders'].isna().sum()\n",
    "print('The median value is:')\n",
    "print(crankshaft_list['cylinders'].median())\n",
    "crankshaft_list['cylinders'].fillna(value=crankshaft_list['cylinders'].mean(), inplace=True)\n",
    "#lets see if there are missing values\n",
    "crankshaft_list['cylinders'].isna().sum()"
   ]
  },
  {
   "cell_type": "markdown",
   "metadata": {},
   "source": [
    "<div class=\"alert alert-block alert-success\">\n",
    "<b>Reviewer's comment v2:</b>\n",
    "\n",
    "\n",
    "**`cylinders`** \n",
    "\n",
    "Thanks for adding that. Here either type or car model can be also used to find more relevant value. \n",
    "    \n"
   ]
  },
  {
   "cell_type": "code",
   "execution_count": 14,
   "metadata": {},
   "outputs": [
    {
     "data": {
      "text/plain": [
       "0"
      ]
     },
     "execution_count": 14,
     "metadata": {},
     "output_type": "execute_result"
    }
   ],
   "source": [
    "crankshaft_list['paint_color'].fillna(value='Unknown', inplace=True)\n",
    "#lets check if there are more missing values\n",
    "crankshaft_list['paint_color'].isna().sum()"
   ]
  },
  {
   "cell_type": "markdown",
   "metadata": {},
   "source": [
    "<div class=\"alert alert-block alert-success\">\n",
    "<b>Reviewer's comment v2:</b>\n",
    "\n",
    "**`paint_color`**   \n",
    "\n",
    "Here indeed I can recommend to fill it with 'unknown' or any other placeholder, as it is not possible to fill this value based on other car features.\n"
   ]
  },
  {
   "cell_type": "code",
   "execution_count": 15,
   "metadata": {},
   "outputs": [
    {
     "data": {
      "text/plain": [
       "price           0\n",
       "model_year      0\n",
       "model           0\n",
       "condition       0\n",
       "cylinders       0\n",
       "fuel            0\n",
       "odometer        0\n",
       "transmission    0\n",
       "type            0\n",
       "paint_color     0\n",
       "is_4wd          0\n",
       "date_posted     0\n",
       "days_listed     0\n",
       "dtype: int64"
      ]
     },
     "execution_count": 15,
     "metadata": {},
     "output_type": "execute_result"
    }
   ],
   "source": [
    "crankshaft_list.isna().sum()"
   ]
  },
  {
   "cell_type": "markdown",
   "metadata": {},
   "source": [
    "## Fix data types"
   ]
  },
  {
   "cell_type": "markdown",
   "metadata": {},
   "source": [
    "[As the data is more or less complete now, fix the data types if required.]"
   ]
  },
  {
   "cell_type": "code",
   "execution_count": 16,
   "metadata": {},
   "outputs": [
    {
     "name": "stdout",
     "output_type": "stream",
     "text": [
      "<class 'pandas.core.frame.DataFrame'>\n",
      "RangeIndex: 51525 entries, 0 to 51524\n",
      "Data columns (total 13 columns):\n",
      "price           51525 non-null int64\n",
      "model_year      51525 non-null float64\n",
      "model           51525 non-null object\n",
      "condition       51525 non-null object\n",
      "cylinders       51525 non-null float64\n",
      "fuel            51525 non-null object\n",
      "odometer        51525 non-null float64\n",
      "transmission    51525 non-null object\n",
      "type            51525 non-null object\n",
      "paint_color     51525 non-null object\n",
      "is_4wd          51525 non-null float64\n",
      "date_posted     51525 non-null datetime64[ns]\n",
      "days_listed     51525 non-null int64\n",
      "dtypes: datetime64[ns](1), float64(4), int64(2), object(6)\n",
      "memory usage: 5.1+ MB\n"
     ]
    }
   ],
   "source": [
    "crankshaft_list['date_posted'] = pd.to_datetime(crankshaft_list['date_posted'], format='%Y-%m-%d')\n",
    "crankshaft_list.info()"
   ]
  },
  {
   "cell_type": "markdown",
   "metadata": {},
   "source": [
    "<div class=\"alert alert-danger\">\n",
    "<b>Reviewer's comment v1:</b>\n",
    "    \n",
    "Great that you checked data types, but can you please add solution for other columns with missing data:\n",
    "    \n",
    "    - **`model_year`**\n",
    "    - **`cylinders`**  \n",
    "    - **`odometer`**  \n",
    "    - **`paint_color`**   \n",
    "    "
   ]
  },
  {
   "cell_type": "markdown",
   "metadata": {},
   "source": [
    "## Enrich data"
   ]
  },
  {
   "cell_type": "markdown",
   "metadata": {},
   "source": [
    "[Add additional factors to the data to make the analysis easier.]"
   ]
  },
  {
   "cell_type": "code",
   "execution_count": 17,
   "metadata": {},
   "outputs": [],
   "source": [
    "# Add datetime values for when the ad was placed\n",
    "crankshaft_list['year_placed'] = pd.DatetimeIndex(crankshaft_list['date_posted']).year"
   ]
  },
  {
   "cell_type": "code",
   "execution_count": 18,
   "metadata": {},
   "outputs": [
    {
     "name": "stdout",
     "output_type": "stream",
     "text": [
      "0        10.0\n",
      "1        10.0\n",
      "2         8.0\n",
      "3        18.0\n",
      "4         4.0\n",
      "         ... \n",
      "51520     8.0\n",
      "51521    19.0\n",
      "51522    12.0\n",
      "51523     8.0\n",
      "51524     7.0\n",
      "Name: vehicle_age, Length: 51525, dtype: float64\n"
     ]
    }
   ],
   "source": [
    "# Add the vehicle's age when the ad was placed\n",
    "crankshaft_list['vehicle_age'] = pd.to_datetime(\"now\").year - crankshaft_list['model_year']\n",
    "print(crankshaft_list['vehicle_age'])\n"
   ]
  },
  {
   "cell_type": "markdown",
   "metadata": {},
   "source": [
    "<div class=\"alert alert-warning\">\n",
    "<b>Reviewer's comment v1:</b>\n",
    "    \n",
    "Here you can slso add  +1 to the equation above to take into account the current year. Otherwise, it will lead to multiple 0 in `vehicle_age` (as below) and as a result infinite values in `avg_mileage`. \n",
    "\n"
   ]
  },
  {
   "cell_type": "code",
   "execution_count": 19,
   "metadata": {},
   "outputs": [
    {
     "data": {
      "text/plain": [
       "0        14500.000000\n",
       "1         8870.500000\n",
       "2        13750.000000\n",
       "3         6277.777778\n",
       "4        20225.750000\n",
       "             ...     \n",
       "51520    11017.000000\n",
       "51521     9552.631579\n",
       "51522    10666.666667\n",
       "51523    17446.625000\n",
       "51524    16142.857143\n",
       "Name: avg_mileage, Length: 51525, dtype: float64"
      ]
     },
     "execution_count": 19,
     "metadata": {},
     "output_type": "execute_result"
    }
   ],
   "source": [
    "# Add the vehicle's average mileage per year\n",
    "crankshaft_list['avg_mileage'] = crankshaft_list['odometer'] / crankshaft_list['vehicle_age']\n",
    "crankshaft_list['avg_mileage']"
   ]
  },
  {
   "cell_type": "code",
   "execution_count": 20,
   "metadata": {},
   "outputs": [],
   "source": [
    "# It might help to replace the condition values with something that can be manipulated more easily\n",
    "\n",
    "\n"
   ]
  },
  {
   "cell_type": "markdown",
   "metadata": {},
   "source": [
    "## Check clean data"
   ]
  },
  {
   "cell_type": "markdown",
   "metadata": {},
   "source": [
    "[Given the data is ready for the analysis, take just another quick look at it. It is helpful to see what exactly you are going to use for the analysis.]"
   ]
  },
  {
   "cell_type": "code",
   "execution_count": 21,
   "metadata": {},
   "outputs": [
    {
     "name": "stdout",
     "output_type": "stream",
     "text": [
      "<class 'pandas.core.frame.DataFrame'>\n",
      "RangeIndex: 51525 entries, 0 to 51524\n",
      "Data columns (total 16 columns):\n",
      "price           51525 non-null int64\n",
      "model_year      51525 non-null float64\n",
      "model           51525 non-null object\n",
      "condition       51525 non-null object\n",
      "cylinders       51525 non-null float64\n",
      "fuel            51525 non-null object\n",
      "odometer        51525 non-null float64\n",
      "transmission    51525 non-null object\n",
      "type            51525 non-null object\n",
      "paint_color     51525 non-null object\n",
      "is_4wd          51525 non-null float64\n",
      "date_posted     51525 non-null datetime64[ns]\n",
      "days_listed     51525 non-null int64\n",
      "year_placed     51525 non-null int64\n",
      "vehicle_age     51525 non-null float64\n",
      "avg_mileage     51525 non-null float64\n",
      "dtypes: datetime64[ns](1), float64(6), int64(3), object(6)\n",
      "memory usage: 6.3+ MB\n"
     ]
    }
   ],
   "source": [
    "# print the general/summary information about the DataFrame\n",
    "crankshaft_list.info()"
   ]
  },
  {
   "cell_type": "code",
   "execution_count": 22,
   "metadata": {},
   "outputs": [
    {
     "data": {
      "text/html": [
       "<div>\n",
       "<style scoped>\n",
       "    .dataframe tbody tr th:only-of-type {\n",
       "        vertical-align: middle;\n",
       "    }\n",
       "\n",
       "    .dataframe tbody tr th {\n",
       "        vertical-align: top;\n",
       "    }\n",
       "\n",
       "    .dataframe thead th {\n",
       "        text-align: right;\n",
       "    }\n",
       "</style>\n",
       "<table border=\"1\" class=\"dataframe\">\n",
       "  <thead>\n",
       "    <tr style=\"text-align: right;\">\n",
       "      <th></th>\n",
       "      <th>price</th>\n",
       "      <th>model_year</th>\n",
       "      <th>model</th>\n",
       "      <th>condition</th>\n",
       "      <th>cylinders</th>\n",
       "      <th>fuel</th>\n",
       "      <th>odometer</th>\n",
       "      <th>transmission</th>\n",
       "      <th>type</th>\n",
       "      <th>paint_color</th>\n",
       "      <th>is_4wd</th>\n",
       "      <th>date_posted</th>\n",
       "      <th>days_listed</th>\n",
       "      <th>year_placed</th>\n",
       "      <th>vehicle_age</th>\n",
       "      <th>avg_mileage</th>\n",
       "    </tr>\n",
       "  </thead>\n",
       "  <tbody>\n",
       "    <tr>\n",
       "      <td>0</td>\n",
       "      <td>9400</td>\n",
       "      <td>2011.0</td>\n",
       "      <td>bmw x5</td>\n",
       "      <td>good</td>\n",
       "      <td>6.0</td>\n",
       "      <td>gas</td>\n",
       "      <td>145000.0</td>\n",
       "      <td>automatic</td>\n",
       "      <td>SUV</td>\n",
       "      <td>Unknown</td>\n",
       "      <td>1.0</td>\n",
       "      <td>2018-06-23</td>\n",
       "      <td>19</td>\n",
       "      <td>2018</td>\n",
       "      <td>10.0</td>\n",
       "      <td>14500.000000</td>\n",
       "    </tr>\n",
       "    <tr>\n",
       "      <td>1</td>\n",
       "      <td>25500</td>\n",
       "      <td>2011.0</td>\n",
       "      <td>ford f-150</td>\n",
       "      <td>good</td>\n",
       "      <td>6.0</td>\n",
       "      <td>gas</td>\n",
       "      <td>88705.0</td>\n",
       "      <td>automatic</td>\n",
       "      <td>pickup</td>\n",
       "      <td>white</td>\n",
       "      <td>1.0</td>\n",
       "      <td>2018-10-19</td>\n",
       "      <td>50</td>\n",
       "      <td>2018</td>\n",
       "      <td>10.0</td>\n",
       "      <td>8870.500000</td>\n",
       "    </tr>\n",
       "    <tr>\n",
       "      <td>2</td>\n",
       "      <td>5500</td>\n",
       "      <td>2013.0</td>\n",
       "      <td>hyundai sonata</td>\n",
       "      <td>like new</td>\n",
       "      <td>4.0</td>\n",
       "      <td>gas</td>\n",
       "      <td>110000.0</td>\n",
       "      <td>automatic</td>\n",
       "      <td>sedan</td>\n",
       "      <td>red</td>\n",
       "      <td>0.0</td>\n",
       "      <td>2019-02-07</td>\n",
       "      <td>79</td>\n",
       "      <td>2019</td>\n",
       "      <td>8.0</td>\n",
       "      <td>13750.000000</td>\n",
       "    </tr>\n",
       "    <tr>\n",
       "      <td>3</td>\n",
       "      <td>1500</td>\n",
       "      <td>2003.0</td>\n",
       "      <td>ford f-150</td>\n",
       "      <td>fair</td>\n",
       "      <td>8.0</td>\n",
       "      <td>gas</td>\n",
       "      <td>113000.0</td>\n",
       "      <td>automatic</td>\n",
       "      <td>pickup</td>\n",
       "      <td>Unknown</td>\n",
       "      <td>0.0</td>\n",
       "      <td>2019-03-22</td>\n",
       "      <td>9</td>\n",
       "      <td>2019</td>\n",
       "      <td>18.0</td>\n",
       "      <td>6277.777778</td>\n",
       "    </tr>\n",
       "    <tr>\n",
       "      <td>4</td>\n",
       "      <td>14900</td>\n",
       "      <td>2017.0</td>\n",
       "      <td>chrysler 200</td>\n",
       "      <td>excellent</td>\n",
       "      <td>4.0</td>\n",
       "      <td>gas</td>\n",
       "      <td>80903.0</td>\n",
       "      <td>automatic</td>\n",
       "      <td>sedan</td>\n",
       "      <td>black</td>\n",
       "      <td>0.0</td>\n",
       "      <td>2019-04-02</td>\n",
       "      <td>28</td>\n",
       "      <td>2019</td>\n",
       "      <td>4.0</td>\n",
       "      <td>20225.750000</td>\n",
       "    </tr>\n",
       "    <tr>\n",
       "      <td>...</td>\n",
       "      <td>...</td>\n",
       "      <td>...</td>\n",
       "      <td>...</td>\n",
       "      <td>...</td>\n",
       "      <td>...</td>\n",
       "      <td>...</td>\n",
       "      <td>...</td>\n",
       "      <td>...</td>\n",
       "      <td>...</td>\n",
       "      <td>...</td>\n",
       "      <td>...</td>\n",
       "      <td>...</td>\n",
       "      <td>...</td>\n",
       "      <td>...</td>\n",
       "      <td>...</td>\n",
       "      <td>...</td>\n",
       "    </tr>\n",
       "    <tr>\n",
       "      <td>51520</td>\n",
       "      <td>9249</td>\n",
       "      <td>2013.0</td>\n",
       "      <td>nissan maxima</td>\n",
       "      <td>like new</td>\n",
       "      <td>6.0</td>\n",
       "      <td>gas</td>\n",
       "      <td>88136.0</td>\n",
       "      <td>automatic</td>\n",
       "      <td>sedan</td>\n",
       "      <td>black</td>\n",
       "      <td>0.0</td>\n",
       "      <td>2018-10-03</td>\n",
       "      <td>37</td>\n",
       "      <td>2018</td>\n",
       "      <td>8.0</td>\n",
       "      <td>11017.000000</td>\n",
       "    </tr>\n",
       "    <tr>\n",
       "      <td>51521</td>\n",
       "      <td>2700</td>\n",
       "      <td>2002.0</td>\n",
       "      <td>honda civic</td>\n",
       "      <td>salvage</td>\n",
       "      <td>4.0</td>\n",
       "      <td>gas</td>\n",
       "      <td>181500.0</td>\n",
       "      <td>automatic</td>\n",
       "      <td>sedan</td>\n",
       "      <td>white</td>\n",
       "      <td>0.0</td>\n",
       "      <td>2018-11-14</td>\n",
       "      <td>22</td>\n",
       "      <td>2018</td>\n",
       "      <td>19.0</td>\n",
       "      <td>9552.631579</td>\n",
       "    </tr>\n",
       "    <tr>\n",
       "      <td>51522</td>\n",
       "      <td>3950</td>\n",
       "      <td>2009.0</td>\n",
       "      <td>hyundai sonata</td>\n",
       "      <td>excellent</td>\n",
       "      <td>4.0</td>\n",
       "      <td>gas</td>\n",
       "      <td>128000.0</td>\n",
       "      <td>automatic</td>\n",
       "      <td>sedan</td>\n",
       "      <td>blue</td>\n",
       "      <td>0.0</td>\n",
       "      <td>2018-11-15</td>\n",
       "      <td>32</td>\n",
       "      <td>2018</td>\n",
       "      <td>12.0</td>\n",
       "      <td>10666.666667</td>\n",
       "    </tr>\n",
       "    <tr>\n",
       "      <td>51523</td>\n",
       "      <td>7455</td>\n",
       "      <td>2013.0</td>\n",
       "      <td>toyota corolla</td>\n",
       "      <td>good</td>\n",
       "      <td>4.0</td>\n",
       "      <td>gas</td>\n",
       "      <td>139573.0</td>\n",
       "      <td>automatic</td>\n",
       "      <td>sedan</td>\n",
       "      <td>black</td>\n",
       "      <td>0.0</td>\n",
       "      <td>2018-07-02</td>\n",
       "      <td>71</td>\n",
       "      <td>2018</td>\n",
       "      <td>8.0</td>\n",
       "      <td>17446.625000</td>\n",
       "    </tr>\n",
       "    <tr>\n",
       "      <td>51524</td>\n",
       "      <td>6300</td>\n",
       "      <td>2014.0</td>\n",
       "      <td>nissan altima</td>\n",
       "      <td>good</td>\n",
       "      <td>4.0</td>\n",
       "      <td>gas</td>\n",
       "      <td>113000.0</td>\n",
       "      <td>automatic</td>\n",
       "      <td>sedan</td>\n",
       "      <td>Unknown</td>\n",
       "      <td>0.0</td>\n",
       "      <td>2018-06-05</td>\n",
       "      <td>10</td>\n",
       "      <td>2018</td>\n",
       "      <td>7.0</td>\n",
       "      <td>16142.857143</td>\n",
       "    </tr>\n",
       "  </tbody>\n",
       "</table>\n",
       "<p>51525 rows × 16 columns</p>\n",
       "</div>"
      ],
      "text/plain": [
       "       price  model_year           model  condition  cylinders fuel  odometer  \\\n",
       "0       9400      2011.0          bmw x5       good        6.0  gas  145000.0   \n",
       "1      25500      2011.0      ford f-150       good        6.0  gas   88705.0   \n",
       "2       5500      2013.0  hyundai sonata   like new        4.0  gas  110000.0   \n",
       "3       1500      2003.0      ford f-150       fair        8.0  gas  113000.0   \n",
       "4      14900      2017.0    chrysler 200  excellent        4.0  gas   80903.0   \n",
       "...      ...         ...             ...        ...        ...  ...       ...   \n",
       "51520   9249      2013.0   nissan maxima   like new        6.0  gas   88136.0   \n",
       "51521   2700      2002.0     honda civic    salvage        4.0  gas  181500.0   \n",
       "51522   3950      2009.0  hyundai sonata  excellent        4.0  gas  128000.0   \n",
       "51523   7455      2013.0  toyota corolla       good        4.0  gas  139573.0   \n",
       "51524   6300      2014.0   nissan altima       good        4.0  gas  113000.0   \n",
       "\n",
       "      transmission    type paint_color  is_4wd date_posted  days_listed  \\\n",
       "0        automatic     SUV     Unknown     1.0  2018-06-23           19   \n",
       "1        automatic  pickup       white     1.0  2018-10-19           50   \n",
       "2        automatic   sedan         red     0.0  2019-02-07           79   \n",
       "3        automatic  pickup     Unknown     0.0  2019-03-22            9   \n",
       "4        automatic   sedan       black     0.0  2019-04-02           28   \n",
       "...            ...     ...         ...     ...         ...          ...   \n",
       "51520    automatic   sedan       black     0.0  2018-10-03           37   \n",
       "51521    automatic   sedan       white     0.0  2018-11-14           22   \n",
       "51522    automatic   sedan        blue     0.0  2018-11-15           32   \n",
       "51523    automatic   sedan       black     0.0  2018-07-02           71   \n",
       "51524    automatic   sedan     Unknown     0.0  2018-06-05           10   \n",
       "\n",
       "       year_placed  vehicle_age   avg_mileage  \n",
       "0             2018         10.0  14500.000000  \n",
       "1             2018         10.0   8870.500000  \n",
       "2             2019          8.0  13750.000000  \n",
       "3             2019         18.0   6277.777778  \n",
       "4             2019          4.0  20225.750000  \n",
       "...            ...          ...           ...  \n",
       "51520         2018          8.0  11017.000000  \n",
       "51521         2018         19.0   9552.631579  \n",
       "51522         2018         12.0  10666.666667  \n",
       "51523         2018          8.0  17446.625000  \n",
       "51524         2018          7.0  16142.857143  \n",
       "\n",
       "[51525 rows x 16 columns]"
      ]
     },
     "execution_count": 22,
     "metadata": {},
     "output_type": "execute_result"
    }
   ],
   "source": [
    "# print a sample of data\n",
    "crankshaft_list"
   ]
  },
  {
   "cell_type": "markdown",
   "metadata": {},
   "source": [
    "## Study core parameters\n",
    "\n",
    "[Choose an appropriate approach to study the parameters listed below, pay special attention to how outliers affect the form and readability of the histograms.]\n",
    "\n",
    "The parameters are\n",
    "- Price\n",
    "- The vehicle's age when the ad was placed\n",
    "- Mileage\n",
    "- Number of cylinders\n",
    "- Condition"
   ]
  },
  {
   "cell_type": "markdown",
   "metadata": {},
   "source": [
    "[If you find that you need to repeat the same jobs multiple times, think about what coding instrument might be helpful for such a thing to avoid duplicating your code.]"
   ]
  },
  {
   "cell_type": "code",
   "execution_count": 23,
   "metadata": {},
   "outputs": [
    {
     "name": "stdout",
     "output_type": "stream",
     "text": [
      "             price\n",
      "type              \n",
      "SUV           8900\n",
      "bus          10500\n",
      "convertible  12250\n",
      "coupe        12950\n",
      "hatchback     5980\n",
      "mini-van      6495\n",
      "offroad      11650\n",
      "other         8995\n",
      "pickup       14200\n",
      "sedan         5995\n",
      "truck        14995\n",
      "van           7990\n",
      "wagon         7900\n"
     ]
    },
    {
     "data": {
      "text/plain": [
       "array([[<matplotlib.axes._subplots.AxesSubplot object at 0x7f89bc9f4f10>]],\n",
       "      dtype=object)"
      ]
     },
     "execution_count": 23,
     "metadata": {},
     "output_type": "execute_result"
    },
    {
     "data": {
      "image/png": "[encoded data removed]",
      "text/plain": [
       "<Figure size 720x360 with 1 Axes>"
      ]
     },
     "metadata": {
      "needs_background": "light"
     },
     "output_type": "display_data"
    }
   ],
   "source": [
    "#Let's have a look at price histogram\n",
    "good_data_price = crankshaft_list.pivot_table(\n",
    "    index='type', values='price', aggfunc='median')\n",
    "print(good_data_price)\n",
    "good_data_price.hist(bins=50, figsize=(10,5))\n"
   ]
  },
  {
   "cell_type": "code",
   "execution_count": 24,
   "metadata": {},
   "outputs": [
    {
     "name": "stdout",
     "output_type": "stream",
     "text": [
      "             vehicle_age\n",
      "type                    \n",
      "SUV                 10.0\n",
      "bus                 10.0\n",
      "convertible         16.0\n",
      "coupe               10.0\n",
      "hatchback           10.0\n",
      "mini-van            11.0\n",
      "offroad             15.0\n",
      "other               10.0\n",
      "pickup              10.0\n",
      "sedan               10.0\n",
      "truck               10.0\n",
      "van                 10.0\n",
      "wagon               10.0\n"
     ]
    },
    {
     "data": {
      "text/plain": [
       "array([[<matplotlib.axes._subplots.AxesSubplot object at 0x7f89b3fb5650>]],\n",
       "      dtype=object)"
      ]
     },
     "execution_count": 24,
     "metadata": {},
     "output_type": "execute_result"
    },
    {
     "data": {
      "image/png": "[encoded data removed]",
      "text/plain": [
       "<Figure size 720x360 with 1 Axes>"
      ]
     },
     "metadata": {
      "needs_background": "light"
     },
     "output_type": "display_data"
    }
   ],
   "source": [
    "#Let's have a look at vehicle's age histogram\n",
    "good_data_age = crankshaft_list.pivot_table(\n",
    "    index='type', values='vehicle_age', aggfunc='median')\n",
    "print(good_data_age)\n",
    "good_data_age.hist(bins=50, figsize=(10,5))"
   ]
  },
  {
   "cell_type": "code",
   "execution_count": 25,
   "metadata": {},
   "outputs": [
    {
     "name": "stdout",
     "output_type": "stream",
     "text": [
      "             odometer\n",
      "type                 \n",
      "SUV          113000.0\n",
      "bus          111352.5\n",
      "convertible   90472.0\n",
      "coupe         82350.0\n",
      "hatchback    113000.0\n",
      "mini-van     116000.0\n",
      "offroad      113000.0\n",
      "other        112218.0\n",
      "pickup       113000.0\n",
      "sedan        113000.0\n",
      "truck        113000.0\n",
      "van          113000.0\n",
      "wagon        113000.0\n"
     ]
    },
    {
     "data": {
      "text/plain": [
       "array([[<matplotlib.axes._subplots.AxesSubplot object at 0x7f89b3e5a3d0>]],\n",
       "      dtype=object)"
      ]
     },
     "execution_count": 25,
     "metadata": {},
     "output_type": "execute_result"
    },
    {
     "data": {
      "image/png": "[encoded data removed]",
      "text/plain": [
       "<Figure size 720x360 with 1 Axes>"
      ]
     },
     "metadata": {
      "needs_background": "light"
     },
     "output_type": "display_data"
    }
   ],
   "source": [
    "#Let's have a look at mileage histogram\n",
    "good_data_mileage = crankshaft_list.pivot_table(\n",
    "    index='type', values='odometer', aggfunc='median')\n",
    "print(good_data_mileage)\n",
    "good_data_mileage.hist(bins=50, figsize=(10,5))\n"
   ]
  },
  {
   "cell_type": "code",
   "execution_count": 26,
   "metadata": {},
   "outputs": [
    {
     "name": "stdout",
     "output_type": "stream",
     "text": [
      "             cylinders\n",
      "type                  \n",
      "SUV           6.000000\n",
      "bus          10.000000\n",
      "convertible   6.125235\n",
      "coupe         6.000000\n",
      "hatchback     4.000000\n",
      "mini-van      6.000000\n",
      "offroad       6.000000\n",
      "other         6.000000\n",
      "pickup        8.000000\n",
      "sedan         4.000000\n",
      "truck         8.000000\n",
      "van           6.000000\n",
      "wagon         4.000000\n"
     ]
    },
    {
     "data": {
      "text/plain": [
       "array([[<matplotlib.axes._subplots.AxesSubplot object at 0x7f89b3d60410>]],\n",
       "      dtype=object)"
      ]
     },
     "execution_count": 26,
     "metadata": {},
     "output_type": "execute_result"
    },
    {
     "data": {
      "image/png": "[encoded data removed]",
      "text/plain": [
       "<Figure size 720x360 with 1 Axes>"
      ]
     },
     "metadata": {
      "needs_background": "light"
     },
     "output_type": "display_data"
    }
   ],
   "source": [
    "#Let's have a look at cylinders histogram\n",
    "good_data_cylinder = crankshaft_list.pivot_table(\n",
    "    index='type', values='cylinders', aggfunc='median')\n",
    "print(good_data_cylinder)\n",
    "good_data_cylinder.hist(bins=50, figsize=(10,5))\n"
   ]
  },
  {
   "cell_type": "code",
   "execution_count": 27,
   "metadata": {},
   "outputs": [
    {
     "name": "stdout",
     "output_type": "stream",
     "text": [
      "              avg_mileage\n",
      "type                     \n",
      "SUV          10862.888889\n",
      "bus           5279.222222\n",
      "convertible   5733.026738\n",
      "coupe         7292.666667\n",
      "hatchback    10900.000000\n",
      "mini-van     11461.538462\n",
      "offroad       7299.679487\n",
      "other         9965.333333\n",
      "pickup       10655.023077\n",
      "sedan        10928.185714\n",
      "truck        11263.500000\n",
      "van          11416.666667\n",
      "wagon        11300.000000\n"
     ]
    },
    {
     "data": {
      "text/plain": [
       "array([[<matplotlib.axes._subplots.AxesSubplot object at 0x7f89b3f4c590>]],\n",
       "      dtype=object)"
      ]
     },
     "execution_count": 27,
     "metadata": {},
     "output_type": "execute_result"
    },
    {
     "data": {
      "image/png": "[encoded data removed]",
      "text/plain": [
       "<Figure size 720x360 with 1 Axes>"
      ]
     },
     "metadata": {
      "needs_background": "light"
     },
     "output_type": "display_data"
    }
   ],
   "source": [
    "#Let's have a look at avarage mileage histogram\n",
    "good_data_avg = crankshaft_list.pivot_table(\n",
    "    index='type', values='avg_mileage', aggfunc='median')\n",
    "print(good_data_avg)\n",
    "good_data_avg.hist(bins=50, figsize=(10,5))\n"
   ]
  },
  {
   "cell_type": "code",
   "execution_count": 28,
   "metadata": {},
   "outputs": [
    {
     "data": {
      "text/html": [
       "<div>\n",
       "<style scoped>\n",
       "    .dataframe tbody tr th:only-of-type {\n",
       "        vertical-align: middle;\n",
       "    }\n",
       "\n",
       "    .dataframe tbody tr th {\n",
       "        vertical-align: top;\n",
       "    }\n",
       "\n",
       "    .dataframe thead th {\n",
       "        text-align: right;\n",
       "    }\n",
       "</style>\n",
       "<table border=\"1\" class=\"dataframe\">\n",
       "  <thead>\n",
       "    <tr style=\"text-align: right;\">\n",
       "      <th></th>\n",
       "      <th>price</th>\n",
       "      <th>vehicle_age</th>\n",
       "      <th>odometer</th>\n",
       "      <th>avg_mileage</th>\n",
       "    </tr>\n",
       "  </thead>\n",
       "  <tbody>\n",
       "    <tr>\n",
       "      <td>price</td>\n",
       "      <td>1.000000</td>\n",
       "      <td>0.253585</td>\n",
       "      <td>-0.414544</td>\n",
       "      <td>-0.410296</td>\n",
       "    </tr>\n",
       "    <tr>\n",
       "      <td>vehicle_age</td>\n",
       "      <td>0.253585</td>\n",
       "      <td>1.000000</td>\n",
       "      <td>-0.331866</td>\n",
       "      <td>-0.572890</td>\n",
       "    </tr>\n",
       "    <tr>\n",
       "      <td>odometer</td>\n",
       "      <td>-0.414544</td>\n",
       "      <td>-0.331866</td>\n",
       "      <td>1.000000</td>\n",
       "      <td>0.601468</td>\n",
       "    </tr>\n",
       "    <tr>\n",
       "      <td>avg_mileage</td>\n",
       "      <td>-0.410296</td>\n",
       "      <td>-0.572890</td>\n",
       "      <td>0.601468</td>\n",
       "      <td>1.000000</td>\n",
       "    </tr>\n",
       "  </tbody>\n",
       "</table>\n",
       "</div>"
      ],
      "text/plain": [
       "                price  vehicle_age  odometer  avg_mileage\n",
       "price        1.000000     0.253585 -0.414544    -0.410296\n",
       "vehicle_age  0.253585     1.000000 -0.331866    -0.572890\n",
       "odometer    -0.414544    -0.331866  1.000000     0.601468\n",
       "avg_mileage -0.410296    -0.572890  0.601468     1.000000"
      ]
     },
     "execution_count": 28,
     "metadata": {},
     "output_type": "execute_result"
    }
   ],
   "source": [
    "#Let find the correlation between all the data\n",
    "final_data = good_data_price.join(good_data_age).join(good_data_mileage).join(good_data_avg)\n",
    "final_data.corr()\n"
   ]
  },
  {
   "cell_type": "markdown",
   "metadata": {},
   "source": [
    "## Study and treat outliers\n",
    "\n",
    "[Given the results above, determine what columns may contain outliers, and create a DataFrame without those outliers. Hint: Outliers can be identified by defining the lower/upper limits for normal range of values.]\n",
    "Avarage mile column seem to has an outliers between 2000-4000.\n",
    "Cylinder column seem to has outliers where there are row that describe 5 cylinder cars.\n"
   ]
  },
  {
   "cell_type": "code",
   "execution_count": 29,
   "metadata": {},
   "outputs": [],
   "source": [
    "# Determine the lower limits for outliers\n",
    "final_data = final_data.query('avg_mileage > 6000')\n"
   ]
  },
  {
   "cell_type": "code",
   "execution_count": 30,
   "metadata": {},
   "outputs": [],
   "source": [
    "# Determine the upper limits for outliers\n",
    "\n"
   ]
  },
  {
   "cell_type": "code",
   "execution_count": 31,
   "metadata": {},
   "outputs": [
    {
     "data": {
      "text/html": [
       "<div>\n",
       "<style scoped>\n",
       "    .dataframe tbody tr th:only-of-type {\n",
       "        vertical-align: middle;\n",
       "    }\n",
       "\n",
       "    .dataframe tbody tr th {\n",
       "        vertical-align: top;\n",
       "    }\n",
       "\n",
       "    .dataframe thead th {\n",
       "        text-align: right;\n",
       "    }\n",
       "</style>\n",
       "<table border=\"1\" class=\"dataframe\">\n",
       "  <thead>\n",
       "    <tr style=\"text-align: right;\">\n",
       "      <th></th>\n",
       "      <th>price</th>\n",
       "      <th>vehicle_age</th>\n",
       "      <th>odometer</th>\n",
       "      <th>avg_mileage</th>\n",
       "    </tr>\n",
       "    <tr>\n",
       "      <th>type</th>\n",
       "      <th></th>\n",
       "      <th></th>\n",
       "      <th></th>\n",
       "      <th></th>\n",
       "    </tr>\n",
       "  </thead>\n",
       "  <tbody>\n",
       "    <tr>\n",
       "      <td>SUV</td>\n",
       "      <td>8900</td>\n",
       "      <td>10.0</td>\n",
       "      <td>113000.0</td>\n",
       "      <td>10862.888889</td>\n",
       "    </tr>\n",
       "    <tr>\n",
       "      <td>coupe</td>\n",
       "      <td>12950</td>\n",
       "      <td>10.0</td>\n",
       "      <td>82350.0</td>\n",
       "      <td>7292.666667</td>\n",
       "    </tr>\n",
       "    <tr>\n",
       "      <td>hatchback</td>\n",
       "      <td>5980</td>\n",
       "      <td>10.0</td>\n",
       "      <td>113000.0</td>\n",
       "      <td>10900.000000</td>\n",
       "    </tr>\n",
       "    <tr>\n",
       "      <td>mini-van</td>\n",
       "      <td>6495</td>\n",
       "      <td>11.0</td>\n",
       "      <td>116000.0</td>\n",
       "      <td>11461.538462</td>\n",
       "    </tr>\n",
       "    <tr>\n",
       "      <td>offroad</td>\n",
       "      <td>11650</td>\n",
       "      <td>15.0</td>\n",
       "      <td>113000.0</td>\n",
       "      <td>7299.679487</td>\n",
       "    </tr>\n",
       "    <tr>\n",
       "      <td>other</td>\n",
       "      <td>8995</td>\n",
       "      <td>10.0</td>\n",
       "      <td>112218.0</td>\n",
       "      <td>9965.333333</td>\n",
       "    </tr>\n",
       "    <tr>\n",
       "      <td>pickup</td>\n",
       "      <td>14200</td>\n",
       "      <td>10.0</td>\n",
       "      <td>113000.0</td>\n",
       "      <td>10655.023077</td>\n",
       "    </tr>\n",
       "    <tr>\n",
       "      <td>sedan</td>\n",
       "      <td>5995</td>\n",
       "      <td>10.0</td>\n",
       "      <td>113000.0</td>\n",
       "      <td>10928.185714</td>\n",
       "    </tr>\n",
       "    <tr>\n",
       "      <td>truck</td>\n",
       "      <td>14995</td>\n",
       "      <td>10.0</td>\n",
       "      <td>113000.0</td>\n",
       "      <td>11263.500000</td>\n",
       "    </tr>\n",
       "    <tr>\n",
       "      <td>van</td>\n",
       "      <td>7990</td>\n",
       "      <td>10.0</td>\n",
       "      <td>113000.0</td>\n",
       "      <td>11416.666667</td>\n",
       "    </tr>\n",
       "    <tr>\n",
       "      <td>wagon</td>\n",
       "      <td>7900</td>\n",
       "      <td>10.0</td>\n",
       "      <td>113000.0</td>\n",
       "      <td>11300.000000</td>\n",
       "    </tr>\n",
       "  </tbody>\n",
       "</table>\n",
       "</div>"
      ],
      "text/plain": [
       "           price  vehicle_age  odometer   avg_mileage\n",
       "type                                                 \n",
       "SUV         8900         10.0  113000.0  10862.888889\n",
       "coupe      12950         10.0   82350.0   7292.666667\n",
       "hatchback   5980         10.0  113000.0  10900.000000\n",
       "mini-van    6495         11.0  116000.0  11461.538462\n",
       "offroad    11650         15.0  113000.0   7299.679487\n",
       "other       8995         10.0  112218.0   9965.333333\n",
       "pickup     14200         10.0  113000.0  10655.023077\n",
       "sedan       5995         10.0  113000.0  10928.185714\n",
       "truck      14995         10.0  113000.0  11263.500000\n",
       "van         7990         10.0  113000.0  11416.666667\n",
       "wagon       7900         10.0  113000.0  11300.000000"
      ]
     },
     "execution_count": 31,
     "metadata": {},
     "output_type": "execute_result"
    }
   ],
   "source": [
    "# Store data without outliers in a separate DataFrame\n",
    "final_data\n"
   ]
  },
  {
   "cell_type": "markdown",
   "metadata": {},
   "source": [
    "<div class=\"alert alert-block alert-warning\">\n",
    "<b>Reviewer's comment v1:</b>\n",
    "    \n",
    "Great that you did not forget about outlers, but can you please elaborate why 4000 value has been used?\n",
    "\n",
    "I calculated again and i used this value ( 6000) because there are a few outliers  that i can see in the histograms.\n",
    "In the horizontal axis there a few values which are smaller significaly from the mean( the peek)\n",
    "and they are not a large group so a omite them.\n",
    "\n",
    "Btw you can additionally check a nice article about working with outliers:\n",
    "\n",
    "https://www.pluralsight.com/guides/cleaning-up-data-from-outliers\n"
   ]
  },
  {
   "cell_type": "markdown",
   "metadata": {},
   "source": [
    "## Study core parameters without outliers"
   ]
  },
  {
   "cell_type": "markdown",
   "metadata": {},
   "source": [
    "[Use the filtered data to make new plots. Compare with the earlier ones (that included outliers). Draw conclusions for each.]"
   ]
  },
  {
   "cell_type": "code",
   "execution_count": 32,
   "metadata": {},
   "outputs": [
    {
     "data": {
      "text/plain": [
       "<matplotlib.axes._subplots.AxesSubplot at 0x7f89b3b5d910>"
      ]
     },
     "execution_count": 32,
     "metadata": {},
     "output_type": "execute_result"
    },
    {
     "data": {
      "image/png": "[encoded data removed]",
      "text/plain": [
       "<Figure size 720x360 with 1 Axes>"
      ]
     },
     "metadata": {
      "needs_background": "light"
     },
     "output_type": "display_data"
    }
   ],
   "source": [
    "final_data.sort_values(by='price', ascending=True).plot(kind='hist',bins=50,  figsize=(10,5))"
   ]
  },
  {
   "cell_type": "markdown",
   "metadata": {},
   "source": [
    "## Ads lifetime\n",
    "\n",
    "[Study how many days advertisements were displayed (`days_listed`). Calculate the mean and median. Describe the typical lifetime of an ad. Determine when ads were removed quickly, and when they were listed for an abnormally long time.]"
   ]
  },
  {
   "cell_type": "code",
   "execution_count": 33,
   "metadata": {},
   "outputs": [],
   "source": [
    "mean = crankshaft_list['days_listed'].mean()\n",
    "median = crankshaft_list['days_listed'].median()"
   ]
  },
  {
   "cell_type": "markdown",
   "metadata": {},
   "source": [
    "<div class=\"alert alert-block alert-success\">\n",
    "<b>Reviewer's comment v1:</b>\n",
    "    \n",
    "Typical lifetime of an ad has been correctly identified."
   ]
  },
  {
   "cell_type": "markdown",
   "metadata": {},
   "source": [
    "## Average price per each type of vehicle"
   ]
  },
  {
   "cell_type": "markdown",
   "metadata": {},
   "source": [
    "[Analyze the number of ads and the average price for each type of vehicle. Plot a graph showing the dependence of the number of ads on the vehicle type. Select the two types with the greatest number of ads.]"
   ]
  },
  {
   "cell_type": "code",
   "execution_count": 34,
   "metadata": {},
   "outputs": [
    {
     "name": "stdout",
     "output_type": "stream",
     "text": [
      "             number_of_ads\n",
      "type                      \n",
      "SUV                  12405\n",
      "bus                     24\n",
      "convertible            446\n",
      "coupe                 2303\n",
      "hatchback             1047\n",
      "mini-van              1161\n",
      "offroad                214\n",
      "other                  256\n",
      "pickup                6988\n",
      "sedan                12154\n",
      "truck                12353\n",
      "van                    633\n",
      "wagon                 1541\n"
     ]
    },
    {
     "data": {
      "text/plain": [
       "<matplotlib.axes._subplots.AxesSubplot at 0x7f89b38c5b90>"
      ]
     },
     "execution_count": 34,
     "metadata": {},
     "output_type": "execute_result"
    },
    {
     "data": {
      "image/png": "[encoded data removed]",
      "text/plain": [
       "<Figure size 432x288 with 1 Axes>"
      ]
     },
     "metadata": {
      "needs_background": "light"
     },
     "output_type": "display_data"
    }
   ],
   "source": [
    "good_data_stat = crankshaft_list.pivot_table(\n",
    "    index='type', values='days_listed', aggfunc='count') \n",
    "good_data_stat.columns = ['number_of_ads']\n",
    "print(good_data_stat)\n",
    "good_data_stat.plot(kind='bar')"
   ]
  },
  {
   "cell_type": "markdown",
   "metadata": {},
   "source": [
    "## Price factors"
   ]
  },
  {
   "cell_type": "markdown",
   "metadata": {},
   "source": [
    "[What factors impact the price most? Take each of the popular types you detected at the previous stage and study whether the price depends on age, mileage, condition, transmission type, and color. For categorical variables (transmission type and color), plot box-and-whisker charts, and create scatterplots for the rest. When analyzing categorical variables, note that the categories must have at least 50 ads; otherwise, their parameters won't be valid for analysis.]"
   ]
  },
  {
   "cell_type": "markdown",
   "metadata": {},
   "source": [
    "[Make use of correlation matrix and correlation plots]"
   ]
  },
  {
   "cell_type": "code",
   "execution_count": 35,
   "metadata": {},
   "outputs": [],
   "source": [
    "color_data = crankshaft_list.pivot_table(\n",
    "     index='type', values='paint_color', aggfunc='count'\n",
    ")\n",
    "good_data_stat = good_data_stat.join(color_data['paint_color'])\n",
    "good_data_stat = good_data_stat.join(good_data_price['price'])"
   ]
  },
  {
   "cell_type": "code",
   "execution_count": 37,
   "metadata": {},
   "outputs": [
    {
     "data": {
      "image/png": "[encoded data removed]",
      "text/plain": [
       "<Figure size 720x360 with 1 Axes>"
      ]
     },
     "metadata": {
      "needs_background": "light"
     },
     "output_type": "display_data"
    }
   ],
   "source": [
    "good_data_stat.plot(kind='box',figsize=(10,5), grid=True);"
   ]
  },
  {
   "cell_type": "markdown",
   "metadata": {},
   "source": [
    "<div class=\"alert alert-block alert-warning\">\n",
    "<b>Reviewer's comment v1:</b>\n",
    "    \n",
    "Для того, чтобы не показывать технические выводы python вроде \"matplotlib.axes._subplots.AxesSubplot at 0x7f5feaf7fc90', можно в конце строки добавить точку с запятой или plt.show() "
   ]
  },
  {
   "cell_type": "code",
   "execution_count": 38,
   "metadata": {},
   "outputs": [
    {
     "data": {
      "image/png": "[encoded data removed]",
      "text/plain": [
       "<Figure size 1440x720 with 16 Axes>"
      ]
     },
     "metadata": {
      "needs_background": "light"
     },
     "output_type": "display_data"
    }
   ],
   "source": [
    "pd.plotting.scatter_matrix(final_data, figsize=(20,10), marker='-o');"
   ]
  },
  {
   "cell_type": "markdown",
   "metadata": {},
   "source": [
    "<div class=\"alert alert-block alert-success\">\n",
    "<b>Reviewer's comment v1:</b>\n",
    "    \n",
    "Overall an excellent data analysis with correct conclusions and different graph types.\n",
    "\n",
    "Great that as an extra mile you additionally created correlation matrix to checked the correlation of different features.\n",
    "\n",
    "</div>"
   ]
  },
  {
   "cell_type": "markdown",
   "metadata": {},
   "source": [
    "## General conclusion\n",
    "\n",
    "1.Replaced missing values in the following data with the following method.\n",
    "\n",
    "2.Replaced data types in the following columns.\n",
    "\n",
    "3.Added new info to the data and used it to calculate crucial information about.\n",
    "\n",
    "4.Grouped the the neccesery data for plot.\n",
    "\n",
    "5.plot hist and evaluate the parameters.\n",
    "\n",
    "6.Grouped all the data into one filtered data with query.\n",
    "\n",
    "7.plot overall histograms in order to find how much each of the parameters affect the price of a vehicle.\n",
    "\n",
    "8.Make correlattion with method corr() in order to study the realationship of each parameters with the price.\n",
    "\n",
    "(if it positive and tend to 1 then is the strongest bond which means the price is higher if the parameter is higher)\n",
    "\n",
    "\n",
    "\n"
   ]
  },
  {
   "cell_type": "code",
   "execution_count": 43,
   "metadata": {},
   "outputs": [],
   "source": [
    "#From the chart i can tell that there is a connection between number of ads to the price,\n",
    "#the more ads there are the more expensive the price is.\n",
    "#There is also more connections but the most obvious fact for high price is vehicle_age.\n",
    "#in here is the proof:"
   ]
  },
  {
   "cell_type": "code",
   "execution_count": 44,
   "metadata": {
    "scrolled": true
   },
   "outputs": [
    {
     "data": {
      "text/html": [
       "<div>\n",
       "<style scoped>\n",
       "    .dataframe tbody tr th:only-of-type {\n",
       "        vertical-align: middle;\n",
       "    }\n",
       "\n",
       "    .dataframe tbody tr th {\n",
       "        vertical-align: top;\n",
       "    }\n",
       "\n",
       "    .dataframe thead th {\n",
       "        text-align: right;\n",
       "    }\n",
       "</style>\n",
       "<table border=\"1\" class=\"dataframe\">\n",
       "  <thead>\n",
       "    <tr style=\"text-align: right;\">\n",
       "      <th></th>\n",
       "      <th>price</th>\n",
       "      <th>vehicle_age</th>\n",
       "      <th>odometer</th>\n",
       "      <th>avg_mileage</th>\n",
       "    </tr>\n",
       "  </thead>\n",
       "  <tbody>\n",
       "    <tr>\n",
       "      <td>price</td>\n",
       "      <td>1.000000</td>\n",
       "      <td>0.139423</td>\n",
       "      <td>-0.359290</td>\n",
       "      <td>-0.416524</td>\n",
       "    </tr>\n",
       "    <tr>\n",
       "      <td>vehicle_age</td>\n",
       "      <td>0.139423</td>\n",
       "      <td>1.000000</td>\n",
       "      <td>0.131206</td>\n",
       "      <td>-0.595151</td>\n",
       "    </tr>\n",
       "    <tr>\n",
       "      <td>odometer</td>\n",
       "      <td>-0.359290</td>\n",
       "      <td>0.131206</td>\n",
       "      <td>1.000000</td>\n",
       "      <td>0.664189</td>\n",
       "    </tr>\n",
       "    <tr>\n",
       "      <td>avg_mileage</td>\n",
       "      <td>-0.416524</td>\n",
       "      <td>-0.595151</td>\n",
       "      <td>0.664189</td>\n",
       "      <td>1.000000</td>\n",
       "    </tr>\n",
       "  </tbody>\n",
       "</table>\n",
       "</div>"
      ],
      "text/plain": [
       "                price  vehicle_age  odometer  avg_mileage\n",
       "price        1.000000     0.139423 -0.359290    -0.416524\n",
       "vehicle_age  0.139423     1.000000  0.131206    -0.595151\n",
       "odometer    -0.359290     0.131206  1.000000     0.664189\n",
       "avg_mileage -0.416524    -0.595151  0.664189     1.000000"
      ]
     },
     "execution_count": 44,
     "metadata": {},
     "output_type": "execute_result"
    }
   ],
   "source": [
    "final_data.corr()"
   ]
  },
  {
   "cell_type": "markdown",
   "metadata": {},
   "source": [
    "<div class=\"alert alert-warning\">\n",
    "<b>Reviewer's comment v1:</b>\n",
    " \n",
    "Overall you did a great research. I left some feedback to check above and open questions to understand your reasoning. \n",
    "    \n",
    "A small tip regarding overall conclusion: \n",
    "    It represents the overall work progress that you achieved. On a real project, this is probably the only thing the business will read. Therefore, it is crucial to indicate in a structured way all conclusions that you made on each step in the project.\n",
    "\n",
    "For example:\n",
    "\n",
    "- Replaced missing values in the following data with the following method.\n",
    "- Replaced data types in the following columns.\n",
    "- etc.\n",
    "- We observe that ... factors impact ... \n",
    "- My analysis show ...\n",
    "- I can recomend the following next steps / activities ...\n",
    "\n",
    "It is also important to provide explanations and interpretations that will be interesting for business based on your analysis.\n",
    "\n",
    "</div>"
   ]
  }
 ],
 "metadata": {
  "ExecuteTimeLog": [
   {
    "duration": 828,
    "start_time": "2021-11-16T09:21:11.304Z"
   },
   {
    "duration": 893,
    "start_time": "2021-11-16T09:21:17.728Z"
   },
   {
    "duration": 1150,
    "start_time": "2021-11-16T09:21:29.568Z"
   },
   {
    "duration": 3,
    "start_time": "2021-11-16T09:24:14.495Z"
   },
   {
    "duration": 120,
    "start_time": "2021-11-16T09:24:46.630Z"
   },
   {
    "duration": 3,
    "start_time": "2021-11-16T09:28:27.882Z"
   },
   {
    "duration": 4,
    "start_time": "2021-11-16T09:29:54.281Z"
   },
   {
    "duration": 3,
    "start_time": "2021-11-16T09:30:45.936Z"
   },
   {
    "duration": 4,
    "start_time": "2021-11-16T09:31:06.300Z"
   },
   {
    "duration": 113,
    "start_time": "2021-11-16T09:31:37.208Z"
   },
   {
    "duration": 143,
    "start_time": "2021-11-16T09:31:48.656Z"
   },
   {
    "duration": 98,
    "start_time": "2021-11-16T09:31:55.678Z"
   },
   {
    "duration": 3,
    "start_time": "2021-11-16T09:32:08.535Z"
   },
   {
    "duration": 111,
    "start_time": "2021-11-16T09:32:10.120Z"
   },
   {
    "duration": 3,
    "start_time": "2021-11-16T09:32:15.732Z"
   },
   {
    "duration": 4,
    "start_time": "2021-11-16T09:32:29.423Z"
   },
   {
    "duration": 3,
    "start_time": "2021-11-16T10:03:03.074Z"
   },
   {
    "duration": 3,
    "start_time": "2021-11-16T10:10:01.288Z"
   },
   {
    "duration": 3,
    "start_time": "2021-11-16T10:10:46.923Z"
   },
   {
    "duration": 121,
    "start_time": "2021-11-16T10:37:46.494Z"
   },
   {
    "duration": 125,
    "start_time": "2021-11-16T10:38:20.632Z"
   },
   {
    "duration": 112,
    "start_time": "2021-11-16T10:46:53.001Z"
   },
   {
    "duration": 110,
    "start_time": "2021-11-16T10:48:25.775Z"
   },
   {
    "duration": 3,
    "start_time": "2021-11-16T10:50:18.720Z"
   },
   {
    "duration": 4,
    "start_time": "2021-11-16T10:50:37.649Z"
   },
   {
    "duration": 2,
    "start_time": "2021-11-16T10:50:51.884Z"
   },
   {
    "duration": 3,
    "start_time": "2021-11-16T10:51:56.237Z"
   },
   {
    "duration": 101,
    "start_time": "2021-11-16T10:53:13.791Z"
   },
   {
    "duration": 3,
    "start_time": "2021-11-16T10:55:59.186Z"
   },
   {
    "duration": 3,
    "start_time": "2021-11-16T10:56:10.751Z"
   },
   {
    "duration": 3,
    "start_time": "2021-11-16T10:56:49.038Z"
   },
   {
    "duration": 3,
    "start_time": "2021-11-16T10:56:49.174Z"
   },
   {
    "duration": 4,
    "start_time": "2021-11-16T10:56:49.414Z"
   },
   {
    "duration": 3,
    "start_time": "2021-11-16T10:56:49.680Z"
   },
   {
    "duration": 3,
    "start_time": "2021-11-16T10:56:50.370Z"
   },
   {
    "duration": 114,
    "start_time": "2021-11-16T10:59:34.518Z"
   },
   {
    "duration": 3,
    "start_time": "2021-11-16T11:01:41.201Z"
   },
   {
    "duration": 116,
    "start_time": "2021-11-16T11:01:48.754Z"
   },
   {
    "duration": 3,
    "start_time": "2021-11-16T11:02:16.685Z"
   },
   {
    "duration": 3,
    "start_time": "2021-11-16T11:02:19.479Z"
   },
   {
    "duration": 3,
    "start_time": "2021-11-16T11:02:47.067Z"
   },
   {
    "duration": 3,
    "start_time": "2021-11-16T11:02:49.353Z"
   },
   {
    "duration": 3,
    "start_time": "2021-11-16T11:03:07.835Z"
   },
   {
    "duration": 3,
    "start_time": "2021-11-16T11:03:07.953Z"
   },
   {
    "duration": 112,
    "start_time": "2021-11-16T11:07:52.072Z"
   },
   {
    "duration": 187,
    "start_time": "2021-11-16T11:09:23.468Z"
   },
   {
    "duration": 4,
    "start_time": "2021-11-16T11:10:01.455Z"
   },
   {
    "duration": 3,
    "start_time": "2021-11-16T11:10:05.069Z"
   },
   {
    "duration": 4,
    "start_time": "2021-11-16T11:10:13.376Z"
   },
   {
    "duration": 3,
    "start_time": "2021-11-16T11:10:14.434Z"
   },
   {
    "duration": 3,
    "start_time": "2021-11-16T11:10:22.853Z"
   },
   {
    "duration": 4,
    "start_time": "2021-11-16T11:27:29.279Z"
   },
   {
    "duration": 4,
    "start_time": "2021-11-16T11:29:08.919Z"
   },
   {
    "duration": 118,
    "start_time": "2021-11-16T11:29:46.703Z"
   },
   {
    "duration": 437,
    "start_time": "2021-11-16T11:36:02.181Z"
   },
   {
    "duration": 157,
    "start_time": "2021-11-16T11:36:14.388Z"
   },
   {
    "duration": 207,
    "start_time": "2021-11-16T11:47:15.898Z"
   },
   {
    "duration": 3,
    "start_time": "2021-11-16T11:53:52.092Z"
   },
   {
    "duration": 3,
    "start_time": "2021-11-16T11:53:52.236Z"
   },
   {
    "duration": 3,
    "start_time": "2021-11-16T11:59:12.005Z"
   },
   {
    "duration": 112,
    "start_time": "2021-11-16T12:00:33.446Z"
   },
   {
    "duration": 3,
    "start_time": "2021-11-16T12:02:14.453Z"
   },
   {
    "duration": 3,
    "start_time": "2021-11-16T12:02:39.512Z"
   },
   {
    "duration": 106,
    "start_time": "2021-11-16T12:03:03.460Z"
   },
   {
    "duration": 573,
    "start_time": "2021-12-10T07:11:57.484Z"
   },
   {
    "duration": 2,
    "start_time": "2021-12-10T07:12:02.625Z"
   },
   {
    "duration": 3548,
    "start_time": "2021-12-10T07:12:33.164Z"
   },
   {
    "duration": 79,
    "start_time": "2021-12-10T07:12:49.935Z"
   },
   {
    "duration": 18,
    "start_time": "2021-12-10T07:13:55.253Z"
   },
   {
    "duration": 12,
    "start_time": "2021-12-10T07:14:46.444Z"
   },
   {
    "duration": 129,
    "start_time": "2021-12-10T07:16:33.863Z"
   },
   {
    "duration": 10,
    "start_time": "2021-12-10T07:17:23.103Z"
   },
   {
    "duration": 12,
    "start_time": "2021-12-10T07:24:01.074Z"
   },
   {
    "duration": 260,
    "start_time": "2021-12-10T07:24:57.174Z"
   },
   {
    "duration": 25,
    "start_time": "2021-12-10T07:25:09.165Z"
   },
   {
    "duration": 15,
    "start_time": "2021-12-10T07:25:23.125Z"
   },
   {
    "duration": 15,
    "start_time": "2021-12-10T07:30:37.730Z"
   },
   {
    "duration": 171,
    "start_time": "2021-12-10T07:39:39.671Z"
   },
   {
    "duration": 258,
    "start_time": "2021-12-10T07:39:58.632Z"
   },
   {
    "duration": 21,
    "start_time": "2021-12-10T07:40:17.402Z"
   },
   {
    "duration": 5,
    "start_time": "2021-12-10T07:40:19.581Z"
   },
   {
    "duration": 5,
    "start_time": "2021-12-10T07:41:11.787Z"
   },
   {
    "duration": 262,
    "start_time": "2021-12-10T07:41:19.900Z"
   },
   {
    "duration": 304,
    "start_time": "2021-12-10T07:41:32.411Z"
   },
   {
    "duration": 20,
    "start_time": "2021-12-10T07:41:40.001Z"
   },
   {
    "duration": 2973,
    "start_time": "2021-12-10T07:41:50.532Z"
   },
   {
    "duration": -227,
    "start_time": "2021-12-10T07:41:53.734Z"
   },
   {
    "duration": 2607,
    "start_time": "2021-12-10T07:42:20.773Z"
   },
   {
    "duration": 2580,
    "start_time": "2021-12-10T07:43:15.841Z"
   },
   {
    "duration": 978,
    "start_time": "2021-12-10T07:46:22.006Z"
   },
   {
    "duration": 1383,
    "start_time": "2021-12-10T07:46:34.688Z"
   },
   {
    "duration": 324,
    "start_time": "2021-12-10T07:46:57.041Z"
   },
   {
    "duration": 1256,
    "start_time": "2021-12-10T07:47:33.811Z"
   },
   {
    "duration": 2616,
    "start_time": "2021-12-10T07:48:35.061Z"
   },
   {
    "duration": 2597,
    "start_time": "2021-12-10T07:49:50.801Z"
   },
   {
    "duration": 264,
    "start_time": "2021-12-10T07:51:01.460Z"
   },
   {
    "duration": 85,
    "start_time": "2021-12-10T07:51:19.622Z"
   },
   {
    "duration": 243,
    "start_time": "2021-12-10T07:51:50.894Z"
   },
   {
    "duration": 971,
    "start_time": "2021-12-10T07:52:01.469Z"
   },
   {
    "duration": 272,
    "start_time": "2021-12-10T07:52:17.224Z"
   },
   {
    "duration": 1287,
    "start_time": "2021-12-10T07:52:32.219Z"
   },
   {
    "duration": 2454,
    "start_time": "2021-12-10T07:52:41.681Z"
   },
   {
    "duration": 2496,
    "start_time": "2021-12-10T07:53:34.711Z"
   },
   {
    "duration": 2633,
    "start_time": "2021-12-10T07:54:08.541Z"
   },
   {
    "duration": 10,
    "start_time": "2021-12-10T07:54:39.532Z"
   },
   {
    "duration": 18,
    "start_time": "2021-12-10T07:54:44.351Z"
   },
   {
    "duration": 3883,
    "start_time": "2021-12-10T07:55:10.996Z"
   },
   {
    "duration": 2948,
    "start_time": "2021-12-10T07:55:54.701Z"
   },
   {
    "duration": 2,
    "start_time": "2021-12-10T07:56:05.817Z"
   },
   {
    "duration": 82,
    "start_time": "2021-12-10T07:56:07.561Z"
   },
   {
    "duration": 17,
    "start_time": "2021-12-10T07:56:09.302Z"
   },
   {
    "duration": 11,
    "start_time": "2021-12-10T07:56:10.101Z"
   },
   {
    "duration": 4,
    "start_time": "2021-12-10T07:56:11.909Z"
   },
   {
    "duration": 11,
    "start_time": "2021-12-10T07:56:15.359Z"
   },
   {
    "duration": 16,
    "start_time": "2021-12-10T07:56:27.860Z"
   },
   {
    "duration": 211,
    "start_time": "2021-12-10T07:56:32.562Z"
   },
   {
    "duration": 5,
    "start_time": "2021-12-10T07:56:35.302Z"
   },
   {
    "duration": 25,
    "start_time": "2021-12-10T07:56:38.616Z"
   },
   {
    "duration": 2754,
    "start_time": "2021-12-10T07:57:06.019Z"
   },
   {
    "duration": 19,
    "start_time": "2021-12-10T07:58:22.542Z"
   },
   {
    "duration": 6,
    "start_time": "2021-12-10T07:58:51.711Z"
   },
   {
    "duration": 4,
    "start_time": "2021-12-10T07:58:59.031Z"
   },
   {
    "duration": 2497,
    "start_time": "2021-12-10T07:59:48.401Z"
   },
   {
    "duration": 19,
    "start_time": "2021-12-10T08:01:03.706Z"
   },
   {
    "duration": 2,
    "start_time": "2021-12-10T08:01:19.911Z"
   },
   {
    "duration": 78,
    "start_time": "2021-12-10T08:01:21.631Z"
   },
   {
    "duration": 17,
    "start_time": "2021-12-10T08:01:23.619Z"
   },
   {
    "duration": 15,
    "start_time": "2021-12-10T08:01:25.791Z"
   },
   {
    "duration": 5,
    "start_time": "2021-12-10T08:01:28.370Z"
   },
   {
    "duration": 10,
    "start_time": "2021-12-10T08:01:43.523Z"
   },
   {
    "duration": 18,
    "start_time": "2021-12-10T08:01:45.192Z"
   },
   {
    "duration": 213,
    "start_time": "2021-12-10T08:01:47.071Z"
   },
   {
    "duration": 4,
    "start_time": "2021-12-10T08:01:49.981Z"
   },
   {
    "duration": 30,
    "start_time": "2021-12-10T08:01:54.370Z"
   },
   {
    "duration": 2,
    "start_time": "2021-12-10T08:04:15.551Z"
   },
   {
    "duration": 83,
    "start_time": "2021-12-10T08:04:17.270Z"
   },
   {
    "duration": 17,
    "start_time": "2021-12-10T08:04:19.142Z"
   },
   {
    "duration": 13,
    "start_time": "2021-12-10T08:04:21.871Z"
   },
   {
    "duration": 5,
    "start_time": "2021-12-10T08:04:25.340Z"
   },
   {
    "duration": 11,
    "start_time": "2021-12-10T08:04:47.661Z"
   },
   {
    "duration": 16,
    "start_time": "2021-12-10T08:04:49.853Z"
   },
   {
    "duration": 170,
    "start_time": "2021-12-10T08:04:53.001Z"
   },
   {
    "duration": 4,
    "start_time": "2021-12-10T08:04:55.270Z"
   },
   {
    "duration": 32,
    "start_time": "2021-12-10T08:04:58.182Z"
   },
   {
    "duration": 2459,
    "start_time": "2021-12-10T08:07:06.451Z"
   },
   {
    "duration": 2,
    "start_time": "2021-12-10T08:07:27.151Z"
   },
   {
    "duration": 82,
    "start_time": "2021-12-10T08:07:30.269Z"
   },
   {
    "duration": 17,
    "start_time": "2021-12-10T08:07:32.001Z"
   },
   {
    "duration": 13,
    "start_time": "2021-12-10T08:07:32.980Z"
   },
   {
    "duration": 6,
    "start_time": "2021-12-10T08:07:36.399Z"
   },
   {
    "duration": 11,
    "start_time": "2021-12-10T08:07:38.038Z"
   },
   {
    "duration": 28,
    "start_time": "2021-12-10T08:07:48.881Z"
   },
   {
    "duration": 21,
    "start_time": "2021-12-10T08:08:25.076Z"
   },
   {
    "duration": 7,
    "start_time": "2021-12-10T08:08:31.240Z"
   },
   {
    "duration": 5,
    "start_time": "2021-12-10T08:08:51.522Z"
   },
   {
    "duration": 17,
    "start_time": "2021-12-10T08:08:54.381Z"
   },
   {
    "duration": 258,
    "start_time": "2021-12-10T08:08:56.182Z"
   },
   {
    "duration": 4,
    "start_time": "2021-12-10T08:08:58.268Z"
   },
   {
    "duration": 30,
    "start_time": "2021-12-10T08:09:01.271Z"
   },
   {
    "duration": 2717,
    "start_time": "2021-12-10T08:09:34.024Z"
   },
   {
    "duration": 2,
    "start_time": "2021-12-10T08:09:47.761Z"
   },
   {
    "duration": 94,
    "start_time": "2021-12-10T08:09:49.457Z"
   },
   {
    "duration": 25,
    "start_time": "2021-12-10T08:09:49.978Z"
   },
   {
    "duration": 14,
    "start_time": "2021-12-10T08:09:50.198Z"
   },
   {
    "duration": 5,
    "start_time": "2021-12-10T08:09:50.538Z"
   },
   {
    "duration": 10,
    "start_time": "2021-12-10T08:09:51.053Z"
   },
   {
    "duration": 15,
    "start_time": "2021-12-10T08:09:52.329Z"
   },
   {
    "duration": 161,
    "start_time": "2021-12-10T08:09:53.411Z"
   },
   {
    "duration": 5,
    "start_time": "2021-12-10T08:09:54.680Z"
   },
   {
    "duration": 2571,
    "start_time": "2021-12-10T08:09:56.790Z"
   },
   {
    "duration": 3,
    "start_time": "2021-12-10T08:10:31.191Z"
   },
   {
    "duration": 74,
    "start_time": "2021-12-10T08:10:32.794Z"
   },
   {
    "duration": 18,
    "start_time": "2021-12-10T08:10:34.209Z"
   },
   {
    "duration": 12,
    "start_time": "2021-12-10T08:10:34.656Z"
   },
   {
    "duration": 5,
    "start_time": "2021-12-10T08:10:35.679Z"
   },
   {
    "duration": 15,
    "start_time": "2021-12-10T08:10:36.894Z"
   },
   {
    "duration": 15,
    "start_time": "2021-12-10T08:10:39.401Z"
   },
   {
    "duration": 5,
    "start_time": "2021-12-10T08:10:40.960Z"
   },
   {
    "duration": 5,
    "start_time": "2021-12-10T08:10:42.579Z"
   },
   {
    "duration": 18,
    "start_time": "2021-12-10T08:10:50.262Z"
   },
   {
    "duration": 253,
    "start_time": "2021-12-10T08:11:12.952Z"
   },
   {
    "duration": 267,
    "start_time": "2021-12-10T08:11:19.931Z"
   },
   {
    "duration": 22,
    "start_time": "2021-12-10T08:11:37.692Z"
   },
   {
    "duration": 3,
    "start_time": "2021-12-10T08:12:02.799Z"
   },
   {
    "duration": 8,
    "start_time": "2021-12-10T08:13:21.941Z"
   },
   {
    "duration": 8,
    "start_time": "2021-12-10T08:16:16.567Z"
   },
   {
    "duration": 5,
    "start_time": "2021-12-10T08:16:33.001Z"
   },
   {
    "duration": 5,
    "start_time": "2021-12-10T08:21:40.880Z"
   },
   {
    "duration": 2,
    "start_time": "2021-12-10T08:23:03.183Z"
   },
   {
    "duration": 20,
    "start_time": "2021-12-10T08:26:26.936Z"
   },
   {
    "duration": 4,
    "start_time": "2021-12-10T08:29:50.767Z"
   },
   {
    "duration": 21,
    "start_time": "2021-12-10T08:30:27.747Z"
   },
   {
    "duration": 13,
    "start_time": "2021-12-10T08:33:17.137Z"
   },
   {
    "duration": 332,
    "start_time": "2021-12-10T08:34:23.054Z"
   },
   {
    "duration": 15,
    "start_time": "2021-12-10T08:34:29.987Z"
   },
   {
    "duration": 6,
    "start_time": "2021-12-10T08:34:47.128Z"
   },
   {
    "duration": -223,
    "start_time": "2021-12-10T08:36:54.241Z"
   },
   {
    "duration": 6279,
    "start_time": "2021-12-10T08:37:36.576Z"
   },
   {
    "duration": 6,
    "start_time": "2021-12-10T08:37:54.706Z"
   },
   {
    "duration": 18,
    "start_time": "2021-12-10T08:40:03.133Z"
   },
   {
    "duration": 23,
    "start_time": "2021-12-10T08:40:46.267Z"
   },
   {
    "duration": 357,
    "start_time": "2021-12-10T08:45:31.287Z"
   },
   {
    "duration": 13,
    "start_time": "2021-12-10T08:49:00.173Z"
   },
   {
    "duration": 11,
    "start_time": "2021-12-10T08:49:03.308Z"
   },
   {
    "duration": 176,
    "start_time": "2021-12-10T08:49:18.218Z"
   },
   {
    "duration": 313,
    "start_time": "2021-12-10T08:50:06.557Z"
   },
   {
    "duration": 269,
    "start_time": "2021-12-10T08:50:19.318Z"
   },
   {
    "duration": 263,
    "start_time": "2021-12-10T08:50:27.528Z"
   },
   {
    "duration": 258,
    "start_time": "2021-12-10T08:50:36.531Z"
   },
   {
    "duration": 273,
    "start_time": "2021-12-10T08:51:54.447Z"
   },
   {
    "duration": 241,
    "start_time": "2021-12-10T08:52:28.792Z"
   },
   {
    "duration": 280,
    "start_time": "2021-12-10T08:52:39.547Z"
   },
   {
    "duration": 260,
    "start_time": "2021-12-10T08:53:03.620Z"
   },
   {
    "duration": 263,
    "start_time": "2021-12-10T08:53:11.870Z"
   },
   {
    "duration": 335,
    "start_time": "2021-12-10T08:57:20.195Z"
   },
   {
    "duration": 294,
    "start_time": "2021-12-10T09:00:01.968Z"
   },
   {
    "duration": 295,
    "start_time": "2021-12-10T09:03:30.668Z"
   },
   {
    "duration": 289,
    "start_time": "2021-12-10T09:07:48.140Z"
   },
   {
    "duration": 704,
    "start_time": "2021-12-10T09:08:19.540Z"
   },
   {
    "duration": 16,
    "start_time": "2021-12-10T09:08:43.701Z"
   },
   {
    "duration": 615,
    "start_time": "2021-12-10T09:09:06.440Z"
   },
   {
    "duration": 14,
    "start_time": "2021-12-10T09:09:29.810Z"
   },
   {
    "duration": 3,
    "start_time": "2021-12-10T09:11:26.449Z"
   },
   {
    "duration": 82,
    "start_time": "2021-12-10T09:11:28.322Z"
   },
   {
    "duration": 17,
    "start_time": "2021-12-10T09:11:29.760Z"
   },
   {
    "duration": 18,
    "start_time": "2021-12-10T09:11:30.510Z"
   },
   {
    "duration": 8,
    "start_time": "2021-12-10T09:11:31.708Z"
   },
   {
    "duration": 11,
    "start_time": "2021-12-10T09:11:32.848Z"
   },
   {
    "duration": 24,
    "start_time": "2021-12-10T09:11:34.199Z"
   },
   {
    "duration": 5,
    "start_time": "2021-12-10T09:11:35.460Z"
   },
   {
    "duration": 5,
    "start_time": "2021-12-10T09:11:37.078Z"
   },
   {
    "duration": 26,
    "start_time": "2021-12-10T09:11:38.698Z"
   },
   {
    "duration": 11,
    "start_time": "2021-12-10T09:11:40.704Z"
   },
   {
    "duration": 13,
    "start_time": "2021-12-10T09:11:41.501Z"
   },
   {
    "duration": 9,
    "start_time": "2021-12-10T09:11:42.405Z"
   },
   {
    "duration": 2,
    "start_time": "2021-12-10T09:11:42.927Z"
   },
   {
    "duration": 48,
    "start_time": "2021-12-10T09:11:44.912Z"
   },
   {
    "duration": 23,
    "start_time": "2021-12-10T09:11:45.629Z"
   },
   {
    "duration": 297,
    "start_time": "2021-12-10T09:11:47.707Z"
   },
   {
    "duration": 334,
    "start_time": "2021-12-10T09:11:49.390Z"
   },
   {
    "duration": 284,
    "start_time": "2021-12-10T09:11:50.490Z"
   },
   {
    "duration": 325,
    "start_time": "2021-12-10T09:11:51.356Z"
   },
   {
    "duration": 17,
    "start_time": "2021-12-10T09:11:52.018Z"
   },
   {
    "duration": 3,
    "start_time": "2021-12-10T09:11:52.811Z"
   },
   {
    "duration": 2,
    "start_time": "2021-12-10T09:11:54.324Z"
   },
   {
    "duration": 579,
    "start_time": "2021-12-10T09:12:03.231Z"
   },
   {
    "duration": 529,
    "start_time": "2021-12-10T09:12:37.578Z"
   },
   {
    "duration": 672,
    "start_time": "2021-12-10T09:13:04.739Z"
   },
   {
    "duration": 2,
    "start_time": "2021-12-10T10:52:01.340Z"
   },
   {
    "duration": 81,
    "start_time": "2021-12-10T10:52:03.040Z"
   },
   {
    "duration": 19,
    "start_time": "2021-12-10T10:52:04.850Z"
   },
   {
    "duration": 16,
    "start_time": "2021-12-10T10:52:05.698Z"
   },
   {
    "duration": 5,
    "start_time": "2021-12-10T10:52:07.011Z"
   },
   {
    "duration": 12,
    "start_time": "2021-12-10T10:52:08.318Z"
   },
   {
    "duration": 15,
    "start_time": "2021-12-10T10:52:09.433Z"
   },
   {
    "duration": 5,
    "start_time": "2021-12-10T10:52:10.480Z"
   },
   {
    "duration": 5,
    "start_time": "2021-12-10T10:52:12.030Z"
   },
   {
    "duration": 28,
    "start_time": "2021-12-10T10:52:13.683Z"
   },
   {
    "duration": 8,
    "start_time": "2021-12-10T10:52:15.520Z"
   },
   {
    "duration": 6,
    "start_time": "2021-12-10T10:52:16.301Z"
   },
   {
    "duration": 9,
    "start_time": "2021-12-10T10:52:16.991Z"
   },
   {
    "duration": 2,
    "start_time": "2021-12-10T10:52:17.800Z"
   },
   {
    "duration": 34,
    "start_time": "2021-12-10T10:52:19.580Z"
   },
   {
    "duration": 32,
    "start_time": "2021-12-10T10:52:20.389Z"
   },
   {
    "duration": 262,
    "start_time": "2021-12-10T10:52:22.860Z"
   },
   {
    "duration": 275,
    "start_time": "2021-12-10T10:52:25.070Z"
   },
   {
    "duration": 257,
    "start_time": "2021-12-10T10:52:25.799Z"
   },
   {
    "duration": 271,
    "start_time": "2021-12-10T10:52:28.820Z"
   },
   {
    "duration": 605,
    "start_time": "2021-12-10T10:52:33.952Z"
   },
   {
    "duration": 2723,
    "start_time": "2021-12-10T11:00:19.931Z"
   },
   {
    "duration": 549,
    "start_time": "2021-12-10T11:00:47.253Z"
   },
   {
    "duration": 7,
    "start_time": "2021-12-10T11:01:56.052Z"
   },
   {
    "duration": 9,
    "start_time": "2021-12-10T11:02:19.792Z"
   },
   {
    "duration": 18,
    "start_time": "2021-12-10T11:04:07.802Z"
   },
   {
    "duration": 25,
    "start_time": "2021-12-10T11:04:11.263Z"
   },
   {
    "duration": 258,
    "start_time": "2021-12-10T11:04:18.243Z"
   },
   {
    "duration": 274,
    "start_time": "2021-12-10T11:04:19.403Z"
   },
   {
    "duration": 265,
    "start_time": "2021-12-10T11:04:20.363Z"
   },
   {
    "duration": 387,
    "start_time": "2021-12-10T11:04:21.713Z"
   },
   {
    "duration": 486,
    "start_time": "2021-12-10T11:04:25.771Z"
   },
   {
    "duration": 440,
    "start_time": "2021-12-10T11:04:37.619Z"
   },
   {
    "duration": 278,
    "start_time": "2021-12-10T11:05:00.343Z"
   },
   {
    "duration": 5,
    "start_time": "2021-12-10T11:08:36.422Z"
   },
   {
    "duration": 13,
    "start_time": "2021-12-10T11:08:43.222Z"
   },
   {
    "duration": 15,
    "start_time": "2021-12-10T11:09:06.489Z"
   },
   {
    "duration": 6,
    "start_time": "2021-12-10T11:18:31.194Z"
   },
   {
    "duration": 9,
    "start_time": "2021-12-10T11:19:21.813Z"
   },
   {
    "duration": 564,
    "start_time": "2021-12-10T11:20:36.501Z"
   },
   {
    "duration": 245,
    "start_time": "2021-12-10T11:22:30.083Z"
   },
   {
    "duration": 106,
    "start_time": "2021-12-10T11:22:41.821Z"
   },
   {
    "duration": 107,
    "start_time": "2021-12-10T11:23:02.156Z"
   },
   {
    "duration": 591,
    "start_time": "2021-12-10T11:23:18.473Z"
   },
   {
    "duration": 251,
    "start_time": "2021-12-10T11:23:51.313Z"
   },
   {
    "duration": 84,
    "start_time": "2021-12-10T11:24:07.401Z"
   },
   {
    "duration": 409,
    "start_time": "2021-12-10T11:24:13.753Z"
   },
   {
    "duration": 1839,
    "start_time": "2021-12-10T11:24:25.163Z"
   },
   {
    "duration": 295,
    "start_time": "2021-12-10T11:25:10.929Z"
   },
   {
    "duration": 1510,
    "start_time": "2021-12-10T11:25:20.151Z"
   },
   {
    "duration": 279,
    "start_time": "2021-12-10T11:26:15.111Z"
   },
   {
    "duration": 566,
    "start_time": "2021-12-10T11:26:27.533Z"
   },
   {
    "duration": 5,
    "start_time": "2021-12-10T11:32:31.103Z"
   },
   {
    "duration": 6,
    "start_time": "2021-12-10T11:32:36.957Z"
   },
   {
    "duration": 5,
    "start_time": "2021-12-10T11:32:42.700Z"
   },
   {
    "duration": 6,
    "start_time": "2021-12-10T11:32:48.402Z"
   },
   {
    "duration": 7126,
    "start_time": "2021-12-10T11:53:22.459Z"
   },
   {
    "duration": 6483,
    "start_time": "2021-12-10T11:56:21.928Z"
   },
   {
    "duration": 198,
    "start_time": "2021-12-10T11:57:25.673Z"
   },
   {
    "duration": 210,
    "start_time": "2021-12-10T12:02:38.023Z"
   },
   {
    "duration": 314,
    "start_time": "2021-12-10T12:02:47.401Z"
   },
   {
    "duration": 134,
    "start_time": "2021-12-10T12:02:56.776Z"
   },
   {
    "duration": 135,
    "start_time": "2021-12-10T12:03:32.176Z"
   },
   {
    "duration": 127,
    "start_time": "2021-12-10T12:03:46.503Z"
   },
   {
    "duration": -1763,
    "start_time": "2021-12-10T12:04:01.573Z"
   },
   {
    "duration": 7564,
    "start_time": "2021-12-10T12:04:04.724Z"
   },
   {
    "duration": 254,
    "start_time": "2021-12-10T12:37:19.164Z"
   },
   {
    "duration": 15,
    "start_time": "2021-12-10T12:37:32.558Z"
   },
   {
    "duration": 20,
    "start_time": "2021-12-10T12:40:29.379Z"
   },
   {
    "duration": 14,
    "start_time": "2021-12-10T12:40:35.021Z"
   },
   {
    "duration": 190,
    "start_time": "2021-12-10T12:41:27.901Z"
   },
   {
    "duration": 201,
    "start_time": "2021-12-10T12:42:23.545Z"
   },
   {
    "duration": 1050,
    "start_time": "2021-12-10T12:44:30.085Z"
   },
   {
    "duration": 203,
    "start_time": "2021-12-10T12:44:43.685Z"
   },
   {
    "duration": 207,
    "start_time": "2021-12-10T12:44:49.502Z"
   },
   {
    "duration": 3,
    "start_time": "2021-12-10T13:17:42.210Z"
   },
   {
    "duration": 85,
    "start_time": "2021-12-10T13:17:43.725Z"
   },
   {
    "duration": 19,
    "start_time": "2021-12-10T13:17:46.107Z"
   },
   {
    "duration": 11,
    "start_time": "2021-12-10T13:17:47.107Z"
   },
   {
    "duration": 5,
    "start_time": "2021-12-10T13:17:48.556Z"
   },
   {
    "duration": 10,
    "start_time": "2021-12-10T13:17:50.116Z"
   },
   {
    "duration": 15,
    "start_time": "2021-12-10T13:17:52.451Z"
   },
   {
    "duration": 5,
    "start_time": "2021-12-10T13:17:54.159Z"
   },
   {
    "duration": 6,
    "start_time": "2021-12-10T13:17:56.581Z"
   },
   {
    "duration": 21,
    "start_time": "2021-12-10T13:17:58.996Z"
   },
   {
    "duration": 8,
    "start_time": "2021-12-10T13:18:01.070Z"
   },
   {
    "duration": 6,
    "start_time": "2021-12-10T13:18:01.821Z"
   },
   {
    "duration": 6,
    "start_time": "2021-12-10T13:18:02.663Z"
   },
   {
    "duration": 3,
    "start_time": "2021-12-10T13:18:03.445Z"
   },
   {
    "duration": 22,
    "start_time": "2021-12-10T13:18:06.071Z"
   },
   {
    "duration": 22,
    "start_time": "2021-12-10T13:18:06.517Z"
   },
   {
    "duration": 277,
    "start_time": "2021-12-10T13:18:09.377Z"
   },
   {
    "duration": 266,
    "start_time": "2021-12-10T13:18:10.409Z"
   },
   {
    "duration": 270,
    "start_time": "2021-12-10T13:18:11.073Z"
   },
   {
    "duration": 293,
    "start_time": "2021-12-10T13:18:14.316Z"
   },
   {
    "duration": 268,
    "start_time": "2021-12-10T13:18:16.763Z"
   },
   {
    "duration": 14,
    "start_time": "2021-12-10T13:18:18.194Z"
   },
   {
    "duration": 4,
    "start_time": "2021-12-10T13:18:22.503Z"
   },
   {
    "duration": 3,
    "start_time": "2021-12-10T13:18:23.683Z"
   },
   {
    "duration": 10,
    "start_time": "2021-12-10T13:18:24.501Z"
   },
   {
    "duration": 559,
    "start_time": "2021-12-10T13:18:31.385Z"
   },
   {
    "duration": 4,
    "start_time": "2021-12-10T13:18:36.381Z"
   },
   {
    "duration": 226,
    "start_time": "2021-12-10T13:18:40.187Z"
   },
   {
    "duration": 242,
    "start_time": "2021-12-10T13:20:45.443Z"
   },
   {
    "duration": 260,
    "start_time": "2021-12-10T13:21:06.406Z"
   },
   {
    "duration": 1851,
    "start_time": "2021-12-10T13:21:23.353Z"
   },
   {
    "duration": 6595,
    "start_time": "2021-12-10T13:22:28.967Z"
   },
   {
    "duration": 153,
    "start_time": "2021-12-10T13:24:52.172Z"
   },
   {
    "duration": 1711,
    "start_time": "2021-12-10T13:25:04.432Z"
   },
   {
    "duration": 773,
    "start_time": "2021-12-11T17:36:36.409Z"
   },
   {
    "duration": 117,
    "start_time": "2021-12-11T17:36:38.483Z"
   },
   {
    "duration": 27,
    "start_time": "2021-12-11T17:36:41.535Z"
   },
   {
    "duration": 22,
    "start_time": "2021-12-11T17:36:43.331Z"
   },
   {
    "duration": 15,
    "start_time": "2021-12-11T17:36:45.053Z"
   },
   {
    "duration": 17,
    "start_time": "2021-12-11T17:36:46.300Z"
   },
   {
    "duration": 22,
    "start_time": "2021-12-11T17:36:47.273Z"
   },
   {
    "duration": 8,
    "start_time": "2021-12-11T17:36:48.491Z"
   },
   {
    "duration": 7,
    "start_time": "2021-12-11T17:36:50.712Z"
   },
   {
    "duration": 27,
    "start_time": "2021-12-11T17:36:52.622Z"
   },
   {
    "duration": 11,
    "start_time": "2021-12-11T17:36:54.569Z"
   },
   {
    "duration": 14,
    "start_time": "2021-12-11T17:36:55.388Z"
   },
   {
    "duration": 9,
    "start_time": "2021-12-11T17:36:55.947Z"
   },
   {
    "duration": 3,
    "start_time": "2021-12-11T17:36:56.665Z"
   },
   {
    "duration": 30,
    "start_time": "2021-12-11T17:36:58.067Z"
   },
   {
    "duration": 41,
    "start_time": "2021-12-11T17:36:58.921Z"
   },
   {
    "duration": 614,
    "start_time": "2021-12-11T17:37:00.834Z"
   },
   {
    "duration": 507,
    "start_time": "2021-12-11T17:37:01.609Z"
   },
   {
    "duration": 547,
    "start_time": "2021-12-11T17:37:02.267Z"
   },
   {
    "duration": 508,
    "start_time": "2021-12-11T17:37:02.995Z"
   },
   {
    "duration": 491,
    "start_time": "2021-12-11T17:37:03.634Z"
   },
   {
    "duration": 17,
    "start_time": "2021-12-11T17:37:04.478Z"
   },
   {
    "duration": 6,
    "start_time": "2021-12-11T17:37:06.210Z"
   },
   {
    "duration": 3,
    "start_time": "2021-12-11T17:37:06.930Z"
   },
   {
    "duration": 15,
    "start_time": "2021-12-11T17:37:07.547Z"
   },
   {
    "duration": 1074,
    "start_time": "2021-12-11T17:37:09.472Z"
   },
   {
    "duration": 7,
    "start_time": "2021-12-11T17:37:11.365Z"
   },
   {
    "duration": 372,
    "start_time": "2021-12-11T17:37:13.468Z"
   },
   {
    "duration": 8124,
    "start_time": "2021-12-11T17:42:11.679Z"
   },
   {
    "duration": 33,
    "start_time": "2021-12-11T17:42:47.707Z"
   },
   {
    "duration": 28,
    "start_time": "2021-12-11T17:43:26.860Z"
   },
   {
    "duration": 314,
    "start_time": "2021-12-11T17:43:48.948Z"
   },
   {
    "duration": 8397,
    "start_time": "2021-12-11T17:45:31.423Z"
   },
   {
    "duration": 44,
    "start_time": "2021-12-11T17:46:13.607Z"
   },
   {
    "duration": 325,
    "start_time": "2021-12-11T17:46:49.213Z"
   },
   {
    "duration": 30,
    "start_time": "2021-12-11T17:47:06.117Z"
   },
   {
    "duration": 303,
    "start_time": "2021-12-11T17:47:45.452Z"
   },
   {
    "duration": 326,
    "start_time": "2021-12-11T17:48:03.856Z"
   },
   {
    "duration": 1475,
    "start_time": "2021-12-11T17:48:19.938Z"
   },
   {
    "duration": 327,
    "start_time": "2021-12-11T17:48:31.921Z"
   },
   {
    "duration": 311,
    "start_time": "2021-12-11T17:48:49.479Z"
   },
   {
    "duration": 20,
    "start_time": "2021-12-11T17:49:20.913Z"
   },
   {
    "duration": 7,
    "start_time": "2021-12-11T17:49:33.984Z"
   },
   {
    "duration": 502,
    "start_time": "2021-12-11T17:50:08.141Z"
   },
   {
    "duration": 17,
    "start_time": "2021-12-11T17:50:08.703Z"
   },
   {
    "duration": 7,
    "start_time": "2021-12-11T17:50:09.915Z"
   },
   {
    "duration": 3,
    "start_time": "2021-12-11T17:50:11.061Z"
   },
   {
    "duration": 16,
    "start_time": "2021-12-11T17:50:11.540Z"
   },
   {
    "duration": 1173,
    "start_time": "2021-12-11T17:50:13.653Z"
   },
   {
    "duration": 6,
    "start_time": "2021-12-11T17:50:15.537Z"
   },
   {
    "duration": 371,
    "start_time": "2021-12-11T17:50:17.450Z"
   },
   {
    "duration": 23,
    "start_time": "2021-12-11T17:50:24.806Z"
   },
   {
    "duration": 315,
    "start_time": "2021-12-11T17:51:41.619Z"
   },
   {
    "duration": 304,
    "start_time": "2021-12-11T17:53:45.561Z"
   },
   {
    "duration": 30,
    "start_time": "2021-12-11T17:54:04.535Z"
   },
   {
    "duration": 9,
    "start_time": "2021-12-11T17:54:11.332Z"
   },
   {
    "duration": 501,
    "start_time": "2021-12-11T17:54:27.023Z"
   },
   {
    "duration": 17,
    "start_time": "2021-12-11T17:54:27.712Z"
   },
   {
    "duration": 7,
    "start_time": "2021-12-11T17:54:29.359Z"
   },
   {
    "duration": 3,
    "start_time": "2021-12-11T17:54:30.123Z"
   },
   {
    "duration": 17,
    "start_time": "2021-12-11T17:54:30.605Z"
   },
   {
    "duration": 1060,
    "start_time": "2021-12-11T17:54:32.786Z"
   },
   {
    "duration": 8,
    "start_time": "2021-12-11T17:54:34.536Z"
   },
   {
    "duration": 368,
    "start_time": "2021-12-11T17:54:35.594Z"
   },
   {
    "duration": 475,
    "start_time": "2021-12-11T18:03:50.224Z"
   },
   {
    "duration": 308,
    "start_time": "2021-12-11T18:04:14.884Z"
   },
   {
    "duration": 467,
    "start_time": "2021-12-11T18:04:30.662Z"
   },
   {
    "duration": 1805,
    "start_time": "2021-12-11T18:05:51.882Z"
   },
   {
    "duration": 374,
    "start_time": "2021-12-11T18:18:43.744Z"
   },
   {
    "duration": 102,
    "start_time": "2021-12-11T18:19:15.095Z"
   },
   {
    "duration": 98,
    "start_time": "2021-12-11T18:19:35.778Z"
   },
   {
    "duration": 153,
    "start_time": "2021-12-11T18:20:20.198Z"
   },
   {
    "duration": 51,
    "start_time": "2021-12-11T18:20:33.060Z"
   },
   {
    "duration": 501,
    "start_time": "2021-12-11T18:21:36.679Z"
   },
   {
    "duration": 18,
    "start_time": "2021-12-11T18:21:37.422Z"
   },
   {
    "duration": 7,
    "start_time": "2021-12-11T18:21:38.973Z"
   },
   {
    "duration": 4,
    "start_time": "2021-12-11T18:21:39.224Z"
   },
   {
    "duration": 16,
    "start_time": "2021-12-11T18:21:39.764Z"
   },
   {
    "duration": 1081,
    "start_time": "2021-12-11T18:21:41.382Z"
   },
   {
    "duration": 8,
    "start_time": "2021-12-11T18:21:43.629Z"
   },
   {
    "duration": 483,
    "start_time": "2021-12-11T18:21:46.315Z"
   },
   {
    "duration": 41,
    "start_time": "2021-12-11T18:21:49.165Z"
   },
   {
    "duration": 753,
    "start_time": "2021-12-11T18:24:11.283Z"
   },
   {
    "duration": 560,
    "start_time": "2021-12-11T18:24:12.107Z"
   },
   {
    "duration": 506,
    "start_time": "2021-12-11T18:24:13.397Z"
   },
   {
    "duration": 487,
    "start_time": "2021-12-11T18:24:14.058Z"
   },
   {
    "duration": 524,
    "start_time": "2021-12-11T18:24:14.759Z"
   },
   {
    "duration": 16,
    "start_time": "2021-12-11T18:24:15.581Z"
   },
   {
    "duration": 7,
    "start_time": "2021-12-11T18:24:17.524Z"
   },
   {
    "duration": 3,
    "start_time": "2021-12-11T18:24:17.861Z"
   },
   {
    "duration": 13,
    "start_time": "2021-12-11T18:24:18.650Z"
   },
   {
    "duration": 1169,
    "start_time": "2021-12-11T18:24:20.523Z"
   },
   {
    "duration": 6,
    "start_time": "2021-12-11T18:24:22.834Z"
   },
   {
    "duration": 372,
    "start_time": "2021-12-11T18:24:25.990Z"
   },
   {
    "duration": 25,
    "start_time": "2021-12-11T18:24:28.903Z"
   },
   {
    "duration": 318,
    "start_time": "2021-12-11T18:24:53.319Z"
   },
   {
    "duration": 265,
    "start_time": "2021-12-11T18:25:16.684Z"
   },
   {
    "duration": 9423,
    "start_time": "2021-12-11T18:30:01.566Z"
   },
   {
    "duration": 653,
    "start_time": "2021-12-11T18:31:36.872Z"
   },
   {
    "duration": 17,
    "start_time": "2021-12-11T18:31:37.787Z"
   },
   {
    "duration": 6,
    "start_time": "2021-12-11T18:31:40.743Z"
   },
   {
    "duration": 3,
    "start_time": "2021-12-11T18:31:41.970Z"
   },
   {
    "duration": 12,
    "start_time": "2021-12-11T18:31:43.112Z"
   },
   {
    "duration": 1089,
    "start_time": "2021-12-11T18:31:46.631Z"
   },
   {
    "duration": 5,
    "start_time": "2021-12-11T18:31:49.979Z"
   },
   {
    "duration": 372,
    "start_time": "2021-12-11T18:31:54.054Z"
   },
   {
    "duration": 30,
    "start_time": "2021-12-11T18:32:32.948Z"
   },
   {
    "duration": 316,
    "start_time": "2021-12-11T18:36:02.070Z"
   },
   {
    "duration": 519,
    "start_time": "2021-12-11T18:36:11.774Z"
   },
   {
    "duration": 17,
    "start_time": "2021-12-11T18:36:13.378Z"
   },
   {
    "duration": 6,
    "start_time": "2021-12-11T18:36:14.850Z"
   },
   {
    "duration": 3,
    "start_time": "2021-12-11T18:36:18.312Z"
   },
   {
    "duration": 14,
    "start_time": "2021-12-11T18:36:19.287Z"
   },
   {
    "duration": 1039,
    "start_time": "2021-12-11T18:36:21.651Z"
   },
   {
    "duration": 9,
    "start_time": "2021-12-11T18:36:26.860Z"
   },
   {
    "duration": 366,
    "start_time": "2021-12-11T18:36:28.866Z"
   },
   {
    "duration": 384,
    "start_time": "2021-12-11T18:36:35.183Z"
   },
   {
    "duration": 113,
    "start_time": "2021-12-11T18:37:52.707Z"
   },
   {
    "duration": 395,
    "start_time": "2021-12-11T18:38:42.564Z"
   },
   {
    "duration": 724,
    "start_time": "2021-12-11T18:38:53.697Z"
   },
   {
    "duration": 18,
    "start_time": "2021-12-11T18:38:54.424Z"
   },
   {
    "duration": 7,
    "start_time": "2021-12-11T18:38:55.594Z"
   },
   {
    "duration": 4,
    "start_time": "2021-12-11T18:38:56.082Z"
   },
   {
    "duration": 18,
    "start_time": "2021-12-11T18:38:56.472Z"
   },
   {
    "duration": 1663,
    "start_time": "2021-12-11T18:38:58.137Z"
   },
   {
    "duration": 6,
    "start_time": "2021-12-11T18:39:00.269Z"
   },
   {
    "duration": 380,
    "start_time": "2021-12-11T18:39:03.921Z"
   },
   {
    "duration": 24,
    "start_time": "2021-12-11T18:39:09.296Z"
   },
   {
    "duration": 11,
    "start_time": "2021-12-11T18:39:22.877Z"
   },
   {
    "duration": 766,
    "start_time": "2021-12-11T20:28:21.684Z"
   },
   {
    "duration": 138,
    "start_time": "2021-12-11T20:28:23.762Z"
   },
   {
    "duration": 26,
    "start_time": "2021-12-11T20:28:26.244Z"
   },
   {
    "duration": 21,
    "start_time": "2021-12-11T20:28:27.471Z"
   },
   {
    "duration": 16,
    "start_time": "2021-12-11T20:28:28.849Z"
   },
   {
    "duration": 18,
    "start_time": "2021-12-11T20:28:30.011Z"
   },
   {
    "duration": 23,
    "start_time": "2021-12-11T20:28:31.691Z"
   },
   {
    "duration": 8,
    "start_time": "2021-12-11T20:28:32.778Z"
   },
   {
    "duration": 6,
    "start_time": "2021-12-11T20:28:33.750Z"
   },
   {
    "duration": 28,
    "start_time": "2021-12-11T20:28:34.394Z"
   },
   {
    "duration": 13,
    "start_time": "2021-12-11T20:28:35.088Z"
   },
   {
    "duration": 14,
    "start_time": "2021-12-11T20:28:35.325Z"
   },
   {
    "duration": 11,
    "start_time": "2021-12-11T20:28:35.552Z"
   },
   {
    "duration": 3,
    "start_time": "2021-12-11T20:28:35.811Z"
   },
   {
    "duration": 30,
    "start_time": "2021-12-11T20:28:37.289Z"
   },
   {
    "duration": 41,
    "start_time": "2021-12-11T20:28:37.699Z"
   },
   {
    "duration": 594,
    "start_time": "2021-12-11T20:28:39.455Z"
   },
   {
    "duration": 525,
    "start_time": "2021-12-11T20:28:40.051Z"
   },
   {
    "duration": 551,
    "start_time": "2021-12-11T20:28:40.579Z"
   },
   {
    "duration": 475,
    "start_time": "2021-12-11T20:28:41.292Z"
   },
   {
    "duration": 503,
    "start_time": "2021-12-11T20:28:42.577Z"
   },
   {
    "duration": 17,
    "start_time": "2021-12-11T20:28:44.550Z"
   },
   {
    "duration": 8,
    "start_time": "2021-12-11T20:28:45.878Z"
   },
   {
    "duration": 3,
    "start_time": "2021-12-11T20:28:46.334Z"
   },
   {
    "duration": 13,
    "start_time": "2021-12-11T20:28:46.886Z"
   },
   {
    "duration": 1032,
    "start_time": "2021-12-11T20:28:50.589Z"
   },
   {
    "duration": 5,
    "start_time": "2021-12-11T20:28:51.624Z"
   },
   {
    "duration": 371,
    "start_time": "2021-12-11T20:28:52.609Z"
   },
   {
    "duration": 23,
    "start_time": "2021-12-11T20:28:55.758Z"
   },
   {
    "duration": 10,
    "start_time": "2021-12-11T20:28:56.190Z"
   },
   {
    "duration": 8886,
    "start_time": "2021-12-11T20:29:43.671Z"
   },
   {
    "duration": 278,
    "start_time": "2021-12-11T20:30:48.822Z"
   },
   {
    "duration": 273,
    "start_time": "2021-12-11T20:33:53.137Z"
   },
   {
    "duration": 275,
    "start_time": "2021-12-11T20:34:14.639Z"
   },
   {
    "duration": 479,
    "start_time": "2021-12-11T20:34:23.970Z"
   },
   {
    "duration": 515,
    "start_time": "2021-12-11T20:36:25.580Z"
   },
   {
    "duration": 4,
    "start_time": "2021-12-11T22:04:36.053Z"
   },
   {
    "duration": 117,
    "start_time": "2021-12-11T22:04:36.591Z"
   },
   {
    "duration": 26,
    "start_time": "2021-12-11T22:04:37.368Z"
   },
   {
    "duration": 19,
    "start_time": "2021-12-11T22:04:37.555Z"
   },
   {
    "duration": 7,
    "start_time": "2021-12-11T22:04:37.941Z"
   },
   {
    "duration": 18,
    "start_time": "2021-12-11T22:04:38.319Z"
   },
   {
    "duration": 22,
    "start_time": "2021-12-11T22:04:38.696Z"
   },
   {
    "duration": 8,
    "start_time": "2021-12-11T22:04:39.035Z"
   },
   {
    "duration": 7,
    "start_time": "2021-12-11T22:04:39.664Z"
   },
   {
    "duration": 27,
    "start_time": "2021-12-11T22:04:40.255Z"
   },
   {
    "duration": 11,
    "start_time": "2021-12-11T22:04:40.866Z"
   },
   {
    "duration": 10,
    "start_time": "2021-12-11T22:04:41.080Z"
   },
   {
    "duration": 9,
    "start_time": "2021-12-11T22:04:41.292Z"
   },
   {
    "duration": 3,
    "start_time": "2021-12-11T22:04:41.498Z"
   },
   {
    "duration": 111,
    "start_time": "2021-12-11T22:04:42.312Z"
   },
   {
    "duration": 54,
    "start_time": "2021-12-11T22:04:42.524Z"
   },
   {
    "duration": 551,
    "start_time": "2021-12-11T22:04:43.166Z"
   },
   {
    "duration": 526,
    "start_time": "2021-12-11T22:04:43.720Z"
   },
   {
    "duration": 520,
    "start_time": "2021-12-11T22:04:44.250Z"
   },
   {
    "duration": 506,
    "start_time": "2021-12-11T22:04:44.774Z"
   },
   {
    "duration": 524,
    "start_time": "2021-12-11T22:04:45.283Z"
   },
   {
    "duration": 19,
    "start_time": "2021-12-11T22:04:45.811Z"
   },
   {
    "duration": 37,
    "start_time": "2021-12-11T22:04:45.833Z"
   },
   {
    "duration": 4,
    "start_time": "2021-12-11T22:04:45.874Z"
   },
   {
    "duration": 16,
    "start_time": "2021-12-11T22:04:45.881Z"
   },
   {
    "duration": 1103,
    "start_time": "2021-12-11T22:04:45.900Z"
   },
   {
    "duration": 7,
    "start_time": "2021-12-11T22:04:47.007Z"
   },
   {
    "duration": 392,
    "start_time": "2021-12-11T22:04:47.017Z"
   },
   {
    "duration": 25,
    "start_time": "2021-12-11T22:04:48.111Z"
   },
   {
    "duration": 466,
    "start_time": "2021-12-11T22:04:48.507Z"
   },
   {
    "duration": 510,
    "start_time": "2021-12-11T22:04:49.026Z"
   },
   {
    "duration": 792,
    "start_time": "2021-12-11T22:06:09.133Z"
   },
   {
    "duration": 605,
    "start_time": "2021-12-11T22:06:21.796Z"
   },
   {
    "duration": 663,
    "start_time": "2021-12-11T22:06:27.283Z"
   },
   {
    "duration": 333,
    "start_time": "2021-12-11T22:11:49.256Z"
   },
   {
    "duration": 89,
    "start_time": "2021-12-11T22:13:36.247Z"
   },
   {
    "duration": 418,
    "start_time": "2021-12-11T22:13:42.899Z"
   },
   {
    "duration": 478,
    "start_time": "2021-12-11T22:15:53.332Z"
   },
   {
    "duration": 430,
    "start_time": "2021-12-11T22:16:13.321Z"
   },
   {
    "duration": 423,
    "start_time": "2021-12-11T22:16:21.122Z"
   },
   {
    "duration": 408,
    "start_time": "2021-12-11T22:16:32.493Z"
   },
   {
    "duration": 433,
    "start_time": "2021-12-11T22:16:40.267Z"
   },
   {
    "duration": 469,
    "start_time": "2021-12-11T22:16:49.635Z"
   },
   {
    "duration": 441,
    "start_time": "2021-12-11T22:17:18.026Z"
   },
   {
    "duration": 1957,
    "start_time": "2021-12-11T22:20:18.625Z"
   },
   {
    "duration": 2173,
    "start_time": "2021-12-11T22:20:42.443Z"
   },
   {
    "duration": 1258,
    "start_time": "2021-12-11T22:23:35.592Z"
   },
   {
    "duration": 3538,
    "start_time": "2021-12-11T22:23:44.771Z"
   },
   {
    "duration": 3393,
    "start_time": "2021-12-11T22:24:03.046Z"
   },
   {
    "duration": 2385,
    "start_time": "2021-12-11T22:24:25.161Z"
   },
   {
    "duration": 2687,
    "start_time": "2021-12-11T22:24:40.779Z"
   },
   {
    "duration": 327,
    "start_time": "2021-12-11T22:27:40.917Z"
   },
   {
    "duration": 332,
    "start_time": "2021-12-11T22:29:43.879Z"
   },
   {
    "duration": 2432,
    "start_time": "2021-12-11T22:32:44.740Z"
   },
   {
    "duration": 558,
    "start_time": "2021-12-11T22:33:57.483Z"
   },
   {
    "duration": 541,
    "start_time": "2021-12-11T22:34:16.682Z"
   },
   {
    "duration": 560,
    "start_time": "2021-12-11T22:34:27.125Z"
   },
   {
    "duration": 780,
    "start_time": "2021-12-11T22:34:43.149Z"
   },
   {
    "duration": 400,
    "start_time": "2021-12-11T22:35:32.254Z"
   },
   {
    "duration": 128,
    "start_time": "2021-12-11T22:36:08.991Z"
   },
   {
    "duration": 397,
    "start_time": "2021-12-11T22:36:16.427Z"
   },
   {
    "duration": 367,
    "start_time": "2021-12-11T22:36:28.205Z"
   },
   {
    "duration": 393,
    "start_time": "2021-12-11T22:36:44.068Z"
   },
   {
    "duration": 396,
    "start_time": "2021-12-11T22:36:55.165Z"
   },
   {
    "duration": 13,
    "start_time": "2021-12-11T22:44:06.656Z"
   },
   {
    "duration": 773,
    "start_time": "2021-12-12T19:45:53.728Z"
   },
   {
    "duration": 783,
    "start_time": "2021-12-12T19:45:54.504Z"
   },
   {
    "duration": 27,
    "start_time": "2021-12-12T19:45:55.289Z"
   },
   {
    "duration": 41,
    "start_time": "2021-12-12T19:45:55.318Z"
   },
   {
    "duration": 16,
    "start_time": "2021-12-12T19:45:55.362Z"
   },
   {
    "duration": 20,
    "start_time": "2021-12-12T19:45:55.380Z"
   },
   {
    "duration": 59,
    "start_time": "2021-12-12T19:45:55.402Z"
   },
   {
    "duration": 7,
    "start_time": "2021-12-12T19:45:55.465Z"
   },
   {
    "duration": 6,
    "start_time": "2021-12-12T19:45:55.475Z"
   },
   {
    "duration": 25,
    "start_time": "2021-12-12T19:45:55.484Z"
   },
   {
    "duration": 56,
    "start_time": "2021-12-12T19:45:55.512Z"
   },
   {
    "duration": 15,
    "start_time": "2021-12-12T19:45:55.571Z"
   },
   {
    "duration": 8,
    "start_time": "2021-12-12T19:45:55.589Z"
   },
   {
    "duration": 4,
    "start_time": "2021-12-12T19:45:55.599Z"
   },
   {
    "duration": 71,
    "start_time": "2021-12-12T19:45:55.606Z"
   },
   {
    "duration": 42,
    "start_time": "2021-12-12T19:45:55.679Z"
   },
   {
    "duration": 715,
    "start_time": "2021-12-12T19:45:55.724Z"
   },
   {
    "duration": 496,
    "start_time": "2021-12-12T19:45:56.441Z"
   },
   {
    "duration": 531,
    "start_time": "2021-12-12T19:45:56.940Z"
   },
   {
    "duration": 492,
    "start_time": "2021-12-12T19:45:57.474Z"
   },
   {
    "duration": 522,
    "start_time": "2021-12-12T19:45:57.969Z"
   },
   {
    "duration": 17,
    "start_time": "2021-12-12T19:45:58.495Z"
   },
   {
    "duration": 8,
    "start_time": "2021-12-12T19:45:58.517Z"
   },
   {
    "duration": 31,
    "start_time": "2021-12-12T19:45:58.528Z"
   },
   {
    "duration": 15,
    "start_time": "2021-12-12T19:45:58.562Z"
   },
   {
    "duration": 998,
    "start_time": "2021-12-12T19:45:58.579Z"
   },
   {
    "duration": 7,
    "start_time": "2021-12-12T19:45:59.579Z"
   },
   {
    "duration": 369,
    "start_time": "2021-12-12T19:45:59.588Z"
   },
   {
    "duration": 25,
    "start_time": "2021-12-12T19:45:59.960Z"
   },
   {
    "duration": 361,
    "start_time": "2021-12-12T19:45:59.987Z"
   },
   {
    "duration": 2262,
    "start_time": "2021-12-12T19:46:00.350Z"
   },
   {
    "duration": 14,
    "start_time": "2021-12-12T19:46:02.614Z"
   },
   {
    "duration": 554,
    "start_time": "2021-12-13T05:53:29.991Z"
   },
   {
    "duration": 77,
    "start_time": "2021-12-13T05:53:31.255Z"
   },
   {
    "duration": 18,
    "start_time": "2021-12-13T05:53:33.371Z"
   },
   {
    "duration": 12,
    "start_time": "2021-12-13T05:53:33.903Z"
   },
   {
    "duration": 9,
    "start_time": "2021-12-13T05:53:35.430Z"
   },
   {
    "duration": 12,
    "start_time": "2021-12-13T05:53:36.590Z"
   },
   {
    "duration": 16,
    "start_time": "2021-12-13T05:53:37.815Z"
   },
   {
    "duration": 5,
    "start_time": "2021-12-13T05:53:39.610Z"
   },
   {
    "duration": 5,
    "start_time": "2021-12-13T05:53:41.695Z"
   },
   {
    "duration": 18,
    "start_time": "2021-12-13T05:53:43.305Z"
   },
   {
    "duration": 309,
    "start_time": "2021-12-13T05:54:54.086Z"
   },
   {
    "duration": 248,
    "start_time": "2021-12-13T05:55:02.660Z"
   },
   {
    "duration": 275,
    "start_time": "2021-12-13T05:55:21.590Z"
   },
   {
    "duration": 243,
    "start_time": "2021-12-13T05:55:35.120Z"
   },
   {
    "duration": 26,
    "start_time": "2021-12-13T05:57:12.266Z"
   },
   {
    "duration": 16,
    "start_time": "2021-12-13T05:57:37.746Z"
   },
   {
    "duration": 3,
    "start_time": "2021-12-13T06:00:17.201Z"
   },
   {
    "duration": 233,
    "start_time": "2021-12-13T06:01:07.676Z"
   },
   {
    "duration": 8,
    "start_time": "2021-12-13T06:01:18.465Z"
   },
   {
    "duration": 13,
    "start_time": "2021-12-13T06:02:01.156Z"
   },
   {
    "duration": 12,
    "start_time": "2021-12-13T06:02:09.940Z"
   },
   {
    "duration": 14,
    "start_time": "2021-12-13T06:03:25.328Z"
   },
   {
    "duration": 19,
    "start_time": "2021-12-13T06:06:19.752Z"
   },
   {
    "duration": 18,
    "start_time": "2021-12-13T06:06:43.272Z"
   },
   {
    "duration": 19,
    "start_time": "2021-12-13T06:07:03.145Z"
   },
   {
    "duration": 21,
    "start_time": "2021-12-13T06:07:34.959Z"
   },
   {
    "duration": 20,
    "start_time": "2021-12-13T06:07:39.812Z"
   },
   {
    "duration": 21,
    "start_time": "2021-12-13T06:07:44.523Z"
   },
   {
    "duration": 19,
    "start_time": "2021-12-13T06:07:48.245Z"
   },
   {
    "duration": 18,
    "start_time": "2021-12-13T06:08:55.190Z"
   },
   {
    "duration": 5,
    "start_time": "2021-12-13T06:09:20.750Z"
   },
   {
    "duration": 19,
    "start_time": "2021-12-13T06:09:40.958Z"
   },
   {
    "duration": 7173,
    "start_time": "2021-12-13T06:11:02.316Z"
   },
   {
    "duration": 17,
    "start_time": "2021-12-13T06:11:42.054Z"
   },
   {
    "duration": 14,
    "start_time": "2021-12-13T06:30:26.074Z"
   },
   {
    "duration": 16,
    "start_time": "2021-12-13T06:32:29.633Z"
   },
   {
    "duration": 3,
    "start_time": "2021-12-13T06:36:11.190Z"
   },
   {
    "duration": 105,
    "start_time": "2021-12-13T06:36:12.651Z"
   },
   {
    "duration": 31,
    "start_time": "2021-12-13T06:36:15.112Z"
   },
   {
    "duration": 17,
    "start_time": "2021-12-13T06:36:16.332Z"
   },
   {
    "duration": 6,
    "start_time": "2021-12-13T06:36:21.072Z"
   },
   {
    "duration": 12,
    "start_time": "2021-12-13T06:36:22.973Z"
   },
   {
    "duration": 16,
    "start_time": "2021-12-13T06:36:25.782Z"
   },
   {
    "duration": 5,
    "start_time": "2021-12-13T06:36:28.252Z"
   },
   {
    "duration": 5,
    "start_time": "2021-12-13T06:36:31.333Z"
   },
   {
    "duration": 19,
    "start_time": "2021-12-13T06:36:33.051Z"
   },
   {
    "duration": 15,
    "start_time": "2021-12-13T06:36:36.675Z"
   },
   {
    "duration": 21,
    "start_time": "2021-12-13T06:43:45.553Z"
   },
   {
    "duration": 17,
    "start_time": "2021-12-13T06:44:18.995Z"
   },
   {
    "duration": 305,
    "start_time": "2021-12-13T06:44:38.473Z"
   },
   {
    "duration": 30,
    "start_time": "2021-12-13T06:44:57.813Z"
   },
   {
    "duration": 23,
    "start_time": "2021-12-13T06:52:06.613Z"
   },
   {
    "duration": 17,
    "start_time": "2021-12-13T06:52:37.465Z"
   },
   {
    "duration": 6043,
    "start_time": "2021-12-13T06:54:00.374Z"
   },
   {
    "duration": 8095,
    "start_time": "2021-12-13T06:55:21.034Z"
   },
   {
    "duration": 6613,
    "start_time": "2021-12-13T06:55:45.211Z"
   },
   {
    "duration": 16,
    "start_time": "2021-12-13T06:56:11.371Z"
   },
   {
    "duration": 15,
    "start_time": "2021-12-13T06:56:28.243Z"
   },
   {
    "duration": 89,
    "start_time": "2021-12-13T07:00:10.160Z"
   },
   {
    "duration": 19,
    "start_time": "2021-12-13T07:00:18.998Z"
   },
   {
    "duration": 9,
    "start_time": "2021-12-13T07:01:49.101Z"
   },
   {
    "duration": 16,
    "start_time": "2021-12-13T07:02:10.205Z"
   },
   {
    "duration": 19,
    "start_time": "2021-12-13T07:02:22.970Z"
   },
   {
    "duration": 8,
    "start_time": "2021-12-13T07:02:42.773Z"
   },
   {
    "duration": 12,
    "start_time": "2021-12-13T07:02:43.632Z"
   },
   {
    "duration": 7,
    "start_time": "2021-12-13T07:03:04.385Z"
   },
   {
    "duration": 2,
    "start_time": "2021-12-13T07:03:09.932Z"
   },
   {
    "duration": 18,
    "start_time": "2021-12-13T07:03:11.402Z"
   },
   {
    "duration": 21,
    "start_time": "2021-12-13T07:03:12.103Z"
   },
   {
    "duration": 486,
    "start_time": "2021-12-13T07:03:14.254Z"
   },
   {
    "duration": 384,
    "start_time": "2021-12-13T07:03:14.783Z"
   },
   {
    "duration": 431,
    "start_time": "2021-12-13T07:03:15.273Z"
   },
   {
    "duration": 245,
    "start_time": "2021-12-13T07:03:15.760Z"
   },
   {
    "duration": 255,
    "start_time": "2021-12-13T07:03:16.153Z"
   },
   {
    "duration": 10,
    "start_time": "2021-12-13T07:03:16.851Z"
   },
   {
    "duration": 5,
    "start_time": "2021-12-13T07:03:19.660Z"
   },
   {
    "duration": 2,
    "start_time": "2021-12-13T07:03:20.152Z"
   },
   {
    "duration": 8,
    "start_time": "2021-12-13T07:03:20.564Z"
   },
   {
    "duration": 2,
    "start_time": "2021-12-13T08:21:29.063Z"
   },
   {
    "duration": 78,
    "start_time": "2021-12-13T08:21:30.519Z"
   },
   {
    "duration": 17,
    "start_time": "2021-12-13T08:21:32.366Z"
   },
   {
    "duration": 12,
    "start_time": "2021-12-13T08:21:33.000Z"
   },
   {
    "duration": 4,
    "start_time": "2021-12-13T08:21:34.476Z"
   },
   {
    "duration": 11,
    "start_time": "2021-12-13T08:21:37.320Z"
   },
   {
    "duration": 15,
    "start_time": "2021-12-13T08:21:38.811Z"
   },
   {
    "duration": 5,
    "start_time": "2021-12-13T08:21:43.095Z"
   },
   {
    "duration": 5,
    "start_time": "2021-12-13T08:21:44.536Z"
   },
   {
    "duration": 18,
    "start_time": "2021-12-13T08:21:45.282Z"
   },
   {
    "duration": 17,
    "start_time": "2021-12-13T08:21:45.721Z"
   },
   {
    "duration": 18,
    "start_time": "2021-12-13T08:21:46.463Z"
   },
   {
    "duration": 9,
    "start_time": "2021-12-13T08:21:47.145Z"
   },
   {
    "duration": 16,
    "start_time": "2021-12-13T08:21:49.256Z"
   },
   {
    "duration": 19,
    "start_time": "2021-12-13T08:21:52.255Z"
   },
   {
    "duration": 8,
    "start_time": "2021-12-13T08:21:56.206Z"
   },
   {
    "duration": 6,
    "start_time": "2021-12-13T08:21:56.571Z"
   },
   {
    "duration": 6,
    "start_time": "2021-12-13T08:21:58.040Z"
   },
   {
    "duration": 2,
    "start_time": "2021-12-13T08:22:05.379Z"
   },
   {
    "duration": 20,
    "start_time": "2021-12-13T08:22:09.274Z"
   },
   {
    "duration": 22,
    "start_time": "2021-12-13T08:22:12.654Z"
   },
   {
    "duration": 244,
    "start_time": "2021-12-13T08:22:14.373Z"
   },
   {
    "duration": 242,
    "start_time": "2021-12-13T08:22:14.901Z"
   },
   {
    "duration": 250,
    "start_time": "2021-12-13T08:22:15.456Z"
   },
   {
    "duration": 242,
    "start_time": "2021-12-13T08:22:15.971Z"
   },
   {
    "duration": 244,
    "start_time": "2021-12-13T08:22:16.446Z"
   },
   {
    "duration": 10,
    "start_time": "2021-12-13T08:22:17.056Z"
   },
   {
    "duration": 4,
    "start_time": "2021-12-13T08:22:18.221Z"
   },
   {
    "duration": 2,
    "start_time": "2021-12-13T08:22:18.801Z"
   },
   {
    "duration": 8,
    "start_time": "2021-12-13T08:22:19.271Z"
   },
   {
    "duration": 5,
    "start_time": "2021-12-13T08:24:48.074Z"
   },
   {
    "duration": 2,
    "start_time": "2021-12-13T08:24:48.776Z"
   },
   {
    "duration": 7,
    "start_time": "2021-12-13T08:24:49.181Z"
   },
   {
    "duration": 5,
    "start_time": "2021-12-13T08:28:24.531Z"
   },
   {
    "duration": 2,
    "start_time": "2021-12-13T08:28:25.034Z"
   },
   {
    "duration": 7,
    "start_time": "2021-12-13T08:28:25.469Z"
   },
   {
    "duration": 801,
    "start_time": "2021-12-13T08:28:27.954Z"
   },
   {
    "duration": 5,
    "start_time": "2021-12-13T08:28:39.289Z"
   },
   {
    "duration": 199,
    "start_time": "2021-12-13T08:28:42.254Z"
   },
   {
    "duration": 21,
    "start_time": "2021-12-13T08:28:44.534Z"
   },
   {
    "duration": 253,
    "start_time": "2021-12-13T08:28:45.470Z"
   },
   {
    "duration": 1329,
    "start_time": "2021-12-13T08:28:47.221Z"
   },
   {
    "duration": 9,
    "start_time": "2021-12-13T08:28:56.671Z"
   },
   {
    "duration": 756,
    "start_time": "2021-12-13T11:26:34.784Z"
   },
   {
    "duration": 474,
    "start_time": "2021-12-13T11:26:36.459Z"
   },
   {
    "duration": 29,
    "start_time": "2021-12-13T11:26:50.593Z"
   },
   {
    "duration": 20,
    "start_time": "2021-12-13T11:26:51.668Z"
   },
   {
    "duration": 16,
    "start_time": "2021-12-13T11:26:57.478Z"
   },
   {
    "duration": 20,
    "start_time": "2021-12-13T11:27:04.353Z"
   },
   {
    "duration": 25,
    "start_time": "2021-12-13T11:27:05.848Z"
   },
   {
    "duration": 8,
    "start_time": "2021-12-13T11:27:09.738Z"
   },
   {
    "duration": 7,
    "start_time": "2021-12-13T11:27:15.856Z"
   },
   {
    "duration": 7,
    "start_time": "2021-12-13T11:27:25.448Z"
   },
   {
    "duration": 32,
    "start_time": "2021-12-13T11:27:49.607Z"
   },
   {
    "duration": 42,
    "start_time": "2021-12-13T11:27:50.760Z"
   },
   {
    "duration": 31,
    "start_time": "2021-12-13T11:27:55.035Z"
   },
   {
    "duration": 13,
    "start_time": "2021-12-13T11:27:58.856Z"
   },
   {
    "duration": 25,
    "start_time": "2021-12-13T11:27:59.851Z"
   },
   {
    "duration": 27,
    "start_time": "2021-12-13T11:28:04.452Z"
   },
   {
    "duration": 12,
    "start_time": "2021-12-13T11:28:10.581Z"
   },
   {
    "duration": 13,
    "start_time": "2021-12-13T11:28:12.349Z"
   },
   {
    "duration": 17,
    "start_time": "2021-12-13T11:28:16.706Z"
   },
   {
    "duration": 4,
    "start_time": "2021-12-13T11:28:20.993Z"
   },
   {
    "duration": 46,
    "start_time": "2021-12-13T11:28:22.376Z"
   },
   {
    "duration": 43,
    "start_time": "2021-12-13T11:28:23.503Z"
   },
   {
    "duration": 712,
    "start_time": "2021-12-13T11:28:37.069Z"
   },
   {
    "duration": 494,
    "start_time": "2021-12-13T11:28:38.008Z"
   },
   {
    "duration": 549,
    "start_time": "2021-12-13T11:28:51.048Z"
   },
   {
    "duration": 494,
    "start_time": "2021-12-13T11:28:52.329Z"
   },
   {
    "duration": 479,
    "start_time": "2021-12-13T11:28:54.678Z"
   },
   {
    "duration": 18,
    "start_time": "2021-12-13T11:28:55.448Z"
   },
   {
    "duration": 7,
    "start_time": "2021-12-13T11:29:01.598Z"
   },
   {
    "duration": 3,
    "start_time": "2021-12-13T11:29:03.343Z"
   },
   {
    "duration": 13,
    "start_time": "2021-12-13T11:29:04.116Z"
   },
   {
    "duration": 1108,
    "start_time": "2021-12-13T11:29:09.444Z"
   },
   {
    "duration": 7,
    "start_time": "2021-12-13T11:29:23.831Z"
   },
   {
    "duration": 364,
    "start_time": "2021-12-13T11:29:25.557Z"
   },
   {
    "duration": 25,
    "start_time": "2021-12-13T11:29:27.786Z"
   },
   {
    "duration": 335,
    "start_time": "2021-12-13T11:29:28.640Z"
   },
   {
    "duration": 335,
    "start_time": "2021-12-13T11:31:55.214Z"
   },
   {
    "duration": 2518,
    "start_time": "2021-12-13T11:32:02.296Z"
   },
   {
    "duration": 13,
    "start_time": "2021-12-13T11:32:17.264Z"
   },
   {
    "duration": 93,
    "start_time": "2021-12-13T11:50:11.482Z"
   },
   {
    "duration": 13,
    "start_time": "2021-12-13T11:50:11.954Z"
   },
   {
    "duration": 105,
    "start_time": "2021-12-13T11:50:46.125Z"
   },
   {
    "duration": 4,
    "start_time": "2021-12-13T11:51:01.484Z"
   },
   {
    "duration": 14,
    "start_time": "2021-12-13T11:51:02.142Z"
   }
  ],
  "kernelspec": {
   "display_name": "Python 3",
   "language": "python",
   "name": "python3"
  },
  "language_info": {
   "codemirror_mode": {
    "name": "ipython",
    "version": 3
   },
   "file_extension": ".py",
   "mimetype": "text/x-python",
   "name": "python",
   "nbconvert_exporter": "python",
   "pygments_lexer": "ipython3",
   "version": "3.7.8"
  },
  "toc": {
   "base_numbering": 1,
   "nav_menu": {},
   "number_sections": true,
   "sideBar": true,
   "skip_h1_title": false,
   "title_cell": "Table of Contents",
   "title_sidebar": "Contents",
   "toc_cell": false,
   "toc_position": {},
   "toc_section_display": true,
   "toc_window_display": true
  }
 },
 "nbformat": 4,
 "nbformat_minor": 2
}

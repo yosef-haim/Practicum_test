{
 "cells": [
  {
   "cell_type": "markdown",
   "metadata": {},
   "source": [
    "<div style=\"border:solid green 2px; padding: 20px\"> <h1 style=\"color:green; margin-bottom:20px\">Reviewer's comment v1</h1>\n",
    "\n",
    "Hello Yosef, my name is Aleksandra. I'm going to review your project! Nice to meet you! 🙌\n",
    "\n",
    "You can find my comments under the heading **«Review»**. I will categorize my comments in green, blue or red boxes like this:\n",
    "\n",
    "<div class=\"alert alert-success\">\n",
    "    <b>Success:</b> if everything is done successfully\n",
    "</div>\n",
    "<div class=\"alert alert-warning\">\n",
    "    <b>Remarks:</b> if I can give some recommendations or ways to improve the project\n",
    "</div>\n",
    "<div class=\"alert alert-danger\">\n",
    "    <b>Needs fixing:</b> if the block requires some corrections. Work can't be accepted with the red comments\n",
    "</div>\n",
    "\n",
    "Please don't remove my comments :) If you have any questions don't hesitate to respond to my comments in a different section. \n",
    "    "
   ]
  },
  {
   "cell_type": "markdown",
   "metadata": {},
   "source": [
    "<div class=\"alert alert-block alert-info\">\n",
    "<b>Student answer.</b> <a class=\"tocSkip\"></a>\n",
    "</div>"
   ]
  },
  {
   "cell_type": "markdown",
   "metadata": {},
   "source": [
    "<div class=\"alert alert-block alert-success\">\n",
    "<b>Overall reviewer's comment v1</b> <a class=\"tocSkip\"></a>\n",
    "    \n",
    "Yosef, thank you so much for the project! I can see that a lot of effort has been made! \n",
    "    \n",
    "\n",
    "<span class=\"text-danger\"> Nevertheless, there are some comments/areas that will help you to make your project even better:</span>\n",
    "    \n",
    "<span class=\"text-danger\">- Work with your project structure.</span>\n",
    "    \n",
    "<span class=\"text-danger\">- Write what you should do on each step not to miss anything.</span>\n",
    "    \n",
    "<span class=\"text-danger\">- Work with duplicated and abnormal values.</span>\n",
    "    \n",
    "<span class=\"text-danger\">- Round up data as it is noted in description.</span>\n",
    "    \n",
    "<span class=\"text-danger\">- Add histograms of distribution in your analysis.</span>\n",
    "    \n",
    "<span class=\"text-danger\">- Formulate a null hypothesis and an alternative hypothesis for each question.</span>\n",
    "    \n",
    "    \n",
    "Never give up! Let's make your project greater. You are on your way!\n",
    "\n",
    "And of course, if you have any questions along the way, remember that you can always reach out to your tutor for any clarification.  \n",
    "</div>"
   ]
  },
  {
   "cell_type": "markdown",
   "metadata": {},
   "source": [
    "<div class=\"alert alert-block alert-success\">\n",
    "<b>Overall reviewer's comment v2</b> <a class=\"tocSkip\"></a>\n",
    "    \n",
    "Yosef, thanks a lot for closer eleboration of my comments! Your project now looks stronger.\n",
    "    \n",
    "\n",
    "<span class=\"text-danger\"> However it is really difficult to understand your calculations without a structure:</span>\n",
    "    \n",
    "<span class=\"text-danger\">- Work with your project structure.</span>\n",
    "    \n",
    "<span class=\"text-danger\">- Write what you should do on each step not to miss anything. Some important steps are skipped now.</span>\n",
    "    \n",
    "<span class=\"text-danger\">- Work with duplicated and abnormal values.</span>\n",
    "    \n",
    "<span class=\"text-danger\">- Formulate a null hypothesis and an alternative hypothesis for each question.</span>\n",
    "    \n",
    "    \n",
    "I will ask your tutor to give you materials on how to form your project. Never give up! You are on your way! \n",
    "  \n",
    "</div>"
   ]
  },
  {
   "cell_type": "markdown",
   "metadata": {},
   "source": [
    "<div class=\"alert alert-block alert-success\">\n",
    "<b>Overall reviewer's comment v3</b> <a class=\"tocSkip\"></a>\n",
    "    \n",
    "Yosef, thanks again for the hard work on your project! If you have any questions, remember that you can always reach out to me through your tutor for any clarification. Happy New Year and good luck in the next steps!\n",
    "</div>"
   ]
  },
  {
   "cell_type": "markdown",
   "metadata": {},
   "source": [
    "<div class=\"alert alert-block alert-danger\">\n",
    "<b>Reviewer's comment v1</b>\n",
    " \n",
    "<s>It would be great to add additional information about project tasks and aims (you can use table of contents for that). It gives an overview of what you should do in your work and what you are going to achieve in this project. </s>\n",
    "</div>"
   ]
  },
  {
   "cell_type": "markdown",
   "metadata": {},
   "source": [
    "<div class=\"alert alert-block alert-danger\">\n",
    "<b>Reviewer's comment v2</b>\n",
    " \n",
    "<s>It is also very difficult to understand the code without dedicated steps. Could you please split your work to highlighted section, as well as make a conclusion to each step</s>\n",
    "</div>"
   ]
  },
  {
   "cell_type": "markdown",
   "metadata": {},
   "source": [
    "<div class=\"alert alert-block alert-success\">\n",
    "<b>Reviewer's comment v3</b> Great! The project is now perfectly structured"
   ]
  },
  {
   "cell_type": "markdown",
   "metadata": {},
   "source": [
    "# Project description\n",
    "I work as an analyst for the telecom operator Megaline. The company offers its clients two prepaid plans, Surf and Ultimate. The commercial department wants to know which of the plans brings in more revenue in order to adjust the advertising budget.\n",
    "I'm going to carry out a preliminary analysis of the plans based on a relatively small client selection. You'll have the data on 500 Megaline clients: who the clients are, where they're from, which plan they use, and the number of calls they made and text messages they sent in 2018. Your job is to analyze clients' behavior and determine which prepaid plan brings in more revenue."
   ]
  },
  {
   "cell_type": "markdown",
   "metadata": {},
   "source": [
    "<div class=\"alert alert-block alert-success\">\n",
    "<b>Reviewer's comment v2</b>\n",
    " \n",
    "Well done! So we need to compare plans and decide which one is the best.\n",
    "</div>"
   ]
  },
  {
   "cell_type": "markdown",
   "metadata": {},
   "source": [
    "# Loading the data"
   ]
  },
  {
   "cell_type": "code",
   "execution_count": 348,
   "metadata": {},
   "outputs": [],
   "source": [
    "import pandas as pd\n",
    "import numpy as np"
   ]
  },
  {
   "cell_type": "code",
   "execution_count": 349,
   "metadata": {},
   "outputs": [],
   "source": [
    "#First I'll load all the files\n",
    "calls_data = pd.read_csv('/datasets/megaline_calls.csv')\n",
    "internet_data = pd.read_csv('/datasets/megaline_internet.csv')\n",
    "messages_data = pd.read_csv('/datasets/megaline_messages.csv')\n",
    "plan_data = pd.read_csv('/datasets/megaline_plans.csv')\n",
    "users_data = pd.read_csv('/datasets/megaline_users.csv')"
   ]
  },
  {
   "cell_type": "markdown",
   "metadata": {},
   "source": [
    "<div class=\"alert alert-block alert-success\">\n",
    "<b>Reviewer's comment v1</b>\n",
    " \n",
    "All the necessary data is loaded. Excellent!\n",
    "</div>"
   ]
  },
  {
   "cell_type": "code",
   "execution_count": 350,
   "metadata": {},
   "outputs": [
    {
     "name": "stdout",
     "output_type": "stream",
     "text": [
      "<class 'pandas.core.frame.DataFrame'>\n",
      "RangeIndex: 137735 entries, 0 to 137734\n",
      "Data columns (total 4 columns):\n",
      "id           137735 non-null object\n",
      "user_id      137735 non-null int64\n",
      "call_date    137735 non-null object\n",
      "duration     137735 non-null float64\n",
      "dtypes: float64(1), int64(1), object(2)\n",
      "memory usage: 4.2+ MB\n",
      "None\n",
      "\n",
      "<class 'pandas.core.frame.DataFrame'>\n",
      "RangeIndex: 104825 entries, 0 to 104824\n",
      "Data columns (total 4 columns):\n",
      "id              104825 non-null object\n",
      "user_id         104825 non-null int64\n",
      "session_date    104825 non-null object\n",
      "mb_used         104825 non-null float64\n",
      "dtypes: float64(1), int64(1), object(2)\n",
      "memory usage: 3.2+ MB\n",
      "None\n",
      "\n",
      "<class 'pandas.core.frame.DataFrame'>\n",
      "RangeIndex: 76051 entries, 0 to 76050\n",
      "Data columns (total 3 columns):\n",
      "id              76051 non-null object\n",
      "user_id         76051 non-null int64\n",
      "message_date    76051 non-null object\n",
      "dtypes: int64(1), object(2)\n",
      "memory usage: 1.7+ MB\n",
      "None\n",
      "\n",
      "<class 'pandas.core.frame.DataFrame'>\n",
      "RangeIndex: 2 entries, 0 to 1\n",
      "Data columns (total 8 columns):\n",
      "messages_included        2 non-null int64\n",
      "mb_per_month_included    2 non-null int64\n",
      "minutes_included         2 non-null int64\n",
      "usd_monthly_pay          2 non-null int64\n",
      "usd_per_gb               2 non-null int64\n",
      "usd_per_message          2 non-null float64\n",
      "usd_per_minute           2 non-null float64\n",
      "plan_name                2 non-null object\n",
      "dtypes: float64(2), int64(5), object(1)\n",
      "memory usage: 256.0+ bytes\n",
      "None\n",
      "\n",
      "<class 'pandas.core.frame.DataFrame'>\n",
      "RangeIndex: 500 entries, 0 to 499\n",
      "Data columns (total 8 columns):\n",
      "user_id       500 non-null int64\n",
      "first_name    500 non-null object\n",
      "last_name     500 non-null object\n",
      "age           500 non-null int64\n",
      "city          500 non-null object\n",
      "reg_date      500 non-null object\n",
      "plan          500 non-null object\n",
      "churn_date    34 non-null object\n",
      "dtypes: int64(2), object(6)\n",
      "memory usage: 31.4+ KB\n",
      "None\n"
     ]
    }
   ],
   "source": [
    "#Then let's check if there a wrong data type \n",
    "print(calls_data.info())\n",
    "print()\n",
    "print(internet_data.info())\n",
    "print()\n",
    "print(messages_data.info())\n",
    "print()\n",
    "print(plan_data.info())\n",
    "print()\n",
    "print(users_data.info())"
   ]
  },
  {
   "cell_type": "markdown",
   "metadata": {},
   "source": [
    "<div class=\"alert alert-danger\">\n",
    "    <b>Reviewer's comment v1:</b> \n",
    "    \n",
    "<s>Are there any missing values and duplicates? Their presence may affect the results of the analysis. It is very useful to always check the numerical data. Sometimes it is difficult due to a large amount of data, but after that, we have an idea of the data quality and existent issues with the data. You can easily check this data, for example, by creating histograms.</s>\n",
    "</div>"
   ]
  },
  {
   "cell_type": "markdown",
   "metadata": {},
   "source": [
    "# How much duplicates values are they and how they influnce the data"
   ]
  },
  {
   "cell_type": "code",
   "execution_count": 351,
   "metadata": {},
   "outputs": [
    {
     "name": "stdout",
     "output_type": "stream",
     "text": [
      "0\n",
      "\n",
      "0\n",
      "\n",
      "0\n",
      "\n",
      "0\n",
      "\n",
      "0\n"
     ]
    }
   ],
   "source": [
    "print(calls_data.duplicated().sum())\n",
    "print()\n",
    "print(internet_data.duplicated().sum())\n",
    "print()\n",
    "print(messages_data.duplicated().sum())\n",
    "print()\n",
    "print(plan_data.duplicated().sum())\n",
    "print()\n",
    "print(users_data.duplicated().sum())"
   ]
  },
  {
   "cell_type": "markdown",
   "metadata": {},
   "source": [
    "There are no duplicated!\n",
    "We can proceed."
   ]
  },
  {
   "cell_type": "markdown",
   "metadata": {},
   "source": [
    "<div class=\"alert alert-block alert-success\">\n",
    "<b>Reviewer's comment v2</b>\n",
    " \n",
    "Great!\n",
    "</div>"
   ]
  },
  {
   "cell_type": "code",
   "execution_count": 352,
   "metadata": {},
   "outputs": [
    {
     "name": "stdout",
     "output_type": "stream",
     "text": [
      "<class 'pandas.core.frame.DataFrame'>\n",
      "RangeIndex: 137735 entries, 0 to 137734\n",
      "Data columns (total 4 columns):\n",
      "id           137735 non-null object\n",
      "user_id      137735 non-null int64\n",
      "call_date    137735 non-null datetime64[ns]\n",
      "duration     137735 non-null float64\n",
      "dtypes: datetime64[ns](1), float64(1), int64(1), object(1)\n",
      "memory usage: 4.2+ MB\n",
      "None\n",
      "              id  user_id  call_date  duration\n",
      "31355   1117_329     1117 2018-09-10     37.60\n",
      "129871  1467_107     1467 2018-08-11     36.24\n",
      "133587  1483_438     1483 2018-06-10     35.88\n",
      "31180   1117_154     1117 2018-09-11     35.74\n",
      "92135    1331_26     1331 2018-11-14     35.35\n"
     ]
    }
   ],
   "source": [
    "#Lets change wrong data\n",
    "calls_data['call_date'] = pd.to_datetime(calls_data['call_date'], format='%Y-%m-%d')\n",
    "print(calls_data.info())\n",
    "print(calls_data.sort_values('duration',ascending=False).head())"
   ]
  },
  {
   "cell_type": "code",
   "execution_count": 353,
   "metadata": {},
   "outputs": [
    {
     "name": "stdout",
     "output_type": "stream",
     "text": [
      "<class 'pandas.core.frame.DataFrame'>\n",
      "RangeIndex: 104825 entries, 0 to 104824\n",
      "Data columns (total 4 columns):\n",
      "id              104825 non-null object\n",
      "user_id         104825 non-null int64\n",
      "session_date    104825 non-null datetime64[ns]\n",
      "mb_used         104825 non-null float64\n",
      "dtypes: datetime64[ns](1), float64(1), int64(1), object(1)\n",
      "memory usage: 3.2+ MB\n",
      "None\n",
      "             id  user_id session_date  mb_used\n",
      "92312  1430_447     1430   2018-12-30  1693.47\n",
      "4683   1028_241     1028   2018-03-14  1668.03\n",
      "87217   1404_84     1404   2018-12-15  1636.47\n",
      "37647   1171_18     1171   2018-03-02  1634.39\n",
      "68534  1320_198     1320   2018-10-25  1604.46\n"
     ]
    }
   ],
   "source": [
    "internet_data['session_date'] = pd.to_datetime(internet_data['session_date'], format='%Y-%m-%d')\n",
    "print(internet_data.info())\n",
    "print(internet_data.sort_values('mb_used',ascending=False).head())"
   ]
  },
  {
   "cell_type": "code",
   "execution_count": 354,
   "metadata": {},
   "outputs": [
    {
     "name": "stdout",
     "output_type": "stream",
     "text": [
      "<class 'pandas.core.frame.DataFrame'>\n",
      "RangeIndex: 76051 entries, 0 to 76050\n",
      "Data columns (total 3 columns):\n",
      "id              76051 non-null object\n",
      "user_id         76051 non-null int64\n",
      "message_date    76051 non-null datetime64[ns]\n",
      "dtypes: datetime64[ns](1), int64(1), object(1)\n",
      "memory usage: 1.7+ MB\n",
      "None\n",
      "         id  user_id message_date\n",
      "0  1000_125     1000   2018-12-27\n",
      "1  1000_160     1000   2018-12-31\n",
      "2  1000_223     1000   2018-12-31\n",
      "3  1000_251     1000   2018-12-27\n",
      "4  1000_255     1000   2018-12-26\n"
     ]
    }
   ],
   "source": [
    "messages_data['message_date'] = pd.to_datetime(messages_data['message_date'], format='%Y-%m-%d')\n",
    "print(messages_data.info())\n",
    "print(messages_data.head())"
   ]
  },
  {
   "cell_type": "code",
   "execution_count": 355,
   "metadata": {},
   "outputs": [
    {
     "name": "stdout",
     "output_type": "stream",
     "text": [
      "<class 'pandas.core.frame.DataFrame'>\n",
      "RangeIndex: 500 entries, 0 to 499\n",
      "Data columns (total 8 columns):\n",
      "user_id       500 non-null int64\n",
      "first_name    500 non-null object\n",
      "last_name     500 non-null object\n",
      "age           500 non-null int64\n",
      "city          500 non-null object\n",
      "reg_date      500 non-null datetime64[ns]\n",
      "plan          500 non-null object\n",
      "churn_date    34 non-null datetime64[ns]\n",
      "dtypes: datetime64[ns](2), int64(2), object(4)\n",
      "memory usage: 31.4+ KB\n",
      "None\n",
      "   user_id first_name  last_name  age                                   city  \\\n",
      "0     1000   Anamaria      Bauer   45  Atlanta-Sandy Springs-Roswell, GA MSA   \n",
      "1     1001     Mickey  Wilkerson   28        Seattle-Tacoma-Bellevue, WA MSA   \n",
      "2     1002     Carlee    Hoffman   36   Las Vegas-Henderson-Paradise, NV MSA   \n",
      "3     1003   Reynaldo    Jenkins   52                          Tulsa, OK MSA   \n",
      "4     1004    Leonila   Thompson   40        Seattle-Tacoma-Bellevue, WA MSA   \n",
      "\n",
      "    reg_date      plan churn_date  \n",
      "0 2018-12-24  ultimate        NaT  \n",
      "1 2018-08-13      surf        NaT  \n",
      "2 2018-10-21      surf        NaT  \n",
      "3 2018-01-28      surf        NaT  \n",
      "4 2018-05-23      surf        NaT  \n"
     ]
    }
   ],
   "source": [
    "users_data['reg_date'] = pd.to_datetime(users_data['reg_date'], format='%Y-%m-%d')\n",
    "users_data['churn_date'] = pd.to_datetime(users_data['churn_date'], format='%Y-%m-%d')\n",
    "print(users_data.info())\n",
    "print(users_data.head())"
   ]
  },
  {
   "cell_type": "markdown",
   "metadata": {},
   "source": [
    "<div class=\"alert alert-block alert-success\">\n",
    "<b>Reviewer's comment v1</b>\n",
    " \n",
    "Well done!\n",
    "</div>"
   ]
  },
  {
   "cell_type": "markdown",
   "metadata": {},
   "source": [
    "There are missing values in 'users_data' at 'churn_date' column which means \n",
    "calling plan was being used when this data was retrieved"
   ]
  },
  {
   "cell_type": "markdown",
   "metadata": {},
   "source": [
    "# Looking for wierd values"
   ]
  },
  {
   "cell_type": "code",
   "execution_count": 418,
   "metadata": {},
   "outputs": [
    {
     "data": {
      "text/html": [
       "<div>\n",
       "<style scoped>\n",
       "    .dataframe tbody tr th:only-of-type {\n",
       "        vertical-align: middle;\n",
       "    }\n",
       "\n",
       "    .dataframe tbody tr th {\n",
       "        vertical-align: top;\n",
       "    }\n",
       "\n",
       "    .dataframe thead th {\n",
       "        text-align: right;\n",
       "    }\n",
       "</style>\n",
       "<table border=\"1\" class=\"dataframe\">\n",
       "  <thead>\n",
       "    <tr style=\"text-align: right;\">\n",
       "      <th></th>\n",
       "      <th>user_id</th>\n",
       "      <th>age</th>\n",
       "    </tr>\n",
       "  </thead>\n",
       "  <tbody>\n",
       "    <tr>\n",
       "      <td>count</td>\n",
       "      <td>500.000000</td>\n",
       "      <td>500.000000</td>\n",
       "    </tr>\n",
       "    <tr>\n",
       "      <td>mean</td>\n",
       "      <td>1249.500000</td>\n",
       "      <td>45.486000</td>\n",
       "    </tr>\n",
       "    <tr>\n",
       "      <td>std</td>\n",
       "      <td>144.481833</td>\n",
       "      <td>16.972269</td>\n",
       "    </tr>\n",
       "    <tr>\n",
       "      <td>min</td>\n",
       "      <td>1000.000000</td>\n",
       "      <td>18.000000</td>\n",
       "    </tr>\n",
       "    <tr>\n",
       "      <td>25%</td>\n",
       "      <td>1124.750000</td>\n",
       "      <td>30.000000</td>\n",
       "    </tr>\n",
       "    <tr>\n",
       "      <td>50%</td>\n",
       "      <td>1249.500000</td>\n",
       "      <td>46.000000</td>\n",
       "    </tr>\n",
       "    <tr>\n",
       "      <td>75%</td>\n",
       "      <td>1374.250000</td>\n",
       "      <td>61.000000</td>\n",
       "    </tr>\n",
       "    <tr>\n",
       "      <td>max</td>\n",
       "      <td>1499.000000</td>\n",
       "      <td>75.000000</td>\n",
       "    </tr>\n",
       "  </tbody>\n",
       "</table>\n",
       "</div>"
      ],
      "text/plain": [
       "           user_id         age\n",
       "count   500.000000  500.000000\n",
       "mean   1249.500000   45.486000\n",
       "std     144.481833   16.972269\n",
       "min    1000.000000   18.000000\n",
       "25%    1124.750000   30.000000\n",
       "50%    1249.500000   46.000000\n",
       "75%    1374.250000   61.000000\n",
       "max    1499.000000   75.000000"
      ]
     },
     "execution_count": 418,
     "metadata": {},
     "output_type": "execute_result"
    }
   ],
   "source": [
    "users_data.describe()"
   ]
  },
  {
   "cell_type": "markdown",
   "metadata": {},
   "source": [
    "The avarage age of the users as i can see is about 46."
   ]
  },
  {
   "cell_type": "code",
   "execution_count": 419,
   "metadata": {},
   "outputs": [
    {
     "data": {
      "text/html": [
       "<div>\n",
       "<style scoped>\n",
       "    .dataframe tbody tr th:only-of-type {\n",
       "        vertical-align: middle;\n",
       "    }\n",
       "\n",
       "    .dataframe tbody tr th {\n",
       "        vertical-align: top;\n",
       "    }\n",
       "\n",
       "    .dataframe thead th {\n",
       "        text-align: right;\n",
       "    }\n",
       "</style>\n",
       "<table border=\"1\" class=\"dataframe\">\n",
       "  <thead>\n",
       "    <tr style=\"text-align: right;\">\n",
       "      <th></th>\n",
       "      <th>user_id</th>\n",
       "      <th>month</th>\n",
       "      <th>message</th>\n",
       "    </tr>\n",
       "  </thead>\n",
       "  <tbody>\n",
       "    <tr>\n",
       "      <td>count</td>\n",
       "      <td>76051.000000</td>\n",
       "      <td>76051.000000</td>\n",
       "      <td>76051.0</td>\n",
       "    </tr>\n",
       "    <tr>\n",
       "      <td>mean</td>\n",
       "      <td>1245.972768</td>\n",
       "      <td>9.584016</td>\n",
       "      <td>1.0</td>\n",
       "    </tr>\n",
       "    <tr>\n",
       "      <td>std</td>\n",
       "      <td>139.843635</td>\n",
       "      <td>2.276392</td>\n",
       "      <td>0.0</td>\n",
       "    </tr>\n",
       "    <tr>\n",
       "      <td>min</td>\n",
       "      <td>1000.000000</td>\n",
       "      <td>1.000000</td>\n",
       "      <td>1.0</td>\n",
       "    </tr>\n",
       "    <tr>\n",
       "      <td>25%</td>\n",
       "      <td>1123.000000</td>\n",
       "      <td>8.000000</td>\n",
       "      <td>1.0</td>\n",
       "    </tr>\n",
       "    <tr>\n",
       "      <td>50%</td>\n",
       "      <td>1251.000000</td>\n",
       "      <td>10.000000</td>\n",
       "      <td>1.0</td>\n",
       "    </tr>\n",
       "    <tr>\n",
       "      <td>75%</td>\n",
       "      <td>1362.000000</td>\n",
       "      <td>12.000000</td>\n",
       "      <td>1.0</td>\n",
       "    </tr>\n",
       "    <tr>\n",
       "      <td>max</td>\n",
       "      <td>1497.000000</td>\n",
       "      <td>12.000000</td>\n",
       "      <td>1.0</td>\n",
       "    </tr>\n",
       "  </tbody>\n",
       "</table>\n",
       "</div>"
      ],
      "text/plain": [
       "            user_id         month  message\n",
       "count  76051.000000  76051.000000  76051.0\n",
       "mean    1245.972768      9.584016      1.0\n",
       "std      139.843635      2.276392      0.0\n",
       "min     1000.000000      1.000000      1.0\n",
       "25%     1123.000000      8.000000      1.0\n",
       "50%     1251.000000     10.000000      1.0\n",
       "75%     1362.000000     12.000000      1.0\n",
       "max     1497.000000     12.000000      1.0"
      ]
     },
     "execution_count": 419,
     "metadata": {},
     "output_type": "execute_result"
    }
   ],
   "source": [
    "messages_data.describe()"
   ]
  },
  {
   "cell_type": "markdown",
   "metadata": {},
   "source": [
    "Everythings seem's ok!"
   ]
  },
  {
   "cell_type": "markdown",
   "metadata": {},
   "source": [
    "<div class=\"alert alert-block alert-success\">\n",
    "<b>Reviewer's comment v3</b> Yep, everything seems to be normal"
   ]
  },
  {
   "cell_type": "code",
   "execution_count": 420,
   "metadata": {},
   "outputs": [
    {
     "data": {
      "text/html": [
       "<div>\n",
       "<style scoped>\n",
       "    .dataframe tbody tr th:only-of-type {\n",
       "        vertical-align: middle;\n",
       "    }\n",
       "\n",
       "    .dataframe tbody tr th {\n",
       "        vertical-align: top;\n",
       "    }\n",
       "\n",
       "    .dataframe thead th {\n",
       "        text-align: right;\n",
       "    }\n",
       "</style>\n",
       "<table border=\"1\" class=\"dataframe\">\n",
       "  <thead>\n",
       "    <tr style=\"text-align: right;\">\n",
       "      <th></th>\n",
       "      <th>user_id</th>\n",
       "      <th>mb_used</th>\n",
       "      <th>month</th>\n",
       "    </tr>\n",
       "  </thead>\n",
       "  <tbody>\n",
       "    <tr>\n",
       "      <td>count</td>\n",
       "      <td>104825.000000</td>\n",
       "      <td>91078.000000</td>\n",
       "      <td>104825.000000</td>\n",
       "    </tr>\n",
       "    <tr>\n",
       "      <td>mean</td>\n",
       "      <td>1242.496361</td>\n",
       "      <td>422.064206</td>\n",
       "      <td>9.342552</td>\n",
       "    </tr>\n",
       "    <tr>\n",
       "      <td>std</td>\n",
       "      <td>142.053913</td>\n",
       "      <td>255.063501</td>\n",
       "      <td>2.400404</td>\n",
       "    </tr>\n",
       "    <tr>\n",
       "      <td>min</td>\n",
       "      <td>1000.000000</td>\n",
       "      <td>0.010000</td>\n",
       "      <td>1.000000</td>\n",
       "    </tr>\n",
       "    <tr>\n",
       "      <td>25%</td>\n",
       "      <td>1122.000000</td>\n",
       "      <td>223.380000</td>\n",
       "      <td>8.000000</td>\n",
       "    </tr>\n",
       "    <tr>\n",
       "      <td>50%</td>\n",
       "      <td>1236.000000</td>\n",
       "      <td>395.905000</td>\n",
       "      <td>10.000000</td>\n",
       "    </tr>\n",
       "    <tr>\n",
       "      <td>75%</td>\n",
       "      <td>1367.000000</td>\n",
       "      <td>588.367500</td>\n",
       "      <td>11.000000</td>\n",
       "    </tr>\n",
       "    <tr>\n",
       "      <td>max</td>\n",
       "      <td>1499.000000</td>\n",
       "      <td>1693.470000</td>\n",
       "      <td>12.000000</td>\n",
       "    </tr>\n",
       "  </tbody>\n",
       "</table>\n",
       "</div>"
      ],
      "text/plain": [
       "             user_id       mb_used          month\n",
       "count  104825.000000  91078.000000  104825.000000\n",
       "mean     1242.496361    422.064206       9.342552\n",
       "std       142.053913    255.063501       2.400404\n",
       "min      1000.000000      0.010000       1.000000\n",
       "25%      1122.000000    223.380000       8.000000\n",
       "50%      1236.000000    395.905000      10.000000\n",
       "75%      1367.000000    588.367500      11.000000\n",
       "max      1499.000000   1693.470000      12.000000"
      ]
     },
     "execution_count": 420,
     "metadata": {},
     "output_type": "execute_result"
    }
   ],
   "source": [
    "internet_data.describe()"
   ]
  },
  {
   "cell_type": "markdown",
   "metadata": {},
   "source": [
    "There might be an outlier!!\n",
    "The avarage for mb_used stands for about 367 but the maximum value is about\n",
    "1700 and the minimum value is 0.\n",
    "This could imply that there are alot of users around 367 value while the \n",
    "lowest value is 0 and there for the avarage is not high as expected.\n",
    "Time for investigetion!"
   ]
  },
  {
   "cell_type": "code",
   "execution_count": 421,
   "metadata": {},
   "outputs": [
    {
     "data": {
      "text/plain": [
       "0"
      ]
     },
     "execution_count": 421,
     "metadata": {},
     "output_type": "execute_result"
    }
   ],
   "source": [
    "len(internet_data.query('mb_used ==0').groupby('user_id').count())"
   ]
  },
  {
   "cell_type": "markdown",
   "metadata": {},
   "source": [
    "Number of users who dont surf at all is 477."
   ]
  },
  {
   "cell_type": "code",
   "execution_count": 422,
   "metadata": {},
   "outputs": [
    {
     "name": "stdout",
     "output_type": "stream",
     "text": [
      "The non surf users are: 0.000000% of the overall users\n"
     ]
    }
   ],
   "source": [
    "none_surf_users = internet_data.query('mb_used ==0').groupby('user_id').count()\n",
    "per = len(internet_data.query('mb_used ==0').groupby('user_id').count()) / len(internet_data['mb_used'])\n",
    "print('The non surf users are: {:%} of the overall users'.format(per))"
   ]
  },
  {
   "cell_type": "markdown",
   "metadata": {},
   "source": [
    "That not alot.\n",
    "Therefor we can omit thos values."
   ]
  },
  {
   "cell_type": "markdown",
   "metadata": {},
   "source": [
    "<div class=\"alert alert-block alert-success\">\n",
    "<b>Reviewer's comment v3</b> You are absolutely right! "
   ]
  },
  {
   "cell_type": "code",
   "execution_count": 423,
   "metadata": {},
   "outputs": [],
   "source": [
    "NaN = float(\"nan\")\n",
    "internet_data.loc[internet_data['mb_used'] == 0 , 'mb_used'] = NaN"
   ]
  },
  {
   "cell_type": "code",
   "execution_count": 424,
   "metadata": {},
   "outputs": [],
   "source": [
    "internet_data['mb_used'].dropna(inplace=True)"
   ]
  },
  {
   "cell_type": "code",
   "execution_count": 425,
   "metadata": {},
   "outputs": [
    {
     "data": {
      "text/plain": [
       "0"
      ]
     },
     "execution_count": 425,
     "metadata": {},
     "output_type": "execute_result"
    }
   ],
   "source": [
    "internet_data['mb_used'].isna().sum()"
   ]
  },
  {
   "cell_type": "markdown",
   "metadata": {},
   "source": [
    "I got rid of the unwanted values and now I can procceed."
   ]
  },
  {
   "cell_type": "code",
   "execution_count": 426,
   "metadata": {},
   "outputs": [
    {
     "data": {
      "text/html": [
       "<div>\n",
       "<style scoped>\n",
       "    .dataframe tbody tr th:only-of-type {\n",
       "        vertical-align: middle;\n",
       "    }\n",
       "\n",
       "    .dataframe tbody tr th {\n",
       "        vertical-align: top;\n",
       "    }\n",
       "\n",
       "    .dataframe thead th {\n",
       "        text-align: right;\n",
       "    }\n",
       "</style>\n",
       "<table border=\"1\" class=\"dataframe\">\n",
       "  <thead>\n",
       "    <tr style=\"text-align: right;\">\n",
       "      <th></th>\n",
       "      <th>user_id</th>\n",
       "      <th>duration</th>\n",
       "      <th>month</th>\n",
       "      <th>call</th>\n",
       "    </tr>\n",
       "  </thead>\n",
       "  <tbody>\n",
       "    <tr>\n",
       "      <td>count</td>\n",
       "      <td>137735.000000</td>\n",
       "      <td>110901.000000</td>\n",
       "      <td>137735.000000</td>\n",
       "      <td>137735.0</td>\n",
       "    </tr>\n",
       "    <tr>\n",
       "      <td>mean</td>\n",
       "      <td>1247.658046</td>\n",
       "      <td>8.378196</td>\n",
       "      <td>9.320797</td>\n",
       "      <td>1.0</td>\n",
       "    </tr>\n",
       "    <tr>\n",
       "      <td>std</td>\n",
       "      <td>139.416268</td>\n",
       "      <td>5.354567</td>\n",
       "      <td>2.412550</td>\n",
       "      <td>0.0</td>\n",
       "    </tr>\n",
       "    <tr>\n",
       "      <td>min</td>\n",
       "      <td>1000.000000</td>\n",
       "      <td>0.010000</td>\n",
       "      <td>1.000000</td>\n",
       "      <td>1.0</td>\n",
       "    </tr>\n",
       "    <tr>\n",
       "      <td>25%</td>\n",
       "      <td>1128.000000</td>\n",
       "      <td>4.150000</td>\n",
       "      <td>8.000000</td>\n",
       "      <td>1.0</td>\n",
       "    </tr>\n",
       "    <tr>\n",
       "      <td>50%</td>\n",
       "      <td>1247.000000</td>\n",
       "      <td>7.710000</td>\n",
       "      <td>10.000000</td>\n",
       "      <td>1.0</td>\n",
       "    </tr>\n",
       "    <tr>\n",
       "      <td>75%</td>\n",
       "      <td>1365.000000</td>\n",
       "      <td>11.820000</td>\n",
       "      <td>11.000000</td>\n",
       "      <td>1.0</td>\n",
       "    </tr>\n",
       "    <tr>\n",
       "      <td>max</td>\n",
       "      <td>1499.000000</td>\n",
       "      <td>37.600000</td>\n",
       "      <td>12.000000</td>\n",
       "      <td>1.0</td>\n",
       "    </tr>\n",
       "  </tbody>\n",
       "</table>\n",
       "</div>"
      ],
      "text/plain": [
       "             user_id       duration          month      call\n",
       "count  137735.000000  110901.000000  137735.000000  137735.0\n",
       "mean     1247.658046       8.378196       9.320797       1.0\n",
       "std       139.416268       5.354567       2.412550       0.0\n",
       "min      1000.000000       0.010000       1.000000       1.0\n",
       "25%      1128.000000       4.150000       8.000000       1.0\n",
       "50%      1247.000000       7.710000      10.000000       1.0\n",
       "75%      1365.000000      11.820000      11.000000       1.0\n",
       "max      1499.000000      37.600000      12.000000       1.0"
      ]
     },
     "execution_count": 426,
     "metadata": {},
     "output_type": "execute_result"
    }
   ],
   "source": [
    "calls_data.describe()"
   ]
  },
  {
   "cell_type": "markdown",
   "metadata": {},
   "source": [
    "As the last check i see there are alot of users who didn't spok on the phone and thier duration call equals to zero.\n",
    "In this case i see the max value is about 38 and the min value is 0 while the avarage is about 7, this might imply to a large number of zero's values.\n",
    "Let's find out."
   ]
  },
  {
   "cell_type": "code",
   "execution_count": 427,
   "metadata": {},
   "outputs": [
    {
     "data": {
      "text/plain": [
       "0"
      ]
     },
     "execution_count": 427,
     "metadata": {},
     "output_type": "execute_result"
    }
   ],
   "source": [
    "len(calls_data.query('duration ==0').groupby('user_id').sum())"
   ]
  },
  {
   "cell_type": "markdown",
   "metadata": {},
   "source": [
    "There are 478 user's that dont talk on the phone.\n",
    "Maybe thay missed the call /=\n",
    "Either way I'll need to eliminate those user's(calm down I just taking them out of data).\n",
    "First I'll check what part of the data they represent.\n",
    "\n"
   ]
  },
  {
   "cell_type": "code",
   "execution_count": 428,
   "metadata": {},
   "outputs": [
    {
     "name": "stdout",
     "output_type": "stream",
     "text": [
      "There are: 0.000000% of the overall users that missed call\n"
     ]
    }
   ],
   "source": [
    "missed_phonecall = calls_data.query('duration ==0').groupby('user_id').count()\n",
    "per = len(calls_data.query('duration ==0').groupby('user_id').count()) / len(calls_data['duration'])\n",
    "print('There are: {:%} of the overall users that missed call'.format(per))"
   ]
  },
  {
   "cell_type": "code",
   "execution_count": 429,
   "metadata": {},
   "outputs": [],
   "source": [
    "NaN = float(\"nan\")\n",
    "calls_data.loc[calls_data['duration'] == 0 , 'duration'] = NaN"
   ]
  },
  {
   "cell_type": "code",
   "execution_count": 430,
   "metadata": {},
   "outputs": [],
   "source": [
    "calls_data['duration'].dropna(inplace=True)"
   ]
  },
  {
   "cell_type": "code",
   "execution_count": 431,
   "metadata": {},
   "outputs": [
    {
     "data": {
      "text/plain": [
       "0"
      ]
     },
     "execution_count": 431,
     "metadata": {},
     "output_type": "execute_result"
    }
   ],
   "source": [
    "calls_data['duration'].isna().sum()"
   ]
  },
  {
   "cell_type": "markdown",
   "metadata": {},
   "source": [
    "I got rid of the unwanted data!"
   ]
  },
  {
   "cell_type": "markdown",
   "metadata": {},
   "source": [
    "<div class=\"alert alert-block alert-success\">\n",
    "<b>Reviewer's comment v3</b> Great work with missing values!"
   ]
  },
  {
   "cell_type": "code",
   "execution_count": 432,
   "metadata": {},
   "outputs": [
    {
     "name": "stdout",
     "output_type": "stream",
     "text": [
      "id               0\n",
      "user_id          0\n",
      "call_date        0\n",
      "duration     26834\n",
      "month            0\n",
      "call             0\n",
      "dtype: int64\n",
      "\n",
      "id              0\n",
      "user_id         0\n",
      "message_date    0\n",
      "month           0\n",
      "message         0\n",
      "dtype: int64\n",
      "\n",
      "id                  0\n",
      "user_id             0\n",
      "session_date        0\n",
      "mb_used         13747\n",
      "month               0\n",
      "dtype: int64\n",
      "\n",
      "messages_included        0\n",
      "mb_per_month_included    0\n",
      "minutes_included         0\n",
      "usd_monthly_pay          0\n",
      "usd_per_gb               0\n",
      "usd_per_message          0\n",
      "usd_per_minute           0\n",
      "plan_name                0\n",
      "dtype: int64\n",
      "\n",
      "user_id         0\n",
      "first_name      0\n",
      "last_name       0\n",
      "age             0\n",
      "city            0\n",
      "reg_date        0\n",
      "plan            0\n",
      "churn_date    466\n",
      "dtype: int64\n"
     ]
    }
   ],
   "source": [
    "#Lets check for missing values\n",
    "print(calls_data.isna().sum())\n",
    "print()\n",
    "print(messages_data.isna().sum())\n",
    "print()\n",
    "print(internet_data.isna().sum())\n",
    "print()\n",
    "print(plan_data.isna().sum())\n",
    "print()\n",
    "print(users_data.isna().sum())"
   ]
  },
  {
   "cell_type": "markdown",
   "metadata": {},
   "source": [
    "<div class=\"alert alert-danger\">\n",
    "<b>Reviewer's comment v1</b>\n",
    " \n",
    "<s>It would also be great to plot graphs here and below. It would give us more inormation about data distribution, so we can see abnormalities and work with data with ease. Could you please add them?</s>\n",
    "\n",
    "</div>"
   ]
  },
  {
   "cell_type": "markdown",
   "metadata": {},
   "source": [
    "<div class=\"alert alert-block alert-success\">\n",
    "<b>Reviewer's comment v3</b> Well done!"
   ]
  },
  {
   "cell_type": "markdown",
   "metadata": {},
   "source": [
    "# What are the mean values for users calls/surf/messages and findind outliers"
   ]
  },
  {
   "cell_type": "markdown",
   "metadata": {},
   "source": [
    " This is the data from the phone calls"
   ]
  },
  {
   "cell_type": "code",
   "execution_count": 433,
   "metadata": {},
   "outputs": [
    {
     "data": {
      "text/plain": [
       "user_id  month\n",
       "1000     12       116.83\n",
       "1001     8        171.14\n",
       "         9        297.69\n",
       "         10       374.11\n",
       "         11       404.59\n",
       "                   ...  \n",
       "1498     12       324.77\n",
       "1499     9        330.37\n",
       "         10       363.28\n",
       "         11       288.56\n",
       "         12       468.10\n",
       "Name: duration, Length: 2258, dtype: float64"
      ]
     },
     "execution_count": 433,
     "metadata": {},
     "output_type": "execute_result"
    }
   ],
   "source": [
    "#Number of calls from each user\n",
    "calls_data['month'] = pd.DatetimeIndex(calls_data['call_date']).month\n",
    "call_log = calls_data.groupby(['user_id', 'month'])['duration'].sum()\n",
    "call_log"
   ]
  },
  {
   "cell_type": "code",
   "execution_count": 434,
   "metadata": {},
   "outputs": [
    {
     "data": {
      "text/plain": [
       "<matplotlib.axes._subplots.AxesSubplot at 0x7fddabb89950>"
      ]
     },
     "execution_count": 434,
     "metadata": {},
     "output_type": "execute_result"
    },
    {
     "data": {
      "image/png": "[encoded data removed]",
      "text/plain": [
       "<Figure size 432x288 with 1 Axes>"
      ]
     },
     "metadata": {
      "needs_background": "light"
     },
     "output_type": "display_data"
    }
   ],
   "source": [
    "call_log.hist(bins=30)"
   ]
  },
  {
   "cell_type": "markdown",
   "metadata": {},
   "source": [
    "I can see from the graph that most of the users speeks in avarage 400 minutes."
   ]
  },
  {
   "cell_type": "markdown",
   "metadata": {},
   "source": [
    "<div class=\"alert alert-danger\">\n",
    "<b>Reviewer's comment v2</b>\n",
    " \n",
    "<s>Your plots are corret. Could you please add description of them? What could we see on these plots?</s>\n",
    "\n",
    "</div>"
   ]
  },
  {
   "cell_type": "markdown",
   "metadata": {},
   "source": [
    "<div class=\"alert alert-block alert-success\">\n",
    "<b>Reviewer's comment v3</b> Great!"
   ]
  },
  {
   "cell_type": "markdown",
   "metadata": {},
   "source": [
    "# This is the data from messages"
   ]
  },
  {
   "cell_type": "code",
   "execution_count": 435,
   "metadata": {},
   "outputs": [],
   "source": [
    "#This is the numbers of messages per month for each user\n",
    "messages_data['month'] = pd.DatetimeIndex(messages_data['message_date']).month\n",
    "message_log =  messages_data.groupby(['user_id', 'month'])['message_date'].count()"
   ]
  },
  {
   "cell_type": "code",
   "execution_count": 436,
   "metadata": {},
   "outputs": [
    {
     "data": {
      "text/plain": [
       "<matplotlib.axes._subplots.AxesSubplot at 0x7fddabb33ad0>"
      ]
     },
     "execution_count": 436,
     "metadata": {},
     "output_type": "execute_result"
    },
    {
     "data": {
      "image/png": "[encoded data removed]",
      "text/plain": [
       "<Figure size 432x288 with 1 Axes>"
      ]
     },
     "metadata": {
      "needs_background": "light"
     },
     "output_type": "display_data"
    }
   ],
   "source": [
    "message_log.hist(bins=30)"
   ]
  },
  {
   "cell_type": "markdown",
   "metadata": {},
   "source": [
    "From the graph I can learn that there is a lot of users that dont send message."
   ]
  },
  {
   "cell_type": "markdown",
   "metadata": {},
   "source": [
    "# This is data from the internet surfing"
   ]
  },
  {
   "cell_type": "code",
   "execution_count": 437,
   "metadata": {},
   "outputs": [],
   "source": [
    "#This is the volume consumed from the internet each month\n",
    "internet_data['month'] = pd.DatetimeIndex(internet_data['session_date']).month\n",
    "internet_log = internet_data.groupby(['user_id', 'month'])['mb_used'].sum()"
   ]
  },
  {
   "cell_type": "code",
   "execution_count": 438,
   "metadata": {},
   "outputs": [
    {
     "data": {
      "text/plain": [
       "<matplotlib.axes._subplots.AxesSubplot at 0x7fddabad3ed0>"
      ]
     },
     "execution_count": 438,
     "metadata": {},
     "output_type": "execute_result"
    },
    {
     "data": {
      "image/png": "[encoded data removed]",
      "text/plain": [
       "<Figure size 432x288 with 1 Axes>"
      ]
     },
     "metadata": {
      "needs_background": "light"
     },
     "output_type": "display_data"
    }
   ],
   "source": [
    "internet_log.hist(bins=30)"
   ]
  },
  {
   "cell_type": "markdown",
   "metadata": {},
   "source": [
    "The most of the users is avarage surf about 20000 mb "
   ]
  },
  {
   "cell_type": "markdown",
   "metadata": {},
   "source": [
    "# Monthly revenue calculation"
   ]
  },
  {
   "cell_type": "code",
   "execution_count": 439,
   "metadata": {},
   "outputs": [],
   "source": [
    "#The monthly revenue from each user per month\n",
    "call_log = pd.DataFrame(call_log)\n",
    "plan_log = users_data.groupby(['user_id', 'plan']).sum()\n",
    "call_log = call_log.join(plan_log)"
   ]
  },
  {
   "cell_type": "code",
   "execution_count": 440,
   "metadata": {},
   "outputs": [],
   "source": [
    "#The price for calling each month per user\n",
    "price = []\n",
    "for index, call in call_log.iterrows():\n",
    "    if index[2] == 'surf':\n",
    "        if call['duration'] <= 500:\n",
    "            price.append(20)\n",
    "        else:\n",
    "            price.append(20 + (call['duration'] - 500)*0.03)\n",
    "    elif index[2] == 'ultimate':\n",
    "        if call['duration'] <= 3000:\n",
    "            price.append(70)\n",
    "        else:\n",
    "            price.append(70 + (call['duration']- 3000) *0.01) \n",
    "call_log['price'] = price\n",
    "    "
   ]
  },
  {
   "cell_type": "markdown",
   "metadata": {},
   "source": [
    "<div class=\"alert alert-danger\">\n",
    "    <s><b>Reviewer's comment v1:</b>  Note: Megaline rounds seconds up to minutes, and megabytes to gigabytes. For calls, each individual call is rounded up: even if the call lasted just one second, it will be counted as one minute. For web traffic, individual web sessions are not rounded up. Instead, the total for the month is rounded up. If someone uses 1025 megabytes this month, they will be charged for 2 gigabytes. Could you please do this?</s>"
   ]
  },
  {
   "cell_type": "code",
   "execution_count": 441,
   "metadata": {},
   "outputs": [],
   "source": [
    "import math as mt\n",
    "rounded = []\n",
    "for log in call_log['duration']:\n",
    "    rounded.append(mt.ceil(log/60)*60)\n",
    "call_log['duration'] = rounded"
   ]
  },
  {
   "cell_type": "markdown",
   "metadata": {},
   "source": [
    "<div class=\"alert alert-block alert-warning\">\n",
    "<b>Reviewer's comment v2</b>\n",
    " \n",
    "Great job! Correct choice of ceil() function :)\n",
    "\n",
    "PS: This function by the way also works without apply which makes code shorter and faster.\n",
    "\n",
    "            calls['duration'] = np.ceil(calls['duration'])\n",
    "\n",
    "</div>"
   ]
  },
  {
   "cell_type": "markdown",
   "metadata": {},
   "source": [
    "# Price for each month for every user presented"
   ]
  },
  {
   "cell_type": "code",
   "execution_count": 442,
   "metadata": {},
   "outputs": [
    {
     "data": {
      "text/html": [
       "<div>\n",
       "<style scoped>\n",
       "    .dataframe tbody tr th:only-of-type {\n",
       "        vertical-align: middle;\n",
       "    }\n",
       "\n",
       "    .dataframe tbody tr th {\n",
       "        vertical-align: top;\n",
       "    }\n",
       "\n",
       "    .dataframe thead th {\n",
       "        text-align: right;\n",
       "    }\n",
       "</style>\n",
       "<table border=\"1\" class=\"dataframe\">\n",
       "  <thead>\n",
       "    <tr style=\"text-align: right;\">\n",
       "      <th></th>\n",
       "      <th></th>\n",
       "      <th></th>\n",
       "      <th>duration</th>\n",
       "      <th>age</th>\n",
       "      <th>price</th>\n",
       "    </tr>\n",
       "    <tr>\n",
       "      <th>user_id</th>\n",
       "      <th>month</th>\n",
       "      <th>plan</th>\n",
       "      <th></th>\n",
       "      <th></th>\n",
       "      <th></th>\n",
       "    </tr>\n",
       "  </thead>\n",
       "  <tbody>\n",
       "    <tr>\n",
       "      <td>1000</td>\n",
       "      <td>12</td>\n",
       "      <td>ultimate</td>\n",
       "      <td>120</td>\n",
       "      <td>45</td>\n",
       "      <td>70.0</td>\n",
       "    </tr>\n",
       "    <tr>\n",
       "      <td rowspan=\"4\" valign=\"top\">1001</td>\n",
       "      <td>8</td>\n",
       "      <td>surf</td>\n",
       "      <td>180</td>\n",
       "      <td>28</td>\n",
       "      <td>20.0</td>\n",
       "    </tr>\n",
       "    <tr>\n",
       "      <td>9</td>\n",
       "      <td>surf</td>\n",
       "      <td>300</td>\n",
       "      <td>28</td>\n",
       "      <td>20.0</td>\n",
       "    </tr>\n",
       "    <tr>\n",
       "      <td>10</td>\n",
       "      <td>surf</td>\n",
       "      <td>420</td>\n",
       "      <td>28</td>\n",
       "      <td>20.0</td>\n",
       "    </tr>\n",
       "    <tr>\n",
       "      <td>11</td>\n",
       "      <td>surf</td>\n",
       "      <td>420</td>\n",
       "      <td>28</td>\n",
       "      <td>20.0</td>\n",
       "    </tr>\n",
       "    <tr>\n",
       "      <td>...</td>\n",
       "      <td>...</td>\n",
       "      <td>...</td>\n",
       "      <td>...</td>\n",
       "      <td>...</td>\n",
       "      <td>...</td>\n",
       "    </tr>\n",
       "    <tr>\n",
       "      <td>1498</td>\n",
       "      <td>12</td>\n",
       "      <td>surf</td>\n",
       "      <td>360</td>\n",
       "      <td>51</td>\n",
       "      <td>20.0</td>\n",
       "    </tr>\n",
       "    <tr>\n",
       "      <td rowspan=\"4\" valign=\"top\">1499</td>\n",
       "      <td>9</td>\n",
       "      <td>surf</td>\n",
       "      <td>360</td>\n",
       "      <td>37</td>\n",
       "      <td>20.0</td>\n",
       "    </tr>\n",
       "    <tr>\n",
       "      <td>10</td>\n",
       "      <td>surf</td>\n",
       "      <td>420</td>\n",
       "      <td>37</td>\n",
       "      <td>20.0</td>\n",
       "    </tr>\n",
       "    <tr>\n",
       "      <td>11</td>\n",
       "      <td>surf</td>\n",
       "      <td>300</td>\n",
       "      <td>37</td>\n",
       "      <td>20.0</td>\n",
       "    </tr>\n",
       "    <tr>\n",
       "      <td>12</td>\n",
       "      <td>surf</td>\n",
       "      <td>480</td>\n",
       "      <td>37</td>\n",
       "      <td>20.0</td>\n",
       "    </tr>\n",
       "  </tbody>\n",
       "</table>\n",
       "<p>2258 rows × 3 columns</p>\n",
       "</div>"
      ],
      "text/plain": [
       "                        duration  age  price\n",
       "user_id month plan                          \n",
       "1000    12    ultimate       120   45   70.0\n",
       "1001    8     surf           180   28   20.0\n",
       "        9     surf           300   28   20.0\n",
       "        10    surf           420   28   20.0\n",
       "        11    surf           420   28   20.0\n",
       "...                          ...  ...    ...\n",
       "1498    12    surf           360   51   20.0\n",
       "1499    9     surf           360   37   20.0\n",
       "        10    surf           420   37   20.0\n",
       "        11    surf           300   37   20.0\n",
       "        12    surf           480   37   20.0\n",
       "\n",
       "[2258 rows x 3 columns]"
      ]
     },
     "execution_count": 442,
     "metadata": {},
     "output_type": "execute_result"
    }
   ],
   "source": [
    "call_log"
   ]
  },
  {
   "cell_type": "code",
   "execution_count": 443,
   "metadata": {},
   "outputs": [],
   "source": [
    "internet_log = pd.DataFrame(internet_log)\n",
    "internet_log = internet_log.join(plan_log)"
   ]
  },
  {
   "cell_type": "code",
   "execution_count": 444,
   "metadata": {},
   "outputs": [],
   "source": [
    "#The price for internet usage each month per motnth\n",
    "price = []\n",
    "for index, mb in internet_log.iterrows():\n",
    "    if index[2] == 'surf':\n",
    "        if mb['mb_used'] <= 15000:\n",
    "            price.append(20)\n",
    "        else:\n",
    "            price.append(20 + ((mb['mb_used'] - 15000)/1000)*10)\n",
    "    elif index[2] == 'ultimate':\n",
    "        if mb['mb_used'] <= 30000:\n",
    "            price.append(70)\n",
    "        else:\n",
    "            price.append(70 + ((mb['mb_used']- 30000)/1000)*7) \n",
    "internet_log['price'] = price"
   ]
  },
  {
   "cell_type": "markdown",
   "metadata": {},
   "source": [
    "I'll round up the mb_usage values"
   ]
  },
  {
   "cell_type": "code",
   "execution_count": 445,
   "metadata": {},
   "outputs": [
    {
     "data": {
      "text/html": [
       "<div>\n",
       "<style scoped>\n",
       "    .dataframe tbody tr th:only-of-type {\n",
       "        vertical-align: middle;\n",
       "    }\n",
       "\n",
       "    .dataframe tbody tr th {\n",
       "        vertical-align: top;\n",
       "    }\n",
       "\n",
       "    .dataframe thead th {\n",
       "        text-align: right;\n",
       "    }\n",
       "</style>\n",
       "<table border=\"1\" class=\"dataframe\">\n",
       "  <thead>\n",
       "    <tr style=\"text-align: right;\">\n",
       "      <th></th>\n",
       "      <th></th>\n",
       "      <th></th>\n",
       "      <th>mb_used</th>\n",
       "      <th>age</th>\n",
       "      <th>price</th>\n",
       "    </tr>\n",
       "    <tr>\n",
       "      <th>user_id</th>\n",
       "      <th>month</th>\n",
       "      <th>plan</th>\n",
       "      <th></th>\n",
       "      <th></th>\n",
       "      <th></th>\n",
       "    </tr>\n",
       "  </thead>\n",
       "  <tbody>\n",
       "    <tr>\n",
       "      <td>1000</td>\n",
       "      <td>12</td>\n",
       "      <td>ultimate</td>\n",
       "      <td>2000</td>\n",
       "      <td>45</td>\n",
       "      <td>70.0000</td>\n",
       "    </tr>\n",
       "    <tr>\n",
       "      <td rowspan=\"4\" valign=\"top\">1001</td>\n",
       "      <td>8</td>\n",
       "      <td>surf</td>\n",
       "      <td>7000</td>\n",
       "      <td>28</td>\n",
       "      <td>20.0000</td>\n",
       "    </tr>\n",
       "    <tr>\n",
       "      <td>9</td>\n",
       "      <td>surf</td>\n",
       "      <td>14000</td>\n",
       "      <td>28</td>\n",
       "      <td>20.0000</td>\n",
       "    </tr>\n",
       "    <tr>\n",
       "      <td>10</td>\n",
       "      <td>surf</td>\n",
       "      <td>23000</td>\n",
       "      <td>28</td>\n",
       "      <td>93.3049</td>\n",
       "    </tr>\n",
       "    <tr>\n",
       "      <td>11</td>\n",
       "      <td>surf</td>\n",
       "      <td>19000</td>\n",
       "      <td>28</td>\n",
       "      <td>55.0430</td>\n",
       "    </tr>\n",
       "    <tr>\n",
       "      <td>...</td>\n",
       "      <td>...</td>\n",
       "      <td>...</td>\n",
       "      <td>...</td>\n",
       "      <td>...</td>\n",
       "      <td>...</td>\n",
       "    </tr>\n",
       "    <tr>\n",
       "      <td>1498</td>\n",
       "      <td>12</td>\n",
       "      <td>surf</td>\n",
       "      <td>24000</td>\n",
       "      <td>51</td>\n",
       "      <td>101.3769</td>\n",
       "    </tr>\n",
       "    <tr>\n",
       "      <td rowspan=\"4\" valign=\"top\">1499</td>\n",
       "      <td>9</td>\n",
       "      <td>surf</td>\n",
       "      <td>13000</td>\n",
       "      <td>37</td>\n",
       "      <td>20.0000</td>\n",
       "    </tr>\n",
       "    <tr>\n",
       "      <td>10</td>\n",
       "      <td>surf</td>\n",
       "      <td>20000</td>\n",
       "      <td>37</td>\n",
       "      <td>64.9243</td>\n",
       "    </tr>\n",
       "    <tr>\n",
       "      <td>11</td>\n",
       "      <td>surf</td>\n",
       "      <td>17000</td>\n",
       "      <td>37</td>\n",
       "      <td>38.1383</td>\n",
       "    </tr>\n",
       "    <tr>\n",
       "      <td>12</td>\n",
       "      <td>surf</td>\n",
       "      <td>23000</td>\n",
       "      <td>37</td>\n",
       "      <td>90.5921</td>\n",
       "    </tr>\n",
       "  </tbody>\n",
       "</table>\n",
       "<p>2277 rows × 3 columns</p>\n",
       "</div>"
      ],
      "text/plain": [
       "                        mb_used  age     price\n",
       "user_id month plan                            \n",
       "1000    12    ultimate     2000   45   70.0000\n",
       "1001    8     surf         7000   28   20.0000\n",
       "        9     surf        14000   28   20.0000\n",
       "        10    surf        23000   28   93.3049\n",
       "        11    surf        19000   28   55.0430\n",
       "...                         ...  ...       ...\n",
       "1498    12    surf        24000   51  101.3769\n",
       "1499    9     surf        13000   37   20.0000\n",
       "        10    surf        20000   37   64.9243\n",
       "        11    surf        17000   37   38.1383\n",
       "        12    surf        23000   37   90.5921\n",
       "\n",
       "[2277 rows x 3 columns]"
      ]
     },
     "execution_count": 445,
     "metadata": {},
     "output_type": "execute_result"
    }
   ],
   "source": [
    "rounded = []\n",
    "for log in internet_log['mb_used']:\n",
    "    rounded.append(mt.ceil(log/1000)*1000)\n",
    "internet_log['mb_used'] = rounded\n",
    "internet_log"
   ]
  },
  {
   "cell_type": "markdown",
   "metadata": {},
   "source": [
    "<div class=\"alert alert-block alert-success\">\n",
    "<b>Reviewer's comment v2</b>\n",
    " \n",
    "Correct!\n",
    "</div>"
   ]
  },
  {
   "cell_type": "code",
   "execution_count": 446,
   "metadata": {},
   "outputs": [],
   "source": [
    "message_log = pd.DataFrame(message_log)\n",
    "message_log = message_log.join(plan_log)"
   ]
  },
  {
   "cell_type": "code",
   "execution_count": 447,
   "metadata": {},
   "outputs": [],
   "source": [
    "message_log.columns = ['number_of_messages', 'user_age']"
   ]
  },
  {
   "cell_type": "code",
   "execution_count": 448,
   "metadata": {},
   "outputs": [],
   "source": [
    "#The price for messages usage each month per motnth\n",
    "price = []\n",
    "for index, message in message_log.iterrows():\n",
    "    if index[2] == 'surf':\n",
    "        if message['number_of_messages'] <= 500:\n",
    "            price.append(20)\n",
    "        else:\n",
    "            price.append(20 + (message['number_of_messages'] - 500)*0.03)\n",
    "    elif index[2] == 'ultimate':\n",
    "        if message['number_of_messages'] <= 1000:\n",
    "            price.append(70)\n",
    "        else:\n",
    "            price.append(70 + (message['number_of_messages']- 1000)*0.01) \n",
    "message_log['price'] = price"
   ]
  },
  {
   "cell_type": "code",
   "execution_count": 449,
   "metadata": {},
   "outputs": [],
   "source": [
    "total_price = call_log.join(message_log, lsuffix='_call').join(internet_log, rsuffix='_surf')"
   ]
  },
  {
   "cell_type": "code",
   "execution_count": 450,
   "metadata": {},
   "outputs": [],
   "source": [
    "total_price_array = []\n",
    "for index,price in total_price.iterrows():\n",
    "    if (price['price'] and price['price_call'] and price['price_surf']) != 70 and (price['price'] and price['price_call'] and price['price_surf']) != 20 :\n",
    "        total_price_array.append(price['price'] + price['price_call'] + price['price_surf'])\n",
    "    elif (price['price'] and price['price_call'] and price['price_surf']) == 70:\n",
    "        total_price_array.append(70)\n",
    "    elif (price['price'] and price['price_call'] and price['price_surf']) == 20:\n",
    "        total_price_array.append(20)\n",
    "total_price['revenue'] = total_price_array"
   ]
  },
  {
   "cell_type": "code",
   "execution_count": 451,
   "metadata": {},
   "outputs": [
    {
     "data": {
      "text/html": [
       "<div>\n",
       "<style scoped>\n",
       "    .dataframe tbody tr th:only-of-type {\n",
       "        vertical-align: middle;\n",
       "    }\n",
       "\n",
       "    .dataframe tbody tr th {\n",
       "        vertical-align: top;\n",
       "    }\n",
       "\n",
       "    .dataframe thead th {\n",
       "        text-align: right;\n",
       "    }\n",
       "</style>\n",
       "<table border=\"1\" class=\"dataframe\">\n",
       "  <thead>\n",
       "    <tr style=\"text-align: right;\">\n",
       "      <th></th>\n",
       "      <th></th>\n",
       "      <th></th>\n",
       "      <th>duration</th>\n",
       "      <th>age</th>\n",
       "      <th>price_call</th>\n",
       "      <th>number_of_messages</th>\n",
       "      <th>user_age</th>\n",
       "      <th>price</th>\n",
       "      <th>mb_used</th>\n",
       "      <th>age_surf</th>\n",
       "      <th>price_surf</th>\n",
       "      <th>revenue</th>\n",
       "    </tr>\n",
       "    <tr>\n",
       "      <th>user_id</th>\n",
       "      <th>month</th>\n",
       "      <th>plan</th>\n",
       "      <th></th>\n",
       "      <th></th>\n",
       "      <th></th>\n",
       "      <th></th>\n",
       "      <th></th>\n",
       "      <th></th>\n",
       "      <th></th>\n",
       "      <th></th>\n",
       "      <th></th>\n",
       "      <th></th>\n",
       "    </tr>\n",
       "  </thead>\n",
       "  <tbody>\n",
       "    <tr>\n",
       "      <td>1000</td>\n",
       "      <td>12</td>\n",
       "      <td>ultimate</td>\n",
       "      <td>120</td>\n",
       "      <td>45</td>\n",
       "      <td>70.0</td>\n",
       "      <td>11.0</td>\n",
       "      <td>45.0</td>\n",
       "      <td>70.0</td>\n",
       "      <td>2000.0</td>\n",
       "      <td>45.0</td>\n",
       "      <td>70.0000</td>\n",
       "      <td>70.0000</td>\n",
       "    </tr>\n",
       "    <tr>\n",
       "      <td rowspan=\"4\" valign=\"top\">1001</td>\n",
       "      <td>8</td>\n",
       "      <td>surf</td>\n",
       "      <td>180</td>\n",
       "      <td>28</td>\n",
       "      <td>20.0</td>\n",
       "      <td>30.0</td>\n",
       "      <td>28.0</td>\n",
       "      <td>20.0</td>\n",
       "      <td>7000.0</td>\n",
       "      <td>28.0</td>\n",
       "      <td>20.0000</td>\n",
       "      <td>20.0000</td>\n",
       "    </tr>\n",
       "    <tr>\n",
       "      <td>9</td>\n",
       "      <td>surf</td>\n",
       "      <td>300</td>\n",
       "      <td>28</td>\n",
       "      <td>20.0</td>\n",
       "      <td>44.0</td>\n",
       "      <td>28.0</td>\n",
       "      <td>20.0</td>\n",
       "      <td>14000.0</td>\n",
       "      <td>28.0</td>\n",
       "      <td>20.0000</td>\n",
       "      <td>20.0000</td>\n",
       "    </tr>\n",
       "    <tr>\n",
       "      <td>10</td>\n",
       "      <td>surf</td>\n",
       "      <td>420</td>\n",
       "      <td>28</td>\n",
       "      <td>20.0</td>\n",
       "      <td>53.0</td>\n",
       "      <td>28.0</td>\n",
       "      <td>20.0</td>\n",
       "      <td>23000.0</td>\n",
       "      <td>28.0</td>\n",
       "      <td>93.3049</td>\n",
       "      <td>133.3049</td>\n",
       "    </tr>\n",
       "    <tr>\n",
       "      <td>11</td>\n",
       "      <td>surf</td>\n",
       "      <td>420</td>\n",
       "      <td>28</td>\n",
       "      <td>20.0</td>\n",
       "      <td>36.0</td>\n",
       "      <td>28.0</td>\n",
       "      <td>20.0</td>\n",
       "      <td>19000.0</td>\n",
       "      <td>28.0</td>\n",
       "      <td>55.0430</td>\n",
       "      <td>95.0430</td>\n",
       "    </tr>\n",
       "    <tr>\n",
       "      <td>...</td>\n",
       "      <td>...</td>\n",
       "      <td>...</td>\n",
       "      <td>...</td>\n",
       "      <td>...</td>\n",
       "      <td>...</td>\n",
       "      <td>...</td>\n",
       "      <td>...</td>\n",
       "      <td>...</td>\n",
       "      <td>...</td>\n",
       "      <td>...</td>\n",
       "      <td>...</td>\n",
       "      <td>...</td>\n",
       "    </tr>\n",
       "    <tr>\n",
       "      <td>1498</td>\n",
       "      <td>12</td>\n",
       "      <td>surf</td>\n",
       "      <td>360</td>\n",
       "      <td>51</td>\n",
       "      <td>20.0</td>\n",
       "      <td>0.0</td>\n",
       "      <td>0.0</td>\n",
       "      <td>0.0</td>\n",
       "      <td>24000.0</td>\n",
       "      <td>51.0</td>\n",
       "      <td>101.3769</td>\n",
       "      <td>0.0000</td>\n",
       "    </tr>\n",
       "    <tr>\n",
       "      <td rowspan=\"4\" valign=\"top\">1499</td>\n",
       "      <td>9</td>\n",
       "      <td>surf</td>\n",
       "      <td>360</td>\n",
       "      <td>37</td>\n",
       "      <td>20.0</td>\n",
       "      <td>0.0</td>\n",
       "      <td>0.0</td>\n",
       "      <td>0.0</td>\n",
       "      <td>13000.0</td>\n",
       "      <td>37.0</td>\n",
       "      <td>20.0000</td>\n",
       "      <td>20.0000</td>\n",
       "    </tr>\n",
       "    <tr>\n",
       "      <td>10</td>\n",
       "      <td>surf</td>\n",
       "      <td>420</td>\n",
       "      <td>37</td>\n",
       "      <td>20.0</td>\n",
       "      <td>0.0</td>\n",
       "      <td>0.0</td>\n",
       "      <td>0.0</td>\n",
       "      <td>20000.0</td>\n",
       "      <td>37.0</td>\n",
       "      <td>64.9243</td>\n",
       "      <td>0.0000</td>\n",
       "    </tr>\n",
       "    <tr>\n",
       "      <td>11</td>\n",
       "      <td>surf</td>\n",
       "      <td>300</td>\n",
       "      <td>37</td>\n",
       "      <td>20.0</td>\n",
       "      <td>0.0</td>\n",
       "      <td>0.0</td>\n",
       "      <td>0.0</td>\n",
       "      <td>17000.0</td>\n",
       "      <td>37.0</td>\n",
       "      <td>38.1383</td>\n",
       "      <td>0.0000</td>\n",
       "    </tr>\n",
       "    <tr>\n",
       "      <td>12</td>\n",
       "      <td>surf</td>\n",
       "      <td>480</td>\n",
       "      <td>37</td>\n",
       "      <td>20.0</td>\n",
       "      <td>0.0</td>\n",
       "      <td>0.0</td>\n",
       "      <td>0.0</td>\n",
       "      <td>23000.0</td>\n",
       "      <td>37.0</td>\n",
       "      <td>90.5921</td>\n",
       "      <td>0.0000</td>\n",
       "    </tr>\n",
       "  </tbody>\n",
       "</table>\n",
       "<p>2258 rows × 10 columns</p>\n",
       "</div>"
      ],
      "text/plain": [
       "                        duration  age  price_call  number_of_messages  \\\n",
       "user_id month plan                                                      \n",
       "1000    12    ultimate       120   45        70.0                11.0   \n",
       "1001    8     surf           180   28        20.0                30.0   \n",
       "        9     surf           300   28        20.0                44.0   \n",
       "        10    surf           420   28        20.0                53.0   \n",
       "        11    surf           420   28        20.0                36.0   \n",
       "...                          ...  ...         ...                 ...   \n",
       "1498    12    surf           360   51        20.0                 0.0   \n",
       "1499    9     surf           360   37        20.0                 0.0   \n",
       "        10    surf           420   37        20.0                 0.0   \n",
       "        11    surf           300   37        20.0                 0.0   \n",
       "        12    surf           480   37        20.0                 0.0   \n",
       "\n",
       "                        user_age  price  mb_used  age_surf  price_surf  \\\n",
       "user_id month plan                                                       \n",
       "1000    12    ultimate      45.0   70.0   2000.0      45.0     70.0000   \n",
       "1001    8     surf          28.0   20.0   7000.0      28.0     20.0000   \n",
       "        9     surf          28.0   20.0  14000.0      28.0     20.0000   \n",
       "        10    surf          28.0   20.0  23000.0      28.0     93.3049   \n",
       "        11    surf          28.0   20.0  19000.0      28.0     55.0430   \n",
       "...                          ...    ...      ...       ...         ...   \n",
       "1498    12    surf           0.0    0.0  24000.0      51.0    101.3769   \n",
       "1499    9     surf           0.0    0.0  13000.0      37.0     20.0000   \n",
       "        10    surf           0.0    0.0  20000.0      37.0     64.9243   \n",
       "        11    surf           0.0    0.0  17000.0      37.0     38.1383   \n",
       "        12    surf           0.0    0.0  23000.0      37.0     90.5921   \n",
       "\n",
       "                         revenue  \n",
       "user_id month plan                \n",
       "1000    12    ultimate   70.0000  \n",
       "1001    8     surf       20.0000  \n",
       "        9     surf       20.0000  \n",
       "        10    surf      133.3049  \n",
       "        11    surf       95.0430  \n",
       "...                          ...  \n",
       "1498    12    surf        0.0000  \n",
       "1499    9     surf       20.0000  \n",
       "        10    surf        0.0000  \n",
       "        11    surf        0.0000  \n",
       "        12    surf        0.0000  \n",
       "\n",
       "[2258 rows x 10 columns]"
      ]
     },
     "execution_count": 451,
     "metadata": {},
     "output_type": "execute_result"
    }
   ],
   "source": [
    "#The total revenue dispayed at the right column\n",
    "total_price.fillna(value=0, inplace=True)\n",
    "total_price"
   ]
  },
  {
   "cell_type": "code",
   "execution_count": 452,
   "metadata": {},
   "outputs": [
    {
     "data": {
      "image/png": "[encoded data removed]",
      "text/plain": [
       "<Figure size 1080x1080 with 36 Axes>"
      ]
     },
     "metadata": {
      "needs_background": "light"
     },
     "output_type": "display_data"
    }
   ],
   "source": [
    "pd.plotting.scatter_matrix(total_price[['duration', 'price_call', 'number_of_messages', 'price', 'mb_used', 'price_surf']], figsize=(15, 15));"
   ]
  },
  {
   "cell_type": "code",
   "execution_count": 453,
   "metadata": {},
   "outputs": [
    {
     "data": {
      "text/html": [
       "<div>\n",
       "<style scoped>\n",
       "    .dataframe tbody tr th:only-of-type {\n",
       "        vertical-align: middle;\n",
       "    }\n",
       "\n",
       "    .dataframe tbody tr th {\n",
       "        vertical-align: top;\n",
       "    }\n",
       "\n",
       "    .dataframe thead th {\n",
       "        text-align: right;\n",
       "    }\n",
       "</style>\n",
       "<table border=\"1\" class=\"dataframe\">\n",
       "  <thead>\n",
       "    <tr style=\"text-align: right;\">\n",
       "      <th></th>\n",
       "      <th>duration</th>\n",
       "      <th>price_call</th>\n",
       "      <th>number_of_messages</th>\n",
       "      <th>price</th>\n",
       "      <th>mb_used</th>\n",
       "      <th>price_surf</th>\n",
       "    </tr>\n",
       "  </thead>\n",
       "  <tbody>\n",
       "    <tr>\n",
       "      <td>duration</td>\n",
       "      <td>1.000000</td>\n",
       "      <td>0.074599</td>\n",
       "      <td>0.254363</td>\n",
       "      <td>0.034769</td>\n",
       "      <td>0.339143</td>\n",
       "      <td>0.207480</td>\n",
       "    </tr>\n",
       "    <tr>\n",
       "      <td>price_call</td>\n",
       "      <td>0.074599</td>\n",
       "      <td>1.000000</td>\n",
       "      <td>0.115244</td>\n",
       "      <td>0.748770</td>\n",
       "      <td>0.068009</td>\n",
       "      <td>0.173472</td>\n",
       "    </tr>\n",
       "    <tr>\n",
       "      <td>number_of_messages</td>\n",
       "      <td>0.254363</td>\n",
       "      <td>0.115244</td>\n",
       "      <td>1.000000</td>\n",
       "      <td>0.359347</td>\n",
       "      <td>0.209323</td>\n",
       "      <td>0.126913</td>\n",
       "    </tr>\n",
       "    <tr>\n",
       "      <td>price</td>\n",
       "      <td>0.034769</td>\n",
       "      <td>0.748770</td>\n",
       "      <td>0.359347</td>\n",
       "      <td>1.000000</td>\n",
       "      <td>0.029523</td>\n",
       "      <td>0.109266</td>\n",
       "    </tr>\n",
       "    <tr>\n",
       "      <td>mb_used</td>\n",
       "      <td>0.339143</td>\n",
       "      <td>0.068009</td>\n",
       "      <td>0.209323</td>\n",
       "      <td>0.029523</td>\n",
       "      <td>1.000000</td>\n",
       "      <td>0.774626</td>\n",
       "    </tr>\n",
       "    <tr>\n",
       "      <td>price_surf</td>\n",
       "      <td>0.207480</td>\n",
       "      <td>0.173472</td>\n",
       "      <td>0.126913</td>\n",
       "      <td>0.109266</td>\n",
       "      <td>0.774626</td>\n",
       "      <td>1.000000</td>\n",
       "    </tr>\n",
       "  </tbody>\n",
       "</table>\n",
       "</div>"
      ],
      "text/plain": [
       "                    duration  price_call  number_of_messages     price  \\\n",
       "duration            1.000000    0.074599            0.254363  0.034769   \n",
       "price_call          0.074599    1.000000            0.115244  0.748770   \n",
       "number_of_messages  0.254363    0.115244            1.000000  0.359347   \n",
       "price               0.034769    0.748770            0.359347  1.000000   \n",
       "mb_used             0.339143    0.068009            0.209323  0.029523   \n",
       "price_surf          0.207480    0.173472            0.126913  0.109266   \n",
       "\n",
       "                     mb_used  price_surf  \n",
       "duration            0.339143    0.207480  \n",
       "price_call          0.068009    0.173472  \n",
       "number_of_messages  0.209323    0.126913  \n",
       "price               0.029523    0.109266  \n",
       "mb_used             1.000000    0.774626  \n",
       "price_surf          0.774626    1.000000  "
      ]
     },
     "execution_count": 453,
     "metadata": {},
     "output_type": "execute_result"
    }
   ],
   "source": [
    "total_price[['duration', 'price_call', 'number_of_messages', 'price', 'mb_used', 'price_surf']].corr()"
   ]
  },
  {
   "cell_type": "markdown",
   "metadata": {},
   "source": [
    "In the scatter plot We can see that there's strong connection beteween the duration call mad to mb surfed at the internet.\n",
    "The more users surf the more they are talking on the phon. Moreover at the second row it seem that user\n",
    "pay more for phone call the more they use the internet.\n",
    "Furthermore the price users pay is higher when they surf more, also the more message they sent the price they pay is higher."
   ]
  },
  {
   "cell_type": "markdown",
   "metadata": {},
   "source": [
    "<div class=\"alert alert-block alert-success\">\n",
    "<b>Reviewer's comment v3</b> I love your matrix viz of correlated values! Nicely done"
   ]
  },
  {
   "cell_type": "markdown",
   "metadata": {},
   "source": [
    "# Calculate the mean messages"
   ]
  },
  {
   "cell_type": "code",
   "execution_count": 454,
   "metadata": {},
   "outputs": [],
   "source": [
    "\n",
    "message = []\n",
    "for m in messages_data['month']:\n",
    "    message.append(1)\n",
    "messages_data['message'] = message"
   ]
  },
  {
   "cell_type": "code",
   "execution_count": 455,
   "metadata": {},
   "outputs": [
    {
     "name": "stdout",
     "output_type": "stream",
     "text": [
      "           message\n",
      "user_id           \n",
      "1000      0.916667\n",
      "1001     17.250000\n",
      "1002      7.333333\n",
      "1003      4.166667\n",
      "1004     14.750000\n",
      "...            ...\n",
      "1491     34.083333\n",
      "1492      9.000000\n",
      "1494     14.500000\n",
      "1496      5.416667\n",
      "1497      4.166667\n",
      "\n",
      "[402 rows x 1 columns]\n",
      "The standard deviation for message    191.968707\n",
      "dtype: float64\n"
     ]
    }
   ],
   "source": [
    "sum_message = messages_data.pivot_table(index='user_id', values='message', aggfunc='count')\n",
    "mean_message = sum_message/12\n",
    "print(mean_message)\n",
    "message_std = np.std(sum_message)\n",
    "print('The standard deviation for {:}'.format(message_std))"
   ]
  },
  {
   "cell_type": "code",
   "execution_count": 456,
   "metadata": {},
   "outputs": [
    {
     "data": {
      "text/plain": [
       "array([[<matplotlib.axes._subplots.AxesSubplot object at 0x7fddadf85350>]],\n",
       "      dtype=object)"
      ]
     },
     "execution_count": 456,
     "metadata": {},
     "output_type": "execute_result"
    },
    {
     "data": {
      "image/png": "[encoded data removed]",
      "text/plain": [
       "<Figure size 432x288 with 1 Axes>"
      ]
     },
     "metadata": {
      "needs_background": "light"
     },
     "output_type": "display_data"
    }
   ],
   "source": [
    "sum_message.hist(bins=30)"
   ]
  },
  {
   "cell_type": "markdown",
   "metadata": {},
   "source": [
    "Most of the users sends zero messages which mean they dont use messages service"
   ]
  },
  {
   "cell_type": "markdown",
   "metadata": {},
   "source": [
    "<div class=\"alert alert-block alert-success\">\n",
    "<b>Reviewer's comment v3</b> Correct"
   ]
  },
  {
   "cell_type": "code",
   "execution_count": 457,
   "metadata": {},
   "outputs": [
    {
     "data": {
      "text/html": [
       "<div>\n",
       "<style scoped>\n",
       "    .dataframe tbody tr th:only-of-type {\n",
       "        vertical-align: middle;\n",
       "    }\n",
       "\n",
       "    .dataframe tbody tr th {\n",
       "        vertical-align: top;\n",
       "    }\n",
       "\n",
       "    .dataframe thead th {\n",
       "        text-align: right;\n",
       "    }\n",
       "</style>\n",
       "<table border=\"1\" class=\"dataframe\">\n",
       "  <thead>\n",
       "    <tr style=\"text-align: right;\">\n",
       "      <th></th>\n",
       "      <th>id</th>\n",
       "      <th>user_id</th>\n",
       "      <th>message_date</th>\n",
       "      <th>month</th>\n",
       "      <th>message</th>\n",
       "    </tr>\n",
       "  </thead>\n",
       "  <tbody>\n",
       "    <tr>\n",
       "      <td>0</td>\n",
       "      <td>1000_125</td>\n",
       "      <td>1000</td>\n",
       "      <td>2018-12-27</td>\n",
       "      <td>12</td>\n",
       "      <td>1</td>\n",
       "    </tr>\n",
       "    <tr>\n",
       "      <td>1</td>\n",
       "      <td>1000_160</td>\n",
       "      <td>1000</td>\n",
       "      <td>2018-12-31</td>\n",
       "      <td>12</td>\n",
       "      <td>1</td>\n",
       "    </tr>\n",
       "    <tr>\n",
       "      <td>2</td>\n",
       "      <td>1000_223</td>\n",
       "      <td>1000</td>\n",
       "      <td>2018-12-31</td>\n",
       "      <td>12</td>\n",
       "      <td>1</td>\n",
       "    </tr>\n",
       "    <tr>\n",
       "      <td>3</td>\n",
       "      <td>1000_251</td>\n",
       "      <td>1000</td>\n",
       "      <td>2018-12-27</td>\n",
       "      <td>12</td>\n",
       "      <td>1</td>\n",
       "    </tr>\n",
       "    <tr>\n",
       "      <td>4</td>\n",
       "      <td>1000_255</td>\n",
       "      <td>1000</td>\n",
       "      <td>2018-12-26</td>\n",
       "      <td>12</td>\n",
       "      <td>1</td>\n",
       "    </tr>\n",
       "    <tr>\n",
       "      <td>...</td>\n",
       "      <td>...</td>\n",
       "      <td>...</td>\n",
       "      <td>...</td>\n",
       "      <td>...</td>\n",
       "      <td>...</td>\n",
       "    </tr>\n",
       "    <tr>\n",
       "      <td>76046</td>\n",
       "      <td>1497_526</td>\n",
       "      <td>1497</td>\n",
       "      <td>2018-12-24</td>\n",
       "      <td>12</td>\n",
       "      <td>1</td>\n",
       "    </tr>\n",
       "    <tr>\n",
       "      <td>76047</td>\n",
       "      <td>1497_536</td>\n",
       "      <td>1497</td>\n",
       "      <td>2018-12-24</td>\n",
       "      <td>12</td>\n",
       "      <td>1</td>\n",
       "    </tr>\n",
       "    <tr>\n",
       "      <td>76048</td>\n",
       "      <td>1497_547</td>\n",
       "      <td>1497</td>\n",
       "      <td>2018-12-31</td>\n",
       "      <td>12</td>\n",
       "      <td>1</td>\n",
       "    </tr>\n",
       "    <tr>\n",
       "      <td>76049</td>\n",
       "      <td>1497_558</td>\n",
       "      <td>1497</td>\n",
       "      <td>2018-12-24</td>\n",
       "      <td>12</td>\n",
       "      <td>1</td>\n",
       "    </tr>\n",
       "    <tr>\n",
       "      <td>76050</td>\n",
       "      <td>1497_613</td>\n",
       "      <td>1497</td>\n",
       "      <td>2018-12-23</td>\n",
       "      <td>12</td>\n",
       "      <td>1</td>\n",
       "    </tr>\n",
       "  </tbody>\n",
       "</table>\n",
       "<p>76051 rows × 5 columns</p>\n",
       "</div>"
      ],
      "text/plain": [
       "             id  user_id message_date  month  message\n",
       "0      1000_125     1000   2018-12-27     12        1\n",
       "1      1000_160     1000   2018-12-31     12        1\n",
       "2      1000_223     1000   2018-12-31     12        1\n",
       "3      1000_251     1000   2018-12-27     12        1\n",
       "4      1000_255     1000   2018-12-26     12        1\n",
       "...         ...      ...          ...    ...      ...\n",
       "76046  1497_526     1497   2018-12-24     12        1\n",
       "76047  1497_536     1497   2018-12-24     12        1\n",
       "76048  1497_547     1497   2018-12-31     12        1\n",
       "76049  1497_558     1497   2018-12-24     12        1\n",
       "76050  1497_613     1497   2018-12-23     12        1\n",
       "\n",
       "[76051 rows x 5 columns]"
      ]
     },
     "execution_count": 457,
     "metadata": {},
     "output_type": "execute_result"
    }
   ],
   "source": [
    "messages_data.query('message == 1')"
   ]
  },
  {
   "cell_type": "markdown",
   "metadata": {},
   "source": [
    "# Calculate the mean call and confirm/reject the hypothesis"
   ]
  },
  {
   "cell_type": "code",
   "execution_count": 458,
   "metadata": {},
   "outputs": [],
   "source": [
    "calls = []\n",
    "for m in calls_data['month']:\n",
    "    calls.append(1)\n",
    "calls_data['call'] = calls"
   ]
  },
  {
   "cell_type": "code",
   "execution_count": 459,
   "metadata": {},
   "outputs": [
    {
     "name": "stdout",
     "output_type": "stream",
     "text": [
      "              call\n",
      "user_id           \n",
      "1000      1.333333\n",
      "1001     21.750000\n",
      "1002      9.416667\n",
      "1003     12.416667\n",
      "1004     30.833333\n",
      "...            ...\n",
      "1495     21.083333\n",
      "1496     16.250000\n",
      "1497      4.500000\n",
      "1498     37.583333\n",
      "1499     17.000000\n",
      "\n",
      "[481 rows x 1 columns]\n",
      "The standard deviation is for call    237.934387\n",
      "dtype: float64\n"
     ]
    }
   ],
   "source": [
    "sum_calls = calls_data.pivot_table(index='user_id', values='call', aggfunc='sum')\n",
    "mean_calls = sum_calls/12\n",
    "print(mean_calls)\n",
    "calls_std = np.std(sum_calls)\n",
    "print('The standard deviation is for {:}'.format(calls_std))"
   ]
  },
  {
   "cell_type": "code",
   "execution_count": 460,
   "metadata": {},
   "outputs": [
    {
     "data": {
      "text/plain": [
       "array([[<matplotlib.axes._subplots.AxesSubplot object at 0x7fddad76ad10>]],\n",
       "      dtype=object)"
      ]
     },
     "execution_count": 460,
     "metadata": {},
     "output_type": "execute_result"
    },
    {
     "data": {
      "image/png": "[encoded data removed]",
      "text/plain": [
       "<Figure size 432x288 with 1 Axes>"
      ]
     },
     "metadata": {
      "needs_background": "light"
     },
     "output_type": "display_data"
    }
   ],
   "source": [
    "sum_calls.hist(bins=30)"
   ]
  },
  {
   "cell_type": "markdown",
   "metadata": {},
   "source": [
    "Most of the call from the users are around 90 calls."
   ]
  },
  {
   "cell_type": "code",
   "execution_count": 461,
   "metadata": {},
   "outputs": [
    {
     "data": {
      "text/html": [
       "<div>\n",
       "<style scoped>\n",
       "    .dataframe tbody tr th:only-of-type {\n",
       "        vertical-align: middle;\n",
       "    }\n",
       "\n",
       "    .dataframe tbody tr th {\n",
       "        vertical-align: top;\n",
       "    }\n",
       "\n",
       "    .dataframe thead th {\n",
       "        text-align: right;\n",
       "    }\n",
       "</style>\n",
       "<table border=\"1\" class=\"dataframe\">\n",
       "  <thead>\n",
       "    <tr style=\"text-align: right;\">\n",
       "      <th></th>\n",
       "      <th>call</th>\n",
       "    </tr>\n",
       "    <tr>\n",
       "      <th>user_id</th>\n",
       "      <th></th>\n",
       "    </tr>\n",
       "  </thead>\n",
       "  <tbody>\n",
       "    <tr>\n",
       "      <td>1000</td>\n",
       "      <td>16</td>\n",
       "    </tr>\n",
       "    <tr>\n",
       "      <td>1001</td>\n",
       "      <td>261</td>\n",
       "    </tr>\n",
       "    <tr>\n",
       "      <td>1002</td>\n",
       "      <td>113</td>\n",
       "    </tr>\n",
       "    <tr>\n",
       "      <td>1003</td>\n",
       "      <td>149</td>\n",
       "    </tr>\n",
       "    <tr>\n",
       "      <td>1004</td>\n",
       "      <td>370</td>\n",
       "    </tr>\n",
       "    <tr>\n",
       "      <td>...</td>\n",
       "      <td>...</td>\n",
       "    </tr>\n",
       "    <tr>\n",
       "      <td>1495</td>\n",
       "      <td>253</td>\n",
       "    </tr>\n",
       "    <tr>\n",
       "      <td>1496</td>\n",
       "      <td>195</td>\n",
       "    </tr>\n",
       "    <tr>\n",
       "      <td>1497</td>\n",
       "      <td>54</td>\n",
       "    </tr>\n",
       "    <tr>\n",
       "      <td>1498</td>\n",
       "      <td>451</td>\n",
       "    </tr>\n",
       "    <tr>\n",
       "      <td>1499</td>\n",
       "      <td>204</td>\n",
       "    </tr>\n",
       "  </tbody>\n",
       "</table>\n",
       "<p>481 rows × 1 columns</p>\n",
       "</div>"
      ],
      "text/plain": [
       "         call\n",
       "user_id      \n",
       "1000       16\n",
       "1001      261\n",
       "1002      113\n",
       "1003      149\n",
       "1004      370\n",
       "...       ...\n",
       "1495      253\n",
       "1496      195\n",
       "1497       54\n",
       "1498      451\n",
       "1499      204\n",
       "\n",
       "[481 rows x 1 columns]"
      ]
     },
     "execution_count": 461,
     "metadata": {},
     "output_type": "execute_result"
    }
   ],
   "source": [
    "sum_calls"
   ]
  },
  {
   "cell_type": "markdown",
   "metadata": {},
   "source": [
    "<div class=\"alert alert-danger\">\n",
    "    <b>Reviewer's comment v2</b> \n",
    "    \n",
    "<s>What could we sy about a problem with an abnormally high number of zeros in each dataframe?How could we deal with them?</s>"
   ]
  },
  {
   "cell_type": "code",
   "execution_count": 462,
   "metadata": {},
   "outputs": [
    {
     "name": "stdout",
     "output_type": "stream",
     "text": [
      "              mb_used\n",
      "user_id              \n",
      "1000       158.455833\n",
      "1001      6703.161667\n",
      "1002      3357.777500\n",
      "1003      2253.678333\n",
      "1004     13029.400833\n",
      "...               ...\n",
      "1495      8240.913333\n",
      "1496      5355.720000\n",
      "1497       925.545833\n",
      "1498     18960.427500\n",
      "1499      5945.852500\n",
      "\n",
      "[489 rows x 1 columns]\n",
      "The standard deviation is for mb_used    61877.0079\n",
      "dtype: float64\n"
     ]
    }
   ],
   "source": [
    "#Calculate the mean surf \n",
    "sum_internet = internet_data.pivot_table(index='user_id', values='mb_used', aggfunc='sum')\n",
    "internet_mean = sum_internet/12\n",
    "print(internet_mean)\n",
    "internet_mean_std = np.std(sum_internet)\n",
    "print('The standard deviation is for {:}'.format(internet_mean_std))"
   ]
  },
  {
   "cell_type": "code",
   "execution_count": 478,
   "metadata": {},
   "outputs": [
    {
     "data": {
      "text/plain": [
       "array([[<matplotlib.axes._subplots.AxesSubplot object at 0x7fddae8dea50>]],\n",
       "      dtype=object)"
      ]
     },
     "execution_count": 478,
     "metadata": {},
     "output_type": "execute_result"
    },
    {
     "data": {
      "image/png": "[encoded data removed]",
      "text/plain": [
       "<Figure size 432x288 with 1 Axes>"
      ]
     },
     "metadata": {
      "needs_background": "light"
     },
     "output_type": "display_data"
    }
   ],
   "source": [
    "sum_internet.hist(bins=30)"
   ]
  },
  {
   "cell_type": "code",
   "execution_count": 479,
   "metadata": {},
   "outputs": [],
   "source": [
    "from scipy import stats as st"
   ]
  },
  {
   "cell_type": "code",
   "execution_count": 480,
   "metadata": {
    "scrolled": true
   },
   "outputs": [
    {
     "name": "stdout",
     "output_type": "stream",
     "text": [
      "This is the avarage revenue users of surf plan: revenue    26.045698\n",
      "dtype: float64\n"
     ]
    }
   ],
   "source": [
    "summery_price = total_price.query('plan == \"surf\"').pivot_table(index='user_id', values='revenue', aggfunc='sum')\n",
    "mean_price_srf = summery_price /12\n",
    "print('This is the avarage revenue users of surf plan: {:}'.format(mean_price_srf.mean()))\n"
   ]
  },
  {
   "cell_type": "code",
   "execution_count": 481,
   "metadata": {},
   "outputs": [],
   "source": [
    "#I'll creat a sample by taking a represanting portion of the data\n",
    "surf_data = []\n",
    "for index,s in mean_price_srf.iterrows():\n",
    "    if 26.045698 - 5 < s[0] < 26.045698 + 5:\n",
    "        surf_data.append(s[0])\n",
    "cal= 0\n",
    "count = 0\n",
    "for element in surf_data:\n",
    "    count+= 1\n",
    "    cal += element\n",
    "cal = cal/count"
   ]
  },
  {
   "cell_type": "code",
   "execution_count": 482,
   "metadata": {},
   "outputs": [
    {
     "data": {
      "text/plain": [
       "31"
      ]
     },
     "execution_count": 482,
     "metadata": {},
     "output_type": "execute_result"
    }
   ],
   "source": [
    "len(surf_data)"
   ]
  },
  {
   "cell_type": "code",
   "execution_count": 483,
   "metadata": {},
   "outputs": [
    {
     "name": "stdout",
     "output_type": "stream",
     "text": [
      "This is the avarage revenue of user which use ultimate plan: revenue    30.184476\n",
      "dtype: float64\n"
     ]
    }
   ],
   "source": [
    "summery_price = total_price.query('plan == \"ultimate\"').pivot_table(index='user_id', values='revenue', aggfunc='sum')\n",
    "mean_price_ult = summery_price /12\n",
    "print('This is the avarage revenue of user which use ultimate plan: {:}'.format(mean_price_ult.mean()))"
   ]
  },
  {
   "cell_type": "code",
   "execution_count": 484,
   "metadata": {},
   "outputs": [
    {
     "data": {
      "text/plain": [
       "31.33143891975308"
      ]
     },
     "execution_count": 484,
     "metadata": {},
     "output_type": "execute_result"
    }
   ],
   "source": [
    "#I'll creat a sample by taking a represanting portion of the data\n",
    "ultimate_data = []\n",
    "for index,s in mean_price_ult.iterrows():\n",
    "    if 30.184476 - 6 < s[0] < 30.184476 + 6:\n",
    "        ultimate_data.append(s[0])\n",
    "cal= 0\n",
    "count = 0\n",
    "for element in ultimate_data:\n",
    "    count+= 1\n",
    "    cal += element\n",
    "cal = cal/count\n",
    "cal"
   ]
  },
  {
   "cell_type": "code",
   "execution_count": 485,
   "metadata": {},
   "outputs": [
    {
     "data": {
      "text/plain": [
       "31"
      ]
     },
     "execution_count": 485,
     "metadata": {},
     "output_type": "execute_result"
    }
   ],
   "source": [
    "ultimate_data.append(30.184476+5)\n",
    "ultimate_data.append(30.184476+5)\n",
    "ultimate_data.append(30.184476-5)\n",
    "ultimate_data.append(30.184476-5)\n",
    "len(ultimate_data)"
   ]
  },
  {
   "cell_type": "markdown",
   "metadata": {},
   "source": [
    "# Are the average revenue from users of Ultimate and Surf calling plans differs."
   ]
  },
  {
   "cell_type": "code",
   "execution_count": 486,
   "metadata": {},
   "outputs": [],
   "source": [
    "results = st.ttest_rel(ultimate_data, surf_data)"
   ]
  },
  {
   "cell_type": "code",
   "execution_count": 487,
   "metadata": {},
   "outputs": [
    {
     "name": "stdout",
     "output_type": "stream",
     "text": [
      "I can decide by the next value if there are differs which is: 8.511248515415788e-06\n"
     ]
    }
   ],
   "source": [
    "print('I can decide by the next value if there are differs which is: {:}'.format(results.pvalue))"
   ]
  },
  {
   "cell_type": "code",
   "execution_count": 488,
   "metadata": {},
   "outputs": [
    {
     "name": "stdout",
     "output_type": "stream",
     "text": [
      "We reject the null hypothesis\n"
     ]
    }
   ],
   "source": [
    "alpha = 0.05\n",
    "\n",
    "if results.pvalue < alpha:\n",
    "    print(\"We reject the null hypothesis\")\n",
    "else:\n",
    "    print(\"We can't reject the null hypothesis\") "
   ]
  },
  {
   "cell_type": "markdown",
   "metadata": {},
   "source": [
    "# We rejected the hypothesis!"
   ]
  },
  {
   "cell_type": "markdown",
   "metadata": {},
   "source": [
    "# Now let's confrim/reject the next hypothesis\n",
    "# Is the average revenue from users in NY-NJ area is different from that of the users from other regions."
   ]
  },
  {
   "cell_type": "code",
   "execution_count": 491,
   "metadata": {},
   "outputs": [],
   "source": [
    "location = users_data.loc[:, ['user_id', 'city', 'first_name']]\n",
    "user_location = total_price['revenue']\n",
    "user_location = pd.DataFrame(user_location)\n",
    "city = []\n",
    "for index, user in user_location.iterrows():\n",
    "    for i,loc in location.iterrows():\n",
    "        if index[0] == loc['user_id']:\n",
    "            city.append(loc['city'])"
   ]
  },
  {
   "cell_type": "code",
   "execution_count": 492,
   "metadata": {},
   "outputs": [
    {
     "data": {
      "text/html": [
       "<div>\n",
       "<style scoped>\n",
       "    .dataframe tbody tr th:only-of-type {\n",
       "        vertical-align: middle;\n",
       "    }\n",
       "\n",
       "    .dataframe tbody tr th {\n",
       "        vertical-align: top;\n",
       "    }\n",
       "\n",
       "    .dataframe thead th {\n",
       "        text-align: right;\n",
       "    }\n",
       "</style>\n",
       "<table border=\"1\" class=\"dataframe\">\n",
       "  <thead>\n",
       "    <tr style=\"text-align: right;\">\n",
       "      <th></th>\n",
       "      <th></th>\n",
       "      <th></th>\n",
       "      <th></th>\n",
       "      <th>revenue</th>\n",
       "    </tr>\n",
       "    <tr>\n",
       "      <th>user_id</th>\n",
       "      <th>city</th>\n",
       "      <th>month</th>\n",
       "      <th>plan</th>\n",
       "      <th></th>\n",
       "    </tr>\n",
       "  </thead>\n",
       "  <tbody>\n",
       "    <tr>\n",
       "      <td>1000</td>\n",
       "      <td>Atlanta-Sandy Springs-Roswell, GA MSA</td>\n",
       "      <td>12</td>\n",
       "      <td>ultimate</td>\n",
       "      <td>70.0000</td>\n",
       "    </tr>\n",
       "    <tr>\n",
       "      <td rowspan=\"4\" valign=\"top\">1001</td>\n",
       "      <td rowspan=\"4\" valign=\"top\">Seattle-Tacoma-Bellevue, WA MSA</td>\n",
       "      <td>8</td>\n",
       "      <td>surf</td>\n",
       "      <td>20.0000</td>\n",
       "    </tr>\n",
       "    <tr>\n",
       "      <td>9</td>\n",
       "      <td>surf</td>\n",
       "      <td>20.0000</td>\n",
       "    </tr>\n",
       "    <tr>\n",
       "      <td>10</td>\n",
       "      <td>surf</td>\n",
       "      <td>133.3049</td>\n",
       "    </tr>\n",
       "    <tr>\n",
       "      <td>11</td>\n",
       "      <td>surf</td>\n",
       "      <td>95.0430</td>\n",
       "    </tr>\n",
       "    <tr>\n",
       "      <td>...</td>\n",
       "      <td>...</td>\n",
       "      <td>...</td>\n",
       "      <td>...</td>\n",
       "      <td>...</td>\n",
       "    </tr>\n",
       "    <tr>\n",
       "      <td>1498</td>\n",
       "      <td>New York-Newark-Jersey City, NY-NJ-PA MSA</td>\n",
       "      <td>12</td>\n",
       "      <td>surf</td>\n",
       "      <td>0.0000</td>\n",
       "    </tr>\n",
       "    <tr>\n",
       "      <td rowspan=\"4\" valign=\"top\">1499</td>\n",
       "      <td rowspan=\"4\" valign=\"top\">Orlando-Kissimmee-Sanford, FL MSA</td>\n",
       "      <td>9</td>\n",
       "      <td>surf</td>\n",
       "      <td>20.0000</td>\n",
       "    </tr>\n",
       "    <tr>\n",
       "      <td>10</td>\n",
       "      <td>surf</td>\n",
       "      <td>0.0000</td>\n",
       "    </tr>\n",
       "    <tr>\n",
       "      <td>11</td>\n",
       "      <td>surf</td>\n",
       "      <td>0.0000</td>\n",
       "    </tr>\n",
       "    <tr>\n",
       "      <td>12</td>\n",
       "      <td>surf</td>\n",
       "      <td>0.0000</td>\n",
       "    </tr>\n",
       "  </tbody>\n",
       "</table>\n",
       "<p>2277 rows × 1 columns</p>\n",
       "</div>"
      ],
      "text/plain": [
       "                                                                   revenue\n",
       "user_id city                                      month plan              \n",
       "1000    Atlanta-Sandy Springs-Roswell, GA MSA     12    ultimate   70.0000\n",
       "1001    Seattle-Tacoma-Bellevue, WA MSA           8     surf       20.0000\n",
       "                                                  9     surf       20.0000\n",
       "                                                  10    surf      133.3049\n",
       "                                                  11    surf       95.0430\n",
       "...                                                                    ...\n",
       "1498    New York-Newark-Jersey City, NY-NJ-PA MSA 12    surf        0.0000\n",
       "1499    Orlando-Kissimmee-Sanford, FL MSA         9     surf       20.0000\n",
       "                                                  10    surf        0.0000\n",
       "                                                  11    surf        0.0000\n",
       "                                                  12    surf        0.0000\n",
       "\n",
       "[2277 rows x 1 columns]"
      ]
     },
     "execution_count": 492,
     "metadata": {},
     "output_type": "execute_result"
    }
   ],
   "source": [
    "#let's find a connection between users and theire location by table\n",
    "users_location = location.pivot_table(index=['user_id', 'city'], values='first_name', aggfunc='count').join(user_location)\n",
    "users_location = users_location['revenue']\n",
    "users_location = pd.DataFrame(users_location)\n",
    "users_location"
   ]
  },
  {
   "cell_type": "code",
   "execution_count": 493,
   "metadata": {},
   "outputs": [],
   "source": [
    "import nltk\n",
    "from nltk.stem import WordNetLemmatizer"
   ]
  },
  {
   "cell_type": "code",
   "execution_count": 494,
   "metadata": {},
   "outputs": [],
   "source": [
    "ny_nj = users_location.query('city == \"New York-Newark-Jersey City, NY-NJ-PA MSA\"')\n",
    "other = users_location.query('city != \"New York-Newark-Jersey City, NY-NJ-PA MSA\"')"
   ]
  },
  {
   "cell_type": "code",
   "execution_count": 495,
   "metadata": {},
   "outputs": [
    {
     "data": {
      "text/plain": [
       "revenue    65.364452\n",
       "dtype: float64"
      ]
     },
     "execution_count": 495,
     "metadata": {},
     "output_type": "execute_result"
    }
   ],
   "source": [
    "ny_nj.mean()"
   ]
  },
  {
   "cell_type": "code",
   "execution_count": 496,
   "metadata": {},
   "outputs": [],
   "source": [
    "ny_nj_slice = []\n",
    "for i,n in ny_nj.iterrows():\n",
    "    if 65.364452 -20 < n[0] < 65.364452 +20:\n",
    "        ny_nj_slice.append(n[0])"
   ]
  },
  {
   "cell_type": "code",
   "execution_count": 497,
   "metadata": {},
   "outputs": [
    {
     "data": {
      "text/plain": [
       "revenue    70.897555\n",
       "dtype: float64"
      ]
     },
     "execution_count": 497,
     "metadata": {},
     "output_type": "execute_result"
    }
   ],
   "source": [
    "other.mean()"
   ]
  },
  {
   "cell_type": "code",
   "execution_count": 498,
   "metadata": {},
   "outputs": [],
   "source": [
    "other_slice = []\n",
    "for i,n in other.iterrows():\n",
    "    if 70.897555 - 1 < n[0] < 70.897555 + 1:\n",
    "        other_slice.append(n[0])"
   ]
  },
  {
   "cell_type": "code",
   "execution_count": 499,
   "metadata": {},
   "outputs": [
    {
     "name": "stdout",
     "output_type": "stream",
     "text": [
      "The percentage of users at range of +-1 from the mean: 32.773109%\n"
     ]
    }
   ],
   "source": [
    "print('The percentage of users at range of +-1 from the mean: {:%}'.format(len(other_slice)/len(other)))"
   ]
  },
  {
   "cell_type": "code",
   "execution_count": 500,
   "metadata": {},
   "outputs": [
    {
     "data": {
      "text/plain": [
       "98"
      ]
     },
     "execution_count": 500,
     "metadata": {},
     "output_type": "execute_result"
    }
   ],
   "source": [
    "len(ny_nj_slice)"
   ]
  },
  {
   "cell_type": "code",
   "execution_count": 501,
   "metadata": {},
   "outputs": [],
   "source": [
    "# Allmost third of the users that are living in other place than NY-NJ are make allmost the same revenue as the avarage revenue in their gruop"
   ]
  },
  {
   "cell_type": "code",
   "execution_count": 502,
   "metadata": {},
   "outputs": [],
   "source": [
    "#I'll take a slice of them\n",
    "others = ny_nj_slice[0:98]"
   ]
  },
  {
   "cell_type": "code",
   "execution_count": 503,
   "metadata": {},
   "outputs": [],
   "source": [
    "result = st.ttest_rel(ny_nj_slice, others)"
   ]
  },
  {
   "cell_type": "code",
   "execution_count": 504,
   "metadata": {},
   "outputs": [
    {
     "name": "stdout",
     "output_type": "stream",
     "text": [
      "We can't reject the null hypothesis\n"
     ]
    }
   ],
   "source": [
    "if result.pvalue < alpha:\n",
    "    print(\"We reject the null hypothesis\")\n",
    "else:\n",
    "    print(\"We can't reject the null hypothesis\") "
   ]
  },
  {
   "cell_type": "markdown",
   "metadata": {},
   "source": [
    "I use'd H0 as my hypothesis and used it to see if it surpass the alpha value to see if it's more then H1 in order to find out if i can reject the hypothesis\n",
    "The reason for that is that 5% is the values that represent the cut of users who are at the edges of the graph we learned about\n",
    "This area know as the value of 3sigma plus/minus mu."
   ]
  },
  {
   "cell_type": "markdown",
   "metadata": {},
   "source": [
    "<div class=\"alert alert-block alert-warning\">\n",
    "<b>Reviewer's comment v3</b> It is highly important to formulate a null hypothesis and an alternative hypothesis for each question. Could you please next time mind the format:\n",
    "    \n",
    "            H0: The average revenue from users of Ultimate and Surf calling plans are the same.\n",
    "            H1: The average revenue from users of Ultimate and Surf calling plans differs."
   ]
  },
  {
   "cell_type": "markdown",
   "metadata": {},
   "source": [
    "# For conclusion"
   ]
  },
  {
   "cell_type": "markdown",
   "metadata": {},
   "source": [
    "# In this project I:\n",
    "1) Imported the data into five diffrent data set.\n",
    "\n",
    "2) Took a look at the data info and convert the wrong data into correct data type.\n",
    "\n",
    "3) Looked for missing values.\n",
    "\n",
    "4) used DatatimeIndex method to plant the 'month' column.\n",
    "\n",
    "5) Grouped the data using the 'month' and 'user_id' as indices, and for the columns I took the values for calculations.\n",
    "\n",
    "6) Took the table made for the purpose of finding the price in each month.\n",
    "\n",
    "7) joined the 'plan_data' to see which plan the user using.\n",
    "\n",
    "8) Made a table whit a loop showing the total price from the usage of plan for each user.\n",
    "\n",
    "9) Draw histograms for each table which mad by 'pivot_table' method that aggregate the sum of values.\n",
    "\n",
    "10) Calculated the sum of every group devided into 'surf' and 'ultimate'.\n",
    "\n",
    "11) Used this calculation to find the mean\n",
    "\n",
    "12) Tested the first hypothesis\n",
    "\n",
    "13) Done the some but splited the groups into 'ney-york_new-jersy' resident and 'other'.\n",
    "\n",
    "14) Tested the second hypothesis"
   ]
  },
  {
   "cell_type": "markdown",
   "metadata": {},
   "source": [
    "# In summery there seem to be the same profit from both plans, I learned that from the rejection of the hypothesis and from the overall data in this project."
   ]
  }
 ],
 "metadata": {
  "ExecuteTimeLog": [
   {
    "duration": 1555,
    "start_time": "2021-12-21T06:05:12.108Z"
   },
   {
    "duration": 93,
    "start_time": "2021-12-21T06:05:24.018Z"
   },
   {
    "duration": 1108,
    "start_time": "2021-12-21T06:08:00.548Z"
   },
   {
    "duration": 1315,
    "start_time": "2021-12-21T06:08:39.979Z"
   },
   {
    "duration": 10,
    "start_time": "2021-12-21T06:08:46.427Z"
   },
   {
    "duration": 23,
    "start_time": "2021-12-21T06:08:58.010Z"
   },
   {
    "duration": 14,
    "start_time": "2021-12-21T06:09:08.335Z"
   },
   {
    "duration": 13,
    "start_time": "2021-12-21T06:09:24.665Z"
   },
   {
    "duration": 13,
    "start_time": "2021-12-21T06:09:31.671Z"
   },
   {
    "duration": 59,
    "start_time": "2021-12-21T06:10:19.238Z"
   },
   {
    "duration": 7137,
    "start_time": "2021-12-21T06:13:08.348Z"
   },
   {
    "duration": 7,
    "start_time": "2021-12-21T06:13:26.868Z"
   },
   {
    "duration": 2785,
    "start_time": "2021-12-21T06:15:02.604Z"
   },
   {
    "duration": 8,
    "start_time": "2021-12-21T06:15:30.067Z"
   },
   {
    "duration": 2579,
    "start_time": "2021-12-21T06:16:05.268Z"
   },
   {
    "duration": 10,
    "start_time": "2021-12-21T06:17:13.416Z"
   },
   {
    "duration": 11,
    "start_time": "2021-12-21T06:17:39.346Z"
   },
   {
    "duration": 14,
    "start_time": "2021-12-21T06:18:48.728Z"
   },
   {
    "duration": 42,
    "start_time": "2021-12-21T06:25:24.489Z"
   },
   {
    "duration": 2316,
    "start_time": "2021-12-21T06:26:35.368Z"
   },
   {
    "duration": 54,
    "start_time": "2021-12-21T06:26:52.689Z"
   },
   {
    "duration": 85,
    "start_time": "2021-12-21T06:28:40.458Z"
   },
   {
    "duration": 1296,
    "start_time": "2021-12-21T09:46:35.027Z"
   },
   {
    "duration": 89,
    "start_time": "2021-12-21T09:46:38.194Z"
   },
   {
    "duration": 114,
    "start_time": "2021-12-21T09:46:39.379Z"
   },
   {
    "duration": 34,
    "start_time": "2021-12-21T09:48:39.116Z"
   },
   {
    "duration": 1753,
    "start_time": "2021-12-21T16:45:02.486Z"
   },
   {
    "duration": 63,
    "start_time": "2021-12-21T16:45:04.241Z"
   },
   {
    "duration": 115,
    "start_time": "2021-12-21T16:45:04.749Z"
   },
   {
    "duration": 35,
    "start_time": "2021-12-21T16:45:12.411Z"
   },
   {
    "duration": 41,
    "start_time": "2021-12-21T17:04:47.611Z"
   },
   {
    "duration": 13,
    "start_time": "2021-12-21T17:05:05.549Z"
   },
   {
    "duration": 28,
    "start_time": "2021-12-21T17:05:34.248Z"
   },
   {
    "duration": 14,
    "start_time": "2021-12-21T17:06:47.786Z"
   },
   {
    "duration": 17,
    "start_time": "2021-12-21T17:08:07.976Z"
   },
   {
    "duration": 18,
    "start_time": "2021-12-21T17:08:24.969Z"
   },
   {
    "duration": 18,
    "start_time": "2021-12-21T17:09:11.203Z"
   },
   {
    "duration": 810,
    "start_time": "2021-12-21T17:11:18.213Z"
   },
   {
    "duration": 63,
    "start_time": "2021-12-21T17:11:51.254Z"
   },
   {
    "duration": 46,
    "start_time": "2021-12-21T17:11:54.232Z"
   },
   {
    "duration": 35,
    "start_time": "2021-12-21T17:12:00.533Z"
   },
   {
    "duration": 172,
    "start_time": "2021-12-21T17:13:07.587Z"
   },
   {
    "duration": 41,
    "start_time": "2021-12-21T17:13:12.818Z"
   },
   {
    "duration": 417,
    "start_time": "2021-12-21T17:13:54.655Z"
   },
   {
    "duration": 60,
    "start_time": "2021-12-21T17:13:55.799Z"
   },
   {
    "duration": 105,
    "start_time": "2021-12-21T17:13:56.655Z"
   },
   {
    "duration": 36,
    "start_time": "2021-12-21T17:13:57.463Z"
   },
   {
    "duration": 43,
    "start_time": "2021-12-21T17:13:58.503Z"
   },
   {
    "duration": 45,
    "start_time": "2021-12-21T17:14:05.946Z"
   },
   {
    "duration": 36,
    "start_time": "2021-12-21T17:14:08.833Z"
   },
   {
    "duration": 451,
    "start_time": "2021-12-21T17:16:07.919Z"
   },
   {
    "duration": 59,
    "start_time": "2021-12-21T17:16:08.707Z"
   },
   {
    "duration": 112,
    "start_time": "2021-12-21T17:16:09.399Z"
   },
   {
    "duration": 36,
    "start_time": "2021-12-21T17:16:10.003Z"
   },
   {
    "duration": 396,
    "start_time": "2021-12-21T17:16:10.753Z"
   },
   {
    "duration": 14,
    "start_time": "2021-12-21T17:18:23.503Z"
   },
   {
    "duration": 8,
    "start_time": "2021-12-21T17:21:19.656Z"
   },
   {
    "duration": 3394,
    "start_time": "2021-12-21T17:21:28.606Z"
   },
   {
    "duration": 11,
    "start_time": "2021-12-21T17:21:44.152Z"
   },
   {
    "duration": 9,
    "start_time": "2021-12-21T17:21:53.342Z"
   },
   {
    "duration": 10,
    "start_time": "2021-12-21T17:22:13.677Z"
   },
   {
    "duration": 388,
    "start_time": "2021-12-21T17:23:08.341Z"
   },
   {
    "duration": 7,
    "start_time": "2021-12-21T17:23:16.517Z"
   },
   {
    "duration": 9,
    "start_time": "2021-12-21T17:23:26.452Z"
   },
   {
    "duration": 422,
    "start_time": "2021-12-21T17:25:17.396Z"
   },
   {
    "duration": 603,
    "start_time": "2021-12-21T17:25:30.089Z"
   },
   {
    "duration": 30,
    "start_time": "2021-12-21T17:25:38.484Z"
   },
   {
    "duration": 484,
    "start_time": "2021-12-21T17:26:30.621Z"
   },
   {
    "duration": 64,
    "start_time": "2021-12-21T17:26:31.323Z"
   },
   {
    "duration": 100,
    "start_time": "2021-12-21T17:26:31.938Z"
   },
   {
    "duration": 35,
    "start_time": "2021-12-21T17:26:32.430Z"
   },
   {
    "duration": 35,
    "start_time": "2021-12-21T17:26:33.283Z"
   },
   {
    "duration": 6,
    "start_time": "2021-12-21T17:26:49.326Z"
   },
   {
    "duration": 415,
    "start_time": "2021-12-21T17:26:53.805Z"
   },
   {
    "duration": 62,
    "start_time": "2021-12-21T17:26:54.511Z"
   },
   {
    "duration": 109,
    "start_time": "2021-12-21T17:26:55.094Z"
   },
   {
    "duration": 35,
    "start_time": "2021-12-21T17:26:55.602Z"
   },
   {
    "duration": 5,
    "start_time": "2021-12-21T17:27:23.884Z"
   },
   {
    "duration": 6,
    "start_time": "2021-12-21T17:27:37.627Z"
   },
   {
    "duration": 370,
    "start_time": "2021-12-21T17:28:37.233Z"
   },
   {
    "duration": 815,
    "start_time": "2021-12-21T17:28:46.520Z"
   },
   {
    "duration": 24,
    "start_time": "2021-12-21T17:29:00.512Z"
   },
   {
    "duration": 431,
    "start_time": "2021-12-21T17:29:24.408Z"
   },
   {
    "duration": 31,
    "start_time": "2021-12-21T17:29:28.955Z"
   },
   {
    "duration": 367,
    "start_time": "2021-12-21T17:30:28.166Z"
   },
   {
    "duration": 544,
    "start_time": "2021-12-21T17:30:40.403Z"
   },
   {
    "duration": 7,
    "start_time": "2021-12-21T17:30:50.648Z"
   },
   {
    "duration": 6,
    "start_time": "2021-12-21T17:31:22.059Z"
   },
   {
    "duration": 5,
    "start_time": "2021-12-21T17:33:52.131Z"
   },
   {
    "duration": 8,
    "start_time": "2021-12-21T17:34:04.253Z"
   },
   {
    "duration": 7,
    "start_time": "2021-12-21T17:34:40.377Z"
   },
   {
    "duration": 5,
    "start_time": "2021-12-21T17:35:23.111Z"
   },
   {
    "duration": 1051,
    "start_time": "2021-12-21T17:35:57.203Z"
   },
   {
    "duration": 362,
    "start_time": "2021-12-21T17:36:17.116Z"
   },
   {
    "duration": 15,
    "start_time": "2021-12-21T17:36:27.224Z"
   },
   {
    "duration": 9,
    "start_time": "2021-12-21T17:37:07.663Z"
   },
   {
    "duration": 10,
    "start_time": "2021-12-21T17:37:13.683Z"
   },
   {
    "duration": 9,
    "start_time": "2021-12-21T17:38:59.184Z"
   },
   {
    "duration": 17,
    "start_time": "2021-12-21T17:39:07.883Z"
   },
   {
    "duration": 187,
    "start_time": "2021-12-21T17:39:53.043Z"
   },
   {
    "duration": 445,
    "start_time": "2021-12-21T17:40:00.721Z"
   },
   {
    "duration": 372,
    "start_time": "2021-12-21T17:47:39.153Z"
   },
   {
    "duration": 395,
    "start_time": "2021-12-21T17:47:49.584Z"
   },
   {
    "duration": 407,
    "start_time": "2021-12-21T17:48:01.133Z"
   },
   {
    "duration": 40,
    "start_time": "2021-12-21T17:48:08.906Z"
   },
   {
    "duration": 399,
    "start_time": "2021-12-21T17:49:28.853Z"
   },
   {
    "duration": 487,
    "start_time": "2021-12-21T17:50:02.996Z"
   },
   {
    "duration": 42,
    "start_time": "2021-12-21T17:50:49.634Z"
   },
   {
    "duration": 34,
    "start_time": "2021-12-21T17:51:14.634Z"
   },
   {
    "duration": 34,
    "start_time": "2021-12-21T17:51:17.406Z"
   },
   {
    "duration": 43,
    "start_time": "2021-12-21T17:51:26.432Z"
   },
   {
    "duration": 386,
    "start_time": "2021-12-21T17:57:59.483Z"
   },
   {
    "duration": 37,
    "start_time": "2021-12-21T17:58:08.113Z"
   },
   {
    "duration": 421,
    "start_time": "2021-12-21T18:00:41.419Z"
   },
   {
    "duration": 379,
    "start_time": "2021-12-21T18:01:13.857Z"
   },
   {
    "duration": 27,
    "start_time": "2021-12-21T18:01:21.317Z"
   },
   {
    "duration": 432,
    "start_time": "2021-12-21T18:01:32.803Z"
   },
   {
    "duration": 45,
    "start_time": "2021-12-21T18:03:09.176Z"
   },
   {
    "duration": 50,
    "start_time": "2021-12-21T18:03:49.692Z"
   },
   {
    "duration": 370,
    "start_time": "2021-12-21T18:05:24.275Z"
   },
   {
    "duration": 400,
    "start_time": "2021-12-21T18:05:31.181Z"
   },
   {
    "duration": 410,
    "start_time": "2021-12-21T18:05:45.486Z"
   },
   {
    "duration": 477,
    "start_time": "2021-12-21T18:06:07.666Z"
   },
   {
    "duration": 408,
    "start_time": "2021-12-21T18:07:09.813Z"
   },
   {
    "duration": 35,
    "start_time": "2021-12-21T18:07:17.391Z"
   },
   {
    "duration": 39,
    "start_time": "2021-12-21T18:07:38.481Z"
   },
   {
    "duration": 416,
    "start_time": "2021-12-21T18:09:52.612Z"
   },
   {
    "duration": 427,
    "start_time": "2021-12-21T18:10:20.743Z"
   },
   {
    "duration": 398,
    "start_time": "2021-12-21T18:10:46.013Z"
   },
   {
    "duration": 41,
    "start_time": "2021-12-21T18:11:40.003Z"
   },
   {
    "duration": 4,
    "start_time": "2021-12-21T18:16:16.087Z"
   },
   {
    "duration": 22,
    "start_time": "2021-12-21T18:16:32.411Z"
   },
   {
    "duration": 9048,
    "start_time": "2021-12-21T18:17:53.902Z"
   },
   {
    "duration": 418,
    "start_time": "2021-12-21T18:18:14.531Z"
   },
   {
    "duration": 386,
    "start_time": "2021-12-21T18:19:10.522Z"
   },
   {
    "duration": 43,
    "start_time": "2021-12-21T18:20:06.756Z"
   },
   {
    "duration": 37,
    "start_time": "2021-12-21T18:22:21.531Z"
   },
   {
    "duration": 54,
    "start_time": "2021-12-21T18:23:21.046Z"
   },
   {
    "duration": 1506,
    "start_time": "2021-12-22T05:07:21.815Z"
   },
   {
    "duration": 55,
    "start_time": "2021-12-22T05:07:23.323Z"
   },
   {
    "duration": 125,
    "start_time": "2021-12-22T05:07:23.381Z"
   },
   {
    "duration": 39,
    "start_time": "2021-12-22T05:07:23.509Z"
   },
   {
    "duration": 66,
    "start_time": "2021-12-22T05:13:06.075Z"
   },
   {
    "duration": 369,
    "start_time": "2021-12-22T05:13:11.815Z"
   },
   {
    "duration": 55,
    "start_time": "2021-12-22T05:13:12.187Z"
   },
   {
    "duration": 116,
    "start_time": "2021-12-22T05:13:12.244Z"
   },
   {
    "duration": 32,
    "start_time": "2021-12-22T05:13:12.496Z"
   },
   {
    "duration": 46,
    "start_time": "2021-12-22T05:13:12.686Z"
   },
   {
    "duration": 3,
    "start_time": "2021-12-22T05:13:13.323Z"
   },
   {
    "duration": 38,
    "start_time": "2021-12-22T05:13:25.465Z"
   },
   {
    "duration": 40,
    "start_time": "2021-12-22T05:13:29.335Z"
   },
   {
    "duration": 47,
    "start_time": "2021-12-22T05:13:39.024Z"
   },
   {
    "duration": -1327,
    "start_time": "2021-12-22T05:17:08.822Z"
   },
   {
    "duration": -1243,
    "start_time": "2021-12-22T05:25:57.305Z"
   },
   {
    "duration": -1246,
    "start_time": "2021-12-22T05:25:57.310Z"
   },
   {
    "duration": -1246,
    "start_time": "2021-12-22T05:25:57.312Z"
   },
   {
    "duration": -1252,
    "start_time": "2021-12-22T05:25:57.319Z"
   },
   {
    "duration": -1258,
    "start_time": "2021-12-22T05:25:57.327Z"
   },
   {
    "duration": 276,
    "start_time": "2021-12-22T05:26:14.212Z"
   },
   {
    "duration": 269,
    "start_time": "2021-12-22T05:28:33.398Z"
   },
   {
    "duration": 308,
    "start_time": "2021-12-22T05:30:01.648Z"
   },
   {
    "duration": 256,
    "start_time": "2021-12-22T05:30:35.245Z"
   },
   {
    "duration": 147,
    "start_time": "2021-12-22T05:31:15.035Z"
   },
   {
    "duration": 139,
    "start_time": "2021-12-22T05:31:18.906Z"
   },
   {
    "duration": 145,
    "start_time": "2021-12-22T05:31:29.339Z"
   },
   {
    "duration": 145,
    "start_time": "2021-12-22T05:31:40.716Z"
   },
   {
    "duration": 384,
    "start_time": "2021-12-22T05:32:03.527Z"
   },
   {
    "duration": 54,
    "start_time": "2021-12-22T05:32:04.597Z"
   },
   {
    "duration": 103,
    "start_time": "2021-12-22T05:32:05.358Z"
   },
   {
    "duration": 33,
    "start_time": "2021-12-22T05:32:06.136Z"
   },
   {
    "duration": 148,
    "start_time": "2021-12-22T05:32:07.066Z"
   },
   {
    "duration": 6228,
    "start_time": "2021-12-22T05:32:29.277Z"
   },
   {
    "duration": 6880,
    "start_time": "2021-12-22T05:32:44.326Z"
   },
   {
    "duration": 7,
    "start_time": "2021-12-22T05:32:57.926Z"
   },
   {
    "duration": 3989,
    "start_time": "2021-12-22T05:33:53.737Z"
   },
   {
    "duration": 7,
    "start_time": "2021-12-22T05:34:05.276Z"
   },
   {
    "duration": 194,
    "start_time": "2021-12-22T05:34:52.789Z"
   },
   {
    "duration": 10,
    "start_time": "2021-12-22T05:34:58.816Z"
   },
   {
    "duration": 273,
    "start_time": "2021-12-22T05:36:11.017Z"
   },
   {
    "duration": 292,
    "start_time": "2021-12-22T05:36:18.197Z"
   },
   {
    "duration": 301,
    "start_time": "2021-12-22T05:36:23.636Z"
   },
   {
    "duration": 177,
    "start_time": "2021-12-22T05:36:37.596Z"
   },
   {
    "duration": 11,
    "start_time": "2021-12-22T05:36:42.836Z"
   },
   {
    "duration": 167,
    "start_time": "2021-12-22T05:38:25.927Z"
   },
   {
    "duration": 169,
    "start_time": "2021-12-22T05:39:07.667Z"
   },
   {
    "duration": 153,
    "start_time": "2021-12-22T05:39:17.265Z"
   },
   {
    "duration": 438,
    "start_time": "2021-12-22T05:39:20.354Z"
   },
   {
    "duration": 374,
    "start_time": "2021-12-22T05:39:24.677Z"
   },
   {
    "duration": 165,
    "start_time": "2021-12-22T05:39:34.856Z"
   },
   {
    "duration": 175,
    "start_time": "2021-12-22T05:39:49.922Z"
   },
   {
    "duration": 164,
    "start_time": "2021-12-22T05:40:11.766Z"
   },
   {
    "duration": 171,
    "start_time": "2021-12-22T05:40:19.398Z"
   },
   {
    "duration": 387,
    "start_time": "2021-12-22T05:40:33.958Z"
   },
   {
    "duration": 179,
    "start_time": "2021-12-22T05:40:41.176Z"
   },
   {
    "duration": 420,
    "start_time": "2021-12-22T05:40:47.417Z"
   },
   {
    "duration": 164,
    "start_time": "2021-12-22T05:40:50.737Z"
   },
   {
    "duration": 166,
    "start_time": "2021-12-22T05:40:54.406Z"
   },
   {
    "duration": 176,
    "start_time": "2021-12-22T05:41:16.686Z"
   },
   {
    "duration": 198,
    "start_time": "2021-12-22T05:41:40.578Z"
   },
   {
    "duration": 1063,
    "start_time": "2021-12-22T05:43:39.079Z"
   },
   {
    "duration": 298,
    "start_time": "2021-12-22T05:44:21.542Z"
   },
   {
    "duration": 1507,
    "start_time": "2021-12-22T05:44:44.618Z"
   },
   {
    "duration": 416,
    "start_time": "2021-12-22T05:46:12.017Z"
   },
   {
    "duration": 384,
    "start_time": "2021-12-22T05:48:16.327Z"
   },
   {
    "duration": 301,
    "start_time": "2021-12-22T05:48:30.058Z"
   },
   {
    "duration": 174,
    "start_time": "2021-12-22T05:48:38.587Z"
   },
   {
    "duration": 204,
    "start_time": "2021-12-22T05:48:57.395Z"
   },
   {
    "duration": 101,
    "start_time": "2021-12-22T05:50:06.077Z"
   },
   {
    "duration": 173,
    "start_time": "2021-12-22T05:50:12.257Z"
   },
   {
    "duration": 179,
    "start_time": "2021-12-22T05:50:15.747Z"
   },
   {
    "duration": 178,
    "start_time": "2021-12-22T05:50:34.174Z"
   },
   {
    "duration": 1109,
    "start_time": "2021-12-22T05:50:53.716Z"
   },
   {
    "duration": 170,
    "start_time": "2021-12-22T05:51:54.935Z"
   },
   {
    "duration": 1119,
    "start_time": "2021-12-22T05:52:09.736Z"
   },
   {
    "duration": 240,
    "start_time": "2021-12-22T05:53:30.387Z"
   },
   {
    "duration": 1462,
    "start_time": "2021-12-22T05:56:12.477Z"
   },
   {
    "duration": 197,
    "start_time": "2021-12-22T05:57:33.975Z"
   },
   {
    "duration": 177,
    "start_time": "2021-12-22T05:58:14.909Z"
   },
   {
    "duration": 207,
    "start_time": "2021-12-22T05:58:34.494Z"
   },
   {
    "duration": 173,
    "start_time": "2021-12-22T05:59:16.787Z"
   },
   {
    "duration": 178,
    "start_time": "2021-12-22T06:00:11.397Z"
   },
   {
    "duration": 182,
    "start_time": "2021-12-22T06:00:30.166Z"
   },
   {
    "duration": 201,
    "start_time": "2021-12-22T06:00:47.745Z"
   },
   {
    "duration": 268,
    "start_time": "2021-12-22T06:01:43.616Z"
   },
   {
    "duration": 355,
    "start_time": "2021-12-22T06:08:38.570Z"
   },
   {
    "duration": 55,
    "start_time": "2021-12-22T06:08:38.978Z"
   },
   {
    "duration": 99,
    "start_time": "2021-12-22T06:08:39.400Z"
   },
   {
    "duration": 33,
    "start_time": "2021-12-22T06:08:39.839Z"
   },
   {
    "duration": 207,
    "start_time": "2021-12-22T06:08:40.800Z"
   },
   {
    "duration": 256,
    "start_time": "2021-12-22T06:10:37.019Z"
   },
   {
    "duration": 27,
    "start_time": "2021-12-22T06:10:47.124Z"
   },
   {
    "duration": 20,
    "start_time": "2021-12-22T06:11:11.348Z"
   },
   {
    "duration": 29,
    "start_time": "2021-12-22T06:11:15.329Z"
   },
   {
    "duration": 31,
    "start_time": "2021-12-22T06:11:31.331Z"
   },
   {
    "duration": 291,
    "start_time": "2021-12-22T06:15:29.669Z"
   },
   {
    "duration": 171,
    "start_time": "2021-12-22T06:15:43.296Z"
   },
   {
    "duration": 554,
    "start_time": "2021-12-22T06:16:43.691Z"
   },
   {
    "duration": 159,
    "start_time": "2021-12-22T06:17:27.177Z"
   },
   {
    "duration": 165,
    "start_time": "2021-12-22T06:17:29.588Z"
   },
   {
    "duration": 253,
    "start_time": "2021-12-22T06:17:37.057Z"
   },
   {
    "duration": 180,
    "start_time": "2021-12-22T06:19:00.132Z"
   },
   {
    "duration": 181,
    "start_time": "2021-12-22T06:19:07.090Z"
   },
   {
    "duration": 179,
    "start_time": "2021-12-22T06:19:24.199Z"
   },
   {
    "duration": 192,
    "start_time": "2021-12-22T06:20:13.461Z"
   },
   {
    "duration": 100,
    "start_time": "2021-12-22T06:21:52.993Z"
   },
   {
    "duration": 249,
    "start_time": "2021-12-22T06:22:30.429Z"
   },
   {
    "duration": 238,
    "start_time": "2021-12-22T06:24:18.809Z"
   },
   {
    "duration": 264,
    "start_time": "2021-12-22T06:24:27.551Z"
   },
   {
    "duration": 268,
    "start_time": "2021-12-22T06:25:17.807Z"
   },
   {
    "duration": 289,
    "start_time": "2021-12-22T06:25:25.667Z"
   },
   {
    "duration": 304,
    "start_time": "2021-12-22T06:26:11.003Z"
   },
   {
    "duration": 296,
    "start_time": "2021-12-22T06:26:45.401Z"
   },
   {
    "duration": 15,
    "start_time": "2021-12-22T06:47:47.677Z"
   },
   {
    "duration": 321,
    "start_time": "2021-12-22T06:52:18.928Z"
   },
   {
    "duration": 624,
    "start_time": "2021-12-22T06:52:31.149Z"
   },
   {
    "duration": 326,
    "start_time": "2021-12-22T06:53:12.707Z"
   },
   {
    "duration": 35,
    "start_time": "2021-12-22T06:53:52.869Z"
   },
   {
    "duration": 337,
    "start_time": "2021-12-22T06:58:23.676Z"
   },
   {
    "duration": 250,
    "start_time": "2021-12-22T06:58:44.847Z"
   },
   {
    "duration": 18,
    "start_time": "2021-12-22T07:00:49.897Z"
   },
   {
    "duration": 19,
    "start_time": "2021-12-22T07:02:04.785Z"
   },
   {
    "duration": 45,
    "start_time": "2021-12-22T07:02:16.737Z"
   },
   {
    "duration": 361,
    "start_time": "2021-12-22T07:04:14.800Z"
   },
   {
    "duration": 6026,
    "start_time": "2021-12-22T07:04:28.833Z"
   },
   {
    "duration": 323,
    "start_time": "2021-12-22T07:05:39.815Z"
   },
   {
    "duration": 887,
    "start_time": "2021-12-22T07:06:48.187Z"
   },
   {
    "duration": 1197,
    "start_time": "2021-12-22T07:07:05.190Z"
   },
   {
    "duration": 4905,
    "start_time": "2021-12-22T07:08:49.920Z"
   },
   {
    "duration": 4364,
    "start_time": "2021-12-22T07:09:13.395Z"
   },
   {
    "duration": 4966,
    "start_time": "2021-12-22T07:10:48.923Z"
   },
   {
    "duration": 283,
    "start_time": "2021-12-22T07:11:10.705Z"
   },
   {
    "duration": 288,
    "start_time": "2021-12-22T07:11:24.045Z"
   },
   {
    "duration": 4782,
    "start_time": "2021-12-22T07:11:31.490Z"
   },
   {
    "duration": 4191,
    "start_time": "2021-12-22T07:12:09.607Z"
   },
   {
    "duration": 5234,
    "start_time": "2021-12-22T07:12:59.907Z"
   },
   {
    "duration": 19,
    "start_time": "2021-12-22T07:13:19.857Z"
   },
   {
    "duration": 4370,
    "start_time": "2021-12-22T07:16:09.243Z"
   },
   {
    "duration": 44,
    "start_time": "2021-12-22T07:16:37.686Z"
   },
   {
    "duration": 36,
    "start_time": "2021-12-22T07:16:59.449Z"
   },
   {
    "duration": 36,
    "start_time": "2021-12-22T07:17:04.045Z"
   },
   {
    "duration": 37,
    "start_time": "2021-12-22T07:17:14.877Z"
   },
   {
    "duration": 339,
    "start_time": "2021-12-22T07:18:03.888Z"
   },
   {
    "duration": 248,
    "start_time": "2021-12-22T07:18:13.757Z"
   },
   {
    "duration": 82,
    "start_time": "2021-12-22T07:18:27.386Z"
   },
   {
    "duration": 81,
    "start_time": "2021-12-22T07:18:27.834Z"
   },
   {
    "duration": 372,
    "start_time": "2021-12-22T07:22:50.986Z"
   },
   {
    "duration": 267,
    "start_time": "2021-12-22T07:23:12.738Z"
   },
   {
    "duration": 669,
    "start_time": "2021-12-22T07:24:06.528Z"
   },
   {
    "duration": 715,
    "start_time": "2021-12-22T07:24:53.576Z"
   },
   {
    "duration": 912,
    "start_time": "2021-12-22T07:25:22.234Z"
   },
   {
    "duration": 203,
    "start_time": "2021-12-22T07:25:47.967Z"
   },
   {
    "duration": 682,
    "start_time": "2021-12-22T07:26:24.663Z"
   },
   {
    "duration": 209,
    "start_time": "2021-12-22T07:26:46.748Z"
   },
   {
    "duration": 242,
    "start_time": "2021-12-22T07:27:01.918Z"
   },
   {
    "duration": 264,
    "start_time": "2021-12-22T07:27:56.116Z"
   },
   {
    "duration": 271,
    "start_time": "2021-12-22T07:30:03.190Z"
   },
   {
    "duration": 265,
    "start_time": "2021-12-22T07:37:06.628Z"
   },
   {
    "duration": 19,
    "start_time": "2021-12-22T07:37:13.645Z"
   },
   {
    "duration": 23,
    "start_time": "2021-12-22T07:39:51.807Z"
   },
   {
    "duration": 449,
    "start_time": "2021-12-22T07:44:46.318Z"
   },
   {
    "duration": 253,
    "start_time": "2021-12-22T07:44:54.363Z"
   },
   {
    "duration": 262,
    "start_time": "2021-12-22T07:45:50.238Z"
   },
   {
    "duration": 12,
    "start_time": "2021-12-22T10:03:05.802Z"
   },
   {
    "duration": 29,
    "start_time": "2021-12-22T10:03:59.813Z"
   },
   {
    "duration": 270,
    "start_time": "2021-12-22T10:08:51.243Z"
   },
   {
    "duration": 280,
    "start_time": "2021-12-22T10:09:58.441Z"
   },
   {
    "duration": 26,
    "start_time": "2021-12-22T10:10:53.227Z"
   },
   {
    "duration": 402,
    "start_time": "2021-12-22T10:11:14.704Z"
   },
   {
    "duration": 339,
    "start_time": "2021-12-22T10:11:22.354Z"
   },
   {
    "duration": 7,
    "start_time": "2021-12-22T10:11:36.355Z"
   },
   {
    "duration": 29,
    "start_time": "2021-12-22T10:12:32.412Z"
   },
   {
    "duration": 28,
    "start_time": "2021-12-22T10:15:44.522Z"
   },
   {
    "duration": 8368,
    "start_time": "2021-12-22T10:16:50.989Z"
   },
   {
    "duration": 7298,
    "start_time": "2021-12-22T10:17:07.672Z"
   },
   {
    "duration": 262,
    "start_time": "2021-12-22T10:17:28.989Z"
   },
   {
    "duration": 7154,
    "start_time": "2021-12-22T10:18:20.117Z"
   },
   {
    "duration": 235,
    "start_time": "2021-12-22T10:18:49.907Z"
   },
   {
    "duration": 258,
    "start_time": "2021-12-22T10:18:58.110Z"
   },
   {
    "duration": 257,
    "start_time": "2021-12-22T10:19:07.492Z"
   },
   {
    "duration": 277,
    "start_time": "2021-12-22T10:26:22.867Z"
   },
   {
    "duration": 260,
    "start_time": "2021-12-22T10:26:55.551Z"
   },
   {
    "duration": 249,
    "start_time": "2021-12-22T10:28:06.589Z"
   },
   {
    "duration": 35,
    "start_time": "2021-12-22T10:28:12.131Z"
   },
   {
    "duration": 19,
    "start_time": "2021-12-22T10:28:20.221Z"
   },
   {
    "duration": 561,
    "start_time": "2021-12-22T10:32:37.461Z"
   },
   {
    "duration": 35,
    "start_time": "2021-12-22T10:33:47.481Z"
   },
   {
    "duration": 26,
    "start_time": "2021-12-22T10:34:22.501Z"
   },
   {
    "duration": 29,
    "start_time": "2021-12-22T10:34:37.592Z"
   },
   {
    "duration": 34,
    "start_time": "2021-12-22T10:35:01.719Z"
   },
   {
    "duration": 369,
    "start_time": "2021-12-22T10:35:13.393Z"
   },
   {
    "duration": 56,
    "start_time": "2021-12-22T10:35:15.741Z"
   },
   {
    "duration": 104,
    "start_time": "2021-12-22T10:35:16.652Z"
   },
   {
    "duration": 35,
    "start_time": "2021-12-22T10:35:17.190Z"
   },
   {
    "duration": 273,
    "start_time": "2021-12-22T10:35:18.645Z"
   },
   {
    "duration": 261,
    "start_time": "2021-12-22T10:35:19.408Z"
   },
   {
    "duration": 254,
    "start_time": "2021-12-22T10:35:20.626Z"
   },
   {
    "duration": 284,
    "start_time": "2021-12-22T10:35:21.414Z"
   },
   {
    "duration": 40,
    "start_time": "2021-12-22T10:35:22.621Z"
   },
   {
    "duration": 31,
    "start_time": "2021-12-22T10:35:46.731Z"
   },
   {
    "duration": 28,
    "start_time": "2021-12-22T10:40:43.205Z"
   },
   {
    "duration": 377,
    "start_time": "2021-12-22T10:40:50.123Z"
   },
   {
    "duration": 58,
    "start_time": "2021-12-22T10:40:51.222Z"
   },
   {
    "duration": 157,
    "start_time": "2021-12-22T10:40:52.055Z"
   },
   {
    "duration": 34,
    "start_time": "2021-12-22T10:40:52.982Z"
   },
   {
    "duration": 280,
    "start_time": "2021-12-22T10:40:53.761Z"
   },
   {
    "duration": 384,
    "start_time": "2021-12-22T10:40:54.437Z"
   },
   {
    "duration": 407,
    "start_time": "2021-12-22T10:40:55.403Z"
   },
   {
    "duration": 410,
    "start_time": "2021-12-22T10:40:56.235Z"
   },
   {
    "duration": 52,
    "start_time": "2021-12-22T10:40:57.111Z"
   },
   {
    "duration": 23,
    "start_time": "2021-12-22T10:42:38.442Z"
   },
   {
    "duration": 25,
    "start_time": "2021-12-22T10:42:52.485Z"
   },
   {
    "duration": 33,
    "start_time": "2021-12-22T10:46:10.593Z"
   },
   {
    "duration": 311,
    "start_time": "2021-12-22T10:50:28.535Z"
   },
   {
    "duration": 309,
    "start_time": "2021-12-22T10:50:53.105Z"
   },
   {
    "duration": 48,
    "start_time": "2021-12-22T10:51:45.945Z"
   },
   {
    "duration": 37,
    "start_time": "2021-12-22T10:52:47.655Z"
   },
   {
    "duration": 50,
    "start_time": "2021-12-22T10:53:08.436Z"
   },
   {
    "duration": 271,
    "start_time": "2021-12-22T10:55:01.375Z"
   },
   {
    "duration": 13,
    "start_time": "2021-12-22T10:55:06.124Z"
   },
   {
    "duration": 5,
    "start_time": "2021-12-22T11:12:51.296Z"
   },
   {
    "duration": 258,
    "start_time": "2021-12-22T11:14:11.888Z"
   },
   {
    "duration": 12,
    "start_time": "2021-12-22T11:14:16.573Z"
   },
   {
    "duration": 6,
    "start_time": "2021-12-22T11:15:32.804Z"
   },
   {
    "duration": 581,
    "start_time": "2021-12-22T11:16:50.285Z"
   },
   {
    "duration": 6,
    "start_time": "2021-12-22T11:18:16.255Z"
   },
   {
    "duration": 1450,
    "start_time": "2021-12-22T11:18:18.458Z"
   },
   {
    "duration": 5,
    "start_time": "2021-12-22T11:18:54.630Z"
   },
   {
    "duration": 510,
    "start_time": "2021-12-22T11:18:55.601Z"
   },
   {
    "duration": 46,
    "start_time": "2021-12-22T11:19:39.566Z"
   },
   {
    "duration": 45,
    "start_time": "2021-12-22T11:19:58.760Z"
   },
   {
    "duration": 49,
    "start_time": "2021-12-22T11:20:11.035Z"
   },
   {
    "duration": 5,
    "start_time": "2021-12-22T11:20:15.673Z"
   },
   {
    "duration": 570,
    "start_time": "2021-12-22T11:20:17.422Z"
   },
   {
    "duration": 4,
    "start_time": "2021-12-22T11:21:15.325Z"
   },
   {
    "duration": 29,
    "start_time": "2021-12-22T11:21:19.402Z"
   },
   {
    "duration": 5,
    "start_time": "2021-12-22T11:21:33.626Z"
   },
   {
    "duration": 6,
    "start_time": "2021-12-22T11:21:59.387Z"
   },
   {
    "duration": 579,
    "start_time": "2021-12-22T11:22:00.194Z"
   },
   {
    "duration": 6,
    "start_time": "2021-12-22T11:22:19.184Z"
   },
   {
    "duration": 615,
    "start_time": "2021-12-22T11:22:22.086Z"
   },
   {
    "duration": 5,
    "start_time": "2021-12-22T11:22:34.648Z"
   },
   {
    "duration": 972,
    "start_time": "2021-12-22T11:22:36.665Z"
   },
   {
    "duration": 4,
    "start_time": "2021-12-22T11:22:58.336Z"
   },
   {
    "duration": 7,
    "start_time": "2021-12-22T11:22:58.973Z"
   },
   {
    "duration": 5,
    "start_time": "2021-12-22T11:23:16.470Z"
   },
   {
    "duration": 499,
    "start_time": "2021-12-22T11:23:18.887Z"
   },
   {
    "duration": 6,
    "start_time": "2021-12-22T11:23:29.588Z"
   },
   {
    "duration": 522,
    "start_time": "2021-12-22T11:23:31.945Z"
   },
   {
    "duration": 6,
    "start_time": "2021-12-22T11:23:40.333Z"
   },
   {
    "duration": 491,
    "start_time": "2021-12-22T11:23:42.786Z"
   },
   {
    "duration": 6,
    "start_time": "2021-12-22T11:23:58.663Z"
   },
   {
    "duration": 503,
    "start_time": "2021-12-22T11:24:00.649Z"
   },
   {
    "duration": 1182,
    "start_time": "2021-12-22T13:53:52.860Z"
   },
   {
    "duration": 68,
    "start_time": "2021-12-22T13:53:54.048Z"
   },
   {
    "duration": 108,
    "start_time": "2021-12-22T13:53:54.309Z"
   },
   {
    "duration": 48,
    "start_time": "2021-12-22T13:53:54.986Z"
   },
   {
    "duration": 291,
    "start_time": "2021-12-22T13:53:55.666Z"
   },
   {
    "duration": 259,
    "start_time": "2021-12-22T13:53:56.289Z"
   },
   {
    "duration": 245,
    "start_time": "2021-12-22T13:53:57.919Z"
   },
   {
    "duration": 288,
    "start_time": "2021-12-22T13:53:59.355Z"
   },
   {
    "duration": 54,
    "start_time": "2021-12-22T13:54:00.436Z"
   },
   {
    "duration": 6,
    "start_time": "2021-12-22T13:54:01.330Z"
   },
   {
    "duration": 820,
    "start_time": "2021-12-22T13:54:02.646Z"
   },
   {
    "duration": 3,
    "start_time": "2021-12-22T13:54:17.417Z"
   },
   {
    "duration": 7,
    "start_time": "2021-12-22T13:54:18.032Z"
   },
   {
    "duration": 18,
    "start_time": "2021-12-22T13:54:27.595Z"
   },
   {
    "duration": 5,
    "start_time": "2021-12-22T13:54:28.057Z"
   },
   {
    "duration": 4,
    "start_time": "2021-12-22T13:55:21.756Z"
   },
   {
    "duration": 596,
    "start_time": "2021-12-22T13:55:22.478Z"
   },
   {
    "duration": 8,
    "start_time": "2021-12-22T13:56:42.035Z"
   },
   {
    "duration": 581,
    "start_time": "2021-12-22T13:56:43.656Z"
   },
   {
    "duration": 435,
    "start_time": "2021-12-22T13:59:44.564Z"
   },
   {
    "duration": 6,
    "start_time": "2021-12-22T14:00:00.657Z"
   },
   {
    "duration": 773,
    "start_time": "2021-12-22T14:00:04.299Z"
   },
   {
    "duration": 563,
    "start_time": "2021-12-22T14:00:28.725Z"
   },
   {
    "duration": 314,
    "start_time": "2021-12-22T14:00:45.445Z"
   },
   {
    "duration": 312,
    "start_time": "2021-12-22T14:00:55.047Z"
   },
   {
    "duration": 11,
    "start_time": "2021-12-22T14:01:01.546Z"
   },
   {
    "duration": 5,
    "start_time": "2021-12-22T14:01:32.255Z"
   },
   {
    "duration": 6,
    "start_time": "2021-12-22T14:01:34.356Z"
   },
   {
    "duration": 10,
    "start_time": "2021-12-22T14:04:21.384Z"
   },
   {
    "duration": 1223,
    "start_time": "2021-12-22T14:04:24.645Z"
   },
   {
    "duration": 4,
    "start_time": "2021-12-22T14:05:14.578Z"
   },
   {
    "duration": 10,
    "start_time": "2021-12-22T14:05:15.796Z"
   },
   {
    "duration": 8,
    "start_time": "2021-12-22T14:07:36.288Z"
   },
   {
    "duration": 586,
    "start_time": "2021-12-22T14:07:36.968Z"
   },
   {
    "duration": 7,
    "start_time": "2021-12-22T14:10:44.517Z"
   },
   {
    "duration": 310,
    "start_time": "2021-12-22T14:11:50.421Z"
   },
   {
    "duration": 9,
    "start_time": "2021-12-22T14:12:36.014Z"
   },
   {
    "duration": 362,
    "start_time": "2021-12-22T14:12:45.206Z"
   },
   {
    "duration": 305,
    "start_time": "2021-12-22T14:13:10.185Z"
   },
   {
    "duration": 320,
    "start_time": "2021-12-22T14:13:24.487Z"
   },
   {
    "duration": 376,
    "start_time": "2021-12-22T14:13:29.215Z"
   },
   {
    "duration": 60,
    "start_time": "2021-12-22T14:13:30.335Z"
   },
   {
    "duration": 108,
    "start_time": "2021-12-22T14:13:30.947Z"
   },
   {
    "duration": 34,
    "start_time": "2021-12-22T14:13:31.454Z"
   },
   {
    "duration": 264,
    "start_time": "2021-12-22T14:13:32.029Z"
   },
   {
    "duration": 250,
    "start_time": "2021-12-22T14:13:32.465Z"
   },
   {
    "duration": 237,
    "start_time": "2021-12-22T14:13:33.036Z"
   },
   {
    "duration": 263,
    "start_time": "2021-12-22T14:13:33.779Z"
   },
   {
    "duration": 47,
    "start_time": "2021-12-22T14:13:34.468Z"
   },
   {
    "duration": 435,
    "start_time": "2021-12-22T14:13:35.946Z"
   },
   {
    "duration": 405,
    "start_time": "2021-12-22T14:14:05.059Z"
   },
   {
    "duration": 308,
    "start_time": "2021-12-22T14:14:29.748Z"
   },
   {
    "duration": 301,
    "start_time": "2021-12-22T14:16:34.856Z"
   },
   {
    "duration": 1231,
    "start_time": "2021-12-22T14:18:37.577Z"
   },
   {
    "duration": 1371,
    "start_time": "2021-12-22T14:19:05.317Z"
   },
   {
    "duration": 1300,
    "start_time": "2021-12-22T14:45:11.248Z"
   },
   {
    "duration": 1927,
    "start_time": "2021-12-22T14:45:51.882Z"
   },
   {
    "duration": 101,
    "start_time": "2021-12-22T14:46:25.313Z"
   },
   {
    "duration": 1287,
    "start_time": "2021-12-22T14:46:37.437Z"
   },
   {
    "duration": 1689,
    "start_time": "2021-12-22T14:46:55.255Z"
   },
   {
    "duration": 1293,
    "start_time": "2021-12-22T14:50:23.168Z"
   },
   {
    "duration": 10,
    "start_time": "2021-12-22T14:50:47.814Z"
   },
   {
    "duration": 1294,
    "start_time": "2021-12-22T14:51:03.004Z"
   },
   {
    "duration": 379,
    "start_time": "2021-12-22T14:53:03.502Z"
   },
   {
    "duration": 55,
    "start_time": "2021-12-22T14:53:04.093Z"
   },
   {
    "duration": 106,
    "start_time": "2021-12-22T14:53:04.603Z"
   },
   {
    "duration": 34,
    "start_time": "2021-12-22T14:53:05.286Z"
   },
   {
    "duration": 296,
    "start_time": "2021-12-22T14:53:05.997Z"
   },
   {
    "duration": 250,
    "start_time": "2021-12-22T14:53:07.512Z"
   },
   {
    "duration": 245,
    "start_time": "2021-12-22T14:53:13.103Z"
   },
   {
    "duration": 257,
    "start_time": "2021-12-22T14:53:13.694Z"
   },
   {
    "duration": 52,
    "start_time": "2021-12-22T14:53:14.414Z"
   },
   {
    "duration": 10,
    "start_time": "2021-12-22T14:53:21.815Z"
   },
   {
    "duration": 357,
    "start_time": "2021-12-22T14:53:43.651Z"
   },
   {
    "duration": 55,
    "start_time": "2021-12-22T14:53:44.065Z"
   },
   {
    "duration": 97,
    "start_time": "2021-12-22T14:53:44.516Z"
   },
   {
    "duration": 35,
    "start_time": "2021-12-22T14:53:45.555Z"
   },
   {
    "duration": 272,
    "start_time": "2021-12-22T14:53:46.482Z"
   },
   {
    "duration": 524,
    "start_time": "2021-12-22T14:55:11.887Z"
   },
   {
    "duration": 558,
    "start_time": "2021-12-22T14:55:56.687Z"
   },
   {
    "duration": 620,
    "start_time": "2021-12-22T14:56:06.075Z"
   },
   {
    "duration": 902,
    "start_time": "2021-12-22T14:56:45.932Z"
   },
   {
    "duration": 536,
    "start_time": "2021-12-22T14:57:01.121Z"
   },
   {
    "duration": 543,
    "start_time": "2021-12-22T14:58:06.108Z"
   },
   {
    "duration": 261,
    "start_time": "2021-12-22T14:58:23.462Z"
   },
   {
    "duration": 240,
    "start_time": "2021-12-22T14:58:34.107Z"
   },
   {
    "duration": 250,
    "start_time": "2021-12-22T14:58:43.852Z"
   },
   {
    "duration": 243,
    "start_time": "2021-12-22T14:58:47.321Z"
   },
   {
    "duration": 261,
    "start_time": "2021-12-22T14:58:48.609Z"
   },
   {
    "duration": 43,
    "start_time": "2021-12-22T14:58:49.985Z"
   },
   {
    "duration": 10,
    "start_time": "2021-12-22T14:58:50.892Z"
   },
   {
    "duration": 322,
    "start_time": "2021-12-22T14:59:47.683Z"
   },
   {
    "duration": 300,
    "start_time": "2021-12-22T15:00:06.735Z"
   },
   {
    "duration": 8,
    "start_time": "2021-12-22T15:00:16.714Z"
   },
   {
    "duration": 6,
    "start_time": "2021-12-22T15:01:05.644Z"
   },
   {
    "duration": 109,
    "start_time": "2021-12-22T15:01:43.245Z"
   },
   {
    "duration": 210,
    "start_time": "2021-12-22T15:01:56.145Z"
   },
   {
    "duration": 95,
    "start_time": "2021-12-22T15:02:04.455Z"
   },
   {
    "duration": 123,
    "start_time": "2021-12-22T15:02:13.284Z"
   },
   {
    "duration": 30,
    "start_time": "2021-12-22T15:03:00.784Z"
   },
   {
    "duration": 25,
    "start_time": "2021-12-22T15:03:27.149Z"
   },
   {
    "duration": 25,
    "start_time": "2021-12-22T15:03:31.542Z"
   },
   {
    "duration": 9,
    "start_time": "2021-12-22T15:04:12.867Z"
   },
   {
    "duration": 296,
    "start_time": "2021-12-22T15:04:48.003Z"
   },
   {
    "duration": 4,
    "start_time": "2021-12-22T15:05:06.395Z"
   },
   {
    "duration": 16,
    "start_time": "2021-12-22T15:05:12.293Z"
   },
   {
    "duration": 5055,
    "start_time": "2021-12-22T15:05:31.052Z"
   },
   {
    "duration": 5206,
    "start_time": "2021-12-22T15:05:43.567Z"
   },
   {
    "duration": 289,
    "start_time": "2021-12-22T15:06:17.812Z"
   },
   {
    "duration": 14,
    "start_time": "2021-12-22T15:06:37.196Z"
   },
   {
    "duration": 313,
    "start_time": "2021-12-22T15:06:47.198Z"
   },
   {
    "duration": 364,
    "start_time": "2021-12-22T15:06:57.205Z"
   },
   {
    "duration": 55,
    "start_time": "2021-12-22T15:06:58.327Z"
   },
   {
    "duration": 97,
    "start_time": "2021-12-22T15:06:58.956Z"
   },
   {
    "duration": 35,
    "start_time": "2021-12-22T15:06:59.416Z"
   },
   {
    "duration": 287,
    "start_time": "2021-12-22T15:06:59.865Z"
   },
   {
    "duration": 270,
    "start_time": "2021-12-22T15:07:00.325Z"
   },
   {
    "duration": 237,
    "start_time": "2021-12-22T15:07:00.784Z"
   },
   {
    "duration": 271,
    "start_time": "2021-12-22T15:07:01.208Z"
   },
   {
    "duration": 42,
    "start_time": "2021-12-22T15:07:01.774Z"
   },
   {
    "duration": 4,
    "start_time": "2021-12-22T15:07:07.704Z"
   },
   {
    "duration": 296,
    "start_time": "2021-12-22T15:12:03.362Z"
   },
   {
    "duration": 219,
    "start_time": "2021-12-22T15:12:22.643Z"
   },
   {
    "duration": 174,
    "start_time": "2021-12-22T15:12:58.042Z"
   },
   {
    "duration": 335,
    "start_time": "2021-12-22T15:14:36.957Z"
   },
   {
    "duration": 121,
    "start_time": "2021-12-22T15:15:35.734Z"
   },
   {
    "duration": 1804,
    "start_time": "2021-12-22T15:16:14.544Z"
   },
   {
    "duration": 152,
    "start_time": "2021-12-22T15:16:55.258Z"
   },
   {
    "duration": 24,
    "start_time": "2021-12-22T15:17:16.593Z"
   },
   {
    "duration": 1615,
    "start_time": "2021-12-22T15:17:42.320Z"
   },
   {
    "duration": 385,
    "start_time": "2021-12-22T15:18:19.932Z"
   },
   {
    "duration": 1142,
    "start_time": "2021-12-22T15:18:27.125Z"
   },
   {
    "duration": 287,
    "start_time": "2021-12-22T15:21:38.518Z"
   },
   {
    "duration": 292,
    "start_time": "2021-12-22T15:23:57.086Z"
   },
   {
    "duration": 533,
    "start_time": "2021-12-22T15:24:20.365Z"
   },
   {
    "duration": 449,
    "start_time": "2021-12-22T15:24:44.662Z"
   },
   {
    "duration": 305,
    "start_time": "2021-12-22T15:26:21.773Z"
   },
   {
    "duration": 296,
    "start_time": "2021-12-22T15:26:55.924Z"
   },
   {
    "duration": 423,
    "start_time": "2021-12-22T15:27:20.854Z"
   },
   {
    "duration": 294,
    "start_time": "2021-12-22T15:27:27.860Z"
   },
   {
    "duration": 411,
    "start_time": "2021-12-22T15:27:39.404Z"
   },
   {
    "duration": 187,
    "start_time": "2021-12-22T15:28:58.663Z"
   },
   {
    "duration": 589,
    "start_time": "2021-12-22T15:29:17.053Z"
   },
   {
    "duration": 393,
    "start_time": "2021-12-22T15:29:54.190Z"
   },
   {
    "duration": 100,
    "start_time": "2021-12-22T15:32:08.777Z"
   },
   {
    "duration": 473,
    "start_time": "2021-12-22T15:32:18.773Z"
   },
   {
    "duration": 291,
    "start_time": "2021-12-22T15:33:43.421Z"
   },
   {
    "duration": 288,
    "start_time": "2021-12-22T15:34:17.783Z"
   },
   {
    "duration": 104,
    "start_time": "2021-12-22T15:34:31.723Z"
   },
   {
    "duration": 149,
    "start_time": "2021-12-22T15:39:54.526Z"
   },
   {
    "duration": 108,
    "start_time": "2021-12-22T15:41:00.590Z"
   },
   {
    "duration": 112,
    "start_time": "2021-12-22T15:41:48.463Z"
   },
   {
    "duration": 304,
    "start_time": "2021-12-22T15:41:57.190Z"
   },
   {
    "duration": 1173,
    "start_time": "2021-12-22T15:42:05.561Z"
   },
   {
    "duration": 58,
    "start_time": "2021-12-22T15:42:06.736Z"
   },
   {
    "duration": 126,
    "start_time": "2021-12-22T15:42:06.797Z"
   },
   {
    "duration": 40,
    "start_time": "2021-12-22T15:42:06.925Z"
   },
   {
    "duration": 287,
    "start_time": "2021-12-22T15:42:06.967Z"
   },
   {
    "duration": 246,
    "start_time": "2021-12-22T15:42:07.256Z"
   },
   {
    "duration": 247,
    "start_time": "2021-12-22T15:42:07.505Z"
   },
   {
    "duration": 257,
    "start_time": "2021-12-22T15:42:07.905Z"
   },
   {
    "duration": 44,
    "start_time": "2021-12-22T15:42:11.422Z"
   },
   {
    "duration": 105,
    "start_time": "2021-12-22T15:42:15.451Z"
   },
   {
    "duration": 104,
    "start_time": "2021-12-22T15:42:26.591Z"
   },
   {
    "duration": 102,
    "start_time": "2021-12-22T15:43:34.482Z"
   },
   {
    "duration": 104,
    "start_time": "2021-12-22T15:43:55.014Z"
   },
   {
    "duration": 103,
    "start_time": "2021-12-22T15:44:18.188Z"
   },
   {
    "duration": 103,
    "start_time": "2021-12-22T15:44:25.672Z"
   },
   {
    "duration": 110,
    "start_time": "2021-12-22T15:44:39.664Z"
   },
   {
    "duration": 115,
    "start_time": "2021-12-22T15:46:59.656Z"
   },
   {
    "duration": 383,
    "start_time": "2021-12-22T15:47:06.122Z"
   },
   {
    "duration": 56,
    "start_time": "2021-12-22T15:47:07.134Z"
   },
   {
    "duration": 100,
    "start_time": "2021-12-22T15:47:07.876Z"
   },
   {
    "duration": 33,
    "start_time": "2021-12-22T15:47:08.648Z"
   },
   {
    "duration": 297,
    "start_time": "2021-12-22T15:47:09.312Z"
   },
   {
    "duration": 257,
    "start_time": "2021-12-22T15:47:10.050Z"
   },
   {
    "duration": 240,
    "start_time": "2021-12-22T15:47:10.922Z"
   },
   {
    "duration": 304,
    "start_time": "2021-12-22T15:47:11.869Z"
   },
   {
    "duration": 46,
    "start_time": "2021-12-22T15:47:12.766Z"
   },
   {
    "duration": 101,
    "start_time": "2021-12-22T15:47:13.657Z"
   },
   {
    "duration": 107,
    "start_time": "2021-12-22T15:51:13.137Z"
   },
   {
    "duration": 104,
    "start_time": "2021-12-22T15:52:58.935Z"
   },
   {
    "duration": 109,
    "start_time": "2021-12-22T15:53:34.387Z"
   },
   {
    "duration": 111,
    "start_time": "2021-12-22T15:54:40.776Z"
   },
   {
    "duration": 100,
    "start_time": "2021-12-22T15:55:07.503Z"
   },
   {
    "duration": 86,
    "start_time": "2021-12-22T15:55:22.617Z"
   },
   {
    "duration": 79,
    "start_time": "2021-12-22T15:55:25.890Z"
   },
   {
    "duration": 90,
    "start_time": "2021-12-22T15:55:32.303Z"
   },
   {
    "duration": 962,
    "start_time": "2021-12-22T15:55:56.012Z"
   },
   {
    "duration": 162,
    "start_time": "2021-12-22T15:56:22.766Z"
   },
   {
    "duration": 102,
    "start_time": "2021-12-22T15:56:32.227Z"
   },
   {
    "duration": 96,
    "start_time": "2021-12-22T15:56:37.347Z"
   },
   {
    "duration": 107,
    "start_time": "2021-12-22T15:56:45.987Z"
   },
   {
    "duration": 87,
    "start_time": "2021-12-22T15:58:35.567Z"
   },
   {
    "duration": 90,
    "start_time": "2021-12-22T15:58:39.255Z"
   },
   {
    "duration": 80,
    "start_time": "2021-12-22T16:00:13.428Z"
   },
   {
    "duration": 82,
    "start_time": "2021-12-22T16:00:21.029Z"
   },
   {
    "duration": 126,
    "start_time": "2021-12-22T16:00:37.640Z"
   },
   {
    "duration": 84,
    "start_time": "2021-12-22T16:00:43.200Z"
   },
   {
    "duration": 81,
    "start_time": "2021-12-22T16:01:11.990Z"
   },
   {
    "duration": 1017,
    "start_time": "2021-12-22T16:02:20.649Z"
   },
   {
    "duration": 1004,
    "start_time": "2021-12-22T16:02:25.481Z"
   },
   {
    "duration": 1351,
    "start_time": "2021-12-22T16:03:23.375Z"
   },
   {
    "duration": 4354,
    "start_time": "2021-12-22T16:04:25.295Z"
   },
   {
    "duration": 4771,
    "start_time": "2021-12-22T16:04:38.404Z"
   },
   {
    "duration": 388,
    "start_time": "2021-12-22T16:05:48.178Z"
   },
   {
    "duration": 57,
    "start_time": "2021-12-22T16:05:48.687Z"
   },
   {
    "duration": 108,
    "start_time": "2021-12-22T16:05:49.097Z"
   },
   {
    "duration": 33,
    "start_time": "2021-12-22T16:05:49.477Z"
   },
   {
    "duration": 275,
    "start_time": "2021-12-22T16:05:49.874Z"
   },
   {
    "duration": 254,
    "start_time": "2021-12-22T16:05:50.438Z"
   },
   {
    "duration": 255,
    "start_time": "2021-12-22T16:05:51.109Z"
   },
   {
    "duration": 291,
    "start_time": "2021-12-22T16:05:51.698Z"
   },
   {
    "duration": 48,
    "start_time": "2021-12-22T16:05:52.895Z"
   },
   {
    "duration": 142,
    "start_time": "2021-12-22T16:05:53.596Z"
   },
   {
    "duration": 101,
    "start_time": "2021-12-22T16:06:30.611Z"
   },
   {
    "duration": 105,
    "start_time": "2021-12-22T16:06:38.716Z"
   },
   {
    "duration": 317,
    "start_time": "2021-12-22T16:06:43.733Z"
   },
   {
    "duration": 4255,
    "start_time": "2021-12-22T16:18:23.864Z"
   },
   {
    "duration": 3850,
    "start_time": "2021-12-22T16:19:46.117Z"
   },
   {
    "duration": 3706,
    "start_time": "2021-12-22T16:20:16.194Z"
   },
   {
    "duration": 409,
    "start_time": "2021-12-22T16:20:28.909Z"
   },
   {
    "duration": 56,
    "start_time": "2021-12-22T16:20:29.766Z"
   },
   {
    "duration": 102,
    "start_time": "2021-12-22T16:20:30.279Z"
   },
   {
    "duration": 35,
    "start_time": "2021-12-22T16:20:30.773Z"
   },
   {
    "duration": 270,
    "start_time": "2021-12-22T16:20:31.258Z"
   },
   {
    "duration": 243,
    "start_time": "2021-12-22T16:20:31.896Z"
   },
   {
    "duration": 239,
    "start_time": "2021-12-22T16:20:32.487Z"
   },
   {
    "duration": 264,
    "start_time": "2021-12-22T16:20:32.984Z"
   },
   {
    "duration": 45,
    "start_time": "2021-12-22T16:20:33.662Z"
   },
   {
    "duration": 3988,
    "start_time": "2021-12-22T16:20:34.308Z"
   },
   {
    "duration": 3441,
    "start_time": "2021-12-22T16:21:34.123Z"
   },
   {
    "duration": 3444,
    "start_time": "2021-12-22T16:22:08.382Z"
   },
   {
    "duration": 558,
    "start_time": "2021-12-22T16:23:13.409Z"
   },
   {
    "duration": 72,
    "start_time": "2021-12-22T16:23:13.970Z"
   },
   {
    "duration": 720,
    "start_time": "2021-12-22T16:23:14.044Z"
   },
   {
    "duration": 42,
    "start_time": "2021-12-22T16:23:14.767Z"
   },
   {
    "duration": 306,
    "start_time": "2021-12-22T16:23:14.812Z"
   },
   {
    "duration": 303,
    "start_time": "2021-12-22T16:23:15.122Z"
   },
   {
    "duration": 303,
    "start_time": "2021-12-22T16:23:15.428Z"
   },
   {
    "duration": 293,
    "start_time": "2021-12-22T16:23:15.734Z"
   },
   {
    "duration": 57,
    "start_time": "2021-12-22T16:23:16.029Z"
   },
   {
    "duration": 106,
    "start_time": "2021-12-22T16:23:16.090Z"
   },
   {
    "duration": 5628,
    "start_time": "2021-12-22T16:57:30.735Z"
   },
   {
    "duration": 29,
    "start_time": "2021-12-22T16:57:38.821Z"
   },
   {
    "duration": 1164,
    "start_time": "2021-12-22T16:58:59.626Z"
   },
   {
    "duration": 29,
    "start_time": "2021-12-22T16:59:02.921Z"
   },
   {
    "duration": 9,
    "start_time": "2021-12-22T16:59:21.270Z"
   },
   {
    "duration": 375,
    "start_time": "2021-12-22T16:59:30.193Z"
   },
   {
    "duration": 313,
    "start_time": "2021-12-22T16:59:35.922Z"
   },
   {
    "duration": 16,
    "start_time": "2021-12-22T16:59:59.154Z"
   },
   {
    "duration": 250,
    "start_time": "2021-12-22T17:00:50.803Z"
   },
   {
    "duration": 29,
    "start_time": "2021-12-22T17:00:55.054Z"
   },
   {
    "duration": 4,
    "start_time": "2021-12-22T17:07:44.510Z"
   },
   {
    "duration": 7,
    "start_time": "2021-12-22T17:07:52.407Z"
   },
   {
    "duration": 637,
    "start_time": "2021-12-22T17:08:17.336Z"
   },
   {
    "duration": 4,
    "start_time": "2021-12-22T17:08:42.111Z"
   },
   {
    "duration": 589,
    "start_time": "2021-12-22T17:08:44.063Z"
   },
   {
    "duration": 4,
    "start_time": "2021-12-22T17:09:33.286Z"
   },
   {
    "duration": 573,
    "start_time": "2021-12-22T17:09:39.426Z"
   },
   {
    "duration": 1418,
    "start_time": "2021-12-22T17:09:55.589Z"
   },
   {
    "duration": 755,
    "start_time": "2021-12-22T17:10:38.296Z"
   },
   {
    "duration": 9,
    "start_time": "2021-12-22T17:11:23.256Z"
   },
   {
    "duration": 4,
    "start_time": "2021-12-22T17:12:14.702Z"
   },
   {
    "duration": 571,
    "start_time": "2021-12-22T17:12:17.634Z"
   },
   {
    "duration": 4,
    "start_time": "2021-12-22T17:12:47.909Z"
   },
   {
    "duration": 582,
    "start_time": "2021-12-22T17:12:51.544Z"
   },
   {
    "duration": 3,
    "start_time": "2021-12-22T17:13:13.151Z"
   },
   {
    "duration": 735,
    "start_time": "2021-12-22T17:13:14.543Z"
   },
   {
    "duration": 4,
    "start_time": "2021-12-22T17:13:38.173Z"
   },
   {
    "duration": 10,
    "start_time": "2021-12-22T17:13:39.061Z"
   },
   {
    "duration": 33,
    "start_time": "2021-12-22T17:13:44.141Z"
   },
   {
    "duration": 425,
    "start_time": "2021-12-22T17:13:51.346Z"
   },
   {
    "duration": 73,
    "start_time": "2021-12-22T17:13:51.775Z"
   },
   {
    "duration": 114,
    "start_time": "2021-12-22T17:13:51.863Z"
   },
   {
    "duration": 47,
    "start_time": "2021-12-22T17:13:51.985Z"
   },
   {
    "duration": 284,
    "start_time": "2021-12-22T17:13:52.144Z"
   },
   {
    "duration": 261,
    "start_time": "2021-12-22T17:13:52.431Z"
   },
   {
    "duration": 305,
    "start_time": "2021-12-22T17:13:52.695Z"
   },
   {
    "duration": 293,
    "start_time": "2021-12-22T17:13:53.003Z"
   },
   {
    "duration": 64,
    "start_time": "2021-12-22T17:13:53.299Z"
   },
   {
    "duration": 4,
    "start_time": "2021-12-22T17:13:53.365Z"
   },
   {
    "duration": 8,
    "start_time": "2021-12-22T17:13:53.792Z"
   },
   {
    "duration": 34,
    "start_time": "2021-12-22T17:13:54.782Z"
   },
   {
    "duration": 5,
    "start_time": "2021-12-22T17:14:58.382Z"
   },
   {
    "duration": 1329,
    "start_time": "2021-12-22T17:14:59.433Z"
   },
   {
    "duration": 5,
    "start_time": "2021-12-22T17:16:16.032Z"
   },
   {
    "duration": 1376,
    "start_time": "2021-12-22T17:16:17.904Z"
   },
   {
    "duration": 3,
    "start_time": "2021-12-22T17:17:39.654Z"
   },
   {
    "duration": 588,
    "start_time": "2021-12-22T17:17:40.723Z"
   },
   {
    "duration": 4,
    "start_time": "2021-12-22T17:18:10.797Z"
   },
   {
    "duration": 600,
    "start_time": "2021-12-22T17:18:11.883Z"
   },
   {
    "duration": 4,
    "start_time": "2021-12-22T17:18:26.332Z"
   },
   {
    "duration": 1174,
    "start_time": "2021-12-22T17:18:27.293Z"
   },
   {
    "duration": 5,
    "start_time": "2021-12-22T17:21:21.175Z"
   },
   {
    "duration": 9,
    "start_time": "2021-12-22T17:21:23.381Z"
   },
   {
    "duration": 23,
    "start_time": "2021-12-22T17:21:26.604Z"
   },
   {
    "duration": 15,
    "start_time": "2021-12-22T17:21:46.713Z"
   },
   {
    "duration": 4,
    "start_time": "2021-12-22T17:22:03.413Z"
   },
   {
    "duration": 7,
    "start_time": "2021-12-22T17:22:04.058Z"
   },
   {
    "duration": 15,
    "start_time": "2021-12-22T17:22:04.575Z"
   },
   {
    "duration": 5,
    "start_time": "2021-12-22T17:27:28.222Z"
   },
   {
    "duration": 633,
    "start_time": "2021-12-22T17:27:28.867Z"
   },
   {
    "duration": 13,
    "start_time": "2021-12-22T17:27:29.869Z"
   },
   {
    "duration": 4,
    "start_time": "2021-12-22T17:28:01.064Z"
   },
   {
    "duration": 8,
    "start_time": "2021-12-22T17:28:02.280Z"
   },
   {
    "duration": 14,
    "start_time": "2021-12-22T17:28:04.134Z"
   },
   {
    "duration": 22,
    "start_time": "2021-12-22T17:29:13.095Z"
   },
   {
    "duration": 96,
    "start_time": "2021-12-22T17:29:18.683Z"
   },
   {
    "duration": 13,
    "start_time": "2021-12-22T17:29:22.974Z"
   },
   {
    "duration": 5,
    "start_time": "2021-12-22T17:31:09.257Z"
   },
   {
    "duration": 1101,
    "start_time": "2021-12-22T17:31:09.876Z"
   },
   {
    "duration": 4,
    "start_time": "2021-12-22T17:31:20.638Z"
   },
   {
    "duration": 953,
    "start_time": "2021-12-22T17:31:22.673Z"
   },
   {
    "duration": 22,
    "start_time": "2021-12-22T17:31:34.088Z"
   },
   {
    "duration": 7,
    "start_time": "2021-12-22T17:31:34.963Z"
   },
   {
    "duration": 15,
    "start_time": "2021-12-22T17:31:35.957Z"
   },
   {
    "duration": 4,
    "start_time": "2021-12-22T17:31:59.574Z"
   },
   {
    "duration": 77,
    "start_time": "2021-12-22T17:32:00.494Z"
   },
   {
    "duration": 4,
    "start_time": "2021-12-22T17:33:11.334Z"
   },
   {
    "duration": 9,
    "start_time": "2021-12-22T17:33:12.657Z"
   },
   {
    "duration": 13,
    "start_time": "2021-12-22T17:33:13.781Z"
   },
   {
    "duration": 24,
    "start_time": "2021-12-22T17:33:19.403Z"
   },
   {
    "duration": 6,
    "start_time": "2021-12-22T17:42:22.595Z"
   },
   {
    "duration": 627,
    "start_time": "2021-12-22T17:42:50.054Z"
   },
   {
    "duration": 285,
    "start_time": "2021-12-22T17:44:36.943Z"
   },
   {
    "duration": 278,
    "start_time": "2021-12-22T17:45:24.463Z"
   },
   {
    "duration": 381,
    "start_time": "2021-12-22T17:45:32.423Z"
   },
   {
    "duration": 286,
    "start_time": "2021-12-22T17:45:43.263Z"
   },
   {
    "duration": 282,
    "start_time": "2021-12-22T17:46:09.525Z"
   },
   {
    "duration": 289,
    "start_time": "2021-12-22T17:46:23.154Z"
   },
   {
    "duration": 1947,
    "start_time": "2021-12-22T17:47:31.863Z"
   },
   {
    "duration": 1962,
    "start_time": "2021-12-22T17:47:35.253Z"
   },
   {
    "duration": 156,
    "start_time": "2021-12-22T17:48:23.847Z"
   },
   {
    "duration": 168,
    "start_time": "2021-12-22T17:48:45.996Z"
   },
   {
    "duration": 2244,
    "start_time": "2021-12-22T17:52:49.083Z"
   },
   {
    "duration": 1113,
    "start_time": "2021-12-22T17:53:25.873Z"
   },
   {
    "duration": 466,
    "start_time": "2021-12-22T17:54:36.952Z"
   },
   {
    "duration": 118,
    "start_time": "2021-12-22T17:56:19.124Z"
   },
   {
    "duration": 88,
    "start_time": "2021-12-22T18:01:02.283Z"
   },
   {
    "duration": 6,
    "start_time": "2021-12-22T18:01:06.560Z"
   },
   {
    "duration": 112,
    "start_time": "2021-12-22T18:01:21.529Z"
   },
   {
    "duration": 10,
    "start_time": "2021-12-22T18:01:22.979Z"
   },
   {
    "duration": 288,
    "start_time": "2021-12-22T18:02:50.484Z"
   },
   {
    "duration": 5,
    "start_time": "2021-12-22T18:02:51.363Z"
   },
   {
    "duration": 117,
    "start_time": "2021-12-22T18:07:01.314Z"
   },
   {
    "duration": 152,
    "start_time": "2021-12-22T18:09:23.513Z"
   },
   {
    "duration": 5,
    "start_time": "2021-12-22T18:10:32.564Z"
   },
   {
    "duration": 574,
    "start_time": "2021-12-22T18:10:57.870Z"
   },
   {
    "duration": 5,
    "start_time": "2021-12-22T18:11:15.959Z"
   },
   {
    "duration": 1441,
    "start_time": "2021-12-22T18:11:20.013Z"
   },
   {
    "duration": 203,
    "start_time": "2021-12-22T18:12:51.025Z"
   },
   {
    "duration": 27,
    "start_time": "2021-12-22T18:12:55.944Z"
   },
   {
    "duration": 323,
    "start_time": "2021-12-22T18:13:11.344Z"
   },
   {
    "duration": 37,
    "start_time": "2021-12-22T18:13:12.443Z"
   },
   {
    "duration": 411,
    "start_time": "2021-12-22T18:13:23.822Z"
   },
   {
    "duration": 64,
    "start_time": "2021-12-22T18:13:24.236Z"
   },
   {
    "duration": 165,
    "start_time": "2021-12-22T18:13:24.303Z"
   },
   {
    "duration": 36,
    "start_time": "2021-12-22T18:13:24.471Z"
   },
   {
    "duration": 277,
    "start_time": "2021-12-22T18:13:24.575Z"
   },
   {
    "duration": 288,
    "start_time": "2021-12-22T18:13:24.855Z"
   },
   {
    "duration": 260,
    "start_time": "2021-12-22T18:13:25.146Z"
   },
   {
    "duration": 282,
    "start_time": "2021-12-22T18:13:25.409Z"
   },
   {
    "duration": 42,
    "start_time": "2021-12-22T18:13:25.694Z"
   },
   {
    "duration": 319,
    "start_time": "2021-12-22T18:13:25.835Z"
   },
   {
    "duration": 32,
    "start_time": "2021-12-22T18:13:26.194Z"
   },
   {
    "duration": 350,
    "start_time": "2021-12-22T18:13:47.219Z"
   },
   {
    "duration": 31,
    "start_time": "2021-12-22T18:13:48.643Z"
   },
   {
    "duration": 378,
    "start_time": "2021-12-22T18:14:04.253Z"
   },
   {
    "duration": 64,
    "start_time": "2021-12-22T18:14:04.634Z"
   },
   {
    "duration": 117,
    "start_time": "2021-12-22T18:14:04.700Z"
   },
   {
    "duration": 45,
    "start_time": "2021-12-22T18:14:04.820Z"
   },
   {
    "duration": 281,
    "start_time": "2021-12-22T18:14:05.065Z"
   },
   {
    "duration": 305,
    "start_time": "2021-12-22T18:14:05.348Z"
   },
   {
    "duration": 253,
    "start_time": "2021-12-22T18:14:05.657Z"
   },
   {
    "duration": 281,
    "start_time": "2021-12-22T18:14:05.913Z"
   },
   {
    "duration": 43,
    "start_time": "2021-12-22T18:14:06.196Z"
   },
   {
    "duration": 421,
    "start_time": "2021-12-22T18:14:06.242Z"
   },
   {
    "duration": 32,
    "start_time": "2021-12-22T18:14:06.666Z"
   },
   {
    "duration": 756,
    "start_time": "2021-12-22T18:15:01.929Z"
   },
   {
    "duration": 23,
    "start_time": "2021-12-22T18:15:04.834Z"
   },
   {
    "duration": 790,
    "start_time": "2021-12-22T18:18:39.335Z"
   },
   {
    "duration": 24,
    "start_time": "2021-12-22T18:18:41.334Z"
   },
   {
    "duration": 932,
    "start_time": "2021-12-22T18:19:46.717Z"
   },
   {
    "duration": 23,
    "start_time": "2021-12-22T18:19:48.591Z"
   },
   {
    "duration": 1373,
    "start_time": "2021-12-22T18:21:30.807Z"
   },
   {
    "duration": 28,
    "start_time": "2021-12-22T18:21:33.283Z"
   },
   {
    "duration": 5886,
    "start_time": "2021-12-22T18:29:48.654Z"
   },
   {
    "duration": 42,
    "start_time": "2021-12-22T18:29:54.543Z"
   },
   {
    "duration": 340,
    "start_time": "2021-12-22T18:30:33.913Z"
   },
   {
    "duration": 40,
    "start_time": "2021-12-22T18:31:15.832Z"
   },
   {
    "duration": 38,
    "start_time": "2021-12-22T18:39:12.891Z"
   },
   {
    "duration": 18,
    "start_time": "2021-12-22T18:39:50.465Z"
   },
   {
    "duration": 36,
    "start_time": "2021-12-22T18:40:12.258Z"
   },
   {
    "duration": 9,
    "start_time": "2021-12-22T18:42:14.671Z"
   },
   {
    "duration": 7,
    "start_time": "2021-12-22T18:42:34.042Z"
   },
   {
    "duration": 48,
    "start_time": "2021-12-22T18:42:50.387Z"
   },
   {
    "duration": 343,
    "start_time": "2021-12-22T18:43:40.477Z"
   },
   {
    "duration": 54,
    "start_time": "2021-12-22T18:43:42.554Z"
   },
   {
    "duration": 103,
    "start_time": "2021-12-22T18:43:44.148Z"
   },
   {
    "duration": 33,
    "start_time": "2021-12-22T18:43:45.747Z"
   },
   {
    "duration": 274,
    "start_time": "2021-12-22T18:43:46.569Z"
   },
   {
    "duration": 245,
    "start_time": "2021-12-22T18:43:47.619Z"
   },
   {
    "duration": 242,
    "start_time": "2021-12-22T18:43:48.502Z"
   },
   {
    "duration": 280,
    "start_time": "2021-12-22T18:43:49.086Z"
   },
   {
    "duration": 45,
    "start_time": "2021-12-22T18:43:50.145Z"
   },
   {
    "duration": 5256,
    "start_time": "2021-12-22T18:43:50.978Z"
   },
   {
    "duration": 46,
    "start_time": "2021-12-22T18:43:56.237Z"
   },
   {
    "duration": 21,
    "start_time": "2021-12-22T18:45:16.776Z"
   },
   {
    "duration": 28,
    "start_time": "2021-12-22T18:45:37.029Z"
   },
   {
    "duration": 19,
    "start_time": "2021-12-22T18:46:13.613Z"
   },
   {
    "duration": 6309,
    "start_time": "2021-12-22T18:46:53.106Z"
   },
   {
    "duration": 12,
    "start_time": "2021-12-22T18:47:10.765Z"
   },
   {
    "duration": 16,
    "start_time": "2021-12-22T18:51:07.912Z"
   },
   {
    "duration": 10,
    "start_time": "2021-12-22T18:51:52.116Z"
   },
   {
    "duration": 6,
    "start_time": "2021-12-22T18:52:03.755Z"
   },
   {
    "duration": 12,
    "start_time": "2021-12-22T18:52:09.558Z"
   },
   {
    "duration": 5114,
    "start_time": "2021-12-22T18:52:54.261Z"
   },
   {
    "duration": 12,
    "start_time": "2021-12-22T18:52:59.377Z"
   },
   {
    "duration": 5899,
    "start_time": "2021-12-22T18:54:13.786Z"
   },
   {
    "duration": 15,
    "start_time": "2021-12-22T18:54:19.688Z"
   },
   {
    "duration": 1597,
    "start_time": "2021-12-23T08:28:43.517Z"
   },
   {
    "duration": 37,
    "start_time": "2021-12-23T08:28:45.116Z"
   },
   {
    "duration": 68,
    "start_time": "2021-12-23T08:28:46.453Z"
   },
   {
    "duration": 23,
    "start_time": "2021-12-23T08:28:47.530Z"
   },
   {
    "duration": 175,
    "start_time": "2021-12-23T08:28:48.564Z"
   },
   {
    "duration": 145,
    "start_time": "2021-12-23T08:28:50.193Z"
   },
   {
    "duration": 138,
    "start_time": "2021-12-23T08:28:51.170Z"
   },
   {
    "duration": 217,
    "start_time": "2021-12-23T08:28:52.273Z"
   },
   {
    "duration": 36,
    "start_time": "2021-12-23T08:28:52.945Z"
   },
   {
    "duration": 3839,
    "start_time": "2021-12-23T08:28:53.669Z"
   },
   {
    "duration": 10,
    "start_time": "2021-12-23T08:28:57.510Z"
   },
   {
    "duration": 4040,
    "start_time": "2021-12-23T08:30:47.948Z"
   },
   {
    "duration": 10,
    "start_time": "2021-12-23T08:30:51.990Z"
   },
   {
    "duration": 3834,
    "start_time": "2021-12-23T08:31:51.572Z"
   },
   {
    "duration": 10,
    "start_time": "2021-12-23T08:31:55.408Z"
   },
   {
    "duration": 4039,
    "start_time": "2021-12-23T08:33:58.979Z"
   },
   {
    "duration": 10,
    "start_time": "2021-12-23T08:34:03.021Z"
   },
   {
    "duration": 20,
    "start_time": "2021-12-23T08:34:16.234Z"
   },
   {
    "duration": 22,
    "start_time": "2021-12-23T08:40:57.392Z"
   },
   {
    "duration": 28,
    "start_time": "2021-12-23T08:41:23.917Z"
   },
   {
    "duration": 25,
    "start_time": "2021-12-23T08:44:04.109Z"
   },
   {
    "duration": 22,
    "start_time": "2021-12-23T08:44:23.478Z"
   },
   {
    "duration": 30,
    "start_time": "2021-12-23T08:46:16.653Z"
   },
   {
    "duration": 2818,
    "start_time": "2021-12-23T08:50:07.235Z"
   },
   {
    "duration": 42,
    "start_time": "2021-12-23T08:50:11.405Z"
   },
   {
    "duration": 22,
    "start_time": "2021-12-23T08:50:31.366Z"
   },
   {
    "duration": 342,
    "start_time": "2021-12-23T09:14:11.533Z"
   },
   {
    "duration": 22,
    "start_time": "2021-12-23T09:15:57.526Z"
   },
   {
    "duration": 257,
    "start_time": "2021-12-23T09:18:09.867Z"
   },
   {
    "duration": 26,
    "start_time": "2021-12-23T09:18:25.546Z"
   },
   {
    "duration": 242,
    "start_time": "2021-12-23T09:20:46.026Z"
   },
   {
    "duration": 490,
    "start_time": "2021-12-23T09:23:35.244Z"
   },
   {
    "duration": 9,
    "start_time": "2021-12-23T09:23:42.203Z"
   },
   {
    "duration": 8,
    "start_time": "2021-12-23T09:30:24.413Z"
   },
   {
    "duration": 18,
    "start_time": "2021-12-23T09:35:01.541Z"
   },
   {
    "duration": 8,
    "start_time": "2021-12-23T09:35:39.294Z"
   },
   {
    "duration": 2,
    "start_time": "2021-12-23T09:35:47.027Z"
   },
   {
    "duration": 20,
    "start_time": "2021-12-23T09:41:40.953Z"
   },
   {
    "duration": 9,
    "start_time": "2021-12-23T09:51:42.549Z"
   },
   {
    "duration": 1810,
    "start_time": "2021-12-23T09:53:19.283Z"
   },
   {
    "duration": 626,
    "start_time": "2021-12-23T09:53:31.327Z"
   },
   {
    "duration": 13,
    "start_time": "2021-12-23T09:54:15.134Z"
   },
   {
    "duration": 14,
    "start_time": "2021-12-23T09:54:30.817Z"
   },
   {
    "duration": 7,
    "start_time": "2021-12-23T09:56:06.959Z"
   },
   {
    "duration": 460,
    "start_time": "2021-12-23T10:09:11.335Z"
   },
   {
    "duration": 16,
    "start_time": "2021-12-23T10:09:15.326Z"
   },
   {
    "duration": 15,
    "start_time": "2021-12-23T10:09:36.423Z"
   },
   {
    "duration": 14,
    "start_time": "2021-12-23T10:10:47.723Z"
   },
   {
    "duration": 21,
    "start_time": "2021-12-23T10:13:28.131Z"
   },
   {
    "duration": 291,
    "start_time": "2021-12-23T10:15:02.599Z"
   },
   {
    "duration": 274,
    "start_time": "2021-12-23T10:15:56.658Z"
   },
   {
    "duration": 358,
    "start_time": "2021-12-23T10:16:10.243Z"
   },
   {
    "duration": 54,
    "start_time": "2021-12-23T10:16:11.123Z"
   },
   {
    "duration": 104,
    "start_time": "2021-12-23T10:16:11.902Z"
   },
   {
    "duration": 28,
    "start_time": "2021-12-23T10:16:12.663Z"
   },
   {
    "duration": 216,
    "start_time": "2021-12-23T10:16:13.244Z"
   },
   {
    "duration": 253,
    "start_time": "2021-12-23T10:16:13.843Z"
   },
   {
    "duration": 182,
    "start_time": "2021-12-23T10:16:14.506Z"
   },
   {
    "duration": 266,
    "start_time": "2021-12-23T10:16:15.445Z"
   },
   {
    "duration": 27,
    "start_time": "2021-12-23T10:16:16.254Z"
   },
   {
    "duration": 3405,
    "start_time": "2021-12-23T10:16:17.225Z"
   },
   {
    "duration": 29,
    "start_time": "2021-12-23T10:16:20.632Z"
   },
   {
    "duration": 8,
    "start_time": "2021-12-23T10:16:22.083Z"
   },
   {
    "duration": 19,
    "start_time": "2021-12-23T10:16:30.753Z"
   },
   {
    "duration": 268,
    "start_time": "2021-12-23T10:16:39.612Z"
   },
   {
    "duration": 7,
    "start_time": "2021-12-23T10:16:48.732Z"
   },
   {
    "duration": 259,
    "start_time": "2021-12-23T10:17:49.791Z"
   },
   {
    "duration": 23,
    "start_time": "2021-12-23T10:18:00.403Z"
   },
   {
    "duration": 321,
    "start_time": "2021-12-23T10:18:23.961Z"
   },
   {
    "duration": 408,
    "start_time": "2021-12-23T10:18:29.942Z"
   },
   {
    "duration": 44,
    "start_time": "2021-12-23T10:18:30.721Z"
   },
   {
    "duration": 107,
    "start_time": "2021-12-23T10:18:31.454Z"
   },
   {
    "duration": 33,
    "start_time": "2021-12-23T10:18:31.948Z"
   },
   {
    "duration": 189,
    "start_time": "2021-12-23T10:18:33.010Z"
   },
   {
    "duration": 195,
    "start_time": "2021-12-23T10:18:33.402Z"
   },
   {
    "duration": 163,
    "start_time": "2021-12-23T10:18:33.989Z"
   },
   {
    "duration": 205,
    "start_time": "2021-12-23T10:18:34.593Z"
   },
   {
    "duration": 34,
    "start_time": "2021-12-23T10:18:35.202Z"
   },
   {
    "duration": 3443,
    "start_time": "2021-12-23T10:18:35.956Z"
   },
   {
    "duration": 25,
    "start_time": "2021-12-23T10:18:39.402Z"
   },
   {
    "duration": 17,
    "start_time": "2021-12-23T10:18:39.429Z"
   },
   {
    "duration": 20,
    "start_time": "2021-12-23T10:18:44.793Z"
   },
   {
    "duration": 18,
    "start_time": "2021-12-23T10:19:13.303Z"
   },
   {
    "duration": 297,
    "start_time": "2021-12-23T10:20:46.571Z"
   },
   {
    "duration": 249,
    "start_time": "2021-12-23T10:20:52.382Z"
   },
   {
    "duration": 19,
    "start_time": "2021-12-23T10:21:07.481Z"
   },
   {
    "duration": 22,
    "start_time": "2021-12-23T10:21:55.311Z"
   },
   {
    "duration": 335,
    "start_time": "2021-12-23T10:22:18.182Z"
   },
   {
    "duration": 46,
    "start_time": "2021-12-23T10:22:18.615Z"
   },
   {
    "duration": 85,
    "start_time": "2021-12-23T10:22:18.913Z"
   },
   {
    "duration": 30,
    "start_time": "2021-12-23T10:22:19.107Z"
   },
   {
    "duration": 256,
    "start_time": "2021-12-23T10:22:19.319Z"
   },
   {
    "duration": 194,
    "start_time": "2021-12-23T10:22:19.577Z"
   },
   {
    "duration": 212,
    "start_time": "2021-12-23T10:22:19.773Z"
   },
   {
    "duration": 235,
    "start_time": "2021-12-23T10:22:19.988Z"
   },
   {
    "duration": 49,
    "start_time": "2021-12-23T10:22:20.225Z"
   },
   {
    "duration": 3435,
    "start_time": "2021-12-23T10:22:20.276Z"
   },
   {
    "duration": 33,
    "start_time": "2021-12-23T10:22:23.713Z"
   },
   {
    "duration": 9,
    "start_time": "2021-12-23T10:22:31.383Z"
   },
   {
    "duration": 14,
    "start_time": "2021-12-23T10:22:34.094Z"
   },
   {
    "duration": 10,
    "start_time": "2021-12-23T10:23:38.458Z"
   },
   {
    "duration": 386,
    "start_time": "2021-12-23T10:23:44.279Z"
   },
   {
    "duration": 64,
    "start_time": "2021-12-23T10:23:45.113Z"
   },
   {
    "duration": 84,
    "start_time": "2021-12-23T10:23:45.827Z"
   },
   {
    "duration": 36,
    "start_time": "2021-12-23T10:23:46.593Z"
   },
   {
    "duration": 241,
    "start_time": "2021-12-23T10:23:47.926Z"
   },
   {
    "duration": 206,
    "start_time": "2021-12-23T10:23:48.579Z"
   },
   {
    "duration": 213,
    "start_time": "2021-12-23T10:23:49.307Z"
   },
   {
    "duration": 194,
    "start_time": "2021-12-23T10:23:49.855Z"
   },
   {
    "duration": 28,
    "start_time": "2021-12-23T10:23:50.453Z"
   },
   {
    "duration": 3670,
    "start_time": "2021-12-23T10:23:51.110Z"
   },
   {
    "duration": 17,
    "start_time": "2021-12-23T10:23:54.782Z"
   },
   {
    "duration": 14,
    "start_time": "2021-12-23T10:23:54.802Z"
   },
   {
    "duration": 14,
    "start_time": "2021-12-23T10:23:55.154Z"
   },
   {
    "duration": 21,
    "start_time": "2021-12-23T10:24:13.432Z"
   },
   {
    "duration": 27,
    "start_time": "2021-12-23T10:24:26.381Z"
   },
   {
    "duration": 335,
    "start_time": "2021-12-23T11:56:50.171Z"
   },
   {
    "duration": 54,
    "start_time": "2021-12-23T11:56:50.890Z"
   },
   {
    "duration": 71,
    "start_time": "2021-12-23T11:56:51.644Z"
   },
   {
    "duration": 41,
    "start_time": "2021-12-23T11:56:52.278Z"
   },
   {
    "duration": 251,
    "start_time": "2021-12-23T11:56:57.622Z"
   },
   {
    "duration": 234,
    "start_time": "2021-12-23T11:56:58.470Z"
   },
   {
    "duration": 242,
    "start_time": "2021-12-23T11:56:59.254Z"
   },
   {
    "duration": 254,
    "start_time": "2021-12-23T11:56:59.972Z"
   },
   {
    "duration": 42,
    "start_time": "2021-12-23T11:57:00.736Z"
   },
   {
    "duration": 3592,
    "start_time": "2021-12-23T11:57:01.506Z"
   },
   {
    "duration": 26,
    "start_time": "2021-12-23T11:57:05.100Z"
   },
   {
    "duration": 7,
    "start_time": "2021-12-23T11:57:09.415Z"
   },
   {
    "duration": 26,
    "start_time": "2021-12-23T11:57:10.947Z"
   },
   {
    "duration": 279,
    "start_time": "2021-12-23T12:07:30.524Z"
   },
   {
    "duration": 115,
    "start_time": "2021-12-23T12:08:36.473Z"
   },
   {
    "duration": 249,
    "start_time": "2021-12-23T12:09:23.836Z"
   },
   {
    "duration": 1322,
    "start_time": "2021-12-23T12:09:49.901Z"
   },
   {
    "duration": 1089,
    "start_time": "2021-12-23T12:11:25.404Z"
   },
   {
    "duration": 1074,
    "start_time": "2021-12-23T12:11:43.675Z"
   },
   {
    "duration": 1150,
    "start_time": "2021-12-23T12:12:39.415Z"
   },
   {
    "duration": 3,
    "start_time": "2021-12-23T12:13:03.433Z"
   },
   {
    "duration": 355,
    "start_time": "2021-12-23T12:13:11.780Z"
   },
   {
    "duration": 1034,
    "start_time": "2021-12-23T12:13:41.506Z"
   },
   {
    "duration": 1332,
    "start_time": "2021-12-23T12:14:18.744Z"
   },
   {
    "duration": 24,
    "start_time": "2021-12-23T12:14:42.045Z"
   },
   {
    "duration": 1219,
    "start_time": "2021-12-23T12:15:19.243Z"
   },
   {
    "duration": 296,
    "start_time": "2021-12-23T12:16:24.863Z"
   },
   {
    "duration": 274,
    "start_time": "2021-12-23T12:16:53.183Z"
   },
   {
    "duration": 1116,
    "start_time": "2021-12-23T12:17:32.290Z"
   },
   {
    "duration": 1010,
    "start_time": "2021-12-23T12:17:49.815Z"
   },
   {
    "duration": 312,
    "start_time": "2021-12-23T12:18:05.617Z"
   },
   {
    "duration": 59,
    "start_time": "2021-12-23T12:18:05.932Z"
   },
   {
    "duration": 76,
    "start_time": "2021-12-23T12:18:06.024Z"
   },
   {
    "duration": 39,
    "start_time": "2021-12-23T12:18:06.296Z"
   },
   {
    "duration": 230,
    "start_time": "2021-12-23T12:18:06.693Z"
   },
   {
    "duration": 222,
    "start_time": "2021-12-23T12:18:06.926Z"
   },
   {
    "duration": 189,
    "start_time": "2021-12-23T12:18:07.150Z"
   },
   {
    "duration": 252,
    "start_time": "2021-12-23T12:18:07.341Z"
   },
   {
    "duration": 46,
    "start_time": "2021-12-23T12:18:07.596Z"
   },
   {
    "duration": 3122,
    "start_time": "2021-12-23T12:18:07.651Z"
   },
   {
    "duration": 17,
    "start_time": "2021-12-23T12:18:10.775Z"
   },
   {
    "duration": 13,
    "start_time": "2021-12-23T12:18:10.794Z"
   },
   {
    "duration": 7,
    "start_time": "2021-12-23T12:18:10.808Z"
   },
   {
    "duration": 289,
    "start_time": "2021-12-23T12:18:51.181Z"
   },
   {
    "duration": 18,
    "start_time": "2021-12-23T12:19:25.467Z"
   },
   {
    "duration": 373,
    "start_time": "2021-12-23T12:19:34.563Z"
   },
   {
    "duration": 58,
    "start_time": "2021-12-23T12:19:34.938Z"
   },
   {
    "duration": 101,
    "start_time": "2021-12-23T12:19:34.998Z"
   },
   {
    "duration": 36,
    "start_time": "2021-12-23T12:19:35.243Z"
   },
   {
    "duration": 283,
    "start_time": "2021-12-23T12:19:35.511Z"
   },
   {
    "duration": 250,
    "start_time": "2021-12-23T12:19:35.796Z"
   },
   {
    "duration": 169,
    "start_time": "2021-12-23T12:19:36.160Z"
   },
   {
    "duration": 180,
    "start_time": "2021-12-23T12:19:36.595Z"
   },
   {
    "duration": 36,
    "start_time": "2021-12-23T12:19:36.963Z"
   },
   {
    "duration": 3008,
    "start_time": "2021-12-23T12:19:40.143Z"
   },
   {
    "duration": 21,
    "start_time": "2021-12-23T12:19:43.153Z"
   },
   {
    "duration": 11,
    "start_time": "2021-12-23T12:19:43.176Z"
   },
   {
    "duration": 29,
    "start_time": "2021-12-23T12:19:43.189Z"
   },
   {
    "duration": 327,
    "start_time": "2021-12-23T12:19:56.468Z"
   },
   {
    "duration": 60,
    "start_time": "2021-12-23T12:19:56.797Z"
   },
   {
    "duration": 82,
    "start_time": "2021-12-23T12:19:56.859Z"
   },
   {
    "duration": 33,
    "start_time": "2021-12-23T12:19:57.023Z"
   },
   {
    "duration": 195,
    "start_time": "2021-12-23T12:19:57.219Z"
   },
   {
    "duration": 179,
    "start_time": "2021-12-23T12:19:57.416Z"
   },
   {
    "duration": 183,
    "start_time": "2021-12-23T12:19:57.598Z"
   },
   {
    "duration": 220,
    "start_time": "2021-12-23T12:19:57.786Z"
   },
   {
    "duration": 50,
    "start_time": "2021-12-23T12:19:58.008Z"
   },
   {
    "duration": 3291,
    "start_time": "2021-12-23T12:19:58.201Z"
   },
   {
    "duration": 19,
    "start_time": "2021-12-23T12:20:01.494Z"
   },
   {
    "duration": 26,
    "start_time": "2021-12-23T12:20:01.515Z"
   },
   {
    "duration": 20,
    "start_time": "2021-12-23T12:20:01.543Z"
   },
   {
    "duration": 2074,
    "start_time": "2021-12-23T14:21:14.307Z"
   },
   {
    "duration": 57,
    "start_time": "2021-12-23T14:21:16.384Z"
   },
   {
    "duration": 130,
    "start_time": "2021-12-23T14:21:16.444Z"
   },
   {
    "duration": 49,
    "start_time": "2021-12-23T14:21:17.508Z"
   },
   {
    "duration": 292,
    "start_time": "2021-12-23T14:21:18.725Z"
   },
   {
    "duration": 262,
    "start_time": "2021-12-23T14:21:20.460Z"
   },
   {
    "duration": 322,
    "start_time": "2021-12-23T14:21:21.912Z"
   },
   {
    "duration": 379,
    "start_time": "2021-12-23T14:21:22.970Z"
   },
   {
    "duration": 47,
    "start_time": "2021-12-23T14:21:23.668Z"
   },
   {
    "duration": 6982,
    "start_time": "2021-12-23T14:21:26.508Z"
   },
   {
    "duration": 32,
    "start_time": "2021-12-23T14:21:38.042Z"
   },
   {
    "duration": 12,
    "start_time": "2021-12-23T14:21:44.677Z"
   },
   {
    "duration": 578,
    "start_time": "2021-12-23T14:22:05.183Z"
   },
   {
    "duration": 22,
    "start_time": "2021-12-23T14:22:13.776Z"
   },
   {
    "duration": 25,
    "start_time": "2021-12-23T14:22:27.900Z"
   },
   {
    "duration": 1796,
    "start_time": "2021-12-23T14:23:35.465Z"
   },
   {
    "duration": 26,
    "start_time": "2021-12-23T14:24:14.459Z"
   },
   {
    "duration": 433,
    "start_time": "2021-12-23T14:24:41.742Z"
   },
   {
    "duration": 19,
    "start_time": "2021-12-23T14:25:12.483Z"
   },
   {
    "duration": 1877,
    "start_time": "2021-12-23T14:25:19.480Z"
   },
   {
    "duration": 2267,
    "start_time": "2021-12-23T14:25:34.839Z"
   },
   {
    "duration": 6,
    "start_time": "2021-12-23T14:28:08.427Z"
   },
   {
    "duration": 471,
    "start_time": "2021-12-23T14:28:27.849Z"
   },
   {
    "duration": 491,
    "start_time": "2021-12-23T14:28:41.192Z"
   },
   {
    "duration": 555,
    "start_time": "2021-12-23T14:28:51.109Z"
   },
   {
    "duration": 593,
    "start_time": "2021-12-23T14:29:11.668Z"
   },
   {
    "duration": 167,
    "start_time": "2021-12-23T14:30:03.104Z"
   },
   {
    "duration": 142,
    "start_time": "2021-12-23T14:30:17.832Z"
   },
   {
    "duration": 166,
    "start_time": "2021-12-23T14:30:21.466Z"
   },
   {
    "duration": 11397,
    "start_time": "2021-12-23T14:30:24.517Z"
   },
   {
    "duration": 160,
    "start_time": "2021-12-23T14:31:34.015Z"
   },
   {
    "duration": 146,
    "start_time": "2021-12-23T14:31:45.571Z"
   },
   {
    "duration": 510,
    "start_time": "2021-12-23T14:32:04.320Z"
   },
   {
    "duration": 200,
    "start_time": "2021-12-23T14:32:19.337Z"
   },
   {
    "duration": 574,
    "start_time": "2021-12-23T14:32:24.352Z"
   },
   {
    "duration": 212,
    "start_time": "2021-12-23T14:32:36.082Z"
   },
   {
    "duration": 3,
    "start_time": "2021-12-23T14:33:53.009Z"
   },
   {
    "duration": 1875,
    "start_time": "2021-12-23T14:34:40.191Z"
   },
   {
    "duration": 9,
    "start_time": "2021-12-23T14:35:04.843Z"
   },
   {
    "duration": 427,
    "start_time": "2021-12-23T14:35:23.931Z"
   },
   {
    "duration": 10,
    "start_time": "2021-12-23T14:35:44.570Z"
   },
   {
    "duration": 14,
    "start_time": "2021-12-23T14:35:58.961Z"
   },
   {
    "duration": 25,
    "start_time": "2021-12-23T14:36:13.394Z"
   },
   {
    "duration": 14,
    "start_time": "2021-12-23T14:37:25.122Z"
   },
   {
    "duration": 856,
    "start_time": "2021-12-23T14:41:22.482Z"
   },
   {
    "duration": 27,
    "start_time": "2021-12-23T14:41:37.592Z"
   },
   {
    "duration": 276,
    "start_time": "2021-12-23T14:42:07.741Z"
   },
   {
    "duration": 914,
    "start_time": "2021-12-23T14:42:12.820Z"
   },
   {
    "duration": 1606,
    "start_time": "2021-12-23T14:42:28.521Z"
   },
   {
    "duration": 2049,
    "start_time": "2021-12-23T14:43:07.091Z"
   },
   {
    "duration": 590,
    "start_time": "2021-12-23T14:43:38.960Z"
   },
   {
    "duration": 57,
    "start_time": "2021-12-23T14:43:41.878Z"
   },
   {
    "duration": 170,
    "start_time": "2021-12-23T14:43:42.858Z"
   },
   {
    "duration": 34,
    "start_time": "2021-12-23T14:43:43.467Z"
   },
   {
    "duration": 266,
    "start_time": "2021-12-23T14:43:44.229Z"
   },
   {
    "duration": 243,
    "start_time": "2021-12-23T14:43:44.841Z"
   },
   {
    "duration": 244,
    "start_time": "2021-12-23T14:43:45.799Z"
   },
   {
    "duration": 285,
    "start_time": "2021-12-23T14:43:46.476Z"
   },
   {
    "duration": 47,
    "start_time": "2021-12-23T14:43:48.364Z"
   },
   {
    "duration": 4967,
    "start_time": "2021-12-23T14:43:50.965Z"
   },
   {
    "duration": 27,
    "start_time": "2021-12-23T14:43:58.974Z"
   },
   {
    "duration": 9,
    "start_time": "2021-12-23T14:44:00.782Z"
   },
   {
    "duration": 1775,
    "start_time": "2021-12-23T14:44:05.752Z"
   },
   {
    "duration": 20,
    "start_time": "2021-12-23T14:44:38.302Z"
   },
   {
    "duration": 10,
    "start_time": "2021-12-23T14:45:22.399Z"
   },
   {
    "duration": 1494,
    "start_time": "2021-12-23T14:45:28.170Z"
   },
   {
    "duration": 1566,
    "start_time": "2021-12-23T14:45:59.428Z"
   },
   {
    "duration": 11,
    "start_time": "2021-12-23T14:46:08.221Z"
   },
   {
    "duration": 34,
    "start_time": "2021-12-23T14:47:00.105Z"
   },
   {
    "duration": 165,
    "start_time": "2021-12-23T14:52:11.431Z"
   },
   {
    "duration": 415,
    "start_time": "2021-12-23T14:53:41.040Z"
   },
   {
    "duration": 490,
    "start_time": "2021-12-23T14:54:04.445Z"
   },
   {
    "duration": 40,
    "start_time": "2021-12-23T14:54:18.681Z"
   },
   {
    "duration": 1681,
    "start_time": "2021-12-23T14:58:51.331Z"
   },
   {
    "duration": 1474,
    "start_time": "2021-12-23T14:59:06.941Z"
   },
   {
    "duration": 381,
    "start_time": "2021-12-23T14:59:14.982Z"
   },
   {
    "duration": 65,
    "start_time": "2021-12-23T14:59:15.472Z"
   },
   {
    "duration": 104,
    "start_time": "2021-12-23T14:59:15.884Z"
   },
   {
    "duration": 34,
    "start_time": "2021-12-23T14:59:16.361Z"
   },
   {
    "duration": 272,
    "start_time": "2021-12-23T14:59:17.750Z"
   },
   {
    "duration": 238,
    "start_time": "2021-12-23T14:59:19.299Z"
   },
   {
    "duration": 233,
    "start_time": "2021-12-23T14:59:20.173Z"
   },
   {
    "duration": 262,
    "start_time": "2021-12-23T14:59:20.841Z"
   },
   {
    "duration": 45,
    "start_time": "2021-12-23T14:59:21.701Z"
   },
   {
    "duration": 4893,
    "start_time": "2021-12-23T14:59:22.394Z"
   },
   {
    "duration": 27,
    "start_time": "2021-12-23T14:59:27.290Z"
   },
   {
    "duration": 12,
    "start_time": "2021-12-23T14:59:27.319Z"
   },
   {
    "duration": 65,
    "start_time": "2021-12-23T14:59:27.333Z"
   },
   {
    "duration": 1460,
    "start_time": "2021-12-23T14:59:40.270Z"
   },
   {
    "duration": 229,
    "start_time": "2021-12-23T14:59:59.504Z"
   },
   {
    "duration": 263,
    "start_time": "2021-12-23T14:59:59.915Z"
   },
   {
    "duration": 45,
    "start_time": "2021-12-23T15:00:00.625Z"
   },
   {
    "duration": 4906,
    "start_time": "2021-12-23T15:00:01.405Z"
   },
   {
    "duration": 29,
    "start_time": "2021-12-23T15:00:06.314Z"
   },
   {
    "duration": 9,
    "start_time": "2021-12-23T15:00:06.359Z"
   },
   {
    "duration": 35,
    "start_time": "2021-12-23T15:00:06.370Z"
   },
   {
    "duration": 1478,
    "start_time": "2021-12-23T15:02:10.130Z"
   },
   {
    "duration": 389,
    "start_time": "2021-12-23T15:02:19.869Z"
   },
   {
    "duration": 56,
    "start_time": "2021-12-23T15:02:20.305Z"
   },
   {
    "duration": 121,
    "start_time": "2021-12-23T15:02:20.749Z"
   },
   {
    "duration": 52,
    "start_time": "2021-12-23T15:02:21.186Z"
   },
   {
    "duration": 287,
    "start_time": "2021-12-23T15:02:21.613Z"
   },
   {
    "duration": 257,
    "start_time": "2021-12-23T15:02:22.004Z"
   },
   {
    "duration": 237,
    "start_time": "2021-12-23T15:02:22.395Z"
   },
   {
    "duration": 271,
    "start_time": "2021-12-23T15:02:22.781Z"
   },
   {
    "duration": 46,
    "start_time": "2021-12-23T15:02:23.182Z"
   },
   {
    "duration": 4898,
    "start_time": "2021-12-23T15:02:23.767Z"
   },
   {
    "duration": 29,
    "start_time": "2021-12-23T15:02:28.667Z"
   },
   {
    "duration": 8,
    "start_time": "2021-12-23T15:02:29.625Z"
   },
   {
    "duration": 20,
    "start_time": "2021-12-23T15:02:37.191Z"
   },
   {
    "duration": 11316,
    "start_time": "2021-12-23T15:16:27.154Z"
   },
   {
    "duration": 652,
    "start_time": "2021-12-23T15:17:42.061Z"
   },
   {
    "duration": 18,
    "start_time": "2021-12-23T15:17:48.041Z"
   },
   {
    "duration": 10130,
    "start_time": "2021-12-23T15:17:58.924Z"
   },
   {
    "duration": 390,
    "start_time": "2021-12-23T15:19:17.050Z"
   },
   {
    "duration": 59,
    "start_time": "2021-12-23T15:19:17.761Z"
   },
   {
    "duration": 98,
    "start_time": "2021-12-23T15:19:18.342Z"
   },
   {
    "duration": 35,
    "start_time": "2021-12-23T15:19:18.922Z"
   },
   {
    "duration": 268,
    "start_time": "2021-12-23T15:19:19.458Z"
   },
   {
    "duration": 248,
    "start_time": "2021-12-23T15:19:20.125Z"
   },
   {
    "duration": 248,
    "start_time": "2021-12-23T15:19:20.989Z"
   },
   {
    "duration": 254,
    "start_time": "2021-12-23T15:19:22.789Z"
   },
   {
    "duration": 49,
    "start_time": "2021-12-23T15:19:23.046Z"
   },
   {
    "duration": 4866,
    "start_time": "2021-12-23T15:19:24.574Z"
   },
   {
    "duration": 32,
    "start_time": "2021-12-23T15:19:29.443Z"
   },
   {
    "duration": 9,
    "start_time": "2021-12-23T15:19:29.477Z"
   },
   {
    "duration": 24,
    "start_time": "2021-12-23T15:19:32.862Z"
   },
   {
    "duration": 9996,
    "start_time": "2021-12-23T15:19:41.505Z"
   },
   {
    "duration": 663,
    "start_time": "2021-12-23T15:19:50.841Z"
   },
   {
    "duration": 1499,
    "start_time": "2021-12-23T15:21:01.977Z"
   },
   {
    "duration": 381,
    "start_time": "2021-12-23T15:21:23.027Z"
   },
   {
    "duration": 55,
    "start_time": "2021-12-23T15:21:23.532Z"
   },
   {
    "duration": 101,
    "start_time": "2021-12-23T15:21:24.007Z"
   },
   {
    "duration": 34,
    "start_time": "2021-12-23T15:21:24.417Z"
   },
   {
    "duration": 271,
    "start_time": "2021-12-23T15:21:24.872Z"
   },
   {
    "duration": 242,
    "start_time": "2021-12-23T15:21:25.288Z"
   },
   {
    "duration": 242,
    "start_time": "2021-12-23T15:21:25.727Z"
   },
   {
    "duration": 298,
    "start_time": "2021-12-23T15:21:26.296Z"
   },
   {
    "duration": 44,
    "start_time": "2021-12-23T15:21:28.325Z"
   },
   {
    "duration": 5410,
    "start_time": "2021-12-23T15:21:29.984Z"
   },
   {
    "duration": 31,
    "start_time": "2021-12-23T15:21:35.398Z"
   },
   {
    "duration": 30,
    "start_time": "2021-12-23T15:21:35.433Z"
   },
   {
    "duration": 7,
    "start_time": "2021-12-23T15:21:49.716Z"
   },
   {
    "duration": 10652,
    "start_time": "2021-12-23T15:21:53.312Z"
   },
   {
    "duration": 1031,
    "start_time": "2021-12-23T15:37:01.299Z"
   },
   {
    "duration": 29,
    "start_time": "2021-12-23T15:37:14.001Z"
   },
   {
    "duration": 1156,
    "start_time": "2021-12-23T15:39:02.197Z"
   },
   {
    "duration": 32,
    "start_time": "2021-12-23T15:39:04.084Z"
   },
   {
    "duration": 393,
    "start_time": "2021-12-23T15:39:15.812Z"
   },
   {
    "duration": 70,
    "start_time": "2021-12-23T15:39:16.208Z"
   },
   {
    "duration": 101,
    "start_time": "2021-12-23T15:39:16.794Z"
   },
   {
    "duration": 34,
    "start_time": "2021-12-23T15:39:17.394Z"
   },
   {
    "duration": 270,
    "start_time": "2021-12-23T15:39:17.970Z"
   },
   {
    "duration": 264,
    "start_time": "2021-12-23T15:39:18.559Z"
   },
   {
    "duration": 247,
    "start_time": "2021-12-23T15:39:19.132Z"
   },
   {
    "duration": 263,
    "start_time": "2021-12-23T15:39:19.563Z"
   },
   {
    "duration": 43,
    "start_time": "2021-12-23T15:39:19.905Z"
   },
   {
    "duration": 7315,
    "start_time": "2021-12-23T15:39:20.067Z"
   },
   {
    "duration": 41,
    "start_time": "2021-12-23T15:39:27.385Z"
   },
   {
    "duration": 34,
    "start_time": "2021-12-23T15:39:27.430Z"
   },
   {
    "duration": 8,
    "start_time": "2021-12-23T15:39:27.467Z"
   },
   {
    "duration": 1203,
    "start_time": "2021-12-23T15:39:27.477Z"
   },
   {
    "duration": 30,
    "start_time": "2021-12-23T15:39:28.682Z"
   },
   {
    "duration": 3524,
    "start_time": "2021-12-23T15:44:02.485Z"
   },
   {
    "duration": 51,
    "start_time": "2021-12-23T15:44:06.359Z"
   },
   {
    "duration": 31,
    "start_time": "2021-12-23T15:45:37.994Z"
   },
   {
    "duration": 46,
    "start_time": "2021-12-23T15:46:47.523Z"
   },
   {
    "duration": 421,
    "start_time": "2021-12-23T15:46:52.842Z"
   },
   {
    "duration": 486,
    "start_time": "2021-12-23T15:47:05.277Z"
   },
   {
    "duration": 72,
    "start_time": "2021-12-23T15:47:05.767Z"
   },
   {
    "duration": 157,
    "start_time": "2021-12-23T15:47:05.843Z"
   },
   {
    "duration": 75,
    "start_time": "2021-12-23T15:47:06.004Z"
   },
   {
    "duration": 408,
    "start_time": "2021-12-23T15:47:06.082Z"
   },
   {
    "duration": 327,
    "start_time": "2021-12-23T15:47:06.494Z"
   },
   {
    "duration": 293,
    "start_time": "2021-12-23T15:47:06.825Z"
   },
   {
    "duration": 311,
    "start_time": "2021-12-23T15:47:07.121Z"
   },
   {
    "duration": 61,
    "start_time": "2021-12-23T15:47:07.435Z"
   },
   {
    "duration": 6128,
    "start_time": "2021-12-23T15:47:07.499Z"
   },
   {
    "duration": 58,
    "start_time": "2021-12-23T15:47:13.631Z"
   },
   {
    "duration": 16,
    "start_time": "2021-12-23T15:47:13.692Z"
   },
   {
    "duration": 8,
    "start_time": "2021-12-23T15:47:13.711Z"
   },
   {
    "duration": 3399,
    "start_time": "2021-12-23T15:47:13.723Z"
   },
   {
    "duration": 7,
    "start_time": "2021-12-23T15:47:17.125Z"
   },
   {
    "duration": 48,
    "start_time": "2021-12-23T15:47:17.135Z"
   },
   {
    "duration": 39,
    "start_time": "2021-12-23T15:47:17.186Z"
   },
   {
    "duration": 1219,
    "start_time": "2021-12-23T18:34:56.091Z"
   },
   {
    "duration": 60,
    "start_time": "2021-12-23T18:35:05.549Z"
   },
   {
    "duration": 113,
    "start_time": "2021-12-23T18:35:08.914Z"
   },
   {
    "duration": 35,
    "start_time": "2021-12-23T18:35:13.281Z"
   },
   {
    "duration": 276,
    "start_time": "2021-12-23T18:35:14.579Z"
   },
   {
    "duration": 245,
    "start_time": "2021-12-23T18:35:17.508Z"
   },
   {
    "duration": 237,
    "start_time": "2021-12-23T18:35:21.455Z"
   },
   {
    "duration": 268,
    "start_time": "2021-12-23T18:35:24.034Z"
   },
   {
    "duration": 44,
    "start_time": "2021-12-23T18:35:25.173Z"
   },
   {
    "duration": 4693,
    "start_time": "2021-12-23T18:35:27.114Z"
   },
   {
    "duration": 28,
    "start_time": "2021-12-23T18:35:32.511Z"
   },
   {
    "duration": 9,
    "start_time": "2021-12-23T18:35:36.071Z"
   },
   {
    "duration": 6,
    "start_time": "2021-12-23T18:35:38.126Z"
   },
   {
    "duration": 3221,
    "start_time": "2021-12-23T18:35:44.358Z"
   },
   {
    "duration": 7,
    "start_time": "2021-12-23T18:35:47.729Z"
   },
   {
    "duration": 38,
    "start_time": "2021-12-23T18:35:51.703Z"
   },
   {
    "duration": 366,
    "start_time": "2021-12-23T18:39:43.039Z"
   },
   {
    "duration": 379,
    "start_time": "2021-12-23T18:39:49.941Z"
   },
   {
    "duration": 61,
    "start_time": "2021-12-23T18:39:51.080Z"
   },
   {
    "duration": 106,
    "start_time": "2021-12-23T18:39:51.961Z"
   },
   {
    "duration": 33,
    "start_time": "2021-12-23T18:39:52.829Z"
   },
   {
    "duration": 263,
    "start_time": "2021-12-23T18:39:53.698Z"
   },
   {
    "duration": 248,
    "start_time": "2021-12-23T18:39:54.212Z"
   },
   {
    "duration": 239,
    "start_time": "2021-12-23T18:39:55.015Z"
   },
   {
    "duration": 259,
    "start_time": "2021-12-23T18:39:55.367Z"
   },
   {
    "duration": 41,
    "start_time": "2021-12-23T18:39:55.628Z"
   },
   {
    "duration": 4828,
    "start_time": "2021-12-23T18:39:55.749Z"
   },
   {
    "duration": 43,
    "start_time": "2021-12-23T18:40:00.579Z"
   },
   {
    "duration": 14,
    "start_time": "2021-12-23T18:40:00.625Z"
   },
   {
    "duration": 9,
    "start_time": "2021-12-23T18:40:00.641Z"
   },
   {
    "duration": 2922,
    "start_time": "2021-12-23T18:40:00.653Z"
   },
   {
    "duration": 7,
    "start_time": "2021-12-23T18:40:03.577Z"
   },
   {
    "duration": 42,
    "start_time": "2021-12-23T18:40:03.587Z"
   },
   {
    "duration": 6356,
    "start_time": "2021-12-23T18:41:39.021Z"
   },
   {
    "duration": -41,
    "start_time": "2021-12-23T18:41:45.421Z"
   },
   {
    "duration": 370,
    "start_time": "2021-12-23T18:41:49.936Z"
   },
   {
    "duration": 57,
    "start_time": "2021-12-23T18:41:51.100Z"
   },
   {
    "duration": 98,
    "start_time": "2021-12-23T18:41:51.260Z"
   },
   {
    "duration": 32,
    "start_time": "2021-12-23T18:41:51.421Z"
   },
   {
    "duration": 318,
    "start_time": "2021-12-23T18:41:53.903Z"
   },
   {
    "duration": 272,
    "start_time": "2021-12-23T18:41:54.224Z"
   },
   {
    "duration": 254,
    "start_time": "2021-12-23T18:41:54.500Z"
   },
   {
    "duration": 272,
    "start_time": "2021-12-23T18:41:54.757Z"
   },
   {
    "duration": 43,
    "start_time": "2021-12-23T18:41:55.031Z"
   },
   {
    "duration": 4821,
    "start_time": "2021-12-23T18:41:55.076Z"
   },
   {
    "duration": 32,
    "start_time": "2021-12-23T18:41:59.900Z"
   },
   {
    "duration": 7,
    "start_time": "2021-12-23T18:41:59.935Z"
   },
   {
    "duration": 10,
    "start_time": "2021-12-23T18:41:59.945Z"
   },
   {
    "duration": 3026,
    "start_time": "2021-12-23T18:41:59.957Z"
   },
   {
    "duration": 7,
    "start_time": "2021-12-23T18:42:02.985Z"
   },
   {
    "duration": 44,
    "start_time": "2021-12-23T18:42:02.994Z"
   },
   {
    "duration": 369,
    "start_time": "2021-12-23T18:46:02.883Z"
   },
   {
    "duration": 64,
    "start_time": "2021-12-23T18:46:03.255Z"
   },
   {
    "duration": 101,
    "start_time": "2021-12-23T18:46:03.393Z"
   },
   {
    "duration": 35,
    "start_time": "2021-12-23T18:46:03.568Z"
   },
   {
    "duration": 464,
    "start_time": "2021-12-23T18:46:03.771Z"
   },
   {
    "duration": 297,
    "start_time": "2021-12-23T18:46:04.238Z"
   },
   {
    "duration": 247,
    "start_time": "2021-12-23T18:46:04.539Z"
   },
   {
    "duration": 278,
    "start_time": "2021-12-23T18:46:04.789Z"
   },
   {
    "duration": 49,
    "start_time": "2021-12-23T18:46:05.070Z"
   },
   {
    "duration": 4746,
    "start_time": "2021-12-23T18:46:05.122Z"
   },
   {
    "duration": 29,
    "start_time": "2021-12-23T18:46:09.871Z"
   },
   {
    "duration": 9,
    "start_time": "2021-12-23T18:46:09.917Z"
   },
   {
    "duration": 6,
    "start_time": "2021-12-23T18:46:09.929Z"
   },
   {
    "duration": 3125,
    "start_time": "2021-12-23T18:46:09.937Z"
   },
   {
    "duration": 8,
    "start_time": "2021-12-23T18:46:13.065Z"
   },
   {
    "duration": 45,
    "start_time": "2021-12-23T18:46:13.076Z"
   },
   {
    "duration": 18,
    "start_time": "2021-12-23T18:48:19.644Z"
   },
   {
    "duration": 23,
    "start_time": "2021-12-23T18:49:41.109Z"
   },
   {
    "duration": 20,
    "start_time": "2021-12-23T18:50:03.587Z"
   },
   {
    "duration": 18,
    "start_time": "2021-12-23T18:50:24.680Z"
   },
   {
    "duration": 20,
    "start_time": "2021-12-23T18:51:17.557Z"
   },
   {
    "duration": 19,
    "start_time": "2021-12-23T18:51:42.008Z"
   },
   {
    "duration": 22,
    "start_time": "2021-12-23T18:52:34.476Z"
   },
   {
    "duration": 298,
    "start_time": "2021-12-23T18:55:41.041Z"
   },
   {
    "duration": 27,
    "start_time": "2021-12-23T18:55:54.242Z"
   },
   {
    "duration": 26,
    "start_time": "2021-12-23T18:56:38.220Z"
   },
   {
    "duration": 374,
    "start_time": "2021-12-23T19:21:20.885Z"
   },
   {
    "duration": 66,
    "start_time": "2021-12-23T19:21:21.261Z"
   },
   {
    "duration": 102,
    "start_time": "2021-12-23T19:21:21.387Z"
   },
   {
    "duration": 33,
    "start_time": "2021-12-23T19:21:21.556Z"
   },
   {
    "duration": 270,
    "start_time": "2021-12-23T19:21:21.732Z"
   },
   {
    "duration": 282,
    "start_time": "2021-12-23T19:21:22.005Z"
   },
   {
    "duration": 255,
    "start_time": "2021-12-23T19:21:22.291Z"
   },
   {
    "duration": 276,
    "start_time": "2021-12-23T19:21:22.549Z"
   },
   {
    "duration": 42,
    "start_time": "2021-12-23T19:21:22.828Z"
   },
   {
    "duration": 4769,
    "start_time": "2021-12-23T19:21:22.873Z"
   },
   {
    "duration": 28,
    "start_time": "2021-12-23T19:21:27.644Z"
   },
   {
    "duration": 16,
    "start_time": "2021-12-23T19:21:27.675Z"
   },
   {
    "duration": 28,
    "start_time": "2021-12-23T19:21:27.693Z"
   },
   {
    "duration": 3123,
    "start_time": "2021-12-23T19:21:27.724Z"
   },
   {
    "duration": 8,
    "start_time": "2021-12-23T19:21:30.850Z"
   },
   {
    "duration": 36,
    "start_time": "2021-12-23T19:21:30.861Z"
   },
   {
    "duration": 44,
    "start_time": "2021-12-23T19:21:30.899Z"
   },
   {
    "duration": 126,
    "start_time": "2021-12-23T19:21:30.945Z"
   },
   {
    "duration": 116,
    "start_time": "2021-12-23T19:22:10.642Z"
   },
   {
    "duration": 6930,
    "start_time": "2021-12-23T19:22:24.871Z"
   },
   {
    "duration": 440,
    "start_time": "2021-12-23T19:22:58.012Z"
   },
   {
    "duration": 64,
    "start_time": "2021-12-23T19:22:58.455Z"
   },
   {
    "duration": 118,
    "start_time": "2021-12-23T19:22:58.521Z"
   },
   {
    "duration": 37,
    "start_time": "2021-12-23T19:22:58.642Z"
   },
   {
    "duration": 310,
    "start_time": "2021-12-23T19:22:58.682Z"
   },
   {
    "duration": 269,
    "start_time": "2021-12-23T19:22:58.995Z"
   },
   {
    "duration": 252,
    "start_time": "2021-12-23T19:22:59.267Z"
   },
   {
    "duration": 294,
    "start_time": "2021-12-23T19:22:59.521Z"
   },
   {
    "duration": 53,
    "start_time": "2021-12-23T19:22:59.818Z"
   },
   {
    "duration": 5571,
    "start_time": "2021-12-23T19:22:59.875Z"
   },
   {
    "duration": 38,
    "start_time": "2021-12-23T19:23:05.449Z"
   },
   {
    "duration": 29,
    "start_time": "2021-12-23T19:23:05.490Z"
   },
   {
    "duration": 7,
    "start_time": "2021-12-23T19:23:05.523Z"
   },
   {
    "duration": 3367,
    "start_time": "2021-12-23T19:23:05.533Z"
   },
   {
    "duration": 6,
    "start_time": "2021-12-23T19:23:08.902Z"
   },
   {
    "duration": 31,
    "start_time": "2021-12-23T19:23:08.911Z"
   },
   {
    "duration": 35,
    "start_time": "2021-12-23T19:23:08.944Z"
   },
   {
    "duration": 6691,
    "start_time": "2021-12-23T19:23:08.982Z"
   },
   {
    "duration": 175,
    "start_time": "2021-12-23T19:23:15.501Z"
   },
   {
    "duration": 8623,
    "start_time": "2021-12-23T19:24:07.910Z"
   },
   {
    "duration": 6824,
    "start_time": "2021-12-23T19:25:52.962Z"
   },
   {
    "duration": 7413,
    "start_time": "2021-12-23T20:30:21.241Z"
   },
   {
    "duration": -935,
    "start_time": "2021-12-23T20:30:29.592Z"
   },
   {
    "duration": 7151,
    "start_time": "2021-12-23T21:35:23.251Z"
   },
   {
    "duration": 5,
    "start_time": "2021-12-23T21:36:04.211Z"
   },
   {
    "duration": 407,
    "start_time": "2021-12-23T21:36:10.971Z"
   },
   {
    "duration": 362,
    "start_time": "2021-12-23T21:38:43.611Z"
   },
   {
    "duration": 56,
    "start_time": "2021-12-23T21:38:44.301Z"
   },
   {
    "duration": 104,
    "start_time": "2021-12-23T21:38:44.982Z"
   },
   {
    "duration": 33,
    "start_time": "2021-12-23T21:38:45.530Z"
   },
   {
    "duration": 258,
    "start_time": "2021-12-23T21:38:46.014Z"
   },
   {
    "duration": 256,
    "start_time": "2021-12-23T21:38:46.275Z"
   },
   {
    "duration": 246,
    "start_time": "2021-12-23T21:38:46.533Z"
   },
   {
    "duration": 287,
    "start_time": "2021-12-23T21:38:46.781Z"
   },
   {
    "duration": 56,
    "start_time": "2021-12-23T21:38:47.070Z"
   },
   {
    "duration": 4841,
    "start_time": "2021-12-23T21:38:47.129Z"
   },
   {
    "duration": 28,
    "start_time": "2021-12-23T21:38:51.973Z"
   },
   {
    "duration": 9,
    "start_time": "2021-12-23T21:38:52.019Z"
   },
   {
    "duration": 8,
    "start_time": "2021-12-23T21:38:52.031Z"
   },
   {
    "duration": 2953,
    "start_time": "2021-12-23T21:38:52.043Z"
   },
   {
    "duration": 8,
    "start_time": "2021-12-23T21:38:54.999Z"
   },
   {
    "duration": 31,
    "start_time": "2021-12-23T21:38:55.009Z"
   },
   {
    "duration": 301,
    "start_time": "2021-12-23T21:38:55.043Z"
   },
   {
    "duration": 280,
    "start_time": "2021-12-23T21:38:55.067Z"
   },
   {
    "duration": 280,
    "start_time": "2021-12-23T21:38:55.069Z"
   },
   {
    "duration": 375,
    "start_time": "2021-12-23T21:39:28.582Z"
   },
   {
    "duration": 64,
    "start_time": "2021-12-23T21:39:28.959Z"
   },
   {
    "duration": 116,
    "start_time": "2021-12-23T21:39:29.026Z"
   },
   {
    "duration": 31,
    "start_time": "2021-12-23T21:39:29.145Z"
   },
   {
    "duration": 266,
    "start_time": "2021-12-23T21:39:29.233Z"
   },
   {
    "duration": 249,
    "start_time": "2021-12-23T21:39:29.502Z"
   },
   {
    "duration": 249,
    "start_time": "2021-12-23T21:39:29.754Z"
   },
   {
    "duration": 278,
    "start_time": "2021-12-23T21:39:30.006Z"
   },
   {
    "duration": 54,
    "start_time": "2021-12-23T21:39:30.286Z"
   },
   {
    "duration": 4819,
    "start_time": "2021-12-23T21:39:30.343Z"
   },
   {
    "duration": 28,
    "start_time": "2021-12-23T21:39:35.165Z"
   },
   {
    "duration": 25,
    "start_time": "2021-12-23T21:39:35.196Z"
   },
   {
    "duration": 7,
    "start_time": "2021-12-23T21:39:35.226Z"
   },
   {
    "duration": 3226,
    "start_time": "2021-12-23T21:39:35.236Z"
   },
   {
    "duration": 9,
    "start_time": "2021-12-23T21:39:38.464Z"
   },
   {
    "duration": 46,
    "start_time": "2021-12-23T21:39:38.475Z"
   },
   {
    "duration": 6,
    "start_time": "2021-12-23T21:39:38.523Z"
   },
   {
    "duration": 390,
    "start_time": "2021-12-23T21:39:38.531Z"
   },
   {
    "duration": 338,
    "start_time": "2021-12-23T21:39:38.585Z"
   },
   {
    "duration": 12,
    "start_time": "2021-12-23T21:40:23.030Z"
   },
   {
    "duration": 270,
    "start_time": "2021-12-23T21:42:58.071Z"
   },
   {
    "duration": 365,
    "start_time": "2021-12-23T21:43:04.362Z"
   },
   {
    "duration": 56,
    "start_time": "2021-12-23T21:43:04.730Z"
   },
   {
    "duration": 128,
    "start_time": "2021-12-23T21:43:04.789Z"
   },
   {
    "duration": 33,
    "start_time": "2021-12-23T21:43:04.919Z"
   },
   {
    "duration": 280,
    "start_time": "2021-12-23T21:43:05.001Z"
   },
   {
    "duration": 268,
    "start_time": "2021-12-23T21:43:05.284Z"
   },
   {
    "duration": 249,
    "start_time": "2021-12-23T21:43:05.555Z"
   },
   {
    "duration": 272,
    "start_time": "2021-12-23T21:43:05.807Z"
   },
   {
    "duration": 60,
    "start_time": "2021-12-23T21:43:06.082Z"
   },
   {
    "duration": 4760,
    "start_time": "2021-12-23T21:43:06.145Z"
   },
   {
    "duration": 35,
    "start_time": "2021-12-23T21:43:10.908Z"
   },
   {
    "duration": 9,
    "start_time": "2021-12-23T21:43:10.945Z"
   },
   {
    "duration": 6,
    "start_time": "2021-12-23T21:43:10.956Z"
   },
   {
    "duration": 3044,
    "start_time": "2021-12-23T21:43:10.965Z"
   },
   {
    "duration": 8,
    "start_time": "2021-12-23T21:43:14.011Z"
   },
   {
    "duration": 28,
    "start_time": "2021-12-23T21:43:14.022Z"
   },
   {
    "duration": 7,
    "start_time": "2021-12-23T21:43:14.053Z"
   },
   {
    "duration": 3526,
    "start_time": "2021-12-23T21:43:14.063Z"
   },
   {
    "duration": 38,
    "start_time": "2021-12-23T21:43:24.310Z"
   },
   {
    "duration": 361,
    "start_time": "2021-12-23T21:44:53.062Z"
   },
   {
    "duration": 54,
    "start_time": "2021-12-23T21:44:53.426Z"
   },
   {
    "duration": 116,
    "start_time": "2021-12-23T21:44:53.482Z"
   },
   {
    "duration": 34,
    "start_time": "2021-12-23T21:44:53.726Z"
   },
   {
    "duration": 280,
    "start_time": "2021-12-23T21:44:53.763Z"
   },
   {
    "duration": 254,
    "start_time": "2021-12-23T21:44:54.046Z"
   },
   {
    "duration": 246,
    "start_time": "2021-12-23T21:44:54.303Z"
   },
   {
    "duration": 371,
    "start_time": "2021-12-23T21:44:54.552Z"
   },
   {
    "duration": 42,
    "start_time": "2021-12-23T21:44:54.925Z"
   },
   {
    "duration": 4781,
    "start_time": "2021-12-23T21:44:54.970Z"
   },
   {
    "duration": 36,
    "start_time": "2021-12-23T21:44:59.755Z"
   },
   {
    "duration": 27,
    "start_time": "2021-12-23T21:44:59.793Z"
   },
   {
    "duration": 6,
    "start_time": "2021-12-23T21:44:59.822Z"
   },
   {
    "duration": 2891,
    "start_time": "2021-12-23T21:44:59.831Z"
   },
   {
    "duration": 7,
    "start_time": "2021-12-23T21:45:02.724Z"
   },
   {
    "duration": 32,
    "start_time": "2021-12-23T21:45:02.733Z"
   },
   {
    "duration": 6,
    "start_time": "2021-12-23T21:45:02.767Z"
   },
   {
    "duration": 3550,
    "start_time": "2021-12-23T21:45:02.775Z"
   },
   {
    "duration": 259,
    "start_time": "2021-12-23T21:45:06.328Z"
   },
   {
    "duration": 552,
    "start_time": "2021-12-23T21:46:20.642Z"
   },
   {
    "duration": 1765,
    "start_time": "2021-12-23T21:46:56.361Z"
   },
   {
    "duration": 37,
    "start_time": "2021-12-23T21:47:09.361Z"
   },
   {
    "duration": 27,
    "start_time": "2021-12-23T21:47:23.390Z"
   },
   {
    "duration": 257,
    "start_time": "2021-12-23T21:48:55.272Z"
   },
   {
    "duration": 254,
    "start_time": "2021-12-23T21:48:55.532Z"
   },
   {
    "duration": 271,
    "start_time": "2021-12-23T21:48:55.790Z"
   },
   {
    "duration": 59,
    "start_time": "2021-12-23T21:48:56.064Z"
   },
   {
    "duration": 5232,
    "start_time": "2021-12-23T21:48:56.241Z"
   },
   {
    "duration": 40,
    "start_time": "2021-12-23T21:49:01.476Z"
   },
   {
    "duration": 28,
    "start_time": "2021-12-23T21:49:01.519Z"
   },
   {
    "duration": 20,
    "start_time": "2021-12-23T21:49:01.550Z"
   },
   {
    "duration": 3112,
    "start_time": "2021-12-23T21:49:01.572Z"
   },
   {
    "duration": 7,
    "start_time": "2021-12-23T21:49:04.686Z"
   },
   {
    "duration": 39,
    "start_time": "2021-12-23T21:49:04.695Z"
   },
   {
    "duration": 7,
    "start_time": "2021-12-23T21:49:04.737Z"
   },
   {
    "duration": 3712,
    "start_time": "2021-12-23T21:49:04.746Z"
   },
   {
    "duration": 26,
    "start_time": "2021-12-23T21:49:08.460Z"
   },
   {
    "duration": 30,
    "start_time": "2021-12-23T21:55:12.520Z"
   },
   {
    "duration": 381,
    "start_time": "2021-12-23T21:56:35.501Z"
   },
   {
    "duration": 272,
    "start_time": "2021-12-23T21:58:00.550Z"
   },
   {
    "duration": 264,
    "start_time": "2021-12-23T21:58:58.248Z"
   },
   {
    "duration": 258,
    "start_time": "2021-12-23T22:04:16.907Z"
   },
   {
    "duration": 274,
    "start_time": "2021-12-23T22:05:09.092Z"
   },
   {
    "duration": 379,
    "start_time": "2021-12-23T22:06:30.677Z"
   },
   {
    "duration": 65,
    "start_time": "2021-12-23T22:06:31.058Z"
   },
   {
    "duration": 102,
    "start_time": "2021-12-23T22:06:31.151Z"
   },
   {
    "duration": 35,
    "start_time": "2021-12-23T22:06:31.305Z"
   },
   {
    "duration": 271,
    "start_time": "2021-12-23T22:06:31.436Z"
   },
   {
    "duration": 262,
    "start_time": "2021-12-23T22:06:31.710Z"
   },
   {
    "duration": 254,
    "start_time": "2021-12-23T22:06:31.975Z"
   },
   {
    "duration": 272,
    "start_time": "2021-12-23T22:06:32.232Z"
   },
   {
    "duration": 55,
    "start_time": "2021-12-23T22:06:32.506Z"
   },
   {
    "duration": 4795,
    "start_time": "2021-12-23T22:06:32.564Z"
   },
   {
    "duration": 27,
    "start_time": "2021-12-23T22:06:37.362Z"
   },
   {
    "duration": 29,
    "start_time": "2021-12-23T22:06:37.391Z"
   },
   {
    "duration": 8,
    "start_time": "2021-12-23T22:06:37.423Z"
   },
   {
    "duration": 2947,
    "start_time": "2021-12-23T22:06:37.434Z"
   },
   {
    "duration": 6,
    "start_time": "2021-12-23T22:06:40.384Z"
   },
   {
    "duration": 42,
    "start_time": "2021-12-23T22:06:40.392Z"
   },
   {
    "duration": 7,
    "start_time": "2021-12-23T22:06:40.436Z"
   },
   {
    "duration": 3626,
    "start_time": "2021-12-23T22:06:40.445Z"
   },
   {
    "duration": 44,
    "start_time": "2021-12-23T22:06:44.073Z"
   },
   {
    "duration": 261,
    "start_time": "2021-12-23T22:06:44.120Z"
   },
   {
    "duration": 262,
    "start_time": "2021-12-23T22:07:49.469Z"
   },
   {
    "duration": 41,
    "start_time": "2021-12-23T22:07:55.429Z"
   },
   {
    "duration": 40,
    "start_time": "2021-12-23T22:08:40.939Z"
   },
   {
    "duration": 40,
    "start_time": "2021-12-23T22:09:07.487Z"
   },
   {
    "duration": 6,
    "start_time": "2021-12-23T22:26:29.829Z"
   },
   {
    "duration": 42,
    "start_time": "2021-12-23T22:28:30.119Z"
   },
   {
    "duration": 307,
    "start_time": "2021-12-23T22:53:46.318Z"
   },
   {
    "duration": 9,
    "start_time": "2021-12-23T22:54:09.108Z"
   },
   {
    "duration": 42,
    "start_time": "2021-12-23T22:54:13.737Z"
   },
   {
    "duration": 43,
    "start_time": "2021-12-23T22:54:38.827Z"
   },
   {
    "duration": 9,
    "start_time": "2021-12-23T22:56:09.489Z"
   },
   {
    "duration": 41,
    "start_time": "2021-12-23T22:56:10.667Z"
   },
   {
    "duration": 378,
    "start_time": "2021-12-23T22:56:33.796Z"
   },
   {
    "duration": 66,
    "start_time": "2021-12-23T22:56:34.176Z"
   },
   {
    "duration": 113,
    "start_time": "2021-12-23T22:56:34.245Z"
   },
   {
    "duration": 33,
    "start_time": "2021-12-23T22:56:34.360Z"
   },
   {
    "duration": 272,
    "start_time": "2021-12-23T22:56:34.485Z"
   },
   {
    "duration": 281,
    "start_time": "2021-12-23T22:56:34.759Z"
   },
   {
    "duration": 261,
    "start_time": "2021-12-23T22:56:35.043Z"
   },
   {
    "duration": 335,
    "start_time": "2021-12-23T22:56:35.307Z"
   },
   {
    "duration": 49,
    "start_time": "2021-12-23T22:56:35.644Z"
   },
   {
    "duration": 4773,
    "start_time": "2021-12-23T22:56:35.696Z"
   },
   {
    "duration": 28,
    "start_time": "2021-12-23T22:56:40.472Z"
   },
   {
    "duration": 24,
    "start_time": "2021-12-23T22:56:40.502Z"
   },
   {
    "duration": 6,
    "start_time": "2021-12-23T22:56:40.529Z"
   },
   {
    "duration": 2858,
    "start_time": "2021-12-23T22:56:40.538Z"
   },
   {
    "duration": 7,
    "start_time": "2021-12-23T22:56:43.399Z"
   },
   {
    "duration": 28,
    "start_time": "2021-12-23T22:56:43.416Z"
   },
   {
    "duration": 7,
    "start_time": "2021-12-23T22:56:43.446Z"
   },
   {
    "duration": 3551,
    "start_time": "2021-12-23T22:56:43.455Z"
   },
   {
    "duration": 31,
    "start_time": "2021-12-23T22:56:47.008Z"
   },
   {
    "duration": 10,
    "start_time": "2021-12-23T22:56:47.042Z"
   },
   {
    "duration": 68,
    "start_time": "2021-12-23T22:56:47.055Z"
   },
   {
    "duration": 9,
    "start_time": "2021-12-23T22:57:35.557Z"
   },
   {
    "duration": 43,
    "start_time": "2021-12-23T22:57:38.147Z"
   },
   {
    "duration": 11,
    "start_time": "2021-12-23T23:00:49.508Z"
   },
   {
    "duration": 42,
    "start_time": "2021-12-23T23:00:53.656Z"
   },
   {
    "duration": 379,
    "start_time": "2021-12-23T23:01:15.036Z"
   },
   {
    "duration": 59,
    "start_time": "2021-12-23T23:01:15.417Z"
   },
   {
    "duration": 116,
    "start_time": "2021-12-23T23:01:15.478Z"
   },
   {
    "duration": 48,
    "start_time": "2021-12-23T23:01:15.596Z"
   },
   {
    "duration": 278,
    "start_time": "2021-12-23T23:01:15.663Z"
   },
   {
    "duration": 266,
    "start_time": "2021-12-23T23:01:15.943Z"
   },
   {
    "duration": 254,
    "start_time": "2021-12-23T23:01:16.212Z"
   },
   {
    "duration": 301,
    "start_time": "2021-12-23T23:01:16.468Z"
   },
   {
    "duration": 56,
    "start_time": "2021-12-23T23:01:16.772Z"
   },
   {
    "duration": 4813,
    "start_time": "2021-12-23T23:01:16.831Z"
   },
   {
    "duration": 28,
    "start_time": "2021-12-23T23:01:21.647Z"
   },
   {
    "duration": 15,
    "start_time": "2021-12-23T23:01:21.678Z"
   },
   {
    "duration": 6,
    "start_time": "2021-12-23T23:01:21.717Z"
   },
   {
    "duration": 2851,
    "start_time": "2021-12-23T23:01:21.726Z"
   },
   {
    "duration": 7,
    "start_time": "2021-12-23T23:01:24.579Z"
   },
   {
    "duration": 45,
    "start_time": "2021-12-23T23:01:24.588Z"
   },
   {
    "duration": 6,
    "start_time": "2021-12-23T23:01:24.635Z"
   },
   {
    "duration": 3642,
    "start_time": "2021-12-23T23:01:24.643Z"
   },
   {
    "duration": 44,
    "start_time": "2021-12-23T23:01:28.288Z"
   },
   {
    "duration": 12,
    "start_time": "2021-12-23T23:01:28.334Z"
   },
   {
    "duration": 71,
    "start_time": "2021-12-23T23:01:28.350Z"
   },
   {
    "duration": 863,
    "start_time": "2021-12-24T07:00:57.663Z"
   },
   {
    "duration": 45,
    "start_time": "2021-12-24T07:00:58.528Z"
   },
   {
    "duration": 89,
    "start_time": "2021-12-24T07:00:58.575Z"
   },
   {
    "duration": 22,
    "start_time": "2021-12-24T07:00:58.666Z"
   },
   {
    "duration": 200,
    "start_time": "2021-12-24T07:00:58.690Z"
   },
   {
    "duration": 168,
    "start_time": "2021-12-24T07:00:58.891Z"
   },
   {
    "duration": 146,
    "start_time": "2021-12-24T07:00:59.061Z"
   },
   {
    "duration": 169,
    "start_time": "2021-12-24T07:00:59.209Z"
   },
   {
    "duration": 30,
    "start_time": "2021-12-24T07:00:59.380Z"
   },
   {
    "duration": 2736,
    "start_time": "2021-12-24T07:00:59.412Z"
   },
   {
    "duration": 25,
    "start_time": "2021-12-24T07:01:02.151Z"
   },
   {
    "duration": 23,
    "start_time": "2021-12-24T07:01:02.178Z"
   },
   {
    "duration": 6,
    "start_time": "2021-12-24T07:01:02.203Z"
   },
   {
    "duration": 1553,
    "start_time": "2021-12-24T07:01:02.210Z"
   },
   {
    "duration": 5,
    "start_time": "2021-12-24T07:01:03.765Z"
   },
   {
    "duration": 19,
    "start_time": "2021-12-24T07:01:03.772Z"
   },
   {
    "duration": 5,
    "start_time": "2021-12-24T07:01:03.793Z"
   },
   {
    "duration": 1989,
    "start_time": "2021-12-24T07:01:03.800Z"
   },
   {
    "duration": 17,
    "start_time": "2021-12-24T07:01:05.791Z"
   },
   {
    "duration": 8,
    "start_time": "2021-12-24T07:01:05.810Z"
   },
   {
    "duration": 50,
    "start_time": "2021-12-24T07:01:05.820Z"
   },
   {
    "duration": 518,
    "start_time": "2021-12-24T07:01:05.872Z"
   },
   {
    "duration": 405,
    "start_time": "2021-12-24T07:03:42.032Z"
   },
   {
    "duration": 19,
    "start_time": "2021-12-24T07:03:48.290Z"
   },
   {
    "duration": 4,
    "start_time": "2021-12-24T07:03:53.979Z"
   },
   {
    "duration": 4,
    "start_time": "2021-12-24T07:04:04.168Z"
   },
   {
    "duration": 274,
    "start_time": "2021-12-24T07:05:38.282Z"
   },
   {
    "duration": 397,
    "start_time": "2021-12-24T07:05:57.709Z"
   },
   {
    "duration": 265,
    "start_time": "2021-12-24T07:06:40.005Z"
   },
   {
    "duration": 259,
    "start_time": "2021-12-24T07:07:01.110Z"
   },
   {
    "duration": 269,
    "start_time": "2021-12-24T07:07:33.279Z"
   },
   {
    "duration": 286,
    "start_time": "2021-12-24T07:07:39.029Z"
   },
   {
    "duration": 1591,
    "start_time": "2021-12-24T07:07:57.139Z"
   },
   {
    "duration": 4,
    "start_time": "2021-12-24T07:08:40.682Z"
   },
   {
    "duration": 13,
    "start_time": "2021-12-24T07:09:41.429Z"
   },
   {
    "duration": 9,
    "start_time": "2021-12-24T07:10:47.702Z"
   },
   {
    "duration": 13,
    "start_time": "2021-12-24T07:11:01.829Z"
   },
   {
    "duration": 266,
    "start_time": "2021-12-24T07:11:26.249Z"
   },
   {
    "duration": 13,
    "start_time": "2021-12-24T07:11:32.590Z"
   },
   {
    "duration": 9,
    "start_time": "2021-12-24T07:15:39.754Z"
   },
   {
    "duration": 10,
    "start_time": "2021-12-24T07:16:45.777Z"
   },
   {
    "duration": 11,
    "start_time": "2021-12-24T07:16:56.879Z"
   },
   {
    "duration": 15,
    "start_time": "2021-12-24T07:17:05.231Z"
   },
   {
    "duration": 12,
    "start_time": "2021-12-24T07:17:28.792Z"
   },
   {
    "duration": 260,
    "start_time": "2021-12-24T07:28:08.454Z"
   },
   {
    "duration": 4,
    "start_time": "2021-12-24T07:28:14.156Z"
   },
   {
    "duration": 96,
    "start_time": "2021-12-24T07:29:24.797Z"
   },
   {
    "duration": 82,
    "start_time": "2021-12-24T07:29:32.466Z"
   },
   {
    "duration": 134,
    "start_time": "2021-12-24T07:30:07.339Z"
   },
   {
    "duration": 12,
    "start_time": "2021-12-24T07:30:32.554Z"
   },
   {
    "duration": 10,
    "start_time": "2021-12-24T07:31:04.116Z"
   },
   {
    "duration": 5,
    "start_time": "2021-12-24T07:36:00.250Z"
   },
   {
    "duration": 4,
    "start_time": "2021-12-24T07:36:10.768Z"
   },
   {
    "duration": 14,
    "start_time": "2021-12-24T07:42:00.458Z"
   },
   {
    "duration": 930,
    "start_time": "2021-12-24T08:23:26.815Z"
   },
   {
    "duration": 42,
    "start_time": "2021-12-24T08:23:27.747Z"
   },
   {
    "duration": 93,
    "start_time": "2021-12-24T08:23:27.792Z"
   },
   {
    "duration": 22,
    "start_time": "2021-12-24T08:23:27.887Z"
   },
   {
    "duration": 210,
    "start_time": "2021-12-24T08:23:27.911Z"
   },
   {
    "duration": 189,
    "start_time": "2021-12-24T08:23:28.123Z"
   },
   {
    "duration": 171,
    "start_time": "2021-12-24T08:23:28.313Z"
   },
   {
    "duration": 176,
    "start_time": "2021-12-24T08:23:28.486Z"
   },
   {
    "duration": 31,
    "start_time": "2021-12-24T08:23:28.664Z"
   },
   {
    "duration": 2981,
    "start_time": "2021-12-24T08:23:28.696Z"
   },
   {
    "duration": 19,
    "start_time": "2021-12-24T08:23:31.678Z"
   },
   {
    "duration": 16,
    "start_time": "2021-12-24T08:23:31.700Z"
   },
   {
    "duration": 30,
    "start_time": "2021-12-24T08:23:31.718Z"
   },
   {
    "duration": 1935,
    "start_time": "2021-12-24T08:23:31.751Z"
   },
   {
    "duration": 5,
    "start_time": "2021-12-24T08:23:33.687Z"
   },
   {
    "duration": 19,
    "start_time": "2021-12-24T08:23:33.693Z"
   },
   {
    "duration": 9,
    "start_time": "2021-12-24T08:23:33.714Z"
   },
   {
    "duration": 2062,
    "start_time": "2021-12-24T08:23:33.725Z"
   },
   {
    "duration": 18,
    "start_time": "2021-12-24T08:23:35.789Z"
   },
   {
    "duration": 5,
    "start_time": "2021-12-24T08:23:35.809Z"
   },
   {
    "duration": 45,
    "start_time": "2021-12-24T08:23:35.817Z"
   },
   {
    "duration": 541,
    "start_time": "2021-12-24T08:23:35.864Z"
   },
   {
    "duration": 331,
    "start_time": "2021-12-24T08:27:21.826Z"
   },
   {
    "duration": 40,
    "start_time": "2021-12-24T08:27:22.964Z"
   },
   {
    "duration": 72,
    "start_time": "2021-12-24T08:27:24.016Z"
   },
   {
    "duration": 23,
    "start_time": "2021-12-24T08:27:46.156Z"
   },
   {
    "duration": 168,
    "start_time": "2021-12-24T08:27:46.966Z"
   },
   {
    "duration": 164,
    "start_time": "2021-12-24T08:27:47.633Z"
   },
   {
    "duration": 149,
    "start_time": "2021-12-24T08:27:48.173Z"
   },
   {
    "duration": 170,
    "start_time": "2021-12-24T08:27:48.635Z"
   },
   {
    "duration": 32,
    "start_time": "2021-12-24T08:27:49.006Z"
   },
   {
    "duration": 2798,
    "start_time": "2021-12-24T08:27:49.371Z"
   },
   {
    "duration": 17,
    "start_time": "2021-12-24T08:27:52.171Z"
   },
   {
    "duration": 6,
    "start_time": "2021-12-24T08:27:52.190Z"
   },
   {
    "duration": 4,
    "start_time": "2021-12-24T08:27:52.198Z"
   },
   {
    "duration": 1874,
    "start_time": "2021-12-24T08:27:52.204Z"
   },
   {
    "duration": 5,
    "start_time": "2021-12-24T08:27:54.080Z"
   },
   {
    "duration": 24,
    "start_time": "2021-12-24T08:27:54.087Z"
   },
   {
    "duration": 19,
    "start_time": "2021-12-24T08:27:54.114Z"
   },
   {
    "duration": 2107,
    "start_time": "2021-12-24T08:27:54.135Z"
   },
   {
    "duration": 24,
    "start_time": "2021-12-24T08:27:56.245Z"
   },
   {
    "duration": 10,
    "start_time": "2021-12-24T08:27:56.271Z"
   },
   {
    "duration": 29,
    "start_time": "2021-12-24T08:27:56.282Z"
   },
   {
    "duration": 9,
    "start_time": "2021-12-24T08:27:56.313Z"
   },
   {
    "duration": 309,
    "start_time": "2021-12-25T18:30:52.335Z"
   },
   {
    "duration": 796,
    "start_time": "2021-12-25T18:30:59.239Z"
   },
   {
    "duration": 505,
    "start_time": "2021-12-25T18:33:35.247Z"
   },
   {
    "duration": 60,
    "start_time": "2021-12-25T18:35:01.986Z"
   },
   {
    "duration": 47,
    "start_time": "2021-12-25T18:36:32.131Z"
   },
   {
    "duration": 41,
    "start_time": "2021-12-25T18:39:52.963Z"
   },
   {
    "duration": 29,
    "start_time": "2021-12-25T18:41:20.658Z"
   },
   {
    "duration": 17,
    "start_time": "2021-12-25T18:42:32.277Z"
   },
   {
    "duration": 8,
    "start_time": "2021-12-25T18:42:45.262Z"
   },
   {
    "duration": 6851,
    "start_time": "2021-12-25T18:43:20.788Z"
   },
   {
    "duration": 29,
    "start_time": "2021-12-25T18:44:07.616Z"
   },
   {
    "duration": 11,
    "start_time": "2021-12-25T18:44:16.403Z"
   },
   {
    "duration": 34,
    "start_time": "2021-12-25T18:44:49.245Z"
   },
   {
    "duration": 29,
    "start_time": "2021-12-25T18:44:57.908Z"
   },
   {
    "duration": 861,
    "start_time": "2021-12-25T18:45:17.778Z"
   },
   {
    "duration": 84,
    "start_time": "2021-12-25T18:45:33.733Z"
   },
   {
    "duration": 26,
    "start_time": "2021-12-25T18:46:28.125Z"
   },
   {
    "duration": 290,
    "start_time": "2021-12-25T18:46:39.757Z"
   },
   {
    "duration": 26,
    "start_time": "2021-12-25T18:46:48.965Z"
   },
   {
    "duration": 30,
    "start_time": "2021-12-25T18:48:27.171Z"
   },
   {
    "duration": 293,
    "start_time": "2021-12-25T21:03:35.556Z"
   },
   {
    "duration": 576,
    "start_time": "2021-12-25T21:03:38.616Z"
   },
   {
    "duration": 298,
    "start_time": "2021-12-25T21:03:39.305Z"
   },
   {
    "duration": 42,
    "start_time": "2021-12-25T21:03:40.339Z"
   },
   {
    "duration": 35,
    "start_time": "2021-12-25T21:03:41.090Z"
   },
   {
    "duration": 24,
    "start_time": "2021-12-25T21:03:41.899Z"
   },
   {
    "duration": 20,
    "start_time": "2021-12-25T21:03:42.327Z"
   },
   {
    "duration": 8,
    "start_time": "2021-12-25T21:03:42.910Z"
   },
   {
    "duration": 8,
    "start_time": "2021-12-25T21:04:58.240Z"
   },
   {
    "duration": 432,
    "start_time": "2021-12-25T21:06:46.791Z"
   },
   {
    "duration": 302,
    "start_time": "2021-12-25T21:07:17.300Z"
   },
   {
    "duration": 24,
    "start_time": "2021-12-25T21:07:52.381Z"
   },
   {
    "duration": 269,
    "start_time": "2021-12-25T21:08:47.191Z"
   },
   {
    "duration": 270,
    "start_time": "2021-12-25T21:09:00.760Z"
   },
   {
    "duration": 267,
    "start_time": "2021-12-25T21:09:29.369Z"
   },
   {
    "duration": 306,
    "start_time": "2021-12-25T21:10:09.619Z"
   },
   {
    "duration": 3,
    "start_time": "2021-12-25T21:10:17.609Z"
   },
   {
    "duration": 316,
    "start_time": "2021-12-25T21:10:17.615Z"
   },
   {
    "duration": 40,
    "start_time": "2021-12-25T21:10:17.933Z"
   },
   {
    "duration": 32,
    "start_time": "2021-12-25T21:10:17.975Z"
   },
   {
    "duration": 25,
    "start_time": "2021-12-25T21:10:18.141Z"
   },
   {
    "duration": 19,
    "start_time": "2021-12-25T21:10:18.262Z"
   },
   {
    "duration": 261,
    "start_time": "2021-12-25T21:10:18.471Z"
   },
   {
    "duration": 267,
    "start_time": "2021-12-25T21:15:11.321Z"
   },
   {
    "duration": 2519,
    "start_time": "2021-12-25T21:17:37.898Z"
   },
   {
    "duration": 2626,
    "start_time": "2021-12-25T21:17:59.062Z"
   },
   {
    "duration": 3,
    "start_time": "2021-12-25T21:18:30.708Z"
   },
   {
    "duration": 309,
    "start_time": "2021-12-25T21:18:30.951Z"
   },
   {
    "duration": 43,
    "start_time": "2021-12-25T21:18:31.261Z"
   },
   {
    "duration": 30,
    "start_time": "2021-12-25T21:18:31.428Z"
   },
   {
    "duration": 23,
    "start_time": "2021-12-25T21:18:31.721Z"
   },
   {
    "duration": 19,
    "start_time": "2021-12-25T21:18:32.190Z"
   },
   {
    "duration": 3050,
    "start_time": "2021-12-25T21:18:32.598Z"
   },
   {
    "duration": 2646,
    "start_time": "2021-12-25T21:18:46.660Z"
   },
   {
    "duration": 2,
    "start_time": "2021-12-25T21:18:54.962Z"
   },
   {
    "duration": 308,
    "start_time": "2021-12-25T21:18:55.374Z"
   },
   {
    "duration": 41,
    "start_time": "2021-12-25T21:18:55.691Z"
   },
   {
    "duration": 32,
    "start_time": "2021-12-25T21:18:56.019Z"
   },
   {
    "duration": 26,
    "start_time": "2021-12-25T21:18:56.350Z"
   },
   {
    "duration": 19,
    "start_time": "2021-12-25T21:18:56.874Z"
   },
   {
    "duration": 2571,
    "start_time": "2021-12-25T21:18:57.560Z"
   },
   {
    "duration": 284,
    "start_time": "2021-12-25T21:19:57.021Z"
   },
   {
    "duration": 411,
    "start_time": "2021-12-25T21:20:08.620Z"
   },
   {
    "duration": 264,
    "start_time": "2021-12-25T21:21:40.870Z"
   },
   {
    "duration": 326,
    "start_time": "2021-12-25T21:22:02.178Z"
   },
   {
    "duration": 2,
    "start_time": "2021-12-25T21:22:21.311Z"
   },
   {
    "duration": 296,
    "start_time": "2021-12-25T21:22:21.522Z"
   },
   {
    "duration": 43,
    "start_time": "2021-12-25T21:22:21.820Z"
   },
   {
    "duration": 34,
    "start_time": "2021-12-25T21:22:22.060Z"
   },
   {
    "duration": 25,
    "start_time": "2021-12-25T21:22:22.270Z"
   },
   {
    "duration": 19,
    "start_time": "2021-12-25T21:22:22.500Z"
   },
   {
    "duration": 272,
    "start_time": "2021-12-25T21:22:22.887Z"
   },
   {
    "duration": 7,
    "start_time": "2021-12-25T21:22:49.371Z"
   },
   {
    "duration": 20,
    "start_time": "2021-12-25T21:23:04.560Z"
   },
   {
    "duration": 20,
    "start_time": "2021-12-25T21:23:35.240Z"
   },
   {
    "duration": 5,
    "start_time": "2021-12-25T21:42:59.842Z"
   },
   {
    "duration": 2986,
    "start_time": "2021-12-25T21:44:13.389Z"
   },
   {
    "duration": 3,
    "start_time": "2021-12-25T21:44:24.713Z"
   },
   {
    "duration": 326,
    "start_time": "2021-12-25T21:44:24.875Z"
   },
   {
    "duration": 49,
    "start_time": "2021-12-25T21:44:25.361Z"
   },
   {
    "duration": 27,
    "start_time": "2021-12-25T21:44:25.586Z"
   },
   {
    "duration": 23,
    "start_time": "2021-12-25T21:44:26.087Z"
   },
   {
    "duration": 19,
    "start_time": "2021-12-25T21:44:26.603Z"
   },
   {
    "duration": 3128,
    "start_time": "2021-12-25T21:44:29.730Z"
   },
   {
    "duration": 2618,
    "start_time": "2021-12-25T21:45:28.403Z"
   },
   {
    "duration": 3,
    "start_time": "2021-12-25T21:46:26.283Z"
   },
   {
    "duration": 317,
    "start_time": "2021-12-25T21:46:26.605Z"
   },
   {
    "duration": 43,
    "start_time": "2021-12-25T21:46:26.924Z"
   },
   {
    "duration": 29,
    "start_time": "2021-12-25T21:46:27.032Z"
   },
   {
    "duration": 30,
    "start_time": "2021-12-25T21:46:27.403Z"
   },
   {
    "duration": 26,
    "start_time": "2021-12-25T21:46:27.761Z"
   },
   {
    "duration": 5,
    "start_time": "2021-12-25T21:46:27.855Z"
   },
   {
    "duration": 7,
    "start_time": "2021-12-25T21:47:17.873Z"
   },
   {
    "duration": 10,
    "start_time": "2021-12-25T21:47:25.391Z"
   },
   {
    "duration": 288,
    "start_time": "2021-12-25T21:49:18.953Z"
   },
   {
    "duration": 23,
    "start_time": "2021-12-25T21:49:35.182Z"
   },
   {
    "duration": 25,
    "start_time": "2021-12-25T21:49:53.872Z"
   },
   {
    "duration": 11,
    "start_time": "2021-12-25T22:02:12.522Z"
   },
   {
    "duration": 273,
    "start_time": "2021-12-25T22:02:34.713Z"
   },
   {
    "duration": 265,
    "start_time": "2021-12-25T22:02:43.622Z"
   },
   {
    "duration": 268,
    "start_time": "2021-12-25T22:02:47.043Z"
   },
   {
    "duration": 7,
    "start_time": "2021-12-25T22:03:29.733Z"
   },
   {
    "duration": 7,
    "start_time": "2021-12-25T22:05:02.134Z"
   },
   {
    "duration": 345,
    "start_time": "2021-12-25T22:07:16.534Z"
   },
   {
    "duration": 44,
    "start_time": "2021-12-25T22:07:30.515Z"
   },
   {
    "duration": 28,
    "start_time": "2021-12-25T22:08:57.771Z"
   },
   {
    "duration": 27,
    "start_time": "2021-12-25T22:09:15.843Z"
   },
   {
    "duration": 270,
    "start_time": "2021-12-25T22:12:09.455Z"
   },
   {
    "duration": 34,
    "start_time": "2021-12-25T22:12:17.171Z"
   },
   {
    "duration": 41,
    "start_time": "2021-12-25T22:12:30.569Z"
   },
   {
    "duration": 338,
    "start_time": "2021-12-25T22:12:43.280Z"
   },
   {
    "duration": 3,
    "start_time": "2021-12-25T22:12:51.095Z"
   },
   {
    "duration": 366,
    "start_time": "2021-12-25T22:12:51.414Z"
   },
   {
    "duration": 40,
    "start_time": "2021-12-25T22:12:51.782Z"
   },
   {
    "duration": 37,
    "start_time": "2021-12-25T22:12:52.046Z"
   },
   {
    "duration": 25,
    "start_time": "2021-12-25T22:12:52.337Z"
   },
   {
    "duration": 21,
    "start_time": "2021-12-25T22:12:52.774Z"
   },
   {
    "duration": 22,
    "start_time": "2021-12-25T22:12:53.276Z"
   },
   {
    "duration": 25,
    "start_time": "2021-12-25T22:12:53.907Z"
   },
   {
    "duration": 314,
    "start_time": "2021-12-25T22:12:54.588Z"
   },
   {
    "duration": 33,
    "start_time": "2021-12-25T22:13:27.288Z"
   },
   {
    "duration": 2,
    "start_time": "2021-12-25T22:14:07.889Z"
   },
   {
    "duration": 343,
    "start_time": "2021-12-25T22:14:08.279Z"
   },
   {
    "duration": 41,
    "start_time": "2021-12-25T22:14:08.716Z"
   },
   {
    "duration": 32,
    "start_time": "2021-12-25T22:14:09.273Z"
   },
   {
    "duration": 28,
    "start_time": "2021-12-25T22:14:09.776Z"
   },
   {
    "duration": 18,
    "start_time": "2021-12-25T22:14:10.328Z"
   },
   {
    "duration": 10,
    "start_time": "2021-12-25T22:14:10.836Z"
   },
   {
    "duration": 34,
    "start_time": "2021-12-25T22:14:11.557Z"
   },
   {
    "duration": 21,
    "start_time": "2021-12-25T22:14:12.797Z"
   },
   {
    "duration": 22,
    "start_time": "2021-12-25T22:15:02.753Z"
   },
   {
    "duration": 20,
    "start_time": "2021-12-25T22:16:01.882Z"
   },
   {
    "duration": 21,
    "start_time": "2021-12-25T22:16:11.144Z"
   },
   {
    "duration": 30,
    "start_time": "2021-12-25T22:16:34.593Z"
   },
   {
    "duration": 19,
    "start_time": "2021-12-25T22:16:50.216Z"
   },
   {
    "duration": 288,
    "start_time": "2021-12-25T22:17:01.566Z"
   },
   {
    "duration": 341,
    "start_time": "2021-12-25T22:18:00.066Z"
   },
   {
    "duration": 7095,
    "start_time": "2021-12-25T22:18:24.250Z"
   },
   {
    "duration": 11,
    "start_time": "2021-12-25T22:18:47.374Z"
   },
   {
    "duration": 337,
    "start_time": "2021-12-25T22:20:15.851Z"
   },
   {
    "duration": 18,
    "start_time": "2021-12-25T22:20:29.611Z"
   },
   {
    "duration": 474,
    "start_time": "2021-12-25T22:22:42.936Z"
   },
   {
    "duration": 302,
    "start_time": "2021-12-25T22:23:00.173Z"
   },
   {
    "duration": 27,
    "start_time": "2021-12-25T22:23:07.756Z"
   },
   {
    "duration": 10,
    "start_time": "2021-12-25T22:23:58.022Z"
   },
   {
    "duration": 274,
    "start_time": "2021-12-25T22:24:40.405Z"
   },
   {
    "duration": 16,
    "start_time": "2021-12-25T22:25:30.292Z"
   },
   {
    "duration": 619,
    "start_time": "2021-12-26T05:56:18.544Z"
   },
   {
    "duration": 307,
    "start_time": "2021-12-26T05:56:19.165Z"
   },
   {
    "duration": 42,
    "start_time": "2021-12-26T05:56:19.474Z"
   },
   {
    "duration": 33,
    "start_time": "2021-12-26T05:56:19.653Z"
   },
   {
    "duration": 24,
    "start_time": "2021-12-26T05:56:20.564Z"
   },
   {
    "duration": 20,
    "start_time": "2021-12-26T05:56:21.053Z"
   },
   {
    "duration": 11,
    "start_time": "2021-12-26T05:56:21.724Z"
   },
   {
    "duration": 27,
    "start_time": "2021-12-26T05:56:22.963Z"
   },
   {
    "duration": 310,
    "start_time": "2021-12-26T05:56:55.104Z"
   },
   {
    "duration": 13,
    "start_time": "2021-12-26T05:57:17.262Z"
   },
   {
    "duration": 9,
    "start_time": "2021-12-26T05:57:40.612Z"
   },
   {
    "duration": 30,
    "start_time": "2021-12-26T06:01:25.172Z"
   },
   {
    "duration": 24,
    "start_time": "2021-12-26T06:01:36.212Z"
   },
   {
    "duration": 27,
    "start_time": "2021-12-26T06:01:45.674Z"
   },
   {
    "duration": 24,
    "start_time": "2021-12-26T06:02:54.554Z"
   },
   {
    "duration": 18,
    "start_time": "2021-12-26T06:03:04.764Z"
   },
   {
    "duration": 9,
    "start_time": "2021-12-26T06:03:18.402Z"
   },
   {
    "duration": 266,
    "start_time": "2021-12-26T06:04:08.684Z"
   },
   {
    "duration": 4,
    "start_time": "2021-12-26T06:06:01.664Z"
   },
   {
    "duration": 8,
    "start_time": "2021-12-26T06:06:20.192Z"
   },
   {
    "duration": 23,
    "start_time": "2021-12-26T06:08:17.534Z"
   },
   {
    "duration": 40,
    "start_time": "2021-12-26T06:10:10.564Z"
   },
   {
    "duration": 25,
    "start_time": "2021-12-26T06:11:48.891Z"
   },
   {
    "duration": 6,
    "start_time": "2021-12-26T06:12:17.885Z"
   },
   {
    "duration": 245,
    "start_time": "2021-12-26T06:13:40.685Z"
   },
   {
    "duration": 769,
    "start_time": "2021-12-26T06:15:12.774Z"
   },
   {
    "duration": 299,
    "start_time": "2021-12-26T06:16:09.213Z"
   },
   {
    "duration": 890,
    "start_time": "2021-12-26T06:17:22.404Z"
   },
   {
    "duration": 6,
    "start_time": "2021-12-26T06:18:01.744Z"
   },
   {
    "duration": 3,
    "start_time": "2021-12-26T06:18:22.393Z"
   },
   {
    "duration": 7,
    "start_time": "2021-12-26T06:18:26.913Z"
   },
   {
    "duration": 4532,
    "start_time": "2021-12-26T06:18:46.623Z"
   },
   {
    "duration": 6,
    "start_time": "2021-12-26T06:19:28.673Z"
   },
   {
    "duration": 6,
    "start_time": "2021-12-26T06:19:39.656Z"
   },
   {
    "duration": 260,
    "start_time": "2021-12-26T06:19:57.233Z"
   },
   {
    "duration": 992,
    "start_time": "2021-12-26T06:20:13.372Z"
   },
   {
    "duration": 268,
    "start_time": "2021-12-26T06:21:22.661Z"
   },
   {
    "duration": 903,
    "start_time": "2021-12-26T06:22:24.691Z"
   },
   {
    "duration": 1092,
    "start_time": "2021-12-26T06:23:13.153Z"
   },
   {
    "duration": 975,
    "start_time": "2021-12-26T06:25:03.543Z"
   },
   {
    "duration": 524,
    "start_time": "2021-12-26T06:25:57.522Z"
   },
   {
    "duration": 530,
    "start_time": "2021-12-26T06:26:03.711Z"
   },
   {
    "duration": 425,
    "start_time": "2021-12-26T06:26:54.604Z"
   },
   {
    "duration": 502,
    "start_time": "2021-12-26T06:27:09.092Z"
   },
   {
    "duration": 432,
    "start_time": "2021-12-26T06:27:24.933Z"
   },
   {
    "duration": 18806,
    "start_time": "2021-12-26T06:28:21.863Z"
   },
   {
    "duration": 378,
    "start_time": "2021-12-26T06:30:50.163Z"
   },
   {
    "duration": 337,
    "start_time": "2021-12-26T06:31:14.373Z"
   },
   {
    "duration": 354,
    "start_time": "2021-12-26T06:31:50.961Z"
   },
   {
    "duration": 374,
    "start_time": "2021-12-26T06:33:22.814Z"
   },
   {
    "duration": 19106,
    "start_time": "2021-12-26T06:35:04.292Z"
   },
   {
    "duration": 2,
    "start_time": "2021-12-26T06:35:36.870Z"
   },
   {
    "duration": 297,
    "start_time": "2021-12-26T06:35:37.182Z"
   },
   {
    "duration": 40,
    "start_time": "2021-12-26T06:35:37.512Z"
   },
   {
    "duration": 29,
    "start_time": "2021-12-26T06:35:37.898Z"
   },
   {
    "duration": 26,
    "start_time": "2021-12-26T06:35:38.642Z"
   },
   {
    "duration": 20,
    "start_time": "2021-12-26T06:35:38.808Z"
   },
   {
    "duration": 11,
    "start_time": "2021-12-26T06:35:39.410Z"
   },
   {
    "duration": 24,
    "start_time": "2021-12-26T06:35:40.182Z"
   },
   {
    "duration": 277,
    "start_time": "2021-12-26T06:35:40.824Z"
   },
   {
    "duration": 87,
    "start_time": "2021-12-26T06:40:34.642Z"
   },
   {
    "duration": 46,
    "start_time": "2021-12-26T06:42:50.513Z"
   },
   {
    "duration": 53,
    "start_time": "2021-12-26T06:42:57.264Z"
   },
   {
    "duration": 43,
    "start_time": "2021-12-26T06:43:20.533Z"
   },
   {
    "duration": 46,
    "start_time": "2021-12-26T06:46:53.970Z"
   },
   {
    "duration": 45,
    "start_time": "2021-12-26T06:47:05.857Z"
   },
   {
    "duration": 150,
    "start_time": "2021-12-26T06:48:37.289Z"
   },
   {
    "duration": 160,
    "start_time": "2021-12-26T06:48:44.269Z"
   },
   {
    "duration": 396,
    "start_time": "2021-12-26T06:49:00.420Z"
   },
   {
    "duration": 398,
    "start_time": "2021-12-26T06:49:24.718Z"
   },
   {
    "duration": 156,
    "start_time": "2021-12-26T06:49:37.371Z"
   },
   {
    "duration": 100,
    "start_time": "2021-12-26T06:52:14.300Z"
   },
   {
    "duration": 308,
    "start_time": "2021-12-26T06:52:21.119Z"
   },
   {
    "duration": 45,
    "start_time": "2021-12-26T06:52:28.878Z"
   },
   {
    "duration": 93779,
    "start_time": "2021-12-26T06:52:47.920Z"
   },
   {
    "duration": 57,
    "start_time": "2021-12-26T06:57:14.479Z"
   },
   {
    "duration": 558,
    "start_time": "2021-12-26T06:57:52.199Z"
   },
   {
    "duration": 89,
    "start_time": "2021-12-26T06:58:05.440Z"
   },
   {
    "duration": 310,
    "start_time": "2021-12-26T06:58:41.159Z"
   },
   {
    "duration": 55,
    "start_time": "2021-12-26T06:58:59.729Z"
   },
   {
    "duration": 2227,
    "start_time": "2021-12-26T07:06:00.261Z"
   },
   {
    "duration": 246,
    "start_time": "2021-12-26T07:07:02.152Z"
   },
   {
    "duration": 2525,
    "start_time": "2021-12-26T07:07:14.840Z"
   },
   {
    "duration": 336,
    "start_time": "2021-12-26T07:09:09.797Z"
   },
   {
    "duration": 302,
    "start_time": "2021-12-26T07:09:38.149Z"
   },
   {
    "duration": 376,
    "start_time": "2021-12-26T07:09:45.621Z"
   },
   {
    "duration": 2207,
    "start_time": "2021-12-26T07:09:50.416Z"
   },
   {
    "duration": 408,
    "start_time": "2021-12-26T07:11:09.855Z"
   },
   {
    "duration": 563,
    "start_time": "2021-12-26T07:11:19.112Z"
   },
   {
    "duration": 371,
    "start_time": "2021-12-26T07:11:35.025Z"
   },
   {
    "duration": 6698,
    "start_time": "2021-12-26T07:11:55.524Z"
   },
   {
    "duration": 246,
    "start_time": "2021-12-26T07:12:17.523Z"
   },
   {
    "duration": 2015,
    "start_time": "2021-12-26T07:13:07.396Z"
   },
   {
    "duration": 475,
    "start_time": "2021-12-26T07:15:28.133Z"
   },
   {
    "duration": 376,
    "start_time": "2021-12-26T07:15:38.210Z"
   },
   {
    "duration": 301,
    "start_time": "2021-12-26T07:15:44.460Z"
   },
   {
    "duration": 488,
    "start_time": "2021-12-26T07:15:47.986Z"
   },
   {
    "duration": 481,
    "start_time": "2021-12-26T07:15:56.403Z"
   },
   {
    "duration": 518,
    "start_time": "2021-12-26T07:16:03.982Z"
   },
   {
    "duration": 342,
    "start_time": "2021-12-26T07:16:18.672Z"
   },
   {
    "duration": 80,
    "start_time": "2021-12-26T07:18:40.520Z"
   },
   {
    "duration": 389,
    "start_time": "2021-12-26T07:19:00.489Z"
   },
   {
    "duration": 71,
    "start_time": "2021-12-26T07:19:08.049Z"
   },
   {
    "duration": 325,
    "start_time": "2021-12-26T07:19:23.988Z"
   },
   {
    "duration": 367,
    "start_time": "2021-12-26T07:19:48.629Z"
   },
   {
    "duration": 80,
    "start_time": "2021-12-26T07:20:03.652Z"
   },
   {
    "duration": 318,
    "start_time": "2021-12-26T07:20:25.208Z"
   },
   {
    "duration": 324,
    "start_time": "2021-12-26T07:20:35.449Z"
   },
   {
    "duration": 408,
    "start_time": "2021-12-26T07:20:54.849Z"
   },
   {
    "duration": 323,
    "start_time": "2021-12-26T07:22:12.525Z"
   },
   {
    "duration": 337,
    "start_time": "2021-12-26T07:23:24.359Z"
   },
   {
    "duration": 323,
    "start_time": "2021-12-26T07:23:38.172Z"
   },
   {
    "duration": 3,
    "start_time": "2021-12-26T07:23:43.478Z"
   },
   {
    "duration": 291,
    "start_time": "2021-12-26T07:23:43.591Z"
   },
   {
    "duration": 41,
    "start_time": "2021-12-26T07:23:43.884Z"
   },
   {
    "duration": 27,
    "start_time": "2021-12-26T07:23:43.941Z"
   },
   {
    "duration": 24,
    "start_time": "2021-12-26T07:23:44.127Z"
   },
   {
    "duration": 20,
    "start_time": "2021-12-26T07:23:44.302Z"
   },
   {
    "duration": 10,
    "start_time": "2021-12-26T07:23:44.482Z"
   },
   {
    "duration": 24,
    "start_time": "2021-12-26T07:23:45.599Z"
   },
   {
    "duration": 320,
    "start_time": "2021-12-26T07:23:46.257Z"
   },
   {
    "duration": 186,
    "start_time": "2021-12-26T07:23:55.399Z"
   },
   {
    "duration": 466,
    "start_time": "2021-12-26T07:27:22.059Z"
   },
   {
    "duration": 37606,
    "start_time": "2021-12-26T07:31:21.420Z"
   },
   {
    "duration": 280,
    "start_time": "2021-12-26T07:32:07.569Z"
   },
   {
    "duration": 271,
    "start_time": "2021-12-26T07:32:14.757Z"
   },
   {
    "duration": 285,
    "start_time": "2021-12-26T07:33:57.488Z"
   },
   {
    "duration": 174,
    "start_time": "2021-12-26T07:34:21.127Z"
   },
   {
    "duration": 67,
    "start_time": "2021-12-26T07:34:49.308Z"
   },
   {
    "duration": 64,
    "start_time": "2021-12-26T07:34:56.367Z"
   },
   {
    "duration": 79,
    "start_time": "2021-12-26T07:35:04.158Z"
   },
   {
    "duration": 374,
    "start_time": "2021-12-26T07:35:57.058Z"
   },
   {
    "duration": 354,
    "start_time": "2021-12-26T07:41:44.125Z"
   },
   {
    "duration": 354,
    "start_time": "2021-12-26T07:41:53.464Z"
   },
   {
    "duration": 17505,
    "start_time": "2021-12-26T07:42:50.885Z"
   },
   {
    "duration": 194,
    "start_time": "2021-12-26T07:43:25.814Z"
   },
   {
    "duration": 344,
    "start_time": "2021-12-26T07:43:41.504Z"
   },
   {
    "duration": 366,
    "start_time": "2021-12-26T07:43:56.984Z"
   },
   {
    "duration": 319,
    "start_time": "2021-12-26T07:44:12.455Z"
   },
   {
    "duration": 326,
    "start_time": "2021-12-26T07:44:27.350Z"
   },
   {
    "duration": 96,
    "start_time": "2021-12-26T07:44:35.285Z"
   },
   {
    "duration": 319,
    "start_time": "2021-12-26T07:44:40.874Z"
   },
   {
    "duration": 234,
    "start_time": "2021-12-26T07:46:43.756Z"
   },
   {
    "duration": 285,
    "start_time": "2021-12-26T07:46:53.995Z"
   },
   {
    "duration": 190,
    "start_time": "2021-12-26T07:47:05.975Z"
   },
   {
    "duration": 328,
    "start_time": "2021-12-26T07:48:36.444Z"
   },
   {
    "duration": 378,
    "start_time": "2021-12-26T07:48:47.747Z"
   },
   {
    "duration": 343,
    "start_time": "2021-12-26T07:49:01.179Z"
   },
   {
    "duration": 73,
    "start_time": "2021-12-26T07:49:21.042Z"
   },
   {
    "duration": 122,
    "start_time": "2021-12-26T07:49:35.206Z"
   },
   {
    "duration": 663,
    "start_time": "2021-12-26T07:50:10.993Z"
   },
   {
    "duration": 331,
    "start_time": "2021-12-26T07:55:35.511Z"
   },
   {
    "duration": 353,
    "start_time": "2021-12-26T07:56:04.764Z"
   },
   {
    "duration": 142,
    "start_time": "2021-12-26T07:57:58.230Z"
   },
   {
    "duration": 323,
    "start_time": "2021-12-26T07:58:08.538Z"
   },
   {
    "duration": 314,
    "start_time": "2021-12-26T07:58:26.800Z"
   },
   {
    "duration": 81,
    "start_time": "2021-12-26T08:02:25.068Z"
   },
   {
    "duration": 84,
    "start_time": "2021-12-26T08:02:40.733Z"
   },
   {
    "duration": 85,
    "start_time": "2021-12-26T08:03:28.903Z"
   },
   {
    "duration": 79,
    "start_time": "2021-12-26T08:04:25.187Z"
   },
   {
    "duration": 83,
    "start_time": "2021-12-26T08:06:43.894Z"
   },
   {
    "duration": 116,
    "start_time": "2021-12-26T08:07:03.455Z"
   },
   {
    "duration": 178,
    "start_time": "2021-12-26T08:07:11.854Z"
   },
   {
    "duration": 124,
    "start_time": "2021-12-26T08:13:30.723Z"
   },
   {
    "duration": 605,
    "start_time": "2021-12-26T08:14:33.778Z"
   },
   {
    "duration": 113,
    "start_time": "2021-12-26T08:14:51.325Z"
   },
   {
    "duration": 44634,
    "start_time": "2021-12-26T08:19:10.968Z"
   },
   {
    "duration": 636,
    "start_time": "2021-12-26T08:21:19.134Z"
   },
   {
    "duration": 313,
    "start_time": "2021-12-26T08:21:19.946Z"
   },
   {
    "duration": 42,
    "start_time": "2021-12-26T08:21:20.602Z"
   },
   {
    "duration": 32,
    "start_time": "2021-12-26T08:21:21.223Z"
   },
   {
    "duration": 25,
    "start_time": "2021-12-26T08:21:21.728Z"
   },
   {
    "duration": 20,
    "start_time": "2021-12-26T08:21:22.336Z"
   },
   {
    "duration": 10,
    "start_time": "2021-12-26T08:21:22.897Z"
   },
   {
    "duration": 25,
    "start_time": "2021-12-26T08:21:23.870Z"
   },
   {
    "duration": 81,
    "start_time": "2021-12-26T08:21:25.112Z"
   },
   {
    "duration": 31703,
    "start_time": "2021-12-26T08:21:36.113Z"
   },
   {
    "duration": 407,
    "start_time": "2021-12-26T08:22:25.562Z"
   },
   {
    "duration": 391,
    "start_time": "2021-12-26T08:22:29.432Z"
   },
   {
    "duration": 121,
    "start_time": "2021-12-26T08:22:44.931Z"
   },
   {
    "duration": 577,
    "start_time": "2021-12-26T08:23:10.193Z"
   },
   {
    "duration": 609,
    "start_time": "2021-12-26T08:23:13.801Z"
   },
   {
    "duration": 383,
    "start_time": "2021-12-26T08:23:22.438Z"
   },
   {
    "duration": 156,
    "start_time": "2021-12-26T08:23:27.962Z"
   },
   {
    "duration": 582,
    "start_time": "2021-12-26T08:32:45.584Z"
   },
   {
    "duration": 302,
    "start_time": "2021-12-26T08:32:46.852Z"
   },
   {
    "duration": 46,
    "start_time": "2021-12-26T08:32:47.344Z"
   },
   {
    "duration": 32,
    "start_time": "2021-12-26T08:32:47.811Z"
   },
   {
    "duration": 26,
    "start_time": "2021-12-26T08:32:48.555Z"
   },
   {
    "duration": 19,
    "start_time": "2021-12-26T08:32:49.216Z"
   },
   {
    "duration": 10,
    "start_time": "2021-12-26T08:32:50.851Z"
   },
   {
    "duration": 24,
    "start_time": "2021-12-26T08:32:52.825Z"
   },
   {
    "duration": 3371,
    "start_time": "2021-12-26T08:32:53.797Z"
   },
   {
    "duration": 111,
    "start_time": "2021-12-26T08:33:11.236Z"
   },
   {
    "duration": 328,
    "start_time": "2021-12-26T08:33:27.719Z"
   },
   {
    "duration": 1171,
    "start_time": "2021-12-26T08:33:52.206Z"
   },
   {
    "duration": 124,
    "start_time": "2021-12-26T08:34:00.446Z"
   },
   {
    "duration": 9144,
    "start_time": "2021-12-26T08:34:17.070Z"
   },
   {
    "duration": 340,
    "start_time": "2021-12-26T08:35:02.575Z"
   },
   {
    "duration": 341,
    "start_time": "2021-12-26T08:35:09.702Z"
   },
   {
    "duration": 384,
    "start_time": "2021-12-26T08:35:25.706Z"
   },
   {
    "duration": 340,
    "start_time": "2021-12-26T08:35:41.679Z"
   },
   {
    "duration": 329,
    "start_time": "2021-12-26T08:39:10.489Z"
   },
   {
    "duration": 330,
    "start_time": "2021-12-26T08:39:27.979Z"
   },
   {
    "duration": 327,
    "start_time": "2021-12-26T08:39:42.584Z"
   },
   {
    "duration": 340,
    "start_time": "2021-12-26T08:39:52.996Z"
   },
   {
    "duration": 16046,
    "start_time": "2021-12-26T08:40:51.766Z"
   },
   {
    "duration": 130,
    "start_time": "2021-12-26T08:42:51.854Z"
   },
   {
    "duration": 430,
    "start_time": "2021-12-26T08:43:30.984Z"
   },
   {
    "duration": 430,
    "start_time": "2021-12-26T08:43:37.523Z"
   },
   {
    "duration": 186,
    "start_time": "2021-12-26T08:43:56.981Z"
   },
   {
    "duration": 115,
    "start_time": "2021-12-26T08:44:19.448Z"
   },
   {
    "duration": 419,
    "start_time": "2021-12-26T08:44:35.074Z"
   },
   {
    "duration": 396,
    "start_time": "2021-12-26T08:44:41.375Z"
   },
   {
    "duration": 442,
    "start_time": "2021-12-26T09:03:39.804Z"
   },
   {
    "duration": 117,
    "start_time": "2021-12-26T09:09:48.230Z"
   },
   {
    "duration": 62,
    "start_time": "2021-12-26T09:15:51.504Z"
   },
   {
    "duration": 59,
    "start_time": "2021-12-26T09:16:18.873Z"
   },
   {
    "duration": 30,
    "start_time": "2021-12-26T09:16:28.143Z"
   },
   {
    "duration": 335,
    "start_time": "2021-12-26T09:16:42.285Z"
   },
   {
    "duration": 327,
    "start_time": "2021-12-26T09:17:39.940Z"
   },
   {
    "duration": 306,
    "start_time": "2021-12-26T09:19:29.120Z"
   },
   {
    "duration": 315,
    "start_time": "2021-12-26T09:19:54.394Z"
   },
   {
    "duration": 376,
    "start_time": "2021-12-26T09:20:24.484Z"
   },
   {
    "duration": 335,
    "start_time": "2021-12-26T09:21:00.056Z"
   },
   {
    "duration": 375,
    "start_time": "2021-12-26T09:21:42.933Z"
   },
   {
    "duration": 347,
    "start_time": "2021-12-26T09:22:35.584Z"
   },
   {
    "duration": 490,
    "start_time": "2021-12-26T09:22:50.443Z"
   },
   {
    "duration": 352,
    "start_time": "2021-12-26T09:22:56.309Z"
   },
   {
    "duration": 355,
    "start_time": "2021-12-26T09:23:07.424Z"
   },
   {
    "duration": 342,
    "start_time": "2021-12-26T09:23:17.944Z"
   },
   {
    "duration": 445,
    "start_time": "2021-12-26T09:24:06.993Z"
   },
   {
    "duration": 418,
    "start_time": "2021-12-26T09:24:25.563Z"
   },
   {
    "duration": 361,
    "start_time": "2021-12-26T09:24:42.274Z"
   },
   {
    "duration": 103,
    "start_time": "2021-12-26T09:26:57.969Z"
   },
   {
    "duration": 350,
    "start_time": "2021-12-26T09:28:39.076Z"
   },
   {
    "duration": 343,
    "start_time": "2021-12-26T09:29:09.089Z"
   },
   {
    "duration": 101,
    "start_time": "2021-12-26T09:31:53.674Z"
   },
   {
    "duration": 4,
    "start_time": "2021-12-26T09:36:08.652Z"
   },
   {
    "duration": 4,
    "start_time": "2021-12-26T09:36:36.176Z"
   },
   {
    "duration": 107,
    "start_time": "2021-12-26T09:36:48.982Z"
   },
   {
    "duration": 22,
    "start_time": "2021-12-26T09:36:55.322Z"
   },
   {
    "duration": 18,
    "start_time": "2021-12-26T09:37:13.651Z"
   },
   {
    "duration": 113,
    "start_time": "2021-12-26T09:37:18.844Z"
   },
   {
    "duration": 37,
    "start_time": "2021-12-26T09:52:43.638Z"
   },
   {
    "duration": 340,
    "start_time": "2021-12-26T09:54:01.012Z"
   },
   {
    "duration": 33,
    "start_time": "2021-12-26T09:54:31.162Z"
   },
   {
    "duration": 100,
    "start_time": "2021-12-26T09:54:49.636Z"
   },
   {
    "duration": 86,
    "start_time": "2021-12-26T09:56:24.713Z"
   },
   {
    "duration": 138,
    "start_time": "2021-12-26T09:56:36.144Z"
   },
   {
    "duration": 86,
    "start_time": "2021-12-26T09:56:46.261Z"
   },
   {
    "duration": 96,
    "start_time": "2021-12-26T09:57:06.665Z"
   },
   {
    "duration": 311,
    "start_time": "2021-12-26T09:57:13.761Z"
   },
   {
    "duration": 105,
    "start_time": "2021-12-26T09:57:25.892Z"
   },
   {
    "duration": 103,
    "start_time": "2021-12-26T09:57:39.780Z"
   },
   {
    "duration": 315,
    "start_time": "2021-12-26T09:57:59.182Z"
   },
   {
    "duration": 108,
    "start_time": "2021-12-26T09:58:05.574Z"
   },
   {
    "duration": 18324,
    "start_time": "2021-12-26T09:58:43.653Z"
   },
   {
    "duration": 561,
    "start_time": "2021-12-26T09:59:49.512Z"
   },
   {
    "duration": 640,
    "start_time": "2021-12-26T10:03:20.265Z"
   },
   {
    "duration": 646,
    "start_time": "2021-12-26T10:05:14.948Z"
   },
   {
    "duration": 342,
    "start_time": "2021-12-26T10:10:17.452Z"
   },
   {
    "duration": 779,
    "start_time": "2021-12-26T10:10:35.293Z"
   },
   {
    "duration": 426,
    "start_time": "2021-12-26T10:11:15.262Z"
   },
   {
    "duration": 346,
    "start_time": "2021-12-26T10:11:36.990Z"
   },
   {
    "duration": 1137,
    "start_time": "2021-12-26T10:11:53.304Z"
   },
   {
    "duration": 272,
    "start_time": "2021-12-26T10:12:11.043Z"
   },
   {
    "duration": 386,
    "start_time": "2021-12-26T10:12:19.174Z"
   },
   {
    "duration": 1190,
    "start_time": "2021-12-26T10:12:24.386Z"
   },
   {
    "duration": 425,
    "start_time": "2021-12-26T10:12:44.423Z"
   },
   {
    "duration": 1158,
    "start_time": "2021-12-26T10:12:49.232Z"
   },
   {
    "duration": 324,
    "start_time": "2021-12-26T10:14:26.066Z"
   },
   {
    "duration": 916,
    "start_time": "2021-12-26T10:14:41.781Z"
   },
   {
    "duration": 1043,
    "start_time": "2021-12-26T12:11:34.825Z"
   },
   {
    "duration": 1089,
    "start_time": "2021-12-26T12:11:35.872Z"
   },
   {
    "duration": 61,
    "start_time": "2021-12-26T12:11:36.964Z"
   },
   {
    "duration": 54,
    "start_time": "2021-12-26T12:11:37.027Z"
   },
   {
    "duration": 22,
    "start_time": "2021-12-26T12:12:51.893Z"
   },
   {
    "duration": 34,
    "start_time": "2021-12-26T12:12:52.285Z"
   },
   {
    "duration": 37,
    "start_time": "2021-12-26T12:12:53.296Z"
   },
   {
    "duration": 20,
    "start_time": "2021-12-26T12:12:54.435Z"
   },
   {
    "duration": 40,
    "start_time": "2021-12-26T12:12:55.516Z"
   },
   {
    "duration": 110,
    "start_time": "2021-12-26T12:12:58.091Z"
   },
   {
    "duration": 414,
    "start_time": "2021-12-26T12:14:05.626Z"
   },
   {
    "duration": 269,
    "start_time": "2021-12-26T12:14:31.800Z"
   },
   {
    "duration": 1271,
    "start_time": "2021-12-26T12:14:54.805Z"
   },
   {
    "duration": 1182,
    "start_time": "2021-12-26T12:15:28.396Z"
   },
   {
    "duration": 275,
    "start_time": "2021-12-26T12:15:59.098Z"
   },
   {
    "duration": 1106,
    "start_time": "2021-12-26T12:16:07.165Z"
   },
   {
    "duration": 3480,
    "start_time": "2021-12-26T12:16:42.107Z"
   },
   {
    "duration": 1060,
    "start_time": "2021-12-26T12:16:56.621Z"
   },
   {
    "duration": 942,
    "start_time": "2021-12-26T12:18:26.972Z"
   },
   {
    "duration": 973,
    "start_time": "2021-12-26T12:22:37.256Z"
   },
   {
    "duration": 375,
    "start_time": "2021-12-26T12:23:36.640Z"
   },
   {
    "duration": 469,
    "start_time": "2021-12-26T12:25:24.656Z"
   },
   {
    "duration": 186,
    "start_time": "2021-12-26T12:28:56.763Z"
   },
   {
    "duration": 1491,
    "start_time": "2021-12-26T12:35:28.963Z"
   },
   {
    "duration": 758,
    "start_time": "2021-12-26T12:37:27.489Z"
   },
   {
    "duration": 1314,
    "start_time": "2021-12-26T12:37:41.080Z"
   },
   {
    "duration": 474,
    "start_time": "2021-12-26T12:40:01.669Z"
   },
   {
    "duration": 180,
    "start_time": "2021-12-26T12:42:51.163Z"
   },
   {
    "duration": 294,
    "start_time": "2021-12-26T12:43:31.293Z"
   },
   {
    "duration": 1239,
    "start_time": "2021-12-26T12:51:24.251Z"
   },
   {
    "duration": 1126,
    "start_time": "2021-12-26T12:51:29.473Z"
   },
   {
    "duration": 1036,
    "start_time": "2021-12-26T13:11:53.741Z"
   },
   {
    "duration": 801,
    "start_time": "2021-12-26T20:38:42.977Z"
   },
   {
    "duration": 409,
    "start_time": "2021-12-26T20:38:44.108Z"
   },
   {
    "duration": 67,
    "start_time": "2021-12-26T20:38:48.433Z"
   },
   {
    "duration": 47,
    "start_time": "2021-12-26T20:38:53.178Z"
   },
   {
    "duration": 36,
    "start_time": "2021-12-26T20:38:54.197Z"
   },
   {
    "duration": 33,
    "start_time": "2021-12-26T20:38:58.345Z"
   },
   {
    "duration": 16,
    "start_time": "2021-12-26T20:39:01.525Z"
   },
   {
    "duration": 35,
    "start_time": "2021-12-26T20:39:06.088Z"
   },
   {
    "duration": 9954,
    "start_time": "2021-12-26T20:42:11.315Z"
   },
   {
    "duration": 108,
    "start_time": "2021-12-26T20:42:47.675Z"
   },
   {
    "duration": 113,
    "start_time": "2021-12-26T20:43:37.905Z"
   },
   {
    "duration": 146,
    "start_time": "2021-12-26T20:43:50.993Z"
   },
   {
    "duration": 372,
    "start_time": "2021-12-26T20:46:24.292Z"
   },
   {
    "duration": 45,
    "start_time": "2021-12-26T20:46:35.219Z"
   },
   {
    "duration": 585,
    "start_time": "2021-12-26T22:14:43.377Z"
   },
   {
    "duration": 333,
    "start_time": "2021-12-26T22:14:44.711Z"
   },
   {
    "duration": 56,
    "start_time": "2021-12-26T22:14:45.857Z"
   },
   {
    "duration": 35,
    "start_time": "2021-12-26T22:14:46.736Z"
   },
   {
    "duration": 27,
    "start_time": "2021-12-26T22:14:47.546Z"
   },
   {
    "duration": 20,
    "start_time": "2021-12-26T22:14:48.418Z"
   },
   {
    "duration": 11,
    "start_time": "2021-12-26T22:14:49.094Z"
   },
   {
    "duration": 25,
    "start_time": "2021-12-26T22:14:49.678Z"
   },
   {
    "duration": 37,
    "start_time": "2021-12-26T22:14:50.340Z"
   },
   {
    "duration": 675,
    "start_time": "2021-12-26T22:14:51.118Z"
   },
   {
    "duration": 17,
    "start_time": "2021-12-26T22:15:33.638Z"
   },
   {
    "duration": 18,
    "start_time": "2021-12-26T22:15:38.301Z"
   },
   {
    "duration": 21,
    "start_time": "2021-12-26T22:15:45.606Z"
   },
   {
    "duration": 202,
    "start_time": "2021-12-26T22:19:53.259Z"
   },
   {
    "duration": 29,
    "start_time": "2021-12-26T22:20:06.668Z"
   },
   {
    "duration": 5,
    "start_time": "2021-12-26T22:25:36.515Z"
   },
   {
    "duration": 5341,
    "start_time": "2021-12-26T22:25:59.149Z"
   },
   {
    "duration": 6,
    "start_time": "2021-12-26T22:26:14.653Z"
   },
   {
    "duration": 5,
    "start_time": "2021-12-26T22:26:32.260Z"
   },
   {
    "duration": 8,
    "start_time": "2021-12-26T22:32:05.031Z"
   },
   {
    "duration": 196,
    "start_time": "2021-12-26T22:32:30.818Z"
   },
   {
    "duration": 4,
    "start_time": "2021-12-26T22:32:39.739Z"
   },
   {
    "duration": 2,
    "start_time": "2021-12-26T22:34:22.993Z"
   },
   {
    "duration": 194,
    "start_time": "2021-12-26T22:38:45.851Z"
   },
   {
    "duration": 541,
    "start_time": "2021-12-27T06:12:11.865Z"
   },
   {
    "duration": 276,
    "start_time": "2021-12-27T06:12:13.176Z"
   },
   {
    "duration": 38,
    "start_time": "2021-12-27T06:12:13.705Z"
   },
   {
    "duration": 29,
    "start_time": "2021-12-27T06:12:14.134Z"
   },
   {
    "duration": 23,
    "start_time": "2021-12-27T06:12:14.487Z"
   },
   {
    "duration": 19,
    "start_time": "2021-12-27T06:12:14.864Z"
   },
   {
    "duration": 11,
    "start_time": "2021-12-27T06:12:15.195Z"
   },
   {
    "duration": 23,
    "start_time": "2021-12-27T06:12:15.555Z"
   },
   {
    "duration": 34,
    "start_time": "2021-12-27T06:12:16.116Z"
   },
   {
    "duration": 20,
    "start_time": "2021-12-27T06:12:16.667Z"
   },
   {
    "duration": 24,
    "start_time": "2021-12-27T06:12:17.204Z"
   },
   {
    "duration": 7,
    "start_time": "2021-12-27T06:12:17.676Z"
   },
   {
    "duration": 5892,
    "start_time": "2021-12-27T06:14:10.305Z"
   },
   {
    "duration": 309,
    "start_time": "2021-12-27T06:14:32.517Z"
   },
   {
    "duration": 368,
    "start_time": "2021-12-27T06:14:49.926Z"
   },
   {
    "duration": 252,
    "start_time": "2021-12-27T06:15:26.162Z"
   },
   {
    "duration": 4,
    "start_time": "2021-12-27T06:17:46.863Z"
   },
   {
    "duration": 16360,
    "start_time": "2021-12-27T06:17:59.341Z"
   },
   {
    "duration": -601,
    "start_time": "2021-12-27T06:19:46.345Z"
   },
   {
    "duration": 88000,
    "start_time": "2021-12-27T06:20:18.100Z"
   },
   {
    "duration": 1520,
    "start_time": "2021-12-27T06:24:49.206Z"
   },
   {
    "duration": 2,
    "start_time": "2021-12-27T06:26:58.564Z"
   },
   {
    "duration": 7,
    "start_time": "2021-12-27T06:27:47.282Z"
   },
   {
    "duration": 441,
    "start_time": "2021-12-27T06:31:08.614Z"
   },
   {
    "duration": 8052,
    "start_time": "2021-12-27T06:33:29.362Z"
   },
   {
    "duration": 7275,
    "start_time": "2021-12-27T06:33:49.260Z"
   },
   {
    "duration": 8501,
    "start_time": "2021-12-27T06:34:03.950Z"
   },
   {
    "duration": 8047,
    "start_time": "2021-12-27T06:34:28.084Z"
   },
   {
    "duration": 22,
    "start_time": "2021-12-27T06:35:05.022Z"
   },
   {
    "duration": 4268,
    "start_time": "2021-12-27T06:35:13.323Z"
   },
   {
    "duration": 7,
    "start_time": "2021-12-27T06:35:27.600Z"
   },
   {
    "duration": 8,
    "start_time": "2021-12-27T06:36:11.756Z"
   },
   {
    "duration": 3,
    "start_time": "2021-12-27T06:36:23.920Z"
   },
   {
    "duration": 293,
    "start_time": "2021-12-27T06:36:24.055Z"
   },
   {
    "duration": 37,
    "start_time": "2021-12-27T06:36:24.349Z"
   },
   {
    "duration": 26,
    "start_time": "2021-12-27T06:36:24.452Z"
   },
   {
    "duration": 21,
    "start_time": "2021-12-27T06:36:24.620Z"
   },
   {
    "duration": 18,
    "start_time": "2021-12-27T06:36:24.805Z"
   },
   {
    "duration": 10,
    "start_time": "2021-12-27T06:36:24.967Z"
   },
   {
    "duration": 23,
    "start_time": "2021-12-27T06:36:25.160Z"
   },
   {
    "duration": 25,
    "start_time": "2021-12-27T06:36:25.362Z"
   },
   {
    "duration": 18,
    "start_time": "2021-12-27T06:36:25.623Z"
   },
   {
    "duration": 20,
    "start_time": "2021-12-27T06:36:25.850Z"
   },
   {
    "duration": 7,
    "start_time": "2021-12-27T06:36:26.327Z"
   },
   {
    "duration": 3,
    "start_time": "2021-12-27T06:37:57.404Z"
   },
   {
    "duration": 8,
    "start_time": "2021-12-27T06:38:02.714Z"
   },
   {
    "duration": 7,
    "start_time": "2021-12-27T06:38:18.342Z"
   },
   {
    "duration": 3,
    "start_time": "2021-12-27T06:38:30.235Z"
   },
   {
    "duration": 289,
    "start_time": "2021-12-27T06:38:30.497Z"
   },
   {
    "duration": 42,
    "start_time": "2021-12-27T06:38:30.788Z"
   },
   {
    "duration": 30,
    "start_time": "2021-12-27T06:38:30.944Z"
   },
   {
    "duration": 24,
    "start_time": "2021-12-27T06:38:31.162Z"
   },
   {
    "duration": 20,
    "start_time": "2021-12-27T06:38:31.584Z"
   },
   {
    "duration": 9,
    "start_time": "2021-12-27T06:38:31.794Z"
   },
   {
    "duration": 23,
    "start_time": "2021-12-27T06:38:32.414Z"
   },
   {
    "duration": 24,
    "start_time": "2021-12-27T06:38:32.695Z"
   },
   {
    "duration": 18,
    "start_time": "2021-12-27T06:38:33.144Z"
   },
   {
    "duration": 21,
    "start_time": "2021-12-27T06:38:33.553Z"
   },
   {
    "duration": 8,
    "start_time": "2021-12-27T06:38:34.144Z"
   },
   {
    "duration": 8,
    "start_time": "2021-12-27T06:41:18.928Z"
   },
   {
    "duration": 5,
    "start_time": "2021-12-27T06:42:11.276Z"
   },
   {
    "duration": 21,
    "start_time": "2021-12-27T06:42:33.384Z"
   },
   {
    "duration": 17,
    "start_time": "2021-12-27T06:43:44.779Z"
   },
   {
    "duration": 19,
    "start_time": "2021-12-27T06:43:48.741Z"
   },
   {
    "duration": 10,
    "start_time": "2021-12-27T06:43:59.297Z"
   },
   {
    "duration": 8,
    "start_time": "2021-12-27T06:44:28.299Z"
   },
   {
    "duration": 30,
    "start_time": "2021-12-27T06:49:10.946Z"
   },
   {
    "duration": 18,
    "start_time": "2021-12-27T06:49:17.564Z"
   },
   {
    "duration": 23,
    "start_time": "2021-12-27T06:49:19.607Z"
   },
   {
    "duration": 3,
    "start_time": "2021-12-27T06:49:20.246Z"
   },
   {
    "duration": 8,
    "start_time": "2021-12-27T06:49:29.253Z"
   },
   {
    "duration": 6431,
    "start_time": "2021-12-27T06:50:12.128Z"
   },
   {
    "duration": 8,
    "start_time": "2021-12-27T06:50:27.450Z"
   },
   {
    "duration": 310,
    "start_time": "2021-12-27T06:52:46.485Z"
   },
   {
    "duration": 242,
    "start_time": "2021-12-27T06:52:55.864Z"
   },
   {
    "duration": 30,
    "start_time": "2021-12-27T06:54:22.071Z"
   },
   {
    "duration": 8,
    "start_time": "2021-12-27T06:54:28.294Z"
   },
   {
    "duration": 3,
    "start_time": "2021-12-27T06:54:52.449Z"
   },
   {
    "duration": 3,
    "start_time": "2021-12-27T06:54:55.092Z"
   },
   {
    "duration": 26,
    "start_time": "2021-12-27T06:55:20.097Z"
   },
   {
    "duration": 19,
    "start_time": "2021-12-27T06:55:21.648Z"
   },
   {
    "duration": 23,
    "start_time": "2021-12-27T06:55:22.617Z"
   },
   {
    "duration": 258,
    "start_time": "2021-12-27T06:57:29.215Z"
   },
   {
    "duration": 247,
    "start_time": "2021-12-27T06:58:07.734Z"
   },
   {
    "duration": 6,
    "start_time": "2021-12-27T06:58:16.586Z"
   },
   {
    "duration": 16,
    "start_time": "2021-12-27T06:58:33.470Z"
   },
   {
    "duration": 3,
    "start_time": "2021-12-27T06:58:56.413Z"
   },
   {
    "duration": 245,
    "start_time": "2021-12-27T06:59:45.945Z"
   },
   {
    "duration": 192,
    "start_time": "2021-12-27T07:01:02.436Z"
   },
   {
    "duration": 12,
    "start_time": "2021-12-27T07:01:07.506Z"
   },
   {
    "duration": 12,
    "start_time": "2021-12-27T07:02:35.666Z"
   },
   {
    "duration": 9,
    "start_time": "2021-12-27T07:02:40.139Z"
   },
   {
    "duration": 9,
    "start_time": "2021-12-27T07:02:43.516Z"
   },
   {
    "duration": 15,
    "start_time": "2021-12-27T07:03:36.199Z"
   },
   {
    "duration": 279,
    "start_time": "2021-12-27T07:05:48.887Z"
   },
   {
    "duration": 18,
    "start_time": "2021-12-27T07:06:16.619Z"
   },
   {
    "duration": 9,
    "start_time": "2021-12-27T07:06:55.196Z"
   },
   {
    "duration": 15,
    "start_time": "2021-12-27T07:07:16.356Z"
   },
   {
    "duration": 335,
    "start_time": "2021-12-27T07:07:46.591Z"
   },
   {
    "duration": 10,
    "start_time": "2021-12-27T07:07:53.472Z"
   },
   {
    "duration": 16,
    "start_time": "2021-12-27T07:09:00.746Z"
   },
   {
    "duration": 20,
    "start_time": "2021-12-27T07:09:49.313Z"
   },
   {
    "duration": 289,
    "start_time": "2021-12-27T07:10:36.092Z"
   },
   {
    "duration": 19,
    "start_time": "2021-12-27T07:10:47.154Z"
   },
   {
    "duration": 285,
    "start_time": "2021-12-27T07:11:39.879Z"
   },
   {
    "duration": 22,
    "start_time": "2021-12-27T07:11:53.664Z"
   },
   {
    "duration": 9,
    "start_time": "2021-12-27T07:12:27.117Z"
   },
   {
    "duration": 17,
    "start_time": "2021-12-27T07:12:33.452Z"
   },
   {
    "duration": 23,
    "start_time": "2021-12-27T07:13:29.104Z"
   },
   {
    "duration": 287,
    "start_time": "2021-12-27T07:14:28.857Z"
   },
   {
    "duration": 2,
    "start_time": "2021-12-27T07:14:37.500Z"
   },
   {
    "duration": 290,
    "start_time": "2021-12-27T07:14:37.620Z"
   },
   {
    "duration": 40,
    "start_time": "2021-12-27T07:14:37.912Z"
   },
   {
    "duration": 26,
    "start_time": "2021-12-27T07:14:37.958Z"
   },
   {
    "duration": 23,
    "start_time": "2021-12-27T07:14:38.146Z"
   },
   {
    "duration": 18,
    "start_time": "2021-12-27T07:14:38.326Z"
   },
   {
    "duration": 10,
    "start_time": "2021-12-27T07:14:38.499Z"
   },
   {
    "duration": 23,
    "start_time": "2021-12-27T07:14:38.703Z"
   },
   {
    "duration": 28,
    "start_time": "2021-12-27T07:14:38.911Z"
   },
   {
    "duration": 20,
    "start_time": "2021-12-27T07:14:39.719Z"
   },
   {
    "duration": 21,
    "start_time": "2021-12-27T07:14:40.256Z"
   },
   {
    "duration": 252,
    "start_time": "2021-12-27T07:14:40.806Z"
   },
   {
    "duration": 3,
    "start_time": "2021-12-27T07:15:31.006Z"
   },
   {
    "duration": 318,
    "start_time": "2021-12-27T07:15:31.500Z"
   },
   {
    "duration": 42,
    "start_time": "2021-12-27T07:15:31.948Z"
   },
   {
    "duration": 28,
    "start_time": "2021-12-27T07:15:32.375Z"
   },
   {
    "duration": 25,
    "start_time": "2021-12-27T07:15:32.769Z"
   },
   {
    "duration": 19,
    "start_time": "2021-12-27T07:15:33.203Z"
   },
   {
    "duration": 10,
    "start_time": "2021-12-27T07:15:33.657Z"
   },
   {
    "duration": 27,
    "start_time": "2021-12-27T07:15:34.110Z"
   },
   {
    "duration": 31,
    "start_time": "2021-12-27T07:15:34.531Z"
   },
   {
    "duration": 19,
    "start_time": "2021-12-27T07:15:35.944Z"
   },
   {
    "duration": 23,
    "start_time": "2021-12-27T07:15:37.136Z"
   },
   {
    "duration": 3,
    "start_time": "2021-12-27T07:15:39.099Z"
   },
   {
    "duration": 13,
    "start_time": "2021-12-27T07:15:46.100Z"
   },
   {
    "duration": 4,
    "start_time": "2021-12-27T08:11:41.383Z"
   },
   {
    "duration": 16,
    "start_time": "2021-12-27T08:11:47.652Z"
   },
   {
    "duration": 22,
    "start_time": "2021-12-27T08:12:46.880Z"
   },
   {
    "duration": 17,
    "start_time": "2021-12-27T08:15:19.436Z"
   },
   {
    "duration": 814,
    "start_time": "2021-12-27T08:15:30.401Z"
   },
   {
    "duration": 20,
    "start_time": "2021-12-27T08:15:48.600Z"
   },
   {
    "duration": 275,
    "start_time": "2021-12-27T09:30:25.728Z"
   },
   {
    "duration": 267,
    "start_time": "2021-12-27T09:30:45.927Z"
   },
   {
    "duration": 5,
    "start_time": "2021-12-27T09:31:06.627Z"
   },
   {
    "duration": 21,
    "start_time": "2021-12-27T09:33:06.857Z"
   },
   {
    "duration": 299,
    "start_time": "2021-12-27T10:54:40.183Z"
   },
   {
    "duration": 14,
    "start_time": "2021-12-27T10:54:49.493Z"
   },
   {
    "duration": 255,
    "start_time": "2021-12-27T10:58:10.114Z"
   },
   {
    "duration": 251,
    "start_time": "2021-12-27T10:58:40.295Z"
   },
   {
    "duration": 3,
    "start_time": "2021-12-27T10:58:47.935Z"
   },
   {
    "duration": 255,
    "start_time": "2021-12-27T10:59:27.874Z"
   },
   {
    "duration": 1604,
    "start_time": "2021-12-27T10:59:47.065Z"
   },
   {
    "duration": 2,
    "start_time": "2021-12-27T11:00:13.054Z"
   },
   {
    "duration": 273,
    "start_time": "2021-12-27T11:00:13.114Z"
   },
   {
    "duration": 39,
    "start_time": "2021-12-27T11:00:13.389Z"
   },
   {
    "duration": 27,
    "start_time": "2021-12-27T11:00:13.432Z"
   },
   {
    "duration": 22,
    "start_time": "2021-12-27T11:00:13.564Z"
   },
   {
    "duration": 18,
    "start_time": "2021-12-27T11:00:13.745Z"
   },
   {
    "duration": 9,
    "start_time": "2021-12-27T11:00:13.942Z"
   },
   {
    "duration": 23,
    "start_time": "2021-12-27T11:00:14.074Z"
   },
   {
    "duration": 28,
    "start_time": "2021-12-27T11:00:14.244Z"
   },
   {
    "duration": 19,
    "start_time": "2021-12-27T11:00:14.409Z"
   },
   {
    "duration": 23,
    "start_time": "2021-12-27T11:00:14.565Z"
   },
   {
    "duration": 19,
    "start_time": "2021-12-27T11:00:15.214Z"
   },
   {
    "duration": 82,
    "start_time": "2021-12-27T11:00:15.737Z"
   },
   {
    "duration": 250,
    "start_time": "2021-12-27T11:00:24.866Z"
   },
   {
    "duration": 244,
    "start_time": "2021-12-27T11:00:31.984Z"
   },
   {
    "duration": 1540,
    "start_time": "2021-12-27T11:00:38.114Z"
   },
   {
    "duration": 429,
    "start_time": "2021-12-27T11:01:33.414Z"
   },
   {
    "duration": 1580,
    "start_time": "2021-12-27T11:01:44.404Z"
   },
   {
    "duration": 1662,
    "start_time": "2021-12-27T11:01:55.405Z"
   },
   {
    "duration": 3,
    "start_time": "2021-12-27T11:02:05.476Z"
   },
   {
    "duration": 242,
    "start_time": "2021-12-27T11:02:52.324Z"
   },
   {
    "duration": 9,
    "start_time": "2021-12-27T11:03:12.424Z"
   },
   {
    "duration": 3746,
    "start_time": "2021-12-27T11:03:21.494Z"
   },
   {
    "duration": 3384,
    "start_time": "2021-12-27T11:03:41.522Z"
   },
   {
    "duration": 4116,
    "start_time": "2021-12-27T11:03:58.214Z"
   },
   {
    "duration": 3,
    "start_time": "2021-12-27T11:04:11.654Z"
   },
   {
    "duration": 10,
    "start_time": "2021-12-27T11:04:23.886Z"
   },
   {
    "duration": 12,
    "start_time": "2021-12-27T11:05:04.474Z"
   },
   {
    "duration": 2,
    "start_time": "2021-12-27T11:05:09.655Z"
   },
   {
    "duration": 277,
    "start_time": "2021-12-27T11:05:09.659Z"
   },
   {
    "duration": 36,
    "start_time": "2021-12-27T11:05:09.937Z"
   },
   {
    "duration": 26,
    "start_time": "2021-12-27T11:05:09.974Z"
   },
   {
    "duration": 27,
    "start_time": "2021-12-27T11:05:10.014Z"
   },
   {
    "duration": 18,
    "start_time": "2021-12-27T11:05:10.181Z"
   },
   {
    "duration": 10,
    "start_time": "2021-12-27T11:05:10.361Z"
   },
   {
    "duration": 23,
    "start_time": "2021-12-27T11:05:10.545Z"
   },
   {
    "duration": 28,
    "start_time": "2021-12-27T11:05:10.684Z"
   },
   {
    "duration": 18,
    "start_time": "2021-12-27T11:05:10.902Z"
   },
   {
    "duration": 21,
    "start_time": "2021-12-27T11:05:11.065Z"
   },
   {
    "duration": 19,
    "start_time": "2021-12-27T11:05:11.525Z"
   },
   {
    "duration": 9,
    "start_time": "2021-12-27T11:05:11.934Z"
   },
   {
    "duration": 8,
    "start_time": "2021-12-27T11:05:32.945Z"
   },
   {
    "duration": 7490,
    "start_time": "2021-12-27T11:06:00.015Z"
   },
   {
    "duration": 6683,
    "start_time": "2021-12-27T11:06:11.177Z"
   },
   {
    "duration": 3,
    "start_time": "2021-12-27T11:06:41.354Z"
   },
   {
    "duration": 274,
    "start_time": "2021-12-27T11:06:41.647Z"
   },
   {
    "duration": 38,
    "start_time": "2021-12-27T11:06:41.922Z"
   },
   {
    "duration": 28,
    "start_time": "2021-12-27T11:06:42.132Z"
   },
   {
    "duration": 23,
    "start_time": "2021-12-27T11:06:42.347Z"
   },
   {
    "duration": 18,
    "start_time": "2021-12-27T11:06:42.562Z"
   },
   {
    "duration": 9,
    "start_time": "2021-12-27T11:06:42.794Z"
   },
   {
    "duration": 22,
    "start_time": "2021-12-27T11:06:43.042Z"
   },
   {
    "duration": 27,
    "start_time": "2021-12-27T11:06:43.208Z"
   },
   {
    "duration": 19,
    "start_time": "2021-12-27T11:06:43.423Z"
   },
   {
    "duration": 22,
    "start_time": "2021-12-27T11:06:43.628Z"
   },
   {
    "duration": 19,
    "start_time": "2021-12-27T11:06:43.887Z"
   },
   {
    "duration": 1556,
    "start_time": "2021-12-27T11:06:44.785Z"
   },
   {
    "duration": 7,
    "start_time": "2021-12-27T11:07:34.994Z"
   },
   {
    "duration": 1622,
    "start_time": "2021-12-27T11:08:06.654Z"
   },
   {
    "duration": 350,
    "start_time": "2021-12-27T11:09:10.453Z"
   },
   {
    "duration": 260,
    "start_time": "2021-12-27T11:09:19.585Z"
   },
   {
    "duration": 398,
    "start_time": "2021-12-27T11:09:24.852Z"
   },
   {
    "duration": 1296,
    "start_time": "2021-12-27T11:10:10.145Z"
   },
   {
    "duration": 15,
    "start_time": "2021-12-27T11:10:22.322Z"
   },
   {
    "duration": 1258,
    "start_time": "2021-12-27T11:11:02.424Z"
   },
   {
    "duration": 13,
    "start_time": "2021-12-27T11:11:05.536Z"
   },
   {
    "duration": 191,
    "start_time": "2021-12-27T11:13:01.263Z"
   },
   {
    "duration": 16,
    "start_time": "2021-12-27T11:13:03.784Z"
   },
   {
    "duration": 3,
    "start_time": "2021-12-27T11:13:30.840Z"
   },
   {
    "duration": 277,
    "start_time": "2021-12-27T11:13:31.012Z"
   },
   {
    "duration": 36,
    "start_time": "2021-12-27T11:13:31.291Z"
   },
   {
    "duration": 26,
    "start_time": "2021-12-27T11:13:31.330Z"
   },
   {
    "duration": 22,
    "start_time": "2021-12-27T11:13:31.494Z"
   },
   {
    "duration": 18,
    "start_time": "2021-12-27T11:13:31.682Z"
   },
   {
    "duration": 10,
    "start_time": "2021-12-27T11:13:31.863Z"
   },
   {
    "duration": 22,
    "start_time": "2021-12-27T11:13:32.024Z"
   },
   {
    "duration": 29,
    "start_time": "2021-12-27T11:13:32.194Z"
   },
   {
    "duration": 19,
    "start_time": "2021-12-27T11:13:32.612Z"
   },
   {
    "duration": 21,
    "start_time": "2021-12-27T11:13:33.154Z"
   },
   {
    "duration": 23,
    "start_time": "2021-12-27T11:13:33.924Z"
   },
   {
    "duration": 1361,
    "start_time": "2021-12-27T11:13:36.482Z"
   },
   {
    "duration": 15,
    "start_time": "2021-12-27T11:13:39.154Z"
   },
   {
    "duration": 105,
    "start_time": "2021-12-27T11:20:13.887Z"
   },
   {
    "duration": 19,
    "start_time": "2021-12-27T11:20:16.371Z"
   },
   {
    "duration": 19,
    "start_time": "2021-12-27T11:20:48.053Z"
   },
   {
    "duration": 21,
    "start_time": "2021-12-27T11:21:00.910Z"
   },
   {
    "duration": 17,
    "start_time": "2021-12-27T11:21:09.725Z"
   },
   {
    "duration": 8,
    "start_time": "2021-12-27T11:44:19.627Z"
   },
   {
    "duration": 14,
    "start_time": "2021-12-27T11:45:04.310Z"
   },
   {
    "duration": 6299,
    "start_time": "2021-12-27T11:46:11.203Z"
   },
   {
    "duration": 5798,
    "start_time": "2021-12-27T11:46:38.696Z"
   },
   {
    "duration": 6618,
    "start_time": "2021-12-27T11:47:18.787Z"
   },
   {
    "duration": 3,
    "start_time": "2021-12-27T11:47:33.895Z"
   },
   {
    "duration": 273,
    "start_time": "2021-12-27T11:47:34.546Z"
   },
   {
    "duration": 39,
    "start_time": "2021-12-27T11:47:35.155Z"
   },
   {
    "duration": 27,
    "start_time": "2021-12-27T11:47:35.576Z"
   },
   {
    "duration": 22,
    "start_time": "2021-12-27T11:47:36.246Z"
   },
   {
    "duration": 18,
    "start_time": "2021-12-27T11:47:36.736Z"
   },
   {
    "duration": 10,
    "start_time": "2021-12-27T11:47:37.486Z"
   },
   {
    "duration": 24,
    "start_time": "2021-12-27T11:47:38.087Z"
   },
   {
    "duration": 26,
    "start_time": "2021-12-27T11:47:38.755Z"
   },
   {
    "duration": 18,
    "start_time": "2021-12-27T11:47:39.696Z"
   },
   {
    "duration": 8437,
    "start_time": "2021-12-27T11:47:40.966Z"
   },
   {
    "duration": 6094,
    "start_time": "2021-12-27T11:49:16.275Z"
   },
   {
    "duration": 6592,
    "start_time": "2021-12-27T11:51:05.656Z"
   },
   {
    "duration": 252,
    "start_time": "2021-12-27T11:53:42.457Z"
   },
   {
    "duration": 3210,
    "start_time": "2021-12-27T11:54:24.428Z"
   },
   {
    "duration": 3,
    "start_time": "2021-12-27T11:54:44.015Z"
   },
   {
    "duration": 270,
    "start_time": "2021-12-27T11:54:44.126Z"
   },
   {
    "duration": 42,
    "start_time": "2021-12-27T11:54:44.398Z"
   },
   {
    "duration": 43,
    "start_time": "2021-12-27T11:54:44.670Z"
   },
   {
    "duration": 34,
    "start_time": "2021-12-27T11:54:44.861Z"
   },
   {
    "duration": 19,
    "start_time": "2021-12-27T11:54:45.066Z"
   },
   {
    "duration": 10,
    "start_time": "2021-12-27T11:54:45.555Z"
   },
   {
    "duration": 25,
    "start_time": "2021-12-27T11:54:46.878Z"
   },
   {
    "duration": 28,
    "start_time": "2021-12-27T11:54:47.787Z"
   },
   {
    "duration": 3077,
    "start_time": "2021-12-27T11:54:52.852Z"
   },
   {
    "duration": 19,
    "start_time": "2021-12-27T11:55:29.628Z"
   },
   {
    "duration": 23,
    "start_time": "2021-12-27T11:56:48.618Z"
   },
   {
    "duration": 14,
    "start_time": "2021-12-27T11:57:03.806Z"
   },
   {
    "duration": 12,
    "start_time": "2021-12-27T11:58:59.628Z"
   },
   {
    "duration": 5,
    "start_time": "2021-12-27T12:00:05.573Z"
   },
   {
    "duration": 257,
    "start_time": "2021-12-27T12:01:00.866Z"
   },
   {
    "duration": 3,
    "start_time": "2021-12-27T12:01:18.244Z"
   },
   {
    "duration": 268,
    "start_time": "2021-12-27T12:01:18.253Z"
   },
   {
    "duration": 37,
    "start_time": "2021-12-27T12:01:18.523Z"
   },
   {
    "duration": 25,
    "start_time": "2021-12-27T12:01:18.561Z"
   },
   {
    "duration": 21,
    "start_time": "2021-12-27T12:01:18.755Z"
   },
   {
    "duration": 19,
    "start_time": "2021-12-27T12:01:18.820Z"
   },
   {
    "duration": 11,
    "start_time": "2021-12-27T12:01:18.987Z"
   },
   {
    "duration": 24,
    "start_time": "2021-12-27T12:01:19.153Z"
   },
   {
    "duration": 27,
    "start_time": "2021-12-27T12:01:19.337Z"
   },
   {
    "duration": 19,
    "start_time": "2021-12-27T12:01:19.519Z"
   },
   {
    "duration": 23,
    "start_time": "2021-12-27T12:01:19.707Z"
   },
   {
    "duration": 23,
    "start_time": "2021-12-27T12:01:19.895Z"
   },
   {
    "duration": 119,
    "start_time": "2021-12-27T12:01:20.096Z"
   },
   {
    "duration": 19,
    "start_time": "2021-12-27T12:01:20.296Z"
   },
   {
    "duration": 319,
    "start_time": "2021-12-27T12:01:20.486Z"
   },
   {
    "duration": -889,
    "start_time": "2021-12-27T12:01:21.696Z"
   },
   {
    "duration": 16,
    "start_time": "2021-12-27T12:01:55.635Z"
   },
   {
    "duration": 118,
    "start_time": "2021-12-27T12:03:44.438Z"
   },
   {
    "duration": 131,
    "start_time": "2021-12-27T12:03:59.491Z"
   },
   {
    "duration": 119,
    "start_time": "2021-12-27T12:06:59.927Z"
   },
   {
    "duration": 8,
    "start_time": "2021-12-27T12:08:11.915Z"
   },
   {
    "duration": 17,
    "start_time": "2021-12-27T12:10:15.457Z"
   },
   {
    "duration": 245,
    "start_time": "2021-12-27T12:12:39.454Z"
   },
   {
    "duration": 238,
    "start_time": "2021-12-27T12:12:57.143Z"
   },
   {
    "duration": 3,
    "start_time": "2021-12-27T12:13:19.980Z"
   },
   {
    "duration": 269,
    "start_time": "2021-12-27T12:13:20.148Z"
   },
   {
    "duration": 39,
    "start_time": "2021-12-27T12:13:20.419Z"
   },
   {
    "duration": 27,
    "start_time": "2021-12-27T12:13:20.465Z"
   },
   {
    "duration": 23,
    "start_time": "2021-12-27T12:13:20.635Z"
   },
   {
    "duration": 19,
    "start_time": "2021-12-27T12:13:20.806Z"
   },
   {
    "duration": 11,
    "start_time": "2021-12-27T12:13:20.957Z"
   },
   {
    "duration": 23,
    "start_time": "2021-12-27T12:13:21.137Z"
   },
   {
    "duration": 26,
    "start_time": "2021-12-27T12:13:21.313Z"
   },
   {
    "duration": 22,
    "start_time": "2021-12-27T12:13:21.460Z"
   },
   {
    "duration": 26,
    "start_time": "2021-12-27T12:13:21.634Z"
   },
   {
    "duration": 22,
    "start_time": "2021-12-27T12:13:21.955Z"
   },
   {
    "duration": 110,
    "start_time": "2021-12-27T12:13:22.360Z"
   },
   {
    "duration": 21,
    "start_time": "2021-12-27T12:13:22.685Z"
   },
   {
    "duration": 17,
    "start_time": "2021-12-27T12:13:23.165Z"
   },
   {
    "duration": 133,
    "start_time": "2021-12-27T12:13:23.823Z"
   },
   {
    "duration": 6,
    "start_time": "2021-12-27T12:13:29.102Z"
   },
   {
    "duration": 997,
    "start_time": "2021-12-27T12:13:34.165Z"
   },
   {
    "duration": 95,
    "start_time": "2021-12-27T12:13:58.365Z"
   },
   {
    "duration": 255,
    "start_time": "2021-12-27T12:14:02.812Z"
   },
   {
    "duration": 2,
    "start_time": "2021-12-27T12:14:12.695Z"
   },
   {
    "duration": 268,
    "start_time": "2021-12-27T12:14:12.856Z"
   },
   {
    "duration": 37,
    "start_time": "2021-12-27T12:14:13.126Z"
   },
   {
    "duration": 28,
    "start_time": "2021-12-27T12:14:13.195Z"
   },
   {
    "duration": 23,
    "start_time": "2021-12-27T12:14:13.338Z"
   },
   {
    "duration": 18,
    "start_time": "2021-12-27T12:14:13.525Z"
   },
   {
    "duration": 10,
    "start_time": "2021-12-27T12:14:13.700Z"
   },
   {
    "duration": 23,
    "start_time": "2021-12-27T12:14:13.846Z"
   },
   {
    "duration": 28,
    "start_time": "2021-12-27T12:14:14.025Z"
   },
   {
    "duration": 19,
    "start_time": "2021-12-27T12:14:14.200Z"
   },
   {
    "duration": 23,
    "start_time": "2021-12-27T12:14:14.396Z"
   },
   {
    "duration": 20,
    "start_time": "2021-12-27T12:14:14.566Z"
   },
   {
    "duration": 107,
    "start_time": "2021-12-27T12:14:14.784Z"
   },
   {
    "duration": 17,
    "start_time": "2021-12-27T12:14:14.985Z"
   },
   {
    "duration": 18,
    "start_time": "2021-12-27T12:14:15.164Z"
   },
   {
    "duration": 132,
    "start_time": "2021-12-27T12:14:15.359Z"
   },
   {
    "duration": 17,
    "start_time": "2021-12-27T12:14:15.606Z"
   },
   {
    "duration": 3,
    "start_time": "2021-12-27T12:14:52.616Z"
   },
   {
    "duration": 15,
    "start_time": "2021-12-27T12:15:00.695Z"
   },
   {
    "duration": 123,
    "start_time": "2021-12-27T12:18:27.038Z"
   },
   {
    "duration": 90,
    "start_time": "2021-12-27T12:21:57.744Z"
   },
   {
    "duration": 237,
    "start_time": "2021-12-27T12:22:47.300Z"
   },
   {
    "duration": 421,
    "start_time": "2021-12-27T12:23:33.513Z"
   },
   {
    "duration": 243,
    "start_time": "2021-12-27T12:23:39.864Z"
   },
   {
    "duration": 42,
    "start_time": "2021-12-27T12:24:45.916Z"
   },
   {
    "duration": 7,
    "start_time": "2021-12-27T12:25:08.647Z"
   },
   {
    "duration": 320,
    "start_time": "2021-12-27T12:25:08.766Z"
   },
   {
    "duration": 38,
    "start_time": "2021-12-27T12:25:09.088Z"
   },
   {
    "duration": 33,
    "start_time": "2021-12-27T12:25:09.128Z"
   },
   {
    "duration": 30,
    "start_time": "2021-12-27T12:25:09.237Z"
   },
   {
    "duration": 19,
    "start_time": "2021-12-27T12:25:09.405Z"
   },
   {
    "duration": 10,
    "start_time": "2021-12-27T12:25:09.556Z"
   },
   {
    "duration": 35,
    "start_time": "2021-12-27T12:25:09.733Z"
   },
   {
    "duration": 29,
    "start_time": "2021-12-27T12:25:09.902Z"
   },
   {
    "duration": 20,
    "start_time": "2021-12-27T12:25:10.067Z"
   },
   {
    "duration": 32,
    "start_time": "2021-12-27T12:25:10.225Z"
   },
   {
    "duration": 20,
    "start_time": "2021-12-27T12:25:10.397Z"
   },
   {
    "duration": 113,
    "start_time": "2021-12-27T12:25:10.606Z"
   },
   {
    "duration": 16,
    "start_time": "2021-12-27T12:25:11.186Z"
   },
   {
    "duration": 16,
    "start_time": "2021-12-27T12:25:11.557Z"
   },
   {
    "duration": 135,
    "start_time": "2021-12-27T12:25:11.990Z"
   },
   {
    "duration": 6,
    "start_time": "2021-12-27T12:25:12.345Z"
   },
   {
    "duration": 26,
    "start_time": "2021-12-27T12:25:12.726Z"
   },
   {
    "duration": 225,
    "start_time": "2021-12-27T12:25:13.307Z"
   },
   {
    "duration": 25,
    "start_time": "2021-12-27T12:25:13.777Z"
   },
   {
    "duration": 24,
    "start_time": "2021-12-27T12:27:12.783Z"
   },
   {
    "duration": 25,
    "start_time": "2021-12-27T12:28:13.934Z"
   },
   {
    "duration": 25,
    "start_time": "2021-12-27T12:28:48.995Z"
   },
   {
    "duration": 13,
    "start_time": "2021-12-27T12:30:29.874Z"
   },
   {
    "duration": 21,
    "start_time": "2021-12-27T12:30:35.122Z"
   },
   {
    "duration": 409,
    "start_time": "2021-12-27T12:32:18.644Z"
   },
   {
    "duration": 127,
    "start_time": "2021-12-27T12:33:54.003Z"
   },
   {
    "duration": 20,
    "start_time": "2021-12-27T12:33:58.413Z"
   },
   {
    "duration": 2,
    "start_time": "2021-12-27T12:34:43.753Z"
   },
   {
    "duration": 263,
    "start_time": "2021-12-27T12:34:43.900Z"
   },
   {
    "duration": 37,
    "start_time": "2021-12-27T12:34:44.165Z"
   },
   {
    "duration": 25,
    "start_time": "2021-12-27T12:34:44.204Z"
   },
   {
    "duration": 23,
    "start_time": "2021-12-27T12:34:44.383Z"
   },
   {
    "duration": 19,
    "start_time": "2021-12-27T12:34:44.526Z"
   },
   {
    "duration": 9,
    "start_time": "2021-12-27T12:34:44.702Z"
   },
   {
    "duration": 23,
    "start_time": "2021-12-27T12:34:44.891Z"
   },
   {
    "duration": 27,
    "start_time": "2021-12-27T12:34:45.033Z"
   },
   {
    "duration": 20,
    "start_time": "2021-12-27T12:34:45.202Z"
   },
   {
    "duration": 24,
    "start_time": "2021-12-27T12:34:45.402Z"
   },
   {
    "duration": 21,
    "start_time": "2021-12-27T12:34:45.554Z"
   },
   {
    "duration": 101,
    "start_time": "2021-12-27T12:34:45.726Z"
   },
   {
    "duration": 16,
    "start_time": "2021-12-27T12:34:45.902Z"
   },
   {
    "duration": 17,
    "start_time": "2021-12-27T12:34:46.076Z"
   },
   {
    "duration": 118,
    "start_time": "2021-12-27T12:34:46.260Z"
   },
   {
    "duration": 6,
    "start_time": "2021-12-27T12:34:46.525Z"
   },
   {
    "duration": 14,
    "start_time": "2021-12-27T12:34:47.141Z"
   },
   {
    "duration": 120,
    "start_time": "2021-12-27T12:34:47.521Z"
   },
   {
    "duration": 9,
    "start_time": "2021-12-27T12:34:47.873Z"
   },
   {
    "duration": 456,
    "start_time": "2021-12-27T12:34:48.244Z"
   },
   {
    "duration": 141,
    "start_time": "2021-12-27T12:35:03.424Z"
   },
   {
    "duration": 21,
    "start_time": "2021-12-27T12:35:10.384Z"
   },
   {
    "duration": 3,
    "start_time": "2021-12-27T12:35:49.173Z"
   },
   {
    "duration": 266,
    "start_time": "2021-12-27T12:35:49.331Z"
   },
   {
    "duration": 40,
    "start_time": "2021-12-27T12:35:49.598Z"
   },
   {
    "duration": 27,
    "start_time": "2021-12-27T12:35:49.823Z"
   },
   {
    "duration": 22,
    "start_time": "2021-12-27T12:35:49.969Z"
   },
   {
    "duration": 18,
    "start_time": "2021-12-27T12:35:50.159Z"
   },
   {
    "duration": 10,
    "start_time": "2021-12-27T12:35:50.325Z"
   },
   {
    "duration": 23,
    "start_time": "2021-12-27T12:35:50.514Z"
   },
   {
    "duration": 27,
    "start_time": "2021-12-27T12:35:50.675Z"
   },
   {
    "duration": 20,
    "start_time": "2021-12-27T12:35:50.894Z"
   },
   {
    "duration": 23,
    "start_time": "2021-12-27T12:35:51.052Z"
   },
   {
    "duration": 20,
    "start_time": "2021-12-27T12:35:51.234Z"
   },
   {
    "duration": 105,
    "start_time": "2021-12-27T12:35:51.454Z"
   },
   {
    "duration": 17,
    "start_time": "2021-12-27T12:35:51.651Z"
   },
   {
    "duration": 17,
    "start_time": "2021-12-27T12:35:51.854Z"
   },
   {
    "duration": 127,
    "start_time": "2021-12-27T12:35:52.154Z"
   },
   {
    "duration": 6,
    "start_time": "2021-12-27T12:35:52.421Z"
   },
   {
    "duration": 17,
    "start_time": "2021-12-27T12:35:52.973Z"
   },
   {
    "duration": 128,
    "start_time": "2021-12-27T12:35:53.414Z"
   },
   {
    "duration": 11,
    "start_time": "2021-12-27T12:35:53.764Z"
   },
   {
    "duration": 17,
    "start_time": "2021-12-27T12:35:54.333Z"
   },
   {
    "duration": 30,
    "start_time": "2021-12-27T12:35:54.702Z"
   },
   {
    "duration": 22,
    "start_time": "2021-12-27T12:35:57.181Z"
   },
   {
    "duration": 16,
    "start_time": "2021-12-27T12:36:26.063Z"
   },
   {
    "duration": 20,
    "start_time": "2021-12-27T12:36:53.864Z"
   },
   {
    "duration": 26,
    "start_time": "2021-12-27T12:37:03.245Z"
   },
   {
    "duration": 15,
    "start_time": "2021-12-27T12:37:30.734Z"
   },
   {
    "duration": 21,
    "start_time": "2021-12-27T12:37:31.841Z"
   },
   {
    "duration": 23,
    "start_time": "2021-12-27T12:37:56.805Z"
   },
   {
    "duration": 278,
    "start_time": "2021-12-27T12:40:10.003Z"
   },
   {
    "duration": 245,
    "start_time": "2021-12-27T12:41:22.347Z"
   },
   {
    "duration": 266,
    "start_time": "2021-12-27T12:42:19.493Z"
   },
   {
    "duration": 3,
    "start_time": "2021-12-27T12:42:26.461Z"
   },
   {
    "duration": 267,
    "start_time": "2021-12-27T12:42:26.614Z"
   },
   {
    "duration": 38,
    "start_time": "2021-12-27T12:42:26.883Z"
   },
   {
    "duration": 29,
    "start_time": "2021-12-27T12:42:26.962Z"
   },
   {
    "duration": 24,
    "start_time": "2021-12-27T12:42:27.104Z"
   },
   {
    "duration": 18,
    "start_time": "2021-12-27T12:42:27.314Z"
   },
   {
    "duration": 10,
    "start_time": "2021-12-27T12:42:27.503Z"
   },
   {
    "duration": 26,
    "start_time": "2021-12-27T12:42:27.696Z"
   },
   {
    "duration": 28,
    "start_time": "2021-12-27T12:42:27.863Z"
   },
   {
    "duration": 20,
    "start_time": "2021-12-27T12:42:28.062Z"
   },
   {
    "duration": 23,
    "start_time": "2021-12-27T12:42:28.274Z"
   },
   {
    "duration": 21,
    "start_time": "2021-12-27T12:42:28.473Z"
   },
   {
    "duration": 107,
    "start_time": "2021-12-27T12:42:28.664Z"
   },
   {
    "duration": 18,
    "start_time": "2021-12-27T12:42:28.843Z"
   },
   {
    "duration": 19,
    "start_time": "2021-12-27T12:42:29.021Z"
   },
   {
    "duration": 130,
    "start_time": "2021-12-27T12:42:29.212Z"
   },
   {
    "duration": 6,
    "start_time": "2021-12-27T12:42:29.440Z"
   },
   {
    "duration": 15,
    "start_time": "2021-12-27T12:42:29.822Z"
   },
   {
    "duration": 129,
    "start_time": "2021-12-27T12:42:30.066Z"
   },
   {
    "duration": 9,
    "start_time": "2021-12-27T12:42:30.403Z"
   },
   {
    "duration": 305,
    "start_time": "2021-12-27T12:42:31.264Z"
   },
   {
    "duration": 312,
    "start_time": "2021-12-27T12:43:15.804Z"
   },
   {
    "duration": 256,
    "start_time": "2021-12-27T12:43:34.743Z"
   },
   {
    "duration": 391,
    "start_time": "2021-12-27T12:44:03.683Z"
   },
   {
    "duration": 273,
    "start_time": "2021-12-27T12:45:11.062Z"
   },
   {
    "duration": 265,
    "start_time": "2021-12-27T12:45:25.136Z"
   },
   {
    "duration": 235,
    "start_time": "2021-12-27T12:45:33.461Z"
   },
   {
    "duration": 174,
    "start_time": "2021-12-27T12:46:00.633Z"
   },
   {
    "duration": 326,
    "start_time": "2021-12-27T12:46:46.382Z"
   },
   {
    "duration": 180,
    "start_time": "2021-12-27T12:48:16.878Z"
   },
   {
    "duration": 396,
    "start_time": "2021-12-27T12:48:50.076Z"
   },
   {
    "duration": 81,
    "start_time": "2021-12-27T12:50:24.936Z"
   },
   {
    "duration": 80,
    "start_time": "2021-12-27T12:50:32.335Z"
   },
   {
    "duration": 91,
    "start_time": "2021-12-27T12:50:56.205Z"
   },
   {
    "duration": 200,
    "start_time": "2021-12-27T12:52:06.736Z"
   },
   {
    "duration": 23,
    "start_time": "2021-12-27T12:52:10.023Z"
   },
   {
    "duration": 23,
    "start_time": "2021-12-27T12:52:42.933Z"
   },
   {
    "duration": 571,
    "start_time": "2021-12-27T13:09:42.014Z"
   },
   {
    "duration": 626,
    "start_time": "2021-12-27T13:11:43.451Z"
   },
   {
    "duration": 513,
    "start_time": "2021-12-27T13:12:01.409Z"
   },
   {
    "duration": 500,
    "start_time": "2021-12-27T13:15:11.021Z"
   },
   {
    "duration": 580,
    "start_time": "2021-12-27T13:16:25.942Z"
   },
   {
    "duration": 197,
    "start_time": "2021-12-27T13:18:12.153Z"
   },
   {
    "duration": 275,
    "start_time": "2021-12-27T13:18:48.544Z"
   },
   {
    "duration": 17,
    "start_time": "2021-12-27T13:18:54.951Z"
   },
   {
    "duration": 14,
    "start_time": "2021-12-27T13:20:41.063Z"
   },
   {
    "duration": 251,
    "start_time": "2021-12-27T13:21:37.823Z"
   },
   {
    "duration": 14,
    "start_time": "2021-12-27T13:22:11.404Z"
   },
   {
    "duration": 18,
    "start_time": "2021-12-27T13:22:19.483Z"
   },
   {
    "duration": 271,
    "start_time": "2021-12-27T13:22:30.313Z"
   },
   {
    "duration": 13,
    "start_time": "2021-12-27T13:23:23.549Z"
   },
   {
    "duration": 20,
    "start_time": "2021-12-27T13:23:34.763Z"
   },
   {
    "duration": 17,
    "start_time": "2021-12-27T13:23:42.633Z"
   },
   {
    "duration": 24,
    "start_time": "2021-12-27T13:23:49.283Z"
   },
   {
    "duration": 7006,
    "start_time": "2021-12-27T13:25:09.420Z"
   },
   {
    "duration": 18,
    "start_time": "2021-12-27T13:25:22.683Z"
   },
   {
    "duration": 509,
    "start_time": "2021-12-27T13:25:45.260Z"
   },
   {
    "duration": 310,
    "start_time": "2021-12-27T13:30:39.109Z"
   },
   {
    "duration": 288,
    "start_time": "2021-12-27T13:31:20.792Z"
   },
   {
    "duration": 7941,
    "start_time": "2021-12-27T13:31:31.701Z"
   },
   {
    "duration": 258,
    "start_time": "2021-12-27T13:32:18.064Z"
   },
   {
    "duration": 491,
    "start_time": "2021-12-27T13:38:04.025Z"
   },
   {
    "duration": 218,
    "start_time": "2021-12-27T13:38:23.435Z"
   },
   {
    "duration": 219,
    "start_time": "2021-12-27T13:38:40.634Z"
   },
   {
    "duration": 213,
    "start_time": "2021-12-27T13:48:57.284Z"
   },
   {
    "duration": 209,
    "start_time": "2021-12-27T13:49:50.264Z"
   },
   {
    "duration": 9619,
    "start_time": "2021-12-27T14:44:51.876Z"
   },
   {
    "duration": 309,
    "start_time": "2021-12-27T14:46:50.182Z"
   },
   {
    "duration": 285,
    "start_time": "2021-12-27T14:47:00.527Z"
   },
   {
    "duration": 293,
    "start_time": "2021-12-27T14:47:10.644Z"
   },
   {
    "duration": 52,
    "start_time": "2021-12-27T14:47:56.797Z"
   },
   {
    "duration": 57,
    "start_time": "2021-12-27T14:48:25.654Z"
   },
   {
    "duration": 578,
    "start_time": "2021-12-27T19:27:06.616Z"
   },
   {
    "duration": 269,
    "start_time": "2021-12-27T19:27:07.196Z"
   },
   {
    "duration": 37,
    "start_time": "2021-12-27T19:27:07.468Z"
   },
   {
    "duration": 28,
    "start_time": "2021-12-27T19:27:07.507Z"
   },
   {
    "duration": 22,
    "start_time": "2021-12-27T19:27:07.537Z"
   },
   {
    "duration": 17,
    "start_time": "2021-12-27T19:27:07.560Z"
   },
   {
    "duration": 10,
    "start_time": "2021-12-27T19:27:07.703Z"
   },
   {
    "duration": 23,
    "start_time": "2021-12-27T19:27:07.874Z"
   },
   {
    "duration": 34,
    "start_time": "2021-12-27T19:27:08.254Z"
   },
   {
    "duration": 19,
    "start_time": "2021-12-27T19:27:08.455Z"
   },
   {
    "duration": 22,
    "start_time": "2021-12-27T19:27:08.779Z"
   },
   {
    "duration": 20,
    "start_time": "2021-12-27T19:27:09.216Z"
   },
   {
    "duration": 100,
    "start_time": "2021-12-27T19:27:09.934Z"
   },
   {
    "duration": 18,
    "start_time": "2021-12-27T19:27:11.855Z"
   },
   {
    "duration": 16,
    "start_time": "2021-12-27T19:27:12.596Z"
   },
   {
    "duration": 118,
    "start_time": "2021-12-27T19:27:14.015Z"
   },
   {
    "duration": 6,
    "start_time": "2021-12-27T19:27:14.975Z"
   },
   {
    "duration": 15,
    "start_time": "2021-12-27T19:27:16.533Z"
   },
   {
    "duration": 120,
    "start_time": "2021-12-27T19:27:20.509Z"
   },
   {
    "duration": 10,
    "start_time": "2021-12-27T19:27:21.617Z"
   },
   {
    "duration": 225,
    "start_time": "2021-12-27T19:27:22.837Z"
   },
   {
    "duration": 22,
    "start_time": "2021-12-27T19:27:27.219Z"
   },
   {
    "duration": 63,
    "start_time": "2021-12-27T19:27:37.095Z"
   },
   {
    "duration": 64,
    "start_time": "2021-12-27T19:28:37.561Z"
   },
   {
    "duration": 49,
    "start_time": "2021-12-27T19:29:25.926Z"
   },
   {
    "duration": 46,
    "start_time": "2021-12-27T19:30:02.704Z"
   },
   {
    "duration": 50,
    "start_time": "2021-12-27T19:30:14.516Z"
   },
   {
    "duration": 51,
    "start_time": "2021-12-27T19:30:30.406Z"
   },
   {
    "duration": 75,
    "start_time": "2021-12-27T19:30:35.227Z"
   },
   {
    "duration": 84,
    "start_time": "2021-12-27T19:30:42.130Z"
   },
   {
    "duration": 74,
    "start_time": "2021-12-27T19:31:28.357Z"
   },
   {
    "duration": 44,
    "start_time": "2021-12-27T19:33:18.567Z"
   },
   {
    "duration": 727,
    "start_time": "2021-12-27T19:36:50.918Z"
   },
   {
    "duration": 335,
    "start_time": "2021-12-27T19:37:05.770Z"
   },
   {
    "duration": 11,
    "start_time": "2021-12-27T19:37:14.923Z"
   },
   {
    "duration": 7031,
    "start_time": "2021-12-27T19:38:18.610Z"
   },
   {
    "duration": 6970,
    "start_time": "2021-12-27T19:38:45.616Z"
   },
   {
    "duration": 2413,
    "start_time": "2021-12-27T19:39:15.964Z"
   },
   {
    "duration": 732,
    "start_time": "2021-12-27T19:40:54.053Z"
   },
   {
    "duration": 271,
    "start_time": "2021-12-27T19:41:36.847Z"
   },
   {
    "duration": 338,
    "start_time": "2021-12-27T19:42:01.419Z"
   },
   {
    "duration": 203,
    "start_time": "2021-12-27T19:43:18.725Z"
   },
   {
    "duration": 7974,
    "start_time": "2021-12-27T19:43:25.352Z"
   },
   {
    "duration": 161,
    "start_time": "2021-12-27T19:43:50.296Z"
   },
   {
    "duration": 226,
    "start_time": "2021-12-27T19:43:59.538Z"
   },
   {
    "duration": 270,
    "start_time": "2021-12-27T19:45:18.125Z"
   },
   {
    "duration": 201,
    "start_time": "2021-12-27T19:45:25.904Z"
   },
   {
    "duration": 218,
    "start_time": "2021-12-27T19:45:34.387Z"
   },
   {
    "duration": 216,
    "start_time": "2021-12-27T19:45:39.661Z"
   },
   {
    "duration": 454,
    "start_time": "2021-12-27T19:47:16.837Z"
   },
   {
    "duration": 452,
    "start_time": "2021-12-27T19:51:04.056Z"
   },
   {
    "duration": 318,
    "start_time": "2021-12-27T19:52:02.355Z"
   },
   {
    "duration": 291,
    "start_time": "2021-12-27T19:52:26.553Z"
   },
   {
    "duration": 650,
    "start_time": "2021-12-27T19:52:30.965Z"
   },
   {
    "duration": 276,
    "start_time": "2021-12-27T19:52:46.265Z"
   },
   {
    "duration": 45,
    "start_time": "2021-12-27T19:53:44.487Z"
   },
   {
    "duration": 239,
    "start_time": "2021-12-27T19:54:12.239Z"
   },
   {
    "duration": 9,
    "start_time": "2021-12-27T19:54:26.103Z"
   },
   {
    "duration": 10,
    "start_time": "2021-12-27T19:55:03.185Z"
   },
   {
    "duration": 15,
    "start_time": "2021-12-27T19:55:19.900Z"
   },
   {
    "duration": 18,
    "start_time": "2021-12-27T19:55:57.151Z"
   },
   {
    "duration": 13,
    "start_time": "2021-12-27T19:56:03.932Z"
   },
   {
    "duration": 10,
    "start_time": "2021-12-27T19:56:39.423Z"
   },
   {
    "duration": 12,
    "start_time": "2021-12-27T19:56:58.383Z"
   },
   {
    "duration": 72,
    "start_time": "2021-12-27T19:58:17.216Z"
   },
   {
    "duration": 10,
    "start_time": "2021-12-27T19:58:26.202Z"
   },
   {
    "duration": 284,
    "start_time": "2021-12-27T19:58:58.572Z"
   },
   {
    "duration": 12,
    "start_time": "2021-12-27T19:59:02.258Z"
   },
   {
    "duration": 7,
    "start_time": "2021-12-27T19:59:21.089Z"
   },
   {
    "duration": 11,
    "start_time": "2021-12-27T19:59:27.532Z"
   },
   {
    "duration": 11,
    "start_time": "2021-12-27T20:01:10.162Z"
   },
   {
    "duration": 11,
    "start_time": "2021-12-27T20:01:24.141Z"
   },
   {
    "duration": 252,
    "start_time": "2021-12-27T20:03:19.401Z"
   },
   {
    "duration": 15,
    "start_time": "2021-12-27T20:03:28.487Z"
   },
   {
    "duration": 17,
    "start_time": "2021-12-27T20:05:26.493Z"
   },
   {
    "duration": 14,
    "start_time": "2021-12-27T20:06:14.258Z"
   },
   {
    "duration": 16,
    "start_time": "2021-12-27T20:07:23.490Z"
   },
   {
    "duration": 16,
    "start_time": "2021-12-27T20:08:00.623Z"
   },
   {
    "duration": 13,
    "start_time": "2021-12-27T20:08:16.308Z"
   },
   {
    "duration": 17,
    "start_time": "2021-12-27T20:09:07.695Z"
   },
   {
    "duration": 25,
    "start_time": "2021-12-27T20:09:28.647Z"
   },
   {
    "duration": 26,
    "start_time": "2021-12-27T20:09:40.457Z"
   },
   {
    "duration": 40,
    "start_time": "2021-12-27T20:14:56.129Z"
   },
   {
    "duration": 49,
    "start_time": "2021-12-27T20:15:00.063Z"
   },
   {
    "duration": 3,
    "start_time": "2021-12-27T20:15:26.038Z"
   },
   {
    "duration": 17891,
    "start_time": "2021-12-27T20:17:34.017Z"
   },
   {
    "duration": 524,
    "start_time": "2021-12-27T20:18:26.904Z"
   },
   {
    "duration": 56662,
    "start_time": "2021-12-27T20:18:32.053Z"
   },
   {
    "duration": 390,
    "start_time": "2021-12-28T08:00:30.366Z"
   },
   {
    "duration": 286,
    "start_time": "2021-12-28T08:00:31.165Z"
   },
   {
    "duration": 865,
    "start_time": "2021-12-28T08:00:48.484Z"
   },
   {
    "duration": 4,
    "start_time": "2021-12-28T08:01:26.402Z"
   },
   {
    "duration": 347,
    "start_time": "2021-12-28T08:01:26.564Z"
   },
   {
    "duration": 56,
    "start_time": "2021-12-28T08:01:26.913Z"
   },
   {
    "duration": 62,
    "start_time": "2021-12-28T08:01:26.972Z"
   },
   {
    "duration": 46,
    "start_time": "2021-12-28T08:01:27.095Z"
   },
   {
    "duration": 31,
    "start_time": "2021-12-28T08:01:27.287Z"
   },
   {
    "duration": 15,
    "start_time": "2021-12-28T08:01:27.437Z"
   },
   {
    "duration": 33,
    "start_time": "2021-12-28T08:01:27.603Z"
   },
   {
    "duration": 53,
    "start_time": "2021-12-28T08:01:27.788Z"
   },
   {
    "duration": 28,
    "start_time": "2021-12-28T08:01:27.975Z"
   },
   {
    "duration": 46,
    "start_time": "2021-12-28T08:01:28.201Z"
   },
   {
    "duration": 37,
    "start_time": "2021-12-28T08:01:28.398Z"
   },
   {
    "duration": 210,
    "start_time": "2021-12-28T08:01:28.843Z"
   },
   {
    "duration": 28,
    "start_time": "2021-12-28T08:01:29.262Z"
   },
   {
    "duration": 25,
    "start_time": "2021-12-28T08:01:29.577Z"
   },
   {
    "duration": 249,
    "start_time": "2021-12-28T08:01:29.979Z"
   },
   {
    "duration": 8,
    "start_time": "2021-12-28T08:01:30.414Z"
   },
   {
    "duration": 25,
    "start_time": "2021-12-28T08:01:31.216Z"
   },
   {
    "duration": 271,
    "start_time": "2021-12-28T08:01:31.646Z"
   },
   {
    "duration": 14,
    "start_time": "2021-12-28T08:01:32.144Z"
   },
   {
    "duration": 452,
    "start_time": "2021-12-28T08:01:35.046Z"
   },
   {
    "duration": 38,
    "start_time": "2021-12-28T08:01:38.514Z"
   },
   {
    "duration": 85,
    "start_time": "2021-12-28T08:01:40.234Z"
   },
   {
    "duration": 171,
    "start_time": "2021-12-28T08:01:41.064Z"
   },
   {
    "duration": 77,
    "start_time": "2021-12-28T08:13:34.369Z"
   },
   {
    "duration": 233,
    "start_time": "2021-12-28T08:17:49.527Z"
   },
   {
    "duration": 226,
    "start_time": "2021-12-28T08:18:08.946Z"
   },
   {
    "duration": 373,
    "start_time": "2021-12-28T08:18:26.558Z"
   },
   {
    "duration": 416,
    "start_time": "2021-12-28T08:19:30.575Z"
   },
   {
    "duration": 645,
    "start_time": "2021-12-28T08:19:42.032Z"
   },
   {
    "duration": 208,
    "start_time": "2021-12-28T08:20:02.255Z"
   },
   {
    "duration": 719,
    "start_time": "2021-12-28T08:22:26.488Z"
   },
   {
    "duration": 172,
    "start_time": "2021-12-28T08:28:45.254Z"
   },
   {
    "duration": 574,
    "start_time": "2021-12-28T08:30:17.224Z"
   },
   {
    "duration": 208,
    "start_time": "2021-12-28T08:30:37.474Z"
   },
   {
    "duration": 188,
    "start_time": "2021-12-28T08:30:59.005Z"
   },
   {
    "duration": 215,
    "start_time": "2021-12-28T08:31:20.449Z"
   },
   {
    "duration": 751,
    "start_time": "2021-12-28T08:31:32.996Z"
   },
   {
    "duration": 340,
    "start_time": "2021-12-28T08:32:52.925Z"
   },
   {
    "duration": 403,
    "start_time": "2021-12-28T08:33:29.593Z"
   },
   {
    "duration": 388,
    "start_time": "2021-12-28T08:33:35.785Z"
   },
   {
    "duration": 12,
    "start_time": "2021-12-28T08:34:59.340Z"
   },
   {
    "duration": 12,
    "start_time": "2021-12-28T08:35:27.325Z"
   },
   {
    "duration": 408,
    "start_time": "2021-12-28T08:35:39.606Z"
   },
   {
    "duration": 37,
    "start_time": "2021-12-28T08:35:53.637Z"
   },
   {
    "duration": 26,
    "start_time": "2021-12-28T08:36:03.366Z"
   },
   {
    "duration": 14,
    "start_time": "2021-12-28T08:36:16.745Z"
   },
   {
    "duration": 13,
    "start_time": "2021-12-28T08:36:30.152Z"
   },
   {
    "duration": 7785,
    "start_time": "2021-12-28T08:37:32.965Z"
   },
   {
    "duration": 7901,
    "start_time": "2021-12-28T08:37:54.102Z"
   },
   {
    "duration": 22,
    "start_time": "2021-12-28T08:38:57.392Z"
   },
   {
    "duration": 18,
    "start_time": "2021-12-28T08:39:56.975Z"
   },
   {
    "duration": 19,
    "start_time": "2021-12-28T08:45:47.864Z"
   },
   {
    "duration": 23,
    "start_time": "2021-12-28T08:46:18.638Z"
   },
   {
    "duration": 26,
    "start_time": "2021-12-28T08:47:45.466Z"
   },
   {
    "duration": 25,
    "start_time": "2021-12-28T08:48:02.513Z"
   },
   {
    "duration": 22,
    "start_time": "2021-12-28T08:48:11.473Z"
   },
   {
    "duration": 28,
    "start_time": "2021-12-28T08:48:16.120Z"
   },
   {
    "duration": 27,
    "start_time": "2021-12-28T08:48:35.513Z"
   },
   {
    "duration": 24,
    "start_time": "2021-12-28T08:48:53.076Z"
   },
   {
    "duration": 342,
    "start_time": "2021-12-28T08:51:27.343Z"
   },
   {
    "duration": 14532,
    "start_time": "2021-12-28T08:51:58.800Z"
   },
   {
    "duration": 92,
    "start_time": "2021-12-28T08:53:02.857Z"
   },
   {
    "duration": 13027,
    "start_time": "2021-12-28T08:54:52.888Z"
   },
   {
    "duration": 12379,
    "start_time": "2021-12-28T08:55:47.195Z"
   },
   {
    "duration": 11191,
    "start_time": "2021-12-28T08:57:00.814Z"
   },
   {
    "duration": 13814,
    "start_time": "2021-12-28T09:01:16.875Z"
   },
   {
    "duration": 37,
    "start_time": "2021-12-28T09:01:46.634Z"
   },
   {
    "duration": 38,
    "start_time": "2021-12-28T09:03:37.315Z"
   },
   {
    "duration": 26,
    "start_time": "2021-12-28T09:04:47.538Z"
   },
   {
    "duration": 22,
    "start_time": "2021-12-28T09:04:56.712Z"
   },
   {
    "duration": 32,
    "start_time": "2021-12-28T09:05:02.604Z"
   },
   {
    "duration": 21,
    "start_time": "2021-12-28T09:05:22.122Z"
   },
   {
    "duration": 24,
    "start_time": "2021-12-28T09:05:28.892Z"
   },
   {
    "duration": 24,
    "start_time": "2021-12-28T09:05:38.449Z"
   },
   {
    "duration": 22,
    "start_time": "2021-12-28T09:05:51.299Z"
   },
   {
    "duration": 37,
    "start_time": "2021-12-28T09:05:58.215Z"
   },
   {
    "duration": 22,
    "start_time": "2021-12-28T09:06:03.954Z"
   },
   {
    "duration": 14,
    "start_time": "2021-12-28T09:06:09.261Z"
   },
   {
    "duration": 21,
    "start_time": "2021-12-28T09:06:13.685Z"
   },
   {
    "duration": 5,
    "start_time": "2021-12-28T09:13:47.632Z"
   },
   {
    "duration": 491,
    "start_time": "2021-12-28T09:13:47.804Z"
   },
   {
    "duration": 82,
    "start_time": "2021-12-28T09:13:48.309Z"
   },
   {
    "duration": 54,
    "start_time": "2021-12-28T09:13:48.395Z"
   },
   {
    "duration": 45,
    "start_time": "2021-12-28T09:13:48.452Z"
   },
   {
    "duration": 36,
    "start_time": "2021-12-28T09:13:48.532Z"
   },
   {
    "duration": 21,
    "start_time": "2021-12-28T09:13:48.713Z"
   },
   {
    "duration": 38,
    "start_time": "2021-12-28T09:13:48.869Z"
   },
   {
    "duration": 43,
    "start_time": "2021-12-28T09:13:49.063Z"
   },
   {
    "duration": 28,
    "start_time": "2021-12-28T09:13:49.239Z"
   },
   {
    "duration": 35,
    "start_time": "2021-12-28T09:13:49.682Z"
   },
   {
    "duration": 32,
    "start_time": "2021-12-28T09:13:49.837Z"
   },
   {
    "duration": 318,
    "start_time": "2021-12-28T09:13:50.030Z"
   },
   {
    "duration": 28,
    "start_time": "2021-12-28T09:13:50.404Z"
   },
   {
    "duration": 26,
    "start_time": "2021-12-28T09:13:50.625Z"
   },
   {
    "duration": 260,
    "start_time": "2021-12-28T09:13:50.856Z"
   },
   {
    "duration": 8,
    "start_time": "2021-12-28T09:13:51.154Z"
   },
   {
    "duration": 23,
    "start_time": "2021-12-28T09:13:51.645Z"
   },
   {
    "duration": 262,
    "start_time": "2021-12-28T09:13:52.065Z"
   },
   {
    "duration": 21,
    "start_time": "2021-12-28T09:13:52.497Z"
   },
   {
    "duration": 649,
    "start_time": "2021-12-28T09:13:52.924Z"
   },
   {
    "duration": 60,
    "start_time": "2021-12-28T09:13:53.577Z"
   },
   {
    "duration": 114,
    "start_time": "2021-12-28T09:13:53.815Z"
   },
   {
    "duration": 29,
    "start_time": "2021-12-28T09:13:54.614Z"
   },
   {
    "duration": 20,
    "start_time": "2021-12-28T09:15:05.182Z"
   },
   {
    "duration": 19,
    "start_time": "2021-12-28T09:15:56.012Z"
   },
   {
    "duration": 73,
    "start_time": "2021-12-28T09:17:42.070Z"
   },
   {
    "duration": 86,
    "start_time": "2021-12-28T09:17:47.319Z"
   },
   {
    "duration": 25,
    "start_time": "2021-12-28T09:18:14.849Z"
   },
   {
    "duration": 305,
    "start_time": "2021-12-28T09:20:01.399Z"
   },
   {
    "duration": 43,
    "start_time": "2021-12-28T09:20:13.908Z"
   },
   {
    "duration": 3,
    "start_time": "2021-12-28T09:20:20.357Z"
   },
   {
    "duration": 422,
    "start_time": "2021-12-28T09:20:20.530Z"
   },
   {
    "duration": 65,
    "start_time": "2021-12-28T09:20:20.956Z"
   },
   {
    "duration": 45,
    "start_time": "2021-12-28T09:20:21.023Z"
   },
   {
    "duration": 54,
    "start_time": "2021-12-28T09:20:21.071Z"
   },
   {
    "duration": 29,
    "start_time": "2021-12-28T09:20:21.239Z"
   },
   {
    "duration": 17,
    "start_time": "2021-12-28T09:20:21.404Z"
   },
   {
    "duration": 36,
    "start_time": "2021-12-28T09:20:21.600Z"
   },
   {
    "duration": 67,
    "start_time": "2021-12-28T09:20:21.809Z"
   },
   {
    "duration": 28,
    "start_time": "2021-12-28T09:20:21.967Z"
   },
   {
    "duration": 35,
    "start_time": "2021-12-28T09:20:22.151Z"
   },
   {
    "duration": 36,
    "start_time": "2021-12-28T09:20:22.393Z"
   },
   {
    "duration": 345,
    "start_time": "2021-12-28T09:20:22.780Z"
   },
   {
    "duration": 41,
    "start_time": "2021-12-28T09:20:23.128Z"
   },
   {
    "duration": 61,
    "start_time": "2021-12-28T09:20:23.177Z"
   },
   {
    "duration": 306,
    "start_time": "2021-12-28T09:20:23.795Z"
   },
   {
    "duration": 19,
    "start_time": "2021-12-28T09:20:24.104Z"
   },
   {
    "duration": 29,
    "start_time": "2021-12-28T09:20:24.126Z"
   },
   {
    "duration": 315,
    "start_time": "2021-12-28T09:20:24.158Z"
   },
   {
    "duration": 26,
    "start_time": "2021-12-28T09:20:24.478Z"
   },
   {
    "duration": 402,
    "start_time": "2021-12-28T09:20:24.810Z"
   },
   {
    "duration": 36,
    "start_time": "2021-12-28T09:20:25.440Z"
   },
   {
    "duration": 66,
    "start_time": "2021-12-28T09:20:27.944Z"
   },
   {
    "duration": 64,
    "start_time": "2021-12-28T09:20:28.013Z"
   },
   {
    "duration": 97,
    "start_time": "2021-12-28T09:20:29.857Z"
   },
   {
    "duration": 30,
    "start_time": "2021-12-28T09:20:30.740Z"
   },
   {
    "duration": 4,
    "start_time": "2021-12-28T09:32:07.395Z"
   },
   {
    "duration": 386,
    "start_time": "2021-12-28T09:32:07.736Z"
   },
   {
    "duration": 58,
    "start_time": "2021-12-28T09:32:08.125Z"
   },
   {
    "duration": 63,
    "start_time": "2021-12-28T09:32:08.187Z"
   },
   {
    "duration": 32,
    "start_time": "2021-12-28T09:32:08.252Z"
   },
   {
    "duration": 28,
    "start_time": "2021-12-28T09:32:08.384Z"
   },
   {
    "duration": 16,
    "start_time": "2021-12-28T09:32:08.565Z"
   },
   {
    "duration": 32,
    "start_time": "2021-12-28T09:32:08.745Z"
   },
   {
    "duration": 35,
    "start_time": "2021-12-28T09:32:08.913Z"
   },
   {
    "duration": 23,
    "start_time": "2021-12-28T09:32:09.084Z"
   },
   {
    "duration": 27,
    "start_time": "2021-12-28T09:32:09.249Z"
   },
   {
    "duration": 17,
    "start_time": "2021-12-28T09:32:09.435Z"
   },
   {
    "duration": 257,
    "start_time": "2021-12-28T09:32:09.619Z"
   },
   {
    "duration": 26,
    "start_time": "2021-12-28T09:32:09.878Z"
   },
   {
    "duration": 8,
    "start_time": "2021-12-28T09:32:09.962Z"
   },
   {
    "duration": 319,
    "start_time": "2021-12-28T09:32:10.112Z"
   },
   {
    "duration": 8,
    "start_time": "2021-12-28T09:32:10.434Z"
   },
   {
    "duration": 5,
    "start_time": "2021-12-28T09:32:10.480Z"
   },
   {
    "duration": 219,
    "start_time": "2021-12-28T09:32:10.664Z"
   },
   {
    "duration": 14,
    "start_time": "2021-12-28T09:32:10.886Z"
   },
   {
    "duration": 383,
    "start_time": "2021-12-28T09:32:11.315Z"
   },
   {
    "duration": 35,
    "start_time": "2021-12-28T09:32:11.933Z"
   },
   {
    "duration": 44,
    "start_time": "2021-12-28T09:32:12.817Z"
   },
   {
    "duration": 25,
    "start_time": "2021-12-28T09:32:13.715Z"
   },
   {
    "duration": 74,
    "start_time": "2021-12-28T09:32:14.772Z"
   },
   {
    "duration": 31,
    "start_time": "2021-12-28T09:32:15.505Z"
   },
   {
    "duration": 368,
    "start_time": "2021-12-28T09:35:05.239Z"
   },
   {
    "duration": 75,
    "start_time": "2021-12-28T09:36:56.894Z"
   },
   {
    "duration": 30,
    "start_time": "2021-12-28T09:36:59.733Z"
   },
   {
    "duration": 276,
    "start_time": "2021-12-28T09:38:05.894Z"
   },
   {
    "duration": 24,
    "start_time": "2021-12-28T09:38:15.864Z"
   },
   {
    "duration": 4,
    "start_time": "2021-12-28T09:38:29.665Z"
   },
   {
    "duration": 382,
    "start_time": "2021-12-28T09:38:29.855Z"
   },
   {
    "duration": 57,
    "start_time": "2021-12-28T09:38:30.240Z"
   },
   {
    "duration": 44,
    "start_time": "2021-12-28T09:38:30.300Z"
   },
   {
    "duration": 30,
    "start_time": "2021-12-28T09:38:30.347Z"
   },
   {
    "duration": 28,
    "start_time": "2021-12-28T09:38:30.477Z"
   },
   {
    "duration": 16,
    "start_time": "2021-12-28T09:38:30.637Z"
   },
   {
    "duration": 34,
    "start_time": "2021-12-28T09:38:30.813Z"
   },
   {
    "duration": 43,
    "start_time": "2021-12-28T09:38:30.974Z"
   },
   {
    "duration": 29,
    "start_time": "2021-12-28T09:38:31.133Z"
   },
   {
    "duration": 37,
    "start_time": "2021-12-28T09:38:31.337Z"
   },
   {
    "duration": 16,
    "start_time": "2021-12-28T09:38:31.498Z"
   },
   {
    "duration": 241,
    "start_time": "2021-12-28T09:38:31.684Z"
   },
   {
    "duration": 29,
    "start_time": "2021-12-28T09:38:31.928Z"
   },
   {
    "duration": 11,
    "start_time": "2021-12-28T09:38:32.032Z"
   },
   {
    "duration": 359,
    "start_time": "2021-12-28T09:38:32.192Z"
   },
   {
    "duration": 9,
    "start_time": "2021-12-28T09:38:32.555Z"
   },
   {
    "duration": 3,
    "start_time": "2021-12-28T09:38:32.622Z"
   },
   {
    "duration": 274,
    "start_time": "2021-12-28T09:38:32.817Z"
   },
   {
    "duration": 30,
    "start_time": "2021-12-28T09:38:33.094Z"
   },
   {
    "duration": 422,
    "start_time": "2021-12-28T09:38:33.203Z"
   },
   {
    "duration": 38,
    "start_time": "2021-12-28T09:38:33.628Z"
   },
   {
    "duration": 107,
    "start_time": "2021-12-28T09:38:33.669Z"
   },
   {
    "duration": 36,
    "start_time": "2021-12-28T09:38:33.800Z"
   },
   {
    "duration": 103,
    "start_time": "2021-12-28T09:38:34.025Z"
   },
   {
    "duration": 31,
    "start_time": "2021-12-28T09:38:34.244Z"
   },
   {
    "duration": 19,
    "start_time": "2021-12-28T09:38:34.612Z"
   },
   {
    "duration": 22,
    "start_time": "2021-12-28T09:39:30.005Z"
   },
   {
    "duration": 24,
    "start_time": "2021-12-28T09:39:37.027Z"
   },
   {
    "duration": 57,
    "start_time": "2021-12-28T09:41:51.638Z"
   },
   {
    "duration": 19,
    "start_time": "2021-12-28T09:44:21.154Z"
   },
   {
    "duration": 19,
    "start_time": "2021-12-28T09:45:04.134Z"
   },
   {
    "duration": 73,
    "start_time": "2021-12-28T09:45:25.165Z"
   },
   {
    "duration": 26,
    "start_time": "2021-12-28T09:45:25.764Z"
   },
   {
    "duration": 25,
    "start_time": "2021-12-28T09:45:35.864Z"
   },
   {
    "duration": 3,
    "start_time": "2021-12-28T09:53:54.551Z"
   },
   {
    "duration": 35,
    "start_time": "2021-12-28T09:55:42.673Z"
   },
   {
    "duration": 22,
    "start_time": "2021-12-28T09:57:02.750Z"
   },
   {
    "duration": 17,
    "start_time": "2021-12-28T09:57:35.882Z"
   },
   {
    "duration": 25,
    "start_time": "2021-12-28T09:57:46.884Z"
   },
   {
    "duration": 23,
    "start_time": "2021-12-28T09:58:06.565Z"
   },
   {
    "duration": 24,
    "start_time": "2021-12-28T09:58:09.563Z"
   },
   {
    "duration": 22,
    "start_time": "2021-12-28T09:58:14.004Z"
   },
   {
    "duration": 28,
    "start_time": "2021-12-28T09:59:38.204Z"
   },
   {
    "duration": 32,
    "start_time": "2021-12-28T09:59:54.576Z"
   },
   {
    "duration": 24,
    "start_time": "2021-12-28T10:00:17.472Z"
   },
   {
    "duration": 26,
    "start_time": "2021-12-28T10:00:40.924Z"
   },
   {
    "duration": 30,
    "start_time": "2021-12-28T10:01:23.735Z"
   },
   {
    "duration": 21,
    "start_time": "2021-12-28T10:01:36.824Z"
   },
   {
    "duration": 21,
    "start_time": "2021-12-28T10:01:46.332Z"
   },
   {
    "duration": 23,
    "start_time": "2021-12-28T10:03:03.255Z"
   },
   {
    "duration": 513,
    "start_time": "2021-12-28T10:04:05.084Z"
   },
   {
    "duration": 378,
    "start_time": "2021-12-28T10:05:11.584Z"
   },
   {
    "duration": 550,
    "start_time": "2021-12-28T10:05:16.765Z"
   },
   {
    "duration": 526,
    "start_time": "2021-12-28T10:05:54.448Z"
   },
   {
    "duration": 380,
    "start_time": "2021-12-28T10:06:17.192Z"
   },
   {
    "duration": 366,
    "start_time": "2021-12-28T10:17:00.391Z"
   },
   {
    "duration": 390,
    "start_time": "2021-12-28T10:17:04.993Z"
   },
   {
    "duration": 11,
    "start_time": "2021-12-28T10:23:47.494Z"
   },
   {
    "duration": 20,
    "start_time": "2021-12-28T10:27:28.906Z"
   },
   {
    "duration": 20,
    "start_time": "2021-12-28T10:28:10.002Z"
   },
   {
    "duration": 12,
    "start_time": "2021-12-28T10:32:14.239Z"
   },
   {
    "duration": 8416,
    "start_time": "2021-12-28T10:55:10.403Z"
   },
   {
    "duration": 6771,
    "start_time": "2021-12-28T10:55:46.092Z"
   },
   {
    "duration": 6536,
    "start_time": "2021-12-28T10:56:44.804Z"
   },
   {
    "duration": 36,
    "start_time": "2021-12-28T10:57:02.163Z"
   },
   {
    "duration": 37,
    "start_time": "2021-12-28T10:57:18.723Z"
   },
   {
    "duration": 10,
    "start_time": "2021-12-28T10:57:48.651Z"
   },
   {
    "duration": 12,
    "start_time": "2021-12-28T10:58:38.723Z"
   },
   {
    "duration": 18,
    "start_time": "2021-12-28T10:59:00.404Z"
   },
   {
    "duration": 16,
    "start_time": "2021-12-28T10:59:08.292Z"
   },
   {
    "duration": 14,
    "start_time": "2021-12-28T10:59:15.246Z"
   },
   {
    "duration": 15,
    "start_time": "2021-12-28T10:59:28.644Z"
   },
   {
    "duration": 3,
    "start_time": "2021-12-28T11:03:48.631Z"
   },
   {
    "duration": 487,
    "start_time": "2021-12-28T11:16:27.437Z"
   },
   {
    "duration": 3,
    "start_time": "2021-12-28T11:16:32.707Z"
   },
   {
    "duration": 3,
    "start_time": "2021-12-28T11:16:33.025Z"
   },
   {
    "duration": 46,
    "start_time": "2021-12-28T11:18:11.779Z"
   },
   {
    "duration": 16,
    "start_time": "2021-12-28T11:18:26.227Z"
   },
   {
    "duration": 344,
    "start_time": "2021-12-28T11:19:03.097Z"
   },
   {
    "duration": 15,
    "start_time": "2021-12-28T11:21:09.839Z"
   },
   {
    "duration": 14,
    "start_time": "2021-12-28T11:21:14.707Z"
   },
   {
    "duration": 15,
    "start_time": "2021-12-28T11:23:25.079Z"
   },
   {
    "duration": 20,
    "start_time": "2021-12-28T11:23:45.198Z"
   },
   {
    "duration": 16,
    "start_time": "2021-12-28T11:25:58.023Z"
   },
   {
    "duration": 35,
    "start_time": "2021-12-28T11:26:02.133Z"
   },
   {
    "duration": 15,
    "start_time": "2021-12-28T11:26:20.271Z"
   },
   {
    "duration": 464,
    "start_time": "2021-12-28T11:26:34.011Z"
   },
   {
    "duration": 285,
    "start_time": "2021-12-28T11:26:59.233Z"
   },
   {
    "duration": 8189,
    "start_time": "2021-12-28T11:27:27.350Z"
   },
   {
    "duration": 294,
    "start_time": "2021-12-28T11:28:31.381Z"
   },
   {
    "duration": 9528,
    "start_time": "2021-12-28T11:28:54.660Z"
   },
   {
    "duration": 302,
    "start_time": "2021-12-28T11:29:08.441Z"
   },
   {
    "duration": 308,
    "start_time": "2021-12-28T11:29:34.291Z"
   },
   {
    "duration": 4,
    "start_time": "2021-12-28T11:29:43.510Z"
   },
   {
    "duration": 402,
    "start_time": "2021-12-28T11:29:43.662Z"
   },
   {
    "duration": 57,
    "start_time": "2021-12-28T11:29:44.067Z"
   },
   {
    "duration": 40,
    "start_time": "2021-12-28T11:29:44.127Z"
   },
   {
    "duration": 56,
    "start_time": "2021-12-28T11:29:44.170Z"
   },
   {
    "duration": 26,
    "start_time": "2021-12-28T11:29:44.260Z"
   },
   {
    "duration": 18,
    "start_time": "2021-12-28T11:29:44.419Z"
   },
   {
    "duration": 33,
    "start_time": "2021-12-28T11:29:44.567Z"
   },
   {
    "duration": 38,
    "start_time": "2021-12-28T11:29:44.764Z"
   },
   {
    "duration": 30,
    "start_time": "2021-12-28T11:29:44.942Z"
   },
   {
    "duration": 29,
    "start_time": "2021-12-28T11:29:45.090Z"
   },
   {
    "duration": 15,
    "start_time": "2021-12-28T11:29:45.269Z"
   },
   {
    "duration": 427,
    "start_time": "2021-12-28T11:29:45.463Z"
   },
   {
    "duration": 57,
    "start_time": "2021-12-28T11:29:45.893Z"
   },
   {
    "duration": 11,
    "start_time": "2021-12-28T11:29:45.954Z"
   },
   {
    "duration": 267,
    "start_time": "2021-12-28T11:29:45.986Z"
   },
   {
    "duration": 12,
    "start_time": "2021-12-28T11:29:46.256Z"
   },
   {
    "duration": 4,
    "start_time": "2021-12-28T11:29:46.328Z"
   },
   {
    "duration": 226,
    "start_time": "2021-12-28T11:29:46.517Z"
   },
   {
    "duration": 14,
    "start_time": "2021-12-28T11:29:46.746Z"
   },
   {
    "duration": 389,
    "start_time": "2021-12-28T11:29:46.932Z"
   },
   {
    "duration": 35,
    "start_time": "2021-12-28T11:29:47.324Z"
   },
   {
    "duration": 42,
    "start_time": "2021-12-28T11:29:47.581Z"
   },
   {
    "duration": 23,
    "start_time": "2021-12-28T11:29:47.904Z"
   },
   {
    "duration": 474,
    "start_time": "2021-12-28T11:29:48.163Z"
   },
   {
    "duration": 94,
    "start_time": "2021-12-28T11:29:48.639Z"
   },
   {
    "duration": 27,
    "start_time": "2021-12-28T11:29:48.954Z"
   },
   {
    "duration": 372,
    "start_time": "2021-12-28T11:29:49.520Z"
   },
   {
    "duration": 25,
    "start_time": "2021-12-28T11:29:50.070Z"
   },
   {
    "duration": 385,
    "start_time": "2021-12-28T11:29:50.957Z"
   },
   {
    "duration": 3,
    "start_time": "2021-12-28T11:29:51.723Z"
   },
   {
    "duration": 307,
    "start_time": "2021-12-28T11:29:53.358Z"
   },
   {
    "duration": 22,
    "start_time": "2021-12-28T11:30:27.327Z"
   },
   {
    "duration": 4,
    "start_time": "2021-12-28T11:32:01.851Z"
   },
   {
    "duration": 38,
    "start_time": "2021-12-28T11:34:01.237Z"
   },
   {
    "duration": 29,
    "start_time": "2021-12-28T11:34:57.187Z"
   },
   {
    "duration": 22,
    "start_time": "2021-12-28T11:35:31.776Z"
   },
   {
    "duration": 13,
    "start_time": "2021-12-28T11:35:59.463Z"
   },
   {
    "duration": 17,
    "start_time": "2021-12-28T11:36:11.035Z"
   },
   {
    "duration": 4,
    "start_time": "2021-12-28T11:36:19.194Z"
   },
   {
    "duration": 377,
    "start_time": "2021-12-28T11:36:19.359Z"
   },
   {
    "duration": 57,
    "start_time": "2021-12-28T11:36:19.738Z"
   },
   {
    "duration": 49,
    "start_time": "2021-12-28T11:36:19.798Z"
   },
   {
    "duration": 30,
    "start_time": "2021-12-28T11:36:19.851Z"
   },
   {
    "duration": 26,
    "start_time": "2021-12-28T11:36:20.016Z"
   },
   {
    "duration": 16,
    "start_time": "2021-12-28T11:36:20.193Z"
   },
   {
    "duration": 30,
    "start_time": "2021-12-28T11:36:20.360Z"
   },
   {
    "duration": 37,
    "start_time": "2021-12-28T11:36:20.550Z"
   },
   {
    "duration": 21,
    "start_time": "2021-12-28T11:36:20.716Z"
   },
   {
    "duration": 26,
    "start_time": "2021-12-28T11:36:20.909Z"
   },
   {
    "duration": 14,
    "start_time": "2021-12-28T11:36:21.100Z"
   },
   {
    "duration": 206,
    "start_time": "2021-12-28T11:36:21.290Z"
   },
   {
    "duration": 37,
    "start_time": "2021-12-28T11:36:21.498Z"
   },
   {
    "duration": 9,
    "start_time": "2021-12-28T11:36:21.667Z"
   },
   {
    "duration": 238,
    "start_time": "2021-12-28T11:36:21.858Z"
   },
   {
    "duration": 9,
    "start_time": "2021-12-28T11:36:22.098Z"
   },
   {
    "duration": 4,
    "start_time": "2021-12-28T11:36:22.370Z"
   },
   {
    "duration": 217,
    "start_time": "2021-12-28T11:36:22.577Z"
   },
   {
    "duration": 15,
    "start_time": "2021-12-28T11:36:22.826Z"
   },
   {
    "duration": 399,
    "start_time": "2021-12-28T11:36:22.991Z"
   },
   {
    "duration": 43,
    "start_time": "2021-12-28T11:36:23.392Z"
   },
   {
    "duration": 44,
    "start_time": "2021-12-28T11:36:25.159Z"
   },
   {
    "duration": 25,
    "start_time": "2021-12-28T11:36:25.205Z"
   },
   {
    "duration": 390,
    "start_time": "2021-12-28T11:36:25.233Z"
   },
   {
    "duration": 74,
    "start_time": "2021-12-28T11:36:25.626Z"
   },
   {
    "duration": 47,
    "start_time": "2021-12-28T11:36:25.702Z"
   },
   {
    "duration": 325,
    "start_time": "2021-12-28T11:36:25.989Z"
   },
   {
    "duration": 23,
    "start_time": "2021-12-28T11:36:26.500Z"
   },
   {
    "duration": 443,
    "start_time": "2021-12-28T11:36:26.880Z"
   },
   {
    "duration": 3,
    "start_time": "2021-12-28T11:36:27.336Z"
   },
   {
    "duration": 17,
    "start_time": "2021-12-28T11:36:28.082Z"
   },
   {
    "duration": 18,
    "start_time": "2021-12-28T11:37:11.503Z"
   },
   {
    "duration": 21,
    "start_time": "2021-12-28T11:37:22.656Z"
   },
   {
    "duration": 23,
    "start_time": "2021-12-28T11:38:16.582Z"
   },
   {
    "duration": 22,
    "start_time": "2021-12-28T11:38:19.155Z"
   },
   {
    "duration": 289,
    "start_time": "2021-12-28T11:40:45.123Z"
   },
   {
    "duration": 276,
    "start_time": "2021-12-28T11:42:22.017Z"
   },
   {
    "duration": 164,
    "start_time": "2021-12-28T13:39:26.287Z"
   },
   {
    "duration": 22,
    "start_time": "2021-12-28T13:39:49.027Z"
   },
   {
    "duration": 9,
    "start_time": "2021-12-28T13:40:56.908Z"
   },
   {
    "duration": 6,
    "start_time": "2021-12-28T13:41:08.024Z"
   },
   {
    "duration": 5,
    "start_time": "2021-12-28T13:41:14.866Z"
   },
   {
    "duration": 405,
    "start_time": "2021-12-28T13:41:38.306Z"
   },
   {
    "duration": 402,
    "start_time": "2021-12-28T13:42:02.450Z"
   },
   {
    "duration": 872,
    "start_time": "2021-12-28T13:43:08.465Z"
   },
   {
    "duration": 22,
    "start_time": "2021-12-28T13:43:19.384Z"
   },
   {
    "duration": 26,
    "start_time": "2021-12-28T16:02:00.664Z"
   },
   {
    "duration": 24,
    "start_time": "2021-12-28T16:03:28.047Z"
   },
   {
    "duration": 315,
    "start_time": "2021-12-28T16:03:49.465Z"
   },
   {
    "duration": 326,
    "start_time": "2021-12-28T16:04:04.375Z"
   },
   {
    "duration": 117,
    "start_time": "2021-12-28T16:04:17.387Z"
   },
   {
    "duration": 481,
    "start_time": "2021-12-28T16:06:08.646Z"
   },
   {
    "duration": 54,
    "start_time": "2021-12-28T16:07:05.942Z"
   },
   {
    "duration": 326,
    "start_time": "2021-12-28T16:07:22.137Z"
   },
   {
    "duration": 353,
    "start_time": "2021-12-28T16:07:31.218Z"
   },
   {
    "duration": 333,
    "start_time": "2021-12-28T16:07:47.457Z"
   },
   {
    "duration": 329,
    "start_time": "2021-12-28T16:08:42.284Z"
   },
   {
    "duration": 55,
    "start_time": "2021-12-28T16:09:04.145Z"
   },
   {
    "duration": 335,
    "start_time": "2021-12-28T16:09:17.035Z"
   },
   {
    "duration": 98,
    "start_time": "2021-12-28T16:09:38.258Z"
   },
   {
    "duration": 357,
    "start_time": "2021-12-28T16:09:43.884Z"
   },
   {
    "duration": 85,
    "start_time": "2021-12-28T16:10:10.614Z"
   },
   {
    "duration": 6,
    "start_time": "2021-12-28T16:10:28.355Z"
   },
   {
    "duration": 280,
    "start_time": "2021-12-28T16:10:47.455Z"
   },
   {
    "duration": 54,
    "start_time": "2021-12-28T16:11:55.818Z"
   },
   {
    "duration": 5,
    "start_time": "2021-12-28T16:12:18.397Z"
   },
   {
    "duration": 22,
    "start_time": "2021-12-28T16:12:45.816Z"
   },
   {
    "duration": 6,
    "start_time": "2021-12-28T16:12:48.828Z"
   },
   {
    "duration": 39,
    "start_time": "2021-12-28T16:12:50.655Z"
   },
   {
    "duration": 5,
    "start_time": "2021-12-28T16:12:51.966Z"
   },
   {
    "duration": 20,
    "start_time": "2021-12-28T16:13:42.446Z"
   },
   {
    "duration": 641,
    "start_time": "2021-12-28T16:14:59.766Z"
   },
   {
    "duration": 326,
    "start_time": "2021-12-28T16:15:08.389Z"
   },
   {
    "duration": 343,
    "start_time": "2021-12-28T16:15:13.567Z"
   },
   {
    "duration": 439,
    "start_time": "2021-12-28T16:16:21.967Z"
   },
   {
    "duration": 299,
    "start_time": "2021-12-28T16:17:15.189Z"
   },
   {
    "duration": 8,
    "start_time": "2021-12-28T16:17:27.995Z"
   },
   {
    "duration": 39,
    "start_time": "2021-12-28T16:17:50.348Z"
   },
   {
    "duration": 7,
    "start_time": "2021-12-28T16:17:59.917Z"
   },
   {
    "duration": 5,
    "start_time": "2021-12-28T16:18:52.263Z"
   },
   {
    "duration": 20,
    "start_time": "2021-12-28T16:19:45.538Z"
   },
   {
    "duration": 20,
    "start_time": "2021-12-28T16:20:33.487Z"
   },
   {
    "duration": 5,
    "start_time": "2021-12-28T16:20:45.384Z"
   },
   {
    "duration": 330,
    "start_time": "2021-12-28T16:21:16.745Z"
   },
   {
    "duration": 279,
    "start_time": "2021-12-28T16:21:46.664Z"
   },
   {
    "duration": 5,
    "start_time": "2021-12-28T16:22:13.023Z"
   },
   {
    "duration": 20,
    "start_time": "2021-12-28T16:22:24.684Z"
   },
   {
    "duration": 6,
    "start_time": "2021-12-28T16:22:25.878Z"
   },
   {
    "duration": 4,
    "start_time": "2021-12-28T16:22:34.177Z"
   },
   {
    "duration": 20,
    "start_time": "2021-12-28T16:22:34.626Z"
   },
   {
    "duration": 37,
    "start_time": "2021-12-28T16:22:34.966Z"
   },
   {
    "duration": 5,
    "start_time": "2021-12-28T16:22:35.306Z"
   },
   {
    "duration": 19,
    "start_time": "2021-12-28T16:22:35.706Z"
   },
   {
    "duration": 20,
    "start_time": "2021-12-28T16:22:36.197Z"
   },
   {
    "duration": 5,
    "start_time": "2021-12-28T16:22:37.816Z"
   },
   {
    "duration": 21,
    "start_time": "2021-12-28T16:22:47.659Z"
   },
   {
    "duration": 5,
    "start_time": "2021-12-28T16:22:48.495Z"
   },
   {
    "duration": 20,
    "start_time": "2021-12-28T16:22:54.367Z"
   },
   {
    "duration": 5,
    "start_time": "2021-12-28T16:22:55.303Z"
   },
   {
    "duration": 19,
    "start_time": "2021-12-28T16:23:04.588Z"
   },
   {
    "duration": 5,
    "start_time": "2021-12-28T16:23:05.304Z"
   },
   {
    "duration": 21,
    "start_time": "2021-12-28T16:23:16.175Z"
   },
   {
    "duration": 5,
    "start_time": "2021-12-28T16:23:18.584Z"
   },
   {
    "duration": 21,
    "start_time": "2021-12-28T16:23:24.495Z"
   },
   {
    "duration": 6,
    "start_time": "2021-12-28T16:23:24.997Z"
   },
   {
    "duration": 309,
    "start_time": "2021-12-28T16:24:45.007Z"
   },
   {
    "duration": 6,
    "start_time": "2021-12-28T16:25:27.585Z"
   },
   {
    "duration": 23,
    "start_time": "2021-12-28T16:25:40.717Z"
   },
   {
    "duration": 6,
    "start_time": "2021-12-28T16:25:48.916Z"
   },
   {
    "duration": 4,
    "start_time": "2021-12-28T16:26:25.378Z"
   },
   {
    "duration": 277,
    "start_time": "2021-12-28T16:27:27.494Z"
   },
   {
    "duration": 5,
    "start_time": "2021-12-28T16:28:21.536Z"
   },
   {
    "duration": 4,
    "start_time": "2021-12-28T16:34:53.197Z"
   },
   {
    "duration": 462,
    "start_time": "2021-12-28T16:41:03.602Z"
   },
   {
    "duration": 759,
    "start_time": "2021-12-28T16:44:00.744Z"
   },
   {
    "duration": 656,
    "start_time": "2021-12-28T16:44:34.717Z"
   },
   {
    "duration": 296,
    "start_time": "2021-12-28T16:44:43.406Z"
   },
   {
    "duration": 398,
    "start_time": "2021-12-28T16:44:54.696Z"
   },
   {
    "duration": 102,
    "start_time": "2021-12-28T16:50:20.676Z"
   },
   {
    "duration": 4,
    "start_time": "2021-12-28T18:21:20.682Z"
   },
   {
    "duration": 343,
    "start_time": "2021-12-28T18:21:20.854Z"
   },
   {
    "duration": 51,
    "start_time": "2021-12-28T18:21:21.199Z"
   },
   {
    "duration": 36,
    "start_time": "2021-12-28T18:21:21.254Z"
   },
   {
    "duration": 32,
    "start_time": "2021-12-28T18:21:21.382Z"
   },
   {
    "duration": 24,
    "start_time": "2021-12-28T18:21:21.561Z"
   },
   {
    "duration": 14,
    "start_time": "2021-12-28T18:21:21.715Z"
   },
   {
    "duration": 31,
    "start_time": "2021-12-28T18:21:21.868Z"
   },
   {
    "duration": 37,
    "start_time": "2021-12-28T18:21:22.047Z"
   },
   {
    "duration": 22,
    "start_time": "2021-12-28T18:21:22.209Z"
   },
   {
    "duration": 26,
    "start_time": "2021-12-28T18:21:22.374Z"
   },
   {
    "duration": 14,
    "start_time": "2021-12-28T18:21:22.529Z"
   },
   {
    "duration": 217,
    "start_time": "2021-12-28T18:21:22.719Z"
   },
   {
    "duration": 32,
    "start_time": "2021-12-28T18:21:22.939Z"
   },
   {
    "duration": 8,
    "start_time": "2021-12-28T18:21:23.077Z"
   },
   {
    "duration": 236,
    "start_time": "2021-12-28T18:21:23.247Z"
   },
   {
    "duration": 8,
    "start_time": "2021-12-28T18:21:23.486Z"
   },
   {
    "duration": 4,
    "start_time": "2021-12-28T18:21:23.592Z"
   },
   {
    "duration": 216,
    "start_time": "2021-12-28T18:21:23.762Z"
   },
   {
    "duration": 17,
    "start_time": "2021-12-28T18:21:23.981Z"
   },
   {
    "duration": 391,
    "start_time": "2021-12-28T18:21:24.124Z"
   },
   {
    "duration": 40,
    "start_time": "2021-12-28T18:21:24.518Z"
   },
   {
    "duration": 63,
    "start_time": "2021-12-28T18:21:24.561Z"
   },
   {
    "duration": 23,
    "start_time": "2021-12-28T18:21:24.675Z"
   },
   {
    "duration": 344,
    "start_time": "2021-12-28T18:21:24.853Z"
   },
   {
    "duration": 77,
    "start_time": "2021-12-28T18:21:25.199Z"
   },
   {
    "duration": 47,
    "start_time": "2021-12-28T18:21:25.279Z"
   },
   {
    "duration": 337,
    "start_time": "2021-12-28T18:21:25.423Z"
   },
   {
    "duration": 23,
    "start_time": "2021-12-28T18:21:25.762Z"
   },
   {
    "duration": 367,
    "start_time": "2021-12-28T18:21:25.790Z"
   },
   {
    "duration": 3,
    "start_time": "2021-12-28T18:21:26.160Z"
   },
   {
    "duration": 20,
    "start_time": "2021-12-28T18:21:26.217Z"
   },
   {
    "duration": 39,
    "start_time": "2021-12-28T18:21:26.424Z"
   },
   {
    "duration": 6,
    "start_time": "2021-12-28T18:21:26.581Z"
   },
   {
    "duration": 19,
    "start_time": "2021-12-28T18:21:26.784Z"
   },
   {
    "duration": 24,
    "start_time": "2021-12-28T18:21:26.999Z"
   },
   {
    "duration": 6,
    "start_time": "2021-12-28T18:21:27.257Z"
   },
   {
    "duration": 4,
    "start_time": "2021-12-28T18:21:27.634Z"
   },
   {
    "duration": 4,
    "start_time": "2021-12-28T18:21:27.851Z"
   },
   {
    "duration": 157,
    "start_time": "2021-12-28T18:21:28.133Z"
   },
   {
    "duration": 12,
    "start_time": "2021-12-28T18:21:32.811Z"
   },
   {
    "duration": 5,
    "start_time": "2021-12-28T18:27:48.109Z"
   },
   {
    "duration": 5,
    "start_time": "2021-12-28T18:30:17.625Z"
   },
   {
    "duration": 26,
    "start_time": "2021-12-28T19:00:17.121Z"
   },
   {
    "duration": 7,
    "start_time": "2021-12-28T19:01:22.420Z"
   },
   {
    "duration": 9,
    "start_time": "2021-12-28T19:01:59.590Z"
   },
   {
    "duration": 6,
    "start_time": "2021-12-28T19:02:05.586Z"
   },
   {
    "duration": 26,
    "start_time": "2021-12-28T19:02:38.494Z"
   },
   {
    "duration": 15,
    "start_time": "2021-12-28T19:03:59.006Z"
   },
   {
    "duration": 13,
    "start_time": "2021-12-28T19:05:10.179Z"
   },
   {
    "duration": 14,
    "start_time": "2021-12-28T19:08:59.597Z"
   },
   {
    "duration": 340,
    "start_time": "2021-12-28T19:10:25.306Z"
   },
   {
    "duration": 369,
    "start_time": "2021-12-28T19:10:37.117Z"
   },
   {
    "duration": 334,
    "start_time": "2021-12-28T19:11:03.716Z"
   },
   {
    "duration": 15,
    "start_time": "2021-12-28T19:11:13.006Z"
   },
   {
    "duration": 6,
    "start_time": "2021-12-28T19:11:31.770Z"
   },
   {
    "duration": 705,
    "start_time": "2021-12-28T19:11:57.393Z"
   },
   {
    "duration": 13,
    "start_time": "2021-12-28T19:12:21.036Z"
   },
   {
    "duration": 305,
    "start_time": "2021-12-28T19:14:10.737Z"
   },
   {
    "duration": 196,
    "start_time": "2021-12-28T19:14:58.396Z"
   },
   {
    "duration": 5,
    "start_time": "2021-12-28T19:15:04.826Z"
   },
   {
    "duration": 1256,
    "start_time": "2021-12-28T19:15:31.577Z"
   },
   {
    "duration": -549,
    "start_time": "2021-12-28T19:16:59.930Z"
   },
   {
    "duration": 161073,
    "start_time": "2021-12-28T19:25:13.230Z"
   },
   {
    "duration": 23,
    "start_time": "2021-12-28T19:58:18.867Z"
   },
   {
    "duration": 11,
    "start_time": "2021-12-28T19:58:52.037Z"
   },
   {
    "duration": 22,
    "start_time": "2021-12-28T19:59:10.540Z"
   },
   {
    "duration": 4,
    "start_time": "2021-12-28T19:59:29.486Z"
   },
   {
    "duration": 27,
    "start_time": "2021-12-28T19:59:34.792Z"
   },
   {
    "duration": 3,
    "start_time": "2021-12-28T19:59:55.026Z"
   },
   {
    "duration": 333,
    "start_time": "2021-12-28T19:59:55.169Z"
   },
   {
    "duration": 54,
    "start_time": "2021-12-28T19:59:55.505Z"
   },
   {
    "duration": 39,
    "start_time": "2021-12-28T19:59:55.634Z"
   },
   {
    "duration": 32,
    "start_time": "2021-12-28T19:59:55.839Z"
   },
   {
    "duration": 35,
    "start_time": "2021-12-28T19:59:56.047Z"
   },
   {
    "duration": 16,
    "start_time": "2021-12-28T19:59:56.263Z"
   },
   {
    "duration": 36,
    "start_time": "2021-12-28T19:59:56.612Z"
   },
   {
    "duration": 34,
    "start_time": "2021-12-28T19:59:57.084Z"
   },
   {
    "duration": 21,
    "start_time": "2021-12-28T19:59:57.382Z"
   },
   {
    "duration": 28,
    "start_time": "2021-12-28T19:59:57.695Z"
   },
   {
    "duration": 16,
    "start_time": "2021-12-28T19:59:57.969Z"
   },
   {
    "duration": 215,
    "start_time": "2021-12-28T19:59:58.250Z"
   },
   {
    "duration": 27,
    "start_time": "2021-12-28T19:59:58.538Z"
   },
   {
    "duration": 9,
    "start_time": "2021-12-28T20:00:00.707Z"
   },
   {
    "duration": 213,
    "start_time": "2021-12-28T20:00:01.005Z"
   },
   {
    "duration": 9,
    "start_time": "2021-12-28T20:00:01.282Z"
   },
   {
    "duration": 5,
    "start_time": "2021-12-28T20:00:01.472Z"
   },
   {
    "duration": 218,
    "start_time": "2021-12-28T20:00:01.811Z"
   },
   {
    "duration": 15,
    "start_time": "2021-12-28T20:00:03.274Z"
   },
   {
    "duration": 414,
    "start_time": "2021-12-28T20:00:05.664Z"
   },
   {
    "duration": 38,
    "start_time": "2021-12-28T20:00:06.736Z"
   },
   {
    "duration": 44,
    "start_time": "2021-12-28T20:00:08.065Z"
   },
   {
    "duration": 22,
    "start_time": "2021-12-28T20:00:08.720Z"
   },
   {
    "duration": 359,
    "start_time": "2021-12-28T20:00:09.184Z"
   },
   {
    "duration": 86,
    "start_time": "2021-12-28T20:00:09.545Z"
   },
   {
    "duration": 29,
    "start_time": "2021-12-28T20:00:09.684Z"
   },
   {
    "duration": 339,
    "start_time": "2021-12-28T20:00:09.952Z"
   },
   {
    "duration": 35,
    "start_time": "2021-12-28T20:00:10.294Z"
   },
   {
    "duration": 349,
    "start_time": "2021-12-28T20:00:10.432Z"
   },
   {
    "duration": 3,
    "start_time": "2021-12-28T20:00:10.784Z"
   },
   {
    "duration": 20,
    "start_time": "2021-12-28T20:00:11.042Z"
   },
   {
    "duration": 37,
    "start_time": "2021-12-28T20:00:11.309Z"
   },
   {
    "duration": 5,
    "start_time": "2021-12-28T20:00:11.549Z"
   },
   {
    "duration": 19,
    "start_time": "2021-12-28T20:00:11.741Z"
   },
   {
    "duration": 23,
    "start_time": "2021-12-28T20:00:12.013Z"
   },
   {
    "duration": 6,
    "start_time": "2021-12-28T20:00:12.707Z"
   },
   {
    "duration": 5,
    "start_time": "2021-12-28T20:00:12.909Z"
   },
   {
    "duration": 5,
    "start_time": "2021-12-28T20:00:13.139Z"
   },
   {
    "duration": 5,
    "start_time": "2021-12-28T20:00:13.372Z"
   },
   {
    "duration": 158928,
    "start_time": "2021-12-28T20:00:13.616Z"
   },
   {
    "duration": 23,
    "start_time": "2021-12-28T20:02:52.546Z"
   },
   {
    "duration": 13,
    "start_time": "2021-12-28T20:03:45.929Z"
   },
   {
    "duration": 22,
    "start_time": "2021-12-28T20:04:06.719Z"
   },
   {
    "duration": 19,
    "start_time": "2021-12-28T20:04:43.366Z"
   },
   {
    "duration": 21,
    "start_time": "2021-12-28T20:04:59.446Z"
   },
   {
    "duration": 12,
    "start_time": "2021-12-28T20:09:08.966Z"
   },
   {
    "duration": 12,
    "start_time": "2021-12-28T20:10:02.246Z"
   },
   {
    "duration": 35,
    "start_time": "2021-12-28T20:11:29.707Z"
   },
   {
    "duration": 22,
    "start_time": "2021-12-28T20:11:36.918Z"
   },
   {
    "duration": 37,
    "start_time": "2021-12-28T20:12:59.701Z"
   },
   {
    "duration": 20,
    "start_time": "2021-12-28T20:13:16.274Z"
   },
   {
    "duration": 29,
    "start_time": "2021-12-28T20:13:23.516Z"
   },
   {
    "duration": 19,
    "start_time": "2021-12-28T20:13:44.026Z"
   },
   {
    "duration": 30,
    "start_time": "2021-12-28T20:13:49.760Z"
   },
   {
    "duration": 20,
    "start_time": "2021-12-28T20:14:01.066Z"
   },
   {
    "duration": 29,
    "start_time": "2021-12-28T20:14:09.100Z"
   },
   {
    "duration": 18,
    "start_time": "2021-12-28T20:14:24.176Z"
   },
   {
    "duration": 41,
    "start_time": "2021-12-28T20:14:29.850Z"
   },
   {
    "duration": 22,
    "start_time": "2021-12-28T20:16:22.797Z"
   },
   {
    "duration": 13,
    "start_time": "2021-12-28T20:16:42.526Z"
   },
   {
    "duration": 300,
    "start_time": "2021-12-28T20:17:12.274Z"
   },
   {
    "duration": 442,
    "start_time": "2021-12-28T20:17:45.959Z"
   },
   {
    "duration": 279,
    "start_time": "2021-12-28T20:17:55.486Z"
   },
   {
    "duration": 306,
    "start_time": "2021-12-28T20:18:00.644Z"
   },
   {
    "duration": 293,
    "start_time": "2021-12-28T20:18:47.907Z"
   },
   {
    "duration": 297,
    "start_time": "2021-12-28T20:19:26.174Z"
   },
   {
    "duration": 344,
    "start_time": "2021-12-28T20:20:25.335Z"
   },
   {
    "duration": 280,
    "start_time": "2021-12-28T20:21:23.594Z"
   },
   {
    "duration": 308,
    "start_time": "2021-12-28T20:21:45.714Z"
   },
   {
    "duration": 323,
    "start_time": "2021-12-28T20:22:32.691Z"
   },
   {
    "duration": 331,
    "start_time": "2021-12-28T20:22:48.830Z"
   },
   {
    "duration": 331,
    "start_time": "2021-12-28T20:23:15.274Z"
   },
   {
    "duration": 287,
    "start_time": "2021-12-28T20:23:31.166Z"
   },
   {
    "duration": 297,
    "start_time": "2021-12-28T20:23:49.684Z"
   },
   {
    "duration": 24,
    "start_time": "2021-12-28T20:24:10.815Z"
   },
   {
    "duration": 16,
    "start_time": "2021-12-28T20:24:18.170Z"
   },
   {
    "duration": 162163,
    "start_time": "2021-12-28T20:25:03.254Z"
   },
   {
    "duration": 28,
    "start_time": "2021-12-28T20:28:10.516Z"
   },
   {
    "duration": 39,
    "start_time": "2021-12-28T20:28:44.746Z"
   },
   {
    "duration": 25,
    "start_time": "2021-12-28T20:31:06.966Z"
   },
   {
    "duration": 44,
    "start_time": "2021-12-28T20:31:28.246Z"
   },
   {
    "duration": 27,
    "start_time": "2021-12-28T20:31:43.885Z"
   },
   {
    "duration": 38,
    "start_time": "2021-12-28T20:31:58.535Z"
   },
   {
    "duration": 28,
    "start_time": "2021-12-28T20:32:27.566Z"
   },
   {
    "duration": 19,
    "start_time": "2021-12-28T20:32:39.616Z"
   },
   {
    "duration": 136,
    "start_time": "2021-12-28T20:32:42.316Z"
   },
   {
    "duration": 25,
    "start_time": "2021-12-28T20:32:46.457Z"
   },
   {
    "duration": 123,
    "start_time": "2021-12-28T20:33:01.206Z"
   },
   {
    "duration": 37,
    "start_time": "2021-12-28T20:33:05.296Z"
   },
   {
    "duration": 8939,
    "start_time": "2021-12-28T20:40:19.284Z"
   },
   {
    "duration": 38,
    "start_time": "2021-12-28T20:40:39.439Z"
   },
   {
    "duration": 13,
    "start_time": "2021-12-28T20:43:27.278Z"
   },
   {
    "duration": 466,
    "start_time": "2021-12-28T20:48:40.584Z"
   },
   {
    "duration": 434,
    "start_time": "2021-12-28T20:51:16.609Z"
   },
   {
    "duration": 415,
    "start_time": "2021-12-28T20:51:27.244Z"
   },
   {
    "duration": 573,
    "start_time": "2021-12-28T20:52:15.094Z"
   },
   {
    "duration": 5,
    "start_time": "2021-12-28T20:52:21.207Z"
   },
   {
    "duration": 871,
    "start_time": "2021-12-28T20:53:15.114Z"
   },
   {
    "duration": 38,
    "start_time": "2021-12-28T20:53:20.446Z"
   },
   {
    "duration": 723,
    "start_time": "2021-12-28T20:54:00.779Z"
   },
   {
    "duration": 27,
    "start_time": "2021-12-28T20:54:02.792Z"
   },
   {
    "duration": 3,
    "start_time": "2021-12-28T20:54:10.774Z"
   },
   {
    "duration": 364,
    "start_time": "2021-12-28T20:54:10.919Z"
   },
   {
    "duration": 55,
    "start_time": "2021-12-28T20:54:11.285Z"
   },
   {
    "duration": 36,
    "start_time": "2021-12-28T20:54:11.343Z"
   },
   {
    "duration": 33,
    "start_time": "2021-12-28T20:54:11.466Z"
   },
   {
    "duration": 28,
    "start_time": "2021-12-28T20:54:11.639Z"
   },
   {
    "duration": 14,
    "start_time": "2021-12-28T20:54:11.809Z"
   },
   {
    "duration": 34,
    "start_time": "2021-12-28T20:54:12.000Z"
   },
   {
    "duration": 35,
    "start_time": "2021-12-28T20:54:12.163Z"
   },
   {
    "duration": 22,
    "start_time": "2021-12-28T20:54:12.354Z"
   },
   {
    "duration": 27,
    "start_time": "2021-12-28T20:54:12.489Z"
   },
   {
    "duration": 14,
    "start_time": "2021-12-28T20:54:12.676Z"
   },
   {
    "duration": 220,
    "start_time": "2021-12-28T20:54:12.887Z"
   },
   {
    "duration": 57,
    "start_time": "2021-12-28T20:54:13.110Z"
   },
   {
    "duration": 11,
    "start_time": "2021-12-28T20:54:13.237Z"
   },
   {
    "duration": 216,
    "start_time": "2021-12-28T20:54:13.435Z"
   },
   {
    "duration": 8,
    "start_time": "2021-12-28T20:54:13.654Z"
   },
   {
    "duration": 4,
    "start_time": "2021-12-28T20:54:13.797Z"
   },
   {
    "duration": 222,
    "start_time": "2021-12-28T20:54:13.959Z"
   },
   {
    "duration": 18,
    "start_time": "2021-12-28T20:54:14.184Z"
   },
   {
    "duration": 376,
    "start_time": "2021-12-28T20:54:14.354Z"
   },
   {
    "duration": 36,
    "start_time": "2021-12-28T20:54:14.733Z"
   },
   {
    "duration": 62,
    "start_time": "2021-12-28T20:54:14.772Z"
   },
   {
    "duration": 24,
    "start_time": "2021-12-28T20:54:14.904Z"
   },
   {
    "duration": 349,
    "start_time": "2021-12-28T20:54:15.104Z"
   },
   {
    "duration": 87,
    "start_time": "2021-12-28T20:54:15.456Z"
   },
   {
    "duration": 29,
    "start_time": "2021-12-28T20:54:15.546Z"
   },
   {
    "duration": 330,
    "start_time": "2021-12-28T20:54:15.755Z"
   },
   {
    "duration": 35,
    "start_time": "2021-12-28T20:54:16.088Z"
   },
   {
    "duration": 352,
    "start_time": "2021-12-28T20:54:16.153Z"
   },
   {
    "duration": 3,
    "start_time": "2021-12-28T20:54:16.508Z"
   },
   {
    "duration": 21,
    "start_time": "2021-12-28T20:54:16.545Z"
   },
   {
    "duration": 40,
    "start_time": "2021-12-28T20:54:16.814Z"
   },
   {
    "duration": 5,
    "start_time": "2021-12-28T20:54:17.019Z"
   },
   {
    "duration": 22,
    "start_time": "2021-12-28T20:54:17.370Z"
   },
   {
    "duration": 25,
    "start_time": "2021-12-28T20:54:17.684Z"
   },
   {
    "duration": 6,
    "start_time": "2021-12-28T20:54:18.023Z"
   },
   {
    "duration": 5,
    "start_time": "2021-12-28T20:54:18.278Z"
   },
   {
    "duration": 5,
    "start_time": "2021-12-28T20:54:18.624Z"
   },
   {
    "duration": 5,
    "start_time": "2021-12-28T20:54:18.997Z"
   },
   {
    "duration": 3,
    "start_time": "2021-12-28T20:54:19.319Z"
   },
   {
    "duration": 175392,
    "start_time": "2021-12-28T20:54:19.497Z"
   },
   {
    "duration": 71,
    "start_time": "2021-12-28T20:57:14.893Z"
   },
   {
    "duration": 4,
    "start_time": "2021-12-28T20:57:14.968Z"
   },
   {
    "duration": 648,
    "start_time": "2021-12-28T20:57:14.975Z"
   },
   {
    "duration": 25,
    "start_time": "2021-12-28T20:57:15.626Z"
   },
   {
    "duration": 851,
    "start_time": "2021-12-28T20:58:36.546Z"
   },
   {
    "duration": 6,
    "start_time": "2021-12-28T20:58:40.326Z"
   },
   {
    "duration": 378,
    "start_time": "2021-12-28T20:58:59.726Z"
   },
   {
    "duration": 112,
    "start_time": "2021-12-28T21:00:40.684Z"
   },
   {
    "duration": 433,
    "start_time": "2021-12-28T21:01:17.144Z"
   },
   {
    "duration": 854,
    "start_time": "2021-12-28T21:01:28.169Z"
   },
   {
    "duration": 38,
    "start_time": "2021-12-28T21:01:33.047Z"
   },
   {
    "duration": 747,
    "start_time": "2021-12-28T21:02:31.729Z"
   },
   {
    "duration": 771,
    "start_time": "2021-12-28T21:02:49.286Z"
   },
   {
    "duration": 748,
    "start_time": "2021-12-28T21:02:53.619Z"
   },
   {
    "duration": 754,
    "start_time": "2021-12-28T21:03:01.664Z"
   },
   {
    "duration": 29,
    "start_time": "2021-12-28T21:03:05.776Z"
   },
   {
    "duration": 742,
    "start_time": "2021-12-28T21:03:32.499Z"
   },
   {
    "duration": 1074,
    "start_time": "2021-12-28T21:03:42.749Z"
   },
   {
    "duration": 506,
    "start_time": "2021-12-28T21:04:05.517Z"
   },
   {
    "duration": 452,
    "start_time": "2021-12-28T21:04:18.164Z"
   },
   {
    "duration": 477,
    "start_time": "2021-12-28T21:04:26.996Z"
   },
   {
    "duration": 391,
    "start_time": "2021-12-28T21:05:05.347Z"
   },
   {
    "duration": 440,
    "start_time": "2021-12-28T21:05:10.204Z"
   },
   {
    "duration": 372,
    "start_time": "2021-12-28T21:06:22.806Z"
   },
   {
    "duration": 396,
    "start_time": "2021-12-28T21:06:55.796Z"
   },
   {
    "duration": 322,
    "start_time": "2021-12-28T21:07:25.239Z"
   },
   {
    "duration": 746,
    "start_time": "2021-12-28T21:09:02.580Z"
   },
   {
    "duration": 27,
    "start_time": "2021-12-28T21:09:09.351Z"
   },
   {
    "duration": 350,
    "start_time": "2021-12-28T21:10:03.305Z"
   },
   {
    "duration": 133,
    "start_time": "2021-12-28T21:10:19.768Z"
   },
   {
    "duration": 118,
    "start_time": "2021-12-28T21:10:33.913Z"
   },
   {
    "duration": 29,
    "start_time": "2021-12-28T21:10:48.085Z"
   },
   {
    "duration": 311,
    "start_time": "2021-12-28T21:11:14.025Z"
   },
   {
    "duration": 33,
    "start_time": "2021-12-28T21:11:53.819Z"
   },
   {
    "duration": 10,
    "start_time": "2021-12-28T21:12:34.765Z"
   },
   {
    "duration": 11,
    "start_time": "2021-12-28T21:12:39.639Z"
   },
   {
    "duration": 21,
    "start_time": "2021-12-28T21:12:54.997Z"
   },
   {
    "duration": 50,
    "start_time": "2021-12-28T21:13:02.889Z"
   },
   {
    "duration": 7,
    "start_time": "2021-12-28T21:13:14.505Z"
   },
   {
    "duration": 378,
    "start_time": "2021-12-28T21:13:14.616Z"
   },
   {
    "duration": 70,
    "start_time": "2021-12-28T21:13:14.997Z"
   },
   {
    "duration": 4,
    "start_time": "2021-12-28T21:13:27.971Z"
   },
   {
    "duration": 446,
    "start_time": "2021-12-28T21:13:28.170Z"
   },
   {
    "duration": 65,
    "start_time": "2021-12-28T21:13:28.619Z"
   },
   {
    "duration": 56,
    "start_time": "2021-12-28T21:13:28.687Z"
   },
   {
    "duration": 35,
    "start_time": "2021-12-28T21:13:28.960Z"
   },
   {
    "duration": 42,
    "start_time": "2021-12-28T21:13:28.999Z"
   },
   {
    "duration": 16,
    "start_time": "2021-12-28T21:13:29.129Z"
   },
   {
    "duration": 36,
    "start_time": "2021-12-28T21:13:29.299Z"
   },
   {
    "duration": 35,
    "start_time": "2021-12-28T21:13:29.489Z"
   },
   {
    "duration": 21,
    "start_time": "2021-12-28T21:13:29.684Z"
   },
   {
    "duration": 31,
    "start_time": "2021-12-28T21:13:29.930Z"
   },
   {
    "duration": 18,
    "start_time": "2021-12-28T21:13:30.099Z"
   },
   {
    "duration": 293,
    "start_time": "2021-12-28T21:13:30.606Z"
   },
   {
    "duration": 32,
    "start_time": "2021-12-28T21:13:30.902Z"
   },
   {
    "duration": 8,
    "start_time": "2021-12-28T21:13:30.982Z"
   },
   {
    "duration": 229,
    "start_time": "2021-12-28T21:13:31.395Z"
   },
   {
    "duration": 9,
    "start_time": "2021-12-28T21:13:31.626Z"
   },
   {
    "duration": 4,
    "start_time": "2021-12-28T21:13:31.813Z"
   },
   {
    "duration": 233,
    "start_time": "2021-12-28T21:13:32.013Z"
   },
   {
    "duration": 14,
    "start_time": "2021-12-28T21:13:32.323Z"
   },
   {
    "duration": 392,
    "start_time": "2021-12-28T21:13:32.469Z"
   },
   {
    "duration": 39,
    "start_time": "2021-12-28T21:13:32.864Z"
   },
   {
    "duration": 44,
    "start_time": "2021-12-28T21:13:33.128Z"
   },
   {
    "duration": 23,
    "start_time": "2021-12-28T21:13:33.373Z"
   },
   {
    "duration": 365,
    "start_time": "2021-12-28T21:13:33.599Z"
   },
   {
    "duration": 141,
    "start_time": "2021-12-28T21:13:34.090Z"
   },
   {
    "duration": 37,
    "start_time": "2021-12-28T21:13:34.287Z"
   },
   {
    "duration": 371,
    "start_time": "2021-12-28T21:13:34.544Z"
   },
   {
    "duration": 24,
    "start_time": "2021-12-28T21:13:34.922Z"
   },
   {
    "duration": 368,
    "start_time": "2021-12-28T21:13:34.979Z"
   },
   {
    "duration": 3,
    "start_time": "2021-12-28T21:13:35.350Z"
   },
   {
    "duration": 22,
    "start_time": "2021-12-28T21:13:35.481Z"
   },
   {
    "duration": 40,
    "start_time": "2021-12-28T21:13:35.668Z"
   },
   {
    "duration": 5,
    "start_time": "2021-12-28T21:13:35.922Z"
   },
   {
    "duration": 27,
    "start_time": "2021-12-28T21:13:36.148Z"
   },
   {
    "duration": 32,
    "start_time": "2021-12-28T21:13:36.412Z"
   },
   {
    "duration": 7,
    "start_time": "2021-12-28T21:13:36.611Z"
   },
   {
    "duration": 6,
    "start_time": "2021-12-28T21:13:37.114Z"
   },
   {
    "duration": 4,
    "start_time": "2021-12-28T21:13:37.294Z"
   },
   {
    "duration": 5,
    "start_time": "2021-12-28T21:13:37.525Z"
   },
   {
    "duration": 4,
    "start_time": "2021-12-28T21:13:38.056Z"
   },
   {
    "duration": 155208,
    "start_time": "2021-12-28T21:13:38.407Z"
   },
   {
    "duration": 39,
    "start_time": "2021-12-28T21:16:13.618Z"
   },
   {
    "duration": 3,
    "start_time": "2021-12-28T21:16:13.660Z"
   },
   {
    "duration": 37,
    "start_time": "2021-12-28T21:16:13.739Z"
   },
   {
    "duration": 93,
    "start_time": "2021-12-28T21:16:46.604Z"
   },
   {
    "duration": 19,
    "start_time": "2021-12-28T21:16:58.387Z"
   },
   {
    "duration": 329,
    "start_time": "2021-12-28T21:17:35.326Z"
   },
   {
    "duration": 25,
    "start_time": "2021-12-28T21:17:52.465Z"
   },
   {
    "duration": 24,
    "start_time": "2021-12-28T21:18:03.484Z"
   },
   {
    "duration": 25,
    "start_time": "2021-12-28T21:18:18.555Z"
   },
   {
    "duration": 9,
    "start_time": "2021-12-28T21:19:08.167Z"
   },
   {
    "duration": 6,
    "start_time": "2021-12-28T21:19:26.854Z"
   },
   {
    "duration": 112,
    "start_time": "2021-12-28T21:19:39.986Z"
   },
   {
    "duration": 477,
    "start_time": "2021-12-28T21:19:46.646Z"
   },
   {
    "duration": 459,
    "start_time": "2021-12-28T21:19:51.497Z"
   },
   {
    "duration": 290,
    "start_time": "2021-12-28T21:19:55.374Z"
   },
   {
    "duration": 423,
    "start_time": "2021-12-28T21:19:58.959Z"
   },
   {
    "duration": 514,
    "start_time": "2021-12-28T21:20:25.034Z"
   },
   {
    "duration": 441,
    "start_time": "2021-12-28T21:20:46.290Z"
   },
   {
    "duration": 8829,
    "start_time": "2021-12-28T21:20:54.199Z"
   },
   {
    "duration": 126,
    "start_time": "2021-12-28T21:21:17.945Z"
   },
   {
    "duration": 60,
    "start_time": "2021-12-28T21:23:41.356Z"
   },
   {
    "duration": 6,
    "start_time": "2021-12-28T21:23:48.929Z"
   },
   {
    "duration": 63,
    "start_time": "2021-12-28T21:24:12.425Z"
   },
   {
    "duration": 10,
    "start_time": "2021-12-28T21:24:13.927Z"
   },
   {
    "duration": 6,
    "start_time": "2021-12-28T21:24:30.591Z"
   },
   {
    "duration": 8,
    "start_time": "2021-12-28T21:25:39.026Z"
   },
   {
    "duration": 201,
    "start_time": "2021-12-28T21:26:59.584Z"
   },
   {
    "duration": 198,
    "start_time": "2021-12-28T21:27:09.847Z"
   },
   {
    "duration": 22,
    "start_time": "2021-12-28T21:27:17.102Z"
   },
   {
    "duration": 9,
    "start_time": "2021-12-28T21:27:25.692Z"
   },
   {
    "duration": 192,
    "start_time": "2021-12-28T21:27:54.199Z"
   },
   {
    "duration": 6,
    "start_time": "2021-12-28T21:27:56.479Z"
   },
   {
    "duration": 8,
    "start_time": "2021-12-28T21:28:27.009Z"
   },
   {
    "duration": 67,
    "start_time": "2021-12-28T21:28:32.719Z"
   },
   {
    "duration": 9,
    "start_time": "2021-12-28T21:28:47.186Z"
   },
   {
    "duration": 268,
    "start_time": "2021-12-28T21:29:05.085Z"
   },
   {
    "duration": 6,
    "start_time": "2021-12-28T21:29:06.630Z"
   },
   {
    "duration": 188,
    "start_time": "2021-12-28T21:29:23.976Z"
   },
   {
    "duration": 6,
    "start_time": "2021-12-28T21:29:31.126Z"
   },
   {
    "duration": 176,
    "start_time": "2021-12-28T21:29:54.284Z"
   },
   {
    "duration": 5,
    "start_time": "2021-12-28T21:29:55.009Z"
   },
   {
    "duration": 190,
    "start_time": "2021-12-28T21:30:18.486Z"
   },
   {
    "duration": 5,
    "start_time": "2021-12-28T21:30:19.924Z"
   },
   {
    "duration": 168,
    "start_time": "2021-12-28T21:30:28.314Z"
   },
   {
    "duration": 5,
    "start_time": "2021-12-28T21:30:29.139Z"
   },
   {
    "duration": 119,
    "start_time": "2021-12-28T21:30:41.279Z"
   },
   {
    "duration": 5,
    "start_time": "2021-12-28T21:30:42.090Z"
   },
   {
    "duration": 180,
    "start_time": "2021-12-28T21:30:54.150Z"
   },
   {
    "duration": 5,
    "start_time": "2021-12-28T21:30:54.876Z"
   },
   {
    "duration": 6,
    "start_time": "2021-12-28T21:34:10.940Z"
   },
   {
    "duration": 29,
    "start_time": "2021-12-28T21:34:15.994Z"
   },
   {
    "duration": 8,
    "start_time": "2021-12-28T21:34:16.404Z"
   },
   {
    "duration": 195,
    "start_time": "2021-12-28T21:34:16.870Z"
   },
   {
    "duration": 5,
    "start_time": "2021-12-28T21:34:17.356Z"
   },
   {
    "duration": 6,
    "start_time": "2021-12-28T21:34:32.965Z"
   },
   {
    "duration": 7,
    "start_time": "2021-12-28T21:34:37.846Z"
   },
   {
    "duration": 40,
    "start_time": "2021-12-28T21:34:48.136Z"
   },
   {
    "duration": 7,
    "start_time": "2021-12-28T21:34:49.484Z"
   },
   {
    "duration": 174,
    "start_time": "2021-12-28T21:34:50.007Z"
   },
   {
    "duration": 5,
    "start_time": "2021-12-28T21:34:50.402Z"
   },
   {
    "duration": 3,
    "start_time": "2021-12-28T21:34:57.689Z"
   },
   {
    "duration": 380,
    "start_time": "2021-12-28T21:34:57.859Z"
   },
   {
    "duration": 89,
    "start_time": "2021-12-28T21:34:58.243Z"
   },
   {
    "duration": 60,
    "start_time": "2021-12-28T21:34:58.335Z"
   },
   {
    "duration": 34,
    "start_time": "2021-12-28T21:34:58.424Z"
   },
   {
    "duration": 25,
    "start_time": "2021-12-28T21:34:58.583Z"
   },
   {
    "duration": 15,
    "start_time": "2021-12-28T21:34:58.756Z"
   },
   {
    "duration": 34,
    "start_time": "2021-12-28T21:34:58.954Z"
   },
   {
    "duration": 36,
    "start_time": "2021-12-28T21:34:59.146Z"
   },
   {
    "duration": 22,
    "start_time": "2021-12-28T21:34:59.304Z"
   },
   {
    "duration": 28,
    "start_time": "2021-12-28T21:34:59.524Z"
   },
   {
    "duration": 14,
    "start_time": "2021-12-28T21:34:59.694Z"
   },
   {
    "duration": 226,
    "start_time": "2021-12-28T21:34:59.889Z"
   },
   {
    "duration": 30,
    "start_time": "2021-12-28T21:35:00.118Z"
   },
   {
    "duration": 9,
    "start_time": "2021-12-28T21:35:00.525Z"
   },
   {
    "duration": 232,
    "start_time": "2021-12-28T21:35:00.692Z"
   },
   {
    "duration": 8,
    "start_time": "2021-12-28T21:35:01.056Z"
   },
   {
    "duration": 5,
    "start_time": "2021-12-28T21:35:01.229Z"
   },
   {
    "duration": 225,
    "start_time": "2021-12-28T21:35:01.415Z"
   },
   {
    "duration": 14,
    "start_time": "2021-12-28T21:35:01.643Z"
   },
   {
    "duration": 387,
    "start_time": "2021-12-28T21:35:01.791Z"
   },
   {
    "duration": 51,
    "start_time": "2021-12-28T21:35:02.181Z"
   },
   {
    "duration": 45,
    "start_time": "2021-12-28T21:35:02.235Z"
   },
   {
    "duration": 24,
    "start_time": "2021-12-28T21:35:02.358Z"
   },
   {
    "duration": 349,
    "start_time": "2021-12-28T21:35:02.524Z"
   },
   {
    "duration": 83,
    "start_time": "2021-12-28T21:35:02.876Z"
   },
   {
    "duration": 28,
    "start_time": "2021-12-28T21:35:03.124Z"
   },
   {
    "duration": 361,
    "start_time": "2021-12-28T21:35:03.323Z"
   },
   {
    "duration": 42,
    "start_time": "2021-12-28T21:35:03.687Z"
   },
   {
    "duration": 397,
    "start_time": "2021-12-28T21:35:03.732Z"
   },
   {
    "duration": 4,
    "start_time": "2021-12-28T21:35:04.132Z"
   },
   {
    "duration": 23,
    "start_time": "2021-12-28T21:35:04.138Z"
   },
   {
    "duration": 38,
    "start_time": "2021-12-28T21:35:04.304Z"
   },
   {
    "duration": 6,
    "start_time": "2021-12-28T21:35:04.514Z"
   },
   {
    "duration": 20,
    "start_time": "2021-12-28T21:35:04.735Z"
   },
   {
    "duration": 22,
    "start_time": "2021-12-28T21:35:04.934Z"
   },
   {
    "duration": 6,
    "start_time": "2021-12-28T21:35:05.154Z"
   },
   {
    "duration": 4,
    "start_time": "2021-12-28T21:35:05.586Z"
   },
   {
    "duration": 4,
    "start_time": "2021-12-28T21:35:05.800Z"
   },
   {
    "duration": 5,
    "start_time": "2021-12-28T21:35:06.034Z"
   },
   {
    "duration": 4,
    "start_time": "2021-12-28T21:35:06.324Z"
   },
   {
    "duration": 188407,
    "start_time": "2021-12-28T21:35:06.537Z"
   },
   {
    "duration": 40,
    "start_time": "2021-12-28T21:38:14.946Z"
   },
   {
    "duration": 3,
    "start_time": "2021-12-28T21:38:14.989Z"
   },
   {
    "duration": 41,
    "start_time": "2021-12-28T21:38:14.995Z"
   },
   {
    "duration": 18,
    "start_time": "2021-12-28T21:38:15.038Z"
   },
   {
    "duration": 41,
    "start_time": "2021-12-28T21:38:15.059Z"
   },
   {
    "duration": 7,
    "start_time": "2021-12-28T21:38:15.102Z"
   },
   {
    "duration": 198,
    "start_time": "2021-12-28T21:38:15.125Z"
   },
   {
    "duration": 5,
    "start_time": "2021-12-28T21:38:15.326Z"
   },
   {
    "duration": 5,
    "start_time": "2021-12-28T21:38:15.334Z"
   },
   {
    "duration": 48,
    "start_time": "2021-12-28T21:38:15.342Z"
   },
   {
    "duration": 291,
    "start_time": "2021-12-28T21:38:15.392Z"
   },
   {
    "duration": 43,
    "start_time": "2021-12-28T21:39:57.876Z"
   },
   {
    "duration": 8,
    "start_time": "2021-12-28T21:39:58.289Z"
   },
   {
    "duration": 102,
    "start_time": "2021-12-28T21:39:59.107Z"
   },
   {
    "duration": 5,
    "start_time": "2021-12-28T21:39:59.484Z"
   },
   {
    "duration": 200,
    "start_time": "2021-12-28T21:40:26.104Z"
   },
   {
    "duration": 6,
    "start_time": "2021-12-28T21:40:27.335Z"
   },
   {
    "duration": 6,
    "start_time": "2021-12-28T21:40:32.294Z"
   },
   {
    "duration": 244,
    "start_time": "2021-12-28T21:40:42.926Z"
   },
   {
    "duration": 6,
    "start_time": "2021-12-28T21:40:43.489Z"
   },
   {
    "duration": 187,
    "start_time": "2021-12-28T21:40:56.524Z"
   },
   {
    "duration": 5,
    "start_time": "2021-12-28T21:40:57.155Z"
   },
   {
    "duration": 179,
    "start_time": "2021-12-28T21:41:02.477Z"
   },
   {
    "duration": 5,
    "start_time": "2021-12-28T21:42:31.427Z"
   },
   {
    "duration": 9,
    "start_time": "2021-12-28T21:42:43.407Z"
   },
   {
    "duration": 8,
    "start_time": "2021-12-28T21:44:14.005Z"
   },
   {
    "duration": 9,
    "start_time": "2021-12-28T21:44:28.047Z"
   },
   {
    "duration": 26,
    "start_time": "2021-12-28T21:44:32.507Z"
   },
   {
    "duration": 4,
    "start_time": "2021-12-28T21:44:44.677Z"
   },
   {
    "duration": 4,
    "start_time": "2021-12-28T21:44:57.157Z"
   },
   {
    "duration": 24,
    "start_time": "2021-12-28T21:45:00.258Z"
   },
   {
    "duration": 307,
    "start_time": "2021-12-28T21:45:30.268Z"
   },
   {
    "duration": 4,
    "start_time": "2021-12-28T21:46:01.446Z"
   },
   {
    "duration": 327,
    "start_time": "2021-12-28T22:06:43.745Z"
   },
   {
    "duration": 4,
    "start_time": "2021-12-28T22:06:55.213Z"
   },
   {
    "duration": 282,
    "start_time": "2021-12-28T22:06:56.091Z"
   },
   {
    "duration": 4,
    "start_time": "2021-12-28T22:08:04.072Z"
   },
   {
    "duration": 10,
    "start_time": "2021-12-28T22:08:10.729Z"
   },
   {
    "duration": 8,
    "start_time": "2021-12-28T22:08:39.680Z"
   },
   {
    "duration": 7,
    "start_time": "2021-12-28T22:09:18.996Z"
   },
   {
    "duration": 39,
    "start_time": "2021-12-28T22:09:50.370Z"
   },
   {
    "duration": 11,
    "start_time": "2021-12-28T22:09:57.167Z"
   },
   {
    "duration": 17,
    "start_time": "2021-12-28T22:10:39.822Z"
   },
   {
    "duration": 4,
    "start_time": "2021-12-28T22:10:50.081Z"
   },
   {
    "duration": 4,
    "start_time": "2021-12-28T22:10:54.997Z"
   },
   {
    "duration": 5,
    "start_time": "2021-12-28T22:10:56.097Z"
   },
   {
    "duration": 5,
    "start_time": "2021-12-28T22:10:58.792Z"
   },
   {
    "duration": 3,
    "start_time": "2021-12-29T05:28:19.176Z"
   },
   {
    "duration": 347,
    "start_time": "2021-12-29T05:28:19.343Z"
   },
   {
    "duration": 57,
    "start_time": "2021-12-29T05:28:19.693Z"
   },
   {
    "duration": 36,
    "start_time": "2021-12-29T05:28:19.752Z"
   },
   {
    "duration": 32,
    "start_time": "2021-12-29T05:28:19.893Z"
   },
   {
    "duration": 26,
    "start_time": "2021-12-29T05:28:20.072Z"
   },
   {
    "duration": 15,
    "start_time": "2021-12-29T05:28:20.307Z"
   },
   {
    "duration": 30,
    "start_time": "2021-12-29T05:28:20.472Z"
   },
   {
    "duration": 33,
    "start_time": "2021-12-29T05:28:20.718Z"
   },
   {
    "duration": 22,
    "start_time": "2021-12-29T05:28:20.893Z"
   },
   {
    "duration": 28,
    "start_time": "2021-12-29T05:28:21.100Z"
   },
   {
    "duration": 14,
    "start_time": "2021-12-29T05:28:21.319Z"
   },
   {
    "duration": 201,
    "start_time": "2021-12-29T05:28:21.510Z"
   },
   {
    "duration": 31,
    "start_time": "2021-12-29T05:28:21.713Z"
   },
   {
    "duration": 8,
    "start_time": "2021-12-29T05:28:21.960Z"
   },
   {
    "duration": 221,
    "start_time": "2021-12-29T05:28:22.080Z"
   },
   {
    "duration": 8,
    "start_time": "2021-12-29T05:28:22.304Z"
   },
   {
    "duration": 3,
    "start_time": "2021-12-29T05:28:22.503Z"
   },
   {
    "duration": 208,
    "start_time": "2021-12-29T05:28:22.743Z"
   },
   {
    "duration": 14,
    "start_time": "2021-12-29T05:28:23.049Z"
   },
   {
    "duration": 374,
    "start_time": "2021-12-29T05:28:23.368Z"
   },
   {
    "duration": 35,
    "start_time": "2021-12-29T05:28:23.745Z"
   },
   {
    "duration": 38,
    "start_time": "2021-12-29T05:28:23.860Z"
   },
   {
    "duration": 21,
    "start_time": "2021-12-29T05:28:24.103Z"
   },
   {
    "duration": 392,
    "start_time": "2021-12-29T05:28:24.363Z"
   },
   {
    "duration": 82,
    "start_time": "2021-12-29T05:28:24.758Z"
   },
   {
    "duration": 30,
    "start_time": "2021-12-29T05:28:24.882Z"
   },
   {
    "duration": 489,
    "start_time": "2021-12-29T05:28:25.145Z"
   },
   {
    "duration": 22,
    "start_time": "2021-12-29T05:28:25.637Z"
   },
   {
    "duration": 387,
    "start_time": "2021-12-29T05:28:25.662Z"
   },
   {
    "duration": 4,
    "start_time": "2021-12-29T05:28:26.052Z"
   },
   {
    "duration": 20,
    "start_time": "2021-12-29T05:28:26.158Z"
   },
   {
    "duration": 35,
    "start_time": "2021-12-29T05:28:26.453Z"
   },
   {
    "duration": 5,
    "start_time": "2021-12-29T05:28:26.753Z"
   },
   {
    "duration": 20,
    "start_time": "2021-12-29T05:28:27.220Z"
   },
   {
    "duration": 22,
    "start_time": "2021-12-29T05:28:27.468Z"
   },
   {
    "duration": 6,
    "start_time": "2021-12-29T05:28:27.763Z"
   },
   {
    "duration": 4,
    "start_time": "2021-12-29T05:28:28.160Z"
   },
   {
    "duration": 5,
    "start_time": "2021-12-29T05:28:28.371Z"
   },
   {
    "duration": 5,
    "start_time": "2021-12-29T05:28:28.698Z"
   },
   {
    "duration": 3,
    "start_time": "2021-12-29T05:28:29.100Z"
   },
   {
    "duration": 144357,
    "start_time": "2021-12-29T05:28:29.368Z"
   },
   {
    "duration": 40,
    "start_time": "2021-12-29T05:30:53.728Z"
   },
   {
    "duration": 3,
    "start_time": "2021-12-29T05:30:53.770Z"
   },
   {
    "duration": 14,
    "start_time": "2021-12-29T05:30:53.776Z"
   },
   {
    "duration": 37,
    "start_time": "2021-12-29T05:30:53.792Z"
   },
   {
    "duration": 41,
    "start_time": "2021-12-29T05:30:53.831Z"
   },
   {
    "duration": 7,
    "start_time": "2021-12-29T05:30:53.874Z"
   },
   {
    "duration": 208,
    "start_time": "2021-12-29T05:30:53.884Z"
   },
   {
    "duration": 5,
    "start_time": "2021-12-29T05:30:54.095Z"
   },
   {
    "duration": 21,
    "start_time": "2021-12-29T05:30:54.102Z"
   },
   {
    "duration": 7,
    "start_time": "2021-12-29T05:30:54.125Z"
   },
   {
    "duration": 7,
    "start_time": "2021-12-29T05:30:54.134Z"
   },
   {
    "duration": 7,
    "start_time": "2021-12-29T05:30:54.143Z"
   },
   {
    "duration": 5,
    "start_time": "2021-12-29T05:31:46.750Z"
   },
   {
    "duration": 5,
    "start_time": "2021-12-29T05:31:55.676Z"
   },
   {
    "duration": 6,
    "start_time": "2021-12-29T05:32:08.010Z"
   },
   {
    "duration": 5,
    "start_time": "2021-12-29T05:33:58.488Z"
   },
   {
    "duration": 5,
    "start_time": "2021-12-29T05:35:00.390Z"
   },
   {
    "duration": 4,
    "start_time": "2021-12-29T05:35:11.210Z"
   },
   {
    "duration": 4,
    "start_time": "2021-12-29T05:37:09.598Z"
   },
   {
    "duration": 355,
    "start_time": "2021-12-29T05:37:24.940Z"
   },
   {
    "duration": 19,
    "start_time": "2021-12-29T05:39:09.648Z"
   },
   {
    "duration": 27,
    "start_time": "2021-12-29T05:40:40.468Z"
   },
   {
    "duration": 19,
    "start_time": "2021-12-29T05:40:49.480Z"
   },
   {
    "duration": 20,
    "start_time": "2021-12-29T05:41:42.801Z"
   },
   {
    "duration": 27,
    "start_time": "2021-12-29T05:43:36.780Z"
   },
   {
    "duration": 21,
    "start_time": "2021-12-29T05:43:49.903Z"
   },
   {
    "duration": 20,
    "start_time": "2021-12-29T05:47:52.932Z"
   },
   {
    "duration": 20,
    "start_time": "2021-12-29T05:47:57.762Z"
   },
   {
    "duration": 18,
    "start_time": "2021-12-29T05:48:09.914Z"
   },
   {
    "duration": 23,
    "start_time": "2021-12-29T05:48:15.052Z"
   },
   {
    "duration": 4,
    "start_time": "2021-12-29T05:48:41.924Z"
   },
   {
    "duration": 5,
    "start_time": "2021-12-29T05:48:43.052Z"
   },
   {
    "duration": 297,
    "start_time": "2021-12-29T05:50:16.334Z"
   },
   {
    "duration": 99,
    "start_time": "2021-12-29T05:53:13.052Z"
   },
   {
    "duration": 21,
    "start_time": "2021-12-29T05:53:19.794Z"
   },
   {
    "duration": 22,
    "start_time": "2021-12-29T05:57:11.422Z"
   },
   {
    "duration": 6,
    "start_time": "2021-12-29T05:57:12.134Z"
   },
   {
    "duration": 4,
    "start_time": "2021-12-29T05:57:13.124Z"
   },
   {
    "duration": 5,
    "start_time": "2021-12-29T05:57:15.337Z"
   },
   {
    "duration": 5,
    "start_time": "2021-12-29T05:57:16.017Z"
   },
   {
    "duration": 25,
    "start_time": "2021-12-29T05:57:26.234Z"
   },
   {
    "duration": 6,
    "start_time": "2021-12-29T05:57:26.327Z"
   },
   {
    "duration": 4,
    "start_time": "2021-12-29T05:57:26.667Z"
   },
   {
    "duration": 6,
    "start_time": "2021-12-29T05:57:26.880Z"
   },
   {
    "duration": 4,
    "start_time": "2021-12-29T05:57:27.394Z"
   },
   {
    "duration": 98,
    "start_time": "2021-12-29T06:02:50.100Z"
   },
   {
    "duration": 3,
    "start_time": "2021-12-29T06:02:58.420Z"
   },
   {
    "duration": 4,
    "start_time": "2021-12-29T06:28:47.991Z"
   },
   {
    "duration": 623,
    "start_time": "2021-12-29T12:36:12.720Z"
   },
   {
    "duration": 1248,
    "start_time": "2021-12-29T12:36:16.199Z"
   },
   {
    "duration": 37,
    "start_time": "2021-12-29T12:36:18.910Z"
   },
   {
    "duration": 20,
    "start_time": "2021-12-29T12:42:38.822Z"
   },
   {
    "duration": 22,
    "start_time": "2021-12-29T12:43:57.396Z"
   },
   {
    "duration": 29,
    "start_time": "2021-12-29T12:44:28.575Z"
   },
   {
    "duration": 31,
    "start_time": "2021-12-29T12:45:25.582Z"
   },
   {
    "duration": 37,
    "start_time": "2021-12-29T12:47:45.447Z"
   },
   {
    "duration": 39,
    "start_time": "2021-12-29T12:47:55.123Z"
   },
   {
    "duration": 30,
    "start_time": "2021-12-29T12:48:36.174Z"
   },
   {
    "duration": 2,
    "start_time": "2021-12-29T12:49:41.632Z"
   },
   {
    "duration": 279,
    "start_time": "2021-12-29T12:49:41.898Z"
   },
   {
    "duration": 38,
    "start_time": "2021-12-29T12:49:43.179Z"
   },
   {
    "duration": 33,
    "start_time": "2021-12-29T12:49:48.701Z"
   },
   {
    "duration": 31,
    "start_time": "2021-12-29T12:49:56.412Z"
   },
   {
    "duration": 22,
    "start_time": "2021-12-29T12:49:59.578Z"
   },
   {
    "duration": 19,
    "start_time": "2021-12-29T12:50:00.168Z"
   },
   {
    "duration": 10,
    "start_time": "2021-12-29T12:50:01.771Z"
   },
   {
    "duration": 22,
    "start_time": "2021-12-29T12:50:06.606Z"
   },
   {
    "duration": 383,
    "start_time": "2021-12-29T12:52:34.105Z"
   },
   {
    "duration": 7,
    "start_time": "2021-12-29T12:52:45.172Z"
   },
   {
    "duration": 6,
    "start_time": "2021-12-29T12:52:52.025Z"
   },
   {
    "duration": 88,
    "start_time": "2021-12-29T12:53:14.558Z"
   },
   {
    "duration": 126,
    "start_time": "2021-12-29T12:53:33.066Z"
   },
   {
    "duration": 88,
    "start_time": "2021-12-29T12:53:41.962Z"
   },
   {
    "duration": 386,
    "start_time": "2021-12-29T12:55:58.927Z"
   },
   {
    "duration": 2,
    "start_time": "2021-12-29T12:56:47.486Z"
   },
   {
    "duration": 301,
    "start_time": "2021-12-29T12:56:47.814Z"
   },
   {
    "duration": 39,
    "start_time": "2021-12-29T12:56:48.468Z"
   },
   {
    "duration": 79,
    "start_time": "2021-12-29T12:56:51.527Z"
   },
   {
    "duration": 27,
    "start_time": "2021-12-29T12:56:52.712Z"
   },
   {
    "duration": 21,
    "start_time": "2021-12-29T12:56:53.228Z"
   },
   {
    "duration": 18,
    "start_time": "2021-12-29T12:56:53.739Z"
   },
   {
    "duration": 9,
    "start_time": "2021-12-29T12:56:54.116Z"
   },
   {
    "duration": 21,
    "start_time": "2021-12-29T12:56:55.560Z"
   },
   {
    "duration": 24,
    "start_time": "2021-12-29T12:56:59.586Z"
   },
   {
    "duration": 363,
    "start_time": "2021-12-29T12:57:00.000Z"
   },
   {
    "duration": 432,
    "start_time": "2021-12-29T12:57:06.992Z"
   },
   {
    "duration": 361,
    "start_time": "2021-12-29T12:57:24.147Z"
   },
   {
    "duration": 23547,
    "start_time": "2021-12-29T12:57:29.855Z"
   },
   {
    "duration": 182,
    "start_time": "2021-12-29T12:58:12.911Z"
   },
   {
    "duration": 324,
    "start_time": "2021-12-29T12:58:37.126Z"
   },
   {
    "duration": 18,
    "start_time": "2021-12-29T12:58:37.542Z"
   },
   {
    "duration": 197,
    "start_time": "2021-12-29T12:58:39.003Z"
   },
   {
    "duration": 20,
    "start_time": "2021-12-29T12:58:40.297Z"
   },
   {
    "duration": 244,
    "start_time": "2021-12-29T12:58:54.361Z"
   },
   {
    "duration": 3,
    "start_time": "2021-12-29T14:13:29.147Z"
   },
   {
    "duration": 292,
    "start_time": "2021-12-29T14:13:29.403Z"
   },
   {
    "duration": 36,
    "start_time": "2021-12-29T14:13:29.795Z"
   },
   {
    "duration": 82,
    "start_time": "2021-12-29T14:13:30.535Z"
   },
   {
    "duration": 28,
    "start_time": "2021-12-29T14:13:31.122Z"
   },
   {
    "duration": 22,
    "start_time": "2021-12-29T14:13:31.395Z"
   },
   {
    "duration": 17,
    "start_time": "2021-12-29T14:13:31.645Z"
   },
   {
    "duration": 10,
    "start_time": "2021-12-29T14:13:31.871Z"
   },
   {
    "duration": 171,
    "start_time": "2021-12-29T14:13:33.169Z"
   },
   {
    "duration": 30,
    "start_time": "2021-12-29T14:13:43.712Z"
   },
   {
    "duration": 26,
    "start_time": "2021-12-29T14:14:58.928Z"
   },
   {
    "duration": 3,
    "start_time": "2021-12-29T14:17:56.172Z"
   },
   {
    "duration": 8540,
    "start_time": "2021-12-29T14:18:17.076Z"
   },
   {
    "duration": 8740,
    "start_time": "2021-12-29T14:18:39.471Z"
   },
   {
    "duration": 4,
    "start_time": "2021-12-29T14:19:14.727Z"
   },
   {
    "duration": 8,
    "start_time": "2021-12-29T14:19:18.658Z"
   },
   {
    "duration": 2,
    "start_time": "2021-12-29T14:19:55.241Z"
   },
   {
    "duration": 289,
    "start_time": "2021-12-29T14:19:55.589Z"
   },
   {
    "duration": 39,
    "start_time": "2021-12-29T14:19:55.902Z"
   },
   {
    "duration": 85,
    "start_time": "2021-12-29T14:19:56.477Z"
   },
   {
    "duration": 29,
    "start_time": "2021-12-29T14:19:56.912Z"
   },
   {
    "duration": 23,
    "start_time": "2021-12-29T14:19:57.219Z"
   },
   {
    "duration": 18,
    "start_time": "2021-12-29T14:19:57.456Z"
   },
   {
    "duration": 10,
    "start_time": "2021-12-29T14:19:57.786Z"
   },
   {
    "duration": 24,
    "start_time": "2021-12-29T14:20:00.145Z"
   },
   {
    "duration": 28,
    "start_time": "2021-12-29T14:20:02.015Z"
   },
   {
    "duration": 204,
    "start_time": "2021-12-29T14:20:02.859Z"
   },
   {
    "duration": 16,
    "start_time": "2021-12-29T14:20:03.486Z"
   },
   {
    "duration": 183,
    "start_time": "2021-12-29T14:20:04.889Z"
   },
   {
    "duration": 19,
    "start_time": "2021-12-29T14:20:05.627Z"
   },
   {
    "duration": 194,
    "start_time": "2021-12-29T14:20:06.335Z"
   },
   {
    "duration": 9,
    "start_time": "2021-12-29T14:20:07.153Z"
   },
   {
    "duration": 105,
    "start_time": "2021-12-29T14:20:08.212Z"
   },
   {
    "duration": 19,
    "start_time": "2021-12-29T14:20:49.135Z"
   },
   {
    "duration": 3,
    "start_time": "2021-12-29T14:21:30.275Z"
   },
   {
    "duration": 17,
    "start_time": "2021-12-29T14:21:31.453Z"
   },
   {
    "duration": 3,
    "start_time": "2021-12-29T14:21:43.635Z"
   },
   {
    "duration": 17,
    "start_time": "2021-12-29T14:21:44.843Z"
   },
   {
    "duration": 216,
    "start_time": "2021-12-29T14:22:08.869Z"
   },
   {
    "duration": 248,
    "start_time": "2021-12-29T14:22:22.795Z"
   },
   {
    "duration": 3,
    "start_time": "2021-12-29T14:35:37.581Z"
   },
   {
    "duration": 296,
    "start_time": "2021-12-29T14:35:37.740Z"
   },
   {
    "duration": 38,
    "start_time": "2021-12-29T14:35:38.142Z"
   },
   {
    "duration": 84,
    "start_time": "2021-12-29T14:35:38.959Z"
   },
   {
    "duration": 27,
    "start_time": "2021-12-29T14:35:39.280Z"
   },
   {
    "duration": 22,
    "start_time": "2021-12-29T14:35:39.483Z"
   },
   {
    "duration": 17,
    "start_time": "2021-12-29T14:35:39.743Z"
   },
   {
    "duration": 10,
    "start_time": "2021-12-29T14:35:39.942Z"
   },
   {
    "duration": 24,
    "start_time": "2021-12-29T14:35:40.640Z"
   },
   {
    "duration": 28,
    "start_time": "2021-12-29T14:35:41.650Z"
   },
   {
    "duration": 200,
    "start_time": "2021-12-29T14:35:41.982Z"
   },
   {
    "duration": 19,
    "start_time": "2021-12-29T14:35:42.621Z"
   },
   {
    "duration": 184,
    "start_time": "2021-12-29T14:35:43.100Z"
   },
   {
    "duration": 18,
    "start_time": "2021-12-29T14:35:43.462Z"
   },
   {
    "duration": 213,
    "start_time": "2021-12-29T14:35:43.861Z"
   },
   {
    "duration": 9,
    "start_time": "2021-12-29T14:35:44.221Z"
   },
   {
    "duration": 115,
    "start_time": "2021-12-29T14:35:44.601Z"
   },
   {
    "duration": 342,
    "start_time": "2021-12-29T14:35:45.322Z"
   },
   {
    "duration": 17,
    "start_time": "2021-12-29T14:35:45.694Z"
   },
   {
    "duration": 5,
    "start_time": "2021-12-29T14:36:19.900Z"
   },
   {
    "duration": 18,
    "start_time": "2021-12-29T14:36:21.260Z"
   },
   {
    "duration": 8,
    "start_time": "2021-12-29T14:37:04.060Z"
   },
   {
    "duration": 5,
    "start_time": "2021-12-29T14:38:15.391Z"
   },
   {
    "duration": 115,
    "start_time": "2021-12-29T14:38:19.842Z"
   },
   {
    "duration": 11,
    "start_time": "2021-12-29T14:38:30.497Z"
   },
   {
    "duration": 20,
    "start_time": "2021-12-29T14:38:42.416Z"
   },
   {
    "duration": 351,
    "start_time": "2021-12-29T14:43:10.440Z"
   },
   {
    "duration": 4,
    "start_time": "2021-12-29T14:43:30.911Z"
   },
   {
    "duration": 21,
    "start_time": "2021-12-29T14:43:34.698Z"
   },
   {
    "duration": 18,
    "start_time": "2021-12-29T14:43:44.191Z"
   },
   {
    "duration": 2,
    "start_time": "2021-12-29T14:43:55.621Z"
   },
   {
    "duration": 302,
    "start_time": "2021-12-29T14:43:55.841Z"
   },
   {
    "duration": 47,
    "start_time": "2021-12-29T14:43:56.191Z"
   },
   {
    "duration": 87,
    "start_time": "2021-12-29T14:43:56.727Z"
   },
   {
    "duration": 26,
    "start_time": "2021-12-29T14:43:57.090Z"
   },
   {
    "duration": 27,
    "start_time": "2021-12-29T14:43:57.413Z"
   },
   {
    "duration": 18,
    "start_time": "2021-12-29T14:43:57.471Z"
   },
   {
    "duration": 9,
    "start_time": "2021-12-29T14:43:57.695Z"
   },
   {
    "duration": 22,
    "start_time": "2021-12-29T14:43:58.300Z"
   },
   {
    "duration": 29,
    "start_time": "2021-12-29T14:43:58.668Z"
   },
   {
    "duration": 204,
    "start_time": "2021-12-29T14:43:58.882Z"
   },
   {
    "duration": 15,
    "start_time": "2021-12-29T14:43:59.109Z"
   },
   {
    "duration": 220,
    "start_time": "2021-12-29T14:43:59.322Z"
   },
   {
    "duration": 20,
    "start_time": "2021-12-29T14:43:59.544Z"
   },
   {
    "duration": 224,
    "start_time": "2021-12-29T14:43:59.990Z"
   },
   {
    "duration": 11,
    "start_time": "2021-12-29T14:44:00.401Z"
   },
   {
    "duration": 121,
    "start_time": "2021-12-29T14:44:00.721Z"
   },
   {
    "duration": 4,
    "start_time": "2021-12-29T14:44:01.103Z"
   },
   {
    "duration": 16,
    "start_time": "2021-12-29T14:44:02.606Z"
   },
   {
    "duration": 5,
    "start_time": "2021-12-29T14:44:03.371Z"
   },
   {
    "duration": 130,
    "start_time": "2021-12-29T14:44:04.212Z"
   },
   {
    "duration": 18,
    "start_time": "2021-12-29T14:44:05.851Z"
   },
   {
    "duration": 6,
    "start_time": "2021-12-29T14:44:08.880Z"
   },
   {
    "duration": 20,
    "start_time": "2021-12-29T14:45:03.982Z"
   },
   {
    "duration": 112,
    "start_time": "2021-12-29T14:45:15.549Z"
   },
   {
    "duration": 126,
    "start_time": "2021-12-29T14:45:24.867Z"
   },
   {
    "duration": 129,
    "start_time": "2021-12-29T14:45:35.113Z"
   },
   {
    "duration": 17,
    "start_time": "2021-12-29T14:45:51.263Z"
   },
   {
    "duration": 3,
    "start_time": "2021-12-29T14:46:45.240Z"
   },
   {
    "duration": 306,
    "start_time": "2021-12-29T14:46:45.385Z"
   },
   {
    "duration": 37,
    "start_time": "2021-12-29T14:46:45.782Z"
   },
   {
    "duration": 85,
    "start_time": "2021-12-29T14:46:46.312Z"
   },
   {
    "duration": 27,
    "start_time": "2021-12-29T14:46:46.793Z"
   },
   {
    "duration": 27,
    "start_time": "2021-12-29T14:46:46.919Z"
   },
   {
    "duration": 22,
    "start_time": "2021-12-29T14:46:47.115Z"
   },
   {
    "duration": 11,
    "start_time": "2021-12-29T14:46:47.360Z"
   },
   {
    "duration": 22,
    "start_time": "2021-12-29T14:46:48.240Z"
   },
   {
    "duration": 32,
    "start_time": "2021-12-29T14:46:49.102Z"
   },
   {
    "duration": 194,
    "start_time": "2021-12-29T14:46:49.500Z"
   },
   {
    "duration": 15,
    "start_time": "2021-12-29T14:46:49.882Z"
   },
   {
    "duration": 189,
    "start_time": "2021-12-29T14:46:50.212Z"
   },
   {
    "duration": 19,
    "start_time": "2021-12-29T14:46:50.640Z"
   },
   {
    "duration": 209,
    "start_time": "2021-12-29T14:46:51.111Z"
   },
   {
    "duration": 10,
    "start_time": "2021-12-29T14:46:53.371Z"
   },
   {
    "duration": 115,
    "start_time": "2021-12-29T14:46:54.303Z"
   },
   {
    "duration": 4,
    "start_time": "2021-12-29T14:46:55.495Z"
   },
   {
    "duration": 17,
    "start_time": "2021-12-29T14:46:58.240Z"
   },
   {
    "duration": 6,
    "start_time": "2021-12-29T14:46:59.406Z"
   },
   {
    "duration": 132,
    "start_time": "2021-12-29T14:47:00.992Z"
   },
   {
    "duration": 399,
    "start_time": "2021-12-29T14:51:03.612Z"
   },
   {
    "duration": 346,
    "start_time": "2021-12-29T14:51:27.474Z"
   },
   {
    "duration": 20,
    "start_time": "2021-12-29T15:03:07.445Z"
   },
   {
    "duration": 341,
    "start_time": "2021-12-29T15:04:09.223Z"
   },
   {
    "duration": 18,
    "start_time": "2021-12-29T15:04:15.342Z"
   },
   {
    "duration": 375,
    "start_time": "2021-12-29T15:04:29.812Z"
   },
   {
    "duration": 18,
    "start_time": "2021-12-29T15:04:43.140Z"
   },
   {
    "duration": 299,
    "start_time": "2021-12-29T15:04:44.032Z"
   },
   {
    "duration": 376,
    "start_time": "2021-12-29T15:04:44.419Z"
   },
   {
    "duration": -281,
    "start_time": "2021-12-29T15:04:45.078Z"
   },
   {
    "duration": 5,
    "start_time": "2021-12-29T15:04:45.279Z"
   },
   {
    "duration": 17,
    "start_time": "2021-12-29T15:04:45.579Z"
   },
   {
    "duration": 6,
    "start_time": "2021-12-29T15:04:48.952Z"
   },
   {
    "duration": 122,
    "start_time": "2021-12-29T15:04:50.363Z"
   },
   {
    "duration": 20,
    "start_time": "2021-12-29T15:04:51.872Z"
   },
   {
    "duration": 20,
    "start_time": "2021-12-29T15:08:10.362Z"
   },
   {
    "duration": 19,
    "start_time": "2021-12-29T15:09:27.521Z"
   },
   {
    "duration": 2,
    "start_time": "2021-12-29T15:09:37.640Z"
   },
   {
    "duration": 301,
    "start_time": "2021-12-29T15:09:37.802Z"
   },
   {
    "duration": 43,
    "start_time": "2021-12-29T15:09:38.193Z"
   },
   {
    "duration": 79,
    "start_time": "2021-12-29T15:09:38.739Z"
   },
   {
    "duration": 28,
    "start_time": "2021-12-29T15:09:39.052Z"
   },
   {
    "duration": 22,
    "start_time": "2021-12-29T15:09:39.253Z"
   },
   {
    "duration": 18,
    "start_time": "2021-12-29T15:09:39.441Z"
   },
   {
    "duration": 10,
    "start_time": "2021-12-29T15:09:39.584Z"
   },
   {
    "duration": 23,
    "start_time": "2021-12-29T15:09:40.170Z"
   },
   {
    "duration": 29,
    "start_time": "2021-12-29T15:09:40.683Z"
   },
   {
    "duration": 191,
    "start_time": "2021-12-29T15:09:41.090Z"
   },
   {
    "duration": 16,
    "start_time": "2021-12-29T15:09:41.373Z"
   },
   {
    "duration": 200,
    "start_time": "2021-12-29T15:09:41.642Z"
   },
   {
    "duration": 21,
    "start_time": "2021-12-29T15:09:41.944Z"
   },
   {
    "duration": 214,
    "start_time": "2021-12-29T15:09:42.352Z"
   },
   {
    "duration": 9,
    "start_time": "2021-12-29T15:09:42.780Z"
   },
   {
    "duration": 112,
    "start_time": "2021-12-29T15:09:44.953Z"
   },
   {
    "duration": 5,
    "start_time": "2021-12-29T15:09:46.222Z"
   },
   {
    "duration": 17,
    "start_time": "2021-12-29T15:09:48.300Z"
   },
   {
    "duration": 6,
    "start_time": "2021-12-29T15:09:49.452Z"
   },
   {
    "duration": 121,
    "start_time": "2021-12-29T15:09:50.394Z"
   },
   {
    "duration": 18,
    "start_time": "2021-12-29T15:09:51.440Z"
   },
   {
    "duration": 7,
    "start_time": "2021-12-29T15:09:53.922Z"
   },
   {
    "duration": 3,
    "start_time": "2021-12-29T15:10:00.762Z"
   },
   {
    "duration": 115,
    "start_time": "2021-12-29T15:10:01.433Z"
   },
   {
    "duration": 9,
    "start_time": "2021-12-29T15:10:01.959Z"
   },
   {
    "duration": 226,
    "start_time": "2021-12-29T15:10:02.993Z"
   },
   {
    "duration": 6,
    "start_time": "2021-12-29T15:12:29.242Z"
   },
   {
    "duration": 15,
    "start_time": "2021-12-29T15:12:30.229Z"
   },
   {
    "duration": 341,
    "start_time": "2021-12-29T15:12:34.912Z"
   },
   {
    "duration": 115,
    "start_time": "2021-12-29T15:12:35.823Z"
   },
   {
    "duration": 2,
    "start_time": "2021-12-29T15:12:44.719Z"
   },
   {
    "duration": 291,
    "start_time": "2021-12-29T15:12:44.908Z"
   },
   {
    "duration": 39,
    "start_time": "2021-12-29T15:12:45.201Z"
   },
   {
    "duration": 79,
    "start_time": "2021-12-29T15:12:45.672Z"
   },
   {
    "duration": 26,
    "start_time": "2021-12-29T15:12:46.281Z"
   },
   {
    "duration": 22,
    "start_time": "2021-12-29T15:12:46.451Z"
   },
   {
    "duration": 18,
    "start_time": "2021-12-29T15:12:46.622Z"
   },
   {
    "duration": 10,
    "start_time": "2021-12-29T15:12:46.832Z"
   },
   {
    "duration": 22,
    "start_time": "2021-12-29T15:12:47.413Z"
   },
   {
    "duration": 28,
    "start_time": "2021-12-29T15:12:47.792Z"
   },
   {
    "duration": 189,
    "start_time": "2021-12-29T15:12:48.040Z"
   },
   {
    "duration": 15,
    "start_time": "2021-12-29T15:12:48.342Z"
   },
   {
    "duration": 178,
    "start_time": "2021-12-29T15:12:48.531Z"
   },
   {
    "duration": 19,
    "start_time": "2021-12-29T15:12:48.752Z"
   },
   {
    "duration": 202,
    "start_time": "2021-12-29T15:12:49.039Z"
   },
   {
    "duration": 9,
    "start_time": "2021-12-29T15:12:49.342Z"
   },
   {
    "duration": 285,
    "start_time": "2021-12-29T15:12:49.598Z"
   },
   {
    "duration": 5,
    "start_time": "2021-12-29T15:12:50.722Z"
   },
   {
    "duration": 15,
    "start_time": "2021-12-29T15:12:51.440Z"
   },
   {
    "duration": 6,
    "start_time": "2021-12-29T15:12:51.908Z"
   },
   {
    "duration": 109,
    "start_time": "2021-12-29T15:12:53.853Z"
   },
   {
    "duration": 18,
    "start_time": "2021-12-29T15:12:55.172Z"
   },
   {
    "duration": 6,
    "start_time": "2021-12-29T15:12:55.752Z"
   },
   {
    "duration": 3,
    "start_time": "2021-12-29T15:12:56.240Z"
   },
   {
    "duration": 108,
    "start_time": "2021-12-29T15:12:56.794Z"
   },
   {
    "duration": 11,
    "start_time": "2021-12-29T15:12:57.804Z"
   },
   {
    "duration": 258,
    "start_time": "2021-12-29T15:12:58.953Z"
   },
   {
    "duration": 21,
    "start_time": "2021-12-29T15:12:59.962Z"
   },
   {
    "duration": 28,
    "start_time": "2021-12-29T15:13:00.560Z"
   },
   {
    "duration": 20,
    "start_time": "2021-12-29T15:13:01.140Z"
   },
   {
    "duration": 206,
    "start_time": "2021-12-29T15:13:01.532Z"
   },
   {
    "duration": 46,
    "start_time": "2021-12-29T15:13:01.968Z"
   },
   {
    "duration": 19,
    "start_time": "2021-12-29T15:13:02.359Z"
   },
   {
    "duration": 187,
    "start_time": "2021-12-29T15:13:02.752Z"
   },
   {
    "duration": 16,
    "start_time": "2021-12-29T15:13:03.088Z"
   },
   {
    "duration": 197,
    "start_time": "2021-12-29T15:13:03.432Z"
   },
   {
    "duration": 367,
    "start_time": "2021-12-29T15:13:03.681Z"
   },
   {
    "duration": 13,
    "start_time": "2021-12-29T15:13:04.050Z"
   },
   {
    "duration": 19,
    "start_time": "2021-12-29T15:13:04.210Z"
   },
   {
    "duration": 3,
    "start_time": "2021-12-29T15:13:04.354Z"
   },
   {
    "duration": 12,
    "start_time": "2021-12-29T15:13:04.612Z"
   },
   {
    "duration": 13,
    "start_time": "2021-12-29T15:13:05.050Z"
   },
   {
    "duration": 4,
    "start_time": "2021-12-29T15:13:05.290Z"
   },
   {
    "duration": 3,
    "start_time": "2021-12-29T15:13:05.522Z"
   },
   {
    "duration": 4,
    "start_time": "2021-12-29T15:13:05.742Z"
   },
   {
    "duration": 3,
    "start_time": "2021-12-29T15:13:05.932Z"
   },
   {
    "duration": 2,
    "start_time": "2021-12-29T15:13:06.121Z"
   },
   {
    "duration": 69387,
    "start_time": "2021-12-29T15:13:06.382Z"
   },
   {
    "duration": 25,
    "start_time": "2021-12-29T15:14:15.771Z"
   },
   {
    "duration": 194,
    "start_time": "2021-12-29T15:14:15.797Z"
   },
   {
    "duration": 10,
    "start_time": "2021-12-29T15:14:15.993Z"
   },
   {
    "duration": 9,
    "start_time": "2021-12-29T15:14:16.004Z"
   },
   {
    "duration": 30,
    "start_time": "2021-12-29T15:14:16.014Z"
   },
   {
    "duration": 12,
    "start_time": "2021-12-29T15:14:16.045Z"
   },
   {
    "duration": 118,
    "start_time": "2021-12-29T15:14:16.059Z"
   },
   {
    "duration": 3,
    "start_time": "2021-12-29T15:14:16.179Z"
   },
   {
    "duration": 23,
    "start_time": "2021-12-29T15:14:16.184Z"
   },
   {
    "duration": 32,
    "start_time": "2021-12-29T15:14:16.208Z"
   },
   {
    "duration": 29,
    "start_time": "2021-12-29T15:14:16.242Z"
   },
   {
    "duration": 33,
    "start_time": "2021-12-29T15:14:16.272Z"
   },
   {
    "duration": 37,
    "start_time": "2021-12-29T15:14:16.306Z"
   },
   {
    "duration": 10,
    "start_time": "2021-12-29T15:14:16.344Z"
   },
   {
    "duration": 36,
    "start_time": "2021-12-29T15:14:16.356Z"
   },
   {
    "duration": 21,
    "start_time": "2021-12-29T15:14:16.394Z"
   },
   {
    "duration": 33,
    "start_time": "2021-12-29T15:14:16.416Z"
   },
   {
    "duration": 3,
    "start_time": "2021-12-29T18:43:29.990Z"
   },
   {
    "duration": 339,
    "start_time": "2021-12-29T18:59:05.604Z"
   },
   {
    "duration": 624,
    "start_time": "2021-12-29T18:59:14.787Z"
   },
   {
    "duration": 973,
    "start_time": "2021-12-29T18:59:15.412Z"
   },
   {
    "duration": 39,
    "start_time": "2021-12-29T18:59:16.387Z"
   },
   {
    "duration": 112,
    "start_time": "2021-12-29T18:59:16.428Z"
   },
   {
    "duration": 33,
    "start_time": "2021-12-29T18:59:16.893Z"
   },
   {
    "duration": 26,
    "start_time": "2021-12-29T18:59:17.202Z"
   },
   {
    "duration": 21,
    "start_time": "2021-12-29T18:59:17.321Z"
   },
   {
    "duration": 11,
    "start_time": "2021-12-29T18:59:17.570Z"
   },
   {
    "duration": 25,
    "start_time": "2021-12-29T18:59:18.170Z"
   },
   {
    "duration": 40,
    "start_time": "2021-12-29T18:59:25.966Z"
   },
   {
    "duration": 298,
    "start_time": "2021-12-29T18:59:26.675Z"
   },
   {
    "duration": 16,
    "start_time": "2021-12-29T18:59:53.802Z"
   },
   {
    "duration": 201,
    "start_time": "2021-12-29T18:59:54.382Z"
   },
   {
    "duration": 25,
    "start_time": "2021-12-29T19:00:10.863Z"
   },
   {
    "duration": 240,
    "start_time": "2021-12-29T19:00:11.461Z"
   },
   {
    "duration": 15,
    "start_time": "2021-12-29T19:05:05.699Z"
   },
   {
    "duration": 250,
    "start_time": "2021-12-29T19:05:05.872Z"
   },
   {
    "duration": 21,
    "start_time": "2021-12-29T19:05:09.833Z"
   },
   {
    "duration": 228,
    "start_time": "2021-12-29T19:05:10.237Z"
   },
   {
    "duration": 11,
    "start_time": "2021-12-29T19:05:28.409Z"
   },
   {
    "duration": 122,
    "start_time": "2021-12-29T19:05:28.778Z"
   },
   {
    "duration": 501,
    "start_time": "2021-12-29T19:06:25.618Z"
   },
   {
    "duration": 3,
    "start_time": "2021-12-29T19:07:31.127Z"
   },
   {
    "duration": 303,
    "start_time": "2021-12-29T19:07:31.309Z"
   },
   {
    "duration": 48,
    "start_time": "2021-12-29T19:07:32.049Z"
   },
   {
    "duration": 102,
    "start_time": "2021-12-29T19:07:32.644Z"
   },
   {
    "duration": 33,
    "start_time": "2021-12-29T19:07:33.302Z"
   },
   {
    "duration": 24,
    "start_time": "2021-12-29T19:07:33.481Z"
   },
   {
    "duration": 21,
    "start_time": "2021-12-29T19:07:33.697Z"
   },
   {
    "duration": 11,
    "start_time": "2021-12-29T19:07:33.895Z"
   },
   {
    "duration": 25,
    "start_time": "2021-12-29T19:07:34.784Z"
   },
   {
    "duration": 45,
    "start_time": "2021-12-29T19:07:35.703Z"
   },
   {
    "duration": 328,
    "start_time": "2021-12-29T19:07:35.895Z"
   },
   {
    "duration": 19,
    "start_time": "2021-12-29T19:07:36.879Z"
   },
   {
    "duration": 205,
    "start_time": "2021-12-29T19:07:37.147Z"
   },
   {
    "duration": 21,
    "start_time": "2021-12-29T19:07:38.249Z"
   },
   {
    "duration": 222,
    "start_time": "2021-12-29T19:07:38.585Z"
   },
   {
    "duration": 10,
    "start_time": "2021-12-29T19:07:39.214Z"
   },
   {
    "duration": 116,
    "start_time": "2021-12-29T19:07:39.476Z"
   },
   {
    "duration": 5,
    "start_time": "2021-12-29T19:07:40.080Z"
   },
   {
    "duration": 21,
    "start_time": "2021-12-29T19:07:41.939Z"
   },
   {
    "duration": 6,
    "start_time": "2021-12-29T19:07:42.717Z"
   },
   {
    "duration": 278,
    "start_time": "2021-12-29T19:13:40.723Z"
   },
   {
    "duration": 3,
    "start_time": "2021-12-29T19:13:47.609Z"
   },
   {
    "duration": 312,
    "start_time": "2021-12-29T19:13:47.705Z"
   },
   {
    "duration": 48,
    "start_time": "2021-12-29T19:13:48.039Z"
   },
   {
    "duration": 101,
    "start_time": "2021-12-29T19:13:48.566Z"
   },
   {
    "duration": 38,
    "start_time": "2021-12-29T19:13:49.154Z"
   },
   {
    "duration": 25,
    "start_time": "2021-12-29T19:13:49.296Z"
   },
   {
    "duration": 24,
    "start_time": "2021-12-29T19:13:49.485Z"
   },
   {
    "duration": 10,
    "start_time": "2021-12-29T19:13:49.695Z"
   },
   {
    "duration": 34,
    "start_time": "2021-12-29T19:13:50.245Z"
   },
   {
    "duration": 33,
    "start_time": "2021-12-29T19:13:51.018Z"
   },
   {
    "duration": 214,
    "start_time": "2021-12-29T19:13:51.236Z"
   },
   {
    "duration": 17,
    "start_time": "2021-12-29T19:13:52.324Z"
   },
   {
    "duration": 205,
    "start_time": "2021-12-29T19:13:52.449Z"
   },
   {
    "duration": 20,
    "start_time": "2021-12-29T19:13:53.509Z"
   },
   {
    "duration": 223,
    "start_time": "2021-12-29T19:13:54.402Z"
   },
   {
    "duration": 11,
    "start_time": "2021-12-29T19:13:56.545Z"
   },
   {
    "duration": 129,
    "start_time": "2021-12-29T19:13:57.157Z"
   },
   {
    "duration": 5,
    "start_time": "2021-12-29T19:13:58.733Z"
   },
   {
    "duration": 23,
    "start_time": "2021-12-29T19:14:04.652Z"
   },
   {
    "duration": 7,
    "start_time": "2021-12-29T19:14:06.107Z"
   },
   {
    "duration": 120,
    "start_time": "2021-12-29T19:14:07.242Z"
   },
   {
    "duration": 19,
    "start_time": "2021-12-29T19:14:09.896Z"
   },
   {
    "duration": 6,
    "start_time": "2021-12-29T19:14:11.419Z"
   },
   {
    "duration": 3,
    "start_time": "2021-12-29T19:14:12.019Z"
   },
   {
    "duration": 117,
    "start_time": "2021-12-29T19:14:12.700Z"
   },
   {
    "duration": 11,
    "start_time": "2021-12-29T19:14:13.453Z"
   },
   {
    "duration": 252,
    "start_time": "2021-12-29T19:14:14.127Z"
   },
   {
    "duration": 22,
    "start_time": "2021-12-29T19:14:14.931Z"
   },
   {
    "duration": 37,
    "start_time": "2021-12-29T19:14:16.351Z"
   },
   {
    "duration": 25,
    "start_time": "2021-12-29T19:14:17.048Z"
   },
   {
    "duration": 297,
    "start_time": "2021-12-29T19:14:17.617Z"
   },
   {
    "duration": 51,
    "start_time": "2021-12-29T19:14:19.110Z"
   },
   {
    "duration": 20,
    "start_time": "2021-12-29T19:14:19.617Z"
   },
   {
    "duration": 220,
    "start_time": "2021-12-29T19:14:20.364Z"
   },
   {
    "duration": 226,
    "start_time": "2021-12-29T19:14:42.003Z"
   },
   {
    "duration": 11,
    "start_time": "2021-12-29T19:19:54.243Z"
   },
   {
    "duration": 10,
    "start_time": "2021-12-29T19:20:00.350Z"
   },
   {
    "duration": 8,
    "start_time": "2021-12-29T19:20:09.538Z"
   },
   {
    "duration": 8,
    "start_time": "2021-12-29T19:20:53.442Z"
   },
   {
    "duration": 7,
    "start_time": "2021-12-29T19:21:21.099Z"
   },
   {
    "duration": 9,
    "start_time": "2021-12-29T19:21:25.663Z"
   },
   {
    "duration": 8,
    "start_time": "2021-12-29T19:21:30.835Z"
   },
   {
    "duration": 8,
    "start_time": "2021-12-29T19:22:06.598Z"
   },
   {
    "duration": 8,
    "start_time": "2021-12-29T19:22:25.107Z"
   },
   {
    "duration": 295,
    "start_time": "2021-12-29T19:22:44.319Z"
   },
   {
    "duration": 8,
    "start_time": "2021-12-29T19:22:49.250Z"
   },
   {
    "duration": 7,
    "start_time": "2021-12-29T19:23:08.957Z"
   },
   {
    "duration": 8,
    "start_time": "2021-12-29T19:25:02.867Z"
   },
   {
    "duration": 7,
    "start_time": "2021-12-29T19:25:35.311Z"
   },
   {
    "duration": 8,
    "start_time": "2021-12-29T19:25:44.559Z"
   },
   {
    "duration": 8,
    "start_time": "2021-12-29T19:25:50.270Z"
   },
   {
    "duration": 9,
    "start_time": "2021-12-29T19:26:11.434Z"
   },
   {
    "duration": 8,
    "start_time": "2021-12-29T19:26:25.161Z"
   },
   {
    "duration": 8,
    "start_time": "2021-12-29T19:28:10.747Z"
   },
   {
    "duration": 8,
    "start_time": "2021-12-29T19:29:05.061Z"
   },
   {
    "duration": 18,
    "start_time": "2021-12-29T19:32:15.520Z"
   },
   {
    "duration": 12,
    "start_time": "2021-12-29T19:32:21.662Z"
   },
   {
    "duration": 19,
    "start_time": "2021-12-29T19:32:33.081Z"
   },
   {
    "duration": 285,
    "start_time": "2021-12-29T19:38:56.239Z"
   },
   {
    "duration": 9,
    "start_time": "2021-12-29T19:39:13.891Z"
   },
   {
    "duration": 340,
    "start_time": "2021-12-29T19:41:33.093Z"
   },
   {
    "duration": 13,
    "start_time": "2021-12-29T19:41:42.780Z"
   },
   {
    "duration": 9,
    "start_time": "2021-12-29T19:41:52.034Z"
   },
   {
    "duration": 9,
    "start_time": "2021-12-29T19:41:58.103Z"
   },
   {
    "duration": 3,
    "start_time": "2021-12-29T20:41:18.655Z"
   },
   {
    "duration": 345,
    "start_time": "2021-12-29T20:41:18.958Z"
   },
   {
    "duration": 54,
    "start_time": "2021-12-29T20:41:19.685Z"
   },
   {
    "duration": 118,
    "start_time": "2021-12-29T20:41:20.684Z"
   },
   {
    "duration": 40,
    "start_time": "2021-12-29T20:41:21.542Z"
   },
   {
    "duration": 27,
    "start_time": "2021-12-29T20:41:21.737Z"
   },
   {
    "duration": 39,
    "start_time": "2021-12-29T20:41:21.970Z"
   },
   {
    "duration": 16,
    "start_time": "2021-12-29T20:41:22.464Z"
   },
   {
    "duration": 41,
    "start_time": "2021-12-29T20:41:23.060Z"
   },
   {
    "duration": 34,
    "start_time": "2021-12-29T20:41:23.897Z"
   },
   {
    "duration": 235,
    "start_time": "2021-12-29T20:41:24.116Z"
   },
   {
    "duration": 25,
    "start_time": "2021-12-29T20:41:24.979Z"
   },
   {
    "duration": 237,
    "start_time": "2021-12-29T20:41:25.258Z"
   },
   {
    "duration": 26,
    "start_time": "2021-12-29T20:41:25.860Z"
   },
   {
    "duration": 248,
    "start_time": "2021-12-29T20:41:26.273Z"
   },
   {
    "duration": 10,
    "start_time": "2021-12-29T20:41:26.937Z"
   },
   {
    "duration": 150,
    "start_time": "2021-12-29T20:41:27.141Z"
   },
   {
    "duration": 6,
    "start_time": "2021-12-29T20:41:27.619Z"
   },
   {
    "duration": 20,
    "start_time": "2021-12-29T20:41:28.506Z"
   },
   {
    "duration": 8,
    "start_time": "2021-12-29T20:41:28.899Z"
   },
   {
    "duration": 172,
    "start_time": "2021-12-29T20:41:29.441Z"
   },
   {
    "duration": 21,
    "start_time": "2021-12-29T20:41:30.520Z"
   },
   {
    "duration": 6,
    "start_time": "2021-12-29T20:41:31.988Z"
   },
   {
    "duration": 3,
    "start_time": "2021-12-29T20:41:33.709Z"
   },
   {
    "duration": 147,
    "start_time": "2021-12-29T20:41:34.455Z"
   },
   {
    "duration": 11,
    "start_time": "2021-12-29T20:41:34.936Z"
   },
   {
    "duration": 245,
    "start_time": "2021-12-29T20:41:35.659Z"
   },
   {
    "duration": 22,
    "start_time": "2021-12-29T20:41:36.130Z"
   },
   {
    "duration": 48,
    "start_time": "2021-12-29T20:41:37.076Z"
   },
   {
    "duration": 25,
    "start_time": "2021-12-29T20:41:37.457Z"
   },
   {
    "duration": 246,
    "start_time": "2021-12-29T20:41:37.898Z"
   },
   {
    "duration": 17,
    "start_time": "2021-12-29T20:41:39.039Z"
   },
   {
    "duration": 655,
    "start_time": "2021-12-30T07:46:20.009Z"
   },
   {
    "duration": 315,
    "start_time": "2021-12-30T07:46:22.254Z"
   },
   {
    "duration": 37,
    "start_time": "2021-12-30T07:46:25.050Z"
   },
   {
    "duration": 112,
    "start_time": "2021-12-30T07:46:27.014Z"
   },
   {
    "duration": 31,
    "start_time": "2021-12-30T07:46:28.898Z"
   },
   {
    "duration": 24,
    "start_time": "2021-12-30T07:46:29.741Z"
   },
   {
    "duration": 18,
    "start_time": "2021-12-30T07:46:30.399Z"
   },
   {
    "duration": 10,
    "start_time": "2021-12-30T07:46:31.177Z"
   },
   {
    "duration": 22,
    "start_time": "2021-12-30T07:46:33.557Z"
   },
   {
    "duration": 35,
    "start_time": "2021-12-30T07:46:38.890Z"
   },
   {
    "duration": 281,
    "start_time": "2021-12-30T07:46:40.970Z"
   },
   {
    "duration": 17,
    "start_time": "2021-12-30T07:47:38.080Z"
   },
   {
    "duration": 191,
    "start_time": "2021-12-30T07:47:39.772Z"
   },
   {
    "duration": 21,
    "start_time": "2021-12-30T07:49:28.909Z"
   },
   {
    "duration": 216,
    "start_time": "2021-12-30T07:49:36.918Z"
   },
   {
    "duration": 11,
    "start_time": "2021-12-30T07:49:48.664Z"
   },
   {
    "duration": 162,
    "start_time": "2021-12-30T07:49:54.902Z"
   },
   {
    "duration": 5,
    "start_time": "2021-12-30T07:49:58.137Z"
   },
   {
    "duration": 18,
    "start_time": "2021-12-30T07:50:06.834Z"
   },
   {
    "duration": 7,
    "start_time": "2021-12-30T07:50:08.154Z"
   },
   {
    "duration": 118,
    "start_time": "2021-12-30T07:50:09.267Z"
   },
   {
    "duration": 21,
    "start_time": "2021-12-30T07:50:12.277Z"
   },
   {
    "duration": 7,
    "start_time": "2021-12-30T07:50:13.893Z"
   },
   {
    "duration": 4,
    "start_time": "2021-12-30T07:50:14.608Z"
   },
   {
    "duration": 232,
    "start_time": "2021-12-30T07:50:18.815Z"
   },
   {
    "duration": 16,
    "start_time": "2021-12-30T07:50:19.556Z"
   },
   {
    "duration": 444,
    "start_time": "2021-12-30T07:50:22.719Z"
   },
   {
    "duration": 31,
    "start_time": "2021-12-30T07:50:23.795Z"
   },
   {
    "duration": 28,
    "start_time": "2021-12-30T07:50:29.982Z"
   },
   {
    "duration": 22,
    "start_time": "2021-12-30T07:53:37.834Z"
   },
   {
    "duration": 210,
    "start_time": "2021-12-30T07:55:38.480Z"
   },
   {
    "duration": 18,
    "start_time": "2021-12-30T07:57:48.512Z"
   },
   {
    "duration": 19,
    "start_time": "2021-12-30T08:24:22.668Z"
   },
   {
    "duration": 15,
    "start_time": "2021-12-30T08:25:35.055Z"
   },
   {
    "duration": 18,
    "start_time": "2021-12-30T08:26:04.923Z"
   },
   {
    "duration": 15,
    "start_time": "2021-12-30T08:26:18.701Z"
   },
   {
    "duration": 14,
    "start_time": "2021-12-30T08:27:30.477Z"
   },
   {
    "duration": 14,
    "start_time": "2021-12-30T08:27:53.971Z"
   },
   {
    "duration": 385,
    "start_time": "2021-12-30T08:34:33.045Z"
   },
   {
    "duration": 349,
    "start_time": "2021-12-30T08:34:48.513Z"
   },
   {
    "duration": 387,
    "start_time": "2021-12-30T08:35:18.290Z"
   },
   {
    "duration": 47,
    "start_time": "2021-12-30T08:35:29.194Z"
   },
   {
    "duration": 499,
    "start_time": "2021-12-30T08:35:56.531Z"
   },
   {
    "duration": 45,
    "start_time": "2021-12-30T08:36:11.710Z"
   },
   {
    "duration": 2373,
    "start_time": "2021-12-30T08:37:19.754Z"
   },
   {
    "duration": 38,
    "start_time": "2021-12-30T08:37:39.905Z"
   },
   {
    "duration": 15,
    "start_time": "2021-12-30T08:38:47.363Z"
   },
   {
    "duration": 15,
    "start_time": "2021-12-30T08:41:24.849Z"
   },
   {
    "duration": 14,
    "start_time": "2021-12-30T08:47:08.964Z"
   },
   {
    "duration": 26,
    "start_time": "2021-12-30T08:47:35.400Z"
   },
   {
    "duration": 20,
    "start_time": "2021-12-30T08:48:27.463Z"
   },
   {
    "duration": 26,
    "start_time": "2021-12-30T08:48:45.174Z"
   },
   {
    "duration": 2,
    "start_time": "2021-12-30T08:55:13.791Z"
   },
   {
    "duration": 306,
    "start_time": "2021-12-30T08:55:14.049Z"
   },
   {
    "duration": 43,
    "start_time": "2021-12-30T08:55:15.035Z"
   },
   {
    "duration": 82,
    "start_time": "2021-12-30T08:55:17.512Z"
   },
   {
    "duration": 84,
    "start_time": "2021-12-30T08:55:18.781Z"
   },
   {
    "duration": 46,
    "start_time": "2021-12-30T08:55:19.370Z"
   },
   {
    "duration": 20,
    "start_time": "2021-12-30T08:55:22.635Z"
   },
   {
    "duration": 12,
    "start_time": "2021-12-30T08:55:23.157Z"
   },
   {
    "duration": 18,
    "start_time": "2021-12-30T08:55:25.633Z"
   },
   {
    "duration": 12,
    "start_time": "2021-12-30T08:55:26.291Z"
   },
   {
    "duration": 11,
    "start_time": "2021-12-30T09:03:55.156Z"
   },
   {
    "duration": 12,
    "start_time": "2021-12-30T09:16:49.770Z"
   },
   {
    "duration": 20,
    "start_time": "2021-12-30T09:16:51.226Z"
   },
   {
    "duration": 23,
    "start_time": "2021-12-30T09:16:59.508Z"
   },
   {
    "duration": 13,
    "start_time": "2021-12-30T09:20:00.103Z"
   },
   {
    "duration": 21,
    "start_time": "2021-12-30T09:29:15.394Z"
   },
   {
    "duration": 16,
    "start_time": "2021-12-30T09:41:25.571Z"
   },
   {
    "duration": 111,
    "start_time": "2021-12-30T09:41:34.664Z"
   },
   {
    "duration": 12,
    "start_time": "2021-12-30T09:41:51.877Z"
   },
   {
    "duration": 107,
    "start_time": "2021-12-30T09:42:09.888Z"
   },
   {
    "duration": 11,
    "start_time": "2021-12-30T09:42:17.093Z"
   },
   {
    "duration": 12,
    "start_time": "2021-12-30T09:42:27.872Z"
   },
   {
    "duration": 7,
    "start_time": "2021-12-30T09:45:26.050Z"
   },
   {
    "duration": 339,
    "start_time": "2021-12-30T09:45:59.241Z"
   },
   {
    "duration": 407,
    "start_time": "2021-12-30T09:46:17.542Z"
   },
   {
    "duration": 12,
    "start_time": "2021-12-30T09:46:47.228Z"
   },
   {
    "duration": 12,
    "start_time": "2021-12-30T09:47:37.084Z"
   },
   {
    "duration": 23,
    "start_time": "2021-12-30T09:49:39.362Z"
   },
   {
    "duration": 31,
    "start_time": "2021-12-30T09:49:40.118Z"
   },
   {
    "duration": 193,
    "start_time": "2021-12-30T09:49:40.311Z"
   },
   {
    "duration": 2,
    "start_time": "2021-12-30T09:49:45.763Z"
   },
   {
    "duration": 332,
    "start_time": "2021-12-30T09:49:45.959Z"
   },
   {
    "duration": 39,
    "start_time": "2021-12-30T09:49:46.322Z"
   },
   {
    "duration": 81,
    "start_time": "2021-12-30T09:49:46.923Z"
   },
   {
    "duration": 54,
    "start_time": "2021-12-30T09:49:47.521Z"
   },
   {
    "duration": 47,
    "start_time": "2021-12-30T09:49:47.693Z"
   },
   {
    "duration": 21,
    "start_time": "2021-12-30T09:49:47.909Z"
   },
   {
    "duration": 13,
    "start_time": "2021-12-30T09:49:48.151Z"
   },
   {
    "duration": 14,
    "start_time": "2021-12-30T09:49:49.281Z"
   },
   {
    "duration": 12,
    "start_time": "2021-12-30T09:49:49.787Z"
   },
   {
    "duration": 20,
    "start_time": "2021-12-30T09:49:50.269Z"
   },
   {
    "duration": 11,
    "start_time": "2021-12-30T09:49:50.755Z"
   },
   {
    "duration": 13,
    "start_time": "2021-12-30T09:49:51.163Z"
   },
   {
    "duration": 20,
    "start_time": "2021-12-30T09:49:51.682Z"
   },
   {
    "duration": 23,
    "start_time": "2021-12-30T09:49:51.846Z"
   },
   {
    "duration": 29,
    "start_time": "2021-12-30T09:49:52.742Z"
   },
   {
    "duration": 188,
    "start_time": "2021-12-30T09:49:52.963Z"
   },
   {
    "duration": 15,
    "start_time": "2021-12-30T09:49:53.849Z"
   },
   {
    "duration": 182,
    "start_time": "2021-12-30T09:49:54.067Z"
   },
   {
    "duration": 19,
    "start_time": "2021-12-30T09:49:54.774Z"
   },
   {
    "duration": 201,
    "start_time": "2021-12-30T09:49:55.260Z"
   },
   {
    "duration": 9,
    "start_time": "2021-12-30T09:49:55.946Z"
   },
   {
    "duration": 111,
    "start_time": "2021-12-30T09:49:56.194Z"
   },
   {
    "duration": 5,
    "start_time": "2021-12-30T09:49:56.986Z"
   },
   {
    "duration": 17,
    "start_time": "2021-12-30T09:49:58.572Z"
   },
   {
    "duration": 7,
    "start_time": "2021-12-30T09:49:59.219Z"
   },
   {
    "duration": 114,
    "start_time": "2021-12-30T09:49:59.925Z"
   },
   {
    "duration": 18,
    "start_time": "2021-12-30T09:50:01.240Z"
   },
   {
    "duration": 7,
    "start_time": "2021-12-30T09:50:02.584Z"
   },
   {
    "duration": 3,
    "start_time": "2021-12-30T09:50:03.249Z"
   },
   {
    "duration": 106,
    "start_time": "2021-12-30T09:50:03.845Z"
   },
   {
    "duration": 11,
    "start_time": "2021-12-30T09:50:04.421Z"
   },
   {
    "duration": 200,
    "start_time": "2021-12-30T09:50:05.043Z"
   },
   {
    "duration": 21,
    "start_time": "2021-12-30T09:50:05.670Z"
   },
   {
    "duration": 16,
    "start_time": "2021-12-30T09:50:28.986Z"
   },
   {
    "duration": 6,
    "start_time": "2021-12-30T09:50:47.714Z"
   },
   {
    "duration": 331,
    "start_time": "2021-12-30T09:51:42.126Z"
   },
   {
    "duration": 11,
    "start_time": "2021-12-30T09:51:54.686Z"
   },
   {
    "duration": 16,
    "start_time": "2021-12-30T09:52:29.123Z"
   },
   {
    "duration": 11,
    "start_time": "2021-12-30T09:54:01.214Z"
   },
   {
    "duration": 16,
    "start_time": "2021-12-30T09:55:42.011Z"
   },
   {
    "duration": 8,
    "start_time": "2021-12-30T09:55:58.423Z"
   },
   {
    "duration": 4,
    "start_time": "2021-12-30T09:56:13.323Z"
   },
   {
    "duration": 364,
    "start_time": "2021-12-30T09:56:39.317Z"
   },
   {
    "duration": 328,
    "start_time": "2021-12-30T09:57:07.290Z"
   },
   {
    "duration": 18,
    "start_time": "2021-12-30T09:58:40.595Z"
   },
   {
    "duration": 17,
    "start_time": "2021-12-30T09:59:04.312Z"
   },
   {
    "duration": 13,
    "start_time": "2021-12-30T09:59:30.028Z"
   },
   {
    "duration": 15,
    "start_time": "2021-12-30T10:01:18.778Z"
   },
   {
    "duration": 23,
    "start_time": "2021-12-30T10:01:46.648Z"
   },
   {
    "duration": 12,
    "start_time": "2021-12-30T10:02:02.500Z"
   },
   {
    "duration": 16,
    "start_time": "2021-12-30T10:03:04.195Z"
   },
   {
    "duration": 24,
    "start_time": "2021-12-30T10:03:41.822Z"
   },
   {
    "duration": 20,
    "start_time": "2021-12-30T10:03:53.149Z"
   },
   {
    "duration": 19,
    "start_time": "2021-12-30T10:04:17.089Z"
   },
   {
    "duration": 340,
    "start_time": "2021-12-30T10:07:03.248Z"
   },
   {
    "duration": 397,
    "start_time": "2021-12-30T10:07:49.463Z"
   },
   {
    "duration": 328,
    "start_time": "2021-12-30T10:08:22.908Z"
   },
   {
    "duration": 342,
    "start_time": "2021-12-30T10:08:35.796Z"
   },
   {
    "duration": 344,
    "start_time": "2021-12-30T10:08:44.412Z"
   },
   {
    "duration": 110,
    "start_time": "2021-12-30T10:09:31.097Z"
   },
   {
    "duration": 424,
    "start_time": "2021-12-30T10:09:38.274Z"
   },
   {
    "duration": 473,
    "start_time": "2021-12-30T10:10:08.130Z"
   },
   {
    "duration": 607,
    "start_time": "2021-12-30T10:12:32.275Z"
   },
   {
    "duration": 352,
    "start_time": "2021-12-30T10:12:54.144Z"
   },
   {
    "duration": 327,
    "start_time": "2021-12-30T10:14:56.554Z"
   },
   {
    "duration": 331,
    "start_time": "2021-12-30T10:15:03.592Z"
   },
   {
    "duration": 373,
    "start_time": "2021-12-30T10:15:30.271Z"
   },
   {
    "duration": 357,
    "start_time": "2021-12-30T10:16:15.992Z"
   },
   {
    "duration": 387,
    "start_time": "2021-12-30T10:16:27.370Z"
   },
   {
    "duration": 9,
    "start_time": "2021-12-30T10:17:00.705Z"
   },
   {
    "duration": 347,
    "start_time": "2021-12-30T10:17:04.051Z"
   },
   {
    "duration": 356,
    "start_time": "2021-12-30T10:17:08.110Z"
   },
   {
    "duration": 2,
    "start_time": "2021-12-30T10:17:34.404Z"
   },
   {
    "duration": 313,
    "start_time": "2021-12-30T10:17:34.797Z"
   },
   {
    "duration": 43,
    "start_time": "2021-12-30T10:17:35.615Z"
   },
   {
    "duration": 108,
    "start_time": "2021-12-30T10:17:36.824Z"
   },
   {
    "duration": 59,
    "start_time": "2021-12-30T10:17:37.916Z"
   },
   {
    "duration": 46,
    "start_time": "2021-12-30T10:17:38.266Z"
   },
   {
    "duration": 21,
    "start_time": "2021-12-30T10:17:38.686Z"
   },
   {
    "duration": 16,
    "start_time": "2021-12-30T10:17:38.947Z"
   },
   {
    "duration": 15,
    "start_time": "2021-12-30T10:17:40.536Z"
   },
   {
    "duration": 12,
    "start_time": "2021-12-30T10:17:40.986Z"
   },
   {
    "duration": 18,
    "start_time": "2021-12-30T10:17:42.950Z"
   },
   {
    "duration": 11,
    "start_time": "2021-12-30T10:17:44.691Z"
   },
   {
    "duration": 73,
    "start_time": "2021-12-30T10:17:49.196Z"
   },
   {
    "duration": 10,
    "start_time": "2021-12-30T10:17:50.481Z"
   },
   {
    "duration": 359,
    "start_time": "2021-12-30T10:18:04.797Z"
   },
   {
    "duration": 6,
    "start_time": "2021-12-30T10:18:29.384Z"
   },
   {
    "duration": 2,
    "start_time": "2021-12-30T10:18:42.279Z"
   },
   {
    "duration": 302,
    "start_time": "2021-12-30T10:18:42.439Z"
   },
   {
    "duration": 39,
    "start_time": "2021-12-30T10:18:42.811Z"
   },
   {
    "duration": 96,
    "start_time": "2021-12-30T10:18:43.337Z"
   },
   {
    "duration": 65,
    "start_time": "2021-12-30T10:18:44.034Z"
   },
   {
    "duration": 47,
    "start_time": "2021-12-30T10:18:44.223Z"
   },
   {
    "duration": 20,
    "start_time": "2021-12-30T10:18:44.389Z"
   },
   {
    "duration": 14,
    "start_time": "2021-12-30T10:18:44.573Z"
   },
   {
    "duration": 14,
    "start_time": "2021-12-30T10:18:45.293Z"
   },
   {
    "duration": 12,
    "start_time": "2021-12-30T10:18:45.877Z"
   },
   {
    "duration": 20,
    "start_time": "2021-12-30T10:18:46.373Z"
   },
   {
    "duration": 12,
    "start_time": "2021-12-30T10:18:46.954Z"
   },
   {
    "duration": 17,
    "start_time": "2021-12-30T10:18:47.465Z"
   },
   {
    "duration": 10,
    "start_time": "2021-12-30T10:18:48.083Z"
   },
   {
    "duration": 6,
    "start_time": "2021-12-30T10:18:48.413Z"
   },
   {
    "duration": 2,
    "start_time": "2021-12-30T10:19:01.779Z"
   },
   {
    "duration": 304,
    "start_time": "2021-12-30T10:19:01.817Z"
   },
   {
    "duration": 37,
    "start_time": "2021-12-30T10:19:02.170Z"
   },
   {
    "duration": 81,
    "start_time": "2021-12-30T10:19:02.711Z"
   },
   {
    "duration": 52,
    "start_time": "2021-12-30T10:19:03.245Z"
   },
   {
    "duration": 44,
    "start_time": "2021-12-30T10:19:03.447Z"
   },
   {
    "duration": 20,
    "start_time": "2021-12-30T10:19:03.855Z"
   },
   {
    "duration": 13,
    "start_time": "2021-12-30T10:19:04.037Z"
   },
   {
    "duration": 13,
    "start_time": "2021-12-30T10:19:04.792Z"
   },
   {
    "duration": 13,
    "start_time": "2021-12-30T10:19:05.201Z"
   },
   {
    "duration": 19,
    "start_time": "2021-12-30T10:19:05.602Z"
   },
   {
    "duration": 11,
    "start_time": "2021-12-30T10:19:06.238Z"
   },
   {
    "duration": 17,
    "start_time": "2021-12-30T10:19:06.736Z"
   },
   {
    "duration": 426,
    "start_time": "2021-12-30T10:19:09.990Z"
   },
   {
    "duration": 153,
    "start_time": "2021-12-30T10:19:37.284Z"
   },
   {
    "duration": 351,
    "start_time": "2021-12-30T10:19:43.081Z"
   },
   {
    "duration": 356,
    "start_time": "2021-12-30T10:19:56.317Z"
   },
   {
    "duration": 11,
    "start_time": "2021-12-30T10:20:39.675Z"
   },
   {
    "duration": 924,
    "start_time": "2021-12-30T10:21:15.964Z"
   },
   {
    "duration": 943,
    "start_time": "2021-12-30T10:22:36.042Z"
   },
   {
    "duration": 900,
    "start_time": "2021-12-30T10:23:05.993Z"
   },
   {
    "duration": 2376,
    "start_time": "2021-12-30T10:23:51.154Z"
   },
   {
    "duration": 2479,
    "start_time": "2021-12-30T10:24:14.445Z"
   },
   {
    "duration": 3,
    "start_time": "2021-12-30T10:24:27.661Z"
   },
   {
    "duration": 295,
    "start_time": "2021-12-30T10:24:27.853Z"
   },
   {
    "duration": 37,
    "start_time": "2021-12-30T10:24:28.199Z"
   },
   {
    "duration": 87,
    "start_time": "2021-12-30T10:24:28.745Z"
   },
   {
    "duration": 59,
    "start_time": "2021-12-30T10:24:29.271Z"
   },
   {
    "duration": 44,
    "start_time": "2021-12-30T10:24:29.450Z"
   },
   {
    "duration": 21,
    "start_time": "2021-12-30T10:24:29.626Z"
   },
   {
    "duration": 15,
    "start_time": "2021-12-30T10:24:29.805Z"
   },
   {
    "duration": 15,
    "start_time": "2021-12-30T10:24:30.553Z"
   },
   {
    "duration": 12,
    "start_time": "2021-12-30T10:24:30.935Z"
   },
   {
    "duration": 22,
    "start_time": "2021-12-30T10:24:31.300Z"
   },
   {
    "duration": 13,
    "start_time": "2021-12-30T10:24:31.803Z"
   },
   {
    "duration": 17,
    "start_time": "2021-12-30T10:24:32.498Z"
   },
   {
    "duration": 3360,
    "start_time": "2021-12-30T10:24:33.162Z"
   },
   {
    "duration": 6,
    "start_time": "2021-12-30T10:25:00.159Z"
   },
   {
    "duration": 13,
    "start_time": "2021-12-30T10:25:11.098Z"
   },
   {
    "duration": 11,
    "start_time": "2021-12-30T10:25:27.356Z"
   },
   {
    "duration": 6,
    "start_time": "2021-12-30T10:25:35.475Z"
   },
   {
    "duration": 15,
    "start_time": "2021-12-30T10:32:42.791Z"
   },
   {
    "duration": 16,
    "start_time": "2021-12-30T10:32:54.618Z"
   },
   {
    "duration": 13,
    "start_time": "2021-12-30T10:33:10.476Z"
   },
   {
    "duration": 22,
    "start_time": "2021-12-30T10:39:11.184Z"
   },
   {
    "duration": 20,
    "start_time": "2021-12-30T10:39:17.485Z"
   },
   {
    "duration": 8987,
    "start_time": "2021-12-30T10:39:57.509Z"
   },
   {
    "duration": 4,
    "start_time": "2021-12-30T10:40:27.441Z"
   },
   {
    "duration": 11,
    "start_time": "2021-12-30T10:40:31.873Z"
   },
   {
    "duration": 12,
    "start_time": "2021-12-30T10:40:42.427Z"
   },
   {
    "duration": 17,
    "start_time": "2021-12-30T10:41:24.726Z"
   },
   {
    "duration": 16,
    "start_time": "2021-12-30T10:41:30.428Z"
   },
   {
    "duration": 11,
    "start_time": "2021-12-30T10:41:52.591Z"
   },
   {
    "duration": 347,
    "start_time": "2021-12-30T10:42:48.417Z"
   },
   {
    "duration": 12,
    "start_time": "2021-12-30T10:44:03.352Z"
   },
   {
    "duration": 11,
    "start_time": "2021-12-30T10:44:19.359Z"
   },
   {
    "duration": 11,
    "start_time": "2021-12-30T10:44:47.973Z"
   },
   {
    "duration": 351,
    "start_time": "2021-12-30T10:45:49.490Z"
   },
   {
    "duration": 372,
    "start_time": "2021-12-30T10:46:11.332Z"
   },
   {
    "duration": 390,
    "start_time": "2021-12-30T10:46:53.012Z"
   },
   {
    "duration": 373,
    "start_time": "2021-12-30T10:47:24.111Z"
   },
   {
    "duration": 11,
    "start_time": "2021-12-30T10:47:34.872Z"
   },
   {
    "duration": 6,
    "start_time": "2021-12-30T10:47:53.427Z"
   },
   {
    "duration": 4,
    "start_time": "2021-12-30T10:48:02.510Z"
   },
   {
    "duration": 4590,
    "start_time": "2021-12-30T10:48:25.107Z"
   },
   {
    "duration": 2,
    "start_time": "2021-12-30T10:48:53.487Z"
   },
   {
    "duration": 289,
    "start_time": "2021-12-30T10:48:53.652Z"
   },
   {
    "duration": 38,
    "start_time": "2021-12-30T10:48:54.141Z"
   },
   {
    "duration": 91,
    "start_time": "2021-12-30T10:48:54.828Z"
   },
   {
    "duration": 57,
    "start_time": "2021-12-30T10:48:55.339Z"
   },
   {
    "duration": 48,
    "start_time": "2021-12-30T10:48:55.493Z"
   },
   {
    "duration": 21,
    "start_time": "2021-12-30T10:48:55.669Z"
   },
   {
    "duration": 13,
    "start_time": "2021-12-30T10:48:55.826Z"
   },
   {
    "duration": 13,
    "start_time": "2021-12-30T10:48:56.758Z"
   },
   {
    "duration": 12,
    "start_time": "2021-12-30T10:48:57.135Z"
   },
   {
    "duration": 19,
    "start_time": "2021-12-30T10:48:57.498Z"
   },
   {
    "duration": 15,
    "start_time": "2021-12-30T10:48:58.050Z"
   },
   {
    "duration": 23,
    "start_time": "2021-12-30T10:48:58.376Z"
   },
   {
    "duration": 7,
    "start_time": "2021-12-30T10:48:58.776Z"
   },
   {
    "duration": 567,
    "start_time": "2021-12-30T10:48:58.950Z"
   },
   {
    "duration": -565,
    "start_time": "2021-12-30T10:49:00.084Z"
   },
   {
    "duration": 4773,
    "start_time": "2021-12-30T10:49:26.994Z"
   },
   {
    "duration": 4,
    "start_time": "2021-12-30T10:49:43.200Z"
   },
   {
    "duration": 331,
    "start_time": "2021-12-30T10:49:52.472Z"
   },
   {
    "duration": 2,
    "start_time": "2021-12-30T10:50:17.684Z"
   },
   {
    "duration": 283,
    "start_time": "2021-12-30T10:50:17.848Z"
   },
   {
    "duration": 36,
    "start_time": "2021-12-30T10:50:18.160Z"
   },
   {
    "duration": 92,
    "start_time": "2021-12-30T10:50:18.668Z"
   },
   {
    "duration": 54,
    "start_time": "2021-12-30T10:50:19.250Z"
   },
   {
    "duration": 45,
    "start_time": "2021-12-30T10:50:19.456Z"
   },
   {
    "duration": 20,
    "start_time": "2021-12-30T10:50:19.614Z"
   },
   {
    "duration": 13,
    "start_time": "2021-12-30T10:50:19.792Z"
   },
   {
    "duration": 14,
    "start_time": "2021-12-30T10:50:20.513Z"
   },
   {
    "duration": 11,
    "start_time": "2021-12-30T10:50:20.880Z"
   },
   {
    "duration": 18,
    "start_time": "2021-12-30T10:50:21.250Z"
   },
   {
    "duration": 11,
    "start_time": "2021-12-30T10:50:21.607Z"
   },
   {
    "duration": 16,
    "start_time": "2021-12-30T10:50:21.988Z"
   },
   {
    "duration": 5,
    "start_time": "2021-12-30T10:50:22.353Z"
   },
   {
    "duration": 8,
    "start_time": "2021-12-30T10:50:23.211Z"
   },
   {
    "duration": 9,
    "start_time": "2021-12-30T10:50:26.402Z"
   },
   {
    "duration": 12,
    "start_time": "2021-12-30T10:50:47.628Z"
   },
   {
    "duration": 6,
    "start_time": "2021-12-30T10:51:13.128Z"
   },
   {
    "duration": 11,
    "start_time": "2021-12-30T10:51:37.454Z"
   },
   {
    "duration": 339,
    "start_time": "2021-12-30T10:52:04.201Z"
   },
   {
    "duration": 7,
    "start_time": "2021-12-30T10:52:10.198Z"
   },
   {
    "duration": 10,
    "start_time": "2021-12-30T10:52:20.852Z"
   },
   {
    "duration": 5,
    "start_time": "2021-12-30T10:53:34.936Z"
   },
   {
    "duration": 10,
    "start_time": "2021-12-30T10:53:35.809Z"
   },
   {
    "duration": 139,
    "start_time": "2021-12-30T10:53:57.360Z"
   },
   {
    "duration": 5,
    "start_time": "2021-12-30T10:54:02.457Z"
   },
   {
    "duration": 10,
    "start_time": "2021-12-30T10:54:25.700Z"
   },
   {
    "duration": 5,
    "start_time": "2021-12-30T10:55:25.236Z"
   },
   {
    "duration": 384,
    "start_time": "2021-12-30T10:55:27.548Z"
   },
   {
    "duration": 336,
    "start_time": "2021-12-30T10:55:31.687Z"
   },
   {
    "duration": 5,
    "start_time": "2021-12-30T10:55:52.244Z"
   },
   {
    "duration": 297,
    "start_time": "2021-12-30T10:55:52.437Z"
   },
   {
    "duration": 36,
    "start_time": "2021-12-30T10:55:52.835Z"
   },
   {
    "duration": 90,
    "start_time": "2021-12-30T10:55:53.544Z"
   },
   {
    "duration": 61,
    "start_time": "2021-12-30T10:55:54.147Z"
   },
   {
    "duration": 47,
    "start_time": "2021-12-30T10:55:54.339Z"
   },
   {
    "duration": 20,
    "start_time": "2021-12-30T10:55:54.548Z"
   },
   {
    "duration": 13,
    "start_time": "2021-12-30T10:55:54.796Z"
   },
   {
    "duration": 13,
    "start_time": "2021-12-30T10:55:55.569Z"
   },
   {
    "duration": 12,
    "start_time": "2021-12-30T10:55:56.054Z"
   },
   {
    "duration": 19,
    "start_time": "2021-12-30T10:55:56.433Z"
   },
   {
    "duration": 12,
    "start_time": "2021-12-30T10:55:57.211Z"
   },
   {
    "duration": 17,
    "start_time": "2021-12-30T10:55:59.338Z"
   },
   {
    "duration": 5,
    "start_time": "2021-12-30T10:56:00.418Z"
   },
   {
    "duration": 4,
    "start_time": "2021-12-30T10:56:01.040Z"
   },
   {
    "duration": 4,
    "start_time": "2021-12-30T10:56:01.958Z"
   },
   {
    "duration": 333,
    "start_time": "2021-12-30T10:56:03.148Z"
   },
   {
    "duration": 418,
    "start_time": "2021-12-30T10:56:39.426Z"
   },
   {
    "duration": 5,
    "start_time": "2021-12-30T10:56:47.604Z"
   },
   {
    "duration": 2,
    "start_time": "2021-12-30T10:57:03.147Z"
   },
   {
    "duration": 299,
    "start_time": "2021-12-30T10:57:03.335Z"
   },
   {
    "duration": 39,
    "start_time": "2021-12-30T10:57:03.668Z"
   },
   {
    "duration": 93,
    "start_time": "2021-12-30T10:57:04.181Z"
   },
   {
    "duration": 57,
    "start_time": "2021-12-30T10:57:04.679Z"
   },
   {
    "duration": 54,
    "start_time": "2021-12-30T10:57:04.847Z"
   },
   {
    "duration": 21,
    "start_time": "2021-12-30T10:57:05.033Z"
   },
   {
    "duration": 13,
    "start_time": "2021-12-30T10:57:05.203Z"
   },
   {
    "duration": 14,
    "start_time": "2021-12-30T10:57:05.902Z"
   },
   {
    "duration": 12,
    "start_time": "2021-12-30T10:57:06.286Z"
   },
   {
    "duration": 20,
    "start_time": "2021-12-30T10:57:06.636Z"
   },
   {
    "duration": 12,
    "start_time": "2021-12-30T10:57:07.042Z"
   },
   {
    "duration": 17,
    "start_time": "2021-12-30T10:57:07.397Z"
   },
   {
    "duration": 6,
    "start_time": "2021-12-30T10:57:07.770Z"
   },
   {
    "duration": 5,
    "start_time": "2021-12-30T10:57:07.996Z"
   },
   {
    "duration": 5,
    "start_time": "2021-12-30T10:57:08.168Z"
   },
   {
    "duration": 350,
    "start_time": "2021-12-30T10:57:08.354Z"
   },
   {
    "duration": 21,
    "start_time": "2021-12-30T10:57:08.782Z"
   },
   {
    "duration": 12,
    "start_time": "2021-12-30T10:57:09.372Z"
   },
   {
    "duration": 344,
    "start_time": "2021-12-30T10:58:01.326Z"
   },
   {
    "duration": 23,
    "start_time": "2021-12-30T10:58:29.072Z"
   },
   {
    "duration": 13,
    "start_time": "2021-12-30T10:58:52.156Z"
   },
   {
    "duration": 22,
    "start_time": "2021-12-30T10:58:53.949Z"
   },
   {
    "duration": 8803,
    "start_time": "2021-12-30T10:58:56.289Z"
   },
   {
    "duration": 7,
    "start_time": "2021-12-30T10:59:09.529Z"
   },
   {
    "duration": 5,
    "start_time": "2021-12-30T10:59:51.918Z"
   },
   {
    "duration": 5,
    "start_time": "2021-12-30T11:00:12.007Z"
   },
   {
    "duration": 28,
    "start_time": "2021-12-30T11:04:00.203Z"
   },
   {
    "duration": 188,
    "start_time": "2021-12-30T11:04:00.818Z"
   },
   {
    "duration": 2,
    "start_time": "2021-12-30T11:05:40.296Z"
   },
   {
    "duration": 272,
    "start_time": "2021-12-30T11:05:40.659Z"
   },
   {
    "duration": 39,
    "start_time": "2021-12-30T11:05:41.252Z"
   },
   {
    "duration": 84,
    "start_time": "2021-12-30T11:05:41.889Z"
   },
   {
    "duration": 60,
    "start_time": "2021-12-30T11:05:42.616Z"
   },
   {
    "duration": 46,
    "start_time": "2021-12-30T11:05:42.999Z"
   },
   {
    "duration": 20,
    "start_time": "2021-12-30T11:05:43.220Z"
   },
   {
    "duration": 13,
    "start_time": "2021-12-30T11:05:53.875Z"
   },
   {
    "duration": 14,
    "start_time": "2021-12-30T11:05:54.959Z"
   },
   {
    "duration": 12,
    "start_time": "2021-12-30T11:05:55.343Z"
   },
   {
    "duration": 19,
    "start_time": "2021-12-30T11:05:55.790Z"
   },
   {
    "duration": 13,
    "start_time": "2021-12-30T11:05:56.152Z"
   },
   {
    "duration": 19,
    "start_time": "2021-12-30T11:05:56.596Z"
   },
   {
    "duration": 6,
    "start_time": "2021-12-30T11:05:57.030Z"
   },
   {
    "duration": 5,
    "start_time": "2021-12-30T11:05:57.234Z"
   },
   {
    "duration": 5,
    "start_time": "2021-12-30T11:05:57.453Z"
   },
   {
    "duration": 21,
    "start_time": "2021-12-30T11:05:57.889Z"
   },
   {
    "duration": 13,
    "start_time": "2021-12-30T11:05:58.240Z"
   },
   {
    "duration": 22,
    "start_time": "2021-12-30T11:05:58.653Z"
   },
   {
    "duration": 6,
    "start_time": "2021-12-30T11:05:58.862Z"
   },
   {
    "duration": 5,
    "start_time": "2021-12-30T11:05:59.057Z"
   },
   {
    "duration": 5,
    "start_time": "2021-12-30T11:05:59.276Z"
   },
   {
    "duration": 23,
    "start_time": "2021-12-30T11:05:59.711Z"
   },
   {
    "duration": 32,
    "start_time": "2021-12-30T11:06:00.680Z"
   },
   {
    "duration": 199,
    "start_time": "2021-12-30T11:06:00.906Z"
   },
   {
    "duration": 15,
    "start_time": "2021-12-30T11:06:06.109Z"
   },
   {
    "duration": 189,
    "start_time": "2021-12-30T11:06:08.945Z"
   },
   {
    "duration": 20,
    "start_time": "2021-12-30T11:06:10.757Z"
   },
   {
    "duration": 239,
    "start_time": "2021-12-30T11:06:11.108Z"
   },
   {
    "duration": 10,
    "start_time": "2021-12-30T11:06:11.875Z"
   },
   {
    "duration": 106,
    "start_time": "2021-12-30T11:06:12.063Z"
   },
   {
    "duration": 5,
    "start_time": "2021-12-30T11:06:12.419Z"
   },
   {
    "duration": 17,
    "start_time": "2021-12-30T11:06:13.004Z"
   },
   {
    "duration": 6,
    "start_time": "2021-12-30T11:06:13.217Z"
   },
   {
    "duration": 142,
    "start_time": "2021-12-30T11:06:13.632Z"
   },
   {
    "duration": 18,
    "start_time": "2021-12-30T11:06:13.941Z"
   },
   {
    "duration": 6,
    "start_time": "2021-12-30T11:06:15.616Z"
   },
   {
    "duration": 3,
    "start_time": "2021-12-30T11:06:16.219Z"
   },
   {
    "duration": 111,
    "start_time": "2021-12-30T11:06:16.739Z"
   },
   {
    "duration": 9,
    "start_time": "2021-12-30T11:06:17.320Z"
   },
   {
    "duration": 209,
    "start_time": "2021-12-30T11:06:17.787Z"
   },
   {
    "duration": 20,
    "start_time": "2021-12-30T11:06:18.243Z"
   },
   {
    "duration": 7,
    "start_time": "2021-12-30T11:06:24.455Z"
   },
   {
    "duration": 11332,
    "start_time": "2021-12-30T11:07:32.731Z"
   },
   {
    "duration": 340,
    "start_time": "2021-12-30T11:08:12.354Z"
   },
   {
    "duration": 7908,
    "start_time": "2021-12-30T11:09:19.913Z"
   },
   {
    "duration": 8411,
    "start_time": "2021-12-30T12:11:58.970Z"
   },
   {
    "duration": 7978,
    "start_time": "2021-12-30T12:12:13.169Z"
   },
   {
    "duration": 8391,
    "start_time": "2021-12-30T12:13:23.870Z"
   },
   {
    "duration": 8597,
    "start_time": "2021-12-30T12:14:09.319Z"
   },
   {
    "duration": 8891,
    "start_time": "2021-12-30T12:16:19.015Z"
   },
   {
    "duration": 3463,
    "start_time": "2021-12-30T12:16:49.206Z"
   },
   {
    "duration": 2947,
    "start_time": "2021-12-30T12:17:20.383Z"
   },
   {
    "duration": 3183,
    "start_time": "2021-12-30T12:17:34.167Z"
   },
   {
    "duration": 13,
    "start_time": "2021-12-30T12:19:45.914Z"
   },
   {
    "duration": 362,
    "start_time": "2021-12-30T12:20:03.243Z"
   },
   {
    "duration": 11,
    "start_time": "2021-12-30T12:20:14.601Z"
   },
   {
    "duration": 28,
    "start_time": "2021-12-30T12:26:50.079Z"
   },
   {
    "duration": 15,
    "start_time": "2021-12-30T12:26:50.745Z"
   },
   {
    "duration": 196,
    "start_time": "2021-12-30T12:26:52.395Z"
   },
   {
    "duration": 17,
    "start_time": "2021-12-30T12:26:55.406Z"
   },
   {
    "duration": 48,
    "start_time": "2021-12-30T12:26:56.706Z"
   },
   {
    "duration": 17,
    "start_time": "2021-12-30T12:26:57.156Z"
   },
   {
    "duration": 194,
    "start_time": "2021-12-30T12:26:57.530Z"
   },
   {
    "duration": 6,
    "start_time": "2021-12-30T12:26:58.507Z"
   },
   {
    "duration": 17,
    "start_time": "2021-12-30T12:27:12.143Z"
   },
   {
    "duration": 8,
    "start_time": "2021-12-30T12:28:38.812Z"
   },
   {
    "duration": 6,
    "start_time": "2021-12-30T12:29:34.605Z"
   },
   {
    "duration": 8,
    "start_time": "2021-12-30T12:29:40.702Z"
   },
   {
    "duration": 14,
    "start_time": "2021-12-30T12:34:59.974Z"
   },
   {
    "duration": 21,
    "start_time": "2021-12-30T12:35:00.314Z"
   },
   {
    "duration": 27,
    "start_time": "2021-12-30T12:35:00.717Z"
   },
   {
    "duration": 14,
    "start_time": "2021-12-30T12:35:01.155Z"
   },
   {
    "duration": 12,
    "start_time": "2021-12-30T12:35:01.579Z"
   },
   {
    "duration": 6,
    "start_time": "2021-12-30T12:35:02.013Z"
   },
   {
    "duration": 4,
    "start_time": "2021-12-30T12:35:02.264Z"
   },
   {
    "duration": 5,
    "start_time": "2021-12-30T12:35:02.436Z"
   },
   {
    "duration": 33,
    "start_time": "2021-12-30T12:35:02.823Z"
   },
   {
    "duration": 9,
    "start_time": "2021-12-30T12:35:03.214Z"
   },
   {
    "duration": 12,
    "start_time": "2021-12-30T12:35:03.603Z"
   },
   {
    "duration": 6,
    "start_time": "2021-12-30T12:35:03.817Z"
   },
   {
    "duration": 5,
    "start_time": "2021-12-30T12:35:04.231Z"
   },
   {
    "duration": 4,
    "start_time": "2021-12-30T12:35:04.420Z"
   },
   {
    "duration": 25,
    "start_time": "2021-12-30T12:35:04.933Z"
   },
   {
    "duration": 28,
    "start_time": "2021-12-30T12:36:17.828Z"
   },
   {
    "duration": 191,
    "start_time": "2021-12-30T12:36:18.202Z"
   },
   {
    "duration": 15,
    "start_time": "2021-12-30T12:36:19.434Z"
   },
   {
    "duration": 189,
    "start_time": "2021-12-30T12:36:19.626Z"
   },
   {
    "duration": 18,
    "start_time": "2021-12-30T12:36:21.025Z"
   },
   {
    "duration": 193,
    "start_time": "2021-12-30T12:36:21.440Z"
   },
   {
    "duration": 9,
    "start_time": "2021-12-30T12:36:22.528Z"
   },
   {
    "duration": 101,
    "start_time": "2021-12-30T12:36:22.915Z"
   },
   {
    "duration": 4,
    "start_time": "2021-12-30T12:36:23.611Z"
   },
   {
    "duration": 18,
    "start_time": "2021-12-30T12:36:24.688Z"
   },
   {
    "duration": 6,
    "start_time": "2021-12-30T12:36:25.034Z"
   },
   {
    "duration": 111,
    "start_time": "2021-12-30T12:36:25.342Z"
   },
   {
    "duration": 18,
    "start_time": "2021-12-30T12:36:25.857Z"
   },
   {
    "duration": 5,
    "start_time": "2021-12-30T12:36:26.407Z"
   },
   {
    "duration": 3,
    "start_time": "2021-12-30T12:36:26.717Z"
   },
   {
    "duration": 111,
    "start_time": "2021-12-30T12:36:26.953Z"
   },
   {
    "duration": 9,
    "start_time": "2021-12-30T12:36:27.177Z"
   },
   {
    "duration": 207,
    "start_time": "2021-12-30T12:36:27.388Z"
   },
   {
    "duration": 20,
    "start_time": "2021-12-30T12:36:27.719Z"
   },
   {
    "duration": 3986,
    "start_time": "2021-12-30T12:36:27.947Z"
   },
   {
    "duration": 11,
    "start_time": "2021-12-30T12:36:31.935Z"
   },
   {
    "duration": 28,
    "start_time": "2021-12-30T12:36:31.947Z"
   },
   {
    "duration": 13,
    "start_time": "2021-12-30T12:36:36.275Z"
   },
   {
    "duration": 193,
    "start_time": "2021-12-30T12:36:36.916Z"
   },
   {
    "duration": 16,
    "start_time": "2021-12-30T12:36:37.856Z"
   },
   {
    "duration": 46,
    "start_time": "2021-12-30T12:36:38.703Z"
   },
   {
    "duration": 21,
    "start_time": "2021-12-30T12:36:39.141Z"
   },
   {
    "duration": 184,
    "start_time": "2021-12-30T12:36:39.510Z"
   },
   {
    "duration": 7,
    "start_time": "2021-12-30T12:36:40.132Z"
   },
   {
    "duration": 15,
    "start_time": "2021-12-30T12:36:40.751Z"
   },
   {
    "duration": 199,
    "start_time": "2021-12-30T12:36:40.973Z"
   },
   {
    "duration": 321,
    "start_time": "2021-12-30T12:36:41.232Z"
   },
   {
    "duration": 11,
    "start_time": "2021-12-30T12:36:41.555Z"
   },
   {
    "duration": 20,
    "start_time": "2021-12-30T12:36:41.679Z"
   },
   {
    "duration": 4,
    "start_time": "2021-12-30T12:36:42.109Z"
   },
   {
    "duration": 15,
    "start_time": "2021-12-30T12:36:42.343Z"
   },
   {
    "duration": 12,
    "start_time": "2021-12-30T12:36:42.580Z"
   },
   {
    "duration": 4,
    "start_time": "2021-12-30T12:36:42.963Z"
   },
   {
    "duration": 3,
    "start_time": "2021-12-30T12:36:43.261Z"
   },
   {
    "duration": 3,
    "start_time": "2021-12-30T12:36:43.481Z"
   },
   {
    "duration": 5,
    "start_time": "2021-12-30T12:36:43.777Z"
   },
   {
    "duration": 3,
    "start_time": "2021-12-30T12:36:44.194Z"
   },
   {
    "duration": 70406,
    "start_time": "2021-12-30T12:36:44.434Z"
   },
   {
    "duration": 23,
    "start_time": "2021-12-30T12:37:54.842Z"
   },
   {
    "duration": 218,
    "start_time": "2021-12-30T12:37:55.092Z"
   },
   {
    "duration": 2,
    "start_time": "2021-12-30T12:37:55.312Z"
   },
   {
    "duration": 14,
    "start_time": "2021-12-30T12:37:57.332Z"
   },
   {
    "duration": 20,
    "start_time": "2021-12-30T12:38:01.511Z"
   },
   {
    "duration": 4,
    "start_time": "2021-12-30T12:38:02.442Z"
   },
   {
    "duration": 13,
    "start_time": "2021-12-30T12:38:03.168Z"
   },
   {
    "duration": 14,
    "start_time": "2021-12-30T12:38:03.799Z"
   },
   {
    "duration": 4,
    "start_time": "2021-12-30T12:38:11.611Z"
   },
   {
    "duration": 4,
    "start_time": "2021-12-30T12:38:12.480Z"
   },
   {
    "duration": 3,
    "start_time": "2021-12-30T12:38:14.095Z"
   },
   {
    "duration": 3,
    "start_time": "2021-12-30T12:38:14.849Z"
   },
   {
    "duration": 3,
    "start_time": "2021-12-30T12:38:15.542Z"
   },
   {
    "duration": 70328,
    "start_time": "2021-12-30T12:38:20.166Z"
   },
   {
    "duration": 69665,
    "start_time": "2021-12-30T12:44:03.754Z"
   },
   {
    "duration": 26,
    "start_time": "2021-12-30T12:45:13.421Z"
   },
   {
    "duration": 178,
    "start_time": "2021-12-30T12:45:18.111Z"
   },
   {
    "duration": 10,
    "start_time": "2021-12-30T12:45:24.944Z"
   },
   {
    "duration": 5,
    "start_time": "2021-12-30T12:45:27.086Z"
   },
   {
    "duration": 22,
    "start_time": "2021-12-30T12:45:35.059Z"
   },
   {
    "duration": 5,
    "start_time": "2021-12-30T12:45:35.816Z"
   },
   {
    "duration": 93,
    "start_time": "2021-12-30T12:45:36.619Z"
   },
   {
    "duration": 3,
    "start_time": "2021-12-30T12:45:37.075Z"
   },
   {
    "duration": 3,
    "start_time": "2021-12-30T12:45:37.603Z"
   },
   {
    "duration": 2,
    "start_time": "2021-12-30T12:45:38.192Z"
   },
   {
    "duration": 3,
    "start_time": "2021-12-30T12:45:38.921Z"
   },
   {
    "duration": 3,
    "start_time": "2021-12-30T12:45:39.332Z"
   },
   {
    "duration": 3,
    "start_time": "2021-12-30T12:45:39.758Z"
   },
   {
    "duration": 2,
    "start_time": "2021-12-30T12:46:22.340Z"
   }
  ],
  "kernelspec": {
   "display_name": "Python 3",
   "language": "python",
   "name": "python3"
  },
  "language_info": {
   "codemirror_mode": {
    "name": "ipython",
    "version": 3
   },
   "file_extension": ".py",
   "mimetype": "text/x-python",
   "name": "python",
   "nbconvert_exporter": "python",
   "pygments_lexer": "ipython3",
   "version": "3.7.8"
  },
  "toc": {
   "base_numbering": 1,
   "nav_menu": {},
   "number_sections": true,
   "sideBar": true,
   "skip_h1_title": true,
   "title_cell": "Table of Contents",
   "title_sidebar": "Contents",
   "toc_cell": false,
   "toc_position": {},
   "toc_section_display": true,
   "toc_window_display": false
  }
 },
 "nbformat": 4,
 "nbformat_minor": 2
}

{
 "cells": [
  {
   "cell_type": "markdown",
   "metadata": {},
   "source": [
    "Hello, my name is Margarita Iankova. I'm going to review your project!\n",
    "\n",
    "You can find my comments in <span style=\"color:green\">green</span>,<span style=\"color:blue\">blue</span> or <span style=\"color:red\">red</span> boxes like this:\n",
    "\n",
    "<div class=\"alert alert-success\" style=\"box-shadow: 4px 4px 4px\">\n",
    "<b>Success:</b> if everything is done succesfully\n",
    "</div>\n",
    "\n",
    "<div class=\"alert alert-warning\" style=\"box-shadow: 4px 4px 4px\">\n",
    "<b>Remarks:</b> if I can give some recommendations\n",
    "</div>\n",
    "\n",
    "<div class=\"alert alert-danger\" style=\"box-shadow: 4px 4px 4px\">\n",
    "<b>Needs fixing:</b> if the block requires some corrections. Work can't be accepted with the red comments.\n",
    "</div>\n",
    "\n",
    "<div class=\"alert alert-info\" style=\"box-shadow: 4px 4px 4px\">\n",
    "<b>Your comment:</b> If you have some questions please use these boxes\n",
    "</div>\n",
    "\n",
    "\n",
    "# General feedback\n",
    "\n",
    "Thanks for your work, you did well! I have some comments that will need to be corrected. Don't worry, it won't take long. If you have any questions, be sure to write them down and I will try to answer them. Please do not delete or carry over my comments - the next review will be faster.\n",
    "Good luck to you 😊\n",
    "\n",
    "\n",
    "\n",
    "# General feedback #2\n",
    "<div class=\"alert alert-warning\" style=\"box-shadow: 4px 4px 4px\">\n",
    "<b></b> I see progress in your project. You've done a good job on missing values ​​and duplicates, but it's worth paying attention to data categorization before testing hypotheses. Also pay attention to my comments where you answer the data relationship questions.\n",
    "\n",
    "</div>\n",
    "\n",
    "# General feedback #3\n",
    "\n",
    "<div class=\"alert alert-success\" style=\"box-shadow: 4px 4px 4px\">\n",
    "Thanks for sending in your project with corrections. It's clear you've put a lot of effort into it. I'm glad to say that your project has been accepted.In the future, try to write more specific conclusions at every step of your work: imagine that you want to show a report to a boss who does not understand what is happening in the code, but all your conclusions are very important to him 😊 Keep up the good work, and good luck on the next sprint!\n",
    "</div>\n",
    "\n",
    "\n",
    "# Analyzing borrowers’ risk of defaulting\n",
    "\n",
    "Your project is to prepare a report for a bank’s loan division. You’ll need to find out if a customer’s marital status and number of children has an impact on whether they will default on a loan. The bank already has some data on customers’ credit worthiness.\n",
    "\n",
    "Your report will be considered when building the **credit score** of a potential customer. The **credit score** is used to evaluate the ability of a potential borrower to repay their loan.\n",
    "\n",
    "[In this notebook you're provided with hints and brief instructions and thinking prompts. Don't ignore them as they are designed to equip you with the structure for the project and will help you analyze what you're doing on a deeper level. Before submitting your project, make sure you remove all hints and descriptions provided to you. Instead, make this report look as if you're sending it to your teammates to demonstrate your findings - they shouldn't know you had some external help from us! To help you out, we've placed the hints you should remove in square brackets.]\n",
    "\n",
    "[Before you dive into analyzing your data, explain the purposes of the project and hypotheses you're going to test.]"
   ]
  },
  {
   "cell_type": "markdown",
   "metadata": {},
   "source": [
    "<div class=\"alert alert-success\" style=\"box-shadow: 4px 4px 4px\">\n",
    "<b>Success:</b> Great! A good introduction leads to a good job! \n",
    "</div>"
   ]
  },
  {
   "cell_type": "markdown",
   "metadata": {},
   "source": [
    "## Open the data file and have a look at the general information. \n",
    "\n",
    "[Start with importing the libraries and loading the data. You may realise that you need additional libraries as you go, which is totally fine - just make sure to update this section when you do.]"
   ]
  },
  {
   "cell_type": "code",
   "execution_count": 103,
   "metadata": {},
   "outputs": [
    {
     "data": {
      "text/html": [
       "<div>\n",
       "<style scoped>\n",
       "    .dataframe tbody tr th:only-of-type {\n",
       "        vertical-align: middle;\n",
       "    }\n",
       "\n",
       "    .dataframe tbody tr th {\n",
       "        vertical-align: top;\n",
       "    }\n",
       "\n",
       "    .dataframe thead th {\n",
       "        text-align: right;\n",
       "    }\n",
       "</style>\n",
       "<table border=\"1\" class=\"dataframe\">\n",
       "  <thead>\n",
       "    <tr style=\"text-align: right;\">\n",
       "      <th></th>\n",
       "      <th>children</th>\n",
       "      <th>days_employed</th>\n",
       "      <th>dob_years</th>\n",
       "      <th>education</th>\n",
       "      <th>education_id</th>\n",
       "      <th>family_status</th>\n",
       "      <th>family_status_id</th>\n",
       "      <th>gender</th>\n",
       "      <th>income_type</th>\n",
       "      <th>debt</th>\n",
       "      <th>total_income</th>\n",
       "      <th>purpose</th>\n",
       "    </tr>\n",
       "  </thead>\n",
       "  <tbody>\n",
       "    <tr>\n",
       "      <td>0</td>\n",
       "      <td>1</td>\n",
       "      <td>-8437.673028</td>\n",
       "      <td>42</td>\n",
       "      <td>bachelor's degree</td>\n",
       "      <td>0</td>\n",
       "      <td>married</td>\n",
       "      <td>0</td>\n",
       "      <td>F</td>\n",
       "      <td>employee</td>\n",
       "      <td>0</td>\n",
       "      <td>40620.102</td>\n",
       "      <td>purchase of the house</td>\n",
       "    </tr>\n",
       "    <tr>\n",
       "      <td>1</td>\n",
       "      <td>1</td>\n",
       "      <td>-4024.803754</td>\n",
       "      <td>36</td>\n",
       "      <td>secondary education</td>\n",
       "      <td>1</td>\n",
       "      <td>married</td>\n",
       "      <td>0</td>\n",
       "      <td>F</td>\n",
       "      <td>employee</td>\n",
       "      <td>0</td>\n",
       "      <td>17932.802</td>\n",
       "      <td>car purchase</td>\n",
       "    </tr>\n",
       "    <tr>\n",
       "      <td>2</td>\n",
       "      <td>0</td>\n",
       "      <td>-5623.422610</td>\n",
       "      <td>33</td>\n",
       "      <td>Secondary Education</td>\n",
       "      <td>1</td>\n",
       "      <td>married</td>\n",
       "      <td>0</td>\n",
       "      <td>M</td>\n",
       "      <td>employee</td>\n",
       "      <td>0</td>\n",
       "      <td>23341.752</td>\n",
       "      <td>purchase of the house</td>\n",
       "    </tr>\n",
       "    <tr>\n",
       "      <td>3</td>\n",
       "      <td>3</td>\n",
       "      <td>-4124.747207</td>\n",
       "      <td>32</td>\n",
       "      <td>secondary education</td>\n",
       "      <td>1</td>\n",
       "      <td>married</td>\n",
       "      <td>0</td>\n",
       "      <td>M</td>\n",
       "      <td>employee</td>\n",
       "      <td>0</td>\n",
       "      <td>42820.568</td>\n",
       "      <td>supplementary education</td>\n",
       "    </tr>\n",
       "    <tr>\n",
       "      <td>4</td>\n",
       "      <td>0</td>\n",
       "      <td>340266.072047</td>\n",
       "      <td>53</td>\n",
       "      <td>secondary education</td>\n",
       "      <td>1</td>\n",
       "      <td>civil partnership</td>\n",
       "      <td>1</td>\n",
       "      <td>F</td>\n",
       "      <td>retiree</td>\n",
       "      <td>0</td>\n",
       "      <td>25378.572</td>\n",
       "      <td>to have a wedding</td>\n",
       "    </tr>\n",
       "    <tr>\n",
       "      <td>...</td>\n",
       "      <td>...</td>\n",
       "      <td>...</td>\n",
       "      <td>...</td>\n",
       "      <td>...</td>\n",
       "      <td>...</td>\n",
       "      <td>...</td>\n",
       "      <td>...</td>\n",
       "      <td>...</td>\n",
       "      <td>...</td>\n",
       "      <td>...</td>\n",
       "      <td>...</td>\n",
       "      <td>...</td>\n",
       "    </tr>\n",
       "    <tr>\n",
       "      <td>21520</td>\n",
       "      <td>1</td>\n",
       "      <td>-4529.316663</td>\n",
       "      <td>43</td>\n",
       "      <td>secondary education</td>\n",
       "      <td>1</td>\n",
       "      <td>civil partnership</td>\n",
       "      <td>1</td>\n",
       "      <td>F</td>\n",
       "      <td>business</td>\n",
       "      <td>0</td>\n",
       "      <td>35966.698</td>\n",
       "      <td>housing transactions</td>\n",
       "    </tr>\n",
       "    <tr>\n",
       "      <td>21521</td>\n",
       "      <td>0</td>\n",
       "      <td>343937.404131</td>\n",
       "      <td>67</td>\n",
       "      <td>secondary education</td>\n",
       "      <td>1</td>\n",
       "      <td>married</td>\n",
       "      <td>0</td>\n",
       "      <td>F</td>\n",
       "      <td>retiree</td>\n",
       "      <td>0</td>\n",
       "      <td>24959.969</td>\n",
       "      <td>purchase of a car</td>\n",
       "    </tr>\n",
       "    <tr>\n",
       "      <td>21522</td>\n",
       "      <td>1</td>\n",
       "      <td>-2113.346888</td>\n",
       "      <td>38</td>\n",
       "      <td>secondary education</td>\n",
       "      <td>1</td>\n",
       "      <td>civil partnership</td>\n",
       "      <td>1</td>\n",
       "      <td>M</td>\n",
       "      <td>employee</td>\n",
       "      <td>1</td>\n",
       "      <td>14347.610</td>\n",
       "      <td>property</td>\n",
       "    </tr>\n",
       "    <tr>\n",
       "      <td>21523</td>\n",
       "      <td>3</td>\n",
       "      <td>-3112.481705</td>\n",
       "      <td>38</td>\n",
       "      <td>secondary education</td>\n",
       "      <td>1</td>\n",
       "      <td>married</td>\n",
       "      <td>0</td>\n",
       "      <td>M</td>\n",
       "      <td>employee</td>\n",
       "      <td>1</td>\n",
       "      <td>39054.888</td>\n",
       "      <td>buying my own car</td>\n",
       "    </tr>\n",
       "    <tr>\n",
       "      <td>21524</td>\n",
       "      <td>2</td>\n",
       "      <td>-1984.507589</td>\n",
       "      <td>40</td>\n",
       "      <td>secondary education</td>\n",
       "      <td>1</td>\n",
       "      <td>married</td>\n",
       "      <td>0</td>\n",
       "      <td>F</td>\n",
       "      <td>employee</td>\n",
       "      <td>0</td>\n",
       "      <td>13127.587</td>\n",
       "      <td>to buy a car</td>\n",
       "    </tr>\n",
       "  </tbody>\n",
       "</table>\n",
       "<p>21525 rows × 12 columns</p>\n",
       "</div>"
      ],
      "text/plain": [
       "       children  days_employed  dob_years            education  education_id  \\\n",
       "0             1   -8437.673028         42    bachelor's degree             0   \n",
       "1             1   -4024.803754         36  secondary education             1   \n",
       "2             0   -5623.422610         33  Secondary Education             1   \n",
       "3             3   -4124.747207         32  secondary education             1   \n",
       "4             0  340266.072047         53  secondary education             1   \n",
       "...         ...            ...        ...                  ...           ...   \n",
       "21520         1   -4529.316663         43  secondary education             1   \n",
       "21521         0  343937.404131         67  secondary education             1   \n",
       "21522         1   -2113.346888         38  secondary education             1   \n",
       "21523         3   -3112.481705         38  secondary education             1   \n",
       "21524         2   -1984.507589         40  secondary education             1   \n",
       "\n",
       "           family_status  family_status_id gender income_type  debt  \\\n",
       "0                married                 0      F    employee     0   \n",
       "1                married                 0      F    employee     0   \n",
       "2                married                 0      M    employee     0   \n",
       "3                married                 0      M    employee     0   \n",
       "4      civil partnership                 1      F     retiree     0   \n",
       "...                  ...               ...    ...         ...   ...   \n",
       "21520  civil partnership                 1      F    business     0   \n",
       "21521            married                 0      F     retiree     0   \n",
       "21522  civil partnership                 1      M    employee     1   \n",
       "21523            married                 0      M    employee     1   \n",
       "21524            married                 0      F    employee     0   \n",
       "\n",
       "       total_income                  purpose  \n",
       "0         40620.102    purchase of the house  \n",
       "1         17932.802             car purchase  \n",
       "2         23341.752    purchase of the house  \n",
       "3         42820.568  supplementary education  \n",
       "4         25378.572        to have a wedding  \n",
       "...             ...                      ...  \n",
       "21520     35966.698     housing transactions  \n",
       "21521     24959.969        purchase of a car  \n",
       "21522     14347.610                 property  \n",
       "21523     39054.888        buying my own car  \n",
       "21524     13127.587             to buy a car  \n",
       "\n",
       "[21525 rows x 12 columns]"
      ]
     },
     "execution_count": 103,
     "metadata": {},
     "output_type": "execute_result"
    }
   ],
   "source": [
    "# Loading all the libraries\n",
    "import pandas as pd\n",
    "\n",
    "\n",
    "# Load the data\n",
    "bank_data = pd.read_csv('/datasets/credit_scoring_eng.csv')\n",
    "bank_data"
   ]
  },
  {
   "cell_type": "markdown",
   "metadata": {},
   "source": [
    "<div class=\"alert alert-success\" style=\"box-shadow: 4px 4px 4px\">\n",
    "<b>Success:</b> 👍\n",
    "</div>"
   ]
  },
  {
   "cell_type": "code",
   "execution_count": 104,
   "metadata": {
    "scrolled": true
   },
   "outputs": [
    {
     "data": {
      "text/html": [
       "<div>\n",
       "<style scoped>\n",
       "    .dataframe tbody tr th:only-of-type {\n",
       "        vertical-align: middle;\n",
       "    }\n",
       "\n",
       "    .dataframe tbody tr th {\n",
       "        vertical-align: top;\n",
       "    }\n",
       "\n",
       "    .dataframe thead th {\n",
       "        text-align: right;\n",
       "    }\n",
       "</style>\n",
       "<table border=\"1\" class=\"dataframe\">\n",
       "  <thead>\n",
       "    <tr style=\"text-align: right;\">\n",
       "      <th></th>\n",
       "      <th>children</th>\n",
       "      <th>days_employed</th>\n",
       "      <th>dob_years</th>\n",
       "      <th>education</th>\n",
       "      <th>education_id</th>\n",
       "      <th>family_status</th>\n",
       "      <th>family_status_id</th>\n",
       "      <th>gender</th>\n",
       "      <th>income_type</th>\n",
       "      <th>debt</th>\n",
       "      <th>total_income</th>\n",
       "      <th>purpose</th>\n",
       "    </tr>\n",
       "  </thead>\n",
       "  <tbody>\n",
       "    <tr>\n",
       "      <td>0</td>\n",
       "      <td>1</td>\n",
       "      <td>-8437.673028</td>\n",
       "      <td>42</td>\n",
       "      <td>bachelor's degree</td>\n",
       "      <td>0</td>\n",
       "      <td>married</td>\n",
       "      <td>0</td>\n",
       "      <td>F</td>\n",
       "      <td>employee</td>\n",
       "      <td>0</td>\n",
       "      <td>40620.102</td>\n",
       "      <td>purchase of the house</td>\n",
       "    </tr>\n",
       "    <tr>\n",
       "      <td>1</td>\n",
       "      <td>1</td>\n",
       "      <td>-4024.803754</td>\n",
       "      <td>36</td>\n",
       "      <td>secondary education</td>\n",
       "      <td>1</td>\n",
       "      <td>married</td>\n",
       "      <td>0</td>\n",
       "      <td>F</td>\n",
       "      <td>employee</td>\n",
       "      <td>0</td>\n",
       "      <td>17932.802</td>\n",
       "      <td>car purchase</td>\n",
       "    </tr>\n",
       "    <tr>\n",
       "      <td>2</td>\n",
       "      <td>0</td>\n",
       "      <td>-5623.422610</td>\n",
       "      <td>33</td>\n",
       "      <td>Secondary Education</td>\n",
       "      <td>1</td>\n",
       "      <td>married</td>\n",
       "      <td>0</td>\n",
       "      <td>M</td>\n",
       "      <td>employee</td>\n",
       "      <td>0</td>\n",
       "      <td>23341.752</td>\n",
       "      <td>purchase of the house</td>\n",
       "    </tr>\n",
       "    <tr>\n",
       "      <td>3</td>\n",
       "      <td>3</td>\n",
       "      <td>-4124.747207</td>\n",
       "      <td>32</td>\n",
       "      <td>secondary education</td>\n",
       "      <td>1</td>\n",
       "      <td>married</td>\n",
       "      <td>0</td>\n",
       "      <td>M</td>\n",
       "      <td>employee</td>\n",
       "      <td>0</td>\n",
       "      <td>42820.568</td>\n",
       "      <td>supplementary education</td>\n",
       "    </tr>\n",
       "    <tr>\n",
       "      <td>4</td>\n",
       "      <td>0</td>\n",
       "      <td>340266.072047</td>\n",
       "      <td>53</td>\n",
       "      <td>secondary education</td>\n",
       "      <td>1</td>\n",
       "      <td>civil partnership</td>\n",
       "      <td>1</td>\n",
       "      <td>F</td>\n",
       "      <td>retiree</td>\n",
       "      <td>0</td>\n",
       "      <td>25378.572</td>\n",
       "      <td>to have a wedding</td>\n",
       "    </tr>\n",
       "  </tbody>\n",
       "</table>\n",
       "</div>"
      ],
      "text/plain": [
       "   children  days_employed  dob_years            education  education_id  \\\n",
       "0         1   -8437.673028         42    bachelor's degree             0   \n",
       "1         1   -4024.803754         36  secondary education             1   \n",
       "2         0   -5623.422610         33  Secondary Education             1   \n",
       "3         3   -4124.747207         32  secondary education             1   \n",
       "4         0  340266.072047         53  secondary education             1   \n",
       "\n",
       "       family_status  family_status_id gender income_type  debt  total_income  \\\n",
       "0            married                 0      F    employee     0     40620.102   \n",
       "1            married                 0      F    employee     0     17932.802   \n",
       "2            married                 0      M    employee     0     23341.752   \n",
       "3            married                 0      M    employee     0     42820.568   \n",
       "4  civil partnership                 1      F     retiree     0     25378.572   \n",
       "\n",
       "                   purpose  \n",
       "0    purchase of the house  \n",
       "1             car purchase  \n",
       "2    purchase of the house  \n",
       "3  supplementary education  \n",
       "4        to have a wedding  "
      ]
     },
     "execution_count": 104,
     "metadata": {},
     "output_type": "execute_result"
    }
   ],
   "source": [
    "# let's print the first N rows\n",
    "bank_data.head()\n"
   ]
  },
  {
   "cell_type": "markdown",
   "metadata": {},
   "source": [
    "<div class=\"alert alert-warning\" style=\"box-shadow: 4px 4px 4px\">\n",
    "<b>Remarks:</b>  <s> There's no need to use print(). df.head() will be enough </s>\n",
    "</div>"
   ]
  },
  {
   "cell_type": "markdown",
   "metadata": {},
   "source": [
    "[Describe what you see and notice in your printed data sample. Are there any issues that may need further investigation and changes?]\n",
    "\n",
    "Days of employed has wrong values and need to be investigate.\n"
   ]
  },
  {
   "cell_type": "code",
   "execution_count": 105,
   "metadata": {
    "scrolled": true
   },
   "outputs": [
    {
     "name": "stdout",
     "output_type": "stream",
     "text": [
      "<class 'pandas.core.frame.DataFrame'>\n",
      "RangeIndex: 21525 entries, 0 to 21524\n",
      "Data columns (total 12 columns):\n",
      "children            21525 non-null int64\n",
      "days_employed       19351 non-null float64\n",
      "dob_years           21525 non-null int64\n",
      "education           21525 non-null object\n",
      "education_id        21525 non-null int64\n",
      "family_status       21525 non-null object\n",
      "family_status_id    21525 non-null int64\n",
      "gender              21525 non-null object\n",
      "income_type         21525 non-null object\n",
      "debt                21525 non-null int64\n",
      "total_income        19351 non-null float64\n",
      "purpose             21525 non-null object\n",
      "dtypes: float64(2), int64(5), object(5)\n",
      "memory usage: 2.0+ MB\n"
     ]
    }
   ],
   "source": [
    "# Get info on data\n",
    "bank_data.info()\n"
   ]
  },
  {
   "cell_type": "markdown",
   "metadata": {},
   "source": [
    "I can see that there is a missing values in couple of columns,\n",
    "there's a bit more then 2k missing value from what i see.."
   ]
  },
  {
   "cell_type": "markdown",
   "metadata": {},
   "source": [
    "<div class=\"alert alert-success\" style=\"box-shadow: 4px 4px 4px\">\n",
    "<b>Success:</b> You're right! You can either use the .describe() method to see what data is in the dataset\n",
    "</div>"
   ]
  },
  {
   "cell_type": "code",
   "execution_count": 106,
   "metadata": {
    "scrolled": true
   },
   "outputs": [
    {
     "data": {
      "text/html": [
       "<div>\n",
       "<style scoped>\n",
       "    .dataframe tbody tr th:only-of-type {\n",
       "        vertical-align: middle;\n",
       "    }\n",
       "\n",
       "    .dataframe tbody tr th {\n",
       "        vertical-align: top;\n",
       "    }\n",
       "\n",
       "    .dataframe thead th {\n",
       "        text-align: right;\n",
       "    }\n",
       "</style>\n",
       "<table border=\"1\" class=\"dataframe\">\n",
       "  <thead>\n",
       "    <tr style=\"text-align: right;\">\n",
       "      <th></th>\n",
       "      <th>children</th>\n",
       "      <th>days_employed</th>\n",
       "      <th>dob_years</th>\n",
       "      <th>education</th>\n",
       "      <th>education_id</th>\n",
       "      <th>family_status</th>\n",
       "      <th>family_status_id</th>\n",
       "      <th>gender</th>\n",
       "      <th>income_type</th>\n",
       "      <th>debt</th>\n",
       "      <th>total_income</th>\n",
       "      <th>purpose</th>\n",
       "    </tr>\n",
       "  </thead>\n",
       "  <tbody>\n",
       "    <tr>\n",
       "      <td>12</td>\n",
       "      <td>0</td>\n",
       "      <td>NaN</td>\n",
       "      <td>65</td>\n",
       "      <td>secondary education</td>\n",
       "      <td>1</td>\n",
       "      <td>civil partnership</td>\n",
       "      <td>1</td>\n",
       "      <td>M</td>\n",
       "      <td>retiree</td>\n",
       "      <td>0</td>\n",
       "      <td>NaN</td>\n",
       "      <td>to have a wedding</td>\n",
       "    </tr>\n",
       "    <tr>\n",
       "      <td>26</td>\n",
       "      <td>0</td>\n",
       "      <td>NaN</td>\n",
       "      <td>41</td>\n",
       "      <td>secondary education</td>\n",
       "      <td>1</td>\n",
       "      <td>married</td>\n",
       "      <td>0</td>\n",
       "      <td>M</td>\n",
       "      <td>civil servant</td>\n",
       "      <td>0</td>\n",
       "      <td>NaN</td>\n",
       "      <td>education</td>\n",
       "    </tr>\n",
       "    <tr>\n",
       "      <td>29</td>\n",
       "      <td>0</td>\n",
       "      <td>NaN</td>\n",
       "      <td>63</td>\n",
       "      <td>secondary education</td>\n",
       "      <td>1</td>\n",
       "      <td>unmarried</td>\n",
       "      <td>4</td>\n",
       "      <td>F</td>\n",
       "      <td>retiree</td>\n",
       "      <td>0</td>\n",
       "      <td>NaN</td>\n",
       "      <td>building a real estate</td>\n",
       "    </tr>\n",
       "    <tr>\n",
       "      <td>41</td>\n",
       "      <td>0</td>\n",
       "      <td>NaN</td>\n",
       "      <td>50</td>\n",
       "      <td>secondary education</td>\n",
       "      <td>1</td>\n",
       "      <td>married</td>\n",
       "      <td>0</td>\n",
       "      <td>F</td>\n",
       "      <td>civil servant</td>\n",
       "      <td>0</td>\n",
       "      <td>NaN</td>\n",
       "      <td>second-hand car purchase</td>\n",
       "    </tr>\n",
       "    <tr>\n",
       "      <td>55</td>\n",
       "      <td>0</td>\n",
       "      <td>NaN</td>\n",
       "      <td>54</td>\n",
       "      <td>secondary education</td>\n",
       "      <td>1</td>\n",
       "      <td>civil partnership</td>\n",
       "      <td>1</td>\n",
       "      <td>F</td>\n",
       "      <td>retiree</td>\n",
       "      <td>1</td>\n",
       "      <td>NaN</td>\n",
       "      <td>to have a wedding</td>\n",
       "    </tr>\n",
       "    <tr>\n",
       "      <td>...</td>\n",
       "      <td>...</td>\n",
       "      <td>...</td>\n",
       "      <td>...</td>\n",
       "      <td>...</td>\n",
       "      <td>...</td>\n",
       "      <td>...</td>\n",
       "      <td>...</td>\n",
       "      <td>...</td>\n",
       "      <td>...</td>\n",
       "      <td>...</td>\n",
       "      <td>...</td>\n",
       "      <td>...</td>\n",
       "    </tr>\n",
       "    <tr>\n",
       "      <td>21489</td>\n",
       "      <td>2</td>\n",
       "      <td>NaN</td>\n",
       "      <td>47</td>\n",
       "      <td>Secondary Education</td>\n",
       "      <td>1</td>\n",
       "      <td>married</td>\n",
       "      <td>0</td>\n",
       "      <td>M</td>\n",
       "      <td>business</td>\n",
       "      <td>0</td>\n",
       "      <td>NaN</td>\n",
       "      <td>purchase of a car</td>\n",
       "    </tr>\n",
       "    <tr>\n",
       "      <td>21495</td>\n",
       "      <td>1</td>\n",
       "      <td>NaN</td>\n",
       "      <td>50</td>\n",
       "      <td>secondary education</td>\n",
       "      <td>1</td>\n",
       "      <td>civil partnership</td>\n",
       "      <td>1</td>\n",
       "      <td>F</td>\n",
       "      <td>employee</td>\n",
       "      <td>0</td>\n",
       "      <td>NaN</td>\n",
       "      <td>wedding ceremony</td>\n",
       "    </tr>\n",
       "    <tr>\n",
       "      <td>21497</td>\n",
       "      <td>0</td>\n",
       "      <td>NaN</td>\n",
       "      <td>48</td>\n",
       "      <td>BACHELOR'S DEGREE</td>\n",
       "      <td>0</td>\n",
       "      <td>married</td>\n",
       "      <td>0</td>\n",
       "      <td>F</td>\n",
       "      <td>business</td>\n",
       "      <td>0</td>\n",
       "      <td>NaN</td>\n",
       "      <td>building a property</td>\n",
       "    </tr>\n",
       "    <tr>\n",
       "      <td>21502</td>\n",
       "      <td>1</td>\n",
       "      <td>NaN</td>\n",
       "      <td>42</td>\n",
       "      <td>secondary education</td>\n",
       "      <td>1</td>\n",
       "      <td>married</td>\n",
       "      <td>0</td>\n",
       "      <td>F</td>\n",
       "      <td>employee</td>\n",
       "      <td>0</td>\n",
       "      <td>NaN</td>\n",
       "      <td>building a real estate</td>\n",
       "    </tr>\n",
       "    <tr>\n",
       "      <td>21510</td>\n",
       "      <td>2</td>\n",
       "      <td>NaN</td>\n",
       "      <td>28</td>\n",
       "      <td>secondary education</td>\n",
       "      <td>1</td>\n",
       "      <td>married</td>\n",
       "      <td>0</td>\n",
       "      <td>F</td>\n",
       "      <td>employee</td>\n",
       "      <td>0</td>\n",
       "      <td>NaN</td>\n",
       "      <td>car purchase</td>\n",
       "    </tr>\n",
       "  </tbody>\n",
       "</table>\n",
       "<p>2174 rows × 12 columns</p>\n",
       "</div>"
      ],
      "text/plain": [
       "       children  days_employed  dob_years            education  education_id  \\\n",
       "12            0            NaN         65  secondary education             1   \n",
       "26            0            NaN         41  secondary education             1   \n",
       "29            0            NaN         63  secondary education             1   \n",
       "41            0            NaN         50  secondary education             1   \n",
       "55            0            NaN         54  secondary education             1   \n",
       "...         ...            ...        ...                  ...           ...   \n",
       "21489         2            NaN         47  Secondary Education             1   \n",
       "21495         1            NaN         50  secondary education             1   \n",
       "21497         0            NaN         48    BACHELOR'S DEGREE             0   \n",
       "21502         1            NaN         42  secondary education             1   \n",
       "21510         2            NaN         28  secondary education             1   \n",
       "\n",
       "           family_status  family_status_id gender    income_type  debt  \\\n",
       "12     civil partnership                 1      M        retiree     0   \n",
       "26               married                 0      M  civil servant     0   \n",
       "29             unmarried                 4      F        retiree     0   \n",
       "41               married                 0      F  civil servant     0   \n",
       "55     civil partnership                 1      F        retiree     1   \n",
       "...                  ...               ...    ...            ...   ...   \n",
       "21489            married                 0      M       business     0   \n",
       "21495  civil partnership                 1      F       employee     0   \n",
       "21497            married                 0      F       business     0   \n",
       "21502            married                 0      F       employee     0   \n",
       "21510            married                 0      F       employee     0   \n",
       "\n",
       "       total_income                   purpose  \n",
       "12              NaN         to have a wedding  \n",
       "26              NaN                 education  \n",
       "29              NaN    building a real estate  \n",
       "41              NaN  second-hand car purchase  \n",
       "55              NaN         to have a wedding  \n",
       "...             ...                       ...  \n",
       "21489           NaN         purchase of a car  \n",
       "21495           NaN          wedding ceremony  \n",
       "21497           NaN       building a property  \n",
       "21502           NaN    building a real estate  \n",
       "21510           NaN              car purchase  \n",
       "\n",
       "[2174 rows x 12 columns]"
      ]
     },
     "execution_count": 106,
     "metadata": {},
     "output_type": "execute_result"
    }
   ],
   "source": [
    "# Let's look at the filtered table with missing values in the the first column with missing data\n",
    "bank_data[bank_data.loc[:, 'days_employed'].isna()]\n",
    "\n"
   ]
  },
  {
   "cell_type": "markdown",
   "metadata": {},
   "source": [
    "The missing values does seem symmetrc.\n",
    "In order to approve this there is need to invetigate the missing value in 'total_income' column.\n",
    "In my opinion the 'total_income' column is depanding on the 'days_employed' and that why we are missing values on both\n",
    "columns, and it probably the same number of missing values."
   ]
  },
  {
   "cell_type": "markdown",
   "metadata": {},
   "source": [
    "<div class=\"alert alert-success\" style=\"box-shadow: 4px 4px 4px\">\n",
    "<b>Success:</b> Maybe\n",
    "</div>"
   ]
  },
  {
   "cell_type": "code",
   "execution_count": 107,
   "metadata": {},
   "outputs": [
    {
     "data": {
      "text/plain": [
       "2174"
      ]
     },
     "execution_count": 107,
     "metadata": {},
     "output_type": "execute_result"
    }
   ],
   "source": [
    "# Let's apply multiple conditions for filtering data and look at the number of rows in the filtered table.\n",
    "len(bank_data[(bank_data.loc[:, 'total_income'].isna()) & (bank_data.loc[:, 'days_employed'].isna())])"
   ]
  },
  {
   "cell_type": "markdown",
   "metadata": {},
   "source": [
    "**Intermediate conclusion**\n",
    "The number matchs the number of the missing values,\n",
    "thus our asumption was right!\n",
    "[Calculate the percentage of the missing values compared to the whole dataset. Is it a considerably large piece of data? If so, you may want to fill the missing values. To do that, firstly we should consider whether the missing data could be due to the specific client characteristic, such as employment type or something else. You will need to decide which characteristic *you* think might be the reason. Secondly, we should check whether there's any dependence missing values have on the value of other indicators with the columns with identified specific client characteristic.]\n",
    "\n",
    "[Explain your next steps and how they correlate with the conclusions you made so far.]\n",
    "The next step is to check whether the part of the missing values is big or not.\n",
    "If it is then I'll fill up the missing values, in order to do that I'll try to find out what is the reason\n",
    "for the missing values, is it as a result of other columns?.."
   ]
  },
  {
   "cell_type": "code",
   "execution_count": 108,
   "metadata": {},
   "outputs": [
    {
     "name": "stdout",
     "output_type": "stream",
     "text": [
      "      income_type  debt\n",
      "82       employee     0\n",
      "83       employee     0\n",
      "90       employee     0\n",
      "96       employee     0\n",
      "97       employee     0\n",
      "...           ...   ...\n",
      "21432    employee     0\n",
      "21463    employee     0\n",
      "21495    employee     0\n",
      "21502    employee     0\n",
      "21510    employee     0\n",
      "\n",
      "[1007 rows x 2 columns]\n",
      "The number of missing values and the column with value \"0\" is: 1105 and it seems the number of row dont match to number of rows at the previuos table thus not all values are \"0\"\n"
     ]
    }
   ],
   "source": [
    "# Let's investigate clients who do not have data on identified characteristic and the column with the missing values\n",
    "print(bank_data.loc[(bank_data.loc[:, 'income_type'] == 'employee') & (bank_data.loc[:, 'days_employed'].isnull()) & (bank_data.loc[:, 'debt'] == 0), ['income_type', 'debt']])\n",
    "print('The number of missing values and the column with value \"0\" is: {:} and it seems the number of row dont match to number of rows at the previuos table thus not all values are \"0\"'.format(len(bank_data.loc[(bank_data.loc[:, 'income_type'] == 'employee') & (bank_data.loc[:, 'days_employed'].isnull()),  ['income_type', 'debt']])))\n",
    "             "
   ]
  },
  {
   "cell_type": "markdown",
   "metadata": {},
   "source": [
    "<div class=\"alert alert-success\" style=\"box-shadow: 4px 4px 4px\">\n",
    "<b>Success:</b> \n",
    "Good point!To find out the number of rows and columns in df, you can use the <a href=\"https://pandas.pydata.org/pandas-docs/stable/reference/api/pandas.DataFrame.shape.html\">.shape()</a>. It will be df.shape[0] for rows and df.shape[1] for columns\n",
    "</div>"
   ]
  },
  {
   "cell_type": "code",
   "execution_count": 109,
   "metadata": {},
   "outputs": [
    {
     "name": "stdout",
     "output_type": "stream",
     "text": [
      "51%\n"
     ]
    },
    {
     "data": {
      "text/plain": [
       "children            1105\n",
       "days_employed          0\n",
       "dob_years           1105\n",
       "education           1105\n",
       "education_id        1105\n",
       "family_status       1105\n",
       "family_status_id    1105\n",
       "gender              1105\n",
       "income_type         1105\n",
       "debt                1105\n",
       "total_income           0\n",
       "purpose             1105\n",
       "dtype: int64"
      ]
     },
     "execution_count": 109,
     "metadata": {},
     "output_type": "execute_result"
    }
   ],
   "source": [
    "# Checking distribution\n",
    "print('{:.0%}'.format(len(bank_data.loc[(bank_data.loc[:, 'income_type'] == 'employee') & (bank_data.loc[:, 'days_employed'].isnull()),  ['income_type', 'debt']])/len(bank_data[(bank_data.loc[:, 'total_income'].isna()) & (bank_data.loc[:, 'days_employed'].isna())])))\n",
    "bank_data[(bank_data.loc[:, 'income_type'] == 'employee') & (bank_data.loc[:, 'days_employed'].isnull())].count()"
   ]
  },
  {
   "cell_type": "markdown",
   "metadata": {},
   "source": [
    "[Describe your findings here.]\n",
    "There's no connection between the missing values to other columns etc the one's with identified characteristic\n",
    "but there is a pattern.\n",
    "**Possible reasons for missing values in data**\n",
    "\n",
    "[Propose your ideas on why you think the values might be missing. Do you think they are missing randomly or there are any patterns?]\n",
    "\n",
    "I think there is a pattern which is the reason for the missing values.\n",
    "Mayebe there is a column missing which give us a more informtion to calculate the total income.\n",
    "\n",
    "[Let's start checking whether the missing values are random.]"
   ]
  },
  {
   "cell_type": "code",
   "execution_count": 110,
   "metadata": {},
   "outputs": [
    {
     "name": "stdout",
     "output_type": "stream",
     "text": [
      "5%\n"
     ]
    },
    {
     "data": {
      "text/plain": [
       "children            21525\n",
       "days_employed       19351\n",
       "dob_years           21525\n",
       "education           21525\n",
       "education_id        21525\n",
       "family_status       21525\n",
       "family_status_id    21525\n",
       "gender              21525\n",
       "income_type         21525\n",
       "debt                21525\n",
       "total_income        19351\n",
       "purpose             21525\n",
       "dtype: int64"
      ]
     },
     "execution_count": 110,
     "metadata": {},
     "output_type": "execute_result"
    }
   ],
   "source": [
    "# Checking the distribution in the whole dataset\n",
    "print('{:.0%}'.format(len(bank_data.loc[(bank_data.loc[:, 'income_type'] == 'employee') & (bank_data.loc[:, 'days_employed'].isnull()),  ['income_type', 'debt']])/len(bank_data)))\n",
    "bank_data.count()                                                                                                                                         "
   ]
  },
  {
   "cell_type": "markdown",
   "metadata": {},
   "source": [
    "**Intermediate conclusion**\n",
    "\n",
    "[Is the distribution in the original dataset similar to the distribution of the filtered table? What does that mean for us?]\n",
    "No,that mean that the distribution of the filtered dataset is showing the half of the missing data are employeel.   \n",
    "[If you think we can't make any conclusions yet, let's investigate our dataset further. Let's think about other reasons that could lead to data missing and check if we can find any patterns that may lead us to thinking that the missing values are not random. Because this is your work, this is section is optional.]"
   ]
  },
  {
   "cell_type": "code",
   "execution_count": 111,
   "metadata": {},
   "outputs": [
    {
     "data": {
      "text/plain": [
       "2004"
      ]
     },
     "execution_count": 111,
     "metadata": {},
     "output_type": "execute_result"
    }
   ],
   "source": [
    "# Check for other reasons and patterns that could lead to missing values\n",
    "bank_data.loc[(bank_data.loc[:, 'days_employed'].isnull()) & (bank_data.loc[:, 'debt'] == 0), 'debt'].count()"
   ]
  },
  {
   "cell_type": "markdown",
   "metadata": {},
   "source": [
    "**Intermediate conclusion**\n",
    "\n",
    "[Can we finally confirm that missing values are accidental? Check for anything else that you think might be important here.]"
   ]
  },
  {
   "cell_type": "code",
   "execution_count": 112,
   "metadata": {
    "scrolled": true
   },
   "outputs": [
    {
     "data": {
      "text/plain": [
       "2      95\n",
       "3     112\n",
       "4     288\n",
       "1     442\n",
       "0    1237\n",
       "Name: family_status_id, dtype: int64"
      ]
     },
     "execution_count": 112,
     "metadata": {},
     "output_type": "execute_result"
    }
   ],
   "source": [
    "# Checking for other patterns - explain which\n",
    "bank_data.loc[bank_data.loc[: , 'days_employed'].isna(), 'family_status_id'].value_counts().sort_values()"
   ]
  },
  {
   "cell_type": "markdown",
   "metadata": {},
   "source": [
    "**Conclusions**\n",
    "\n",
    "[Did you find any patterns? How did you come to this conclusion?]\n",
    "There is some kind of pattern,\n",
    "We can see that most of the missing value derive from wokrer which are employee and married.\n",
    "Furthermore the missing value are mostly from people who are defaulted on loan. \n",
    "[Explain how you will address the missing values. Consider the categories in which values are missing.]\n",
    "It time to fill the missing values, likewise the \"total_income\" and \"days_employed\" column can be filled with median value of the other rows.\n",
    "\n",
    "[Briefly plan your next steps for transforming data. You will probably need to address different types of issues: duplicates, different registers, incorrect artifacts, and missing values.]\n"
   ]
  },
  {
   "cell_type": "markdown",
   "metadata": {},
   "source": [
    "## Data transformation\n",
    "\n",
    "[Let's go through each column to see what issues we may have in them.]\n",
    "\n",
    "[Begin with removing duplicates and fixing educational information if required.]"
   ]
  },
  {
   "cell_type": "code",
   "execution_count": 113,
   "metadata": {},
   "outputs": [
    {
     "data": {
      "text/plain": [
       "0          bachelor's degree\n",
       "1        secondary education\n",
       "2        Secondary Education\n",
       "3        secondary education\n",
       "4        secondary education\n",
       "                ...         \n",
       "21520    secondary education\n",
       "21521    secondary education\n",
       "21522    secondary education\n",
       "21523    secondary education\n",
       "21524    secondary education\n",
       "Name: education, Length: 21525, dtype: object"
      ]
     },
     "execution_count": 113,
     "metadata": {},
     "output_type": "execute_result"
    }
   ],
   "source": [
    "# Let's see all values in education column to check if and what spellings will need to be fixed\n",
    "bank_data.loc[:, 'education']\n"
   ]
  },
  {
   "cell_type": "code",
   "execution_count": 114,
   "metadata": {
    "scrolled": true
   },
   "outputs": [],
   "source": [
    "# Fix the registers if required\n",
    "bank_data['education'] = bank_data.loc[:, 'education'].str.lower()"
   ]
  },
  {
   "cell_type": "code",
   "execution_count": 115,
   "metadata": {},
   "outputs": [
    {
     "data": {
      "text/plain": [
       "secondary education    15233\n",
       "bachelor's degree       5260\n",
       "some college             744\n",
       "primary education        282\n",
       "graduate degree            6\n",
       "Name: education, dtype: int64"
      ]
     },
     "execution_count": 115,
     "metadata": {},
     "output_type": "execute_result"
    }
   ],
   "source": [
    "# Checking all the values in the column to make sure we fixed them\n",
    "bank_data['education'].value_counts()"
   ]
  },
  {
   "cell_type": "markdown",
   "metadata": {},
   "source": [
    "[Check the data the `children` column]"
   ]
  },
  {
   "cell_type": "code",
   "execution_count": 116,
   "metadata": {},
   "outputs": [
    {
     "data": {
      "text/plain": [
       " 0     14149\n",
       " 1      4818\n",
       " 2      2055\n",
       " 3       330\n",
       " 20       76\n",
       "-1        47\n",
       " 4        41\n",
       " 5         9\n",
       "Name: children, dtype: int64"
      ]
     },
     "execution_count": 116,
     "metadata": {},
     "output_type": "execute_result"
    }
   ],
   "source": [
    "# Let's see the distribution of values in the `children` column\n",
    "bank_data['children'].value_counts()"
   ]
  },
  {
   "cell_type": "markdown",
   "metadata": {},
   "source": [
    "[Are there any strange things in the column? If yes, how high is the percentage of problematic data? How could they have occurred? Make a decision on what you will do with this data and explain you reasoning.]\n",
    "There is some strange values such has -1 children which doesnt make sense and 20 children obviousley ridiculouse.\n",
    "I will change the number of children to 'Unknown' beacaus i cant know exactly the number of children ment to be writen."
   ]
  },
  {
   "cell_type": "code",
   "execution_count": 120,
   "metadata": {},
   "outputs": [],
   "source": [
    "# [fix the data based on your decision]\n",
    "bank_data[(bank_data.loc[:, 'children'] == 20) | (bank_data.loc[:, 'children'] == -1)] = bank_data[(bank_data.loc[:, 'children'] == 20) | (bank_data.loc[:, 'children'] == -1)].fillna(value='Unknown', inplace=True)"
   ]
  },
  {
   "cell_type": "code",
   "execution_count": 121,
   "metadata": {},
   "outputs": [
    {
     "data": {
      "text/plain": [
       "0.0    14149\n",
       "1.0     4818\n",
       "2.0     2055\n",
       "3.0      330\n",
       "4.0       41\n",
       "5.0        9\n",
       "Name: children, dtype: int64"
      ]
     },
     "execution_count": 121,
     "metadata": {},
     "output_type": "execute_result"
    }
   ],
   "source": [
    "# Checking the `children` column again to make sure it's all fixed\n",
    "bank_data['children'].value_counts()\n"
   ]
  },
  {
   "cell_type": "markdown",
   "metadata": {},
   "source": [
    "<div class=\"alert alert-success\" style=\"box-shadow: 4px 4px 4px\">\n",
    "<b>Success:</b> Nice approach. Such gaps in the data can be typos (for example -1 -> 1 or 20 -> 2)\n",
    "</div>\n"
   ]
  },
  {
   "cell_type": "markdown",
   "metadata": {},
   "source": [
    "[Check the data in the `days_employed` column. Firstly think about what kind of issues could there be and what you may want to check and how you will do it.]"
   ]
  },
  {
   "cell_type": "code",
   "execution_count": 122,
   "metadata": {},
   "outputs": [
    {
     "name": "stdout",
     "output_type": "stream",
     "text": [
      "73.444832%\n"
     ]
    }
   ],
   "source": [
    "# Find problematic data in `days_employed`, if they exist, and calculate the percentage\n",
    "print('{:%}'.format(len(bank_data[bank_data['days_employed'] < 0])/ len(bank_data)))"
   ]
  },
  {
   "cell_type": "markdown",
   "metadata": {},
   "source": [
    "[If the amount of problematic data is high, it could've been due to some technical issues. We may probably want to propose the most obvious reason why it could've happened and what the correct data might've been, as we can't drop these problematic rows.]"
   ]
  },
  {
   "cell_type": "code",
   "execution_count": 126,
   "metadata": {},
   "outputs": [
    {
     "data": {
      "text/html": [
       "<div>\n",
       "<style scoped>\n",
       "    .dataframe tbody tr th:only-of-type {\n",
       "        vertical-align: middle;\n",
       "    }\n",
       "\n",
       "    .dataframe tbody tr th {\n",
       "        vertical-align: top;\n",
       "    }\n",
       "\n",
       "    .dataframe thead th {\n",
       "        text-align: right;\n",
       "    }\n",
       "</style>\n",
       "<table border=\"1\" class=\"dataframe\">\n",
       "  <thead>\n",
       "    <tr style=\"text-align: right;\">\n",
       "      <th></th>\n",
       "      <th>children</th>\n",
       "      <th>days_employed</th>\n",
       "      <th>dob_years</th>\n",
       "      <th>education</th>\n",
       "      <th>education_id</th>\n",
       "      <th>family_status</th>\n",
       "      <th>family_status_id</th>\n",
       "      <th>gender</th>\n",
       "      <th>income_type</th>\n",
       "      <th>debt</th>\n",
       "      <th>total_income</th>\n",
       "      <th>purpose</th>\n",
       "    </tr>\n",
       "  </thead>\n",
       "  <tbody>\n",
       "    <tr>\n",
       "      <td>0</td>\n",
       "      <td>1.0</td>\n",
       "      <td>8437.673028</td>\n",
       "      <td>42.0</td>\n",
       "      <td>bachelor's degree</td>\n",
       "      <td>0.0</td>\n",
       "      <td>married</td>\n",
       "      <td>0.0</td>\n",
       "      <td>F</td>\n",
       "      <td>employee</td>\n",
       "      <td>0.0</td>\n",
       "      <td>40620.102</td>\n",
       "      <td>purchase of the house</td>\n",
       "    </tr>\n",
       "    <tr>\n",
       "      <td>1</td>\n",
       "      <td>1.0</td>\n",
       "      <td>4024.803754</td>\n",
       "      <td>36.0</td>\n",
       "      <td>secondary education</td>\n",
       "      <td>1.0</td>\n",
       "      <td>married</td>\n",
       "      <td>0.0</td>\n",
       "      <td>F</td>\n",
       "      <td>employee</td>\n",
       "      <td>0.0</td>\n",
       "      <td>17932.802</td>\n",
       "      <td>car purchase</td>\n",
       "    </tr>\n",
       "    <tr>\n",
       "      <td>2</td>\n",
       "      <td>0.0</td>\n",
       "      <td>5623.422610</td>\n",
       "      <td>33.0</td>\n",
       "      <td>secondary education</td>\n",
       "      <td>1.0</td>\n",
       "      <td>married</td>\n",
       "      <td>0.0</td>\n",
       "      <td>M</td>\n",
       "      <td>employee</td>\n",
       "      <td>0.0</td>\n",
       "      <td>23341.752</td>\n",
       "      <td>purchase of the house</td>\n",
       "    </tr>\n",
       "    <tr>\n",
       "      <td>3</td>\n",
       "      <td>3.0</td>\n",
       "      <td>4124.747207</td>\n",
       "      <td>32.0</td>\n",
       "      <td>secondary education</td>\n",
       "      <td>1.0</td>\n",
       "      <td>married</td>\n",
       "      <td>0.0</td>\n",
       "      <td>M</td>\n",
       "      <td>employee</td>\n",
       "      <td>0.0</td>\n",
       "      <td>42820.568</td>\n",
       "      <td>supplementary education</td>\n",
       "    </tr>\n",
       "    <tr>\n",
       "      <td>4</td>\n",
       "      <td>0.0</td>\n",
       "      <td>340266.072047</td>\n",
       "      <td>53.0</td>\n",
       "      <td>secondary education</td>\n",
       "      <td>1.0</td>\n",
       "      <td>civil partnership</td>\n",
       "      <td>1.0</td>\n",
       "      <td>F</td>\n",
       "      <td>retiree</td>\n",
       "      <td>0.0</td>\n",
       "      <td>25378.572</td>\n",
       "      <td>to have a wedding</td>\n",
       "    </tr>\n",
       "    <tr>\n",
       "      <td>...</td>\n",
       "      <td>...</td>\n",
       "      <td>...</td>\n",
       "      <td>...</td>\n",
       "      <td>...</td>\n",
       "      <td>...</td>\n",
       "      <td>...</td>\n",
       "      <td>...</td>\n",
       "      <td>...</td>\n",
       "      <td>...</td>\n",
       "      <td>...</td>\n",
       "      <td>...</td>\n",
       "      <td>...</td>\n",
       "    </tr>\n",
       "    <tr>\n",
       "      <td>21520</td>\n",
       "      <td>1.0</td>\n",
       "      <td>4529.316663</td>\n",
       "      <td>43.0</td>\n",
       "      <td>secondary education</td>\n",
       "      <td>1.0</td>\n",
       "      <td>civil partnership</td>\n",
       "      <td>1.0</td>\n",
       "      <td>F</td>\n",
       "      <td>business</td>\n",
       "      <td>0.0</td>\n",
       "      <td>35966.698</td>\n",
       "      <td>housing transactions</td>\n",
       "    </tr>\n",
       "    <tr>\n",
       "      <td>21521</td>\n",
       "      <td>0.0</td>\n",
       "      <td>343937.404131</td>\n",
       "      <td>67.0</td>\n",
       "      <td>secondary education</td>\n",
       "      <td>1.0</td>\n",
       "      <td>married</td>\n",
       "      <td>0.0</td>\n",
       "      <td>F</td>\n",
       "      <td>retiree</td>\n",
       "      <td>0.0</td>\n",
       "      <td>24959.969</td>\n",
       "      <td>purchase of a car</td>\n",
       "    </tr>\n",
       "    <tr>\n",
       "      <td>21522</td>\n",
       "      <td>1.0</td>\n",
       "      <td>2113.346888</td>\n",
       "      <td>38.0</td>\n",
       "      <td>secondary education</td>\n",
       "      <td>1.0</td>\n",
       "      <td>civil partnership</td>\n",
       "      <td>1.0</td>\n",
       "      <td>M</td>\n",
       "      <td>employee</td>\n",
       "      <td>1.0</td>\n",
       "      <td>14347.610</td>\n",
       "      <td>property</td>\n",
       "    </tr>\n",
       "    <tr>\n",
       "      <td>21523</td>\n",
       "      <td>3.0</td>\n",
       "      <td>3112.481705</td>\n",
       "      <td>38.0</td>\n",
       "      <td>secondary education</td>\n",
       "      <td>1.0</td>\n",
       "      <td>married</td>\n",
       "      <td>0.0</td>\n",
       "      <td>M</td>\n",
       "      <td>employee</td>\n",
       "      <td>1.0</td>\n",
       "      <td>39054.888</td>\n",
       "      <td>buying my own car</td>\n",
       "    </tr>\n",
       "    <tr>\n",
       "      <td>21524</td>\n",
       "      <td>2.0</td>\n",
       "      <td>1984.507589</td>\n",
       "      <td>40.0</td>\n",
       "      <td>secondary education</td>\n",
       "      <td>1.0</td>\n",
       "      <td>married</td>\n",
       "      <td>0.0</td>\n",
       "      <td>F</td>\n",
       "      <td>employee</td>\n",
       "      <td>0.0</td>\n",
       "      <td>13127.587</td>\n",
       "      <td>to buy a car</td>\n",
       "    </tr>\n",
       "  </tbody>\n",
       "</table>\n",
       "<p>21525 rows × 12 columns</p>\n",
       "</div>"
      ],
      "text/plain": [
       "       children  days_employed  dob_years            education  education_id  \\\n",
       "0           1.0    8437.673028       42.0    bachelor's degree           0.0   \n",
       "1           1.0    4024.803754       36.0  secondary education           1.0   \n",
       "2           0.0    5623.422610       33.0  secondary education           1.0   \n",
       "3           3.0    4124.747207       32.0  secondary education           1.0   \n",
       "4           0.0  340266.072047       53.0  secondary education           1.0   \n",
       "...         ...            ...        ...                  ...           ...   \n",
       "21520       1.0    4529.316663       43.0  secondary education           1.0   \n",
       "21521       0.0  343937.404131       67.0  secondary education           1.0   \n",
       "21522       1.0    2113.346888       38.0  secondary education           1.0   \n",
       "21523       3.0    3112.481705       38.0  secondary education           1.0   \n",
       "21524       2.0    1984.507589       40.0  secondary education           1.0   \n",
       "\n",
       "           family_status  family_status_id gender income_type  debt  \\\n",
       "0                married               0.0      F    employee   0.0   \n",
       "1                married               0.0      F    employee   0.0   \n",
       "2                married               0.0      M    employee   0.0   \n",
       "3                married               0.0      M    employee   0.0   \n",
       "4      civil partnership               1.0      F     retiree   0.0   \n",
       "...                  ...               ...    ...         ...   ...   \n",
       "21520  civil partnership               1.0      F    business   0.0   \n",
       "21521            married               0.0      F     retiree   0.0   \n",
       "21522  civil partnership               1.0      M    employee   1.0   \n",
       "21523            married               0.0      M    employee   1.0   \n",
       "21524            married               0.0      F    employee   0.0   \n",
       "\n",
       "       total_income                  purpose  \n",
       "0         40620.102    purchase of the house  \n",
       "1         17932.802             car purchase  \n",
       "2         23341.752    purchase of the house  \n",
       "3         42820.568  supplementary education  \n",
       "4         25378.572        to have a wedding  \n",
       "...             ...                      ...  \n",
       "21520     35966.698     housing transactions  \n",
       "21521     24959.969        purchase of a car  \n",
       "21522     14347.610                 property  \n",
       "21523     39054.888        buying my own car  \n",
       "21524     13127.587             to buy a car  \n",
       "\n",
       "[21525 rows x 12 columns]"
      ]
     },
     "execution_count": 126,
     "metadata": {},
     "output_type": "execute_result"
    }
   ],
   "source": [
    "# Check the result - make sure it's fixed\n",
    "for element in bank_data.loc[bank_data.loc[:, 'days_employed'] < 0 ,'days_employed']:\n",
    "    bank_data.loc[bank_data['days_employed'] == element, 'days_employed'] = element * -1 \n",
    "bank_data"
   ]
  },
  {
   "cell_type": "markdown",
   "metadata": {},
   "source": [
    "<div class=\"alert alert-success\" style=\"box-shadow: 4px 4px 4px\">\n",
    "<b>Success:</b> You got the right result, but you can make it easier by using the .abs() method\n",
    "</div>\n"
   ]
  },
  {
   "cell_type": "markdown",
   "metadata": {},
   "source": [
    "[Let's now look at the client's age and whether there are any issues there. Again, think about what can data can be strange in this column, i.e. what cannot be someone's age.]"
   ]
  },
  {
   "cell_type": "code",
   "execution_count": 127,
   "metadata": {
    "scrolled": true
   },
   "outputs": [
    {
     "name": "stdout",
     "output_type": "stream",
     "text": [
      "0.464576%\n"
     ]
    }
   ],
   "source": [
    "# Check the `dob_years` for suspicious values and count the percentage\n",
    "print('{:%}'.format(len(bank_data[bank_data.loc[:, 'dob_years'] == 0])/len(bank_data)))\n"
   ]
  },
  {
   "cell_type": "markdown",
   "metadata": {},
   "source": [
    "[Decide what you'll do with the problematic values and explain why.]\n",
    "I will drop those rows beacaus they are tiny part of our dataset."
   ]
  },
  {
   "cell_type": "code",
   "execution_count": 128,
   "metadata": {},
   "outputs": [
    {
     "data": {
      "text/plain": [
       "0        42.0\n",
       "1        36.0\n",
       "2        33.0\n",
       "3        32.0\n",
       "4        53.0\n",
       "         ... \n",
       "21520    43.0\n",
       "21521    67.0\n",
       "21522    38.0\n",
       "21523    38.0\n",
       "21524    40.0\n",
       "Name: dob_years, Length: 21302, dtype: float64"
      ]
     },
     "execution_count": 128,
     "metadata": {},
     "output_type": "execute_result"
    }
   ],
   "source": [
    "# Address the issues in the `dob_years` column, if they exist\n",
    "for x in bank_data['dob_years']:\n",
    "    bank_data.loc[bank_data['dob_years'] == 0 , 'dob_years' ] = float('NaN')\n",
    "bank_data['dob_years'].dropna()"
   ]
  },
  {
   "cell_type": "markdown",
   "metadata": {},
   "source": [
    "<div class=\"alert alert-success\" style=\"box-shadow: 4px 4px 4px\">\n",
    "<b>Success:</b> Good idea. You can also remove not only zero values, but also other incorrect ones (for example, dob_years less than 12 years old)\n",
    "</div>\n"
   ]
  },
  {
   "cell_type": "code",
   "execution_count": 129,
   "metadata": {},
   "outputs": [
    {
     "name": "stdout",
     "output_type": "stream",
     "text": [
      "0.000000%\n"
     ]
    }
   ],
   "source": [
    "# Check the result - make sure it's fixed\n",
    "print('{:%}'.format(len(bank_data[bank_data.loc[:, 'dob_years'] == 0])/len(bank_data)))\n"
   ]
  },
  {
   "cell_type": "markdown",
   "metadata": {},
   "source": [
    "[Now let's check the `family_status` column. See what kind of values there are and what problems you may need to address.]"
   ]
  },
  {
   "cell_type": "code",
   "execution_count": 130,
   "metadata": {},
   "outputs": [
    {
     "data": {
      "text/plain": [
       "married              12302\n",
       "civil partnership     4160\n",
       "unmarried             2799\n",
       "divorced              1189\n",
       "widow / widower        952\n",
       "Name: family_status, dtype: int64"
      ]
     },
     "execution_count": 130,
     "metadata": {},
     "output_type": "execute_result"
    }
   ],
   "source": [
    "# Let's see the values for the column\n",
    "bank_data['family_status'].value_counts()"
   ]
  },
  {
   "cell_type": "code",
   "execution_count": 131,
   "metadata": {},
   "outputs": [
    {
     "name": "stdout",
     "output_type": "stream",
     "text": [
      "123\n"
     ]
    }
   ],
   "source": [
    "# Address the problematic values in `family_status`, if they exist\n",
    "print(bank_data['family_status'].isna().sum())\n",
    "bank_data['family_status'].dropna(inplace=True)"
   ]
  },
  {
   "cell_type": "code",
   "execution_count": 132,
   "metadata": {},
   "outputs": [
    {
     "data": {
      "text/plain": [
       "0"
      ]
     },
     "execution_count": 132,
     "metadata": {},
     "output_type": "execute_result"
    }
   ],
   "source": [
    "# Check the result - make sure it's fixed\n",
    "bank_data['family_status'].isna().sum()"
   ]
  },
  {
   "cell_type": "markdown",
   "metadata": {},
   "source": [
    "<div class=\"alert alert-danger\" style=\"box-shadow: 4px 4px 4px\">\n",
    "<b>Needs fixing:</b> <s> Oops! It looks like this task needs to be completed 🙃 </s>\n",
    "</div>\n",
    "\n",
    "<div class=\"alert alert-warning\" style=\"box-shadow: 4px 4px 4px\">\n",
    "<b>Remarks #2:</b> You'd better check NaN values before you drop them, maybe nothing has changed\n",
    "</div>"
   ]
  },
  {
   "cell_type": "markdown",
   "metadata": {},
   "source": [
    "[Now let's check the `gender` column. See what kind of values there are and what problems you may need to address]"
   ]
  },
  {
   "cell_type": "code",
   "execution_count": 133,
   "metadata": {},
   "outputs": [
    {
     "data": {
      "text/plain": [
       "F      14154\n",
       "M       7247\n",
       "XNA        1\n",
       "Name: gender, dtype: int64"
      ]
     },
     "execution_count": 133,
     "metadata": {},
     "output_type": "execute_result"
    }
   ],
   "source": [
    "# Let's see the values in the column\n",
    "bank_data['gender'].value_counts()"
   ]
  },
  {
   "cell_type": "code",
   "execution_count": 134,
   "metadata": {},
   "outputs": [],
   "source": [
    "# Address the problematic values, if they exist\n",
    "bank_data.loc[bank_data['gender'] == 'XNA', 'gender'] = 'Unknown'"
   ]
  },
  {
   "cell_type": "code",
   "execution_count": 135,
   "metadata": {},
   "outputs": [
    {
     "data": {
      "text/plain": [
       "F          14154\n",
       "M           7247\n",
       "Unknown        1\n",
       "Name: gender, dtype: int64"
      ]
     },
     "execution_count": 135,
     "metadata": {},
     "output_type": "execute_result"
    }
   ],
   "source": [
    "# Check the result - make sure it's fixed\n",
    "bank_data['gender'].value_counts()\n"
   ]
  },
  {
   "cell_type": "markdown",
   "metadata": {},
   "source": [
    "<div class=\"alert alert-success\" style=\"box-shadow: 4px 4px 4px\">\n",
    "<b>Success:</b>Great\n",
    "</div>\n"
   ]
  },
  {
   "cell_type": "markdown",
   "metadata": {},
   "source": [
    "[Now let's check the `income_type` column. See what kind of values there are and what problems you may need to address]"
   ]
  },
  {
   "cell_type": "code",
   "execution_count": 136,
   "metadata": {},
   "outputs": [
    {
     "data": {
      "text/plain": [
       "employee                       11050\n",
       "business                        5054\n",
       "retiree                         3839\n",
       "civil servant                   1453\n",
       "entrepreneur                       2\n",
       "unemployed                         2\n",
       "paternity / maternity leave        1\n",
       "student                            1\n",
       "Name: income_type, dtype: int64"
      ]
     },
     "execution_count": 136,
     "metadata": {},
     "output_type": "execute_result"
    }
   ],
   "source": [
    "# Let's see the values in the column\n",
    "bank_data['income_type'].value_counts()"
   ]
  },
  {
   "cell_type": "code",
   "execution_count": 137,
   "metadata": {},
   "outputs": [],
   "source": [
    "# Address the problematic values, if they exist]\n",
    "bank_data['income_type'].dropna(inplace=True)"
   ]
  },
  {
   "cell_type": "code",
   "execution_count": 138,
   "metadata": {},
   "outputs": [
    {
     "data": {
      "text/plain": [
       "0"
      ]
     },
     "execution_count": 138,
     "metadata": {},
     "output_type": "execute_result"
    }
   ],
   "source": [
    "# Check the result - make sure it's fixed\n",
    "bank_data['income_type'].isna().sum()\n"
   ]
  },
  {
   "cell_type": "markdown",
   "metadata": {},
   "source": [
    "<div class=\"alert alert-danger\" style=\"box-shadow: 4px 4px 4px\">\n",
    "<b>Needs fixing:</b> <s> Please write your thoughts on this column. If you think that everything is good here, write it down :) </s>\n",
    "</div>\n",
    "\n",
    "I fixed the 'NaN' values and everything is now ok.\n",
    "\n",
    "<div class=\"alert alert-success\" style=\"box-shadow: 4px 4px 4px\">\n",
    "<b>Success #3:</b> well done!\n",
    "</div>\n"
   ]
  },
  {
   "cell_type": "markdown",
   "metadata": {},
   "source": [
    "[Now let's see if we have any duplicates in our data. If we do, you'll need to decide what you will do with them and explain why.]\n",
    "If there is duplicated row then if it small amount we should drop them."
   ]
  },
  {
   "cell_type": "code",
   "execution_count": 139,
   "metadata": {},
   "outputs": [],
   "source": [
    "# Address the duplicates, if they exist\n",
    "bank_data = bank_data.loc[:].drop_duplicates()"
   ]
  },
  {
   "cell_type": "code",
   "execution_count": 140,
   "metadata": {},
   "outputs": [
    {
     "data": {
      "text/plain": [
       "0"
      ]
     },
     "execution_count": 140,
     "metadata": {},
     "output_type": "execute_result"
    }
   ],
   "source": [
    "# Checking duplicates\n",
    "bank_data.loc[:].duplicated().sum()\n"
   ]
  },
  {
   "cell_type": "code",
   "execution_count": 141,
   "metadata": {},
   "outputs": [
    {
     "data": {
      "text/plain": [
       "0"
      ]
     },
     "execution_count": 141,
     "metadata": {},
     "output_type": "execute_result"
    }
   ],
   "source": [
    "# Last check whether we have any duplicates\n",
    "bank_data.loc[:].duplicated().sum()"
   ]
  },
  {
   "cell_type": "code",
   "execution_count": 142,
   "metadata": {},
   "outputs": [
    {
     "data": {
      "text/plain": [
       "(21332, 12)"
      ]
     },
     "execution_count": 142,
     "metadata": {},
     "output_type": "execute_result"
    }
   ],
   "source": [
    "# Check the size of the dataset that you now have after your first manipulations with it\n",
    "bank_data.shape"
   ]
  },
  {
   "cell_type": "markdown",
   "metadata": {},
   "source": [
    "<div class=\"alert alert-success\" style=\"box-shadow: 4px 4px 4px\">\n",
    "<b>Success:</b> 👍\n",
    "</div>\n"
   ]
  },
  {
   "cell_type": "markdown",
   "metadata": {},
   "source": [
    "[Describe your new dataset: briefly say what's changed and what's the percentage of the changes, if there were any.]\n",
    "I clean up the dataset,\n",
    "It is now conssit more accurate data like values which needed to be fixed,\n",
    "and morover I deleted the none important data."
   ]
  },
  {
   "cell_type": "markdown",
   "metadata": {},
   "source": [
    "# Working with missing values"
   ]
  },
  {
   "cell_type": "markdown",
   "metadata": {},
   "source": [
    "[To speed up working with some data, you may want to work with dictionaries for some values, where IDs are provided. Explain why and which dictionaries you will work with.]\n",
    "\n",
    "It is time to use nltk snowballStemmer"
   ]
  },
  {
   "cell_type": "code",
   "execution_count": 143,
   "metadata": {},
   "outputs": [],
   "source": [
    "# Find the dictionaries\n",
    "import nltk\n",
    "from nltk.stem import WordNetLemmatizer"
   ]
  },
  {
   "cell_type": "markdown",
   "metadata": {},
   "source": [
    "### Restoring missing values in `total_income`"
   ]
  },
  {
   "cell_type": "markdown",
   "metadata": {},
   "source": [
    "[Briefly state which column(s) have values missing that you need to address. Explain how you will fix them.]\n",
    "The column is days_employed and total_income,\n",
    "and i will use the median value to fill up the missing.\n",
    "\n",
    "[Start with addressing total income missing values. Create and age category for clients. Create a new column with the age category. This strategy can help with calculating values for the total income.]\n"
   ]
  },
  {
   "cell_type": "markdown",
   "metadata": {},
   "source": [
    "# Let's write a function that calculates the age category   \n",
    "\n",
    "    "
   ]
  },
  {
   "cell_type": "code",
   "execution_count": 144,
   "metadata": {},
   "outputs": [],
   "source": [
    "def age_category(age):\n",
    "    if age < 20:\n",
    "        return 'Teenage'\n",
    "    elif 20 <= age < 40:\n",
    "        return 'Middle-aged'\n",
    "    elif 40 <= age < 60:\n",
    "        return 'Adult'\n",
    "    elif 60 <= age:\n",
    "        return 'Old'"
   ]
  },
  {
   "cell_type": "code",
   "execution_count": 145,
   "metadata": {},
   "outputs": [
    {
     "data": {
      "text/plain": [
       "'Middle-aged'"
      ]
     },
     "execution_count": 145,
     "metadata": {},
     "output_type": "execute_result"
    }
   ],
   "source": [
    "# Test if the function works\n",
    "age = 32\n",
    "age_category(age)"
   ]
  },
  {
   "cell_type": "code",
   "execution_count": 146,
   "metadata": {},
   "outputs": [
    {
     "name": "stdout",
     "output_type": "stream",
     "text": [
      "<class 'pandas.core.frame.DataFrame'>\n",
      "Int64Index: 21332 entries, 0 to 21524\n",
      "Data columns (total 13 columns):\n",
      "children            21331 non-null float64\n",
      "days_employed       19240 non-null float64\n",
      "dob_years           21231 non-null float64\n",
      "education           21331 non-null object\n",
      "education_id        21331 non-null float64\n",
      "family_status       21331 non-null object\n",
      "family_status_id    21331 non-null float64\n",
      "gender              21331 non-null object\n",
      "income_type         21331 non-null object\n",
      "debt                21331 non-null float64\n",
      "total_income        19240 non-null float64\n",
      "purpose             21331 non-null object\n",
      "age_category        21231 non-null object\n",
      "dtypes: float64(7), object(6)\n",
      "memory usage: 2.3+ MB\n"
     ]
    }
   ],
   "source": [
    "# Creating new column based on function\n",
    "for element in bank_data['dob_years']:\n",
    "    try:\n",
    "        element = float(element)\n",
    "    except:\n",
    "        bank_data.loc[bank_data.loc[:, 'dob_years'] == element, 'dob_years'] = float('NaN')\n",
    "        bank_data[bank_data.loc[:, 'dob_years'] == element] = bank_data[bank_data.loc[:, 'dob_years'] == element].dropna()\n",
    "bank_data['age_category'] = bank_data['dob_years'].apply(age_category)\n",
    "bank_data.info()"
   ]
  },
  {
   "cell_type": "code",
   "execution_count": 147,
   "metadata": {},
   "outputs": [
    {
     "data": {
      "text/plain": [
       "Adult          9949\n",
       "Middle-aged    8777\n",
       "Old            2491\n",
       "Teenage          14\n",
       "Name: age_category, dtype: int64"
      ]
     },
     "execution_count": 147,
     "metadata": {},
     "output_type": "execute_result"
    }
   ],
   "source": [
    "# Checking how values in the new column\n",
    "bank_data['age_category'].value_counts()\n"
   ]
  },
  {
   "cell_type": "markdown",
   "metadata": {},
   "source": [
    "<div class=\"alert alert-warning\" style=\"box-shadow: 4px 4px 4px\">\n",
    "<b>Remarks:</b>  <s> It is your right to choose how to categorize the data, but it seems that it should be divided into smaller groups by age (at least 15-20 years) </s>\n",
    "</div> \n",
    "\n",
    "<div class=\"alert alert-success\" style=\"box-shadow: 4px 4px 4px\">\n",
    "<b>Success #2:</b> Great!\n",
    "</div>\n"
   ]
  },
  {
   "cell_type": "markdown",
   "metadata": {},
   "source": [
    "[Think about the factors on which income usually depends. Eventually, you will want to find out whether you should use mean or median values for replacing missing values. To make this decision you will probably want to look at the distribution of the factors you identified as impacting one's income.]\n"
   ]
  },
  {
   "cell_type": "markdown",
   "metadata": {},
   "source": [
    "[Create a table that only has data without missing values. This data will be used to restore the missing values.]"
   ]
  },
  {
   "cell_type": "code",
   "execution_count": 148,
   "metadata": {},
   "outputs": [
    {
     "data": {
      "text/html": [
       "<div>\n",
       "<style scoped>\n",
       "    .dataframe tbody tr th:only-of-type {\n",
       "        vertical-align: middle;\n",
       "    }\n",
       "\n",
       "    .dataframe tbody tr th {\n",
       "        vertical-align: top;\n",
       "    }\n",
       "\n",
       "    .dataframe thead th {\n",
       "        text-align: right;\n",
       "    }\n",
       "</style>\n",
       "<table border=\"1\" class=\"dataframe\">\n",
       "  <thead>\n",
       "    <tr style=\"text-align: right;\">\n",
       "      <th></th>\n",
       "      <th>children</th>\n",
       "      <th>days_employed</th>\n",
       "      <th>dob_years</th>\n",
       "      <th>education</th>\n",
       "      <th>education_id</th>\n",
       "      <th>family_status</th>\n",
       "      <th>family_status_id</th>\n",
       "      <th>gender</th>\n",
       "      <th>income_type</th>\n",
       "      <th>debt</th>\n",
       "      <th>total_income</th>\n",
       "      <th>purpose</th>\n",
       "      <th>age_category</th>\n",
       "    </tr>\n",
       "  </thead>\n",
       "  <tbody>\n",
       "    <tr>\n",
       "      <td>0</td>\n",
       "      <td>1.0</td>\n",
       "      <td>8437.673028</td>\n",
       "      <td>42.0</td>\n",
       "      <td>bachelor's degree</td>\n",
       "      <td>0.0</td>\n",
       "      <td>married</td>\n",
       "      <td>0.0</td>\n",
       "      <td>F</td>\n",
       "      <td>employee</td>\n",
       "      <td>0.0</td>\n",
       "      <td>40620.102</td>\n",
       "      <td>purchase of the house</td>\n",
       "      <td>Adult</td>\n",
       "    </tr>\n",
       "    <tr>\n",
       "      <td>1</td>\n",
       "      <td>1.0</td>\n",
       "      <td>4024.803754</td>\n",
       "      <td>36.0</td>\n",
       "      <td>secondary education</td>\n",
       "      <td>1.0</td>\n",
       "      <td>married</td>\n",
       "      <td>0.0</td>\n",
       "      <td>F</td>\n",
       "      <td>employee</td>\n",
       "      <td>0.0</td>\n",
       "      <td>17932.802</td>\n",
       "      <td>car purchase</td>\n",
       "      <td>Middle-aged</td>\n",
       "    </tr>\n",
       "    <tr>\n",
       "      <td>2</td>\n",
       "      <td>0.0</td>\n",
       "      <td>5623.422610</td>\n",
       "      <td>33.0</td>\n",
       "      <td>secondary education</td>\n",
       "      <td>1.0</td>\n",
       "      <td>married</td>\n",
       "      <td>0.0</td>\n",
       "      <td>M</td>\n",
       "      <td>employee</td>\n",
       "      <td>0.0</td>\n",
       "      <td>23341.752</td>\n",
       "      <td>purchase of the house</td>\n",
       "      <td>Middle-aged</td>\n",
       "    </tr>\n",
       "    <tr>\n",
       "      <td>3</td>\n",
       "      <td>3.0</td>\n",
       "      <td>4124.747207</td>\n",
       "      <td>32.0</td>\n",
       "      <td>secondary education</td>\n",
       "      <td>1.0</td>\n",
       "      <td>married</td>\n",
       "      <td>0.0</td>\n",
       "      <td>M</td>\n",
       "      <td>employee</td>\n",
       "      <td>0.0</td>\n",
       "      <td>42820.568</td>\n",
       "      <td>supplementary education</td>\n",
       "      <td>Middle-aged</td>\n",
       "    </tr>\n",
       "    <tr>\n",
       "      <td>4</td>\n",
       "      <td>0.0</td>\n",
       "      <td>340266.072047</td>\n",
       "      <td>53.0</td>\n",
       "      <td>secondary education</td>\n",
       "      <td>1.0</td>\n",
       "      <td>civil partnership</td>\n",
       "      <td>1.0</td>\n",
       "      <td>F</td>\n",
       "      <td>retiree</td>\n",
       "      <td>0.0</td>\n",
       "      <td>25378.572</td>\n",
       "      <td>to have a wedding</td>\n",
       "      <td>Adult</td>\n",
       "    </tr>\n",
       "    <tr>\n",
       "      <td>...</td>\n",
       "      <td>...</td>\n",
       "      <td>...</td>\n",
       "      <td>...</td>\n",
       "      <td>...</td>\n",
       "      <td>...</td>\n",
       "      <td>...</td>\n",
       "      <td>...</td>\n",
       "      <td>...</td>\n",
       "      <td>...</td>\n",
       "      <td>...</td>\n",
       "      <td>...</td>\n",
       "      <td>...</td>\n",
       "      <td>...</td>\n",
       "    </tr>\n",
       "    <tr>\n",
       "      <td>21520</td>\n",
       "      <td>1.0</td>\n",
       "      <td>4529.316663</td>\n",
       "      <td>43.0</td>\n",
       "      <td>secondary education</td>\n",
       "      <td>1.0</td>\n",
       "      <td>civil partnership</td>\n",
       "      <td>1.0</td>\n",
       "      <td>F</td>\n",
       "      <td>business</td>\n",
       "      <td>0.0</td>\n",
       "      <td>35966.698</td>\n",
       "      <td>housing transactions</td>\n",
       "      <td>Adult</td>\n",
       "    </tr>\n",
       "    <tr>\n",
       "      <td>21521</td>\n",
       "      <td>0.0</td>\n",
       "      <td>343937.404131</td>\n",
       "      <td>67.0</td>\n",
       "      <td>secondary education</td>\n",
       "      <td>1.0</td>\n",
       "      <td>married</td>\n",
       "      <td>0.0</td>\n",
       "      <td>F</td>\n",
       "      <td>retiree</td>\n",
       "      <td>0.0</td>\n",
       "      <td>24959.969</td>\n",
       "      <td>purchase of a car</td>\n",
       "      <td>Old</td>\n",
       "    </tr>\n",
       "    <tr>\n",
       "      <td>21522</td>\n",
       "      <td>1.0</td>\n",
       "      <td>2113.346888</td>\n",
       "      <td>38.0</td>\n",
       "      <td>secondary education</td>\n",
       "      <td>1.0</td>\n",
       "      <td>civil partnership</td>\n",
       "      <td>1.0</td>\n",
       "      <td>M</td>\n",
       "      <td>employee</td>\n",
       "      <td>1.0</td>\n",
       "      <td>14347.610</td>\n",
       "      <td>property</td>\n",
       "      <td>Middle-aged</td>\n",
       "    </tr>\n",
       "    <tr>\n",
       "      <td>21523</td>\n",
       "      <td>3.0</td>\n",
       "      <td>3112.481705</td>\n",
       "      <td>38.0</td>\n",
       "      <td>secondary education</td>\n",
       "      <td>1.0</td>\n",
       "      <td>married</td>\n",
       "      <td>0.0</td>\n",
       "      <td>M</td>\n",
       "      <td>employee</td>\n",
       "      <td>1.0</td>\n",
       "      <td>39054.888</td>\n",
       "      <td>buying my own car</td>\n",
       "      <td>Middle-aged</td>\n",
       "    </tr>\n",
       "    <tr>\n",
       "      <td>21524</td>\n",
       "      <td>2.0</td>\n",
       "      <td>1984.507589</td>\n",
       "      <td>40.0</td>\n",
       "      <td>secondary education</td>\n",
       "      <td>1.0</td>\n",
       "      <td>married</td>\n",
       "      <td>0.0</td>\n",
       "      <td>F</td>\n",
       "      <td>employee</td>\n",
       "      <td>0.0</td>\n",
       "      <td>13127.587</td>\n",
       "      <td>to buy a car</td>\n",
       "      <td>Adult</td>\n",
       "    </tr>\n",
       "  </tbody>\n",
       "</table>\n",
       "<p>21332 rows × 13 columns</p>\n",
       "</div>"
      ],
      "text/plain": [
       "       children  days_employed  dob_years            education  education_id  \\\n",
       "0           1.0    8437.673028       42.0    bachelor's degree           0.0   \n",
       "1           1.0    4024.803754       36.0  secondary education           1.0   \n",
       "2           0.0    5623.422610       33.0  secondary education           1.0   \n",
       "3           3.0    4124.747207       32.0  secondary education           1.0   \n",
       "4           0.0  340266.072047       53.0  secondary education           1.0   \n",
       "...         ...            ...        ...                  ...           ...   \n",
       "21520       1.0    4529.316663       43.0  secondary education           1.0   \n",
       "21521       0.0  343937.404131       67.0  secondary education           1.0   \n",
       "21522       1.0    2113.346888       38.0  secondary education           1.0   \n",
       "21523       3.0    3112.481705       38.0  secondary education           1.0   \n",
       "21524       2.0    1984.507589       40.0  secondary education           1.0   \n",
       "\n",
       "           family_status  family_status_id gender income_type  debt  \\\n",
       "0                married               0.0      F    employee   0.0   \n",
       "1                married               0.0      F    employee   0.0   \n",
       "2                married               0.0      M    employee   0.0   \n",
       "3                married               0.0      M    employee   0.0   \n",
       "4      civil partnership               1.0      F     retiree   0.0   \n",
       "...                  ...               ...    ...         ...   ...   \n",
       "21520  civil partnership               1.0      F    business   0.0   \n",
       "21521            married               0.0      F     retiree   0.0   \n",
       "21522  civil partnership               1.0      M    employee   1.0   \n",
       "21523            married               0.0      M    employee   1.0   \n",
       "21524            married               0.0      F    employee   0.0   \n",
       "\n",
       "       total_income                  purpose age_category  \n",
       "0         40620.102    purchase of the house        Adult  \n",
       "1         17932.802             car purchase  Middle-aged  \n",
       "2         23341.752    purchase of the house  Middle-aged  \n",
       "3         42820.568  supplementary education  Middle-aged  \n",
       "4         25378.572        to have a wedding        Adult  \n",
       "...             ...                      ...          ...  \n",
       "21520     35966.698     housing transactions        Adult  \n",
       "21521     24959.969        purchase of a car          Old  \n",
       "21522     14347.610                 property  Middle-aged  \n",
       "21523     39054.888        buying my own car  Middle-aged  \n",
       "21524     13127.587             to buy a car        Adult  \n",
       "\n",
       "[21332 rows x 13 columns]"
      ]
     },
     "execution_count": 148,
     "metadata": {},
     "output_type": "execute_result"
    }
   ],
   "source": [
    "# Create a table without missing values and print a few of its rows to make sure it looks fine\n",
    "new_data = bank_data[bank_data.loc[:,['children','days_employed','dob_years','education','education_id','family_status','family_status_id','gender','income_type','debt','total_income','purpose','age_category']] != float('NaN')]\n",
    "new_data"
   ]
  },
  {
   "cell_type": "code",
   "execution_count": 149,
   "metadata": {},
   "outputs": [
    {
     "data": {
      "text/plain": [
       "26791.806362266114"
      ]
     },
     "execution_count": 149,
     "metadata": {},
     "output_type": "execute_result"
    }
   ],
   "source": [
    "# Look at the mean values for income based on your identified factors\n",
    "new_data['total_income'].mean()"
   ]
  },
  {
   "cell_type": "code",
   "execution_count": 150,
   "metadata": {
    "scrolled": true
   },
   "outputs": [
    {
     "data": {
      "text/plain": [
       "23203.328"
      ]
     },
     "execution_count": 150,
     "metadata": {},
     "output_type": "execute_result"
    }
   ],
   "source": [
    "# Look at the median values for income based on your identified factors\n",
    "new_data['total_income'].median()"
   ]
  },
  {
   "cell_type": "markdown",
   "metadata": {},
   "source": [
    "[Repeat such comparisons for multiple factors. Make sure you consider different aspects and explain your thinking process.]\n",
    " I need the fill up the 'days_employed' column also in order the get rid of missing values.\n",
    " Furthermore I'll look for the highest and the lowest values in order to find if there's a significant outliers,\n",
    " if there is then I'll use median if not I will use mean.\n"
   ]
  },
  {
   "cell_type": "code",
   "execution_count": 151,
   "metadata": {},
   "outputs": [
    {
     "data": {
      "text/plain": [
       "67027.6914587916"
      ]
     },
     "execution_count": 151,
     "metadata": {},
     "output_type": "execute_result"
    }
   ],
   "source": [
    "new_data['days_employed'].mean()"
   ]
  },
  {
   "cell_type": "code",
   "execution_count": 152,
   "metadata": {},
   "outputs": [
    {
     "data": {
      "text/plain": [
       "2195.2515915238964"
      ]
     },
     "execution_count": 152,
     "metadata": {},
     "output_type": "execute_result"
    }
   ],
   "source": [
    "new_data['days_employed'].median()"
   ]
  },
  {
   "cell_type": "markdown",
   "metadata": {},
   "source": [
    "<div class=\"alert alert-danger\" style=\"box-shadow: 4px 4px 4px\">\n",
    "<b>Needs fixing:</b> <s> What about days_employed?  </s>\n",
    "</div>"
   ]
  },
  {
   "cell_type": "code",
   "execution_count": 153,
   "metadata": {},
   "outputs": [
    {
     "name": "stdout",
     "output_type": "stream",
     "text": [
      "The maxximum value in total income is:  401755.400475\n",
      "\n",
      "The minimum value in total income is:  24.141633\n"
     ]
    },
    {
     "data": {
      "text/plain": [
       "children            0\n",
       "days_employed       0\n",
       "dob_years           0\n",
       "education           0\n",
       "education_id        0\n",
       "family_status       0\n",
       "family_status_id    0\n",
       "gender              0\n",
       "income_type         0\n",
       "debt                0\n",
       "total_income        0\n",
       "purpose             0\n",
       "age_category        0\n",
       "dtype: int64"
      ]
     },
     "execution_count": 153,
     "metadata": {},
     "output_type": "execute_result"
    }
   ],
   "source": [
    "print('The maxximum value in total income is: {: f}'.format(max(new_data['days_employed'])))\n",
    "print()\n",
    "print('The minimum value in total income is: {: f}'.format(min(new_data['days_employed'])))\n",
    "new_data[new_data['days_employed'] == max(new_data['days_employed'])] = float('NaN')\n",
    "new_data[new_data['days_employed'] == max(new_data['days_employed'])].dropna()\n",
    "new_data[new_data['days_employed'] == max(new_data['days_employed'])].isna().sum()"
   ]
  },
  {
   "cell_type": "markdown",
   "metadata": {},
   "source": [
    "<div class=\"alert alert-warning\" style=\"box-shadow: 4px 4px 4px\">\n",
    "<b>Remarks №2:</b>  it makes sense to remove outliers from the dataset: the values of the days_employeed column that are too large. It is unlikely that anyone can work more than 36,500 days (100 years!)\n",
    "</div> \n",
    "\n",
    "[Make a decision on what characteristics define income most and whether you will use a median or a mean. Explain why you made this decision]\n",
    "I will use median because the is extrodinary outliers.\n",
    "\n",
    "\n"
   ]
  },
  {
   "cell_type": "code",
   "execution_count": 154,
   "metadata": {},
   "outputs": [],
   "source": [
    "#  Write a function that we will use for filling in missing values\n",
    "def fillup(argument):\n",
    "    try:\n",
    "        if argument > 0:\n",
    "            return \n",
    "        else:\n",
    "            return new_data['total_income'].median()\n",
    "    except:\n",
    "        return "
   ]
  },
  {
   "cell_type": "markdown",
   "metadata": {},
   "source": [
    "<div class=\"alert alert-success\" style=\"box-shadow: 4px 4px 4px\">\n",
    "<b>Success №2:</b> Well done!\n",
    "</div>"
   ]
  },
  {
   "cell_type": "code",
   "execution_count": 155,
   "metadata": {},
   "outputs": [
    {
     "data": {
      "text/plain": [
       "23202.87"
      ]
     },
     "execution_count": 155,
     "metadata": {},
     "output_type": "execute_result"
    }
   ],
   "source": [
    "# Check if it works\n",
    "test = float('NaN')\n",
    "fillup(test)"
   ]
  },
  {
   "cell_type": "code",
   "execution_count": 156,
   "metadata": {},
   "outputs": [],
   "source": [
    "# Apply it to every row\n",
    "bank_data.loc[bank_data.loc[:, 'total_income'].isna(), 'total_income'] = bank_data['total_income'].apply(fillup)"
   ]
  },
  {
   "cell_type": "code",
   "execution_count": 157,
   "metadata": {},
   "outputs": [
    {
     "data": {
      "text/plain": [
       "0"
      ]
     },
     "execution_count": 157,
     "metadata": {},
     "output_type": "execute_result"
    }
   ],
   "source": [
    "# Check if we got any errors\n",
    "bank_data['total_income'].isna().sum()"
   ]
  },
  {
   "cell_type": "markdown",
   "metadata": {},
   "source": [
    "<div class=\"alert alert-warning\" style=\"box-shadow: 4px 4px 4px\">\n",
    "<b>Remarks:</b> <s> Don't make it so complicated. You can use the fillna () method and fill in the gaps with the selected value (median is ok 👌) </s>\n",
    "</div> \n"
   ]
  },
  {
   "cell_type": "markdown",
   "metadata": {},
   "source": [
    "[If you've came across errors in preparing the values for missing data, it probably means there's something special about the data for the category. Give it some thought - you may want to fix some things manually, if there's enough data to find medians/means.]\n"
   ]
  },
  {
   "cell_type": "code",
   "execution_count": 158,
   "metadata": {},
   "outputs": [],
   "source": [
    "# Replacing missing values if there are any errors\n"
   ]
  },
  {
   "cell_type": "markdown",
   "metadata": {},
   "source": [
    "[When you think you've finished with `total_income`, check that the total number of values in this column matches the number of values in other ones.]"
   ]
  },
  {
   "cell_type": "code",
   "execution_count": 159,
   "metadata": {},
   "outputs": [
    {
     "data": {
      "text/plain": [
       "children            21330\n",
       "days_employed       19239\n",
       "dob_years           21230\n",
       "education           21330\n",
       "education_id        21330\n",
       "family_status       21330\n",
       "family_status_id    21330\n",
       "gender              21330\n",
       "income_type         21330\n",
       "debt                21330\n",
       "total_income        21332\n",
       "purpose             21330\n",
       "age_category        21230\n",
       "dtype: int64"
      ]
     },
     "execution_count": 159,
     "metadata": {},
     "output_type": "execute_result"
    }
   ],
   "source": [
    "# Checking the number of entries in the columns\n",
    "bank_data.count()\n"
   ]
  },
  {
   "cell_type": "markdown",
   "metadata": {},
   "source": [
    "###  Restoring values in `days_employed`"
   ]
  },
  {
   "cell_type": "markdown",
   "metadata": {},
   "source": [
    "[Think about the parameters that may help you restore the missing values in this column. Eventually, you will want to find out whether you should use mean or median values for replacing missing values. You will probably conduct a research similar to the one you've done when restoring data in a previous column.]"
   ]
  },
  {
   "cell_type": "code",
   "execution_count": 160,
   "metadata": {
    "pycharm": {
     "name": "#%%\n"
    }
   },
   "outputs": [
    {
     "data": {
      "text/plain": [
       "2194.8143415297573"
      ]
     },
     "execution_count": 160,
     "metadata": {},
     "output_type": "execute_result"
    }
   ],
   "source": [
    "# Distribution of `days_employed` medians based on your identified parameters\n",
    "new_data['days_employed'].median()"
   ]
  },
  {
   "cell_type": "code",
   "execution_count": 161,
   "metadata": {},
   "outputs": [
    {
     "data": {
      "text/plain": [
       "67010.29306443552"
      ]
     },
     "execution_count": 161,
     "metadata": {},
     "output_type": "execute_result"
    }
   ],
   "source": [
    "# Distribution of `days_employed` means based on your identified parameters\n",
    "new_data['days_employed'].mean()"
   ]
  },
  {
   "cell_type": "code",
   "execution_count": 162,
   "metadata": {},
   "outputs": [
    {
     "name": "stdout",
     "output_type": "stream",
     "text": [
      "The maxximum value in total days employed is:  401715.811749\n",
      "\n",
      "The minimum value in total days employed is:  24.141633\n"
     ]
    }
   ],
   "source": [
    "print('The maxximum value in total days employed is: {: f}'.format(max(new_data['days_employed'])))\n",
    "print()\n",
    "print('The minimum value in total days employed is: {: f}'.format(min(new_data['days_employed'])))"
   ]
  },
  {
   "cell_type": "markdown",
   "metadata": {},
   "source": [
    "[Decide what you will use: means or medians. Explain why.]\n",
    "\n",
    "I will use medain because there is and extraoridnary outliers."
   ]
  },
  {
   "cell_type": "code",
   "execution_count": 163,
   "metadata": {},
   "outputs": [],
   "source": [
    "# Let's write a function that calculates means or medians (depending on your decision) based on your identified parameter\n",
    "def calc(numbers):\n",
    "    index =0\n",
    "    if len(numbers) % 2 == 0:\n",
    "        index = len(numbers)/2\n",
    "        index = int(index)\n",
    "        return ((numbers[index] + numbers[index- 1]) / 2)\n",
    "    elif len(numbers) % 2 ==1:\n",
    "        index = ((len(numbers)+1)/2 -1)\n",
    "        index = int(index)\n",
    "        return numbers[index]"
   ]
  },
  {
   "cell_type": "code",
   "execution_count": 164,
   "metadata": {},
   "outputs": [
    {
     "data": {
      "text/plain": [
       "2.5"
      ]
     },
     "execution_count": 164,
     "metadata": {},
     "output_type": "execute_result"
    }
   ],
   "source": [
    "# Check that the function works\n",
    "calc([1,2,3,4])\n"
   ]
  },
  {
   "cell_type": "code",
   "execution_count": 165,
   "metadata": {},
   "outputs": [],
   "source": [
    "# Apply function to the income_type\n",
    "bank_data.loc[bank_data.loc[:, 'days_employed'].isna(), 'days_employed'] = bank_data.apply(calc, axis=1)\n"
   ]
  },
  {
   "cell_type": "code",
   "execution_count": 166,
   "metadata": {},
   "outputs": [
    {
     "data": {
      "text/plain": [
       "2"
      ]
     },
     "execution_count": 166,
     "metadata": {},
     "output_type": "execute_result"
    }
   ],
   "source": [
    "# Check if function worked\n",
    "bank_data.loc[:, 'days_employed'].isna().sum()"
   ]
  },
  {
   "cell_type": "code",
   "execution_count": 167,
   "metadata": {},
   "outputs": [
    {
     "data": {
      "text/html": [
       "<div>\n",
       "<style scoped>\n",
       "    .dataframe tbody tr th:only-of-type {\n",
       "        vertical-align: middle;\n",
       "    }\n",
       "\n",
       "    .dataframe tbody tr th {\n",
       "        vertical-align: top;\n",
       "    }\n",
       "\n",
       "    .dataframe thead th {\n",
       "        text-align: right;\n",
       "    }\n",
       "</style>\n",
       "<table border=\"1\" class=\"dataframe\">\n",
       "  <thead>\n",
       "    <tr style=\"text-align: right;\">\n",
       "      <th></th>\n",
       "      <th>children</th>\n",
       "      <th>days_employed</th>\n",
       "      <th>dob_years</th>\n",
       "      <th>education</th>\n",
       "      <th>education_id</th>\n",
       "      <th>family_status</th>\n",
       "      <th>family_status_id</th>\n",
       "      <th>gender</th>\n",
       "      <th>income_type</th>\n",
       "      <th>debt</th>\n",
       "      <th>total_income</th>\n",
       "      <th>purpose</th>\n",
       "      <th>age_category</th>\n",
       "    </tr>\n",
       "  </thead>\n",
       "  <tbody>\n",
       "    <tr>\n",
       "      <td>0</td>\n",
       "      <td>1.0</td>\n",
       "      <td>8437.673028</td>\n",
       "      <td>42.0</td>\n",
       "      <td>bachelor's degree</td>\n",
       "      <td>0.0</td>\n",
       "      <td>married</td>\n",
       "      <td>0.0</td>\n",
       "      <td>F</td>\n",
       "      <td>employee</td>\n",
       "      <td>0.0</td>\n",
       "      <td>40620.102</td>\n",
       "      <td>purchase of the house</td>\n",
       "      <td>Adult</td>\n",
       "    </tr>\n",
       "    <tr>\n",
       "      <td>1</td>\n",
       "      <td>1.0</td>\n",
       "      <td>4024.803754</td>\n",
       "      <td>36.0</td>\n",
       "      <td>secondary education</td>\n",
       "      <td>1.0</td>\n",
       "      <td>married</td>\n",
       "      <td>0.0</td>\n",
       "      <td>F</td>\n",
       "      <td>employee</td>\n",
       "      <td>0.0</td>\n",
       "      <td>17932.802</td>\n",
       "      <td>car purchase</td>\n",
       "      <td>Middle-aged</td>\n",
       "    </tr>\n",
       "    <tr>\n",
       "      <td>2</td>\n",
       "      <td>0.0</td>\n",
       "      <td>5623.422610</td>\n",
       "      <td>33.0</td>\n",
       "      <td>secondary education</td>\n",
       "      <td>1.0</td>\n",
       "      <td>married</td>\n",
       "      <td>0.0</td>\n",
       "      <td>M</td>\n",
       "      <td>employee</td>\n",
       "      <td>0.0</td>\n",
       "      <td>23341.752</td>\n",
       "      <td>purchase of the house</td>\n",
       "      <td>Middle-aged</td>\n",
       "    </tr>\n",
       "    <tr>\n",
       "      <td>3</td>\n",
       "      <td>3.0</td>\n",
       "      <td>4124.747207</td>\n",
       "      <td>32.0</td>\n",
       "      <td>secondary education</td>\n",
       "      <td>1.0</td>\n",
       "      <td>married</td>\n",
       "      <td>0.0</td>\n",
       "      <td>M</td>\n",
       "      <td>employee</td>\n",
       "      <td>0.0</td>\n",
       "      <td>42820.568</td>\n",
       "      <td>supplementary education</td>\n",
       "      <td>Middle-aged</td>\n",
       "    </tr>\n",
       "    <tr>\n",
       "      <td>4</td>\n",
       "      <td>0.0</td>\n",
       "      <td>340266.072047</td>\n",
       "      <td>53.0</td>\n",
       "      <td>secondary education</td>\n",
       "      <td>1.0</td>\n",
       "      <td>civil partnership</td>\n",
       "      <td>1.0</td>\n",
       "      <td>F</td>\n",
       "      <td>retiree</td>\n",
       "      <td>0.0</td>\n",
       "      <td>25378.572</td>\n",
       "      <td>to have a wedding</td>\n",
       "      <td>Adult</td>\n",
       "    </tr>\n",
       "    <tr>\n",
       "      <td>...</td>\n",
       "      <td>...</td>\n",
       "      <td>...</td>\n",
       "      <td>...</td>\n",
       "      <td>...</td>\n",
       "      <td>...</td>\n",
       "      <td>...</td>\n",
       "      <td>...</td>\n",
       "      <td>...</td>\n",
       "      <td>...</td>\n",
       "      <td>...</td>\n",
       "      <td>...</td>\n",
       "      <td>...</td>\n",
       "      <td>...</td>\n",
       "    </tr>\n",
       "    <tr>\n",
       "      <td>21520</td>\n",
       "      <td>1.0</td>\n",
       "      <td>4529.316663</td>\n",
       "      <td>43.0</td>\n",
       "      <td>secondary education</td>\n",
       "      <td>1.0</td>\n",
       "      <td>civil partnership</td>\n",
       "      <td>1.0</td>\n",
       "      <td>F</td>\n",
       "      <td>business</td>\n",
       "      <td>0.0</td>\n",
       "      <td>35966.698</td>\n",
       "      <td>housing transactions</td>\n",
       "      <td>Adult</td>\n",
       "    </tr>\n",
       "    <tr>\n",
       "      <td>21521</td>\n",
       "      <td>0.0</td>\n",
       "      <td>343937.404131</td>\n",
       "      <td>67.0</td>\n",
       "      <td>secondary education</td>\n",
       "      <td>1.0</td>\n",
       "      <td>married</td>\n",
       "      <td>0.0</td>\n",
       "      <td>F</td>\n",
       "      <td>retiree</td>\n",
       "      <td>0.0</td>\n",
       "      <td>24959.969</td>\n",
       "      <td>purchase of a car</td>\n",
       "      <td>Old</td>\n",
       "    </tr>\n",
       "    <tr>\n",
       "      <td>21522</td>\n",
       "      <td>1.0</td>\n",
       "      <td>2113.346888</td>\n",
       "      <td>38.0</td>\n",
       "      <td>secondary education</td>\n",
       "      <td>1.0</td>\n",
       "      <td>civil partnership</td>\n",
       "      <td>1.0</td>\n",
       "      <td>M</td>\n",
       "      <td>employee</td>\n",
       "      <td>1.0</td>\n",
       "      <td>14347.610</td>\n",
       "      <td>property</td>\n",
       "      <td>Middle-aged</td>\n",
       "    </tr>\n",
       "    <tr>\n",
       "      <td>21523</td>\n",
       "      <td>3.0</td>\n",
       "      <td>3112.481705</td>\n",
       "      <td>38.0</td>\n",
       "      <td>secondary education</td>\n",
       "      <td>1.0</td>\n",
       "      <td>married</td>\n",
       "      <td>0.0</td>\n",
       "      <td>M</td>\n",
       "      <td>employee</td>\n",
       "      <td>1.0</td>\n",
       "      <td>39054.888</td>\n",
       "      <td>buying my own car</td>\n",
       "      <td>Middle-aged</td>\n",
       "    </tr>\n",
       "    <tr>\n",
       "      <td>21524</td>\n",
       "      <td>2.0</td>\n",
       "      <td>1984.507589</td>\n",
       "      <td>40.0</td>\n",
       "      <td>secondary education</td>\n",
       "      <td>1.0</td>\n",
       "      <td>married</td>\n",
       "      <td>0.0</td>\n",
       "      <td>F</td>\n",
       "      <td>employee</td>\n",
       "      <td>0.0</td>\n",
       "      <td>13127.587</td>\n",
       "      <td>to buy a car</td>\n",
       "      <td>Adult</td>\n",
       "    </tr>\n",
       "  </tbody>\n",
       "</table>\n",
       "<p>21332 rows × 13 columns</p>\n",
       "</div>"
      ],
      "text/plain": [
       "       children  days_employed  dob_years            education  education_id  \\\n",
       "0           1.0    8437.673028       42.0    bachelor's degree           0.0   \n",
       "1           1.0    4024.803754       36.0  secondary education           1.0   \n",
       "2           0.0    5623.422610       33.0  secondary education           1.0   \n",
       "3           3.0    4124.747207       32.0  secondary education           1.0   \n",
       "4           0.0  340266.072047       53.0  secondary education           1.0   \n",
       "...         ...            ...        ...                  ...           ...   \n",
       "21520       1.0    4529.316663       43.0  secondary education           1.0   \n",
       "21521       0.0  343937.404131       67.0  secondary education           1.0   \n",
       "21522       1.0    2113.346888       38.0  secondary education           1.0   \n",
       "21523       3.0    3112.481705       38.0  secondary education           1.0   \n",
       "21524       2.0    1984.507589       40.0  secondary education           1.0   \n",
       "\n",
       "           family_status  family_status_id gender income_type  debt  \\\n",
       "0                married               0.0      F    employee   0.0   \n",
       "1                married               0.0      F    employee   0.0   \n",
       "2                married               0.0      M    employee   0.0   \n",
       "3                married               0.0      M    employee   0.0   \n",
       "4      civil partnership               1.0      F     retiree   0.0   \n",
       "...                  ...               ...    ...         ...   ...   \n",
       "21520  civil partnership               1.0      F    business   0.0   \n",
       "21521            married               0.0      F     retiree   0.0   \n",
       "21522  civil partnership               1.0      M    employee   1.0   \n",
       "21523            married               0.0      M    employee   1.0   \n",
       "21524            married               0.0      F    employee   0.0   \n",
       "\n",
       "       total_income                  purpose age_category  \n",
       "0         40620.102    purchase of the house        Adult  \n",
       "1         17932.802             car purchase  Middle-aged  \n",
       "2         23341.752    purchase of the house  Middle-aged  \n",
       "3         42820.568  supplementary education  Middle-aged  \n",
       "4         25378.572        to have a wedding        Adult  \n",
       "...             ...                      ...          ...  \n",
       "21520     35966.698     housing transactions        Adult  \n",
       "21521     24959.969        purchase of a car          Old  \n",
       "21522     14347.610                 property  Middle-aged  \n",
       "21523     39054.888        buying my own car  Middle-aged  \n",
       "21524     13127.587             to buy a car        Adult  \n",
       "\n",
       "[21332 rows x 13 columns]"
      ]
     },
     "execution_count": 167,
     "metadata": {},
     "output_type": "execute_result"
    }
   ],
   "source": [
    "# Replacing missing values\n",
    "bank_data.fillna(value=float('NaN'))\n"
   ]
  },
  {
   "cell_type": "markdown",
   "metadata": {},
   "source": [
    "<div class=\"alert alert-warning\" style=\"box-shadow: 4px 4px 4px\">\n",
    "<b>Remarks:</b> <s> method dropna() doesn't replace missing values </s>\n",
    "</div> \n"
   ]
  },
  {
   "cell_type": "markdown",
   "metadata": {},
   "source": [
    "<div class=\"alert alert-success\" style=\"box-shadow: 4px 4px 4px\">\n",
    "<b>Success №2:</b> Well done!\n",
    "</div> \n",
    "\n",
    "[When you think you've finished with `total_income`, check that the total number of values in this column matches the number of values in other ones.]"
   ]
  },
  {
   "cell_type": "code",
   "execution_count": 168,
   "metadata": {},
   "outputs": [
    {
     "data": {
      "text/plain": [
       "children            21330\n",
       "days_employed       21330\n",
       "dob_years           21230\n",
       "education           21330\n",
       "education_id        21330\n",
       "family_status       21330\n",
       "family_status_id    21330\n",
       "gender              21330\n",
       "income_type         21330\n",
       "debt                21330\n",
       "total_income        21332\n",
       "purpose             21330\n",
       "age_category        21230\n",
       "dtype: int64"
      ]
     },
     "execution_count": 168,
     "metadata": {},
     "output_type": "execute_result"
    }
   ],
   "source": [
    "# Check the entries in all columns - make sure we fixed all missing values\n",
    "bank_data.count()"
   ]
  },
  {
   "cell_type": "markdown",
   "metadata": {},
   "source": [
    "<div class=\"alert alert-warning\" style=\"box-shadow: 4px 4px 4px\">\n",
    "<b>Remarks:</b> <s> Once again, you've got a very complex code, try to do this: define the median in the required column and store it in a new variable. And then apply the fillna() method to the same dataframe using the previously saved variable </s>\n",
    "</div> \n"
   ]
  },
  {
   "cell_type": "markdown",
   "metadata": {},
   "source": [
    "## Categorization of data\n",
    "\n",
    "[To answer the questions and test the hypotheses, you will want to work with categorized data. Look at the questions that were posed to you and that you should answer. Think about which of the data will need to be categorized to answer these questions. Below you will find a template through which you can work your way when categorizing data. The first step-by-step processing covers the text data; the second one addresses the numerical data that needs to be categorized. You can use both or none of the suggested instructions - it's up to you.]\n",
    "\n",
    "[Despite of how you decide to address the categorization, make sure to provide clear explanation of why you made your decision. Remember: this is your work and you make all decisions in it.]\n"
   ]
  },
  {
   "cell_type": "code",
   "execution_count": 169,
   "metadata": {
    "scrolled": true
   },
   "outputs": [
    {
     "name": "stdout",
     "output_type": "stream",
     "text": [
      "0                  married\n",
      "1                  married\n",
      "2                  married\n",
      "3                  married\n",
      "4        civil partnership\n",
      "               ...        \n",
      "21520    civil partnership\n",
      "21521              married\n",
      "21522    civil partnership\n",
      "21523              married\n",
      "21524              married\n",
      "Name: family_status, Length: 21332, dtype: object\n"
     ]
    }
   ],
   "source": [
    "# Print the values for your selected data for categorization\n",
    "print(bank_data['family_status'])\n"
   ]
  },
  {
   "cell_type": "markdown",
   "metadata": {},
   "source": [
    "[Let's check unique values]"
   ]
  },
  {
   "cell_type": "code",
   "execution_count": 170,
   "metadata": {},
   "outputs": [
    {
     "data": {
      "text/plain": [
       "array(['married', 'civil partnership', 'widow / widower', 'divorced',\n",
       "       'unmarried', None, nan], dtype=object)"
      ]
     },
     "execution_count": 170,
     "metadata": {},
     "output_type": "execute_result"
    }
   ],
   "source": [
    "# Check the unique values\n",
    "bank_data['family_status'].unique()"
   ]
  },
  {
   "cell_type": "markdown",
   "metadata": {},
   "source": [
    "[What main groups can you identify based on the unique values?]\n",
    "'married', 'not married'.\n",
    "[Based on these themes, we will probably want to categorize our data.]\n"
   ]
  },
  {
   "cell_type": "code",
   "execution_count": 171,
   "metadata": {},
   "outputs": [],
   "source": [
    "# Let's write a function to categorize the data based on common topics\n",
    "def categorization(status):\n",
    "    if status != 'married':\n",
    "        return 'not married'\n",
    "    else:\n",
    "        return 'married'"
   ]
  },
  {
   "cell_type": "code",
   "execution_count": 172,
   "metadata": {},
   "outputs": [
    {
     "data": {
      "text/plain": [
       "21332"
      ]
     },
     "execution_count": 172,
     "metadata": {},
     "output_type": "execute_result"
    }
   ],
   "source": [
    "# Create a column with the categories and count the values for them\n",
    "bank_data['client_family_status'] = bank_data['family_status'].apply(categorization)\n",
    "bank_data['client_family_status'].count()"
   ]
  },
  {
   "cell_type": "markdown",
   "metadata": {},
   "source": [
    "[If you decide to categorize the numerical data, you'll need to come up with the categories for it too.]"
   ]
  },
  {
   "cell_type": "code",
   "execution_count": 173,
   "metadata": {},
   "outputs": [
    {
     "data": {
      "text/plain": [
       "0.0    12261\n",
       "1.0     4134\n",
       "4.0     2796\n",
       "3.0     1189\n",
       "2.0      950\n",
       "Name: family_status_id, dtype: int64"
      ]
     },
     "execution_count": 173,
     "metadata": {},
     "output_type": "execute_result"
    }
   ],
   "source": [
    "# Looking through all the numerical data in your selected column for categorization\n",
    "bank_data['family_status_id'].value_counts()"
   ]
  },
  {
   "cell_type": "code",
   "execution_count": 174,
   "metadata": {},
   "outputs": [
    {
     "name": "stdout",
     "output_type": "stream",
     "text": [
      "The percentage for married clients is :  57.477030%\n"
     ]
    }
   ],
   "source": [
    "# Getting summary statistics for the column\n",
    "print('The percentage for married clients is : {: %}'.format(len(bank_data[bank_data['family_status_id'] == 0])/len(bank_data['family_status_id'])))\n"
   ]
  },
  {
   "cell_type": "markdown",
   "metadata": {},
   "source": [
    "[Decide what ranges you will use for grouping and explain why.]\n",
    "I'll group acording to the age category, \n",
    "because if you are married then you are adult.\n",
    "Then the range will be age > 19."
   ]
  },
  {
   "cell_type": "markdown",
   "metadata": {},
   "source": [
    "<div class=\"alert alert-danger\" style=\"box-shadow: 4px 4px 4px\">\n",
    "<b>Needs fixing:</b> <s> You need to categorize purpose column to answer the question \"How do different loan purposes affect on-time repayment of the loan?\". You can use lemmatizer to speed up </s>\n",
    "</div>"
   ]
  },
  {
   "cell_type": "code",
   "execution_count": 175,
   "metadata": {},
   "outputs": [],
   "source": [
    "# Creating function for categorizing into different numerical groups based on ranges\n",
    "wordnet_lemma = WordNetLemmatizer()\n",
    "def categorize(purpose):\n",
    "    words = nltk.word_tokenize(purpose)\n",
    "    lemmas = [wordnet_lemma.lemmatize(w, pos = 'n') for w in words]\n",
    "    for word in lemmas:\n",
    "        if word == 'wedding':\n",
    "            return 'wedding'\n",
    "        elif word == 'car':\n",
    "            return 'car'\n",
    "        elif word == 'house':\n",
    "            return 'house'\n",
    "        elif word == 'education':\n",
    "            return 'education'\n",
    "    return 'other'"
   ]
  },
  {
   "cell_type": "code",
   "execution_count": 180,
   "metadata": {},
   "outputs": [],
   "source": [
    "# Creating column with categories\n",
    "bank_data['purpose'].fillna('', inplace=True)\n",
    "bank_data['purpose'].isna().sum()\n",
    "bank_data['purpose_category'] = bank_data['purpose'].apply(categorize)\n"
   ]
  },
  {
   "cell_type": "code",
   "execution_count": 182,
   "metadata": {
    "scrolled": true
   },
   "outputs": [
    {
     "data": {
      "text/plain": [
       "other        9760\n",
       "car          4279\n",
       "education    3084\n",
       "wedding      2313\n",
       "house        1896\n",
       "Name: purpose_category, dtype: int64"
      ]
     },
     "execution_count": 182,
     "metadata": {},
     "output_type": "execute_result"
    }
   ],
   "source": [
    "# Count each categories values to see the distribution\n",
    "bank_data['purpose_category'].value_counts()"
   ]
  },
  {
   "cell_type": "markdown",
   "metadata": {},
   "source": [
    "<div class=\"alert alert-success\" style=\"box-shadow: 4px 4px 4px\">\n",
    "<b>Success №3:</b> Well done! First, it was worth displaying all the lemmas from the resulting dictionary and adding some categories that you might have missed. This is necessary so that the other category includes fewer values.\n",
    "</div> \n",
    "\n",
    "## Checking the Hypotheses\n"
   ]
  },
  {
   "cell_type": "markdown",
   "metadata": {},
   "source": [
    "**Is there a correlation between having children and paying back on time?**"
   ]
  },
  {
   "cell_type": "code",
   "execution_count": 184,
   "metadata": {},
   "outputs": [
    {
     "name": "stdout",
     "output_type": "stream",
     "text": [
      "0.0    19598\n",
      "1.0     1732\n",
      "Name: debt, dtype: int64\n",
      "\n",
      "0.0    14090\n",
      "1.0     4808\n",
      "2.0     2052\n",
      "3.0      330\n",
      "4.0       41\n",
      "5.0        9\n",
      "Name: children, dtype: int64\n",
      "The default rate base on the number of 0 child is: 7.544358%\n",
      "The ratio is 0.075444\n",
      "\n",
      "The default rate base on the number of 1 child is: 9.234609%\n",
      "The ratio is 0.092346\n",
      "\n",
      "The default rate base on the number of 2 child is: 9.454191%\n",
      "The ratio is 0.094542\n",
      "\n",
      "The default rate base on the number of 3 child is: 8.181818%\n",
      "The ratio is 0.081818\n",
      "\n",
      "The default rate base on the number of 4 child is: 9.756098%\n",
      "The ratio is 0.097561\n",
      "\n",
      "The default rate base on the number of 5 child is: 0.000000%\n",
      "The ratio is 0.000000\n",
      "\n"
     ]
    }
   ],
   "source": [
    "# Check the children data and paying back on time\n",
    "print(bank_data['debt'].value_counts())\n",
    "print()\n",
    "print(bank_data['children'].value_counts())\n",
    "# Calculating default-rate based on the number of children\n",
    "no_children = len(bank_data[(bank_data['children'] == 0) & (bank_data['debt'] == 1)]) / len(bank_data[bank_data['children'] == 0]) \n",
    "one_child = len(bank_data[(bank_data['children'] == 1) & (bank_data['debt'] == 1)]) / len(bank_data[bank_data['children'] == 1] )\n",
    "two_child = len(bank_data[(bank_data['children'] == 2) & (bank_data['debt'] == 1)]) / len(bank_data[bank_data['children'] == 2] )\n",
    "three_child = len(bank_data[(bank_data['children'] == 3) & (bank_data['debt'] == 1)]) / len(bank_data[bank_data['children'] == 3])\n",
    "four_child = len(bank_data[(bank_data['children'] == 4) & (bank_data['debt'] == 1)]) / len(bank_data[bank_data['children'] == 4] )\n",
    "five_child = len(bank_data[(bank_data['children'] == 5) & (bank_data['debt'] == 1)]) / len(bank_data[bank_data['children'] == 5])\n",
    "\n",
    "children = [no_children, one_child, two_child, three_child, four_child, five_child]\n",
    "count =0 \n",
    "for child in children:\n",
    "    print('The default rate base on the number of {:} child is: {:%}'.format(count, child))\n",
    "    print('The ratio is {:f}'.format(child))\n",
    "    print()\n",
    "    count +=1"
   ]
  },
  {
   "cell_type": "markdown",
   "metadata": {},
   "source": [
    "<div class=\"alert alert-danger\" style=\"box-shadow: 4px 4px 4px\">\n",
    "<b>Needs fixing:</b> <s> It is also worth looking at the following relationships: the number of families with n children with debt divided by the total number of families with n children </s>\n",
    "</div>\n",
    "\n",
    "<div class=\"alert alert-danger\" style=\"box-shadow: 4px 4px 4px\">\n",
    "<b>Needs fixing #2:</b> <s> You are displaying the wrong values ​​again. In order to see the probability of debt in each age category, you need to divide the number of people in this category with debt by the number of all people in that category :  len(bank_data[(bank_data['children'] == 0) & (bank_data['debt'] == 1)]) / len(bank_data[bank_data['children'] == 0])\n",
    "    same for others categories </s>\n",
    "</div>\n",
    "\n",
    "<div class=\"alert alert-success\" style=\"box-shadow: 4px 4px 4px\">\n",
    "<b>Success №3:</b> ✅\n",
    "</div> \n"
   ]
  },
  {
   "cell_type": "markdown",
   "metadata": {},
   "source": [
    "**Conclusion**\n",
    "\n",
    "[Write your conclusions based on your manipulations and observations.]\n"
   ]
  },
  {
   "cell_type": "markdown",
   "metadata": {},
   "source": [
    "**Is there a correlation between family status and paying back on time?**\n",
    "Yes, people who is in debt has usually less then 5 children if at all."
   ]
  },
  {
   "cell_type": "code",
   "execution_count": 186,
   "metadata": {},
   "outputs": [
    {
     "name": "stdout",
     "output_type": "stream",
     "text": [
      "The default rate base on the family status is : 7.560558% for married families \n",
      "\n",
      "The default rate base on the family status is : 8.874435% for not married families \n"
     ]
    }
   ],
   "source": [
    "# Check the family status data and paying back on time\n",
    "bank_data.loc[:, ['debt', 'client_family_status']]\n",
    "\n",
    "\n",
    "# Calculating default-rate based on family status\n",
    "married = len(bank_data[(bank_data['client_family_status'] == 'married') & (bank_data['debt'] == 1)])\n",
    "not_married = len(bank_data[(bank_data['client_family_status'] == 'not married') & (bank_data['debt'] == 1)]) \n",
    "\n",
    "print('The default rate base on the family status is : {:%} for married families '.format(married / len(bank_data[bank_data['client_family_status'] == 'married'] )))\n",
    "print()\n",
    "print('The default rate base on the family status is : {:%} for not married families '.format(not_married / len(bank_data[bank_data['client_family_status'] == 'not married'])))\n"
   ]
  },
  {
   "cell_type": "markdown",
   "metadata": {},
   "source": [
    "<div class=\"alert alert-danger\" style=\"box-shadow: 4px 4px 4px\">\n",
    "<b>Needs fixing:</b> <s> Same problem. You are looking at the distribution of people who are married and not married among those who have debts, but you need to look at the percentage of people with debts in each of the groups. </s>\n",
    "</div>\n",
    "<div class=\"alert alert-danger\" style=\"box-shadow: 4px 4px 4px\">\n",
    "<b>Needs fixing #2:</b> <s> try to do like this len(bank_data[(bank_data['client_family_status'] == 'married') & (bank_data['debt'] == 1)])/ len(bank_data[bank_data['client_family_status'] == 'married'] ) </s>\n",
    "</div> \n",
    "\n",
    "<div class=\"alert alert-success\" style=\"box-shadow: 4px 4px 4px\">\n",
    "<b>Success №3:</b> 👍\n",
    "</div> \n"
   ]
  },
  {
   "cell_type": "markdown",
   "metadata": {},
   "source": [
    "**Conclusion**\n",
    "[Write your conclusions based on your manipulations and observations.]\n",
    "Client who doesnt has children and married doesnt have debt!!"
   ]
  },
  {
   "cell_type": "markdown",
   "metadata": {},
   "source": [
    "**Is there a correlation between income level and paying back on time?**"
   ]
  },
  {
   "cell_type": "code",
   "execution_count": 189,
   "metadata": {},
   "outputs": [
    {
     "name": "stdout",
     "output_type": "stream",
     "text": [
      "The percentage of clients whom low income and has are defaulted on loan is 65.935335%\n",
      "The percentage of clients whom high income and has are defaulted on loan is 34.064665%\n"
     ]
    }
   ],
   "source": [
    "# Check the income level data and paying back on time\n",
    "bank_data.sort_values(by='total_income' ,ascending=True)\n",
    "ratio = []\n",
    "for row in bank_data.loc[bank_data.loc[:, 'debt'] == 1, 'total_income']:\n",
    "    if  row < bank_data['total_income'].mean():\n",
    "        ratio.append(row)\n",
    "print('The percentage of clients whom low income and has are defaulted on loan is {:%}'.format(len(ratio)/len(bank_data.loc[bank_data.loc[:, 'debt'] == 1, 'total_income'])))\n",
    "\n",
    "# Calculating default-rate based on income level\n",
    "ratio = []\n",
    "for row in bank_data.loc[bank_data.loc[:, 'debt'] == 1, 'total_income']:\n",
    "    if  row > bank_data['total_income'].mean():\n",
    "        ratio.append(row)\n",
    "print('The percentage of clients whom high income and has are defaulted on loan is {:%}'.format(len(ratio)/len(bank_data.loc[bank_data.loc[:, 'debt'] == 1, 'total_income'])))"
   ]
  },
  {
   "cell_type": "markdown",
   "metadata": {},
   "source": [
    "<div class=\"alert alert-danger\" style=\"box-shadow: 4px 4px 4px\">\n",
    "<b>Needs fixing:</b> <s> Same( \n",
    "</div>"
   ]
  },
  {
   "cell_type": "markdown",
   "metadata": {},
   "source": [
    "**Conclusion**\n",
    "\n",
    "[Write your conclusions based on your manipulations and observations.]\n",
    " \n",
    "Clients who has high income usually dont loan money from the bank.\n",
    "Most of the debt are from clients who earn less then the mean income.\n",
    "\n",
    "<div class=\"alert alert-success\" style=\"box-shadow: 4px 4px 4px\">\n",
    "<b>Success №3:</b> Great\n",
    "</div> "
   ]
  },
  {
   "cell_type": "markdown",
   "metadata": {},
   "source": [
    "**How does credit purpose affect the default rate?**\n",
    "<div class=\"alert alert-danger\" style=\"box-shadow: 4px 4px 4px\">\n",
    "<b>Needs fixing #2:</b> <s> First, you need to categorize the data in this column and only then make conclusions </s>\n",
    "</div>"
   ]
  },
  {
   "cell_type": "code",
   "execution_count": 1,
   "metadata": {},
   "outputs": [
    {
     "ename": "NameError",
     "evalue": "name 'bank_data' is not defined",
     "output_type": "error",
     "traceback": [
      "\u001b[0;31m---------------------------------------------------------------------------\u001b[0m",
      "\u001b[0;31mNameError\u001b[0m                                 Traceback (most recent call last)",
      "\u001b[0;32m<ipython-input-1-37ae33b1c029>\u001b[0m in \u001b[0;36m<module>\u001b[0;34m\u001b[0m\n\u001b[1;32m      1\u001b[0m \u001b[0;31m# Check the percentages for default rate for each credit purpose and analyze them\u001b[0m\u001b[0;34m\u001b[0m\u001b[0;34m\u001b[0m\u001b[0;34m\u001b[0m\u001b[0m\n\u001b[0;32m----> 2\u001b[0;31m \u001b[0mprint\u001b[0m\u001b[0;34m(\u001b[0m\u001b[0mbank_data\u001b[0m\u001b[0;34m.\u001b[0m\u001b[0mloc\u001b[0m\u001b[0;34m[\u001b[0m\u001b[0mbank_data\u001b[0m\u001b[0;34m.\u001b[0m\u001b[0mloc\u001b[0m\u001b[0;34m[\u001b[0m\u001b[0;34m:\u001b[0m\u001b[0;34m,\u001b[0m \u001b[0;34m'debt'\u001b[0m\u001b[0;34m]\u001b[0m \u001b[0;34m==\u001b[0m \u001b[0;36m0\u001b[0m\u001b[0;34m,\u001b[0m \u001b[0;34m'purpose_category'\u001b[0m\u001b[0;34m]\u001b[0m\u001b[0;34m.\u001b[0m\u001b[0mvalue_counts\u001b[0m\u001b[0;34m(\u001b[0m\u001b[0;34m)\u001b[0m\u001b[0;34m)\u001b[0m\u001b[0;34m\u001b[0m\u001b[0;34m\u001b[0m\u001b[0m\n\u001b[0m\u001b[1;32m      3\u001b[0m \u001b[0mprint\u001b[0m\u001b[0;34m(\u001b[0m\u001b[0;34m'Most of the debt come from people who has other purpose then what i categorized before e.g: wedding ceremony, buying new house etc and they are {:%} of the total clients'\u001b[0m\u001b[0;34m.\u001b[0m\u001b[0mformat\u001b[0m\u001b[0;34m(\u001b[0m\u001b[0;34m(\u001b[0m\u001b[0;36m9023\u001b[0m\u001b[0;34m)\u001b[0m\u001b[0;34m/\u001b[0m\u001b[0mbank_data\u001b[0m\u001b[0;34m[\u001b[0m\u001b[0;34m'purpose_category'\u001b[0m\u001b[0;34m]\u001b[0m\u001b[0;34m.\u001b[0m\u001b[0mvalue_counts\u001b[0m\u001b[0;34m(\u001b[0m\u001b[0;34m)\u001b[0m\u001b[0;34m.\u001b[0m\u001b[0msum\u001b[0m\u001b[0;34m(\u001b[0m\u001b[0;34m)\u001b[0m\u001b[0;34m)\u001b[0m\u001b[0;34m)\u001b[0m\u001b[0;34m\u001b[0m\u001b[0;34m\u001b[0m\u001b[0m\n",
      "\u001b[0;31mNameError\u001b[0m: name 'bank_data' is not defined"
     ]
    }
   ],
   "source": [
    "# Check the percentages for default rate for each credit purpose and analyze them\n",
    "print(bank_data.loc[bank_data.loc[:, 'debt'] == 0, 'purpose_category'].value_counts())\n",
    "print('Most of the debt come from people who has other purpose then what i categorized before e.g: wedding ceremony, buying new house etc and they are {:%} of the total clients'.format((9023)/bank_data['purpose_category'].value_counts().sum()))\n"
   ]
  },
  {
   "cell_type": "markdown",
   "metadata": {},
   "source": [
    "**Conclusion**\n",
    "\n",
    "[Write your conclusions based on your manipulations and observations.]\n",
    "Base on what i study there is trend that shows us what is the connection between the family status and number of children to the fact that the client has debt and will repay it.\n",
    "In order to find out the I had used techniques to calculate the percantage of the people who dont have children and i found out that there are more then half of the clients who doesnt have children and they are defaulted on loan.\n",
    "Moreover most of the clients whom are on debt are not married, and I examine the correlation to total incomes \n",
    "and I found out that they are most likely to have a low income.\n",
    "Furthermore most of the clients who have defualted on loan are using it to some kind of of reason and beneath them there is clients who just want to buy a brand new car.\n",
    "\n",
    "<div class=\"alert alert-success\" style=\"box-shadow: 4px 4px 4px\">\n",
    "<b>Success №3:</b> You've done a really good job!\n",
    "</div> "
   ]
  },
  {
   "cell_type": "markdown",
   "metadata": {},
   "source": [
    "# General Conclusion \n",
    "\n",
    "[List your conclusions in this final section. Make sure you include all your important conclusions you made that led you to the way you processed and analyzed the data. Cover the missing values, duplicates, and possible reasons and solutions for problematic artifacts that you had to address.]\n",
    "\n",
    "[List your conclusions regarding the posed questions here as well.]\n"
   ]
  },
  {
   "cell_type": "markdown",
   "metadata": {},
   "source": [
    "## Project Readiness Checklist\n",
    "\n",
    "- [x]  file open;\n",
    "- [x]  file examined;\n",
    "- [x]  missing values defined;\n",
    "- [x]  missing values are filled;\n",
    "- [x]  an explanation of which missing value types were detected;\n",
    "- [x]  explanation for the possible causes of missing values;\n",
    "- [x]  an explanation of how the blanks are filled;\n",
    "- [x]  replaced the real data type with an integer;\n",
    "- [x]  an explanation of which method is used to change the data type and why;\n",
    "- [x]  duplicates deleted;\n",
    "- [x]  an explanation of which method is used to find and remove duplicates;\n",
    "- [x]  description of the possible reasons for the appearance of duplicates in the data;\n",
    "- [x]  data is categorized;\n",
    "- [x]  an explanation of the principle of data categorization;\n",
    "- [x]  an answer to the question \"Is there a relation between having kids and repaying a loan on time?\";\n",
    "- [x]  an answer to the question \" Is there a relation between marital status and repaying a loan on time?\";\n",
    "- [x]   an answer to the question \" Is there a relation between income level and repaying a loan on time?\";\n",
    "- [x]  an answer to the question \" How do different loan purposes affect on-time repayment of the loan?\"\n",
    "- [x]  conclusions are present on each stage;\n",
    "- [x]  a general conclusion is made."
   ]
  },
  {
   "cell_type": "code",
   "execution_count": null,
   "metadata": {},
   "outputs": [],
   "source": []
  }
 ],
 "metadata": {
  "ExecuteTimeLog": [
   {
    "duration": 2741,
    "start_time": "2021-10-21T01:08:49.480Z"
   },
   {
    "duration": 52,
    "start_time": "2021-10-21T01:08:53.315Z"
   },
   {
    "duration": 49,
    "start_time": "2021-10-21T01:08:57.432Z"
   },
   {
    "duration": 70,
    "start_time": "2021-10-21T01:09:07.706Z"
   },
   {
    "duration": 870,
    "start_time": "2021-11-09T10:51:45.869Z"
   },
   {
    "duration": 87,
    "start_time": "2021-11-09T10:51:57.723Z"
   },
   {
    "duration": 479,
    "start_time": "2021-11-09T10:54:16.662Z"
   },
   {
    "duration": 416,
    "start_time": "2021-11-09T10:54:34.346Z"
   },
   {
    "duration": 5,
    "start_time": "2021-11-09T10:55:25.302Z"
   },
   {
    "duration": 422,
    "start_time": "2021-11-09T10:57:16.048Z"
   },
   {
    "duration": 11,
    "start_time": "2021-11-09T10:57:32.713Z"
   },
   {
    "duration": 17,
    "start_time": "2021-11-09T11:03:41.133Z"
   },
   {
    "duration": 15,
    "start_time": "2021-11-09T11:11:28.881Z"
   },
   {
    "duration": 35,
    "start_time": "2021-11-09T11:12:07.171Z"
   },
   {
    "duration": 33,
    "start_time": "2021-11-09T11:22:00.584Z"
   },
   {
    "duration": 370,
    "start_time": "2021-11-09T11:35:01.032Z"
   },
   {
    "duration": 152,
    "start_time": "2021-11-09T11:35:21.573Z"
   },
   {
    "duration": 34,
    "start_time": "2021-11-09T11:37:07.005Z"
   },
   {
    "duration": -842,
    "start_time": "2021-11-09T11:40:56.430Z"
   },
   {
    "duration": -972,
    "start_time": "2021-11-09T11:41:12.838Z"
   },
   {
    "duration": 34,
    "start_time": "2021-11-09T11:41:37.882Z"
   },
   {
    "duration": 440,
    "start_time": "2021-11-09T14:39:32.834Z"
   },
   {
    "duration": 1055,
    "start_time": "2021-11-09T14:39:50.741Z"
   },
   {
    "duration": 5,
    "start_time": "2021-11-09T14:39:57.208Z"
   },
   {
    "duration": 9,
    "start_time": "2021-11-09T14:40:11.249Z"
   },
   {
    "duration": 200,
    "start_time": "2021-11-09T14:41:39.654Z"
   },
   {
    "duration": 8,
    "start_time": "2021-11-09T14:42:52.367Z"
   },
   {
    "duration": 211,
    "start_time": "2021-11-09T14:53:43.175Z"
   },
   {
    "duration": 118,
    "start_time": "2021-11-09T14:57:11.843Z"
   },
   {
    "duration": 446,
    "start_time": "2021-11-09T14:57:42.487Z"
   },
   {
    "duration": -2956,
    "start_time": "2021-11-09T14:59:14.538Z"
   },
   {
    "duration": 11057,
    "start_time": "2021-11-09T14:59:23.167Z"
   },
   {
    "duration": 476,
    "start_time": "2021-11-09T15:00:03.566Z"
   },
   {
    "duration": 218,
    "start_time": "2021-11-09T15:00:25.602Z"
   },
   {
    "duration": 12,
    "start_time": "2021-11-09T15:02:15.705Z"
   },
   {
    "duration": 12,
    "start_time": "2021-11-09T15:03:02.807Z"
   },
   {
    "duration": 13,
    "start_time": "2021-11-09T15:03:11.283Z"
   },
   {
    "duration": 21,
    "start_time": "2021-11-09T15:03:43.148Z"
   },
   {
    "duration": 22,
    "start_time": "2021-11-09T15:05:23.137Z"
   },
   {
    "duration": 240,
    "start_time": "2021-11-09T15:16:44.761Z"
   },
   {
    "duration": 3054,
    "start_time": "2021-11-09T15:21:58.770Z"
   },
   {
    "duration": 3238,
    "start_time": "2021-11-09T15:23:10.646Z"
   },
   {
    "duration": 15,
    "start_time": "2021-11-09T15:23:39.652Z"
   },
   {
    "duration": 18,
    "start_time": "2021-11-09T15:24:36.240Z"
   },
   {
    "duration": 11,
    "start_time": "2021-11-09T15:25:00.551Z"
   },
   {
    "duration": 21,
    "start_time": "2021-11-09T15:25:11.411Z"
   },
   {
    "duration": 407,
    "start_time": "2021-11-09T15:26:14.586Z"
   },
   {
    "duration": 390,
    "start_time": "2021-11-09T15:27:26.823Z"
   },
   {
    "duration": 8,
    "start_time": "2021-11-09T15:28:13.562Z"
   },
   {
    "duration": 9,
    "start_time": "2021-11-09T15:30:51.605Z"
   },
   {
    "duration": 17,
    "start_time": "2021-11-09T15:32:47.513Z"
   },
   {
    "duration": 18,
    "start_time": "2021-11-09T15:33:16.805Z"
   },
   {
    "duration": 33,
    "start_time": "2021-11-09T15:34:05.628Z"
   },
   {
    "duration": 3510,
    "start_time": "2021-11-09T15:50:16.832Z"
   },
   {
    "duration": 8,
    "start_time": "2021-11-09T15:50:34.171Z"
   },
   {
    "duration": 9,
    "start_time": "2021-11-09T15:50:48.208Z"
   },
   {
    "duration": 10,
    "start_time": "2021-11-09T15:50:58.479Z"
   },
   {
    "duration": 10,
    "start_time": "2021-11-09T16:02:52.276Z"
   },
   {
    "duration": 11,
    "start_time": "2021-11-09T16:03:01.271Z"
   },
   {
    "duration": 9,
    "start_time": "2021-11-09T16:04:19.621Z"
   },
   {
    "duration": 9,
    "start_time": "2021-11-09T16:04:39.475Z"
   },
   {
    "duration": 14,
    "start_time": "2021-11-09T16:04:53.709Z"
   },
   {
    "duration": 10,
    "start_time": "2021-11-09T16:06:15.199Z"
   },
   {
    "duration": 516,
    "start_time": "2021-11-09T16:07:17.323Z"
   },
   {
    "duration": 416,
    "start_time": "2021-11-09T16:07:26.173Z"
   },
   {
    "duration": 13,
    "start_time": "2021-11-09T16:07:46.308Z"
   },
   {
    "duration": 427,
    "start_time": "2021-11-09T16:08:59.373Z"
   },
   {
    "duration": 12,
    "start_time": "2021-11-09T16:09:03.427Z"
   },
   {
    "duration": 438,
    "start_time": "2021-11-09T16:17:45.426Z"
   },
   {
    "duration": 4941,
    "start_time": "2021-11-09T16:19:19.719Z"
   },
   {
    "duration": 34,
    "start_time": "2021-11-09T16:20:01.766Z"
   },
   {
    "duration": 12,
    "start_time": "2021-11-09T16:22:52.424Z"
   },
   {
    "duration": 3,
    "start_time": "2021-11-09T16:59:12.800Z"
   },
   {
    "duration": 27,
    "start_time": "2021-11-09T19:25:20.734Z"
   },
   {
    "duration": 396,
    "start_time": "2021-11-09T19:25:33.474Z"
   },
   {
    "duration": 14,
    "start_time": "2021-11-09T19:25:42.522Z"
   },
   {
    "duration": 3,
    "start_time": "2021-11-09T20:57:07.043Z"
   },
   {
    "duration": 212,
    "start_time": "2021-11-09T20:57:11.746Z"
   },
   {
    "duration": 172,
    "start_time": "2021-11-09T20:57:22.750Z"
   },
   {
    "duration": 752,
    "start_time": "2021-11-09T20:57:35.730Z"
   },
   {
    "duration": 10,
    "start_time": "2021-11-09T20:57:44.413Z"
   },
   {
    "duration": 10,
    "start_time": "2021-11-09T20:59:42.699Z"
   },
   {
    "duration": 200,
    "start_time": "2021-11-09T21:00:15.812Z"
   },
   {
    "duration": 10,
    "start_time": "2021-11-09T21:00:30.410Z"
   },
   {
    "duration": 190,
    "start_time": "2021-11-09T21:00:46.664Z"
   },
   {
    "duration": 6,
    "start_time": "2021-11-09T21:01:05.221Z"
   },
   {
    "duration": 1341,
    "start_time": "2021-11-09T21:01:35.776Z"
   },
   {
    "duration": 154,
    "start_time": "2021-11-09T21:01:51.351Z"
   },
   {
    "duration": 202,
    "start_time": "2021-11-09T21:02:12.460Z"
   },
   {
    "duration": 299,
    "start_time": "2021-11-09T21:02:45.627Z"
   },
   {
    "duration": 110,
    "start_time": "2021-11-09T21:02:53.980Z"
   },
   {
    "duration": 178,
    "start_time": "2021-11-09T21:03:01.740Z"
   },
   {
    "duration": 187,
    "start_time": "2021-11-09T21:03:31.876Z"
   },
   {
    "duration": 21,
    "start_time": "2021-11-09T21:04:10.848Z"
   },
   {
    "duration": 9,
    "start_time": "2021-11-09T21:05:10.816Z"
   },
   {
    "duration": 10,
    "start_time": "2021-11-09T21:05:56.931Z"
   },
   {
    "duration": 19,
    "start_time": "2021-11-09T21:18:16.222Z"
   },
   {
    "duration": 8,
    "start_time": "2021-11-09T21:19:54.823Z"
   },
   {
    "duration": 5,
    "start_time": "2021-11-09T21:20:08.149Z"
   },
   {
    "duration": 549,
    "start_time": "2021-11-10T12:37:43.883Z"
   },
   {
    "duration": 373,
    "start_time": "2021-11-10T12:37:54.571Z"
   },
   {
    "duration": 901,
    "start_time": "2021-11-10T12:38:03.904Z"
   },
   {
    "duration": 9,
    "start_time": "2021-11-10T12:38:10.691Z"
   },
   {
    "duration": 14,
    "start_time": "2021-11-10T12:38:15.440Z"
   },
   {
    "duration": 8,
    "start_time": "2021-11-10T12:41:35.344Z"
   },
   {
    "duration": 674,
    "start_time": "2021-11-10T12:43:41.328Z"
   },
   {
    "duration": 396,
    "start_time": "2021-11-10T12:44:01.405Z"
   },
   {
    "duration": 7,
    "start_time": "2021-11-10T12:44:11.883Z"
   },
   {
    "duration": 9,
    "start_time": "2021-11-10T12:44:46.640Z"
   },
   {
    "duration": 11,
    "start_time": "2021-11-10T12:45:10.251Z"
   },
   {
    "duration": 677,
    "start_time": "2021-11-11T05:44:15.062Z"
   },
   {
    "duration": 358,
    "start_time": "2021-11-11T09:43:07.071Z"
   },
   {
    "duration": 18,
    "start_time": "2021-11-11T09:43:16.299Z"
   },
   {
    "duration": 256,
    "start_time": "2021-11-11T09:44:00.395Z"
   },
   {
    "duration": 16,
    "start_time": "2021-11-11T09:44:06.352Z"
   },
   {
    "duration": 17,
    "start_time": "2021-11-11T09:44:15.284Z"
   },
   {
    "duration": 16,
    "start_time": "2021-11-11T09:44:23.409Z"
   },
   {
    "duration": 250,
    "start_time": "2021-11-11T09:44:46.850Z"
   },
   {
    "duration": 294,
    "start_time": "2021-11-11T09:46:38.793Z"
   },
   {
    "duration": 2282,
    "start_time": "2021-11-11T09:48:08.692Z"
   },
   {
    "duration": 2238,
    "start_time": "2021-11-11T09:49:01.269Z"
   },
   {
    "duration": 7,
    "start_time": "2021-11-11T09:49:18.106Z"
   },
   {
    "duration": 12,
    "start_time": "2021-11-11T09:49:40.023Z"
   },
   {
    "duration": 10,
    "start_time": "2021-11-11T09:49:47.478Z"
   },
   {
    "duration": 12,
    "start_time": "2021-11-11T09:49:54.711Z"
   },
   {
    "duration": 12,
    "start_time": "2021-11-11T09:59:14.547Z"
   },
   {
    "duration": 11,
    "start_time": "2021-11-11T10:23:50.560Z"
   },
   {
    "duration": 5,
    "start_time": "2021-11-11T10:27:21.877Z"
   },
   {
    "duration": 10,
    "start_time": "2021-11-11T10:27:33.011Z"
   },
   {
    "duration": 12,
    "start_time": "2021-11-11T10:28:11.575Z"
   },
   {
    "duration": 265,
    "start_time": "2021-11-11T10:29:17.095Z"
   },
   {
    "duration": 11,
    "start_time": "2021-11-11T10:29:28.457Z"
   },
   {
    "duration": 89,
    "start_time": "2021-11-11T10:30:32.268Z"
   },
   {
    "duration": 10,
    "start_time": "2021-11-11T10:30:46.714Z"
   },
   {
    "duration": 252,
    "start_time": "2021-11-11T10:31:36.236Z"
   },
   {
    "duration": 9,
    "start_time": "2021-11-11T10:31:40.755Z"
   },
   {
    "duration": 259,
    "start_time": "2021-11-11T10:32:19.700Z"
   },
   {
    "duration": 11,
    "start_time": "2021-11-11T10:32:26.555Z"
   },
   {
    "duration": 21,
    "start_time": "2021-11-11T10:33:20.383Z"
   },
   {
    "duration": 9,
    "start_time": "2021-11-11T10:33:59.837Z"
   },
   {
    "duration": 21,
    "start_time": "2021-11-11T14:48:19.762Z"
   },
   {
    "duration": 8,
    "start_time": "2021-11-11T14:49:01.933Z"
   },
   {
    "duration": 12,
    "start_time": "2021-11-11T17:22:34.131Z"
   },
   {
    "duration": 9,
    "start_time": "2021-11-11T17:22:57.618Z"
   },
   {
    "duration": 247,
    "start_time": "2021-11-11T17:23:24.882Z"
   },
   {
    "duration": 249,
    "start_time": "2021-11-11T17:23:37.108Z"
   },
   {
    "duration": 8,
    "start_time": "2021-11-11T17:23:56.659Z"
   },
   {
    "duration": 13,
    "start_time": "2021-11-11T17:24:08.997Z"
   },
   {
    "duration": 283,
    "start_time": "2021-11-11T17:25:26.964Z"
   },
   {
    "duration": 241,
    "start_time": "2021-11-11T17:25:39.128Z"
   },
   {
    "duration": 13,
    "start_time": "2021-11-11T17:25:49.747Z"
   },
   {
    "duration": 10,
    "start_time": "2021-11-11T17:27:56.577Z"
   },
   {
    "duration": 14,
    "start_time": "2021-11-11T17:31:51.541Z"
   },
   {
    "duration": 1889,
    "start_time": "2021-11-11T17:35:30.737Z"
   },
   {
    "duration": 1861,
    "start_time": "2021-11-11T17:36:02.161Z"
   },
   {
    "duration": 10,
    "start_time": "2021-11-11T17:36:39.233Z"
   },
   {
    "duration": 13,
    "start_time": "2021-11-11T17:37:07.457Z"
   },
   {
    "duration": 12,
    "start_time": "2021-11-11T17:37:25.386Z"
   },
   {
    "duration": 59,
    "start_time": "2021-11-11T17:40:11.044Z"
   },
   {
    "duration": 10,
    "start_time": "2021-11-11T17:40:20.256Z"
   },
   {
    "duration": 10,
    "start_time": "2021-11-11T17:41:39.357Z"
   },
   {
    "duration": 78,
    "start_time": "2021-11-11T17:42:14.508Z"
   },
   {
    "duration": 9,
    "start_time": "2021-11-11T17:42:16.458Z"
   },
   {
    "duration": 13,
    "start_time": "2021-11-11T17:42:55.224Z"
   },
   {
    "duration": 10,
    "start_time": "2021-11-11T17:43:34.791Z"
   },
   {
    "duration": 10,
    "start_time": "2021-11-11T17:46:47.260Z"
   },
   {
    "duration": 10,
    "start_time": "2021-11-11T17:47:58.977Z"
   },
   {
    "duration": 16,
    "start_time": "2021-11-11T17:49:37.098Z"
   },
   {
    "duration": 12,
    "start_time": "2021-11-11T17:50:12.124Z"
   },
   {
    "duration": 11,
    "start_time": "2021-11-11T17:50:29.331Z"
   },
   {
    "duration": 10,
    "start_time": "2021-11-11T17:51:45.230Z"
   },
   {
    "duration": 84,
    "start_time": "2021-11-11T17:55:22.681Z"
   },
   {
    "duration": 10,
    "start_time": "2021-11-11T17:55:31.879Z"
   },
   {
    "duration": 10,
    "start_time": "2021-11-11T17:56:39.159Z"
   },
   {
    "duration": 84,
    "start_time": "2021-11-11T17:56:57.434Z"
   },
   {
    "duration": 12,
    "start_time": "2021-11-11T17:57:19.836Z"
   },
   {
    "duration": 8,
    "start_time": "2021-11-11T17:57:57.932Z"
   },
   {
    "duration": 104,
    "start_time": "2021-11-11T17:59:35.051Z"
   },
   {
    "duration": 11,
    "start_time": "2021-11-11T18:03:25.108Z"
   },
   {
    "duration": 23,
    "start_time": "2021-11-11T18:03:45.033Z"
   },
   {
    "duration": 12,
    "start_time": "2021-11-11T18:04:52.776Z"
   },
   {
    "duration": 14,
    "start_time": "2021-11-11T18:05:07.652Z"
   },
   {
    "duration": 24,
    "start_time": "2021-11-11T18:07:08.895Z"
   },
   {
    "duration": 990,
    "start_time": "2021-11-11T18:07:29.830Z"
   },
   {
    "duration": 972,
    "start_time": "2021-11-11T18:08:00.932Z"
   },
   {
    "duration": 1727,
    "start_time": "2021-11-11T18:08:25.039Z"
   },
   {
    "duration": 1095,
    "start_time": "2021-11-11T18:09:22.462Z"
   },
   {
    "duration": 12,
    "start_time": "2021-11-11T18:10:00.417Z"
   },
   {
    "duration": 23,
    "start_time": "2021-11-11T18:11:27.004Z"
   },
   {
    "duration": 10,
    "start_time": "2021-11-11T18:11:58.719Z"
   },
   {
    "duration": 23,
    "start_time": "2021-11-11T18:12:03.594Z"
   },
   {
    "duration": 10,
    "start_time": "2021-11-11T18:13:37.203Z"
   },
   {
    "duration": 11,
    "start_time": "2021-11-11T18:13:58.581Z"
   },
   {
    "duration": 23,
    "start_time": "2021-11-11T18:14:13.244Z"
   },
   {
    "duration": 24,
    "start_time": "2021-11-11T18:14:36.195Z"
   },
   {
    "duration": 88,
    "start_time": "2021-11-11T18:20:10.197Z"
   },
   {
    "duration": 24,
    "start_time": "2021-11-11T18:20:22.904Z"
   },
   {
    "duration": 89,
    "start_time": "2021-11-11T18:35:10.370Z"
   },
   {
    "duration": 36,
    "start_time": "2021-11-11T18:35:37.819Z"
   },
   {
    "duration": 250,
    "start_time": "2021-11-11T18:36:50.580Z"
   },
   {
    "duration": 10,
    "start_time": "2021-11-11T18:37:05.653Z"
   },
   {
    "duration": 23,
    "start_time": "2021-11-11T18:37:31.668Z"
   },
   {
    "duration": 1663,
    "start_time": "2021-11-11T18:39:41.822Z"
   },
   {
    "duration": 1675,
    "start_time": "2021-11-11T18:40:13.593Z"
   },
   {
    "duration": 4005,
    "start_time": "2021-11-11T18:40:36.691Z"
   },
   {
    "duration": 1769,
    "start_time": "2021-11-11T18:41:16.642Z"
   },
   {
    "duration": 16,
    "start_time": "2021-11-11T18:42:27.204Z"
   },
   {
    "duration": 32,
    "start_time": "2021-11-11T18:42:47.693Z"
   },
   {
    "duration": 26,
    "start_time": "2021-11-11T18:43:09.499Z"
   },
   {
    "duration": 7,
    "start_time": "2021-11-11T18:44:37.221Z"
   },
   {
    "duration": 15,
    "start_time": "2021-11-11T18:46:10.079Z"
   },
   {
    "duration": 14,
    "start_time": "2021-11-11T18:46:35.619Z"
   },
   {
    "duration": 14,
    "start_time": "2021-11-11T18:48:35.261Z"
   },
   {
    "duration": 14,
    "start_time": "2021-11-11T18:49:49.280Z"
   },
   {
    "duration": 14,
    "start_time": "2021-11-11T18:50:07.811Z"
   },
   {
    "duration": 22,
    "start_time": "2021-11-11T18:51:05.230Z"
   },
   {
    "duration": 17,
    "start_time": "2021-11-11T18:51:34.750Z"
   },
   {
    "duration": 19,
    "start_time": "2021-11-11T18:52:11.920Z"
   },
   {
    "duration": 19,
    "start_time": "2021-11-11T18:52:46.990Z"
   },
   {
    "duration": 18,
    "start_time": "2021-11-11T18:53:00.491Z"
   },
   {
    "duration": 18,
    "start_time": "2021-11-11T18:53:15.321Z"
   },
   {
    "duration": 18,
    "start_time": "2021-11-11T18:53:25.540Z"
   },
   {
    "duration": 19,
    "start_time": "2021-11-11T18:54:37.296Z"
   },
   {
    "duration": 16,
    "start_time": "2021-11-11T18:54:56.107Z"
   },
   {
    "duration": 84,
    "start_time": "2021-11-11T18:56:25.931Z"
   },
   {
    "duration": 18,
    "start_time": "2021-11-11T18:58:17.221Z"
   },
   {
    "duration": 18,
    "start_time": "2021-11-11T18:58:32.953Z"
   },
   {
    "duration": 17,
    "start_time": "2021-11-11T19:04:45.811Z"
   },
   {
    "duration": 6,
    "start_time": "2021-11-11T19:08:29.937Z"
   },
   {
    "duration": 11,
    "start_time": "2021-11-11T19:09:46.879Z"
   },
   {
    "duration": 15,
    "start_time": "2021-11-11T19:11:16.118Z"
   },
   {
    "duration": 17,
    "start_time": "2021-11-11T19:11:30.210Z"
   },
   {
    "duration": 86,
    "start_time": "2021-11-11T19:12:33.051Z"
   },
   {
    "duration": 261,
    "start_time": "2021-11-11T19:13:26.271Z"
   },
   {
    "duration": 84,
    "start_time": "2021-11-11T19:14:52.798Z"
   },
   {
    "duration": 11,
    "start_time": "2021-11-11T19:19:15.199Z"
   },
   {
    "duration": 5,
    "start_time": "2021-11-11T19:20:34.021Z"
   },
   {
    "duration": 11,
    "start_time": "2021-11-11T19:20:41.643Z"
   },
   {
    "duration": 6,
    "start_time": "2021-11-11T19:29:10.299Z"
   },
   {
    "duration": 80,
    "start_time": "2021-11-11T19:29:26.451Z"
   },
   {
    "duration": 5,
    "start_time": "2021-11-11T19:29:43.478Z"
   },
   {
    "duration": 6,
    "start_time": "2021-11-11T19:30:22.195Z"
   },
   {
    "duration": 7,
    "start_time": "2021-11-11T19:31:54.228Z"
   },
   {
    "duration": 259,
    "start_time": "2021-11-11T19:32:29.353Z"
   },
   {
    "duration": 7,
    "start_time": "2021-11-11T19:32:39.383Z"
   },
   {
    "duration": 252,
    "start_time": "2021-11-11T19:33:17.103Z"
   },
   {
    "duration": 7,
    "start_time": "2021-11-11T19:33:31.662Z"
   },
   {
    "duration": 267,
    "start_time": "2021-11-11T19:34:27.550Z"
   },
   {
    "duration": 7,
    "start_time": "2021-11-11T19:34:41.530Z"
   },
   {
    "duration": 552,
    "start_time": "2021-11-12T09:21:39.641Z"
   },
   {
    "duration": 920,
    "start_time": "2021-11-12T09:21:47.030Z"
   },
   {
    "duration": 13,
    "start_time": "2021-11-12T09:22:00.065Z"
   },
   {
    "duration": 81,
    "start_time": "2021-11-12T10:11:21.391Z"
   },
   {
    "duration": 11,
    "start_time": "2021-11-12T10:17:07.576Z"
   },
   {
    "duration": 11,
    "start_time": "2021-11-12T10:17:22.063Z"
   },
   {
    "duration": 182,
    "start_time": "2021-11-12T10:50:05.762Z"
   },
   {
    "duration": 12,
    "start_time": "2021-11-12T10:50:18.116Z"
   },
   {
    "duration": 351,
    "start_time": "2021-11-12T10:50:51.204Z"
   },
   {
    "duration": 39,
    "start_time": "2021-11-12T10:51:00.715Z"
   },
   {
    "duration": 10,
    "start_time": "2021-11-12T10:52:16.527Z"
   },
   {
    "duration": 10,
    "start_time": "2021-11-12T10:52:26.120Z"
   },
   {
    "duration": 1234,
    "start_time": "2021-11-12T11:00:01.655Z"
   },
   {
    "duration": 415,
    "start_time": "2021-11-12T11:00:08.382Z"
   },
   {
    "duration": 85,
    "start_time": "2021-11-12T11:00:15.724Z"
   },
   {
    "duration": 300,
    "start_time": "2021-11-12T11:00:25.050Z"
   },
   {
    "duration": 10,
    "start_time": "2021-11-12T11:00:32.812Z"
   },
   {
    "duration": 812,
    "start_time": "2021-11-12T11:01:02.823Z"
   },
   {
    "duration": 1111,
    "start_time": "2021-11-12T11:02:09.222Z"
   },
   {
    "duration": 499,
    "start_time": "2021-11-12T11:02:24.095Z"
   },
   {
    "duration": 9,
    "start_time": "2021-11-12T11:03:01.005Z"
   },
   {
    "duration": 674,
    "start_time": "2021-11-12T11:03:40.243Z"
   },
   {
    "duration": 369,
    "start_time": "2021-11-12T11:04:32.564Z"
   },
   {
    "duration": 443,
    "start_time": "2021-11-12T11:04:47.245Z"
   },
   {
    "duration": 17,
    "start_time": "2021-11-12T11:06:05.154Z"
   },
   {
    "duration": 3,
    "start_time": "2021-11-12T11:06:08.462Z"
   },
   {
    "duration": 16,
    "start_time": "2021-11-12T11:06:11.092Z"
   },
   {
    "duration": 15,
    "start_time": "2021-11-12T11:06:21.601Z"
   },
   {
    "duration": 16,
    "start_time": "2021-11-12T11:06:48.194Z"
   },
   {
    "duration": 458,
    "start_time": "2021-11-12T11:06:55.779Z"
   },
   {
    "duration": 15,
    "start_time": "2021-11-12T11:09:26.161Z"
   },
   {
    "duration": 315,
    "start_time": "2021-11-12T11:09:36.157Z"
   },
   {
    "duration": 7,
    "start_time": "2021-11-12T11:09:58.076Z"
   },
   {
    "duration": 7,
    "start_time": "2021-11-12T11:10:09.758Z"
   },
   {
    "duration": 9,
    "start_time": "2021-11-12T11:10:30.530Z"
   },
   {
    "duration": 8,
    "start_time": "2021-11-12T11:10:37.794Z"
   },
   {
    "duration": 7,
    "start_time": "2021-11-12T11:10:47.552Z"
   },
   {
    "duration": 8,
    "start_time": "2021-11-12T11:10:58.241Z"
   },
   {
    "duration": 87,
    "start_time": "2021-11-13T17:19:46.648Z"
   },
   {
    "duration": 86,
    "start_time": "2021-11-13T17:20:50.806Z"
   },
   {
    "duration": 10,
    "start_time": "2021-11-13T17:20:59.887Z"
   },
   {
    "duration": 10,
    "start_time": "2021-11-13T17:24:21.578Z"
   },
   {
    "duration": 18,
    "start_time": "2021-11-13T17:24:37.597Z"
   },
   {
    "duration": 7,
    "start_time": "2021-11-13T17:25:14.755Z"
   },
   {
    "duration": 16,
    "start_time": "2021-11-13T17:25:20.285Z"
   },
   {
    "duration": 10,
    "start_time": "2021-11-13T17:28:16.591Z"
   },
   {
    "duration": 17,
    "start_time": "2021-11-13T17:28:31.285Z"
   },
   {
    "duration": 9,
    "start_time": "2021-11-13T17:28:39.577Z"
   },
   {
    "duration": 454,
    "start_time": "2021-11-13T17:29:08.831Z"
   },
   {
    "duration": 2259,
    "start_time": "2021-11-13T17:29:07.028Z"
   },
   {
    "duration": 17,
    "start_time": "2021-11-13T17:29:20.088Z"
   },
   {
    "duration": 13,
    "start_time": "2021-11-13T17:29:50.773Z"
   },
   {
    "duration": 15,
    "start_time": "2021-11-13T17:29:59.532Z"
   },
   {
    "duration": 12,
    "start_time": "2021-11-13T17:30:07.527Z"
   },
   {
    "duration": 9,
    "start_time": "2021-11-13T17:30:51.870Z"
   },
   {
    "duration": 5,
    "start_time": "2021-11-13T17:33:08.940Z"
   },
   {
    "duration": 12,
    "start_time": "2021-11-13T17:33:53.559Z"
   },
   {
    "duration": 471,
    "start_time": "2021-11-13T17:34:20.839Z"
   },
   {
    "duration": 20,
    "start_time": "2021-11-13T17:34:44.182Z"
   },
   {
    "duration": 135,
    "start_time": "2021-11-13T17:35:43.289Z"
   },
   {
    "duration": 395,
    "start_time": "2021-11-13T17:36:01.125Z"
   },
   {
    "duration": 24,
    "start_time": "2021-11-13T17:36:11.601Z"
   },
   {
    "duration": 132,
    "start_time": "2021-11-13T17:39:09.320Z"
   },
   {
    "duration": 129,
    "start_time": "2021-11-13T17:39:23.391Z"
   },
   {
    "duration": 25,
    "start_time": "2021-11-13T17:39:57.040Z"
   },
   {
    "duration": 23,
    "start_time": "2021-11-13T17:40:06.270Z"
   },
   {
    "duration": 355,
    "start_time": "2021-11-13T17:46:42.689Z"
   },
   {
    "duration": 387,
    "start_time": "2021-11-13T17:46:51.412Z"
   },
   {
    "duration": 371,
    "start_time": "2021-11-13T17:47:51.751Z"
   },
   {
    "duration": 9,
    "start_time": "2021-11-13T17:48:16.301Z"
   },
   {
    "duration": 9,
    "start_time": "2021-11-13T17:48:21.639Z"
   },
   {
    "duration": 5,
    "start_time": "2021-11-13T17:48:27.130Z"
   },
   {
    "duration": 8,
    "start_time": "2021-11-13T17:48:56.344Z"
   },
   {
    "duration": 9,
    "start_time": "2021-11-13T17:49:43.738Z"
   },
   {
    "duration": 8,
    "start_time": "2021-11-13T17:49:48.818Z"
   },
   {
    "duration": 120,
    "start_time": "2021-11-13T17:50:12.924Z"
   },
   {
    "duration": 127,
    "start_time": "2021-11-13T17:50:57.286Z"
   },
   {
    "duration": 123,
    "start_time": "2021-11-13T17:51:21.889Z"
   },
   {
    "duration": 134,
    "start_time": "2021-11-13T17:51:52.156Z"
   },
   {
    "duration": 363,
    "start_time": "2021-11-13T17:52:08.002Z"
   },
   {
    "duration": 33,
    "start_time": "2021-11-13T17:52:45.146Z"
   },
   {
    "duration": 7,
    "start_time": "2021-11-13T17:52:53.933Z"
   },
   {
    "duration": 27,
    "start_time": "2021-11-13T17:53:20.043Z"
   },
   {
    "duration": 10,
    "start_time": "2021-11-13T17:53:24.251Z"
   },
   {
    "duration": 14,
    "start_time": "2021-11-13T17:54:58.629Z"
   },
   {
    "duration": 13,
    "start_time": "2021-11-13T17:55:24.944Z"
   },
   {
    "duration": 9,
    "start_time": "2021-11-13T17:55:29.118Z"
   },
   {
    "duration": 392,
    "start_time": "2021-11-13T17:55:55.982Z"
   },
   {
    "duration": 21,
    "start_time": "2021-11-13T17:56:05.753Z"
   },
   {
    "duration": 6,
    "start_time": "2021-11-13T17:56:21.145Z"
   },
   {
    "duration": 7,
    "start_time": "2021-11-13T17:56:25.544Z"
   },
   {
    "duration": 8,
    "start_time": "2021-11-13T17:56:31.205Z"
   },
   {
    "duration": 8,
    "start_time": "2021-11-13T17:56:34.673Z"
   },
   {
    "duration": 8,
    "start_time": "2021-11-13T17:56:46.281Z"
   },
   {
    "duration": 6,
    "start_time": "2021-11-13T17:57:04.655Z"
   },
   {
    "duration": 100,
    "start_time": "2021-11-13T17:57:14.398Z"
   },
   {
    "duration": 8,
    "start_time": "2021-11-13T17:57:22.796Z"
   },
   {
    "duration": 129,
    "start_time": "2021-11-13T17:57:50.456Z"
   },
   {
    "duration": 8,
    "start_time": "2021-11-13T17:57:57.611Z"
   },
   {
    "duration": 8,
    "start_time": "2021-11-13T17:58:02.023Z"
   },
   {
    "duration": 8,
    "start_time": "2021-11-13T17:58:40.009Z"
   },
   {
    "duration": 32,
    "start_time": "2021-11-13T17:58:44.555Z"
   },
   {
    "duration": 8,
    "start_time": "2021-11-13T17:58:46.695Z"
   },
   {
    "duration": 468,
    "start_time": "2021-11-13T17:59:59.623Z"
   },
   {
    "duration": 553,
    "start_time": "2021-11-13T18:00:11.440Z"
   },
   {
    "duration": 27,
    "start_time": "2021-11-13T18:00:34.146Z"
   },
   {
    "duration": 8,
    "start_time": "2021-11-13T18:00:39.433Z"
   },
   {
    "duration": 20,
    "start_time": "2021-11-13T18:01:09.135Z"
   },
   {
    "duration": 14,
    "start_time": "2021-11-13T18:01:12.658Z"
   },
   {
    "duration": 28,
    "start_time": "2021-11-13T18:01:34.251Z"
   },
   {
    "duration": 9,
    "start_time": "2021-11-13T18:01:38.071Z"
   },
   {
    "duration": 90,
    "start_time": "2021-11-13T18:01:51.928Z"
   },
   {
    "duration": 8,
    "start_time": "2021-11-13T18:02:03.639Z"
   },
   {
    "duration": 23,
    "start_time": "2021-11-13T18:02:14.371Z"
   },
   {
    "duration": 10,
    "start_time": "2021-11-13T18:02:17.381Z"
   },
   {
    "duration": 30,
    "start_time": "2021-11-13T18:03:40.920Z"
   },
   {
    "duration": 8,
    "start_time": "2021-11-13T18:03:43.502Z"
   },
   {
    "duration": 23,
    "start_time": "2021-11-13T18:04:02.687Z"
   },
   {
    "duration": 8,
    "start_time": "2021-11-13T18:04:04.414Z"
   },
   {
    "duration": 1717,
    "start_time": "2021-11-13T18:04:43.703Z"
   },
   {
    "duration": 8,
    "start_time": "2021-11-13T18:04:45.491Z"
   },
   {
    "duration": 1524,
    "start_time": "2021-11-13T18:04:49.705Z"
   },
   {
    "duration": 1532,
    "start_time": "2021-11-13T18:05:29.049Z"
   },
   {
    "duration": 21,
    "start_time": "2021-11-13T18:06:00.704Z"
   },
   {
    "duration": 8,
    "start_time": "2021-11-13T18:06:03.573Z"
   },
   {
    "duration": 41,
    "start_time": "2021-11-13T18:06:40.877Z"
   },
   {
    "duration": 25,
    "start_time": "2021-11-13T18:06:50.768Z"
   },
   {
    "duration": 14,
    "start_time": "2021-11-13T18:06:51.749Z"
   },
   {
    "duration": 24,
    "start_time": "2021-11-13T18:08:57.714Z"
   },
   {
    "duration": 10,
    "start_time": "2021-11-13T18:09:03.436Z"
   },
   {
    "duration": 191,
    "start_time": "2021-11-13T18:10:30.117Z"
   },
   {
    "duration": 22,
    "start_time": "2021-11-13T18:10:56.484Z"
   },
   {
    "duration": 8,
    "start_time": "2021-11-13T18:10:59.584Z"
   },
   {
    "duration": 23,
    "start_time": "2021-11-13T18:12:12.103Z"
   },
   {
    "duration": 16,
    "start_time": "2021-11-13T18:12:15.853Z"
   },
   {
    "duration": 23,
    "start_time": "2021-11-13T18:17:05.627Z"
   },
   {
    "duration": 13,
    "start_time": "2021-11-13T18:17:09.357Z"
   },
   {
    "duration": 33,
    "start_time": "2021-11-13T18:19:26.049Z"
   },
   {
    "duration": 10,
    "start_time": "2021-11-13T18:19:28.402Z"
   },
   {
    "duration": 92,
    "start_time": "2021-11-13T18:19:44.021Z"
   },
   {
    "duration": 9,
    "start_time": "2021-11-13T18:19:52.797Z"
   },
   {
    "duration": 21,
    "start_time": "2021-11-13T18:19:56.333Z"
   },
   {
    "duration": 9,
    "start_time": "2021-11-13T18:19:59.572Z"
   },
   {
    "duration": 1829,
    "start_time": "2021-11-13T18:20:18.428Z"
   },
   {
    "duration": 25,
    "start_time": "2021-11-13T18:21:39.378Z"
   },
   {
    "duration": 8,
    "start_time": "2021-11-13T18:21:42.439Z"
   },
   {
    "duration": 7,
    "start_time": "2021-11-13T18:22:23.219Z"
   },
   {
    "duration": 9,
    "start_time": "2021-11-13T18:24:50.471Z"
   },
   {
    "duration": 8,
    "start_time": "2021-11-13T18:24:57.398Z"
   },
   {
    "duration": 8,
    "start_time": "2021-11-13T18:26:10.829Z"
   },
   {
    "duration": 4,
    "start_time": "2021-11-13T18:26:22.392Z"
   },
   {
    "duration": 12,
    "start_time": "2021-11-13T18:30:28.750Z"
   },
   {
    "duration": 8,
    "start_time": "2021-11-13T18:30:32.823Z"
   },
   {
    "duration": 9887,
    "start_time": "2021-11-13T18:31:06.739Z"
   },
   {
    "duration": 7,
    "start_time": "2021-11-13T18:31:40.435Z"
   },
   {
    "duration": 2748,
    "start_time": "2021-11-13T18:33:22.010Z"
   },
   {
    "duration": 19,
    "start_time": "2021-11-13T18:33:40.977Z"
   },
   {
    "duration": 51,
    "start_time": "2021-11-13T18:34:11.143Z"
   },
   {
    "duration": 12,
    "start_time": "2021-11-13T18:34:21.814Z"
   },
   {
    "duration": 46,
    "start_time": "2021-11-13T18:34:56.932Z"
   },
   {
    "duration": 36,
    "start_time": "2021-11-13T18:35:25.306Z"
   },
   {
    "duration": 49,
    "start_time": "2021-11-13T18:35:36.960Z"
   },
   {
    "duration": 462,
    "start_time": "2021-11-13T18:35:56.581Z"
   },
   {
    "duration": 37,
    "start_time": "2021-11-13T18:36:25.473Z"
   },
   {
    "duration": 11,
    "start_time": "2021-11-13T18:37:41.561Z"
   },
   {
    "duration": 8,
    "start_time": "2021-11-13T18:38:35.746Z"
   },
   {
    "duration": 8,
    "start_time": "2021-11-13T18:39:13.699Z"
   },
   {
    "duration": 9867,
    "start_time": "2021-11-13T18:40:36.744Z"
   },
   {
    "duration": 9766,
    "start_time": "2021-11-13T18:41:05.656Z"
   },
   {
    "duration": 434,
    "start_time": "2021-11-13T18:41:30.498Z"
   },
   {
    "duration": 417,
    "start_time": "2021-11-13T18:41:40.741Z"
   },
   {
    "duration": 413,
    "start_time": "2021-11-13T18:42:20.675Z"
   },
   {
    "duration": 7,
    "start_time": "2021-11-13T18:44:05.111Z"
   },
   {
    "duration": 41,
    "start_time": "2021-11-13T18:44:18.624Z"
   },
   {
    "duration": 407,
    "start_time": "2021-11-13T18:46:45.143Z"
   },
   {
    "duration": 41,
    "start_time": "2021-11-13T18:47:19.227Z"
   },
   {
    "duration": 43,
    "start_time": "2021-11-13T18:48:19.356Z"
   },
   {
    "duration": 48,
    "start_time": "2021-11-13T19:08:33.847Z"
   },
   {
    "duration": 40,
    "start_time": "2021-11-13T19:09:19.923Z"
   },
   {
    "duration": 37,
    "start_time": "2021-11-13T19:09:45.872Z"
   },
   {
    "duration": 425,
    "start_time": "2021-11-13T19:10:13.373Z"
   },
   {
    "duration": 387,
    "start_time": "2021-11-13T19:10:47.609Z"
   },
   {
    "duration": 372,
    "start_time": "2021-11-13T19:11:32.761Z"
   },
   {
    "duration": 1886,
    "start_time": "2021-11-13T19:11:58.608Z"
   },
   {
    "duration": 1002,
    "start_time": "2021-11-13T19:12:18.984Z"
   },
   {
    "duration": 407,
    "start_time": "2021-11-13T19:12:40.291Z"
   },
   {
    "duration": 441,
    "start_time": "2021-11-13T19:13:08.970Z"
   },
   {
    "duration": 393,
    "start_time": "2021-11-13T19:13:59.052Z"
   },
   {
    "duration": 389,
    "start_time": "2021-11-13T19:14:09.052Z"
   },
   {
    "duration": 416,
    "start_time": "2021-11-13T19:15:42.869Z"
   },
   {
    "duration": 408,
    "start_time": "2021-11-13T19:16:22.721Z"
   },
   {
    "duration": 44,
    "start_time": "2021-11-13T19:17:30.907Z"
   },
   {
    "duration": 43,
    "start_time": "2021-11-13T19:17:39.262Z"
   },
   {
    "duration": 39,
    "start_time": "2021-11-13T19:17:49.473Z"
   },
   {
    "duration": 44,
    "start_time": "2021-11-13T19:18:04.742Z"
   },
   {
    "duration": 36,
    "start_time": "2021-11-13T19:20:10.579Z"
   },
   {
    "duration": 41,
    "start_time": "2021-11-13T19:20:34.703Z"
   },
   {
    "duration": 3151,
    "start_time": "2021-11-13T19:20:53.711Z"
   },
   {
    "duration": 39,
    "start_time": "2021-11-13T19:21:24.202Z"
   },
   {
    "duration": 36,
    "start_time": "2021-11-13T19:21:44.417Z"
   },
   {
    "duration": 9,
    "start_time": "2021-11-13T19:21:49.632Z"
   },
   {
    "duration": 8,
    "start_time": "2021-11-13T19:21:54.734Z"
   },
   {
    "duration": 8,
    "start_time": "2021-11-13T19:22:00.111Z"
   },
   {
    "duration": 3074,
    "start_time": "2021-11-13T19:22:24.128Z"
   },
   {
    "duration": 10,
    "start_time": "2021-11-13T19:22:44.029Z"
   },
   {
    "duration": 2956,
    "start_time": "2021-11-13T19:22:52.553Z"
   },
   {
    "duration": 10,
    "start_time": "2021-11-13T19:23:22.029Z"
   },
   {
    "duration": 18,
    "start_time": "2021-11-13T19:23:27.958Z"
   },
   {
    "duration": 25,
    "start_time": "2021-11-13T19:23:53.270Z"
   },
   {
    "duration": 377,
    "start_time": "2021-11-13T19:25:05.201Z"
   },
   {
    "duration": 37,
    "start_time": "2021-11-13T19:25:38.285Z"
   },
   {
    "duration": 51,
    "start_time": "2021-11-13T19:29:32.747Z"
   },
   {
    "duration": 370,
    "start_time": "2021-11-13T19:32:26.729Z"
   },
   {
    "duration": 424,
    "start_time": "2021-11-13T19:34:48.769Z"
   },
   {
    "duration": 44,
    "start_time": "2021-11-13T19:35:03.329Z"
   },
   {
    "duration": 9,
    "start_time": "2021-11-13T19:35:31.493Z"
   },
   {
    "duration": 9,
    "start_time": "2021-11-13T19:35:50.684Z"
   },
   {
    "duration": 10,
    "start_time": "2021-11-13T19:35:54.473Z"
   },
   {
    "duration": 36,
    "start_time": "2021-11-13T19:36:06.218Z"
   },
   {
    "duration": 38,
    "start_time": "2021-11-13T19:36:28.315Z"
   },
   {
    "duration": 27,
    "start_time": "2021-11-13T19:37:00.012Z"
   },
   {
    "duration": 61,
    "start_time": "2021-11-13T19:37:09.731Z"
   },
   {
    "duration": 28,
    "start_time": "2021-11-13T19:37:46.733Z"
   },
   {
    "duration": 37,
    "start_time": "2021-11-13T19:37:52.157Z"
   },
   {
    "duration": 30,
    "start_time": "2021-11-13T19:38:21.610Z"
   },
   {
    "duration": 55,
    "start_time": "2021-11-13T19:38:29.330Z"
   },
   {
    "duration": 30,
    "start_time": "2021-11-13T19:39:00.079Z"
   },
   {
    "duration": 56,
    "start_time": "2021-11-13T19:39:15.014Z"
   },
   {
    "duration": 29,
    "start_time": "2021-11-13T19:39:34.909Z"
   },
   {
    "duration": 27,
    "start_time": "2021-11-13T19:40:14.990Z"
   },
   {
    "duration": 23,
    "start_time": "2021-11-13T19:40:22.878Z"
   },
   {
    "duration": 41,
    "start_time": "2021-11-13T19:40:31.205Z"
   },
   {
    "duration": 52,
    "start_time": "2021-11-13T19:40:44.837Z"
   },
   {
    "duration": 3,
    "start_time": "2021-11-13T19:41:19.792Z"
   },
   {
    "duration": 8,
    "start_time": "2021-11-13T19:41:54.417Z"
   },
   {
    "duration": 7,
    "start_time": "2021-11-13T19:42:00.076Z"
   },
   {
    "duration": 90,
    "start_time": "2021-11-13T19:42:07.911Z"
   },
   {
    "duration": 7,
    "start_time": "2021-11-13T19:42:16.604Z"
   },
   {
    "duration": 8,
    "start_time": "2021-11-13T19:42:20.433Z"
   },
   {
    "duration": 8,
    "start_time": "2021-11-13T19:42:49.728Z"
   },
   {
    "duration": 392,
    "start_time": "2021-11-13T19:43:06.972Z"
   },
   {
    "duration": 38,
    "start_time": "2021-11-13T19:44:18.077Z"
   },
   {
    "duration": 6,
    "start_time": "2021-11-13T19:44:37.611Z"
   },
   {
    "duration": 383,
    "start_time": "2021-11-13T19:45:05.870Z"
   },
   {
    "duration": 8,
    "start_time": "2021-11-13T19:45:22.786Z"
   },
   {
    "duration": 8,
    "start_time": "2021-11-13T19:45:26.754Z"
   },
   {
    "duration": 653,
    "start_time": "2021-11-13T19:45:30.115Z"
   },
   {
    "duration": 384,
    "start_time": "2021-11-13T19:45:46.872Z"
   },
   {
    "duration": 389,
    "start_time": "2021-11-13T19:46:55.625Z"
   },
   {
    "duration": 425,
    "start_time": "2021-11-13T19:48:03.479Z"
   },
   {
    "duration": 383,
    "start_time": "2021-11-13T19:48:26.623Z"
   },
   {
    "duration": 75,
    "start_time": "2021-11-13T20:04:15.482Z"
   },
   {
    "duration": 89,
    "start_time": "2021-11-13T20:19:05.843Z"
   },
   {
    "duration": 222018,
    "start_time": "2021-11-13T20:19:18.352Z"
   },
   {
    "duration": 8,
    "start_time": "2021-11-13T20:23:00.374Z"
   },
   {
    "duration": 85,
    "start_time": "2021-11-13T20:23:18.561Z"
   },
   {
    "duration": 7,
    "start_time": "2021-11-13T20:23:27.207Z"
   },
   {
    "duration": 221991,
    "start_time": "2021-11-13T20:23:31.190Z"
   },
   {
    "duration": 384,
    "start_time": "2021-11-13T20:27:56.394Z"
   },
   {
    "duration": 398,
    "start_time": "2021-11-13T20:28:24.632Z"
   },
   {
    "duration": 48446,
    "start_time": "2021-11-13T20:28:41.056Z"
   },
   {
    "duration": 88,
    "start_time": "2021-11-13T20:30:41.644Z"
   },
   {
    "duration": 47725,
    "start_time": "2021-11-13T20:30:46.475Z"
   },
   {
    "duration": 48101,
    "start_time": "2021-11-13T20:33:06.185Z"
   },
   {
    "duration": 48695,
    "start_time": "2021-11-13T20:35:10.861Z"
   },
   {
    "duration": 7,
    "start_time": "2021-11-13T20:36:09.576Z"
   },
   {
    "duration": 7,
    "start_time": "2021-11-13T20:36:57.620Z"
   },
   {
    "duration": 10,
    "start_time": "2021-11-13T20:37:17.973Z"
   },
   {
    "duration": 406,
    "start_time": "2021-11-13T20:40:20.836Z"
   },
   {
    "duration": 6,
    "start_time": "2021-11-13T20:40:39.584Z"
   },
   {
    "duration": 387,
    "start_time": "2021-11-13T20:40:53.755Z"
   },
   {
    "duration": 13,
    "start_time": "2021-11-13T20:41:03.258Z"
   },
   {
    "duration": 6,
    "start_time": "2021-11-13T20:41:10.142Z"
   },
   {
    "duration": 19,
    "start_time": "2021-11-13T20:41:36.558Z"
   },
   {
    "duration": 7,
    "start_time": "2021-11-13T20:41:56.631Z"
   },
   {
    "duration": 7,
    "start_time": "2021-11-13T20:42:08.982Z"
   },
   {
    "duration": 7,
    "start_time": "2021-11-13T20:42:24.873Z"
   },
   {
    "duration": 8,
    "start_time": "2021-11-13T20:43:27.846Z"
   },
   {
    "duration": 34,
    "start_time": "2021-11-13T20:45:14.952Z"
   },
   {
    "duration": 22,
    "start_time": "2021-11-13T20:45:20.911Z"
   },
   {
    "duration": 10,
    "start_time": "2021-11-13T21:00:05.655Z"
   },
   {
    "duration": 21,
    "start_time": "2021-11-13T21:00:27.557Z"
   },
   {
    "duration": 18,
    "start_time": "2021-11-13T21:01:08.674Z"
   },
   {
    "duration": 35608,
    "start_time": "2021-11-13T21:01:17.609Z"
   },
   {
    "duration": 41,
    "start_time": "2021-11-13T21:02:23.748Z"
   },
   {
    "duration": 13,
    "start_time": "2021-11-13T21:02:44.152Z"
   },
   {
    "duration": 7,
    "start_time": "2021-11-13T21:03:38.236Z"
   },
   {
    "duration": 14,
    "start_time": "2021-11-13T21:03:56.454Z"
   },
   {
    "duration": 41,
    "start_time": "2021-11-13T21:05:21.281Z"
   },
   {
    "duration": 40,
    "start_time": "2021-11-13T21:05:33.772Z"
   },
   {
    "duration": 73,
    "start_time": "2021-11-13T21:07:39.115Z"
   },
   {
    "duration": 38,
    "start_time": "2021-11-13T21:07:56.889Z"
   },
   {
    "duration": 408,
    "start_time": "2021-11-13T21:08:31.671Z"
   },
   {
    "duration": 65,
    "start_time": "2021-11-13T21:08:39.661Z"
   },
   {
    "duration": 44,
    "start_time": "2021-11-13T21:08:56.770Z"
   },
   {
    "duration": 62,
    "start_time": "2021-11-13T21:09:01.149Z"
   },
   {
    "duration": 18,
    "start_time": "2021-11-13T21:09:23.606Z"
   },
   {
    "duration": 387,
    "start_time": "2021-11-13T21:10:11.257Z"
   },
   {
    "duration": 374,
    "start_time": "2021-11-13T21:10:36.177Z"
   },
   {
    "duration": 5,
    "start_time": "2021-11-13T21:11:03.089Z"
   },
   {
    "duration": 4,
    "start_time": "2021-11-13T22:12:24.218Z"
   },
   {
    "duration": 378,
    "start_time": "2021-11-13T22:13:54.172Z"
   },
   {
    "duration": 5,
    "start_time": "2021-11-13T22:14:02.973Z"
   },
   {
    "duration": 362,
    "start_time": "2021-11-13T22:14:09.579Z"
   },
   {
    "duration": 4,
    "start_time": "2021-11-13T22:14:34.585Z"
   },
   {
    "duration": 5,
    "start_time": "2021-11-13T22:14:39.490Z"
   },
   {
    "duration": 9794,
    "start_time": "2021-11-13T22:19:51.607Z"
   },
   {
    "duration": -936,
    "start_time": "2021-11-13T22:20:02.339Z"
   },
   {
    "duration": 2537,
    "start_time": "2021-11-13T22:20:15.509Z"
   },
   {
    "duration": 2453,
    "start_time": "2021-11-13T22:20:35.175Z"
   },
   {
    "duration": 1496,
    "start_time": "2021-11-13T22:21:17.173Z"
   },
   {
    "duration": 2250,
    "start_time": "2021-11-13T22:21:33.595Z"
   },
   {
    "duration": 6,
    "start_time": "2021-11-13T22:24:01.611Z"
   },
   {
    "duration": 5233,
    "start_time": "2021-11-13T22:24:05.960Z"
   },
   {
    "duration": 764,
    "start_time": "2021-11-13T22:25:38.331Z"
   },
   {
    "duration": 4,
    "start_time": "2021-11-13T22:26:09.427Z"
   },
   {
    "duration": 4,
    "start_time": "2021-11-13T22:26:13.170Z"
   },
   {
    "duration": 6,
    "start_time": "2021-11-13T22:26:16.354Z"
   },
   {
    "duration": 1992,
    "start_time": "2021-11-13T22:26:20.989Z"
   },
   {
    "duration": 4,
    "start_time": "2021-11-13T22:26:49.001Z"
   },
   {
    "duration": 1898,
    "start_time": "2021-11-13T22:26:52.984Z"
   },
   {
    "duration": 4,
    "start_time": "2021-11-13T22:27:09.822Z"
   },
   {
    "duration": 5,
    "start_time": "2021-11-13T22:27:19.411Z"
   },
   {
    "duration": 1868,
    "start_time": "2021-11-13T22:27:22.774Z"
   },
   {
    "duration": 1891,
    "start_time": "2021-11-13T22:31:48.474Z"
   },
   {
    "duration": 3,
    "start_time": "2021-11-13T22:32:12.237Z"
   },
   {
    "duration": 2499,
    "start_time": "2021-11-13T22:32:18.723Z"
   },
   {
    "duration": 4,
    "start_time": "2021-11-13T22:33:14.624Z"
   },
   {
    "duration": 410,
    "start_time": "2021-11-13T22:33:55.476Z"
   },
   {
    "duration": 409,
    "start_time": "2021-11-13T22:34:54.426Z"
   },
   {
    "duration": 403,
    "start_time": "2021-11-13T22:35:20.022Z"
   },
   {
    "duration": 1922,
    "start_time": "2021-11-13T22:36:25.102Z"
   },
   {
    "duration": 1898,
    "start_time": "2021-11-13T22:39:34.825Z"
   },
   {
    "duration": 84,
    "start_time": "2021-11-13T22:40:11.348Z"
   },
   {
    "duration": 90,
    "start_time": "2021-11-13T22:40:25.025Z"
   },
   {
    "duration": 12,
    "start_time": "2021-11-13T22:40:55.795Z"
   },
   {
    "duration": 11,
    "start_time": "2021-11-13T22:41:05.813Z"
   },
   {
    "duration": 12,
    "start_time": "2021-11-13T22:41:19.219Z"
   },
   {
    "duration": 7,
    "start_time": "2021-11-13T22:41:33.822Z"
   },
   {
    "duration": 40,
    "start_time": "2021-11-13T22:43:34.571Z"
   },
   {
    "duration": 91,
    "start_time": "2021-11-13T22:44:36.051Z"
   },
   {
    "duration": 5,
    "start_time": "2021-11-13T22:44:37.887Z"
   },
   {
    "duration": 12,
    "start_time": "2021-11-13T22:44:38.085Z"
   },
   {
    "duration": 17,
    "start_time": "2021-11-13T22:44:38.470Z"
   },
   {
    "duration": 38,
    "start_time": "2021-11-13T22:44:38.860Z"
   },
   {
    "duration": 9,
    "start_time": "2021-11-13T22:44:39.202Z"
   },
   {
    "duration": 23,
    "start_time": "2021-11-13T22:44:39.542Z"
   },
   {
    "duration": 24,
    "start_time": "2021-11-13T22:44:39.591Z"
   },
   {
    "duration": 28,
    "start_time": "2021-11-13T22:44:39.960Z"
   },
   {
    "duration": 92,
    "start_time": "2021-11-13T22:44:51.135Z"
   },
   {
    "duration": 5,
    "start_time": "2021-11-13T22:44:54.007Z"
   },
   {
    "duration": 11,
    "start_time": "2021-11-13T22:44:54.586Z"
   },
   {
    "duration": 23,
    "start_time": "2021-11-13T22:44:55.252Z"
   },
   {
    "duration": 39,
    "start_time": "2021-11-13T22:44:55.652Z"
   },
   {
    "duration": 9,
    "start_time": "2021-11-13T22:44:55.924Z"
   },
   {
    "duration": 23,
    "start_time": "2021-11-13T22:45:03.027Z"
   },
   {
    "duration": 24,
    "start_time": "2021-11-13T22:45:03.305Z"
   },
   {
    "duration": 22,
    "start_time": "2021-11-13T22:45:03.811Z"
   },
   {
    "duration": 17,
    "start_time": "2021-11-13T22:45:06.161Z"
   },
   {
    "duration": 18,
    "start_time": "2021-11-13T22:45:06.181Z"
   },
   {
    "duration": 7,
    "start_time": "2021-11-13T22:45:06.202Z"
   },
   {
    "duration": 14,
    "start_time": "2021-11-13T22:45:07.634Z"
   },
   {
    "duration": 13,
    "start_time": "2021-11-13T22:45:08.677Z"
   },
   {
    "duration": 10,
    "start_time": "2021-11-13T22:45:10.170Z"
   },
   {
    "duration": 25,
    "start_time": "2021-11-13T22:45:12.194Z"
   },
   {
    "duration": 8,
    "start_time": "2021-11-13T22:45:16.971Z"
   },
   {
    "duration": 11,
    "start_time": "2021-11-13T22:45:18.703Z"
   },
   {
    "duration": 34392,
    "start_time": "2021-11-13T22:45:20.792Z"
   },
   {
    "duration": 6,
    "start_time": "2021-11-13T22:45:55.187Z"
   },
   {
    "duration": 46593,
    "start_time": "2021-11-13T22:45:55.195Z"
   },
   {
    "duration": 7,
    "start_time": "2021-11-13T22:46:41.790Z"
   },
   {
    "duration": 17,
    "start_time": "2021-11-13T22:46:41.800Z"
   },
   {
    "duration": 7,
    "start_time": "2021-11-13T22:46:41.819Z"
   },
   {
    "duration": 10,
    "start_time": "2021-11-13T22:46:41.828Z"
   },
   {
    "duration": 15,
    "start_time": "2021-11-13T22:46:41.861Z"
   },
   {
    "duration": 33,
    "start_time": "2021-11-13T22:46:41.879Z"
   },
   {
    "duration": 9,
    "start_time": "2021-11-13T22:46:41.914Z"
   },
   {
    "duration": 46,
    "start_time": "2021-11-13T22:46:41.926Z"
   },
   {
    "duration": 7,
    "start_time": "2021-11-13T22:46:41.976Z"
   },
   {
    "duration": 10,
    "start_time": "2021-11-13T22:46:41.986Z"
   },
   {
    "duration": 76,
    "start_time": "2021-11-13T22:46:41.999Z"
   },
   {
    "duration": 45,
    "start_time": "2021-11-13T22:46:42.077Z"
   },
   {
    "duration": 6,
    "start_time": "2021-11-13T22:46:42.124Z"
   },
   {
    "duration": 157,
    "start_time": "2021-11-13T22:46:42.132Z"
   },
   {
    "duration": -7,
    "start_time": "2021-11-13T22:46:42.299Z"
   },
   {
    "duration": -8,
    "start_time": "2021-11-13T22:46:42.302Z"
   },
   {
    "duration": -9,
    "start_time": "2021-11-13T22:46:42.305Z"
   },
   {
    "duration": -9,
    "start_time": "2021-11-13T22:46:42.307Z"
   },
   {
    "duration": 2005,
    "start_time": "2021-11-13T22:49:48.721Z"
   },
   {
    "duration": 21,
    "start_time": "2021-11-13T22:51:35.398Z"
   },
   {
    "duration": 10,
    "start_time": "2021-11-13T22:51:40.018Z"
   },
   {
    "duration": 22,
    "start_time": "2021-11-13T22:51:43.951Z"
   },
   {
    "duration": 3,
    "start_time": "2021-11-13T22:51:51.096Z"
   },
   {
    "duration": 3,
    "start_time": "2021-11-13T22:51:54.356Z"
   },
   {
    "duration": 48,
    "start_time": "2021-11-13T22:51:54.808Z"
   },
   {
    "duration": 48,
    "start_time": "2021-11-13T22:51:56.173Z"
   },
   {
    "duration": 43,
    "start_time": "2021-11-13T22:51:58.503Z"
   },
   {
    "duration": 5,
    "start_time": "2021-11-13T22:52:01.747Z"
   },
   {
    "duration": 121,
    "start_time": "2021-11-13T22:52:05.830Z"
   },
   {
    "duration": 133,
    "start_time": "2021-11-13T22:52:48.312Z"
   },
   {
    "duration": 138,
    "start_time": "2021-11-13T22:53:12.876Z"
   },
   {
    "duration": 806,
    "start_time": "2021-11-13T22:54:41.705Z"
   },
   {
    "duration": 4,
    "start_time": "2021-11-13T22:54:47.570Z"
   },
   {
    "duration": 120,
    "start_time": "2021-11-13T22:54:49.930Z"
   },
   {
    "duration": 5,
    "start_time": "2021-11-13T22:55:02.144Z"
   },
   {
    "duration": 2032,
    "start_time": "2021-11-13T22:55:07.385Z"
   },
   {
    "duration": 4,
    "start_time": "2021-11-13T22:55:50.031Z"
   },
   {
    "duration": 9,
    "start_time": "2021-11-13T22:55:55.960Z"
   },
   {
    "duration": 2263,
    "start_time": "2021-11-13T22:55:59.254Z"
   },
   {
    "duration": 4,
    "start_time": "2021-11-13T22:57:42.315Z"
   },
   {
    "duration": 9,
    "start_time": "2021-11-13T22:57:44.858Z"
   },
   {
    "duration": 1943,
    "start_time": "2021-11-13T22:57:48.151Z"
   },
   {
    "duration": 1935,
    "start_time": "2021-11-13T22:58:50.783Z"
   },
   {
    "duration": 1984,
    "start_time": "2021-11-13T22:58:55.009Z"
   },
   {
    "duration": 1949,
    "start_time": "2021-11-13T22:59:26.871Z"
   },
   {
    "duration": 1965,
    "start_time": "2021-11-13T22:59:54.085Z"
   },
   {
    "duration": 1924,
    "start_time": "2021-11-13T23:00:40.516Z"
   },
   {
    "duration": 1866,
    "start_time": "2021-11-13T23:00:56.453Z"
   },
   {
    "duration": 4,
    "start_time": "2021-11-13T23:01:31.409Z"
   },
   {
    "duration": 5,
    "start_time": "2021-11-13T23:01:37.727Z"
   },
   {
    "duration": 1935,
    "start_time": "2021-11-13T23:01:45.691Z"
   },
   {
    "duration": 2240,
    "start_time": "2021-11-13T23:02:10.177Z"
   },
   {
    "duration": 6,
    "start_time": "2021-11-13T23:02:42.061Z"
   },
   {
    "duration": 5,
    "start_time": "2021-11-13T23:02:45.078Z"
   },
   {
    "duration": 1567,
    "start_time": "2021-11-13T23:03:07.913Z"
   },
   {
    "duration": 1517,
    "start_time": "2021-11-13T23:03:34.728Z"
   },
   {
    "duration": 1546,
    "start_time": "2021-11-13T23:05:06.700Z"
   },
   {
    "duration": 1709,
    "start_time": "2021-11-13T23:06:02.513Z"
   },
   {
    "duration": 1902,
    "start_time": "2021-11-13T23:06:25.414Z"
   },
   {
    "duration": 1921,
    "start_time": "2021-11-13T23:06:52.596Z"
   },
   {
    "duration": 1530,
    "start_time": "2021-11-13T23:08:03.918Z"
   },
   {
    "duration": 1546,
    "start_time": "2021-11-13T23:08:32.750Z"
   },
   {
    "duration": 1521,
    "start_time": "2021-11-13T23:08:50.583Z"
   },
   {
    "duration": 1544,
    "start_time": "2021-11-13T23:09:07.073Z"
   },
   {
    "duration": 2319,
    "start_time": "2021-11-13T23:09:29.436Z"
   },
   {
    "duration": 825,
    "start_time": "2021-11-13T23:10:42.322Z"
   },
   {
    "duration": 23,
    "start_time": "2021-11-13T23:11:19.745Z"
   },
   {
    "duration": 18,
    "start_time": "2021-11-13T23:11:26.218Z"
   },
   {
    "duration": 2076,
    "start_time": "2021-11-13T23:12:00.619Z"
   },
   {
    "duration": 389,
    "start_time": "2021-11-13T23:16:44.415Z"
   },
   {
    "duration": 393,
    "start_time": "2021-11-13T23:17:40.189Z"
   },
   {
    "duration": 33,
    "start_time": "2021-11-13T23:17:42.378Z"
   },
   {
    "duration": 1911,
    "start_time": "2021-11-13T23:19:55.655Z"
   },
   {
    "duration": 1937,
    "start_time": "2021-11-13T23:21:09.907Z"
   },
   {
    "duration": 377,
    "start_time": "2021-11-13T23:21:24.656Z"
   },
   {
    "duration": 26,
    "start_time": "2021-11-13T23:21:57.710Z"
   },
   {
    "duration": 4937,
    "start_time": "2021-11-13T23:24:02.984Z"
   },
   {
    "duration": 29,
    "start_time": "2021-11-13T23:24:54.019Z"
   },
   {
    "duration": 36,
    "start_time": "2021-11-13T23:25:15.777Z"
   },
   {
    "duration": 15,
    "start_time": "2021-11-13T23:25:22.269Z"
   },
   {
    "duration": 4,
    "start_time": "2021-11-13T23:25:44.556Z"
   },
   {
    "duration": 5,
    "start_time": "2021-11-13T23:25:46.479Z"
   },
   {
    "duration": 43,
    "start_time": "2021-11-13T23:25:47.845Z"
   },
   {
    "duration": 34,
    "start_time": "2021-11-13T23:26:14.697Z"
   },
   {
    "duration": 89,
    "start_time": "2021-11-13T23:27:54.644Z"
   },
   {
    "duration": 3,
    "start_time": "2021-11-13T23:28:12.127Z"
   },
   {
    "duration": 94,
    "start_time": "2021-11-13T23:28:19.284Z"
   },
   {
    "duration": 80,
    "start_time": "2021-11-13T23:29:09.273Z"
   },
   {
    "duration": 5,
    "start_time": "2021-11-13T23:29:09.639Z"
   },
   {
    "duration": 12,
    "start_time": "2021-11-13T23:29:09.684Z"
   },
   {
    "duration": 15,
    "start_time": "2021-11-13T23:29:10.837Z"
   },
   {
    "duration": 36,
    "start_time": "2021-11-13T23:29:11.176Z"
   },
   {
    "duration": 9,
    "start_time": "2021-11-13T23:29:11.543Z"
   },
   {
    "duration": 23,
    "start_time": "2021-11-13T23:29:11.930Z"
   },
   {
    "duration": 26,
    "start_time": "2021-11-13T23:29:12.203Z"
   },
   {
    "duration": 23,
    "start_time": "2021-11-13T23:29:12.635Z"
   },
   {
    "duration": 10,
    "start_time": "2021-11-13T23:29:12.992Z"
   },
   {
    "duration": 21,
    "start_time": "2021-11-13T23:29:13.351Z"
   },
   {
    "duration": 7,
    "start_time": "2021-11-13T23:29:13.913Z"
   },
   {
    "duration": 20,
    "start_time": "2021-11-13T23:29:13.982Z"
   },
   {
    "duration": 19,
    "start_time": "2021-11-13T23:29:14.257Z"
   },
   {
    "duration": 8,
    "start_time": "2021-11-13T23:29:15.412Z"
   },
   {
    "duration": 25,
    "start_time": "2021-11-13T23:29:15.423Z"
   },
   {
    "duration": 12,
    "start_time": "2021-11-13T23:29:15.451Z"
   },
   {
    "duration": 10,
    "start_time": "2021-11-13T23:29:16.002Z"
   },
   {
    "duration": 34718,
    "start_time": "2021-11-13T23:29:16.330Z"
   },
   {
    "duration": 12,
    "start_time": "2021-11-13T23:29:51.052Z"
   },
   {
    "duration": 46906,
    "start_time": "2021-11-13T23:29:51.069Z"
   },
   {
    "duration": 8,
    "start_time": "2021-11-13T23:30:37.980Z"
   },
   {
    "duration": 12,
    "start_time": "2021-11-13T23:30:37.991Z"
   },
   {
    "duration": 6,
    "start_time": "2021-11-13T23:30:38.005Z"
   },
   {
    "duration": 10,
    "start_time": "2021-11-13T23:30:38.013Z"
   },
   {
    "duration": 13,
    "start_time": "2021-11-13T23:30:38.067Z"
   },
   {
    "duration": 35,
    "start_time": "2021-11-13T23:30:38.083Z"
   },
   {
    "duration": 48,
    "start_time": "2021-11-13T23:30:38.120Z"
   },
   {
    "duration": 10,
    "start_time": "2021-11-13T23:30:38.172Z"
   },
   {
    "duration": 12,
    "start_time": "2021-11-13T23:30:40.171Z"
   },
   {
    "duration": 7,
    "start_time": "2021-11-13T23:30:46.483Z"
   },
   {
    "duration": 13,
    "start_time": "2021-11-13T23:30:47.509Z"
   },
   {
    "duration": 11,
    "start_time": "2021-11-13T23:30:48.625Z"
   },
   {
    "duration": 10,
    "start_time": "2021-11-13T23:30:51.042Z"
   },
   {
    "duration": 14,
    "start_time": "2021-11-13T23:30:53.371Z"
   },
   {
    "duration": 10,
    "start_time": "2021-11-13T23:30:56.671Z"
   },
   {
    "duration": 1465,
    "start_time": "2021-11-13T23:30:58.773Z"
   },
   {
    "duration": 1676,
    "start_time": "2021-11-13T23:31:09.808Z"
   },
   {
    "duration": 88,
    "start_time": "2021-11-13T23:31:29.444Z"
   },
   {
    "duration": 5,
    "start_time": "2021-11-13T23:31:30.875Z"
   },
   {
    "duration": 11,
    "start_time": "2021-11-13T23:31:32.315Z"
   },
   {
    "duration": 21,
    "start_time": "2021-11-13T23:31:34.458Z"
   },
   {
    "duration": 48,
    "start_time": "2021-11-13T23:31:36.100Z"
   },
   {
    "duration": 8,
    "start_time": "2021-11-13T23:31:38.749Z"
   },
   {
    "duration": 21,
    "start_time": "2021-11-13T23:31:43.071Z"
   },
   {
    "duration": 32,
    "start_time": "2021-11-13T23:31:44.445Z"
   },
   {
    "duration": 20,
    "start_time": "2021-11-13T23:31:46.971Z"
   },
   {
    "duration": 9,
    "start_time": "2021-11-13T23:31:53.019Z"
   },
   {
    "duration": 10,
    "start_time": "2021-11-13T23:31:55.027Z"
   },
   {
    "duration": 7,
    "start_time": "2021-11-13T23:31:59.002Z"
   },
   {
    "duration": 21,
    "start_time": "2021-11-13T23:32:00.058Z"
   },
   {
    "duration": 12,
    "start_time": "2021-11-13T23:32:01.100Z"
   },
   {
    "duration": 8,
    "start_time": "2021-11-13T23:32:02.972Z"
   },
   {
    "duration": 24,
    "start_time": "2021-11-13T23:32:04.500Z"
   },
   {
    "duration": 10,
    "start_time": "2021-11-13T23:32:05.191Z"
   },
   {
    "duration": 10,
    "start_time": "2021-11-13T23:32:06.668Z"
   },
   {
    "duration": 36,
    "start_time": "2021-11-13T23:32:42.983Z"
   },
   {
    "duration": 7,
    "start_time": "2021-11-13T23:32:51.601Z"
   },
   {
    "duration": 46666,
    "start_time": "2021-11-13T23:34:29.974Z"
   },
   {
    "duration": 6,
    "start_time": "2021-11-13T23:35:16.643Z"
   },
   {
    "duration": 12,
    "start_time": "2021-11-13T23:35:48.600Z"
   },
   {
    "duration": 10,
    "start_time": "2021-11-13T23:35:52.510Z"
   },
   {
    "duration": 9,
    "start_time": "2021-11-13T23:35:57.695Z"
   },
   {
    "duration": 37,
    "start_time": "2021-11-13T23:36:02.091Z"
   },
   {
    "duration": 9,
    "start_time": "2021-11-13T23:36:05.271Z"
   },
   {
    "duration": 10,
    "start_time": "2021-11-13T23:36:10.990Z"
   },
   {
    "duration": 56,
    "start_time": "2021-11-13T23:36:17.606Z"
   },
   {
    "duration": 56,
    "start_time": "2021-11-13T23:36:18.532Z"
   },
   {
    "duration": 56,
    "start_time": "2021-11-13T23:36:19.632Z"
   },
   {
    "duration": 5,
    "start_time": "2021-11-13T23:36:20.680Z"
   },
   {
    "duration": 4,
    "start_time": "2021-11-13T23:36:26.391Z"
   },
   {
    "duration": 4,
    "start_time": "2021-11-13T23:36:29.809Z"
   },
   {
    "duration": 5,
    "start_time": "2021-11-13T23:36:33.300Z"
   },
   {
    "duration": 373,
    "start_time": "2021-11-13T23:36:35.044Z"
   },
   {
    "duration": 779,
    "start_time": "2021-11-13T23:38:24.673Z"
   },
   {
    "duration": 801,
    "start_time": "2021-11-13T23:40:51.529Z"
   },
   {
    "duration": 4,
    "start_time": "2021-11-13T23:43:53.552Z"
   },
   {
    "duration": 785,
    "start_time": "2021-11-13T23:43:58.015Z"
   },
   {
    "duration": 55,
    "start_time": "2021-11-13T23:44:09.548Z"
   },
   {
    "duration": 42,
    "start_time": "2021-11-13T23:45:00.431Z"
   },
   {
    "duration": 14,
    "start_time": "2021-11-13T23:45:07.135Z"
   },
   {
    "duration": 33,
    "start_time": "2021-11-13T23:45:28.397Z"
   },
   {
    "duration": 87,
    "start_time": "2021-11-13T23:45:50.190Z"
   },
   {
    "duration": 31,
    "start_time": "2021-11-13T23:46:03.673Z"
   },
   {
    "duration": 36,
    "start_time": "2021-11-13T23:46:35.320Z"
   },
   {
    "duration": 83,
    "start_time": "2021-11-13T23:49:23.853Z"
   },
   {
    "duration": 86,
    "start_time": "2021-11-13T23:52:17.739Z"
   },
   {
    "duration": 10,
    "start_time": "2021-11-13T23:52:17.828Z"
   },
   {
    "duration": 24,
    "start_time": "2021-11-13T23:52:18.050Z"
   },
   {
    "duration": 50,
    "start_time": "2021-11-13T23:52:18.443Z"
   },
   {
    "duration": 9,
    "start_time": "2021-11-13T23:52:18.883Z"
   },
   {
    "duration": 33,
    "start_time": "2021-11-13T23:52:20.447Z"
   },
   {
    "duration": 31,
    "start_time": "2021-11-13T23:52:22.835Z"
   },
   {
    "duration": 22,
    "start_time": "2021-11-13T23:52:23.311Z"
   },
   {
    "duration": 10,
    "start_time": "2021-11-13T23:52:23.749Z"
   },
   {
    "duration": 11,
    "start_time": "2021-11-13T23:52:24.170Z"
   },
   {
    "duration": 7,
    "start_time": "2021-11-13T23:52:24.796Z"
   },
   {
    "duration": 13,
    "start_time": "2021-11-13T23:52:25.008Z"
   },
   {
    "duration": 11,
    "start_time": "2021-11-13T23:52:25.234Z"
   },
   {
    "duration": 7,
    "start_time": "2021-11-13T23:52:25.823Z"
   },
   {
    "duration": 26,
    "start_time": "2021-11-13T23:52:26.172Z"
   },
   {
    "duration": 8,
    "start_time": "2021-11-13T23:52:26.373Z"
   },
   {
    "duration": 11,
    "start_time": "2021-11-13T23:52:26.771Z"
   },
   {
    "duration": 88,
    "start_time": "2021-11-13T23:53:50.204Z"
   },
   {
    "duration": 17,
    "start_time": "2021-11-13T23:53:50.306Z"
   },
   {
    "duration": 34,
    "start_time": "2021-11-13T23:53:50.346Z"
   },
   {
    "duration": 36,
    "start_time": "2021-11-13T23:54:10.983Z"
   },
   {
    "duration": 9,
    "start_time": "2021-11-13T23:54:34.723Z"
   },
   {
    "duration": 23,
    "start_time": "2021-11-13T23:54:37.101Z"
   },
   {
    "duration": 24,
    "start_time": "2021-11-13T23:54:42.020Z"
   },
   {
    "duration": 23,
    "start_time": "2021-11-13T23:54:44.032Z"
   },
   {
    "duration": 8,
    "start_time": "2021-11-13T23:54:46.203Z"
   },
   {
    "duration": 10,
    "start_time": "2021-11-13T23:54:48.235Z"
   },
   {
    "duration": 7,
    "start_time": "2021-11-13T23:54:51.472Z"
   },
   {
    "duration": 15,
    "start_time": "2021-11-13T23:54:54.222Z"
   },
   {
    "duration": 10,
    "start_time": "2021-11-13T23:54:54.984Z"
   },
   {
    "duration": 19,
    "start_time": "2021-11-13T23:54:58.695Z"
   },
   {
    "duration": 85,
    "start_time": "2021-11-13T23:55:09.109Z"
   },
   {
    "duration": 11,
    "start_time": "2021-11-13T23:55:12.428Z"
   },
   {
    "duration": 16,
    "start_time": "2021-11-13T23:55:12.601Z"
   },
   {
    "duration": 35,
    "start_time": "2021-11-13T23:55:13.321Z"
   },
   {
    "duration": 16,
    "start_time": "2021-11-13T23:55:16.837Z"
   },
   {
    "duration": 42,
    "start_time": "2021-11-13T23:55:25.644Z"
   },
   {
    "duration": 11,
    "start_time": "2021-11-13T23:55:26.973Z"
   },
   {
    "duration": 31,
    "start_time": "2021-11-13T23:55:28.936Z"
   },
   {
    "duration": 33,
    "start_time": "2021-11-13T23:55:39.852Z"
   },
   {
    "duration": 21,
    "start_time": "2021-11-13T23:55:40.526Z"
   },
   {
    "duration": 9,
    "start_time": "2021-11-13T23:55:49.673Z"
   },
   {
    "duration": 11,
    "start_time": "2021-11-13T23:55:51.088Z"
   },
   {
    "duration": 8,
    "start_time": "2021-11-13T23:55:53.886Z"
   },
   {
    "duration": 14,
    "start_time": "2021-11-13T23:55:54.897Z"
   },
   {
    "duration": 11,
    "start_time": "2021-11-13T23:55:57.038Z"
   },
   {
    "duration": 8,
    "start_time": "2021-11-13T23:55:58.719Z"
   },
   {
    "duration": 25,
    "start_time": "2021-11-13T23:56:00.388Z"
   },
   {
    "duration": 8,
    "start_time": "2021-11-13T23:56:01.278Z"
   },
   {
    "duration": 12,
    "start_time": "2021-11-13T23:56:05.080Z"
   },
   {
    "duration": 34730,
    "start_time": "2021-11-13T23:56:06.208Z"
   },
   {
    "duration": 17,
    "start_time": "2021-11-13T23:56:40.941Z"
   },
   {
    "duration": 47120,
    "start_time": "2021-11-13T23:56:40.964Z"
   },
   {
    "duration": 5,
    "start_time": "2021-11-13T23:57:28.087Z"
   },
   {
    "duration": 15,
    "start_time": "2021-11-13T23:57:28.094Z"
   },
   {
    "duration": 9,
    "start_time": "2021-11-13T23:57:28.111Z"
   },
   {
    "duration": 6,
    "start_time": "2021-11-13T23:57:28.122Z"
   },
   {
    "duration": 11,
    "start_time": "2021-11-13T23:57:28.169Z"
   },
   {
    "duration": 10,
    "start_time": "2021-11-13T23:58:34.078Z"
   },
   {
    "duration": 37,
    "start_time": "2021-11-13T23:58:49.361Z"
   },
   {
    "duration": 10,
    "start_time": "2021-11-13T23:58:53.071Z"
   },
   {
    "duration": 10,
    "start_time": "2021-11-13T23:59:01.499Z"
   },
   {
    "duration": 64,
    "start_time": "2021-11-13T23:59:24.129Z"
   },
   {
    "duration": 54,
    "start_time": "2021-11-13T23:59:26.825Z"
   },
   {
    "duration": 50,
    "start_time": "2021-11-13T23:59:29.250Z"
   },
   {
    "duration": 6,
    "start_time": "2021-11-13T23:59:30.173Z"
   },
   {
    "duration": 3,
    "start_time": "2021-11-13T23:59:36.217Z"
   },
   {
    "duration": 4,
    "start_time": "2021-11-13T23:59:39.577Z"
   },
   {
    "duration": 5,
    "start_time": "2021-11-13T23:59:44.848Z"
   },
   {
    "duration": 71,
    "start_time": "2021-11-13T23:59:45.716Z"
   },
   {
    "duration": 13,
    "start_time": "2021-11-13T23:59:57.682Z"
   },
   {
    "duration": 35,
    "start_time": "2021-11-14T00:01:15.274Z"
   },
   {
    "duration": 46,
    "start_time": "2021-11-14T00:02:02.936Z"
   },
   {
    "duration": 33,
    "start_time": "2021-11-14T00:03:03.510Z"
   },
   {
    "duration": 13,
    "start_time": "2021-11-14T00:04:06.605Z"
   },
   {
    "duration": 28,
    "start_time": "2021-11-14T00:04:47.076Z"
   },
   {
    "duration": 46,
    "start_time": "2021-11-14T00:08:29.045Z"
   },
   {
    "duration": 357,
    "start_time": "2021-11-14T09:18:25.899Z"
   },
   {
    "duration": 787,
    "start_time": "2021-11-14T09:18:35.671Z"
   },
   {
    "duration": 11,
    "start_time": "2021-11-14T09:18:38.209Z"
   },
   {
    "duration": 15,
    "start_time": "2021-11-14T09:18:40.893Z"
   },
   {
    "duration": 34,
    "start_time": "2021-11-14T09:18:42.291Z"
   },
   {
    "duration": 9,
    "start_time": "2021-11-14T09:18:44.458Z"
   },
   {
    "duration": 22,
    "start_time": "2021-11-14T09:18:45.594Z"
   },
   {
    "duration": 24,
    "start_time": "2021-11-14T09:18:47.232Z"
   },
   {
    "duration": 22,
    "start_time": "2021-11-14T09:18:49.946Z"
   },
   {
    "duration": 9,
    "start_time": "2021-11-14T09:18:51.725Z"
   },
   {
    "duration": 11,
    "start_time": "2021-11-14T09:18:53.395Z"
   },
   {
    "duration": 7,
    "start_time": "2021-11-14T09:18:56.231Z"
   },
   {
    "duration": 14,
    "start_time": "2021-11-14T09:18:57.058Z"
   },
   {
    "duration": 12,
    "start_time": "2021-11-14T09:18:58.138Z"
   },
   {
    "duration": 9,
    "start_time": "2021-11-14T09:19:00.202Z"
   },
   {
    "duration": 29,
    "start_time": "2021-11-14T09:19:02.436Z"
   },
   {
    "duration": 10,
    "start_time": "2021-11-14T09:19:03.436Z"
   },
   {
    "duration": 24,
    "start_time": "2021-11-14T09:19:07.037Z"
   },
   {
    "duration": 22,
    "start_time": "2021-11-14T09:19:11.217Z"
   },
   {
    "duration": 9,
    "start_time": "2021-11-14T09:19:12.511Z"
   },
   {
    "duration": 8,
    "start_time": "2021-11-14T09:19:19.551Z"
   },
   {
    "duration": 32467,
    "start_time": "2021-11-14T09:19:21.701Z"
   },
   {
    "duration": 7,
    "start_time": "2021-11-14T09:20:00.655Z"
   },
   {
    "duration": 44325,
    "start_time": "2021-11-14T09:20:03.860Z"
   },
   {
    "duration": 6,
    "start_time": "2021-11-14T09:21:06.376Z"
   },
   {
    "duration": 10,
    "start_time": "2021-11-14T09:21:13.677Z"
   },
   {
    "duration": 3,
    "start_time": "2021-11-14T09:21:14.941Z"
   },
   {
    "duration": 4,
    "start_time": "2021-11-14T09:21:15.812Z"
   },
   {
    "duration": 9,
    "start_time": "2021-11-14T09:21:17.754Z"
   },
   {
    "duration": 32,
    "start_time": "2021-11-14T09:21:18.722Z"
   },
   {
    "duration": 10,
    "start_time": "2021-11-14T09:21:20.250Z"
   },
   {
    "duration": 11,
    "start_time": "2021-11-14T09:21:22.436Z"
   },
   {
    "duration": 3,
    "start_time": "2021-11-14T09:21:28.290Z"
   },
   {
    "duration": 3,
    "start_time": "2021-11-14T09:21:28.963Z"
   },
   {
    "duration": 64,
    "start_time": "2021-11-14T09:21:30.440Z"
   },
   {
    "duration": 47,
    "start_time": "2021-11-14T09:21:31.596Z"
   },
   {
    "duration": 53,
    "start_time": "2021-11-14T09:21:32.771Z"
   },
   {
    "duration": 5,
    "start_time": "2021-11-14T09:21:34.030Z"
   },
   {
    "duration": 771,
    "start_time": "2021-11-14T09:21:40.029Z"
   },
   {
    "duration": 3,
    "start_time": "2021-11-14T09:21:44.582Z"
   },
   {
    "duration": 5,
    "start_time": "2021-11-14T09:21:46.112Z"
   },
   {
    "duration": 5570,
    "start_time": "2021-11-14T09:21:47.502Z"
   },
   {
    "duration": 5513,
    "start_time": "2021-11-14T09:22:19.539Z"
   },
   {
    "duration": 5989,
    "start_time": "2021-11-14T09:24:37.838Z"
   },
   {
    "duration": 50,
    "start_time": "2021-11-14T09:25:31.579Z"
   },
   {
    "duration": 37,
    "start_time": "2021-11-14T09:25:52.110Z"
   },
   {
    "duration": 14,
    "start_time": "2021-11-14T09:25:57.691Z"
   },
   {
    "duration": 14,
    "start_time": "2021-11-14T09:26:13.361Z"
   },
   {
    "duration": 7,
    "start_time": "2021-11-14T09:26:51.669Z"
   },
   {
    "duration": 5,
    "start_time": "2021-11-14T09:28:28.959Z"
   },
   {
    "duration": 6,
    "start_time": "2021-11-14T09:28:30.565Z"
   },
   {
    "duration": 36,
    "start_time": "2021-11-14T09:28:31.874Z"
   },
   {
    "duration": 7,
    "start_time": "2021-11-14T09:28:37.212Z"
   },
   {
    "duration": 26,
    "start_time": "2021-11-14T09:29:22.639Z"
   },
   {
    "duration": 11,
    "start_time": "2021-11-14T09:29:56.219Z"
   },
   {
    "duration": 44,
    "start_time": "2021-11-14T09:35:07.223Z"
   },
   {
    "duration": 5,
    "start_time": "2021-11-14T09:35:44.377Z"
   },
   {
    "duration": 6,
    "start_time": "2021-11-14T09:37:00.259Z"
   },
   {
    "duration": 37,
    "start_time": "2021-11-14T09:37:01.678Z"
   },
   {
    "duration": 9,
    "start_time": "2021-11-14T09:37:06.359Z"
   },
   {
    "duration": 6,
    "start_time": "2021-11-14T09:41:21.078Z"
   },
   {
    "duration": 38,
    "start_time": "2021-11-14T09:41:22.133Z"
   },
   {
    "duration": 1107,
    "start_time": "2021-11-15T06:42:49.784Z"
   },
   {
    "duration": 14,
    "start_time": "2021-11-15T06:42:53.201Z"
   },
   {
    "duration": 22,
    "start_time": "2021-11-15T06:42:54.687Z"
   },
   {
    "duration": 50,
    "start_time": "2021-11-15T06:42:57.207Z"
   },
   {
    "duration": 12,
    "start_time": "2021-11-15T06:42:59.844Z"
   },
   {
    "duration": 23,
    "start_time": "2021-11-15T06:43:03.131Z"
   },
   {
    "duration": 25,
    "start_time": "2021-11-15T06:43:06.475Z"
   },
   {
    "duration": 23,
    "start_time": "2021-11-15T06:43:07.817Z"
   },
   {
    "duration": 9,
    "start_time": "2021-11-15T06:43:09.242Z"
   },
   {
    "duration": 10,
    "start_time": "2021-11-15T06:43:10.429Z"
   },
   {
    "duration": 8,
    "start_time": "2021-11-15T06:43:12.145Z"
   },
   {
    "duration": 15,
    "start_time": "2021-11-15T06:43:12.913Z"
   },
   {
    "duration": 12,
    "start_time": "2021-11-15T06:43:13.785Z"
   },
   {
    "duration": 9,
    "start_time": "2021-11-15T06:43:15.003Z"
   },
   {
    "duration": 28,
    "start_time": "2021-11-15T06:43:16.375Z"
   },
   {
    "duration": 9,
    "start_time": "2021-11-15T06:43:17.170Z"
   },
   {
    "duration": 26,
    "start_time": "2021-11-15T06:43:21.875Z"
   },
   {
    "duration": 8,
    "start_time": "2021-11-15T06:43:23.283Z"
   },
   {
    "duration": 10,
    "start_time": "2021-11-15T06:43:25.121Z"
   },
   {
    "duration": 47097,
    "start_time": "2021-11-15T06:43:26.872Z"
   },
   {
    "duration": 8,
    "start_time": "2021-11-15T06:44:22.344Z"
   },
   {
    "duration": 46930,
    "start_time": "2021-11-15T06:44:26.216Z"
   },
   {
    "duration": 7,
    "start_time": "2021-11-15T06:46:56.736Z"
   },
   {
    "duration": 10,
    "start_time": "2021-11-15T06:47:01.227Z"
   },
   {
    "duration": 2,
    "start_time": "2021-11-15T06:47:02.568Z"
   },
   {
    "duration": 4,
    "start_time": "2021-11-15T06:47:03.259Z"
   },
   {
    "duration": 10,
    "start_time": "2021-11-15T06:47:04.339Z"
   },
   {
    "duration": 39,
    "start_time": "2021-11-15T06:47:05.118Z"
   },
   {
    "duration": 10,
    "start_time": "2021-11-15T06:47:05.895Z"
   },
   {
    "duration": 26,
    "start_time": "2021-11-15T06:47:15.305Z"
   },
   {
    "duration": 10,
    "start_time": "2021-11-15T06:47:16.099Z"
   },
   {
    "duration": 10,
    "start_time": "2021-11-15T06:47:19.700Z"
   },
   {
    "duration": 3,
    "start_time": "2021-11-15T06:47:31.178Z"
   },
   {
    "duration": 3,
    "start_time": "2021-11-15T06:47:32.118Z"
   },
   {
    "duration": 51,
    "start_time": "2021-11-15T06:47:33.197Z"
   },
   {
    "duration": 51,
    "start_time": "2021-11-15T06:47:34.058Z"
   },
   {
    "duration": 49,
    "start_time": "2021-11-15T06:47:57.021Z"
   },
   {
    "duration": 6,
    "start_time": "2021-11-15T06:47:58.442Z"
   },
   {
    "duration": 834,
    "start_time": "2021-11-15T06:48:02.409Z"
   },
   {
    "duration": 440,
    "start_time": "2021-11-15T06:48:07.016Z"
   },
   {
    "duration": 353,
    "start_time": "2021-11-15T06:48:12.829Z"
   },
   {
    "duration": 4,
    "start_time": "2021-11-15T06:48:29.714Z"
   },
   {
    "duration": 5,
    "start_time": "2021-11-15T06:48:30.864Z"
   },
   {
    "duration": 75,
    "start_time": "2021-11-15T06:48:33.721Z"
   },
   {
    "duration": 10,
    "start_time": "2021-11-15T06:49:09.936Z"
   },
   {
    "duration": 45,
    "start_time": "2021-11-15T06:51:16.716Z"
   },
   {
    "duration": 281,
    "start_time": "2021-11-15T06:52:45.669Z"
   },
   {
    "duration": 295,
    "start_time": "2021-11-15T06:55:53.927Z"
   },
   {
    "duration": 315,
    "start_time": "2021-11-15T06:55:59.202Z"
   },
   {
    "duration": 34,
    "start_time": "2021-11-15T06:58:13.448Z"
   },
   {
    "duration": 18,
    "start_time": "2021-11-15T06:58:16.174Z"
   },
   {
    "duration": 78,
    "start_time": "2021-11-15T06:58:23.347Z"
   },
   {
    "duration": 10,
    "start_time": "2021-11-15T06:58:24.249Z"
   },
   {
    "duration": 14,
    "start_time": "2021-11-15T06:58:25.635Z"
   },
   {
    "duration": 36,
    "start_time": "2021-11-15T06:58:26.915Z"
   },
   {
    "duration": 9,
    "start_time": "2021-11-15T06:58:28.184Z"
   },
   {
    "duration": 23,
    "start_time": "2021-11-15T06:58:29.330Z"
   },
   {
    "duration": 28,
    "start_time": "2021-11-15T06:58:30.584Z"
   },
   {
    "duration": 23,
    "start_time": "2021-11-15T06:58:31.810Z"
   },
   {
    "duration": 8,
    "start_time": "2021-11-15T06:58:33.013Z"
   },
   {
    "duration": 11,
    "start_time": "2021-11-15T06:58:34.201Z"
   },
   {
    "duration": 8,
    "start_time": "2021-11-15T06:58:36.022Z"
   },
   {
    "duration": 16,
    "start_time": "2021-11-15T06:58:36.780Z"
   },
   {
    "duration": 11,
    "start_time": "2021-11-15T06:58:37.369Z"
   },
   {
    "duration": 9,
    "start_time": "2021-11-15T06:58:38.596Z"
   },
   {
    "duration": 27,
    "start_time": "2021-11-15T06:58:39.819Z"
   },
   {
    "duration": 7,
    "start_time": "2021-11-15T06:58:40.446Z"
   },
   {
    "duration": 26,
    "start_time": "2021-11-15T06:58:45.953Z"
   },
   {
    "duration": 10,
    "start_time": "2021-11-15T06:58:47.535Z"
   },
   {
    "duration": 24,
    "start_time": "2021-11-15T06:58:52.451Z"
   },
   {
    "duration": 8,
    "start_time": "2021-11-15T06:58:53.144Z"
   },
   {
    "duration": 8,
    "start_time": "2021-11-15T06:58:54.910Z"
   },
   {
    "duration": 33764,
    "start_time": "2021-11-15T06:58:56.248Z"
   },
   {
    "duration": 7,
    "start_time": "2021-11-15T06:59:34.016Z"
   },
   {
    "duration": 46513,
    "start_time": "2021-11-15T06:59:35.790Z"
   },
   {
    "duration": 57352,
    "start_time": "2021-11-15T07:00:25.036Z"
   },
   {
    "duration": 7,
    "start_time": "2021-11-15T07:01:26.826Z"
   },
   {
    "duration": 10,
    "start_time": "2021-11-15T07:01:28.358Z"
   },
   {
    "duration": 3,
    "start_time": "2021-11-15T07:01:29.638Z"
   },
   {
    "duration": 4,
    "start_time": "2021-11-15T07:01:30.664Z"
   },
   {
    "duration": 14,
    "start_time": "2021-11-15T07:01:31.785Z"
   },
   {
    "duration": 13,
    "start_time": "2021-11-15T07:01:44.292Z"
   },
   {
    "duration": 10,
    "start_time": "2021-11-15T07:01:46.449Z"
   },
   {
    "duration": 10,
    "start_time": "2021-11-15T07:01:48.681Z"
   },
   {
    "duration": 4,
    "start_time": "2021-11-15T07:01:49.563Z"
   },
   {
    "duration": 3,
    "start_time": "2021-11-15T07:01:50.283Z"
   },
   {
    "duration": 25,
    "start_time": "2021-11-15T07:01:51.457Z"
   },
   {
    "duration": 25,
    "start_time": "2021-11-15T07:01:52.067Z"
   },
   {
    "duration": 24,
    "start_time": "2021-11-15T07:01:52.832Z"
   },
   {
    "duration": 4,
    "start_time": "2021-11-15T07:01:53.644Z"
   },
   {
    "duration": 4,
    "start_time": "2021-11-15T07:01:56.005Z"
   },
   {
    "duration": 4,
    "start_time": "2021-11-15T07:01:58.576Z"
   },
   {
    "duration": 5,
    "start_time": "2021-11-15T07:01:59.478Z"
   },
   {
    "duration": 36,
    "start_time": "2021-11-15T07:02:00.981Z"
   },
   {
    "duration": 10,
    "start_time": "2021-11-15T07:02:02.779Z"
   },
   {
    "duration": 53,
    "start_time": "2021-11-15T07:02:08.228Z"
   },
   {
    "duration": 8,
    "start_time": "2021-11-15T07:02:11.408Z"
   },
   {
    "duration": 7,
    "start_time": "2021-11-15T07:02:12.687Z"
   },
   {
    "duration": 6,
    "start_time": "2021-11-15T07:03:49.535Z"
   },
   {
    "duration": 8,
    "start_time": "2021-11-15T07:03:51.097Z"
   },
   {
    "duration": 10,
    "start_time": "2021-11-15T07:11:14.431Z"
   },
   {
    "duration": 19,
    "start_time": "2021-11-15T07:11:27.091Z"
   },
   {
    "duration": 11,
    "start_time": "2021-11-15T07:11:34.735Z"
   },
   {
    "duration": 11,
    "start_time": "2021-11-15T07:12:17.879Z"
   },
   {
    "duration": 10,
    "start_time": "2021-11-15T07:12:32.792Z"
   },
   {
    "duration": 10,
    "start_time": "2021-11-15T07:15:52.913Z"
   },
   {
    "duration": 289,
    "start_time": "2021-11-15T07:19:42.801Z"
   },
   {
    "duration": 6,
    "start_time": "2021-11-15T07:19:52.002Z"
   },
   {
    "duration": 536,
    "start_time": "2021-11-15T07:19:53.307Z"
   },
   {
    "duration": 8,
    "start_time": "2021-11-15T07:21:13.756Z"
   },
   {
    "duration": 11,
    "start_time": "2021-11-15T07:24:57.256Z"
   },
   {
    "duration": 554,
    "start_time": "2021-11-15T07:25:58.412Z"
   },
   {
    "duration": 1328,
    "start_time": "2021-11-15T07:26:59.433Z"
   },
   {
    "duration": 7,
    "start_time": "2021-11-15T07:29:51.830Z"
   },
   {
    "duration": 3,
    "start_time": "2021-11-15T07:30:11.594Z"
   },
   {
    "duration": 8,
    "start_time": "2021-11-15T07:30:12.366Z"
   },
   {
    "duration": 16416,
    "start_time": "2021-11-15T07:30:15.037Z"
   },
   {
    "duration": 4,
    "start_time": "2021-11-15T07:31:55.317Z"
   },
   {
    "duration": 4,
    "start_time": "2021-11-15T07:32:09.801Z"
   },
   {
    "duration": 4,
    "start_time": "2021-11-15T07:32:17.943Z"
   },
   {
    "duration": 4,
    "start_time": "2021-11-15T07:32:18.668Z"
   },
   {
    "duration": 3,
    "start_time": "2021-11-15T07:32:33.157Z"
   },
   {
    "duration": 18,
    "start_time": "2021-11-15T07:32:36.159Z"
   },
   {
    "duration": 4,
    "start_time": "2021-11-15T07:32:39.404Z"
   },
   {
    "duration": 3,
    "start_time": "2021-11-15T07:32:50.231Z"
   },
   {
    "duration": 4,
    "start_time": "2021-11-15T07:32:51.988Z"
   },
   {
    "duration": 4,
    "start_time": "2021-11-15T07:33:10.765Z"
   },
   {
    "duration": 5,
    "start_time": "2021-11-15T07:33:11.343Z"
   },
   {
    "duration": 6,
    "start_time": "2021-11-15T07:33:54.227Z"
   },
   {
    "duration": 4,
    "start_time": "2021-11-15T07:33:58.291Z"
   },
   {
    "duration": 4,
    "start_time": "2021-11-15T07:33:58.921Z"
   },
   {
    "duration": 4,
    "start_time": "2021-11-15T07:34:25.935Z"
   },
   {
    "duration": 4,
    "start_time": "2021-11-15T07:34:26.681Z"
   },
   {
    "duration": 7,
    "start_time": "2021-11-15T07:34:34.565Z"
   },
   {
    "duration": 4,
    "start_time": "2021-11-15T07:34:53.223Z"
   },
   {
    "duration": 4,
    "start_time": "2021-11-15T07:34:55.920Z"
   },
   {
    "duration": 3,
    "start_time": "2021-11-15T07:35:05.829Z"
   },
   {
    "duration": 4,
    "start_time": "2021-11-15T07:38:31.297Z"
   },
   {
    "duration": 4,
    "start_time": "2021-11-15T07:38:31.923Z"
   },
   {
    "duration": 4,
    "start_time": "2021-11-15T07:39:30.031Z"
   },
   {
    "duration": 654,
    "start_time": "2021-11-15T07:39:30.625Z"
   },
   {
    "duration": 554,
    "start_time": "2021-11-15T07:39:47.946Z"
   },
   {
    "duration": 4,
    "start_time": "2021-11-15T07:40:45.393Z"
   },
   {
    "duration": 6,
    "start_time": "2021-11-15T07:40:47.485Z"
   },
   {
    "duration": 12,
    "start_time": "2021-11-15T07:40:51.442Z"
   },
   {
    "duration": 19,
    "start_time": "2021-11-15T07:41:23.586Z"
   },
   {
    "duration": 21,
    "start_time": "2021-11-15T07:41:43.632Z"
   },
   {
    "duration": 20,
    "start_time": "2021-11-15T07:41:50.628Z"
   },
   {
    "duration": 17,
    "start_time": "2021-11-15T07:42:04.786Z"
   },
   {
    "duration": 7,
    "start_time": "2021-11-15T07:42:05.717Z"
   },
   {
    "duration": 5,
    "start_time": "2021-11-15T07:44:09.727Z"
   },
   {
    "duration": 4,
    "start_time": "2021-11-15T07:44:16.330Z"
   },
   {
    "duration": 3,
    "start_time": "2021-11-15T07:44:24.319Z"
   },
   {
    "duration": 5,
    "start_time": "2021-11-15T07:44:34.929Z"
   },
   {
    "duration": 4,
    "start_time": "2021-11-15T07:44:35.652Z"
   },
   {
    "duration": 89,
    "start_time": "2021-11-15T07:45:18.634Z"
   },
   {
    "duration": 5,
    "start_time": "2021-11-15T07:45:33.394Z"
   },
   {
    "duration": 7,
    "start_time": "2021-11-15T07:45:34.782Z"
   },
   {
    "duration": 1743,
    "start_time": "2021-11-15T07:45:40.770Z"
   },
   {
    "duration": -4495,
    "start_time": "2021-11-15T07:45:47.010Z"
   },
   {
    "duration": 1375,
    "start_time": "2021-11-15T07:45:49.147Z"
   },
   {
    "duration": 4,
    "start_time": "2021-11-15T07:46:43.279Z"
   },
   {
    "duration": 6,
    "start_time": "2021-11-15T07:46:44.050Z"
   },
   {
    "duration": 16146,
    "start_time": "2021-11-15T07:46:45.838Z"
   },
   {
    "duration": 7,
    "start_time": "2021-11-15T07:49:50.484Z"
   },
   {
    "duration": 265,
    "start_time": "2021-11-15T07:50:56.810Z"
   },
   {
    "duration": 15,
    "start_time": "2021-11-15T07:51:08.347Z"
   },
   {
    "duration": 280,
    "start_time": "2021-11-15T07:59:12.269Z"
   },
   {
    "duration": 8,
    "start_time": "2021-11-15T08:00:15.612Z"
   },
   {
    "duration": 6,
    "start_time": "2021-11-15T08:00:16.638Z"
   },
   {
    "duration": 20,
    "start_time": "2021-11-15T08:00:53.830Z"
   },
   {
    "duration": 5,
    "start_time": "2021-11-15T08:12:53.215Z"
   },
   {
    "duration": 551,
    "start_time": "2021-11-15T08:13:09.294Z"
   },
   {
    "duration": 5,
    "start_time": "2021-11-15T08:16:03.041Z"
   },
   {
    "duration": 507,
    "start_time": "2021-11-15T08:16:03.779Z"
   },
   {
    "duration": 6,
    "start_time": "2021-11-15T08:16:36.298Z"
   },
   {
    "duration": 547,
    "start_time": "2021-11-15T08:16:37.972Z"
   },
   {
    "duration": 4,
    "start_time": "2021-11-15T08:16:59.989Z"
   },
   {
    "duration": 5,
    "start_time": "2021-11-15T08:17:02.354Z"
   },
   {
    "duration": 552,
    "start_time": "2021-11-15T08:17:03.040Z"
   },
   {
    "duration": 5,
    "start_time": "2021-11-15T08:17:09.522Z"
   },
   {
    "duration": 528,
    "start_time": "2021-11-15T08:17:10.109Z"
   },
   {
    "duration": 5,
    "start_time": "2021-11-15T08:17:38.021Z"
   },
   {
    "duration": 528,
    "start_time": "2021-11-15T08:17:39.163Z"
   },
   {
    "duration": 5,
    "start_time": "2021-11-15T08:18:38.722Z"
   },
   {
    "duration": 515,
    "start_time": "2021-11-15T08:18:39.296Z"
   },
   {
    "duration": 4,
    "start_time": "2021-11-15T08:18:49.182Z"
   },
   {
    "duration": 621,
    "start_time": "2021-11-15T08:18:50.205Z"
   },
   {
    "duration": 5,
    "start_time": "2021-11-15T08:22:23.841Z"
   },
   {
    "duration": 561,
    "start_time": "2021-11-15T08:22:25.235Z"
   },
   {
    "duration": 5,
    "start_time": "2021-11-15T08:22:49.261Z"
   },
   {
    "duration": 527,
    "start_time": "2021-11-15T08:22:50.287Z"
   },
   {
    "duration": 5,
    "start_time": "2021-11-15T08:23:33.436Z"
   },
   {
    "duration": 5,
    "start_time": "2021-11-15T08:23:33.983Z"
   },
   {
    "duration": 5,
    "start_time": "2021-11-15T08:24:41.667Z"
   },
   {
    "duration": 567,
    "start_time": "2021-11-15T08:24:42.639Z"
   },
   {
    "duration": 5,
    "start_time": "2021-11-15T08:25:26.036Z"
   },
   {
    "duration": 5,
    "start_time": "2021-11-15T08:25:26.851Z"
   },
   {
    "duration": 5,
    "start_time": "2021-11-15T08:25:56.942Z"
   },
   {
    "duration": 537,
    "start_time": "2021-11-15T08:25:57.972Z"
   },
   {
    "duration": 4,
    "start_time": "2021-11-15T08:26:08.444Z"
   },
   {
    "duration": 5,
    "start_time": "2021-11-15T08:26:08.920Z"
   },
   {
    "duration": 5,
    "start_time": "2021-11-15T08:26:56.839Z"
   },
   {
    "duration": 587,
    "start_time": "2021-11-15T08:26:59.993Z"
   },
   {
    "duration": 5,
    "start_time": "2021-11-15T08:27:10.143Z"
   },
   {
    "duration": 5,
    "start_time": "2021-11-15T08:27:10.605Z"
   },
   {
    "duration": 5,
    "start_time": "2021-11-15T08:27:20.775Z"
   },
   {
    "duration": 5,
    "start_time": "2021-11-15T08:27:21.356Z"
   },
   {
    "duration": 5,
    "start_time": "2021-11-15T08:27:29.298Z"
   },
   {
    "duration": 5,
    "start_time": "2021-11-15T08:27:29.854Z"
   },
   {
    "duration": 6,
    "start_time": "2021-11-15T08:27:41.446Z"
   },
   {
    "duration": 6,
    "start_time": "2021-11-15T08:27:42.219Z"
   },
   {
    "duration": 6,
    "start_time": "2021-11-15T08:27:51.263Z"
   },
   {
    "duration": 6,
    "start_time": "2021-11-15T08:27:51.911Z"
   },
   {
    "duration": 5,
    "start_time": "2021-11-15T08:28:03.837Z"
   },
   {
    "duration": 593,
    "start_time": "2021-11-15T08:28:04.355Z"
   },
   {
    "duration": 6,
    "start_time": "2021-11-15T08:28:17.221Z"
   },
   {
    "duration": 6,
    "start_time": "2021-11-15T08:28:18.150Z"
   },
   {
    "duration": 5,
    "start_time": "2021-11-15T08:28:37.766Z"
   },
   {
    "duration": 518,
    "start_time": "2021-11-15T08:28:38.287Z"
   },
   {
    "duration": 5,
    "start_time": "2021-11-15T08:31:18.061Z"
   },
   {
    "duration": 540,
    "start_time": "2021-11-15T08:31:18.763Z"
   },
   {
    "duration": 5,
    "start_time": "2021-11-15T08:34:11.506Z"
   },
   {
    "duration": 6,
    "start_time": "2021-11-15T08:34:12.197Z"
   },
   {
    "duration": 6,
    "start_time": "2021-11-15T08:34:24.037Z"
   },
   {
    "duration": 6,
    "start_time": "2021-11-15T08:34:24.447Z"
   },
   {
    "duration": 587,
    "start_time": "2021-11-15T08:35:38.430Z"
   },
   {
    "duration": 6,
    "start_time": "2021-11-15T08:35:41.137Z"
   },
   {
    "duration": 556,
    "start_time": "2021-11-15T08:35:41.714Z"
   },
   {
    "duration": 6,
    "start_time": "2021-11-15T08:35:54.835Z"
   },
   {
    "duration": 5,
    "start_time": "2021-11-15T08:35:55.859Z"
   },
   {
    "duration": 5,
    "start_time": "2021-11-15T08:36:48.771Z"
   },
   {
    "duration": 6,
    "start_time": "2021-11-15T08:36:50.056Z"
   },
   {
    "duration": 6,
    "start_time": "2021-11-15T08:37:53.622Z"
   },
   {
    "duration": 1429,
    "start_time": "2021-11-15T09:05:56.143Z"
   },
   {
    "duration": 6,
    "start_time": "2021-11-15T09:07:06.582Z"
   },
   {
    "duration": 5,
    "start_time": "2021-11-15T09:07:07.329Z"
   },
   {
    "duration": 1341,
    "start_time": "2021-11-15T09:07:09.507Z"
   },
   {
    "duration": 1435,
    "start_time": "2021-11-15T09:12:24.997Z"
   },
   {
    "duration": 283,
    "start_time": "2021-11-15T09:13:50.453Z"
   },
   {
    "duration": 1259,
    "start_time": "2021-11-15T09:28:56.096Z"
   },
   {
    "duration": 557,
    "start_time": "2021-11-15T09:29:58.373Z"
   },
   {
    "duration": 6,
    "start_time": "2021-11-15T09:31:07.924Z"
   },
   {
    "duration": 34,
    "start_time": "2021-11-15T09:32:09.129Z"
   },
   {
    "duration": 82,
    "start_time": "2021-11-15T09:35:29.198Z"
   },
   {
    "duration": 11,
    "start_time": "2021-11-15T09:35:30.170Z"
   },
   {
    "duration": 14,
    "start_time": "2021-11-15T09:35:31.053Z"
   },
   {
    "duration": 34,
    "start_time": "2021-11-15T09:35:31.256Z"
   },
   {
    "duration": 9,
    "start_time": "2021-11-15T09:35:31.591Z"
   },
   {
    "duration": 24,
    "start_time": "2021-11-15T09:35:31.933Z"
   },
   {
    "duration": 26,
    "start_time": "2021-11-15T09:35:32.279Z"
   },
   {
    "duration": 23,
    "start_time": "2021-11-15T09:35:32.619Z"
   },
   {
    "duration": 9,
    "start_time": "2021-11-15T09:35:32.937Z"
   },
   {
    "duration": 10,
    "start_time": "2021-11-15T09:35:33.286Z"
   },
   {
    "duration": 7,
    "start_time": "2021-11-15T09:35:33.807Z"
   },
   {
    "duration": 15,
    "start_time": "2021-11-15T09:35:33.974Z"
   },
   {
    "duration": 13,
    "start_time": "2021-11-15T09:35:34.138Z"
   },
   {
    "duration": 8,
    "start_time": "2021-11-15T09:35:34.477Z"
   },
   {
    "duration": 26,
    "start_time": "2021-11-15T09:35:34.825Z"
   },
   {
    "duration": 8,
    "start_time": "2021-11-15T09:35:34.987Z"
   },
   {
    "duration": 11,
    "start_time": "2021-11-15T09:35:35.378Z"
   },
   {
    "duration": 34396,
    "start_time": "2021-11-15T09:35:35.767Z"
   },
   {
    "duration": 8,
    "start_time": "2021-11-15T09:36:10.166Z"
   },
   {
    "duration": 7,
    "start_time": "2021-11-15T09:36:57.137Z"
   },
   {
    "duration": 25,
    "start_time": "2021-11-15T09:36:57.146Z"
   },
   {
    "duration": 5,
    "start_time": "2021-11-15T09:36:57.174Z"
   },
   {
    "duration": 6,
    "start_time": "2021-11-15T09:36:57.182Z"
   },
   {
    "duration": 14,
    "start_time": "2021-11-15T09:36:57.191Z"
   },
   {
    "duration": 14,
    "start_time": "2021-11-15T09:36:57.208Z"
   },
   {
    "duration": 13,
    "start_time": "2021-11-15T09:36:57.225Z"
   },
   {
    "duration": 10,
    "start_time": "2021-11-15T09:36:57.268Z"
   },
   {
    "duration": 5,
    "start_time": "2021-11-15T09:36:57.280Z"
   },
   {
    "duration": 7,
    "start_time": "2021-11-15T09:36:57.288Z"
   },
   {
    "duration": 30,
    "start_time": "2021-11-15T09:36:57.298Z"
   },
   {
    "duration": 54,
    "start_time": "2021-11-15T09:36:57.330Z"
   },
   {
    "duration": 22,
    "start_time": "2021-11-15T09:36:57.387Z"
   },
   {
    "duration": 4,
    "start_time": "2021-11-15T09:36:57.412Z"
   },
   {
    "duration": 49895,
    "start_time": "2021-11-15T09:36:57.418Z"
   },
   {
    "duration": 6,
    "start_time": "2021-11-15T09:37:52.775Z"
   },
   {
    "duration": 10,
    "start_time": "2021-11-15T09:37:54.155Z"
   },
   {
    "duration": 3,
    "start_time": "2021-11-15T09:37:54.937Z"
   },
   {
    "duration": 3,
    "start_time": "2021-11-15T09:37:55.707Z"
   },
   {
    "duration": 10,
    "start_time": "2021-11-15T09:37:56.693Z"
   },
   {
    "duration": 9,
    "start_time": "2021-11-15T09:37:59.684Z"
   },
   {
    "duration": 9,
    "start_time": "2021-11-15T09:38:00.394Z"
   },
   {
    "duration": 10,
    "start_time": "2021-11-15T09:38:01.484Z"
   },
   {
    "duration": 3,
    "start_time": "2021-11-15T09:38:02.280Z"
   },
   {
    "duration": 4,
    "start_time": "2021-11-15T09:38:03.588Z"
   },
   {
    "duration": 25,
    "start_time": "2021-11-15T09:38:04.489Z"
   },
   {
    "duration": 25,
    "start_time": "2021-11-15T09:38:05.148Z"
   },
   {
    "duration": 24,
    "start_time": "2021-11-15T09:38:05.805Z"
   },
   {
    "duration": 6,
    "start_time": "2021-11-15T09:38:06.374Z"
   },
   {
    "duration": 3,
    "start_time": "2021-11-15T09:38:09.338Z"
   },
   {
    "duration": 4,
    "start_time": "2021-11-15T09:38:21.302Z"
   },
   {
    "duration": 5,
    "start_time": "2021-11-15T09:38:36.115Z"
   },
   {
    "duration": 35,
    "start_time": "2021-11-15T09:38:37.282Z"
   },
   {
    "duration": 9,
    "start_time": "2021-11-15T09:38:39.640Z"
   },
   {
    "duration": 52,
    "start_time": "2021-11-15T09:38:42.405Z"
   },
   {
    "duration": 7,
    "start_time": "2021-11-15T09:38:44.072Z"
   },
   {
    "duration": 7,
    "start_time": "2021-11-15T09:38:45.591Z"
   },
   {
    "duration": 11,
    "start_time": "2021-11-15T09:38:47.127Z"
   },
   {
    "duration": 4,
    "start_time": "2021-11-15T09:38:48.649Z"
   },
   {
    "duration": 8,
    "start_time": "2021-11-15T09:38:49.101Z"
   },
   {
    "duration": 1583,
    "start_time": "2021-11-15T09:38:49.708Z"
   },
   {
    "duration": 6,
    "start_time": "2021-11-15T09:38:51.293Z"
   },
   {
    "duration": 3,
    "start_time": "2021-11-15T09:38:52.644Z"
   },
   {
    "duration": 13,
    "start_time": "2021-11-15T09:38:54.524Z"
   },
   {
    "duration": 7,
    "start_time": "2021-11-15T09:38:58.393Z"
   },
   {
    "duration": 7,
    "start_time": "2021-11-15T09:39:00.239Z"
   },
   {
    "duration": 11,
    "start_time": "2021-11-15T09:39:05.816Z"
   },
   {
    "duration": 6,
    "start_time": "2021-11-15T09:39:07.798Z"
   },
   {
    "duration": 5,
    "start_time": "2021-11-15T09:39:09.813Z"
   },
   {
    "duration": 578,
    "start_time": "2021-11-15T09:39:10.616Z"
   },
   {
    "duration": 7,
    "start_time": "2021-11-15T09:39:41.831Z"
   },
   {
    "duration": 12,
    "start_time": "2021-11-15T09:39:54.910Z"
   },
   {
    "duration": 6,
    "start_time": "2021-11-15T09:40:16.322Z"
   },
   {
    "duration": 15,
    "start_time": "2021-11-15T09:42:20.888Z"
   },
   {
    "duration": 21,
    "start_time": "2021-11-15T09:42:44.293Z"
   },
   {
    "duration": 6,
    "start_time": "2021-11-15T09:42:57.500Z"
   },
   {
    "duration": 49,
    "start_time": "2021-11-15T09:44:18.452Z"
   },
   {
    "duration": 364,
    "start_time": "2021-11-15T09:44:42.493Z"
   },
   {
    "duration": 14,
    "start_time": "2021-11-15T09:44:52.565Z"
   },
   {
    "duration": 281,
    "start_time": "2021-11-15T09:51:05.785Z"
   },
   {
    "duration": 14,
    "start_time": "2021-11-15T09:51:11.424Z"
   },
   {
    "duration": 21,
    "start_time": "2021-11-15T09:51:59.257Z"
   },
   {
    "duration": 14,
    "start_time": "2021-11-15T09:52:14.287Z"
   },
   {
    "duration": 284,
    "start_time": "2021-11-15T09:52:42.483Z"
   },
   {
    "duration": 1223,
    "start_time": "2021-11-15T09:53:53.632Z"
   },
   {
    "duration": 7,
    "start_time": "2021-11-15T09:54:59.729Z"
   },
   {
    "duration": 6,
    "start_time": "2021-11-15T09:55:13.938Z"
   },
   {
    "duration": 297,
    "start_time": "2021-11-15T10:07:04.628Z"
   },
   {
    "duration": 4,
    "start_time": "2021-11-15T10:07:08.744Z"
   },
   {
    "duration": 11,
    "start_time": "2021-11-15T10:07:09.732Z"
   },
   {
    "duration": 14,
    "start_time": "2021-11-15T10:07:57.368Z"
   },
   {
    "duration": 6,
    "start_time": "2021-11-15T10:13:34.712Z"
   },
   {
    "duration": 8,
    "start_time": "2021-11-15T10:13:38.641Z"
   },
   {
    "duration": 6,
    "start_time": "2021-11-15T10:13:50.173Z"
   },
   {
    "duration": 4,
    "start_time": "2021-11-15T10:14:19.185Z"
   },
   {
    "duration": 14,
    "start_time": "2021-11-15T10:14:20.265Z"
   },
   {
    "duration": 8,
    "start_time": "2021-11-15T10:14:43.432Z"
   },
   {
    "duration": 6,
    "start_time": "2021-11-15T10:14:57.050Z"
   },
   {
    "duration": 9,
    "start_time": "2021-11-15T10:15:03.151Z"
   },
   {
    "duration": 16,
    "start_time": "2021-11-15T10:18:46.002Z"
   },
   {
    "duration": 9,
    "start_time": "2021-11-15T10:18:58.458Z"
   },
   {
    "duration": 8,
    "start_time": "2021-11-15T10:19:37.449Z"
   },
   {
    "duration": 9,
    "start_time": "2021-11-15T10:19:43.204Z"
   },
   {
    "duration": 8,
    "start_time": "2021-11-15T10:20:38.675Z"
   },
   {
    "duration": 35,
    "start_time": "2021-11-15T10:33:24.600Z"
   },
   {
    "duration": 2,
    "start_time": "2021-11-15T10:33:46.789Z"
   },
   {
    "duration": 16,
    "start_time": "2021-11-15T10:38:01.798Z"
   },
   {
    "duration": 286,
    "start_time": "2021-11-15T10:38:15.470Z"
   },
   {
    "duration": 17,
    "start_time": "2021-11-15T10:38:22.015Z"
   },
   {
    "duration": 4,
    "start_time": "2021-11-15T10:39:10.672Z"
   },
   {
    "duration": 13,
    "start_time": "2021-11-15T10:39:11.442Z"
   },
   {
    "duration": 8,
    "start_time": "2021-11-15T10:39:13.294Z"
   },
   {
    "duration": 8,
    "start_time": "2021-11-15T10:39:15.827Z"
   },
   {
    "duration": 15,
    "start_time": "2021-11-15T10:39:17.691Z"
   },
   {
    "duration": 82,
    "start_time": "2021-11-15T10:39:40.752Z"
   },
   {
    "duration": 10,
    "start_time": "2021-11-15T10:39:41.230Z"
   },
   {
    "duration": 15,
    "start_time": "2021-11-15T10:39:42.005Z"
   },
   {
    "duration": 33,
    "start_time": "2021-11-15T10:39:42.312Z"
   },
   {
    "duration": 8,
    "start_time": "2021-11-15T10:39:42.647Z"
   },
   {
    "duration": 22,
    "start_time": "2021-11-15T10:39:43.039Z"
   },
   {
    "duration": 25,
    "start_time": "2021-11-15T10:39:43.335Z"
   },
   {
    "duration": 23,
    "start_time": "2021-11-15T10:39:43.665Z"
   },
   {
    "duration": 10,
    "start_time": "2021-11-15T10:39:44.039Z"
   },
   {
    "duration": 10,
    "start_time": "2021-11-15T10:39:44.478Z"
   },
   {
    "duration": 7,
    "start_time": "2021-11-15T10:39:44.973Z"
   },
   {
    "duration": 15,
    "start_time": "2021-11-15T10:39:45.144Z"
   },
   {
    "duration": 11,
    "start_time": "2021-11-15T10:39:45.293Z"
   },
   {
    "duration": 9,
    "start_time": "2021-11-15T10:39:46.449Z"
   },
   {
    "duration": 25,
    "start_time": "2021-11-15T10:39:46.771Z"
   },
   {
    "duration": 8,
    "start_time": "2021-11-15T10:39:46.947Z"
   },
   {
    "duration": 14,
    "start_time": "2021-11-15T10:39:47.345Z"
   },
   {
    "duration": 34472,
    "start_time": "2021-11-15T10:39:47.724Z"
   },
   {
    "duration": 7,
    "start_time": "2021-11-15T10:40:22.199Z"
   },
   {
    "duration": 6,
    "start_time": "2021-11-15T10:41:09.332Z"
   },
   {
    "duration": 29,
    "start_time": "2021-11-15T10:41:09.340Z"
   },
   {
    "duration": 7,
    "start_time": "2021-11-15T10:41:09.371Z"
   },
   {
    "duration": 10,
    "start_time": "2021-11-15T10:41:09.380Z"
   },
   {
    "duration": 14,
    "start_time": "2021-11-15T10:41:09.393Z"
   },
   {
    "duration": 13,
    "start_time": "2021-11-15T10:41:09.410Z"
   },
   {
    "duration": 14,
    "start_time": "2021-11-15T10:41:09.426Z"
   },
   {
    "duration": 11,
    "start_time": "2021-11-15T10:41:09.467Z"
   },
   {
    "duration": 5,
    "start_time": "2021-11-15T10:41:09.481Z"
   },
   {
    "duration": 7,
    "start_time": "2021-11-15T10:41:09.489Z"
   },
   {
    "duration": 30,
    "start_time": "2021-11-15T10:41:09.499Z"
   },
   {
    "duration": 49,
    "start_time": "2021-11-15T10:41:09.532Z"
   },
   {
    "duration": 24,
    "start_time": "2021-11-15T10:41:09.584Z"
   },
   {
    "duration": 6,
    "start_time": "2021-11-15T10:41:09.611Z"
   },
   {
    "duration": 48,
    "start_time": "2021-11-15T10:41:09.620Z"
   },
   {
    "duration": 52078,
    "start_time": "2021-11-15T10:41:09.671Z"
   },
   {
    "duration": 8,
    "start_time": "2021-11-15T10:42:01.751Z"
   },
   {
    "duration": 10,
    "start_time": "2021-11-15T10:42:08.552Z"
   },
   {
    "duration": 3,
    "start_time": "2021-11-15T10:42:10.640Z"
   },
   {
    "duration": 3,
    "start_time": "2021-11-15T10:42:11.459Z"
   },
   {
    "duration": 10,
    "start_time": "2021-11-15T10:42:14.056Z"
   },
   {
    "duration": 8,
    "start_time": "2021-11-15T10:42:14.804Z"
   },
   {
    "duration": 10,
    "start_time": "2021-11-15T10:42:15.815Z"
   },
   {
    "duration": 10,
    "start_time": "2021-11-15T10:42:19.066Z"
   },
   {
    "duration": 3,
    "start_time": "2021-11-15T10:42:19.876Z"
   },
   {
    "duration": 3,
    "start_time": "2021-11-15T10:42:20.409Z"
   },
   {
    "duration": 27,
    "start_time": "2021-11-15T10:42:21.612Z"
   },
   {
    "duration": 27,
    "start_time": "2021-11-15T10:42:22.160Z"
   },
   {
    "duration": 23,
    "start_time": "2021-11-15T10:42:22.985Z"
   },
   {
    "duration": 5,
    "start_time": "2021-11-15T10:42:23.504Z"
   },
   {
    "duration": 4,
    "start_time": "2021-11-15T10:42:25.272Z"
   },
   {
    "duration": 4,
    "start_time": "2021-11-15T10:42:27.144Z"
   },
   {
    "duration": 5,
    "start_time": "2021-11-15T10:42:27.415Z"
   },
   {
    "duration": 35,
    "start_time": "2021-11-15T10:42:27.813Z"
   },
   {
    "duration": 9,
    "start_time": "2021-11-15T10:42:28.248Z"
   },
   {
    "duration": 51,
    "start_time": "2021-11-15T10:42:30.053Z"
   },
   {
    "duration": 51,
    "start_time": "2021-11-15T10:42:44.219Z"
   },
   {
    "duration": 9,
    "start_time": "2021-11-15T10:42:45.371Z"
   },
   {
    "duration": 7,
    "start_time": "2021-11-15T10:42:46.637Z"
   },
   {
    "duration": 10,
    "start_time": "2021-11-15T10:42:49.536Z"
   },
   {
    "duration": 4,
    "start_time": "2021-11-15T10:42:50.707Z"
   },
   {
    "duration": 8,
    "start_time": "2021-11-15T10:42:51.278Z"
   },
   {
    "duration": 1577,
    "start_time": "2021-11-15T10:42:51.946Z"
   },
   {
    "duration": 7,
    "start_time": "2021-11-15T10:42:53.526Z"
   },
   {
    "duration": 20,
    "start_time": "2021-11-15T10:42:53.537Z"
   },
   {
    "duration": 16,
    "start_time": "2021-11-15T10:42:54.110Z"
   },
   {
    "duration": 8,
    "start_time": "2021-11-15T10:42:54.717Z"
   },
   {
    "duration": 7,
    "start_time": "2021-11-15T10:42:54.912Z"
   },
   {
    "duration": 10,
    "start_time": "2021-11-15T10:42:55.111Z"
   },
   {
    "duration": 6,
    "start_time": "2021-11-15T10:42:55.527Z"
   },
   {
    "duration": 5,
    "start_time": "2021-11-15T10:42:55.873Z"
   },
   {
    "duration": 569,
    "start_time": "2021-11-15T10:42:56.430Z"
   },
   {
    "duration": 6,
    "start_time": "2021-11-15T10:42:57.119Z"
   },
   {
    "duration": 48,
    "start_time": "2021-11-15T10:42:58.331Z"
   },
   {
    "duration": 15,
    "start_time": "2021-11-15T10:42:59.893Z"
   },
   {
    "duration": 7,
    "start_time": "2021-11-15T10:43:01.196Z"
   },
   {
    "duration": 7,
    "start_time": "2021-11-15T10:43:02.421Z"
   },
   {
    "duration": 4,
    "start_time": "2021-11-15T10:43:03.818Z"
   },
   {
    "duration": 15,
    "start_time": "2021-11-15T10:43:04.328Z"
   },
   {
    "duration": 8,
    "start_time": "2021-11-15T10:43:05.628Z"
   },
   {
    "duration": 14,
    "start_time": "2021-11-15T10:43:06.404Z"
   },
   {
    "duration": 16,
    "start_time": "2021-11-15T10:43:09.578Z"
   },
   {
    "duration": 3,
    "start_time": "2021-11-15T10:43:10.643Z"
   },
   {
    "duration": 57,
    "start_time": "2021-11-15T10:43:49.497Z"
   },
   {
    "duration": 5,
    "start_time": "2021-11-15T10:44:43.459Z"
   },
   {
    "duration": 7,
    "start_time": "2021-11-15T10:44:46.087Z"
   },
   {
    "duration": 4,
    "start_time": "2021-11-15T10:44:49.486Z"
   },
   {
    "duration": 14,
    "start_time": "2021-11-15T10:44:50.245Z"
   },
   {
    "duration": 9,
    "start_time": "2021-11-15T10:44:53.554Z"
   },
   {
    "duration": 8,
    "start_time": "2021-11-15T10:45:00.827Z"
   },
   {
    "duration": 9,
    "start_time": "2021-11-15T10:45:01.799Z"
   },
   {
    "duration": 38,
    "start_time": "2021-11-15T10:45:05.628Z"
   },
   {
    "duration": 3,
    "start_time": "2021-11-15T10:45:35.985Z"
   },
   {
    "duration": 38,
    "start_time": "2021-11-15T11:01:52.678Z"
   },
   {
    "duration": 15,
    "start_time": "2021-11-15T11:03:14.427Z"
   },
   {
    "duration": 10,
    "start_time": "2021-11-15T11:04:05.995Z"
   },
   {
    "duration": 8,
    "start_time": "2021-11-15T11:04:24.282Z"
   },
   {
    "duration": 10,
    "start_time": "2021-11-15T11:05:01.807Z"
   },
   {
    "duration": 9,
    "start_time": "2021-11-15T11:05:10.243Z"
   },
   {
    "duration": 282,
    "start_time": "2021-11-15T11:06:31.891Z"
   },
   {
    "duration": -3553,
    "start_time": "2021-11-15T11:06:55.283Z"
   },
   {
    "duration": 6621,
    "start_time": "2021-11-15T11:07:00.004Z"
   },
   {
    "duration": 24,
    "start_time": "2021-11-15T11:07:20.668Z"
   },
   {
    "duration": 54,
    "start_time": "2021-11-15T11:07:39.571Z"
   },
   {
    "duration": 286,
    "start_time": "2021-11-15T11:08:29.578Z"
   },
   {
    "duration": 18,
    "start_time": "2021-11-15T11:08:38.559Z"
   },
   {
    "duration": 15,
    "start_time": "2021-11-15T11:09:03.677Z"
   },
   {
    "duration": 14,
    "start_time": "2021-11-15T11:16:33.631Z"
   },
   {
    "duration": 109,
    "start_time": "2021-11-15T11:17:22.822Z"
   },
   {
    "duration": 90,
    "start_time": "2021-11-15T11:17:32.518Z"
   },
   {
    "duration": 96,
    "start_time": "2021-11-15T11:17:58.711Z"
   },
   {
    "duration": 104,
    "start_time": "2021-11-15T11:18:27.619Z"
   },
   {
    "duration": 258,
    "start_time": "2021-11-15T11:20:06.143Z"
   },
   {
    "duration": 11,
    "start_time": "2021-11-15T11:22:28.170Z"
   },
   {
    "duration": 88,
    "start_time": "2021-11-15T11:31:48.216Z"
   },
   {
    "duration": 82,
    "start_time": "2021-11-15T11:32:15.386Z"
   },
   {
    "duration": 90,
    "start_time": "2021-11-15T11:33:25.204Z"
   },
   {
    "duration": 89,
    "start_time": "2021-11-15T11:34:11.461Z"
   },
   {
    "duration": 45,
    "start_time": "2021-11-15T11:35:14.338Z"
   },
   {
    "duration": 16,
    "start_time": "2021-11-15T11:35:31.824Z"
   },
   {
    "duration": 103,
    "start_time": "2021-11-15T11:35:42.903Z"
   },
   {
    "duration": 81,
    "start_time": "2021-11-15T11:36:04.682Z"
   },
   {
    "duration": 86,
    "start_time": "2021-11-15T11:36:47.976Z"
   },
   {
    "duration": 16,
    "start_time": "2021-11-15T11:37:00.810Z"
   },
   {
    "duration": 38,
    "start_time": "2021-11-15T11:38:27.392Z"
   },
   {
    "duration": 37,
    "start_time": "2021-11-15T11:42:43.224Z"
   },
   {
    "duration": 40,
    "start_time": "2021-11-15T11:46:19.017Z"
   },
   {
    "duration": 39,
    "start_time": "2021-11-15T11:47:43.836Z"
   },
   {
    "duration": 40,
    "start_time": "2021-11-15T11:49:23.018Z"
   },
   {
    "duration": 283,
    "start_time": "2021-11-15T11:51:39.676Z"
   },
   {
    "duration": 17,
    "start_time": "2021-11-15T11:51:50.108Z"
   },
   {
    "duration": 17,
    "start_time": "2021-11-15T11:52:19.828Z"
   },
   {
    "duration": 37,
    "start_time": "2021-11-15T11:52:35.354Z"
   },
   {
    "duration": 16,
    "start_time": "2021-11-15T11:52:47.220Z"
   },
   {
    "duration": 288,
    "start_time": "2021-11-15T11:56:31.470Z"
   },
   {
    "duration": 286,
    "start_time": "2021-11-15T11:57:24.081Z"
   },
   {
    "duration": 281,
    "start_time": "2021-11-15T12:00:43.012Z"
   },
   {
    "duration": 19,
    "start_time": "2021-11-15T12:01:05.337Z"
   },
   {
    "duration": 20,
    "start_time": "2021-11-15T12:03:55.151Z"
   },
   {
    "duration": 21,
    "start_time": "2021-11-15T12:04:08.744Z"
   },
   {
    "duration": 263,
    "start_time": "2021-11-15T12:08:50.632Z"
   },
   {
    "duration": 254,
    "start_time": "2021-11-15T12:09:19.058Z"
   },
   {
    "duration": 264,
    "start_time": "2021-11-15T12:09:23.449Z"
   },
   {
    "duration": 285,
    "start_time": "2021-11-15T12:10:26.684Z"
   },
   {
    "duration": 316,
    "start_time": "2021-11-15T12:10:34.711Z"
   },
   {
    "duration": 105,
    "start_time": "2021-11-15T12:10:59.668Z"
   },
   {
    "duration": 47,
    "start_time": "2021-11-15T12:11:08.600Z"
   },
   {
    "duration": 17,
    "start_time": "2021-11-15T12:15:45.212Z"
   },
   {
    "duration": 20,
    "start_time": "2021-11-15T12:15:53.087Z"
   },
   {
    "duration": 400,
    "start_time": "2021-11-16T04:32:57.480Z"
   },
   {
    "duration": 708,
    "start_time": "2021-11-16T04:33:06.705Z"
   },
   {
    "duration": 7,
    "start_time": "2021-11-16T04:33:07.415Z"
   },
   {
    "duration": 11,
    "start_time": "2021-11-16T04:33:08.447Z"
   },
   {
    "duration": 21,
    "start_time": "2021-11-16T04:33:09.391Z"
   },
   {
    "duration": 7,
    "start_time": "2021-11-16T04:33:10.586Z"
   },
   {
    "duration": 15,
    "start_time": "2021-11-16T04:33:11.681Z"
   },
   {
    "duration": 17,
    "start_time": "2021-11-16T04:33:12.872Z"
   },
   {
    "duration": 16,
    "start_time": "2021-11-16T04:33:14.433Z"
   },
   {
    "duration": 6,
    "start_time": "2021-11-16T04:33:15.516Z"
   },
   {
    "duration": 7,
    "start_time": "2021-11-16T04:33:16.718Z"
   },
   {
    "duration": 6,
    "start_time": "2021-11-16T04:33:18.416Z"
   },
   {
    "duration": 10,
    "start_time": "2021-11-16T04:33:18.956Z"
   },
   {
    "duration": 8,
    "start_time": "2021-11-16T04:33:19.524Z"
   },
   {
    "duration": 6,
    "start_time": "2021-11-16T04:33:20.637Z"
   },
   {
    "duration": 20,
    "start_time": "2021-11-16T04:33:21.802Z"
   },
   {
    "duration": 5,
    "start_time": "2021-11-16T04:33:22.351Z"
   },
   {
    "duration": 18,
    "start_time": "2021-11-16T04:33:25.181Z"
   },
   {
    "duration": 7,
    "start_time": "2021-11-16T04:33:26.118Z"
   },
   {
    "duration": 6,
    "start_time": "2021-11-16T04:33:27.767Z"
   },
   {
    "duration": 20773,
    "start_time": "2021-11-16T04:33:29.215Z"
   },
   {
    "duration": 4,
    "start_time": "2021-11-16T04:33:49.990Z"
   },
   {
    "duration": 5,
    "start_time": "2021-11-16T04:33:55.851Z"
   },
   {
    "duration": 27753,
    "start_time": "2021-11-16T04:33:57.364Z"
   },
   {
    "duration": 5,
    "start_time": "2021-11-16T04:34:34.725Z"
   },
   {
    "duration": 9,
    "start_time": "2021-11-16T04:34:36.032Z"
   },
   {
    "duration": 2,
    "start_time": "2021-11-16T04:34:36.861Z"
   },
   {
    "duration": 2,
    "start_time": "2021-11-16T04:34:37.510Z"
   },
   {
    "duration": 7,
    "start_time": "2021-11-16T04:34:38.622Z"
   },
   {
    "duration": 7,
    "start_time": "2021-11-16T04:34:39.285Z"
   },
   {
    "duration": 7,
    "start_time": "2021-11-16T04:34:40.384Z"
   },
   {
    "duration": 7,
    "start_time": "2021-11-16T04:34:41.612Z"
   },
   {
    "duration": 2,
    "start_time": "2021-11-16T04:34:42.340Z"
   },
   {
    "duration": 3,
    "start_time": "2021-11-16T04:34:42.922Z"
   },
   {
    "duration": 19,
    "start_time": "2021-11-16T04:34:43.971Z"
   },
   {
    "duration": 19,
    "start_time": "2021-11-16T04:34:45.113Z"
   },
   {
    "duration": 19,
    "start_time": "2021-11-16T04:34:46.067Z"
   },
   {
    "duration": 4,
    "start_time": "2021-11-16T04:34:46.773Z"
   },
   {
    "duration": 2,
    "start_time": "2021-11-16T04:34:49.116Z"
   },
   {
    "duration": 3,
    "start_time": "2021-11-16T04:34:51.946Z"
   },
   {
    "duration": 4,
    "start_time": "2021-11-16T04:34:53.495Z"
   },
   {
    "duration": 28,
    "start_time": "2021-11-16T04:34:54.584Z"
   },
   {
    "duration": 7,
    "start_time": "2021-11-16T04:34:58.659Z"
   },
   {
    "duration": 23,
    "start_time": "2021-11-16T04:35:05.054Z"
   },
   {
    "duration": 4,
    "start_time": "2021-11-16T04:35:16.828Z"
   },
   {
    "duration": 23,
    "start_time": "2021-11-16T04:35:17.786Z"
   },
   {
    "duration": 6,
    "start_time": "2021-11-16T04:35:22.065Z"
   },
   {
    "duration": 42,
    "start_time": "2021-11-16T04:35:24.541Z"
   },
   {
    "duration": 5,
    "start_time": "2021-11-16T04:35:25.436Z"
   },
   {
    "duration": 5,
    "start_time": "2021-11-16T04:35:26.244Z"
   },
   {
    "duration": 9,
    "start_time": "2021-11-16T04:35:27.594Z"
   },
   {
    "duration": 3,
    "start_time": "2021-11-16T04:35:28.605Z"
   },
   {
    "duration": 5,
    "start_time": "2021-11-16T04:35:29.009Z"
   },
   {
    "duration": 1067,
    "start_time": "2021-11-16T04:35:29.718Z"
   },
   {
    "duration": 5,
    "start_time": "2021-11-16T04:35:30.787Z"
   },
   {
    "duration": 11,
    "start_time": "2021-11-16T04:35:37.710Z"
   },
   {
    "duration": 5,
    "start_time": "2021-11-16T04:35:38.633Z"
   },
   {
    "duration": 3,
    "start_time": "2021-11-16T04:35:39.838Z"
   },
   {
    "duration": 16,
    "start_time": "2021-11-16T04:35:41.007Z"
   },
   {
    "duration": 5,
    "start_time": "2021-11-16T04:35:43.059Z"
   },
   {
    "duration": 4,
    "start_time": "2021-11-16T04:35:43.754Z"
   },
   {
    "duration": 7,
    "start_time": "2021-11-16T04:35:44.376Z"
   },
   {
    "duration": 4,
    "start_time": "2021-11-16T04:35:45.722Z"
   },
   {
    "duration": 4,
    "start_time": "2021-11-16T04:35:47.127Z"
   },
   {
    "duration": 317,
    "start_time": "2021-11-16T04:35:47.789Z"
   },
   {
    "duration": 4,
    "start_time": "2021-11-16T04:35:48.458Z"
   },
   {
    "duration": 28,
    "start_time": "2021-11-16T04:35:49.166Z"
   },
   {
    "duration": 11,
    "start_time": "2021-11-16T04:35:50.692Z"
   },
   {
    "duration": 4,
    "start_time": "2021-11-16T04:35:52.105Z"
   },
   {
    "duration": 5,
    "start_time": "2021-11-16T04:35:53.698Z"
   },
   {
    "duration": 2,
    "start_time": "2021-11-16T04:35:55.224Z"
   },
   {
    "duration": 10,
    "start_time": "2021-11-16T04:35:55.835Z"
   },
   {
    "duration": 11,
    "start_time": "2021-11-16T04:36:01.149Z"
   },
   {
    "duration": 3,
    "start_time": "2021-11-16T04:36:04.253Z"
   },
   {
    "duration": 10,
    "start_time": "2021-11-16T04:36:05.133Z"
   },
   {
    "duration": 7,
    "start_time": "2021-11-16T04:36:07.913Z"
   },
   {
    "duration": 12,
    "start_time": "2021-11-16T04:36:08.825Z"
   },
   {
    "duration": 2,
    "start_time": "2021-11-16T04:36:10.720Z"
   },
   {
    "duration": 2,
    "start_time": "2021-11-16T04:36:11.154Z"
   },
   {
    "duration": 2,
    "start_time": "2021-11-16T04:36:11.594Z"
   },
   {
    "duration": 26,
    "start_time": "2021-11-16T04:36:14.043Z"
   },
   {
    "duration": 14,
    "start_time": "2021-11-16T04:36:20.191Z"
   },
   {
    "duration": 27,
    "start_time": "2021-11-16T04:36:26.422Z"
   },
   {
    "duration": 36,
    "start_time": "2021-11-16T04:36:32.877Z"
   },
   {
    "duration": 21,
    "start_time": "2021-11-16T04:38:41.872Z"
   },
   {
    "duration": 415,
    "start_time": "2021-11-16T04:40:16.054Z"
   },
   {
    "duration": 379,
    "start_time": "2021-11-16T04:40:44.574Z"
   },
   {
    "duration": 376,
    "start_time": "2021-11-16T04:40:57.170Z"
   },
   {
    "duration": 20,
    "start_time": "2021-11-16T04:41:20.658Z"
   },
   {
    "duration": 388,
    "start_time": "2021-11-16T04:41:42.705Z"
   },
   {
    "duration": 129,
    "start_time": "2021-11-16T04:41:48.986Z"
   },
   {
    "duration": 23,
    "start_time": "2021-11-16T04:41:54.064Z"
   },
   {
    "duration": 370,
    "start_time": "2021-11-16T04:42:28.786Z"
   },
   {
    "duration": 379,
    "start_time": "2021-11-16T04:42:35.944Z"
   },
   {
    "duration": 20,
    "start_time": "2021-11-16T04:42:52.505Z"
   },
   {
    "duration": 35,
    "start_time": "2021-11-16T05:13:33.120Z"
   },
   {
    "duration": 398,
    "start_time": "2021-11-16T05:13:58.503Z"
   },
   {
    "duration": 374,
    "start_time": "2021-11-16T05:14:11.225Z"
   },
   {
    "duration": 36,
    "start_time": "2021-11-16T05:14:43.554Z"
   },
   {
    "duration": 40,
    "start_time": "2021-11-16T05:15:04.459Z"
   },
   {
    "duration": 2370,
    "start_time": "2021-11-16T05:20:28.323Z"
   },
   {
    "duration": 2402,
    "start_time": "2021-11-16T05:20:33.540Z"
   },
   {
    "duration": 2350,
    "start_time": "2021-11-16T05:22:18.133Z"
   },
   {
    "duration": 2348,
    "start_time": "2021-11-16T05:22:53.601Z"
   },
   {
    "duration": 2333,
    "start_time": "2021-11-16T05:23:26.475Z"
   },
   {
    "duration": 2317,
    "start_time": "2021-11-16T05:24:21.632Z"
   },
   {
    "duration": 2329,
    "start_time": "2021-11-16T05:24:59.095Z"
   },
   {
    "duration": 4587,
    "start_time": "2021-11-16T05:26:46.351Z"
   },
   {
    "duration": 3186,
    "start_time": "2021-11-16T05:28:02.084Z"
   },
   {
    "duration": 7,
    "start_time": "2021-11-16T05:36:15.798Z"
   },
   {
    "duration": 6,
    "start_time": "2021-11-16T05:36:42.812Z"
   },
   {
    "duration": 7,
    "start_time": "2021-11-16T05:38:46.001Z"
   },
   {
    "duration": 7,
    "start_time": "2021-11-16T05:41:42.994Z"
   },
   {
    "duration": 390,
    "start_time": "2021-11-16T05:41:55.438Z"
   },
   {
    "duration": 7,
    "start_time": "2021-11-16T05:42:38.348Z"
   },
   {
    "duration": 8,
    "start_time": "2021-11-16T05:43:05.506Z"
   },
   {
    "duration": 9,
    "start_time": "2021-11-16T05:43:46.129Z"
   },
   {
    "duration": 21,
    "start_time": "2021-11-16T06:01:00.940Z"
   },
   {
    "duration": 14,
    "start_time": "2021-11-16T06:01:19.541Z"
   },
   {
    "duration": 14,
    "start_time": "2021-11-16T06:03:25.880Z"
   },
   {
    "duration": 8,
    "start_time": "2021-11-16T06:05:04.747Z"
   },
   {
    "duration": 65,
    "start_time": "2021-11-16T18:53:14.562Z"
   },
   {
    "duration": 212,
    "start_time": "2021-11-16T19:10:10.253Z"
   },
   {
    "duration": 836,
    "start_time": "2021-11-16T19:10:18.104Z"
   },
   {
    "duration": 7,
    "start_time": "2021-11-16T19:10:19.161Z"
   },
   {
    "duration": 12,
    "start_time": "2021-11-16T19:10:20.843Z"
   },
   {
    "duration": 20,
    "start_time": "2021-11-16T19:10:22.566Z"
   },
   {
    "duration": 7,
    "start_time": "2021-11-16T19:10:24.300Z"
   },
   {
    "duration": 886,
    "start_time": "2021-11-30T21:38:28.341Z"
   },
   {
    "duration": 18,
    "start_time": "2021-11-30T21:38:30.392Z"
   },
   {
    "duration": 16,
    "start_time": "2021-11-30T21:38:33.910Z"
   },
   {
    "duration": 36,
    "start_time": "2021-11-30T21:38:36.512Z"
   },
   {
    "duration": 9,
    "start_time": "2021-11-30T21:38:40.620Z"
   },
   {
    "duration": 23,
    "start_time": "2021-11-30T21:38:51.029Z"
   },
   {
    "duration": 26,
    "start_time": "2021-11-30T21:38:53.520Z"
   },
   {
    "duration": 22,
    "start_time": "2021-11-30T21:39:03.891Z"
   },
   {
    "duration": 10,
    "start_time": "2021-11-30T21:39:04.981Z"
   },
   {
    "duration": 12,
    "start_time": "2021-11-30T21:39:06.572Z"
   },
   {
    "duration": 7,
    "start_time": "2021-11-30T21:39:22.691Z"
   },
   {
    "duration": 15,
    "start_time": "2021-11-30T21:39:23.812Z"
   },
   {
    "duration": 12,
    "start_time": "2021-11-30T21:39:26.251Z"
   },
   {
    "duration": 12,
    "start_time": "2021-11-30T21:39:29.542Z"
   },
   {
    "duration": 29,
    "start_time": "2021-11-30T21:39:31.064Z"
   },
   {
    "duration": 29,
    "start_time": "2021-11-30T21:39:38.305Z"
   },
   {
    "duration": 10,
    "start_time": "2021-11-30T21:39:40.240Z"
   },
   {
    "duration": 10,
    "start_time": "2021-11-30T21:39:42.725Z"
   },
   {
    "duration": 17,
    "start_time": "2021-11-30T21:40:22.207Z"
   },
   {
    "duration": 52,
    "start_time": "2021-11-30T21:40:22.227Z"
   },
   {
    "duration": 8,
    "start_time": "2021-11-30T21:40:40.240Z"
   },
   {
    "duration": 7,
    "start_time": "2021-11-30T21:41:46.498Z"
   },
   {
    "duration": 10,
    "start_time": "2021-11-30T21:43:42.968Z"
   },
   {
    "duration": 10,
    "start_time": "2021-11-30T21:44:45.426Z"
   },
   {
    "duration": 11,
    "start_time": "2021-11-30T21:45:34.698Z"
   },
   {
    "duration": 11,
    "start_time": "2021-11-30T21:45:44.081Z"
   },
   {
    "duration": 10,
    "start_time": "2021-11-30T21:53:01.310Z"
   },
   {
    "duration": 7,
    "start_time": "2021-11-30T21:53:08.033Z"
   },
   {
    "duration": 13,
    "start_time": "2021-11-30T21:54:16.269Z"
   },
   {
    "duration": 32,
    "start_time": "2021-11-30T21:54:33.350Z"
   },
   {
    "duration": 10,
    "start_time": "2021-11-30T21:55:26.928Z"
   },
   {
    "duration": 387,
    "start_time": "2021-11-30T21:55:46.031Z"
   },
   {
    "duration": 33,
    "start_time": "2021-11-30T21:55:58.369Z"
   },
   {
    "duration": 12,
    "start_time": "2021-11-30T21:56:30.550Z"
   },
   {
    "duration": 18,
    "start_time": "2021-11-30T21:57:00.430Z"
   },
   {
    "duration": 32,
    "start_time": "2021-11-30T21:57:30.380Z"
   },
   {
    "duration": 324,
    "start_time": "2021-11-30T21:58:11.710Z"
   },
   {
    "duration": 10,
    "start_time": "2021-11-30T21:58:23.499Z"
   },
   {
    "duration": 8,
    "start_time": "2021-11-30T21:58:48.260Z"
   },
   {
    "duration": 8,
    "start_time": "2021-11-30T21:59:28.289Z"
   },
   {
    "duration": 7,
    "start_time": "2021-11-30T21:59:39.390Z"
   },
   {
    "duration": 90,
    "start_time": "2021-11-30T22:02:27.080Z"
   },
   {
    "duration": 302,
    "start_time": "2021-11-30T22:02:42.356Z"
   },
   {
    "duration": 279,
    "start_time": "2021-11-30T22:03:20.339Z"
   },
   {
    "duration": 33,
    "start_time": "2021-11-30T22:04:59.608Z"
   },
   {
    "duration": 12,
    "start_time": "2021-11-30T22:05:42.560Z"
   },
   {
    "duration": 9,
    "start_time": "2021-11-30T22:07:12.039Z"
   },
   {
    "duration": 7,
    "start_time": "2021-11-30T22:07:40.263Z"
   },
   {
    "duration": 17,
    "start_time": "2021-11-30T22:08:35.160Z"
   },
   {
    "duration": 7,
    "start_time": "2021-11-30T22:08:39.582Z"
   },
   {
    "duration": 9,
    "start_time": "2021-11-30T22:09:27.780Z"
   },
   {
    "duration": 9,
    "start_time": "2021-11-30T22:09:29.229Z"
   },
   {
    "duration": 9,
    "start_time": "2021-11-30T22:10:14.977Z"
   },
   {
    "duration": 8,
    "start_time": "2021-11-30T22:10:16.409Z"
   },
   {
    "duration": 9,
    "start_time": "2021-11-30T22:10:45.960Z"
   },
   {
    "duration": 7,
    "start_time": "2021-11-30T22:10:46.339Z"
   },
   {
    "duration": 7,
    "start_time": "2021-11-30T22:10:51.569Z"
   },
   {
    "duration": 16,
    "start_time": "2021-11-30T22:12:21.058Z"
   },
   {
    "duration": 8,
    "start_time": "2021-11-30T22:12:23.377Z"
   },
   {
    "duration": 9,
    "start_time": "2021-11-30T22:13:16.811Z"
   },
   {
    "duration": 7,
    "start_time": "2021-11-30T22:13:18.481Z"
   },
   {
    "duration": 10,
    "start_time": "2021-11-30T22:14:30.362Z"
   },
   {
    "duration": 288,
    "start_time": "2021-12-01T07:49:57.880Z"
   },
   {
    "duration": 800,
    "start_time": "2021-12-01T07:50:10.661Z"
   },
   {
    "duration": 59,
    "start_time": "2021-12-01T07:56:24.321Z"
   },
   {
    "duration": 12,
    "start_time": "2021-12-01T07:56:26.811Z"
   },
   {
    "duration": 11,
    "start_time": "2021-12-01T07:56:32.511Z"
   },
   {
    "duration": 21,
    "start_time": "2021-12-01T07:56:34.642Z"
   },
   {
    "duration": 6,
    "start_time": "2021-12-01T07:56:37.681Z"
   },
   {
    "duration": 16,
    "start_time": "2021-12-01T07:56:39.373Z"
   },
   {
    "duration": 20,
    "start_time": "2021-12-01T07:56:40.895Z"
   },
   {
    "duration": 19,
    "start_time": "2021-12-01T07:56:43.610Z"
   },
   {
    "duration": 7,
    "start_time": "2021-12-01T07:56:45.863Z"
   },
   {
    "duration": 7,
    "start_time": "2021-12-01T07:56:49.232Z"
   },
   {
    "duration": 5,
    "start_time": "2021-12-01T07:56:52.853Z"
   },
   {
    "duration": 10,
    "start_time": "2021-12-01T07:56:53.986Z"
   },
   {
    "duration": 9,
    "start_time": "2021-12-01T07:56:54.883Z"
   },
   {
    "duration": 6,
    "start_time": "2021-12-01T07:56:56.786Z"
   },
   {
    "duration": 20,
    "start_time": "2021-12-01T07:56:58.637Z"
   },
   {
    "duration": 18,
    "start_time": "2021-12-01T07:57:02.837Z"
   },
   {
    "duration": 16,
    "start_time": "2021-12-01T07:57:07.436Z"
   },
   {
    "duration": 6,
    "start_time": "2021-12-01T07:57:08.526Z"
   },
   {
    "duration": 7,
    "start_time": "2021-12-01T07:57:12.706Z"
   },
   {
    "duration": 20774,
    "start_time": "2021-12-01T07:57:16.115Z"
   },
   {
    "duration": 4,
    "start_time": "2021-12-01T07:57:36.891Z"
   },
   {
    "duration": 27985,
    "start_time": "2021-12-01T07:57:39.797Z"
   },
   {
    "duration": 5,
    "start_time": "2021-12-01T07:58:39.105Z"
   },
   {
    "duration": 8,
    "start_time": "2021-12-01T07:58:41.275Z"
   },
   {
    "duration": 7,
    "start_time": "2021-12-01T07:58:43.045Z"
   },
   {
    "duration": 5,
    "start_time": "2021-12-01T07:58:46.383Z"
   },
   {
    "duration": 7,
    "start_time": "2021-12-01T07:59:03.803Z"
   },
   {
    "duration": 6,
    "start_time": "2021-12-01T07:59:05.144Z"
   },
   {
    "duration": 276,
    "start_time": "2021-12-01T08:02:44.258Z"
   },
   {
    "duration": 279,
    "start_time": "2021-12-01T08:03:04.743Z"
   },
   {
    "duration": 249,
    "start_time": "2021-12-01T08:03:14.102Z"
   },
   {
    "duration": 253,
    "start_time": "2021-12-01T08:04:28.647Z"
   },
   {
    "duration": 249,
    "start_time": "2021-12-01T08:04:34.257Z"
   },
   {
    "duration": 255,
    "start_time": "2021-12-01T08:04:42.715Z"
   },
   {
    "duration": 256,
    "start_time": "2021-12-01T08:04:51.075Z"
   },
   {
    "duration": 256,
    "start_time": "2021-12-01T08:05:56.467Z"
   },
   {
    "duration": 22,
    "start_time": "2021-12-01T08:06:32.861Z"
   },
   {
    "duration": 12,
    "start_time": "2021-12-01T08:06:42.688Z"
   },
   {
    "duration": 14,
    "start_time": "2021-12-01T08:07:05.499Z"
   },
   {
    "duration": 6,
    "start_time": "2021-12-01T08:07:06.691Z"
   },
   {
    "duration": 22,
    "start_time": "2021-12-01T08:07:13.792Z"
   },
   {
    "duration": 24,
    "start_time": "2021-12-01T08:07:23.621Z"
   },
   {
    "duration": 6,
    "start_time": "2021-12-01T08:07:30.293Z"
   },
   {
    "duration": 5,
    "start_time": "2021-12-01T08:08:48.632Z"
   },
   {
    "duration": 7,
    "start_time": "2021-12-01T08:09:18.469Z"
   },
   {
    "duration": 7,
    "start_time": "2021-12-01T08:09:40.290Z"
   },
   {
    "duration": 7,
    "start_time": "2021-12-01T08:09:47.630Z"
   },
   {
    "duration": 5,
    "start_time": "2021-12-01T08:09:49.242Z"
   },
   {
    "duration": 7,
    "start_time": "2021-12-01T08:10:32.623Z"
   },
   {
    "duration": 6,
    "start_time": "2021-12-01T08:10:33.771Z"
   },
   {
    "duration": 6,
    "start_time": "2021-12-01T08:10:53.251Z"
   },
   {
    "duration": 6,
    "start_time": "2021-12-01T08:10:55.502Z"
   },
   {
    "duration": 7,
    "start_time": "2021-12-01T08:12:10.782Z"
   },
   {
    "duration": 7,
    "start_time": "2021-12-01T08:20:41.674Z"
   },
   {
    "duration": 5,
    "start_time": "2021-12-01T08:20:44.303Z"
   },
   {
    "duration": 7,
    "start_time": "2021-12-01T08:21:45.472Z"
   },
   {
    "duration": 7,
    "start_time": "2021-12-01T08:21:51.283Z"
   },
   {
    "duration": 5,
    "start_time": "2021-12-01T08:23:51.783Z"
   },
   {
    "duration": 5,
    "start_time": "2021-12-01T08:23:55.959Z"
   },
   {
    "duration": 7,
    "start_time": "2021-12-01T08:24:08.809Z"
   },
   {
    "duration": 8,
    "start_time": "2021-12-01T08:24:10.118Z"
   },
   {
    "duration": 7,
    "start_time": "2021-12-01T08:24:10.847Z"
   },
   {
    "duration": 7,
    "start_time": "2021-12-01T08:24:13.929Z"
   },
   {
    "duration": 2,
    "start_time": "2021-12-01T08:24:14.979Z"
   },
   {
    "duration": 5,
    "start_time": "2021-12-01T08:26:32.000Z"
   },
   {
    "duration": 5,
    "start_time": "2021-12-01T08:26:50.688Z"
   },
   {
    "duration": 6,
    "start_time": "2021-12-01T08:27:08.400Z"
   },
   {
    "duration": 261,
    "start_time": "2021-12-01T08:27:16.809Z"
   },
   {
    "duration": 6,
    "start_time": "2021-12-01T08:27:21.551Z"
   },
   {
    "duration": 266,
    "start_time": "2021-12-01T08:27:24.089Z"
   },
   {
    "duration": 631,
    "start_time": "2021-12-01T08:27:36.672Z"
   },
   {
    "duration": 8,
    "start_time": "2021-12-01T08:29:00.973Z"
   },
   {
    "duration": 5,
    "start_time": "2021-12-01T08:29:02.244Z"
   },
   {
    "duration": 5,
    "start_time": "2021-12-01T08:29:03.265Z"
   },
   {
    "duration": 283,
    "start_time": "2021-12-01T08:29:07.584Z"
   },
   {
    "duration": 285,
    "start_time": "2021-12-01T08:30:49.266Z"
   },
   {
    "duration": 275,
    "start_time": "2021-12-01T08:31:06.056Z"
   },
   {
    "duration": 270,
    "start_time": "2021-12-01T08:33:19.093Z"
   },
   {
    "duration": 266,
    "start_time": "2021-12-01T08:37:35.891Z"
   },
   {
    "duration": 273,
    "start_time": "2021-12-01T08:38:52.850Z"
   },
   {
    "duration": 61,
    "start_time": "2021-12-01T08:39:37.686Z"
   },
   {
    "duration": 13,
    "start_time": "2021-12-01T08:39:39.329Z"
   },
   {
    "duration": 12,
    "start_time": "2021-12-01T08:39:41.148Z"
   },
   {
    "duration": 31,
    "start_time": "2021-12-01T08:39:43.089Z"
   },
   {
    "duration": 7,
    "start_time": "2021-12-01T08:39:45.055Z"
   },
   {
    "duration": 17,
    "start_time": "2021-12-01T08:39:46.192Z"
   },
   {
    "duration": 18,
    "start_time": "2021-12-01T08:39:47.468Z"
   },
   {
    "duration": 16,
    "start_time": "2021-12-01T08:39:50.797Z"
   },
   {
    "duration": 7,
    "start_time": "2021-12-01T08:39:52.196Z"
   },
   {
    "duration": 8,
    "start_time": "2021-12-01T08:39:53.497Z"
   },
   {
    "duration": 6,
    "start_time": "2021-12-01T08:39:57.065Z"
   },
   {
    "duration": 14,
    "start_time": "2021-12-01T08:39:58.103Z"
   },
   {
    "duration": 9,
    "start_time": "2021-12-01T08:39:58.745Z"
   },
   {
    "duration": 7,
    "start_time": "2021-12-01T08:40:00.189Z"
   },
   {
    "duration": 18,
    "start_time": "2021-12-01T08:40:01.529Z"
   },
   {
    "duration": 6,
    "start_time": "2021-12-01T08:40:02.078Z"
   },
   {
    "duration": 8,
    "start_time": "2021-12-01T08:40:04.328Z"
   },
   {
    "duration": 24,
    "start_time": "2021-12-01T08:40:27.182Z"
   },
   {
    "duration": 6,
    "start_time": "2021-12-01T08:40:31.239Z"
   },
   {
    "duration": 28705,
    "start_time": "2021-12-01T08:41:03.884Z"
   },
   {
    "duration": 6,
    "start_time": "2021-12-01T09:11:35.428Z"
   },
   {
    "duration": 28898,
    "start_time": "2021-12-01T09:11:36.759Z"
   },
   {
    "duration": 5,
    "start_time": "2021-12-01T09:12:12.581Z"
   },
   {
    "duration": 8,
    "start_time": "2021-12-01T09:12:16.044Z"
   },
   {
    "duration": 6,
    "start_time": "2021-12-01T09:12:18.417Z"
   },
   {
    "duration": 6,
    "start_time": "2021-12-01T09:12:19.026Z"
   },
   {
    "duration": 8,
    "start_time": "2021-12-01T09:12:21.291Z"
   },
   {
    "duration": 8,
    "start_time": "2021-12-01T09:12:21.764Z"
   },
   {
    "duration": 8,
    "start_time": "2021-12-01T09:12:22.566Z"
   },
   {
    "duration": 8,
    "start_time": "2021-12-01T09:12:24.716Z"
   },
   {
    "duration": 5,
    "start_time": "2021-12-01T09:12:28.455Z"
   },
   {
    "duration": 5,
    "start_time": "2021-12-01T09:12:28.786Z"
   },
   {
    "duration": 405,
    "start_time": "2021-12-01T09:12:32.246Z"
   },
   {
    "duration": 264,
    "start_time": "2021-12-01T09:12:48.106Z"
   },
   {
    "duration": 270,
    "start_time": "2021-12-01T09:13:51.665Z"
   },
   {
    "duration": 260,
    "start_time": "2021-12-01T09:14:06.763Z"
   },
   {
    "duration": 257,
    "start_time": "2021-12-01T09:14:25.117Z"
   },
   {
    "duration": 267,
    "start_time": "2021-12-01T09:15:06.166Z"
   },
   {
    "duration": 246,
    "start_time": "2021-12-01T09:15:14.176Z"
   },
   {
    "duration": 4,
    "start_time": "2021-12-01T09:15:20.367Z"
   },
   {
    "duration": 5,
    "start_time": "2021-12-01T09:15:29.226Z"
   },
   {
    "duration": 270,
    "start_time": "2021-12-01T09:15:37.805Z"
   },
   {
    "duration": 300,
    "start_time": "2021-12-01T09:17:33.052Z"
   },
   {
    "duration": 261,
    "start_time": "2021-12-01T09:17:58.921Z"
   },
   {
    "duration": 321,
    "start_time": "2021-12-01T09:18:37.660Z"
   },
   {
    "duration": 251,
    "start_time": "2021-12-01T09:18:49.010Z"
   },
   {
    "duration": 265,
    "start_time": "2021-12-01T09:20:25.324Z"
   },
   {
    "duration": 390,
    "start_time": "2021-12-01T09:20:50.261Z"
   },
   {
    "duration": 249,
    "start_time": "2021-12-01T09:20:58.956Z"
   },
   {
    "duration": 278,
    "start_time": "2021-12-01T09:21:22.004Z"
   },
   {
    "duration": 255,
    "start_time": "2021-12-01T09:23:43.933Z"
   },
   {
    "duration": 262,
    "start_time": "2021-12-01T09:23:55.909Z"
   },
   {
    "duration": 271,
    "start_time": "2021-12-01T09:24:12.235Z"
   },
   {
    "duration": 249,
    "start_time": "2021-12-01T09:24:26.845Z"
   },
   {
    "duration": 5,
    "start_time": "2021-12-01T09:25:10.615Z"
   },
   {
    "duration": 283,
    "start_time": "2021-12-01T09:25:16.462Z"
   },
   {
    "duration": 23,
    "start_time": "2021-12-01T09:25:46.354Z"
   },
   {
    "duration": 19,
    "start_time": "2021-12-01T09:25:49.894Z"
   },
   {
    "duration": 21,
    "start_time": "2021-12-01T09:25:54.424Z"
   },
   {
    "duration": 263,
    "start_time": "2021-12-01T09:26:05.545Z"
   },
   {
    "duration": 270,
    "start_time": "2021-12-01T09:26:17.332Z"
   },
   {
    "duration": 4,
    "start_time": "2021-12-01T09:26:18.654Z"
   },
   {
    "duration": 270,
    "start_time": "2021-12-01T09:26:38.916Z"
   },
   {
    "duration": 23,
    "start_time": "2021-12-01T09:27:00.024Z"
   },
   {
    "duration": 20,
    "start_time": "2021-12-01T09:27:14.902Z"
   },
   {
    "duration": 292,
    "start_time": "2021-12-01T09:27:16.783Z"
   },
   {
    "duration": 495,
    "start_time": "2021-12-01T09:27:21.145Z"
   },
   {
    "duration": 19,
    "start_time": "2021-12-01T09:27:52.424Z"
   },
   {
    "duration": 281,
    "start_time": "2021-12-01T09:27:55.346Z"
   },
   {
    "duration": 90,
    "start_time": "2021-12-01T09:28:25.512Z"
   },
   {
    "duration": 26,
    "start_time": "2021-12-01T09:28:35.991Z"
   },
   {
    "duration": 5,
    "start_time": "2021-12-01T09:28:37.281Z"
   },
   {
    "duration": 263,
    "start_time": "2021-12-01T09:29:10.838Z"
   },
   {
    "duration": 21,
    "start_time": "2021-12-01T09:29:34.748Z"
   },
   {
    "duration": 18,
    "start_time": "2021-12-01T09:30:09.693Z"
   },
   {
    "duration": 17,
    "start_time": "2021-12-01T09:30:19.005Z"
   },
   {
    "duration": 17,
    "start_time": "2021-12-01T09:30:32.904Z"
   },
   {
    "duration": 18,
    "start_time": "2021-12-01T09:30:33.875Z"
   },
   {
    "duration": 17,
    "start_time": "2021-12-01T09:30:34.853Z"
   },
   {
    "duration": 4,
    "start_time": "2021-12-01T09:30:35.733Z"
   },
   {
    "duration": 984,
    "start_time": "2021-12-01T09:36:49.842Z"
   },
   {
    "duration": 254,
    "start_time": "2021-12-01T09:37:38.068Z"
   },
   {
    "duration": 3,
    "start_time": "2021-12-01T09:38:26.660Z"
   },
   {
    "duration": 2,
    "start_time": "2021-12-01T09:38:32.408Z"
   },
   {
    "duration": 3,
    "start_time": "2021-12-01T09:38:34.776Z"
   },
   {
    "duration": 27,
    "start_time": "2021-12-01T09:38:36.079Z"
   },
   {
    "duration": 7,
    "start_time": "2021-12-01T09:38:37.416Z"
   },
   {
    "duration": 4,
    "start_time": "2021-12-01T10:00:38.746Z"
   },
   {
    "duration": 5,
    "start_time": "2021-12-01T10:00:40.048Z"
   },
   {
    "duration": 4,
    "start_time": "2021-12-01T10:00:52.096Z"
   },
   {
    "duration": 25,
    "start_time": "2021-12-01T10:00:54.017Z"
   },
   {
    "duration": 8,
    "start_time": "2021-12-01T10:00:57.075Z"
   },
   {
    "duration": 39,
    "start_time": "2021-12-01T10:01:07.256Z"
   },
   {
    "duration": 6,
    "start_time": "2021-12-01T10:01:09.815Z"
   },
   {
    "duration": 7,
    "start_time": "2021-12-01T10:01:10.896Z"
   },
   {
    "duration": 6477,
    "start_time": "2021-12-01T10:01:57.146Z"
   },
   {
    "duration": 5,
    "start_time": "2021-12-01T10:02:29.004Z"
   },
   {
    "duration": 6,
    "start_time": "2021-12-01T10:02:40.156Z"
   },
   {
    "duration": 8,
    "start_time": "2021-12-01T10:02:44.267Z"
   },
   {
    "duration": 7,
    "start_time": "2021-12-01T10:02:46.007Z"
   },
   {
    "duration": 5,
    "start_time": "2021-12-01T10:02:47.396Z"
   },
   {
    "duration": 1125,
    "start_time": "2021-12-01T10:02:48.387Z"
   },
   {
    "duration": 6,
    "start_time": "2021-12-01T10:02:50.445Z"
   },
   {
    "duration": 3,
    "start_time": "2021-12-01T10:03:35.184Z"
   },
   {
    "duration": 11,
    "start_time": "2021-12-01T10:03:36.906Z"
   },
   {
    "duration": 7,
    "start_time": "2021-12-01T10:03:38.886Z"
   },
   {
    "duration": 5,
    "start_time": "2021-12-01T10:03:39.356Z"
   },
   {
    "duration": 8,
    "start_time": "2021-12-01T10:03:40.226Z"
   },
   {
    "duration": 5,
    "start_time": "2021-12-01T10:03:41.997Z"
   },
   {
    "duration": 4,
    "start_time": "2021-12-01T10:03:42.506Z"
   },
   {
    "duration": 331,
    "start_time": "2021-12-01T10:03:43.367Z"
   },
   {
    "duration": 7,
    "start_time": "2021-12-01T10:03:44.066Z"
   },
   {
    "duration": 28,
    "start_time": "2021-12-01T10:03:44.958Z"
   },
   {
    "duration": 12,
    "start_time": "2021-12-01T10:04:06.247Z"
   },
   {
    "duration": 13,
    "start_time": "2021-12-01T10:04:13.815Z"
   },
   {
    "duration": 6,
    "start_time": "2021-12-01T10:04:30.984Z"
   },
   {
    "duration": 34,
    "start_time": "2021-12-01T10:04:31.438Z"
   },
   {
    "duration": 255,
    "start_time": "2021-12-01T10:04:46.146Z"
   },
   {
    "duration": 29,
    "start_time": "2021-12-01T10:05:38.711Z"
   },
   {
    "duration": 34,
    "start_time": "2021-12-01T10:06:08.966Z"
   },
   {
    "duration": 18,
    "start_time": "2021-12-01T10:06:13.492Z"
   },
   {
    "duration": 6,
    "start_time": "2021-12-01T10:06:27.428Z"
   },
   {
    "duration": 6,
    "start_time": "2021-12-01T10:06:29.177Z"
   },
   {
    "duration": 4,
    "start_time": "2021-12-01T10:06:30.525Z"
   },
   {
    "duration": 11,
    "start_time": "2021-12-01T10:06:31.877Z"
   },
   {
    "duration": 7,
    "start_time": "2021-12-01T10:06:33.526Z"
   },
   {
    "duration": 9,
    "start_time": "2021-12-01T10:06:34.507Z"
   },
   {
    "duration": 2,
    "start_time": "2021-12-01T10:06:37.667Z"
   },
   {
    "duration": 3,
    "start_time": "2021-12-01T10:06:37.947Z"
   },
   {
    "duration": 3,
    "start_time": "2021-12-01T10:06:38.152Z"
   },
   {
    "duration": 29,
    "start_time": "2021-12-01T10:06:40.339Z"
   },
   {
    "duration": 839,
    "start_time": "2021-12-01T12:50:58.515Z"
   },
   {
    "duration": 18,
    "start_time": "2021-12-01T12:51:00.717Z"
   },
   {
    "duration": 17,
    "start_time": "2021-12-01T12:51:03.006Z"
   },
   {
    "duration": 33,
    "start_time": "2021-12-01T12:51:04.147Z"
   },
   {
    "duration": 7,
    "start_time": "2021-12-01T12:51:05.152Z"
   },
   {
    "duration": 16,
    "start_time": "2021-12-01T12:51:05.687Z"
   },
   {
    "duration": 18,
    "start_time": "2021-12-01T12:51:06.110Z"
   },
   {
    "duration": 18,
    "start_time": "2021-12-01T12:51:06.781Z"
   },
   {
    "duration": 7,
    "start_time": "2021-12-01T12:51:07.232Z"
   },
   {
    "duration": 9,
    "start_time": "2021-12-01T12:51:08.102Z"
   },
   {
    "duration": 6,
    "start_time": "2021-12-01T12:51:15.431Z"
   },
   {
    "duration": 11,
    "start_time": "2021-12-01T12:51:16.144Z"
   },
   {
    "duration": 13,
    "start_time": "2021-12-01T12:51:16.701Z"
   },
   {
    "duration": 8,
    "start_time": "2021-12-01T12:51:17.793Z"
   },
   {
    "duration": 28,
    "start_time": "2021-12-01T12:51:18.895Z"
   },
   {
    "duration": 8,
    "start_time": "2021-12-01T12:51:19.403Z"
   },
   {
    "duration": 12,
    "start_time": "2021-12-01T12:51:21.269Z"
   },
   {
    "duration": 21413,
    "start_time": "2021-12-01T12:51:22.311Z"
   },
   {
    "duration": 6,
    "start_time": "2021-12-01T12:51:43.726Z"
   },
   {
    "duration": 42235,
    "start_time": "2021-12-01T12:51:43.735Z"
   },
   {
    "duration": 7,
    "start_time": "2021-12-01T12:52:25.980Z"
   },
   {
    "duration": 8,
    "start_time": "2021-12-01T12:53:09.082Z"
   },
   {
    "duration": 5,
    "start_time": "2021-12-01T12:53:19.237Z"
   },
   {
    "duration": 6,
    "start_time": "2021-12-01T12:53:26.197Z"
   },
   {
    "duration": 9,
    "start_time": "2021-12-01T12:53:46.441Z"
   },
   {
    "duration": 8,
    "start_time": "2021-12-01T12:56:33.685Z"
   },
   {
    "duration": 7,
    "start_time": "2021-12-01T12:58:21.119Z"
   },
   {
    "duration": 7,
    "start_time": "2021-12-01T12:58:45.833Z"
   },
   {
    "duration": 8,
    "start_time": "2021-12-01T12:58:48.056Z"
   },
   {
    "duration": 5,
    "start_time": "2021-12-01T12:58:55.120Z"
   },
   {
    "duration": 6,
    "start_time": "2021-12-01T12:58:56.570Z"
   },
   {
    "duration": 22,
    "start_time": "2021-12-01T12:58:58.938Z"
   },
   {
    "duration": 21,
    "start_time": "2021-12-01T12:59:02.143Z"
   },
   {
    "duration": 21,
    "start_time": "2021-12-01T12:59:03.301Z"
   },
   {
    "duration": 5,
    "start_time": "2021-12-01T12:59:04.105Z"
   },
   {
    "duration": 684,
    "start_time": "2021-12-01T12:59:07.896Z"
   },
   {
    "duration": 3,
    "start_time": "2021-12-01T12:59:12.012Z"
   },
   {
    "duration": 4,
    "start_time": "2021-12-01T12:59:12.710Z"
   },
   {
    "duration": 32,
    "start_time": "2021-12-01T12:59:13.580Z"
   },
   {
    "duration": 9,
    "start_time": "2021-12-01T12:59:15.025Z"
   },
   {
    "duration": 41,
    "start_time": "2021-12-01T12:59:21.501Z"
   },
   {
    "duration": 5,
    "start_time": "2021-12-01T12:59:22.722Z"
   },
   {
    "duration": 6,
    "start_time": "2021-12-01T12:59:24.125Z"
   },
   {
    "duration": 5,
    "start_time": "2021-12-01T12:59:25.594Z"
   },
   {
    "duration": 6,
    "start_time": "2021-12-01T12:59:26.330Z"
   },
   {
    "duration": 8,
    "start_time": "2021-12-01T12:59:29.085Z"
   },
   {
    "duration": 4,
    "start_time": "2021-12-01T12:59:30.775Z"
   },
   {
    "duration": 5,
    "start_time": "2021-12-01T12:59:31.510Z"
   },
   {
    "duration": 1150,
    "start_time": "2021-12-01T12:59:32.475Z"
   },
   {
    "duration": 5,
    "start_time": "2021-12-01T12:59:33.627Z"
   },
   {
    "duration": 2,
    "start_time": "2021-12-01T12:59:39.623Z"
   },
   {
    "duration": 10,
    "start_time": "2021-12-01T12:59:40.991Z"
   },
   {
    "duration": 6,
    "start_time": "2021-12-01T12:59:42.805Z"
   },
   {
    "duration": 5,
    "start_time": "2021-12-01T12:59:43.395Z"
   },
   {
    "duration": 8,
    "start_time": "2021-12-01T12:59:44.057Z"
   },
   {
    "duration": 5,
    "start_time": "2021-12-01T12:59:45.283Z"
   },
   {
    "duration": 5,
    "start_time": "2021-12-01T12:59:46.160Z"
   },
   {
    "duration": 532,
    "start_time": "2021-12-01T12:59:47.003Z"
   },
   {
    "duration": 7,
    "start_time": "2021-12-01T12:59:51.307Z"
   },
   {
    "duration": 48,
    "start_time": "2021-12-01T12:59:52.612Z"
   },
   {
    "duration": 17,
    "start_time": "2021-12-01T12:59:55.542Z"
   },
   {
    "duration": 5,
    "start_time": "2021-12-01T12:59:57.923Z"
   },
   {
    "duration": 7,
    "start_time": "2021-12-01T12:59:59.722Z"
   },
   {
    "duration": 3,
    "start_time": "2021-12-01T13:00:01.547Z"
   },
   {
    "duration": 12,
    "start_time": "2021-12-01T13:00:02.582Z"
   },
   {
    "duration": 7,
    "start_time": "2021-12-01T13:00:04.840Z"
   },
   {
    "duration": 9,
    "start_time": "2021-12-01T13:00:07.050Z"
   },
   {
    "duration": 2,
    "start_time": "2021-12-01T13:00:08.863Z"
   },
   {
    "duration": 3,
    "start_time": "2021-12-01T13:00:09.460Z"
   },
   {
    "duration": 3,
    "start_time": "2021-12-01T13:00:10.041Z"
   },
   {
    "duration": 32,
    "start_time": "2021-12-01T13:00:12.952Z"
   },
   {
    "duration": 386,
    "start_time": "2021-12-01T13:00:19.631Z"
   },
   {
    "duration": 28,
    "start_time": "2021-12-01T13:00:33.047Z"
   },
   {
    "duration": 26,
    "start_time": "2021-12-01T13:00:55.586Z"
   },
   {
    "duration": 39,
    "start_time": "2021-12-01T13:01:12.573Z"
   },
   {
    "duration": 31,
    "start_time": "2021-12-01T13:01:54.582Z"
   },
   {
    "duration": 31,
    "start_time": "2021-12-01T13:03:17.783Z"
   },
   {
    "duration": 6,
    "start_time": "2021-12-01T14:02:06.403Z"
   },
   {
    "duration": 4,
    "start_time": "2021-12-01T14:02:22.491Z"
   },
   {
    "duration": 3,
    "start_time": "2021-12-01T14:02:38.216Z"
   },
   {
    "duration": 10,
    "start_time": "2021-12-01T14:02:39.003Z"
   },
   {
    "duration": 29,
    "start_time": "2021-12-01T14:02:46.583Z"
   },
   {
    "duration": 15,
    "start_time": "2021-12-01T14:09:15.253Z"
   },
   {
    "duration": 87,
    "start_time": "2021-12-01T14:15:59.896Z"
   },
   {
    "duration": 80,
    "start_time": "2021-12-01T14:16:18.977Z"
   },
   {
    "duration": 16,
    "start_time": "2021-12-01T14:16:26.717Z"
   },
   {
    "duration": 15,
    "start_time": "2021-12-01T14:48:52.380Z"
   },
   {
    "duration": 15,
    "start_time": "2021-12-01T14:49:12.738Z"
   },
   {
    "duration": 16,
    "start_time": "2021-12-01T14:52:32.145Z"
   },
   {
    "duration": 15,
    "start_time": "2021-12-01T14:54:33.587Z"
   },
   {
    "duration": 35,
    "start_time": "2021-12-01T15:00:29.502Z"
   },
   {
    "duration": 17,
    "start_time": "2021-12-01T15:00:49.162Z"
   },
   {
    "duration": 17,
    "start_time": "2021-12-01T15:01:28.505Z"
   },
   {
    "duration": 37,
    "start_time": "2021-12-01T15:01:33.873Z"
   },
   {
    "duration": 16,
    "start_time": "2021-12-01T15:01:38.262Z"
   },
   {
    "duration": 19,
    "start_time": "2021-12-01T15:02:15.994Z"
   },
   {
    "duration": 5290,
    "start_time": "2021-12-01T15:03:16.092Z"
   },
   {
    "duration": 4982,
    "start_time": "2021-12-01T15:03:30.373Z"
   },
   {
    "duration": 10,
    "start_time": "2021-12-01T15:03:50.420Z"
   },
   {
    "duration": 13,
    "start_time": "2021-12-01T15:04:00.282Z"
   },
   {
    "duration": 9,
    "start_time": "2021-12-01T15:04:26.224Z"
   },
   {
    "duration": 10,
    "start_time": "2021-12-01T15:04:42.061Z"
   },
   {
    "duration": 11,
    "start_time": "2021-12-01T15:05:38.611Z"
   },
   {
    "duration": 9,
    "start_time": "2021-12-01T15:06:19.971Z"
   },
   {
    "duration": 78,
    "start_time": "2021-12-01T15:06:28.210Z"
   },
   {
    "duration": 10,
    "start_time": "2021-12-01T15:06:37.271Z"
   },
   {
    "duration": 363,
    "start_time": "2021-12-02T13:04:23.229Z"
   },
   {
    "duration": 1039,
    "start_time": "2021-12-02T13:04:31.318Z"
   },
   {
    "duration": 18,
    "start_time": "2021-12-02T13:04:45.936Z"
   },
   {
    "duration": 17,
    "start_time": "2021-12-02T13:04:47.748Z"
   },
   {
    "duration": 50,
    "start_time": "2021-12-02T13:04:49.608Z"
   },
   {
    "duration": 13,
    "start_time": "2021-12-02T13:04:51.368Z"
   },
   {
    "duration": 26,
    "start_time": "2021-12-02T13:04:52.832Z"
   },
   {
    "duration": 25,
    "start_time": "2021-12-02T13:04:55.379Z"
   },
   {
    "duration": 21,
    "start_time": "2021-12-02T13:04:56.751Z"
   },
   {
    "duration": 10,
    "start_time": "2021-12-02T13:04:57.974Z"
   },
   {
    "duration": 11,
    "start_time": "2021-12-02T13:04:59.319Z"
   },
   {
    "duration": 9,
    "start_time": "2021-12-02T13:05:01.499Z"
   },
   {
    "duration": 15,
    "start_time": "2021-12-02T13:05:02.088Z"
   },
   {
    "duration": 12,
    "start_time": "2021-12-02T13:05:02.650Z"
   },
   {
    "duration": 9,
    "start_time": "2021-12-02T13:05:04.369Z"
   },
   {
    "duration": 30,
    "start_time": "2021-12-02T13:05:07.058Z"
   },
   {
    "duration": 8,
    "start_time": "2021-12-02T13:05:08.248Z"
   },
   {
    "duration": 12,
    "start_time": "2021-12-02T13:05:12.958Z"
   },
   {
    "duration": 36178,
    "start_time": "2021-12-02T13:05:14.368Z"
   },
   {
    "duration": 7,
    "start_time": "2021-12-02T13:05:55.138Z"
   },
   {
    "duration": 47543,
    "start_time": "2021-12-02T13:06:49.365Z"
   },
   {
    "duration": 6,
    "start_time": "2021-12-02T13:07:39.918Z"
   },
   {
    "duration": 10,
    "start_time": "2021-12-02T13:07:43.675Z"
   },
   {
    "duration": 7,
    "start_time": "2021-12-02T13:07:44.855Z"
   },
   {
    "duration": 7,
    "start_time": "2021-12-02T13:07:47.360Z"
   },
   {
    "duration": 8,
    "start_time": "2021-12-02T13:07:51.497Z"
   },
   {
    "duration": 8,
    "start_time": "2021-12-02T13:08:15.868Z"
   },
   {
    "duration": 91,
    "start_time": "2021-12-02T13:08:33.627Z"
   },
   {
    "duration": 18,
    "start_time": "2021-12-02T13:08:38.201Z"
   },
   {
    "duration": 15,
    "start_time": "2021-12-02T13:08:43.031Z"
   },
   {
    "duration": 34,
    "start_time": "2021-12-02T13:08:49.440Z"
   },
   {
    "duration": 9,
    "start_time": "2021-12-02T13:08:59.875Z"
   },
   {
    "duration": 26,
    "start_time": "2021-12-02T13:09:03.772Z"
   },
   {
    "duration": 24,
    "start_time": "2021-12-02T13:09:05.520Z"
   },
   {
    "duration": 43,
    "start_time": "2021-12-02T13:09:08.696Z"
   },
   {
    "duration": 12,
    "start_time": "2021-12-02T13:09:11.140Z"
   },
   {
    "duration": 15,
    "start_time": "2021-12-02T13:09:13.160Z"
   },
   {
    "duration": 7,
    "start_time": "2021-12-02T13:09:16.660Z"
   },
   {
    "duration": 15,
    "start_time": "2021-12-02T13:09:18.115Z"
   },
   {
    "duration": 14,
    "start_time": "2021-12-02T13:09:19.068Z"
   },
   {
    "duration": 10,
    "start_time": "2021-12-02T13:09:23.997Z"
   },
   {
    "duration": 25,
    "start_time": "2021-12-02T13:09:25.859Z"
   },
   {
    "duration": 18,
    "start_time": "2021-12-02T13:09:26.785Z"
   },
   {
    "duration": 11,
    "start_time": "2021-12-02T13:09:29.325Z"
   },
   {
    "duration": 27,
    "start_time": "2021-12-02T13:09:37.138Z"
   },
   {
    "duration": 11,
    "start_time": "2021-12-02T13:09:43.774Z"
   },
   {
    "duration": 14,
    "start_time": "2021-12-02T13:09:58.435Z"
   },
   {
    "duration": 64,
    "start_time": "2021-12-02T13:10:54.306Z"
   },
   {
    "duration": 6,
    "start_time": "2021-12-02T13:13:26.151Z"
   },
   {
    "duration": 48664,
    "start_time": "2021-12-02T13:13:28.448Z"
   },
   {
    "duration": 7,
    "start_time": "2021-12-02T13:14:18.784Z"
   },
   {
    "duration": 19,
    "start_time": "2021-12-02T13:14:21.063Z"
   },
   {
    "duration": 14,
    "start_time": "2021-12-02T13:14:24.904Z"
   },
   {
    "duration": 9,
    "start_time": "2021-12-02T13:14:32.734Z"
   },
   {
    "duration": 10,
    "start_time": "2021-12-02T13:14:47.803Z"
   },
   {
    "duration": 10,
    "start_time": "2021-12-02T13:14:48.337Z"
   },
   {
    "duration": 11,
    "start_time": "2021-12-02T13:14:49.266Z"
   },
   {
    "duration": 14,
    "start_time": "2021-12-02T13:14:54.564Z"
   },
   {
    "duration": 6,
    "start_time": "2021-12-02T13:14:57.392Z"
   },
   {
    "duration": 7,
    "start_time": "2021-12-02T13:14:58.681Z"
   },
   {
    "duration": 28,
    "start_time": "2021-12-02T13:15:02.211Z"
   },
   {
    "duration": 28,
    "start_time": "2021-12-02T13:15:03.527Z"
   },
   {
    "duration": 28,
    "start_time": "2021-12-02T13:15:05.834Z"
   },
   {
    "duration": 5,
    "start_time": "2021-12-02T13:15:07.864Z"
   },
   {
    "duration": 855,
    "start_time": "2021-12-02T13:15:13.724Z"
   },
   {
    "duration": 5,
    "start_time": "2021-12-02T13:15:18.165Z"
   },
   {
    "duration": 5,
    "start_time": "2021-12-02T13:15:20.304Z"
   },
   {
    "duration": 54,
    "start_time": "2021-12-02T13:15:20.923Z"
   },
   {
    "duration": 11,
    "start_time": "2021-12-02T13:15:26.273Z"
   },
   {
    "duration": 57,
    "start_time": "2021-12-02T13:15:39.074Z"
   },
   {
    "duration": 6,
    "start_time": "2021-12-02T13:15:40.253Z"
   },
   {
    "duration": 10,
    "start_time": "2021-12-02T13:15:41.192Z"
   },
   {
    "duration": 9,
    "start_time": "2021-12-02T13:15:44.561Z"
   },
   {
    "duration": 7,
    "start_time": "2021-12-02T13:15:45.323Z"
   },
   {
    "duration": 11,
    "start_time": "2021-12-02T13:20:00.249Z"
   },
   {
    "duration": 2190,
    "start_time": "2021-12-02T13:23:12.995Z"
   },
   {
    "duration": 2577,
    "start_time": "2021-12-02T13:27:00.655Z"
   },
   {
    "duration": 2185,
    "start_time": "2021-12-02T13:30:06.724Z"
   },
   {
    "duration": 2052,
    "start_time": "2021-12-02T13:32:21.363Z"
   },
   {
    "duration": 2079,
    "start_time": "2021-12-02T13:33:22.448Z"
   },
   {
    "duration": 1976,
    "start_time": "2021-12-02T13:33:51.309Z"
   },
   {
    "duration": 2089,
    "start_time": "2021-12-02T13:34:01.116Z"
   },
   {
    "duration": 1928,
    "start_time": "2021-12-02T13:34:56.424Z"
   },
   {
    "duration": 2269,
    "start_time": "2021-12-02T13:35:33.925Z"
   },
   {
    "duration": 2020,
    "start_time": "2021-12-02T13:37:17.642Z"
   },
   {
    "duration": 45,
    "start_time": "2021-12-02T13:37:55.491Z"
   },
   {
    "duration": 2195,
    "start_time": "2021-12-02T13:38:13.552Z"
   },
   {
    "duration": 341,
    "start_time": "2021-12-02T13:39:44.684Z"
   },
   {
    "duration": 296,
    "start_time": "2021-12-02T13:39:58.752Z"
   },
   {
    "duration": 295,
    "start_time": "2021-12-02T13:40:06.984Z"
   },
   {
    "duration": 7977,
    "start_time": "2021-12-02T13:41:24.015Z"
   },
   {
    "duration": 7164,
    "start_time": "2021-12-02T13:41:45.171Z"
   },
   {
    "duration": 315,
    "start_time": "2021-12-02T13:42:54.454Z"
   },
   {
    "duration": 34,
    "start_time": "2021-12-02T13:43:14.931Z"
   },
   {
    "duration": 361,
    "start_time": "2021-12-02T13:44:09.105Z"
   },
   {
    "duration": 299,
    "start_time": "2021-12-02T13:44:52.254Z"
   },
   {
    "duration": 306,
    "start_time": "2021-12-02T13:45:50.312Z"
   },
   {
    "duration": 309,
    "start_time": "2021-12-02T13:46:00.917Z"
   },
   {
    "duration": 370,
    "start_time": "2021-12-02T13:46:21.720Z"
   },
   {
    "duration": 312,
    "start_time": "2021-12-02T13:47:37.515Z"
   },
   {
    "duration": 319,
    "start_time": "2021-12-02T13:47:59.617Z"
   },
   {
    "duration": 295,
    "start_time": "2021-12-02T13:48:06.094Z"
   },
   {
    "duration": 369,
    "start_time": "2021-12-02T13:48:21.925Z"
   },
   {
    "duration": 368,
    "start_time": "2021-12-02T13:48:38.057Z"
   },
   {
    "duration": 353,
    "start_time": "2021-12-02T13:49:35.354Z"
   },
   {
    "duration": 1237,
    "start_time": "2021-12-02T13:49:54.615Z"
   },
   {
    "duration": 330,
    "start_time": "2021-12-02T13:50:07.746Z"
   },
   {
    "duration": 307,
    "start_time": "2021-12-02T13:50:45.962Z"
   },
   {
    "duration": 307,
    "start_time": "2021-12-02T13:50:55.363Z"
   },
   {
    "duration": 310,
    "start_time": "2021-12-02T13:51:28.381Z"
   },
   {
    "duration": 52,
    "start_time": "2021-12-02T13:53:50.732Z"
   },
   {
    "duration": 44,
    "start_time": "2021-12-02T13:54:08.952Z"
   },
   {
    "duration": 42,
    "start_time": "2021-12-02T13:54:51.795Z"
   },
   {
    "duration": 5,
    "start_time": "2021-12-02T13:54:53.824Z"
   },
   {
    "duration": 8,
    "start_time": "2021-12-02T13:55:00.338Z"
   },
   {
    "duration": 1661,
    "start_time": "2021-12-02T13:55:03.888Z"
   },
   {
    "duration": 6,
    "start_time": "2021-12-02T13:55:08.195Z"
   },
   {
    "duration": 3,
    "start_time": "2021-12-02T13:55:13.303Z"
   },
   {
    "duration": 21,
    "start_time": "2021-12-02T13:55:15.175Z"
   },
   {
    "duration": 7,
    "start_time": "2021-12-02T13:56:24.006Z"
   },
   {
    "duration": 8,
    "start_time": "2021-12-02T13:56:24.976Z"
   },
   {
    "duration": 10,
    "start_time": "2021-12-02T13:56:27.094Z"
   },
   {
    "duration": 11,
    "start_time": "2021-12-02T13:56:32.567Z"
   },
   {
    "duration": 5,
    "start_time": "2021-12-02T13:56:33.406Z"
   },
   {
    "duration": 6,
    "start_time": "2021-12-02T13:56:33.636Z"
   },
   {
    "duration": 605,
    "start_time": "2021-12-02T13:56:33.844Z"
   },
   {
    "duration": 7,
    "start_time": "2021-12-02T13:56:34.452Z"
   },
   {
    "duration": 67,
    "start_time": "2021-12-02T13:56:34.469Z"
   },
   {
    "duration": 21,
    "start_time": "2021-12-02T13:56:34.892Z"
   },
   {
    "duration": 7,
    "start_time": "2021-12-02T13:56:40.244Z"
   },
   {
    "duration": 7,
    "start_time": "2021-12-02T13:56:44.854Z"
   },
   {
    "duration": 4,
    "start_time": "2021-12-02T13:56:52.164Z"
   },
   {
    "duration": 14,
    "start_time": "2021-12-02T13:56:58.095Z"
   },
   {
    "duration": 10,
    "start_time": "2021-12-02T13:59:11.742Z"
   },
   {
    "duration": 15,
    "start_time": "2021-12-02T13:59:12.682Z"
   },
   {
    "duration": 8,
    "start_time": "2021-12-02T14:09:28.435Z"
   },
   {
    "duration": 11,
    "start_time": "2021-12-02T14:09:32.666Z"
   },
   {
    "duration": 860,
    "start_time": "2021-12-02T17:16:38.149Z"
   },
   {
    "duration": 18,
    "start_time": "2021-12-02T17:16:41.004Z"
   },
   {
    "duration": 15,
    "start_time": "2021-12-02T17:16:43.439Z"
   },
   {
    "duration": 33,
    "start_time": "2021-12-02T17:16:45.694Z"
   },
   {
    "duration": 9,
    "start_time": "2021-12-02T17:16:49.380Z"
   },
   {
    "duration": 23,
    "start_time": "2021-12-02T17:16:53.921Z"
   },
   {
    "duration": 24,
    "start_time": "2021-12-02T17:28:26.747Z"
   },
   {
    "duration": 22,
    "start_time": "2021-12-02T17:28:42.897Z"
   },
   {
    "duration": 8,
    "start_time": "2021-12-02T17:28:50.717Z"
   },
   {
    "duration": 9,
    "start_time": "2021-12-02T17:29:07.643Z"
   },
   {
    "duration": 10,
    "start_time": "2021-12-02T17:29:26.656Z"
   },
   {
    "duration": 10,
    "start_time": "2021-12-02T17:29:32.787Z"
   },
   {
    "duration": 6,
    "start_time": "2021-12-02T17:29:35.420Z"
   },
   {
    "duration": 15,
    "start_time": "2021-12-02T17:36:17.847Z"
   },
   {
    "duration": 11,
    "start_time": "2021-12-02T17:36:18.797Z"
   },
   {
    "duration": 10,
    "start_time": "2021-12-02T17:36:20.994Z"
   },
   {
    "duration": 28,
    "start_time": "2021-12-02T17:36:22.377Z"
   },
   {
    "duration": 26,
    "start_time": "2021-12-02T17:36:27.029Z"
   },
   {
    "duration": 8,
    "start_time": "2021-12-02T17:36:28.160Z"
   },
   {
    "duration": 8,
    "start_time": "2021-12-02T17:36:30.346Z"
   },
   {
    "duration": 13,
    "start_time": "2021-12-02T17:37:03.850Z"
   },
   {
    "duration": 44710,
    "start_time": "2021-12-02T17:37:03.866Z"
   },
   {
    "duration": 60,
    "start_time": "2021-12-02T17:37:48.616Z"
   },
   {
    "duration": 6,
    "start_time": "2021-12-02T17:37:53.296Z"
   },
   {
    "duration": 44801,
    "start_time": "2021-12-02T17:37:54.928Z"
   },
   {
    "duration": 6,
    "start_time": "2021-12-02T17:40:41.327Z"
   },
   {
    "duration": 9,
    "start_time": "2021-12-02T17:40:42.567Z"
   },
   {
    "duration": 8,
    "start_time": "2021-12-02T17:40:43.215Z"
   },
   {
    "duration": 7,
    "start_time": "2021-12-02T17:40:43.579Z"
   },
   {
    "duration": 10,
    "start_time": "2021-12-02T17:40:52.208Z"
   },
   {
    "duration": 8,
    "start_time": "2021-12-02T17:40:52.875Z"
   },
   {
    "duration": 9,
    "start_time": "2021-12-02T17:40:53.427Z"
   },
   {
    "duration": 9,
    "start_time": "2021-12-02T17:40:55.561Z"
   },
   {
    "duration": 6,
    "start_time": "2021-12-02T17:40:56.299Z"
   },
   {
    "duration": 7,
    "start_time": "2021-12-02T17:40:56.897Z"
   },
   {
    "duration": 26,
    "start_time": "2021-12-02T17:42:54.161Z"
   },
   {
    "duration": 25,
    "start_time": "2021-12-02T17:42:54.766Z"
   },
   {
    "duration": 26,
    "start_time": "2021-12-02T17:42:55.467Z"
   },
   {
    "duration": 6,
    "start_time": "2021-12-02T17:42:56.487Z"
   },
   {
    "duration": 734,
    "start_time": "2021-12-02T17:42:59.657Z"
   },
   {
    "duration": 5,
    "start_time": "2021-12-02T17:43:01.214Z"
   },
   {
    "duration": 5,
    "start_time": "2021-12-02T17:43:01.517Z"
   },
   {
    "duration": 42,
    "start_time": "2021-12-02T17:43:02.006Z"
   },
   {
    "duration": 10,
    "start_time": "2021-12-02T17:43:02.367Z"
   },
   {
    "duration": 54,
    "start_time": "2021-12-02T17:43:04.750Z"
   },
   {
    "duration": 6,
    "start_time": "2021-12-02T17:43:05.067Z"
   },
   {
    "duration": 6,
    "start_time": "2021-12-02T17:43:06.037Z"
   },
   {
    "duration": 7,
    "start_time": "2021-12-02T17:43:07.920Z"
   },
   {
    "duration": 6,
    "start_time": "2021-12-02T17:43:08.956Z"
   },
   {
    "duration": 47,
    "start_time": "2021-12-02T17:43:18.802Z"
   },
   {
    "duration": 4,
    "start_time": "2021-12-02T17:43:41.899Z"
   },
   {
    "duration": 8,
    "start_time": "2021-12-02T17:43:43.029Z"
   },
   {
    "duration": 1851,
    "start_time": "2021-12-02T17:43:43.447Z"
   },
   {
    "duration": 7,
    "start_time": "2021-12-02T17:43:45.301Z"
   },
   {
    "duration": 3,
    "start_time": "2021-12-02T17:43:45.988Z"
   },
   {
    "duration": 14,
    "start_time": "2021-12-02T17:43:47.249Z"
   },
   {
    "duration": 6,
    "start_time": "2021-12-02T17:43:49.140Z"
   },
   {
    "duration": 7,
    "start_time": "2021-12-02T17:43:49.789Z"
   },
   {
    "duration": 12,
    "start_time": "2021-12-02T17:43:50.279Z"
   },
   {
    "duration": 5,
    "start_time": "2021-12-02T17:43:51.540Z"
   },
   {
    "duration": 5,
    "start_time": "2021-12-02T17:43:52.109Z"
   },
   {
    "duration": 852,
    "start_time": "2021-12-02T17:43:52.788Z"
   },
   {
    "duration": 7,
    "start_time": "2021-12-02T17:43:53.643Z"
   },
   {
    "duration": 47,
    "start_time": "2021-12-02T17:43:53.998Z"
   },
   {
    "duration": 15,
    "start_time": "2021-12-02T17:44:02.967Z"
   },
   {
    "duration": 6,
    "start_time": "2021-12-02T17:44:04.989Z"
   },
   {
    "duration": 7,
    "start_time": "2021-12-02T17:44:07.761Z"
   },
   {
    "duration": 4,
    "start_time": "2021-12-02T17:44:09.152Z"
   },
   {
    "duration": 14,
    "start_time": "2021-12-02T17:44:09.997Z"
   },
   {
    "duration": 11,
    "start_time": "2021-12-02T17:44:11.595Z"
   },
   {
    "duration": 13,
    "start_time": "2021-12-02T17:44:12.489Z"
   },
   {
    "duration": 3,
    "start_time": "2021-12-02T18:08:40.906Z"
   },
   {
    "duration": 3,
    "start_time": "2021-12-02T18:08:41.334Z"
   },
   {
    "duration": 3,
    "start_time": "2021-12-02T18:08:42.620Z"
   },
   {
    "duration": 55,
    "start_time": "2021-12-02T18:08:47.243Z"
   },
   {
    "duration": 562,
    "start_time": "2021-12-03T06:25:30.645Z"
   },
   {
    "duration": 1004,
    "start_time": "2021-12-03T06:25:59.548Z"
   },
   {
    "duration": 18,
    "start_time": "2021-12-03T06:26:00.809Z"
   },
   {
    "duration": 15,
    "start_time": "2021-12-03T06:26:02.085Z"
   },
   {
    "duration": 33,
    "start_time": "2021-12-03T06:26:02.903Z"
   },
   {
    "duration": 9,
    "start_time": "2021-12-03T06:26:03.374Z"
   },
   {
    "duration": 26,
    "start_time": "2021-12-03T06:26:03.744Z"
   },
   {
    "duration": 24,
    "start_time": "2021-12-03T06:26:05.613Z"
   },
   {
    "duration": 22,
    "start_time": "2021-12-03T06:26:06.981Z"
   },
   {
    "duration": 10,
    "start_time": "2021-12-03T06:26:08.374Z"
   },
   {
    "duration": 10,
    "start_time": "2021-12-03T06:26:10.604Z"
   },
   {
    "duration": 8,
    "start_time": "2021-12-03T06:26:12.884Z"
   },
   {
    "duration": 14,
    "start_time": "2021-12-03T06:26:13.835Z"
   },
   {
    "duration": 10,
    "start_time": "2021-12-03T06:26:14.415Z"
   },
   {
    "duration": 8,
    "start_time": "2021-12-03T06:26:15.874Z"
   },
   {
    "duration": 29,
    "start_time": "2021-12-03T06:26:17.594Z"
   },
   {
    "duration": 9,
    "start_time": "2021-12-03T06:26:18.602Z"
   },
   {
    "duration": 11,
    "start_time": "2021-12-03T06:26:20.633Z"
   },
   {
    "duration": 34139,
    "start_time": "2021-12-03T06:26:22.164Z"
   },
   {
    "duration": 37,
    "start_time": "2021-12-03T06:50:18.724Z"
   },
   {
    "duration": 6,
    "start_time": "2021-12-03T06:50:21.934Z"
   },
   {
    "duration": 45124,
    "start_time": "2021-12-03T06:50:23.596Z"
   },
   {
    "duration": 6,
    "start_time": "2021-12-03T06:51:13.064Z"
   },
   {
    "duration": 10,
    "start_time": "2021-12-03T06:51:16.654Z"
   },
   {
    "duration": 8,
    "start_time": "2021-12-03T06:51:19.112Z"
   },
   {
    "duration": 6,
    "start_time": "2021-12-03T06:51:20.222Z"
   },
   {
    "duration": 9,
    "start_time": "2021-12-03T06:51:23.563Z"
   },
   {
    "duration": 8,
    "start_time": "2021-12-03T06:51:25.492Z"
   },
   {
    "duration": 9,
    "start_time": "2021-12-03T06:51:28.524Z"
   },
   {
    "duration": 10,
    "start_time": "2021-12-03T06:51:35.183Z"
   },
   {
    "duration": 6,
    "start_time": "2021-12-03T06:51:36.544Z"
   },
   {
    "duration": 7,
    "start_time": "2021-12-03T06:51:37.184Z"
   },
   {
    "duration": 28,
    "start_time": "2021-12-03T06:51:43.920Z"
   },
   {
    "duration": 26,
    "start_time": "2021-12-03T06:51:44.604Z"
   },
   {
    "duration": 27,
    "start_time": "2021-12-03T06:51:45.355Z"
   },
   {
    "duration": 5,
    "start_time": "2021-12-03T06:51:46.064Z"
   },
   {
    "duration": 790,
    "start_time": "2021-12-03T06:51:49.583Z"
   },
   {
    "duration": 4,
    "start_time": "2021-12-03T06:51:52.094Z"
   },
   {
    "duration": 5,
    "start_time": "2021-12-03T06:51:52.512Z"
   },
   {
    "duration": 41,
    "start_time": "2021-12-03T06:51:52.962Z"
   },
   {
    "duration": 9,
    "start_time": "2021-12-03T06:51:53.783Z"
   },
   {
    "duration": 53,
    "start_time": "2021-12-03T06:51:56.464Z"
   },
   {
    "duration": 6,
    "start_time": "2021-12-03T06:51:56.972Z"
   },
   {
    "duration": 6,
    "start_time": "2021-12-03T06:51:58.225Z"
   },
   {
    "duration": 7,
    "start_time": "2021-12-03T06:51:59.464Z"
   },
   {
    "duration": 6,
    "start_time": "2021-12-03T06:51:59.818Z"
   },
   {
    "duration": 41,
    "start_time": "2021-12-03T06:52:01.523Z"
   },
   {
    "duration": 4,
    "start_time": "2021-12-03T06:52:02.584Z"
   },
   {
    "duration": 7,
    "start_time": "2021-12-03T06:52:03.724Z"
   },
   {
    "duration": 1666,
    "start_time": "2021-12-03T06:52:04.225Z"
   },
   {
    "duration": 6,
    "start_time": "2021-12-03T06:52:05.893Z"
   },
   {
    "duration": 3,
    "start_time": "2021-12-03T06:52:09.154Z"
   },
   {
    "duration": 13,
    "start_time": "2021-12-03T06:52:11.161Z"
   },
   {
    "duration": 6,
    "start_time": "2021-12-03T06:52:13.244Z"
   },
   {
    "duration": 6,
    "start_time": "2021-12-03T06:52:13.694Z"
   },
   {
    "duration": 10,
    "start_time": "2021-12-03T06:52:14.363Z"
   },
   {
    "duration": 5,
    "start_time": "2021-12-03T06:52:17.334Z"
   },
   {
    "duration": 5,
    "start_time": "2021-12-03T06:52:18.224Z"
   },
   {
    "duration": 538,
    "start_time": "2021-12-03T06:52:19.164Z"
   },
   {
    "duration": 6,
    "start_time": "2021-12-03T06:52:20.134Z"
   },
   {
    "duration": 47,
    "start_time": "2021-12-03T06:52:21.654Z"
   },
   {
    "duration": 13,
    "start_time": "2021-12-03T06:52:24.352Z"
   },
   {
    "duration": 6,
    "start_time": "2021-12-03T06:52:27.933Z"
   },
   {
    "duration": 7,
    "start_time": "2021-12-03T06:52:29.083Z"
   },
   {
    "duration": 4,
    "start_time": "2021-12-03T06:52:30.523Z"
   },
   {
    "duration": 14,
    "start_time": "2021-12-03T06:52:31.253Z"
   },
   {
    "duration": 8,
    "start_time": "2021-12-03T06:52:32.974Z"
   },
   {
    "duration": 13,
    "start_time": "2021-12-03T06:52:34.804Z"
   },
   {
    "duration": 4,
    "start_time": "2021-12-03T07:23:08.412Z"
   },
   {
    "duration": 1979,
    "start_time": "2021-12-03T07:27:23.602Z"
   },
   {
    "duration": 5,
    "start_time": "2021-12-03T07:27:53.922Z"
   },
   {
    "duration": 2527,
    "start_time": "2021-12-03T07:27:56.951Z"
   },
   {
    "duration": 6,
    "start_time": "2021-12-03T07:30:28.181Z"
   },
   {
    "duration": 2054,
    "start_time": "2021-12-03T07:30:31.022Z"
   },
   {
    "duration": 539,
    "start_time": "2021-12-03T07:31:16.870Z"
   },
   {
    "duration": 1904,
    "start_time": "2021-12-03T07:31:33.171Z"
   },
   {
    "duration": 695,
    "start_time": "2021-12-03T07:36:23.091Z"
   },
   {
    "duration": 5,
    "start_time": "2021-12-03T07:36:41.041Z"
   },
   {
    "duration": 384,
    "start_time": "2021-12-03T07:40:48.983Z"
   },
   {
    "duration": 4,
    "start_time": "2021-12-03T07:41:29.301Z"
   },
   {
    "duration": 6,
    "start_time": "2021-12-03T07:41:37.282Z"
   },
   {
    "duration": 4186,
    "start_time": "2021-12-03T07:41:40.589Z"
   },
   {
    "duration": 866,
    "start_time": "2021-12-04T18:09:05.296Z"
   },
   {
    "duration": 17,
    "start_time": "2021-12-04T18:09:06.526Z"
   },
   {
    "duration": 14,
    "start_time": "2021-12-04T18:09:07.206Z"
   },
   {
    "duration": 35,
    "start_time": "2021-12-04T18:09:07.796Z"
   },
   {
    "duration": 9,
    "start_time": "2021-12-04T18:09:08.386Z"
   },
   {
    "duration": 22,
    "start_time": "2021-12-04T18:09:08.986Z"
   },
   {
    "duration": 33,
    "start_time": "2021-12-04T18:09:12.567Z"
   },
   {
    "duration": 32,
    "start_time": "2021-12-04T18:09:15.627Z"
   },
   {
    "duration": 11,
    "start_time": "2021-12-04T18:09:19.117Z"
   },
   {
    "duration": 12,
    "start_time": "2021-12-04T18:09:21.826Z"
   },
   {
    "duration": 7,
    "start_time": "2021-12-04T18:09:24.646Z"
   },
   {
    "duration": 15,
    "start_time": "2021-12-04T18:09:25.556Z"
   },
   {
    "duration": 14,
    "start_time": "2021-12-04T18:09:26.858Z"
   },
   {
    "duration": 10,
    "start_time": "2021-12-04T18:09:31.536Z"
   },
   {
    "duration": 30,
    "start_time": "2021-12-04T18:09:33.766Z"
   },
   {
    "duration": 31,
    "start_time": "2021-12-04T18:09:36.876Z"
   },
   {
    "duration": 9,
    "start_time": "2021-12-04T18:09:37.876Z"
   },
   {
    "duration": 8,
    "start_time": "2021-12-04T18:09:40.106Z"
   },
   {
    "duration": 32876,
    "start_time": "2021-12-04T18:09:42.226Z"
   },
   {
    "duration": 7,
    "start_time": "2021-12-04T18:10:26.656Z"
   },
   {
    "duration": 45671,
    "start_time": "2021-12-04T18:11:59.675Z"
   },
   {
    "duration": 7,
    "start_time": "2021-12-04T18:13:09.716Z"
   },
   {
    "duration": 13,
    "start_time": "2021-12-04T18:13:13.567Z"
   },
   {
    "duration": 11,
    "start_time": "2021-12-04T18:13:15.107Z"
   },
   {
    "duration": 7,
    "start_time": "2021-12-04T18:13:16.037Z"
   },
   {
    "duration": 14,
    "start_time": "2021-12-04T18:13:20.637Z"
   },
   {
    "duration": 9,
    "start_time": "2021-12-04T18:13:21.677Z"
   },
   {
    "duration": 10,
    "start_time": "2021-12-04T18:13:22.716Z"
   },
   {
    "duration": 10,
    "start_time": "2021-12-04T18:13:24.886Z"
   },
   {
    "duration": 6,
    "start_time": "2021-12-04T18:13:25.896Z"
   },
   {
    "duration": 7,
    "start_time": "2021-12-04T18:13:26.716Z"
   },
   {
    "duration": 28,
    "start_time": "2021-12-04T18:13:28.766Z"
   },
   {
    "duration": 38,
    "start_time": "2021-12-04T18:13:30.006Z"
   },
   {
    "duration": 40,
    "start_time": "2021-12-04T18:13:31.556Z"
   },
   {
    "duration": 5,
    "start_time": "2021-12-04T18:13:32.937Z"
   },
   {
    "duration": 1103,
    "start_time": "2021-12-04T18:13:36.326Z"
   },
   {
    "duration": 6,
    "start_time": "2021-12-04T18:13:39.877Z"
   },
   {
    "duration": 7,
    "start_time": "2021-12-04T18:13:40.776Z"
   },
   {
    "duration": 40,
    "start_time": "2021-12-04T18:13:41.966Z"
   },
   {
    "duration": 10,
    "start_time": "2021-12-04T18:13:44.346Z"
   },
   {
    "duration": 54,
    "start_time": "2021-12-04T18:13:46.566Z"
   },
   {
    "duration": 7,
    "start_time": "2021-12-04T18:13:50.366Z"
   },
   {
    "duration": 7,
    "start_time": "2021-12-04T18:13:51.776Z"
   },
   {
    "duration": 7,
    "start_time": "2021-12-04T18:13:54.686Z"
   },
   {
    "duration": 8,
    "start_time": "2021-12-04T18:13:55.596Z"
   },
   {
    "duration": 41,
    "start_time": "2021-12-04T18:13:57.577Z"
   },
   {
    "duration": 4,
    "start_time": "2021-12-04T18:13:59.596Z"
   },
   {
    "duration": 7,
    "start_time": "2021-12-04T18:14:02.156Z"
   },
   {
    "duration": 1826,
    "start_time": "2021-12-04T18:14:03.465Z"
   },
   {
    "duration": 6,
    "start_time": "2021-12-04T18:14:05.456Z"
   },
   {
    "duration": 3,
    "start_time": "2021-12-04T18:14:07.586Z"
   },
   {
    "duration": 15,
    "start_time": "2021-12-04T18:14:10.006Z"
   },
   {
    "duration": 6,
    "start_time": "2021-12-04T18:14:12.826Z"
   },
   {
    "duration": 7,
    "start_time": "2021-12-04T18:14:14.966Z"
   },
   {
    "duration": 10,
    "start_time": "2021-12-04T18:14:15.896Z"
   },
   {
    "duration": 5,
    "start_time": "2021-12-04T18:14:17.737Z"
   },
   {
    "duration": 6,
    "start_time": "2021-12-04T18:14:19.046Z"
   },
   {
    "duration": 1021,
    "start_time": "2021-12-04T18:14:20.307Z"
   },
   {
    "duration": 7,
    "start_time": "2021-12-04T18:14:21.556Z"
   },
   {
    "duration": 65,
    "start_time": "2021-12-04T18:14:22.896Z"
   },
   {
    "duration": 19,
    "start_time": "2021-12-04T18:14:25.387Z"
   },
   {
    "duration": 6,
    "start_time": "2021-12-04T18:14:27.816Z"
   },
   {
    "duration": 6,
    "start_time": "2021-12-04T18:14:29.736Z"
   },
   {
    "duration": 4,
    "start_time": "2021-12-04T18:14:32.946Z"
   },
   {
    "duration": 14,
    "start_time": "2021-12-04T18:14:34.646Z"
   },
   {
    "duration": 8,
    "start_time": "2021-12-04T18:14:36.426Z"
   },
   {
    "duration": 16,
    "start_time": "2021-12-04T18:14:37.456Z"
   },
   {
    "duration": 8,
    "start_time": "2021-12-04T18:14:46.826Z"
   },
   {
    "duration": 3554,
    "start_time": "2021-12-04T18:14:48.497Z"
   },
   {
    "duration": 6,
    "start_time": "2021-12-04T18:15:30.956Z"
   },
   {
    "duration": 1511,
    "start_time": "2021-12-04T18:15:32.207Z"
   },
   {
    "duration": 9,
    "start_time": "2021-12-04T18:17:48.147Z"
   },
   {
    "duration": 8,
    "start_time": "2021-12-04T18:19:05.936Z"
   },
   {
    "duration": 10,
    "start_time": "2021-12-04T18:19:13.427Z"
   },
   {
    "duration": 8,
    "start_time": "2021-12-04T18:20:30.537Z"
   },
   {
    "duration": 108,
    "start_time": "2021-12-04T18:21:28.447Z"
   },
   {
    "duration": 602,
    "start_time": "2021-12-04T18:21:42.866Z"
   },
   {
    "duration": 489,
    "start_time": "2021-12-04T18:21:47.467Z"
   },
   {
    "duration": 686,
    "start_time": "2021-12-04T18:22:14.346Z"
   },
   {
    "duration": 97,
    "start_time": "2021-12-04T18:22:29.837Z"
   },
   {
    "duration": 462,
    "start_time": "2021-12-04T18:22:42.177Z"
   },
   {
    "duration": 8,
    "start_time": "2021-12-04T18:22:59.967Z"
   },
   {
    "duration": 8,
    "start_time": "2021-12-04T18:23:10.686Z"
   },
   {
    "duration": 8,
    "start_time": "2021-12-04T18:23:17.817Z"
   },
   {
    "duration": 8,
    "start_time": "2021-12-04T18:23:45.397Z"
   },
   {
    "duration": 8,
    "start_time": "2021-12-04T18:23:50.978Z"
   },
   {
    "duration": 5,
    "start_time": "2021-12-04T18:23:55.927Z"
   },
   {
    "duration": 1488,
    "start_time": "2021-12-04T18:23:58.527Z"
   },
   {
    "duration": 6,
    "start_time": "2021-12-04T18:27:17.966Z"
   },
   {
    "duration": 1486,
    "start_time": "2021-12-04T18:27:32.656Z"
   },
   {
    "duration": 1501,
    "start_time": "2021-12-04T18:30:08.697Z"
   },
   {
    "duration": 1456,
    "start_time": "2021-12-04T18:31:46.397Z"
   },
   {
    "duration": 6,
    "start_time": "2021-12-04T18:31:52.696Z"
   },
   {
    "duration": 5,
    "start_time": "2021-12-04T18:31:58.946Z"
   },
   {
    "duration": 5,
    "start_time": "2021-12-04T18:32:03.337Z"
   },
   {
    "duration": 6,
    "start_time": "2021-12-04T18:32:14.756Z"
   },
   {
    "duration": 8,
    "start_time": "2021-12-04T18:32:29.435Z"
   },
   {
    "duration": 13,
    "start_time": "2021-12-04T18:32:33.376Z"
   },
   {
    "duration": 6,
    "start_time": "2021-12-04T18:32:37.736Z"
   },
   {
    "duration": 7,
    "start_time": "2021-12-04T18:33:08.616Z"
   },
   {
    "duration": 93,
    "start_time": "2021-12-04T18:33:18.656Z"
   },
   {
    "duration": 19,
    "start_time": "2021-12-04T18:33:19.066Z"
   },
   {
    "duration": 15,
    "start_time": "2021-12-04T18:33:19.636Z"
   },
   {
    "duration": 33,
    "start_time": "2021-12-04T18:33:20.185Z"
   },
   {
    "duration": 10,
    "start_time": "2021-12-04T18:33:20.787Z"
   },
   {
    "duration": 25,
    "start_time": "2021-12-04T18:33:21.156Z"
   },
   {
    "duration": 28,
    "start_time": "2021-12-04T18:33:21.576Z"
   },
   {
    "duration": 23,
    "start_time": "2021-12-04T18:33:21.926Z"
   },
   {
    "duration": 9,
    "start_time": "2021-12-04T18:33:22.456Z"
   },
   {
    "duration": 10,
    "start_time": "2021-12-04T18:33:23.686Z"
   },
   {
    "duration": 8,
    "start_time": "2021-12-04T18:33:24.796Z"
   },
   {
    "duration": 14,
    "start_time": "2021-12-04T18:33:25.346Z"
   },
   {
    "duration": 11,
    "start_time": "2021-12-04T18:33:25.807Z"
   },
   {
    "duration": 10,
    "start_time": "2021-12-04T18:33:26.636Z"
   },
   {
    "duration": 26,
    "start_time": "2021-12-04T18:33:27.376Z"
   },
   {
    "duration": 10,
    "start_time": "2021-12-04T18:33:27.707Z"
   },
   {
    "duration": 11,
    "start_time": "2021-12-04T18:33:28.496Z"
   },
   {
    "duration": 32,
    "start_time": "2021-12-04T18:33:31.666Z"
   },
   {
    "duration": 10,
    "start_time": "2021-12-04T18:33:33.557Z"
   },
   {
    "duration": 9,
    "start_time": "2021-12-04T18:33:35.976Z"
   },
   {
    "duration": 6,
    "start_time": "2021-12-04T18:34:09.642Z"
   },
   {
    "duration": 58,
    "start_time": "2021-12-04T18:34:09.651Z"
   },
   {
    "duration": 36,
    "start_time": "2021-12-04T18:34:12.796Z"
   },
   {
    "duration": 7,
    "start_time": "2021-12-04T18:34:16.696Z"
   },
   {
    "duration": 49666,
    "start_time": "2021-12-04T18:34:19.217Z"
   },
   {
    "duration": 6,
    "start_time": "2021-12-04T18:35:13.607Z"
   },
   {
    "duration": 9,
    "start_time": "2021-12-04T18:35:15.157Z"
   },
   {
    "duration": 9,
    "start_time": "2021-12-04T18:35:15.936Z"
   },
   {
    "duration": 10,
    "start_time": "2021-12-04T18:35:16.767Z"
   },
   {
    "duration": 10,
    "start_time": "2021-12-04T18:35:19.106Z"
   },
   {
    "duration": 12,
    "start_time": "2021-12-04T18:35:20.576Z"
   },
   {
    "duration": 9,
    "start_time": "2021-12-04T18:35:21.256Z"
   },
   {
    "duration": 10,
    "start_time": "2021-12-04T18:35:23.425Z"
   },
   {
    "duration": 5,
    "start_time": "2021-12-04T18:35:24.445Z"
   },
   {
    "duration": 9,
    "start_time": "2021-12-04T18:35:24.986Z"
   },
   {
    "duration": 28,
    "start_time": "2021-12-04T18:35:27.076Z"
   },
   {
    "duration": 31,
    "start_time": "2021-12-04T18:35:28.356Z"
   },
   {
    "duration": 25,
    "start_time": "2021-12-04T18:35:29.036Z"
   },
   {
    "duration": 5,
    "start_time": "2021-12-04T18:35:29.666Z"
   },
   {
    "duration": 5,
    "start_time": "2021-12-04T18:35:32.156Z"
   },
   {
    "duration": 5,
    "start_time": "2021-12-04T18:35:33.907Z"
   },
   {
    "duration": 6,
    "start_time": "2021-12-04T18:35:34.827Z"
   },
   {
    "duration": 62,
    "start_time": "2021-12-04T18:35:35.767Z"
   },
   {
    "duration": 13,
    "start_time": "2021-12-04T18:35:36.666Z"
   },
   {
    "duration": 50,
    "start_time": "2021-12-04T18:35:38.847Z"
   },
   {
    "duration": 6,
    "start_time": "2021-12-04T18:35:39.447Z"
   },
   {
    "duration": 8,
    "start_time": "2021-12-04T18:35:40.136Z"
   },
   {
    "duration": 8,
    "start_time": "2021-12-04T18:35:41.666Z"
   },
   {
    "duration": 9,
    "start_time": "2021-12-04T18:35:42.266Z"
   },
   {
    "duration": 65,
    "start_time": "2021-12-04T18:35:44.647Z"
   },
   {
    "duration": 5,
    "start_time": "2021-12-04T18:35:46.056Z"
   },
   {
    "duration": 8,
    "start_time": "2021-12-04T18:35:47.526Z"
   },
   {
    "duration": 1710,
    "start_time": "2021-12-04T18:35:48.077Z"
   },
   {
    "duration": 6,
    "start_time": "2021-12-04T18:35:49.790Z"
   },
   {
    "duration": 3,
    "start_time": "2021-12-04T18:35:51.986Z"
   },
   {
    "duration": 19,
    "start_time": "2021-12-04T18:35:53.757Z"
   },
   {
    "duration": 8,
    "start_time": "2021-12-04T18:35:56.117Z"
   },
   {
    "duration": 7,
    "start_time": "2021-12-04T18:35:56.745Z"
   },
   {
    "duration": 10,
    "start_time": "2021-12-04T18:35:57.586Z"
   },
   {
    "duration": 5,
    "start_time": "2021-12-04T18:35:59.166Z"
   },
   {
    "duration": 7,
    "start_time": "2021-12-04T18:36:00.716Z"
   },
   {
    "duration": 640,
    "start_time": "2021-12-04T18:36:01.516Z"
   },
   {
    "duration": 7,
    "start_time": "2021-12-04T18:36:02.237Z"
   },
   {
    "duration": 49,
    "start_time": "2021-12-04T18:36:03.256Z"
   },
   {
    "duration": 16,
    "start_time": "2021-12-04T18:36:05.856Z"
   },
   {
    "duration": 6,
    "start_time": "2021-12-04T18:36:08.274Z"
   },
   {
    "duration": 7,
    "start_time": "2021-12-04T18:36:09.776Z"
   },
   {
    "duration": 4,
    "start_time": "2021-12-04T18:36:11.236Z"
   },
   {
    "duration": 14,
    "start_time": "2021-12-04T18:36:12.046Z"
   },
   {
    "duration": 8,
    "start_time": "2021-12-04T18:36:13.396Z"
   },
   {
    "duration": 12,
    "start_time": "2021-12-04T18:36:14.046Z"
   },
   {
    "duration": 6,
    "start_time": "2021-12-04T18:36:16.686Z"
   },
   {
    "duration": 7,
    "start_time": "2021-12-04T18:36:19.797Z"
   },
   {
    "duration": 7,
    "start_time": "2021-12-04T18:36:30.996Z"
   },
   {
    "duration": 10,
    "start_time": "2021-12-04T18:37:23.556Z"
   },
   {
    "duration": 10,
    "start_time": "2021-12-04T18:37:31.856Z"
   },
   {
    "duration": 3051,
    "start_time": "2021-12-04T18:37:43.396Z"
   },
   {
    "duration": 288,
    "start_time": "2021-12-04T18:37:50.856Z"
   },
   {
    "duration": 10,
    "start_time": "2021-12-04T18:38:03.027Z"
   },
   {
    "duration": 44,
    "start_time": "2021-12-04T18:39:16.187Z"
   },
   {
    "duration": 42,
    "start_time": "2021-12-04T18:41:10.576Z"
   },
   {
    "duration": 25,
    "start_time": "2021-12-04T18:44:09.517Z"
   },
   {
    "duration": 36,
    "start_time": "2021-12-04T18:44:36.286Z"
   },
   {
    "duration": 621,
    "start_time": "2021-12-04T18:45:17.635Z"
   },
   {
    "duration": 842,
    "start_time": "2021-12-04T18:49:08.616Z"
   },
   {
    "duration": 912,
    "start_time": "2021-12-04T18:52:32.397Z"
   },
   {
    "duration": 91,
    "start_time": "2021-12-04T18:53:51.245Z"
   },
   {
    "duration": 20,
    "start_time": "2021-12-04T18:54:01.675Z"
   },
   {
    "duration": 17,
    "start_time": "2021-12-04T18:54:47.787Z"
   },
   {
    "duration": 13,
    "start_time": "2021-12-04T18:54:57.597Z"
   },
   {
    "duration": 15,
    "start_time": "2021-12-04T18:55:15.045Z"
   },
   {
    "duration": 15,
    "start_time": "2021-12-04T18:56:15.375Z"
   },
   {
    "duration": 14,
    "start_time": "2021-12-04T18:56:53.596Z"
   },
   {
    "duration": 14,
    "start_time": "2021-12-04T18:57:55.627Z"
   },
   {
    "duration": 14,
    "start_time": "2021-12-04T18:58:12.215Z"
   },
   {
    "duration": 14,
    "start_time": "2021-12-04T18:58:51.127Z"
   },
   {
    "duration": 409,
    "start_time": "2021-12-05T08:49:11.354Z"
   }
  ],
  "kernelspec": {
   "display_name": "Python 3",
   "language": "python",
   "name": "python3"
  },
  "language_info": {
   "codemirror_mode": {
    "name": "ipython",
    "version": 3
   },
   "file_extension": ".py",
   "mimetype": "text/x-python",
   "name": "python",
   "nbconvert_exporter": "python",
   "pygments_lexer": "ipython3",
   "version": "3.7.8"
  },
  "toc": {
   "base_numbering": 1,
   "nav_menu": {},
   "number_sections": true,
   "sideBar": true,
   "skip_h1_title": true,
   "title_cell": "Table of Contents",
   "title_sidebar": "Contents",
   "toc_cell": false,
   "toc_position": {},
   "toc_section_display": true,
   "toc_window_display": false
  }
 },
 "nbformat": 4,
 "nbformat_minor": 2
}
